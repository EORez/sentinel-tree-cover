{
 "cells": [
  {
   "cell_type": "markdown",
   "metadata": {},
   "source": [
    "# Create metadata"
   ]
  },
  {
   "cell_type": "code",
   "execution_count": 1,
   "metadata": {},
   "outputs": [],
   "source": [
    "import pandas as pd\n",
    "import numpy as np"
   ]
  },
  {
   "cell_type": "code",
   "execution_count": 4,
   "metadata": {},
   "outputs": [
    {
     "data": {
      "text/html": [
       "<div>\n",
       "<style scoped>\n",
       "    .dataframe tbody tr th:only-of-type {\n",
       "        vertical-align: middle;\n",
       "    }\n",
       "\n",
       "    .dataframe tbody tr th {\n",
       "        vertical-align: top;\n",
       "    }\n",
       "\n",
       "    .dataframe thead th {\n",
       "        text-align: right;\n",
       "    }\n",
       "</style>\n",
       "<table border=\"1\" class=\"dataframe\">\n",
       "  <thead>\n",
       "    <tr style=\"text-align: right;\">\n",
       "      <th></th>\n",
       "      <th>lats</th>\n",
       "      <th>longs</th>\n",
       "      <th>id</th>\n",
       "      <th>CONTINENT</th>\n",
       "    </tr>\n",
       "  </thead>\n",
       "  <tbody>\n",
       "    <tr>\n",
       "      <th>0</th>\n",
       "      <td>6.552393</td>\n",
       "      <td>37.070625</td>\n",
       "      <td>135505799</td>\n",
       "      <td>Africa</td>\n",
       "    </tr>\n",
       "    <tr>\n",
       "      <th>1</th>\n",
       "      <td>6.495981</td>\n",
       "      <td>35.556120</td>\n",
       "      <td>135505800</td>\n",
       "      <td>Africa</td>\n",
       "    </tr>\n",
       "    <tr>\n",
       "      <th>2</th>\n",
       "      <td>8.384319</td>\n",
       "      <td>38.972473</td>\n",
       "      <td>135505801</td>\n",
       "      <td>Africa</td>\n",
       "    </tr>\n",
       "    <tr>\n",
       "      <th>3</th>\n",
       "      <td>7.217695</td>\n",
       "      <td>33.701621</td>\n",
       "      <td>135505803</td>\n",
       "      <td>Africa</td>\n",
       "    </tr>\n",
       "    <tr>\n",
       "      <th>4</th>\n",
       "      <td>9.565499</td>\n",
       "      <td>40.256333</td>\n",
       "      <td>135505804</td>\n",
       "      <td>Africa</td>\n",
       "    </tr>\n",
       "  </tbody>\n",
       "</table>\n",
       "</div>"
      ],
      "text/plain": [
       "       lats      longs         id CONTINENT\n",
       "0  6.552393  37.070625  135505799    Africa\n",
       "1  6.495981  35.556120  135505800    Africa\n",
       "2  8.384319  38.972473  135505801    Africa\n",
       "3  7.217695  33.701621  135505803    Africa\n",
       "4  9.565499  40.256333  135505804    Africa"
      ]
     },
     "execution_count": 4,
     "metadata": {},
     "output_type": "execute_result"
    }
   ],
   "source": [
    "continents = pd.read_csv(\"../../data/latlongs/test_continents.csv\")\n",
    "continents.head(5)"
   ]
  },
  {
   "cell_type": "code",
   "execution_count": 13,
   "metadata": {},
   "outputs": [],
   "source": [
    "clouds = []\n",
    "slopes = []\n",
    "ids = continents['id']\n",
    "for i in ids:\n",
    "    cloud = np.load(\"../../data/raw/test-clouds/{}.npy\".format(str(i)))\n",
    "    data = np.load(\"../../data/test-s2/{}.npy\".format(str(i)))\n",
    "    slopes.append(np.mean(data[0, :, :, 10]))\n",
    "    cloud_percents = [len(np.argwhere(cloud[i].flatten() > 0.3)) for i in range(cloud.shape[0])]\n",
    "    cloud_percents = np.array(cloud_percents) / cloud.shape[1]*cloud.shape[2]\n",
    "    cloud_percents = len(np.argwhere(cloud_percents > 0.2)) / len(cloud_percents)\n",
    "    clouds.append(cloud_percents)"
   ]
  },
  {
   "cell_type": "code",
   "execution_count": 15,
   "metadata": {},
   "outputs": [],
   "source": [
    "continents['clouds'] = clouds\n",
    "continents['slopes'] = slopes\n",
    "continents.to_csv(\"../../data/metrics/metadata/metadata.csv\")"
   ]
  },
  {
   "cell_type": "markdown",
   "metadata": {},
   "source": [
    "# Load proposed model predictions"
   ]
  },
  {
   "cell_type": "code",
   "execution_count": 20,
   "metadata": {},
   "outputs": [
    {
     "data": {
      "text/html": [
       "<div>\n",
       "<style scoped>\n",
       "    .dataframe tbody tr th:only-of-type {\n",
       "        vertical-align: middle;\n",
       "    }\n",
       "\n",
       "    .dataframe tbody tr th {\n",
       "        vertical-align: top;\n",
       "    }\n",
       "\n",
       "    .dataframe thead th {\n",
       "        text-align: right;\n",
       "    }\n",
       "</style>\n",
       "<table border=\"1\" class=\"dataframe\">\n",
       "  <thead>\n",
       "    <tr style=\"text-align: right;\">\n",
       "      <th></th>\n",
       "      <th>Unnamed: 0</th>\n",
       "      <th>true</th>\n",
       "      <th>pred</th>\n",
       "      <th>f1_hard</th>\n",
       "      <th>error</th>\n",
       "      <th>tp</th>\n",
       "      <th>fp</th>\n",
       "      <th>fn</th>\n",
       "      <th>tp_soft</th>\n",
       "      <th>fp_soft</th>\n",
       "      <th>fn_soft</th>\n",
       "      <th>group</th>\n",
       "      <th>model</th>\n",
       "      <th>plot_id</th>\n",
       "      <th>lats</th>\n",
       "      <th>longs</th>\n",
       "      <th>id</th>\n",
       "      <th>CONTINENT</th>\n",
       "      <th>clouds</th>\n",
       "      <th>slopes</th>\n",
       "    </tr>\n",
       "  </thead>\n",
       "  <tbody>\n",
       "    <tr>\n",
       "      <th>0</th>\n",
       "      <td>0</td>\n",
       "      <td>29.081633</td>\n",
       "      <td>19.897959</td>\n",
       "      <td>0.645833</td>\n",
       "      <td>9.183673</td>\n",
       "      <td>31.0</td>\n",
       "      <td>8</td>\n",
       "      <td>26</td>\n",
       "      <td>46.0</td>\n",
       "      <td>0.0</td>\n",
       "      <td>11.0</td>\n",
       "      <td>20</td>\n",
       "      <td>proposed</td>\n",
       "      <td>135505799</td>\n",
       "      <td>6.552393</td>\n",
       "      <td>37.070625</td>\n",
       "      <td>135505799</td>\n",
       "      <td>Africa</td>\n",
       "      <td>0.552239</td>\n",
       "      <td>0.223983</td>\n",
       "    </tr>\n",
       "    <tr>\n",
       "      <th>1</th>\n",
       "      <td>1</td>\n",
       "      <td>100.000000</td>\n",
       "      <td>40.816327</td>\n",
       "      <td>0.579710</td>\n",
       "      <td>59.183673</td>\n",
       "      <td>80.0</td>\n",
       "      <td>0</td>\n",
       "      <td>116</td>\n",
       "      <td>131.0</td>\n",
       "      <td>0.0</td>\n",
       "      <td>65.0</td>\n",
       "      <td>90</td>\n",
       "      <td>proposed</td>\n",
       "      <td>135505800</td>\n",
       "      <td>6.495981</td>\n",
       "      <td>35.556120</td>\n",
       "      <td>135505800</td>\n",
       "      <td>Africa</td>\n",
       "      <td>0.636364</td>\n",
       "      <td>0.086151</td>\n",
       "    </tr>\n",
       "    <tr>\n",
       "      <th>2</th>\n",
       "      <td>2</td>\n",
       "      <td>11.224490</td>\n",
       "      <td>7.653061</td>\n",
       "      <td>0.540541</td>\n",
       "      <td>3.571429</td>\n",
       "      <td>10.0</td>\n",
       "      <td>5</td>\n",
       "      <td>12</td>\n",
       "      <td>16.0</td>\n",
       "      <td>0.0</td>\n",
       "      <td>6.0</td>\n",
       "      <td>10</td>\n",
       "      <td>proposed</td>\n",
       "      <td>135505801</td>\n",
       "      <td>8.384319</td>\n",
       "      <td>38.972473</td>\n",
       "      <td>135505801</td>\n",
       "      <td>Africa</td>\n",
       "      <td>0.307692</td>\n",
       "      <td>0.053171</td>\n",
       "    </tr>\n",
       "    <tr>\n",
       "      <th>3</th>\n",
       "      <td>3</td>\n",
       "      <td>3.061224</td>\n",
       "      <td>15.306122</td>\n",
       "      <td>0.055556</td>\n",
       "      <td>12.244898</td>\n",
       "      <td>1.0</td>\n",
       "      <td>29</td>\n",
       "      <td>5</td>\n",
       "      <td>3.0</td>\n",
       "      <td>25.0</td>\n",
       "      <td>3.0</td>\n",
       "      <td>0</td>\n",
       "      <td>proposed</td>\n",
       "      <td>135505803</td>\n",
       "      <td>7.217695</td>\n",
       "      <td>33.701621</td>\n",
       "      <td>135505803</td>\n",
       "      <td>Africa</td>\n",
       "      <td>0.688525</td>\n",
       "      <td>0.041682</td>\n",
       "    </tr>\n",
       "    <tr>\n",
       "      <th>4</th>\n",
       "      <td>4</td>\n",
       "      <td>0.000000</td>\n",
       "      <td>3.571429</td>\n",
       "      <td>0.000000</td>\n",
       "      <td>3.571429</td>\n",
       "      <td>0.0</td>\n",
       "      <td>7</td>\n",
       "      <td>0</td>\n",
       "      <td>0.0</td>\n",
       "      <td>7.0</td>\n",
       "      <td>0.0</td>\n",
       "      <td>0</td>\n",
       "      <td>proposed</td>\n",
       "      <td>135505804</td>\n",
       "      <td>9.565499</td>\n",
       "      <td>40.256333</td>\n",
       "      <td>135505804</td>\n",
       "      <td>Africa</td>\n",
       "      <td>0.240000</td>\n",
       "      <td>0.048161</td>\n",
       "    </tr>\n",
       "  </tbody>\n",
       "</table>\n",
       "</div>"
      ],
      "text/plain": [
       "   Unnamed: 0        true       pred   f1_hard      error    tp  fp   fn  \\\n",
       "0           0   29.081633  19.897959  0.645833   9.183673  31.0   8   26   \n",
       "1           1  100.000000  40.816327  0.579710  59.183673  80.0   0  116   \n",
       "2           2   11.224490   7.653061  0.540541   3.571429  10.0   5   12   \n",
       "3           3    3.061224  15.306122  0.055556  12.244898   1.0  29    5   \n",
       "4           4    0.000000   3.571429  0.000000   3.571429   0.0   7    0   \n",
       "\n",
       "   tp_soft  fp_soft  fn_soft  group     model    plot_id      lats      longs  \\\n",
       "0     46.0      0.0     11.0     20  proposed  135505799  6.552393  37.070625   \n",
       "1    131.0      0.0     65.0     90  proposed  135505800  6.495981  35.556120   \n",
       "2     16.0      0.0      6.0     10  proposed  135505801  8.384319  38.972473   \n",
       "3      3.0     25.0      3.0      0  proposed  135505803  7.217695  33.701621   \n",
       "4      0.0      7.0      0.0      0  proposed  135505804  9.565499  40.256333   \n",
       "\n",
       "          id CONTINENT    clouds    slopes  \n",
       "0  135505799    Africa  0.552239  0.223983  \n",
       "1  135505800    Africa  0.636364  0.086151  \n",
       "2  135505801    Africa  0.307692  0.053171  \n",
       "3  135505803    Africa  0.688525  0.041682  \n",
       "4  135505804    Africa  0.240000  0.048161  "
      ]
     },
     "execution_count": 20,
     "metadata": {},
     "output_type": "execute_result"
    }
   ],
   "source": [
    "proposed = pd.read_csv(\"../../data/metrics/proposed-sample.csv\")\n",
    "proposed = proposed.join(continents, how = 'inner')\n",
    "proposed.head(5)"
   ]
  },
  {
   "cell_type": "markdown",
   "metadata": {},
   "source": [
    "# Overall metrics"
   ]
  },
  {
   "cell_type": "code",
   "execution_count": 48,
   "metadata": {},
   "outputs": [
    {
     "name": "stdout",
     "output_type": "stream",
     "text": [
      "0.950917626973965 0.9336618072839945\n"
     ]
    }
   ],
   "source": [
    "tp = proposed.sum()['tp_soft']\n",
    "fp = proposed.sum()['fp_soft']\n",
    "fn = proposed.sum()['fn_soft']\n",
    "precision = tp / (tp + fp)\n",
    "recall = tp / (tp + fn)\n",
    "print(float(precision), float(recall))"
   ]
  },
  {
   "cell_type": "markdown",
   "metadata": {},
   "source": [
    "## Regional metrics"
   ]
  },
  {
   "cell_type": "code",
   "execution_count": 44,
   "metadata": {},
   "outputs": [
    {
     "name": "stdout",
     "output_type": "stream",
     "text": [
      "Africa 0.9625504834169625 0.9101253616200579\n",
      "Asia 0.9191338930623066 0.9132152787940875\n",
      "Australia 0.9523607876349778 0.9264675592173017\n",
      "Europe 0.9227500965623793 0.9363731382283773\n",
      "North America 0.9576759328825445 0.9736721495136732\n",
      "South America 0.943580809434468 0.9296276736202799\n"
     ]
    }
   ],
   "source": [
    "sums = proposed.groupby(\"CONTINENT\").sum()\n",
    "for i in ['Africa', 'Asia', \"Australia\", \"Europe\", \"North America\", \"South America\"]:\n",
    "    tp = sums[sums.index == i]['tp_soft']\n",
    "    fp = sums[sums.index == i]['fp_soft']\n",
    "    fn = sums[sums.index == i]['fn_soft']\n",
    "    precision = tp / (tp + fp)\n",
    "    recall = tp / (tp + fn)\n",
    "    print(i, float(precision), float(recall))"
   ]
  },
  {
   "cell_type": "markdown",
   "metadata": {},
   "source": [
    "# Cloud metrics"
   ]
  },
  {
   "cell_type": "code",
   "execution_count": 31,
   "metadata": {},
   "outputs": [
    {
     "name": "stdout",
     "output_type": "stream",
     "text": [
      "Below 0.75 cloud:  0.9511777008262763 0.9319269722366852 6.907152261826391 170128\n"
     ]
    }
   ],
   "source": [
    "tp = proposed[proposed['clouds'] < 0.75].sum()['tp_soft']\n",
    "fp = proposed[proposed['clouds'] < 0.75].sum()['fp_soft']\n",
    "fn = proposed[proposed['clouds'] < 0.75].sum()['fn_soft']\n",
    "error = proposed[proposed['clouds'] < 0.75].mean()['error']\n",
    "count = proposed[proposed['clouds'] < 0.75].count()['error'] * 196\n",
    "\n",
    "\n",
    "\n",
    "precision = tp / (tp + fp)\n",
    "recall = tp / (tp + fn)\n",
    "print(\"Below 0.75 cloud: \", precision, recall, error, count)"
   ]
  },
  {
   "cell_type": "code",
   "execution_count": 33,
   "metadata": {},
   "outputs": [
    {
     "name": "stdout",
     "output_type": "stream",
     "text": [
      "Above 0.75 cloud:  0.9501185146168027 0.9390389921391015 6.9727891156462585 45864\n"
     ]
    }
   ],
   "source": [
    "tp = proposed[proposed['clouds'] >= 0.75].sum()['tp_soft']\n",
    "fp = proposed[proposed['clouds'] >= 0.75].sum()['fp_soft']\n",
    "fn = proposed[proposed['clouds'] >= 0.75].sum()['fn_soft']\n",
    "error = proposed[proposed['clouds'] >= 0.75].mean()['error']\n",
    "count = proposed[proposed['clouds'] >= 0.75].count()['error'] * 196\n",
    "\n",
    "\n",
    "\n",
    "precision = tp / (tp + fp)\n",
    "recall = tp / (tp + fn)\n",
    "print(\"Above 0.75 cloud: \", precision, recall, error, count)"
   ]
  },
  {
   "cell_type": "markdown",
   "metadata": {},
   "source": [
    "# Slope metrics"
   ]
  },
  {
   "cell_type": "code",
   "execution_count": 46,
   "metadata": {},
   "outputs": [
    {
     "name": "stdout",
     "output_type": "stream",
     "text": [
      "Below 0.1 slope:  0.9506964365948917 0.9228665850262535 6.924036281179138 176400\n"
     ]
    }
   ],
   "source": [
    "tp = proposed[proposed['slopes'] < 0.1].sum()['tp_soft']\n",
    "fp = proposed[proposed['slopes'] < 0.1].sum()['fp_soft']\n",
    "fn = proposed[proposed['slopes'] < 0.1].sum()['fn_soft']\n",
    "error = proposed[proposed['slopes'] < 0.1].mean()['error']\n",
    "count = proposed[proposed['slopes'] < 0.1].count()['error'] * 196\n",
    "\n",
    "\n",
    "\n",
    "precision = tp / (tp + fp)\n",
    "recall = tp / (tp + fn)\n",
    "print(\"Below 0.1 slope: \", precision, recall, error, count)"
   ]
  },
  {
   "cell_type": "code",
   "execution_count": 47,
   "metadata": {},
   "outputs": [
    {
     "name": "stdout",
     "output_type": "stream",
     "text": [
      "Above 0.1 slope:  0.9515755924536061 0.9672884987197575 6.907961204283693 39592\n"
     ]
    }
   ],
   "source": [
    "tp = proposed[proposed['slopes'] >= 0.1].sum()['tp_soft']\n",
    "fp = proposed[proposed['slopes'] >= 0.1].sum()['fp_soft']\n",
    "fn = proposed[proposed['slopes'] >= 0.1].sum()['fn_soft']\n",
    "error = proposed[proposed['slopes'] >= 0.1].mean()['error']\n",
    "count = proposed[proposed['slopes'] >= 0.1].count()['error'] * 196\n",
    "\n",
    "\n",
    "\n",
    "precision = tp / (tp + fp)\n",
    "recall = tp / (tp + fn)\n",
    "print(\"Above 0.1 slope: \", precision, recall, error, count)"
   ]
  },
  {
   "cell_type": "markdown",
   "metadata": {},
   "source": [
    "# Canopy metrics"
   ]
  },
  {
   "cell_type": "code",
   "execution_count": 51,
   "metadata": {},
   "outputs": [
    {
     "name": "stdout",
     "output_type": "stream",
     "text": [
      "Below 20%:  0.5231864537233019 0.5978452066842568 4.295085381091211 115248\n"
     ]
    }
   ],
   "source": [
    "tp = proposed[proposed['true'] < 20].sum()['tp_soft']\n",
    "fp = proposed[proposed['true'] < 20].sum()['fp_soft']\n",
    "fn = proposed[proposed['true'] < 20].sum()['fn_soft']\n",
    "error = proposed[proposed['true'] < 20].mean()['error']\n",
    "count = proposed[proposed['true'] < 20].count()['error'] * 196\n",
    "\n",
    "\n",
    "\n",
    "precision = tp / (tp + fp)\n",
    "recall = tp / (tp + fn)\n",
    "print(\"Below 20%: \", precision, recall, error, count)"
   ]
  },
  {
   "cell_type": "code",
   "execution_count": 61,
   "metadata": {},
   "outputs": [
    {
     "name": "stdout",
     "output_type": "stream",
     "text": [
      "Between 20 and 40%:  0.8895027624309392 0.8386781702751099 13.970315398886829 21560\n"
     ]
    }
   ],
   "source": [
    "tp = proposed[proposed['true'].between(20, 40)].sum()['tp_soft']\n",
    "fp = proposed[proposed['true'].between(20, 40)].sum()['fp_soft']\n",
    "fn = proposed[proposed['true'].between(20, 40)].sum()['fn_soft']\n",
    "\n",
    "error = proposed[proposed['true'].between(20, 40)].mean()['error']\n",
    "count = proposed[proposed['true'].between(20, 40)].count()['error'] * 196\n",
    "\n",
    "\n",
    "\n",
    "precision = tp / (tp + fp)\n",
    "recall = tp / (tp + fn)\n",
    "print(\"Between 20 and 40%: \", precision, recall, error, count)"
   ]
  },
  {
   "cell_type": "code",
   "execution_count": 62,
   "metadata": {},
   "outputs": [
    {
     "name": "stdout",
     "output_type": "stream",
     "text": [
      "Between 40 and 60%:  0.9415225530397575 0.8839973217274858 16.25125460020074 11956\n"
     ]
    }
   ],
   "source": [
    "tp = proposed[proposed['true'].between(40, 60)].sum()['tp_soft']\n",
    "fp = proposed[proposed['true'].between(40, 60)].sum()['fp_soft']\n",
    "fn = proposed[proposed['true'].between(40, 60)].sum()['fn_soft']\n",
    "\n",
    "error = proposed[proposed['true'].between(40, 60)].mean()['error']\n",
    "count = proposed[proposed['true'].between(40, 60)].count()['error'] * 196\n",
    "\n",
    "\n",
    "\n",
    "precision = tp / (tp + fp)\n",
    "recall = tp / (tp + fn)\n",
    "print(\"Between 40 and 60%: \", precision, recall, error, count)"
   ]
  },
  {
   "cell_type": "code",
   "execution_count": 63,
   "metadata": {},
   "outputs": [
    {
     "name": "stdout",
     "output_type": "stream",
     "text": [
      "Between 60 and 100%:  0.9942524003227878 0.9724401204838684 7.502826203367645 67228\n"
     ]
    }
   ],
   "source": [
    "tp = proposed[proposed['true'].between(60, 101)].sum()['tp_soft']\n",
    "fp = proposed[proposed['true'].between(60, 101)].sum()['fp_soft']\n",
    "fn = proposed[proposed['true'].between(60, 101)].sum()['fn_soft']\n",
    "\n",
    "error = proposed[proposed['true'].between(60, 101)].mean()['error']\n",
    "count = proposed[proposed['true'].between(60, 101)].count()['error'] * 196\n",
    "\n",
    "\n",
    "\n",
    "precision = tp / (tp + fp)\n",
    "recall = tp / (tp + fn)\n",
    "print(\"Between 60 and 100%: \", precision, recall, error, count)"
   ]
  },
  {
   "cell_type": "code",
   "execution_count": 87,
   "metadata": {},
   "outputs": [
    {
     "name": "stdout",
     "output_type": "stream",
     "text": [
      "0.8644605443408511 0.8358825439098567\n"
     ]
    }
   ],
   "source": [
    "proposed = pd.read_csv(\"../../data/metrics/proposed.csv\")\n",
    "print(proposed.mean()['soft_prec'], proposed.mean()['soft_rec'])"
   ]
  },
  {
   "cell_type": "markdown",
   "metadata": {},
   "source": [
    "# Load Random forest predictions"
   ]
  },
  {
   "cell_type": "code",
   "execution_count": 88,
   "metadata": {},
   "outputs": [
    {
     "data": {
      "text/html": [
       "<div>\n",
       "<style scoped>\n",
       "    .dataframe tbody tr th:only-of-type {\n",
       "        vertical-align: middle;\n",
       "    }\n",
       "\n",
       "    .dataframe tbody tr th {\n",
       "        vertical-align: top;\n",
       "    }\n",
       "\n",
       "    .dataframe thead th {\n",
       "        text-align: right;\n",
       "    }\n",
       "</style>\n",
       "<table border=\"1\" class=\"dataframe\">\n",
       "  <thead>\n",
       "    <tr style=\"text-align: right;\">\n",
       "      <th></th>\n",
       "      <th>Unnamed: 0</th>\n",
       "      <th>true</th>\n",
       "      <th>pred</th>\n",
       "      <th>f1_hard</th>\n",
       "      <th>error</th>\n",
       "      <th>tp</th>\n",
       "      <th>fp</th>\n",
       "      <th>fn</th>\n",
       "      <th>tp_soft</th>\n",
       "      <th>fp_soft</th>\n",
       "      <th>fn_soft</th>\n",
       "      <th>group</th>\n",
       "      <th>model</th>\n",
       "      <th>lats</th>\n",
       "      <th>longs</th>\n",
       "      <th>id</th>\n",
       "      <th>CONTINENT</th>\n",
       "      <th>clouds</th>\n",
       "      <th>slopes</th>\n",
       "    </tr>\n",
       "  </thead>\n",
       "  <tbody>\n",
       "    <tr>\n",
       "      <th>0</th>\n",
       "      <td>0</td>\n",
       "      <td>29.081633</td>\n",
       "      <td>33.163265</td>\n",
       "      <td>0.688525</td>\n",
       "      <td>4.081633</td>\n",
       "      <td>42.0</td>\n",
       "      <td>23</td>\n",
       "      <td>15</td>\n",
       "      <td>42.0</td>\n",
       "      <td>6.0</td>\n",
       "      <td>3.0</td>\n",
       "      <td>20</td>\n",
       "      <td>Random Forest</td>\n",
       "      <td>6.552393</td>\n",
       "      <td>37.070625</td>\n",
       "      <td>135505799</td>\n",
       "      <td>Africa</td>\n",
       "      <td>0.552239</td>\n",
       "      <td>0.223983</td>\n",
       "    </tr>\n",
       "    <tr>\n",
       "      <th>1</th>\n",
       "      <td>1</td>\n",
       "      <td>100.000000</td>\n",
       "      <td>13.265306</td>\n",
       "      <td>0.234234</td>\n",
       "      <td>86.734694</td>\n",
       "      <td>26.0</td>\n",
       "      <td>0</td>\n",
       "      <td>170</td>\n",
       "      <td>26.0</td>\n",
       "      <td>0.0</td>\n",
       "      <td>100.0</td>\n",
       "      <td>90</td>\n",
       "      <td>Random Forest</td>\n",
       "      <td>6.495981</td>\n",
       "      <td>35.556120</td>\n",
       "      <td>135505800</td>\n",
       "      <td>Africa</td>\n",
       "      <td>0.636364</td>\n",
       "      <td>0.086151</td>\n",
       "    </tr>\n",
       "    <tr>\n",
       "      <th>2</th>\n",
       "      <td>2</td>\n",
       "      <td>11.224490</td>\n",
       "      <td>3.061224</td>\n",
       "      <td>0.071429</td>\n",
       "      <td>8.163265</td>\n",
       "      <td>1.0</td>\n",
       "      <td>5</td>\n",
       "      <td>21</td>\n",
       "      <td>1.0</td>\n",
       "      <td>4.0</td>\n",
       "      <td>19.0</td>\n",
       "      <td>10</td>\n",
       "      <td>Random Forest</td>\n",
       "      <td>8.384319</td>\n",
       "      <td>38.972473</td>\n",
       "      <td>135505801</td>\n",
       "      <td>Africa</td>\n",
       "      <td>0.307692</td>\n",
       "      <td>0.053171</td>\n",
       "    </tr>\n",
       "    <tr>\n",
       "      <th>3</th>\n",
       "      <td>3</td>\n",
       "      <td>3.061224</td>\n",
       "      <td>43.877551</td>\n",
       "      <td>0.086957</td>\n",
       "      <td>40.816327</td>\n",
       "      <td>4.0</td>\n",
       "      <td>82</td>\n",
       "      <td>2</td>\n",
       "      <td>4.0</td>\n",
       "      <td>66.0</td>\n",
       "      <td>0.0</td>\n",
       "      <td>0</td>\n",
       "      <td>Random Forest</td>\n",
       "      <td>7.217695</td>\n",
       "      <td>33.701621</td>\n",
       "      <td>135505803</td>\n",
       "      <td>Africa</td>\n",
       "      <td>0.688525</td>\n",
       "      <td>0.041682</td>\n",
       "    </tr>\n",
       "    <tr>\n",
       "      <th>4</th>\n",
       "      <td>4</td>\n",
       "      <td>0.000000</td>\n",
       "      <td>0.000000</td>\n",
       "      <td>0.000000</td>\n",
       "      <td>0.000000</td>\n",
       "      <td>0.0</td>\n",
       "      <td>0</td>\n",
       "      <td>0</td>\n",
       "      <td>0.0</td>\n",
       "      <td>0.0</td>\n",
       "      <td>0.0</td>\n",
       "      <td>0</td>\n",
       "      <td>Random Forest</td>\n",
       "      <td>9.565499</td>\n",
       "      <td>40.256333</td>\n",
       "      <td>135505804</td>\n",
       "      <td>Africa</td>\n",
       "      <td>0.240000</td>\n",
       "      <td>0.048161</td>\n",
       "    </tr>\n",
       "  </tbody>\n",
       "</table>\n",
       "</div>"
      ],
      "text/plain": [
       "   Unnamed: 0        true       pred   f1_hard      error    tp  fp   fn  \\\n",
       "0           0   29.081633  33.163265  0.688525   4.081633  42.0  23   15   \n",
       "1           1  100.000000  13.265306  0.234234  86.734694  26.0   0  170   \n",
       "2           2   11.224490   3.061224  0.071429   8.163265   1.0   5   21   \n",
       "3           3    3.061224  43.877551  0.086957  40.816327   4.0  82    2   \n",
       "4           4    0.000000   0.000000  0.000000   0.000000   0.0   0    0   \n",
       "\n",
       "   tp_soft  fp_soft  fn_soft  group          model      lats      longs  \\\n",
       "0     42.0      6.0      3.0     20  Random Forest  6.552393  37.070625   \n",
       "1     26.0      0.0    100.0     90  Random Forest  6.495981  35.556120   \n",
       "2      1.0      4.0     19.0     10  Random Forest  8.384319  38.972473   \n",
       "3      4.0     66.0      0.0      0  Random Forest  7.217695  33.701621   \n",
       "4      0.0      0.0      0.0      0  Random Forest  9.565499  40.256333   \n",
       "\n",
       "          id CONTINENT    clouds    slopes  \n",
       "0  135505799    Africa  0.552239  0.223983  \n",
       "1  135505800    Africa  0.636364  0.086151  \n",
       "2  135505801    Africa  0.307692  0.053171  \n",
       "3  135505803    Africa  0.688525  0.041682  \n",
       "4  135505804    Africa  0.240000  0.048161  "
      ]
     },
     "execution_count": 88,
     "metadata": {},
     "output_type": "execute_result"
    }
   ],
   "source": [
    "proposed = pd.read_csv(\"../../data/metrics/rf-sample.csv\")\n",
    "proposed = proposed.join(continents, how = 'inner')\n",
    "proposed.head(5)"
   ]
  },
  {
   "cell_type": "code",
   "execution_count": 89,
   "metadata": {},
   "outputs": [
    {
     "name": "stdout",
     "output_type": "stream",
     "text": [
      "Africa 0.9063200815494393 0.8084197126750319\n",
      "Asia 0.8944373049384983 0.8401448525607863\n",
      "Australia 0.9141049968374446 0.8813269910964752\n",
      "Europe 0.8526092152436595 0.9176790052879805\n",
      "North America 0.9106339984844658 0.9652993466852308\n",
      "South America 0.8248557240638841 0.9296626834064438\n"
     ]
    }
   ],
   "source": [
    "sums = proposed.groupby(\"CONTINENT\").sum()\n",
    "for i in ['Africa', 'Asia', \"Australia\", \"Europe\", \"North America\", \"South America\"]:\n",
    "    tp = sums[sums.index == i]['tp_soft']\n",
    "    fp = sums[sums.index == i]['fp_soft']\n",
    "    fn = sums[sums.index == i]['fn_soft']\n",
    "    precision = tp / (tp + fp)\n",
    "    recall = tp / (tp + fn)\n",
    "    print(i, float(precision), float(recall))"
   ]
  },
  {
   "cell_type": "code",
   "execution_count": 79,
   "metadata": {},
   "outputs": [
    {
     "name": "stdout",
     "output_type": "stream",
     "text": [
      "Below 20%:  0.16666666666666666 0.29134078212290504 6.734867121721353 115444\n"
     ]
    }
   ],
   "source": [
    "tp = proposed[proposed['true'] < 20].sum()['tp_soft']\n",
    "fp = proposed[proposed['true'] < 20].sum()['fp_soft']\n",
    "fn = proposed[proposed['true'] < 20].sum()['fn_soft']\n",
    "error = proposed[proposed['true'] < 20].mean()['error']\n",
    "count = proposed[proposed['true'] < 20].count()['error'] * 196\n",
    "\n",
    "\n",
    "\n",
    "precision = tp / (tp + fp)\n",
    "recall = tp / (tp + fn)\n",
    "print(\"Below 20%: \", precision, recall, error, count)"
   ]
  },
  {
   "cell_type": "code",
   "execution_count": 80,
   "metadata": {},
   "outputs": [
    {
     "name": "stdout",
     "output_type": "stream",
     "text": [
      "Above 0.75 cloud:  0.8896187683284458 0.9148923336751312 10.805471124620063 46060\n"
     ]
    }
   ],
   "source": [
    "tp = proposed[proposed['clouds'] >= 0.75].sum()['tp_soft']\n",
    "fp = proposed[proposed['clouds'] >= 0.75].sum()['fp_soft']\n",
    "fn = proposed[proposed['clouds'] >= 0.75].sum()['fn_soft']\n",
    "error = proposed[proposed['clouds'] >= 0.75].mean()['error']\n",
    "count = proposed[proposed['clouds'] >= 0.75].count()['error'] * 196\n",
    "\n",
    "\n",
    "\n",
    "precision = tp / (tp + fp)\n",
    "recall = tp / (tp + fn)\n",
    "print(\"Above 0.75 cloud: \", precision, recall, error, count)"
   ]
  },
  {
   "cell_type": "code",
   "execution_count": 81,
   "metadata": {},
   "outputs": [
    {
     "name": "stdout",
     "output_type": "stream",
     "text": [
      "Above 0.1 slope:  0.9026670917012007 0.9531556802244039 10.452900371971447 39788\n"
     ]
    }
   ],
   "source": [
    "tp = proposed[proposed['slopes'] >= 0.1].sum()['tp_soft']\n",
    "fp = proposed[proposed['slopes'] >= 0.1].sum()['fp_soft']\n",
    "fn = proposed[proposed['slopes'] >= 0.1].sum()['fn_soft']\n",
    "error = proposed[proposed['slopes'] >= 0.1].mean()['error']\n",
    "count = proposed[proposed['slopes'] >= 0.1].count()['error'] * 196\n",
    "\n",
    "\n",
    "\n",
    "precision = tp / (tp + fp)\n",
    "recall = tp / (tp + fn)\n",
    "print(\"Above 0.1 slope: \", precision, recall, error, count)"
   ]
  },
  {
   "cell_type": "code",
   "execution_count": 86,
   "metadata": {},
   "outputs": [
    {
     "name": "stdout",
     "output_type": "stream",
     "text": [
      "0.7614104096671157 0.6932136477840563\n"
     ]
    }
   ],
   "source": [
    "proposed = pd.read_csv(\"../../data/metrics/rf.csv\")\n",
    "print(proposed.mean()['soft_prec'], proposed.mean()['soft_rec'])"
   ]
  },
  {
   "cell_type": "markdown",
   "metadata": {},
   "source": [
    "# Load U-Net forest predictions"
   ]
  },
  {
   "cell_type": "code",
   "execution_count": 90,
   "metadata": {},
   "outputs": [
    {
     "data": {
      "text/html": [
       "<div>\n",
       "<style scoped>\n",
       "    .dataframe tbody tr th:only-of-type {\n",
       "        vertical-align: middle;\n",
       "    }\n",
       "\n",
       "    .dataframe tbody tr th {\n",
       "        vertical-align: top;\n",
       "    }\n",
       "\n",
       "    .dataframe thead th {\n",
       "        text-align: right;\n",
       "    }\n",
       "</style>\n",
       "<table border=\"1\" class=\"dataframe\">\n",
       "  <thead>\n",
       "    <tr style=\"text-align: right;\">\n",
       "      <th></th>\n",
       "      <th>Unnamed: 0</th>\n",
       "      <th>true</th>\n",
       "      <th>pred</th>\n",
       "      <th>f1_hard</th>\n",
       "      <th>error</th>\n",
       "      <th>tp</th>\n",
       "      <th>fp</th>\n",
       "      <th>fn</th>\n",
       "      <th>tp_soft</th>\n",
       "      <th>fp_soft</th>\n",
       "      <th>fn_soft</th>\n",
       "      <th>group</th>\n",
       "      <th>model</th>\n",
       "      <th>lats</th>\n",
       "      <th>longs</th>\n",
       "      <th>id</th>\n",
       "      <th>CONTINENT</th>\n",
       "      <th>clouds</th>\n",
       "      <th>slopes</th>\n",
       "    </tr>\n",
       "  </thead>\n",
       "  <tbody>\n",
       "    <tr>\n",
       "      <th>0</th>\n",
       "      <td>0</td>\n",
       "      <td>29.081633</td>\n",
       "      <td>8.163265</td>\n",
       "      <td>0.246575</td>\n",
       "      <td>20.918367</td>\n",
       "      <td>9.0</td>\n",
       "      <td>7</td>\n",
       "      <td>48</td>\n",
       "      <td>21.0</td>\n",
       "      <td>1.0</td>\n",
       "      <td>36.0</td>\n",
       "      <td>20</td>\n",
       "      <td>U-net</td>\n",
       "      <td>6.552393</td>\n",
       "      <td>37.070625</td>\n",
       "      <td>135505799</td>\n",
       "      <td>Africa</td>\n",
       "      <td>0.552239</td>\n",
       "      <td>0.223983</td>\n",
       "    </tr>\n",
       "    <tr>\n",
       "      <th>1</th>\n",
       "      <td>1</td>\n",
       "      <td>100.000000</td>\n",
       "      <td>0.000000</td>\n",
       "      <td>0.000000</td>\n",
       "      <td>100.000000</td>\n",
       "      <td>0.0</td>\n",
       "      <td>0</td>\n",
       "      <td>196</td>\n",
       "      <td>0.0</td>\n",
       "      <td>0.0</td>\n",
       "      <td>196.0</td>\n",
       "      <td>90</td>\n",
       "      <td>U-net</td>\n",
       "      <td>6.495981</td>\n",
       "      <td>35.556120</td>\n",
       "      <td>135505800</td>\n",
       "      <td>Africa</td>\n",
       "      <td>0.636364</td>\n",
       "      <td>0.086151</td>\n",
       "    </tr>\n",
       "    <tr>\n",
       "      <th>2</th>\n",
       "      <td>2</td>\n",
       "      <td>11.224490</td>\n",
       "      <td>0.000000</td>\n",
       "      <td>0.000000</td>\n",
       "      <td>11.224490</td>\n",
       "      <td>0.0</td>\n",
       "      <td>0</td>\n",
       "      <td>22</td>\n",
       "      <td>0.0</td>\n",
       "      <td>0.0</td>\n",
       "      <td>22.0</td>\n",
       "      <td>10</td>\n",
       "      <td>U-net</td>\n",
       "      <td>8.384319</td>\n",
       "      <td>38.972473</td>\n",
       "      <td>135505801</td>\n",
       "      <td>Africa</td>\n",
       "      <td>0.307692</td>\n",
       "      <td>0.053171</td>\n",
       "    </tr>\n",
       "    <tr>\n",
       "      <th>3</th>\n",
       "      <td>3</td>\n",
       "      <td>3.061224</td>\n",
       "      <td>0.000000</td>\n",
       "      <td>0.000000</td>\n",
       "      <td>3.061224</td>\n",
       "      <td>0.0</td>\n",
       "      <td>0</td>\n",
       "      <td>6</td>\n",
       "      <td>0.0</td>\n",
       "      <td>0.0</td>\n",
       "      <td>6.0</td>\n",
       "      <td>0</td>\n",
       "      <td>U-net</td>\n",
       "      <td>7.217695</td>\n",
       "      <td>33.701621</td>\n",
       "      <td>135505803</td>\n",
       "      <td>Africa</td>\n",
       "      <td>0.688525</td>\n",
       "      <td>0.041682</td>\n",
       "    </tr>\n",
       "    <tr>\n",
       "      <th>4</th>\n",
       "      <td>4</td>\n",
       "      <td>0.000000</td>\n",
       "      <td>0.000000</td>\n",
       "      <td>0.000000</td>\n",
       "      <td>0.000000</td>\n",
       "      <td>0.0</td>\n",
       "      <td>0</td>\n",
       "      <td>0</td>\n",
       "      <td>0.0</td>\n",
       "      <td>0.0</td>\n",
       "      <td>0.0</td>\n",
       "      <td>0</td>\n",
       "      <td>U-net</td>\n",
       "      <td>9.565499</td>\n",
       "      <td>40.256333</td>\n",
       "      <td>135505804</td>\n",
       "      <td>Africa</td>\n",
       "      <td>0.240000</td>\n",
       "      <td>0.048161</td>\n",
       "    </tr>\n",
       "  </tbody>\n",
       "</table>\n",
       "</div>"
      ],
      "text/plain": [
       "   Unnamed: 0        true      pred   f1_hard       error   tp  fp   fn  \\\n",
       "0           0   29.081633  8.163265  0.246575   20.918367  9.0   7   48   \n",
       "1           1  100.000000  0.000000  0.000000  100.000000  0.0   0  196   \n",
       "2           2   11.224490  0.000000  0.000000   11.224490  0.0   0   22   \n",
       "3           3    3.061224  0.000000  0.000000    3.061224  0.0   0    6   \n",
       "4           4    0.000000  0.000000  0.000000    0.000000  0.0   0    0   \n",
       "\n",
       "   tp_soft  fp_soft  fn_soft  group  model      lats      longs         id  \\\n",
       "0     21.0      1.0     36.0     20  U-net  6.552393  37.070625  135505799   \n",
       "1      0.0      0.0    196.0     90  U-net  6.495981  35.556120  135505800   \n",
       "2      0.0      0.0     22.0     10  U-net  8.384319  38.972473  135505801   \n",
       "3      0.0      0.0      6.0      0  U-net  7.217695  33.701621  135505803   \n",
       "4      0.0      0.0      0.0      0  U-net  9.565499  40.256333  135505804   \n",
       "\n",
       "  CONTINENT    clouds    slopes  \n",
       "0    Africa  0.552239  0.223983  \n",
       "1    Africa  0.636364  0.086151  \n",
       "2    Africa  0.307692  0.053171  \n",
       "3    Africa  0.688525  0.041682  \n",
       "4    Africa  0.240000  0.048161  "
      ]
     },
     "execution_count": 90,
     "metadata": {},
     "output_type": "execute_result"
    }
   ],
   "source": [
    "proposed = pd.read_csv(\"../../data/metrics/unet-sample.csv\")\n",
    "proposed = proposed.join(continents, how = 'inner')\n",
    "proposed.head(5)"
   ]
  },
  {
   "cell_type": "code",
   "execution_count": 91,
   "metadata": {},
   "outputs": [
    {
     "name": "stdout",
     "output_type": "stream",
     "text": [
      "Africa 0.9294718747015567 0.7508196721311475\n",
      "Asia 0.8957775795420755 0.8817503292843554\n",
      "Australia 0.9275988043839256 0.8629248197734295\n",
      "Europe 0.8764488286066584 0.9286647504572773\n",
      "North America 0.9080292702485966 0.9225951010846871\n",
      "South America 0.9198328267477204 0.9589384737259045\n"
     ]
    }
   ],
   "source": [
    "sums = proposed.groupby(\"CONTINENT\").sum()\n",
    "for i in ['Africa', 'Asia', \"Australia\", \"Europe\", \"North America\", \"South America\"]:\n",
    "    tp = sums[sums.index == i]['tp_soft']\n",
    "    fp = sums[sums.index == i]['fp_soft']\n",
    "    fn = sums[sums.index == i]['fn_soft']\n",
    "    precision = tp / (tp + fp)\n",
    "    recall = tp / (tp + fn)\n",
    "    print(i, float(precision), float(recall))"
   ]
  },
  {
   "cell_type": "code",
   "execution_count": 75,
   "metadata": {},
   "outputs": [
    {
     "name": "stdout",
     "output_type": "stream",
     "text": [
      "Below 20%:  0.33954918032786885 0.3643359718557608 5.926683067114792 115444\n"
     ]
    }
   ],
   "source": [
    "tp = proposed[proposed['true'] < 20].sum()['tp_soft']\n",
    "fp = proposed[proposed['true'] < 20].sum()['fp_soft']\n",
    "fn = proposed[proposed['true'] < 20].sum()['fn_soft']\n",
    "error = proposed[proposed['true'] < 20].mean()['error']\n",
    "count = proposed[proposed['true'] < 20].count()['error'] * 196\n",
    "\n",
    "\n",
    "\n",
    "precision = tp / (tp + fp)\n",
    "recall = tp / (tp + fn)\n",
    "print(\"Below 20%: \", precision, recall, error, count)"
   ]
  },
  {
   "cell_type": "code",
   "execution_count": 76,
   "metadata": {},
   "outputs": [
    {
     "name": "stdout",
     "output_type": "stream",
     "text": [
      "Above 0.75 cloud:  0.9181706206822685 0.9163548904329236 9.765523230568823 46060\n"
     ]
    }
   ],
   "source": [
    "tp = proposed[proposed['clouds'] >= 0.75].sum()['tp_soft']\n",
    "fp = proposed[proposed['clouds'] >= 0.75].sum()['fp_soft']\n",
    "fn = proposed[proposed['clouds'] >= 0.75].sum()['fn_soft']\n",
    "error = proposed[proposed['clouds'] >= 0.75].mean()['error']\n",
    "count = proposed[proposed['clouds'] >= 0.75].count()['error'] * 196\n",
    "\n",
    "\n",
    "\n",
    "precision = tp / (tp + fp)\n",
    "recall = tp / (tp + fn)\n",
    "print(\"Above 0.75 cloud: \", precision, recall, error, count)"
   ]
  },
  {
   "cell_type": "code",
   "execution_count": 77,
   "metadata": {},
   "outputs": [
    {
     "name": "stdout",
     "output_type": "stream",
     "text": [
      "Above 0.1 slope:  0.9203084832904884 0.9072196938353331 12.184578264803458 39788\n"
     ]
    }
   ],
   "source": [
    "tp = proposed[proposed['slopes'] >= 0.1].sum()['tp_soft']\n",
    "fp = proposed[proposed['slopes'] >= 0.1].sum()['fp_soft']\n",
    "fn = proposed[proposed['slopes'] >= 0.1].sum()['fn_soft']\n",
    "error = proposed[proposed['slopes'] >= 0.1].mean()['error']\n",
    "count = proposed[proposed['slopes'] >= 0.1].count()['error'] * 196\n",
    "\n",
    "\n",
    "\n",
    "precision = tp / (tp + fp)\n",
    "recall = tp / (tp + fn)\n",
    "print(\"Above 0.1 slope: \", precision, recall, error, count)"
   ]
  },
  {
   "cell_type": "code",
   "execution_count": 85,
   "metadata": {},
   "outputs": [
    {
     "name": "stdout",
     "output_type": "stream",
     "text": [
      "0.7735725287501736 0.7203105493872846\n"
     ]
    }
   ],
   "source": [
    "proposed = pd.read_csv(\"../../data/metrics/unet.csv\")\n",
    "print(proposed.mean()['soft_prec'], proposed.mean()['soft_rec'])"
   ]
  },
  {
   "cell_type": "code",
   "execution_count": null,
   "metadata": {},
   "outputs": [],
   "source": []
  }
 ],
 "metadata": {
  "kernelspec": {
   "display_name": "remote_sensing",
   "language": "python",
   "name": "remote_sensing"
  },
  "language_info": {
   "codemirror_mode": {
    "name": "ipython",
    "version": 3
   },
   "file_extension": ".py",
   "mimetype": "text/x-python",
   "name": "python",
   "nbconvert_exporter": "python",
   "pygments_lexer": "ipython3",
   "version": "3.6.8"
  }
 },
 "nbformat": 4,
 "nbformat_minor": 2
}
