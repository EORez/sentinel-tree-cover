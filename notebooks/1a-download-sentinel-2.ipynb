{
 "cells": [
  {
   "cell_type": "markdown",
   "metadata": {},
   "source": [
    "# Download and process sentinel 2 data\n",
    "\n",
    "## John Brandt\n",
    "## December 2, 2020\n",
    "\n",
    "## Package imports, API import, source scripts"
   ]
  },
  {
   "cell_type": "code",
   "execution_count": 5,
   "metadata": {},
   "outputs": [],
   "source": [
    "import datetime\n",
    "import logging\n",
    "import pandas as pd\n",
    "import numpy as np\n",
    "import matplotlib.pyplot as plt\n",
    "import math\n",
    "import os\n",
    "import scipy.sparse as sparse\n",
    "import seaborn as sns\n",
    "import yaml\n",
    "\n",
    "from collections import Counter\n",
    "from osgeo import ogr, osr\n",
    "from random import shuffle\n",
    "from scipy.sparse.linalg import splu\n",
    "from sentinelhub import WmsRequest, WcsRequest, MimeType\n",
    "from sentinelhub import CRS, BBox, constants, DataSource, CustomUrlParam\n",
    "from skimage.transform import resize\n",
    "from typing import Tuple, List\n",
    "\n",
    "with open(\"../config.yaml\", 'r') as stream:\n",
    "        key = (yaml.safe_load(stream))\n",
    "        API_KEY = key['key'] \n",
    "        \n",
    "%matplotlib inline\n",
    "%run ../src/preprocessing/slope.py\n",
    "%run ../src/preprocessing/indices.py\n",
    "%run ../src/downloading/utils.py\n",
    "%run ../src/preprocessing/cloud_removal.py\n",
    "%run ../src/preprocessing/whittaker_smoother.py\n",
    "%run ../src/dsen2/utils/DSen2Net.py"
   ]
  },
  {
   "cell_type": "code",
   "execution_count": 19,
   "metadata": {},
   "outputs": [],
   "source": [
    "if os.path.exists(\"../config.yaml\"):\n",
    "    with open(\"../config.yaml\", 'r') as stream:\n",
    "        key = (yaml.safe_load(stream))\n",
    "        API_KEY = key['key']\n",
    "        AWSKEY = key['awskey']\n",
    "        AWSSECRET = key['awssecret']\n",
    "else:\n",
    "    API_KEY = \"none\""
   ]
  },
  {
   "cell_type": "markdown",
   "metadata": {},
   "source": [
    "## Parameters"
   ]
  },
  {
   "cell_type": "code",
   "execution_count": 6,
   "metadata": {},
   "outputs": [],
   "source": [
    "# Parameters\n",
    "YEAR = 2019\n",
    "TIME = ('{}-12-01'.format(str(YEAR - 1)), '{}-02-01'.format(str(YEAR + 1)))\n",
    "EPSG = CRS.WGS84\n",
    "IMSIZE = 48\n",
    "\n",
    "# Constants\n",
    "starting_days = np.cumsum([0, 31, 28, 31, 30, 31, 30, 31, 31, 30, 31, 30])"
   ]
  },
  {
   "cell_type": "markdown",
   "metadata": {},
   "source": [
    "# Bounding boxes"
   ]
  },
  {
   "cell_type": "code",
   "execution_count": 8,
   "metadata": {},
   "outputs": [],
   "source": [
    "def calc_bbox(plot_id: int, df: \"DataFrame\") -> List:\n",
    "    \"\"\" Calculates the corners of a bounding box from an input\n",
    "        pandas dataframe as output by Collect Earth Online\n",
    "\n",
    "        Parameters:\n",
    "         plot_id (int): plot_id of associated plot\n",
    "         df (pandas.DataFrame): dataframe of associated CEO survey\n",
    "    \n",
    "        Returns:\n",
    "         bounding_box (list): [(min(x), min(y)),\n",
    "                              (max(x), max_y))]\n",
    "    \"\"\"\n",
    "    subs = df[df['PLOT_ID'] == plot_id]\n",
    "    # (min x, min y), (max x, max y)\n",
    "    return [(min(subs['LON']), min(subs['LAT'])),\n",
    "            (max(subs['LON']), max(subs['LAT']))]\n",
    "\n",
    "def bounding_box(points: List[Tuple[float, float]], \n",
    "                 expansion: int = 160) -> ((Tuple, Tuple), str):\n",
    "    \"\"\" Calculates the corners of a bounding box with an\n",
    "        input expansion in meters from a given bounding_box\n",
    "        \n",
    "        Subcalls:\n",
    "         calculate_epsg, convertCoords\n",
    "\n",
    "        Parameters:\n",
    "         points (list): output of calc_bbox\n",
    "         expansion (float): number of meters to expand or shrink the\n",
    "                            points edges to be\n",
    "    \n",
    "        Returns:\n",
    "         bl (tuple): x, y of bottom left corner with edges of expansion meters\n",
    "         tr (tuple): x, y of top right corner with edges of expansion meters\n",
    "    \"\"\"\n",
    "    bl = list(points[0])\n",
    "    tr = list(points[1])\n",
    "    inproj = Proj('epsg:4326')\n",
    "    outproj_code = calculate_epsg(bl)\n",
    "    outproj = Proj('epsg:' + str(outproj_code))\n",
    "    bl_utm =  transform(inproj, outproj, bl[1], bl[0])\n",
    "    tr_utm =  transform(inproj, outproj, tr[1], tr[0])\n",
    "\n",
    "    distance1 = tr_utm[0] - bl_utm[0]\n",
    "    distance2 = tr_utm[1] - bl_utm[1]\n",
    "    expansion1 = (expansion - distance1)/2\n",
    "    expansion2 = (expansion - distance2)/2\n",
    "        \n",
    "    bl_utm = [bl_utm[0] - expansion1, bl_utm[1] - expansion2]\n",
    "    tr_utm = [tr_utm[0] + expansion1, tr_utm[1] + expansion2]\n",
    "\n",
    "\n",
    "    zone = str(outproj_code)[3:]\n",
    "    zone = zone[1:] if zone[0] == \"0\" else zone\n",
    "    direction = 'N' if tr[1] >= 0 else 'S'\n",
    "    utm_epsg = \"UTM_\" + zone + direction\n",
    "    return (bl_utm, tr_utm), CRS[utm_epsg]"
   ]
  },
  {
   "cell_type": "markdown",
   "metadata": {},
   "source": [
    "# Data download"
   ]
  },
  {
   "cell_type": "markdown",
   "metadata": {},
   "source": [
    "## Cloud and cloud shadow"
   ]
  },
  {
   "cell_type": "code",
   "execution_count": 9,
   "metadata": {},
   "outputs": [],
   "source": [
    "def identify_clouds(bbox: List[Tuple[float, float]], epsg: 'CRS', time: dict = TIME):\n",
    "    \"\"\" Downloads and calculates cloud cover and shadow\n",
    "        \n",
    "        Parameters:\n",
    "         bbox (list): output of calc_bbox\n",
    "         epsg (float): EPSG associated with bbox \n",
    "         time (tuple): YY-MM-DD - YY-MM-DD bounds for downloading \n",
    "    \n",
    "        Returns:\n",
    "         cloud_img (np.array): (X, 96, 96) array of cloud probs\n",
    "         shadows (np.array):  (X, 96, 96) array of shadow binary\n",
    "         clean_steps (np.array): (N,) array of clean idx\n",
    "         cloud_dates (np.array): (N,) array of clean cloud datets\n",
    "    \"\"\"\n",
    "    box = BBox(bbox, crs = epsg)\n",
    "    cloud_request = WcsRequest(\n",
    "        layer='CLOUD_NEW',\n",
    "        bbox=box, time=time,\n",
    "        resx='160m', resy='160m',\n",
    "        image_format = MimeType.TIFF_d8,\n",
    "        maxcc=0.75, instance_id=API_KEY,\n",
    "        custom_url_params = {constants.CustomUrlParam.UPSAMPLING: 'NEAREST'},\n",
    "        time_difference=datetime.timedelta(hours=96))\n",
    "\n",
    "    shadow_request = WcsRequest(\n",
    "        layer='SHADOW',\n",
    "        bbox=box, time=time,\n",
    "        resx='20m', resy='20m',\n",
    "        image_format =  MimeType.TIFF_d16,\n",
    "        maxcc=0.75, instance_id=API_KEY,\n",
    "        custom_url_params = {constants.CustomUrlParam.UPSAMPLING: 'NEAREST'},\n",
    "        time_difference=datetime.timedelta(hours=96))\n",
    "\n",
    "    cloud_img = np.array(cloud_request.get_data())\n",
    "    print(f\"Original cloud image max is {np.max(cloud_img)}\")\n",
    "    if np.max(cloud_img > 1):\n",
    "        cloud_img = cloud_img / 255\n",
    "    assert np.max(cloud_img) <= 1.\n",
    "    print(f\"Cloud_probs shape: {cloud_img.shape}\")\n",
    "\n",
    "    cloud_img = resize(cloud_img, (cloud_img.shape[0], 96, 96), order = 0)\n",
    "    n_cloud_px = np.sum(cloud_img > 0.33, axis = (1, 2))\n",
    "    cloud_steps = np.argwhere(n_cloud_px > (96**2 * 0.15))\n",
    "    clean_steps = [x for x in range(cloud_img.shape[0]) if x not in cloud_steps]\n",
    "    \n",
    "    cloud_dates = []\n",
    "    for date in cloud_request.get_dates():\n",
    "        if date.year == YEAR - 1:\n",
    "            cloud_dates.append(-365 + starting_days[(date.month-1)] + date.day)\n",
    "        if date.year == YEAR:\n",
    "            cloud_dates.append(starting_days[(date.month-1)] + date.day)\n",
    "        if date.year == YEAR + 1:\n",
    "            cloud_dates.append(365 + starting_days[(date.month-1)]+date.day)\n",
    "    cloud_dates = [val for idx, val in enumerate(cloud_dates) if idx in clean_steps]\n",
    "    \n",
    "    shadow_dates = []\n",
    "    for date in shadow_request.get_dates():\n",
    "        if date.year == YEAR - 1:\n",
    "            shadow_dates.append(-365 + starting_days[(date.month-1)] + date.day)\n",
    "        if date.year == YEAR:\n",
    "            shadow_dates.append(starting_days[(date.month-1)] + date.day)\n",
    "        if date.year == YEAR + 1:\n",
    "            shadow_dates.append(365 + starting_days[(date.month-1)]+date.day)\n",
    "    shadow_steps = [idx for idx, val in enumerate(shadow_dates) if val in cloud_dates]\n",
    "    \n",
    "    shadow_img = np.array(shadow_request.get_data(data_filter = shadow_steps))\n",
    "    shadow_pus = (shadow_img.shape[1]*shadow_img.shape[2])/(512*512) * shadow_img.shape[0]\n",
    "    shadow_img = resize(shadow_img, (shadow_img.shape[0], 96, 96, shadow_img.shape[-1]), order = 0)\n",
    "    \n",
    "    if np.max(shadow_img > 10):\n",
    "        print(f\"The max shadows is {np.max(shadow_img)}\")\n",
    "        shadow_img = shadow_img / 65535\n",
    "\n",
    "    cloud_img = np.delete(cloud_img, cloud_steps, 0)\n",
    "    assert shadow_img.shape[0] == cloud_img.shape[0], (shadow_img.shape, cloud_img.shape)\n",
    "    shadows = mcm_shadow_mask(np.array(shadow_img), cloud_img) # Make usre this makes sense??\n",
    "    print(f\"Shadows ({shadows.shape}) used {round(shadow_pus, 1)} processing units\")\n",
    "    return cloud_img, shadows, clean_steps, np.array(cloud_dates)"
   ]
  },
  {
   "cell_type": "markdown",
   "metadata": {},
   "source": [
    "# DEM and slope"
   ]
  },
  {
   "cell_type": "code",
   "execution_count": 10,
   "metadata": {},
   "outputs": [],
   "source": [
    "def download_dem(plot_id: int, df: 'DataFrame', epsg: 'CRS') -> (np.ndarray, np.ndarray):\n",
    "    \"\"\" Downloads MapZen digital elevation model and return slope\n",
    "\n",
    "        Parameters:\n",
    "         plot_id (tuple): plot id from collect earth online (CEO)\n",
    "         df (pandas.DataFrame): data associated with plot_id from CEO\n",
    "         epsg (int): UTM EPSG associated with plot_id\n",
    "    \n",
    "        Returns:\n",
    "         slope (arr): (X, Y, 1) array of per-pixel slope from [0, 1]\n",
    "    \"\"\"\n",
    "    location = calc_bbox(plot_id, df = df)\n",
    "    bbox, epsg = bounding_box(location, expansion = (32+2)*10)\n",
    "    box = BBox(bbox, crs = epsg)\n",
    "    dem_request = WcsRequest(data_source=DataSource.DEM,\n",
    "                         layer='DEM', bbox=box,\n",
    "                         resx = \"10m\", resy = \"10m\",\n",
    "                         instance_id=API_KEY,\n",
    "                         image_format= MimeType.TIFF_d32f,\n",
    "                         custom_url_params={CustomUrlParam.SHOWLOGO: False})\n",
    "    dem_image_init = dem_request.get_data()[0]\n",
    "    dem_image = np.copy(dem_image_init)\n",
    "    dem_image = median_filter(dem_image_init, size = 5)\n",
    "    slope = calcSlope(dem_image.reshape((1, 32+2, 32+2)),\n",
    "                      np.full((32+2, 32+2), 10),\n",
    "                      np.full((32+2, 32+2), 10), \n",
    "                      zScale = 1, minSlope = 0.02)\n",
    "    slope = slope / 90\n",
    "    slope = slope.reshape((32+2, 32+2, 1))\n",
    "    slope = slope[1:32+1, 1:32+1, :]\n",
    "    return slope, dem_image_init"
   ]
  },
  {
   "cell_type": "markdown",
   "metadata": {},
   "source": [
    "## 10 and 20 meter L2A bands"
   ]
  },
  {
   "cell_type": "code",
   "execution_count": 11,
   "metadata": {},
   "outputs": [],
   "source": [
    "def download_layer(bbox: List[Tuple[float, float]],\n",
    "                   clean_steps: np.ndarray, epsg: 'CRS',\n",
    "                   dates: dict = TIME, year: int = YEAR) -> (np.ndarray, np.ndarray):\n",
    "    \"\"\" Downloads the L2A sentinel layer with 10 and 20 meter bands\n",
    "        \n",
    "        Parameters:\n",
    "         bbox (list): output of calc_bbox\n",
    "         epsg (float): EPSG associated with bbox \n",
    "         time (tuple): YY-MM-DD - YY-MM-DD bounds for downloading \n",
    "    \n",
    "        Returns:\n",
    "         img (arr):\n",
    "         img_request (obj): \n",
    "    \"\"\"\n",
    "    try:\n",
    "        box = BBox(bbox, crs = epsg)\n",
    "        image_request = WcsRequest(\n",
    "                layer='L2A20',\n",
    "                bbox=box, time=dates,\n",
    "                image_format = MimeType.TIFF_d16,\n",
    "                data_source = DataSource.SENTINEL2_L2A,\n",
    "                maxcc=0.75,\n",
    "                resx='20m', resy='20m',\n",
    "                instance_id=API_KEY,\n",
    "                custom_url_params = {constants.CustomUrlParam.DOWNSAMPLING: 'NEAREST',\n",
    "                                    constants.CustomUrlParam.UPSAMPLING: 'NEAREST'},\n",
    "                time_difference=datetime.timedelta(hours=96),\n",
    "            )\n",
    "        \n",
    "        image_dates = []\n",
    "        for date in image_request.get_dates():\n",
    "            if date.year == YEAR - 1:\n",
    "                image_dates.append(-365 + starting_days[(date.month-1)] + date.day)\n",
    "            if date.year == YEAR:\n",
    "                image_dates.append(starting_days[(date.month-1)] + date.day)\n",
    "            if date.year == YEAR + 1:\n",
    "                image_dates.append(365 + starting_days[(date.month-1)]+date.day)\n",
    "        \n",
    "        steps_to_download = [i for i, val in enumerate(image_dates) if val in clean_steps]\n",
    "        dates_to_download = [val for i, val in enumerate(image_dates) if val in clean_steps]\n",
    "        print(f\"The cloud-free image dates are {dates_to_download}\")\n",
    "              \n",
    "        img_bands = image_request.get_data(data_filter = steps_to_download)\n",
    "        img_20 = np.stack(img_bands)\n",
    "        if np.max(img_20) >= 10:\n",
    "            img_20 = img_20 / 65535\n",
    "        assert np.max(img_20) <= 2.\n",
    "\n",
    "        s2_20_usage = (img_20.shape[1]*img_20.shape[2])/(512*512) * (6/3) * img_20.shape[0]\n",
    "        print(f\"Original 20 meter bands size: {img_20.shape}, using {s2_20_usage} PU\")\n",
    "        img_20 = resize(img_20, (img_20.shape[0], IMSIZE, IMSIZE, img_20.shape[-1]), order = 0)\n",
    "        \n",
    "        image_request = WcsRequest(\n",
    "                layer='L2A10',\n",
    "                bbox=box, time=dates,\n",
    "                image_format = MimeType.TIFF_d16,\n",
    "                data_source = DataSource.SENTINEL2_L2A,\n",
    "                maxcc=0.75,\n",
    "                resx='10m', resy='10m',\n",
    "                instance_id=API_KEY,\n",
    "                custom_url_params = {constants.CustomUrlParam.DOWNSAMPLING: 'BICUBIC',\n",
    "                                    constants.CustomUrlParam.UPSAMPLING: 'BICUBIC'},\n",
    "                time_difference=datetime.timedelta(hours=96),\n",
    "        )\n",
    "        \n",
    "        img_bands = image_request.get_data(data_filter = steps_to_download)\n",
    "        img_10 = np.stack(img_bands)\n",
    "        print(f\"The original L2A image size is: {img_10.shape}\")\n",
    "        img_10 = resize(img_10, (img_10.shape[0], IMSIZE, IMSIZE, img_10.shape[-1]), order = 0)\n",
    "        img = np.concatenate([img_10, img_20], axis = -1)\n",
    "\n",
    "        if np.max(img_10) >= 10:\n",
    "            img_10 = img_10 / 65535\n",
    "        assert np.max(img_10) <= 2.\n",
    "        return img, np.array(dates_to_download)\n",
    "\n",
    "    except Exception as e:\n",
    "        logging.fatal(e, exc_info=True)"
   ]
  },
  {
   "cell_type": "markdown",
   "metadata": {},
   "source": [
    "# Super resolution"
   ]
  },
  {
   "cell_type": "code",
   "execution_count": 12,
   "metadata": {},
   "outputs": [
    {
     "name": "stdout",
     "output_type": "stream",
     "text": [
      "WARNING:tensorflow:From /Users/john.brandt/anaconda3/envs/remote_sensing/lib/python3.6/site-packages/tensorflow/python/framework/op_def_library.py:263: colocate_with (from tensorflow.python.framework.ops) is deprecated and will be removed in a future version.\n",
      "Instructions for updating:\n",
      "Colocations handled automatically by placer.\n"
     ]
    }
   ],
   "source": [
    "MDL_PATH = \"../src/dsen2/models/\"\n",
    "\n",
    "input_shape = ((4, None, None), (6, None, None))\n",
    "model = s2model(input_shape, num_layers=6, feature_size=128)\n",
    "predict_file = MDL_PATH+'s2_032_lr_1e-04.hdf5'\n",
    "model.load_weights(predict_file)"
   ]
  },
  {
   "cell_type": "markdown",
   "metadata": {},
   "source": [
    "# Download function"
   ]
  },
  {
   "cell_type": "code",
   "execution_count": 13,
   "metadata": {},
   "outputs": [],
   "source": [
    "def download_new_dem(data_location: 'os.Path',\n",
    "                     output_folder: 'os.Path',\n",
    "                     image_format: 'MimeType' = MimeType.TIFF_d16):\n",
    "    \"\"\" Downloads and saves DEM and slope files\n",
    "        \n",
    "        Parameters:\n",
    "         data_location (os.path): \n",
    "         output_folder (os.path): \n",
    "         image_format (MimeType): \n",
    "    \n",
    "        Returns:\n",
    "         None\n",
    "    \"\"\"\n",
    "    \n",
    "    df = pd.read_csv(data_location)\n",
    "    df.columns = [x.upper() for x in df.columns]\n",
    "    for column in ['IMAGERY_TITLE', 'STACKINGPROFILEDG', 'PL_PLOTID', 'IMAGERYYEARDG',\n",
    "                  'IMAGERYMONTHPLANET', 'IMAGERYYEARPLANET', 'IMAGERYDATESECUREWATCH',\n",
    "                  'IMAGERYENDDATESECUREWATCH', 'IMAGERYFEATUREPROFILESECUREWATCH',\n",
    "                  'IMAGERYSTARTDATESECUREWATCH','IMAGERY_ATTRIBUTIONS',\n",
    "                  'SAMPLE_GEOM']:\n",
    "        if column in df.columns:\n",
    "            df = df.drop(column, axis = 1)\n",
    "    \n",
    "    df = df.dropna(axis = 0)\n",
    "    plot_ids = sorted(df['PLOT_ID'].unique())\n",
    "    existing = [int(x[:-4]) for x in os.listdir(output_folder) if \".DS\" not in x]\n",
    "    to_download = [x for x in plot_ids if x not in existing]\n",
    "    print(f\"Starting download of {len(to_download)}\"\n",
    "          f\" plots from {data_location} to {output_folder}\")\n",
    "    errors = []\n",
    "    for i, val in enumerate(to_download):\n",
    "        print(f\"Downloading {i + 1}/{len(to_download)}, {val}\")\n",
    "        initial_bbx = calc_bbox(val, df = df)\n",
    "        dem_bbx, epsg = bounding_box(initial_bbx, expansion = 32*10)\n",
    "        slope, dem = download_dem(val, epsg = epsg, df = df)\n",
    "        print(dem.shape)\n",
    "        np.save(output_folder + str(val), dem)\n",
    "        np.save(\"../data/train-slope/\" + str(val), slope)"
   ]
  },
  {
   "cell_type": "code",
   "execution_count": 14,
   "metadata": {},
   "outputs": [
    {
     "name": "stdout",
     "output_type": "stream",
     "text": [
      "Starting download of 0 plots from ../data/train-csv/ceo-ethiopia-finetune-sample-data.csv to ../data/train-dem/\n"
     ]
    }
   ],
   "source": [
    "from scipy.ndimage import median_filter\n",
    "for i in reversed(os.listdir(\"../data/train-csv/\")):\n",
    "    if \"ethiopia\" in i:\n",
    "    #if \".csv\" in i:\n",
    "        #if any(x in i for x in [\"africa-west\", \"cameroon\", \"koure\", \"niger\"]):\n",
    "        tile = download_new_dem(\"../data/train-csv/\" + i, \"../data/train-dem/\", image_format = MimeType.TIFF_d16)"
   ]
  },
  {
   "cell_type": "code",
   "execution_count": 20,
   "metadata": {},
   "outputs": [],
   "source": [
    "%run ../src/io/upload.py\n",
    "uploader = FileUploader(awskey = AWSKEY, awssecret = AWSSECRET)"
   ]
  },
  {
   "cell_type": "code",
   "execution_count": 24,
   "metadata": {
    "scrolled": true
   },
   "outputs": [],
   "source": [
    "def download_plots(data_location, output_folder, image_format = MimeType.TIFF_d16):\n",
    "    \"\"\" Downloads slope and sentinel-2 data for all plots associated\n",
    "        with an input CSV from a collect earth online survey\n",
    "        \n",
    "        Parameters:\n",
    "         data_location (os.path)\n",
    "         output_folder (os.path)\n",
    "        \n",
    "        Creates:\n",
    "         output_folder/{plot_id}.npy\n",
    "    \n",
    "        Returns:\n",
    "         None\n",
    "    \"\"\"\n",
    "    df = pd.read_csv(data_location)\n",
    "    df.columns = [x.upper() for x in df.columns]\n",
    "    for column in ['IMAGERY_TITLE', 'STACKINGPROFILEDG', 'PL_PLOTID', 'IMAGERYYEARDG',\n",
    "                  'IMAGERYMONTHPLANET', 'IMAGERYYEARPLANET', 'IMAGERYDATESECUREWATCH',\n",
    "                  'IMAGERYENDDATESECUREWATCH', 'IMAGERYFEATUREPROFILESECUREWATCH',\n",
    "                  'IMAGERYSTARTDATESECUREWATCH','IMAGERY_ATTRIBUTIONS',\n",
    "                  'SAMPLE_GEOM']:\n",
    "        if column in df.columns:\n",
    "            df = df.drop(column, axis = 1)\n",
    "    \n",
    "    df = df.dropna(axis = 0)\n",
    "    plot_ids = sorted(df['PLOT_ID'].unique())\n",
    "    existing = [int(x[:-4]) for x in os.listdir(output_folder) if \".DS\" not in x]\n",
    "    to_download = [x for x in plot_ids if x not in existing]\n",
    "    \n",
    "    print(f\"Starting download of {len(to_download)}\"\n",
    "          f\" plots from {data_location} to {output_folder}\")\n",
    "\n",
    "    for i, val in enumerate(to_download):\n",
    "        print(f\"Downloading {i + 1}/{len(to_download)}, {val}\")\n",
    "        initial_bbx = calc_bbox(val, df = df)\n",
    "        sentinel2_bbx, epsg = bounding_box(initial_bbx, expansion = IMSIZE*10)\n",
    "        cloud_bbx, _ = bounding_box(initial_bbx, expansion = 96*10)\n",
    "        try:\n",
    "            # Identify cloud steps, download DEM, and download L2A series\n",
    "            cloud_probs, shadows, clean_steps, image_dates = identify_clouds(cloud_bbx, epsg = epsg)\n",
    "            dem, _ = download_dem(val, epsg = epsg, df = df)\n",
    "            to_remove, _ = calculate_cloud_steps(cloud_probs, image_dates)\n",
    "            cloud_probs = np.delete(cloud_probs, to_remove, 0)\n",
    "            clean_dates = np.delete(image_dates, to_remove)\n",
    "            shadows = np.delete(shadows, to_remove, 0)\n",
    "            s2, s2_dates = download_layer(sentinel2_bbx, clean_steps = clean_dates, epsg = epsg)    \n",
    "            \n",
    "            # Step to ensure that shadows, clouds, sentinel l2a have aligned dates\n",
    "            print(f\"Shadows {shadows.shape}, clouds {cloud_probs.shape}, S2, {s2.shape}, S2d, {s2_dates.shape}\")\n",
    "            to_remove_clouds = [i for i, val in enumerate(clean_dates) if val not in s2_dates]\n",
    "            if len(to_remove_clouds) >= 1:\n",
    "                cloud_probs = np.delete(cloud_probs, to_remove_clouds, 0)\n",
    "                shadows = np.delete(shadows, to_remove_clouds, 0)\n",
    "            print(f\"Shadows {shadows.shape}, clouds {cloud_probs.shape}, S2, {s2.shape}, S2d, {s2_dates.shape}\")\n",
    "\n",
    "            \n",
    "            to_remove = remove_missed_clouds(s2)\n",
    "            s2 = np.delete(s2, to_remove, 0)\n",
    "            cloud_probs = np.delete(cloud_probs, to_remove, 0)\n",
    "            s2_dates = np.delete(s2_dates, to_remove)\n",
    "            shadows = np.delete(shadows, to_remove, 0)\n",
    "            print(f\"Removing {len(to_remove)} steps based on ratio\")\n",
    "            \n",
    "            cloud_probs = cloud_probs[:, 24:-24, 24:-24]\n",
    "            shadows = shadows[:, 24:-24, 24:-24]\n",
    "            x, interp = remove_cloud_and_shadows(s2, cloud_probs, shadows, s2_dates)\n",
    "            to_remove = np.argwhere(np.mean(interp, axis = (1, 2, 3)) > 0.5)\n",
    "            x = np.delete(x, to_remove, 0)\n",
    "            cloud_probs = np.delete(cloud_probs, to_remove, 0)\n",
    "            s2_dates = np.delete(s2_dates, to_remove)\n",
    "            shadows = np.delete(shadows, to_remove, 0)\n",
    "            print(f\"Removing {len(to_remove)} steps with >50% interpolation\")\n",
    "            \n",
    "            x_to_save = np.copy(x)\n",
    "            x_to_save = np.clip(x_to_save, 0, 1)\n",
    "            x_to_save = np.trunc(x_to_save * 65535).astype(np.uint16)\n",
    "            np.save(f\"../data/train-raw/{str(val)}\", x_to_save)\n",
    "            file = f\"../data/train-raw/{str(val)}.npy\"\n",
    "            key = f'restoration-mapper/model-data/train/raw/{str(val)}.npy'\n",
    "            uploader.upload(bucket = 'restoration-monitoring', key = key, file = file)\n",
    "            \n",
    "            x = x[:, 8:40, 8:40, :]\n",
    "            x = superresolve(x, model)\n",
    "            x = x[:, 8:24, 8:24, :]\n",
    "            dem = np.tile(dem.reshape((1, 32, 32, 1)), (x.shape[0], 1, 1, 1))\n",
    "            dem = dem[:, 8:-8, 8:-8, :]\n",
    "            x = np.concatenate([x, dem], axis = -1)\n",
    "            x[:, :, :, -1] /= 90\n",
    "            print(f\"Shape after DEM: {x.shape}\")\n",
    "\n",
    "            # Calculate indices\n",
    "            tiles = evi(x, True)\n",
    "            tiles = bi(tiles, True)\n",
    "            tiles = msavi2(tiles, True)\n",
    "            x = si(tiles, True)\n",
    "            \n",
    "            for band in range(0, 15):\n",
    "                for time in range(0, x.shape[0]):\n",
    "                    x_i = x[time, :, :, band]\n",
    "                    x_i[np.argwhere(np.isnan(x_i))] = np.mean(x_i)\n",
    "                    x[time, :, :, band] = x_i\n",
    "\n",
    "            # Interpolate linearly to 5 day frequency\n",
    "            tiles, max_distance = calculate_and_save_best_images(x, s2_dates)\n",
    "            sm = Smoother(lmbd = 800, size = tiles.shape[0], nbands = 14, dim = 16)\n",
    "            tiles = sm.interpolate_array(tiles)\n",
    "            print(f\"There are {np.sum(np.isnan(tiles))} NA values\")\n",
    "            \n",
    "            if max_distance <= 240:\n",
    "                np.save(output_folder + str(val), tiles)\n",
    "                print(f\"Saved array of {tiles.shape} shape to {val} \\n\")\n",
    "            else:\n",
    "                print(f\"Skipping {val} because there is a {max_distance} distance \\n\")\n",
    "\n",
    "        except Exception as e:\n",
    "            print(e)\n",
    "            logging.fatal(e, exc_info=True)"
   ]
  },
  {
   "cell_type": "code",
   "execution_count": null,
   "metadata": {},
   "outputs": [
    {
     "name": "stdout",
     "output_type": "stream",
     "text": [
      "Starting download of 0 plots from ../data/train-csv/koure-train.csv to ../data/train-s2-new/\n",
      "Starting download of 0 plots from ../data/train-csv/ceo-brazil-sao-paulo-2-sample-data-2020-07-29.csv to ../data/train-s2-new/\n",
      "Starting download of 0 plots from ../data/train-csv/australia-train.csv to ../data/train-s2-new/\n",
      "Starting download of 0 plots from ../data/train-csv/kenya-farm-train.csv to ../data/train-s2-new/\n",
      "Starting download of 0 plots from ../data/train-csv/cameroon-finetune.csv to ../data/train-s2-new/\n",
      "Starting download of 0 plots from ../data/train-csv/ghana-kwofu-small-train.csv to ../data/train-s2-new/\n",
      "Starting download of 0 plots from ../data/train-csv/ghana-mid-train.csv to ../data/train-s2-new/\n",
      "Starting download of 28 plots from ../data/train-csv/lac-train.csv to ../data/train-s2-new/\n",
      "Downloading 1/28, 135787106\n",
      "Original cloud image max is 255\n",
      "Cloud_probs shape: (69, 6, 6)\n"
     ]
    },
    {
     "data": {
      "application/vnd.jupyter.widget-view+json": {
       "model_id": "d0584df27879419e956f1660c1577f94",
       "version_major": 2,
       "version_minor": 0
      },
      "text/plain": [
       "HBox(children=(IntProgress(value=0, max=51), HTML(value='')))"
      ]
     },
     "metadata": {},
     "output_type": "display_data"
    },
    {
     "name": "stdout",
     "output_type": "stream",
     "text": [
      "\n"
     ]
    },
    {
     "data": {
      "application/vnd.jupyter.widget-view+json": {
       "model_id": "db5949e0d0054ca3a496fb05c590b157",
       "version_major": 2,
       "version_minor": 0
      },
      "text/plain": [
       "HBox(children=(IntProgress(value=0, max=51), HTML(value='')))"
      ]
     },
     "metadata": {},
     "output_type": "display_data"
    },
    {
     "name": "stdout",
     "output_type": "stream",
     "text": [
      "\n",
      "Shadows ((51, 96, 96)) used 0.4 processing units\n",
      "0, Good steps: [ 7 12 22 27], min dist of 10, and 0.01 thresh\n",
      "1, Good steps: [32 37 42 52 57], min dist of 20, and 0.01 thresh\n",
      "2, Good steps: [62 67 72 77 82 87], min dist of 20, and 0.01 thresh\n",
      "3, Good steps: [ 92  97 102 107 112], min dist of 65, and 0.06 thresh\n",
      "4, Good steps: [], min dist of 365, and 0.15 thresh\n",
      "5, Good steps: [157 177], min dist of 20, and 0.01 thresh\n",
      "6, Good steps: [187 197 207], min dist of 10, and 0.01 thresh\n",
      "7, Good steps: [212], min dist of 50, and 0.03 thresh\n",
      "8, Good steps: [262], min dist of 50, and 0.03 thresh\n",
      "9, Good steps: [287 302], min dist of 15, and 0.01 thresh\n",
      "10, Good steps: [307 312 317 332], min dist of 5, and 0.01 thresh\n",
      "11, Good steps: [342 347 352 357], min dist of 5, and 0.01 thresh\n",
      "[ 0  1  2  3  4  5 26 30 45 46 47 48 49 50]\n",
      "[0.30555556 0.         0.         0.         0.         0.\n",
      " 0.25       0.02777778 0.         0.         0.         0.\n",
      " 0.         0.        ]\n",
      "The cloud-free image dates are [7, 12, 22, 27, 32, 37, 42, 52, 57, 62, 67, 72, 77, 82, 87, 92, 97, 102, 107, 112, 157, 177, 187, 197, 207, 212, 262, 287, 302, 307, 312, 317, 332, 342, 347, 352, 357]\n",
      "Original 20 meter bands size: (37, 24, 24, 6), using 0.16259765625 PU\n",
      "The original L2A image size is: (37, 48, 48, 4)\n",
      "Shadows (37, 96, 96), clouds (37, 96, 96), S2, (37, 48, 48, 10), S2d, (37,)\n",
      "Shadows (37, 96, 96), clouds (37, 96, 96), S2, (37, 48, 48, 10), S2d, (37,)\n",
      "Removing 0 steps based on ratio\n",
      "Interpolated 0 px\n",
      "Removing 0 steps with >50% interpolation\n",
      "uploading ../data/train-raw/135787106.npy to restoration-monitoring as restoration-mapper/model-data/train/raw/135787106.npy\n",
      "Shape after DEM: (37, 16, 16, 11)\n",
      "Maximum time distance: 50\n",
      "(72, 16, 16, 14)\n",
      "There are 0 NA values\n",
      "Saved array of (24, 16, 16, 15) shape to 135787106 \n",
      "\n",
      "Downloading 2/28, 135787107\n",
      "Original cloud image max is 255\n",
      "Cloud_probs shape: (79, 6, 6)\n"
     ]
    },
    {
     "data": {
      "application/vnd.jupyter.widget-view+json": {
       "model_id": "2d5a5fb71bb2409dbec0aacb831bb1fb",
       "version_major": 2,
       "version_minor": 0
      },
      "text/plain": [
       "HBox(children=(IntProgress(value=0, max=49), HTML(value='')))"
      ]
     },
     "metadata": {},
     "output_type": "display_data"
    },
    {
     "name": "stdout",
     "output_type": "stream",
     "text": [
      "\n"
     ]
    },
    {
     "data": {
      "application/vnd.jupyter.widget-view+json": {
       "model_id": "45dbb0971bad4019ae60c16892392d5c",
       "version_major": 2,
       "version_minor": 0
      },
      "text/plain": [
       "HBox(children=(IntProgress(value=0, max=49), HTML(value='')))"
      ]
     },
     "metadata": {},
     "output_type": "display_data"
    },
    {
     "name": "stdout",
     "output_type": "stream",
     "text": [
      "\n",
      "Shadows ((49, 96, 96)) used 0.4 processing units\n",
      "0, Good steps: [-12  13  18  23], min dist of 15, and 0.01 thresh\n",
      "1, Good steps: [38 48 58], min dist of 20, and 0.01 thresh\n",
      "2, Good steps: [63 68 83], min dist of 25, and 0.01 thresh\n",
      "3, Good steps: [103 108], min dist of 20, and 0.01 thresh\n",
      "4, Good steps: [128 133 138], min dist of 25, and 0.01 thresh\n",
      "5, Good steps: [158], min dist of 30, and 0.03 thresh\n",
      "6, Good steps: [183 208], min dist of 25, and 0.01 thresh\n",
      "7, Good steps: [213 228 238], min dist of 25, and 0.01 thresh\n",
      "8, Good steps: [253 258 263], min dist of 15, and 0.01 thresh\n",
      "9, Good steps: [283 293], min dist of 20, and 0.01 thresh\n",
      "10, Good steps: [313 323 328], min dist of 20, and 0.01 thresh\n",
      "11, Good steps: [338 343 363 373], min dist of 5, and 0.01 thresh\n",
      "[ 0  1  3  4  8 11 16 23 25 26 29 31 41 44 47 48]\n",
      "[0.         0.         0.02777778 0.05555556 0.02777778 0.05555556\n",
      " 0.02777778 0.25       0.05555556 0.02777778 0.16666667 0.13888889\n",
      " 0.05555556 0.11111111 0.         0.        ]\n",
      "The cloud-free image dates are [-12, 13, 18, 23, 38, 48, 58, 68, 103, 108, 128, 133, 138, 158, 183, 208, 213, 228, 238, 253, 258, 263, 283, 293, 313, 323, 328, 338, 343, 363, 373]\n",
      "Original 20 meter bands size: (31, 24, 24, 6), using 0.13623046875 PU\n",
      "The original L2A image size is: (31, 48, 48, 4)\n",
      "Shadows (33, 96, 96), clouds (33, 96, 96), S2, (31, 48, 48, 10), S2d, (31,)\n",
      "Shadows (31, 96, 96), clouds (31, 96, 96), S2, (31, 48, 48, 10), S2d, (31,)\n",
      "Removing 3 steps based on ratio\n",
      "Interpolated 49 px\n",
      "Removing 1 steps with >50% interpolation\n",
      "uploading ../data/train-raw/135787107.npy to restoration-monitoring as restoration-mapper/model-data/train/raw/135787107.npy\n",
      "Shape after DEM: (27, 16, 16, 11)\n",
      "Maximum time distance: 35\n",
      "(72, 16, 16, 14)\n",
      "There are 0 NA values\n",
      "Saved array of (24, 16, 16, 15) shape to 135787107 \n",
      "\n",
      "Downloading 3/28, 135787110\n",
      "Original cloud image max is 255\n",
      "Cloud_probs shape: (79, 6, 6)\n"
     ]
    },
    {
     "data": {
      "application/vnd.jupyter.widget-view+json": {
       "model_id": "747d8bb7132e40d19288f40b94bb7b7f",
       "version_major": 2,
       "version_minor": 0
      },
      "text/plain": [
       "HBox(children=(IntProgress(value=0, max=62), HTML(value='')))"
      ]
     },
     "metadata": {},
     "output_type": "display_data"
    },
    {
     "name": "stdout",
     "output_type": "stream",
     "text": [
      "\n"
     ]
    },
    {
     "data": {
      "application/vnd.jupyter.widget-view+json": {
       "model_id": "fb40734dd9014196980789683d483a4e",
       "version_major": 2,
       "version_minor": 0
      },
      "text/plain": [
       "HBox(children=(IntProgress(value=0, max=62), HTML(value='')))"
      ]
     },
     "metadata": {},
     "output_type": "display_data"
    },
    {
     "name": "stdout",
     "output_type": "stream",
     "text": [
      "\n",
      "Shadows ((62, 96, 96)) used 0.5 processing units\n",
      "0, Good steps: [-6 -1  4 29], min dist of 5, and 0.01 thresh\n",
      "1, Good steps: [34 39 44 49 54], min dist of 15, and 0.01 thresh\n",
      "2, Good steps: [59 64 69 79 84 89], min dist of 25, and 0.01 thresh\n",
      "3, Good steps: [ 94 104 109 114 119], min dist of 20, and 0.01 thresh\n",
      "4, Good steps: [124 129 134 144], min dist of 25, and 0.01 thresh\n",
      "5, Good steps: [159 169 179], min dist of 25, and 0.01 thresh\n",
      "6, Good steps: [184 209], min dist of 30, and 0.03 thresh\n",
      "7, Good steps: [214 219 224 229 239], min dist of 20, and 0.01 thresh\n",
      "8, Good steps: [244 249 259 264], min dist of 20, and 0.01 thresh\n",
      "9, Good steps: [279 284 294], min dist of 25, and 0.01 thresh\n",
      "10, Good steps: [309 314 324], min dist of 20, and 0.01 thresh\n",
      "11, Good steps: [334 339 344 349], min dist of 10, and 0.01 thresh\n",
      "[ 0  1  2  6 20 53 54 55 56 57 58 59 60 61]\n",
      "[0.         0.         0.         0.11111111 0.05555556 0.\n",
      " 0.         0.         0.         0.         0.05555556 0.\n",
      " 0.         0.        ]\n",
      "The cloud-free image dates are [-6, -1, 4, 29, 34, 39, 44, 49, 54, 59, 64, 69, 79, 84, 89, 94, 104, 109, 114, 119, 124, 129, 134, 144, 159, 169, 179, 184, 209, 214, 219, 224, 229, 239, 244, 249, 259, 264, 279, 284, 294, 309, 314, 324, 334, 339, 344, 349]\n",
      "Original 20 meter bands size: (48, 24, 24, 6), using 0.2109375 PU\n",
      "The original L2A image size is: (48, 48, 48, 4)\n",
      "Shadows (48, 96, 96), clouds (48, 96, 96), S2, (48, 48, 48, 10), S2d, (48,)\n",
      "Shadows (48, 96, 96), clouds (48, 96, 96), S2, (48, 48, 48, 10), S2d, (48,)\n",
      "Removing 1 steps based on ratio\n",
      "Interpolated 0 px\n",
      "Removing 0 steps with >50% interpolation\n",
      "uploading ../data/train-raw/135787110.npy to restoration-monitoring as restoration-mapper/model-data/train/raw/135787110.npy\n",
      "Shape after DEM: (47, 16, 16, 11)\n",
      "Maximum time distance: 25\n",
      "(72, 16, 16, 14)\n",
      "There are 0 NA values\n",
      "Saved array of (24, 16, 16, 15) shape to 135787110 \n",
      "\n",
      "Downloading 4/28, 135787111\n",
      "Original cloud image max is 255\n",
      "Cloud_probs shape: (77, 6, 6)\n"
     ]
    },
    {
     "data": {
      "application/vnd.jupyter.widget-view+json": {
       "model_id": "e56f018ce76b4d21b1d59a05f86e8375",
       "version_major": 2,
       "version_minor": 0
      },
      "text/plain": [
       "HBox(children=(IntProgress(value=0, max=38), HTML(value='')))"
      ]
     },
     "metadata": {},
     "output_type": "display_data"
    },
    {
     "name": "stdout",
     "output_type": "stream",
     "text": [
      "\n"
     ]
    },
    {
     "data": {
      "application/vnd.jupyter.widget-view+json": {
       "model_id": "05e38de360794fc5a9364f99ef6919ed",
       "version_major": 2,
       "version_minor": 0
      },
      "text/plain": [
       "HBox(children=(IntProgress(value=0, max=38), HTML(value='')))"
      ]
     },
     "metadata": {},
     "output_type": "display_data"
    },
    {
     "name": "stdout",
     "output_type": "stream",
     "text": [
      "\n",
      "Shadows ((38, 96, 96)) used 0.3 processing units\n",
      "0, Good steps: [13 23 28], min dist of 10, and 0.01 thresh\n",
      "1, Good steps: [38 58], min dist of 25, and 0.01 thresh\n",
      "2, Good steps: [63 68 83], min dist of 25, and 0.01 thresh\n",
      "3, Good steps: [103], min dist of 40, and 0.03 thresh\n",
      "4, Good steps: [138 143 148], min dist of 45, and 0.03 thresh\n",
      "5, Good steps: [168], min dist of 25, and 0.01 thresh\n",
      "6, Good steps: [183 188 193 203], min dist of 15, and 0.01 thresh\n",
      "7, Good steps: [218 223 238], min dist of 10, and 0.01 thresh\n",
      "8, Good steps: [248], min dist of 15, and 0.01 thresh\n",
      "9, Good steps: [273 298 303], min dist of 25, and 0.01 thresh\n",
      "10, Good steps: [], min dist of 365, and 0.15 thresh\n",
      "11, Good steps: [338 343 388], min dist of 5, and 0.01 thresh\n",
      "[ 1  5  6  7 11 13 23 26 29 35 36]\n",
      "[0.02777778 0.05555556 0.11111111 0.08333333 0.02777778 0.05555556\n",
      " 0.08333333 0.08333333 0.05555556 0.13888889 0.05555556]\n",
      "The cloud-free image dates are [13, 23, 28, 38, 58, 68, 103, 138, 143, 148, 168, 183, 188, 193, 203, 218, 223, 238, 248, 273, 298, 303, 338, 343, 388]\n",
      "Original 20 meter bands size: (25, 24, 24, 6), using 0.10986328125 PU\n",
      "The original L2A image size is: (25, 48, 48, 4)\n",
      "Shadows (27, 96, 96), clouds (27, 96, 96), S2, (25, 48, 48, 10), S2d, (25,)\n",
      "Shadows (25, 96, 96), clouds (25, 96, 96), S2, (25, 48, 48, 10), S2d, (25,)\n",
      "Removing 1 steps based on ratio\n",
      "Interpolated 73 px\n",
      "Removing 2 steps with >50% interpolation\n",
      "uploading ../data/train-raw/135787111.npy to restoration-monitoring as restoration-mapper/model-data/train/raw/135787111.npy\n",
      "Shape after DEM: (22, 16, 16, 11)\n",
      "Maximum time distance: 45\n",
      "(72, 16, 16, 14)\n",
      "There are 0 NA values\n",
      "Saved array of (24, 16, 16, 15) shape to 135787111 \n",
      "\n",
      "Downloading 5/28, 135787113\n",
      "Original cloud image max is 255\n",
      "Cloud_probs shape: (80, 6, 6)\n"
     ]
    },
    {
     "data": {
      "application/vnd.jupyter.widget-view+json": {
       "model_id": "e9bf3e2bfcad4f6e8b80bc62edc06d52",
       "version_major": 2,
       "version_minor": 0
      },
      "text/plain": [
       "HBox(children=(IntProgress(value=0, max=56), HTML(value='')))"
      ]
     },
     "metadata": {},
     "output_type": "display_data"
    },
    {
     "name": "stdout",
     "output_type": "stream",
     "text": [
      "\n"
     ]
    },
    {
     "data": {
      "application/vnd.jupyter.widget-view+json": {
       "model_id": "950ed9fb6aec479e979ddeb82067873a",
       "version_major": 2,
       "version_minor": 0
      },
      "text/plain": [
       "HBox(children=(IntProgress(value=0, max=56), HTML(value='')))"
      ]
     },
     "metadata": {},
     "output_type": "display_data"
    },
    {
     "name": "stdout",
     "output_type": "stream",
     "text": [
      "\n",
      "Shadows ((56, 96, 96)) used 0.5 processing units\n",
      "0, Good steps: [-18   2   7  12], min dist of 20, and 0.01 thresh\n",
      "1, Good steps: [32 37 42 47 52 57], min dist of 25, and 0.01 thresh\n",
      "2, Good steps: [62 72 82 87], min dist of 20, and 0.01 thresh\n",
      "3, Good steps: [ 92 102 112], min dist of 25, and 0.01 thresh\n",
      "4, Good steps: [127 137 142 147], min dist of 30, and 0.03 thresh\n",
      "5, Good steps: [157 177], min dist of 20, and 0.01 thresh\n",
      "6, Good steps: [184 189 199 207], min dist of 23, and 0.01 thresh\n",
      "7, Good steps: [212 224 239], min dist of 25, and 0.01 thresh\n",
      "8, Good steps: [244 249 257 262 267], min dist of 22, and 0.01 thresh\n",
      "9, Good steps: [279 284], min dist of 28, and 0.01 thresh\n",
      "10, Good steps: [307 312], min dist of 45, and 0.03 thresh\n",
      "11, Good steps: [342 352 357 362], min dist of 5, and 0.01 thresh\n",
      "[ 0  1 13 18 29 42 45 50 51 52 53 54 55]\n",
      "[0.         0.         0.13888889 0.16666667 0.08333333 0.02777778\n",
      " 0.16666667 0.         0.         0.         0.         0.\n",
      " 0.        ]\n",
      "The cloud-free image dates are [-18, 2, 7, 12, 32, 37, 42, 47, 52, 57, 62, 72, 82, 87, 92, 102, 112, 127, 137, 142, 147, 157, 177, 184, 189, 199, 207, 212, 224, 239, 244, 249, 257, 262, 267, 279, 284, 307, 312, 342, 352, 357, 362]\n",
      "Original 20 meter bands size: (43, 24, 24, 6), using 0.18896484375 PU\n",
      "The original L2A image size is: (43, 48, 48, 4)\n",
      "Shadows (43, 96, 96), clouds (43, 96, 96), S2, (43, 48, 48, 10), S2d, (43,)\n",
      "Shadows (43, 96, 96), clouds (43, 96, 96), S2, (43, 48, 48, 10), S2d, (43,)\n",
      "Removing 1 steps based on ratio\n",
      "Interpolated 98 px\n",
      "Removing 2 steps with >50% interpolation\n",
      "uploading ../data/train-raw/135787113.npy to restoration-monitoring as restoration-mapper/model-data/train/raw/135787113.npy\n",
      "Shape after DEM: (40, 16, 16, 11)\n",
      "Maximum time distance: 30\n",
      "(72, 16, 16, 14)\n",
      "There are 0 NA values\n",
      "Saved array of (24, 16, 16, 15) shape to 135787113 \n",
      "\n",
      "Downloading 6/28, 135787119\n",
      "Original cloud image max is 255\n",
      "Cloud_probs shape: (67, 6, 6)\n"
     ]
    },
    {
     "data": {
      "application/vnd.jupyter.widget-view+json": {
       "model_id": "1254cecf1fa54bd2ba7b7df1f35109fa",
       "version_major": 2,
       "version_minor": 0
      },
      "text/plain": [
       "HBox(children=(IntProgress(value=0, max=29), HTML(value='')))"
      ]
     },
     "metadata": {},
     "output_type": "display_data"
    },
    {
     "name": "stdout",
     "output_type": "stream",
     "text": [
      "\n"
     ]
    },
    {
     "data": {
      "application/vnd.jupyter.widget-view+json": {
       "model_id": "5690078a5e70437a9ed241f3c6dfa457",
       "version_major": 2,
       "version_minor": 0
      },
      "text/plain": [
       "HBox(children=(IntProgress(value=0, max=29), HTML(value='')))"
      ]
     },
     "metadata": {},
     "output_type": "display_data"
    },
    {
     "name": "stdout",
     "output_type": "stream",
     "text": [
      "\n",
      "Shadows ((29, 96, 96)) used 0.3 processing units\n",
      "0, Good steps: [-29 -19  -9  -4], min dist of 50, and 0.03 thresh\n",
      "1, Good steps: [41 46 51], min dist of 25, and 0.01 thresh\n",
      "2, Good steps: [61 66 71], min dist of 30, and 0.03 thresh\n",
      "3, Good steps: [ 96 101 111], min dist of 35, and 0.03 thresh\n",
      "4, Good steps: [141 146], min dist of 20, and 0.03 thresh\n",
      "5, Good steps: [161 166 176], min dist of 50, and 0.03 thresh\n",
      "6, Good steps: [181 206], min dist of 25, and 0.15 thresh\n",
      "7, Good steps: [226 236], min dist of 20, and 0.01 thresh\n",
      "8, Good steps: [], min dist of 365, and 0.15 thresh\n",
      "9, Good steps: [], min dist of 365, and 0.15 thresh\n",
      "10, Good steps: [326 331], min dist of 5, and 0.01 thresh\n",
      "11, Good steps: [336 391], min dist of 55, and 0.15 thresh\n",
      "[ 4 26 27]\n",
      "[0.05555556 0.38888889 0.16666667]\n",
      "The cloud-free image dates are [-29, -19, -9, -4, 41, 46, 51, 61, 66, 71, 96, 101, 111, 141, 146, 161, 166, 176, 181, 206, 226, 236, 326, 331, 336, 391]\n",
      "Original 20 meter bands size: (26, 24, 24, 6), using 0.1142578125 PU\n",
      "The original L2A image size is: (26, 48, 48, 4)\n",
      "Shadows (26, 96, 96), clouds (26, 96, 96), S2, (26, 48, 48, 10), S2d, (26,)\n",
      "Shadows (26, 96, 96), clouds (26, 96, 96), S2, (26, 48, 48, 10), S2d, (26,)\n",
      "Removing 0 steps based on ratio\n",
      "Interpolated 183 px\n",
      "Removing 5 steps with >50% interpolation\n",
      "uploading ../data/train-raw/135787119.npy to restoration-monitoring as restoration-mapper/model-data/train/raw/135787119.npy\n",
      "Shape after DEM: (21, 16, 16, 11)\n",
      "Maximum time distance: 90\n",
      "0 {'image_date': [-4], 'image_ratio': [1], 'image_idx': [3]}\n",
      "5 {'image_date': [-4, 46], 'image_ratio': [0.8200000000000001, 0.18], 'image_idx': [3, 4]}\n",
      "10 {'image_date': [-4, 46], 'image_ratio': [0.72, 0.28], 'image_idx': [3, 4]}\n",
      "15 {'image_date': [-4, 46], 'image_ratio': [0.62, 0.38], 'image_idx': [3, 4]}\n",
      "20 {'image_date': [-4, 46], 'image_ratio': [0.52, 0.48], 'image_idx': [3, 4]}\n",
      "25 {'image_date': [-4, 46], 'image_ratio': [0.42000000000000004, 0.58], 'image_idx': [3, 4]}\n",
      "30 {'image_date': [-4, 46], 'image_ratio': [0.31999999999999995, 0.68], 'image_idx': [3, 4]}\n",
      "35 {'image_date': [-4, 46], 'image_ratio': [0.21999999999999997, 0.78], 'image_idx': [3, 4]}\n",
      "40 {'image_date': [46], 'image_ratio': [1], 'image_idx': [4]}\n",
      "45 {'image_date': [46], 'image_ratio': [1], 'image_idx': [4]}\n",
      "50 {'image_date': [51], 'image_ratio': [1], 'image_idx': [5]}\n",
      "55 {'image_date': [51], 'image_ratio': [1], 'image_idx': [5]}\n",
      "60 {'image_date': [61], 'image_ratio': [1], 'image_idx': [6]}\n",
      "65 {'image_date': [66], 'image_ratio': [1], 'image_idx': [7]}\n",
      "70 {'image_date': [71], 'image_ratio': [1], 'image_idx': [8]}\n",
      "75 {'image_date': [71], 'image_ratio': [1], 'image_idx': [8]}\n",
      "80 {'image_date': [71, 96], 'image_ratio': [0.64, 0.36], 'image_idx': [8, 9]}\n",
      "85 {'image_date': [71, 96], 'image_ratio': [0.43999999999999995, 0.56], 'image_idx': [8, 9]}\n",
      "90 {'image_date': [96], 'image_ratio': [1], 'image_idx': [9]}\n",
      "95 {'image_date': [96], 'image_ratio': [1], 'image_idx': [9]}\n",
      "100 {'image_date': [101], 'image_ratio': [1], 'image_idx': [10]}\n",
      "105 {'image_date': [101], 'image_ratio': [1], 'image_idx': [10]}\n",
      "110 {'image_date': [111], 'image_ratio': [1], 'image_idx': [11]}\n",
      "115 {'image_date': [111], 'image_ratio': [1], 'image_idx': [11]}\n",
      "120 {'image_date': [111, 141], 'image_ratio': [0.7, 0.3], 'image_idx': [11, 12]}\n",
      "125 {'image_date': [111, 141], 'image_ratio': [0.5333333333333333, 0.4666666666666667], 'image_idx': [11, 12]}\n",
      "130 {'image_date': [111, 141], 'image_ratio': [0.3666666666666667, 0.6333333333333333], 'image_idx': [11, 12]}\n",
      "135 {'image_date': [141], 'image_ratio': [1], 'image_idx': [12]}\n",
      "140 {'image_date': [141], 'image_ratio': [1], 'image_idx': [12]}\n",
      "145 {'image_date': [146], 'image_ratio': [1], 'image_idx': [13]}\n",
      "150 {'image_date': [146], 'image_ratio': [1], 'image_idx': [13]}\n",
      "155 {'image_date': [161], 'image_ratio': [1], 'image_idx': [14]}\n",
      "160 {'image_date': [161], 'image_ratio': [1], 'image_idx': [14]}\n",
      "165 {'image_date': [166], 'image_ratio': [1], 'image_idx': [15]}\n",
      "170 {'image_date': [166], 'image_ratio': [1], 'image_idx': [15]}\n",
      "175 {'image_date': [176], 'image_ratio': [1], 'image_idx': [16]}\n",
      "180 {'image_date': [176], 'image_ratio': [1], 'image_idx': [16]}\n",
      "185 {'image_date': [176, 226], 'image_ratio': [0.8200000000000001, 0.18], 'image_idx': [16, 17]}\n",
      "190 {'image_date': [176, 226], 'image_ratio': [0.72, 0.28], 'image_idx': [16, 17]}\n",
      "195 {'image_date': [176, 226], 'image_ratio': [0.62, 0.38], 'image_idx': [16, 17]}\n",
      "200 {'image_date': [176, 226], 'image_ratio': [0.52, 0.48], 'image_idx': [16, 17]}\n",
      "205 {'image_date': [176, 226], 'image_ratio': [0.42000000000000004, 0.58], 'image_idx': [16, 17]}\n",
      "210 {'image_date': [176, 226], 'image_ratio': [0.31999999999999995, 0.68], 'image_idx': [16, 17]}\n",
      "215 {'image_date': [176, 226], 'image_ratio': [0.21999999999999997, 0.78], 'image_idx': [16, 17]}\n",
      "220 {'image_date': [226], 'image_ratio': [1], 'image_idx': [17]}\n",
      "225 {'image_date': [226], 'image_ratio': [1], 'image_idx': [17]}\n",
      "230 {'image_date': [226], 'image_ratio': [1], 'image_idx': [17]}\n",
      "235 {'image_date': [236], 'image_ratio': [1], 'image_idx': [18]}\n",
      "240 {'image_date': [236], 'image_ratio': [1], 'image_idx': [18]}\n",
      "245 {'image_date': [236, 326], 'image_ratio': [0.9, 0.1], 'image_idx': [18, 19]}\n",
      "250 {'image_date': [236, 326], 'image_ratio': [0.8444444444444444, 0.15555555555555556], 'image_idx': [18, 19]}\n",
      "255 {'image_date': [236, 326], 'image_ratio': [0.7888888888888889, 0.2111111111111111], 'image_idx': [18, 19]}\n",
      "260 {'image_date': [236, 326], 'image_ratio': [0.7333333333333334, 0.26666666666666666], 'image_idx': [18, 19]}\n",
      "265 {'image_date': [236, 326], 'image_ratio': [0.6777777777777778, 0.32222222222222224], 'image_idx': [18, 19]}\n",
      "270 {'image_date': [236, 326], 'image_ratio': [0.6222222222222222, 0.37777777777777777], 'image_idx': [18, 19]}\n",
      "275 {'image_date': [236, 326], 'image_ratio': [0.5666666666666667, 0.43333333333333335], 'image_idx': [18, 19]}\n",
      "280 {'image_date': [236, 326], 'image_ratio': [0.5111111111111111, 0.4888888888888889], 'image_idx': [18, 19]}\n",
      "285 {'image_date': [236, 326], 'image_ratio': [0.4555555555555556, 0.5444444444444444], 'image_idx': [18, 19]}\n",
      "290 {'image_date': [236, 326], 'image_ratio': [0.4, 0.6], 'image_idx': [18, 19]}\n",
      "295 {'image_date': [236, 326], 'image_ratio': [0.34444444444444444, 0.6555555555555556], 'image_idx': [18, 19]}\n",
      "300 {'image_date': [236, 326], 'image_ratio': [0.28888888888888886, 0.7111111111111111], 'image_idx': [18, 19]}\n",
      "305 {'image_date': [236, 326], 'image_ratio': [0.23333333333333328, 0.7666666666666667], 'image_idx': [18, 19]}\n",
      "310 {'image_date': [236, 326], 'image_ratio': [0.1777777777777778, 0.8222222222222222], 'image_idx': [18, 19]}\n",
      "315 {'image_date': [236, 326], 'image_ratio': [0.12222222222222223, 0.8777777777777778], 'image_idx': [18, 19]}\n",
      "320 {'image_date': [326], 'image_ratio': [1], 'image_idx': [19]}\n",
      "325 {'image_date': [326], 'image_ratio': [1], 'image_idx': [19]}\n",
      "330 {'image_date': [331], 'image_ratio': [1], 'image_idx': [20]}\n",
      "335 {'image_date': [331], 'image_ratio': [1], 'image_idx': [20]}\n",
      "340 {'image_date': [331, 331], 'image_ratio': [0.5, 0.5], 'image_idx': [20, 20]}\n",
      "345 {'image_date': [331, 331], 'image_ratio': [0.5, 0.5], 'image_idx': [20, 20]}\n",
      "350 {'image_date': [331, 331], 'image_ratio': [0.5, 0.5], 'image_idx': [20, 20]}\n",
      "355 {'image_date': [331, 331], 'image_ratio': [0.5, 0.5], 'image_idx': [20, 20]}\n",
      "(72, 16, 16, 14)\n",
      "There are 0 NA values\n",
      "Saved array of (24, 16, 16, 15) shape to 135787119 \n",
      "\n",
      "Downloading 7/28, 135787120\n",
      "Original cloud image max is 255\n",
      "Cloud_probs shape: (72, 6, 6)\n"
     ]
    },
    {
     "data": {
      "application/vnd.jupyter.widget-view+json": {
       "model_id": "8d57ad4ac04a42b6a705bc1100655663",
       "version_major": 2,
       "version_minor": 0
      },
      "text/plain": [
       "HBox(children=(IntProgress(value=0, max=36), HTML(value='')))"
      ]
     },
     "metadata": {},
     "output_type": "display_data"
    },
    {
     "name": "stdout",
     "output_type": "stream",
     "text": [
      "\n"
     ]
    },
    {
     "data": {
      "application/vnd.jupyter.widget-view+json": {
       "model_id": "d16e0ae4139441dc9c95ec57af183283",
       "version_major": 2,
       "version_minor": 0
      },
      "text/plain": [
       "HBox(children=(IntProgress(value=0, max=36), HTML(value='')))"
      ]
     },
     "metadata": {},
     "output_type": "display_data"
    },
    {
     "name": "stdout",
     "output_type": "stream",
     "text": [
      "\n",
      "Shadows ((36, 96, 96)) used 0.3 processing units\n",
      "0, Good steps: [18 23 28], min dist of 10, and 0.01 thresh\n",
      "1, Good steps: [38 43 48 53 58], min dist of 20, and 0.01 thresh\n",
      "2, Good steps: [63 68 73 88], min dist of 30, and 0.03 thresh\n",
      "3, Good steps: [ 98 103], min dist of 55, and 0.03 thresh\n",
      "4, Good steps: [138 143], min dist of 35, and 0.03 thresh\n",
      "5, Good steps: [158 168], min dist of 15, and 0.01 thresh\n",
      "6, Good steps: [183 188 208], min dist of 15, and 0.01 thresh\n",
      "7, Good steps: [223 238], min dist of 15, and 0.01 thresh\n",
      "8, Good steps: [248], min dist of 15, and 0.01 thresh\n",
      "9, Good steps: [273 303], min dist of 10, and 0.01 thresh\n",
      "10, Good steps: [323 333], min dist of 20, and 0.01 thresh\n",
      "11, Good steps: [363 373 388], min dist of 10, and 0.01 thresh\n",
      "[14 25 27 28 34]\n",
      "[0.25       0.02777778 0.08333333 0.02777778 0.25      ]\n",
      "The cloud-free image dates are [18, 23, 28, 38, 43, 48, 53, 58, 68, 73, 88, 98, 103, 138, 143, 158, 168, 183, 188, 208, 223, 238, 248, 273, 303, 323, 333, 363, 373, 388]\n",
      "Original 20 meter bands size: (30, 24, 24, 6), using 0.1318359375 PU\n",
      "The original L2A image size is: (30, 48, 48, 4)\n",
      "Shadows (31, 96, 96), clouds (31, 96, 96), S2, (30, 48, 48, 10), S2d, (30,)\n",
      "Shadows (30, 96, 96), clouds (30, 96, 96), S2, (30, 48, 48, 10), S2d, (30,)\n",
      "Removing 0 steps based on ratio\n",
      "Interpolated 13 px\n",
      "Removing 1 steps with >50% interpolation\n",
      "uploading ../data/train-raw/135787120.npy to restoration-monitoring as restoration-mapper/model-data/train/raw/135787120.npy\n",
      "Shape after DEM: (29, 16, 16, 11)\n",
      "Maximum time distance: 35\n",
      "(72, 16, 16, 14)\n",
      "There are 0 NA values\n",
      "Saved array of (24, 16, 16, 15) shape to 135787120 \n",
      "\n",
      "Downloading 8/28, 135787129\n",
      "Original cloud image max is 255\n",
      "Cloud_probs shape: (71, 6, 6)\n"
     ]
    },
    {
     "data": {
      "application/vnd.jupyter.widget-view+json": {
       "model_id": "306ee39efc1f44a8ba9391ee1129bf66",
       "version_major": 2,
       "version_minor": 0
      },
      "text/plain": [
       "HBox(children=(IntProgress(value=0, max=31), HTML(value='')))"
      ]
     },
     "metadata": {},
     "output_type": "display_data"
    },
    {
     "name": "stdout",
     "output_type": "stream",
     "text": [
      "\n"
     ]
    },
    {
     "data": {
      "application/vnd.jupyter.widget-view+json": {
       "model_id": "37132c8710084c49b6e756c38026d86f",
       "version_major": 2,
       "version_minor": 0
      },
      "text/plain": [
       "HBox(children=(IntProgress(value=0, max=31), HTML(value='')))"
      ]
     },
     "metadata": {},
     "output_type": "display_data"
    },
    {
     "name": "stdout",
     "output_type": "stream",
     "text": [
      "\n",
      "Shadows ((31, 96, 96)) used 0.3 processing units\n",
      "0, Good steps: [-29 -19 -14  -9], min dist of 55, and 0.06 thresh\n",
      "1, Good steps: [41 56], min dist of 25, and 0.01 thresh\n",
      "2, Good steps: [66 81], min dist of 18, and 0.01 thresh\n",
      "3, Good steps: [94 99], min dist of 65, and 0.06 thresh\n",
      "4, Good steps: [], min dist of 365, and 0.15 thresh\n",
      "5, Good steps: [156 164 169 174 179], min dist of 65, and 0.06 thresh\n",
      "6, Good steps: [], min dist of 365, and 0.15 thresh\n",
      "7, Good steps: [224], min dist of 45, and 0.03 thresh\n",
      "8, Good steps: [244 249], min dist of 82, and 0.06 thresh\n",
      "9, Good steps: [284 294], min dist of 23, and 0.01 thresh\n",
      "10, Good steps: [331], min dist of 37, and 0.15 thresh\n",
      "11, Good steps: [336 341 346 359], min dist of 5, and 0.01 thresh\n",
      "[ 4  6  7 13 22 30]\n",
      "[0.19444444 0.05555556 0.02777778 0.13888889 0.11111111 0.        ]\n",
      "The cloud-free image dates are [-29, -19, -14, -9, 41, 56, 66, 81, 94, 99, 156, 164, 169, 174, 179, 224, 244, 249, 284, 294, 331, 336, 341, 346, 359]\n",
      "Original 20 meter bands size: (25, 24, 24, 6), using 0.10986328125 PU\n",
      "The original L2A image size is: (25, 48, 48, 4)\n",
      "Shadows (25, 96, 96), clouds (25, 96, 96), S2, (25, 48, 48, 10), S2d, (25,)\n",
      "Shadows (25, 96, 96), clouds (25, 96, 96), S2, (25, 48, 48, 10), S2d, (25,)\n",
      "Removing 0 steps based on ratio\n",
      "Interpolated 98 px\n",
      "Removing 2 steps with >50% interpolation\n",
      "uploading ../data/train-raw/135787129.npy to restoration-monitoring as restoration-mapper/model-data/train/raw/135787129.npy\n",
      "Shape after DEM: (23, 16, 16, 11)\n",
      "Maximum time distance: 57\n",
      "0 {'image_date': [-9, 41], 'image_ratio': [0.8200000000000001, 0.18], 'image_idx': [3, 4]}\n",
      "5 {'image_date': [-9, 41], 'image_ratio': [0.72, 0.28], 'image_idx': [3, 4]}\n",
      "10 {'image_date': [-9, 41], 'image_ratio': [0.62, 0.38], 'image_idx': [3, 4]}\n",
      "15 {'image_date': [-9, 41], 'image_ratio': [0.52, 0.48], 'image_idx': [3, 4]}\n",
      "20 {'image_date': [-9, 41], 'image_ratio': [0.42000000000000004, 0.58], 'image_idx': [3, 4]}\n",
      "25 {'image_date': [-9, 41], 'image_ratio': [0.31999999999999995, 0.68], 'image_idx': [3, 4]}\n",
      "30 {'image_date': [-9, 41], 'image_ratio': [0.21999999999999997, 0.78], 'image_idx': [3, 4]}\n",
      "35 {'image_date': [41], 'image_ratio': [1], 'image_idx': [4]}\n",
      "40 {'image_date': [41], 'image_ratio': [1], 'image_idx': [4]}\n",
      "45 {'image_date': [41], 'image_ratio': [1], 'image_idx': [4]}\n",
      "50 {'image_date': [56], 'image_ratio': [1], 'image_idx': [5]}\n",
      "55 {'image_date': [56], 'image_ratio': [1], 'image_idx': [5]}\n",
      "60 {'image_date': [56], 'image_ratio': [1], 'image_idx': [5]}\n",
      "65 {'image_date': [66], 'image_ratio': [1], 'image_idx': [6]}\n",
      "70 {'image_date': [66], 'image_ratio': [1], 'image_idx': [6]}\n",
      "75 {'image_date': [81], 'image_ratio': [1], 'image_idx': [7]}\n",
      "80 {'image_date': [81], 'image_ratio': [1], 'image_idx': [7]}\n",
      "85 {'image_date': [81], 'image_ratio': [1], 'image_idx': [7]}\n",
      "90 {'image_date': [94], 'image_ratio': [1], 'image_idx': [8]}\n",
      "95 {'image_date': [94], 'image_ratio': [1], 'image_idx': [8]}\n",
      "100 {'image_date': [99], 'image_ratio': [1], 'image_idx': [9]}\n",
      "105 {'image_date': [99], 'image_ratio': [1], 'image_idx': [9]}\n",
      "110 {'image_date': [99, 156], 'image_ratio': [0.8070175438596492, 0.19298245614035087], 'image_idx': [9, 10]}\n",
      "115 {'image_date': [99, 156], 'image_ratio': [0.7192982456140351, 0.2807017543859649], 'image_idx': [9, 10]}\n",
      "120 {'image_date': [99, 156], 'image_ratio': [0.631578947368421, 0.3684210526315789], 'image_idx': [9, 10]}\n",
      "125 {'image_date': [99, 156], 'image_ratio': [0.543859649122807, 0.45614035087719296], 'image_idx': [9, 10]}\n",
      "130 {'image_date': [99, 156], 'image_ratio': [0.45614035087719296, 0.543859649122807], 'image_idx': [9, 10]}\n",
      "135 {'image_date': [99, 156], 'image_ratio': [0.368421052631579, 0.631578947368421], 'image_idx': [9, 10]}\n",
      "140 {'image_date': [99, 156], 'image_ratio': [0.2807017543859649, 0.7192982456140351], 'image_idx': [9, 10]}\n",
      "145 {'image_date': [99, 156], 'image_ratio': [0.19298245614035092, 0.8070175438596491], 'image_idx': [9, 10]}\n",
      "150 {'image_date': [156], 'image_ratio': [1], 'image_idx': [10]}\n",
      "155 {'image_date': [156], 'image_ratio': [1], 'image_idx': [10]}\n",
      "160 {'image_date': [156], 'image_ratio': [1], 'image_idx': [10]}\n",
      "165 {'image_date': [164], 'image_ratio': [1], 'image_idx': [11]}\n",
      "170 {'image_date': [169], 'image_ratio': [1], 'image_idx': [12]}\n",
      "175 {'image_date': [174], 'image_ratio': [1], 'image_idx': [13]}\n",
      "180 {'image_date': [179], 'image_ratio': [1], 'image_idx': [14]}\n",
      "185 {'image_date': [179], 'image_ratio': [1], 'image_idx': [14]}\n",
      "190 {'image_date': [179, 224], 'image_ratio': [0.7555555555555555, 0.24444444444444444], 'image_idx': [14, 15]}\n",
      "195 {'image_date': [179, 224], 'image_ratio': [0.6444444444444444, 0.35555555555555557], 'image_idx': [14, 15]}\n",
      "200 {'image_date': [179, 224], 'image_ratio': [0.5333333333333333, 0.4666666666666667], 'image_idx': [14, 15]}\n",
      "205 {'image_date': [179, 224], 'image_ratio': [0.4222222222222223, 0.5777777777777777], 'image_idx': [14, 15]}\n",
      "210 {'image_date': [179, 224], 'image_ratio': [0.3111111111111111, 0.6888888888888889], 'image_idx': [14, 15]}\n",
      "215 {'image_date': [179, 224], 'image_ratio': [0.19999999999999996, 0.8], 'image_idx': [14, 15]}\n",
      "220 {'image_date': [224], 'image_ratio': [1], 'image_idx': [15]}\n",
      "225 {'image_date': [224], 'image_ratio': [1], 'image_idx': [15]}\n",
      "230 {'image_date': [224], 'image_ratio': [1], 'image_idx': [15]}\n",
      "235 {'image_date': [224, 244], 'image_ratio': [0.44999999999999996, 0.55], 'image_idx': [15, 16]}\n",
      "240 {'image_date': [244], 'image_ratio': [1], 'image_idx': [16]}\n",
      "245 {'image_date': [244], 'image_ratio': [1], 'image_idx': [16]}\n",
      "250 {'image_date': [249], 'image_ratio': [1], 'image_idx': [17]}\n",
      "255 {'image_date': [249], 'image_ratio': [1], 'image_idx': [17]}\n",
      "260 {'image_date': [249, 294], 'image_ratio': [0.7555555555555555, 0.24444444444444444], 'image_idx': [17, 18]}\n",
      "265 {'image_date': [249, 294], 'image_ratio': [0.6444444444444444, 0.35555555555555557], 'image_idx': [17, 18]}\n",
      "270 {'image_date': [249, 294], 'image_ratio': [0.5333333333333333, 0.4666666666666667], 'image_idx': [17, 18]}\n",
      "275 {'image_date': [249, 294], 'image_ratio': [0.4222222222222223, 0.5777777777777777], 'image_idx': [17, 18]}\n",
      "280 {'image_date': [249, 294], 'image_ratio': [0.3111111111111111, 0.6888888888888889], 'image_idx': [17, 18]}\n",
      "285 {'image_date': [249, 294], 'image_ratio': [0.19999999999999996, 0.8], 'image_idx': [17, 18]}\n",
      "290 {'image_date': [294], 'image_ratio': [1], 'image_idx': [18]}\n",
      "295 {'image_date': [294], 'image_ratio': [1], 'image_idx': [18]}\n",
      "300 {'image_date': [294], 'image_ratio': [1], 'image_idx': [18]}\n",
      "305 {'image_date': [294, 336], 'image_ratio': [0.7380952380952381, 0.2619047619047619], 'image_idx': [18, 19]}\n",
      "310 {'image_date': [294, 336], 'image_ratio': [0.6190476190476191, 0.38095238095238093], 'image_idx': [18, 19]}\n",
      "315 {'image_date': [294, 336], 'image_ratio': [0.5, 0.5], 'image_idx': [18, 19]}\n",
      "320 {'image_date': [294, 336], 'image_ratio': [0.38095238095238093, 0.6190476190476191], 'image_idx': [18, 19]}\n",
      "325 {'image_date': [294, 336], 'image_ratio': [0.26190476190476186, 0.7380952380952381], 'image_idx': [18, 19]}\n",
      "330 {'image_date': [336], 'image_ratio': [1], 'image_idx': [19]}\n",
      "335 {'image_date': [336], 'image_ratio': [1], 'image_idx': [19]}\n",
      "340 {'image_date': [341], 'image_ratio': [1], 'image_idx': [20]}\n",
      "345 {'image_date': [346], 'image_ratio': [1], 'image_idx': [21]}\n",
      "350 {'image_date': [346], 'image_ratio': [1], 'image_idx': [21]}\n",
      "355 {'image_date': [359], 'image_ratio': [1], 'image_idx': [22]}\n",
      "(72, 16, 16, 14)\n",
      "There are 0 NA values\n",
      "Saved array of (24, 16, 16, 15) shape to 135787129 \n",
      "\n",
      "Downloading 9/28, 135787140\n",
      "Original cloud image max is 255\n",
      "Cloud_probs shape: (68, 6, 6)\n"
     ]
    },
    {
     "data": {
      "application/vnd.jupyter.widget-view+json": {
       "model_id": "5f547eeabea847099b87a131dfd897d7",
       "version_major": 2,
       "version_minor": 0
      },
      "text/plain": [
       "HBox(children=(IntProgress(value=0, max=27), HTML(value='')))"
      ]
     },
     "metadata": {},
     "output_type": "display_data"
    },
    {
     "name": "stdout",
     "output_type": "stream",
     "text": [
      "\n"
     ]
    },
    {
     "data": {
      "application/vnd.jupyter.widget-view+json": {
       "model_id": "bf25304c772940c0884cbba8c137b5ed",
       "version_major": 2,
       "version_minor": 0
      },
      "text/plain": [
       "HBox(children=(IntProgress(value=0, max=27), HTML(value='')))"
      ]
     },
     "metadata": {},
     "output_type": "display_data"
    },
    {
     "name": "stdout",
     "output_type": "stream",
     "text": [
      "\n",
      "Shadows ((27, 96, 96)) used 0.2 processing units\n",
      "0, Good steps: [-30 -20  -5   0], min dist of 70, and 0.06 thresh\n",
      "1, Good steps: [], min dist of 365, and 0.15 thresh\n",
      "2, Good steps: [70], min dist of 40, and 0.06 thresh\n",
      "3, Good steps: [ 90 110], min dist of 35, and 0.03 thresh\n",
      "4, Good steps: [125], min dist of 35, and 0.03 thresh\n",
      "5, Good steps: [160 175], min dist of 35, and 0.03 thresh\n",
      "6, Good steps: [185 190 195], min dist of 25, and 0.03 thresh\n",
      "7, Good steps: [220], min dist of 25, and 0.15 thresh\n",
      "8, Good steps: [245 265], min dist of 30, and 0.03 thresh\n",
      "9, Good steps: [275], min dist of 50, and 0.03 thresh\n",
      "10, Good steps: [325], min dist of 40, and 0.03 thresh\n",
      "11, Good steps: [360 380], min dist of 35, and 0.03 thresh\n",
      "[ 4  5  7  9 10 14 23]\n",
      "[0.08333333 0.08333333 0.08333333 0.11111111 0.13888889 0.13888889\n",
      " 0.11111111]\n",
      "The cloud-free image dates are [-30, -20, -5, 0, 70, 90, 110, 125, 160, 175, 185, 190, 195, 220, 245, 265, 275, 325, 360, 380]\n",
      "Original 20 meter bands size: (20, 24, 24, 6), using 0.087890625 PU\n",
      "The original L2A image size is: (20, 48, 48, 4)\n",
      "Shadows (20, 96, 96), clouds (20, 96, 96), S2, (20, 48, 48, 10), S2d, (20,)\n",
      "Shadows (20, 96, 96), clouds (20, 96, 96), S2, (20, 48, 48, 10), S2d, (20,)\n",
      "Removing 0 steps based on ratio\n",
      "Interpolated 67 px\n",
      "Removing 2 steps with >50% interpolation\n",
      "uploading ../data/train-raw/135787140.npy to restoration-monitoring as restoration-mapper/model-data/train/raw/135787140.npy\n",
      "Shape after DEM: (18, 16, 16, 11)\n",
      "Maximum time distance: 90\n",
      "0 {'image_date': [0], 'image_ratio': [1], 'image_idx': [3]}\n",
      "5 {'image_date': [0], 'image_ratio': [1], 'image_idx': [3]}\n",
      "10 {'image_date': [0, 90], 'image_ratio': [0.8888888888888888, 0.1111111111111111], 'image_idx': [3, 4]}\n",
      "15 {'image_date': [0, 90], 'image_ratio': [0.8333333333333334, 0.16666666666666666], 'image_idx': [3, 4]}\n",
      "20 {'image_date': [0, 90], 'image_ratio': [0.7777777777777778, 0.2222222222222222], 'image_idx': [3, 4]}\n",
      "25 {'image_date': [0, 90], 'image_ratio': [0.7222222222222222, 0.2777777777777778], 'image_idx': [3, 4]}\n",
      "30 {'image_date': [0, 90], 'image_ratio': [0.6666666666666667, 0.3333333333333333], 'image_idx': [3, 4]}\n",
      "35 {'image_date': [0, 90], 'image_ratio': [0.6111111111111112, 0.3888888888888889], 'image_idx': [3, 4]}\n",
      "40 {'image_date': [0, 90], 'image_ratio': [0.5555555555555556, 0.4444444444444444], 'image_idx': [3, 4]}\n",
      "45 {'image_date': [0, 90], 'image_ratio': [0.5, 0.5], 'image_idx': [3, 4]}\n",
      "50 {'image_date': [0, 90], 'image_ratio': [0.4444444444444444, 0.5555555555555556], 'image_idx': [3, 4]}\n",
      "55 {'image_date': [0, 90], 'image_ratio': [0.38888888888888884, 0.6111111111111112], 'image_idx': [3, 4]}\n",
      "60 {'image_date': [0, 90], 'image_ratio': [0.33333333333333337, 0.6666666666666666], 'image_idx': [3, 4]}\n",
      "65 {'image_date': [0, 90], 'image_ratio': [0.2777777777777778, 0.7222222222222222], 'image_idx': [3, 4]}\n",
      "70 {'image_date': [0, 90], 'image_ratio': [0.2222222222222222, 0.7777777777777778], 'image_idx': [3, 4]}\n",
      "75 {'image_date': [0, 90], 'image_ratio': [0.16666666666666663, 0.8333333333333334], 'image_idx': [3, 4]}\n",
      "80 {'image_date': [0, 90], 'image_ratio': [0.11111111111111116, 0.8888888888888888], 'image_idx': [3, 4]}\n",
      "85 {'image_date': [90], 'image_ratio': [1], 'image_idx': [4]}\n",
      "90 {'image_date': [90], 'image_ratio': [1], 'image_idx': [4]}\n",
      "95 {'image_date': [90], 'image_ratio': [1], 'image_idx': [4]}\n",
      "100 {'image_date': [90, 110], 'image_ratio': [0.5, 0.5], 'image_idx': [4, 5]}\n",
      "105 {'image_date': [110], 'image_ratio': [1], 'image_idx': [5]}\n",
      "110 {'image_date': [110], 'image_ratio': [1], 'image_idx': [5]}\n",
      "115 {'image_date': [110], 'image_ratio': [1], 'image_idx': [5]}\n",
      "120 {'image_date': [125], 'image_ratio': [1], 'image_idx': [6]}\n",
      "125 {'image_date': [125], 'image_ratio': [1], 'image_idx': [6]}\n",
      "130 {'image_date': [125], 'image_ratio': [1], 'image_idx': [6]}\n",
      "135 {'image_date': [125, 160], 'image_ratio': [0.7142857142857143, 0.2857142857142857], 'image_idx': [6, 7]}\n",
      "140 {'image_date': [125, 160], 'image_ratio': [0.5714285714285714, 0.42857142857142855], 'image_idx': [6, 7]}\n",
      "145 {'image_date': [125, 160], 'image_ratio': [0.4285714285714286, 0.5714285714285714], 'image_idx': [6, 7]}\n",
      "150 {'image_date': [125, 160], 'image_ratio': [0.2857142857142857, 0.7142857142857143], 'image_idx': [6, 7]}\n",
      "155 {'image_date': [160], 'image_ratio': [1], 'image_idx': [7]}\n",
      "160 {'image_date': [160], 'image_ratio': [1], 'image_idx': [7]}\n",
      "165 {'image_date': [160], 'image_ratio': [1], 'image_idx': [7]}\n",
      "170 {'image_date': [175], 'image_ratio': [1], 'image_idx': [8]}\n",
      "175 {'image_date': [175], 'image_ratio': [1], 'image_idx': [8]}\n",
      "180 {'image_date': [175], 'image_ratio': [1], 'image_idx': [8]}\n",
      "185 {'image_date': [185], 'image_ratio': [1], 'image_idx': [9]}\n",
      "190 {'image_date': [190], 'image_ratio': [1], 'image_idx': [10]}\n",
      "195 {'image_date': [195], 'image_ratio': [1], 'image_idx': [11]}\n",
      "200 {'image_date': [195], 'image_ratio': [1], 'image_idx': [11]}\n",
      "205 {'image_date': [195, 245], 'image_ratio': [0.8, 0.2], 'image_idx': [11, 12]}\n",
      "210 {'image_date': [195, 245], 'image_ratio': [0.7, 0.3], 'image_idx': [11, 12]}\n",
      "215 {'image_date': [195, 245], 'image_ratio': [0.6, 0.4], 'image_idx': [11, 12]}\n",
      "220 {'image_date': [195, 245], 'image_ratio': [0.5, 0.5], 'image_idx': [11, 12]}\n",
      "225 {'image_date': [195, 245], 'image_ratio': [0.4, 0.6], 'image_idx': [11, 12]}\n",
      "230 {'image_date': [195, 245], 'image_ratio': [0.30000000000000004, 0.7], 'image_idx': [11, 12]}\n",
      "235 {'image_date': [195, 245], 'image_ratio': [0.19999999999999996, 0.8], 'image_idx': [11, 12]}\n",
      "240 {'image_date': [245], 'image_ratio': [1], 'image_idx': [12]}\n",
      "245 {'image_date': [245], 'image_ratio': [1], 'image_idx': [12]}\n",
      "250 {'image_date': [245], 'image_ratio': [1], 'image_idx': [12]}\n",
      "255 {'image_date': [245, 265], 'image_ratio': [0.5, 0.5], 'image_idx': [12, 13]}\n",
      "260 {'image_date': [265], 'image_ratio': [1], 'image_idx': [13]}\n",
      "265 {'image_date': [265], 'image_ratio': [1], 'image_idx': [13]}\n",
      "270 {'image_date': [265], 'image_ratio': [1], 'image_idx': [13]}\n",
      "275 {'image_date': [275], 'image_ratio': [1], 'image_idx': [14]}\n",
      "280 {'image_date': [275], 'image_ratio': [1], 'image_idx': [14]}\n",
      "285 {'image_date': [275, 325], 'image_ratio': [0.8, 0.2], 'image_idx': [14, 15]}\n",
      "290 {'image_date': [275, 325], 'image_ratio': [0.7, 0.3], 'image_idx': [14, 15]}\n",
      "295 {'image_date': [275, 325], 'image_ratio': [0.6, 0.4], 'image_idx': [14, 15]}\n",
      "300 {'image_date': [275, 325], 'image_ratio': [0.5, 0.5], 'image_idx': [14, 15]}\n",
      "305 {'image_date': [275, 325], 'image_ratio': [0.4, 0.6], 'image_idx': [14, 15]}\n",
      "310 {'image_date': [275, 325], 'image_ratio': [0.30000000000000004, 0.7], 'image_idx': [14, 15]}\n",
      "315 {'image_date': [275, 325], 'image_ratio': [0.19999999999999996, 0.8], 'image_idx': [14, 15]}\n",
      "320 {'image_date': [325], 'image_ratio': [1], 'image_idx': [15]}\n",
      "325 {'image_date': [325], 'image_ratio': [1], 'image_idx': [15]}\n",
      "330 {'image_date': [325], 'image_ratio': [1], 'image_idx': [15]}\n",
      "335 {'image_date': [325, 360], 'image_ratio': [0.7142857142857143, 0.2857142857142857], 'image_idx': [15, 16]}\n",
      "340 {'image_date': [325, 360], 'image_ratio': [0.5714285714285714, 0.42857142857142855], 'image_idx': [15, 16]}\n",
      "345 {'image_date': [325, 360], 'image_ratio': [0.4285714285714286, 0.5714285714285714], 'image_idx': [15, 16]}\n",
      "350 {'image_date': [325, 360], 'image_ratio': [0.2857142857142857, 0.7142857142857143], 'image_idx': [15, 16]}\n",
      "355 {'image_date': [360], 'image_ratio': [1], 'image_idx': [16]}\n",
      "(72, 16, 16, 14)\n",
      "There are 0 NA values\n",
      "Saved array of (24, 16, 16, 15) shape to 135787140 \n",
      "\n",
      "Downloading 10/28, 135787141\n",
      "Original cloud image max is 255\n",
      "Cloud_probs shape: (64, 6, 6)\n"
     ]
    },
    {
     "data": {
      "application/vnd.jupyter.widget-view+json": {
       "model_id": "eb49acf985ad494e95dfe34ad61940e5",
       "version_major": 2,
       "version_minor": 0
      },
      "text/plain": [
       "HBox(children=(IntProgress(value=0, max=25), HTML(value='')))"
      ]
     },
     "metadata": {},
     "output_type": "display_data"
    },
    {
     "name": "stdout",
     "output_type": "stream",
     "text": [
      "\n"
     ]
    },
    {
     "data": {
      "application/vnd.jupyter.widget-view+json": {
       "model_id": "e20f05ae06a04e5393976a55d329d02f",
       "version_major": 2,
       "version_minor": 0
      },
      "text/plain": [
       "HBox(children=(IntProgress(value=0, max=25), HTML(value='')))"
      ]
     },
     "metadata": {},
     "output_type": "display_data"
    },
    {
     "name": "stdout",
     "output_type": "stream",
     "text": [
      "\n",
      "Shadows ((25, 96, 96)) used 0.2 processing units\n",
      "0, Good steps: [-29  -9  -4  21], min dist of 25, and 0.01 thresh\n",
      "1, Good steps: [46 51], min dist of 45, and 0.03 thresh\n",
      "2, Good steps: [], min dist of 365, and 0.15 thresh\n",
      "3, Good steps: [ 96 101 111], min dist of 45, and 0.03 thresh\n",
      "4, Good steps: [126 131 141], min dist of 30, and 0.03 thresh\n",
      "5, Good steps: [156 176], min dist of 70, and 0.06 thresh\n",
      "6, Good steps: [], min dist of 365, and 0.15 thresh\n",
      "7, Good steps: [226 236], min dist of 50, and 0.03 thresh\n",
      "8, Good steps: [246], min dist of 15, and 0.01 thresh\n",
      "9, Good steps: [], min dist of 365, and 0.15 thresh\n",
      "10, Good steps: [316 331], min dist of 55, and 0.03 thresh\n",
      "11, Good steps: [361 376], min dist of 15, and 0.01 thresh\n",
      "[13 14 19 20]\n",
      "[0.16666667 0.08333333 0.02777778 0.16666667]\n",
      "The cloud-free image dates are [-29, -9, -4, 21, 46, 51, 96, 101, 111, 126, 131, 141, 156, 176, 226, 236, 246, 316, 331, 361, 376]\n",
      "Original 20 meter bands size: (21, 24, 24, 6), using 0.09228515625 PU\n",
      "The original L2A image size is: (21, 48, 48, 4)\n",
      "Shadows (21, 96, 96), clouds (21, 96, 96), S2, (21, 48, 48, 10), S2d, (21,)\n",
      "Shadows (21, 96, 96), clouds (21, 96, 96), S2, (21, 48, 48, 10), S2d, (21,)\n",
      "Removing 0 steps based on ratio\n",
      "Interpolated 122 px\n",
      "Removing 3 steps with >50% interpolation\n",
      "uploading ../data/train-raw/135787141.npy to restoration-monitoring as restoration-mapper/model-data/train/raw/135787141.npy\n",
      "Shape after DEM: (18, 16, 16, 11)\n",
      "Maximum time distance: 85\n",
      "0 {'image_date': [-4], 'image_ratio': [1], 'image_idx': [2]}\n",
      "5 {'image_date': [-4, 21], 'image_ratio': [0.64, 0.36], 'image_idx': [2, 3]}\n",
      "10 {'image_date': [-4, 21], 'image_ratio': [0.43999999999999995, 0.56], 'image_idx': [2, 3]}\n",
      "15 {'image_date': [21], 'image_ratio': [1], 'image_idx': [3]}\n",
      "20 {'image_date': [21], 'image_ratio': [1], 'image_idx': [3]}\n",
      "25 {'image_date': [21], 'image_ratio': [1], 'image_idx': [3]}\n",
      "30 {'image_date': [21, 46], 'image_ratio': [0.64, 0.36], 'image_idx': [3, 4]}\n",
      "35 {'image_date': [21, 46], 'image_ratio': [0.43999999999999995, 0.56], 'image_idx': [3, 4]}\n",
      "40 {'image_date': [46], 'image_ratio': [1], 'image_idx': [4]}\n",
      "45 {'image_date': [46], 'image_ratio': [1], 'image_idx': [4]}\n",
      "50 {'image_date': [51], 'image_ratio': [1], 'image_idx': [5]}\n",
      "55 {'image_date': [51], 'image_ratio': [1], 'image_idx': [5]}\n",
      "60 {'image_date': [51, 96], 'image_ratio': [0.8, 0.2], 'image_idx': [5, 6]}\n",
      "65 {'image_date': [51, 96], 'image_ratio': [0.6888888888888889, 0.3111111111111111], 'image_idx': [5, 6]}\n",
      "70 {'image_date': [51, 96], 'image_ratio': [0.5777777777777777, 0.4222222222222222], 'image_idx': [5, 6]}\n",
      "75 {'image_date': [51, 96], 'image_ratio': [0.4666666666666667, 0.5333333333333333], 'image_idx': [5, 6]}\n",
      "80 {'image_date': [51, 96], 'image_ratio': [0.3555555555555555, 0.6444444444444445], 'image_idx': [5, 6]}\n",
      "85 {'image_date': [51, 96], 'image_ratio': [0.24444444444444446, 0.7555555555555555], 'image_idx': [5, 6]}\n",
      "90 {'image_date': [96], 'image_ratio': [1], 'image_idx': [6]}\n",
      "95 {'image_date': [96], 'image_ratio': [1], 'image_idx': [6]}\n",
      "100 {'image_date': [101], 'image_ratio': [1], 'image_idx': [7]}\n",
      "105 {'image_date': [101], 'image_ratio': [1], 'image_idx': [7]}\n",
      "110 {'image_date': [111], 'image_ratio': [1], 'image_idx': [8]}\n",
      "115 {'image_date': [111], 'image_ratio': [1], 'image_idx': [8]}\n",
      "120 {'image_date': [111, 131], 'image_ratio': [0.55, 0.45], 'image_idx': [8, 9]}\n",
      "125 {'image_date': [131], 'image_ratio': [1], 'image_idx': [9]}\n",
      "130 {'image_date': [131], 'image_ratio': [1], 'image_idx': [9]}\n",
      "135 {'image_date': [131], 'image_ratio': [1], 'image_idx': [9]}\n",
      "140 {'image_date': [141], 'image_ratio': [1], 'image_idx': [10]}\n",
      "145 {'image_date': [141], 'image_ratio': [1], 'image_idx': [10]}\n",
      "150 {'image_date': [156], 'image_ratio': [1], 'image_idx': [11]}\n",
      "155 {'image_date': [156], 'image_ratio': [1], 'image_idx': [11]}\n",
      "160 {'image_date': [156], 'image_ratio': [1], 'image_idx': [11]}\n",
      "165 {'image_date': [156, 176], 'image_ratio': [0.55, 0.45], 'image_idx': [11, 12]}\n",
      "170 {'image_date': [176], 'image_ratio': [1], 'image_idx': [12]}\n",
      "175 {'image_date': [176], 'image_ratio': [1], 'image_idx': [12]}\n",
      "180 {'image_date': [176], 'image_ratio': [1], 'image_idx': [12]}\n",
      "185 {'image_date': [176, 236], 'image_ratio': [0.85, 0.15], 'image_idx': [12, 13]}\n",
      "190 {'image_date': [176, 236], 'image_ratio': [0.7666666666666666, 0.23333333333333334], 'image_idx': [12, 13]}\n",
      "195 {'image_date': [176, 236], 'image_ratio': [0.6833333333333333, 0.31666666666666665], 'image_idx': [12, 13]}\n",
      "200 {'image_date': [176, 236], 'image_ratio': [0.6, 0.4], 'image_idx': [12, 13]}\n",
      "205 {'image_date': [176, 236], 'image_ratio': [0.5166666666666666, 0.48333333333333334], 'image_idx': [12, 13]}\n",
      "210 {'image_date': [176, 236], 'image_ratio': [0.43333333333333335, 0.5666666666666667], 'image_idx': [12, 13]}\n",
      "215 {'image_date': [176, 236], 'image_ratio': [0.35, 0.65], 'image_idx': [12, 13]}\n",
      "220 {'image_date': [176, 236], 'image_ratio': [0.2666666666666667, 0.7333333333333333], 'image_idx': [12, 13]}\n",
      "225 {'image_date': [176, 236], 'image_ratio': [0.18333333333333335, 0.8166666666666667], 'image_idx': [12, 13]}\n",
      "230 {'image_date': [236], 'image_ratio': [1], 'image_idx': [13]}\n",
      "235 {'image_date': [236], 'image_ratio': [1], 'image_idx': [13]}\n",
      "240 {'image_date': [236], 'image_ratio': [1], 'image_idx': [13]}\n",
      "245 {'image_date': [246], 'image_ratio': [1], 'image_idx': [14]}\n",
      "250 {'image_date': [246], 'image_ratio': [1], 'image_idx': [14]}\n",
      "255 {'image_date': [246, 331], 'image_ratio': [0.8941176470588236, 0.10588235294117647], 'image_idx': [14, 15]}\n",
      "260 {'image_date': [246, 331], 'image_ratio': [0.8352941176470589, 0.16470588235294117], 'image_idx': [14, 15]}\n",
      "265 {'image_date': [246, 331], 'image_ratio': [0.7764705882352941, 0.2235294117647059], 'image_idx': [14, 15]}\n",
      "270 {'image_date': [246, 331], 'image_ratio': [0.7176470588235294, 0.2823529411764706], 'image_idx': [14, 15]}\n",
      "275 {'image_date': [246, 331], 'image_ratio': [0.6588235294117647, 0.3411764705882353], 'image_idx': [14, 15]}\n",
      "280 {'image_date': [246, 331], 'image_ratio': [0.6, 0.4], 'image_idx': [14, 15]}\n",
      "285 {'image_date': [246, 331], 'image_ratio': [0.5411764705882354, 0.4588235294117647], 'image_idx': [14, 15]}\n",
      "290 {'image_date': [246, 331], 'image_ratio': [0.48235294117647054, 0.5176470588235295], 'image_idx': [14, 15]}\n",
      "295 {'image_date': [246, 331], 'image_ratio': [0.42352941176470593, 0.5764705882352941], 'image_idx': [14, 15]}\n",
      "300 {'image_date': [246, 331], 'image_ratio': [0.3647058823529412, 0.6352941176470588], 'image_idx': [14, 15]}\n",
      "305 {'image_date': [246, 331], 'image_ratio': [0.3058823529411765, 0.6941176470588235], 'image_idx': [14, 15]}\n",
      "310 {'image_date': [246, 331], 'image_ratio': [0.24705882352941178, 0.7529411764705882], 'image_idx': [14, 15]}\n",
      "315 {'image_date': [246, 331], 'image_ratio': [0.18823529411764706, 0.8117647058823529], 'image_idx': [14, 15]}\n",
      "320 {'image_date': [246, 331], 'image_ratio': [0.12941176470588234, 0.8705882352941177], 'image_idx': [14, 15]}\n",
      "325 {'image_date': [331], 'image_ratio': [1], 'image_idx': [15]}\n",
      "330 {'image_date': [331], 'image_ratio': [1], 'image_idx': [15]}\n",
      "335 {'image_date': [331], 'image_ratio': [1], 'image_idx': [15]}\n",
      "340 {'image_date': [331, 361], 'image_ratio': [0.7, 0.3], 'image_idx': [15, 16]}\n",
      "345 {'image_date': [331, 361], 'image_ratio': [0.5333333333333333, 0.4666666666666667], 'image_idx': [15, 16]}\n",
      "350 {'image_date': [331, 361], 'image_ratio': [0.3666666666666667, 0.6333333333333333], 'image_idx': [15, 16]}\n",
      "355 {'image_date': [361], 'image_ratio': [1], 'image_idx': [16]}\n",
      "(72, 16, 16, 14)\n",
      "There are 0 NA values\n",
      "Saved array of (24, 16, 16, 15) shape to 135787141 \n",
      "\n",
      "Downloading 11/28, 135787144\n",
      "Original cloud image max is 255\n",
      "Cloud_probs shape: (77, 6, 6)\n"
     ]
    },
    {
     "data": {
      "application/vnd.jupyter.widget-view+json": {
       "model_id": "9c6759bc400e4b028919aed8f9a8e3b7",
       "version_major": 2,
       "version_minor": 0
      },
      "text/plain": [
       "HBox(children=(IntProgress(value=0, max=50), HTML(value='')))"
      ]
     },
     "metadata": {},
     "output_type": "display_data"
    },
    {
     "name": "stdout",
     "output_type": "stream",
     "text": [
      "\n"
     ]
    },
    {
     "data": {
      "application/vnd.jupyter.widget-view+json": {
       "model_id": "16c6fdd1c267414db2f28e2d41850f6e",
       "version_major": 2,
       "version_minor": 0
      },
      "text/plain": [
       "HBox(children=(IntProgress(value=0, max=50), HTML(value='')))"
      ]
     },
     "metadata": {},
     "output_type": "display_data"
    },
    {
     "name": "stdout",
     "output_type": "stream",
     "text": [
      "\n",
      "Shadows ((50, 96, 96)) used 0.4 processing units\n",
      "0, Good steps: [ 4 14 24 29], min dist of 5, and 0.01 thresh\n",
      "1, Good steps: [34 49 54], min dist of 20, and 0.01 thresh\n",
      "2, Good steps: [59 64 69 84 89], min dist of 30, and 0.03 thresh\n",
      "3, Good steps: [ 94  99 104 114], min dist of 20, and 0.01 thresh\n",
      "4, Good steps: [124 129 139], min dist of 40, and 0.03 thresh\n",
      "5, Good steps: [157 179], min dist of 22, and 0.01 thresh\n",
      "6, Good steps: [184 189 209], min dist of 35, and 0.03 thresh\n",
      "7, Good steps: [214], min dist of 48, and 0.03 thresh\n",
      "8, Good steps: [244], min dist of 58, and 0.03 thresh\n",
      "9, Good steps: [292 302], min dist of 30, and 0.03 thresh\n",
      "10, Good steps: [324 332], min dist of 10, and 0.01 thresh\n",
      "11, Good steps: [337 342 347 357], min dist of 5, and 0.01 thresh\n",
      "[ 0  1  2  3  5 10 16 17 31 35 44 45 46 47 48 49]\n",
      "[0.         0.         0.         0.         0.02777778 0.05555556\n",
      " 0.08333333 0.19444444 0.11111111 0.05555556 0.         0.05555556\n",
      " 0.         0.         0.         0.        ]\n",
      "The cloud-free image dates are [4, 14, 24, 29, 34, 49, 54, 59, 64, 69, 84, 89, 94, 99, 104, 114, 124, 129, 139, 157, 179, 184, 189, 209, 214, 244, 324, 332]\n",
      "Original 20 meter bands size: (28, 24, 24, 6), using 0.123046875 PU\n",
      "The original L2A image size is: (28, 48, 48, 4)\n",
      "Shadows (34, 96, 96), clouds (34, 96, 96), S2, (28, 48, 48, 10), S2d, (28,)\n",
      "Shadows (28, 96, 96), clouds (28, 96, 96), S2, (28, 48, 48, 10), S2d, (28,)\n",
      "Removing 0 steps based on ratio\n",
      "Interpolated 13 px\n",
      "Removing 1 steps with >50% interpolation\n",
      "uploading ../data/train-raw/135787144.npy to restoration-monitoring as restoration-mapper/model-data/train/raw/135787144.npy\n",
      "Shape after DEM: (27, 16, 16, 11)\n",
      "Maximum time distance: 88\n",
      "0 {'image_date': [4], 'image_ratio': [1], 'image_idx': [0]}\n",
      "5 {'image_date': [4], 'image_ratio': [1], 'image_idx': [0]}\n",
      "10 {'image_date': [14], 'image_ratio': [1], 'image_idx': [1]}\n",
      "15 {'image_date': [14], 'image_ratio': [1], 'image_idx': [1]}\n",
      "20 {'image_date': [24], 'image_ratio': [1], 'image_idx': [2]}\n",
      "25 {'image_date': [24], 'image_ratio': [1], 'image_idx': [2]}\n",
      "30 {'image_date': [29], 'image_ratio': [1], 'image_idx': [3]}\n",
      "35 {'image_date': [34], 'image_ratio': [1], 'image_idx': [4]}\n",
      "40 {'image_date': [34], 'image_ratio': [1], 'image_idx': [4]}\n",
      "45 {'image_date': [49], 'image_ratio': [1], 'image_idx': [5]}\n",
      "50 {'image_date': [49], 'image_ratio': [1], 'image_idx': [5]}\n",
      "55 {'image_date': [54], 'image_ratio': [1], 'image_idx': [6]}\n",
      "60 {'image_date': [59], 'image_ratio': [1], 'image_idx': [7]}\n",
      "65 {'image_date': [64], 'image_ratio': [1], 'image_idx': [8]}\n",
      "70 {'image_date': [69], 'image_ratio': [1], 'image_idx': [9]}\n",
      "75 {'image_date': [69], 'image_ratio': [1], 'image_idx': [9]}\n",
      "80 {'image_date': [84], 'image_ratio': [1], 'image_idx': [10]}\n",
      "85 {'image_date': [84], 'image_ratio': [1], 'image_idx': [10]}\n",
      "90 {'image_date': [89], 'image_ratio': [1], 'image_idx': [11]}\n",
      "95 {'image_date': [94], 'image_ratio': [1], 'image_idx': [12]}\n",
      "100 {'image_date': [99], 'image_ratio': [1], 'image_idx': [13]}\n",
      "105 {'image_date': [104], 'image_ratio': [1], 'image_idx': [14]}\n",
      "110 {'image_date': [114], 'image_ratio': [1], 'image_idx': [15]}\n",
      "115 {'image_date': [114], 'image_ratio': [1], 'image_idx': [15]}\n",
      "120 {'image_date': [124], 'image_ratio': [1], 'image_idx': [16]}\n",
      "125 {'image_date': [124], 'image_ratio': [1], 'image_idx': [16]}\n",
      "130 {'image_date': [129], 'image_ratio': [1], 'image_idx': [17]}\n",
      "135 {'image_date': [139], 'image_ratio': [1], 'image_idx': [18]}\n",
      "140 {'image_date': [139], 'image_ratio': [1], 'image_idx': [18]}\n",
      "145 {'image_date': [139], 'image_ratio': [1], 'image_idx': [18]}\n",
      "150 {'image_date': [157], 'image_ratio': [1], 'image_idx': [19]}\n",
      "155 {'image_date': [157], 'image_ratio': [1], 'image_idx': [19]}\n",
      "160 {'image_date': [157], 'image_ratio': [1], 'image_idx': [19]}\n",
      "165 {'image_date': [157, 179], 'image_ratio': [0.6363636363636364, 0.36363636363636365], 'image_idx': [19, 20]}\n",
      "170 {'image_date': [157, 179], 'image_ratio': [0.40909090909090906, 0.5909090909090909], 'image_idx': [19, 20]}\n",
      "175 {'image_date': [179], 'image_ratio': [1], 'image_idx': [20]}\n",
      "180 {'image_date': [179], 'image_ratio': [1], 'image_idx': [20]}\n",
      "185 {'image_date': [184], 'image_ratio': [1], 'image_idx': [21]}\n",
      "190 {'image_date': [189], 'image_ratio': [1], 'image_idx': [22]}\n",
      "195 {'image_date': [189], 'image_ratio': [1], 'image_idx': [22]}\n",
      "200 {'image_date': [189, 209], 'image_ratio': [0.44999999999999996, 0.55], 'image_idx': [22, 23]}\n",
      "205 {'image_date': [209], 'image_ratio': [1], 'image_idx': [23]}\n",
      "210 {'image_date': [209], 'image_ratio': [1], 'image_idx': [23]}\n",
      "215 {'image_date': [214], 'image_ratio': [1], 'image_idx': [24]}\n",
      "220 {'image_date': [214], 'image_ratio': [1], 'image_idx': [24]}\n",
      "225 {'image_date': [214, 244], 'image_ratio': [0.6333333333333333, 0.36666666666666664], 'image_idx': [24, 25]}\n",
      "230 {'image_date': [214, 244], 'image_ratio': [0.4666666666666667, 0.5333333333333333], 'image_idx': [24, 25]}\n",
      "235 {'image_date': [214, 244], 'image_ratio': [0.30000000000000004, 0.7], 'image_idx': [24, 25]}\n",
      "240 {'image_date': [244], 'image_ratio': [1], 'image_idx': [25]}\n",
      "245 {'image_date': [244], 'image_ratio': [1], 'image_idx': [25]}\n",
      "250 {'image_date': [244], 'image_ratio': [1], 'image_idx': [25]}\n",
      "255 {'image_date': [244, 332], 'image_ratio': [0.875, 0.125], 'image_idx': [25, 26]}\n",
      "260 {'image_date': [244, 332], 'image_ratio': [0.8181818181818181, 0.18181818181818182], 'image_idx': [25, 26]}\n",
      "265 {'image_date': [244, 332], 'image_ratio': [0.7613636363636364, 0.23863636363636365], 'image_idx': [25, 26]}\n",
      "270 {'image_date': [244, 332], 'image_ratio': [0.7045454545454546, 0.29545454545454547], 'image_idx': [25, 26]}\n",
      "275 {'image_date': [244, 332], 'image_ratio': [0.6477272727272727, 0.3522727272727273], 'image_idx': [25, 26]}\n",
      "280 {'image_date': [244, 332], 'image_ratio': [0.5909090909090908, 0.4090909090909091], 'image_idx': [25, 26]}\n",
      "285 {'image_date': [244, 332], 'image_ratio': [0.5340909090909092, 0.4659090909090909], 'image_idx': [25, 26]}\n",
      "290 {'image_date': [244, 332], 'image_ratio': [0.4772727272727273, 0.5227272727272727], 'image_idx': [25, 26]}\n",
      "295 {'image_date': [244, 332], 'image_ratio': [0.4204545454545454, 0.5795454545454546], 'image_idx': [25, 26]}\n",
      "300 {'image_date': [244, 332], 'image_ratio': [0.36363636363636365, 0.6363636363636364], 'image_idx': [25, 26]}\n",
      "305 {'image_date': [244, 332], 'image_ratio': [0.30681818181818177, 0.6931818181818182], 'image_idx': [25, 26]}\n",
      "310 {'image_date': [244, 332], 'image_ratio': [0.25, 0.75], 'image_idx': [25, 26]}\n",
      "315 {'image_date': [244, 332], 'image_ratio': [0.19318181818181823, 0.8068181818181818], 'image_idx': [25, 26]}\n",
      "320 {'image_date': [244, 332], 'image_ratio': [0.13636363636363635, 0.8636363636363636], 'image_idx': [25, 26]}\n",
      "325 {'image_date': [332], 'image_ratio': [1], 'image_idx': [26]}\n",
      "330 {'image_date': [332], 'image_ratio': [1], 'image_idx': [26]}\n",
      "335 {'image_date': [332], 'image_ratio': [1], 'image_idx': [26]}\n",
      "340 {'image_date': [332, 332], 'image_ratio': [0.5, 0.5], 'image_idx': [26, 26]}\n",
      "345 {'image_date': [332, 332], 'image_ratio': [0.5, 0.5], 'image_idx': [26, 26]}\n",
      "350 {'image_date': [332, 332], 'image_ratio': [0.5, 0.5], 'image_idx': [26, 26]}\n",
      "355 {'image_date': [332, 332], 'image_ratio': [0.5, 0.5], 'image_idx': [26, 26]}\n",
      "(72, 16, 16, 14)\n",
      "There are 0 NA values\n",
      "Saved array of (24, 16, 16, 15) shape to 135787144 \n",
      "\n",
      "Downloading 12/28, 135787151\n",
      "Original cloud image max is 255\n",
      "Cloud_probs shape: (57, 6, 6)\n"
     ]
    },
    {
     "data": {
      "application/vnd.jupyter.widget-view+json": {
       "model_id": "24255988756c4dcc9e00565b8a83dc6f",
       "version_major": 2,
       "version_minor": 0
      },
      "text/plain": [
       "HBox(children=(IntProgress(value=0, max=25), HTML(value='')))"
      ]
     },
     "metadata": {},
     "output_type": "display_data"
    },
    {
     "name": "stdout",
     "output_type": "stream",
     "text": [
      "\n"
     ]
    },
    {
     "data": {
      "application/vnd.jupyter.widget-view+json": {
       "model_id": "8031b9725bfb49b795ee21df74764b54",
       "version_major": 2,
       "version_minor": 0
      },
      "text/plain": [
       "HBox(children=(IntProgress(value=0, max=25), HTML(value='')))"
      ]
     },
     "metadata": {},
     "output_type": "display_data"
    },
    {
     "name": "stdout",
     "output_type": "stream",
     "text": [
      "\n",
      "Shadows ((25, 96, 96)) used 0.2 processing units\n",
      "0, Good steps: [], min dist of 365, and 0.15 thresh\n",
      "1, Good steps: [34 54], min dist of 5, and 0.01 thresh\n",
      "2, Good steps: [59 69 84], min dist of 25, and 0.01 thresh\n",
      "3, Good steps: [ 94 109], min dist of 30, and 0.03 thresh\n",
      "4, Good steps: [129 139], min dist of 35, and 0.03 thresh\n",
      "5, Good steps: [159 174], min dist of 40, and 0.03 thresh\n",
      "6, Good steps: [189], min dist of 35, and 0.06 thresh\n",
      "7, Good steps: [214 224 229 239], min dist of 25, and 0.01 thresh\n",
      "8, Good steps: [244 259], min dist of 85, and 0.06 thresh\n",
      "9, Good steps: [279], min dist of 80, and 0.06 thresh\n",
      "10, Good steps: [], min dist of 365, and 0.15 thresh\n",
      "11, Good steps: [344 359], min dist of 15, and 0.01 thresh\n",
      "[ 5  8 22 24]\n",
      "[0.08333333 0.36111111 0.22222222 0.19444444]\n",
      "The cloud-free image dates are [34, 54, 59, 69, 84, 94, 109, 129, 139, 159, 174, 189, 214, 224, 229, 239, 244, 259, 279, 344, 359]\n",
      "Original 20 meter bands size: (21, 24, 24, 6), using 0.09228515625 PU\n",
      "The original L2A image size is: (21, 48, 48, 4)\n",
      "Shadows (21, 96, 96), clouds (21, 96, 96), S2, (21, 48, 48, 10), S2d, (21,)\n",
      "Shadows (21, 96, 96), clouds (21, 96, 96), S2, (21, 48, 48, 10), S2d, (21,)\n",
      "Removing 0 steps based on ratio\n",
      "Interpolated 32 px\n",
      "Removing 2 steps with >50% interpolation\n",
      "uploading ../data/train-raw/135787151.npy to restoration-monitoring as restoration-mapper/model-data/train/raw/135787151.npy\n",
      "29455 %\n",
      "29485 %\n",
      "29525 %\n",
      "Shape after DEM: (19, 16, 16, 11)\n",
      "Maximum time distance: 65\n",
      "0 {'image_date': [34, 34], 'image_ratio': [0.5, 0.5], 'image_idx': [0, 0]}\n",
      "5 {'image_date': [34, 34], 'image_ratio': [0.5, 0.5], 'image_idx': [0, 0]}\n",
      "10 {'image_date': [34, 34], 'image_ratio': [0.5, 0.5], 'image_idx': [0, 0]}\n",
      "15 {'image_date': [34, 34], 'image_ratio': [0.5, 0.5], 'image_idx': [0, 0]}\n",
      "20 {'image_date': [34, 34], 'image_ratio': [0.5, 0.5], 'image_idx': [0, 0]}\n",
      "25 {'image_date': [34, 34], 'image_ratio': [0.5, 0.5], 'image_idx': [0, 0]}\n",
      "30 {'image_date': [34], 'image_ratio': [1], 'image_idx': [0]}\n",
      "35 {'image_date': [34], 'image_ratio': [1], 'image_idx': [0]}\n",
      "40 {'image_date': [34], 'image_ratio': [1], 'image_idx': [0]}\n",
      "45 {'image_date': [34, 54], 'image_ratio': [0.44999999999999996, 0.55], 'image_idx': [0, 1]}\n",
      "50 {'image_date': [54], 'image_ratio': [1], 'image_idx': [1]}\n",
      "55 {'image_date': [54], 'image_ratio': [1], 'image_idx': [1]}\n",
      "60 {'image_date': [59], 'image_ratio': [1], 'image_idx': [2]}\n",
      "65 {'image_date': [69], 'image_ratio': [1], 'image_idx': [3]}\n",
      "70 {'image_date': [69], 'image_ratio': [1], 'image_idx': [3]}\n",
      "75 {'image_date': [69], 'image_ratio': [1], 'image_idx': [3]}\n",
      "80 {'image_date': [84], 'image_ratio': [1], 'image_idx': [4]}\n",
      "85 {'image_date': [84], 'image_ratio': [1], 'image_idx': [4]}\n",
      "90 {'image_date': [84], 'image_ratio': [1], 'image_idx': [4]}\n",
      "95 {'image_date': [84, 109], 'image_ratio': [0.56, 0.44], 'image_idx': [4, 5]}\n",
      "100 {'image_date': [84, 109], 'image_ratio': [0.36, 0.64], 'image_idx': [4, 5]}\n",
      "105 {'image_date': [109], 'image_ratio': [1], 'image_idx': [5]}\n",
      "110 {'image_date': [109], 'image_ratio': [1], 'image_idx': [5]}\n",
      "115 {'image_date': [109], 'image_ratio': [1], 'image_idx': [5]}\n",
      "120 {'image_date': [109, 139], 'image_ratio': [0.6333333333333333, 0.36666666666666664], 'image_idx': [5, 6]}\n",
      "125 {'image_date': [109, 139], 'image_ratio': [0.4666666666666667, 0.5333333333333333], 'image_idx': [5, 6]}\n",
      "130 {'image_date': [109, 139], 'image_ratio': [0.30000000000000004, 0.7], 'image_idx': [5, 6]}\n",
      "135 {'image_date': [139], 'image_ratio': [1], 'image_idx': [6]}\n",
      "140 {'image_date': [139], 'image_ratio': [1], 'image_idx': [6]}\n",
      "145 {'image_date': [139], 'image_ratio': [1], 'image_idx': [6]}\n",
      "150 {'image_date': [139, 159], 'image_ratio': [0.44999999999999996, 0.55], 'image_idx': [6, 7]}\n",
      "155 {'image_date': [159], 'image_ratio': [1], 'image_idx': [7]}\n",
      "160 {'image_date': [159], 'image_ratio': [1], 'image_idx': [7]}\n",
      "165 {'image_date': [159], 'image_ratio': [1], 'image_idx': [7]}\n",
      "170 {'image_date': [174], 'image_ratio': [1], 'image_idx': [8]}\n",
      "175 {'image_date': [174], 'image_ratio': [1], 'image_idx': [8]}\n",
      "180 {'image_date': [174], 'image_ratio': [1], 'image_idx': [8]}\n",
      "185 {'image_date': [189], 'image_ratio': [1], 'image_idx': [9]}\n",
      "190 {'image_date': [189], 'image_ratio': [1], 'image_idx': [9]}\n",
      "195 {'image_date': [189], 'image_ratio': [1], 'image_idx': [9]}\n",
      "200 {'image_date': [189, 214], 'image_ratio': [0.56, 0.44], 'image_idx': [9, 10]}\n",
      "205 {'image_date': [189, 214], 'image_ratio': [0.36, 0.64], 'image_idx': [9, 10]}\n",
      "210 {'image_date': [214], 'image_ratio': [1], 'image_idx': [10]}\n",
      "215 {'image_date': [214], 'image_ratio': [1], 'image_idx': [10]}\n",
      "220 {'image_date': [224], 'image_ratio': [1], 'image_idx': [11]}\n",
      "225 {'image_date': [224], 'image_ratio': [1], 'image_idx': [11]}\n",
      "230 {'image_date': [229], 'image_ratio': [1], 'image_idx': [12]}\n",
      "235 {'image_date': [239], 'image_ratio': [1], 'image_idx': [13]}\n",
      "240 {'image_date': [239], 'image_ratio': [1], 'image_idx': [13]}\n",
      "245 {'image_date': [244], 'image_ratio': [1], 'image_idx': [14]}\n",
      "250 {'image_date': [244], 'image_ratio': [1], 'image_idx': [14]}\n",
      "255 {'image_date': [259], 'image_ratio': [1], 'image_idx': [15]}\n",
      "260 {'image_date': [259], 'image_ratio': [1], 'image_idx': [15]}\n",
      "265 {'image_date': [259], 'image_ratio': [1], 'image_idx': [15]}\n",
      "270 {'image_date': [259, 279], 'image_ratio': [0.44999999999999996, 0.55], 'image_idx': [15, 16]}\n",
      "275 {'image_date': [279], 'image_ratio': [1], 'image_idx': [16]}\n",
      "280 {'image_date': [279], 'image_ratio': [1], 'image_idx': [16]}\n",
      "285 {'image_date': [279], 'image_ratio': [1], 'image_idx': [16]}\n",
      "290 {'image_date': [279, 344], 'image_ratio': [0.8307692307692307, 0.16923076923076924], 'image_idx': [16, 17]}\n",
      "295 {'image_date': [279, 344], 'image_ratio': [0.7538461538461538, 0.24615384615384617], 'image_idx': [16, 17]}\n",
      "300 {'image_date': [279, 344], 'image_ratio': [0.676923076923077, 0.3230769230769231], 'image_idx': [16, 17]}\n",
      "305 {'image_date': [279, 344], 'image_ratio': [0.6, 0.4], 'image_idx': [16, 17]}\n",
      "310 {'image_date': [279, 344], 'image_ratio': [0.523076923076923, 0.47692307692307695], 'image_idx': [16, 17]}\n",
      "315 {'image_date': [279, 344], 'image_ratio': [0.4461538461538461, 0.5538461538461539], 'image_idx': [16, 17]}\n",
      "320 {'image_date': [279, 344], 'image_ratio': [0.36923076923076925, 0.6307692307692307], 'image_idx': [16, 17]}\n",
      "325 {'image_date': [279, 344], 'image_ratio': [0.29230769230769227, 0.7076923076923077], 'image_idx': [16, 17]}\n",
      "330 {'image_date': [279, 344], 'image_ratio': [0.2153846153846154, 0.7846153846153846], 'image_idx': [16, 17]}\n",
      "335 {'image_date': [279, 344], 'image_ratio': [0.1384615384615384, 0.8615384615384616], 'image_idx': [16, 17]}\n",
      "340 {'image_date': [344], 'image_ratio': [1], 'image_idx': [17]}\n",
      "345 {'image_date': [344], 'image_ratio': [1], 'image_idx': [17]}\n",
      "350 {'image_date': [344], 'image_ratio': [1], 'image_idx': [17]}\n",
      "355 {'image_date': [359], 'image_ratio': [1], 'image_idx': [18]}\n",
      "(72, 16, 16, 14)\n",
      "There are 0 NA values\n",
      "Saved array of (24, 16, 16, 15) shape to 135787151 \n",
      "\n",
      "Downloading 13/28, 135787161\n",
      "Original cloud image max is 255\n",
      "Cloud_probs shape: (64, 6, 6)\n"
     ]
    },
    {
     "data": {
      "application/vnd.jupyter.widget-view+json": {
       "model_id": "151f24e0b21144a8998c8e2dae1098f6",
       "version_major": 2,
       "version_minor": 0
      },
      "text/plain": [
       "HBox(children=(IntProgress(value=0, max=22), HTML(value='')))"
      ]
     },
     "metadata": {},
     "output_type": "display_data"
    },
    {
     "name": "stdout",
     "output_type": "stream",
     "text": [
      "\n"
     ]
    },
    {
     "data": {
      "application/vnd.jupyter.widget-view+json": {
       "model_id": "223554fe20db4bed891d3eaf56f7554a",
       "version_major": 2,
       "version_minor": 0
      },
      "text/plain": [
       "HBox(children=(IntProgress(value=0, max=22), HTML(value='')))"
      ]
     },
     "metadata": {},
     "output_type": "display_data"
    },
    {
     "name": "stdout",
     "output_type": "stream",
     "text": [
      "\n",
      "Shadows ((22, 96, 96)) used 0.2 processing units\n",
      "0, Good steps: [-29  -9  -4], min dist of 50, and 0.03 thresh\n",
      "1, Good steps: [46 51 56], min dist of 50, and 0.03 thresh\n",
      "2, Good steps: [], min dist of 365, and 0.15 thresh\n",
      "3, Good steps: [ 96 101 111], min dist of 45, and 0.03 thresh\n",
      "4, Good steps: [141], min dist of 30, and 0.03 thresh\n",
      "5, Good steps: [156 176], min dist of 35, and 0.03 thresh\n",
      "6, Good steps: [191 211], min dist of 35, and 0.03 thresh\n",
      "7, Good steps: [236], min dist of 25, and 0.01 thresh\n",
      "8, Good steps: [251 261], min dist of 25, and 0.01 thresh\n",
      "9, Good steps: [276], min dist of 50, and 0.15 thresh\n",
      "10, Good steps: [326 331], min dist of 65, and 0.06 thresh\n",
      "11, Good steps: [396], min dist of 65, and 0.06 thresh\n",
      "[11]\n",
      "[0.13888889]\n",
      "The cloud-free image dates are [-29, -9, -4, 46, 51, 56, 96, 101, 111, 141, 156, 176, 191, 211, 236, 251, 261, 276, 326, 331, 396]\n",
      "Original 20 meter bands size: (21, 24, 24, 6), using 0.09228515625 PU\n",
      "The original L2A image size is: (21, 48, 48, 4)\n",
      "Shadows (21, 96, 96), clouds (21, 96, 96), S2, (21, 48, 48, 10), S2d, (21,)\n",
      "Shadows (21, 96, 96), clouds (21, 96, 96), S2, (21, 48, 48, 10), S2d, (21,)\n",
      "Removing 0 steps based on ratio\n",
      "Interpolated 68 px\n",
      "Removing 2 steps with >50% interpolation\n",
      "uploading ../data/train-raw/135787161.npy to restoration-monitoring as restoration-mapper/model-data/train/raw/135787161.npy\n",
      "29555 %\n",
      "29585 %\n",
      "29625 %\n",
      "Shape after DEM: (19, 16, 16, 11)\n",
      "Maximum time distance: 65\n",
      "0 {'image_date': [-4], 'image_ratio': [1], 'image_idx': [2]}\n",
      "5 {'image_date': [-4, 51], 'image_ratio': [0.8363636363636364, 0.16363636363636364], 'image_idx': [2, 3]}\n",
      "10 {'image_date': [-4, 51], 'image_ratio': [0.7454545454545455, 0.2545454545454545], 'image_idx': [2, 3]}\n",
      "15 {'image_date': [-4, 51], 'image_ratio': [0.6545454545454545, 0.34545454545454546], 'image_idx': [2, 3]}\n",
      "20 {'image_date': [-4, 51], 'image_ratio': [0.5636363636363637, 0.43636363636363634], 'image_idx': [2, 3]}\n",
      "25 {'image_date': [-4, 51], 'image_ratio': [0.4727272727272728, 0.5272727272727272], 'image_idx': [2, 3]}\n",
      "30 {'image_date': [-4, 51], 'image_ratio': [0.38181818181818183, 0.6181818181818182], 'image_idx': [2, 3]}\n",
      "35 {'image_date': [-4, 51], 'image_ratio': [0.2909090909090909, 0.7090909090909091], 'image_idx': [2, 3]}\n",
      "40 {'image_date': [-4, 51], 'image_ratio': [0.19999999999999996, 0.8], 'image_idx': [2, 3]}\n",
      "45 {'image_date': [51], 'image_ratio': [1], 'image_idx': [3]}\n",
      "50 {'image_date': [51], 'image_ratio': [1], 'image_idx': [3]}\n",
      "55 {'image_date': [56], 'image_ratio': [1], 'image_idx': [4]}\n",
      "60 {'image_date': [56], 'image_ratio': [1], 'image_idx': [4]}\n",
      "65 {'image_date': [56, 96], 'image_ratio': [0.775, 0.225], 'image_idx': [4, 5]}\n",
      "70 {'image_date': [56, 96], 'image_ratio': [0.65, 0.35], 'image_idx': [4, 5]}\n",
      "75 {'image_date': [56, 96], 'image_ratio': [0.525, 0.475], 'image_idx': [4, 5]}\n",
      "80 {'image_date': [56, 96], 'image_ratio': [0.4, 0.6], 'image_idx': [4, 5]}\n",
      "85 {'image_date': [56, 96], 'image_ratio': [0.275, 0.725], 'image_idx': [4, 5]}\n",
      "90 {'image_date': [96], 'image_ratio': [1], 'image_idx': [5]}\n",
      "95 {'image_date': [96], 'image_ratio': [1], 'image_idx': [5]}\n",
      "100 {'image_date': [101], 'image_ratio': [1], 'image_idx': [6]}\n",
      "105 {'image_date': [101], 'image_ratio': [1], 'image_idx': [6]}\n",
      "110 {'image_date': [111], 'image_ratio': [1], 'image_idx': [7]}\n",
      "115 {'image_date': [111], 'image_ratio': [1], 'image_idx': [7]}\n",
      "120 {'image_date': [111, 141], 'image_ratio': [0.7, 0.3], 'image_idx': [7, 8]}\n",
      "125 {'image_date': [111, 141], 'image_ratio': [0.5333333333333333, 0.4666666666666667], 'image_idx': [7, 8]}\n",
      "130 {'image_date': [111, 141], 'image_ratio': [0.3666666666666667, 0.6333333333333333], 'image_idx': [7, 8]}\n",
      "135 {'image_date': [141], 'image_ratio': [1], 'image_idx': [8]}\n",
      "140 {'image_date': [141], 'image_ratio': [1], 'image_idx': [8]}\n",
      "145 {'image_date': [141], 'image_ratio': [1], 'image_idx': [8]}\n",
      "150 {'image_date': [156], 'image_ratio': [1], 'image_idx': [9]}\n",
      "155 {'image_date': [156], 'image_ratio': [1], 'image_idx': [9]}\n",
      "160 {'image_date': [156], 'image_ratio': [1], 'image_idx': [9]}\n",
      "165 {'image_date': [156, 176], 'image_ratio': [0.55, 0.45], 'image_idx': [9, 10]}\n",
      "170 {'image_date': [176], 'image_ratio': [1], 'image_idx': [10]}\n",
      "175 {'image_date': [176], 'image_ratio': [1], 'image_idx': [10]}\n",
      "180 {'image_date': [176], 'image_ratio': [1], 'image_idx': [10]}\n",
      "185 {'image_date': [176, 211], 'image_ratio': [0.7428571428571429, 0.2571428571428571], 'image_idx': [10, 11]}\n",
      "190 {'image_date': [176, 211], 'image_ratio': [0.6, 0.4], 'image_idx': [10, 11]}\n",
      "195 {'image_date': [176, 211], 'image_ratio': [0.4571428571428572, 0.5428571428571428], 'image_idx': [10, 11]}\n",
      "200 {'image_date': [176, 211], 'image_ratio': [0.3142857142857143, 0.6857142857142857], 'image_idx': [10, 11]}\n",
      "205 {'image_date': [211], 'image_ratio': [1], 'image_idx': [11]}\n",
      "210 {'image_date': [211], 'image_ratio': [1], 'image_idx': [11]}\n",
      "215 {'image_date': [211], 'image_ratio': [1], 'image_idx': [11]}\n",
      "220 {'image_date': [211, 236], 'image_ratio': [0.64, 0.36], 'image_idx': [11, 12]}\n",
      "225 {'image_date': [211, 236], 'image_ratio': [0.43999999999999995, 0.56], 'image_idx': [11, 12]}\n",
      "230 {'image_date': [236], 'image_ratio': [1], 'image_idx': [12]}\n",
      "235 {'image_date': [236], 'image_ratio': [1], 'image_idx': [12]}\n",
      "240 {'image_date': [236], 'image_ratio': [1], 'image_idx': [12]}\n",
      "245 {'image_date': [251], 'image_ratio': [1], 'image_idx': [13]}\n",
      "250 {'image_date': [251], 'image_ratio': [1], 'image_idx': [13]}\n",
      "255 {'image_date': [251], 'image_ratio': [1], 'image_idx': [13]}\n",
      "260 {'image_date': [261], 'image_ratio': [1], 'image_idx': [14]}\n",
      "265 {'image_date': [261], 'image_ratio': [1], 'image_idx': [14]}\n",
      "270 {'image_date': [276], 'image_ratio': [1], 'image_idx': [15]}\n",
      "275 {'image_date': [276], 'image_ratio': [1], 'image_idx': [15]}\n",
      "280 {'image_date': [276], 'image_ratio': [1], 'image_idx': [15]}\n",
      "285 {'image_date': [276, 326], 'image_ratio': [0.8200000000000001, 0.18], 'image_idx': [15, 16]}\n",
      "290 {'image_date': [276, 326], 'image_ratio': [0.72, 0.28], 'image_idx': [15, 16]}\n",
      "295 {'image_date': [276, 326], 'image_ratio': [0.62, 0.38], 'image_idx': [15, 16]}\n",
      "300 {'image_date': [276, 326], 'image_ratio': [0.52, 0.48], 'image_idx': [15, 16]}\n",
      "305 {'image_date': [276, 326], 'image_ratio': [0.42000000000000004, 0.58], 'image_idx': [15, 16]}\n",
      "310 {'image_date': [276, 326], 'image_ratio': [0.31999999999999995, 0.68], 'image_idx': [15, 16]}\n",
      "315 {'image_date': [276, 326], 'image_ratio': [0.21999999999999997, 0.78], 'image_idx': [15, 16]}\n",
      "320 {'image_date': [326], 'image_ratio': [1], 'image_idx': [16]}\n",
      "325 {'image_date': [326], 'image_ratio': [1], 'image_idx': [16]}\n",
      "330 {'image_date': [331], 'image_ratio': [1], 'image_idx': [17]}\n",
      "335 {'image_date': [331], 'image_ratio': [1], 'image_idx': [17]}\n",
      "340 {'image_date': [331, 396], 'image_ratio': [0.8615384615384616, 0.13846153846153847], 'image_idx': [17, 18]}\n",
      "345 {'image_date': [331, 396], 'image_ratio': [0.7846153846153846, 0.2153846153846154], 'image_idx': [17, 18]}\n",
      "350 {'image_date': [331, 396], 'image_ratio': [0.7076923076923076, 0.2923076923076923], 'image_idx': [17, 18]}\n",
      "355 {'image_date': [331, 396], 'image_ratio': [0.6307692307692307, 0.36923076923076925], 'image_idx': [17, 18]}\n",
      "(72, 16, 16, 14)\n",
      "There are 0 NA values\n",
      "Saved array of (24, 16, 16, 15) shape to 135787161 \n",
      "\n",
      "Downloading 14/28, 135787162\n",
      "Original cloud image max is 255\n",
      "Cloud_probs shape: (57, 6, 6)\n"
     ]
    },
    {
     "data": {
      "application/vnd.jupyter.widget-view+json": {
       "model_id": "bd2b6ba1d1a9464ba16271df27819474",
       "version_major": 2,
       "version_minor": 0
      },
      "text/plain": [
       "HBox(children=(IntProgress(value=0, max=33), HTML(value='')))"
      ]
     },
     "metadata": {},
     "output_type": "display_data"
    },
    {
     "name": "stdout",
     "output_type": "stream",
     "text": [
      "\n"
     ]
    },
    {
     "data": {
      "application/vnd.jupyter.widget-view+json": {
       "model_id": "614cc7eeec234c09810cad0e3edde0cd",
       "version_major": 2,
       "version_minor": 0
      },
      "text/plain": [
       "HBox(children=(IntProgress(value=0, max=33), HTML(value='')))"
      ]
     },
     "metadata": {},
     "output_type": "display_data"
    },
    {
     "name": "stdout",
     "output_type": "stream",
     "text": [
      "\n",
      "Shadows ((33, 96, 96)) used 0.3 processing units\n",
      "0, Good steps: [-11  19], min dist of 15, and 0.03 thresh\n",
      "1, Good steps: [34 54], min dist of 25, and 0.03 thresh\n",
      "2, Good steps: [59 69 84 89], min dist of 25, and 0.01 thresh\n",
      "3, Good steps: [ 94 109], min dist of 20, and 0.01 thresh\n",
      "4, Good steps: [129 139 144], min dist of 20, and 0.01 thresh\n",
      "5, Good steps: [159 174], min dist of 30, and 0.03 thresh\n",
      "6, Good steps: [189 204], min dist of 25, and 0.01 thresh\n",
      "7, Good steps: [214 224 239], min dist of 20, and 0.03 thresh\n",
      "8, Good steps: [244], min dist of 40, and 0.03 thresh\n",
      "9, Good steps: [279 284], min dist of 60, and 0.06 thresh\n",
      "10, Good steps: [], min dist of 365, and 0.15 thresh\n",
      "11, Good steps: [339 344 349 374], min dist of 5, and 0.03 thresh\n",
      "[ 9 11 20 22 25 26]\n",
      "[0.02777778 0.02777778 0.05555556 0.05555556 0.05555556 0.16666667]\n",
      "The cloud-free image dates are [-11, 19, 34, 54, 59, 69, 84, 89, 94, 109, 129, 139, 144, 159, 174, 189, 204, 214, 224, 239, 244, 279, 284, 339, 344, 349, 374]\n",
      "Original 20 meter bands size: (27, 24, 24, 6), using 0.11865234375 PU\n",
      "The original L2A image size is: (27, 48, 48, 4)\n",
      "Shadows (27, 96, 96), clouds (27, 96, 96), S2, (27, 48, 48, 10), S2d, (27,)\n",
      "Shadows (27, 96, 96), clouds (27, 96, 96), S2, (27, 48, 48, 10), S2d, (27,)\n",
      "Removing 0 steps based on ratio\n",
      "Interpolated 28 px\n",
      "Removing 1 steps with >50% interpolation\n",
      "uploading ../data/train-raw/135787162.npy to restoration-monitoring as restoration-mapper/model-data/train/raw/135787162.npy\n",
      "Shape after DEM: (26, 16, 16, 11)\n",
      "Maximum time distance: 60\n",
      "0 {'image_date': [-11, 19], 'image_ratio': [0.6333333333333333, 0.36666666666666664], 'image_idx': [0, 1]}\n",
      "5 {'image_date': [-11, 19], 'image_ratio': [0.4666666666666667, 0.5333333333333333], 'image_idx': [0, 1]}\n",
      "10 {'image_date': [-11, 19], 'image_ratio': [0.30000000000000004, 0.7], 'image_idx': [0, 1]}\n",
      "15 {'image_date': [19], 'image_ratio': [1], 'image_idx': [1]}\n",
      "20 {'image_date': [19], 'image_ratio': [1], 'image_idx': [1]}\n",
      "25 {'image_date': [19], 'image_ratio': [1], 'image_idx': [1]}\n",
      "30 {'image_date': [34], 'image_ratio': [1], 'image_idx': [2]}\n",
      "35 {'image_date': [34], 'image_ratio': [1], 'image_idx': [2]}\n",
      "40 {'image_date': [34], 'image_ratio': [1], 'image_idx': [2]}\n",
      "45 {'image_date': [34, 54], 'image_ratio': [0.44999999999999996, 0.55], 'image_idx': [2, 3]}\n",
      "50 {'image_date': [54], 'image_ratio': [1], 'image_idx': [3]}\n",
      "55 {'image_date': [54], 'image_ratio': [1], 'image_idx': [3]}\n",
      "60 {'image_date': [59], 'image_ratio': [1], 'image_idx': [4]}\n",
      "65 {'image_date': [69], 'image_ratio': [1], 'image_idx': [5]}\n",
      "70 {'image_date': [69], 'image_ratio': [1], 'image_idx': [5]}\n",
      "75 {'image_date': [69], 'image_ratio': [1], 'image_idx': [5]}\n",
      "80 {'image_date': [84], 'image_ratio': [1], 'image_idx': [6]}\n",
      "85 {'image_date': [84], 'image_ratio': [1], 'image_idx': [6]}\n",
      "90 {'image_date': [89], 'image_ratio': [1], 'image_idx': [7]}\n",
      "95 {'image_date': [94], 'image_ratio': [1], 'image_idx': [8]}\n",
      "100 {'image_date': [94], 'image_ratio': [1], 'image_idx': [8]}\n",
      "105 {'image_date': [109], 'image_ratio': [1], 'image_idx': [9]}\n",
      "110 {'image_date': [109], 'image_ratio': [1], 'image_idx': [9]}\n",
      "115 {'image_date': [109], 'image_ratio': [1], 'image_idx': [9]}\n",
      "120 {'image_date': [109, 129], 'image_ratio': [0.44999999999999996, 0.55], 'image_idx': [9, 10]}\n",
      "125 {'image_date': [129], 'image_ratio': [1], 'image_idx': [10]}\n",
      "130 {'image_date': [129], 'image_ratio': [1], 'image_idx': [10]}\n",
      "135 {'image_date': [139], 'image_ratio': [1], 'image_idx': [11]}\n",
      "140 {'image_date': [139], 'image_ratio': [1], 'image_idx': [11]}\n",
      "145 {'image_date': [144], 'image_ratio': [1], 'image_idx': [12]}\n",
      "150 {'image_date': [144], 'image_ratio': [1], 'image_idx': [12]}\n",
      "155 {'image_date': [159], 'image_ratio': [1], 'image_idx': [13]}\n",
      "160 {'image_date': [159], 'image_ratio': [1], 'image_idx': [13]}\n",
      "165 {'image_date': [159], 'image_ratio': [1], 'image_idx': [13]}\n",
      "170 {'image_date': [174], 'image_ratio': [1], 'image_idx': [14]}\n",
      "175 {'image_date': [174], 'image_ratio': [1], 'image_idx': [14]}\n",
      "180 {'image_date': [174], 'image_ratio': [1], 'image_idx': [14]}\n",
      "185 {'image_date': [189], 'image_ratio': [1], 'image_idx': [15]}\n",
      "190 {'image_date': [189], 'image_ratio': [1], 'image_idx': [15]}\n",
      "195 {'image_date': [189], 'image_ratio': [1], 'image_idx': [15]}\n",
      "200 {'image_date': [204], 'image_ratio': [1], 'image_idx': [16]}\n",
      "205 {'image_date': [204], 'image_ratio': [1], 'image_idx': [16]}\n",
      "210 {'image_date': [214], 'image_ratio': [1], 'image_idx': [17]}\n",
      "215 {'image_date': [214], 'image_ratio': [1], 'image_idx': [17]}\n",
      "220 {'image_date': [224], 'image_ratio': [1], 'image_idx': [18]}\n",
      "225 {'image_date': [224], 'image_ratio': [1], 'image_idx': [18]}\n",
      "230 {'image_date': [224], 'image_ratio': [1], 'image_idx': [18]}\n",
      "235 {'image_date': [239], 'image_ratio': [1], 'image_idx': [19]}\n",
      "240 {'image_date': [239], 'image_ratio': [1], 'image_idx': [19]}\n",
      "245 {'image_date': [244], 'image_ratio': [1], 'image_idx': [20]}\n",
      "250 {'image_date': [244], 'image_ratio': [1], 'image_idx': [20]}\n",
      "255 {'image_date': [244, 279], 'image_ratio': [0.6857142857142857, 0.3142857142857143], 'image_idx': [20, 21]}\n",
      "260 {'image_date': [244, 279], 'image_ratio': [0.5428571428571429, 0.45714285714285713], 'image_idx': [20, 21]}\n",
      "265 {'image_date': [244, 279], 'image_ratio': [0.4, 0.6], 'image_idx': [20, 21]}\n",
      "270 {'image_date': [244, 279], 'image_ratio': [0.2571428571428571, 0.7428571428571429], 'image_idx': [20, 21]}\n",
      "275 {'image_date': [279], 'image_ratio': [1], 'image_idx': [21]}\n",
      "280 {'image_date': [279], 'image_ratio': [1], 'image_idx': [21]}\n",
      "285 {'image_date': [284], 'image_ratio': [1], 'image_idx': [22]}\n",
      "290 {'image_date': [284], 'image_ratio': [1], 'image_idx': [22]}\n",
      "295 {'image_date': [284, 344], 'image_ratio': [0.8166666666666667, 0.18333333333333332], 'image_idx': [22, 23]}\n",
      "300 {'image_date': [284, 344], 'image_ratio': [0.7333333333333334, 0.26666666666666666], 'image_idx': [22, 23]}\n",
      "305 {'image_date': [284, 344], 'image_ratio': [0.65, 0.35], 'image_idx': [22, 23]}\n",
      "310 {'image_date': [284, 344], 'image_ratio': [0.5666666666666667, 0.43333333333333335], 'image_idx': [22, 23]}\n",
      "315 {'image_date': [284, 344], 'image_ratio': [0.4833333333333333, 0.5166666666666667], 'image_idx': [22, 23]}\n",
      "320 {'image_date': [284, 344], 'image_ratio': [0.4, 0.6], 'image_idx': [22, 23]}\n",
      "325 {'image_date': [284, 344], 'image_ratio': [0.31666666666666665, 0.6833333333333333], 'image_idx': [22, 23]}\n",
      "330 {'image_date': [284, 344], 'image_ratio': [0.23333333333333328, 0.7666666666666667], 'image_idx': [22, 23]}\n",
      "335 {'image_date': [284, 344], 'image_ratio': [0.15000000000000002, 0.85], 'image_idx': [22, 23]}\n",
      "340 {'image_date': [344], 'image_ratio': [1], 'image_idx': [23]}\n",
      "345 {'image_date': [344], 'image_ratio': [1], 'image_idx': [23]}\n",
      "350 {'image_date': [349], 'image_ratio': [1], 'image_idx': [24]}\n",
      "355 {'image_date': [349], 'image_ratio': [1], 'image_idx': [24]}\n",
      "(72, 16, 16, 14)\n",
      "There are 0 NA values\n",
      "Saved array of (24, 16, 16, 15) shape to 135787162 \n",
      "\n",
      "Downloading 15/28, 135787163\n",
      "Original cloud image max is 255\n",
      "Cloud_probs shape: (71, 6, 6)\n"
     ]
    },
    {
     "data": {
      "application/vnd.jupyter.widget-view+json": {
       "model_id": "6a748524d8a848f49a2505a4dd680a1a",
       "version_major": 2,
       "version_minor": 0
      },
      "text/plain": [
       "HBox(children=(IntProgress(value=0, max=25), HTML(value='')))"
      ]
     },
     "metadata": {},
     "output_type": "display_data"
    },
    {
     "name": "stdout",
     "output_type": "stream",
     "text": [
      "\n"
     ]
    },
    {
     "data": {
      "application/vnd.jupyter.widget-view+json": {
       "model_id": "3fbf49ae140c493d8ed21eda64e4265c",
       "version_major": 2,
       "version_minor": 0
      },
      "text/plain": [
       "HBox(children=(IntProgress(value=0, max=25), HTML(value='')))"
      ]
     },
     "metadata": {},
     "output_type": "display_data"
    },
    {
     "name": "stdout",
     "output_type": "stream",
     "text": [
      "\n",
      "Shadows ((25, 96, 96)) used 0.2 processing units\n",
      "0, Good steps: [-29  -9  -4   1], min dist of 50, and 0.03 thresh\n",
      "1, Good steps: [46 51], min dist of 50, and 0.03 thresh\n",
      "2, Good steps: [61], min dist of 50, and 0.03 thresh\n",
      "3, Good steps: [ 96 101 111], min dist of 35, and 0.03 thresh\n",
      "4, Good steps: [141], min dist of 30, and 0.15 thresh\n",
      "5, Good steps: [156], min dist of 40, and 0.03 thresh\n",
      "6, Good steps: [186 196 211], min dist of 15, and 0.01 thresh\n",
      "7, Good steps: [226 236], min dist of 15, and 0.06 thresh\n",
      "8, Good steps: [261], min dist of 65, and 0.06 thresh\n",
      "9, Good steps: [], min dist of 365, and 0.15 thresh\n",
      "10, Good steps: [326 331], min dist of 30, and 0.03 thresh\n",
      "11, Good steps: [361 381], min dist of 20, and 0.03 thresh\n",
      "[12 19 24]\n",
      "[0.22222222 0.36111111 0.08333333]\n",
      "The cloud-free image dates are [-29, -9, -4, 1, 46, 51, 61, 96, 101, 111, 141, 156, 186, 196, 211, 226, 236, 261, 326, 331, 361, 381]\n",
      "Original 20 meter bands size: (22, 24, 24, 6), using 0.0966796875 PU\n",
      "The original L2A image size is: (22, 48, 48, 4)\n",
      "Shadows (22, 96, 96), clouds (22, 96, 96), S2, (22, 48, 48, 10), S2d, (22,)\n",
      "Shadows (22, 96, 96), clouds (22, 96, 96), S2, (22, 48, 48, 10), S2d, (22,)\n",
      "Removing 0 steps based on ratio\n",
      "Interpolated 87 px\n",
      "Removing 3 steps with >50% interpolation\n",
      "uploading ../data/train-raw/135787163.npy to restoration-monitoring as restoration-mapper/model-data/train/raw/135787163.npy\n",
      "Shape after DEM: (19, 16, 16, 11)\n",
      "Maximum time distance: 65\n",
      "0 {'image_date': [1], 'image_ratio': [1], 'image_idx': [3]}\n",
      "5 {'image_date': [1], 'image_ratio': [1], 'image_idx': [3]}\n",
      "10 {'image_date': [1, 51], 'image_ratio': [0.8200000000000001, 0.18], 'image_idx': [3, 4]}\n",
      "15 {'image_date': [1, 51], 'image_ratio': [0.72, 0.28], 'image_idx': [3, 4]}\n",
      "20 {'image_date': [1, 51], 'image_ratio': [0.62, 0.38], 'image_idx': [3, 4]}\n",
      "25 {'image_date': [1, 51], 'image_ratio': [0.52, 0.48], 'image_idx': [3, 4]}\n",
      "30 {'image_date': [1, 51], 'image_ratio': [0.42000000000000004, 0.58], 'image_idx': [3, 4]}\n",
      "35 {'image_date': [1, 51], 'image_ratio': [0.31999999999999995, 0.68], 'image_idx': [3, 4]}\n",
      "40 {'image_date': [1, 51], 'image_ratio': [0.21999999999999997, 0.78], 'image_idx': [3, 4]}\n",
      "45 {'image_date': [51], 'image_ratio': [1], 'image_idx': [4]}\n",
      "50 {'image_date': [51], 'image_ratio': [1], 'image_idx': [4]}\n",
      "55 {'image_date': [51], 'image_ratio': [1], 'image_idx': [4]}\n",
      "60 {'image_date': [61], 'image_ratio': [1], 'image_idx': [5]}\n",
      "65 {'image_date': [61], 'image_ratio': [1], 'image_idx': [5]}\n",
      "70 {'image_date': [61, 101], 'image_ratio': [0.775, 0.225], 'image_idx': [5, 6]}\n",
      "75 {'image_date': [61, 101], 'image_ratio': [0.65, 0.35], 'image_idx': [5, 6]}\n",
      "80 {'image_date': [61, 101], 'image_ratio': [0.525, 0.475], 'image_idx': [5, 6]}\n",
      "85 {'image_date': [61, 101], 'image_ratio': [0.4, 0.6], 'image_idx': [5, 6]}\n",
      "90 {'image_date': [61, 101], 'image_ratio': [0.275, 0.725], 'image_idx': [5, 6]}\n",
      "95 {'image_date': [101], 'image_ratio': [1], 'image_idx': [6]}\n",
      "100 {'image_date': [101], 'image_ratio': [1], 'image_idx': [6]}\n",
      "105 {'image_date': [101], 'image_ratio': [1], 'image_idx': [6]}\n",
      "110 {'image_date': [111], 'image_ratio': [1], 'image_idx': [7]}\n",
      "115 {'image_date': [111], 'image_ratio': [1], 'image_idx': [7]}\n",
      "120 {'image_date': [111, 141], 'image_ratio': [0.7, 0.3], 'image_idx': [7, 8]}\n",
      "125 {'image_date': [111, 141], 'image_ratio': [0.5333333333333333, 0.4666666666666667], 'image_idx': [7, 8]}\n",
      "130 {'image_date': [111, 141], 'image_ratio': [0.3666666666666667, 0.6333333333333333], 'image_idx': [7, 8]}\n",
      "135 {'image_date': [141], 'image_ratio': [1], 'image_idx': [8]}\n",
      "140 {'image_date': [141], 'image_ratio': [1], 'image_idx': [8]}\n",
      "145 {'image_date': [141], 'image_ratio': [1], 'image_idx': [8]}\n",
      "150 {'image_date': [156], 'image_ratio': [1], 'image_idx': [9]}\n",
      "155 {'image_date': [156], 'image_ratio': [1], 'image_idx': [9]}\n",
      "160 {'image_date': [156], 'image_ratio': [1], 'image_idx': [9]}\n",
      "165 {'image_date': [156, 186], 'image_ratio': [0.7, 0.3], 'image_idx': [9, 10]}\n",
      "170 {'image_date': [156, 186], 'image_ratio': [0.5333333333333333, 0.4666666666666667], 'image_idx': [9, 10]}\n",
      "175 {'image_date': [156, 186], 'image_ratio': [0.3666666666666667, 0.6333333333333333], 'image_idx': [9, 10]}\n",
      "180 {'image_date': [186], 'image_ratio': [1], 'image_idx': [10]}\n",
      "185 {'image_date': [186], 'image_ratio': [1], 'image_idx': [10]}\n",
      "190 {'image_date': [186], 'image_ratio': [1], 'image_idx': [10]}\n",
      "195 {'image_date': [196], 'image_ratio': [1], 'image_idx': [11]}\n",
      "200 {'image_date': [196], 'image_ratio': [1], 'image_idx': [11]}\n",
      "205 {'image_date': [211], 'image_ratio': [1], 'image_idx': [12]}\n",
      "210 {'image_date': [211], 'image_ratio': [1], 'image_idx': [12]}\n",
      "215 {'image_date': [211], 'image_ratio': [1], 'image_idx': [12]}\n",
      "220 {'image_date': [211, 236], 'image_ratio': [0.64, 0.36], 'image_idx': [12, 13]}\n",
      "225 {'image_date': [211, 236], 'image_ratio': [0.43999999999999995, 0.56], 'image_idx': [12, 13]}\n",
      "230 {'image_date': [236], 'image_ratio': [1], 'image_idx': [13]}\n",
      "235 {'image_date': [236], 'image_ratio': [1], 'image_idx': [13]}\n",
      "240 {'image_date': [236], 'image_ratio': [1], 'image_idx': [13]}\n",
      "245 {'image_date': [236, 261], 'image_ratio': [0.64, 0.36], 'image_idx': [13, 14]}\n",
      "250 {'image_date': [236, 261], 'image_ratio': [0.43999999999999995, 0.56], 'image_idx': [13, 14]}\n",
      "255 {'image_date': [261], 'image_ratio': [1], 'image_idx': [14]}\n",
      "260 {'image_date': [261], 'image_ratio': [1], 'image_idx': [14]}\n",
      "265 {'image_date': [261], 'image_ratio': [1], 'image_idx': [14]}\n",
      "270 {'image_date': [261, 326], 'image_ratio': [0.8615384615384616, 0.13846153846153847], 'image_idx': [14, 15]}\n",
      "275 {'image_date': [261, 326], 'image_ratio': [0.7846153846153846, 0.2153846153846154], 'image_idx': [14, 15]}\n",
      "280 {'image_date': [261, 326], 'image_ratio': [0.7076923076923076, 0.2923076923076923], 'image_idx': [14, 15]}\n",
      "285 {'image_date': [261, 326], 'image_ratio': [0.6307692307692307, 0.36923076923076925], 'image_idx': [14, 15]}\n",
      "290 {'image_date': [261, 326], 'image_ratio': [0.5538461538461539, 0.4461538461538462], 'image_idx': [14, 15]}\n",
      "295 {'image_date': [261, 326], 'image_ratio': [0.4769230769230769, 0.5230769230769231], 'image_idx': [14, 15]}\n",
      "300 {'image_date': [261, 326], 'image_ratio': [0.4, 0.6], 'image_idx': [14, 15]}\n",
      "305 {'image_date': [261, 326], 'image_ratio': [0.32307692307692304, 0.676923076923077], 'image_idx': [14, 15]}\n",
      "310 {'image_date': [261, 326], 'image_ratio': [0.24615384615384617, 0.7538461538461538], 'image_idx': [14, 15]}\n",
      "315 {'image_date': [261, 326], 'image_ratio': [0.16923076923076918, 0.8307692307692308], 'image_idx': [14, 15]}\n",
      "320 {'image_date': [326], 'image_ratio': [1], 'image_idx': [15]}\n",
      "325 {'image_date': [326], 'image_ratio': [1], 'image_idx': [15]}\n",
      "330 {'image_date': [331], 'image_ratio': [1], 'image_idx': [16]}\n",
      "335 {'image_date': [331], 'image_ratio': [1], 'image_idx': [16]}\n",
      "340 {'image_date': [331, 361], 'image_ratio': [0.7, 0.3], 'image_idx': [16, 17]}\n",
      "345 {'image_date': [331, 361], 'image_ratio': [0.5333333333333333, 0.4666666666666667], 'image_idx': [16, 17]}\n",
      "350 {'image_date': [331, 361], 'image_ratio': [0.3666666666666667, 0.6333333333333333], 'image_idx': [16, 17]}\n",
      "355 {'image_date': [361], 'image_ratio': [1], 'image_idx': [17]}\n",
      "(72, 16, 16, 14)\n",
      "There are 0 NA values\n",
      "Saved array of (24, 16, 16, 15) shape to 135787163 \n",
      "\n",
      "Downloading 16/28, 135787175\n",
      "Original cloud image max is 255\n",
      "Cloud_probs shape: (74, 6, 6)\n"
     ]
    },
    {
     "data": {
      "application/vnd.jupyter.widget-view+json": {
       "model_id": "4b3fcbb13842421cab9e80082c0e03af",
       "version_major": 2,
       "version_minor": 0
      },
      "text/plain": [
       "HBox(children=(IntProgress(value=0, max=51), HTML(value='')))"
      ]
     },
     "metadata": {},
     "output_type": "display_data"
    },
    {
     "name": "stdout",
     "output_type": "stream",
     "text": [
      "\n"
     ]
    },
    {
     "data": {
      "application/vnd.jupyter.widget-view+json": {
       "model_id": "b4235d2f350b4f5482243861855ecace",
       "version_major": 2,
       "version_minor": 0
      },
      "text/plain": [
       "HBox(children=(IntProgress(value=0, max=51), HTML(value='')))"
      ]
     },
     "metadata": {},
     "output_type": "display_data"
    },
    {
     "name": "stdout",
     "output_type": "stream",
     "text": [
      "\n",
      "Shadows ((51, 96, 96)) used 0.4 processing units\n",
      "0, Good steps: [-11], min dist of 45, and 0.03 thresh\n",
      "1, Good steps: [34], min dist of 25, and 0.03 thresh\n",
      "2, Good steps: [59 69], min dist of 35, and 0.03 thresh\n",
      "3, Good steps: [ 94  99 109], min dist of 5, and 0.1 thresh\n",
      "4, Good steps: [139], min dist of 25, and 0.06 thresh\n",
      "5, Good steps: [159 169], min dist of 15, and 0.1 thresh\n",
      "6, Good steps: [189 209], min dist of 15, and 0.1 thresh\n",
      "7, Good steps: [214 239], min dist of 5, and 0.06 thresh\n",
      "8, Good steps: [244], min dist of 30, and 0.15 thresh\n",
      "9, Good steps: [274 279 284], min dist of 30, and 0.1 thresh\n",
      "10, Good steps: [309 319], min dist of 25, and 0.15 thresh\n",
      "11, Good steps: [334 339 344 374], min dist of 5, and 0.01 thresh\n",
      "[ 1  2  3  4  5  7  8  9 11 13 14 15 18 20 22 25 26 28 31 32 33 44 45 46\n",
      " 48 49 50]\n",
      "[0.05555556 0.05555556 0.08333333 0.05555556 0.05555556 0.08333333\n",
      " 0.05555556 0.08333333 0.16666667 0.05555556 0.05555556 0.11111111\n",
      " 0.13888889 0.11111111 0.13888889 0.11111111 0.13888889 0.13888889\n",
      " 0.11111111 0.11111111 0.08333333 0.02777778 0.02777778 0.05555556\n",
      " 0.08333333 0.11111111 0.02777778]\n",
      "The cloud-free image dates are [-11, 34, 59, 69, 94, 99, 109, 139, 159, 169, 189, 209, 214, 239, 244, 274, 279, 284, 309, 319, 334, 339, 344, 374]\n",
      "Original 20 meter bands size: (24, 24, 24, 6), using 0.10546875 PU\n",
      "The original L2A image size is: (24, 48, 48, 4)\n",
      "Shadows (24, 96, 96), clouds (24, 96, 96), S2, (24, 48, 48, 10), S2d, (24,)\n",
      "Shadows (24, 96, 96), clouds (24, 96, 96), S2, (24, 48, 48, 10), S2d, (24,)\n",
      "Removing 0 steps based on ratio\n",
      "Interpolated 440 px\n",
      "Removing 16 steps with >50% interpolation\n",
      "uploading ../data/train-raw/135787175.npy to restoration-monitoring as restoration-mapper/model-data/train/raw/135787175.npy\n",
      "Shape after DEM: (8, 16, 16, 11)\n",
      "Maximum time distance: 225\n",
      "0 {'image_date': [-11, 34], 'image_ratio': [0.7555555555555555, 0.24444444444444444], 'image_idx': [0, 1]}\n",
      "5 {'image_date': [-11, 34], 'image_ratio': [0.6444444444444444, 0.35555555555555557], 'image_idx': [0, 1]}\n",
      "10 {'image_date': [-11, 34], 'image_ratio': [0.5333333333333333, 0.4666666666666667], 'image_idx': [0, 1]}\n",
      "15 {'image_date': [-11, 34], 'image_ratio': [0.4222222222222223, 0.5777777777777777], 'image_idx': [0, 1]}\n",
      "20 {'image_date': [-11, 34], 'image_ratio': [0.3111111111111111, 0.6888888888888889], 'image_idx': [0, 1]}\n",
      "25 {'image_date': [-11, 34], 'image_ratio': [0.19999999999999996, 0.8], 'image_idx': [0, 1]}\n",
      "30 {'image_date': [34], 'image_ratio': [1], 'image_idx': [1]}\n",
      "35 {'image_date': [34], 'image_ratio': [1], 'image_idx': [1]}\n",
      "40 {'image_date': [34], 'image_ratio': [1], 'image_idx': [1]}\n",
      "45 {'image_date': [34, 69], 'image_ratio': [0.6857142857142857, 0.3142857142857143], 'image_idx': [1, 2]}\n",
      "50 {'image_date': [34, 69], 'image_ratio': [0.5428571428571429, 0.45714285714285713], 'image_idx': [1, 2]}\n",
      "55 {'image_date': [34, 69], 'image_ratio': [0.4, 0.6], 'image_idx': [1, 2]}\n",
      "60 {'image_date': [34, 69], 'image_ratio': [0.2571428571428571, 0.7428571428571429], 'image_idx': [1, 2]}\n",
      "65 {'image_date': [69], 'image_ratio': [1], 'image_idx': [2]}\n",
      "70 {'image_date': [69], 'image_ratio': [1], 'image_idx': [2]}\n",
      "75 {'image_date': [69], 'image_ratio': [1], 'image_idx': [2]}\n",
      "80 {'image_date': [69, 109], 'image_ratio': [0.725, 0.275], 'image_idx': [2, 3]}\n",
      "85 {'image_date': [69, 109], 'image_ratio': [0.6, 0.4], 'image_idx': [2, 3]}\n",
      "90 {'image_date': [69, 109], 'image_ratio': [0.475, 0.525], 'image_idx': [2, 3]}\n",
      "95 {'image_date': [69, 109], 'image_ratio': [0.35, 0.65], 'image_idx': [2, 3]}\n",
      "100 {'image_date': [69, 109], 'image_ratio': [0.22499999999999998, 0.775], 'image_idx': [2, 3]}\n",
      "105 {'image_date': [109], 'image_ratio': [1], 'image_idx': [3]}\n",
      "110 {'image_date': [109], 'image_ratio': [1], 'image_idx': [3]}\n",
      "115 {'image_date': [109], 'image_ratio': [1], 'image_idx': [3]}\n",
      "120 {'image_date': [109, 334], 'image_ratio': [0.9511111111111111, 0.04888888888888889], 'image_idx': [3, 4]}\n",
      "125 {'image_date': [109, 334], 'image_ratio': [0.9288888888888889, 0.07111111111111111], 'image_idx': [3, 4]}\n",
      "130 {'image_date': [109, 334], 'image_ratio': [0.9066666666666666, 0.09333333333333334], 'image_idx': [3, 4]}\n",
      "135 {'image_date': [109, 334], 'image_ratio': [0.8844444444444445, 0.11555555555555555], 'image_idx': [3, 4]}\n",
      "140 {'image_date': [109, 334], 'image_ratio': [0.8622222222222222, 0.13777777777777778], 'image_idx': [3, 4]}\n",
      "145 {'image_date': [109, 334], 'image_ratio': [0.84, 0.16], 'image_idx': [3, 4]}\n",
      "150 {'image_date': [109, 334], 'image_ratio': [0.8177777777777777, 0.18222222222222223], 'image_idx': [3, 4]}\n",
      "155 {'image_date': [109, 334], 'image_ratio': [0.7955555555555556, 0.20444444444444446], 'image_idx': [3, 4]}\n",
      "160 {'image_date': [109, 334], 'image_ratio': [0.7733333333333333, 0.22666666666666666], 'image_idx': [3, 4]}\n",
      "165 {'image_date': [109, 334], 'image_ratio': [0.7511111111111111, 0.24888888888888888], 'image_idx': [3, 4]}\n",
      "170 {'image_date': [109, 334], 'image_ratio': [0.7288888888888889, 0.27111111111111114], 'image_idx': [3, 4]}\n",
      "175 {'image_date': [109, 334], 'image_ratio': [0.7066666666666667, 0.29333333333333333], 'image_idx': [3, 4]}\n",
      "180 {'image_date': [109, 334], 'image_ratio': [0.6844444444444444, 0.31555555555555553], 'image_idx': [3, 4]}\n",
      "185 {'image_date': [109, 334], 'image_ratio': [0.6622222222222223, 0.3377777777777778], 'image_idx': [3, 4]}\n",
      "190 {'image_date': [109, 334], 'image_ratio': [0.64, 0.36], 'image_idx': [3, 4]}\n",
      "195 {'image_date': [109, 334], 'image_ratio': [0.6177777777777778, 0.38222222222222224], 'image_idx': [3, 4]}\n",
      "200 {'image_date': [109, 334], 'image_ratio': [0.5955555555555556, 0.40444444444444444], 'image_idx': [3, 4]}\n",
      "205 {'image_date': [109, 334], 'image_ratio': [0.5733333333333333, 0.4266666666666667], 'image_idx': [3, 4]}\n",
      "210 {'image_date': [109, 334], 'image_ratio': [0.5511111111111111, 0.4488888888888889], 'image_idx': [3, 4]}\n",
      "215 {'image_date': [109, 334], 'image_ratio': [0.528888888888889, 0.4711111111111111], 'image_idx': [3, 4]}\n",
      "220 {'image_date': [109, 334], 'image_ratio': [0.5066666666666666, 0.49333333333333335], 'image_idx': [3, 4]}\n",
      "225 {'image_date': [109, 334], 'image_ratio': [0.48444444444444446, 0.5155555555555555], 'image_idx': [3, 4]}\n",
      "230 {'image_date': [109, 334], 'image_ratio': [0.4622222222222222, 0.5377777777777778], 'image_idx': [3, 4]}\n",
      "235 {'image_date': [109, 334], 'image_ratio': [0.43999999999999995, 0.56], 'image_idx': [3, 4]}\n",
      "240 {'image_date': [109, 334], 'image_ratio': [0.4177777777777778, 0.5822222222222222], 'image_idx': [3, 4]}\n",
      "245 {'image_date': [109, 334], 'image_ratio': [0.39555555555555555, 0.6044444444444445], 'image_idx': [3, 4]}\n",
      "250 {'image_date': [109, 334], 'image_ratio': [0.3733333333333333, 0.6266666666666667], 'image_idx': [3, 4]}\n",
      "255 {'image_date': [109, 334], 'image_ratio': [0.35111111111111115, 0.6488888888888888], 'image_idx': [3, 4]}\n",
      "260 {'image_date': [109, 334], 'image_ratio': [0.3288888888888889, 0.6711111111111111], 'image_idx': [3, 4]}\n",
      "265 {'image_date': [109, 334], 'image_ratio': [0.30666666666666664, 0.6933333333333334], 'image_idx': [3, 4]}\n",
      "270 {'image_date': [109, 334], 'image_ratio': [0.2844444444444445, 0.7155555555555555], 'image_idx': [3, 4]}\n",
      "275 {'image_date': [109, 334], 'image_ratio': [0.26222222222222225, 0.7377777777777778], 'image_idx': [3, 4]}\n",
      "280 {'image_date': [109, 334], 'image_ratio': [0.24, 0.76], 'image_idx': [3, 4]}\n",
      "285 {'image_date': [109, 334], 'image_ratio': [0.21777777777777774, 0.7822222222222223], 'image_idx': [3, 4]}\n",
      "290 {'image_date': [109, 334], 'image_ratio': [0.1955555555555556, 0.8044444444444444], 'image_idx': [3, 4]}\n",
      "295 {'image_date': [109, 334], 'image_ratio': [0.17333333333333334, 0.8266666666666667], 'image_idx': [3, 4]}\n",
      "300 {'image_date': [109, 334], 'image_ratio': [0.15111111111111108, 0.8488888888888889], 'image_idx': [3, 4]}\n",
      "305 {'image_date': [109, 334], 'image_ratio': [0.12888888888888894, 0.8711111111111111], 'image_idx': [3, 4]}\n",
      "310 {'image_date': [109, 334], 'image_ratio': [0.10666666666666669, 0.8933333333333333], 'image_idx': [3, 4]}\n",
      "315 {'image_date': [109, 334], 'image_ratio': [0.08444444444444443, 0.9155555555555556], 'image_idx': [3, 4]}\n",
      "320 {'image_date': [109, 334], 'image_ratio': [0.06222222222222218, 0.9377777777777778], 'image_idx': [3, 4]}\n",
      "325 {'image_date': [109, 334], 'image_ratio': [0.040000000000000036, 0.96], 'image_idx': [3, 4]}\n",
      "330 {'image_date': [334], 'image_ratio': [1], 'image_idx': [4]}\n",
      "335 {'image_date': [334], 'image_ratio': [1], 'image_idx': [4]}\n",
      "340 {'image_date': [339], 'image_ratio': [1], 'image_idx': [5]}\n",
      "345 {'image_date': [344], 'image_ratio': [1], 'image_idx': [6]}\n",
      "350 {'image_date': [344], 'image_ratio': [1], 'image_idx': [6]}\n",
      "355 {'image_date': [344, 374], 'image_ratio': [0.6333333333333333, 0.36666666666666664], 'image_idx': [6, 7]}\n",
      "(72, 16, 16, 14)\n",
      "There are 0 NA values\n",
      "Saved array of (24, 16, 16, 15) shape to 135787175 \n",
      "\n",
      "Downloading 17/28, 135787177\n"
     ]
    },
    {
     "name": "stdout",
     "output_type": "stream",
     "text": [
      "Original cloud image max is 255\n",
      "Cloud_probs shape: (80, 6, 6)\n"
     ]
    },
    {
     "data": {
      "application/vnd.jupyter.widget-view+json": {
       "model_id": "d512942d69774ce8b9d80600ac52fc6b",
       "version_major": 2,
       "version_minor": 0
      },
      "text/plain": [
       "HBox(children=(IntProgress(value=0, max=58), HTML(value='')))"
      ]
     },
     "metadata": {},
     "output_type": "display_data"
    },
    {
     "name": "stdout",
     "output_type": "stream",
     "text": [
      "\n"
     ]
    },
    {
     "data": {
      "application/vnd.jupyter.widget-view+json": {
       "model_id": "a3161fa90cf549529ddd2f6f1a4c479f",
       "version_major": 2,
       "version_minor": 0
      },
      "text/plain": [
       "HBox(children=(IntProgress(value=0, max=58), HTML(value='')))"
      ]
     },
     "metadata": {},
     "output_type": "display_data"
    },
    {
     "name": "stdout",
     "output_type": "stream",
     "text": [
      "\n",
      "Shadows ((58, 96, 96)) used 0.5 processing units\n",
      "0, Good steps: [-28  27], min dist of 10, and 0.03 thresh\n",
      "1, Good steps: [32 37 42 47 52], min dist of 20, and 0.03 thresh\n",
      "2, Good steps: [62 87], min dist of 25, and 0.01 thresh\n",
      "3, Good steps: [ 92  97 102 112], min dist of 40, and 0.03 thresh\n",
      "4, Good steps: [122], min dist of 50, and 0.03 thresh\n",
      "5, Good steps: [152 172], min dist of 30, and 0.1 thresh\n",
      "6, Good steps: [187], min dist of 10, and 0.1 thresh\n",
      "7, Good steps: [212 232 242], min dist of 15, and 0.06 thresh\n",
      "8, Good steps: [], min dist of 365, and 0.15 thresh\n",
      "9, Good steps: [287], min dist of 45, and 0.15 thresh\n",
      "10, Good steps: [307 312], min dist of 5, and 0.03 thresh\n",
      "11, Good steps: [337 372 382], min dist of 5, and 0.03 thresh\n",
      "[ 1  2  3  4  5  6  7 14 16 17 18 19 24 26 28 30 31 33 35 36 38 40 45 46\n",
      " 47 49 50 51 53 55 56 57]\n",
      "[0.08333333 0.11111111 0.05555556 0.16666667 0.13888889 0.11111111\n",
      " 0.05555556 0.05555556 0.05555556 0.11111111 0.11111111 0.05555556\n",
      " 0.05555556 0.05555556 0.36111111 0.19444444 0.13888889 0.13888889\n",
      " 0.11111111 0.11111111 0.11111111 0.13888889 0.08333333 0.16666667\n",
      " 0.05555556 0.05555556 0.08333333 0.05555556 0.13888889 0.05555556\n",
      " 0.08333333 0.13888889]\n",
      "The cloud-free image dates are [-28, 27, 32, 37, 42, 47, 52, 62, 87, 92, 97, 102, 112, 122, 152, 172, 187, 212, 232, 242, 287, 307, 312, 337, 372, 382]\n",
      "Original 20 meter bands size: (26, 24, 24, 6), using 0.1142578125 PU\n",
      "The original L2A image size is: (26, 48, 48, 4)\n",
      "Shadows (26, 96, 96), clouds (26, 96, 96), S2, (26, 48, 48, 10), S2d, (26,)\n",
      "Shadows (26, 96, 96), clouds (26, 96, 96), S2, (26, 48, 48, 10), S2d, (26,)\n",
      "Removing 0 steps based on ratio\n",
      "Interpolated 207 px\n",
      "Removing 9 steps with >50% interpolation\n",
      "uploading ../data/train-raw/135787177.npy to restoration-monitoring as restoration-mapper/model-data/train/raw/135787177.npy\n",
      "33455 %\n",
      "Shape after DEM: (17, 16, 16, 11)\n",
      "Maximum time distance: 110\n",
      "0 {'image_date': [27, 27], 'image_ratio': [0.5, 0.5], 'image_idx': [0, 0]}\n",
      "5 {'image_date': [27, 27], 'image_ratio': [0.5, 0.5], 'image_idx': [0, 0]}\n",
      "10 {'image_date': [27, 27], 'image_ratio': [0.5, 0.5], 'image_idx': [0, 0]}\n",
      "15 {'image_date': [27, 27], 'image_ratio': [0.5, 0.5], 'image_idx': [0, 0]}\n",
      "20 {'image_date': [27], 'image_ratio': [1], 'image_idx': [0]}\n",
      "25 {'image_date': [27], 'image_ratio': [1], 'image_idx': [0]}\n",
      "30 {'image_date': [32], 'image_ratio': [1], 'image_idx': [1]}\n",
      "35 {'image_date': [37], 'image_ratio': [1], 'image_idx': [2]}\n",
      "40 {'image_date': [42], 'image_ratio': [1], 'image_idx': [3]}\n",
      "45 {'image_date': [47], 'image_ratio': [1], 'image_idx': [4]}\n",
      "50 {'image_date': [52], 'image_ratio': [1], 'image_idx': [5]}\n",
      "55 {'image_date': [52], 'image_ratio': [1], 'image_idx': [5]}\n",
      "60 {'image_date': [52, 87], 'image_ratio': [0.7714285714285715, 0.22857142857142856], 'image_idx': [5, 6]}\n",
      "65 {'image_date': [52, 87], 'image_ratio': [0.6285714285714286, 0.37142857142857144], 'image_idx': [5, 6]}\n",
      "70 {'image_date': [52, 87], 'image_ratio': [0.48571428571428577, 0.5142857142857142], 'image_idx': [5, 6]}\n",
      "75 {'image_date': [52, 87], 'image_ratio': [0.34285714285714286, 0.6571428571428571], 'image_idx': [5, 6]}\n",
      "80 {'image_date': [87], 'image_ratio': [1], 'image_idx': [6]}\n",
      "85 {'image_date': [87], 'image_ratio': [1], 'image_idx': [6]}\n",
      "90 {'image_date': [92], 'image_ratio': [1], 'image_idx': [7]}\n",
      "95 {'image_date': [97], 'image_ratio': [1], 'image_idx': [8]}\n",
      "100 {'image_date': [102], 'image_ratio': [1], 'image_idx': [9]}\n",
      "105 {'image_date': [102], 'image_ratio': [1], 'image_idx': [9]}\n",
      "110 {'image_date': [112], 'image_ratio': [1], 'image_idx': [10]}\n",
      "115 {'image_date': [112], 'image_ratio': [1], 'image_idx': [10]}\n",
      "120 {'image_date': [122], 'image_ratio': [1], 'image_idx': [11]}\n",
      "125 {'image_date': [122], 'image_ratio': [1], 'image_idx': [11]}\n",
      "130 {'image_date': [122, 232], 'image_ratio': [0.9272727272727272, 0.07272727272727272], 'image_idx': [11, 12]}\n",
      "135 {'image_date': [122, 232], 'image_ratio': [0.8818181818181818, 0.11818181818181818], 'image_idx': [11, 12]}\n",
      "140 {'image_date': [122, 232], 'image_ratio': [0.8363636363636364, 0.16363636363636364], 'image_idx': [11, 12]}\n",
      "145 {'image_date': [122, 232], 'image_ratio': [0.7909090909090909, 0.20909090909090908], 'image_idx': [11, 12]}\n",
      "150 {'image_date': [122, 232], 'image_ratio': [0.7454545454545455, 0.2545454545454545], 'image_idx': [11, 12]}\n",
      "155 {'image_date': [122, 232], 'image_ratio': [0.7, 0.3], 'image_idx': [11, 12]}\n",
      "160 {'image_date': [122, 232], 'image_ratio': [0.6545454545454545, 0.34545454545454546], 'image_idx': [11, 12]}\n",
      "165 {'image_date': [122, 232], 'image_ratio': [0.6090909090909091, 0.39090909090909093], 'image_idx': [11, 12]}\n",
      "170 {'image_date': [122, 232], 'image_ratio': [0.5636363636363637, 0.43636363636363634], 'image_idx': [11, 12]}\n",
      "175 {'image_date': [122, 232], 'image_ratio': [0.5181818181818182, 0.4818181818181818], 'image_idx': [11, 12]}\n",
      "180 {'image_date': [122, 232], 'image_ratio': [0.4727272727272728, 0.5272727272727272], 'image_idx': [11, 12]}\n",
      "185 {'image_date': [122, 232], 'image_ratio': [0.42727272727272725, 0.5727272727272728], 'image_idx': [11, 12]}\n",
      "190 {'image_date': [122, 232], 'image_ratio': [0.38181818181818183, 0.6181818181818182], 'image_idx': [11, 12]}\n",
      "195 {'image_date': [122, 232], 'image_ratio': [0.3363636363636363, 0.6636363636363637], 'image_idx': [11, 12]}\n",
      "200 {'image_date': [122, 232], 'image_ratio': [0.2909090909090909, 0.7090909090909091], 'image_idx': [11, 12]}\n",
      "205 {'image_date': [122, 232], 'image_ratio': [0.24545454545454548, 0.7545454545454545], 'image_idx': [11, 12]}\n",
      "210 {'image_date': [122, 232], 'image_ratio': [0.19999999999999996, 0.8], 'image_idx': [11, 12]}\n",
      "215 {'image_date': [122, 232], 'image_ratio': [0.15454545454545454, 0.8454545454545455], 'image_idx': [11, 12]}\n",
      "220 {'image_date': [122, 232], 'image_ratio': [0.10909090909090913, 0.8909090909090909], 'image_idx': [11, 12]}\n",
      "225 {'image_date': [232], 'image_ratio': [1], 'image_idx': [12]}\n",
      "230 {'image_date': [232], 'image_ratio': [1], 'image_idx': [12]}\n",
      "235 {'image_date': [232], 'image_ratio': [1], 'image_idx': [12]}\n",
      "240 {'image_date': [232, 312], 'image_ratio': [0.9, 0.1], 'image_idx': [12, 13]}\n",
      "245 {'image_date': [232, 312], 'image_ratio': [0.8375, 0.1625], 'image_idx': [12, 13]}\n",
      "250 {'image_date': [232, 312], 'image_ratio': [0.775, 0.225], 'image_idx': [12, 13]}\n",
      "255 {'image_date': [232, 312], 'image_ratio': [0.7125, 0.2875], 'image_idx': [12, 13]}\n",
      "260 {'image_date': [232, 312], 'image_ratio': [0.65, 0.35], 'image_idx': [12, 13]}\n",
      "265 {'image_date': [232, 312], 'image_ratio': [0.5875, 0.4125], 'image_idx': [12, 13]}\n",
      "270 {'image_date': [232, 312], 'image_ratio': [0.525, 0.475], 'image_idx': [12, 13]}\n",
      "275 {'image_date': [232, 312], 'image_ratio': [0.4625, 0.5375], 'image_idx': [12, 13]}\n",
      "280 {'image_date': [232, 312], 'image_ratio': [0.4, 0.6], 'image_idx': [12, 13]}\n",
      "285 {'image_date': [232, 312], 'image_ratio': [0.3375, 0.6625], 'image_idx': [12, 13]}\n",
      "290 {'image_date': [232, 312], 'image_ratio': [0.275, 0.725], 'image_idx': [12, 13]}\n",
      "295 {'image_date': [232, 312], 'image_ratio': [0.21250000000000002, 0.7875], 'image_idx': [12, 13]}\n",
      "300 {'image_date': [232, 312], 'image_ratio': [0.15000000000000002, 0.85], 'image_idx': [12, 13]}\n",
      "305 {'image_date': [312], 'image_ratio': [1], 'image_idx': [13]}\n",
      "310 {'image_date': [312], 'image_ratio': [1], 'image_idx': [13]}\n",
      "315 {'image_date': [312], 'image_ratio': [1], 'image_idx': [13]}\n",
      "320 {'image_date': [312, 337], 'image_ratio': [0.6799999999999999, 0.32], 'image_idx': [13, 14]}\n",
      "325 {'image_date': [312, 337], 'image_ratio': [0.48, 0.52], 'image_idx': [13, 14]}\n",
      "330 {'image_date': [337], 'image_ratio': [1], 'image_idx': [14]}\n",
      "335 {'image_date': [337], 'image_ratio': [1], 'image_idx': [14]}\n",
      "340 {'image_date': [337], 'image_ratio': [1], 'image_idx': [14]}\n",
      "345 {'image_date': [337, 372], 'image_ratio': [0.7714285714285715, 0.22857142857142856], 'image_idx': [14, 15]}\n",
      "350 {'image_date': [337, 372], 'image_ratio': [0.6285714285714286, 0.37142857142857144], 'image_idx': [14, 15]}\n",
      "355 {'image_date': [337, 372], 'image_ratio': [0.48571428571428577, 0.5142857142857142], 'image_idx': [14, 15]}\n",
      "(72, 16, 16, 14)\n",
      "There are 0 NA values\n",
      "Saved array of (24, 16, 16, 15) shape to 135787177 \n",
      "\n",
      "Downloading 18/28, 135787179\n"
     ]
    },
    {
     "name": "stdout",
     "output_type": "stream",
     "text": [
      "Original cloud image max is 255\n",
      "Cloud_probs shape: (74, 6, 6)\n"
     ]
    },
    {
     "data": {
      "application/vnd.jupyter.widget-view+json": {
       "model_id": "d12155a9b7c949cc9ab1b8b9f69cc1b3",
       "version_major": 2,
       "version_minor": 0
      },
      "text/plain": [
       "HBox(children=(IntProgress(value=0, max=53), HTML(value='')))"
      ]
     },
     "metadata": {},
     "output_type": "display_data"
    },
    {
     "name": "stdout",
     "output_type": "stream",
     "text": [
      "\n"
     ]
    },
    {
     "data": {
      "application/vnd.jupyter.widget-view+json": {
       "model_id": "179a5ecc86e94504b14138da4399810d",
       "version_major": 2,
       "version_minor": 0
      },
      "text/plain": [
       "HBox(children=(IntProgress(value=0, max=53), HTML(value='')))"
      ]
     },
     "metadata": {},
     "output_type": "display_data"
    },
    {
     "name": "stdout",
     "output_type": "stream",
     "text": [
      "\n",
      "Shadows ((53, 96, 96)) used 0.5 processing units\n",
      "0, Good steps: [10 15 20 30], min dist of 5, and 0.01 thresh\n",
      "1, Good steps: [35 45 50 55], min dist of 15, and 0.01 thresh\n",
      "2, Good steps: [60 65 70 80 85], min dist of 20, and 0.01 thresh\n",
      "3, Good steps: [ 90  95 100 105 110 115], min dist of 25, and 0.01 thresh\n",
      "4, Good steps: [130 140], min dist of 40, and 0.03 thresh\n",
      "5, Good steps: [170 180], min dist of 35, and 0.03 thresh\n",
      "6, Good steps: [210], min dist of 30, and 0.06 thresh\n",
      "7, Good steps: [215 235 240], min dist of 20, and 0.01 thresh\n",
      "8, Good steps: [245 250 260], min dist of 45, and 0.03 thresh\n",
      "9, Good steps: [295], min dist of 35, and 0.03 thresh\n",
      "10, Good steps: [305 320], min dist of 25, and 0.01 thresh\n",
      "11, Good steps: [335 345 350 355], min dist of 5, and 0.01 thresh\n",
      "[ 0  1  2  3  4  5 26 39 41 46 47 48 49 50 51 52]\n",
      "[0.         0.         0.         0.         0.         0.\n",
      " 0.41666667 0.05555556 0.13888889 0.         0.         0.\n",
      " 0.         0.         0.         0.        ]\n",
      "The cloud-free image dates are [10, 15, 20, 30, 35, 45, 50, 55, 60, 65, 70, 80, 85, 90, 95, 100, 105, 110, 115, 130, 140, 170, 180, 210, 215, 235, 240, 245, 250, 260, 295, 305, 320, 335, 345, 350, 355]\n",
      "Original 20 meter bands size: (37, 24, 24, 6), using 0.16259765625 PU\n",
      "The original L2A image size is: (37, 48, 48, 4)\n",
      "Shadows (37, 96, 96), clouds (37, 96, 96), S2, (37, 48, 48, 10), S2d, (37,)\n",
      "Shadows (37, 96, 96), clouds (37, 96, 96), S2, (37, 48, 48, 10), S2d, (37,)\n",
      "Removing 1 steps based on ratio\n",
      "Interpolated 0 px\n",
      "Removing 0 steps with >50% interpolation\n",
      "uploading ../data/train-raw/135787179.npy to restoration-monitoring as restoration-mapper/model-data/train/raw/135787179.npy\n",
      "Shape after DEM: (36, 16, 16, 11)\n",
      "Maximum time distance: 35\n",
      "(72, 16, 16, 14)\n",
      "There are 0 NA values\n",
      "Saved array of (24, 16, 16, 15) shape to 135787179 \n",
      "\n",
      "Downloading 19/28, 135787183\n",
      "Original cloud image max is 255\n",
      "Cloud_probs shape: (72, 6, 6)\n"
     ]
    },
    {
     "data": {
      "application/vnd.jupyter.widget-view+json": {
       "model_id": "80639277e52643a48f413e573a0b632c",
       "version_major": 2,
       "version_minor": 0
      },
      "text/plain": [
       "HBox(children=(IntProgress(value=0, max=53), HTML(value='')))"
      ]
     },
     "metadata": {},
     "output_type": "display_data"
    },
    {
     "name": "stdout",
     "output_type": "stream",
     "text": [
      "\n"
     ]
    },
    {
     "data": {
      "application/vnd.jupyter.widget-view+json": {
       "model_id": "45053236625040c1a1e5e1f96073213c",
       "version_major": 2,
       "version_minor": 0
      },
      "text/plain": [
       "HBox(children=(IntProgress(value=0, max=53), HTML(value='')))"
      ]
     },
     "metadata": {},
     "output_type": "display_data"
    },
    {
     "name": "stdout",
     "output_type": "stream",
     "text": [
      "\n",
      "Shadows ((53, 96, 96)) used 0.5 processing units\n",
      "0, Good steps: [ 8 18 23 28], min dist of 5, and 0.01 thresh\n",
      "1, Good steps: [33 38 43 48 53 58], min dist of 20, and 0.01 thresh\n",
      "2, Good steps: [63 68 73 83 88], min dist of 25, and 0.01 thresh\n",
      "3, Good steps: [ 98 103], min dist of 35, and 0.1 thresh\n",
      "4, Good steps: [128 138 143 148], min dist of 20, and 0.01 thresh\n",
      "5, Good steps: [158 163 168], min dist of 20, and 0.01 thresh\n",
      "6, Good steps: [183 188 193 208], min dist of 25, and 0.01 thresh\n",
      "7, Good steps: [213 218 223 228 238], min dist of 20, and 0.01 thresh\n",
      "8, Good steps: [243 248 263 268], min dist of 20, and 0.01 thresh\n",
      "9, Good steps: [273 293 303], min dist of 30, and 0.03 thresh\n",
      "10, Good steps: [323 333], min dist of 10, and 0.01 thresh\n",
      "11, Good steps: [338 343 363 388], min dist of 5, and 0.01 thresh\n",
      "[ 0  1 40 47 49 50 52]\n",
      "[0.         0.         0.13888889 0.05555556 0.13888889 0.05555556\n",
      " 0.        ]\n",
      "The cloud-free image dates are [8, 18, 23, 28, 33, 38, 43, 48, 53, 58, 68, 73, 88, 98, 103, 128, 138, 143, 148, 158, 163, 168, 183, 188, 193, 208, 213, 218, 223, 228, 238, 243, 248, 263, 268, 273, 293, 303, 323, 333, 338, 343, 363, 388]\n",
      "Original 20 meter bands size: (44, 24, 24, 6), using 0.193359375 PU\n",
      "The original L2A image size is: (44, 48, 48, 4)\n",
      "Shadows (46, 96, 96), clouds (46, 96, 96), S2, (44, 48, 48, 10), S2d, (44,)\n",
      "Shadows (44, 96, 96), clouds (44, 96, 96), S2, (44, 48, 48, 10), S2d, (44,)\n",
      "Removing 0 steps based on ratio\n",
      "Interpolated 13 px\n",
      "Removing 1 steps with >50% interpolation\n",
      "uploading ../data/train-raw/135787183.npy to restoration-monitoring as restoration-mapper/model-data/train/raw/135787183.npy\n",
      "Shape after DEM: (43, 16, 16, 11)\n",
      "Maximum time distance: 25\n",
      "(72, 16, 16, 14)\n",
      "There are 0 NA values\n",
      "Saved array of (24, 16, 16, 15) shape to 135787183 \n",
      "\n",
      "Downloading 20/28, 135787196\n",
      "Original cloud image max is 255\n",
      "Cloud_probs shape: (77, 6, 6)\n"
     ]
    },
    {
     "data": {
      "application/vnd.jupyter.widget-view+json": {
       "model_id": "4a963d5662b7474b9a09c8cc31d31c66",
       "version_major": 2,
       "version_minor": 0
      },
      "text/plain": [
       "HBox(children=(IntProgress(value=0, max=43), HTML(value='')))"
      ]
     },
     "metadata": {},
     "output_type": "display_data"
    },
    {
     "name": "stdout",
     "output_type": "stream",
     "text": [
      "\n"
     ]
    },
    {
     "data": {
      "application/vnd.jupyter.widget-view+json": {
       "model_id": "3c406c598d1144f4ac89b1865e8f57e1",
       "version_major": 2,
       "version_minor": 0
      },
      "text/plain": [
       "HBox(children=(IntProgress(value=0, max=43), HTML(value='')))"
      ]
     },
     "metadata": {},
     "output_type": "display_data"
    },
    {
     "name": "stdout",
     "output_type": "stream",
     "text": [
      "\n",
      "Shadows ((43, 96, 96)) used 0.4 processing units\n",
      "0, Good steps: [13 18 23 28], min dist of 10, and 0.01 thresh\n",
      "1, Good steps: [38 48 53 58], min dist of 20, and 0.01 thresh\n",
      "2, Good steps: [63 68 73 83 88], min dist of 25, and 0.01 thresh\n",
      "3, Good steps: [103 108 113], min dist of 20, and 0.01 thresh\n",
      "4, Good steps: [123 138], min dist of 25, and 0.01 thresh\n",
      "5, Good steps: [158 163], min dist of 55, and 0.03 thresh\n",
      "6, Good steps: [], min dist of 365, and 0.15 thresh\n",
      "7, Good steps: [218 238], min dist of 45, and 0.03 thresh\n",
      "8, Good steps: [], min dist of 365, and 0.15 thresh\n",
      "9, Good steps: [278 293], min dist of 45, and 0.03 thresh\n",
      "10, Good steps: [333], min dist of 40, and 0.1 thresh\n",
      "11, Good steps: [338 343 373 388], min dist of 5, and 0.01 thresh\n",
      "[ 0  1  2  3  4  5 11 24 25 29 31 32 35 42]\n",
      "[0.13888889 0.         0.11111111 0.         0.         0.\n",
      " 0.08333333 0.02777778 0.02777778 0.16666667 0.05555556 0.13888889\n",
      " 0.11111111 0.        ]\n",
      "The cloud-free image dates are [13, 18, 23, 28, 38, 48, 53, 58, 68, 73, 88, 103, 108, 113, 123, 138, 158, 163, 218, 238, 278, 293, 333, 338, 343, 373, 388]\n",
      "Original 20 meter bands size: (27, 24, 24, 6), using 0.11865234375 PU\n",
      "The original L2A image size is: (27, 48, 48, 4)\n",
      "Shadows (29, 96, 96), clouds (29, 96, 96), S2, (27, 48, 48, 10), S2d, (27,)\n",
      "Shadows (27, 96, 96), clouds (27, 96, 96), S2, (27, 48, 48, 10), S2d, (27,)\n",
      "Removing 0 steps based on ratio\n",
      "Interpolated 68 px\n",
      "Removing 2 steps with >50% interpolation\n",
      "uploading ../data/train-raw/135787196.npy to restoration-monitoring as restoration-mapper/model-data/train/raw/135787196.npy\n",
      "Shape after DEM: (25, 16, 16, 11)\n",
      "Maximum time distance: 75\n",
      "0 {'image_date': [13, 13], 'image_ratio': [0.5, 0.5], 'image_idx': [0, 0]}\n",
      "5 {'image_date': [13, 13], 'image_ratio': [0.5, 0.5], 'image_idx': [0, 0]}\n",
      "10 {'image_date': [13], 'image_ratio': [1], 'image_idx': [0]}\n",
      "15 {'image_date': [13], 'image_ratio': [1], 'image_idx': [0]}\n",
      "20 {'image_date': [18], 'image_ratio': [1], 'image_idx': [1]}\n",
      "25 {'image_date': [23], 'image_ratio': [1], 'image_idx': [2]}\n",
      "30 {'image_date': [28], 'image_ratio': [1], 'image_idx': [3]}\n",
      "35 {'image_date': [38], 'image_ratio': [1], 'image_idx': [4]}\n",
      "40 {'image_date': [38], 'image_ratio': [1], 'image_idx': [4]}\n",
      "45 {'image_date': [48], 'image_ratio': [1], 'image_idx': [5]}\n",
      "50 {'image_date': [48], 'image_ratio': [1], 'image_idx': [5]}\n",
      "55 {'image_date': [53], 'image_ratio': [1], 'image_idx': [6]}\n",
      "60 {'image_date': [58], 'image_ratio': [1], 'image_idx': [7]}\n",
      "65 {'image_date': [68], 'image_ratio': [1], 'image_idx': [8]}\n",
      "70 {'image_date': [68], 'image_ratio': [1], 'image_idx': [8]}\n",
      "75 {'image_date': [73], 'image_ratio': [1], 'image_idx': [9]}\n",
      "80 {'image_date': [73], 'image_ratio': [1], 'image_idx': [9]}\n",
      "85 {'image_date': [88], 'image_ratio': [1], 'image_idx': [10]}\n",
      "90 {'image_date': [88], 'image_ratio': [1], 'image_idx': [10]}\n",
      "95 {'image_date': [88], 'image_ratio': [1], 'image_idx': [10]}\n",
      "100 {'image_date': [103], 'image_ratio': [1], 'image_idx': [11]}\n",
      "105 {'image_date': [103], 'image_ratio': [1], 'image_idx': [11]}\n",
      "110 {'image_date': [108], 'image_ratio': [1], 'image_idx': [12]}\n",
      "115 {'image_date': [113], 'image_ratio': [1], 'image_idx': [13]}\n",
      "120 {'image_date': [123], 'image_ratio': [1], 'image_idx': [14]}\n",
      "125 {'image_date': [123], 'image_ratio': [1], 'image_idx': [14]}\n",
      "130 {'image_date': [123], 'image_ratio': [1], 'image_idx': [14]}\n",
      "135 {'image_date': [138], 'image_ratio': [1], 'image_idx': [15]}\n",
      "140 {'image_date': [138], 'image_ratio': [1], 'image_idx': [15]}\n",
      "145 {'image_date': [138], 'image_ratio': [1], 'image_idx': [15]}\n",
      "150 {'image_date': [138, 158], 'image_ratio': [0.4, 0.6], 'image_idx': [15, 16]}\n",
      "155 {'image_date': [158], 'image_ratio': [1], 'image_idx': [16]}\n",
      "160 {'image_date': [158], 'image_ratio': [1], 'image_idx': [16]}\n",
      "165 {'image_date': [163], 'image_ratio': [1], 'image_idx': [17]}\n",
      "170 {'image_date': [163], 'image_ratio': [1], 'image_idx': [17]}\n",
      "175 {'image_date': [163, 238], 'image_ratio': [0.84, 0.16], 'image_idx': [17, 18]}\n",
      "180 {'image_date': [163, 238], 'image_ratio': [0.7733333333333333, 0.22666666666666666], 'image_idx': [17, 18]}\n",
      "185 {'image_date': [163, 238], 'image_ratio': [0.7066666666666667, 0.29333333333333333], 'image_idx': [17, 18]}\n",
      "190 {'image_date': [163, 238], 'image_ratio': [0.64, 0.36], 'image_idx': [17, 18]}\n",
      "195 {'image_date': [163, 238], 'image_ratio': [0.5733333333333333, 0.4266666666666667], 'image_idx': [17, 18]}\n",
      "200 {'image_date': [163, 238], 'image_ratio': [0.5066666666666666, 0.49333333333333335], 'image_idx': [17, 18]}\n",
      "205 {'image_date': [163, 238], 'image_ratio': [0.43999999999999995, 0.56], 'image_idx': [17, 18]}\n",
      "210 {'image_date': [163, 238], 'image_ratio': [0.3733333333333333, 0.6266666666666667], 'image_idx': [17, 18]}\n",
      "215 {'image_date': [163, 238], 'image_ratio': [0.30666666666666664, 0.6933333333333334], 'image_idx': [17, 18]}\n",
      "220 {'image_date': [163, 238], 'image_ratio': [0.24, 0.76], 'image_idx': [17, 18]}\n",
      "225 {'image_date': [163, 238], 'image_ratio': [0.17333333333333334, 0.8266666666666667], 'image_idx': [17, 18]}\n",
      "230 {'image_date': [163, 238], 'image_ratio': [0.10666666666666669, 0.8933333333333333], 'image_idx': [17, 18]}\n",
      "235 {'image_date': [238], 'image_ratio': [1], 'image_idx': [18]}\n",
      "240 {'image_date': [238], 'image_ratio': [1], 'image_idx': [18]}\n",
      "245 {'image_date': [238], 'image_ratio': [1], 'image_idx': [18]}\n",
      "250 {'image_date': [238, 293], 'image_ratio': [0.7818181818181819, 0.21818181818181817], 'image_idx': [18, 19]}\n",
      "255 {'image_date': [238, 293], 'image_ratio': [0.6909090909090909, 0.3090909090909091], 'image_idx': [18, 19]}\n",
      "260 {'image_date': [238, 293], 'image_ratio': [0.6, 0.4], 'image_idx': [18, 19]}\n",
      "265 {'image_date': [238, 293], 'image_ratio': [0.509090909090909, 0.4909090909090909], 'image_idx': [18, 19]}\n",
      "270 {'image_date': [238, 293], 'image_ratio': [0.4181818181818182, 0.5818181818181818], 'image_idx': [18, 19]}\n",
      "275 {'image_date': [238, 293], 'image_ratio': [0.32727272727272727, 0.6727272727272727], 'image_idx': [18, 19]}\n",
      "280 {'image_date': [238, 293], 'image_ratio': [0.23636363636363633, 0.7636363636363637], 'image_idx': [18, 19]}\n",
      "285 {'image_date': [238, 293], 'image_ratio': [0.1454545454545455, 0.8545454545454545], 'image_idx': [18, 19]}\n",
      "290 {'image_date': [293], 'image_ratio': [1], 'image_idx': [19]}\n",
      "295 {'image_date': [293], 'image_ratio': [1], 'image_idx': [19]}\n",
      "300 {'image_date': [293], 'image_ratio': [1], 'image_idx': [19]}\n",
      "305 {'image_date': [293, 333], 'image_ratio': [0.7, 0.3], 'image_idx': [19, 20]}\n",
      "310 {'image_date': [293, 333], 'image_ratio': [0.575, 0.425], 'image_idx': [19, 20]}\n",
      "315 {'image_date': [293, 333], 'image_ratio': [0.44999999999999996, 0.55], 'image_idx': [19, 20]}\n",
      "320 {'image_date': [293, 333], 'image_ratio': [0.32499999999999996, 0.675], 'image_idx': [19, 20]}\n",
      "325 {'image_date': [293, 333], 'image_ratio': [0.19999999999999996, 0.8], 'image_idx': [19, 20]}\n",
      "330 {'image_date': [333], 'image_ratio': [1], 'image_idx': [20]}\n",
      "335 {'image_date': [333], 'image_ratio': [1], 'image_idx': [20]}\n",
      "340 {'image_date': [338], 'image_ratio': [1], 'image_idx': [21]}\n",
      "345 {'image_date': [343], 'image_ratio': [1], 'image_idx': [22]}\n",
      "350 {'image_date': [343], 'image_ratio': [1], 'image_idx': [22]}\n",
      "355 {'image_date': [343, 373], 'image_ratio': [0.6, 0.4], 'image_idx': [22, 23]}\n",
      "(72, 16, 16, 14)\n",
      "There are 0 NA values\n",
      "Saved array of (24, 16, 16, 15) shape to 135787196 \n",
      "\n",
      "Downloading 21/28, 135787198\n",
      "Original cloud image max is 255\n",
      "Cloud_probs shape: (77, 6, 6)\n"
     ]
    },
    {
     "data": {
      "application/vnd.jupyter.widget-view+json": {
       "model_id": "9c288f664de041d6914ae5820a5ed059",
       "version_major": 2,
       "version_minor": 0
      },
      "text/plain": [
       "HBox(children=(IntProgress(value=0, max=46), HTML(value='')))"
      ]
     },
     "metadata": {},
     "output_type": "display_data"
    },
    {
     "name": "stdout",
     "output_type": "stream",
     "text": [
      "\n"
     ]
    },
    {
     "data": {
      "application/vnd.jupyter.widget-view+json": {
       "model_id": "e627953b5ee94fdab474c4ba9004c29b",
       "version_major": 2,
       "version_minor": 0
      },
      "text/plain": [
       "HBox(children=(IntProgress(value=0, max=46), HTML(value='')))"
      ]
     },
     "metadata": {},
     "output_type": "display_data"
    },
    {
     "name": "stdout",
     "output_type": "stream",
     "text": [
      "\n",
      "Shadows ((46, 96, 96)) used 0.4 processing units\n",
      "0, Good steps: [-12  23  28], min dist of 10, and 0.01 thresh\n",
      "1, Good steps: [38 43 48 53 58], min dist of 20, and 0.01 thresh\n",
      "2, Good steps: [63 68 73 83 88], min dist of 25, and 0.01 thresh\n",
      "3, Good steps: [ 98 103 113], min dist of 30, and 0.03 thresh\n",
      "4, Good steps: [128 138 143], min dist of 15, and 0.01 thresh\n",
      "5, Good steps: [163 168 178], min dist of 15, and 0.01 thresh\n",
      "6, Good steps: [183 188 193], min dist of 5, and 0.01 thresh\n",
      "7, Good steps: [218 223 238], min dist of 15, and 0.01 thresh\n",
      "8, Good steps: [248 263], min dist of 15, and 0.01 thresh\n",
      "9, Good steps: [303], min dist of 40, and 0.03 thresh\n",
      "10, Good steps: [323 328], min dist of 10, and 0.15 thresh\n",
      "11, Good steps: [338 343 363 373], min dist of 10, and 0.01 thresh\n",
      "[ 1  2  3  4  5 20 31 34 45]\n",
      "[0.08333333 0.05555556 0.08333333 0.02777778 0.08333333 0.05555556\n",
      " 0.16666667 0.22222222 0.        ]\n",
      "The cloud-free image dates are [-12, 23, 28, 38, 43, 48, 53, 58, 68, 73, 88, 98, 103, 113, 128, 138, 143, 163, 168, 178, 183, 188, 193, 218, 223, 238, 248, 263, 303, 323, 328, 338, 343, 363, 373]\n",
      "Original 20 meter bands size: (35, 24, 24, 6), using 0.15380859375 PU\n",
      "The original L2A image size is: (35, 48, 48, 4)\n",
      "Shadows (37, 96, 96), clouds (37, 96, 96), S2, (35, 48, 48, 10), S2d, (35,)\n",
      "Shadows (35, 96, 96), clouds (35, 96, 96), S2, (35, 48, 48, 10), S2d, (35,)\n",
      "Removing 3 steps based on ratio\n",
      "Interpolated 0 px\n",
      "Removing 0 steps with >50% interpolation\n",
      "uploading ../data/train-raw/135787198.npy to restoration-monitoring as restoration-mapper/model-data/train/raw/135787198.npy\n",
      "Shape after DEM: (32, 16, 16, 11)\n",
      "Maximum time distance: 40\n",
      "(72, 16, 16, 14)\n",
      "There are 0 NA values\n",
      "Saved array of (24, 16, 16, 15) shape to 135787198 \n",
      "\n",
      "Downloading 22/28, 135787199\n",
      "Original cloud image max is 255\n",
      "Cloud_probs shape: (64, 6, 6)\n"
     ]
    },
    {
     "data": {
      "application/vnd.jupyter.widget-view+json": {
       "model_id": "f6a3c231199c4dd2943d806d513622b7",
       "version_major": 2,
       "version_minor": 0
      },
      "text/plain": [
       "HBox(children=(IntProgress(value=0, max=27), HTML(value='')))"
      ]
     },
     "metadata": {},
     "output_type": "display_data"
    },
    {
     "name": "stdout",
     "output_type": "stream",
     "text": [
      "\n"
     ]
    },
    {
     "data": {
      "application/vnd.jupyter.widget-view+json": {
       "model_id": "b6c7b82058e94e21a01a650a395193af",
       "version_major": 2,
       "version_minor": 0
      },
      "text/plain": [
       "HBox(children=(IntProgress(value=0, max=27), HTML(value='')))"
      ]
     },
     "metadata": {},
     "output_type": "display_data"
    },
    {
     "name": "stdout",
     "output_type": "stream",
     "text": [
      "\n",
      "Shadows ((27, 96, 96)) used 0.2 processing units\n",
      "0, Good steps: [-29  -9], min dist of 60, and 0.06 thresh\n",
      "1, Good steps: [46 51], min dist of 45, and 0.03 thresh\n",
      "2, Good steps: [61], min dist of 40, and 0.06 thresh\n",
      "3, Good steps: [ 96 101 111], min dist of 65, and 0.06 thresh\n",
      "4, Good steps: [], min dist of 365, and 0.15 thresh\n",
      "5, Good steps: [156], min dist of 45, and 0.03 thresh\n",
      "6, Good steps: [196 211], min dist of 20, and 0.03 thresh\n",
      "7, Good steps: [236], min dist of 25, and 0.01 thresh\n",
      "8, Good steps: [261], min dist of 25, and 0.03 thresh\n",
      "9, Good steps: [276 301], min dist of 25, and 0.01 thresh\n",
      "10, Good steps: [311 326], min dist of 15, and 0.06 thresh\n",
      "11, Good steps: [341 381 396], min dist of 15, and 0.15 thresh\n",
      "[ 2  3  4 11 13 19 23]\n",
      "[0.11111111 0.11111111 0.13888889 0.16666667 0.13888889 0.22222222\n",
      " 0.13888889]\n",
      "The cloud-free image dates are [-29, -9, 46, 51, 61, 96, 101, 111, 156, 196, 211, 236, 261, 276, 301, 311, 326, 341, 381, 396]\n",
      "Original 20 meter bands size: (20, 24, 24, 6), using 0.087890625 PU\n",
      "The original L2A image size is: (20, 48, 48, 4)\n",
      "Shadows (20, 96, 96), clouds (20, 96, 96), S2, (20, 48, 48, 10), S2d, (20,)\n",
      "Shadows (20, 96, 96), clouds (20, 96, 96), S2, (20, 48, 48, 10), S2d, (20,)\n",
      "Removing 0 steps based on ratio\n",
      "Interpolated 227 px\n",
      "Removing 8 steps with >50% interpolation\n",
      "uploading ../data/train-raw/135787199.npy to restoration-monitoring as restoration-mapper/model-data/train/raw/135787199.npy\n",
      "Shape after DEM: (12, 16, 16, 11)\n",
      "Maximum time distance: 100\n",
      "0 {'image_date': [-9, 51], 'image_ratio': [0.85, 0.15], 'image_idx': [1, 2]}\n",
      "5 {'image_date': [-9, 51], 'image_ratio': [0.7666666666666666, 0.23333333333333334], 'image_idx': [1, 2]}\n",
      "10 {'image_date': [-9, 51], 'image_ratio': [0.6833333333333333, 0.31666666666666665], 'image_idx': [1, 2]}\n",
      "15 {'image_date': [-9, 51], 'image_ratio': [0.6, 0.4], 'image_idx': [1, 2]}\n",
      "20 {'image_date': [-9, 51], 'image_ratio': [0.5166666666666666, 0.48333333333333334], 'image_idx': [1, 2]}\n",
      "25 {'image_date': [-9, 51], 'image_ratio': [0.43333333333333335, 0.5666666666666667], 'image_idx': [1, 2]}\n",
      "30 {'image_date': [-9, 51], 'image_ratio': [0.35, 0.65], 'image_idx': [1, 2]}\n",
      "35 {'image_date': [-9, 51], 'image_ratio': [0.2666666666666667, 0.7333333333333333], 'image_idx': [1, 2]}\n",
      "40 {'image_date': [-9, 51], 'image_ratio': [0.18333333333333335, 0.8166666666666667], 'image_idx': [1, 2]}\n",
      "45 {'image_date': [51], 'image_ratio': [1], 'image_idx': [2]}\n",
      "50 {'image_date': [51], 'image_ratio': [1], 'image_idx': [2]}\n",
      "55 {'image_date': [51], 'image_ratio': [1], 'image_idx': [2]}\n",
      "60 {'image_date': [61], 'image_ratio': [1], 'image_idx': [3]}\n",
      "65 {'image_date': [61], 'image_ratio': [1], 'image_idx': [3]}\n",
      "70 {'image_date': [61, 96], 'image_ratio': [0.7428571428571429, 0.2571428571428571], 'image_idx': [3, 4]}\n",
      "75 {'image_date': [61, 96], 'image_ratio': [0.6, 0.4], 'image_idx': [3, 4]}\n",
      "80 {'image_date': [61, 96], 'image_ratio': [0.4571428571428572, 0.5428571428571428], 'image_idx': [3, 4]}\n",
      "85 {'image_date': [61, 96], 'image_ratio': [0.3142857142857143, 0.6857142857142857], 'image_idx': [3, 4]}\n",
      "90 {'image_date': [96], 'image_ratio': [1], 'image_idx': [4]}\n",
      "95 {'image_date': [96], 'image_ratio': [1], 'image_idx': [4]}\n",
      "100 {'image_date': [101], 'image_ratio': [1], 'image_idx': [5]}\n",
      "105 {'image_date': [101], 'image_ratio': [1], 'image_idx': [5]}\n",
      "110 {'image_date': [111], 'image_ratio': [1], 'image_idx': [6]}\n",
      "115 {'image_date': [111], 'image_ratio': [1], 'image_idx': [6]}\n",
      "120 {'image_date': [111, 211], 'image_ratio': [0.91, 0.09], 'image_idx': [6, 7]}\n",
      "125 {'image_date': [111, 211], 'image_ratio': [0.86, 0.14], 'image_idx': [6, 7]}\n",
      "130 {'image_date': [111, 211], 'image_ratio': [0.81, 0.19], 'image_idx': [6, 7]}\n",
      "135 {'image_date': [111, 211], 'image_ratio': [0.76, 0.24], 'image_idx': [6, 7]}\n",
      "140 {'image_date': [111, 211], 'image_ratio': [0.71, 0.29], 'image_idx': [6, 7]}\n",
      "145 {'image_date': [111, 211], 'image_ratio': [0.6599999999999999, 0.34], 'image_idx': [6, 7]}\n",
      "150 {'image_date': [111, 211], 'image_ratio': [0.61, 0.39], 'image_idx': [6, 7]}\n",
      "155 {'image_date': [111, 211], 'image_ratio': [0.56, 0.44], 'image_idx': [6, 7]}\n",
      "160 {'image_date': [111, 211], 'image_ratio': [0.51, 0.49], 'image_idx': [6, 7]}\n",
      "165 {'image_date': [111, 211], 'image_ratio': [0.45999999999999996, 0.54], 'image_idx': [6, 7]}\n",
      "170 {'image_date': [111, 211], 'image_ratio': [0.41000000000000003, 0.59], 'image_idx': [6, 7]}\n",
      "175 {'image_date': [111, 211], 'image_ratio': [0.36, 0.64], 'image_idx': [6, 7]}\n",
      "180 {'image_date': [111, 211], 'image_ratio': [0.31000000000000005, 0.69], 'image_idx': [6, 7]}\n",
      "185 {'image_date': [111, 211], 'image_ratio': [0.26, 0.74], 'image_idx': [6, 7]}\n",
      "190 {'image_date': [111, 211], 'image_ratio': [0.20999999999999996, 0.79], 'image_idx': [6, 7]}\n",
      "195 {'image_date': [111, 211], 'image_ratio': [0.16000000000000003, 0.84], 'image_idx': [6, 7]}\n",
      "200 {'image_date': [111, 211], 'image_ratio': [0.10999999999999999, 0.89], 'image_idx': [6, 7]}\n",
      "205 {'image_date': [211], 'image_ratio': [1], 'image_idx': [7]}\n",
      "210 {'image_date': [211], 'image_ratio': [1], 'image_idx': [7]}\n",
      "215 {'image_date': [211], 'image_ratio': [1], 'image_idx': [7]}\n",
      "220 {'image_date': [211, 236], 'image_ratio': [0.64, 0.36], 'image_idx': [7, 8]}\n",
      "225 {'image_date': [211, 236], 'image_ratio': [0.43999999999999995, 0.56], 'image_idx': [7, 8]}\n",
      "230 {'image_date': [236], 'image_ratio': [1], 'image_idx': [8]}\n",
      "235 {'image_date': [236], 'image_ratio': [1], 'image_idx': [8]}\n",
      "240 {'image_date': [236], 'image_ratio': [1], 'image_idx': [8]}\n",
      "245 {'image_date': [236, 276], 'image_ratio': [0.775, 0.225], 'image_idx': [8, 9]}\n",
      "250 {'image_date': [236, 276], 'image_ratio': [0.65, 0.35], 'image_idx': [8, 9]}\n",
      "255 {'image_date': [236, 276], 'image_ratio': [0.525, 0.475], 'image_idx': [8, 9]}\n",
      "260 {'image_date': [236, 276], 'image_ratio': [0.4, 0.6], 'image_idx': [8, 9]}\n",
      "265 {'image_date': [236, 276], 'image_ratio': [0.275, 0.725], 'image_idx': [8, 9]}\n",
      "270 {'image_date': [276], 'image_ratio': [1], 'image_idx': [9]}\n",
      "275 {'image_date': [276], 'image_ratio': [1], 'image_idx': [9]}\n",
      "280 {'image_date': [276], 'image_ratio': [1], 'image_idx': [9]}\n",
      "285 {'image_date': [276, 301], 'image_ratio': [0.64, 0.36], 'image_idx': [9, 10]}\n",
      "290 {'image_date': [276, 301], 'image_ratio': [0.43999999999999995, 0.56], 'image_idx': [9, 10]}\n",
      "295 {'image_date': [301], 'image_ratio': [1], 'image_idx': [10]}\n",
      "300 {'image_date': [301], 'image_ratio': [1], 'image_idx': [10]}\n",
      "305 {'image_date': [301], 'image_ratio': [1], 'image_idx': [10]}\n",
      "310 {'image_date': [301, 326], 'image_ratio': [0.64, 0.36], 'image_idx': [10, 11]}\n",
      "315 {'image_date': [301, 326], 'image_ratio': [0.43999999999999995, 0.56], 'image_idx': [10, 11]}\n",
      "320 {'image_date': [326], 'image_ratio': [1], 'image_idx': [11]}\n",
      "325 {'image_date': [326], 'image_ratio': [1], 'image_idx': [11]}\n",
      "330 {'image_date': [326], 'image_ratio': [1], 'image_idx': [11]}\n",
      "335 {'image_date': [326, 326], 'image_ratio': [0.5, 0.5], 'image_idx': [11, 11]}\n",
      "340 {'image_date': [326, 326], 'image_ratio': [0.5, 0.5], 'image_idx': [11, 11]}\n",
      "345 {'image_date': [326, 326], 'image_ratio': [0.5, 0.5], 'image_idx': [11, 11]}\n",
      "350 {'image_date': [326, 326], 'image_ratio': [0.5, 0.5], 'image_idx': [11, 11]}\n",
      "355 {'image_date': [326, 326], 'image_ratio': [0.5, 0.5], 'image_idx': [11, 11]}\n",
      "(72, 16, 16, 14)\n",
      "There are 0 NA values\n",
      "Saved array of (24, 16, 16, 15) shape to 135787199 \n",
      "\n",
      "Downloading 23/28, 135787201\n",
      "Original cloud image max is 255\n",
      "Cloud_probs shape: (70, 6, 6)\n"
     ]
    },
    {
     "data": {
      "application/vnd.jupyter.widget-view+json": {
       "model_id": "8bf7a727f5754c76a8a43298921edb4a",
       "version_major": 2,
       "version_minor": 0
      },
      "text/plain": [
       "HBox(children=(IntProgress(value=0, max=36), HTML(value='')))"
      ]
     },
     "metadata": {},
     "output_type": "display_data"
    },
    {
     "name": "stdout",
     "output_type": "stream",
     "text": [
      "\n"
     ]
    },
    {
     "data": {
      "application/vnd.jupyter.widget-view+json": {
       "model_id": "53b6e0eeb3a5480687c5a7ce26bb56e9",
       "version_major": 2,
       "version_minor": 0
      },
      "text/plain": [
       "HBox(children=(IntProgress(value=0, max=36), HTML(value='')))"
      ]
     },
     "metadata": {},
     "output_type": "display_data"
    },
    {
     "name": "stdout",
     "output_type": "stream",
     "text": [
      "\n",
      "Shadows ((36, 96, 96)) used 0.3 processing units\n",
      "0, Good steps: [-30   0  30], min dist of 5, and 0.01 thresh\n",
      "1, Good steps: [35 50 55], min dist of 20, and 0.01 thresh\n",
      "2, Good steps: [60 75 85], min dist of 20, and 0.01 thresh\n",
      "3, Good steps: [ 90 110], min dist of 35, and 0.03 thresh\n",
      "4, Good steps: [125 145], min dist of 20, and 0.03 thresh\n",
      "5, Good steps: [155 160 175], min dist of 20, and 0.01 thresh\n",
      "6, Good steps: [185 195 205], min dist of 30, and 0.03 thresh\n",
      "7, Good steps: [215 235 240], min dist of 85, and 0.06 thresh\n",
      "8, Good steps: [], min dist of 365, and 0.15 thresh\n",
      "9, Good steps: [285], min dist of 50, and 0.03 thresh\n",
      "10, Good steps: [310 325], min dist of 25, and 0.01 thresh\n",
      "11, Good steps: [335 340 350 360], min dist of 5, and 0.01 thresh\n",
      "[ 2  8 13 16 33 34 35]\n",
      "[0.05555556 0.02777778 0.22222222 0.08333333 0.11111111 0.\n",
      " 0.02777778]\n",
      "The cloud-free image dates are [-30, 0, 30, 35, 50, 55, 60, 75, 90, 110, 125, 145, 155, 160, 175, 185, 195, 205, 215, 235, 240, 285, 310, 325, 335, 340, 350, 360]\n",
      "Original 20 meter bands size: (28, 24, 24, 6), using 0.123046875 PU\n",
      "The original L2A image size is: (28, 48, 48, 4)\n",
      "Shadows (29, 96, 96), clouds (29, 96, 96), S2, (28, 48, 48, 10), S2d, (28,)\n",
      "Shadows (28, 96, 96), clouds (28, 96, 96), S2, (28, 48, 48, 10), S2d, (28,)\n",
      "Removing 0 steps based on ratio\n",
      "Interpolated 49 px\n",
      "Removing 1 steps with >50% interpolation\n",
      "uploading ../data/train-raw/135787201.npy to restoration-monitoring as restoration-mapper/model-data/train/raw/135787201.npy\n",
      "Shape after DEM: (27, 16, 16, 11)\n",
      "Maximum time distance: 45\n",
      "(72, 16, 16, 14)\n",
      "There are 0 NA values\n",
      "Saved array of (24, 16, 16, 15) shape to 135787201 \n",
      "\n",
      "Downloading 24/28, 135787203\n",
      "Original cloud image max is 255\n",
      "Cloud_probs shape: (77, 6, 6)\n"
     ]
    },
    {
     "data": {
      "application/vnd.jupyter.widget-view+json": {
       "model_id": "7ee08cec0f0b4ceca3f1ce43692611e4",
       "version_major": 2,
       "version_minor": 0
      },
      "text/plain": [
       "HBox(children=(IntProgress(value=0, max=49), HTML(value='')))"
      ]
     },
     "metadata": {},
     "output_type": "display_data"
    },
    {
     "name": "stdout",
     "output_type": "stream",
     "text": [
      "\n"
     ]
    },
    {
     "data": {
      "application/vnd.jupyter.widget-view+json": {
       "model_id": "b05dd9dfd8044b3da9c0a6baa486e452",
       "version_major": 2,
       "version_minor": 0
      },
      "text/plain": [
       "HBox(children=(IntProgress(value=0, max=49), HTML(value='')))"
      ]
     },
     "metadata": {},
     "output_type": "display_data"
    },
    {
     "name": "stdout",
     "output_type": "stream",
     "text": [
      "\n",
      "Shadows ((49, 96, 96)) used 0.4 processing units\n",
      "0, Good steps: [13 18 23 28], min dist of 15, and 0.01 thresh\n",
      "1, Good steps: [38 43 48 53 58], min dist of 15, and 0.01 thresh\n",
      "2, Good steps: [63 68 73 83 88], min dist of 25, and 0.01 thresh\n",
      "3, Good steps: [ 98 103], min dist of 10, and 0.01 thresh\n",
      "4, Good steps: [123 138 143 148], min dist of 5, and 0.03 thresh\n",
      "5, Good steps: [168], min dist of 20, and 0.03 thresh\n",
      "6, Good steps: [183 193], min dist of 15, and 0.01 thresh\n",
      "7, Good steps: [218 223 238], min dist of 10, and 0.03 thresh\n",
      "8, Good steps: [248 263], min dist of 15, and 0.01 thresh\n",
      "9, Good steps: [298 303], min dist of 20, and 0.01 thresh\n",
      "10, Good steps: [323], min dist of 20, and 0.06 thresh\n",
      "11, Good steps: [338 343 373 388], min dist of 15, and 0.01 thresh\n",
      "[ 0  1  2  3  4 21 22 24 30 32 37 39 45 46]\n",
      "[0.         0.25       0.11111111 0.13888889 0.11111111 0.16666667\n",
      " 0.13888889 0.22222222 0.02777778 0.11111111 0.25       0.05555556\n",
      " 0.22222222 0.02777778]\n",
      "The cloud-free image dates are [13, 18, 23, 28, 38, 43, 48, 53, 58, 68, 73, 88, 98, 103, 123, 138, 143, 148, 168, 183, 193, 218, 223, 238, 248, 263, 298, 303, 323, 338, 343, 373, 388]\n",
      "Original 20 meter bands size: (33, 24, 24, 6), using 0.14501953125 PU\n",
      "The original L2A image size is: (33, 48, 48, 4)\n",
      "Shadows (35, 96, 96), clouds (35, 96, 96), S2, (33, 48, 48, 10), S2d, (33,)\n",
      "Shadows (33, 96, 96), clouds (33, 96, 96), S2, (33, 48, 48, 10), S2d, (33,)\n",
      "Removing 1 steps based on ratio\n",
      "Interpolated 0 px\n",
      "Removing 0 steps with >50% interpolation\n",
      "uploading ../data/train-raw/135787203.npy to restoration-monitoring as restoration-mapper/model-data/train/raw/135787203.npy\n",
      "Shape after DEM: (32, 16, 16, 11)\n",
      "Maximum time distance: 35\n",
      "(72, 16, 16, 14)\n",
      "There are 0 NA values\n",
      "Saved array of (24, 16, 16, 15) shape to 135787203 \n",
      "\n",
      "Downloading 25/28, 135787227\n",
      "Original cloud image max is 255\n",
      "Cloud_probs shape: (69, 6, 6)\n"
     ]
    },
    {
     "data": {
      "application/vnd.jupyter.widget-view+json": {
       "model_id": "89a1a31f4efb47aa8c3dbca340542030",
       "version_major": 2,
       "version_minor": 0
      },
      "text/plain": [
       "HBox(children=(IntProgress(value=0, max=14), HTML(value='')))"
      ]
     },
     "metadata": {},
     "output_type": "display_data"
    },
    {
     "name": "stdout",
     "output_type": "stream",
     "text": [
      "\n"
     ]
    },
    {
     "data": {
      "application/vnd.jupyter.widget-view+json": {
       "model_id": "a11fd14f8cd84eab8e025333c3c3bcbf",
       "version_major": 2,
       "version_minor": 0
      },
      "text/plain": [
       "HBox(children=(IntProgress(value=0, max=14), HTML(value='')))"
      ]
     },
     "metadata": {},
     "output_type": "display_data"
    },
    {
     "name": "stdout",
     "output_type": "stream",
     "text": [
      "\n",
      "Shadows ((14, 96, 96)) used 0.1 processing units\n",
      "0, Good steps: [-30  10], min dist of 30, and 0.03 thresh\n",
      "1, Good steps: [40 45], min dist of 55, and 0.03 thresh\n",
      "2, Good steps: [], min dist of 365, and 0.15 thresh\n",
      "3, Good steps: [100 110], min dist of 80, and 0.06 thresh\n",
      "4, Good steps: [], min dist of 365, and 0.15 thresh\n",
      "5, Good steps: [], min dist of 365, and 0.15 thresh\n",
      "6, Good steps: [190], min dist of 95, and 0.15 thresh\n",
      "7, Good steps: [], min dist of 365, and 0.15 thresh\n",
      "8, Good steps: [], min dist of 365, and 0.15 thresh\n",
      "9, Good steps: [275 285], min dist of 85, and 0.1 thresh\n",
      "10, Good steps: [320], min dist of 40, and 0.03 thresh\n",
      "11, Good steps: [335 375], min dist of 15, and 0.01 thresh\n",
      "[ 1 12]\n",
      "[0.08333333 0.02777778]\n",
      "The cloud-free image dates are [-30, 10, 40, 45, 100, 110, 190, 275, 285, 320, 335, 375]\n",
      "Original 20 meter bands size: (12, 24, 24, 6), using 0.052734375 PU\n",
      "The original L2A image size is: (12, 48, 48, 4)\n",
      "Shadows (12, 96, 96), clouds (12, 96, 96), S2, (12, 48, 48, 10), S2d, (12,)\n",
      "Shadows (12, 96, 96), clouds (12, 96, 96), S2, (12, 48, 48, 10), S2d, (12,)\n",
      "Removing 0 steps based on ratio\n",
      "Interpolated 132 px\n",
      "Removing 3 steps with >50% interpolation\n",
      "uploading ../data/train-raw/135787227.npy to restoration-monitoring as restoration-mapper/model-data/train/raw/135787227.npy\n",
      "Shape after DEM: (9, 16, 16, 11)\n",
      "Maximum time distance: 175\n",
      "0 {'image_date': [-30, 10], 'image_ratio': [0.25, 0.75], 'image_idx': [0, 1]}\n",
      "5 {'image_date': [10], 'image_ratio': [1], 'image_idx': [1]}\n",
      "10 {'image_date': [10], 'image_ratio': [1], 'image_idx': [1]}\n",
      "15 {'image_date': [10], 'image_ratio': [1], 'image_idx': [1]}\n",
      "20 {'image_date': [10, 40], 'image_ratio': [0.6666666666666667, 0.3333333333333333], 'image_idx': [1, 2]}\n",
      "25 {'image_date': [10, 40], 'image_ratio': [0.5, 0.5], 'image_idx': [1, 2]}\n",
      "30 {'image_date': [10, 40], 'image_ratio': [0.33333333333333337, 0.6666666666666666], 'image_idx': [1, 2]}\n",
      "35 {'image_date': [40], 'image_ratio': [1], 'image_idx': [2]}\n",
      "40 {'image_date': [40], 'image_ratio': [1], 'image_idx': [2]}\n",
      "45 {'image_date': [45], 'image_ratio': [1], 'image_idx': [3]}\n",
      "50 {'image_date': [45], 'image_ratio': [1], 'image_idx': [3]}\n",
      "55 {'image_date': [45, 100], 'image_ratio': [0.8181818181818181, 0.18181818181818182], 'image_idx': [3, 4]}\n",
      "60 {'image_date': [45, 100], 'image_ratio': [0.7272727272727273, 0.2727272727272727], 'image_idx': [3, 4]}\n",
      "65 {'image_date': [45, 100], 'image_ratio': [0.6363636363636364, 0.36363636363636365], 'image_idx': [3, 4]}\n",
      "70 {'image_date': [45, 100], 'image_ratio': [0.5454545454545454, 0.45454545454545453], 'image_idx': [3, 4]}\n",
      "75 {'image_date': [45, 100], 'image_ratio': [0.4545454545454546, 0.5454545454545454], 'image_idx': [3, 4]}\n",
      "80 {'image_date': [45, 100], 'image_ratio': [0.36363636363636365, 0.6363636363636364], 'image_idx': [3, 4]}\n",
      "85 {'image_date': [45, 100], 'image_ratio': [0.2727272727272727, 0.7272727272727273], 'image_idx': [3, 4]}\n",
      "90 {'image_date': [45, 100], 'image_ratio': [0.18181818181818177, 0.8181818181818182], 'image_idx': [3, 4]}\n",
      "95 {'image_date': [100], 'image_ratio': [1], 'image_idx': [4]}\n",
      "100 {'image_date': [100], 'image_ratio': [1], 'image_idx': [4]}\n",
      "105 {'image_date': [100], 'image_ratio': [1], 'image_idx': [4]}\n",
      "110 {'image_date': [110], 'image_ratio': [1], 'image_idx': [5]}\n",
      "115 {'image_date': [110], 'image_ratio': [1], 'image_idx': [5]}\n",
      "120 {'image_date': [110, 285], 'image_ratio': [0.9428571428571428, 0.05714285714285714], 'image_idx': [5, 6]}\n",
      "125 {'image_date': [110, 285], 'image_ratio': [0.9142857142857143, 0.08571428571428572], 'image_idx': [5, 6]}\n",
      "130 {'image_date': [110, 285], 'image_ratio': [0.8857142857142857, 0.11428571428571428], 'image_idx': [5, 6]}\n",
      "135 {'image_date': [110, 285], 'image_ratio': [0.8571428571428572, 0.14285714285714285], 'image_idx': [5, 6]}\n",
      "140 {'image_date': [110, 285], 'image_ratio': [0.8285714285714285, 0.17142857142857143], 'image_idx': [5, 6]}\n",
      "145 {'image_date': [110, 285], 'image_ratio': [0.8, 0.2], 'image_idx': [5, 6]}\n",
      "150 {'image_date': [110, 285], 'image_ratio': [0.7714285714285715, 0.22857142857142856], 'image_idx': [5, 6]}\n",
      "155 {'image_date': [110, 285], 'image_ratio': [0.7428571428571429, 0.2571428571428571], 'image_idx': [5, 6]}\n",
      "160 {'image_date': [110, 285], 'image_ratio': [0.7142857142857143, 0.2857142857142857], 'image_idx': [5, 6]}\n",
      "165 {'image_date': [110, 285], 'image_ratio': [0.6857142857142857, 0.3142857142857143], 'image_idx': [5, 6]}\n",
      "170 {'image_date': [110, 285], 'image_ratio': [0.6571428571428571, 0.34285714285714286], 'image_idx': [5, 6]}\n",
      "175 {'image_date': [110, 285], 'image_ratio': [0.6285714285714286, 0.37142857142857144], 'image_idx': [5, 6]}\n",
      "180 {'image_date': [110, 285], 'image_ratio': [0.6, 0.4], 'image_idx': [5, 6]}\n",
      "185 {'image_date': [110, 285], 'image_ratio': [0.5714285714285714, 0.42857142857142855], 'image_idx': [5, 6]}\n",
      "190 {'image_date': [110, 285], 'image_ratio': [0.5428571428571429, 0.45714285714285713], 'image_idx': [5, 6]}\n",
      "195 {'image_date': [110, 285], 'image_ratio': [0.5142857142857142, 0.4857142857142857], 'image_idx': [5, 6]}\n",
      "200 {'image_date': [110, 285], 'image_ratio': [0.48571428571428577, 0.5142857142857142], 'image_idx': [5, 6]}\n",
      "205 {'image_date': [110, 285], 'image_ratio': [0.4571428571428572, 0.5428571428571428], 'image_idx': [5, 6]}\n",
      "210 {'image_date': [110, 285], 'image_ratio': [0.4285714285714286, 0.5714285714285714], 'image_idx': [5, 6]}\n",
      "215 {'image_date': [110, 285], 'image_ratio': [0.4, 0.6], 'image_idx': [5, 6]}\n",
      "220 {'image_date': [110, 285], 'image_ratio': [0.37142857142857144, 0.6285714285714286], 'image_idx': [5, 6]}\n",
      "225 {'image_date': [110, 285], 'image_ratio': [0.34285714285714286, 0.6571428571428571], 'image_idx': [5, 6]}\n",
      "230 {'image_date': [110, 285], 'image_ratio': [0.3142857142857143, 0.6857142857142857], 'image_idx': [5, 6]}\n",
      "235 {'image_date': [110, 285], 'image_ratio': [0.2857142857142857, 0.7142857142857143], 'image_idx': [5, 6]}\n",
      "240 {'image_date': [110, 285], 'image_ratio': [0.2571428571428571, 0.7428571428571429], 'image_idx': [5, 6]}\n",
      "245 {'image_date': [110, 285], 'image_ratio': [0.22857142857142854, 0.7714285714285715], 'image_idx': [5, 6]}\n",
      "250 {'image_date': [110, 285], 'image_ratio': [0.19999999999999996, 0.8], 'image_idx': [5, 6]}\n",
      "255 {'image_date': [110, 285], 'image_ratio': [0.17142857142857137, 0.8285714285714286], 'image_idx': [5, 6]}\n",
      "260 {'image_date': [110, 285], 'image_ratio': [0.1428571428571429, 0.8571428571428571], 'image_idx': [5, 6]}\n",
      "265 {'image_date': [110, 285], 'image_ratio': [0.11428571428571432, 0.8857142857142857], 'image_idx': [5, 6]}\n",
      "270 {'image_date': [110, 285], 'image_ratio': [0.08571428571428574, 0.9142857142857143], 'image_idx': [5, 6]}\n",
      "275 {'image_date': [110, 285], 'image_ratio': [0.05714285714285716, 0.9428571428571428], 'image_idx': [5, 6]}\n",
      "280 {'image_date': [285], 'image_ratio': [1], 'image_idx': [6]}\n",
      "285 {'image_date': [285], 'image_ratio': [1], 'image_idx': [6]}\n",
      "290 {'image_date': [285], 'image_ratio': [1], 'image_idx': [6]}\n",
      "295 {'image_date': [285, 320], 'image_ratio': [0.7142857142857143, 0.2857142857142857], 'image_idx': [6, 7]}\n",
      "300 {'image_date': [285, 320], 'image_ratio': [0.5714285714285714, 0.42857142857142855], 'image_idx': [6, 7]}\n",
      "305 {'image_date': [285, 320], 'image_ratio': [0.4285714285714286, 0.5714285714285714], 'image_idx': [6, 7]}\n",
      "310 {'image_date': [285, 320], 'image_ratio': [0.2857142857142857, 0.7142857142857143], 'image_idx': [6, 7]}\n",
      "315 {'image_date': [320], 'image_ratio': [1], 'image_idx': [7]}\n",
      "320 {'image_date': [320], 'image_ratio': [1], 'image_idx': [7]}\n",
      "325 {'image_date': [320], 'image_ratio': [1], 'image_idx': [7]}\n",
      "330 {'image_date': [320, 375], 'image_ratio': [0.8181818181818181, 0.18181818181818182], 'image_idx': [7, 8]}\n",
      "335 {'image_date': [320, 375], 'image_ratio': [0.7272727272727273, 0.2727272727272727], 'image_idx': [7, 8]}\n",
      "340 {'image_date': [320, 375], 'image_ratio': [0.6363636363636364, 0.36363636363636365], 'image_idx': [7, 8]}\n",
      "345 {'image_date': [320, 375], 'image_ratio': [0.5454545454545454, 0.45454545454545453], 'image_idx': [7, 8]}\n",
      "350 {'image_date': [320, 375], 'image_ratio': [0.4545454545454546, 0.5454545454545454], 'image_idx': [7, 8]}\n",
      "355 {'image_date': [320, 375], 'image_ratio': [0.36363636363636365, 0.6363636363636364], 'image_idx': [7, 8]}\n",
      "(72, 16, 16, 14)\n",
      "There are 0 NA values\n",
      "Saved array of (24, 16, 16, 15) shape to 135787227 \n",
      "\n",
      "Downloading 26/28, 135787231\n"
     ]
    }
   ],
   "source": [
    "for i in reversed(os.listdir(\"../data/train-csv/\")):\n",
    "    if \".csv\" in i:\n",
    "    #if \".csv\" in i:\n",
    "        #if any(x in i for x in [\"africa-west\", \"cameroon\", \"koure\", \"niger\"]):\n",
    "        tile = download_plots(\"../data/train-csv/\" + i, \"../data/train-s2-new/\", image_format = MimeType.TIFF_d16)"
   ]
  },
  {
   "cell_type": "code",
   "execution_count": null,
   "metadata": {},
   "outputs": [],
   "source": []
  }
 ],
 "metadata": {
  "kernelspec": {
   "display_name": "remote_sensing",
   "language": "python",
   "name": "remote_sensing"
  }
 },
 "nbformat": 4,
 "nbformat_minor": 2
}
