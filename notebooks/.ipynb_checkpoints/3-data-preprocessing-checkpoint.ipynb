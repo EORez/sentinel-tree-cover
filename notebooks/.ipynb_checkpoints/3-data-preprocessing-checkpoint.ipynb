{
 "cells": [
  {
   "cell_type": "code",
   "execution_count": 1,
   "metadata": {},
   "outputs": [],
   "source": [
    "#TODO Remove imports that aren't needed to save RAM\n",
    "from tqdm import tqdm_notebook, tnrange\n",
    "import tensorflow as tf\n",
    "\n",
    "import pandas as pd\n",
    "import numpy as np\n",
    "from random import shuffle\n",
    "import pandas as pd\n",
    "import seaborn as sns\n",
    "import matplotlib.pyplot as plt\n",
    "%matplotlib inline\n",
    "import os\n",
    "import random\n",
    "import itertools\n",
    "from numba import prange\n",
    "\n",
    "os.environ['KMP_DUPLICATE_LIB_OK']='True'"
   ]
  },
  {
   "cell_type": "code",
   "execution_count": 2,
   "metadata": {},
   "outputs": [],
   "source": [
    "#!source ~/.bash_profile\n",
    "#!export PATH=\"/usr/lib/google-cloud-sdk/bin:$PATH\""
   ]
  },
  {
   "cell_type": "code",
   "execution_count": 3,
   "metadata": {},
   "outputs": [
    {
     "name": "stdout",
     "output_type": "stream",
     "text": [
      "WARNING:tensorflow:From /Users/john.brandt/anaconda3/envs/remote_sensing/lib/python3.6/site-packages/tensorflow/python/framework/op_def_library.py:263: colocate_with (from tensorflow.python.framework.ops) is deprecated and will be removed in a future version.\n",
      "Instructions for updating:\n",
      "Colocations handled automatically by placer.\n"
     ]
    }
   ],
   "source": [
    "%run ../src/utils-bilinear.py\n",
    "%run ../src/slope.py"
   ]
  },
  {
   "cell_type": "code",
   "execution_count": 4,
   "metadata": {},
   "outputs": [],
   "source": [
    "import scipy.sparse as sparse\n",
    "from scipy.sparse.linalg import splu\n",
    "\n",
    "def speyediff(N, d, format = 'csc'):\n",
    "    shape = (N-d, N)\n",
    "    diagonals = np.zeros(2*d + 1)\n",
    "    diagonals[d] = 1.\n",
    "    for i in range(d):\n",
    "        diff = diagonals[:-1] - diagonals[1:]\n",
    "        diagonals = diff\n",
    "    offsets = np.arange(d+1)\n",
    "    spmat = sparse.diags(diagonals, offsets, shape, format = format)\n",
    "    return spmat\n",
    "\n",
    "def smooth(y, lmbd, d = 2):\n",
    "    m = len(y)\n",
    "    E = sparse.eye(m, format = 'csc')\n",
    "    D = speyediff(m, d, format = 'csc')\n",
    "    coefmat = E + lmbd * D.conj().T.dot(D)\n",
    "    z = splu(coefmat).solve(y)\n",
    "    return np.stack(z)\n",
    "\n",
    "def reconstruct_images(plot_id):\n",
    "    subs = df[df['PLOT_ID'] == plot_id]\n",
    "    rows = []\n",
    "    lats = reversed(sorted(subs['LAT'].unique()))\n",
    "    for i, val in enumerate(lats):\n",
    "        subs_lat = subs[subs['LAT'] == val]\n",
    "        subs_lat = subs_lat.sort_values('LON', axis = 0)\n",
    "        rows.append(list(subs_lat['TREE']))\n",
    "    return rows\n",
    "\n",
    "def check_outliers(sample):\n",
    "    for date in range(22):\n",
    "        for band in range(10):\n",
    "            maxs = np.max(sample[date, :, :, band])\n",
    "            mins = np.min(sample[date, :, :, band])\n",
    "            if maxs == 1.0 or mins == 0.0:\n",
    "                print(\"Found null outlier\")\n",
    "                return True\n",
    "            if maxs == mins:\n",
    "                print(\"Found missing outlier\")\n",
    "                return True\n",
    "            if maxs >= 1.05 or mins <= -1.05:\n",
    "                print(\"Found range outlier\")\n",
    "                return True\n",
    "    else:\n",
    "        return False"
   ]
  },
  {
   "cell_type": "code",
   "execution_count": 5,
   "metadata": {},
   "outputs": [],
   "source": [
    "source = 'train'\n",
    "sentinel_1 = True"
   ]
  },
  {
   "cell_type": "code",
   "execution_count": 6,
   "metadata": {},
   "outputs": [
    {
     "name": "stdout",
     "output_type": "stream",
     "text": [
      "ghana-kwofu-train.csv\n",
      "kenya-makueni-train.csv\n",
      "cameroon-finetune-3.csv\n",
      "lac-south-train.csv\n",
      "cameroon-finetune-2.csv\n",
      "koure-finetune.csv\n",
      "india-sidh-train.csv\n",
      "ghana-ashanti-train-2.csv\n",
      "africa-east-train.csv\n",
      "mexico-campeche-train.csv\n",
      "ghana-farm-train.csv\n",
      "sa-train.csv\n",
      "ghana-south-train.csv\n",
      "honduras-2-train.csv\n",
      "cameroonnigerghana-train.csv\n",
      "brazil-paraiba-train.csv\n",
      "lac-north-train.csv\n",
      "malawi-rumphi-train.csv\n",
      "ghana-ashanti-train-small.csv\n",
      "ghana-train.csv\n",
      "kenya-train.csv\n",
      "india-train.csv\n",
      "malawi-rumphi-small.csv\n",
      "honduras-train.csv\n",
      "rwanda-train.csv\n",
      "cameroon-train.csv\n",
      "subplot4.csv\n",
      "kenya-farm-train-2.csv\n",
      "elsalvador-train.csv\n",
      "india-kochi-train.csv\n",
      "subplot.csv\n",
      "sudan-train.csv\n",
      "niger-train.csv\n",
      "subplot2.csv\n",
      "subplot3.csv\n",
      "ghana-ashanti-train.csv\n",
      "ghana-upperwest-train.csv\n",
      "malawi-train.csv\n",
      "honduras-train-north.csv\n",
      "africa-west-train.csv\n",
      "ghana-kwofu-large.csv\n",
      "lac-train.csv\n",
      "ghana-mid-train.csv\n",
      "ghana-kwofu-small-train.csv\n",
      "cameroon-finetune.csv\n",
      "kenya-farm-train.csv\n",
      "koure-train.csv\n",
      "49000\n",
      "49000\n",
      "11760\n",
      "49000\n",
      "4900\n",
      "9800\n",
      "49000\n",
      "49000\n",
      "49000\n",
      "49000\n",
      "49000\n",
      "49000\n",
      "49000\n",
      "49000\n",
      "49000\n",
      "49000\n",
      "49000\n",
      "49000\n",
      "9800\n",
      "49000\n",
      "49000\n",
      "49000\n",
      "49000\n",
      "49000\n",
      "49000\n",
      "49000\n",
      "49000\n",
      "4900\n",
      "49000\n",
      "49000\n",
      "49000\n",
      "49000\n",
      "39200\n",
      "49000\n",
      "39200\n",
      "19600\n",
      "49000\n",
      "49000\n",
      "49000\n",
      "49000\n",
      "39200\n",
      "49000\n",
      "49000\n",
      "19600\n",
      "3920\n",
      "9800\n",
      "29400\n"
     ]
    }
   ],
   "source": [
    "if source == 'train':\n",
    "    folder = '../data/train-super/'\n",
    "    dfs = []\n",
    "    for i in os.listdir(\"../data/train-csv/\"):\n",
    "        if \".DS\" not in i:\n",
    "            print(i)\n",
    "            df = pd.read_csv(\"../data/train-csv/\" + i).drop('IMAGERY_TITLE', axis = 1)\n",
    "            df['country'] = i.split(\".\")[0]\n",
    "            dfs.append(df)\n",
    "            \n",
    "    for i in range(len(dfs)):\n",
    "        print(dfs[i].shape[0])\n",
    "        if 'STACKINGPROFILEDG' in dfs[i].columns:\n",
    "            dfs[i] = dfs[i].drop('STACKINGPROFILEDG', axis = 1)\n",
    "        if 'IMAGERYYEARDG' in dfs[i].columns:\n",
    "            dfs[i] = dfs[i].drop('IMAGERYYEARDG', axis = 1)\n",
    "            \n",
    "    df = pd.concat(dfs, ignore_index = True)\n",
    "    df = df.dropna(axis = 0)\n",
    "\n",
    "    existing = [int(x[:-4]) for x in os.listdir(folder) if \".DS\" not in x]\n",
    "    df = df[df['PLOT_ID'].isin(existing)]\n",
    "    plot_ids = sorted(df['PLOT_ID'].unique())\n",
    "    \n",
    "    \n",
    "if source == 'finetune':\n",
    "    folder = '../data/train-super/'\n",
    "    dfs = []\n",
    "    for i in os.listdir(\"../data/train-csv/\"):\n",
    "        if \".DS\" not in i:\n",
    "            # Africa\n",
    "            #if any(x in i for x in [\"africa-east\", \"subplot\", \"kenya\", \"malawi\", \"sudan\",\n",
    "            #                       \"africa-west\", \"ghana\", \"koure\", \"niger\", \"cameroon\"]):\n",
    "            # East Africa\n",
    "            #if any(x in i for x in [\"africa-east\", \"subplot\", \"kenya\", \"malawi\", \"sudan\"]):\n",
    "            # West Africa\n",
    "            #if any(x in i for x in [\"africa-west\", \"cameroon\", \"koure\", \"niger\"]):\n",
    "            # South america\n",
    "            #if any(x in i for x in [\"brazil\", \"sa-\"]):\n",
    "            # LAC\n",
    "            #India\n",
    "            #if \"india\" in i:\n",
    "            if any(x in i for x in [\"brazil\", \"mexico\", \"elsalvador\", \"sa-\", \"lac\", \"honduras\"]):\n",
    "                print(i)\n",
    "                df = pd.read_csv(\"../data/train-csv/\" + i).drop('IMAGERY_TITLE', axis = 1)\n",
    "                df['country'] = i.split(\".\")[0]\n",
    "                dfs.append(df)\n",
    "                \n",
    "    for i in range(len(dfs)):\n",
    "        print(dfs[i].shape[0])\n",
    "        if 'STACKINGPROFILEDG' in dfs[i].columns:\n",
    "            dfs[i] = dfs[i].drop('STACKINGPROFILEDG', axis = 1)\n",
    "        if 'IMAGERYYEARDG' in dfs[i].columns:\n",
    "            dfs[i] = dfs[i].drop('IMAGERYYEARDG', axis = 1)\n",
    "            \n",
    "    df = pd.concat(dfs, ignore_index = True)\n",
    "    df = df.dropna(axis = 0)\n",
    "\n",
    "    existing = [int(x[:-4]) for x in os.listdir(folder) if \".DS\" not in x]\n",
    "    df = df[df['PLOT_ID'].isin(existing)]\n",
    "\n",
    "    plot_ids = sorted(df['PLOT_ID'].unique())\n",
    "    source = 'train'\n",
    "\n",
    "if source == 'test':\n",
    "    folder = \"../data/test-super/\"\n",
    "    dfs = []\n",
    "    for i in sorted(os.listdir(\"../data/test-csv/\")):\n",
    "        if \".DS\" not in i and i != \"africa-east-test.csv\":\n",
    "            print(i)\n",
    "            df = pd.read_csv(\"../data/test-csv/\" + i).drop('IMAGERY_TITLE', axis = 1)\n",
    "            if 'STACKINGPROFILEDG' in df.columns:\n",
    "                df = df.drop('STACKINGPROFILEDG', axis = 1)\n",
    "            if 'IMAGERYYEARDG' in df.columns:\n",
    "                df = df.drop('IMAGERYYEARDG', axis = 1)\n",
    "            df = df.dropna(axis = 0)\n",
    "            df['country'] = i.split(\".\")[0]\n",
    "            dfs.append(df)\n",
    "            \n",
    "    #for i in range(len(dfs)):\n",
    "    #    print(dfs[i].shape[0])\n",
    "    #    if 'STACKINGPROFILEDG' in dfs[i].columns:\n",
    "    #        dfs[i] = dfs[i].drop('STACKINGPROFILEDG', axis = 1)\n",
    "    #    if 'IMAGERYYEARDG' in dfs[i].columns:\n",
    "    #        dfs[i] = dfs[i].drop('IMAGERYYEARDG', axis = 1)\n",
    "        \n",
    "    if len(dfs) > 1:\n",
    "        df = pd.concat(dfs, ignore_index = True)\n",
    "    print(df.shape[0]/196)\n",
    "    \n",
    "    print(df.columns)\n",
    "    df = df.dropna(axis = 0)\n",
    "    existing = [int(x[:-4]) for x in os.listdir(folder) if \".DS\" not in x]\n",
    "    df = df[df['PLOT_ID'].isin(existing)]\n",
    "    N_SAMPLES = int(df.shape[0]/196)\n",
    "    print(N_SAMPLES)\n",
    "    df = df.sort_values('country', axis = 0)\n",
    "    plot_ids = df['PLOT_ID'].unique()\n",
    "\n",
    "#source = 'test'#"
   ]
  },
  {
   "cell_type": "code",
   "execution_count": 7,
   "metadata": {},
   "outputs": [
    {
     "name": "stdout",
     "output_type": "stream",
     "text": [
      "3677.0\n"
     ]
    }
   ],
   "source": [
    "print(df.shape[0]/196)\n",
    "existing = [int(x[:-4]) for x in os.listdir(\"../data/{}-super\".format(source)) if \".DS_S\" not in x]\n",
    "df = df[df['PLOT_ID'].isin(existing)]"
   ]
  },
  {
   "cell_type": "code",
   "execution_count": 8,
   "metadata": {},
   "outputs": [
    {
     "data": {
      "application/vnd.jupyter.widget-view+json": {
       "model_id": "b20f6682f29648008660a1b0fd66e39a",
       "version_major": 2,
       "version_minor": 0
      },
      "text/plain": [
       "HBox(children=(IntProgress(value=0, max=3677), HTML(value='')))"
      ]
     },
     "metadata": {},
     "output_type": "display_data"
    },
    {
     "name": "stdout",
     "output_type": "stream",
     "text": [
      "\n",
      "Finished data loading\n"
     ]
    }
   ],
   "source": [
    "# Initiate empty lists to store the X and Y data in\n",
    "data_x, data_y, lengths = [], [], []\n",
    "    \n",
    "    \n",
    "countries = {}\n",
    "count = 0\n",
    "# Iterate over each plot\n",
    "for i in tnrange(len(plot_ids)):\n",
    "    skip = True if sentinel_1 else False\n",
    "    # Removed plot ids are either ambiguous labels, or imagery issues\n",
    "    if plot_ids[i] not in [135191206, 135191281, 135346016, 135787924, 135345883, 135680141]:\n",
    "        # Load the sentinel imagery\n",
    "        if (str(plot_ids[i]) + \".npy\")in os.listdir(\"../data/{}-super\".format(source)):\n",
    "            country = df[df['PLOT_ID'] == plot_ids[i]]['country'].unique()\n",
    "            if str(country[0]) not in countries.keys():\n",
    "                countries[str(country[0])] = [count, count]\n",
    "            countries[str(country[0])][1] = count\n",
    "            x = np.load(\"../data/{}-super/\".format(source) + str(plot_ids[i]) + \".npy\")\n",
    "            if sentinel_1 and os.path.isfile(\"../data/{}-s1/{}.npy\".format(source, str(plot_ids[i]))):\n",
    "                skip = False\n",
    "                s1 = np.load(\"../data/{}-s1/{}.npy\".format(source, str(plot_ids[i])))\n",
    "                x = np.concatenate([x, s1], axis = -1)\n",
    "            count += 1\n",
    "        y = reconstruct_images(plot_ids[i])\n",
    "        if not skip:\n",
    "            lengths.append(x.shape[0])\n",
    "            data_x.append(x)\n",
    "            data_y.append(y)\n",
    "print(\"Finished data loading\")\n",
    "\n",
    "data_x = np.stack(data_x)\n",
    "data_y = np.stack(data_y)\n",
    "lengths = np.stack(lengths)"
   ]
  },
  {
   "cell_type": "code",
   "execution_count": 9,
   "metadata": {},
   "outputs": [],
   "source": [
    "#plot_ids.index(136089235)"
   ]
  },
  {
   "cell_type": "code",
   "execution_count": 10,
   "metadata": {},
   "outputs": [
    {
     "data": {
      "text/plain": [
       "135345906"
      ]
     },
     "execution_count": 10,
     "metadata": {},
     "output_type": "execute_result"
    }
   ],
   "source": [
    "plot_ids[538]"
   ]
  },
  {
   "cell_type": "code",
   "execution_count": 11,
   "metadata": {},
   "outputs": [
    {
     "name": "stdout",
     "output_type": "stream",
     "text": [
      "{'subplot': [0, 197], 'subplot2': [198, 333], 'subplot3': [334, 495], 'subplot4': [496, 684], 'rwanda-train': [685, 712], 'kenya-train': [713, 815], 'niger-train': [816, 938], 'sudan-train': [939, 961], 'koure-train': [962, 991], 'malawi-train': [992, 1033], 'ghana-train': [1034, 1162], 'ghana-upperwest-train': [1163, 1269], 'ghana-farm-train': [1270, 1369], 'ghana-mid-train': [1370, 1472], 'ghana-south-train': [1473, 1523], 'ghana-ashanti-train': [1524, 1578], 'kenya-farm-train': [1579, 1586], 'kenya-farm-train-2': [1587, 1597], 'ghana-ashanti-train-2': [1598, 1700], 'ghana-ashanti-train-small': [1701, 1732], 'brazil-paraiba-train': [1733, 1808], 'mexico-campeche-train': [1809, 1897], 'elsalvador-train': [1898, 1970], 'ghana-kwofu-train': [1971, 2092], 'ghana-kwofu-small-train': [2093, 2117], 'ghana-kwofu-large': [2118, 2174], 'malawi-rumphi-train': [2175, 2231], 'malawi-rumphi-small': [2232, 2376], 'kenya-makueni-train': [2377, 2407], 'india-sidh-train': [2408, 2434], 'sa-train': [2435, 2468], 'lac-train': [2469, 2522], 'india-train': [2523, 2676], 'india-kochi-train': [2677, 2692], 'africa-east-train': [2693, 2816], 'africa-west-train': [2817, 2904], 'cameroonnigerghana-train': [2905, 2992], 'cameroon-train': [2993, 3151], 'cameroon-finetune': [3152, 3170], 'cameroon-finetune-2': [3171, 3195], 'koure-finetune': [3196, 3236], 'cameroon-finetune-3': [3237, 3277], 'honduras-train': [3278, 3378], 'honduras-train-north': [3379, 3423], 'honduras-2-train': [3424, 3531], 'lac-south-train': [3532, 3649], 'lac-north-train': [3650, 3670]}\n"
     ]
    }
   ],
   "source": [
    "print(countries)"
   ]
  },
  {
   "cell_type": "code",
   "execution_count": 12,
   "metadata": {},
   "outputs": [],
   "source": [
    "to_test =[ 84, 107, 156, 176, 203, 204, 219, 233, 245, 247, 252, 302, 353,\n",
    "       373, 375, 397, 423, 451, 516, 576, 633, 682]"
   ]
  },
  {
   "cell_type": "code",
   "execution_count": 13,
   "metadata": {},
   "outputs": [
    {
     "data": {
      "text/plain": [
       "135345864"
      ]
     },
     "execution_count": 13,
     "metadata": {},
     "output_type": "execute_result"
    }
   ],
   "source": [
    "plot_ids[509]"
   ]
  },
  {
   "cell_type": "code",
   "execution_count": 14,
   "metadata": {},
   "outputs": [
    {
     "data": {
      "text/plain": [
       "<matplotlib.axes._subplots.AxesSubplot at 0x1a37b325c0>"
      ]
     },
     "execution_count": 14,
     "metadata": {},
     "output_type": "execute_result"
    },
    {
     "data": {
      "image/png": "[encoded data removed]",
      "text/plain": [
       "<Figure size 432x288 with 1 Axes>"
      ]
     },
     "metadata": {
      "needs_background": "light"
     },
     "output_type": "display_data"
    }
   ],
   "source": [
    "ys = np.mean(data_x[22, :, :, :, 3], (1, 2))\n",
    "#ys = data_x[52, :, 1, 12, 3]\n",
    "xs = np.array([x for x in range(24)])\n",
    "sns.scatterplot(y = ys, x = xs)"
   ]
  },
  {
   "cell_type": "code",
   "execution_count": 15,
   "metadata": {},
   "outputs": [],
   "source": [
    "def mask_segments(arr, percent):\n",
    "    masked = np.copy(arr)\n",
    "    for sample in range(masked.shape[0]):\n",
    "        start = random.sample(range(72 - int(72*(percent))), 1)[0]\n",
    "        length = int(72*(percent))\n",
    "        \n",
    "        masked[sample, start:start+length] = np.tile(\n",
    "            (masked[sample, start] + masked[sample, start+length])/2,\n",
    "            (1, length, 1, 1, 1))\n",
    "        \n",
    "    return masked\n",
    "\n",
    "def apply_smoothing(arr, lmb):\n",
    "    smoothed = np.copy(arr)\n",
    "    for sample in tnrange(smoothed.shape[0]):\n",
    "        for row in range(0, 16):\n",
    "            for column in range(0, 16):\n",
    "                for band in [x for x in range(0, 15) if x != 10]:\n",
    "                    sm = smooth(smoothed[sample, :, row, column, band], lmb, d = 2)\n",
    "                    smoothed[sample, :, row, column, band] = sm\n",
    "    return smoothed\n",
    "\n",
    "#for lmb in [1, 20, 50, 100, 500, 750]:\n",
    "#    for percent in [20, 30, 40, 50]:\n",
    "#        masked = mask_segments(data_x, percent/100)\n",
    "#        smoothed = apply_smoothing(masked, lmb)\n",
    "#        mse = np.mean(abs(smoothed - data_x))\n",
    "#        #mse = calculate_mse(smoothed, data_x)\n",
    "#        print(\"{}% masked data, {} lambda: {} error\".format(percent, lmb, mse))"
   ]
  },
  {
   "cell_type": "code",
   "execution_count": 16,
   "metadata": {},
   "outputs": [],
   "source": [
    "#source = 'test'\n",
    "if source == 'train':\n",
    "    np.save(\"../tile_data/processed/data_x_l2a_processed.npy\", data_x)\n",
    "    np.save(\"../tile_data/processed/data_y_l2a_processed.npy\", data_y)\n",
    "    np.save(\"../tile_data/processed/length_l2a_processed.npy\", lengths)\n",
    "if source == 'test':\n",
    "    print(\"Writing test data\")\n",
    "    np.save(\"../tile_data/processed/test_x_l2a_processed.npy\", data_x)\n",
    "    np.save(\"../tile_data/processed/test_y_l2a_processed.npy\", data_y)\n",
    "    np.save(\"../tile_data/processed/test_length_l2a_processed.npy\", lengths)"
   ]
  },
  {
   "cell_type": "code",
   "execution_count": null,
   "metadata": {},
   "outputs": [],
   "source": []
  },
  {
   "cell_type": "code",
   "execution_count": 32,
   "metadata": {},
   "outputs": [
    {
     "name": "stdout",
     "output_type": "stream",
     "text": [
      "(-100.9472446047355, 82.42577232083404, -22.804542414728047, 24.81825834355684)\n",
      "(3677,)\n"
     ]
    }
   ],
   "source": [
    "LAC = (-119.53, -75.169, 1.758, 34.267)\n",
    "AFRICA = (-17.67, 52.73, -34.81, 34.23)\n",
    "OVERALL = (-108.11, 89.65, -26.43, 27.22)\n",
    "\n",
    "region = OVERALL\n",
    "\n",
    "lats = []\n",
    "longs = []\n",
    "for i in plot_ids:\n",
    "    subs = df[df['PLOT_ID'] == i]\n",
    "    lat = float(subs['LAT'].head(1))\n",
    "    lon = float(subs['LON'].head(1))\n",
    "   # print(subs['LAT'])\n",
    "    if lon > region[0] and lon < region[1]:\n",
    "        if lat > region[2] and lat < region[3]:\n",
    "            lats.append(lat)\n",
    "            longs.append(lon)\n",
    "    \n",
    "lats = np.array(lats)\n",
    "longs = np.array(longs)\n",
    "    \n",
    "BBox = ((longs.min(),   longs.max(),      \n",
    "         lats.min(), lats.max()))\n",
    "\n",
    "print(BBox)\n",
    "print(lats.shape)\n",
    "#for i in range(len(lats)):\n",
    "#    lats[i] = lats[i] - (region[2] / (region[3] - region[2]))\n",
    "#    longs[i] = longs[i] - (region[0] / (region[1] - region[0]))"
   ]
  },
  {
   "cell_type": "code",
   "execution_count": 36,
   "metadata": {},
   "outputs": [
    {
     "data": {
      "image/png": "[encoded data removed]",
      "text/plain": [
       "<Figure size 1080x1512 with 1 Axes>"
      ]
     },
     "metadata": {
      "needs_background": "light"
     },
     "output_type": "display_data"
    }
   ],
   "source": [
    "area = plt.imread('../references/overall-area.png')\n",
    "\n",
    "fig, ax = plt.subplots(figsize = (15,21))\n",
    "ax.scatter(longs, lats, zorder=1, alpha= 0.7, c='b', s=2)\n",
    "ax.set_title('Train plots'.format(source))\n",
    "ax.set_xlim(region[0],region[1])\n",
    "ax.set_ylim(region[2],region[3])\n",
    "ax.imshow(area, zorder=0, extent = region, aspect= 'equal')\n",
    "plt.savefig('../references/{}-plots.png'.format(\"train\"), dpi = 300)"
   ]
  },
  {
   "cell_type": "markdown",
   "metadata": {},
   "source": [
    "# Compare  superresolved and bicubic"
   ]
  },
  {
   "cell_type": "code",
   "execution_count": 667,
   "metadata": {},
   "outputs": [
    {
     "data": {
      "text/plain": [
       "<matplotlib.axes._subplots.AxesSubplot at 0x168ef5860>"
      ]
     },
     "execution_count": 667,
     "metadata": {},
     "output_type": "execute_result"
    },
    {
     "data": {
      "image/png": "[encoded data removed]",
      "text/plain": [
       "<Figure size 432x288 with 2 Axes>"
      ]
     },
     "metadata": {
      "needs_background": "light"
     },
     "output_type": "display_data"
    }
   ],
   "source": [
    "smp = -65\n",
    "sns.heatmap(np.sum(abs(validated[smp, :24, :, :] - orig[smp, :24, :, :]), axis = (1, 2)))"
   ]
  }
 ],
 "metadata": {
  "kernelspec": {
   "display_name": "remote_sensing",
   "language": "python",
   "name": "remote_sensing"
  },
  "language_info": {
   "codemirror_mode": {
    "name": "ipython",
    "version": 3
   },
   "file_extension": ".py",
   "mimetype": "text/x-python",
   "name": "python",
   "nbconvert_exporter": "python",
   "pygments_lexer": "ipython3",
   "version": "3.6.8"
  }
 },
 "nbformat": 4,
 "nbformat_minor": 2
}
