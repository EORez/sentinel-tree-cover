{
 "cells": [
  {
   "cell_type": "code",
   "execution_count": 1,
   "metadata": {},
   "outputs": [],
   "source": [
    "import pandas as pd\n",
    "import numpy as np\n",
    "from random import shuffle\n",
    "\n",
    "import pandas as pd\n",
    "import seaborn as sns\n",
    "import matplotlib.pyplot as plt\n",
    "%matplotlib inline\n",
    "\n",
    "import os\n",
    "import yaml\n",
    "\n",
    "os.environ['KMP_DUPLICATE_LIB_OK']='True'"
   ]
  },
  {
   "cell_type": "code",
   "execution_count": 2,
   "metadata": {},
   "outputs": [],
   "source": [
    "with open(\"../config.yaml\", 'r') as stream:\n",
    "        key = (yaml.safe_load(stream))\n",
    "        API_KEY = key['key']"
   ]
  },
  {
   "cell_type": "code",
   "execution_count": 5,
   "metadata": {},
   "outputs": [],
   "source": [
    "df = pd.read_csv(\"../data/train-csv/subplot.csv\")\n",
    "df1 = pd.read_csv(\"../data/train-csv/subplot2.csv\")\n",
    "df = df.append(df1, ignore_index = True)\n",
    "df = df.drop('IMAGERY_TITLE', axis = 1)\n",
    "df = df.dropna(axis = 0)\n",
    "\n",
    "plot_ids = sorted(df['PLOT_ID'].unique())"
   ]
  },
  {
   "cell_type": "code",
   "execution_count": 6,
   "metadata": {},
   "outputs": [],
   "source": [
    "def find_data_by_plot(plot_id):\n",
    "    item = [i for i, x in enumerate(plot_ids) if x == plot_id]\n",
    "    return item\n",
    "\n",
    "def reconstruct_images(plot_id):\n",
    "    subs = df[df['PLOT_ID'] == plot_id]\n",
    "    rows = []\n",
    "    lats = reversed(sorted(subs['LAT'].unique()))\n",
    "    for i, val in enumerate(lats):\n",
    "        subs_lat = subs[subs['LAT'] == val]\n",
    "        subs_lat = subs_lat.sort_values('LON', axis = 0)\n",
    "        rows.append(list(subs_lat['TREE']))\n",
    "    return rows"
   ]
  },
  {
   "cell_type": "code",
   "execution_count": 7,
   "metadata": {},
   "outputs": [
    {
     "data": {
      "text/plain": [
       "<matplotlib.axes._subplots.AxesSubplot at 0x1a19dfe828>"
      ]
     },
     "execution_count": 7,
     "metadata": {},
     "output_type": "execute_result"
    },
    {
     "data": {
      "image/png": "[encoded data removed]",
      "text/plain": [
       "<Figure size 432x288 with 2 Axes>"
      ]
     },
     "metadata": {
      "needs_background": "light"
     },
     "output_type": "display_data"
    }
   ],
   "source": [
    "to_validate = reconstruct_images(135191138)\n",
    "sns.heatmap(to_validate)"
   ]
  },
  {
   "cell_type": "code",
   "execution_count": 22,
   "metadata": {},
   "outputs": [
    {
     "name": "stdout",
     "output_type": "stream",
     "text": [
      "0.10927076\n"
     ]
    }
   ],
   "source": [
    "s1_old = [x for x in os.listdir(\"../data/train-s1/\")]\n",
    "s1_new = [x for x in os.listdir(\"../data/train-s1-new/\")]\n",
    "to_check = [x for x in s1_old if x in s1_new]\n",
    "\n",
    "mean_diff = []\n",
    "for i in to_check:\n",
    "    old = np.load(\"../data/train-s1/{}\".format(i))\n",
    "    old = old[2, 2, 2, :]\n",
    "    new = np.load(\"../data/train-s1-new/{}\".format(i))\n",
    "    new = new[2, 2, 2, :]\n",
    "    mean_diff.append(np.sum(abs(old - new)))\n",
    "print(np.mean(mean_diff))"
   ]
  },
  {
   "cell_type": "markdown",
   "metadata": {},
   "source": [
    "## Test for blank time steps"
   ]
  },
  {
   "cell_type": "code",
   "execution_count": 48,
   "metadata": {},
   "outputs": [
    {
     "name": "stdout",
     "output_type": "stream",
     "text": [
      "{6, 8, 9, 22, 23}\n",
      "{1, 2, 19}\n",
      "{10, 12, 13}\n",
      "{3, 4, 21}\n"
     ]
    }
   ],
   "source": [
    "def remove_blank_steps(array):\n",
    "    to_update = {}\n",
    "    sets = []\n",
    "    for k in range(6):\n",
    "        for i in range(array.shape[0]):\n",
    "            for k in range(array.shape[-1]):\n",
    "                mean = (np.mean(array[i, :, :, k]))\n",
    "                if mean == 0:\n",
    "                    sets.append(i)\n",
    "                    if i < array.shape[0] - 1:\n",
    "                        array[i, :, :, k] = array[i + 1, :, :, k]\n",
    "                    else:\n",
    "                        array[i, :, :, k] = array[i - 1, :, :, k]\n",
    "                if mean == 1:\n",
    "                    sets.append(i)\n",
    "                    if i < array.shape[0] - 1:\n",
    "                        array[i, :, :, k] = array[i + 1, :, :, k]\n",
    "                    else:\n",
    "                        array[i, :, :, k] = array[i - 1, :, :, k]\n",
    "    for i in range(array.shape[0]):\n",
    "        for k in range(array.shape[-1]):\n",
    "            mean = (np.mean(array[i, :, :, k]))\n",
    "            if mean == 0:\n",
    "                if i < array.shape[0] - 2:\n",
    "                    array[i, :, :, k] = array[i + 2, :, :, k]\n",
    "                else:\n",
    "                    array[i, :, :, k] = array[i - 2, :, :, k]\n",
    "            if mean == 1:\n",
    "                if i < array.shape[0] - 2:\n",
    "                    array[i, :, :, k] = array[i + 2, :, :, k]\n",
    "                else:\n",
    "                    array[i, :, :, k] = array[i - 2, :, :, k]\n",
    "    if set(sets):\n",
    "        print(set(sets))\n",
    "    return array\n",
    "\n",
    "for i in range(0, 100):\n",
    "    data = np.load('../data/processed/{}.npy'.format(str(i)))\n",
    "    array = remove_blank_steps(data)"
   ]
  },
  {
   "cell_type": "code",
   "execution_count": 49,
   "metadata": {},
   "outputs": [],
   "source": [
    "def plot_rgb_from_plot(plot_id):\n",
    "    item = find_data_by_plot(plot_id)\n",
    "    data = np.load(\"../data/processed/{}.npy\".format(str(item[0])))\n",
    "    #data = np.load(\"../data/processed/{}.npy\".format(7))\n",
    "    data = remove_blank_steps(data)\n",
    "    data = data[5]\n",
    "    #data = np.mean(data, axis = 0)\n",
    "    data = data[:, :, [2, 1, 0]]\n",
    "    #data = np.flip(data[:, :, 0:3], axis = 2)\n",
    "    #print(data)\n",
    "    plt.figure(figsize=(7, 7))\n",
    "    plt.imshow(data)\n",
    "    "
   ]
  },
  {
   "cell_type": "code",
   "execution_count": 50,
   "metadata": {},
   "outputs": [
    {
     "data": {
      "text/html": [
       "<div>\n",
       "<style scoped>\n",
       "    .dataframe tbody tr th:only-of-type {\n",
       "        vertical-align: middle;\n",
       "    }\n",
       "\n",
       "    .dataframe tbody tr th {\n",
       "        vertical-align: top;\n",
       "    }\n",
       "\n",
       "    .dataframe thead th {\n",
       "        text-align: right;\n",
       "    }\n",
       "</style>\n",
       "<table border=\"1\" class=\"dataframe\">\n",
       "  <thead>\n",
       "    <tr style=\"text-align: right;\">\n",
       "      <th></th>\n",
       "      <th>PLOT_ID</th>\n",
       "      <th>SAMPLE_ID</th>\n",
       "      <th>LON</th>\n",
       "      <th>LAT</th>\n",
       "      <th>FLAGGED</th>\n",
       "      <th>ANALYSES</th>\n",
       "      <th>USER_ID</th>\n",
       "      <th>COLLECTION_TIME</th>\n",
       "      <th>ANALYSIS_DURATION</th>\n",
       "      <th>TREE</th>\n",
       "    </tr>\n",
       "  </thead>\n",
       "  <tbody>\n",
       "    <tr>\n",
       "      <th>784</th>\n",
       "      <td>135191140</td>\n",
       "      <td>484052177</td>\n",
       "      <td>39.284649</td>\n",
       "      <td>13.857011</td>\n",
       "      <td>False</td>\n",
       "      <td>1</td>\n",
       "      <td>jo.m.brandt@gmail.com</td>\n",
       "      <td>2019-09-10 14:17:29.40725</td>\n",
       "      <td>138.6</td>\n",
       "      <td>0.0</td>\n",
       "    </tr>\n",
       "    <tr>\n",
       "      <th>785</th>\n",
       "      <td>135191140</td>\n",
       "      <td>484052178</td>\n",
       "      <td>39.284649</td>\n",
       "      <td>13.857098</td>\n",
       "      <td>False</td>\n",
       "      <td>1</td>\n",
       "      <td>jo.m.brandt@gmail.com</td>\n",
       "      <td>2019-09-10 14:17:29.40725</td>\n",
       "      <td>138.6</td>\n",
       "      <td>0.0</td>\n",
       "    </tr>\n",
       "    <tr>\n",
       "      <th>786</th>\n",
       "      <td>135191140</td>\n",
       "      <td>484052179</td>\n",
       "      <td>39.284649</td>\n",
       "      <td>13.857186</td>\n",
       "      <td>False</td>\n",
       "      <td>1</td>\n",
       "      <td>jo.m.brandt@gmail.com</td>\n",
       "      <td>2019-09-10 14:17:29.40725</td>\n",
       "      <td>138.6</td>\n",
       "      <td>0.0</td>\n",
       "    </tr>\n",
       "    <tr>\n",
       "      <th>787</th>\n",
       "      <td>135191140</td>\n",
       "      <td>484052180</td>\n",
       "      <td>39.284649</td>\n",
       "      <td>13.857273</td>\n",
       "      <td>False</td>\n",
       "      <td>1</td>\n",
       "      <td>jo.m.brandt@gmail.com</td>\n",
       "      <td>2019-09-10 14:17:29.40725</td>\n",
       "      <td>138.6</td>\n",
       "      <td>0.0</td>\n",
       "    </tr>\n",
       "    <tr>\n",
       "      <th>788</th>\n",
       "      <td>135191140</td>\n",
       "      <td>484052181</td>\n",
       "      <td>39.284649</td>\n",
       "      <td>13.857360</td>\n",
       "      <td>False</td>\n",
       "      <td>1</td>\n",
       "      <td>jo.m.brandt@gmail.com</td>\n",
       "      <td>2019-09-10 14:17:29.40725</td>\n",
       "      <td>138.6</td>\n",
       "      <td>0.0</td>\n",
       "    </tr>\n",
       "  </tbody>\n",
       "</table>\n",
       "</div>"
      ],
      "text/plain": [
       "       PLOT_ID  SAMPLE_ID        LON        LAT  FLAGGED  ANALYSES  \\\n",
       "784  135191140  484052177  39.284649  13.857011    False         1   \n",
       "785  135191140  484052178  39.284649  13.857098    False         1   \n",
       "786  135191140  484052179  39.284649  13.857186    False         1   \n",
       "787  135191140  484052180  39.284649  13.857273    False         1   \n",
       "788  135191140  484052181  39.284649  13.857360    False         1   \n",
       "\n",
       "                   USER_ID            COLLECTION_TIME  ANALYSIS_DURATION  TREE  \n",
       "784  jo.m.brandt@gmail.com  2019-09-10 14:17:29.40725              138.6   0.0  \n",
       "785  jo.m.brandt@gmail.com  2019-09-10 14:17:29.40725              138.6   0.0  \n",
       "786  jo.m.brandt@gmail.com  2019-09-10 14:17:29.40725              138.6   0.0  \n",
       "787  jo.m.brandt@gmail.com  2019-09-10 14:17:29.40725              138.6   0.0  \n",
       "788  jo.m.brandt@gmail.com  2019-09-10 14:17:29.40725              138.6   0.0  "
      ]
     },
     "execution_count": 50,
     "metadata": {},
     "output_type": "execute_result"
    }
   ],
   "source": [
    "df[df['PLOT_ID'] == df['PLOT_ID'].unique()[4]].head(5)"
   ]
  },
  {
   "cell_type": "code",
   "execution_count": 51,
   "metadata": {},
   "outputs": [
    {
     "data": {
      "image/png": "[encoded data removed]",
      "text/plain": [
       "<Figure size 504x504 with 1 Axes>"
      ]
     },
     "metadata": {
      "needs_background": "light"
     },
     "output_type": "display_data"
    }
   ],
   "source": [
    "plot_rgb_from_plot(df['PLOT_ID'].unique()[4])"
   ]
  },
  {
   "cell_type": "code",
   "execution_count": 130,
   "metadata": {},
   "outputs": [
    {
     "data": {
      "text/plain": [
       "122"
      ]
     },
     "execution_count": 130,
     "metadata": {},
     "output_type": "execute_result"
    }
   ],
   "source": [
    "sample_id = int((len(df['PLOT_ID'].unique())*0.0) + 488/4)\n",
    "sample_id"
   ]
  },
  {
   "cell_type": "code",
   "execution_count": 131,
   "metadata": {},
   "outputs": [
    {
     "data": {
      "text/plain": [
       "135191283"
      ]
     },
     "execution_count": 131,
     "metadata": {},
     "output_type": "execute_result"
    }
   ],
   "source": [
    "df['PLOT_ID'].unique()[sample_id]"
   ]
  },
  {
   "cell_type": "code",
   "execution_count": 93,
   "metadata": {},
   "outputs": [
    {
     "data": {
      "image/png": "[encoded data removed]",
      "text/plain": [
       "<Figure size 504x504 with 1 Axes>"
      ]
     },
     "metadata": {
      "needs_background": "light"
     },
     "output_type": "display_data"
    }
   ],
   "source": [
    "plot_rgb_from_plot(df['PLOT_ID'].unique()[sample_id])"
   ]
  },
  {
   "cell_type": "code",
   "execution_count": null,
   "metadata": {},
   "outputs": [],
   "source": [
    "def ndvi(x):\n",
    "    # (B8 - B4)/(B8 + B4)\n",
    "    ndvis = [(im[:, :, 6] - im[:, :, 2]) / (im[:, :, 6] + im[:, :, 2]) for im in x]\n",
    "    x_padding = np.zeros((x.shape[0], image_size, image_size, 1))\n",
    "    x = np.concatenate((x, x_padding), axis = 3)\n",
    "    # Iterate over each time step and add NDVI in as the 11th channel\n",
    "    for i in range(x.shape[0]):\n",
    "        x[i, :, :, 10] = ndvis[i]\n",
    "    return x"
   ]
  },
  {
   "cell_type": "code",
   "execution_count": 96,
   "metadata": {},
   "outputs": [
    {
     "data": {
      "text/plain": [
       "0.3333333333333333"
      ]
     },
     "execution_count": 96,
     "metadata": {},
     "output_type": "execute_result"
    }
   ],
   "source": [
    "(0.1 - 0.05) / (0.1 + 0.05)"
   ]
  },
  {
   "cell_type": "markdown",
   "metadata": {},
   "source": [
    "## Validate downloading"
   ]
  },
  {
   "cell_type": "code",
   "execution_count": 13,
   "metadata": {},
   "outputs": [],
   "source": [
    "from sentinelhub import WcsRequest, WcsRequest, MimeType, CRS, BBox, constants\n",
    "import datetime\n",
    "\n",
    "EPSG = CRS.WGS84\n",
    "location = ([38.180918605931225, 14.042459911560787],\n",
    "            [38.182178703049935, 14.043683543556279])\n",
    "API_KEY = key['key']\n",
    "\n",
    "\n",
    "def download_tiles(bbox, epsg = EPSG, time = ('2017-01-01', '2017-12-31')):\n",
    "    try:\n",
    "        box = BBox(bbox, crs = epsg)\n",
    "        image_request = WcsRequest(\n",
    "                layer='TRUE_COLOR',\n",
    "                bbox=box,\n",
    "                time=time,\n",
    "                image_format = MimeType.TIFF_d32f,\n",
    "                maxcc=1,\n",
    "                resx='10m', resy='10m',\n",
    "                instance_id=API_KEY,\n",
    "                custom_url_params = {constants.CustomUrlParam.UPSAMPLING: 'BICUBIC'},\n",
    "                time_difference=datetime.timedelta(hours=24),\n",
    "            )\n",
    "        img_bands = image_request.get_data()\n",
    "        return img_bands, image_request\n",
    "\n",
    "    except Exception as e:\n",
    "        logging.fatal(e, exc_info=True)\n",
    "        \n",
    "x = download_tiles(location)"
   ]
  },
  {
   "cell_type": "code",
   "execution_count": 18,
   "metadata": {},
   "outputs": [
    {
     "data": {
      "text/plain": [
       "(14, 14, 3)"
      ]
     },
     "execution_count": 18,
     "metadata": {},
     "output_type": "execute_result"
    }
   ],
   "source": [
    "x[0][0].shape"
   ]
  },
  {
   "cell_type": "code",
   "execution_count": 19,
   "metadata": {},
   "outputs": [],
   "source": [
    "location = [(38.18096474931849, 14.042505273551859),\n",
    "            (38.18213255918785, 14.043638181775378)]\n",
    "x = download_tiles(location)"
   ]
  },
  {
   "cell_type": "code",
   "execution_count": 20,
   "metadata": {},
   "outputs": [
    {
     "data": {
      "text/plain": [
       "(13, 13, 3)"
      ]
     },
     "execution_count": 20,
     "metadata": {},
     "output_type": "execute_result"
    }
   ],
   "source": [
    "x[0][0].shape"
   ]
  }
 ],
 "metadata": {
  "kernelspec": {
   "display_name": "remote_sensing",
   "language": "python",
   "name": "remote_sensing"
  },
  "language_info": {
   "codemirror_mode": {
    "name": "ipython",
    "version": 3
   },
   "file_extension": ".py",
   "mimetype": "text/x-python",
   "name": "python",
   "nbconvert_exporter": "python",
   "pygments_lexer": "ipython3",
   "version": "3.6.8"
  }
 },
 "nbformat": 4,
 "nbformat_minor": 2
}
