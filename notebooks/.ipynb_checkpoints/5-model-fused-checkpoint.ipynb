{
 "cells": [
  {
   "cell_type": "markdown",
   "metadata": {},
   "source": [
    "# Master model development\n",
    "\n",
    "## John Brandt\n",
    "\n",
    "### Last updated: March 25 2020"
   ]
  },
  {
   "cell_type": "markdown",
   "metadata": {},
   "source": [
    "*  Package loading\n",
    "*  Hyperparameter definitions\n",
    "*  Additional layer definitions\n",
    "*  Model definition\n",
    "*  Data loading\n",
    "*  Data preprocessing\n",
    "*  K means clustering\n",
    "*  Augment training data\n",
    "*  Loss definition\n",
    "*  Equibatch creation\n",
    "*  Model training\n",
    "*  Model validation and sanity checks"
   ]
  },
  {
   "cell_type": "markdown",
   "metadata": {},
   "source": [
    "# Experiment log\n",
    "*  Baseline - Bilinear up/downsample separate for 10, 20m bands, no superresolution\n",
    "*  Bilinear up/downsample for 10m bands, nearest upsample for 20m bands to 10m\n",
    "*  Nearest up/downsample for all bands, no superresolution\n",
    "*  Bicubic up/downsample for all bands, no superresolution\n",
    "*  Bicubic up/downsample separate for 10, 20m bands, no superresolution\n",
    "*  Above w/ superresolution"
   ]
  },
  {
   "cell_type": "code",
   "execution_count": 1,
   "metadata": {},
   "outputs": [
    {
     "name": "stderr",
     "output_type": "stream",
     "text": [
      "Using TensorFlow backend.\n"
     ]
    },
    {
     "name": "stdout",
     "output_type": "stream",
     "text": [
      "WARNING:tensorflow:From /Users/john.brandt/anaconda3/envs/remote_sensing/lib/python3.6/site-packages/tensorflow/python/framework/op_def_library.py:263: colocate_with (from tensorflow.python.framework.ops) is deprecated and will be removed in a future version.\n",
      "Instructions for updating:\n",
      "Colocations handled automatically by placer.\n"
     ]
    }
   ],
   "source": [
    "#TODO Remove imports that aren't needed to save RAM\n",
    "from tqdm import tqdm_notebook, tnrange\n",
    "import tensorflow as tf\n",
    "\n",
    "sess = tf.Session()\n",
    "from keras import backend as K\n",
    "K.set_session(sess)\n",
    "\n",
    "from time import sleep\n",
    "\n",
    "import keras\n",
    "from tensorflow.python.keras.layers import *\n",
    "from tensorflow.python.keras.layers import ELU\n",
    "from keras.losses import binary_crossentropy\n",
    "from tensorflow.python.ops import array_ops\n",
    "from tensorflow.python.keras.layers import Conv2D, Lambda, Dense, Multiply, Add\n",
    "from tensorflow.python.keras.activations import selu\n",
    "from tensorflow.initializers import glorot_normal, lecun_normal\n",
    "\n",
    "import tensorflow.contrib.slim as slim\n",
    "from tensorflow.contrib.slim import conv2d\n",
    "\n",
    "import pandas as pd\n",
    "import numpy as np\n",
    "from random import shuffle\n",
    "import pandas as pd\n",
    "\n",
    "import seaborn as sns\n",
    "import matplotlib.pyplot as plt\n",
    "%matplotlib inline\n",
    "import os\n",
    "import random\n",
    "import itertools\n",
    "from tflearn.layers.conv import global_avg_pool\n",
    "from tensorflow.contrib.framework import arg_scope\n",
    "from keras.regularizers import l1\n",
    "from tensorflow.layers import batch_normalization\n",
    "from tensorflow.python.util import deprecation as deprecation\n",
    "deprecation._PRINT_DEPRECATION_WARNINGS = False\n",
    "\n",
    "os.environ['KMP_DUPLICATE_LIB_OK']='True'"
   ]
  },
  {
   "cell_type": "code",
   "execution_count": 2,
   "metadata": {},
   "outputs": [
    {
     "data": {
      "text/plain": [
       "'1.13.1'"
      ]
     },
     "execution_count": 2,
     "metadata": {},
     "output_type": "execute_result"
    }
   ],
   "source": [
    "tf.VERSION"
   ]
  },
  {
   "cell_type": "code",
   "execution_count": 3,
   "metadata": {},
   "outputs": [],
   "source": [
    "%run ../src/zoneout.py\n",
    "%run ../src/convgru.py\n",
    "%run ../src/lovasz.py\n",
    "%run ../src/utils.py\n",
    "%run ../src/adabound.py\n",
    "%run ../src/slope.py\n",
    "%run ../src/dropblock.py\n",
    "%run ../src/metrics_new.py"
   ]
  },
  {
   "cell_type": "markdown",
   "metadata": {},
   "source": [
    "# Hyperparameter definitions"
   ]
  },
  {
   "cell_type": "code",
   "execution_count": 4,
   "metadata": {},
   "outputs": [],
   "source": [
    "ZONE_OUT_PROB = 0.20\n",
    "L2_REG = 0.0\n",
    "INITIAL_LR = 2e-4\n",
    "FINAL_LR = 1e-3\n",
    "BN_MOMENTUM = 0.9\n",
    "BATCH_SIZE = 16\n",
    "TRAIN_RATIO = 0.8\n",
    "TEST_RATIO = 0.2\n",
    "MAX_DROPBLOCK = 0.85\n",
    "\n",
    "gru_flt = 32\n",
    "fpa_flt = 28\n",
    "out_conv_flt = 32\n",
    "\n",
    "\n",
    "AUGMENTATION_RATIO = 4\n",
    "IMAGE_SIZE = 16\n",
    "LABEL_SIZE = 14\n"
   ]
  },
  {
   "cell_type": "markdown",
   "metadata": {},
   "source": [
    "# Additional layer definitions\n",
    "\n",
    "Some of these may be able to be removed, or moved to a src/*.py\n",
    "\n",
    "*  Conv SELU\n",
    "*  Conv BN ELU\n",
    "*  Feature pyramid attention (with downsample / upsample)\n",
    "*  Feature pyramid attention (w/o downsample / upsample)\n",
    "*  Temporal attention\n",
    "*  CSE, SSE, cCSE\n",
    "*  Reflection padding\n"
   ]
  },
  {
   "cell_type": "code",
   "execution_count": 5,
   "metadata": {},
   "outputs": [],
   "source": [
    "def conv_bn_elu(inp, is_training, kernel_size, scope,\n",
    "                filter_count = 16, pad = True, padding = 'valid', dilated = False,\n",
    "                activation = True):\n",
    "    if activation:\n",
    "        act = selu\n",
    "    else:\n",
    "        act = None\n",
    "    print(act)\n",
    "    if not dilated:\n",
    "        padded = ReflectionPadding2D((1, 1,))(inp)\n",
    "        conv = Conv2D(filters = filter_count, kernel_size = (kernel_size, kernel_size), activation = act,\n",
    "                        padding = padding, kernel_initializer = lecun_normal())(padded)\n",
    "    if not dilated and not pad:\n",
    "        conv = Conv2D(filters = filter_count, kernel_size = (kernel_size, kernel_size), activation = act,\n",
    "                        padding = padding, kernel_initializer = lecun_normal())(inp)\n",
    "    if dilated:\n",
    "        padded = ReflectionPadding2D((2, 2,))(inp)\n",
    "        conv = Conv2D(filters = filter_count, kernel_size = (3, 3), activation = act, dilation_rate = (2, 2),\n",
    "                        padding = padding, kernel_initializer = lecun_normal())(padded)\n",
    "    return conv\n",
    "\n",
    "def conv_bn_relu(inp, is_training, kernel_size, scope, filters, activation = True, use_bias = False):\n",
    "    \n",
    "    conv = Conv2D(filters = filters, kernel_size = (kernel_size, kernel_size), activation = None,\n",
    "                  padding = 'valid', use_bias = use_bias,\n",
    "                  kernel_initializer = tf.keras.initializers.he_normal())(inp)\n",
    "    \n",
    "    bn = Batch_Normalization(conv, is_training, scope)\n",
    "    if activation:\n",
    "        bn = tf.nn.relu(bn)\n",
    "\n",
    "    return bn\n",
    "    \n",
    "def fpa(inp, is_training, filter_count):\n",
    "    one = conv_bn_relu(inp, is_training, 1, 'forward1', filter_count, False)\n",
    "    five = conv_bn_relu(inp, is_training, 5, 'down1', filter_count, True)\n",
    "    five_f = conv_bn_relu(five, is_training, 5, 'down1_f', filter_count, False)\n",
    "    three = conv_bn_relu(five, is_training, 3, 'down2', filter_count, True)\n",
    "    three_f = conv_bn_relu(three, is_training, 3, 'down2_f', filter_count, False)\n",
    "    \n",
    "    \n",
    "    three_up = tf.keras.layers.UpSampling2D((2, 2), interpolation = 'bilinear')(three_f)\n",
    "    #three_up = get_deconv2d(three_f, filter_count, filter_count, 'three_up', is_training)\n",
    "    three_up = tf.nn.relu(three_up)\n",
    "    five_up = tf.keras.layers.UpSampling2D((2, 2), interpolation = 'bilinear')(five_f)\n",
    "    #five_up = get_deconv2d(five_f, filter_count, filter_count, 'five_up', is_training)\n",
    "    five_up = tf.nn.relu(five_up)\n",
    "    \n",
    "    print(\"One: {}\".format(one.shape))\n",
    "    print(\"Five: {}\".format(five.shape))\n",
    "    print(\"Five_F: {}\".format(five_f.shape))\n",
    "    print(\"Three: {}\".format(three.shape))\n",
    "    print(\"Three_f: {}\".format(three_f.shape))\n",
    "    print(\"Three_up: {}\".format(three_up.shape))\n",
    "    print(\"Five_up: {}\".format(five_up.shape))\n",
    "    \n",
    "    # top block\n",
    "    #pooled = tf.keras.layers.GlobalAveragePooling2D()(inp)\n",
    "    #one_top = conv_bn_elu(tf.reshape(pooled, (-1, 1, 1, pooled.shape[-1])),\n",
    "    #                      is_training, 1, 'top1', filter_count, pad = False)\n",
    "    #four_top = tf.keras.layers.UpSampling2D((16, 16))(one_top)\n",
    "    #rint(\"Sixteen top: {}\".format(four_top.shape))\n",
    "    \n",
    "    \n",
    "    concat_1 = tf.nn.relu(tf.multiply(one, tf.nn.relu(tf.add(three_up, five_up))))\n",
    "    #concat_2 = tf.add(concat_1, four_top)\n",
    "    print(\"Feature pyramid attention shape {}\".format(concat_1.shape))\n",
    "    return concat_1\n",
    "\n",
    "def a2_block(inp, in_channels, c_m, c_n, k = 1):\n",
    "    # c_m is the output channel number of convs for V == 1/4 in_channels\n",
    "    # c_n is the output channel number of convs for A, B == 1/4 in_channels\n",
    "    # implementation based on https://arxiv.org/pdf/1810.11579.pdf\n",
    "    b, d, h, w, c = inp.shape[0], inp.shape[1], inp.shape[2], inp.shape[3], inp.shape[4]\n",
    "    inp = tf.reshape(inp, (-1, h, w, c*d))\n",
    "    #inp = tf.transpose(inp, perm = [0, 3, 1, 2])\n",
    "    b, h, w, c = inp.shape[0], inp.shape[1], inp.shape[2], inp.shape[3]\n",
    "    batch = inp.shape[0]\n",
    "    \n",
    "    A = Conv2D(filters = c_m, kernel_size = (1, 1), activation = 'linear',\n",
    "                        kernel_initializer = lecun_normal(), data_format = 'channels_last')(inp)\n",
    "    B = Conv2D(filters = c_n, kernel_size = (1, 1), activation = 'linear',\n",
    "                        kernel_initializer = lecun_normal(), data_format = 'channels_last')(inp)\n",
    "    V = Conv2D(filters = c_n, kernel_size = (1, 1), activation = 'linear',\n",
    "                        kernel_initializer = lecun_normal(), data_format = 'channels_last')(inp)\n",
    "    A = tf.transpose(A, perm = [0, 3, 1, 2])\n",
    "    B = tf.transpose(B, perm = [0, 3, 1, 2])\n",
    "    V = tf.transpose(V, perm = [0, 3, 1, 2])\n",
    "    \n",
    "    tmpA = tf.reshape(A, (-1, k, c_m, h*w))\n",
    "    tmpA = tf.transpose(tmpA, perm=[0, 2, 1, 3])\n",
    "    tmpA = tf.reshape(tmpA, (-1, c_m, k*h*w))\n",
    "    \n",
    "    tmpB = tf.reshape(B, (-1, k, c_n, h*w))\n",
    "    tmpB = tf.transpose(tmpB, perm=[0,2,1,3])\n",
    "    tmpB = tf.reshape(tmpB, (-1, c_n, k*h*w))\n",
    "    \n",
    "    tmpV = tf.reshape(V, (-1, k, c_n, h*w))\n",
    "    tmpV = tf.transpose(tmpV, perm = [0, 1, 3, 2])\n",
    "    tmpV = tf.reshape(tmpV, (inp.shape[0], c_m, h, w))\n",
    "    \n",
    "    softmaxB = tf.nn.softmax(tmpB)\n",
    "    softmaxB = tf.reshape(softmaxB, (-1, c_n, k*h*w))\n",
    "    softmaxB = tf.transpose(softmaxB, perm = [0, 2, 1])\n",
    "    \n",
    "    softmaxV = tf.nn.softmax(tmpV)\n",
    "    softmaxV = tf.reshape(softmaxV, (-1, k*h*w, c_n))\n",
    "    softmaxV = tf.transpose(softmaxV, perm = [0, 2, 1])\n",
    "    \n",
    "    tmpG = tf.linalg.matmul(tmpA, softmaxB)\n",
    "    tmpZ = tf.linalg.matmul(tmpG, softmaxV)\n",
    "    tmpZ = tf.reshape(tmpZ, (-1, c_m, k, h*w))\n",
    "    tmpZ = tf.transpose(tmpV, perm = [0, 2, 1, 3])\n",
    "    tmpZ = tf.reshape(tmpZ, (b, c_m, h, w))\n",
    "    print(tmpZ.shape)\n",
    "    \n",
    "    return tmpZ\n",
    "    \n",
    "def create_deconv_init(filter_size, num_channels):\n",
    "    bilinear_kernel = np.zeros([filter_size, filter_size], dtype=np.float32)\n",
    "    scale_factor = (filter_size + 1) // 2\n",
    "    if filter_size % 2 == 1:\n",
    "        center = scale_factor - 1\n",
    "    else:\n",
    "        center = scale_factor - 0.5\n",
    "    for x in range(filter_size):\n",
    "        for y in range(filter_size):\n",
    "            bilinear_kernel[x,y] = (1 - abs(x - center) / scale_factor) * \\\n",
    "                                   (1 - abs(y - center) / scale_factor)\n",
    "    weights = np.zeros((filter_size, filter_size, num_channels, num_channels))\n",
    "    for i in range(num_channels):\n",
    "        weights[:, :, i, i] = bilinear_kernel\n",
    "\n",
    "    #assign numpy array to constant_initalizer and pass to get_variable\n",
    "    bilinear_init = tf.constant_initializer(value=weights, dtype=tf.float32)\n",
    "    return bilinear_init\n",
    "\n"
   ]
  },
  {
   "cell_type": "code",
   "execution_count": 6,
   "metadata": {},
   "outputs": [],
   "source": [
    "\n",
    "def get_deconv2d(inp, filter_count, num_channels, scope, is_training):\n",
    "    bilinear_init = create_deconv_init(4, filter_count)\n",
    "    x = tf.keras.layers.Conv2DTranspose(filters = filter_count, kernel_size = (4, 4),\n",
    "                                        strides=(2, 2), padding='same', \n",
    "                                        use_bias = False,\n",
    "                                        kernel_initializer = bilinear_init)(inp)\n",
    "    #x = ELU()(x)\n",
    "    #x = tf.nn.relu(x)\n",
    "    x = Batch_Normalization(x, training=is_training, scope = scope + \"bn\")\n",
    "    return x\n",
    "\n",
    "\n",
    "def Batch_Normalization(x, training, scope):\n",
    "    return batch_normalization(inputs=x, \n",
    "                               momentum = BN_MOMENTUM, \n",
    "                               training=training,\n",
    "                               renorm = True,\n",
    "                               reuse=None,\n",
    "                               name = scope)\n",
    "\n",
    "def temporal_attention(inp, units):\n",
    "    # This rescales each output\n",
    "    # Timesteps that are more important get weighted higher\n",
    "    # Timesteps that are least important get weighted lower --> B, N, H, W, C\n",
    "    conved = TimeDistributed(Conv2D(units, (1, 1), padding = 'same', kernel_initializer = 'glorot_uniform',\n",
    "                            activation = 'tanh', strides = (1, 1)))(inp)\n",
    "    \n",
    "    \n",
    "    #conved = tf.reshape(conved, (-1, units, 16, 16, STEPS))\n",
    "    print(\"Attention weight shape: {}\".format(conved.shape))\n",
    "    conved = TimeDistributed(Conv2D(1, (1, 1), padding = 'same', kernel_initializer = 'glorot_uniform',\n",
    "                            activation = 'sigmoid', use_bias = False, strides = (1, 1)))(conved)\n",
    "    print(\"Conved sigmoid shape: {}\".format(conved.shape))\n",
    "    #conved = tf.reshape(conved, (-1, 24, 1, 1, 1))\n",
    "    \n",
    "    alphas = tf.reduce_sum(conved, axis = 1, keep_dims = True)\n",
    "    print(\"Attention alphas: {}\".format(alphas.shape))\n",
    "    # We need to calculate the total sum for each pixel for each channel, so that we can combine them\n",
    "    alphas = conved / alphas\n",
    "    print(\"Attention weight shapes {}\".format(alphas.shape))\n",
    "    \n",
    "    # This actually multiplies the Conv by the input\n",
    "    multiplied = tf.reduce_sum(alphas * inp, axis = 1)\n",
    "    return multiplied"
   ]
  },
  {
   "cell_type": "code",
   "execution_count": 7,
   "metadata": {},
   "outputs": [],
   "source": [
    "def cse_block(prevlayer, prefix):\n",
    "    mean = Lambda(lambda xin: K.mean(xin, axis=[1, 2]))(prevlayer)\n",
    "    lin1 = Dense(K.int_shape(prevlayer)[3] // 2, name=prefix + 'cse_lin1', activation='relu')(mean)\n",
    "    lin2 = Dense(K.int_shape(prevlayer)[3], name=prefix + 'cse_lin2', activation='sigmoid')(lin1)\n",
    "    x = Multiply()([prevlayer, lin2])\n",
    "    return x\n",
    "\n",
    "\n",
    "def sse_block(prevlayer, prefix):\n",
    "    conv = Conv2D(1, (1, 1), padding=\"same\", kernel_initializer=\"glorot_uniform\",\n",
    "                  activation='sigmoid', strides=(1, 1),\n",
    "                  name=prefix + \"_conv\")(prevlayer)\n",
    "    conv = Multiply(name=prefix + \"_mul\")([prevlayer, conv])\n",
    "    return conv\n",
    "\n",
    "\n",
    "def csse_block(x, prefix):\n",
    "    '''\n",
    "    Implementation of Concurrent Spatial and Channel ‘Squeeze & Excitation’ in Fully Convolutional Networks\n",
    "    https://arxiv.org/abs/1803.02579\n",
    "    '''\n",
    "    cse = cse_block(x, prefix)\n",
    "    sse = sse_block(x, prefix)\n",
    "    x = Add(name=prefix + \"_csse_mul\")([cse, sse])\n",
    "\n",
    "    return x\n",
    "\n",
    "class ReflectionPadding2D(Layer):\n",
    "    def __init__(self, padding=(1, 1), **kwargs):\n",
    "        self.padding = tuple(padding)\n",
    "        self.input_spec = [InputSpec(ndim=4)]\n",
    "        super(ReflectionPadding2D, self).__init__(**kwargs)\n",
    "\n",
    "    def compute_output_shape(self, s):\n",
    "        \"\"\" If you are using \"channels_last\" configuration\"\"\"\n",
    "        return (s[0], s[1] + 2 * self.padding[0], s[2] + 2 * self.padding[1], s[3])\n",
    "\n",
    "    def call(self, x, mask=None):\n",
    "        w_pad,h_pad = self.padding\n",
    "        return tf.pad(x, [[0,0], [h_pad,h_pad], [w_pad,w_pad], [0,0] ], 'REFLECT')\n",
    "    \n",
    "def gru_block(inp, length, size, flt, scope, train, normalize = True):\n",
    "    with tf.variable_scope(scope):\n",
    "        print(\"GRU input shape {}, zoneout: {}\".format(inp.shape, ZONE_OUT_PROB))\n",
    "        cell_fw = ConvGRUCell(shape = size, filters = flt,\n",
    "                           kernel = [3, 3], padding = 'VALID', normalize = normalize, fpa = True)\n",
    "        cell_bw = ConvGRUCell(shape = size, filters = flt,\n",
    "                           kernel = [3, 3], padding = 'VALID', normalize = normalize, fpa = True)\n",
    "        cell_fw = ZoneoutWrapper(\n",
    "           cell_fw, zoneout_drop_prob = ZONE_OUT_PROB, is_training = train)\n",
    "        cell_bw = ZoneoutWrapper(\n",
    "            cell_bw, zoneout_drop_prob = ZONE_OUT_PROB, is_training = train)\n",
    "        steps, out = convGRU(inp, cell_fw, cell_bw, length)\n",
    "        gru = tf.concat(out, axis = -1)\n",
    "        steps = tf.concat(steps, axis = -1)\n",
    "        print(\"Down block output shape {}\".format(gru.shape))\n",
    "    return gru, steps\n"
   ]
  },
  {
   "cell_type": "markdown",
   "metadata": {},
   "source": [
    "# Model definition\n",
    "\n",
    "## Placeholders"
   ]
  },
  {
   "cell_type": "code",
   "execution_count": 8,
   "metadata": {},
   "outputs": [],
   "source": [
    "n_bands = 16\n",
    "reg = keras.regularizers.l2(L2_REG) # for GRU\n",
    "inp = tf.placeholder(tf.float32, shape=(None, 24, IMAGE_SIZE, IMAGE_SIZE, n_bands))\n",
    "length = tf.placeholder(tf.int32, shape = (None, 1))\n",
    "labels = tf.placeholder(tf.float32, shape=(None, 14, 14))#, 1))\n",
    "keep_rate = tf.placeholder_with_default(1.0, ()) # For DropBlock\n",
    "length2 = tf.reshape(length, (-1,)) # Remove\n",
    "is_training = tf.placeholder_with_default(False, (), 'is_training') # For BN, DropBlock\n",
    "alpha = tf.placeholder(tf.float32, shape = ()) # For loss scheduling\n",
    "ft_lr = tf.placeholder_with_default(0.001, shape = ()) # For loss scheduling"
   ]
  },
  {
   "cell_type": "markdown",
   "metadata": {},
   "source": [
    "## Layers"
   ]
  },
  {
   "cell_type": "code",
   "execution_count": 9,
   "metadata": {},
   "outputs": [
    {
     "name": "stdout",
     "output_type": "stream",
     "text": [
      "GRU input shape (?, 24, 16, 16, 15), zoneout: 0.2\n",
      "(3, 3, 47, 64)\n",
      "(1, 1, 64, 1)\n",
      "(?, 16, 16, 64)\n",
      "(3, 3, 47, 64)\n",
      "(1, 1, 64, 1)\n",
      "(?, 16, 16, 64)\n",
      "Down block output shape (?, 16, 16, 64)\n",
      "One: (?, 16, 16, 28)\n",
      "Five: (?, 12, 12, 28)\n",
      "Five_F: (?, 8, 8, 28)\n",
      "Three: (?, 10, 10, 28)\n",
      "Three_f: (?, 8, 8, 28)\n",
      "Three_up: (?, 16, 16, 28)\n",
      "Five_up: (?, 16, 16, 28)\n",
      "Feature pyramid attention shape (?, 16, 16, 28)\n",
      "<function selu at 0x12bfbdb70>\n",
      "Initializing last sigmoid bias with -2.94 constant\n"
     ]
    }
   ],
   "source": [
    "inp_first_half = inp[:, :, :, :, :10]\n",
    "inp_second_half = inp[:, :, :, :, 11:]\n",
    "no_dem = tf.concat([inp_first_half, inp_second_half], axis = -1)\n",
    "dem = tf.reshape(tf.reduce_mean(inp[:, :, :, :, 10], axis = 1), (-1, 16, 16, 1))\n",
    "gru_out, steps = gru_block(inp = no_dem, length = length2, \n",
    "                            size = [16, 16], \n",
    "                            flt = gru_flt, \n",
    "                            scope = 'down_16', \n",
    "                            train = is_training)\n",
    "\n",
    "#steps_a2 = a2_block(steps, gru_flt*2, gru_flt//2, gru_flt//2, k = 1)\n",
    "#print(\"Attention shape: {}\".format(steps_a2.shape))\n",
    "gru_out = tf.concat([gru_out, dem], axis = -1)\n",
    "csse1 = csse_block(gru_out, 'csse1')\n",
    "drop_block1 = DropBlock2D(keep_prob=keep_rate, block_size=4)\n",
    "csse1 = drop_block1(csse1, is_training)\n",
    "\n",
    "# Light FPA, CSSE, 4x4 Drop block\n",
    "fpa1 = fpa(csse1, is_training, fpa_flt)\n",
    "csse2 = csse_block(fpa1, 'csse2')\n",
    "drop_block2 = DropBlock2D(keep_prob=keep_rate, block_size=3)\n",
    "csse2 = drop_block2(csse2, is_training)\n",
    "\n",
    "\n",
    "# Skip connect\n",
    "x = tf.concat([csse2, csse1], axis = -1)\n",
    "drop_block3 = DropBlock2D(keep_prob=keep_rate, block_size=2)\n",
    "x = drop_block3(x, is_training)\n",
    "\n",
    "x = conv_bn_elu(x, is_training, 3, \"out_2\", out_conv_flt, False, 'valid')\n",
    "drop_block4 = DropBlock2D(keep_prob=keep_rate, block_size=1)\n",
    "x = drop_block4(x, is_training)\n",
    "\n",
    "print(\"Initializing last sigmoid bias with -2.94 constant\")\n",
    "init = tf.constant_initializer([-np.log(0.7/0.3)]) # For focal loss\n",
    "fm = Conv2D(filters = 1,\n",
    "            kernel_size = (1, 1), \n",
    "            padding = 'valid',\n",
    "            activation = 'sigmoid',\n",
    "            bias_initializer = init,\n",
    "           )(x) # For focal loss"
   ]
  },
  {
   "cell_type": "code",
   "execution_count": 10,
   "metadata": {
    "scrolled": true
   },
   "outputs": [
    {
     "name": "stdout",
     "output_type": "stream",
     "text": [
      "This model has 221947 parameters\n"
     ]
    }
   ],
   "source": [
    "total_parameters = 0\n",
    "for variable in tf.trainable_variables():\n",
    "    shape = variable.get_shape()\n",
    "    variable_parameters = 1\n",
    "    for dim in shape:\n",
    "        variable_parameters *= dim.value\n",
    "    total_parameters += variable_parameters\n",
    "print(\"This model has {} parameters\".format(total_parameters))"
   ]
  },
  {
   "cell_type": "markdown",
   "metadata": {},
   "source": [
    "# Data loading\n",
    "\n",
    "*  Load in CSV data from Collect Earth\n",
    "*  Reconstruct the X, Y grid for the Y data per sample\n",
    "*  Calculate NDVI, EVI, SAVI, BI, MSAVI2, and SI\n",
    "*  Stack X, Y, length data\n",
    "*  Apply median filter to DEM"
   ]
  },
  {
   "cell_type": "code",
   "execution_count": 11,
   "metadata": {
    "scrolled": true
   },
   "outputs": [],
   "source": [
    "train_x = np.load(\"../tile_data/processed/data_x_l2a_processed.npy\")\n",
    "train_y = np.load(\"../tile_data/processed/data_y_l2a_processed.npy\")\n",
    "train_l = np.load(\"../tile_data/processed/length_l2a_processed.npy\")\n",
    "\n",
    "train_x = np.delete(train_x, 14, -1) \n",
    "#data_x = np.delete(data_x, 13, -1)"
   ]
  },
  {
   "cell_type": "code",
   "execution_count": 12,
   "metadata": {},
   "outputs": [
    {
     "data": {
      "text/plain": [
       "<matplotlib.axes._subplots.AxesSubplot at 0x1a3471b358>"
      ]
     },
     "execution_count": 12,
     "metadata": {},
     "output_type": "execute_result"
    },
    {
     "data": {
      "image/png": "[encoded data removed]",
      "text/plain": [
       "<Figure size 432x288 with 2 Axes>"
      ]
     },
     "metadata": {
      "needs_background": "light"
     },
     "output_type": "display_data"
    }
   ],
   "source": [
    "sns.heatmap(train_x[65, 0, :, :, 10])"
   ]
  },
  {
   "cell_type": "code",
   "execution_count": 13,
   "metadata": {},
   "outputs": [
    {
     "data": {
      "application/vnd.jupyter.widget-view+json": {
       "model_id": "3f12ce787a454a2383a2a99f4de76895",
       "version_major": 2,
       "version_minor": 0
      },
      "text/plain": [
       "HBox(children=(IntProgress(value=0, max=4368), HTML(value='')))"
      ]
     },
     "metadata": {},
     "output_type": "display_data"
    },
    {
     "name": "stdout",
     "output_type": "stream",
     "text": [
      "\n",
      "(4368, 24, 16, 16, 16)\n"
     ]
    }
   ],
   "source": [
    "from scipy.ndimage import median_filter\n",
    "from skimage.transform import resize\n",
    "for sample in tnrange(0, len(train_x)):\n",
    "    filtered = median_filter(train_x[sample, 0, :, :, 10], size = 5)\n",
    "    filtered = np.reshape(filtered, (8, 2, 8, 2))\n",
    "    filtered = np.mean(filtered, axis = (1, 3))\n",
    "    filtered = resize(filtered, (16, 16), 0)\n",
    "    train_x[sample, :, :, :, 10] = np.stack([filtered] * 24)\n",
    "    \n",
    "#data_x = np.delete(data_x, 10, -1)\n",
    "print(train_x.shape)"
   ]
  },
  {
   "cell_type": "code",
   "execution_count": 14,
   "metadata": {},
   "outputs": [
    {
     "data": {
      "text/plain": [
       "<matplotlib.axes._subplots.AxesSubplot at 0x1a346caf60>"
      ]
     },
     "execution_count": 14,
     "metadata": {},
     "output_type": "execute_result"
    },
    {
     "data": {
      "image/png": "[encoded data removed]",
      "text/plain": [
       "<Figure size 432x288 with 2 Axes>"
      ]
     },
     "metadata": {
      "needs_background": "light"
     },
     "output_type": "display_data"
    }
   ],
   "source": [
    "sns.heatmap(train_x[65, 0, :, :, 10], vmax = 0.45)"
   ]
  },
  {
   "cell_type": "markdown",
   "metadata": {},
   "source": [
    "# Data preprocessing\n",
    "\n",
    "*  Identify and remove samples with time steps / channels that have a 0. or 1. value, which indicates missing data\n",
    "*  Identify and remove samples with time steps / channels with no variation, which indicates missing data\n",
    "*  Identify and remove samples with values above or below the allowable values for the band\n",
    "*  Identify and remove samples with null data, or samples with extreme band 0 data (which squash all the \"clean\" samples)\n",
    "*  Smooth per-pixel temporal data with Whittaker smoother, d = 2, lambda = 0.5 to reduce sample noise"
   ]
  },
  {
   "cell_type": "code",
   "execution_count": 15,
   "metadata": {
    "scrolled": true
   },
   "outputs": [
    {
     "name": "stdout",
     "output_type": "stream",
     "text": [
      "[3885, 3892, 3894, 3895, 3900, 3928, 3951, 3963, 3964, 3988, 3995, 4037, 4039, 4071, 4075, 4112, 4157, 4164, 4167, 4169, 4288, 4289, 4290, 4297, 4299, 4311, 4313, 4317, 4321, 4326, 4330, 4335, 4338, 4343, 4344, 4354, 4361]\n",
      "The outliers are: [4354, 4361, 2064, 4112, 3988, 4120, 3995, 3885, 3892, 3894, 3895, 3900, 4157, 4288, 4289, 4290, 4164, 4037, 4039, 4167, 4297, 4169, 4299, 3922, 4311, 3928, 4313, 3930, 4317, 4321, 4326, 4071, 4330, 4075, 1518, 3951, 4335, 4338, 4343, 4344, 3963, 3964], totalling 42\n",
      "\n",
      "\n",
      "[-1.5637276, -1.508853, -1.71253, -1.6176922, -1.6507452, -1.7271925] [1.5485176, 1.5207762, 1.5558996, 1.6954132, 1.6817182, 1.5697637, 1.7376012, 1.5934502, 1.6265625, 1.6901331]\n"
     ]
    }
   ],
   "source": [
    "below_1 = [i for i, val in enumerate(train_x[:, :, :, :, :-2]) if np.min(val) < -1.5]\n",
    "above_1 = [i for i, val in enumerate(train_x[:, :, :, :, :-2]) if np.max(val) > 1.5]\n",
    "min_vals = [np.min(val) for i, val in enumerate(train_x[:, :, :, :, :-2]) if np.min(val) < -1.5]\n",
    "max_vals = [np.max(val) for i, val in enumerate(train_x[:, :, :, :, :-2]) if np.max(val) > 1.5]\n",
    "nans = [i for i, val in enumerate(train_x) if np.sum(np.isnan(val)) > 0]\n",
    "oob_vals = [i for i, val in enumerate(train_x) if np.max(val[:, :, :, 0]) > 0.7]\n",
    "print(oob_vals)\n",
    "\n",
    "outliers = below_1 + above_1 + nans + oob_vals\n",
    "outliers = list(set(outliers))\n",
    "print(\"The outliers are: {}, totalling {}\".format(outliers, len(outliers)))\n",
    "print(\"\\n\")\n",
    "print(min_vals, max_vals)\n",
    "train_x = train_x[[x for x in range(0, len(train_x)) if x not in outliers]]\n",
    "train_y = train_y[[x for x in range(0, len(train_y)) if x not in outliers]]\n",
    "train_l = train_l[[x for x in range(0, len(train_l)) if x not in outliers]]"
   ]
  },
  {
   "cell_type": "markdown",
   "metadata": {},
   "source": [
    "## Temporal Smoothing"
   ]
  },
  {
   "cell_type": "code",
   "execution_count": 16,
   "metadata": {},
   "outputs": [],
   "source": [
    "#high_treecover = np.argwhere(np.sum(train_y, axis = (1, 2)) < 100)\n",
    "#high_treecover = np.delete(train_x, high_treecover, 0)\n",
    "\n",
    "#low_treecover = np.argwhere(np.sum(train_y-y, axis = (1, 2)) != 0)\n",
    "#low_treecover = np.delete(data_x, low_treecover, 0)\n",
    "#\n",
    "#high_scatter = np.std(high_treecover, axis = (0, 2, 3))\n",
    "#low_scatter = np.std(low_treecover, axis = (0, 2, 3))"
   ]
  },
  {
   "cell_type": "code",
   "execution_count": 17,
   "metadata": {},
   "outputs": [],
   "source": [
    "#sns.scatterplot(y = low_scatter[:, 12], x = [x for x in range(24)])"
   ]
  },
  {
   "cell_type": "code",
   "execution_count": 18,
   "metadata": {},
   "outputs": [],
   "source": [
    "#y_scatter = np.mean(data_x[7, :, :, :, -4], axis = (1, 2))\n",
    "#sns.scatterplot(y = high_scatter[:, 12], x = [x for x in range(24)])#"
   ]
  },
  {
   "cell_type": "code",
   "execution_count": 19,
   "metadata": {
    "scrolled": true
   },
   "outputs": [
    {
     "name": "stdout",
     "output_type": "stream",
     "text": [
      "0\n",
      "1\n",
      "2\n",
      "3\n",
      "4\n",
      "5\n",
      "6\n",
      "7\n",
      "8\n",
      "9\n",
      "10\n",
      "11\n",
      "12\n",
      "13\n",
      "14\n",
      "15\n",
      "The data has been scaled to [-1.0000001192092896, 1.0000001192092896]\n"
     ]
    }
   ],
   "source": [
    "# March 2 model\n",
    "min_all = [0.020395646858960392,\n",
    " 0.03833778686821461,\n",
    " 0.022913980782032013,\n",
    " 0.08838867269456387,\n",
    " 0.05731564749032259,\n",
    " 0.0796274145692587,\n",
    " 0.08639285631477833,\n",
    " 0.08918419919908048,\n",
    " 0.07416137464344502,\n",
    " 0.04398707151412964,\n",
    " 0.0,\n",
    " 0.008659180235117674,\n",
    " -0.0134716229327023,\n",
    " 0.006902076792903247,\n",
    " 0.006362500241957605,\n",
    " 4.999999873689376e-05]\n",
    "\n",
    "max_all = [0.18219037026166907,\n",
    " 0.27367106080055237,\n",
    " 0.3996005910634992,\n",
    " 0.4859166720509528,\n",
    " 0.4492199122905731,\n",
    " 0.46700127094984045,\n",
    " 0.49433933556079857,\n",
    " 0.5116616946458816,\n",
    " 0.6353135156631469,\n",
    " 0.5636022371053693,\n",
    " 0.3590170443058014,\n",
    " 0.693415229320526,\n",
    " 0.3948741647601127,\n",
    " 0.6290205121040344,\n",
    " 0.8152220940589849,\n",
    " 0.14367499947547913]\n",
    "\n",
    "min_all = []\n",
    "max_all = []\n",
    "#\n",
    "for band in range(0, train_x.shape[-1]):\n",
    "    print(band)\n",
    "    mins = np.percentile(train_x[:, :, :, :, band], 1)\n",
    "    maxs = np.percentile(train_x[:, :, :, :, band], 99)\n",
    "    #mins = min_all[band]\n",
    "    #maxs = max_all[band]\n",
    "    #print(mins1 - mins, maxs1 - maxs)\n",
    "    train_x[:, :, :, :, band] = np.clip(train_x[:, :, :, :, band], mins, maxs)\n",
    "    midrange = (maxs + mins) / 2\n",
    "    rng = maxs - mins\n",
    "    standardized = (train_x[:, :, :, :, band] - midrange) / (rng / 2)\n",
    "    train_x[:, :, :, :, band] = standardized\n",
    "    \n",
    "    min_all.append(mins)\n",
    "    max_all.append(maxs)\n",
    "    \n",
    "print(\"The data has been scaled to [{}, {}]\".format(np.min(train_x), np.max(train_x)))"
   ]
  },
  {
   "cell_type": "code",
   "execution_count": 20,
   "metadata": {},
   "outputs": [
    {
     "data": {
      "text/plain": [
       "<matplotlib.axes._subplots.AxesSubplot at 0x1a36d74ef0>"
      ]
     },
     "execution_count": 20,
     "metadata": {},
     "output_type": "execute_result"
    },
    {
     "data": {
      "image/png": "[encoded data removed]",
      "text/plain": [
       "<Figure size 432x288 with 2 Axes>"
      ]
     },
     "metadata": {
      "needs_background": "light"
     },
     "output_type": "display_data"
    }
   ],
   "source": [
    "sns.heatmap(train_x[12, 5, :, :, 6])"
   ]
  },
  {
   "cell_type": "code",
   "execution_count": 21,
   "metadata": {},
   "outputs": [
    {
     "data": {
      "text/plain": [
       "<matplotlib.axes._subplots.AxesSubplot at 0x1a9cbab438>"
      ]
     },
     "execution_count": 21,
     "metadata": {},
     "output_type": "execute_result"
    },
    {
     "data": {
      "image/png": "[encoded data removed]",
      "text/plain": [
       "<Figure size 432x288 with 1 Axes>"
      ]
     },
     "metadata": {
      "needs_background": "light"
     },
     "output_type": "display_data"
    }
   ],
   "source": [
    "sns.scatterplot(y = train_x[105, :, 15, 14, 3], x = [x for x in range(24)])"
   ]
  },
  {
   "cell_type": "markdown",
   "metadata": {},
   "source": [
    "# Augment training data\n",
    "\n",
    "Horizontal and vertical flips for 4x augmentation.\n",
    "\n",
    "**To do**\n",
    "*  Random guassian noise\n",
    "*  Brightness, contrast\n",
    "*  Region swaps (randomply position positive samples at different locations)"
   ]
  },
  {
   "cell_type": "code",
   "execution_count": 22,
   "metadata": {},
   "outputs": [
    {
     "data": {
      "text/plain": [
       "'\\ndata_x_augmented = []\\ndata_y_augmented = []\\nlengths_augmented = []\\n\\nfor i, val in enumerate([x for x in range(len(data_x))]):\\n    data_x_augmented.append(data_x[val])\\n    data_y_augmented.append(data_y[val])\\n    lengths_augmented.append(data_x[val].shape[0])\\n    \\n    x1 = np.flip(data_x[val], 1)\\n    y1 = np.flip(data_y[val], 0)\\n    lengths_augmented.append(x1.shape[0])\\n    data_x_augmented.append(x1)\\n    data_y_augmented.append(y1)\\n    \\n    x1 = np.flip(data_x[val], [2, 1])\\n    y1 = np.flip(data_y[val], [1, 0])\\n    lengths_augmented.append(x1.shape[0])\\n    data_x_augmented.append(x1)\\n    data_y_augmented.append(y1)\\n    \\n    x1 = np.flip(data_x[val], 2)\\n    y1 = np.flip(data_y[val], 1)\\n    lengths_augmented.append(x1.shape[0])\\n    data_x_augmented.append(x1)\\n    data_y_augmented.append(y1)\\n'"
      ]
     },
     "execution_count": 22,
     "metadata": {},
     "output_type": "execute_result"
    }
   ],
   "source": [
    "'''\n",
    "data_x_augmented = []\n",
    "data_y_augmented = []\n",
    "lengths_augmented = []\n",
    "\n",
    "for i, val in enumerate([x for x in range(len(data_x))]):\n",
    "    data_x_augmented.append(data_x[val])\n",
    "    data_y_augmented.append(data_y[val])\n",
    "    lengths_augmented.append(data_x[val].shape[0])\n",
    "    \n",
    "    x1 = np.flip(data_x[val], 1)\n",
    "    y1 = np.flip(data_y[val], 0)\n",
    "    lengths_augmented.append(x1.shape[0])\n",
    "    data_x_augmented.append(x1)\n",
    "    data_y_augmented.append(y1)\n",
    "    \n",
    "    x1 = np.flip(data_x[val], [2, 1])\n",
    "    y1 = np.flip(data_y[val], [1, 0])\n",
    "    lengths_augmented.append(x1.shape[0])\n",
    "    data_x_augmented.append(x1)\n",
    "    data_y_augmented.append(y1)\n",
    "    \n",
    "    x1 = np.flip(data_x[val], 2)\n",
    "    y1 = np.flip(data_y[val], 1)\n",
    "    lengths_augmented.append(x1.shape[0])\n",
    "    data_x_augmented.append(x1)\n",
    "    data_y_augmented.append(y1)\n",
    "'''\n",
    "\n",
    "#train_x = np.stack(data_x_augmented)\n",
    "#train_y = np.stack(data_y_augmented)\n",
    "##train_y = np.reshape(train_y, (train_y.shape[0], 14, 14, 1))\n",
    "#train_l = np.stack(lengths_augmented)\n",
    "#train_l = np.reshape(train_l, (train_y.shape[0], 1))"
   ]
  },
  {
   "cell_type": "code",
   "execution_count": 187,
   "metadata": {
    "scrolled": true
   },
   "outputs": [
    {
     "name": "stdout",
     "output_type": "stream",
     "text": [
      "The outliers are: [597], totalling 1\n",
      "\n",
      "\n",
      "[-1.7179548] []\n",
      "0 Offender max/min: 14 12\n",
      "6 Offender max/min: 14 10\n",
      "7 Offender max/min: 14 15\n",
      "9 Offender max/min: 14 10\n",
      "12 Offender max/min: 14 12\n",
      "15 Offender max/min: 14 12\n",
      "16 Offender max/min: 14 12\n",
      "17 Offender max/min: 14 10\n",
      "19 Offender max/min: 14 12\n",
      "21 Offender max/min: 14 12\n",
      "23 Offender max/min: 14 12\n",
      "33 Offender max/min: 14 10\n",
      "36 Offender max/min: 14 12\n",
      "40 Offender max/min: 14 12\n",
      "42 Offender max/min: 14 10\n",
      "46 Offender max/min: 14 10\n",
      "49 Offender max/min: 14 12\n",
      "53 Offender max/min: 14 12\n",
      "54 Offender max/min: 14 10\n",
      "55 Offender max/min: 14 12\n",
      "56 Offender max/min: 14 12\n",
      "60 Offender max/min: 14 12\n",
      "63 Offender max/min: 14 12\n",
      "65 Offender max/min: 14 12\n",
      "70 Offender max/min: 14 12\n",
      "71 Offender max/min: 14 12\n",
      "72 Offender max/min: 14 12\n",
      "75 Offender max/min: 14 10\n",
      "79 Offender max/min: 14 12\n",
      "80 Offender max/min: 14 10\n",
      "81 Offender max/min: 14 10\n",
      "83 Offender max/min: 14 12\n",
      "98 Offender max/min: 14 12\n",
      "103 Offender max/min: 14 10\n",
      "104 Offender max/min: 14 12\n",
      "107 Offender max/min: 14 10\n",
      "108 Offender max/min: 14 12\n",
      "109 Offender max/min: 14 12\n",
      "111 Offender max/min: 14 10\n",
      "112 Offender max/min: 14 12\n",
      "113 Offender max/min: 14 12\n",
      "118 Offender max/min: 14 12\n",
      "119 Offender max/min: 14 12\n",
      "121 Offender max/min: 14 10\n",
      "123 Offender max/min: 14 10\n",
      "125 Offender max/min: 14 10\n",
      "131 Offender max/min: 14 10\n",
      "144 Offender max/min: 14 10\n",
      "151 Offender max/min: 14 12\n",
      "155 Offender max/min: 14 10\n",
      "156 Offender max/min: 14 12\n",
      "157 Offender max/min: 14 12\n",
      "162 Offender max/min: 14 12\n",
      "164 Offender max/min: 14 10\n",
      "167 Offender max/min: 14 10\n",
      "183 Offender max/min: 14 12\n",
      "208 Offender max/min: 14 10\n",
      "215 Offender max/min: 14 12\n",
      "226 Offender max/min: 14 10\n",
      "229 Offender max/min: 14 10\n",
      "233 Offender max/min: 14 10\n",
      "247 Offender max/min: 14 10\n",
      "252 Offender max/min: 14 10\n",
      "256 Offender max/min: 14 10\n",
      "275 Offender max/min: 14 10\n",
      "280 Offender max/min: 14 10\n",
      "284 Offender max/min: 14 10\n",
      "285 Offender max/min: 14 10\n",
      "287 Offender max/min: 14 10\n",
      "288 Offender max/min: 14 12\n",
      "298 Offender max/min: 14 12\n",
      "305 Offender max/min: 14 10\n",
      "314 Offender max/min: 14 15\n",
      "320 Offender max/min: 14 10\n",
      "323 Offender max/min: 14 10\n",
      "329 Offender max/min: 14 10\n",
      "330 Offender max/min: 14 10\n",
      "332 Offender max/min: 14 10\n",
      "333 Offender max/min: 14 11\n",
      "334 Offender max/min: 14 10\n",
      "336 Offender max/min: 14 12\n",
      "337 Offender max/min: 14 10\n",
      "338 Offender max/min: 14 10\n",
      "340 Offender max/min: 14 11\n",
      "343 Offender max/min: 14 10\n",
      "344 Offender max/min: 14 12\n",
      "349 Offender max/min: 14 12\n",
      "350 Offender max/min: 14 10\n",
      "361 Offender max/min: 14 12\n",
      "362 Offender max/min: 7 11\n",
      "364 Offender max/min: 14 12\n",
      "369 Offender max/min: 14 12\n",
      "370 Offender max/min: 14 12\n",
      "371 Offender max/min: 14 11\n",
      "373 Offender max/min: 14 12\n",
      "378 Offender max/min: 14 12\n",
      "383 Offender max/min: 14 12\n",
      "387 Offender max/min: 14 12\n",
      "389 Offender max/min: 14 12\n",
      "393 Offender max/min: 14 12\n",
      "409 Offender max/min: 14 11\n",
      "410 Offender max/min: 14 12\n",
      "421 Offender max/min: 14 10\n",
      "425 Offender max/min: 14 10\n",
      "431 Offender max/min: 14 10\n",
      "446 Offender max/min: 14 10\n",
      "451 Offender max/min: 14 12\n",
      "453 Offender max/min: 14 10\n",
      "455 Offender max/min: 14 10\n",
      "464 Offender max/min: 14 10\n",
      "467 Offender max/min: 14 10\n",
      "469 Offender max/min: 14 12\n",
      "473 Offender max/min: 14 10\n",
      "476 Offender max/min: 14 12\n",
      "477 Offender max/min: 14 12\n",
      "499 Offender max/min: 14 9\n",
      "500 Offender max/min: 14 12\n",
      "505 Offender max/min: 14 10\n",
      "507 Offender max/min: 14 12\n",
      "508 Offender max/min: 14 12\n",
      "512 Offender max/min: 14 12\n",
      "517 Offender max/min: 14 12\n",
      "522 Offender max/min: 14 12\n",
      "523 Offender max/min: 14 12\n",
      "524 Offender max/min: 14 15\n",
      "527 Offender max/min: 14 10\n",
      "530 Offender max/min: 14 12\n",
      "533 Offender max/min: 14 12\n",
      "535 Offender max/min: 14 10\n",
      "536 Offender max/min: 14 12\n",
      "537 Offender max/min: 14 12\n",
      "538 Offender max/min: 14 12\n",
      "542 Offender max/min: 14 10\n",
      "545 Offender max/min: 14 15\n",
      "546 Offender max/min: 14 10\n",
      "551 Offender max/min: 6 11\n",
      "557 Offender max/min: 14 15\n",
      "574 Offender max/min: 14 10\n",
      "575 Offender max/min: 11 11\n",
      "579 Offender max/min: 14 10\n",
      "586 Offender max/min: 14 12\n",
      "597 Offender max/min: 4 11\n",
      "602 Offender max/min: 14 0\n",
      "613 Offender max/min: 14 12\n",
      "619 Offender max/min: 14 11\n",
      "627 Offender max/min: 11 12\n",
      "628 Offender max/min: 14 12\n",
      "631 Offender max/min: 14 12\n",
      "636 Offender max/min: 14 10\n",
      "639 Offender max/min: 11 11\n",
      "645 Offender max/min: 14 10\n",
      "646 Offender max/min: 14 12\n",
      "650 Offender max/min: 14 11\n",
      "651 Offender max/min: 14 12\n",
      "655 Offender max/min: 11 11\n",
      "656 Offender max/min: 14 0\n",
      "660 Offender max/min: 14 5\n",
      "661 Offender max/min: 14 10\n",
      "663 Offender max/min: 14 12\n",
      "664 Offender max/min: 14 12\n",
      "668 Offender max/min: 14 12\n",
      "669 Offender max/min: 14 12\n",
      "671 Offender max/min: 14 0\n",
      "673 Offender max/min: 14 0\n",
      "674 Offender max/min: 14 12\n",
      "676 Offender max/min: 14 12\n",
      "682 Offender max/min: 14 15\n",
      "683 Offender max/min: 14 10\n",
      "684 Offender max/min: 14 12\n"
     ]
    },
    {
     "data": {
      "application/vnd.jupyter.widget-view+json": {
       "model_id": "9a68e4b0597649acbbc1545126f15692",
       "version_major": 2,
       "version_minor": 0
      },
      "text/plain": [
       "HBox(children=(IntProgress(value=0, max=685), HTML(value='')))"
      ]
     },
     "metadata": {},
     "output_type": "display_data"
    },
    {
     "name": "stdout",
     "output_type": "stream",
     "text": [
      "\n",
      "The data has been scaled to [-1.0000001192092896, 1.0000001192092896]\n",
      "(685, 24, 16, 16, 16)\n"
     ]
    }
   ],
   "source": [
    "test_x = np.load(\"../tile_data/processed/test_x_l2a_processed.npy\")\n",
    "test_y = np.load(\"../tile_data/processed/test_y_l2a_processed.npy\")\n",
    "test_lengths = np.load(\"../tile_data/processed/test_length_l2a_processed.npy\")\n",
    "\n",
    "test_x = np.delete(test_x, 14, -1)\n",
    "#test_x = np.delete(test_x, 13, -1)\n",
    "\n",
    "\n",
    "below_1 = [i for i, val in enumerate(test_x[:, :, :, :, :-2]) if np.min(val) < -1.5]\n",
    "above_1 = [i for i, val in enumerate(test_x[:, :, :, :, :-2]) if np.max(val) > 1.5]\n",
    "min_vals = [np.min(val) for i, val in enumerate(test_x[:, :, :, :, :-2]) if np.min(val) < -1.5]\n",
    "max_vals = [np.max(val) for i, val in enumerate(test_x[:, :, :, :, :-2]) if np.max(val) > 1.5]\n",
    "nans = [i for i, val in enumerate(test_x) if np.sum(np.isnan(val)) > 0]\n",
    "outliers = below_1 + above_1 + nans\n",
    "outliers = list(set(outliers))\n",
    "print(\"The outliers are: {}, totalling {}\".format(outliers, len(outliers)))\n",
    "print(\"\\n\")\n",
    "print(min_vals, max_vals)\n",
    "\n",
    "for i in range(len(test_x)):\n",
    "    mins = np.min(test_x[i, :, :, :, :])\n",
    "    maxs = np.max(test_x[i, :, :, :, :])\n",
    "    if mins < -1 or maxs > 1:\n",
    "        offender_max = np.argmax(np.max(test_x[i, :, :, :, :], (0, 1, 2)), -1)\n",
    "        offender_min = np.argmin(np.min(test_x[i, :, :, :, :], (0, 1, 2)), -1)\n",
    "        \n",
    "        print(\"{} Offender max/min: {} {}\".format(i, offender_max, offender_min))\n",
    "test_x = test_x[[x for x in range(0, len(test_x)) if x not in outliers]]\n",
    "test_y = test_y[[x for x in range(0, len(test_y)) if x not in outliers]]\n",
    "test_lengths = test_lengths[[x for x in range(0, len(test_lengths)) if x not in outliers]]\n",
    "\n",
    "for sample in tnrange(0, len(test_x)):\n",
    "    filtered = median_filter(test_x[sample, 0, :, :, 10], size = 5)\n",
    "    filtered = np.reshape(filtered, (8, 2, 8, 2))\n",
    "    filtered = np.mean(filtered, axis = (1, 3))\n",
    "    filtered = resize(filtered, (16, 16), 0)\n",
    "    test_x[sample, :, :, :, 10] = np.stack([filtered] * 24)\n",
    "\n",
    "#test_x = np.delete(test_x, 10, -1)\n",
    "    \n",
    "for band in range(0, test_x.shape[-1]):\n",
    "    mins = min_all[band]\n",
    "    maxs = max_all[band]\n",
    "    test_x[:, :, :, :, band] = np.clip(test_x[:, :, :, :, band], mins, maxs)\n",
    "    midrange = (maxs + mins) / 2\n",
    "    rng = maxs - mins\n",
    "    standardized = (test_x[:, :, :, :, band] - midrange) / (rng / 2)\n",
    "    test_x[:, :, :, :, band] = standardized\n",
    "    \n",
    "    \n",
    "print(\"The data has been scaled to [{}, {}]\".format(np.min(test_x), np.max(test_x)))\n",
    "print(test_x.shape)"
   ]
  },
  {
   "cell_type": "code",
   "execution_count": 188,
   "metadata": {},
   "outputs": [
    {
     "name": "stdout",
     "output_type": "stream",
     "text": [
      "Train and test characteristics:\n",
      "Train mean Y 66.31386861313868\n",
      "Test STD Y 73.02185972325405\n",
      "Train mean NDVI\n",
      "Test mean NDVI\n"
     ]
    }
   ],
   "source": [
    "print(\"Train and test characteristics:\")\n",
    "print(\"Train mean Y {}\".format(np.mean([np.sum(x) for x in test_y])))\n",
    "#print(\"Test mean Y {}\".format(np.mean([np.sum(x) for x in data_y[test_ids]])))\n",
    "#print(\"Train STD Y {}\".format(np.std([np.sum(x) for x in data_y[train_ids]])))\n",
    "print(\"Test STD Y {}\".format(np.std([np.sum(x) for x in test_y])))\n",
    "#print(\"Train number with zero trees {}\".format(0.2*len([x for x in data_y[train_ids] if np.sum(x) == 0])))\n",
    "#print(\"Test number with zero trees {}\".format(0.8*len([x for x in data_y[test_ids] if np.sum(x) == 0])))\n",
    "print(\"Train mean NDVI\")\n",
    "print(\"Test mean NDVI\")\n",
    "#print(\"There are {} train and {} test samples\".format(len(train_ids), len(test_ids)))\n",
    "#print(\"There is {} overlap between train and test\".format(len([x for x in train_ids if x in test_ids])))"
   ]
  },
  {
   "cell_type": "markdown",
   "metadata": {},
   "source": [
    "# Equibatch creation"
   ]
  },
  {
   "cell_type": "code",
   "execution_count": 25,
   "metadata": {},
   "outputs": [
    {
     "name": "stdout",
     "output_type": "stream",
     "text": [
      "[6.0, 14.0, 23.0, 36.0, 61.0, 115.0, 183.5]\n",
      "There are 801 zeros\n"
     ]
    }
   ],
   "source": [
    "sums = np.sum(train_y, axis = (1, 2))\n",
    "percents = [np.percentile(sums, x) for x in range(3*10, 100, 10)]\n",
    "print(percents)\n",
    "print(\"There are {} zeros\".format(len(np.argwhere(sums == 0))))"
   ]
  },
  {
   "cell_type": "code",
   "execution_count": 26,
   "metadata": {},
   "outputs": [
    {
     "name": "stdout",
     "output_type": "stream",
     "text": [
      "4326\n",
      "[6.0, 14.0, 23.0, 36.0, 61.0, 115.0, 183.5]\n",
      "[979, 323, 301, 340, 382, 356, 341, 295, 786]\n"
     ]
    }
   ],
   "source": [
    "train_ids = [x for x in range(0, len(train_y))]\n",
    "print(len(train_ids))\n",
    "\n",
    "def multiplot(matrices):\n",
    "    '''Plot multiple heatmaps with subplots'''\n",
    "    fig, axs = plt.subplots(ncols=4)\n",
    "    fig.set_size_inches(20, 4)\n",
    "    for i, matrix in enumerate(matrices):\n",
    "        sns.heatmap(data = matrix, ax = axs[i], vmin = 0, vmax = 0.9)\n",
    "        axs[i].set_xlabel(\"\")\n",
    "        axs[i].set_ylabel(\"\")\n",
    "        axs[i].set_yticks([])\n",
    "        axs[i].set_xticks([])\n",
    "    plt.show()\n",
    "    \n",
    "def equibatch(train_ids, percents):\n",
    "    np.random.shuffle(train_ids)\n",
    "    percs = np.sum(train_y[train_ids], axis = (1, 2))\n",
    "    groups = []\n",
    "    for i in percs:\n",
    "        if i == 0:\n",
    "            groups.append(0)\n",
    "        if i > 0 and i <= 50:\n",
    "            groups.append(1)\n",
    "        if i > 50 and i <= 100:\n",
    "            groups.append(2)\n",
    "        if i > 100 and i < 150:\n",
    "            groups.append(3)\n",
    "    groups = 0, 1, 2, 3, 4\n",
    "    df = pd.DataFrame(dict(\n",
    "       groups = groups,\n",
    "        indexes = train_ids\n",
    "    ))\n",
    "\n",
    "print(percents)\n",
    "def equibatch(train_ids, p = percents, lovasz = False):\n",
    "    percents = [7.0, 13.0, 21.0, 33.0, 50.0, 80.0, 130.0] # overall\n",
    "    #percents = [10., 20., 35., 50., 70., 110., 150.]\n",
    "    #percents = [20.0, 40.0, 65.0, 85.0, 120.0, 155.0, 180.0] # LAC\n",
    "    np.random.shuffle(train_ids)\n",
    "    ix = train_ids\n",
    "    percs = [np.sum(x) for x in train_y[ix]]\n",
    "    ids0 = [x for x, z in zip(ix, percs) if z <= 2]\n",
    "    ids30 = [x for x, z in zip(ix, percs) if 2 < z < percents[0]]\n",
    "    ids40 = [x for x, z in zip(ix, percs) if percents[0] < z < percents[1]]\n",
    "    ids50 = [x for x, z in zip(ix, percs) if percents[1] < z < percents[2]]\n",
    "    ids60 = [x for x, z in zip(ix, percs) if percents[2] < z < percents[3]]\n",
    "    ids70 = [x for x, z in zip(ix, percs) if percents[3] < z < percents[4]]\n",
    "    ids80 = [x for x, z in zip(ix, percs) if percents[4] < z < percents[5]]\n",
    "    ids90 = [x for x, z in zip(ix, percs) if percents[5] < z < percents[6]]\n",
    "    ids100 = [x for x, z in zip(ix, percs) if percents[6] < z]\n",
    "    \n",
    "\n",
    "    new_batches = []\n",
    "    maxes = [len(ids0), len(ids30), len(ids40), len(ids50), len(ids60), len(ids70),\n",
    "             len(ids80), len(ids90), len(ids100)]\n",
    "    print(maxes)\n",
    "    cur_ids = [0] * len(maxes)\n",
    "    iter_len = len(train_ids)//(len(maxes))\n",
    "    for i in range(0, iter_len):\n",
    "        for i, val in enumerate(cur_ids):\n",
    "            if val > maxes[i] - 1:\n",
    "                cur_ids[i] = 0\n",
    "        if cur_ids[0] >= (maxes[0] - 2):\n",
    "            cur_ids[0] = 0\n",
    "        to_append = [ids0[cur_ids[0]],\n",
    "                    ids30[cur_ids[1]], ids40[cur_ids[2]],\n",
    "                    ids50[cur_ids[3]],\n",
    "                    ids60[cur_ids[4]], ids70[cur_ids[5]], ids80[cur_ids[6]],\n",
    "                    ids90[cur_ids[7]], ids100[cur_ids[8]]]\n",
    "        \n",
    "        np.random.shuffle(to_append)\n",
    "        new_batches.append(to_append)\n",
    "        cur_ids = [x + 1 for x in cur_ids]\n",
    "        #cur_ids[0] += 1\n",
    "        \n",
    "    new_batches = [item for sublist in new_batches for item in sublist]\n",
    "    #overlap = [x for x in new_batches if x in test_ids]\n",
    "    #print(\"There is {} overlap. Error if > 0\".format(len(overlap)))\n",
    "    return new_batches\n",
    "\n",
    "batch = equibatch(train_ids)"
   ]
  },
  {
   "cell_type": "code",
   "execution_count": 27,
   "metadata": {},
   "outputs": [
    {
     "data": {
      "text/plain": [
       "<matplotlib.axes._subplots.AxesSubplot at 0x1a9cc79080>"
      ]
     },
     "execution_count": 27,
     "metadata": {},
     "output_type": "execute_result"
    },
    {
     "data": {
      "image/png": "[encoded data removed]",
      "text/plain": [
       "<Figure size 432x288 with 1 Axes>"
      ]
     },
     "metadata": {
      "needs_background": "light"
     },
     "output_type": "display_data"
    }
   ],
   "source": [
    "sns.distplot(np.sum(train_y, axis = (1, 2)), bins = 100, kde = False)"
   ]
  },
  {
   "cell_type": "code",
   "execution_count": 28,
   "metadata": {},
   "outputs": [
    {
     "data": {
      "text/plain": [
       "<matplotlib.axes._subplots.AxesSubplot at 0x1a9f089518>"
      ]
     },
     "execution_count": 28,
     "metadata": {},
     "output_type": "execute_result"
    },
    {
     "data": {
      "image/png": "[encoded data removed]",
      "text/plain": [
       "<Figure size 432x288 with 1 Axes>"
      ]
     },
     "metadata": {
      "needs_background": "light"
     },
     "output_type": "display_data"
    }
   ],
   "source": [
    "sns.distplot(np.sum(train_y[batch], axis = (1, 2)),\n",
    "             bins = 100, kde = False)"
   ]
  },
  {
   "cell_type": "code",
   "execution_count": 29,
   "metadata": {},
   "outputs": [
    {
     "data": {
      "text/plain": [
       "0.25158375850340137"
      ]
     },
     "execution_count": 29,
     "metadata": {},
     "output_type": "execute_result"
    }
   ],
   "source": [
    "np.mean(train_y[batch])"
   ]
  },
  {
   "cell_type": "code",
   "execution_count": 30,
   "metadata": {},
   "outputs": [
    {
     "name": "stdout",
     "output_type": "stream",
     "text": [
      "Beta: 0.9999988189720332\n",
      "[0.52688495 0.22243179]\n",
      "Neg and pos weights: [0.29684615 0.70315385]\n",
      "2.3687484257700104\n"
     ]
    }
   ],
   "source": [
    "sum_pos = np.sum(train_y[batch])\n",
    "sum_neg = len(train_y[batch]) * 196 - sum_pos\n",
    "beta = (sum_pos + sum_neg - 1) / (sum_pos + sum_neg)\n",
    "print(\"Beta: {}\".format(beta))\n",
    "samples_per_cls = np.array([sum_neg, sum_pos])\n",
    "effective_num = 1.0 - np.power(beta, samples_per_cls)\n",
    "print(effective_num)\n",
    "weights = (1.0 - beta) / np.array(effective_num)\n",
    "weights = weights / np.sum(weights)\n",
    "print(\"Neg and pos weights: {}\".format(weights))\n",
    "weight = weights[1] / weights[0]\n",
    "#weight -= 0.4\n",
    "print(weight)\n"
   ]
  },
  {
   "cell_type": "code",
   "execution_count": 31,
   "metadata": {},
   "outputs": [
    {
     "name": "stdout",
     "output_type": "stream",
     "text": [
      "Baseline: The positive is: 0.29684614984908686\n",
      "Baseline: The negative is: 0.7031538501509131\n",
      "\n",
      "\n",
      "Balanced: The positive is: 0.7031538501509131\n",
      "Balanced: The negative is: 0.7031538501509131\n"
     ]
    }
   ],
   "source": [
    "print(\"Baseline: The positive is: {}\".format(weights[0]))\n",
    "print(\"Baseline: The negative is: {}\".format(weights[1]))\n",
    "print(\"\\n\")\n",
    "print(\"Balanced: The positive is: {}\".format(weight*weights[0]))\n",
    "print(\"Balanced: The negative is: {}\".format(weights[1]))\n"
   ]
  },
  {
   "cell_type": "markdown",
   "metadata": {},
   "source": [
    "\n",
    "# Loss definition\n",
    "\n",
    "The current best loss is a combination of weighted binary cross entropy and per-image Lovasz-Softmax, with a loss schedule with the latter becoming more important each epoch"
   ]
  },
  {
   "cell_type": "code",
   "execution_count": 32,
   "metadata": {},
   "outputs": [],
   "source": [
    "from keras.losses import binary_crossentropy\n",
    "import math\n",
    "from scipy.ndimage import distance_transform_edt as distance\n",
    "\n",
    "def weighted_bce_loss(y_true, y_pred, weight, mask = None, smooth = 0.025):\n",
    "    epsilon = 1e-7\n",
    "    y_pred = K.clip(y_pred, epsilon, 1. - epsilon)\n",
    "    y_true = K.clip(y_true, smooth, 1. - smooth)\n",
    "    logit_y_pred = K.log(y_pred / (1. - y_pred))\n",
    "    loss = tf.nn.weighted_cross_entropy_with_logits(\n",
    "        y_true,\n",
    "        logit_y_pred,\n",
    "        weight,\n",
    "    )\n",
    "    return tf.reduce_mean(loss)\n",
    "\n",
    "def calc_dist_map(seg):\n",
    "    res = np.zeros_like(seg)\n",
    "    posmask = seg.astype(np.bool)\n",
    "    loss_importance = np.array([x for x in range(0, 197, 1)])\n",
    "    loss_importance = loss_importance / 196\n",
    "    loss_importance = np.expm1(loss_importance)\n",
    "    loss_importance[:30] = 0.\n",
    "\n",
    "    if posmask.any():\n",
    "        negmask = ~posmask\n",
    "        res = distance(negmask) * negmask - (distance(posmask) - 1) * posmask\n",
    "        sums = int(np.sum(seg))\n",
    "        # When % = 1, 0 -> 1.75\n",
    "        # When % = 100, 0 -> 0\n",
    "        res[np.where(res == 0)] = -1 * loss_importance[196 - sums]\n",
    "        # When % = 1, 1 -> 0\n",
    "        # When % = 100, 1 -> 1.75\n",
    "        res[np.where(res == 1)] = loss_importance[sums]\n",
    "        res[np.where(np.isclose(res, 1.41421356, rtol = 1e-2))] = loss_importance[sums]\n",
    "        #\n",
    "        #if np.sum(seg) >= 30:\n",
    "        #    sums = np.sum(seg)\n",
    "        #    sums = 196 if sums > 146 else sums\n",
    "        #    res[np.where(res == 1)] = (sums/196)\n",
    "        #    res[np.where(np.isclose(res, 1.41421356, rtol = 1e-2))] = (sums/196)\n",
    "        #else:\n",
    "        #    res[np.where(res == 1)] = 0.\n",
    "        #    res[np.where(np.isclose(res, 1.41421356, rtol = 1e-2))] = 0.125\n",
    "        \n",
    "    res[np.where(res < -2)] = -2\n",
    "    res[np.where(res > 3)] = 3\n",
    "    if np.sum(seg) == 196:\n",
    "        res = np.ones_like(seg)\n",
    "        res *= -1\n",
    "    if np.sum(seg) == 0:\n",
    "        res = np.ones_like(seg)\n",
    "    return res# / max_value\n",
    "\n",
    "def calc_mask_map(seg):\n",
    "    res = np.zeros_like(seg)\n",
    "    posmask = seg.astype(np.bool)\n",
    "\n",
    "    if posmask.any():\n",
    "        negmask = ~posmask\n",
    "        res = distance(negmask) * negmask - (distance(posmask) - 1) * posmask\n",
    "    if np.sum(seg) == 196:\n",
    "        res = np.ones_like(seg)\n",
    "    if np.sum(seg) == 0:\n",
    "        res = np.ones_like(seg)\n",
    "    res[np.where(res == 0)] = 1.\n",
    "    res[np.where(res == 1)] = 0.25\n",
    "    res[np.where(res < 0)] = 1.\n",
    "    res[np.where(res > 1)] = 1.\n",
    "    return res# / max_value\n",
    "\n",
    "def calc_dist_map_batch(y_true):\n",
    "    y_true_numpy = y_true.numpy()\n",
    "    return np.array([calc_dist_map(y)\n",
    "                     for y in y_true_numpy]).astype(np.float32)\n",
    "\n",
    "def surface_loss(y_true, y_pred):\n",
    "    y_true_dist_map = tf.py_function(func=calc_dist_map_batch,\n",
    "                                     inp=[y_true],\n",
    "                                     Tout=tf.float32)\n",
    "    multipled = y_pred * y_true_dist_map\n",
    "    loss = K.mean(multipled)\n",
    "    #loss = (loss - -2.9052) / (2.9052 - -2.9052) # max and min possible value for the loss fn\n",
    "    return loss\n",
    "\n",
    "def bce_loss(y_true, y_pred, smooth = 0.05, mask = None):\n",
    "    bce = weighted_bce_loss(y_true, y_pred, 1.4, smooth)\n",
    "    return bce\n",
    "\n",
    "def finetune_loss(y_true, y_pred):\n",
    "    lv = lovasz_softmax(y_pred, tf.reshape(y_true, (-1, 14, 14)), classes=[1], per_image=True)\n",
    "    return lv\n",
    "\n",
    "def surf_lovasz(y_true, y_pred, alpha):\n",
    "    lv = lovasz_softmax(y_pred, tf.reshape(y_true, (-1, 14, 14)), classes=[1], per_image=True)\n",
    "    surf = surface_loss(y_true, y_pred)\n",
    "    return ( (1-alpha)*lv + (alpha * surf) )\n",
    "    \n",
    "def bce_surf(y_true, y_pred, alpha, smooth = 0.075, weight = weight, mask = None, ):\n",
    "    bce =  weighted_bce_loss(y_true, y_pred, weight, smooth = smooth)\n",
    "    surf = surface_loss(y_true, y_pred)\n",
    "    return ( (1-alpha)*bce + (alpha * surf) )#global_loss #+ regional_loss\n",
    "\n",
    "def bce_lv(y_true, y_pred, alpha, smooth = 0.075, weight = weight, mask = None, ):\n",
    "    bce =  weighted_bce_loss(y_true, y_pred, weight, smooth = smooth)\n",
    "    lv = lovasz_softmax(y_pred, tf.reshape(y_true, (-1, 14, 14)), classes=[1], per_image=True)\n",
    "    return ( (1-alpha)*bce + (alpha * lv) )#global_loss #+ regional_loss\n",
    "\n",
    "countries = {'africaeast-test': [0, 34],\n",
    " 'africawest-test': [35, 96],\n",
    " 'cameroon-test': [97, 135],\n",
    " 'ethiopia-test': [136, 248],\n",
    " 'ghana-test': [249, 282],\n",
    " 'ghana-test-large': [283, 318],\n",
    " 'global-test': [319, 460],\n",
    " 'india-test': [461, 511],\n",
    " 'kenya-test': [512, 600],\n",
    " 'lac-north-test': [601, 641],\n",
    " 'lac-south-test': [642, 683], 'all': [0, 683]}\n",
    "\n",
    "#! Move to a src.py\n",
    "def dice_loss(y_true, y_pred):\n",
    "    numerator = 2 * np.sum(y_true * y_pred, axis=-1)\n",
    "    denominator = np.sum(y_true + y_pred, axis=-1)\n",
    "    return (numerator + 1) / (denominator + 1)\n",
    "\n",
    "def calc_mean_surface_distance(true, pred):\n",
    "    if np.sum(true) + np.sum(pred) == 0:\n",
    "        return 0\n",
    "    if np.sum(true) > 0:\n",
    "        if np.sum(pred) > 0:\n",
    "            return assd(pred, true) / 14\n",
    "        else:\n",
    "            return 1\n",
    "    if np.sum(true) == 0:\n",
    "        if np.sum(pred) > 0:\n",
    "            return 1\n",
    "\n",
    "def calculate_metrics(country, al = 0.4):\n",
    "    start_idx = countries[country][0]\n",
    "    stop_idx = countries[country][1]\n",
    "    best_f1 = 0\n",
    "    best_dice = 0\n",
    "    best_thresh = 0\n",
    "    hausdorff = 0\n",
    "    p = 0\n",
    "    r = 0\n",
    "    error = 0\n",
    "    d = 0\n",
    "    ys = []\n",
    "    vls = []\n",
    "    t_alls = []\n",
    "    test_ids = [x for x in range(len(test_x))]\n",
    "    for test_sample in test_ids[start_idx:stop_idx]:\n",
    "        y, vl = sess.run([fm, test_loss], feed_dict={inp: test_x[test_sample].reshape(1, 24, 16, 16, n_bands),\n",
    "                                          length: test_lengths[test_sample].reshape(1, 1),\n",
    "                                          is_training: False,\n",
    "                                          labels: test_y[test_sample, :, :].reshape(1, 14, 14),\n",
    "                                          alpha: al,\n",
    "                                          })\n",
    "        ys.append(y.reshape((14, 14)))\n",
    "        vls.append(vl)\n",
    "        t = test_y[test_sample].reshape((14, 14))\n",
    "        t_alls.append(t)\n",
    "    to_remove = np.argwhere(vls > np.percentile(vls, 97.5))\n",
    "    if len(to_remove) >= 0:\n",
    "        ys = list(np.delete(np.array(ys), to_remove, 0))\n",
    "        t_alls = list(np.delete(np.array(t_alls), to_remove, 0))\n",
    "    for thresh in range(7, 13):\n",
    "        all_preds = []\n",
    "        all_trues = []\n",
    "        tps, fps, fns = [], [], []\n",
    "        abs_error = []\n",
    "        haus = []\n",
    "        trues = []\n",
    "        preds = []\n",
    "        dice_losses = []\n",
    "        val_loss = []\n",
    "        for sample in range(len(ys)):\n",
    "            pred = np.copy(ys[sample])\n",
    "            true = t_alls[sample]\n",
    "            vl = vls[sample]\n",
    "            haus.append(calc_mean_surface_distance(true, pred))\n",
    "            #haus.append(scipy.spatial.distance.directed_hausdorff(pred, true)[0])\n",
    "            pred[np.where(pred > thresh*0.05)] = 1\n",
    "            pred[np.where(pred < thresh*0.05)] = 0\n",
    "            true_s = np.sum(true[1:-1])\n",
    "            pred_s = np.sum(pred[1:-1])\n",
    "            abs_error.append(abs(pred_s - true_s))\n",
    "            p_error = np.around(((abs(pred_s - true_s))/196), 3)\n",
    "            tp, fp, fn = thirty_meter(true, pred)\n",
    "            tps.append(tp)\n",
    "            fps.append(fp)\n",
    "            fns.append(fn)\n",
    "            trues.append(true_s)\n",
    "            preds.append(pred_s)\n",
    "            all_trues.append(true.flatten())\n",
    "            all_preds.append(pred.flatten())\n",
    "            if np.sum(true + pred) > 0:\n",
    "                dice_losses.append(dice_loss(np.array(true).flatten(), np.array(pred).flatten()))\n",
    "            if np.sum(true + pred) == 0:\n",
    "                dice_losses.append(1.)\n",
    "            val_loss.append(np.mean(vl))\n",
    "        oa_error = np.mean(abs_error)\n",
    "        precision = np.sum(tps) / (np.sum(tps) + np.sum(fps))\n",
    "        recall = np.sum(tps) / (np.sum(tps) + np.sum(fns))\n",
    "        f1 = 2*((precision* recall) / (precision + recall))\n",
    "        haus = np.mean(haus)\n",
    "        dices = np.mean(dice_losses)\n",
    "        if f1 > best_f1:\n",
    "            best_dice = dices\n",
    "            best_f1 = f1\n",
    "            p = precision\n",
    "            r = recall\n",
    "            error = oa_error\n",
    "            to_save_trues = all_trues\n",
    "            to_save_preds = all_preds\n",
    "            best_thresh = thresh*0.05\n",
    "    print(\"{}: Val loss: {} Thresh: {} F1: {} R: {} P: {} D: {} H: {} Error: {}\".format(country, np.around(np.mean(val_loss), 3), np.around(best_thresh, 2),\n",
    "                                                                                     np.around(best_f1, 3), np.around(p, 3), np.around(r, 3), \n",
    "                                                                                     np.around(best_dice, 3), np.around(haus, 3),\n",
    "                                                                                     np.around(error, 3)))\n",
    "    return np.mean(val_loss), best_dice, error"
   ]
  },
  {
   "cell_type": "code",
   "execution_count": 33,
   "metadata": {},
   "outputs": [
    {
     "data": {
      "text/plain": [
       "<matplotlib.axes._subplots.AxesSubplot at 0x1a9f22fa58>"
      ]
     },
     "execution_count": 33,
     "metadata": {},
     "output_type": "execute_result"
    },
    {
     "data": {
      "image/png": "[encoded data removed]",
      "text/plain": [
       "<Figure size 432x288 with 1 Axes>"
      ]
     },
     "metadata": {
      "needs_background": "light"
     },
     "output_type": "display_data"
    }
   ],
   "source": [
    "loss_importance = np.array([x for x in range(0, 196, 1)])\n",
    "loss_importance = loss_importance / 196\n",
    "loss_importance = np.expm1(loss_importance)\n",
    "loss_importance[:30] = 0.\n",
    "sns.scatterplot(y = loss_importance, x = [x for x in range(0, 196)])"
   ]
  },
  {
   "cell_type": "code",
   "execution_count": 34,
   "metadata": {
    "scrolled": false
   },
   "outputs": [
    {
     "data": {
      "text/plain": [
       "<matplotlib.axes._subplots.AxesSubplot at 0x1a9f34eb38>"
      ]
     },
     "execution_count": 34,
     "metadata": {},
     "output_type": "execute_result"
    },
    {
     "data": {
      "image/png": "[encoded data removed]",
      "text/plain": [
       "<Figure size 432x288 with 2 Axes>"
      ]
     },
     "metadata": {
      "needs_background": "light"
     },
     "output_type": "display_data"
    }
   ],
   "source": [
    "sns.heatmap(calc_dist_map(test_y[85])) # 25, 65, \n",
    "\n",
    "#np.mean(calc_dist_map(z))"
   ]
  },
  {
   "cell_type": "code",
   "execution_count": 35,
   "metadata": {},
   "outputs": [
    {
     "data": {
      "text/plain": [
       "<matplotlib.axes._subplots.AxesSubplot at 0x1a36ce7128>"
      ]
     },
     "execution_count": 35,
     "metadata": {},
     "output_type": "execute_result"
    },
    {
     "data": {
      "image/png": "[encoded data removed]",
      "text/plain": [
       "<Figure size 432x288 with 2 Axes>"
      ]
     },
     "metadata": {
      "needs_background": "light"
     },
     "output_type": "display_data"
    }
   ],
   "source": [
    "sns.heatmap(test_y[85])\n"
   ]
  },
  {
   "cell_type": "code",
   "execution_count": 36,
   "metadata": {},
   "outputs": [
    {
     "data": {
      "text/plain": [
       "<matplotlib.axes._subplots.AxesSubplot at 0x1a9cbb5198>"
      ]
     },
     "execution_count": 36,
     "metadata": {},
     "output_type": "execute_result"
    },
    {
     "data": {
      "image/png": "[encoded data removed]",
      "text/plain": [
       "<Figure size 432x288 with 2 Axes>"
      ]
     },
     "metadata": {
      "needs_background": "light"
     },
     "output_type": "display_data"
    }
   ],
   "source": [
    "sns.heatmap(calc_mask_map(train_y[222]))"
   ]
  },
  {
   "cell_type": "code",
   "execution_count": 37,
   "metadata": {},
   "outputs": [
    {
     "data": {
      "image/png": "[encoded data removed]",
      "text/plain": [
       "<Figure size 1440x288 with 8 Axes>"
      ]
     },
     "metadata": {
      "needs_background": "light"
     },
     "output_type": "display_data"
    }
   ],
   "source": [
    "multiplot([x.reshape((14, 14)) for x in train_y[batch[4:8]]])\n",
    "\n",
    "\n"
   ]
  },
  {
   "cell_type": "code",
   "execution_count": 38,
   "metadata": {},
   "outputs": [
    {
     "data": {
      "image/png": "[encoded data removed]",
      "text/plain": [
       "<Figure size 1440x288 with 8 Axes>"
      ]
     },
     "metadata": {
      "needs_background": "light"
     },
     "output_type": "display_data"
    }
   ],
   "source": [
    "multiplot([x.reshape((14, 14)) for x in train_y[batch[8:12]]])"
   ]
  },
  {
   "cell_type": "code",
   "execution_count": 39,
   "metadata": {},
   "outputs": [
    {
     "data": {
      "image/png": "[encoded data removed]",
      "text/plain": [
       "<Figure size 1440x288 with 8 Axes>"
      ]
     },
     "metadata": {
      "needs_background": "light"
     },
     "output_type": "display_data"
    }
   ],
   "source": [
    "multiplot([x.reshape((14, 14)) for x in train_y[batch[0:4]]])"
   ]
  },
  {
   "cell_type": "markdown",
   "metadata": {},
   "source": [
    "# Graph set up"
   ]
  },
  {
   "cell_type": "code",
   "execution_count": 40,
   "metadata": {},
   "outputs": [],
   "source": [
    "def augment_batch(batch_ids, batch_size):\n",
    "    x = train_x[batch_ids, :, :, :]\n",
    "    y = train_y[batch_ids, :, :]\n",
    "    x_batch = np.zeros_like(x)\n",
    "    y_batch = np.zeros_like(y)\n",
    "    flips = np.random.choice(np.array([0, 1, 2, 3]), batch_size, replace = True)\n",
    "    for i in range(x.shape[0]):\n",
    "        current_flip = flips[i]\n",
    "        if current_flip == 0:\n",
    "            x_batch[i, :, :, :] = x[i]\n",
    "            y_batch[i, :, :] = y[i]\n",
    "        if current_flip == 1:\n",
    "            x_batch[i, :, :, :] = np.flip(x[i], 1)\n",
    "            y_batch[i, :, :] = np.flip(y[i], 0)\n",
    "        if current_flip == 2:\n",
    "            x_batch[i, :, :, :] = np.flip(x[i], [2, 1])\n",
    "            y_batch[i, :, :] = np.flip(y[i], [1, 0])\n",
    "        if current_flip == 3:\n",
    "            x_batch[i, :, :, :] = np.flip(x[i], 2)\n",
    "            y_batch[i, :, :] = np.flip(y[i], 1)\n",
    "\n",
    "    y_batch = y_batch.reshape((batch_size, 14, 14))\n",
    "    return x_batch, y_batch\n",
    "\n",
    "x_batch_test, y_batch_test = augment_batch([0, 1], 2)\n"
   ]
  },
  {
   "cell_type": "code",
   "execution_count": 41,
   "metadata": {
    "scrolled": true
   },
   "outputs": [
    {
     "name": "stdout",
     "output_type": "stream",
     "text": [
      "The model does not overfit after 100 epochs from 5e-4 to 1e-1\n",
      "We still need to figure out whether or not to use lovasz for finetune\n",
      "Starting model with: \n",
      " 0.2 zone out \n",
      " 0.0 l2 \n",
      " 0.0002 initial LR \n",
      " 0.001 final LR \n",
      " 221947 parameters\n",
      "Restarting training from scratch on 4326 train and 681 test samples, total 1081.5\n",
      "()\n",
      "The graph has been finalized\n"
     ]
    }
   ],
   "source": [
    "FRESH_START = True\n",
    "best_val = 0.2\n",
    "\n",
    "START_EPOCH = 1\n",
    "END_EPOCH = 150\n",
    "LEARNING_RATE = 3e-3\n",
    "test_ids = [x for x in range(0, len(test_x))]\n",
    "\n",
    "print(\"The model does not overfit after 100 epochs from 5e-4 to 1e-1\")\n",
    "print(\"We still need to figure out whether or not to use lovasz for finetune\")\n",
    "print(\"Starting model with: \\n {} zone out \\n {} l2 \\n {} initial LR \\n {} final LR \\n {} parameters\"\n",
    "     .format(ZONE_OUT_PROB, L2_REG, INITIAL_LR, FINAL_LR, total_parameters))\n",
    "\n",
    "if not FRESH_START:\n",
    "    print(\"Resuming training with a best validation score of {}\".format(best_val))\n",
    "    \n",
    "if FRESH_START:\n",
    "    print(\"Restarting training from scratch on {} \"\n",
    "          \"train and {} test samples, total {}\".format(len(train_ids), len(test_ids), len(train_ids)/4))\n",
    "\n",
    "    # current best 1e-4 5e-3\n",
    "    optimizer = AdaBoundOptimizer(1e-4, 2e-2)\n",
    "    train_loss = bce_surf(tf.reshape(labels, (-1, 14, 14, 1)), fm, alpha = alpha)\n",
    "    #l2_loss = tf.losses.get_regularization_l05oss()\n",
    "    #train_loss += l2_loss\n",
    "\n",
    "    ft_optimizer = tf.train.GradientDescentOptimizer(ft_lr)\n",
    "    ft_loss = finetune_loss(tf.reshape(labels, (-1, 14, 14, 1)), fm)\n",
    "    \n",
    "    test_loss = bce_surf(tf.reshape(labels, (-1, 14, 14, 1)), fm, alpha = alpha)\n",
    "    update_ops = tf.get_collection(tf.GraphKeys.UPDATE_OPS)\n",
    "    \n",
    "    with tf.control_dependencies(update_ops):\n",
    "        train_op = optimizer.minimize(train_loss)   \n",
    "        ft_op = ft_optimizer.minimize(train_loss)\n",
    "        \n",
    "    init_op = tf.global_variables_initializer()\n",
    "    sess.run(init_op)\n",
    "    saver = tf.train.Saver(max_to_keep = 75)\n",
    "    \n",
    "print(\"The graph has been finalized\")"
   ]
  },
  {
   "cell_type": "code",
   "execution_count": 278,
   "metadata": {},
   "outputs": [
    {
     "name": "stdout",
     "output_type": "stream",
     "text": [
      "INFO:tensorflow:Restoring parameters from ../models/march-31-2e2/75-67-2/model\n"
     ]
    }
   ],
   "source": [
    "# This cell should be run to do fine-tuning, if commented - train from scratch\n",
    "path = \"../models/march-31-2e2/75-67-2/\"\n",
    "new_saver = tf.train.import_meta_graph(path + 'model.meta')\n",
    "new_saver.restore(sess, tf.train.latest_checkpoint(path))"
   ]
  },
  {
   "cell_type": "code",
   "execution_count": 43,
   "metadata": {},
   "outputs": [],
   "source": [
    "train_losses = []\n",
    "test_losses = []\n",
    "dices = []\n",
    "errors = []"
   ]
  },
  {
   "cell_type": "code",
   "execution_count": 277,
   "metadata": {},
   "outputs": [
    {
     "data": {
      "text/plain": [
       "<matplotlib.axes._subplots.AxesSubplot at 0x1add6bcac8>"
      ]
     },
     "execution_count": 277,
     "metadata": {},
     "output_type": "execute_result"
    },
    {
     "data": {
      "image/png": "[encoded data removed]",
      "text/plain": [
       "<Figure size 432x288 with 1 Axes>"
      ]
     },
     "metadata": {
      "needs_background": "light"
     },
     "output_type": "display_data"
    }
   ],
   "source": [
    "sns.scatterplot(y = np.array(test_losses[84:]),\n",
    "                x = np.array([x for x in range(len(test_losses[84:]))]))"
   ]
  },
  {
   "cell_type": "code",
   "execution_count": 274,
   "metadata": {},
   "outputs": [
    {
     "data": {
      "text/plain": [
       "<matplotlib.axes._subplots.AxesSubplot at 0x1addcd2630>"
      ]
     },
     "execution_count": 274,
     "metadata": {},
     "output_type": "execute_result"
    },
    {
     "data": {
      "image/png": "[encoded data removed]",
      "text/plain": [
       "<Figure size 432x288 with 1 Axes>"
      ]
     },
     "metadata": {
      "needs_background": "light"
     },
     "output_type": "display_data"
    }
   ],
   "source": [
    "sns.scatterplot(y = np.array(dices[60:]),\n",
    "                x = np.array([x for x in range(len(dices[60:]))]))"
   ]
  },
  {
   "cell_type": "code",
   "execution_count": 273,
   "metadata": {},
   "outputs": [
    {
     "data": {
      "text/plain": [
       "<matplotlib.axes._subplots.AxesSubplot at 0x1adc5a1ef0>"
      ]
     },
     "execution_count": 273,
     "metadata": {},
     "output_type": "execute_result"
    },
    {
     "data": {
      "image/png": "[encoded data removed]",
      "text/plain": [
       "<Figure size 432x288 with 1 Axes>"
      ]
     },
     "metadata": {
      "needs_background": "light"
     },
     "output_type": "display_data"
    }
   ],
   "source": [
    "sns.scatterplot(y = np.array(train_losses[80:]),\n",
    "                x = np.array([x for x in range(len(train_losses[80:]))]))\n"
   ]
  },
  {
   "cell_type": "code",
   "execution_count": 272,
   "metadata": {},
   "outputs": [
    {
     "data": {
      "text/plain": [
       "<matplotlib.axes._subplots.AxesSubplot at 0x1addaaf828>"
      ]
     },
     "execution_count": 272,
     "metadata": {},
     "output_type": "execute_result"
    },
    {
     "data": {
      "image/png": "[encoded data removed]",
      "text/plain": [
       "<Figure size 432x288 with 1 Axes>"
      ]
     },
     "metadata": {
      "needs_background": "light"
     },
     "output_type": "display_data"
    }
   ],
   "source": [
    "sns.scatterplot(y = np.array(errors[80:]),\n",
    "                x = np.array([x for x in range(len(errors[80:]))]))\n",
    "\n"
   ]
  },
  {
   "cell_type": "code",
   "execution_count": 66,
   "metadata": {},
   "outputs": [
    {
     "data": {
      "text/plain": [
       "62"
      ]
     },
     "execution_count": 66,
     "metadata": {},
     "output_type": "execute_result"
    }
   ],
   "source": [
    "np.argmin(errors)"
   ]
  },
  {
   "cell_type": "code",
   "execution_count": 48,
   "metadata": {},
   "outputs": [
    {
     "name": "stdout",
     "output_type": "stream",
     "text": [
      "[979, 323, 301, 340, 382, 356, 341, 295, 786]\n"
     ]
    },
    {
     "data": {
      "application/vnd.jupyter.widget-view+json": {
       "model_id": "f608625fbe6744468d2c64e79503e723",
       "version_major": 2,
       "version_minor": 0
      },
      "text/plain": [
       "HBox(children=(IntProgress(value=0, max=216), HTML(value='')))"
      ]
     },
     "metadata": {},
     "output_type": "display_data"
    },
    {
     "name": "stdout",
     "output_type": "stream",
     "text": [
      "\n"
     ]
    },
    {
     "data": {
      "application/vnd.jupyter.widget-view+json": {
       "model_id": "21808665961c45a1a40d551c028671e3",
       "version_major": 2,
       "version_minor": 0
      },
      "text/plain": [
       "HBox(children=(IntProgress(value=0, max=216), HTML(value='')))"
      ]
     },
     "metadata": {},
     "output_type": "display_data"
    },
    {
     "name": "stdout",
     "output_type": "stream",
     "text": [
      "\n",
      "No equibatch SD: 516.447386242146\n",
      "Equibatch SD: 104.01624653820069\n"
     ]
    }
   ],
   "source": [
    "# Make sure that the equibatch is working with the augmentation\n",
    "randomize = equibatch(train_ids)\n",
    "sum_no_equibatch = []\n",
    "sum_equibatch = []\n",
    "for k in tnrange(int(len(randomize) // 20)):\n",
    "    rand = [x for x in range(len(randomize))]\n",
    "    batch_ids = rand[k*BATCH_SIZE:(k+1)*BATCH_SIZE]\n",
    "    _, y_batch = augment_batch(batch_ids, BATCH_SIZE)\n",
    "    sum_no_equibatch.append(np.sum(y_batch))\n",
    "    \n",
    "for k in tnrange(int(len(randomize) // 20)):\n",
    "    batch_ids = randomize[k*BATCH_SIZE:(k+1)*BATCH_SIZE]\n",
    "    _, y_batch = augment_batch(batch_ids, BATCH_SIZE)\n",
    "    sum_equibatch.append(np.sum(y_batch))\n",
    "    \n",
    "print(\"No equibatch SD: {}\".format(np.std(np.array(sum_no_equibatch))))\n",
    "print(\"Equibatch SD: {}\".format(np.std(np.array(sum_equibatch))))"
   ]
  },
  {
   "cell_type": "code",
   "execution_count": null,
   "metadata": {
    "scrolled": true
   },
   "outputs": [
    {
     "name": "stdout",
     "output_type": "stream",
     "text": [
      "FINE TUNING WITH 0.01 LR\n",
      "[979, 323, 301, 340, 382, 356, 341, 295, 786]\n",
      "starting epoch 77, alpha: 0.75, drop: 0.75\n"
     ]
    },
    {
     "data": {
      "application/vnd.jupyter.widget-view+json": {
       "model_id": "6b53479bbedd456e8f460d60d0b5ff3a",
       "version_major": 2,
       "version_minor": 0
      },
      "text/plain": [
       "HBox(children=(IntProgress(value=0, max=144), HTML(value='')))"
      ]
     },
     "metadata": {},
     "output_type": "display_data"
    },
    {
     "name": "stdout",
     "output_type": "stream",
     "text": [
      "\n",
      "Epoch 77: Loss 0.18000000715255737\n",
      "all: Val loss: 0.05999999865889549 Thresh: 0.45 F1: 0.842 R: 0.839 P: 0.844 D: 0.674 H: 0.291 Error: 11.096\n",
      "Saving model with 0.6741843148535305\n",
      "FINE TUNING WITH 0.01 LR\n",
      "[979, 323, 301, 340, 382, 356, 341, 295, 786]\n",
      "starting epoch 78, alpha: 0.75, drop: 0.75\n"
     ]
    },
    {
     "data": {
      "application/vnd.jupyter.widget-view+json": {
       "model_id": "fac40eff55ef4b75a60b4af12bd9f380",
       "version_major": 2,
       "version_minor": 0
      },
      "text/plain": [
       "HBox(children=(IntProgress(value=0, max=144), HTML(value='')))"
      ]
     },
     "metadata": {},
     "output_type": "display_data"
    },
    {
     "name": "stdout",
     "output_type": "stream",
     "text": [
      "\n",
      "Epoch 78: Loss 0.17399999499320984\n",
      "all: Val loss: 0.054999999701976776 Thresh: 0.55 F1: 0.839 R: 0.839 P: 0.838 D: 0.676 H: 0.29 Error: 12.003\n",
      "Saving model with 0.6757744623392921\n",
      "FINE TUNING WITH 0.01 LR\n",
      "[979, 323, 301, 340, 382, 356, 341, 295, 786]\n",
      "starting epoch 79, alpha: 0.75, drop: 0.75\n"
     ]
    },
    {
     "data": {
      "application/vnd.jupyter.widget-view+json": {
       "model_id": "92454c8ca6ef4ab9b0a34a286e929ca1",
       "version_major": 2,
       "version_minor": 0
      },
      "text/plain": [
       "HBox(children=(IntProgress(value=0, max=144), HTML(value='')))"
      ]
     },
     "metadata": {},
     "output_type": "display_data"
    },
    {
     "name": "stdout",
     "output_type": "stream",
     "text": [
      "\n",
      "Epoch 79: Loss 0.17599999904632568\n",
      "all: Val loss: 0.057999998331069946 Thresh: 0.55 F1: 0.838 R: 0.839 P: 0.838 D: 0.677 H: 0.29 Error: 11.838\n",
      "Saving model with 0.6766661110151605\n",
      "FINE TUNING WITH 0.01 LR\n",
      "[979, 323, 301, 340, 382, 356, 341, 295, 786]\n",
      "starting epoch 80, alpha: 0.75, drop: 0.75\n"
     ]
    },
    {
     "data": {
      "application/vnd.jupyter.widget-view+json": {
       "model_id": "43562464b82d4c4ea75b7bba37ee7fe9",
       "version_major": 2,
       "version_minor": 0
      },
      "text/plain": [
       "HBox(children=(IntProgress(value=0, max=144), HTML(value='')))"
      ]
     },
     "metadata": {},
     "output_type": "display_data"
    },
    {
     "name": "stdout",
     "output_type": "stream",
     "text": [
      "\n",
      "Epoch 80: Loss 0.17399999499320984\n",
      "all: Val loss: 0.0729999989271164 Thresh: 0.4 F1: 0.83 R: 0.822 P: 0.837 D: 0.672 H: 0.291 Error: 12.123\n",
      "Saving model with 0.6718133391721715\n",
      "FINE TUNING WITH 0.01 LR\n",
      "[979, 323, 301, 340, 382, 356, 341, 295, 786]\n",
      "starting epoch 81, alpha: 0.75, drop: 0.75\n"
     ]
    },
    {
     "data": {
      "application/vnd.jupyter.widget-view+json": {
       "model_id": "e9360004922344d781a89645da2f2755",
       "version_major": 2,
       "version_minor": 0
      },
      "text/plain": [
       "HBox(children=(IntProgress(value=0, max=144), HTML(value='')))"
      ]
     },
     "metadata": {},
     "output_type": "display_data"
    },
    {
     "name": "stdout",
     "output_type": "stream",
     "text": [
      "\n",
      "Epoch 81: Loss 0.17800000309944153\n",
      "all: Val loss: 0.0689999982714653 Thresh: 0.35 F1: 0.835 R: 0.821 P: 0.85 D: 0.674 H: 0.292 Error: 11.841\n",
      "Saving model with 0.6737749048633321\n",
      "FINE TUNING WITH 0.01 LR\n",
      "[979, 323, 301, 340, 382, 356, 341, 295, 786]\n",
      "starting epoch 82, alpha: 0.75, drop: 0.75\n"
     ]
    },
    {
     "data": {
      "application/vnd.jupyter.widget-view+json": {
       "model_id": "0017d5813f0e4589b73fb337e0b1f46d",
       "version_major": 2,
       "version_minor": 0
      },
      "text/plain": [
       "HBox(children=(IntProgress(value=0, max=144), HTML(value='')))"
      ]
     },
     "metadata": {},
     "output_type": "display_data"
    },
    {
     "name": "stdout",
     "output_type": "stream",
     "text": [
      "\n",
      "Epoch 82: Loss 0.17399999499320984\n",
      "all: Val loss: 0.061000000685453415 Thresh: 0.5 F1: 0.837 R: 0.837 P: 0.837 D: 0.673 H: 0.29 Error: 11.762\n",
      "Saving model with 0.6732029046265116\n",
      "FINE TUNING WITH 0.01 LR\n",
      "[979, 323, 301, 340, 382, 356, 341, 295, 786]\n",
      "starting epoch 83, alpha: 0.75, drop: 0.75\n"
     ]
    },
    {
     "data": {
      "application/vnd.jupyter.widget-view+json": {
       "model_id": "2ae0e9a022be4e379b973b7eca7de6a4",
       "version_major": 2,
       "version_minor": 0
      },
      "text/plain": [
       "HBox(children=(IntProgress(value=0, max=144), HTML(value='')))"
      ]
     },
     "metadata": {},
     "output_type": "display_data"
    }
   ],
   "source": [
    "# from time import sleep\n",
    "import scipy\n",
    "best_val = 0.5\n",
    "fine_tune = True\n",
    "countries['all'] = [0, len(test_x)]\n",
    "ft_epochs = 0\n",
    "ft_learning_rate = 1e-2\n",
    "\n",
    "train_ids = [x for x in range(len(train_y))]\n",
    "for i in range(77, 77+50):\n",
    "    al = np.min( [(0.01 + (0.01 * i)), 0.75] )\n",
    "    #al = 0.7\n",
    "    if al < 0.75:\n",
    "        test_al = 0.25\n",
    "    else:\n",
    "        test_al = al\n",
    "    if fine_tune == True:\n",
    "        op = ft_op\n",
    "        ft_epochs += 1\n",
    "        if ft_epochs % 10 == 0:\n",
    "            ft_learning_rate /= 2\n",
    "        print(\"FINE TUNING WITH {} LR\".format(ft_learning_rate))\n",
    "        \n",
    "    else:\n",
    "        op = op = train_op\n",
    "    randomize = equibatch(train_ids)\n",
    "    print(\"starting epoch {}, alpha: {}, drop: {}\".format(i, al, np.max((1. - (i*0.005), 0.75))))\n",
    "    \n",
    "    loss = train_loss\n",
    "    BATCH_SIZE = 30\n",
    "    test_ids = [x for x in range(0, len(test_x))]\n",
    "    losses = []\n",
    "    \n",
    "    for k in tnrange(int(len(randomize) // BATCH_SIZE)):\n",
    "        if k % 20 == 0:\n",
    "            sleep(2)\n",
    "        batch_ids = randomize[k*BATCH_SIZE:(k+1)*BATCH_SIZE]\n",
    "        x_batch, y_batch = augment_batch(batch_ids, BATCH_SIZE)\n",
    "        opt, tr = sess.run([op, loss],\n",
    "                          feed_dict={inp: x_batch,\n",
    "                                     length: train_l[batch_ids].reshape((-1, 1)),\n",
    "                                     labels: y_batch,\n",
    "                                     is_training: True,\n",
    "                                     #keep_rate: 0.75,\n",
    "                                     keep_rate: np.max((1. - (i*0.005), 0.7)),\n",
    "                                     alpha: al,\n",
    "                                     ft_lr: ft_learning_rate,\n",
    "                                     })\n",
    "        losses.append(tr)\n",
    "    \n",
    "    print(\"Epoch {}: Loss {}\".format(i, np.around(np.mean(losses[:-1]), 3)))\n",
    "    #_, _, _, _ = calculate_metrics(\"global-test\", al = al)\n",
    "    val_loss, dice, error = calculate_metrics('all', al = test_al)\n",
    "    train_losses.append(np.mean(losses[:-1]))\n",
    "    test_losses.append(val_loss)\n",
    "    dices.append(dice)\n",
    "    errors.append(error)\n",
    "    if dice > (best_val - 0.005):\n",
    "        print(\"Saving model with {}\".format(dice))\n",
    "        os.mkdir(\"../models/april-1-finetune/alpha-75/{}-{}-{}/\".format(str(i), str(dice*100)[:2], str(dice*100)[3]))\n",
    "        save_path = saver.save(sess, \"../models/april-1-finetune/alpha-75/{}-{}-{}/model\".format(str(i), str(dice*100)[:2], str(dice*100)[3]))\n",
    "        if dice > best_val:\n",
    "            best_val = dice"
   ]
  },
  {
   "cell_type": "code",
   "execution_count": 277,
   "metadata": {},
   "outputs": [],
   "source": [
    "i = 76\n",
    "dice = 0.666\n",
    "os.mkdir(\"../models/march-31/{}-{}-{}/\".format(str(i), str(dice*100)[:2], str(dice*100)[3]))\n",
    "save_path = saver.save(sess, \"../models/march-31/{}-{}-{}/model\"\n",
    "                       .format(str(i), str(dice*100)[:2], str(dice*100)[3]))"
   ]
  },
  {
   "cell_type": "code",
   "execution_count": null,
   "metadata": {
    "scrolled": true
   },
   "outputs": [],
   "source": [
    "# This is for documentation purposes, leave for now\n",
    "import scipy\n",
    "al = 0.6\n",
    "calculate_metrics('ethiopia', al = al) #0.81 -> 0.818, 0.695 -> 0.711\n",
    "calculate_metrics('ghana', al = al)\n",
    "calculate_metrics('kenya', al = al) # 0.798, 0.724 -> 0.806, 0.739\n",
    "calculate_metrics('lac', al = al) # 0.85, 0.768 -> 0.855, 0.782\n",
    "calculate_metrics('india', al = al) # 0.76 -> 0.766\n",
    "calculate_metrics('africaeast', al = al)\n",
    "calculate_metrics('africawest', al = al)\n",
    "calculate_metrics('cameroon', al = al)\n",
    "val_loss, dice = calculate_metrics('all', al = al) # 0.804, 0.639 -> 0.808, 0.645"
   ]
  },
  {
   "cell_type": "markdown",
   "metadata": {},
   "source": [
    "# Model validation and sanity checks\n",
    "\n",
    "\n",
    "\n"
   ]
  },
  {
   "cell_type": "code",
   "execution_count": 241,
   "metadata": {},
   "outputs": [
    {
     "name": "stdout",
     "output_type": "stream",
     "text": [
      "all: Val loss: 0.4449999928474426 Thresh: 0.55 F1: 0.838 R: 0.844 P: 0.832 D: 0.668 H: 0.295 Error: 11.064\n"
     ]
    }
   ],
   "source": [
    "# original\n",
    "countries['all'] = [0, len(test_x)]\n",
    "_, _, error = calculate_metrics('all')"
   ]
  },
  {
   "cell_type": "code",
   "execution_count": 286,
   "metadata": {},
   "outputs": [
    {
     "name": "stdout",
     "output_type": "stream",
     "text": [
      "all: Val loss: 0.3970000147819519 Thresh: 0.6 F1: 0.842 R: 0.828 P: 0.857 D: 0.677 H: 0.293 Error: 11.484\n"
     ]
    }
   ],
   "source": [
    "# after fixing ethiopia and kenya and ghana\n",
    "countries['all'] = [0, len(test_x)]\n",
    "_, _, error = calculate_metrics('all')"
   ]
  },
  {
   "cell_type": "code",
   "execution_count": 279,
   "metadata": {},
   "outputs": [],
   "source": [
    "start = 50\n",
    "\n",
    "test_ids = [x for x in range(0, len(test_x))]\n",
    "\n",
    "def multiplot(matrices, nrows = 2, ncols = 4):\n",
    "    ''\n",
    "    'Plot multipleheatmaps with subplots'''\n",
    "    fig, axs = plt.subplots(ncols=4, nrows = nrows)\n",
    "    fig.set_size_inches(20, 4*nrows)\n",
    "    to_iter = [[x for x in range(i, i + ncols + 1)] for i in range(0, nrows*ncols, ncols)]\n",
    "    for r in range(1, nrows + 1):\n",
    "        min_i = min(to_iter[r-1])\n",
    "        max_i = max(to_iter[r-1])\n",
    "        for i, matrix in enumerate(matrices[min_i:max_i]):\n",
    "            sns.heatmap(data = matrix, ax = axs[r - 1, i], vmin = 0, vmax = 0.9)\n",
    "            axs[r - 1, i].set_xlabel(\"\")\n",
    "            axs[r - 1, i].set_ylabel(\"\")\n",
    "            axs[r - 1, i].set_yticks([])\n",
    "            axs[r - 1, i].set_xticks([])\n",
    "    plt.show\n",
    "\n"
   ]
  },
  {
   "cell_type": "code",
   "execution_count": 280,
   "metadata": {},
   "outputs": [],
   "source": [
    "def identify_alignment(true, pred, wsize = 3, difference = 0.2):\n",
    "    n_single_trees = 0\n",
    "    for x in range(1, true.shape[0] - 1, 1):\n",
    "        for y in range(1, true.shape[1] - 1, 1):\n",
    "            wind_true = true[x-1:x+2, y-1:y+2]\n",
    "            wind_pred = pred[x-1:x+2, y-1:y+2]\n",
    "            if wind_true[1, 1] == 1:\n",
    "                if np.sum(wind_true) == 1:\n",
    "                    n_single_trees += 1\n",
    "                    pred_place = np.argmax(wind_pred.flatten())\n",
    "                    diff = wind_pred.flatten()[pred_place] - wind_pred.flatten()[4]\n",
    "                    if pred_place != 4:\n",
    "                        if diff > difference:\n",
    "                            x_lv = pred_place // 3\n",
    "                            y_lv = pred_place % 3\n",
    "                            print(x_lv, y_lv)\n",
    "                            proposed = wind_true[x_lv - 1:x_lv+2, y_lv-1:y_lv+2]\n",
    "                            if np.sum(proposed) == 0:\n",
    "                                print(\"There is a missed position at {} x, {} y: {}\".format(x, y, diff))"
   ]
  },
  {
   "cell_type": "code",
   "execution_count": 281,
   "metadata": {},
   "outputs": [],
   "source": [
    "matrix_ids = [501, 251, 303, 316, 28, 51, 57, 60] # 89, 160, 168, 215\n",
    "#to_check = [64, 73, 164, 198, 202, 215, 216, 229, 234]\n",
    "#to_check = [376, 377, 380, 386, 394, 412, 414, 423, 430, 433, 436, 440, 447, 456]\n",
    "to_check = [465, 467, 468, 477, 484, 487, 491, 501, 507, 514, 516, 421, 534, 538]"
   ]
  },
  {
   "cell_type": "code",
   "execution_count": 288,
   "metadata": {},
   "outputs": [
    {
     "name": "stdout",
     "output_type": "stream",
     "text": [
      "0.059854014598540145\n",
      "41\n",
      "42\n",
      "43\n",
      "44\n",
      "45\n",
      "46\n",
      "47\n",
      "1 2\n",
      "0 2\n",
      "There is a missed position at 8 x, 7 y: 0.48787054419517517\n",
      "1 0\n",
      "There is a missed position at 12 x, 12 y: 0.2941508889198303\n",
      "48\n"
     ]
    },
    {
     "data": {
      "image/png": "[encoded data removed]",
      "text/plain": [
       "<Figure size 1440x1152 with 32 Axes>"
      ]
     },
     "metadata": {
      "needs_background": "light"
     },
     "output_type": "display_data"
    }
   ],
   "source": [
    "# Try the following fine tune methods:\n",
    "    # - BCE + Boundary - 0.666 at 5e-4, drop to 5e-5\n",
    "    # - Lovasz + Boundary - Performs worse\n",
    "    # BCE + Lovasz \n",
    "    \n",
    "# to check global\n",
    "# 326, 328, 334, 335, 342, 344, \n",
    "from sklearn.metrics import f1_score\n",
    "print(start/len(test_ids))\n",
    "test_ids = sorted(test_ids)\n",
    "#matrix_ids = to_check[6:]\n",
    "matrix_ids = [test_ids[start], test_ids[start + 1], test_ids[start + 2], test_ids[start + 3],\n",
    "              test_ids[start + 4], test_ids[start + 5], test_ids[start + 6], test_ids[start + 7]]\n",
    "#matrix_ids = to_id.flatten()[start:start + 8]\n",
    "preds = []\n",
    "trues = []\n",
    "for i in matrix_ids:\n",
    "    idx = i\n",
    "    y = sess.run([fm], feed_dict={inp: test_x[idx].reshape(1, 24, IMAGE_SIZE, IMAGE_SIZE, n_bands),\n",
    "                                  length: test_lengths[idx].reshape(1, 1),\n",
    "                                  is_training: False,\n",
    "                                  })\n",
    "    y = np.array(y).reshape(14, 14)\n",
    "    preds.append(y)\n",
    "    y2 = np.copy(y)\n",
    "    print(i)\n",
    "    #y[np.where(y > 0.4)] = 1.0\n",
    "    #y[np.where(y < 0.4)] = 0.\n",
    "    #y[np.where(y >= 0.4)] = 1.\n",
    "    #dc = np.around(dice_loss(test_y[idx].flatten(), y2.flatten()), 3)\n",
    "    true = test_y[idx].reshape(14, 14)\n",
    "    #y[np.where(y > 0.4)] = 1.\n",
    "    identify_alignment(true, y)\n",
    "    #f1 = f1_score(true.flatten(), y.flatten())\n",
    "    #print(i, f1, (1-f1)*np.sum(true))\n",
    "    #if np.sum(true[1:-1]) > 0 and np.sum(y[1:-1]) > 0:\n",
    "    #    print(i, assd(true[1:-1], y[1:-1]))\n",
    "    #print(i, np.sum(abs(true - y)))\n",
    "    trues.append(true)\n",
    "    \n",
    "    \n",
    "\"\"\n",
    "\n",
    "\n",
    "to_plot = trues[0:4] + preds[0:4] + trues[4:] + preds[4:]\n",
    "\n",
    "multiplot(to_plot, nrows = 4, ncols = 4)\n",
    "# 448\"109, \"\"\n",
    "start = start + 8 \n",
    "# 50, 64, 66, 83, 94"
   ]
  },
  {
   "cell_type": "code",
   "execution_count": 283,
   "metadata": {},
   "outputs": [
    {
     "data": {
      "text/plain": [
       "{'africaeast-test': [0, 34],\n",
       " 'africawest-test': [35, 96],\n",
       " 'cameroon-test': [97, 135],\n",
       " 'ethiopia-test': [136, 248],\n",
       " 'ghana-test': [249, 282],\n",
       " 'ghana-test-large': [283, 318],\n",
       " 'global-test': [319, 460],\n",
       " 'india-test': [461, 511],\n",
       " 'kenya-test': [512, 600],\n",
       " 'lac-north-test': [601, 641],\n",
       " 'lac-south-test': [642, 683],\n",
       " 'all': [0, 685]}"
      ]
     },
     "execution_count": 283,
     "metadata": {},
     "output_type": "execute_result"
    }
   ],
   "source": [
    "countries"
   ]
  },
  {
   "cell_type": "code",
   "execution_count": 284,
   "metadata": {},
   "outputs": [],
   "source": [
    "train_ids = [x for x in range(train_x.shape[0])]\n",
    "start = 25"
   ]
  },
  {
   "cell_type": "code",
   "execution_count": 285,
   "metadata": {},
   "outputs": [
    {
     "name": "stdout",
     "output_type": "stream",
     "text": [
      "6\n",
      "25\n",
      "26\n",
      "27\n",
      "28\n",
      "29\n",
      "30\n",
      "31\n",
      "32\n",
      "33\n"
     ]
    },
    {
     "data": {
      "image/png": "[encoded data removed]",
      "text/plain": [
       "<Figure size 1440x1152 with 32 Axes>"
      ]
     },
     "metadata": {
      "needs_background": "light"
     },
     "output_type": "display_data"
    }
   ],
   "source": [
    "#start = 487*4\n",
    "# 127, 143, 238, 241, 242, 252, 264, 282, 288, 318\n",
    "train_ids = sorted(train_ids)\n",
    "#atrix_ids = random.sample(755, 4)\n",
    "matrix_ids = [train_ids[start], train_ids[start + 1], train_ids[start + 2], train_ids[start + 3], train_ids[start + 4],\n",
    "             train_ids[start + 5], train_ids[start + 6], train_ids[start + 7], train_ids[start + 8]]\n",
    "\n",
    "#matrix_ids = to_id[18:27] * 4\n",
    "#matrix_ids = [722*4, 751*4, 761*4, 762*4]\n",
    "#matrix_ids = [len(train_x)-28]\n",
    "\n",
    "preds = []\n",
    "trues = []\n",
    "print(start//4)\n",
    "for i in matrix_ids:\n",
    "    idx = i\n",
    "    print(idx)\n",
    "    y = sess.run([fm], feed_dict={inp: train_x[idx].reshape(1, 24, IMAGE_SIZE, IMAGE_SIZE, n_bands),\n",
    "                                  length: train_l[idx].reshape(1, 1),\n",
    "                                  is_training: False,\n",
    "                                  })\n",
    "    y = np.array(y).reshape(14, 14)\n",
    "    #y[np.where(y > 0.3)] = 0.85\n",
    "    preds.append(y)\n",
    "    true = train_y[idx].reshape(14, 14)\n",
    "    #identify_alignment(true, y)\n",
    "    trues.append(true)\n",
    "    \n",
    "start += 8\n",
    "# 20, \n",
    "\n",
    "to_plot = trues[0:4] + preds[0:4] + trues[5:] + preds[5:]\n",
    "multiplot(to_plot, nrows = 4, ncols = 4)  "
   ]
  },
  {
   "cell_type": "markdown",
   "metadata": {},
   "source": [
    "## TODO @jombrandt top 100 worst training, test samples by IOU \n"
   ]
  },
  {
   "cell_type": "code",
   "execution_count": 145,
   "metadata": {
    "scrolled": true
   },
   "outputs": [
    {
     "name": "stdout",
     "output_type": "stream",
     "text": [
      "0\n",
      "0 -28.0\n",
      "1\n",
      "1 -185.0\n",
      "2\n",
      "2 4.0\n",
      "3\n",
      "3 -6.0\n",
      "4\n",
      "4 0.0\n",
      "5\n",
      "5 -4.0\n",
      "6\n",
      "6 -9.0\n",
      "7\n",
      "7 -7.0\n",
      "8\n",
      "8 0.0\n",
      "9\n",
      "9 -4.0\n",
      "10\n",
      "10 -9.0\n",
      "11\n",
      "11 -5.0\n",
      "12\n",
      "12 14.0\n",
      "13\n",
      "13 -195.0\n",
      "14\n",
      "14 -16.0\n",
      "15\n",
      "15 0.0\n",
      "16\n",
      "16 -42.0\n",
      "17\n",
      "17 -1.0\n",
      "18\n",
      "18 0.0\n",
      "19\n",
      "19 0.0\n",
      "20\n",
      "20 -15.0\n",
      "21\n",
      "21 -23.0\n",
      "22\n",
      "22 -8.0\n",
      "23\n",
      "23 1.0\n",
      "24\n",
      "24 4.0\n",
      "25\n",
      "25 -1.0\n",
      "26\n",
      "26 44.0\n",
      "27\n",
      "27 0.0\n",
      "28\n",
      "28 -13.0\n",
      "29\n",
      "29 16.0\n",
      "30\n",
      "30 0.0\n",
      "31\n",
      "31 -4.0\n",
      "32\n",
      "32 0.0\n",
      "33\n",
      "33 -4.0\n",
      "34\n",
      "34 22.0\n",
      "35\n",
      "35 0.0\n",
      "36\n",
      "36 22.0\n",
      "37\n",
      "37 -13.0\n",
      "38\n",
      "38 -24.0\n",
      "39\n",
      "39 -109.0\n",
      "40\n",
      "40 4.0\n",
      "41\n",
      "41 -15.0\n",
      "42\n",
      "42 14.0\n",
      "2 1\n",
      "43\n",
      "43 0.0\n",
      "44\n",
      "44 0.0\n",
      "45\n",
      "45 0.0\n",
      "46\n",
      "46 0.0\n",
      "47\n",
      "47 -5.0\n",
      "0 0\n",
      "There is a missed position at 2 x, 7 y: 1.0\n",
      "48\n",
      "48 -15.0\n",
      "49\n",
      "49 14.0\n",
      "50\n",
      "50 21.0\n",
      "51\n",
      "51 0.0\n",
      "52\n",
      "52 -109.0\n",
      "53\n",
      "53 -15.0\n",
      "54\n",
      "54 1.0\n",
      "55\n",
      "55 -13.0\n",
      "56\n",
      "56 -40.0\n",
      "57\n",
      "57 6.0\n",
      "58\n",
      "58 -19.0\n",
      "59\n",
      "59 0.0\n",
      "60\n",
      "60 0.0\n",
      "61\n",
      "61 -12.0\n",
      "62\n",
      "62 9.0\n",
      "63\n",
      "63 13.0\n",
      "64\n",
      "64 69.0\n",
      "2 2\n",
      "65\n",
      "65 0.0\n",
      "66\n",
      "66 -37.0\n",
      "67\n",
      "67 -16.0\n",
      "68\n",
      "68 0.0\n",
      "69\n",
      "69 0.0\n",
      "70\n",
      "70 0.0\n",
      "71\n",
      "71 22.0\n",
      "72\n",
      "72 -14.0\n",
      "73\n",
      "73 0.0\n",
      "74\n",
      "74 10.0\n",
      "2 0\n",
      "There is a missed position at 8 x, 9 y: 1.0\n",
      "75\n",
      "75 -13.0\n",
      "76\n",
      "76 -5.0\n",
      "77\n",
      "77 -25.0\n",
      "2 0\n",
      "There is a missed position at 11 x, 3 y: 1.0\n",
      "78\n",
      "78 29.0\n",
      "0 0\n",
      "There is a missed position at 8 x, 11 y: 1.0\n",
      "79\n",
      "79 0.0\n",
      "80\n",
      "80 -14.0\n",
      "81\n",
      "81 0.0\n",
      "82\n",
      "82 -41.0\n",
      "83\n",
      "83 -62.0\n",
      "84\n",
      "84 0.0\n",
      "85\n",
      "85 -12.0\n",
      "86\n",
      "86 0.0\n",
      "87\n",
      "87 0.0\n",
      "88\n",
      "88 -71.0\n",
      "89\n",
      "89 6.0\n",
      "90\n",
      "90 0.0\n",
      "91\n",
      "91 0.0\n",
      "92\n",
      "92 37.0\n",
      "93\n",
      "93 -9.0\n",
      "94\n",
      "94 3.0\n",
      "95\n",
      "95 0.0\n",
      "96\n",
      "96 -39.0\n",
      "97\n",
      "97 0.0\n",
      "98\n",
      "98 2.0\n",
      "99\n",
      "99 52.0\n",
      "100\n",
      "100 0.0\n",
      "101\n",
      "101 0.0\n",
      "102\n",
      "102 16.0\n",
      "103\n",
      "103 -1.0\n",
      "104\n",
      "104 34.0\n",
      "105\n",
      "105 31.0\n",
      "106\n",
      "106 -2.0\n",
      "107\n",
      "107 0.0\n",
      "108\n",
      "108 -8.0\n",
      "109\n",
      "109 -25.0\n",
      "110\n",
      "110 -24.0\n",
      "111\n",
      "111 -1.0\n",
      "112\n",
      "112 -14.0\n",
      "113\n",
      "113 8.0\n",
      "114\n",
      "114 -38.0\n",
      "115\n",
      "115 0.0\n",
      "116\n",
      "116 -55.0\n",
      "117\n",
      "117 -2.0\n",
      "118\n",
      "118 -39.0\n",
      "119\n",
      "119 -46.0\n",
      "120\n",
      "120 7.0\n",
      "121\n",
      "121 0.0\n",
      "122\n",
      "122 0.0\n",
      "123\n",
      "123 41.0\n",
      "124\n",
      "124 0.0\n",
      "125\n",
      "125 90.0\n",
      "126\n",
      "126 9.0\n",
      "127\n",
      "127 -35.0\n",
      "128\n",
      "128 -1.0\n",
      "129\n",
      "129 0.0\n",
      "130\n",
      "130 -5.0\n",
      "131\n",
      "131 0.0\n",
      "132\n",
      "132 -30.0\n",
      "133\n",
      "133 -66.0\n",
      "134\n",
      "134 11.0\n",
      "135\n",
      "135 19.0\n",
      "136\n",
      "136 -105.0\n",
      "137\n",
      "137 0.0\n",
      "138\n",
      "138 25.0\n",
      "139\n",
      "139 7.0\n",
      "140\n",
      "140 1.0\n",
      "141\n",
      "141 0.0\n",
      "142\n",
      "142 0.0\n",
      "143\n",
      "143 0.0\n",
      "144\n",
      "144 0.0\n",
      "145\n",
      "145 -32.0\n",
      "146\n",
      "146 0.0\n",
      "147\n",
      "147 -127.0\n",
      "148\n",
      "148 0.0\n",
      "149\n",
      "149 0.0\n",
      "150\n",
      "150 0.0\n",
      "151\n",
      "151 -11.0\n",
      "2 1\n",
      "152\n",
      "152 -10.0\n",
      "153\n",
      "153 55.0\n",
      "0 1\n",
      "There is a missed position at 8 x, 5 y: 1.0\n",
      "154\n",
      "154 66.0\n",
      "155\n",
      "155 88.0\n",
      "156\n",
      "156 0.0\n",
      "157\n",
      "157 0.0\n",
      "158\n",
      "158 17.0\n",
      "159\n",
      "159 -29.0\n",
      "160\n",
      "160 120.0\n",
      "161\n",
      "161 0.0\n",
      "162\n",
      "162 0.0\n",
      "163\n",
      "163 -21.0\n",
      "164\n",
      "164 -2.0\n",
      "165\n",
      "165 -6.0\n",
      "166\n",
      "166 0.0\n",
      "167\n",
      "167 27.0\n",
      "168\n",
      "168 55.0\n",
      "169\n",
      "169 0.0\n",
      "170\n",
      "170 -40.0\n",
      "171\n",
      "171 0.0\n",
      "172\n",
      "172 2.0\n",
      "1 2\n",
      "173\n",
      "173 0.0\n",
      "174\n",
      "174 -42.0\n",
      "175\n",
      "175 0.0\n",
      "176\n",
      "176 0.0\n",
      "177\n",
      "177 -2.0\n",
      "178\n",
      "178 0.0\n",
      "179\n",
      "179 90.0\n",
      "180\n",
      "180 196.0\n",
      "181\n",
      "181 0.0\n",
      "182\n",
      "182 0.0\n",
      "183\n",
      "183 -3.0\n",
      "184\n",
      "184 -15.0\n",
      "185\n",
      "185 0.0\n",
      "186\n",
      "186 -1.0\n",
      "187\n",
      "187 -2.0\n",
      "188\n",
      "188 -32.0\n",
      "189\n",
      "189 31.0\n",
      "190\n",
      "190 0.0\n",
      "191\n",
      "191 19.0\n",
      "192\n",
      "192 4.0\n",
      "193\n",
      "193 102.0\n",
      "194\n",
      "194 0.0\n",
      "195\n",
      "195 0.0\n",
      "196\n",
      "196 -25.0\n",
      "197\n",
      "197 -10.0\n",
      "198\n",
      "198 5.0\n",
      "0 2\n",
      "There is a missed position at 2 x, 5 y: 1.0\n",
      "0 1\n",
      "There is a missed position at 6 x, 7 y: 1.0\n",
      "199\n",
      "199 -3.0\n",
      "200\n",
      "200 -12.0\n",
      "201\n",
      "201 10.0\n",
      "0 0\n",
      "There is a missed position at 5 x, 3 y: 1.0\n",
      "202\n",
      "202 -13.0\n",
      "203\n",
      "203 -5.0\n",
      "204\n",
      "204 -65.0\n",
      "205\n",
      "205 -5.0\n",
      "206\n",
      "206 -3.0\n",
      "207\n",
      "207 -33.0\n",
      "208\n",
      "208 2.0\n",
      "209\n",
      "209 33.0\n",
      "210\n",
      "210 -181.0\n",
      "211\n",
      "211 -16.0\n",
      "212\n",
      "212 -7.0\n",
      "0 2\n",
      "There is a missed position at 3 x, 9 y: 1.0\n",
      "1 0\n",
      "There is a missed position at 8 x, 11 y: 1.0\n",
      "213\n",
      "213 -1.0\n",
      "2 2\n",
      "214\n",
      "214 -7.0\n",
      "215\n",
      "215 -8.0\n",
      "216\n",
      "216 -104.0\n",
      "217\n",
      "217 -10.0\n",
      "218\n",
      "218 14.0\n",
      "219\n",
      "219 -16.0\n",
      "220\n",
      "220 0.0\n",
      "221\n",
      "221 -3.0\n",
      "222\n",
      "222 20.0\n",
      "223\n",
      "223 -7.0\n",
      "224\n",
      "224 -10.0\n",
      "225\n",
      "225 0.0\n",
      "226\n",
      "226 -15.0\n",
      "227\n",
      "227 -196.0\n",
      "228\n",
      "228 -17.0\n",
      "229\n",
      "229 0.0\n",
      "230\n",
      "230 -49.0\n",
      "231\n",
      "231 -17.0\n",
      "232\n",
      "232 28.0\n",
      "0 2\n",
      "There is a missed position at 4 x, 6 y: 1.0\n",
      "233\n",
      "233 -1.0\n",
      "234\n",
      "234 28.0\n",
      "235\n",
      "235 -7.0\n",
      "236\n",
      "236 0.0\n",
      "237\n",
      "237 -5.0\n",
      "238\n",
      "238 -25.0\n",
      "239\n",
      "239 1.0\n",
      "240\n",
      "240 0.0\n",
      "241\n",
      "241 56.0\n",
      "0 0\n",
      "There is a missed position at 9 x, 9 y: 1.0\n",
      "242\n",
      "242 -11.0\n",
      "243\n",
      "243 -39.0\n",
      "244\n",
      "244 46.0\n",
      "245\n",
      "245 0.0\n",
      "246\n",
      "246 -26.0\n",
      "247\n",
      "247 0.0\n",
      "248\n",
      "248 5.0\n",
      "0 0\n",
      "There is a missed position at 7 x, 12 y: 1.0\n",
      "249\n",
      "249 -8.0\n",
      "250\n",
      "250 -21.0\n",
      "251\n",
      "251 -109.0\n",
      "252\n",
      "252 0.0\n",
      "253\n",
      "253 0.0\n",
      "254\n",
      "254 -7.0\n",
      "0 1\n",
      "There is a missed position at 1 x, 5 y: 1.0\n",
      "255\n",
      "255 -4.0\n",
      "256\n",
      "256 -15.0\n",
      "2 1\n",
      "257\n",
      "257 0.0\n",
      "258\n",
      "258 93.0\n",
      "0 0\n",
      "There is a missed position at 10 x, 7 y: 1.0\n",
      "259\n",
      "259 0.0\n",
      "260\n",
      "260 0.0\n",
      "261\n",
      "261 12.0\n",
      "1 0\n",
      "There is a missed position at 3 x, 7 y: 1.0\n",
      "262\n",
      "262 -47.0\n",
      "263\n",
      "263 -14.0\n",
      "264\n",
      "264 -15.0\n",
      "265\n",
      "265 -28.0\n",
      "266\n",
      "266 -111.0\n",
      "267\n",
      "267 -10.0\n",
      "268\n",
      "268 0.0\n",
      "269\n",
      "269 -10.0\n",
      "270\n",
      "270 143.0\n",
      "271\n",
      "271 0.0\n",
      "272\n",
      "272 0.0\n",
      "273\n",
      "273 0.0\n",
      "274\n",
      "274 0.0\n",
      "275\n",
      "275 46.0\n",
      "0 0\n",
      "There is a missed position at 6 x, 5 y: 1.0\n",
      "2 0\n",
      "There is a missed position at 8 x, 8 y: 1.0\n",
      "0 2\n",
      "There is a missed position at 11 x, 1 y: 1.0\n",
      "276\n",
      "276 0.0\n",
      "277\n",
      "277 -6.0\n",
      "278\n",
      "278 -9.0\n",
      "279\n",
      "279 10.0\n",
      "280\n",
      "280 4.0\n",
      "281\n",
      "281 0.0\n",
      "282\n",
      "282 -27.0\n",
      "1 2\n",
      "283\n",
      "283 0.0\n",
      "284\n",
      "284 -4.0\n",
      "0 1\n",
      "There is a missed position at 3 x, 4 y: 1.0\n",
      "285\n",
      "285 -26.0\n",
      "286\n",
      "286 10.0\n",
      "287\n",
      "287 -3.0\n",
      "288\n",
      "288 0.0\n",
      "289\n",
      "289 -3.0\n",
      "290\n",
      "290 -24.0\n",
      "291\n",
      "291 24.0\n",
      "292\n",
      "292 -49.0\n",
      "293\n",
      "293 -17.0\n",
      "294\n",
      "294 21.0\n",
      "295\n",
      "295 -1.0\n",
      "296\n",
      "296 0.0\n",
      "297\n",
      "297 -7.0\n",
      "298\n",
      "298 0.0\n",
      "299\n",
      "299 -17.0\n",
      "300\n",
      "300 -1.0\n",
      "301\n",
      "301 0.0\n",
      "302\n",
      "302 -1.0\n",
      "303\n",
      "303 0.0\n",
      "304\n",
      "304 -5.0\n",
      "305\n",
      "305 1.0\n",
      "306\n",
      "306 0.0\n",
      "307\n",
      "307 -1.0\n",
      "308\n",
      "308 -16.0\n",
      "309\n",
      "309 0.0\n",
      "310\n",
      "310 -9.0\n",
      "311\n",
      "311 -5.0\n",
      "312\n",
      "312 -4.0\n",
      "313\n",
      "313 0.0\n",
      "314\n",
      "314 15.0\n",
      "315\n",
      "315 113.0\n",
      "316\n",
      "316 12.0\n",
      "317\n",
      "317 3.0\n",
      "318\n",
      "318 26.0\n",
      "0 0\n",
      "There is a missed position at 8 x, 5 y: 1.0\n",
      "319\n",
      "319 -2.0\n",
      "320\n",
      "320 -2.0\n",
      "321\n",
      "321 -5.0\n",
      "322\n",
      "322 7.0\n",
      "323\n",
      "323 0.0\n",
      "324\n",
      "324 5.0\n",
      "325\n",
      "325 4.0\n",
      "326\n",
      "326 16.0\n",
      "327\n",
      "327 -3.0\n",
      "328\n",
      "328 0.0\n",
      "329\n",
      "329 -1.0\n",
      "330\n",
      "330 20.0\n",
      "1 2\n",
      "331\n",
      "331 0.0\n",
      "332\n",
      "332 15.0\n",
      "1 0\n",
      "There is a missed position at 7 x, 12 y: 1.0\n",
      "333\n",
      "333 3.0\n",
      "334\n",
      "334 0.0\n",
      "335\n",
      "335 -7.0\n",
      "336\n",
      "336 -9.0\n",
      "337\n",
      "337 -6.0\n",
      "338\n",
      "338 -18.0\n",
      "339\n",
      "339 -15.0\n",
      "340\n",
      "340 13.0\n",
      "1 2\n",
      "341\n",
      "341 -1.0\n",
      "342\n",
      "342 -3.0\n",
      "343\n",
      "343 -94.0\n",
      "344\n",
      "344 28.0\n",
      "345\n",
      "345 0.0\n",
      "346\n",
      "346 33.0\n",
      "347\n",
      "347 0.0\n",
      "348\n",
      "348 -16.0\n",
      "349\n",
      "349 0.0\n",
      "350\n",
      "350 -10.0\n",
      "351\n",
      "351 -7.0\n",
      "0 1\n",
      "There is a missed position at 6 x, 6 y: 1.0\n",
      "352\n",
      "352 -26.0\n",
      "353\n",
      "353 -1.0\n",
      "354\n",
      "354 0.0\n",
      "355\n",
      "355 -7.0\n",
      "356\n",
      "356 -31.0\n",
      "1 0\n",
      "There is a missed position at 6 x, 8 y: 1.0\n",
      "357\n",
      "357 -20.0\n",
      "358\n",
      "358 -46.0\n",
      "359\n",
      "359 35.0\n",
      "360\n",
      "360 0.0\n",
      "361\n",
      "361 14.0\n",
      "362\n",
      "362 0.0\n",
      "363\n",
      "363 17.0\n",
      "364\n",
      "364 -12.0\n",
      "365\n",
      "365 0.0\n",
      "366\n",
      "366 30.0\n",
      "367\n",
      "367 -29.0\n",
      "368\n",
      "368 -6.0\n",
      "0 1\n",
      "There is a missed position at 6 x, 7 y: 1.0\n",
      "369\n",
      "369 -20.0\n",
      "370\n",
      "370 9.0\n",
      "0 2\n",
      "There is a missed position at 9 x, 1 y: 1.0\n",
      "371\n",
      "371 -3.0\n",
      "372\n",
      "372 12.0\n",
      "373\n",
      "373 10.0\n",
      "2 0\n",
      "There is a missed position at 9 x, 4 y: 1.0\n",
      "374\n",
      "374 0.0\n",
      "375\n",
      "375 33.0\n",
      "0 0\n",
      "There is a missed position at 2 x, 11 y: 1.0\n",
      "0 2\n",
      "There is a missed position at 4 x, 1 y: 1.0\n",
      "376\n",
      "376 8.0\n",
      "377\n",
      "377 7.0\n",
      "378\n",
      "378 -5.0\n",
      "379\n",
      "379 -6.0\n",
      "380\n",
      "380 -5.0\n",
      "381\n",
      "381 14.0\n",
      "382\n",
      "382 5.0\n",
      "383\n",
      "383 -9.0\n",
      "384\n",
      "384 -9.0\n",
      "385\n",
      "385 4.0\n",
      "386\n",
      "386 23.0\n",
      "0 0\n",
      "There is a missed position at 11 x, 4 y: 1.0\n",
      "387\n",
      "387 30.0\n",
      "388\n",
      "388 7.0\n",
      "389\n",
      "389 53.0\n",
      "390\n",
      "390 -1.0\n",
      "391\n",
      "391 -5.0\n",
      "392\n",
      "392 23.0\n",
      "393\n",
      "393 33.0\n",
      "394\n",
      "394 2.0\n",
      "395\n",
      "395 -3.0\n",
      "396\n",
      "396 29.0\n",
      "397\n",
      "397 -3.0\n",
      "398\n",
      "398 -1.0\n",
      "399\n",
      "399 -116.0\n",
      "400\n",
      "400 -1.0\n",
      "401\n",
      "401 -42.0\n",
      "402\n",
      "402 -7.0\n",
      "403\n",
      "403 -23.0\n",
      "404\n",
      "404 -27.0\n",
      "405\n",
      "405 -5.0\n",
      "2 1\n",
      "406\n",
      "406 0.0\n",
      "407\n",
      "407 -2.0\n",
      "408\n",
      "408 -46.0\n",
      "409\n",
      "409 0.0\n",
      "410\n",
      "410 -15.0\n",
      "411\n",
      "411 -9.0\n",
      "412\n",
      "412 -122.0\n",
      "413\n",
      "413 -2.0\n",
      "414\n",
      "414 7.0\n",
      "415\n",
      "415 -8.0\n",
      "416\n",
      "416 -3.0\n",
      "417\n",
      "417 -1.0\n",
      "418\n",
      "418 -20.0\n",
      "0 1\n",
      "There is a missed position at 6 x, 7 y: 1.0\n",
      "419\n",
      "419 -23.0\n",
      "420\n",
      "420 -45.0\n",
      "421\n",
      "421 -28.0\n",
      "422\n",
      "422 -53.0\n",
      "423\n",
      "423 0.0\n",
      "424\n",
      "424 -31.0\n",
      "425\n",
      "425 -20.0\n",
      "426\n",
      "426 -5.0\n",
      "427\n",
      "427 7.0\n",
      "428\n",
      "428 -15.0\n",
      "429\n",
      "429 -74.0\n",
      "430\n",
      "430 -30.0\n",
      "431\n",
      "431 18.0\n",
      "0 0\n",
      "There is a missed position at 2 x, 6 y: 1.0\n",
      "432\n",
      "432 0.0\n",
      "433\n",
      "433 -2.0\n",
      "434\n",
      "434 -2.0\n",
      "435\n",
      "435 -42.0\n",
      "436\n",
      "436 0.0\n",
      "437\n",
      "437 -2.0\n",
      "438\n",
      "438 -18.0\n",
      "439\n",
      "439 -20.0\n",
      "440\n",
      "440 -4.0\n",
      "441\n",
      "441 0.0\n",
      "442\n",
      "442 0.0\n",
      "443\n",
      "443 -8.0\n",
      "444\n",
      "444 -140.0\n",
      "445\n",
      "445 19.0\n",
      "446\n",
      "446 10.0\n",
      "1 2\n",
      "447\n",
      "447 -1.0\n",
      "448\n",
      "448 -10.0\n",
      "449\n",
      "449 -7.0\n",
      "450\n",
      "450 14.0\n",
      "2 2\n",
      "451\n",
      "451 0.0\n",
      "452\n",
      "452 -10.0\n",
      "453\n",
      "453 0.0\n",
      "454\n",
      "454 -2.0\n",
      "455\n",
      "455 -5.0\n",
      "456\n",
      "456 -14.0\n",
      "457\n",
      "457 -15.0\n",
      "458\n",
      "458 -31.0\n",
      "459\n",
      "459 36.0\n",
      "460\n",
      "460 -90.0\n",
      "461\n",
      "461 -1.0\n",
      "462\n",
      "462 -11.0\n",
      "463\n",
      "463 57.0\n",
      "2 0\n",
      "There is a missed position at 2 x, 3 y: 1.0\n",
      "0 0\n",
      "There is a missed position at 6 x, 11 y: 1.0\n",
      "464\n",
      "464 14.0\n",
      "0 2\n",
      "There is a missed position at 6 x, 11 y: 1.0\n",
      "0 0\n",
      "There is a missed position at 7 x, 8 y: 1.0\n",
      "2 1\n",
      "465\n",
      "465 0.0\n",
      "466\n",
      "466 -4.0\n",
      "467\n",
      "467 0.0\n",
      "468\n",
      "468 0.0\n",
      "469\n",
      "469 0.0\n",
      "470\n",
      "470 -4.0\n",
      "2 1\n",
      "471\n",
      "471 0.0\n",
      "472\n",
      "472 -1.0\n",
      "473\n",
      "473 44.0\n",
      "1 2\n",
      "0 0\n",
      "There is a missed position at 8 x, 2 y: 1.0\n",
      "474\n",
      "474 -6.0\n",
      "475\n",
      "475 -3.0\n",
      "476\n",
      "476 -4.0\n",
      "477\n",
      "477 -8.0\n",
      "478\n",
      "478 24.0\n",
      "479\n",
      "479 -1.0\n",
      "480\n",
      "480 3.0\n",
      "481\n",
      "481 -13.0\n",
      "2 1\n",
      "0 1\n",
      "There is a missed position at 11 x, 8 y: 1.0\n",
      "482\n",
      "482 5.0\n",
      "483\n",
      "483 20.0\n",
      "484\n",
      "484 9.0\n",
      "485\n",
      "485 2.0\n",
      "2 1\n",
      "486\n",
      "486 0.0\n",
      "487\n",
      "487 0.0\n",
      "488\n",
      "488 0.0\n",
      "489\n",
      "489 0.0\n",
      "490\n",
      "490 -2.0\n",
      "491\n",
      "491 -11.0\n",
      "492\n",
      "492 -15.0\n",
      "493\n",
      "493 -1.0\n",
      "494\n",
      "494 0.0\n",
      "495\n",
      "495 32.0\n",
      "2 1\n",
      "0 1\n",
      "There is a missed position at 6 x, 10 y: 1.0\n",
      "1 2\n",
      "496\n",
      "496 -1.0\n",
      "497\n",
      "497 -4.0\n",
      "498\n",
      "498 -19.0\n",
      "499\n",
      "499 0.0\n",
      "500\n",
      "500 21.0\n",
      "501\n",
      "501 -113.0\n",
      "502\n"
     ]
    },
    {
     "name": "stdout",
     "output_type": "stream",
     "text": [
      "502 -55.0\n",
      "503\n",
      "503 -41.0\n",
      "504\n",
      "504 -16.0\n",
      "505\n",
      "505 -2.0\n",
      "506\n",
      "506 -8.0\n",
      "1 2\n",
      "507\n",
      "507 77.0\n",
      "508\n",
      "508 -35.0\n",
      "509\n",
      "509 -9.0\n",
      "0 0\n",
      "There is a missed position at 7 x, 6 y: 1.0\n",
      "510\n",
      "510 23.0\n",
      "0 2\n",
      "There is a missed position at 1 x, 10 y: 1.0\n",
      "511\n",
      "511 0.0\n",
      "512\n",
      "512 13.0\n",
      "1 0\n",
      "There is a missed position at 12 x, 7 y: 1.0\n",
      "513\n",
      "513 0.0\n",
      "514\n",
      "514 65.0\n",
      "515\n",
      "515 57.0\n",
      "516\n",
      "516 -9.0\n",
      "517\n",
      "517 -33.0\n",
      "518\n",
      "518 -106.0\n",
      "519\n",
      "519 11.0\n",
      "520\n",
      "520 6.0\n",
      "521\n",
      "521 16.0\n",
      "522\n",
      "522 12.0\n",
      "523\n",
      "523 5.0\n",
      "524\n",
      "524 11.0\n",
      "525\n",
      "525 -14.0\n",
      "526\n",
      "526 86.0\n",
      "527\n",
      "527 -31.0\n",
      "528\n",
      "528 21.0\n",
      "529\n",
      "529 9.0\n",
      "530\n",
      "530 -16.0\n",
      "531\n",
      "531 4.0\n",
      "532\n",
      "532 46.0\n",
      "533\n",
      "533 43.0\n",
      "534\n",
      "534 12.0\n",
      "535\n",
      "535 19.0\n",
      "536\n",
      "536 3.0\n",
      "537\n",
      "537 24.0\n",
      "538\n",
      "538 0.0\n",
      "539\n",
      "539 -28.0\n",
      "540\n",
      "540 22.0\n",
      "541\n",
      "541 19.0\n",
      "0 0\n",
      "There is a missed position at 3 x, 6 y: 1.0\n",
      "542\n",
      "542 0.0\n",
      "543\n",
      "543 -113.0\n",
      "544\n",
      "544 0.0\n",
      "545\n",
      "545 0.0\n",
      "546\n",
      "546 0.0\n",
      "547\n",
      "547 0.0\n",
      "548\n",
      "548 0.0\n",
      "549\n",
      "549 0.0\n",
      "550\n",
      "550 -73.0\n",
      "551\n",
      "551 0.0\n",
      "552\n",
      "552 0.0\n",
      "553\n",
      "553 -3.0\n",
      "554\n",
      "554 -6.0\n",
      "555\n",
      "555 0.0\n",
      "556\n",
      "556 93.0\n",
      "557\n",
      "557 2.0\n",
      "558\n",
      "558 0.0\n",
      "559\n",
      "559 34.0\n",
      "560\n",
      "560 -2.0\n",
      "561\n",
      "561 14.0\n",
      "1 2\n",
      "562\n",
      "562 -11.0\n",
      "563\n",
      "563 -21.0\n",
      "564\n",
      "564 -120.0\n",
      "565\n",
      "565 0.0\n",
      "566\n",
      "566 41.0\n",
      "567\n",
      "567 0.0\n",
      "568\n",
      "568 10.0\n",
      "569\n",
      "569 -25.0\n",
      "1 0\n",
      "There is a missed position at 6 x, 2 y: 1.0\n",
      "570\n",
      "570 6.0\n",
      "571\n",
      "571 -14.0\n",
      "572\n",
      "572 -18.0\n",
      "573\n",
      "573 0.0\n",
      "574\n",
      "574 -8.0\n",
      "575\n",
      "575 0.0\n",
      "576\n",
      "576 0.0\n",
      "577\n",
      "577 72.0\n",
      "578\n",
      "578 6.0\n",
      "579\n",
      "579 -10.0\n",
      "580\n",
      "580 0.0\n",
      "581\n",
      "581 -6.0\n",
      "582\n",
      "582 63.0\n",
      "583\n",
      "583 2.0\n",
      "584\n",
      "584 42.0\n",
      "585\n",
      "585 18.0\n",
      "586\n",
      "586 -61.0\n",
      "587\n",
      "587 18.0\n",
      "0 0\n",
      "There is a missed position at 8 x, 5 y: 1.0\n",
      "588\n",
      "588 -56.0\n",
      "589\n",
      "589 -63.0\n",
      "590\n",
      "590 -8.0\n",
      "591\n",
      "591 16.0\n",
      "592\n",
      "592 -100.0\n",
      "593\n",
      "593 -2.0\n",
      "594\n",
      "594 20.0\n",
      "595\n",
      "595 40.0\n",
      "596\n",
      "596 -4.0\n",
      "2 1\n",
      "597\n",
      "597 -1.0\n",
      "598\n",
      "598 -16.0\n",
      "599\n",
      "599 -40.0\n",
      "600\n",
      "600 -95.0\n",
      "601\n",
      "601 -118.0\n",
      "602\n",
      "602 14.0\n",
      "603\n",
      "603 0.0\n",
      "604\n",
      "604 93.0\n",
      "0 0\n",
      "There is a missed position at 6 x, 3 y: 1.0\n",
      "605\n",
      "605 0.0\n",
      "606\n",
      "606 11.0\n",
      "607\n",
      "607 -23.0\n",
      "608\n",
      "608 0.0\n",
      "609\n",
      "609 0.0\n",
      "610\n",
      "610 5.0\n",
      "611\n",
      "611 4.0\n",
      "612\n",
      "612 1.0\n",
      "613\n",
      "613 0.0\n",
      "614\n",
      "614 0.0\n",
      "615\n",
      "615 20.0\n",
      "616\n",
      "616 118.0\n",
      "617\n",
      "617 32.0\n",
      "618\n",
      "618 -40.0\n",
      "619\n",
      "619 3.0\n",
      "620\n",
      "620 13.0\n",
      "621\n",
      "621 0.0\n",
      "622\n",
      "622 82.0\n",
      "623\n",
      "623 1.0\n",
      "624\n",
      "624 -11.0\n",
      "625\n",
      "625 -62.0\n",
      "626\n",
      "626 10.0\n",
      "627\n",
      "627 11.0\n",
      "628\n",
      "628 -53.0\n",
      "629\n",
      "629 16.0\n",
      "630\n",
      "630 -16.0\n",
      "631\n",
      "631 16.0\n",
      "2 0\n",
      "There is a missed position at 6 x, 4 y: 1.0\n",
      "632\n",
      "632 24.0\n",
      "633\n",
      "633 -26.0\n",
      "634\n",
      "634 -70.0\n",
      "635\n",
      "635 -125.0\n",
      "636\n",
      "636 -3.0\n",
      "637\n",
      "637 5.0\n",
      "638\n",
      "638 45.0\n",
      "639\n",
      "639 0.0\n",
      "640\n",
      "640 0.0\n",
      "641\n",
      "641 21.0\n",
      "642\n",
      "642 31.0\n",
      "643\n",
      "643 6.0\n",
      "644\n",
      "644 26.0\n",
      "645\n",
      "645 12.0\n",
      "646\n",
      "646 14.0\n",
      "647\n",
      "647 0.0\n",
      "648\n",
      "648 -179.0\n",
      "649\n",
      "649 -2.0\n",
      "650\n",
      "650 8.0\n",
      "651\n",
      "651 -14.0\n",
      "652\n",
      "652 0.0\n",
      "653\n",
      "653 -47.0\n",
      "654\n",
      "654 15.0\n",
      "655\n",
      "655 -101.0\n",
      "656\n",
      "656 0.0\n",
      "657\n",
      "657 54.0\n",
      "658\n",
      "658 0.0\n",
      "659\n",
      "659 0.0\n",
      "660\n",
      "660 51.0\n",
      "661\n",
      "661 -11.0\n",
      "662\n",
      "662 0.0\n",
      "663\n",
      "663 -16.0\n",
      "664\n",
      "664 0.0\n",
      "665\n",
      "665 0.0\n",
      "666\n",
      "666 24.0\n",
      "667\n",
      "667 5.0\n",
      "668\n",
      "668 1.0\n",
      "669\n",
      "669 -5.0\n",
      "670\n",
      "670 -7.0\n",
      "671\n",
      "671 0.0\n",
      "672\n",
      "672 -132.0\n",
      "673\n",
      "673 0.0\n",
      "674\n",
      "674 0.0\n",
      "675\n",
      "675 0.0\n",
      "676\n",
      "676 -6.0\n",
      "677\n",
      "677 0.0\n",
      "678\n",
      "678 0.0\n",
      "679\n",
      "679 0.0\n",
      "680\n",
      "680 0.0\n"
     ]
    }
   ],
   "source": [
    "## The idea here is for both training and test, to identify the top 10% of data, by .csv and PLOT-ID\n",
    "## In terms of binary cross-entropy, so that it can be validated on CEO with DG imagery\n",
    "\n",
    "tr_ls = []\n",
    "for i in range(len(test_x)):\n",
    "    #if i % 4 == 0:\n",
    "    print(i)\n",
    "    y, losses = sess.run([fm, train_loss], feed_dict={inp: test_x[i].reshape((1, 24, 16, 16, n_bands)),\n",
    "                                         length: test_lengths[i].reshape((-1, 1)),\n",
    "                                         labels: test_y[i].reshape((1, 14, 14)),\n",
    "                                         is_training: False,\n",
    "                                         keep_rate: 0.8,\n",
    "                                         #keep_rate: np.max((0.97 - (i*0.01), 0.85)),\n",
    "                                         alpha: 0.5,\n",
    "                                         ft_lr: 0.004,\n",
    "                                         })\n",
    "    y = np.array(y).reshape(14, 14)\n",
    "    y[np.where(y > 0.4)] = 1.0\n",
    "    y[np.where(y < 0.4)] = 0.\n",
    "    preds.append(y)\n",
    "    true = test_y[i].reshape(14, 14)\n",
    "    print(i, np.sum(y) - np.sum(true))\n",
    "    identify_alignment(true, y, difference = 0.4)\n",
    "    tr_ls.append(losses)"
   ]
  },
  {
   "cell_type": "code",
   "execution_count": 146,
   "metadata": {},
   "outputs": [],
   "source": [
    "to_id = np.argwhere(np.array(tr_ls) > np.percentile(tr_ls, 90))"
   ]
  },
  {
   "cell_type": "code",
   "execution_count": 160,
   "metadata": {},
   "outputs": [
    {
     "data": {
      "text/plain": [
       "array([  1,  13,  16,  39,  48,  52,  82,  96, 114, 127, 132, 133, 136,\n",
       "       147, 155, 180, 204, 210, 216, 227, 246, 251, 262, 266, 270, 290,\n",
       "       315, 339, 343, 344, 356, 367, 399, 403, 408, 412, 420, 430, 435,\n",
       "       438, 444, 458, 460, 501, 518, 526, 543, 556, 559, 563, 564, 586,\n",
       "       588, 589, 592, 599, 600, 601, 616, 622, 625, 634, 635, 648, 653,\n",
       "       655, 657, 672])"
      ]
     },
     "execution_count": 160,
     "metadata": {},
     "output_type": "execute_result"
    }
   ],
   "source": [
    "to_id.flatten()"
   ]
  },
  {
   "cell_type": "code",
   "execution_count": null,
   "metadata": {},
   "outputs": [],
   "source": []
  }
 ],
 "metadata": {
  "kernelspec": {
   "display_name": "remote_sensing",
   "language": "python",
   "name": "remote_sensing"
  },
  "language_info": {
   "codemirror_mode": {
    "name": "ipython",
    "version": 3
   },
   "file_extension": ".py",
   "mimetype": "text/x-python",
   "name": "python",
   "nbconvert_exporter": "python",
   "pygments_lexer": "ipython3",
   "version": "3.6.8"
  }
 },
 "nbformat": 4,
 "nbformat_minor": 2
}
