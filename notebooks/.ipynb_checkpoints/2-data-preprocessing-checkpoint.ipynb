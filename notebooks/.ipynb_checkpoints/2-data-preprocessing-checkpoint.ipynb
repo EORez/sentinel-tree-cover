{
 "cells": [
  {
   "cell_type": "markdown",
   "metadata": {},
   "source": [
    "# Load, preprocess, and save train and test data\n",
    "# John Brandt\n",
    "# April 1, 2020\n",
    "\n",
    "- Fuse Sentinel 1/2 data\n",
    "- Reconstruct 2D-array from CEO output CSV by plot\n",
    "- Match sentinel data to CEO labels\n",
    "- Stack data_x, data_y, length\n",
    "- Save numpy arrays for data_x, data_y, length\n",
    "\n",
    "The notebook additionally contains some development code for:\n",
    "- Parameter selection in whittaker smoothing\n",
    "- Graphing plot locations on map\n",
    "\n",
    "# Package imports and source code"
   ]
  },
  {
   "cell_type": "code",
   "execution_count": 1,
   "metadata": {},
   "outputs": [],
   "source": [
    "from tqdm import tqdm_notebook, tnrange\n",
    "\n",
    "import pandas as pd\n",
    "import numpy as np\n",
    "from random import shuffle\n",
    "import pandas as pd\n",
    "import seaborn as sns\n",
    "import matplotlib.pyplot as plt\n",
    "%matplotlib inline\n",
    "import os\n",
    "import random\n",
    "import itertools\n",
    "\n",
    "os.environ['KMP_DUPLICATE_LIB_OK']='True'\n",
    "\n",
    "#!source ~/.bash_profile\n",
    "#!export PATH=\"/usr/lib/google-cloud-sdk/bin:$PATH\""
   ]
  },
  {
   "cell_type": "code",
   "execution_count": 2,
   "metadata": {},
   "outputs": [],
   "source": [
    "%run ../src/preprocessing/slope.py"
   ]
  },
  {
   "cell_type": "code",
   "execution_count": 49,
   "metadata": {},
   "outputs": [],
   "source": [
    "def reconstruct_images(plot_id):\n",
    "    '''Takes a plot ID and subsets the input pd.DataFrame to that plot ID\n",
    "       returns a (14, 14) array-like list with binary labels\n",
    "       \n",
    "        Parameters:\n",
    "          batch_ids (list):\n",
    "          batch_size (int):\n",
    "          \n",
    "         Returns:\n",
    "          x_batch (arr):\n",
    "          y_batch (arr):\n",
    "    '''\n",
    "    subs = df[df['PLOT_ID'] == plot_id]\n",
    "    rows = []\n",
    "    lats = reversed(sorted(subs['LAT'].unique()))\n",
    "    for i, val in enumerate(lats):\n",
    "        subs_lat = subs[subs['LAT'] == val]\n",
    "        subs_lat = subs_lat.sort_values('LON', axis = 0)\n",
    "        rows.append(list(subs_lat['TREE']))\n",
    "    return rows"
   ]
  },
  {
   "cell_type": "code",
   "execution_count": 72,
   "metadata": {},
   "outputs": [],
   "source": [
    "# Note, the data in data/new-data/train-s2/2019 and 2018/ is bad (missing / NA values)\n",
    "source = 'train'\n",
    "sentinel_1 = True\n",
    "s2_path = \"../data/{}-s2-24/\".format(source)\n",
    "s1_path = \"../data/{}-s1-new/\".format(source)\n",
    "csv_path = \"../data/{}-csv/\".format(source)\n",
    "output_path = \"../data/{}-processed/\".format(source)\n",
    "dem_path = \"../data/{}-dem/\".format(source)"
   ]
  },
  {
   "cell_type": "code",
   "execution_count": 73,
   "metadata": {},
   "outputs": [],
   "source": [
    "# Regional models\n",
    "east_africa = ['ethiopia', 'africa-east', 'hyperarid', 'kenya',\n",
    "               'malawi', 'rwanda', 'subplot', 'sudan', 'africaeast', 'makueni']\n",
    "\n",
    "west_africa = ['africa-west', 'ghana', 'niger', 'koure', \n",
    "               'hyperarid', 'africawest', 'cameroon', 'ethiopia', 'africawest'] \n",
    "\n",
    "asia = ['australia', 'asia', 'india', 'global']\n",
    "\n",
    "americas = ['brazil', 'elsalvador', 'honduras', \n",
    "            'lac', 'mexico', 'sa-', 'america']\n",
    "\n",
    "africa = east_africa + west_africa\n",
    "\n",
    "malawi = ['malawi', 'africaeast']\n",
    "nigercameroon = ['niger', 'koure', 'cameroon']\n",
    "\n",
    "globe = [x for x in os.listdir(csv_path)]\n",
    "\n",
    "region = east_africa"
   ]
  },
  {
   "cell_type": "code",
   "execution_count": 74,
   "metadata": {},
   "outputs": [
    {
     "data": {
      "text/plain": [
       "942"
      ]
     },
     "execution_count": 74,
     "metadata": {},
     "output_type": "execute_result"
    }
   ],
   "source": [
    "verified_lu_change = np.load(\"bad_plot_ids.npy\")\n",
    "len(verified_lu_change)"
   ]
  },
  {
   "cell_type": "code",
   "execution_count": 75,
   "metadata": {},
   "outputs": [],
   "source": [
    "#verified_lu_change = np.concatenate([verified_lu_change, \n",
    "#                     np.array([138872349, 138872358, 138872519, 138872813\n",
    "#                     ])])\n",
    "#print(len(verified_lu_change))\n"
   ]
  },
  {
   "cell_type": "code",
   "execution_count": 76,
   "metadata": {},
   "outputs": [
    {
     "name": "stdout",
     "output_type": "stream",
     "text": [
      "942\n"
     ]
    }
   ],
   "source": [
    "to_remove = []\n",
    "\n",
    "verified_lu_change = [x for x in verified_lu_change if x not in to_remove]\n",
    "np.save(\"bad_plot_ids.npy\", np.array(verified_lu_change))\n",
    "print(len(verified_lu_change))\n",
    "\n",
    "\n"
   ]
  },
  {
   "cell_type": "code",
   "execution_count": 77,
   "metadata": {
    "scrolled": true
   },
   "outputs": [
    {
     "name": "stdout",
     "output_type": "stream",
     "text": [
      "tanzania-region-val.csv\n",
      "ceo-brazil-finetune-sample-data-2020-09-14.csv\n",
      "ghana-kwofu-train.csv\n",
      "kenya-makueni-train.csv\n",
      "cameroon-finetune-3.csv\n",
      "ceo-makueni-fix-2-sample-data-2020-10-22.csv\n",
      "ceo-brazil-mid-coast-sample-data-2020-07-24.csv\n",
      "lac-south-train.csv\n",
      "india-sidhi-train.csv\n",
      "cameroon-finetune-2.csv\n",
      "koure-finetune.csv\n",
      "kenya-makueni-train-2.csv\n",
      "ceo-brazil-paraiba-train-sample-data-2020-07-22.csv\n",
      "kenya-planet.csv\n",
      "ghana-ashanti-train-2.csv\n",
      "africa-east-train.csv\n",
      "mexico-campeche-train.csv\n",
      "ghana-farm-train.csv\n",
      "sa-train.csv\n",
      "europe-sw-asia-train.csv\n",
      "ghana-south-train.csv\n",
      "centralasia-train.csv\n",
      "ceo-lac-random-points-sample-data-2020-07-29.csv\n",
      "honduras-2-train.csv\n",
      "cameroonnigerghana-train.csv\n",
      "ceo-br-gain-4-sample-data-2020-09-29.csv\n",
      "malawi-rumphi-train.csv\n",
      "ceo-elsalvador-train-sample-data-2020-07-22.csv\n",
      "ghana-ashanti-train-small.csv\n",
      "ghana-train.csv\n",
      "ceo-south-central-america-train.csv\n",
      "kenya-train.csv\n",
      "ceo-brazil-gain-overall-sample-data-2020-10-08.csv\n",
      "india-train.csv\n",
      "ceo-brazil-south-small-sample-data-2020-07-23.csv\n",
      "ceo-makueni-fix-sample-data-2020-10-20.csv\n",
      "ceo-brazil-finetune2-sample-data-2020-09-14.csv\n",
      "ceo-brazil-sao-paulo-sample-data-2020-07-29.csv\n",
      "malawi-rumphi-small.csv\n",
      "ceo-brazil-south-sample-data-2020-07-23.csv\n",
      "ceo-el-salvador-train-sample-data-2020-07-29.csv\n",
      "honduras-train.csv\n",
      "ceo-guatemala-new-sample-data-2020-07-23.csv\n",
      "rwanda-train.csv\n",
      "cameroon-train.csv\n",
      "hyperarid-train.csv\n",
      "subplot4.csv\n",
      "kenya-farm-train-2.csv\n",
      "honduras-region-val.csv\n",
      "india-kochi-train.csv\n",
      "subplot.csv\n",
      "southamerica-train.csv\n",
      "ceo-br-gain-3-sample-data-2020-09-30.csv\n",
      "sudan-train.csv\n",
      "ceo-guatemala-train-1-sample-data.csv\n",
      "ceo-ethiopia-finetune-sample-data.csv\n",
      "ceo-brazil-sao-paulo-finetune2-sample-data-2020-09-18.csv\n",
      "ceo-brazil-random-sample-data-2020-07-29.csv\n",
      "niger-train.csv\n",
      "subplot2.csv\n",
      "ceo-brazil-gain-sample-data-2020-09-18.csv\n",
      "honduras-val.csv\n",
      "subplot3.csv\n",
      "tanzania-subregion-val.csv\n",
      "ceo-lac-north-train-sample-data-2020-07-22.csv\n",
      "northamerica-train.csv\n",
      "ghana-ashanti-train.csv\n",
      "ghana-upperwest-train.csv\n",
      "ceo-br-gain-5-sample-data-2020-09-30.csv\n",
      "malawi-train.csv\n",
      "honduras-train-north.csv\n",
      "africa-west-train.csv\n",
      "ghana-kwofu-large.csv\n",
      "lac-train.csv\n",
      "ghana-mid-train.csv\n",
      "ghana-kwofu-small-train.csv\n",
      "ghana-region-val-2.csv\n",
      "cameroon-finetune.csv\n",
      "kenya-farm-train.csv\n",
      "ghana-subregion-val.csv\n",
      "ghana-region-val-1.csv\n",
      "australia-train.csv\n",
      "ceo-brazil-sao-paulo-2-sample-data-2020-07-29.csv\n",
      "koure-train.csv\n"
     ]
    },
    {
     "name": "stderr",
     "output_type": "stream",
     "text": [
      "/Users/john.brandt/.local/lib/python3.6/site-packages/ipykernel_launcher.py:35: FutureWarning: Sorting because non-concatenation axis is not aligned. A future version\n",
      "of pandas will change to not sort by default.\n",
      "\n",
      "To accept the future behavior, pass 'sort=False'.\n",
      "\n",
      "To retain the current behavior and silence the warning, pass 'sort=True'.\n",
      "\n"
     ]
    }
   ],
   "source": [
    "# For either train or test data, loop through each plot and determine whether there is\n",
    "# labelled Y data for it -- returning one dataframe for the entire data set\n",
    "\n",
    "dfs = []\n",
    "for i in os.listdir(csv_path):\n",
    "    if \".csv\" in i:#\".csv\" in i:\n",
    "    #if any([x in i for x in region]):\n",
    "        print(i)\n",
    "        df = pd.read_csv(csv_path + i)\n",
    "        df.columns = [x.upper() for x in df.columns]\n",
    "        df = df.drop('IMAGERY_TITLE', axis = 1)\n",
    "        df['country'] = i.split(\".\")[0]\n",
    "        dfs.append(df)\n",
    "\n",
    "for i in range(len(dfs)):\n",
    "    \n",
    "    if \"PL_PLOTID\" not in dfs[i].columns:\n",
    "        dfs[i]['PL_PLOTID'] = 0\n",
    "            #dfs[i] = dfs[i].drop(\"PL_PLOTID\", axis = 1)\n",
    "    if 'STACKINGPROFILEDG' in dfs[i].columns:\n",
    "        dfs[i] = dfs[i].drop('STACKINGPROFILEDG', axis = 1)\n",
    "    if 'IMAGERYYEARDG' in dfs[i].columns:\n",
    "        dfs[i] = dfs[i].drop('IMAGERYYEARDG', axis = 1)\n",
    "    if 'IMAGERYDATESECUREWATCH' in dfs[i].columns:\n",
    "        dfs[i] = dfs[i].drop('IMAGERYDATESECUREWATCH', axis = 1)\n",
    "    if 'IMAGERYENDDATESECUREWATCH' in dfs[i].columns:\n",
    "        dfs[i] = dfs[i].drop('IMAGERYENDDATESECUREWATCH', axis = 1)\n",
    "    if 'IMAGERYSTARTDATESECUREWATCH' in dfs[i].columns:\n",
    "        dfs[i] = dfs[i].drop('IMAGERYSTARTDATESECUREWATCH', axis = 1)\n",
    "    if 'IMAGERYFEATUREPROFILESECUREWATCH' in dfs[i].columns:\n",
    "        dfs[i] = dfs[i].drop('IMAGERYFEATUREPROFILESECUREWATCH', axis = 1)\n",
    "    if 'PL_PLOTID' in dfs[i].columns:\n",
    "        dfs[i] = dfs[i].drop('PL_PLOTID', axis = 1)\n",
    "\n",
    "df = pd.concat(dfs, ignore_index = True)\n",
    "df = df[~pd.isna(df['TREE'])]\n",
    "#df = df.dropna(axis = 0)\n",
    "\n",
    "plot_ids = sorted(df['PLOT_ID'].unique())\n",
    "plot_ids_loaded = plot_ids"
   ]
  },
  {
   "cell_type": "code",
   "execution_count": 78,
   "metadata": {},
   "outputs": [
    {
     "data": {
      "text/plain": [
       "6434"
      ]
     },
     "execution_count": 78,
     "metadata": {},
     "output_type": "execute_result"
    }
   ],
   "source": [
    "len(plot_ids)"
   ]
  },
  {
   "cell_type": "code",
   "execution_count": 80,
   "metadata": {
    "scrolled": true
   },
   "outputs": [
    {
     "name": "stdout",
     "output_type": "stream",
     "text": [
      "\n"
     ]
    },
    {
     "data": {
      "application/vnd.jupyter.widget-view+json": {
       "model_id": "363358567f544b3e80c9b2b194aab0e0",
       "version_major": 2,
       "version_minor": 0
      },
      "text/plain": [
       "HBox(children=(IntProgress(value=0, max=6434), HTML(value='')))"
      ]
     },
     "metadata": {},
     "output_type": "display_data"
    },
    {
     "name": "stdout",
     "output_type": "stream",
     "text": [
      "\n",
      "Finished data loading\n"
     ]
    }
   ],
   "source": [
    "from scipy.ndimage import median_filter\n",
    "\n",
    "\n",
    "# Initiate empty lists to store the X and Y data in\n",
    "data_x, data_y, lengths = [], [], []\n",
    "    \n",
    "countries = {}\n",
    "count = 0\n",
    "to_remove = []\n",
    "plot_ids_loaded = []\n",
    "pl_plot_ids_loaded = []\n",
    "dataframe = pd.DataFrame({'plot_id': [''], 'lat': [0.325], 'long': [0.325]})\n",
    "\n",
    "sentinel_1_len = []\n",
    "\n",
    "# Iterate over each plot\n",
    "for i in tnrange(len(plot_ids)):\n",
    "    s1_i = f'{s1_path}{str(plot_ids[i])}.npy'\n",
    "    s2_i = f'{s2_path}{str(plot_ids[i])}.npy'\n",
    "    dem_i = f'{dem_path}{str(plot_ids[i])}.npy'\n",
    "    if not os.path.isfile(s1_i):\n",
    "        s1_i = f'../data/{source}-s1/{str(plot_ids[i])}.npy'\n",
    "        #print(s1_i)\n",
    "    if os.path.isfile(s2_i):\n",
    "        if plot_ids[i] not in verified_lu_change:\n",
    "            country = df[df['PLOT_ID'] == plot_ids[i]]['country'].unique()\n",
    "            if str(country[0]) not in countries.keys():\n",
    "                countries[str(country[0])] = [count, count]\n",
    "\n",
    "            countries[str(country[0])][1] = count\n",
    "            x = np.load(s2_i)\n",
    "            #s1 = np.load(s1_i)\n",
    "            dem = np.load(dem_i)\n",
    "            dem =  median_filter(dem, size = 5)\n",
    "            dem = calcSlope(dem.reshape((1, 32+2, 32+2)),\n",
    "                              np.full((32+2, 32+2), 10),\n",
    "                              np.full((32+2, 32+2), 10), \n",
    "                              zScale = 1, minSlope = 0.02)\n",
    "            dem = dem / 90\n",
    "            dem = dem.reshape((32+2, 32+2, 1))\n",
    "            dem = dem[1:-1, 1:-1]\n",
    "            dem = median_filter(dem, 5)[4:-4, 4:-4]\n",
    "            dem = np.tile(dem.reshape((1, 24, 24)), (x.shape[0], 1, 1))\n",
    "            x[..., 10] = dem\n",
    "            #x = np.concatenate([x, s1], axis = -1)\n",
    "            count += 1\n",
    "            y = reconstruct_images(plot_ids[i])\n",
    "            long = np.mean(df[df['PLOT_ID'] == plot_ids[i]]['LON'])\n",
    "            lat = np.mean(df[df['PLOT_ID'] == plot_ids[i]]['LAT'])\n",
    "            dataframe = dataframe.append({'plot_id': str(plot_ids[i]), 'lat': lat, 'long': long}, ignore_index = True)\n",
    "            dataframe.append([plot_ids[i], lat, long])\n",
    "            plot_ids_loaded.append(str(plot_ids[i]))\n",
    "            lengths.append(x.shape[0])\n",
    "            data_x.append(x)\n",
    "            data_y.append(y)\n",
    "print(\"Finished data loading\")\n",
    "\n",
    "data_x = np.stack(data_x)\n",
    "data_x = np.float32(data_x)\n",
    "data_y = np.stack(data_y)\n",
    "lengths = np.stack(lengths)"
   ]
  },
  {
   "cell_type": "code",
   "execution_count": 81,
   "metadata": {},
   "outputs": [],
   "source": [
    "import hickle as hkl\n",
    "if source == 'train':\n",
    "    hkl.dump(data_x, \"../tile_data/processed/train_x.hkl\", mode='w', compression='gzip')\n",
    "    hkl.dump(data_y, \"../tile_data/processed/train_y.hkl\", mode='w', compression='gzip')\n",
    "    hkl.dump(lengths, \"../tile_data/processed/train_l.hkl\", mode='w', compression='gzip')\n",
    "\n",
    "if source == 'test' or source == \"project\":\n",
    "    print(\"Writing test data\")\n",
    "    hkl.dump(data_x, \"../tile_data/processed/test_x.hkl\", mode='w', compression='gzip')\n",
    "    hkl.dump(data_y, \"../tile_data/processed/test_y.hkl\", mode='w', compression='gzip')\n",
    "    hkl.dump(lengths, \"../tile_data/processed/test_lengths.hkl\", mode='w', compression='gzip')"
   ]
  },
  {
   "cell_type": "code",
   "execution_count": 82,
   "metadata": {},
   "outputs": [],
   "source": [
    "dataframe = dataframe.drop(0, 0)\n",
    "dataframe.reset_index(inplace = True, drop = True)\n",
    "dataframe.to_csv(f\"../tile_data/processed/{source}_plot_ids.csv\", index = False)\n"
   ]
  }
 ],
 "metadata": {
  "kernelspec": {
   "display_name": "remote_sensing",
   "language": "python",
   "name": "remote_sensing"
  },
  "language_info": {
   "codemirror_mode": {
    "name": "ipython",
    "version": 3
   },
   "file_extension": ".py",
   "mimetype": "text/x-python",
   "name": "python",
   "nbconvert_exporter": "python",
   "pygments_lexer": "ipython3",
   "version": "3.6.8"
  }
 },
 "nbformat": 4,
 "nbformat_minor": 2
}
