{
 "cells": [
  {
   "cell_type": "markdown",
   "metadata": {},
   "source": [
    "# Master model development\n",
    "\n",
    "## John Brandt\n",
    "\n",
    "### Last updated: November 16 2019"
   ]
  },
  {
   "cell_type": "markdown",
   "metadata": {},
   "source": [
    "*  Package loading\n",
    "*  Hyperparameter definitions\n",
    "*  Additional layer definitions\n",
    "*  Model definition\n",
    "*  Data loading\n",
    "*  Data preprocessing\n",
    "*  K means clustering\n",
    "*  Augment training data\n",
    "*  Loss definition\n",
    "*  Equibatch creation\n",
    "*  Model training\n",
    "*  Model validation and sanity checks"
   ]
  },
  {
   "cell_type": "markdown",
   "metadata": {},
   "source": [
    "# Experiment log\n",
    "*  Master version - 0.620 F1 after 70 epochs\n",
    "    * Stacked 1x1 intro conv + conv - selu, no BN - 0.616 after 20 epochs\n",
    "    * Remove 2 Conv Selus, GRU - FPA - Conv - Sigmoid, 60k params, 0.6\n",
    "    * New indices are calculated correctly\n",
    "    * Simpler FPA is more efficient with more stable learning\n",
    "    * Lovasz works best per-image (0.61 vs. 0.56)\n",
    "    * Boundary loss overfits with non-smoothed data\n",
    "    * 14x14 input is a bad idea, because the border pixel makes sense for the final 3x3 conv\n",
    "    * Temporal attention and CSSE work together\n",
    "    * Min max scaling does not work\n",
    "    * [-1, 1] scaling is better than [0, 1] scaling\n",
    "    * DEM messes everything up because of banding every 10-15 meters, removing the slope improves test accuracy, but median filter with size of 5 may fix this issue\n",
    "    * Smoothing the time dimension seems to help\n",
    "    \n",
    "* Reduced parameter size to 10, 24, 24 -- 0.61\n",
    "\n",
    "* Smooth time dimension for all variable bands --\n",
    "\n",
    "* Stack FPA module rather than FPA - Conv SELU\n",
    "\n",
    "* FPA GRU - 1x1 GRU, 3x3 GRU, 5x5 Dilated GRU, combine hidden states within GRU\n",
    "\n",
    "* Test adding versus multiplying for the concatenation of scales"
   ]
  },
  {
   "cell_type": "code",
   "execution_count": 1,
   "metadata": {},
   "outputs": [
    {
     "name": "stderr",
     "output_type": "stream",
     "text": [
      "Using TensorFlow backend.\n"
     ]
    },
    {
     "name": "stdout",
     "output_type": "stream",
     "text": [
      "WARNING:tensorflow:From /Library/Frameworks/Python.framework/Versions/3.6/lib/python3.6/site-packages/tensorflow/python/framework/op_def_library.py:263: colocate_with (from tensorflow.python.framework.ops) is deprecated and will be removed in a future version.\n",
      "Instructions for updating:\n",
      "Colocations handled automatically by placer.\n"
     ]
    }
   ],
   "source": [
    "#TODO Remove imports that aren't needed to save RAM\n",
    "from tqdm import tqdm_notebook, tnrange\n",
    "import tensorflow as tf\n",
    "\n",
    "sess = tf.Session()\n",
    "from keras import backend as K\n",
    "K.set_session(sess)\n",
    "\n",
    "import keras\n",
    "from tensorflow.python.keras.layers import *\n",
    "from tensorflow.python.keras.layers import ELU\n",
    "from keras.losses import binary_crossentropy\n",
    "from tensorflow.python.ops import array_ops\n",
    "from tensorflow.python.keras.layers import Conv2D, Lambda, Dense, Multiply, Add, Bidirectional, ConvLSTM2D\n",
    "from tensorflow.python.keras.activations import selu\n",
    "from tensorflow.initializers import glorot_normal, lecun_normal\n",
    "\n",
    "import tensorflow.contrib.slim as slim\n",
    "from tensorflow.contrib.slim import conv2d\n",
    "\n",
    "import pandas as pd\n",
    "import numpy as np\n",
    "from random import shuffle\n",
    "import pandas as pd\n",
    "import seaborn as sns\n",
    "import matplotlib.pyplot as plt\n",
    "%matplotlib inline\n",
    "import os\n",
    "import random\n",
    "import itertools\n",
    "from tflearn.layers.conv import global_avg_pool\n",
    "from tensorflow.contrib.framework import arg_scope\n",
    "from keras.regularizers import l1\n",
    "from tensorflow.layers import batch_normalization\n",
    "from tensorflow.python.util import deprecation as deprecation\n",
    "deprecation._PRINT_DEPRECATION_WARNINGS = False\n",
    "\n",
    "os.environ['KMP_DUPLICATE_LIB_OK']='True'"
   ]
  },
  {
   "cell_type": "code",
   "execution_count": 2,
   "metadata": {},
   "outputs": [],
   "source": [
    "%run ../src/zoneout.py\n",
    "%run ../src/convgru.py\n",
    "%run ../src/lovasz.py\n",
    "%run ../src/utils.py\n",
    "%run ../src/adabound.py\n",
    "%run ../src/slope.py\n",
    "%run ../src/dropblock.py"
   ]
  },
  {
   "cell_type": "markdown",
   "metadata": {},
   "source": [
    "# Hyperparameter definitions"
   ]
  },
  {
   "cell_type": "code",
   "execution_count": 3,
   "metadata": {},
   "outputs": [
    {
     "name": "stdout",
     "output_type": "stream",
     "text": [
      "590 148\n"
     ]
    }
   ],
   "source": [
    "ZONE_OUT_PROB = 0.30\n",
    "L2_REG = 0.0\n",
    "INITIAL_LR = 2e-4\n",
    "FINAL_LR = 1e-3\n",
    "BN_MOMENTUM = 0.9\n",
    "BATCH_SIZE = 16\n",
    "TRAIN_RATIO = 0.8\n",
    "TEST_RATIO = 0.2\n",
    "MAX_DROPBLOCK = 0.85\n",
    "\n",
    "gru_flt = 22\n",
    "fpa_flt = 24\n",
    "out_conv_flt = 20\n",
    "\n",
    "\n",
    "AUGMENTATION_RATIO = 4\n",
    "IMAGE_SIZE = 16\n",
    "existing = [int(x[:-4]) for x in os.listdir('../data/training-data-nov-22/') if \".DS\" not in x]\n",
    "N_SAMPLES = len(existing)\n",
    "\n",
    "LABEL_SIZE = 14\n",
    "\n",
    "    \n",
    "TRAIN_SAMPLES = int((N_SAMPLES * AUGMENTATION_RATIO) * TRAIN_RATIO)\n",
    "TEST_SAMPLES = int((N_SAMPLES * AUGMENTATION_RATIO) - TRAIN_SAMPLES)\n",
    "print(TRAIN_SAMPLES // AUGMENTATION_RATIO, N_SAMPLES - (TRAIN_SAMPLES // AUGMENTATION_RATIO))"
   ]
  },
  {
   "cell_type": "markdown",
   "metadata": {},
   "source": [
    "# Additional layer definitions\n",
    "\n",
    "Some of these may be able to be removed, or moved to a src/*.py\n",
    "\n",
    "*  Conv SELU\n",
    "*  Conv BN ELU\n",
    "*  Feature pyramid attention (with downsample / upsample)\n",
    "*  Feature pyramid attention (w/o downsample / upsample)\n",
    "*  Temporal attention\n",
    "*  CSE, SSE, cCSE\n",
    "*  Reflection padding\n"
   ]
  },
  {
   "cell_type": "code",
   "execution_count": 4,
   "metadata": {},
   "outputs": [],
   "source": [
    "def conv_bn_elu(inp, is_training, kernel_size, scope, filter_count = 16, pad = True, padding = 'valid', dilated = False):\n",
    "    if not dilated:\n",
    "        padded = ReflectionPadding2D((1, 1,))(inp)\n",
    "        conv = Conv2D(filters = filter_count, kernel_size = (kernel_size, kernel_size), activation = selu,\n",
    "                        padding = padding, kernel_initializer = lecun_normal())(padded)\n",
    "    if not dilated and not pad:\n",
    "        conv = Conv2D(filters = filter_count, kernel_size = (kernel_size, kernel_size), activation = selu,\n",
    "                        padding = padding, kernel_initializer = lecun_normal())(inp)\n",
    "    if dilated:\n",
    "        padded = ReflectionPadding2D((2, 2,))(inp)\n",
    "        conv = Conv2D(filters = filter_count, kernel_size = (3, 3), activation = selu, dilation_rate = (2, 2),\n",
    "                        padding = padding, kernel_initializer = lecun_normal())(padded)\n",
    "    return conv\n",
    "    \n",
    "def fpa(inp, is_training, filter_count):\n",
    "    one = conv_bn_elu(inp, is_training, 1, 'forward1', filter_count, False, 'valid')\n",
    "    five = conv_bn_elu(inp, is_training, 5, 'down1', filter_count, False, 'valid')\n",
    "    five_f = conv_bn_elu(five, is_training, 5, 'down1_f', filter_count, False, 'valid')\n",
    "    three = conv_bn_elu(five, is_training, 3, 'down2', filter_count, False, 'valid')\n",
    "    three_f = conv_bn_elu(three, is_training, 3, 'down2_f', filter_count, False, 'valid')\n",
    "    \n",
    "    three_up = get_deconv2d(three_f, filter_count, filter_count, \"fpa1\", is_training)\n",
    "    five_up = get_deconv2d(five_f, filter_count, filter_count, \"fpa2\", is_training)\n",
    "    \n",
    "    print(\"One: {}\".format(one.shape))\n",
    "    print(\"Five: {}\".format(five.shape))\n",
    "    print(\"Five_F: {}\".format(five_f.shape))\n",
    "    print(\"Three: {}\".format(three.shape))\n",
    "    print(\"Three_f: {}\".format(three_f.shape))\n",
    "    print(\"Three_up: {}\".format(three_up.shape))\n",
    "    print(\"Five_up: {}\".format(five_up.shape))\n",
    "    \n",
    "    # top block\n",
    "    pooled = tf.keras.layers.GlobalAveragePooling2D()(inp)\n",
    "    one_top = conv_bn_elu(tf.reshape(pooled, (-1, 1, 1, pooled.shape[-1])),\n",
    "                          is_training, 1, 'top1', filter_count, pad = False)\n",
    "    four_top = tf.keras.layers.UpSampling2D((16, 16))(one_top)\n",
    "    print(\"Sixteen top: {}\".format(four_top.shape))\n",
    "    \n",
    "    \n",
    "    concat_1 = tf.multiply(one, tf.add(three_up, five_up))\n",
    "    concat_2 = tf.add(concat_1, four_top)\n",
    "    print(\"Feature pyramid attention shape {}\".format(concat_2.shape))\n",
    "    return concat_2\n",
    "\n",
    "def fpa(inp, is_training, filter_count, scope = 'fpa', topblock = False):\n",
    "    one = conv_bn_elu(inp, is_training, 1, scope + 'forward1', filter_count, False, 'valid')\n",
    "    three = conv_bn_elu(inp, is_training, 3, scope + 'down2', filter_count, True, 'valid') \n",
    "    five = conv_bn_elu(inp, is_training, 3, scope + 'down2', filter_count, True, 'valid', dilated = True) \n",
    "    concat_1 = tf.multiply(one, tf.add(three, five))\n",
    "    \n",
    "    if topblock:\n",
    "        pooled = tf.keras.layers.GlobalAveragePooling2D()(inp)\n",
    "        one_top = conv_bn_elu(tf.reshape(pooled, (-1, 1, 1, pooled.shape[-1])),\n",
    "                              is_training, 1, 'top1', filter_count, pad = False)\n",
    "        four_top = tf.keras.layers.UpSampling2D((16, 16))(one_top)\n",
    "        print(\"Sixteen top: {}\".format(four_top.shape))\n",
    "\n",
    "        concat_1 = tf.add(concat_1, four_top)\n",
    "    \n",
    "    return concat_1\n",
    "\n",
    "    \n",
    "def create_deconv_init(filter_size, num_channels):\n",
    "    bilinear_kernel = np.zeros([filter_size, filter_size], dtype=np.float32)\n",
    "    scale_factor = (filter_size + 1) // 2\n",
    "    if filter_size % 2 == 1:\n",
    "        center = scale_factor - 1\n",
    "    else:\n",
    "        center = scale_factor - 0.5\n",
    "    for x in range(filter_size):\n",
    "        for y in range(filter_size):\n",
    "            bilinear_kernel[x,y] = (1 - abs(x - center) / scale_factor) * \\\n",
    "                                   (1 - abs(y - center) / scale_factor)\n",
    "    weights = np.zeros((filter_size, filter_size, num_channels, num_channels))\n",
    "    for i in range(num_channels):\n",
    "        weights[:, :, i, i] = bilinear_kernel\n",
    "\n",
    "    #assign numpy array to constant_initalizer and pass to get_variable\n",
    "    bilinear_init = tf.constant_initializer(value=weights, dtype=tf.float32)\n",
    "    return bilinear_init\n",
    "\n",
    "\n",
    "def get_deconv2d(inp, filter_count, num_channels, scope, is_training):\n",
    "    bilinear_init = create_deconv_init(4, filter_count)\n",
    "    x = tf.keras.layers.Conv2DTranspose(filters = filter_count, kernel_size = (4, 4),\n",
    "                                        strides=(2, 2), padding='same', \n",
    "                                        kernel_initializer = bilinear_init)(inp)\n",
    "    x = ELU()(x)\n",
    "    x = Batch_Normalization(x, training=is_training, scope = scope + \"bn\")\n",
    "    return x\n",
    "\n",
    "\n",
    "def Batch_Normalization(x, training, scope):\n",
    "    return batch_normalization(inputs=x, \n",
    "                               momentum = BN_MOMENTUM, \n",
    "                               training=training,\n",
    "                               renorm = True,\n",
    "                               reuse=None,\n",
    "                               name = scope)\n",
    "\n",
    "def temporal_attention(inp, units):\n",
    "    # This rescales each output\n",
    "    # Timesteps that are more important get weighted higher\n",
    "    # Timesteps that are least important get weighted lower --> B, N, H, W, C\n",
    "    conved = TimeDistributed(Conv2D(units, (1, 1), padding = 'same', kernel_initializer = 'glorot_uniform',\n",
    "                            activation = 'tanh', strides = (1, 1)))(inp)\n",
    "    \n",
    "    \n",
    "    #conved = tf.reshape(conved, (-1, units, 16, 16, STEPS))\n",
    "    print(\"Attention weight shape: {}\".format(conved.shape))\n",
    "    conved = TimeDistributed(Conv2D(1, (1, 1), padding = 'same', kernel_initializer = 'glorot_uniform',\n",
    "                            activation = 'sigmoid', use_bias = False, strides = (1, 1)))(conved)\n",
    "    print(\"Conved sigmoid shape: {}\".format(conved.shape))\n",
    "    #conved = tf.reshape(conved, (-1, 24, 1, 1, 1))\n",
    "    \n",
    "    alphas = tf.reduce_sum(conved, axis = 1, keep_dims = True)\n",
    "    print(\"Attention alphas: {}\".format(alphas.shape))\n",
    "    # We need to calculate the total sum for each pixel for each channel, so that we can combine them\n",
    "    alphas = conved / alphas\n",
    "    print(\"Attention weight shapes {}\".format(alphas.shape))\n",
    "    \n",
    "    # This actually multiplies the Conv by the input\n",
    "    multiplied = tf.reduce_sum(alphas * inp, axis = 1)\n",
    "    return multiplied"
   ]
  },
  {
   "cell_type": "code",
   "execution_count": 5,
   "metadata": {},
   "outputs": [],
   "source": [
    "def cse_block(prevlayer, prefix):\n",
    "    mean = Lambda(lambda xin: K.mean(xin, axis=[1, 2]))(prevlayer)\n",
    "    lin1 = Dense(K.int_shape(prevlayer)[3] // 2, name=prefix + 'cse_lin1', activation='relu')(mean)\n",
    "    lin2 = Dense(K.int_shape(prevlayer)[3], name=prefix + 'cse_lin2', activation='sigmoid')(lin1)\n",
    "    x = Multiply()([prevlayer, lin2])\n",
    "    return x\n",
    "\n",
    "\n",
    "def sse_block(prevlayer, prefix):\n",
    "    conv = Conv2D(1, (1, 1), padding=\"same\", kernel_initializer=\"glorot_uniform\",\n",
    "                  activation='sigmoid', strides=(1, 1),\n",
    "                  name=prefix + \"_conv\")(prevlayer)\n",
    "    conv = Multiply(name=prefix + \"_mul\")([prevlayer, conv])\n",
    "    return conv\n",
    "\n",
    "\n",
    "def csse_block(x, prefix):\n",
    "    '''\n",
    "    Implementation of Concurrent Spatial and Channel ‘Squeeze & Excitation’ in Fully Convolutional Networks\n",
    "    https://arxiv.org/abs/1803.02579\n",
    "    '''\n",
    "    cse = cse_block(x, prefix)\n",
    "    sse = sse_block(x, prefix)\n",
    "    x = Add(name=prefix + \"_csse_mul\")([cse, sse])\n",
    "\n",
    "    return x\n",
    "\n",
    "class ReflectionPadding2D(Layer):\n",
    "    def __init__(self, padding=(1, 1), **kwargs):\n",
    "        self.padding = tuple(padding)\n",
    "        self.input_spec = [InputSpec(ndim=4)]\n",
    "        super(ReflectionPadding2D, self).__init__(**kwargs)\n",
    "\n",
    "    def compute_output_shape(self, s):\n",
    "        \"\"\" If you are using \"channels_last\" configuration\"\"\"\n",
    "        return (s[0], s[1] + 2 * self.padding[0], s[2] + 2 * self.padding[1], s[3])\n",
    "\n",
    "    def call(self, x, mask=None):\n",
    "        w_pad,h_pad = self.padding\n",
    "        return tf.pad(x, [[0,0], [h_pad,h_pad], [w_pad,w_pad], [0,0] ], 'REFLECT')\n",
    "    \n",
    "def gru_block(inp, length, size, flt, scope, train, normalize = True):\n",
    "    with tf.variable_scope(scope):\n",
    "        print(\"GRU input shape {}, zoneout: {}\".format(inp.shape, ZONE_OUT_PROB))\n",
    "        cell_fw = ConvGRUCell(shape = size, filters = flt,\n",
    "                           kernel = [3, 3], padding = 'VALID', normalize = normalize, fpa = True)\n",
    "        cell_bw = ConvGRUCell(shape = size, filters = flt,\n",
    "                           kernel = [3, 3], padding = 'VALID', normalize = normalize, fpa = True)\n",
    "        cell_fw = ZoneoutWrapper(\n",
    "           cell_fw, zoneout_drop_prob = ZONE_OUT_PROB, is_training = train)\n",
    "        cell_bw = ZoneoutWrapper(\n",
    "            cell_bw, zoneout_drop_prob = ZONE_OUT_PROB, is_training = train)\n",
    "        steps, out = convGRU(inp, cell_fw, cell_bw, length)\n",
    "        gru = tf.concat(out, axis = -1)\n",
    "        steps = tf.concat(steps, axis = -1)\n",
    "        print(\"Down block output shape {}\".format(gru.shape))\n",
    "    return gru, steps\n"
   ]
  },
  {
   "cell_type": "markdown",
   "metadata": {},
   "source": [
    "# Model definition\n",
    "\n",
    "## Placeholders"
   ]
  },
  {
   "cell_type": "code",
   "execution_count": 6,
   "metadata": {},
   "outputs": [],
   "source": [
    "n_bands = 17\n",
    "reg = keras.regularizers.l2(L2_REG) # for GRU\n",
    "inp = tf.placeholder(tf.float32, shape=(None, 24, IMAGE_SIZE, IMAGE_SIZE, n_bands))\n",
    "length = tf.placeholder(tf.int32, shape = (None, 1))\n",
    "labels = tf.placeholder(tf.float32, shape=(None, 14, 14))#, 1))\n",
    "keep_rate = tf.placeholder_with_default(1.0, ()) # For DropBlock\n",
    "length2 = tf.reshape(length, (-1,)) # Remove\n",
    "is_training = tf.placeholder_with_default(False, (), 'is_training') # For BN, DropBlock\n",
    "alpha = tf.placeholder(tf.float32, shape = ()) # For loss scheduling"
   ]
  },
  {
   "cell_type": "markdown",
   "metadata": {},
   "source": [
    "## Layers"
   ]
  },
  {
   "cell_type": "code",
   "execution_count": 7,
   "metadata": {},
   "outputs": [
    {
     "name": "stdout",
     "output_type": "stream",
     "text": [
      "GRU input shape (?, 24, 16, 16, 16), zoneout: 0.3\n",
      "(3, 3, 38, 44)\n",
      "(1, 1, 44, 1)\n",
      "(?, 16, 16, 44)\n",
      "(3, 3, 38, 44)\n",
      "(1, 1, 44, 1)\n",
      "(?, 16, 16, 44)\n",
      "Down block output shape (?, 16, 16, 44)\n",
      "Sixteen top: (?, 16, 16, 24)\n",
      "Initializing last sigmoid bias with -2.94 constant\n"
     ]
    }
   ],
   "source": [
    "# Unsure if this block is better replaced by 1x1 ConvGRU output\n",
    "#stacked = tf.reshape(inp, (-1, 16, 16, n_bands*24))\n",
    "#pixel_information = Conv2D(filters = gru_flt, kernel_size = (1, 1),\n",
    "#            padding = 'valid', activation = selu, kernel_initializer = lecun_normal())(stacked)\n",
    "    \n",
    "# 3 x 3 GRU\n",
    "\n",
    "inp_first_half = inp[:, :, :, :, :10]\n",
    "inp_second_half = inp[:, :, :, :, 11:]\n",
    "no_dem = tf.concat([inp_first_half, inp_second_half], axis = -1)\n",
    "dem = tf.reshape(tf.reduce_mean(inp[:, :, :, :, 10], axis = 1), (-1, 16, 16, 1))\n",
    "gru_out, steps = gru_block(inp = no_dem, length = length2, \n",
    "                            size = [16, 16], \n",
    "                            flt = gru_flt, \n",
    "                            scope = 'down_16', \n",
    "                            train = is_training)\n",
    "\n",
    "# Skip connect, CSSE, 5x5 drop block\n",
    "#steps = temporal_attention(steps, gru_flt*2)# - unsure if more useful after smoothing\n",
    "#gru_out = gru_out + steps # identity concatenation for a skip connect\n",
    "gru_out = tf.concat([gru_out, dem], axis = -1)\n",
    "#gru_out = tf.concat([gru_out, pixel_information], axis = -1)\n",
    "csse1 = csse_block(gru_out, 'csse1')\n",
    "drop_block1 = DropBlock2D(keep_prob=keep_rate, block_size=5)\n",
    "csse1 = drop_block1(csse1, is_training)\n",
    "\n",
    "# Light FPA, CSSE, 4x4 Drop block\n",
    "fpa1 = fpa(csse1, is_training, fpa_flt, topblock = True)\n",
    "csse2 = csse_block(fpa1, 'csse2')\n",
    "drop_block2 = DropBlock2D(keep_prob=keep_rate, block_size=4)\n",
    "csse2 = drop_block2(csse2, is_training)\n",
    "\n",
    "\n",
    "# Skip connect\n",
    "x = tf.concat([csse2, csse1], axis = -1)\n",
    "\n",
    "# Conv SELU, 3x3 drop\n",
    "x = fpa(x, is_training, fpa_flt)\n",
    "x = csse_block(x, 'csse3')\n",
    "#x = conv_bn_elu(x, is_training, 3, \"out_1\", out_conv_flt, True, 'valid')\n",
    "drop_block4 = DropBlock2D(keep_prob=keep_rate, block_size=3)\n",
    "x = drop_block4(x, is_training)\n",
    "\n",
    "hypercolumn = tf.concat([csse1, csse2, x], axis = -1)\n",
    "\n",
    "# Conv SELU, 16x16 - 14x14\n",
    "x = conv_bn_elu(hypercolumn, is_training, 3, \"out_2\", out_conv_flt, False, 'valid')\n",
    "\n",
    "print(\"Initializing last sigmoid bias with -2.94 constant\")\n",
    "init = tf.constant_initializer([-np.log(0.7/0.3)]) # For focal loss\n",
    "fm = Conv2D(filters = 1,\n",
    "            kernel_size = (1, 1), \n",
    "            padding = 'valid',\n",
    "            activation = 'sigmoid',\n",
    "            bias_initializer = init,\n",
    "           )(x) # For focal loss"
   ]
  },
  {
   "cell_type": "code",
   "execution_count": 8,
   "metadata": {
    "scrolled": true
   },
   "outputs": [
    {
     "name": "stdout",
     "output_type": "stream",
     "text": [
      "This model has 139568 parameters\n"
     ]
    }
   ],
   "source": [
    "total_parameters = 0\n",
    "for variable in tf.trainable_variables():\n",
    "    shape = variable.get_shape()\n",
    "    variable_parameters = 1\n",
    "    for dim in shape:\n",
    "        variable_parameters *= dim.value\n",
    "    total_parameters += variable_parameters\n",
    "print(\"This model has {} parameters\".format(total_parameters))"
   ]
  },
  {
   "cell_type": "markdown",
   "metadata": {},
   "source": [
    "# Data loading\n",
    "\n",
    "*  Load in CSV data from Collect Earth\n",
    "*  Reconstruct the X, Y grid for the Y data per sample\n",
    "*  Calculate NDVI, EVI, SAVI, BI, MSAVI2, and SI\n",
    "*  Stack X, Y, length data\n",
    "*  Apply median filter to DEM"
   ]
  },
  {
   "cell_type": "code",
   "execution_count": 9,
   "metadata": {
    "scrolled": true
   },
   "outputs": [],
   "source": [
    "data_x = np.load(\"../data/processed/data_x_processed.npy\")\n",
    "data_y = np.load(\"../data/processed/data_y_processed.npy\")\n",
    "lengths = np.load(\"../data/processed/length_processed.npy\")"
   ]
  },
  {
   "cell_type": "code",
   "execution_count": 10,
   "metadata": {},
   "outputs": [
    {
     "data": {
      "application/vnd.jupyter.widget-view+json": {
       "model_id": "ed0cf16a9c52495e9ea52c6fba278200",
       "version_major": 2,
       "version_minor": 0
      },
      "text/plain": [
       "HBox(children=(IntProgress(value=0, max=738), HTML(value='')))"
      ]
     },
     "metadata": {},
     "output_type": "display_data"
    },
    {
     "name": "stdout",
     "output_type": "stream",
     "text": [
      "\n",
      "(738, 24, 16, 16, 17)\n"
     ]
    }
   ],
   "source": [
    "from scipy.ndimage import median_filter\n",
    "for sample in tnrange(0, len(data_x)):\n",
    "    filtered = median_filter(data_x[sample, 0, :, :, 10], size = 5)\n",
    "    data_x[sample, :, :, :, 10] = np.stack([filtered] * 24)\n",
    "    \n",
    "#data_x = np.delete(data_x, 10, -1)\n",
    "print(data_x.shape)"
   ]
  },
  {
   "cell_type": "markdown",
   "metadata": {},
   "source": [
    "# Data preprocessing\n",
    "\n",
    "*  Identify and remove samples with time steps / channels that have a 0. or 1. value, which indicates missing data\n",
    "*  Identify and remove samples with time steps / channels with no variation, which indicates missing data\n",
    "*  Identify and remove samples with values above or below the allowable values for the band\n",
    "*  Smooth per-pixel temporal data with Whittaker smoother, d = 2, lambda = 0.5 to reduce sample noise"
   ]
  },
  {
   "cell_type": "code",
   "execution_count": 11,
   "metadata": {
    "scrolled": true
   },
   "outputs": [
    {
     "name": "stdout",
     "output_type": "stream",
     "text": [
      "The outliers are: [646, 395, 532, 405, 406, 285, 287, 672, 677, 555, 431, 690, 696, 318, 703, 336, 337, 464, 349, 225, 609, 361, 502, 636], totalling 24\n",
      "\n",
      "\n",
      "[-2.02274, -2.1682515, -5.251549, -1.889741, -56.494648, -1.2570096, -1.6505336, -1.3134434, -1.204015, -1.217089, -1.352844, -3.0509725, -1.1881092, -72.33822, -21.408234, -1.9772904, -720.65295, -1.2607481, -3.1381047, -30.428623, -1.2273909, -55.59503, -1.4450656, -1.376827] [1.4724505, 1.1190815, 2.3771608, 1.1454644, 1089.9442, 1.2019151, 1.9970052, 1.4503976]\n"
     ]
    }
   ],
   "source": [
    "below_1 = [i for i, val in enumerate(data_x) if np.min(val) < -1.10]\n",
    "above_1 = [i for i, val in enumerate(data_x) if np.max(val) > 1.10]\n",
    "min_vals = [np.min(val) for i, val in enumerate(data_x) if np.min(val) < -1.10]\n",
    "max_vals = [np.max(val) for i, val in enumerate(data_x) if np.max(val) > 1.10]\n",
    "outliers = below_1 + above_1\n",
    "outliers = list(set(outliers))\n",
    "print(\"The outliers are: {}, totalling {}\".format(outliers, len(outliers)))\n",
    "print(\"\\n\")\n",
    "print(min_vals, max_vals)\n",
    "data_x = data_x[[x for x in range(0, len(data_x)) if x not in outliers]]\n",
    "data_y = data_y[[x for x in range(0, len(data_y)) if x not in outliers]]\n",
    "lengths = lengths[[x for x in range(0, len(lengths)) if x not in outliers]]"
   ]
  },
  {
   "cell_type": "markdown",
   "metadata": {},
   "source": [
    "## Temporal Smoothing"
   ]
  },
  {
   "cell_type": "code",
   "execution_count": 23,
   "metadata": {},
   "outputs": [
    {
     "data": {
      "text/plain": [
       "<matplotlib.axes._subplots.AxesSubplot at 0x146024898>"
      ]
     },
     "execution_count": 23,
     "metadata": {},
     "output_type": "execute_result"
    },
    {
     "data": {
      "image/png": "[encoded data removed]",
      "text/plain": [
       "<Figure size 432x288 with 1 Axes>"
      ]
     },
     "metadata": {
      "needs_background": "light"
     },
     "output_type": "display_data"
    }
   ],
   "source": [
    "sns.scatterplot(y = data_x[255, :, 10, 14, 5], x = [x for x in range(24)])"
   ]
  },
  {
   "cell_type": "code",
   "execution_count": 20,
   "metadata": {},
   "outputs": [
    {
     "name": "stdout",
     "output_type": "stream",
     "text": [
      "The data has been scaled to [-1.0000001192092896, 1.0]\n"
     ]
    }
   ],
   "source": [
    "min_all = []\n",
    "max_all = []\n",
    "for band in range(0, data_x.shape[-1]):\n",
    "\n",
    "    mins, maxs = (np.min(data_x[:, :, :, :, band]), np.max(data_x[:, :, :, :, band]))\n",
    "    midrange = (maxs + mins) / 2\n",
    "    rng = maxs - mins\n",
    "    standardized = (data_x[:, :, :, :, band] - midrange) / (rng / 2)\n",
    "    data_x[:, :, :, :, band] = standardized\n",
    "    \n",
    "    min_all.append(mins)\n",
    "    max_all.append(maxs)\n",
    "    \n",
    "print(\"The data has been scaled to [{}, {}]\".format(np.min(data_x), np.max(data_x)))"
   ]
  },
  {
   "cell_type": "code",
   "execution_count": 21,
   "metadata": {},
   "outputs": [
    {
     "data": {
      "text/plain": [
       "<matplotlib.axes._subplots.AxesSubplot at 0x143d28940>"
      ]
     },
     "execution_count": 21,
     "metadata": {},
     "output_type": "execute_result"
    },
    {
     "data": {
      "image/png": "[encoded data removed]",
      "text/plain": [
       "<Figure size 432x288 with 1 Axes>"
      ]
     },
     "metadata": {
      "needs_background": "light"
     },
     "output_type": "display_data"
    }
   ],
   "source": [
    "sns.scatterplot(y = data_x[255, :, 10, 14, 5], x = [x for x in range(24)])"
   ]
  },
  {
   "cell_type": "markdown",
   "metadata": {},
   "source": [
    "# Split train, test"
   ]
  },
  {
   "cell_type": "code",
   "execution_count": 24,
   "metadata": {},
   "outputs": [],
   "source": [
    "df = pd.read_csv(\"../data/subplot.csv\")\n",
    "df1 = pd.read_csv(\"../data/subplot2.csv\")\n",
    "df2 = pd.read_csv(\"../data/subplot3.csv\")\n",
    "df3 = pd.read_csv(\"../data/subplot4.csv\")\n",
    "df4 = pd.read_csv(\"../data/kenya-train.csv\")\n",
    "\n",
    "df = df.drop('IMAGERY_TITLE', axis = 1).dropna(axis = 0)\n",
    "df1 = df1.drop('IMAGERY_TITLE', axis = 1).dropna(axis = 0)\n",
    "df2 = df2.drop('IMAGERY_TITLE', axis = 1).dropna(axis = 0)\n",
    "df3 = df3.drop('IMAGERY_TITLE', axis = 1).dropna(axis = 0)\n",
    "df4 = df4.drop('IMAGERY_TITLE', axis = 1).dropna(axis = 0)\n",
    "\n",
    "\n",
    "lens = [len(x) for x in [df, df1, df2, df3, df4]]\n",
    "\n",
    "df = pd.concat([df, df1, df2, df3, df4], ignore_index = True)\n",
    "df = df.dropna(axis = 0)\n",
    "\n",
    "existing = [int(x[:-4]) for x in os.listdir('../data/training-data-nov-22/') if \".DS\" not in x]\n",
    "N_SAMPLES = len(existing)\n",
    "df = df[df['PLOT_ID'].isin(existing)]\n",
    "N_SAMPLES = int(df.shape[0]/196)\n",
    "\n",
    "plot_ids = sorted(df['PLOT_ID'].unique())\n",
    "plot_ids2 = [val for x, val in enumerate(plot_ids) if x not in list(set([x for x in outliers]))]\n",
    "N_SAMPLES = len(data_x)"
   ]
  },
  {
   "cell_type": "markdown",
   "metadata": {},
   "source": [
    "# Positive (tree) and negative (background) pixel metrics"
   ]
  },
  {
   "cell_type": "code",
   "execution_count": 25,
   "metadata": {},
   "outputs": [],
   "source": [
    "#! In development\n",
    "\n",
    "positive_x = []\n",
    "negative_x = []\n",
    "\n",
    "#for sample in data_y:\n",
    "#    for row in range(0,14):\n",
    "#        for column in range(0,14):\n",
    "#            if data_y[sample, row, column] == 1:"
   ]
  },
  {
   "cell_type": "markdown",
   "metadata": {},
   "source": [
    "# Augment training data\n",
    "\n",
    "Horizontal and vertical flips for 4x augmentation.\n",
    "\n",
    "**To do**\n",
    "*  Random guassian noise\n",
    "*  Brightness, contrast\n",
    "*  Region swaps (randomply position positive samples at different locations)"
   ]
  },
  {
   "cell_type": "code",
   "execution_count": 26,
   "metadata": {},
   "outputs": [],
   "source": [
    "data_x_augmented = []\n",
    "data_y_augmented = []\n",
    "lengths_augmented = []\n",
    "\n",
    "for i, val in enumerate([x for x in range(len(data_x))]):\n",
    "    data_x_augmented.append(data_x[val])\n",
    "    data_y_augmented.append(data_y[val])\n",
    "    lengths_augmented.append(data_x[val].shape[0])\n",
    "    \n",
    "    x1 = np.flip(data_x[val], 1)\n",
    "    y1 = np.flip(data_y[val], 0)\n",
    "    lengths_augmented.append(x1.shape[0])\n",
    "    data_x_augmented.append(x1)\n",
    "    data_y_augmented.append(y1)\n",
    "    \n",
    "    x1 = np.flip(data_x[val], [2, 1])\n",
    "    y1 = np.flip(data_y[val], [1, 0])\n",
    "    lengths_augmented.append(x1.shape[0])\n",
    "    data_x_augmented.append(x1)\n",
    "    data_y_augmented.append(y1)\n",
    "    \n",
    "    x1 = np.flip(data_x[val], 2)\n",
    "    y1 = np.flip(data_y[val], 1)\n",
    "    lengths_augmented.append(x1.shape[0])\n",
    "    data_x_augmented.append(x1)\n",
    "    data_y_augmented.append(y1)\n",
    "\n",
    "train_x = np.stack(data_x_augmented)\n",
    "train_y = np.stack(data_y_augmented)\n",
    "train_y = np.reshape(train_y, (train_y.shape[0], 14, 14, 1))\n",
    "train_l = np.stack(lengths_augmented)\n",
    "train_l = np.reshape(train_l, (train_y.shape[0], 1))"
   ]
  },
  {
   "cell_type": "code",
   "execution_count": 27,
   "metadata": {},
   "outputs": [
    {
     "name": "stdout",
     "output_type": "stream",
     "text": [
      "The outliers are: [104, 108, 109, 120, 125], totalling 5\n",
      "\n",
      "\n",
      "[-34.743225, -1.0604124, -1.3436636, -4.8844295] [1.2737346, 2.60685]\n",
      "-1.0386096\n"
     ]
    },
    {
     "data": {
      "application/vnd.jupyter.widget-view+json": {
       "model_id": "29f97c5e5e18445ca926ae5204f8f023",
       "version_major": 2,
       "version_minor": 0
      },
      "text/plain": [
       "HBox(children=(IntProgress(value=0, max=122), HTML(value='')))"
      ]
     },
     "metadata": {},
     "output_type": "display_data"
    },
    {
     "name": "stdout",
     "output_type": "stream",
     "text": [
      "\n",
      "The data has been scaled to [-1.0, 1.0]\n",
      "(122, 24, 16, 16, 17)\n"
     ]
    }
   ],
   "source": [
    "test_x = np.load(\"../data/processed/test_x_processed.npy\")\n",
    "test_y = np.load(\"../data/processed/test_y_processed.npy\")\n",
    "test_lengths = np.load(\"../data/processed/test_length_processed.npy\")\n",
    "\n",
    "\n",
    "below_1 = [i for i, val in enumerate(test_x) if np.min(val) < -1.05]\n",
    "above_1 = [i for i, val in enumerate(test_x) if np.max(val) > 1.05]\n",
    "min_vals = [np.min(val) for i, val in enumerate(test_x) if np.min(val) < -1.05]\n",
    "max_vals = [np.max(val) for i, val in enumerate(test_x) if np.max(val) > 1.05]\n",
    "outliers = below_1 + above_1\n",
    "outliers = list(set(outliers))\n",
    "print(\"The outliers are: {}, totalling {}\".format(outliers, len(outliers)))\n",
    "print(\"\\n\")\n",
    "print(min_vals, max_vals)\n",
    "test_x = test_x[[x for x in range(0, len(test_x)) if x not in outliers]]\n",
    "test_y = test_y[[x for x in range(0, len(test_y)) if x not in outliers]]\n",
    "test_lengths = test_lengths[[x for x in range(0, len(test_lengths)) if x not in outliers]]\n",
    "print(np.min(test_x[19]))\n",
    "\n",
    "for sample in tnrange(0, len(test_x)):\n",
    "    filtered = median_filter(test_x[sample, 0, :, :, 10], size = 5)\n",
    "    test_x[sample, :, :, :, 10] = np.stack([filtered] * 24)\n",
    "\n",
    "#test_x = np.delete(test_x, 10, -1)\n",
    "    \n",
    "for band in range(0, test_x.shape[-1]):\n",
    "    mins = min_all[band]\n",
    "    maxs = max_all[band]\n",
    "    test_x[:, :, :, :, band] = np.clip(test_x[:, :, :, :, band], mins, maxs)\n",
    "    midrange = (maxs + mins) / 2\n",
    "    rng = maxs - mins\n",
    "    standardized = (test_x[:, :, :, :, band] - midrange) / (rng / 2)\n",
    "    test_x[:, :, :, :, band] = standardized\n",
    "    \n",
    "print(\"The data has been scaled to [{}, {}]\".format(np.min(test_x), np.max(test_x)))\n",
    "print(test_x.shape)"
   ]
  },
  {
   "cell_type": "code",
   "execution_count": 28,
   "metadata": {},
   "outputs": [
    {
     "name": "stdout",
     "output_type": "stream",
     "text": [
      "Train and test characteristics:\n",
      "Train mean Y 35.78688524590164\n",
      "Test STD Y 55.977341655556465\n",
      "Train mean NDVI\n",
      "Test mean NDVI\n"
     ]
    }
   ],
   "source": [
    "print(\"Train and test characteristics:\")\n",
    "print(\"Train mean Y {}\".format(np.mean([np.sum(x) for x in test_y])))\n",
    "#print(\"Test mean Y {}\".format(np.mean([np.sum(x) for x in data_y[test_ids]])))\n",
    "#print(\"Train STD Y {}\".format(np.std([np.sum(x) for x in data_y[train_ids]])))\n",
    "print(\"Test STD Y {}\".format(np.std([np.sum(x) for x in test_y])))\n",
    "#print(\"Train number with zero trees {}\".format(0.2*len([x for x in data_y[train_ids] if np.sum(x) == 0])))\n",
    "#print(\"Test number with zero trees {}\".format(0.8*len([x for x in data_y[test_ids] if np.sum(x) == 0])))\n",
    "print(\"Train mean NDVI\")\n",
    "print(\"Test mean NDVI\")\n",
    "#print(\"There are {} train and {} test samples\".format(len(train_ids), len(test_ids)))\n",
    "#print(\"There is {} overlap between train and test\".format(len([x for x in train_ids if x in test_ids])))"
   ]
  },
  {
   "cell_type": "code",
   "execution_count": 29,
   "metadata": {},
   "outputs": [
    {
     "data": {
      "text/plain": [
       "-0.973816"
      ]
     },
     "execution_count": 29,
     "metadata": {},
     "output_type": "execute_result"
    }
   ],
   "source": [
    "np.min(test_x[19, :, :, :])"
   ]
  },
  {
   "cell_type": "markdown",
   "metadata": {},
   "source": [
    "# Loss definition\n",
    "\n",
    "The current best loss is a combination of weighted binary cross entropy and per-image Lovasz-Softmax, with a loss schedule with the latter becoming more important each epoch"
   ]
  },
  {
   "cell_type": "code",
   "execution_count": 30,
   "metadata": {},
   "outputs": [],
   "source": [
    "from keras.losses import binary_crossentropy\n",
    "import math\n",
    "from scipy.ndimage import distance_transform_edt as distance\n",
    "\n",
    "def weighted_bce_loss(y_true, y_pred, weight, smooth = 0.025):\n",
    "    epsilon = 1e-7\n",
    "    y_pred = K.clip(y_pred, epsilon, 1. - epsilon)\n",
    "    y_true = K.clip(y_true, smooth, 1. - smooth)\n",
    "    logit_y_pred = K.log(y_pred / (1. - y_pred))\n",
    "    loss = tf.nn.weighted_cross_entropy_with_logits(\n",
    "        y_true,\n",
    "        logit_y_pred,\n",
    "        weight,\n",
    "    )\n",
    "    return tf.reduce_mean(loss)\n",
    "\n",
    "def calc_dist_map(seg):\n",
    "    res = np.zeros_like(seg)\n",
    "    posmask = seg.astype(np.bool)\n",
    "\n",
    "    if posmask.any():\n",
    "        negmask = ~posmask\n",
    "        res = distance(negmask) * negmask - (distance(posmask) - 1) * posmask\n",
    "\n",
    "    return res\n",
    "\n",
    "def calc_dist_map_batch(y_true):\n",
    "    y_true_numpy = y_true.numpy()\n",
    "    return np.array([calc_dist_map(y)\n",
    "                     for y in y_true_numpy]).astype(np.float32)\n",
    "\n",
    "def surface_loss(y_true, y_pred):\n",
    "    y_true_dist_map = tf.py_function(func=calc_dist_map_batch,\n",
    "                                     inp=[y_true],\n",
    "                                     Tout=tf.float32)\n",
    "    multipled = y_pred * y_true_dist_map\n",
    "    return K.mean(multipled)\n",
    "\n",
    "\n",
    "def bce_lv(y_true, y_pred, alpha, smooth = 0.075, mask = None, ):\n",
    "    bce = (0.95 - alpha) * weighted_bce_loss(y_true, y_pred, 1.5, smooth = smooth)\n",
    "    #surf = surface_loss(y_true, y_pred)\n",
    "    lv = (0.05 + alpha) * lovasz_softmax(y_pred, tf.reshape(y_true, (-1, 14, 14)), classes=[1], per_image=True)\n",
    "    #global_loss = (1 - alpha) * (bce + lv)\n",
    "    #regional_loss = alpha * surf\n",
    "    return bce+lv\n",
    "\n",
    "\n",
    "def lovasz(y_true, y_pred):\n",
    "    lv = lovasz_softmax(y_pred, tf.reshape(y_true, (-1, 14, 14)), classes=[1], per_image=True)\n",
    "    return lv\n",
    "\n",
    "#! Move to a src.py\n",
    "def calculate_metrics():\n",
    "    best_f1 = 0\n",
    "    best_thresh = 0\n",
    "    p = 0\n",
    "    r = 0\n",
    "    error = 0\n",
    "    ys = []\n",
    "    vls = []\n",
    "    t_alls = []\n",
    "    test_ids = [x for x in range(len(test_x)) if x not in [11, 110, 3, 100, 47]]\n",
    "    for test_sample in test_ids:\n",
    "        y, vl = sess.run([fm, test_loss], feed_dict={inp: test_x[test_sample].reshape(1, 24, 16, 16, n_bands),\n",
    "                                          length: test_lengths[test_sample].reshape(1, 1),\n",
    "                                          is_training: False,\n",
    "                                          labels: test_y[test_sample, :, :].reshape(1, 14, 14),\n",
    "                                          })\n",
    "        ys.append(y.reshape((14, 14)))\n",
    "        vls.append(vl)\n",
    "        t = test_y[test_sample].reshape((14, 14))\n",
    "        t_alls.append(t)\n",
    "    for thresh in range(8, 13):\n",
    "        tps = []\n",
    "        fps = []\n",
    "        fns = []\n",
    "        perc_error = []\n",
    "        trues = []\n",
    "        preds = []\n",
    "        val_loss = []\n",
    "        for sample in range(len(ys)):\n",
    "            pred = np.copy(ys[sample])\n",
    "            true = t_alls[sample]\n",
    "            vl = vls[sample]\n",
    "            pred[np.where(pred > thresh*0.05)] = 1\n",
    "            pred[np.where(pred < thresh*0.05)] = 0\n",
    "            true_s = np.sum(true)\n",
    "            pred_s = np.sum(pred)\n",
    "\n",
    "            perc_error.append(abs(pred_s - true_s) / 196)\n",
    "            tp, fp, fn = thirty_meter(true, pred)\n",
    "            tps.append(tp)\n",
    "            fps.append(fp)\n",
    "            fns.append(fn)\n",
    "            trues.append(true_s)\n",
    "            preds.append(pred_s)\n",
    "            val_loss.append(np.mean(vl))\n",
    "        oa_error = abs(np.sum(preds) - np.sum(trues)) / np.sum(trues)\n",
    "        precision = np.sum(tps) / (np.sum(tps) + np.sum(fps))\n",
    "        recall = np.sum(tps) / (np.sum(tps) + np.sum(fns))\n",
    "        f1 = 2*((precision* recall) / (precision + recall))\n",
    "        if f1 > best_f1:\n",
    "            best_f1 = f1\n",
    "            p = precision\n",
    "            r = recall\n",
    "            error = oa_error\n",
    "            best_thresh = thresh*0.05\n",
    "    print(\"Val loss: {} Thresh: {} F1: {} Recall: {} Precision: {} Error: {}\".format(np.around(np.mean(val_loss), 3), np.around(best_thresh, 2),\n",
    "                                                                                     np.around(best_f1, 3), np.around(p, 3), np.around(r, 3), \n",
    "                                                                                     np.around(error, 3)))\n",
    "    return best_f1"
   ]
  },
  {
   "cell_type": "code",
   "execution_count": 38,
   "metadata": {},
   "outputs": [
    {
     "data": {
      "text/plain": [
       "[0.0, 0.0, 0.0, 0.0, 5.0, 12.0, 21.0, 32.0, 46.0, 82.10000000000014]"
      ]
     },
     "execution_count": 38,
     "metadata": {},
     "output_type": "execute_result"
    }
   ],
   "source": [
    "[np.percentile(np.sum(data_y, axis = (1, 2)), x) for x in range(0, 100, 10)]"
   ]
  },
  {
   "cell_type": "markdown",
   "metadata": {},
   "source": [
    "# Equibatch creation"
   ]
  },
  {
   "cell_type": "code",
   "execution_count": 39,
   "metadata": {},
   "outputs": [],
   "source": [
    "train_ids = [x for x in range(0, len(train_y))]\n",
    "\n",
    "def multiplot(matrices):\n",
    "    '''Plot multiple heatmaps with subplots'''\n",
    "    fig, axs = plt.subplots(ncols=4)\n",
    "    fig.set_size_inches(20, 4)\n",
    "    for i, matrix in enumerate(matrices):\n",
    "        sns.heatmap(data = matrix, ax = axs[i], vmin = 0, vmax = 0.9)\n",
    "        axs[i].set_xlabel(\"\")\n",
    "        axs[i].set_ylabel(\"\")\n",
    "        axs[i].set_yticks([])\n",
    "        axs[i].set_xticks([])\n",
    "    plt.show()\n",
    "\n",
    "def equibatch(train_ids, lovasz = False):\n",
    "    first_len = 5\n",
    "    second_len = 9\n",
    "    third_len = 14\n",
    "    np.random.shuffle(train_ids)\n",
    "    ix = train_ids\n",
    "    percs = [np.sum(x) for x in train_y[ix]]\n",
    "    zero_ids = [x for x, z in zip(ix, percs) if z == 0]\n",
    "    one_ids = [x for x, z in zip(ix, percs) if 0 < z <= first_len]\n",
    "    two_ids = [x for x, z in zip(ix, percs) if first_len < z <= second_len]\n",
    "    three_ids = [x for x, z in zip(ix, percs) if second_len < z <= third_len]\n",
    "    four_ids = [x for x, z in zip(ix, percs) if third_len < z <= 19]\n",
    "    five_ids = [x for x, z in zip(ix, percs) if 19 < z < 27]\n",
    "    six_ids = [x for x, z in zip(ix, percs) if 27 < z <= 33]\n",
    "    seven_ids = [x for x, z in zip(ix, percs) if 33 < z <= 41]\n",
    "    eight_ids = [x for x, z in zip(ix, percs) if 41 < z <= 56]\n",
    "    nine_ids =  [x for x, z in zip(ix, percs) if 56 < z <= 80]\n",
    "    ten_ids =  [x for x, z in zip(ix, percs) if 80 < z <= 120]\n",
    "    eleven_ids = [x for x, z in zip(ix, percs) if 120 < z]\n",
    "    #ten_ids = [x for x, z in zip(ix, percs) if 125 < z]\n",
    "\n",
    "    new_batches = []\n",
    "    maxes = [len(zero_ids), len(one_ids), len(two_ids), len(three_ids), len(four_ids),\n",
    "             len(five_ids), len(six_ids), len(seven_ids), len(eight_ids), len(nine_ids), len(ten_ids), len(eleven_ids)]#, len(ten_ids)]\n",
    "    cur_ids = [0] * 12\n",
    "    iter_len = len(train_ids)//(len(maxes)+3) if not lovasz else len(train_ids)//8\n",
    "    for i in range(0, iter_len):\n",
    "        for i, val in enumerate(cur_ids):\n",
    "            if val > maxes[i] - 1:\n",
    "                cur_ids[i] = 0\n",
    "        if cur_ids[0] >= (maxes[0] - 2):\n",
    "            cur_ids[0] = 0\n",
    "        to_append = [zero_ids[cur_ids[0]], zero_ids[cur_ids[0] + 1], one_ids[cur_ids[1]], two_ids[cur_ids[2]],\n",
    "                    three_ids[cur_ids[3]], four_ids[cur_ids[4]], five_ids[cur_ids[5]],\n",
    "                    six_ids[cur_ids[6]], seven_ids[cur_ids[7]], eight_ids[cur_ids[8]],\n",
    "                               nine_ids[cur_ids[9]], ten_ids[cur_ids[10]], eleven_ids[cur_ids[11]]]\n",
    "        \n",
    "        np.random.shuffle(to_append)\n",
    "        new_batches.append(to_append)\n",
    "        cur_ids = [x + 1 for x in cur_ids]\n",
    "        cur_ids[0] += 1\n",
    "        \n",
    "    new_batches = [item for sublist in new_batches for item in sublist]\n",
    "    #overlap = [x for x in new_batches if x in test_ids]\n",
    "    #print(\"There is {} overlap. Error if > 0\".format(len(overlap)))\n",
    "    return new_batches"
   ]
  },
  {
   "cell_type": "code",
   "execution_count": 40,
   "metadata": {},
   "outputs": [
    {
     "data": {
      "image/png": "[encoded data removed]",
      "text/plain": [
       "<Figure size 1440x288 with 8 Axes>"
      ]
     },
     "metadata": {
      "needs_background": "light"
     },
     "output_type": "display_data"
    }
   ],
   "source": [
    "#! Todo: Move to one cell, rather than 3\n",
    "batch = equibatch(train_ids, True)\n",
    "multiplot([x.reshape((14, 14)) for x in train_y[batch[:4]]])"
   ]
  },
  {
   "cell_type": "code",
   "execution_count": 41,
   "metadata": {},
   "outputs": [
    {
     "data": {
      "image/png": "[encoded data removed]",
      "text/plain": [
       "<Figure size 1440x288 with 8 Axes>"
      ]
     },
     "metadata": {
      "needs_background": "light"
     },
     "output_type": "display_data"
    }
   ],
   "source": [
    "multiplot([x.reshape((14, 14)) for x in train_y[batch[4:8]]])"
   ]
  },
  {
   "cell_type": "code",
   "execution_count": 42,
   "metadata": {},
   "outputs": [
    {
     "data": {
      "image/png": "[encoded data removed]",
      "text/plain": [
       "<Figure size 1440x288 with 8 Axes>"
      ]
     },
     "metadata": {
      "needs_background": "light"
     },
     "output_type": "display_data"
    }
   ],
   "source": [
    "multiplot([x.reshape((14, 14)) for x in train_y[batch[8:12]]])"
   ]
  },
  {
   "cell_type": "code",
   "execution_count": 43,
   "metadata": {},
   "outputs": [],
   "source": [
    "# This cell should be run to do fine-tuning, if commented - train from scratch\n",
    "\n",
    "#new_saver = tf.train.import_meta_graph('../models/new_model/model.meta')\n",
    "#new_saver.restore(sess, tf.train.latest_checkpoint('../models/new_model/'))"
   ]
  },
  {
   "cell_type": "markdown",
   "metadata": {},
   "source": [
    "# Graph set up"
   ]
  },
  {
   "cell_type": "code",
   "execution_count": 45,
   "metadata": {
    "scrolled": false
   },
   "outputs": [
    {
     "name": "stdout",
     "output_type": "stream",
     "text": [
      "Starting model with: \n",
      " 0.3 zone out \n",
      " 0.0 l2 \n",
      " 0.0002 initial LR \n",
      " 0.001 final LR \n",
      " 139568 parameters\n",
      "Restarting training from scratch on 2856 train and 122 test samples, total 714\n",
      "()\n",
      "()\n",
      "The graph has been finalized\n"
     ]
    }
   ],
   "source": [
    "FRESH_START = True\n",
    "best_val = 0.73\n",
    "\n",
    "START_EPOCH = 1\n",
    "END_EPOCH = 150\n",
    "LEARNING_RATE = 4e-3\n",
    "test_ids = [x for x in range(0, len(test_x))]\n",
    "\n",
    "\n",
    "print(\"Starting model with: \\n {} zone out \\n {} l2 \\n {} initial LR \\n {} final LR \\n {} parameters\"\n",
    "     .format(ZONE_OUT_PROB, L2_REG, INITIAL_LR, FINAL_LR, total_parameters))\n",
    "\n",
    "if not FRESH_START:\n",
    "    print(\"Resuming training with a best validation score of {}\".format(best_val))\n",
    "    \n",
    "if FRESH_START:\n",
    "    print(\"Restarting training from scratch on {} \"\n",
    "          \"train and {} test samples, total {}\".format(len(train_ids), len(test_ids), N_SAMPLES))\n",
    "\n",
    "    optimizer = tf.train.AdamOptimizer(LEARNING_RATE, epsilon = 1e-8)\n",
    "    train_loss = bce_lv(tf.reshape(labels, (-1, 14, 14, 1)), fm, alpha)\n",
    "    l2_loss = tf.losses.get_regularization_loss()\n",
    "    train_loss += l2_loss\n",
    "\n",
    "    ft_optimizer = tf.train.GradientDescentOptimizer(0.008)\n",
    "    ft_loss = bce_lv(tf.reshape(labels, (-1, 14, 14, 1)), fm, alpha)\n",
    "    #wu_loss = weighted_bce_loss(tf.reshape(labels, (-1, 14, 14, 1)), fm, weight = 1.5)\n",
    "    \n",
    "    test_loss = weighted_bce_loss(tf.reshape(labels, (-1, 14, 14, 1)), fm, weight = 1.)\n",
    "    update_ops = tf.get_collection(tf.GraphKeys.UPDATE_OPS)\n",
    "    \n",
    "    with tf.control_dependencies(update_ops):\n",
    "        train_op = optimizer.minimize(train_loss)   \n",
    "        ft_op = ft_optimizer.minimize(ft_loss)\n",
    "        \n",
    "    init_op = tf.global_variables_initializer()\n",
    "    sess.run(init_op)\n",
    "    saver = tf.train.Saver(max_to_keep = 2)\n",
    "    \n",
    "print(\"The graph has been finalized\")"
   ]
  },
  {
   "cell_type": "markdown",
   "metadata": {},
   "source": [
    "# Model training"
   ]
  },
  {
   "cell_type": "code",
   "execution_count": 46,
   "metadata": {
    "scrolled": false
   },
   "outputs": [
    {
     "name": "stdout",
     "output_type": "stream",
     "text": [
      "Loss: 0.945 1.5 weighted BCE + 0.055 Image Lovasz\n"
     ]
    },
    {
     "data": {
      "application/vnd.jupyter.widget-view+json": {
       "model_id": "29999a9f8a15436dbdf8d895370f4569",
       "version_major": 2,
       "version_minor": 0
      },
      "text/plain": [
       "HBox(children=(IntProgress(value=0, max=154), HTML(value='')))"
      ]
     },
     "metadata": {},
     "output_type": "display_data"
    },
    {
     "name": "stdout",
     "output_type": "stream",
     "text": [
      "\n",
      "Epoch 1: Loss 0.9300000071525574\n",
      "Val loss: 0.3889999985694885 Thresh: 0.4 F1: 0.663 Recall: 0.7 Precision: 0.63 Error: 0.1\n",
      "Loss: 0.94 1.5 weighted BCE + 0.060000000000000005 Image Lovasz\n"
     ]
    },
    {
     "data": {
      "application/vnd.jupyter.widget-view+json": {
       "model_id": "c70a3d53678047dcac0c85b92ea96e53",
       "version_major": 2,
       "version_minor": 0
      },
      "text/plain": [
       "HBox(children=(IntProgress(value=0, max=154), HTML(value='')))"
      ]
     },
     "metadata": {},
     "output_type": "display_data"
    },
    {
     "name": "stdout",
     "output_type": "stream",
     "text": [
      "\n",
      "Epoch 2: Loss 0.6340000033378601\n",
      "Val loss: 0.4359999895095825 Thresh: 0.55 F1: 0.706 Recall: 0.688 Precision: 0.724 Error: 0.051\n",
      "Loss: 0.9349999999999999 1.5 weighted BCE + 0.065 Image Lovasz\n"
     ]
    },
    {
     "data": {
      "application/vnd.jupyter.widget-view+json": {
       "model_id": "f463472246f7488c8e38beb58b4e7d3d",
       "version_major": 2,
       "version_minor": 0
      },
      "text/plain": [
       "HBox(children=(IntProgress(value=0, max=154), HTML(value='')))"
      ]
     },
     "metadata": {},
     "output_type": "display_data"
    },
    {
     "name": "stdout",
     "output_type": "stream",
     "text": [
      "\n",
      "Epoch 3: Loss 0.6140000224113464\n",
      "Val loss: 0.4259999990463257 Thresh: 0.5 F1: 0.711 Recall: 0.683 Precision: 0.741 Error: 0.084\n",
      "Loss: 0.9299999999999999 1.5 weighted BCE + 0.07 Image Lovasz\n"
     ]
    },
    {
     "data": {
      "application/vnd.jupyter.widget-view+json": {
       "model_id": "cc073ed0f6b34fb0ae76dbebbfcc89b0",
       "version_major": 2,
       "version_minor": 0
      },
      "text/plain": [
       "HBox(children=(IntProgress(value=0, max=154), HTML(value='')))"
      ]
     },
     "metadata": {},
     "output_type": "display_data"
    },
    {
     "name": "stdout",
     "output_type": "stream",
     "text": [
      "\n",
      "Epoch 4: Loss 0.6010000109672546\n",
      "Val loss: 0.38600000739097595 Thresh: 0.6 F1: 0.711 Recall: 0.717 Precision: 0.704 Error: 0.018\n",
      "Loss: 0.9249999999999999 1.5 weighted BCE + 0.07500000000000001 Image Lovasz\n"
     ]
    },
    {
     "data": {
      "application/vnd.jupyter.widget-view+json": {
       "model_id": "8ca5028c8c584e48930f66d783d0e586",
       "version_major": 2,
       "version_minor": 0
      },
      "text/plain": [
       "HBox(children=(IntProgress(value=0, max=154), HTML(value='')))"
      ]
     },
     "metadata": {},
     "output_type": "display_data"
    },
    {
     "name": "stdout",
     "output_type": "stream",
     "text": [
      "\n",
      "Epoch 5: Loss 0.5929999947547913\n",
      "Val loss: 0.421999990940094 Thresh: 0.45 F1: 0.658 Recall: 0.651 Precision: 0.664 Error: 0.02\n",
      "Loss: 0.9199999999999999 1.5 weighted BCE + 0.08 Image Lovasz\n"
     ]
    },
    {
     "data": {
      "application/vnd.jupyter.widget-view+json": {
       "model_id": "562fbb41ab684e36bb9ff48c5b4da19f",
       "version_major": 2,
       "version_minor": 0
      },
      "text/plain": [
       "HBox(children=(IntProgress(value=0, max=154), HTML(value='')))"
      ]
     },
     "metadata": {},
     "output_type": "display_data"
    },
    {
     "name": "stdout",
     "output_type": "stream",
     "text": [
      "\n",
      "Epoch 6: Loss 0.5870000123977661\n",
      "Val loss: 0.3490000069141388 Thresh: 0.45 F1: 0.705 Recall: 0.711 Precision: 0.698 Error: 0.017\n",
      "Loss: 0.9149999999999999 1.5 weighted BCE + 0.085 Image Lovasz\n"
     ]
    },
    {
     "data": {
      "application/vnd.jupyter.widget-view+json": {
       "model_id": "02f3b2cd35984ac996e23377e7cba9a0",
       "version_major": 2,
       "version_minor": 0
      },
      "text/plain": [
       "HBox(children=(IntProgress(value=0, max=154), HTML(value='')))"
      ]
     },
     "metadata": {},
     "output_type": "display_data"
    },
    {
     "name": "stdout",
     "output_type": "stream",
     "text": [
      "\n",
      "Epoch 7: Loss 0.5809999704360962\n",
      "Val loss: 0.39399999380111694 Thresh: 0.6 F1: 0.718 Recall: 0.71 Precision: 0.727 Error: 0.025\n",
      "Loss: 0.9099999999999999 1.5 weighted BCE + 0.09 Image Lovasz\n"
     ]
    },
    {
     "data": {
      "application/vnd.jupyter.widget-view+json": {
       "model_id": "88f28350620c4726b51939dc27963d7f",
       "version_major": 2,
       "version_minor": 0
      },
      "text/plain": [
       "HBox(children=(IntProgress(value=0, max=154), HTML(value='')))"
      ]
     },
     "metadata": {},
     "output_type": "display_data"
    },
    {
     "name": "stdout",
     "output_type": "stream",
     "text": [
      "\n",
      "Epoch 8: Loss 0.5789999961853027\n",
      "Val loss: 0.36000001430511475 Thresh: 0.55 F1: 0.697 Recall: 0.721 Precision: 0.674 Error: 0.065\n",
      "Loss: 0.9049999999999999 1.5 weighted BCE + 0.095 Image Lovasz\n"
     ]
    },
    {
     "data": {
      "application/vnd.jupyter.widget-view+json": {
       "model_id": "9d20039a7d844bf4b957ee770f14e525",
       "version_major": 2,
       "version_minor": 0
      },
      "text/plain": [
       "HBox(children=(IntProgress(value=0, max=154), HTML(value='')))"
      ]
     },
     "metadata": {},
     "output_type": "display_data"
    },
    {
     "name": "stdout",
     "output_type": "stream",
     "text": [
      "\n",
      "Epoch 9: Loss 0.5720000267028809\n",
      "Val loss: 0.3440000116825104 Thresh: 0.6 F1: 0.736 Recall: 0.749 Precision: 0.723 Error: 0.035\n",
      "Saving model with 0.7359857633151139\n",
      "Loss: 0.8999999999999999 1.5 weighted BCE + 0.1 Image Lovasz\n"
     ]
    },
    {
     "data": {
      "application/vnd.jupyter.widget-view+json": {
       "model_id": "682294c702d741859c529fabb02c539e",
       "version_major": 2,
       "version_minor": 0
      },
      "text/plain": [
       "HBox(children=(IntProgress(value=0, max=154), HTML(value='')))"
      ]
     },
     "metadata": {},
     "output_type": "display_data"
    },
    {
     "name": "stdout",
     "output_type": "stream",
     "text": [
      "\n",
      "Epoch 10: Loss 0.5720000267028809\n",
      "Val loss: 0.3619999885559082 Thresh: 0.6 F1: 0.706 Recall: 0.698 Precision: 0.715 Error: 0.025\n",
      "Loss: 0.8949999999999999 1.5 weighted BCE + 0.10500000000000001 Image Lovasz\n"
     ]
    },
    {
     "data": {
      "application/vnd.jupyter.widget-view+json": {
       "model_id": "4fbd74ff28924fb4a5fdd9e3b3ff4fc7",
       "version_major": 2,
       "version_minor": 0
      },
      "text/plain": [
       "HBox(children=(IntProgress(value=0, max=154), HTML(value='')))"
      ]
     },
     "metadata": {},
     "output_type": "display_data"
    },
    {
     "name": "stdout",
     "output_type": "stream",
     "text": [
      "\n",
      "Epoch 11: Loss 0.5619999766349792\n",
      "Val loss: 0.37599998712539673 Thresh: 0.5 F1: 0.712 Recall: 0.674 Precision: 0.755 Error: 0.12\n",
      "Loss: 0.8899999999999999 1.5 weighted BCE + 0.11 Image Lovasz\n"
     ]
    },
    {
     "data": {
      "application/vnd.jupyter.widget-view+json": {
       "model_id": "370379cbaaa44916b1c2de3b9231038c",
       "version_major": 2,
       "version_minor": 0
      },
      "text/plain": [
       "HBox(children=(IntProgress(value=0, max=154), HTML(value='')))"
      ]
     },
     "metadata": {},
     "output_type": "display_data"
    },
    {
     "name": "stdout",
     "output_type": "stream",
     "text": [
      "\n",
      "Epoch 12: Loss 0.5600000023841858\n",
      "Val loss: 0.3580000102519989 Thresh: 0.6 F1: 0.754 Recall: 0.728 Precision: 0.781 Error: 0.072\n",
      "Saving model with 0.7536162005785921\n",
      "Loss: 0.885 1.5 weighted BCE + 0.115 Image Lovasz\n"
     ]
    },
    {
     "data": {
      "application/vnd.jupyter.widget-view+json": {
       "model_id": "c081c770a85b4a29bbf3b206ad79476c",
       "version_major": 2,
       "version_minor": 0
      },
      "text/plain": [
       "HBox(children=(IntProgress(value=0, max=154), HTML(value='')))"
      ]
     },
     "metadata": {},
     "output_type": "display_data"
    },
    {
     "name": "stdout",
     "output_type": "stream",
     "text": [
      "\n",
      "Epoch 13: Loss 0.5529999732971191\n",
      "Val loss: 0.367000013589859 Thresh: 0.6 F1: 0.729 Recall: 0.698 Precision: 0.764 Error: 0.095\n",
      "Loss: 0.8799999999999999 1.5 weighted BCE + 0.12000000000000001 Image Lovasz\n"
     ]
    },
    {
     "data": {
      "application/vnd.jupyter.widget-view+json": {
       "model_id": "47e6c79eb147478c8531bc9d9fcf375e",
       "version_major": 2,
       "version_minor": 0
      },
      "text/plain": [
       "HBox(children=(IntProgress(value=0, max=154), HTML(value='')))"
      ]
     },
     "metadata": {},
     "output_type": "display_data"
    },
    {
     "name": "stdout",
     "output_type": "stream",
     "text": [
      "\n",
      "Epoch 14: Loss 0.5569999814033508\n",
      "Val loss: 0.3330000042915344 Thresh: 0.4 F1: 0.697 Recall: 0.697 Precision: 0.698 Error: 0.002\n",
      "Loss: 0.875 1.5 weighted BCE + 0.125 Image Lovasz\n"
     ]
    },
    {
     "data": {
      "application/vnd.jupyter.widget-view+json": {
       "model_id": "f26ac831524640cf9568aef8d90c9c5a",
       "version_major": 2,
       "version_minor": 0
      },
      "text/plain": [
       "HBox(children=(IntProgress(value=0, max=154), HTML(value='')))"
      ]
     },
     "metadata": {},
     "output_type": "display_data"
    },
    {
     "name": "stdout",
     "output_type": "stream",
     "text": [
      "\n",
      "Epoch 15: Loss 0.5479999780654907\n",
      "Val loss: 0.35199999809265137 Thresh: 0.5 F1: 0.696 Recall: 0.679 Precision: 0.713 Error: 0.049\n",
      "Loss: 0.875 1.5 weighted BCE + 0.125 Image Lovasz\n"
     ]
    },
    {
     "data": {
      "application/vnd.jupyter.widget-view+json": {
       "model_id": "368db7c04cd448e297b7d56535b5be2d",
       "version_major": 2,
       "version_minor": 0
      },
      "text/plain": [
       "HBox(children=(IntProgress(value=0, max=154), HTML(value='')))"
      ]
     },
     "metadata": {},
     "output_type": "display_data"
    },
    {
     "name": "stdout",
     "output_type": "stream",
     "text": [
      "\n",
      "Epoch 16: Loss 0.5509999990463257\n",
      "Val loss: 0.34599998593330383 Thresh: 0.6 F1: 0.743 Recall: 0.743 Precision: 0.743 Error: 0.0\n",
      "Loss: 0.875 1.5 weighted BCE + 0.125 Image Lovasz\n"
     ]
    },
    {
     "data": {
      "application/vnd.jupyter.widget-view+json": {
       "model_id": "f0566256af444e0da69c95da170b8f32",
       "version_major": 2,
       "version_minor": 0
      },
      "text/plain": [
       "HBox(children=(IntProgress(value=0, max=154), HTML(value='')))"
      ]
     },
     "metadata": {},
     "output_type": "display_data"
    },
    {
     "name": "stdout",
     "output_type": "stream",
     "text": [
      "\n",
      "Epoch 17: Loss 0.546999990940094\n",
      "Val loss: 0.39100000262260437 Thresh: 0.6 F1: 0.727 Recall: 0.66 Precision: 0.809 Error: 0.226\n",
      "Loss: 0.875 1.5 weighted BCE + 0.125 Image Lovasz\n"
     ]
    },
    {
     "data": {
      "application/vnd.jupyter.widget-view+json": {
       "model_id": "bf37d0fafd4a4b3f9e263b4cf2160420",
       "version_major": 2,
       "version_minor": 0
      },
      "text/plain": [
       "HBox(children=(IntProgress(value=0, max=154), HTML(value='')))"
      ]
     },
     "metadata": {},
     "output_type": "display_data"
    },
    {
     "name": "stdout",
     "output_type": "stream",
     "text": [
      "\n",
      "Epoch 18: Loss 0.550000011920929\n",
      "Val loss: 0.35600000619888306 Thresh: 0.55 F1: 0.72 Recall: 0.705 Precision: 0.734 Error: 0.041\n",
      "Loss: 0.875 1.5 weighted BCE + 0.125 Image Lovasz\n"
     ]
    },
    {
     "data": {
      "application/vnd.jupyter.widget-view+json": {
       "model_id": "bae51b7f46c34d2b96a861ad395d6794",
       "version_major": 2,
       "version_minor": 0
      },
      "text/plain": [
       "HBox(children=(IntProgress(value=0, max=154), HTML(value='')))"
      ]
     },
     "metadata": {},
     "output_type": "display_data"
    },
    {
     "name": "stdout",
     "output_type": "stream",
     "text": [
      "\n",
      "Epoch 19: Loss 0.546999990940094\n",
      "Val loss: 0.38499999046325684 Thresh: 0.6 F1: 0.726 Recall: 0.686 Precision: 0.772 Error: 0.126\n",
      "Loss: 0.875 1.5 weighted BCE + 0.125 Image Lovasz\n"
     ]
    },
    {
     "data": {
      "application/vnd.jupyter.widget-view+json": {
       "model_id": "4fe2bd4e060846a2965675c629f2c6d9",
       "version_major": 2,
       "version_minor": 0
      },
      "text/plain": [
       "HBox(children=(IntProgress(value=0, max=154), HTML(value='')))"
      ]
     },
     "metadata": {},
     "output_type": "display_data"
    },
    {
     "name": "stdout",
     "output_type": "stream",
     "text": [
      "\n",
      "Epoch 20: Loss 0.5370000004768372\n",
      "Val loss: 0.3269999921321869 Thresh: 0.5 F1: 0.739 Recall: 0.704 Precision: 0.776 Error: 0.102\n",
      "Loss: 0.875 1.5 weighted BCE + 0.125 Image Lovasz\n"
     ]
    },
    {
     "data": {
      "application/vnd.jupyter.widget-view+json": {
       "model_id": "9b193d9c4056444a93e15889097080b8",
       "version_major": 2,
       "version_minor": 0
      },
      "text/plain": [
       "HBox(children=(IntProgress(value=0, max=154), HTML(value='')))"
      ]
     },
     "metadata": {},
     "output_type": "display_data"
    },
    {
     "name": "stdout",
     "output_type": "stream",
     "text": [
      "\n",
      "Epoch 21: Loss 0.5419999957084656\n",
      "Val loss: 0.3370000123977661 Thresh: 0.55 F1: 0.76 Recall: 0.761 Precision: 0.759 Error: 0.002\n",
      "Saving model with 0.760190047511878\n",
      "Loss: 0.875 1.5 weighted BCE + 0.125 Image Lovasz\n"
     ]
    },
    {
     "data": {
      "application/vnd.jupyter.widget-view+json": {
       "model_id": "673276bac9ed49139898421b02bcff3a",
       "version_major": 2,
       "version_minor": 0
      },
      "text/plain": [
       "HBox(children=(IntProgress(value=0, max=154), HTML(value='')))"
      ]
     },
     "metadata": {},
     "output_type": "display_data"
    },
    {
     "name": "stdout",
     "output_type": "stream",
     "text": [
      "\n",
      "Epoch 22: Loss 0.5389999747276306\n",
      "Val loss: 0.38199999928474426 Thresh: 0.6 F1: 0.715 Recall: 0.652 Precision: 0.79 Error: 0.211\n",
      "Loss: 0.875 1.5 weighted BCE + 0.125 Image Lovasz\n"
     ]
    },
    {
     "data": {
      "application/vnd.jupyter.widget-view+json": {
       "model_id": "51c768a212424f8db88a2f0e0af8094d",
       "version_major": 2,
       "version_minor": 0
      },
      "text/plain": [
       "HBox(children=(IntProgress(value=0, max=154), HTML(value='')))"
      ]
     },
     "metadata": {},
     "output_type": "display_data"
    },
    {
     "name": "stdout",
     "output_type": "stream",
     "text": [
      "\n",
      "Epoch 23: Loss 0.5289999842643738\n",
      "Val loss: 0.3400000035762787 Thresh: 0.5 F1: 0.728 Recall: 0.695 Precision: 0.765 Error: 0.101\n",
      "Loss: 0.875 1.5 weighted BCE + 0.125 Image Lovasz\n"
     ]
    },
    {
     "data": {
      "application/vnd.jupyter.widget-view+json": {
       "model_id": "6eb00c63194a493484dc6f31ea1d00dd",
       "version_major": 2,
       "version_minor": 0
      },
      "text/plain": [
       "HBox(children=(IntProgress(value=0, max=154), HTML(value='')))"
      ]
     },
     "metadata": {},
     "output_type": "display_data"
    },
    {
     "name": "stdout",
     "output_type": "stream",
     "text": [
      "\n",
      "Epoch 24: Loss 0.5339999794960022\n",
      "Val loss: 0.3370000123977661 Thresh: 0.6 F1: 0.758 Recall: 0.779 Precision: 0.737 Error: 0.053\n",
      "Loss: 0.875 1.5 weighted BCE + 0.125 Image Lovasz\n"
     ]
    },
    {
     "data": {
      "application/vnd.jupyter.widget-view+json": {
       "model_id": "412e087d2878444fac0a4fa1c590291f",
       "version_major": 2,
       "version_minor": 0
      },
      "text/plain": [
       "HBox(children=(IntProgress(value=0, max=154), HTML(value='')))"
      ]
     },
     "metadata": {},
     "output_type": "display_data"
    },
    {
     "name": "stdout",
     "output_type": "stream",
     "text": [
      "\n",
      "Epoch 25: Loss 0.5379999876022339\n",
      "Val loss: 0.37700000405311584 Thresh: 0.6 F1: 0.707 Recall: 0.657 Precision: 0.765 Error: 0.165\n",
      "Loss: 0.875 1.5 weighted BCE + 0.125 Image Lovasz\n"
     ]
    },
    {
     "data": {
      "application/vnd.jupyter.widget-view+json": {
       "model_id": "18b3901b8bdc4d6cb84f7302ef145994",
       "version_major": 2,
       "version_minor": 0
      },
      "text/plain": [
       "HBox(children=(IntProgress(value=0, max=154), HTML(value='')))"
      ]
     },
     "metadata": {},
     "output_type": "display_data"
    },
    {
     "name": "stdout",
     "output_type": "stream",
     "text": [
      "\n",
      "Epoch 26: Loss 0.550000011920929\n",
      "Val loss: 0.32499998807907104 Thresh: 0.6 F1: 0.758 Recall: 0.791 Precision: 0.728 Error: 0.079\n",
      "Loss: 0.875 1.5 weighted BCE + 0.125 Image Lovasz\n"
     ]
    },
    {
     "data": {
      "application/vnd.jupyter.widget-view+json": {
       "model_id": "8f7ba86cf507487a9c53dd7d8ff62cfb",
       "version_major": 2,
       "version_minor": 0
      },
      "text/plain": [
       "HBox(children=(IntProgress(value=0, max=154), HTML(value='')))"
      ]
     },
     "metadata": {},
     "output_type": "display_data"
    },
    {
     "name": "stdout",
     "output_type": "stream",
     "text": [
      "\n",
      "Epoch 27: Loss 0.5400000214576721\n",
      "Val loss: 0.34299999475479126 Thresh: 0.45 F1: 0.717 Recall: 0.688 Precision: 0.749 Error: 0.089\n",
      "Loss: 0.875 1.5 weighted BCE + 0.125 Image Lovasz\n"
     ]
    },
    {
     "data": {
      "application/vnd.jupyter.widget-view+json": {
       "model_id": "4314d53247764bb69bfd3cde079c9e67",
       "version_major": 2,
       "version_minor": 0
      },
      "text/plain": [
       "HBox(children=(IntProgress(value=0, max=154), HTML(value='')))"
      ]
     },
     "metadata": {},
     "output_type": "display_data"
    },
    {
     "name": "stdout",
     "output_type": "stream",
     "text": [
      "\n",
      "Epoch 28: Loss 0.5230000019073486\n",
      "Val loss: 0.36899998784065247 Thresh: 0.6 F1: 0.724 Recall: 0.68 Precision: 0.774 Error: 0.139\n",
      "Loss: 0.875 1.5 weighted BCE + 0.125 Image Lovasz\n"
     ]
    },
    {
     "data": {
      "application/vnd.jupyter.widget-view+json": {
       "model_id": "9d35fdf24a4448588e92935ec4b4c49a",
       "version_major": 2,
       "version_minor": 0
      },
      "text/plain": [
       "HBox(children=(IntProgress(value=0, max=154), HTML(value='')))"
      ]
     },
     "metadata": {},
     "output_type": "display_data"
    },
    {
     "name": "stdout",
     "output_type": "stream",
     "text": [
      "\n",
      "Epoch 29: Loss 0.5220000147819519\n",
      "Val loss: 0.32499998807907104 Thresh: 0.5 F1: 0.745 Recall: 0.707 Precision: 0.786 Error: 0.111\n",
      "Loss: 0.875 1.5 weighted BCE + 0.125 Image Lovasz\n"
     ]
    },
    {
     "data": {
      "application/vnd.jupyter.widget-view+json": {
       "model_id": "ef686841612e4210a1d3792663d54483",
       "version_major": 2,
       "version_minor": 0
      },
      "text/plain": [
       "HBox(children=(IntProgress(value=0, max=154), HTML(value='')))"
      ]
     },
     "metadata": {},
     "output_type": "display_data"
    },
    {
     "name": "stdout",
     "output_type": "stream",
     "text": [
      "\n",
      "Epoch 30: Loss 0.5210000276565552\n",
      "Val loss: 0.32899999618530273 Thresh: 0.55 F1: 0.733 Recall: 0.718 Precision: 0.749 Error: 0.043\n",
      "Loss: 0.875 1.5 weighted BCE + 0.125 Image Lovasz\n"
     ]
    },
    {
     "data": {
      "application/vnd.jupyter.widget-view+json": {
       "model_id": "e5c652b512524cc6a97506f1df6bbb9b",
       "version_major": 2,
       "version_minor": 0
      },
      "text/plain": [
       "HBox(children=(IntProgress(value=0, max=154), HTML(value='')))"
      ]
     },
     "metadata": {},
     "output_type": "display_data"
    },
    {
     "name": "stdout",
     "output_type": "stream",
     "text": [
      "\n",
      "Epoch 31: Loss 0.5189999938011169\n",
      "Val loss: 0.3310000002384186 Thresh: 0.55 F1: 0.741 Recall: 0.724 Precision: 0.758 Error: 0.047\n",
      "Loss: 0.875 1.5 weighted BCE + 0.125 Image Lovasz\n"
     ]
    },
    {
     "data": {
      "application/vnd.jupyter.widget-view+json": {
       "model_id": "6dd8ebc5f87d4d77999aa55a8a761d1b",
       "version_major": 2,
       "version_minor": 0
      },
      "text/plain": [
       "HBox(children=(IntProgress(value=0, max=154), HTML(value='')))"
      ]
     },
     "metadata": {},
     "output_type": "display_data"
    },
    {
     "name": "stdout",
     "output_type": "stream",
     "text": [
      "\n",
      "Epoch 32: Loss 0.5199999809265137\n",
      "Val loss: 0.3440000116825104 Thresh: 0.6 F1: 0.733 Recall: 0.723 Precision: 0.743 Error: 0.028\n",
      "Loss: 0.875 1.5 weighted BCE + 0.125 Image Lovasz\n"
     ]
    },
    {
     "data": {
      "application/vnd.jupyter.widget-view+json": {
       "model_id": "6f14965e2dd841c1b060bf185f9b1349",
       "version_major": 2,
       "version_minor": 0
      },
      "text/plain": [
       "HBox(children=(IntProgress(value=0, max=154), HTML(value='')))"
      ]
     },
     "metadata": {},
     "output_type": "display_data"
    },
    {
     "name": "stdout",
     "output_type": "stream",
     "text": [
      "\n",
      "Epoch 33: Loss 0.5170000195503235\n",
      "Val loss: 0.3269999921321869 Thresh: 0.55 F1: 0.737 Recall: 0.719 Precision: 0.757 Error: 0.052\n",
      "Loss: 0.875 1.5 weighted BCE + 0.125 Image Lovasz\n"
     ]
    },
    {
     "data": {
      "application/vnd.jupyter.widget-view+json": {
       "model_id": "2ff52f795bde439eb370ced222816598",
       "version_major": 2,
       "version_minor": 0
      },
      "text/plain": [
       "HBox(children=(IntProgress(value=0, max=154), HTML(value='')))"
      ]
     },
     "metadata": {},
     "output_type": "display_data"
    },
    {
     "name": "stdout",
     "output_type": "stream",
     "text": [
      "\n",
      "Epoch 34: Loss 0.5139999985694885\n",
      "Val loss: 0.3179999887943268 Thresh: 0.5 F1: 0.737 Recall: 0.731 Precision: 0.742 Error: 0.014\n",
      "Loss: 0.875 1.5 weighted BCE + 0.125 Image Lovasz\n"
     ]
    },
    {
     "data": {
      "application/vnd.jupyter.widget-view+json": {
       "model_id": "610e86447b014eb7bb7097a0881d59f4",
       "version_major": 2,
       "version_minor": 0
      },
      "text/plain": [
       "HBox(children=(IntProgress(value=0, max=154), HTML(value='')))"
      ]
     },
     "metadata": {},
     "output_type": "display_data"
    },
    {
     "name": "stdout",
     "output_type": "stream",
     "text": [
      "\n",
      "Epoch 35: Loss 0.5139999985694885\n",
      "Val loss: 0.3190000057220459 Thresh: 0.55 F1: 0.751 Recall: 0.738 Precision: 0.764 Error: 0.036\n",
      "Loss: 0.875 1.5 weighted BCE + 0.125 Image Lovasz\n"
     ]
    },
    {
     "data": {
      "application/vnd.jupyter.widget-view+json": {
       "model_id": "5cf35e482fed4cc8afd523792a643acd",
       "version_major": 2,
       "version_minor": 0
      },
      "text/plain": [
       "HBox(children=(IntProgress(value=0, max=154), HTML(value='')))"
      ]
     },
     "metadata": {},
     "output_type": "display_data"
    },
    {
     "name": "stdout",
     "output_type": "stream",
     "text": [
      "\n",
      "Epoch 36: Loss 0.5350000262260437\n",
      "Val loss: 0.4099999964237213 Thresh: 0.55 F1: 0.692 Recall: 0.642 Precision: 0.75 Error: 0.168\n",
      "Loss: 0.875 1.5 weighted BCE + 0.125 Image Lovasz\n"
     ]
    },
    {
     "data": {
      "application/vnd.jupyter.widget-view+json": {
       "model_id": "2812887abae642f0b244ebf7e3015986",
       "version_major": 2,
       "version_minor": 0
      },
      "text/plain": [
       "HBox(children=(IntProgress(value=0, max=154), HTML(value='')))"
      ]
     },
     "metadata": {},
     "output_type": "display_data"
    },
    {
     "name": "stdout",
     "output_type": "stream",
     "text": [
      "\n",
      "Epoch 37: Loss 0.5529999732971191\n",
      "Val loss: 0.34700000286102295 Thresh: 0.45 F1: 0.694 Recall: 0.62 Precision: 0.787 Error: 0.268\n",
      "Loss: 0.875 1.5 weighted BCE + 0.125 Image Lovasz\n"
     ]
    },
    {
     "data": {
      "application/vnd.jupyter.widget-view+json": {
       "model_id": "6828ddca6f2b46f6a8799dd5269a891b",
       "version_major": 2,
       "version_minor": 0
      },
      "text/plain": [
       "HBox(children=(IntProgress(value=0, max=154), HTML(value='')))"
      ]
     },
     "metadata": {},
     "output_type": "display_data"
    },
    {
     "name": "stdout",
     "output_type": "stream",
     "text": [
      "\n",
      "Epoch 38: Loss 0.5379999876022339\n",
      "Val loss: 0.3319999873638153 Thresh: 0.6 F1: 0.739 Recall: 0.742 Precision: 0.735 Error: 0.009\n",
      "Loss: 0.875 1.5 weighted BCE + 0.125 Image Lovasz\n"
     ]
    },
    {
     "data": {
      "application/vnd.jupyter.widget-view+json": {
       "model_id": "d1339c9521d54435a692436fbe7e9349",
       "version_major": 2,
       "version_minor": 0
      },
      "text/plain": [
       "HBox(children=(IntProgress(value=0, max=154), HTML(value='')))"
      ]
     },
     "metadata": {},
     "output_type": "display_data"
    },
    {
     "name": "stdout",
     "output_type": "stream",
     "text": [
      "\n",
      "Epoch 39: Loss 0.5180000066757202\n",
      "Val loss: 0.3319999873638153 Thresh: 0.4 F1: 0.684 Recall: 0.674 Precision: 0.695 Error: 0.032\n",
      "Loss: 0.875 1.5 weighted BCE + 0.125 Image Lovasz\n"
     ]
    },
    {
     "data": {
      "application/vnd.jupyter.widget-view+json": {
       "model_id": "7f41a1e3d6a940f2a5b253bbc4762372",
       "version_major": 2,
       "version_minor": 0
      },
      "text/plain": [
       "HBox(children=(IntProgress(value=0, max=154), HTML(value='')))"
      ]
     },
     "metadata": {},
     "output_type": "display_data"
    },
    {
     "name": "stdout",
     "output_type": "stream",
     "text": [
      "\n",
      "Epoch 40: Loss 0.5180000066757202\n",
      "Val loss: 0.35899999737739563 Thresh: 0.5 F1: 0.694 Recall: 0.661 Precision: 0.729 Error: 0.102\n",
      "Loss: 0.875 1.5 weighted BCE + 0.125 Image Lovasz\n"
     ]
    },
    {
     "data": {
      "application/vnd.jupyter.widget-view+json": {
       "model_id": "0f64e873eecd4006a6229839c192914b",
       "version_major": 2,
       "version_minor": 0
      },
      "text/plain": [
       "HBox(children=(IntProgress(value=0, max=154), HTML(value='')))"
      ]
     },
     "metadata": {},
     "output_type": "display_data"
    },
    {
     "name": "stdout",
     "output_type": "stream",
     "text": [
      "\n",
      "Epoch 41: Loss 0.5130000114440918\n",
      "Val loss: 0.3269999921321869 Thresh: 0.5 F1: 0.742 Recall: 0.713 Precision: 0.774 Error: 0.085\n",
      "Loss: 0.875 1.5 weighted BCE + 0.125 Image Lovasz\n"
     ]
    },
    {
     "data": {
      "application/vnd.jupyter.widget-view+json": {
       "model_id": "1ecfab99099c499680a4bf56ae6f25c2",
       "version_major": 2,
       "version_minor": 0
      },
      "text/plain": [
       "HBox(children=(IntProgress(value=0, max=154), HTML(value='')))"
      ]
     },
     "metadata": {},
     "output_type": "display_data"
    },
    {
     "name": "stdout",
     "output_type": "stream",
     "text": [
      "\n",
      "Epoch 42: Loss 0.5090000033378601\n",
      "Val loss: 0.3479999899864197 Thresh: 0.55 F1: 0.72 Recall: 0.693 Precision: 0.75 Error: 0.083\n",
      "Loss: 0.875 1.5 weighted BCE + 0.125 Image Lovasz\n"
     ]
    },
    {
     "data": {
      "application/vnd.jupyter.widget-view+json": {
       "model_id": "dbadeb43de184a01824ec134002fae15",
       "version_major": 2,
       "version_minor": 0
      },
      "text/plain": [
       "HBox(children=(IntProgress(value=0, max=154), HTML(value='')))"
      ]
     },
     "metadata": {},
     "output_type": "display_data"
    },
    {
     "name": "stdout",
     "output_type": "stream",
     "text": [
      "\n",
      "Epoch 43: Loss 0.5099999904632568\n",
      "Val loss: 0.3610000014305115 Thresh: 0.55 F1: 0.708 Recall: 0.677 Precision: 0.741 Error: 0.094\n",
      "Loss: 0.875 1.5 weighted BCE + 0.125 Image Lovasz\n"
     ]
    },
    {
     "data": {
      "application/vnd.jupyter.widget-view+json": {
       "model_id": "30c64fc3638748399f0d53ff97518b2c",
       "version_major": 2,
       "version_minor": 0
      },
      "text/plain": [
       "HBox(children=(IntProgress(value=0, max=154), HTML(value='')))"
      ]
     },
     "metadata": {},
     "output_type": "display_data"
    },
    {
     "name": "stdout",
     "output_type": "stream",
     "text": [
      "\n",
      "Epoch 44: Loss 0.5509999990463257\n",
      "Val loss: 0.3190000057220459 Thresh: 0.55 F1: 0.744 Recall: 0.751 Precision: 0.737 Error: 0.018\n",
      "Loss: 0.875 1.5 weighted BCE + 0.125 Image Lovasz\n"
     ]
    },
    {
     "data": {
      "application/vnd.jupyter.widget-view+json": {
       "model_id": "2286e6a03bdb41e580d5cd0be6fb8f9a",
       "version_major": 2,
       "version_minor": 0
      },
      "text/plain": [
       "HBox(children=(IntProgress(value=0, max=154), HTML(value='')))"
      ]
     },
     "metadata": {},
     "output_type": "display_data"
    },
    {
     "name": "stdout",
     "output_type": "stream",
     "text": [
      "\n",
      "Epoch 45: Loss 0.5410000085830688\n",
      "Val loss: 0.3199999928474426 Thresh: 0.4 F1: 0.741 Recall: 0.701 Precision: 0.785 Error: 0.12\n",
      "Loss: 0.875 1.5 weighted BCE + 0.125 Image Lovasz\n"
     ]
    },
    {
     "data": {
      "application/vnd.jupyter.widget-view+json": {
       "model_id": "b0a6a2e8325a4c919e43c1a5e870fd05",
       "version_major": 2,
       "version_minor": 0
      },
      "text/plain": [
       "HBox(children=(IntProgress(value=0, max=154), HTML(value='')))"
      ]
     },
     "metadata": {},
     "output_type": "display_data"
    },
    {
     "name": "stdout",
     "output_type": "stream",
     "text": [
      "\n",
      "Epoch 46: Loss 0.531000018119812\n",
      "Val loss: 0.33399999141693115 Thresh: 0.5 F1: 0.73 Recall: 0.693 Precision: 0.772 Error: 0.113\n",
      "Loss: 0.875 1.5 weighted BCE + 0.125 Image Lovasz\n"
     ]
    },
    {
     "data": {
      "application/vnd.jupyter.widget-view+json": {
       "model_id": "ae8beb7560f749a2b34a0536d89e3870",
       "version_major": 2,
       "version_minor": 0
      },
      "text/plain": [
       "HBox(children=(IntProgress(value=0, max=154), HTML(value='')))"
      ]
     },
     "metadata": {},
     "output_type": "display_data"
    },
    {
     "name": "stdout",
     "output_type": "stream",
     "text": [
      "\n",
      "Epoch 47: Loss 0.5120000243186951\n",
      "Val loss: 0.3499999940395355 Thresh: 0.55 F1: 0.723 Recall: 0.694 Precision: 0.755 Error: 0.089\n",
      "Loss: 0.875 1.5 weighted BCE + 0.125 Image Lovasz\n"
     ]
    },
    {
     "data": {
      "application/vnd.jupyter.widget-view+json": {
       "model_id": "bdcc315b1c524b54af05dc49b26db0fe",
       "version_major": 2,
       "version_minor": 0
      },
      "text/plain": [
       "HBox(children=(IntProgress(value=0, max=154), HTML(value='')))"
      ]
     },
     "metadata": {},
     "output_type": "display_data"
    },
    {
     "name": "stdout",
     "output_type": "stream",
     "text": [
      "\n",
      "Epoch 48: Loss 0.5070000290870667\n",
      "Val loss: 0.33799999952316284 Thresh: 0.55 F1: 0.722 Recall: 0.703 Precision: 0.742 Error: 0.055\n",
      "Loss: 0.875 1.5 weighted BCE + 0.125 Image Lovasz\n"
     ]
    },
    {
     "data": {
      "application/vnd.jupyter.widget-view+json": {
       "model_id": "42b828f0fca24eb8b99ca051e1d05abb",
       "version_major": 2,
       "version_minor": 0
      },
      "text/plain": [
       "HBox(children=(IntProgress(value=0, max=154), HTML(value='')))"
      ]
     },
     "metadata": {},
     "output_type": "display_data"
    },
    {
     "name": "stdout",
     "output_type": "stream",
     "text": [
      "\n",
      "Epoch 49: Loss 0.5049999952316284\n",
      "Val loss: 0.3230000138282776 Thresh: 0.4 F1: 0.714 Recall: 0.694 Precision: 0.735 Error: 0.06\n",
      "Loss: 0.875 1.5 weighted BCE + 0.125 Image Lovasz\n"
     ]
    },
    {
     "data": {
      "application/vnd.jupyter.widget-view+json": {
       "model_id": "235f2bba0b3c4069b96c47aed4172083",
       "version_major": 2,
       "version_minor": 0
      },
      "text/plain": [
       "HBox(children=(IntProgress(value=0, max=154), HTML(value='')))"
      ]
     },
     "metadata": {},
     "output_type": "display_data"
    },
    {
     "name": "stdout",
     "output_type": "stream",
     "text": [
      "\n",
      "Epoch 50: Loss 0.5040000081062317\n",
      "Val loss: 0.34299999475479126 Thresh: 0.55 F1: 0.73 Recall: 0.709 Precision: 0.751 Error: 0.059\n",
      "Loss: 0.875 1.5 weighted BCE + 0.125 Image Lovasz\n"
     ]
    },
    {
     "data": {
      "application/vnd.jupyter.widget-view+json": {
       "model_id": "10ab7c6b20284a6eaf6b7b27ab6b65c6",
       "version_major": 2,
       "version_minor": 0
      },
      "text/plain": [
       "HBox(children=(IntProgress(value=0, max=154), HTML(value='')))"
      ]
     },
     "metadata": {},
     "output_type": "display_data"
    },
    {
     "name": "stdout",
     "output_type": "stream",
     "text": [
      "\n",
      "Epoch 51: Loss 0.5040000081062317\n",
      "Val loss: 0.335999995470047 Thresh: 0.45 F1: 0.719 Recall: 0.679 Precision: 0.765 Error: 0.127\n",
      "Loss: 0.875 1.5 weighted BCE + 0.125 Image Lovasz\n"
     ]
    },
    {
     "data": {
      "application/vnd.jupyter.widget-view+json": {
       "model_id": "801b154bc7fc4c519db54f4d7edf9dcf",
       "version_major": 2,
       "version_minor": 0
      },
      "text/plain": [
       "HBox(children=(IntProgress(value=0, max=154), HTML(value='')))"
      ]
     },
     "metadata": {},
     "output_type": "display_data"
    },
    {
     "name": "stdout",
     "output_type": "stream",
     "text": [
      "\n",
      "Epoch 52: Loss 0.5099999904632568\n",
      "Val loss: 0.34599998593330383 Thresh: 0.6 F1: 0.744 Recall: 0.724 Precision: 0.765 Error: 0.057\n",
      "Loss: 0.875 1.5 weighted BCE + 0.125 Image Lovasz\n"
     ]
    },
    {
     "data": {
      "application/vnd.jupyter.widget-view+json": {
       "model_id": "ca07fbfa8c844038bd7323f828d0fe33",
       "version_major": 2,
       "version_minor": 0
      },
      "text/plain": [
       "HBox(children=(IntProgress(value=0, max=154), HTML(value='')))"
      ]
     },
     "metadata": {},
     "output_type": "display_data"
    },
    {
     "name": "stdout",
     "output_type": "stream",
     "text": [
      "\n",
      "Epoch 53: Loss 0.5040000081062317\n",
      "Val loss: 0.34200000762939453 Thresh: 0.55 F1: 0.715 Recall: 0.701 Precision: 0.729 Error: 0.039\n",
      "Loss: 0.875 1.5 weighted BCE + 0.125 Image Lovasz\n"
     ]
    },
    {
     "data": {
      "application/vnd.jupyter.widget-view+json": {
       "model_id": "8557179a48054b9da0066e28fe3df5e8",
       "version_major": 2,
       "version_minor": 0
      },
      "text/plain": [
       "HBox(children=(IntProgress(value=0, max=154), HTML(value='')))"
      ]
     },
     "metadata": {},
     "output_type": "display_data"
    },
    {
     "name": "stdout",
     "output_type": "stream",
     "text": [
      "\n",
      "Epoch 54: Loss 0.503000020980835\n",
      "Val loss: 0.35499998927116394 Thresh: 0.6 F1: 0.728 Recall: 0.72 Precision: 0.736 Error: 0.023\n",
      "Loss: 0.875 1.5 weighted BCE + 0.125 Image Lovasz\n"
     ]
    },
    {
     "data": {
      "application/vnd.jupyter.widget-view+json": {
       "model_id": "7ef57f10f5ba40a8aed9a5e8e0d20483",
       "version_major": 2,
       "version_minor": 0
      },
      "text/plain": [
       "HBox(children=(IntProgress(value=0, max=154), HTML(value='')))"
      ]
     },
     "metadata": {},
     "output_type": "display_data"
    },
    {
     "name": "stdout",
     "output_type": "stream",
     "text": [
      "\n",
      "Epoch 55: Loss 0.527999997138977\n",
      "Val loss: 0.31700000166893005 Thresh: 0.55 F1: 0.758 Recall: 0.754 Precision: 0.761 Error: 0.009\n",
      "Loss: 0.875 1.5 weighted BCE + 0.125 Image Lovasz\n"
     ]
    },
    {
     "data": {
      "application/vnd.jupyter.widget-view+json": {
       "model_id": "7650503c72d941e1bf48b441c5c03737",
       "version_major": 2,
       "version_minor": 0
      },
      "text/plain": [
       "HBox(children=(IntProgress(value=0, max=154), HTML(value='')))"
      ]
     },
     "metadata": {},
     "output_type": "display_data"
    },
    {
     "name": "stdout",
     "output_type": "stream",
     "text": [
      "\n",
      "Epoch 56: Loss 0.5199999809265137\n",
      "Val loss: 0.33000001311302185 Thresh: 0.55 F1: 0.746 Recall: 0.762 Precision: 0.731 Error: 0.04\n",
      "Loss: 0.875 1.5 weighted BCE + 0.125 Image Lovasz\n"
     ]
    },
    {
     "data": {
      "application/vnd.jupyter.widget-view+json": {
       "model_id": "76aea38296ab474c925e78c1e038a389",
       "version_major": 2,
       "version_minor": 0
      },
      "text/plain": [
       "HBox(children=(IntProgress(value=0, max=154), HTML(value='')))"
      ]
     },
     "metadata": {},
     "output_type": "display_data"
    },
    {
     "name": "stdout",
     "output_type": "stream",
     "text": [
      "\n",
      "Epoch 57: Loss 0.5210000276565552\n",
      "Val loss: 0.33500000834465027 Thresh: 0.5 F1: 0.735 Recall: 0.686 Precision: 0.793 Error: 0.156\n",
      "Loss: 0.875 1.5 weighted BCE + 0.125 Image Lovasz\n"
     ]
    },
    {
     "data": {
      "application/vnd.jupyter.widget-view+json": {
       "model_id": "7a768524e2b64c5e811fc059f651c83c",
       "version_major": 2,
       "version_minor": 0
      },
      "text/plain": [
       "HBox(children=(IntProgress(value=0, max=154), HTML(value='')))"
      ]
     },
     "metadata": {},
     "output_type": "display_data"
    },
    {
     "name": "stdout",
     "output_type": "stream",
     "text": [
      "\n",
      "Epoch 58: Loss 0.5009999871253967\n",
      "Val loss: 0.34599998593330383 Thresh: 0.55 F1: 0.733 Recall: 0.708 Precision: 0.76 Error: 0.075\n",
      "Loss: 0.875 1.5 weighted BCE + 0.125 Image Lovasz\n"
     ]
    },
    {
     "data": {
      "application/vnd.jupyter.widget-view+json": {
       "model_id": "53c55370c1ec4f21843f288b93c4554a",
       "version_major": 2,
       "version_minor": 0
      },
      "text/plain": [
       "HBox(children=(IntProgress(value=0, max=154), HTML(value='')))"
      ]
     },
     "metadata": {},
     "output_type": "display_data"
    },
    {
     "name": "stdout",
     "output_type": "stream",
     "text": [
      "\n",
      "Epoch 59: Loss 0.4959999918937683\n",
      "Val loss: 0.32499998807907104 Thresh: 0.5 F1: 0.739 Recall: 0.712 Precision: 0.769 Error: 0.081\n",
      "Loss: 0.875 1.5 weighted BCE + 0.125 Image Lovasz\n"
     ]
    },
    {
     "data": {
      "application/vnd.jupyter.widget-view+json": {
       "model_id": "f830606f8d904481a8346ce1e8039fbd",
       "version_major": 2,
       "version_minor": 0
      },
      "text/plain": [
       "HBox(children=(IntProgress(value=0, max=154), HTML(value='')))"
      ]
     },
     "metadata": {},
     "output_type": "display_data"
    },
    {
     "name": "stdout",
     "output_type": "stream",
     "text": [
      "\n",
      "Epoch 60: Loss 0.4959999918937683\n",
      "Val loss: 0.3409999907016754 Thresh: 0.6 F1: 0.722 Recall: 0.732 Precision: 0.712 Error: 0.027\n",
      "Loss: 0.875 1.5 weighted BCE + 0.125 Image Lovasz\n"
     ]
    },
    {
     "data": {
      "application/vnd.jupyter.widget-view+json": {
       "model_id": "9f516c8df8bf471ba1202ede03dab78e",
       "version_major": 2,
       "version_minor": 0
      },
      "text/plain": [
       "HBox(children=(IntProgress(value=0, max=154), HTML(value='')))"
      ]
     },
     "metadata": {},
     "output_type": "display_data"
    },
    {
     "name": "stdout",
     "output_type": "stream",
     "text": [
      "\n",
      "Epoch 61: Loss 0.4959999918937683\n",
      "Val loss: 0.32100000977516174 Thresh: 0.5 F1: 0.746 Recall: 0.722 Precision: 0.771 Error: 0.067\n",
      "Loss: 0.875 1.5 weighted BCE + 0.125 Image Lovasz\n"
     ]
    },
    {
     "data": {
      "application/vnd.jupyter.widget-view+json": {
       "model_id": "d57ed1ee78e345aa9b47a5324e50ea59",
       "version_major": 2,
       "version_minor": 0
      },
      "text/plain": [
       "HBox(children=(IntProgress(value=0, max=154), HTML(value='')))"
      ]
     },
     "metadata": {},
     "output_type": "display_data"
    },
    {
     "name": "stdout",
     "output_type": "stream",
     "text": [
      "\n",
      "Epoch 62: Loss 0.49399998784065247\n",
      "Val loss: 0.33399999141693115 Thresh: 0.55 F1: 0.712 Recall: 0.715 Precision: 0.708 Error: 0.009\n",
      "Loss: 0.875 1.5 weighted BCE + 0.125 Image Lovasz\n"
     ]
    },
    {
     "data": {
      "application/vnd.jupyter.widget-view+json": {
       "model_id": "cf455342e5c942db9eda35362324d2e8",
       "version_major": 2,
       "version_minor": 0
      },
      "text/plain": [
       "HBox(children=(IntProgress(value=0, max=154), HTML(value='')))"
      ]
     },
     "metadata": {},
     "output_type": "display_data"
    },
    {
     "name": "stdout",
     "output_type": "stream",
     "text": [
      "\n",
      "Epoch 63: Loss 0.5040000081062317\n",
      "Val loss: 0.34599998593330383 Thresh: 0.6 F1: 0.707 Recall: 0.722 Precision: 0.693 Error: 0.04\n",
      "Loss: 0.875 1.5 weighted BCE + 0.125 Image Lovasz\n"
     ]
    },
    {
     "data": {
      "application/vnd.jupyter.widget-view+json": {
       "model_id": "aa47f624ed3e46e6912e76a3629613ba",
       "version_major": 2,
       "version_minor": 0
      },
      "text/plain": [
       "HBox(children=(IntProgress(value=0, max=154), HTML(value='')))"
      ]
     },
     "metadata": {},
     "output_type": "display_data"
    },
    {
     "name": "stdout",
     "output_type": "stream",
     "text": [
      "\n",
      "Epoch 64: Loss 0.4950000047683716\n",
      "Val loss: 0.33000001311302185 Thresh: 0.55 F1: 0.725 Recall: 0.728 Precision: 0.722 Error: 0.007\n",
      "Loss: 0.875 1.5 weighted BCE + 0.125 Image Lovasz\n"
     ]
    },
    {
     "data": {
      "application/vnd.jupyter.widget-view+json": {
       "model_id": "1ec81e3158834d60b4188dc0866af129",
       "version_major": 2,
       "version_minor": 0
      },
      "text/plain": [
       "HBox(children=(IntProgress(value=0, max=154), HTML(value='')))"
      ]
     },
     "metadata": {},
     "output_type": "display_data"
    },
    {
     "name": "stdout",
     "output_type": "stream",
     "text": [
      "\n",
      "Epoch 65: Loss 0.49300000071525574\n",
      "Val loss: 0.34700000286102295 Thresh: 0.6 F1: 0.724 Recall: 0.712 Precision: 0.737 Error: 0.035\n",
      "Loss: 0.875 1.5 weighted BCE + 0.125 Image Lovasz\n"
     ]
    },
    {
     "data": {
      "application/vnd.jupyter.widget-view+json": {
       "model_id": "57cd8054b6b5425cb9659f4642bf4d73",
       "version_major": 2,
       "version_minor": 0
      },
      "text/plain": [
       "HBox(children=(IntProgress(value=0, max=154), HTML(value='')))"
      ]
     },
     "metadata": {},
     "output_type": "display_data"
    },
    {
     "name": "stdout",
     "output_type": "stream",
     "text": [
      "\n",
      "Epoch 66: Loss 0.492000013589859\n",
      "Val loss: 0.33899998664855957 Thresh: 0.55 F1: 0.727 Recall: 0.716 Precision: 0.738 Error: 0.03\n",
      "Loss: 0.875 1.5 weighted BCE + 0.125 Image Lovasz\n"
     ]
    },
    {
     "data": {
      "application/vnd.jupyter.widget-view+json": {
       "model_id": "db85f52bf2d94e95b5c67e4b28bcb5e4",
       "version_major": 2,
       "version_minor": 0
      },
      "text/plain": [
       "HBox(children=(IntProgress(value=0, max=154), HTML(value='')))"
      ]
     },
     "metadata": {},
     "output_type": "display_data"
    },
    {
     "name": "stdout",
     "output_type": "stream",
     "text": [
      "\n",
      "Epoch 67: Loss 0.49000000953674316\n",
      "Val loss: 0.3440000116825104 Thresh: 0.55 F1: 0.713 Recall: 0.697 Precision: 0.729 Error: 0.046\n",
      "Loss: 0.875 1.5 weighted BCE + 0.125 Image Lovasz\n"
     ]
    },
    {
     "data": {
      "application/vnd.jupyter.widget-view+json": {
       "model_id": "fddd860212bf483aaa7aa5fb83a741e9",
       "version_major": 2,
       "version_minor": 0
      },
      "text/plain": [
       "HBox(children=(IntProgress(value=0, max=154), HTML(value='')))"
      ]
     },
     "metadata": {},
     "output_type": "display_data"
    },
    {
     "name": "stdout",
     "output_type": "stream",
     "text": [
      "\n",
      "Epoch 68: Loss 0.527999997138977\n",
      "Val loss: 0.37599998712539673 Thresh: 0.6 F1: 0.738 Recall: 0.701 Precision: 0.779 Error: 0.111\n",
      "Loss: 0.875 1.5 weighted BCE + 0.125 Image Lovasz\n"
     ]
    },
    {
     "data": {
      "application/vnd.jupyter.widget-view+json": {
       "model_id": "a2d2e4a45c42402da06c0d4ea5adbbe6",
       "version_major": 2,
       "version_minor": 0
      },
      "text/plain": [
       "HBox(children=(IntProgress(value=0, max=154), HTML(value='')))"
      ]
     },
     "metadata": {},
     "output_type": "display_data"
    },
    {
     "name": "stdout",
     "output_type": "stream",
     "text": [
      "\n",
      "Epoch 69: Loss 0.5479999780654907\n",
      "Val loss: 0.3970000147819519 Thresh: 0.6 F1: 0.652 Recall: 0.608 Precision: 0.704 Error: 0.159\n",
      "Loss: 0.875 1.5 weighted BCE + 0.125 Image Lovasz\n"
     ]
    },
    {
     "data": {
      "application/vnd.jupyter.widget-view+json": {
       "model_id": "8cd685e2b8d343fbbb1f8eaabbbe01e3",
       "version_major": 2,
       "version_minor": 0
      },
      "text/plain": [
       "HBox(children=(IntProgress(value=0, max=154), HTML(value='')))"
      ]
     },
     "metadata": {},
     "output_type": "display_data"
    },
    {
     "name": "stdout",
     "output_type": "stream",
     "text": [
      "\n",
      "Epoch 70: Loss 0.5049999952316284\n",
      "Val loss: 0.33000001311302185 Thresh: 0.55 F1: 0.73 Recall: 0.715 Precision: 0.745 Error: 0.043\n",
      "Loss: 0.875 1.5 weighted BCE + 0.125 Image Lovasz\n"
     ]
    },
    {
     "data": {
      "application/vnd.jupyter.widget-view+json": {
       "model_id": "682f8eb3255a42c6af3fae049db9f66f",
       "version_major": 2,
       "version_minor": 0
      },
      "text/plain": [
       "HBox(children=(IntProgress(value=0, max=154), HTML(value='')))"
      ]
     },
     "metadata": {},
     "output_type": "display_data"
    },
    {
     "name": "stdout",
     "output_type": "stream",
     "text": [
      "\n",
      "Epoch 71: Loss 0.4950000047683716\n",
      "Val loss: 0.34700000286102295 Thresh: 0.5 F1: 0.713 Recall: 0.651 Precision: 0.787 Error: 0.209\n",
      "Loss: 0.875 1.5 weighted BCE + 0.125 Image Lovasz\n"
     ]
    },
    {
     "data": {
      "application/vnd.jupyter.widget-view+json": {
       "model_id": "5e64188da81e46dfa0ae8c9bf5781c27",
       "version_major": 2,
       "version_minor": 0
      },
      "text/plain": [
       "HBox(children=(IntProgress(value=0, max=154), HTML(value='')))"
      ]
     },
     "metadata": {},
     "output_type": "display_data"
    },
    {
     "name": "stdout",
     "output_type": "stream",
     "text": [
      "\n",
      "Epoch 72: Loss 0.492000013589859\n",
      "Val loss: 0.3330000042915344 Thresh: 0.55 F1: 0.729 Recall: 0.704 Precision: 0.755 Error: 0.073\n",
      "Loss: 0.875 1.5 weighted BCE + 0.125 Image Lovasz\n"
     ]
    },
    {
     "data": {
      "application/vnd.jupyter.widget-view+json": {
       "model_id": "caebe1e6ec89410eb57804d48d652254",
       "version_major": 2,
       "version_minor": 0
      },
      "text/plain": [
       "HBox(children=(IntProgress(value=0, max=154), HTML(value='')))"
      ]
     },
     "metadata": {},
     "output_type": "display_data"
    },
    {
     "name": "stdout",
     "output_type": "stream",
     "text": [
      "\n",
      "Epoch 73: Loss 0.4880000054836273\n",
      "Val loss: 0.3449999988079071 Thresh: 0.55 F1: 0.717 Recall: 0.697 Precision: 0.737 Error: 0.057\n",
      "Loss: 0.875 1.5 weighted BCE + 0.125 Image Lovasz\n"
     ]
    },
    {
     "data": {
      "application/vnd.jupyter.widget-view+json": {
       "model_id": "550beb968bb249f0b1ccaa17e53eba3a",
       "version_major": 2,
       "version_minor": 0
      },
      "text/plain": [
       "HBox(children=(IntProgress(value=0, max=154), HTML(value='')))"
      ]
     },
     "metadata": {},
     "output_type": "display_data"
    },
    {
     "name": "stdout",
     "output_type": "stream",
     "text": [
      "\n",
      "Epoch 74: Loss 0.49000000953674316\n",
      "Val loss: 0.3149999976158142 Thresh: 0.5 F1: 0.752 Recall: 0.725 Precision: 0.781 Error: 0.076\n",
      "Loss: 0.875 1.5 weighted BCE + 0.125 Image Lovasz\n"
     ]
    },
    {
     "data": {
      "application/vnd.jupyter.widget-view+json": {
       "model_id": "49de214e3bc74910851daab6638759fd",
       "version_major": 2,
       "version_minor": 0
      },
      "text/plain": [
       "HBox(children=(IntProgress(value=0, max=154), HTML(value='')))"
      ]
     },
     "metadata": {},
     "output_type": "display_data"
    },
    {
     "name": "stdout",
     "output_type": "stream",
     "text": [
      "\n",
      "Epoch 75: Loss 0.4950000047683716\n",
      "Val loss: 0.34200000762939453 Thresh: 0.6 F1: 0.725 Recall: 0.702 Precision: 0.751 Error: 0.069\n",
      "Loss: 0.875 1.5 weighted BCE + 0.125 Image Lovasz\n"
     ]
    },
    {
     "data": {
      "application/vnd.jupyter.widget-view+json": {
       "model_id": "e4f0ad0751634e9783d489200e8af7a0",
       "version_major": 2,
       "version_minor": 0
      },
      "text/plain": [
       "HBox(children=(IntProgress(value=0, max=154), HTML(value='')))"
      ]
     },
     "metadata": {},
     "output_type": "display_data"
    },
    {
     "name": "stdout",
     "output_type": "stream",
     "text": [
      "\n",
      "Epoch 76: Loss 0.4860000014305115\n",
      "Val loss: 0.32600000500679016 Thresh: 0.5 F1: 0.73 Recall: 0.705 Precision: 0.756 Error: 0.072\n",
      "Loss: 0.875 1.5 weighted BCE + 0.125 Image Lovasz\n"
     ]
    },
    {
     "data": {
      "application/vnd.jupyter.widget-view+json": {
       "model_id": "a6af6f716e36457b8cc869475e22cd73",
       "version_major": 2,
       "version_minor": 0
      },
      "text/plain": [
       "HBox(children=(IntProgress(value=0, max=154), HTML(value='')))"
      ]
     },
     "metadata": {},
     "output_type": "display_data"
    },
    {
     "name": "stdout",
     "output_type": "stream",
     "text": [
      "\n",
      "Epoch 77: Loss 0.48500001430511475\n",
      "Val loss: 0.3400000035762787 Thresh: 0.45 F1: 0.718 Recall: 0.653 Precision: 0.798 Error: 0.223\n",
      "Loss: 0.875 1.5 weighted BCE + 0.125 Image Lovasz\n"
     ]
    },
    {
     "data": {
      "application/vnd.jupyter.widget-view+json": {
       "model_id": "8d72c2ea93a0437094db2f4587cd2ac3",
       "version_major": 2,
       "version_minor": 0
      },
      "text/plain": [
       "HBox(children=(IntProgress(value=0, max=154), HTML(value='')))"
      ]
     },
     "metadata": {},
     "output_type": "display_data"
    },
    {
     "name": "stdout",
     "output_type": "stream",
     "text": [
      "\n",
      "Epoch 78: Loss 0.48399999737739563\n",
      "Val loss: 0.3240000009536743 Thresh: 0.5 F1: 0.725 Recall: 0.703 Precision: 0.749 Error: 0.066\n",
      "Loss: 0.875 1.5 weighted BCE + 0.125 Image Lovasz\n"
     ]
    },
    {
     "data": {
      "application/vnd.jupyter.widget-view+json": {
       "model_id": "330f1ad0ed0040f1b36ff52c42344d18",
       "version_major": 2,
       "version_minor": 0
      },
      "text/plain": [
       "HBox(children=(IntProgress(value=0, max=154), HTML(value='')))"
      ]
     },
     "metadata": {},
     "output_type": "display_data"
    },
    {
     "name": "stdout",
     "output_type": "stream",
     "text": [
      "\n",
      "Epoch 79: Loss 0.492000013589859\n",
      "Val loss: 0.3409999907016754 Thresh: 0.45 F1: 0.696 Recall: 0.642 Precision: 0.76 Error: 0.185\n",
      "Loss: 0.875 1.5 weighted BCE + 0.125 Image Lovasz\n"
     ]
    },
    {
     "data": {
      "application/vnd.jupyter.widget-view+json": {
       "model_id": "b3f5969bd4c7491b883b9e493b1eff10",
       "version_major": 2,
       "version_minor": 0
      },
      "text/plain": [
       "HBox(children=(IntProgress(value=0, max=154), HTML(value='')))"
      ]
     },
     "metadata": {},
     "output_type": "display_data"
    },
    {
     "name": "stdout",
     "output_type": "stream",
     "text": [
      "\n",
      "Epoch 80: Loss 0.4880000054836273\n",
      "Val loss: 0.34599998593330383 Thresh: 0.55 F1: 0.724 Recall: 0.683 Precision: 0.769 Error: 0.125\n",
      "Loss: 0.875 1.5 weighted BCE + 0.125 Image Lovasz\n"
     ]
    },
    {
     "data": {
      "application/vnd.jupyter.widget-view+json": {
       "model_id": "8559356e93964980879e947228835779",
       "version_major": 2,
       "version_minor": 0
      },
      "text/plain": [
       "HBox(children=(IntProgress(value=0, max=154), HTML(value='')))"
      ]
     },
     "metadata": {},
     "output_type": "display_data"
    },
    {
     "name": "stdout",
     "output_type": "stream",
     "text": [
      "\n",
      "Epoch 81: Loss 0.48399999737739563\n",
      "Val loss: 0.3400000035762787 Thresh: 0.5 F1: 0.728 Recall: 0.688 Precision: 0.774 Error: 0.126\n",
      "Loss: 0.875 1.5 weighted BCE + 0.125 Image Lovasz\n"
     ]
    },
    {
     "data": {
      "application/vnd.jupyter.widget-view+json": {
       "model_id": "87138a288b3e4c99a69627a6ee812681",
       "version_major": 2,
       "version_minor": 0
      },
      "text/plain": [
       "HBox(children=(IntProgress(value=0, max=154), HTML(value='')))"
      ]
     },
     "metadata": {},
     "output_type": "display_data"
    },
    {
     "name": "stdout",
     "output_type": "stream",
     "text": [
      "\n",
      "Epoch 82: Loss 0.48500001430511475\n",
      "Val loss: 0.335999995470047 Thresh: 0.5 F1: 0.728 Recall: 0.694 Precision: 0.766 Error: 0.104\n",
      "Loss: 0.875 1.5 weighted BCE + 0.125 Image Lovasz\n"
     ]
    },
    {
     "data": {
      "application/vnd.jupyter.widget-view+json": {
       "model_id": "38af6bb22e384cd58be8f8f8e9ca3842",
       "version_major": 2,
       "version_minor": 0
      },
      "text/plain": [
       "HBox(children=(IntProgress(value=0, max=154), HTML(value='')))"
      ]
     },
     "metadata": {},
     "output_type": "display_data"
    },
    {
     "name": "stdout",
     "output_type": "stream",
     "text": [
      "\n",
      "Epoch 83: Loss 0.48100000619888306\n",
      "Val loss: 0.33500000834465027 Thresh: 0.55 F1: 0.727 Recall: 0.713 Precision: 0.741 Error: 0.04\n",
      "Loss: 0.875 1.5 weighted BCE + 0.125 Image Lovasz\n"
     ]
    },
    {
     "data": {
      "application/vnd.jupyter.widget-view+json": {
       "model_id": "9bb975765de34bbc92df40ccf937b1dc",
       "version_major": 2,
       "version_minor": 0
      },
      "text/plain": [
       "HBox(children=(IntProgress(value=0, max=154), HTML(value='')))"
      ]
     },
     "metadata": {},
     "output_type": "display_data"
    },
    {
     "name": "stdout",
     "output_type": "stream",
     "text": [
      "\n",
      "Epoch 84: Loss 0.4790000021457672\n",
      "Val loss: 0.3230000138282776 Thresh: 0.55 F1: 0.733 Recall: 0.733 Precision: 0.733 Error: 0.0\n",
      "Loss: 0.875 1.5 weighted BCE + 0.125 Image Lovasz\n"
     ]
    },
    {
     "data": {
      "application/vnd.jupyter.widget-view+json": {
       "model_id": "c8279e9c33924935ba722996591564c6",
       "version_major": 2,
       "version_minor": 0
      },
      "text/plain": [
       "HBox(children=(IntProgress(value=0, max=154), HTML(value='')))"
      ]
     },
     "metadata": {},
     "output_type": "display_data"
    },
    {
     "name": "stdout",
     "output_type": "stream",
     "text": [
      "\n",
      "Epoch 85: Loss 0.47999998927116394\n",
      "Val loss: 0.3499999940395355 Thresh: 0.55 F1: 0.698 Recall: 0.661 Precision: 0.74 Error: 0.119\n",
      "Loss: 0.875 1.5 weighted BCE + 0.125 Image Lovasz\n"
     ]
    },
    {
     "data": {
      "application/vnd.jupyter.widget-view+json": {
       "model_id": "ddab14728935486386e4bd5d532e4687",
       "version_major": 2,
       "version_minor": 0
      },
      "text/plain": [
       "HBox(children=(IntProgress(value=0, max=154), HTML(value='')))"
      ]
     },
     "metadata": {},
     "output_type": "display_data"
    },
    {
     "name": "stdout",
     "output_type": "stream",
     "text": [
      "\n",
      "Epoch 86: Loss 0.4779999852180481\n",
      "Val loss: 0.33899998664855957 Thresh: 0.6 F1: 0.719 Recall: 0.704 Precision: 0.734 Error: 0.043\n",
      "Loss: 0.875 1.5 weighted BCE + 0.125 Image Lovasz\n"
     ]
    },
    {
     "data": {
      "application/vnd.jupyter.widget-view+json": {
       "model_id": "50e815a5e74f4b2fbd4c5dd30d548198",
       "version_major": 2,
       "version_minor": 0
      },
      "text/plain": [
       "HBox(children=(IntProgress(value=0, max=154), HTML(value='')))"
      ]
     },
     "metadata": {},
     "output_type": "display_data"
    },
    {
     "name": "stdout",
     "output_type": "stream",
     "text": [
      "\n",
      "Epoch 87: Loss 0.4790000021457672\n",
      "Val loss: 0.32600000500679016 Thresh: 0.45 F1: 0.727 Recall: 0.679 Precision: 0.783 Error: 0.154\n",
      "Loss: 0.875 1.5 weighted BCE + 0.125 Image Lovasz\n"
     ]
    },
    {
     "data": {
      "application/vnd.jupyter.widget-view+json": {
       "model_id": "524125ac52d74103b61c0a389ca7cdc2",
       "version_major": 2,
       "version_minor": 0
      },
      "text/plain": [
       "HBox(children=(IntProgress(value=0, max=154), HTML(value='')))"
      ]
     },
     "metadata": {},
     "output_type": "display_data"
    },
    {
     "name": "stdout",
     "output_type": "stream",
     "text": [
      "\n",
      "Epoch 88: Loss 0.4779999852180481\n",
      "Val loss: 0.32100000977516174 Thresh: 0.45 F1: 0.727 Recall: 0.704 Precision: 0.752 Error: 0.069\n",
      "Loss: 0.875 1.5 weighted BCE + 0.125 Image Lovasz\n"
     ]
    },
    {
     "data": {
      "application/vnd.jupyter.widget-view+json": {
       "model_id": "9ea34114f85b4a09899e0b9bcfd2a213",
       "version_major": 2,
       "version_minor": 0
      },
      "text/plain": [
       "HBox(children=(IntProgress(value=0, max=154), HTML(value='')))"
      ]
     },
     "metadata": {},
     "output_type": "display_data"
    },
    {
     "name": "stdout",
     "output_type": "stream",
     "text": [
      "\n",
      "Epoch 89: Loss 0.4779999852180481\n",
      "Val loss: 0.3269999921321869 Thresh: 0.5 F1: 0.729 Recall: 0.718 Precision: 0.739 Error: 0.029\n",
      "Loss: 0.875 1.5 weighted BCE + 0.125 Image Lovasz\n"
     ]
    },
    {
     "data": {
      "application/vnd.jupyter.widget-view+json": {
       "model_id": "11da5e4158414b6a905839a04e04f5f3",
       "version_major": 2,
       "version_minor": 0
      },
      "text/plain": [
       "HBox(children=(IntProgress(value=0, max=154), HTML(value='')))"
      ]
     },
     "metadata": {},
     "output_type": "display_data"
    },
    {
     "name": "stdout",
     "output_type": "stream",
     "text": [
      "\n",
      "Epoch 90: Loss 0.47600001096725464\n",
      "Val loss: 0.35199999809265137 Thresh: 0.5 F1: 0.706 Recall: 0.658 Precision: 0.763 Error: 0.16\n",
      "Loss: 0.875 1.5 weighted BCE + 0.125 Image Lovasz\n"
     ]
    },
    {
     "data": {
      "application/vnd.jupyter.widget-view+json": {
       "model_id": "7f35eece6f214687b692d8fcef04f402",
       "version_major": 2,
       "version_minor": 0
      },
      "text/plain": [
       "HBox(children=(IntProgress(value=0, max=154), HTML(value='')))"
      ]
     },
     "metadata": {},
     "output_type": "display_data"
    },
    {
     "name": "stdout",
     "output_type": "stream",
     "text": [
      "\n",
      "Epoch 91: Loss 0.47600001096725464\n",
      "Val loss: 0.34700000286102295 Thresh: 0.6 F1: 0.718 Recall: 0.725 Precision: 0.712 Error: 0.017\n",
      "Loss: 0.875 1.5 weighted BCE + 0.125 Image Lovasz\n"
     ]
    },
    {
     "data": {
      "application/vnd.jupyter.widget-view+json": {
       "model_id": "768ca3c3aa0d4f03affbfb616a0abf51",
       "version_major": 2,
       "version_minor": 0
      },
      "text/plain": [
       "HBox(children=(IntProgress(value=0, max=154), HTML(value='')))"
      ]
     },
     "metadata": {},
     "output_type": "display_data"
    },
    {
     "name": "stdout",
     "output_type": "stream",
     "text": [
      "\n",
      "Epoch 92: Loss 0.47699999809265137\n",
      "Val loss: 0.3449999988079071 Thresh: 0.55 F1: 0.709 Recall: 0.697 Precision: 0.72 Error: 0.033\n",
      "Loss: 0.875 1.5 weighted BCE + 0.125 Image Lovasz\n"
     ]
    },
    {
     "data": {
      "application/vnd.jupyter.widget-view+json": {
       "model_id": "e08150379de048c2a20a704c0e174b6a",
       "version_major": 2,
       "version_minor": 0
      },
      "text/plain": [
       "HBox(children=(IntProgress(value=0, max=154), HTML(value='')))"
      ]
     },
     "metadata": {},
     "output_type": "display_data"
    },
    {
     "name": "stdout",
     "output_type": "stream",
     "text": [
      "\n",
      "Epoch 93: Loss 0.4749999940395355\n",
      "Val loss: 0.3330000042915344 Thresh: 0.45 F1: 0.714 Recall: 0.669 Precision: 0.765 Error: 0.144\n",
      "Loss: 0.875 1.5 weighted BCE + 0.125 Image Lovasz\n"
     ]
    },
    {
     "data": {
      "application/vnd.jupyter.widget-view+json": {
       "model_id": "fd0765f5ba6c4557a3a06de9ff42cf9a",
       "version_major": 2,
       "version_minor": 0
      },
      "text/plain": [
       "HBox(children=(IntProgress(value=0, max=154), HTML(value='')))"
      ]
     },
     "metadata": {},
     "output_type": "display_data"
    },
    {
     "name": "stdout",
     "output_type": "stream",
     "text": [
      "\n",
      "Epoch 94: Loss 0.47200000286102295\n",
      "Val loss: 0.3409999907016754 Thresh: 0.55 F1: 0.706 Recall: 0.691 Precision: 0.722 Error: 0.044\n",
      "Loss: 0.875 1.5 weighted BCE + 0.125 Image Lovasz\n"
     ]
    },
    {
     "data": {
      "application/vnd.jupyter.widget-view+json": {
       "model_id": "651ecdf01a754073bdd8ee51eee8f4ac",
       "version_major": 2,
       "version_minor": 0
      },
      "text/plain": [
       "HBox(children=(IntProgress(value=0, max=154), HTML(value='')))"
      ]
     },
     "metadata": {},
     "output_type": "display_data"
    },
    {
     "name": "stdout",
     "output_type": "stream",
     "text": [
      "\n",
      "Epoch 95: Loss 0.47699999809265137\n",
      "Val loss: 0.4580000042915344 Thresh: 0.6 F1: 0.67 Recall: 0.579 Precision: 0.795 Error: 0.373\n",
      "Loss: 0.875 1.5 weighted BCE + 0.125 Image Lovasz\n"
     ]
    },
    {
     "data": {
      "application/vnd.jupyter.widget-view+json": {
       "model_id": "85a16ed75b8c40629cd89040c667e362",
       "version_major": 2,
       "version_minor": 0
      },
      "text/plain": [
       "HBox(children=(IntProgress(value=0, max=154), HTML(value='')))"
      ]
     },
     "metadata": {},
     "output_type": "display_data"
    },
    {
     "name": "stdout",
     "output_type": "stream",
     "text": [
      "\n",
      "Epoch 96: Loss 0.4819999933242798\n",
      "Val loss: 0.35100001096725464 Thresh: 0.45 F1: 0.714 Recall: 0.659 Precision: 0.779 Error: 0.182\n",
      "Loss: 0.875 1.5 weighted BCE + 0.125 Image Lovasz\n"
     ]
    },
    {
     "data": {
      "application/vnd.jupyter.widget-view+json": {
       "model_id": "137436770b5f432d9f0cc390ffc2bb31",
       "version_major": 2,
       "version_minor": 0
      },
      "text/plain": [
       "HBox(children=(IntProgress(value=0, max=154), HTML(value='')))"
      ]
     },
     "metadata": {},
     "output_type": "display_data"
    },
    {
     "name": "stdout",
     "output_type": "stream",
     "text": [
      "\n",
      "Epoch 97: Loss 0.4699999988079071\n",
      "Val loss: 0.35100001096725464 Thresh: 0.55 F1: 0.697 Recall: 0.674 Precision: 0.72 Error: 0.069\n",
      "Loss: 0.875 1.5 weighted BCE + 0.125 Image Lovasz\n"
     ]
    },
    {
     "data": {
      "application/vnd.jupyter.widget-view+json": {
       "model_id": "53b234e2237b46d1b3400d44d78c0232",
       "version_major": 2,
       "version_minor": 0
      },
      "text/plain": [
       "HBox(children=(IntProgress(value=0, max=154), HTML(value='')))"
      ]
     },
     "metadata": {},
     "output_type": "display_data"
    },
    {
     "name": "stdout",
     "output_type": "stream",
     "text": [
      "\n",
      "Epoch 98: Loss 0.4699999988079071\n",
      "Val loss: 0.3619999885559082 Thresh: 0.55 F1: 0.686 Recall: 0.669 Precision: 0.704 Error: 0.053\n",
      "Loss: 0.875 1.5 weighted BCE + 0.125 Image Lovasz\n"
     ]
    },
    {
     "data": {
      "application/vnd.jupyter.widget-view+json": {
       "model_id": "72d4b7f568874e7a8037c669a0a7936c",
       "version_major": 2,
       "version_minor": 0
      },
      "text/plain": [
       "HBox(children=(IntProgress(value=0, max=154), HTML(value='')))"
      ]
     },
     "metadata": {},
     "output_type": "display_data"
    },
    {
     "name": "stdout",
     "output_type": "stream",
     "text": [
      "\n",
      "Epoch 99: Loss 0.49399998784065247\n",
      "Val loss: 0.37599998712539673 Thresh: 0.6 F1: 0.701 Recall: 0.665 Precision: 0.741 Error: 0.115\n",
      "Loss: 0.875 1.5 weighted BCE + 0.125 Image Lovasz\n"
     ]
    },
    {
     "data": {
      "application/vnd.jupyter.widget-view+json": {
       "model_id": "4a0c61c22cfd48d58e3cdee450fdaa7f",
       "version_major": 2,
       "version_minor": 0
      },
      "text/plain": [
       "HBox(children=(IntProgress(value=0, max=154), HTML(value='')))"
      ]
     },
     "metadata": {},
     "output_type": "display_data"
    },
    {
     "name": "stdout",
     "output_type": "stream",
     "text": [
      "\n",
      "Epoch 100: Loss 0.503000020980835\n",
      "Val loss: 0.3409999907016754 Thresh: 0.45 F1: 0.713 Recall: 0.66 Precision: 0.775 Error: 0.174\n",
      "Loss: 0.875 1.5 weighted BCE + 0.125 Image Lovasz\n"
     ]
    },
    {
     "data": {
      "application/vnd.jupyter.widget-view+json": {
       "model_id": "b6134ad0e2304578bdf7204dd3709244",
       "version_major": 2,
       "version_minor": 0
      },
      "text/plain": [
       "HBox(children=(IntProgress(value=0, max=154), HTML(value='')))"
      ]
     },
     "metadata": {},
     "output_type": "display_data"
    },
    {
     "name": "stdout",
     "output_type": "stream",
     "text": [
      "\n",
      "Epoch 101: Loss 0.4740000069141388\n",
      "Val loss: 0.36500000953674316 Thresh: 0.5 F1: 0.704 Recall: 0.646 Precision: 0.772 Error: 0.196\n",
      "Loss: 0.875 1.5 weighted BCE + 0.125 Image Lovasz\n"
     ]
    },
    {
     "data": {
      "application/vnd.jupyter.widget-view+json": {
       "model_id": "4bcc74f849dd4343b1708fd1abf4edab",
       "version_major": 2,
       "version_minor": 0
      },
      "text/plain": [
       "HBox(children=(IntProgress(value=0, max=154), HTML(value='')))"
      ]
     },
     "metadata": {},
     "output_type": "display_data"
    },
    {
     "name": "stdout",
     "output_type": "stream",
     "text": [
      "\n",
      "Epoch 102: Loss 0.46700000762939453\n",
      "Val loss: 0.3580000102519989 Thresh: 0.55 F1: 0.708 Recall: 0.675 Precision: 0.744 Error: 0.103\n",
      "Loss: 0.875 1.5 weighted BCE + 0.125 Image Lovasz\n"
     ]
    },
    {
     "data": {
      "application/vnd.jupyter.widget-view+json": {
       "model_id": "94b6ab5eacde49789d0aac2ad9ad9582",
       "version_major": 2,
       "version_minor": 0
      },
      "text/plain": [
       "HBox(children=(IntProgress(value=0, max=154), HTML(value='')))"
      ]
     },
     "metadata": {},
     "output_type": "display_data"
    },
    {
     "name": "stdout",
     "output_type": "stream",
     "text": [
      "\n",
      "Epoch 103: Loss 0.4650000035762787\n",
      "Val loss: 0.36800000071525574 Thresh: 0.55 F1: 0.709 Recall: 0.663 Precision: 0.763 Error: 0.152\n",
      "Loss: 0.875 1.5 weighted BCE + 0.125 Image Lovasz\n"
     ]
    },
    {
     "data": {
      "application/vnd.jupyter.widget-view+json": {
       "model_id": "6e090be8850941fba112e22088410866",
       "version_major": 2,
       "version_minor": 0
      },
      "text/plain": [
       "HBox(children=(IntProgress(value=0, max=154), HTML(value='')))"
      ]
     },
     "metadata": {},
     "output_type": "display_data"
    },
    {
     "name": "stdout",
     "output_type": "stream",
     "text": [
      "\n",
      "Epoch 104: Loss 0.46700000762939453\n",
      "Val loss: 0.3709999918937683 Thresh: 0.5 F1: 0.689 Recall: 0.624 Precision: 0.769 Error: 0.232\n",
      "Loss: 0.875 1.5 weighted BCE + 0.125 Image Lovasz\n"
     ]
    },
    {
     "data": {
      "application/vnd.jupyter.widget-view+json": {
       "model_id": "fe22e84da5404427be0be2823f5da4c3",
       "version_major": 2,
       "version_minor": 0
      },
      "text/plain": [
       "HBox(children=(IntProgress(value=0, max=154), HTML(value='')))"
      ]
     },
     "metadata": {},
     "output_type": "display_data"
    },
    {
     "name": "stdout",
     "output_type": "stream",
     "text": [
      "\n",
      "Epoch 105: Loss 0.4650000035762787\n",
      "Val loss: 0.34200000762939453 Thresh: 0.45 F1: 0.708 Recall: 0.645 Precision: 0.785 Error: 0.217\n",
      "Loss: 0.875 1.5 weighted BCE + 0.125 Image Lovasz\n"
     ]
    },
    {
     "data": {
      "application/vnd.jupyter.widget-view+json": {
       "model_id": "a21c91972d53433890eff999a7376a63",
       "version_major": 2,
       "version_minor": 0
      },
      "text/plain": [
       "HBox(children=(IntProgress(value=0, max=154), HTML(value='')))"
      ]
     },
     "metadata": {},
     "output_type": "display_data"
    },
    {
     "name": "stdout",
     "output_type": "stream",
     "text": [
      "\n",
      "Epoch 106: Loss 0.46299999952316284\n",
      "Val loss: 0.3400000035762787 Thresh: 0.6 F1: 0.717 Recall: 0.716 Precision: 0.718 Error: 0.003\n",
      "Loss: 0.875 1.5 weighted BCE + 0.125 Image Lovasz\n"
     ]
    },
    {
     "data": {
      "application/vnd.jupyter.widget-view+json": {
       "model_id": "a6c0057be8254137b899229bc2a5ad74",
       "version_major": 2,
       "version_minor": 0
      },
      "text/plain": [
       "HBox(children=(IntProgress(value=0, max=154), HTML(value='')))"
      ]
     },
     "metadata": {},
     "output_type": "display_data"
    },
    {
     "name": "stdout",
     "output_type": "stream",
     "text": [
      "\n",
      "Epoch 107: Loss 0.4650000035762787\n",
      "Val loss: 0.335999995470047 Thresh: 0.45 F1: 0.723 Recall: 0.667 Precision: 0.789 Error: 0.183\n",
      "Loss: 0.875 1.5 weighted BCE + 0.125 Image Lovasz\n"
     ]
    },
    {
     "data": {
      "application/vnd.jupyter.widget-view+json": {
       "model_id": "337b1d0caa574cd89df93bcb69fbf805",
       "version_major": 2,
       "version_minor": 0
      },
      "text/plain": [
       "HBox(children=(IntProgress(value=0, max=154), HTML(value='')))"
      ]
     },
     "metadata": {},
     "output_type": "display_data"
    },
    {
     "name": "stdout",
     "output_type": "stream",
     "text": [
      "\n",
      "Epoch 108: Loss 0.4620000123977661\n",
      "Val loss: 0.35100001096725464 Thresh: 0.5 F1: 0.71 Recall: 0.667 Precision: 0.758 Error: 0.135\n",
      "Loss: 0.875 1.5 weighted BCE + 0.125 Image Lovasz\n"
     ]
    },
    {
     "data": {
      "application/vnd.jupyter.widget-view+json": {
       "model_id": "cab382c0fb6441e388dcc4d6115dff42",
       "version_major": 2,
       "version_minor": 0
      },
      "text/plain": [
       "HBox(children=(IntProgress(value=0, max=154), HTML(value='')))"
      ]
     },
     "metadata": {},
     "output_type": "display_data"
    },
    {
     "name": "stdout",
     "output_type": "stream",
     "text": [
      "\n",
      "Epoch 109: Loss 0.4650000035762787\n",
      "Val loss: 0.382999986410141 Thresh: 0.5 F1: 0.685 Recall: 0.621 Precision: 0.763 Error: 0.228\n",
      "Loss: 0.875 1.5 weighted BCE + 0.125 Image Lovasz\n"
     ]
    },
    {
     "data": {
      "application/vnd.jupyter.widget-view+json": {
       "model_id": "9cdd675d936f4f60af7b77ae4f2d8c5d",
       "version_major": 2,
       "version_minor": 0
      },
      "text/plain": [
       "HBox(children=(IntProgress(value=0, max=154), HTML(value='')))"
      ]
     },
     "metadata": {},
     "output_type": "display_data"
    },
    {
     "name": "stdout",
     "output_type": "stream",
     "text": [
      "\n",
      "Epoch 110: Loss 0.4620000123977661\n",
      "Val loss: 0.37599998712539673 Thresh: 0.6 F1: 0.703 Recall: 0.655 Precision: 0.758 Error: 0.157\n",
      "Loss: 0.875 1.5 weighted BCE + 0.125 Image Lovasz\n"
     ]
    },
    {
     "data": {
      "application/vnd.jupyter.widget-view+json": {
       "model_id": "225153095a004990907334345287859e",
       "version_major": 2,
       "version_minor": 0
      },
      "text/plain": [
       "HBox(children=(IntProgress(value=0, max=154), HTML(value='')))"
      ]
     },
     "metadata": {},
     "output_type": "display_data"
    },
    {
     "name": "stdout",
     "output_type": "stream",
     "text": [
      "\n",
      "Epoch 111: Loss 0.4620000123977661\n",
      "Val loss: 0.3330000042915344 Thresh: 0.5 F1: 0.715 Recall: 0.703 Precision: 0.728 Error: 0.036\n",
      "Loss: 0.875 1.5 weighted BCE + 0.125 Image Lovasz\n"
     ]
    },
    {
     "data": {
      "application/vnd.jupyter.widget-view+json": {
       "model_id": "40fc7193b32143309fd591d982859744",
       "version_major": 2,
       "version_minor": 0
      },
      "text/plain": [
       "HBox(children=(IntProgress(value=0, max=154), HTML(value='')))"
      ]
     },
     "metadata": {},
     "output_type": "display_data"
    },
    {
     "name": "stdout",
     "output_type": "stream",
     "text": [
      "\n",
      "Epoch 112: Loss 0.4620000123977661\n",
      "Val loss: 0.33000001311302185 Thresh: 0.4 F1: 0.722 Recall: 0.706 Precision: 0.739 Error: 0.047\n",
      "Loss: 0.875 1.5 weighted BCE + 0.125 Image Lovasz\n"
     ]
    },
    {
     "data": {
      "application/vnd.jupyter.widget-view+json": {
       "model_id": "665394a139e84cbda99f2c53f7bed0f6",
       "version_major": 2,
       "version_minor": 0
      },
      "text/plain": [
       "HBox(children=(IntProgress(value=0, max=154), HTML(value='')))"
      ]
     },
     "metadata": {},
     "output_type": "display_data"
    },
    {
     "name": "stdout",
     "output_type": "stream",
     "text": [
      "\n",
      "Epoch 113: Loss 0.46399998664855957\n",
      "Val loss: 0.3499999940395355 Thresh: 0.4 F1: 0.694 Recall: 0.624 Precision: 0.783 Error: 0.254\n",
      "Loss: 0.875 1.5 weighted BCE + 0.125 Image Lovasz\n"
     ]
    },
    {
     "data": {
      "application/vnd.jupyter.widget-view+json": {
       "model_id": "0ef4102eb92c4b0b8ee13ca9cdf0a237",
       "version_major": 2,
       "version_minor": 0
      },
      "text/plain": [
       "HBox(children=(IntProgress(value=0, max=154), HTML(value='')))"
      ]
     },
     "metadata": {},
     "output_type": "display_data"
    },
    {
     "name": "stdout",
     "output_type": "stream",
     "text": [
      "\n",
      "Epoch 114: Loss 0.46000000834465027\n",
      "Val loss: 0.34599998593330383 Thresh: 0.55 F1: 0.694 Recall: 0.677 Precision: 0.711 Error: 0.05\n",
      "Loss: 0.875 1.5 weighted BCE + 0.125 Image Lovasz\n"
     ]
    },
    {
     "data": {
      "application/vnd.jupyter.widget-view+json": {
       "model_id": "548773480256445796a3eb74131f2940",
       "version_major": 2,
       "version_minor": 0
      },
      "text/plain": [
       "HBox(children=(IntProgress(value=0, max=154), HTML(value='')))"
      ]
     },
     "metadata": {},
     "output_type": "display_data"
    },
    {
     "name": "stdout",
     "output_type": "stream",
     "text": [
      "\n",
      "Epoch 115: Loss 0.46299999952316284\n",
      "Val loss: 0.36500000953674316 Thresh: 0.6 F1: 0.698 Recall: 0.68 Precision: 0.717 Error: 0.056\n",
      "Loss: 0.875 1.5 weighted BCE + 0.125 Image Lovasz\n"
     ]
    },
    {
     "data": {
      "application/vnd.jupyter.widget-view+json": {
       "model_id": "0f3f21e1417b4008ad022853d789293b",
       "version_major": 2,
       "version_minor": 0
      },
      "text/plain": [
       "HBox(children=(IntProgress(value=0, max=154), HTML(value='')))"
      ]
     },
     "metadata": {},
     "output_type": "display_data"
    },
    {
     "name": "stdout",
     "output_type": "stream",
     "text": [
      "\n",
      "Epoch 116: Loss 0.546999990940094\n",
      "Val loss: 0.3449999988079071 Thresh: 0.45 F1: 0.728 Recall: 0.67 Precision: 0.798 Error: 0.191\n",
      "Loss: 0.875 1.5 weighted BCE + 0.125 Image Lovasz\n"
     ]
    },
    {
     "data": {
      "application/vnd.jupyter.widget-view+json": {
       "model_id": "0e259982e2fe40898527b0e5e3149bdd",
       "version_major": 2,
       "version_minor": 0
      },
      "text/plain": [
       "HBox(children=(IntProgress(value=0, max=154), HTML(value='')))"
      ]
     },
     "metadata": {},
     "output_type": "display_data"
    },
    {
     "name": "stdout",
     "output_type": "stream",
     "text": [
      "\n",
      "Epoch 117: Loss 0.5049999952316284\n",
      "Val loss: 0.34700000286102295 Thresh: 0.5 F1: 0.727 Recall: 0.687 Precision: 0.772 Error: 0.123\n",
      "Loss: 0.875 1.5 weighted BCE + 0.125 Image Lovasz\n"
     ]
    },
    {
     "data": {
      "application/vnd.jupyter.widget-view+json": {
       "model_id": "838de10144f24209ba3e5be7a9796a8e",
       "version_major": 2,
       "version_minor": 0
      },
      "text/plain": [
       "HBox(children=(IntProgress(value=0, max=154), HTML(value='')))"
      ]
     },
     "metadata": {},
     "output_type": "display_data"
    },
    {
     "name": "stdout",
     "output_type": "stream",
     "text": [
      "\n",
      "Epoch 118: Loss 0.47099998593330383\n",
      "Val loss: 0.34200000762939453 Thresh: 0.5 F1: 0.727 Recall: 0.689 Precision: 0.77 Error: 0.117\n",
      "Loss: 0.875 1.5 weighted BCE + 0.125 Image Lovasz\n"
     ]
    },
    {
     "data": {
      "application/vnd.jupyter.widget-view+json": {
       "model_id": "e208429dc33e4743b766fad90f708838",
       "version_major": 2,
       "version_minor": 0
      },
      "text/plain": [
       "HBox(children=(IntProgress(value=0, max=154), HTML(value='')))"
      ]
     },
     "metadata": {},
     "output_type": "display_data"
    },
    {
     "name": "stdout",
     "output_type": "stream",
     "text": [
      "\n",
      "Epoch 119: Loss 0.4620000123977661\n",
      "Val loss: 0.3490000069141388 Thresh: 0.5 F1: 0.713 Recall: 0.668 Precision: 0.766 Error: 0.146\n",
      "Loss: 0.875 1.5 weighted BCE + 0.125 Image Lovasz\n"
     ]
    },
    {
     "data": {
      "application/vnd.jupyter.widget-view+json": {
       "model_id": "13daaec172c94b72a84b17773f5e26f2",
       "version_major": 2,
       "version_minor": 0
      },
      "text/plain": [
       "HBox(children=(IntProgress(value=0, max=154), HTML(value='')))"
      ]
     },
     "metadata": {},
     "output_type": "display_data"
    },
    {
     "name": "stdout",
     "output_type": "stream",
     "text": [
      "\n",
      "Epoch 120: Loss 0.45899999141693115\n",
      "Val loss: 0.35100001096725464 Thresh: 0.55 F1: 0.715 Recall: 0.675 Precision: 0.758 Error: 0.123\n",
      "Loss: 0.875 1.5 weighted BCE + 0.125 Image Lovasz\n"
     ]
    },
    {
     "data": {
      "application/vnd.jupyter.widget-view+json": {
       "model_id": "1ae3cdd388234a7d80e4c159edaf62cb",
       "version_major": 2,
       "version_minor": 0
      },
      "text/plain": [
       "HBox(children=(IntProgress(value=0, max=154), HTML(value='')))"
      ]
     },
     "metadata": {},
     "output_type": "display_data"
    },
    {
     "name": "stdout",
     "output_type": "stream",
     "text": [
      "\n",
      "Epoch 121: Loss 0.45899999141693115\n",
      "Val loss: 0.3700000047683716 Thresh: 0.55 F1: 0.71 Recall: 0.661 Precision: 0.767 Error: 0.16\n",
      "Loss: 0.875 1.5 weighted BCE + 0.125 Image Lovasz\n"
     ]
    },
    {
     "data": {
      "application/vnd.jupyter.widget-view+json": {
       "model_id": "697ea37305f3499fb8c48780f595c2f7",
       "version_major": 2,
       "version_minor": 0
      },
      "text/plain": [
       "HBox(children=(IntProgress(value=0, max=154), HTML(value='')))"
      ]
     },
     "metadata": {},
     "output_type": "display_data"
    },
    {
     "name": "stdout",
     "output_type": "stream",
     "text": [
      "\n",
      "Epoch 122: Loss 0.45899999141693115\n",
      "Val loss: 0.35600000619888306 Thresh: 0.5 F1: 0.708 Recall: 0.677 Precision: 0.742 Error: 0.095\n",
      "Loss: 0.875 1.5 weighted BCE + 0.125 Image Lovasz\n"
     ]
    },
    {
     "data": {
      "application/vnd.jupyter.widget-view+json": {
       "model_id": "caf88a39e4c54a6c8a83ba3e9f0a25f2",
       "version_major": 2,
       "version_minor": 0
      },
      "text/plain": [
       "HBox(children=(IntProgress(value=0, max=154), HTML(value='')))"
      ]
     },
     "metadata": {},
     "output_type": "display_data"
    },
    {
     "name": "stdout",
     "output_type": "stream",
     "text": [
      "\n",
      "Epoch 123: Loss 0.4560000002384186\n",
      "Val loss: 0.3580000102519989 Thresh: 0.5 F1: 0.709 Recall: 0.66 Precision: 0.766 Error: 0.16\n",
      "Loss: 0.875 1.5 weighted BCE + 0.125 Image Lovasz\n"
     ]
    },
    {
     "data": {
      "application/vnd.jupyter.widget-view+json": {
       "model_id": "15bf55f973754da29d35dbe7f6d08b91",
       "version_major": 2,
       "version_minor": 0
      },
      "text/plain": [
       "HBox(children=(IntProgress(value=0, max=154), HTML(value='')))"
      ]
     },
     "metadata": {},
     "output_type": "display_data"
    },
    {
     "name": "stdout",
     "output_type": "stream",
     "text": [
      "\n",
      "Epoch 124: Loss 0.4560000002384186\n",
      "Val loss: 0.35499998927116394 Thresh: 0.4 F1: 0.703 Recall: 0.641 Precision: 0.779 Error: 0.215\n",
      "Loss: 0.875 1.5 weighted BCE + 0.125 Image Lovasz\n"
     ]
    },
    {
     "data": {
      "application/vnd.jupyter.widget-view+json": {
       "model_id": "cf3011e773bf4518abd1e8071cd832f2",
       "version_major": 2,
       "version_minor": 0
      },
      "text/plain": [
       "HBox(children=(IntProgress(value=0, max=154), HTML(value='')))"
      ]
     },
     "metadata": {},
     "output_type": "display_data"
    },
    {
     "name": "stdout",
     "output_type": "stream",
     "text": [
      "\n",
      "Epoch 125: Loss 0.45500001311302185\n",
      "Val loss: 0.3700000047683716 Thresh: 0.5 F1: 0.7 Recall: 0.638 Precision: 0.775 Error: 0.215\n",
      "Switching to SGD\n"
     ]
    },
    {
     "data": {
      "application/vnd.jupyter.widget-view+json": {
       "model_id": "2604dd1de90748de9257a31d613db4a0",
       "version_major": 2,
       "version_minor": 0
      },
      "text/plain": [
       "HBox(children=(IntProgress(value=0, max=154), HTML(value='')))"
      ]
     },
     "metadata": {},
     "output_type": "display_data"
    },
    {
     "name": "stdout",
     "output_type": "stream",
     "text": [
      "\n",
      "Epoch 126: Loss 0.45399999618530273\n",
      "Val loss: 0.3610000014305115 Thresh: 0.45 F1: 0.701 Recall: 0.635 Precision: 0.782 Error: 0.233\n",
      "Switching to SGD\n"
     ]
    },
    {
     "data": {
      "application/vnd.jupyter.widget-view+json": {
       "model_id": "1ac596a5cef34c3b8e205dcb8c86f398",
       "version_major": 2,
       "version_minor": 0
      },
      "text/plain": [
       "HBox(children=(IntProgress(value=0, max=154), HTML(value='')))"
      ]
     },
     "metadata": {},
     "output_type": "display_data"
    },
    {
     "name": "stdout",
     "output_type": "stream",
     "text": [
      "\n",
      "Epoch 127: Loss 0.4519999921321869\n",
      "Val loss: 0.3580000102519989 Thresh: 0.5 F1: 0.702 Recall: 0.656 Precision: 0.755 Error: 0.151\n",
      "Switching to SGD\n"
     ]
    },
    {
     "data": {
      "application/vnd.jupyter.widget-view+json": {
       "model_id": "b8a5ccd74d144f4896fe38813db11983",
       "version_major": 2,
       "version_minor": 0
      },
      "text/plain": [
       "HBox(children=(IntProgress(value=0, max=154), HTML(value='')))"
      ]
     },
     "metadata": {},
     "output_type": "display_data"
    },
    {
     "name": "stdout",
     "output_type": "stream",
     "text": [
      "\n",
      "Epoch 128: Loss 0.45100000500679016\n",
      "Val loss: 0.35600000619888306 Thresh: 0.5 F1: 0.704 Recall: 0.66 Precision: 0.753 Error: 0.142\n",
      "Switching to SGD\n"
     ]
    },
    {
     "data": {
      "application/vnd.jupyter.widget-view+json": {
       "model_id": "0714d944f45e40fd8c4b2f1a3a963cc5",
       "version_major": 2,
       "version_minor": 0
      },
      "text/plain": [
       "HBox(children=(IntProgress(value=0, max=154), HTML(value='')))"
      ]
     },
     "metadata": {},
     "output_type": "display_data"
    },
    {
     "name": "stdout",
     "output_type": "stream",
     "text": [
      "\n",
      "Epoch 129: Loss 0.45100000500679016\n",
      "Val loss: 0.35600000619888306 Thresh: 0.5 F1: 0.703 Recall: 0.661 Precision: 0.751 Error: 0.136\n",
      "Switching to SGD\n"
     ]
    },
    {
     "data": {
      "application/vnd.jupyter.widget-view+json": {
       "model_id": "3028f75a4b7f4fdf864d102a1f7a33de",
       "version_major": 2,
       "version_minor": 0
      },
      "text/plain": [
       "HBox(children=(IntProgress(value=0, max=154), HTML(value='')))"
      ]
     },
     "metadata": {},
     "output_type": "display_data"
    },
    {
     "name": "stdout",
     "output_type": "stream",
     "text": [
      "\n",
      "Epoch 130: Loss 0.45100000500679016\n",
      "Val loss: 0.35499998927116394 Thresh: 0.5 F1: 0.703 Recall: 0.662 Precision: 0.751 Error: 0.134\n",
      "Switching to SGD\n"
     ]
    },
    {
     "data": {
      "application/vnd.jupyter.widget-view+json": {
       "model_id": "26ba2aa1c1a04a88bd5827190583d06d",
       "version_major": 2,
       "version_minor": 0
      },
      "text/plain": [
       "HBox(children=(IntProgress(value=0, max=154), HTML(value='')))"
      ]
     },
     "metadata": {},
     "output_type": "display_data"
    },
    {
     "name": "stdout",
     "output_type": "stream",
     "text": [
      "\n",
      "Epoch 131: Loss 0.45100000500679016\n",
      "Val loss: 0.35499998927116394 Thresh: 0.5 F1: 0.704 Recall: 0.663 Precision: 0.75 Error: 0.131\n",
      "Switching to SGD\n"
     ]
    },
    {
     "data": {
      "application/vnd.jupyter.widget-view+json": {
       "model_id": "2f0a61c73c984f97944628efa56431ad",
       "version_major": 2,
       "version_minor": 0
      },
      "text/plain": [
       "HBox(children=(IntProgress(value=0, max=154), HTML(value='')))"
      ]
     },
     "metadata": {},
     "output_type": "display_data"
    },
    {
     "name": "stdout",
     "output_type": "stream",
     "text": [
      "\n",
      "Epoch 132: Loss 0.45100000500679016\n",
      "Val loss: 0.35499998927116394 Thresh: 0.5 F1: 0.704 Recall: 0.664 Precision: 0.749 Error: 0.129\n",
      "Switching to SGD\n"
     ]
    },
    {
     "data": {
      "application/vnd.jupyter.widget-view+json": {
       "model_id": "a0da756418f241a388faad246a434706",
       "version_major": 2,
       "version_minor": 0
      },
      "text/plain": [
       "HBox(children=(IntProgress(value=0, max=154), HTML(value='')))"
      ]
     },
     "metadata": {},
     "output_type": "display_data"
    },
    {
     "name": "stdout",
     "output_type": "stream",
     "text": [
      "\n",
      "Epoch 133: Loss 0.44999998807907104\n",
      "Val loss: 0.35499998927116394 Thresh: 0.5 F1: 0.704 Recall: 0.664 Precision: 0.75 Error: 0.129\n",
      "Switching to SGD\n"
     ]
    },
    {
     "data": {
      "application/vnd.jupyter.widget-view+json": {
       "model_id": "6a0404965b964467a06ca831dc753d82",
       "version_major": 2,
       "version_minor": 0
      },
      "text/plain": [
       "HBox(children=(IntProgress(value=0, max=154), HTML(value='')))"
      ]
     },
     "metadata": {},
     "output_type": "display_data"
    },
    {
     "name": "stdout",
     "output_type": "stream",
     "text": [
      "\n",
      "Epoch 134: Loss 0.44999998807907104\n",
      "Val loss: 0.35499998927116394 Thresh: 0.45 F1: 0.704 Recall: 0.649 Precision: 0.769 Error: 0.186\n",
      "Switching to SGD\n"
     ]
    },
    {
     "data": {
      "application/vnd.jupyter.widget-view+json": {
       "model_id": "96f255d122574c0cb39631bdcfdeb7bf",
       "version_major": 2,
       "version_minor": 0
      },
      "text/plain": [
       "HBox(children=(IntProgress(value=0, max=154), HTML(value='')))"
      ]
     },
     "metadata": {},
     "output_type": "display_data"
    },
    {
     "name": "stdout",
     "output_type": "stream",
     "text": [
      "\n",
      "Epoch 135: Loss 0.45100000500679016\n",
      "Val loss: 0.35499998927116394 Thresh: 0.45 F1: 0.704 Recall: 0.649 Precision: 0.769 Error: 0.185\n",
      "Switching to SGD\n"
     ]
    },
    {
     "data": {
      "application/vnd.jupyter.widget-view+json": {
       "model_id": "35a089933388431f9fc4c4457a89d1ef",
       "version_major": 2,
       "version_minor": 0
      },
      "text/plain": [
       "HBox(children=(IntProgress(value=0, max=154), HTML(value='')))"
      ]
     },
     "metadata": {},
     "output_type": "display_data"
    },
    {
     "name": "stdout",
     "output_type": "stream",
     "text": [
      "\n",
      "Epoch 136: Loss 0.44999998807907104\n",
      "Val loss: 0.35499998927116394 Thresh: 0.45 F1: 0.705 Recall: 0.65 Precision: 0.77 Error: 0.183\n",
      "Switching to SGD\n"
     ]
    },
    {
     "data": {
      "application/vnd.jupyter.widget-view+json": {
       "model_id": "9dbbdb505c3444a58d9654f445bba5ff",
       "version_major": 2,
       "version_minor": 0
      },
      "text/plain": [
       "HBox(children=(IntProgress(value=0, max=154), HTML(value='')))"
      ]
     },
     "metadata": {},
     "output_type": "display_data"
    },
    {
     "name": "stdout",
     "output_type": "stream",
     "text": [
      "\n",
      "Epoch 137: Loss 0.44999998807907104\n",
      "Val loss: 0.35499998927116394 Thresh: 0.45 F1: 0.705 Recall: 0.65 Precision: 0.769 Error: 0.183\n",
      "Switching to SGD\n"
     ]
    },
    {
     "data": {
      "application/vnd.jupyter.widget-view+json": {
       "model_id": "4a98eabb0cab42d7a35414cdf09e3bda",
       "version_major": 2,
       "version_minor": 0
      },
      "text/plain": [
       "HBox(children=(IntProgress(value=0, max=154), HTML(value='')))"
      ]
     },
     "metadata": {},
     "output_type": "display_data"
    },
    {
     "name": "stdout",
     "output_type": "stream",
     "text": [
      "\n",
      "Epoch 138: Loss 0.44999998807907104\n",
      "Val loss: 0.35499998927116394 Thresh: 0.45 F1: 0.705 Recall: 0.651 Precision: 0.769 Error: 0.181\n",
      "Switching to SGD\n"
     ]
    },
    {
     "data": {
      "application/vnd.jupyter.widget-view+json": {
       "model_id": "5d43f076c8a442658d090f10ecc4a112",
       "version_major": 2,
       "version_minor": 0
      },
      "text/plain": [
       "HBox(children=(IntProgress(value=0, max=154), HTML(value='')))"
      ]
     },
     "metadata": {},
     "output_type": "display_data"
    },
    {
     "name": "stdout",
     "output_type": "stream",
     "text": [
      "\n",
      "Epoch 139: Loss 0.44999998807907104\n",
      "Val loss: 0.35499998927116394 Thresh: 0.45 F1: 0.705 Recall: 0.651 Precision: 0.769 Error: 0.181\n",
      "Switching to SGD\n"
     ]
    },
    {
     "data": {
      "application/vnd.jupyter.widget-view+json": {
       "model_id": "07295979e64b4802b00e8d4741f99e83",
       "version_major": 2,
       "version_minor": 0
      },
      "text/plain": [
       "HBox(children=(IntProgress(value=0, max=154), HTML(value='')))"
      ]
     },
     "metadata": {},
     "output_type": "display_data"
    },
    {
     "name": "stdout",
     "output_type": "stream",
     "text": [
      "\n",
      "Epoch 140: Loss 0.44999998807907104\n",
      "Val loss: 0.35499998927116394 Thresh: 0.45 F1: 0.705 Recall: 0.652 Precision: 0.768 Error: 0.178\n",
      "Switching to SGD\n"
     ]
    },
    {
     "data": {
      "application/vnd.jupyter.widget-view+json": {
       "model_id": "22ea5e6ba94a4d419a458644075b055d",
       "version_major": 2,
       "version_minor": 0
      },
      "text/plain": [
       "HBox(children=(IntProgress(value=0, max=154), HTML(value='')))"
      ]
     },
     "metadata": {},
     "output_type": "display_data"
    },
    {
     "name": "stdout",
     "output_type": "stream",
     "text": [
      "\n",
      "Epoch 141: Loss 0.44999998807907104\n",
      "Val loss: 0.35499998927116394 Thresh: 0.45 F1: 0.705 Recall: 0.651 Precision: 0.768 Error: 0.179\n",
      "Switching to SGD\n"
     ]
    },
    {
     "data": {
      "application/vnd.jupyter.widget-view+json": {
       "model_id": "b12c154241d245e1a2a993cae3384b13",
       "version_major": 2,
       "version_minor": 0
      },
      "text/plain": [
       "HBox(children=(IntProgress(value=0, max=154), HTML(value='')))"
      ]
     },
     "metadata": {},
     "output_type": "display_data"
    },
    {
     "name": "stdout",
     "output_type": "stream",
     "text": [
      "\n",
      "Epoch 142: Loss 0.44999998807907104\n",
      "Val loss: 0.35499998927116394 Thresh: 0.45 F1: 0.705 Recall: 0.652 Precision: 0.769 Error: 0.179\n",
      "Switching to SGD\n"
     ]
    },
    {
     "data": {
      "application/vnd.jupyter.widget-view+json": {
       "model_id": "38c92e39da9d4ac3830cd75887b19c8b",
       "version_major": 2,
       "version_minor": 0
      },
      "text/plain": [
       "HBox(children=(IntProgress(value=0, max=154), HTML(value='')))"
      ]
     },
     "metadata": {},
     "output_type": "display_data"
    },
    {
     "name": "stdout",
     "output_type": "stream",
     "text": [
      "\n",
      "Epoch 143: Loss 0.44999998807907104\n",
      "Val loss: 0.35499998927116394 Thresh: 0.45 F1: 0.705 Recall: 0.652 Precision: 0.768 Error: 0.179\n",
      "Switching to SGD\n"
     ]
    },
    {
     "data": {
      "application/vnd.jupyter.widget-view+json": {
       "model_id": "988fbbfc8b9e47cf88e74845f509b15d",
       "version_major": 2,
       "version_minor": 0
      },
      "text/plain": [
       "HBox(children=(IntProgress(value=0, max=154), HTML(value='')))"
      ]
     },
     "metadata": {},
     "output_type": "display_data"
    },
    {
     "name": "stdout",
     "output_type": "stream",
     "text": [
      "\n",
      "Epoch 144: Loss 0.44999998807907104\n",
      "Val loss: 0.35499998927116394 Thresh: 0.5 F1: 0.705 Recall: 0.665 Precision: 0.751 Error: 0.128\n",
      "Switching to SGD\n"
     ]
    },
    {
     "data": {
      "application/vnd.jupyter.widget-view+json": {
       "model_id": "a1a30d678c3845f484eadc0e7365b50f",
       "version_major": 2,
       "version_minor": 0
      },
      "text/plain": [
       "HBox(children=(IntProgress(value=0, max=154), HTML(value='')))"
      ]
     },
     "metadata": {},
     "output_type": "display_data"
    },
    {
     "name": "stdout",
     "output_type": "stream",
     "text": [
      "\n",
      "Epoch 145: Loss 0.44999998807907104\n",
      "Val loss: 0.35499998927116394 Thresh: 0.5 F1: 0.706 Recall: 0.665 Precision: 0.751 Error: 0.129\n",
      "Switching to SGD\n"
     ]
    },
    {
     "data": {
      "application/vnd.jupyter.widget-view+json": {
       "model_id": "da13ae86e82f4a3fa831053dfbb80695",
       "version_major": 2,
       "version_minor": 0
      },
      "text/plain": [
       "HBox(children=(IntProgress(value=0, max=154), HTML(value='')))"
      ]
     },
     "metadata": {},
     "output_type": "display_data"
    },
    {
     "name": "stdout",
     "output_type": "stream",
     "text": [
      "\n",
      "Epoch 146: Loss 0.44999998807907104\n",
      "Val loss: 0.35499998927116394 Thresh: 0.45 F1: 0.706 Recall: 0.652 Precision: 0.769 Error: 0.179\n",
      "Switching to SGD\n"
     ]
    },
    {
     "data": {
      "application/vnd.jupyter.widget-view+json": {
       "model_id": "48c5bfe4e136413ab64b5cfc82a7021a",
       "version_major": 2,
       "version_minor": 0
      },
      "text/plain": [
       "HBox(children=(IntProgress(value=0, max=154), HTML(value='')))"
      ]
     },
     "metadata": {},
     "output_type": "display_data"
    },
    {
     "name": "stdout",
     "output_type": "stream",
     "text": [
      "\n",
      "Epoch 147: Loss 0.44999998807907104\n",
      "Val loss: 0.35499998927116394 Thresh: 0.5 F1: 0.706 Recall: 0.666 Precision: 0.75 Error: 0.127\n",
      "Switching to SGD\n"
     ]
    },
    {
     "data": {
      "application/vnd.jupyter.widget-view+json": {
       "model_id": "08cdf5bc7631426d898df4d74ffa0bb0",
       "version_major": 2,
       "version_minor": 0
      },
      "text/plain": [
       "HBox(children=(IntProgress(value=0, max=154), HTML(value='')))"
      ]
     },
     "metadata": {},
     "output_type": "display_data"
    },
    {
     "name": "stdout",
     "output_type": "stream",
     "text": [
      "\n",
      "Epoch 148: Loss 0.44999998807907104\n",
      "Val loss: 0.35499998927116394 Thresh: 0.5 F1: 0.706 Recall: 0.666 Precision: 0.75 Error: 0.127\n",
      "Switching to SGD\n"
     ]
    },
    {
     "data": {
      "application/vnd.jupyter.widget-view+json": {
       "model_id": "0dff11ef3abf49a7838f598d6ebfe020",
       "version_major": 2,
       "version_minor": 0
      },
      "text/plain": [
       "HBox(children=(IntProgress(value=0, max=154), HTML(value='')))"
      ]
     },
     "metadata": {},
     "output_type": "display_data"
    },
    {
     "name": "stdout",
     "output_type": "stream",
     "text": [
      "\n",
      "Epoch 149: Loss 0.4490000009536743\n",
      "Val loss: 0.35499998927116394 Thresh: 0.5 F1: 0.705 Recall: 0.666 Precision: 0.75 Error: 0.126\n",
      "Switching to SGD\n"
     ]
    },
    {
     "data": {
      "application/vnd.jupyter.widget-view+json": {
       "model_id": "140c4627d2a843279f097c953039492b",
       "version_major": 2,
       "version_minor": 0
      },
      "text/plain": [
       "HBox(children=(IntProgress(value=0, max=154), HTML(value='')))"
      ]
     },
     "metadata": {},
     "output_type": "display_data"
    },
    {
     "name": "stdout",
     "output_type": "stream",
     "text": [
      "\n",
      "Epoch 150: Loss 0.44999998807907104\n",
      "Val loss: 0.35499998927116394 Thresh: 0.5 F1: 0.706 Recall: 0.666 Precision: 0.75 Error: 0.127\n",
      "Switching to SGD\n"
     ]
    },
    {
     "data": {
      "application/vnd.jupyter.widget-view+json": {
       "model_id": "7e567104b4b64505841f3bf83c5dcb09",
       "version_major": 2,
       "version_minor": 0
      },
      "text/plain": [
       "HBox(children=(IntProgress(value=0, max=154), HTML(value='')))"
      ]
     },
     "metadata": {},
     "output_type": "display_data"
    },
    {
     "name": "stdout",
     "output_type": "stream",
     "text": [
      "\n",
      "Epoch 151: Loss 0.4490000009536743\n",
      "Val loss: 0.35499998927116394 Thresh: 0.5 F1: 0.706 Recall: 0.666 Precision: 0.75 Error: 0.126\n",
      "Switching to SGD\n"
     ]
    },
    {
     "data": {
      "application/vnd.jupyter.widget-view+json": {
       "model_id": "c5d40a7e4d2f4cf5ba81712b0c028c76",
       "version_major": 2,
       "version_minor": 0
      },
      "text/plain": [
       "HBox(children=(IntProgress(value=0, max=154), HTML(value='')))"
      ]
     },
     "metadata": {},
     "output_type": "display_data"
    },
    {
     "name": "stdout",
     "output_type": "stream",
     "text": [
      "\n",
      "Epoch 152: Loss 0.44999998807907104\n",
      "Val loss: 0.35499998927116394 Thresh: 0.45 F1: 0.706 Recall: 0.653 Precision: 0.768 Error: 0.177\n",
      "Switching to SGD\n"
     ]
    },
    {
     "data": {
      "application/vnd.jupyter.widget-view+json": {
       "model_id": "4c0c4dcf77e84c1eab0921c76e8c4c3a",
       "version_major": 2,
       "version_minor": 0
      },
      "text/plain": [
       "HBox(children=(IntProgress(value=0, max=154), HTML(value='')))"
      ]
     },
     "metadata": {},
     "output_type": "display_data"
    },
    {
     "name": "stdout",
     "output_type": "stream",
     "text": [
      "\n",
      "Epoch 153: Loss 0.4490000009536743\n",
      "Val loss: 0.35499998927116394 Thresh: 0.45 F1: 0.706 Recall: 0.653 Precision: 0.768 Error: 0.176\n",
      "Switching to SGD\n"
     ]
    },
    {
     "data": {
      "application/vnd.jupyter.widget-view+json": {
       "model_id": "30f4c3c2512c4180bcf765aae5e9eee0",
       "version_major": 2,
       "version_minor": 0
      },
      "text/plain": [
       "HBox(children=(IntProgress(value=0, max=154), HTML(value='')))"
      ]
     },
     "metadata": {},
     "output_type": "display_data"
    },
    {
     "name": "stdout",
     "output_type": "stream",
     "text": [
      "\n",
      "Epoch 154: Loss 0.4490000009536743\n",
      "Val loss: 0.3540000021457672 Thresh: 0.5 F1: 0.706 Recall: 0.667 Precision: 0.75 Error: 0.124\n",
      "Switching to SGD\n"
     ]
    },
    {
     "data": {
      "application/vnd.jupyter.widget-view+json": {
       "model_id": "9374cd03d76e4281bc68f6416a6531f3",
       "version_major": 2,
       "version_minor": 0
      },
      "text/plain": [
       "HBox(children=(IntProgress(value=0, max=154), HTML(value='')))"
      ]
     },
     "metadata": {},
     "output_type": "display_data"
    },
    {
     "name": "stdout",
     "output_type": "stream",
     "text": [
      "\n",
      "Epoch 155: Loss 0.4490000009536743\n",
      "Val loss: 0.3540000021457672 Thresh: 0.5 F1: 0.706 Recall: 0.667 Precision: 0.75 Error: 0.124\n",
      "Switching to SGD\n"
     ]
    },
    {
     "data": {
      "application/vnd.jupyter.widget-view+json": {
       "model_id": "802f461fbfab458ba664703cea5b4f01",
       "version_major": 2,
       "version_minor": 0
      },
      "text/plain": [
       "HBox(children=(IntProgress(value=0, max=154), HTML(value='')))"
      ]
     },
     "metadata": {},
     "output_type": "display_data"
    },
    {
     "name": "stdout",
     "output_type": "stream",
     "text": [
      "\n",
      "Epoch 156: Loss 0.44999998807907104\n",
      "Val loss: 0.3540000021457672 Thresh: 0.45 F1: 0.706 Recall: 0.654 Precision: 0.767 Error: 0.174\n",
      "Switching to SGD\n"
     ]
    },
    {
     "data": {
      "application/vnd.jupyter.widget-view+json": {
       "model_id": "ee73fa0410534e039cf8b1088f555551",
       "version_major": 2,
       "version_minor": 0
      },
      "text/plain": [
       "HBox(children=(IntProgress(value=0, max=154), HTML(value='')))"
      ]
     },
     "metadata": {},
     "output_type": "display_data"
    },
    {
     "name": "stdout",
     "output_type": "stream",
     "text": [
      "\n",
      "Epoch 157: Loss 0.4490000009536743\n",
      "Val loss: 0.3540000021457672 Thresh: 0.45 F1: 0.706 Recall: 0.653 Precision: 0.767 Error: 0.174\n",
      "Switching to SGD\n"
     ]
    },
    {
     "data": {
      "application/vnd.jupyter.widget-view+json": {
       "model_id": "534ba05ae34e4f858f79ce9fb59970a2",
       "version_major": 2,
       "version_minor": 0
      },
      "text/plain": [
       "HBox(children=(IntProgress(value=0, max=154), HTML(value='')))"
      ]
     },
     "metadata": {},
     "output_type": "display_data"
    },
    {
     "name": "stdout",
     "output_type": "stream",
     "text": [
      "\n",
      "Epoch 158: Loss 0.44999998807907104\n",
      "Val loss: 0.3540000021457672 Thresh: 0.45 F1: 0.706 Recall: 0.654 Precision: 0.767 Error: 0.173\n",
      "Switching to SGD\n"
     ]
    },
    {
     "data": {
      "application/vnd.jupyter.widget-view+json": {
       "model_id": "57ae66a90df44d33a6bb4dc09d9ec625",
       "version_major": 2,
       "version_minor": 0
      },
      "text/plain": [
       "HBox(children=(IntProgress(value=0, max=154), HTML(value='')))"
      ]
     },
     "metadata": {},
     "output_type": "display_data"
    },
    {
     "name": "stdout",
     "output_type": "stream",
     "text": [
      "\n",
      "Epoch 159: Loss 0.4490000009536743\n",
      "Val loss: 0.35499998927116394 Thresh: 0.45 F1: 0.706 Recall: 0.654 Precision: 0.768 Error: 0.175\n",
      "Switching to SGD\n"
     ]
    },
    {
     "data": {
      "application/vnd.jupyter.widget-view+json": {
       "model_id": "9cc181b9b39142b39a3b1af80f1be76d",
       "version_major": 2,
       "version_minor": 0
      },
      "text/plain": [
       "HBox(children=(IntProgress(value=0, max=154), HTML(value='')))"
      ]
     },
     "metadata": {},
     "output_type": "display_data"
    },
    {
     "name": "stdout",
     "output_type": "stream",
     "text": [
      "\n",
      "Epoch 160: Loss 0.44999998807907104\n",
      "Val loss: 0.35499998927116394 Thresh: 0.45 F1: 0.706 Recall: 0.654 Precision: 0.768 Error: 0.174\n",
      "Switching to SGD\n"
     ]
    },
    {
     "data": {
      "application/vnd.jupyter.widget-view+json": {
       "model_id": "60335612484a4112a0f3e3424ca8fbcb",
       "version_major": 2,
       "version_minor": 0
      },
      "text/plain": [
       "HBox(children=(IntProgress(value=0, max=154), HTML(value='')))"
      ]
     },
     "metadata": {},
     "output_type": "display_data"
    },
    {
     "name": "stdout",
     "output_type": "stream",
     "text": [
      "\n",
      "Epoch 161: Loss 0.4490000009536743\n",
      "Val loss: 0.35499998927116394 Thresh: 0.45 F1: 0.706 Recall: 0.654 Precision: 0.768 Error: 0.174\n",
      "Switching to SGD\n"
     ]
    },
    {
     "data": {
      "application/vnd.jupyter.widget-view+json": {
       "model_id": "256b812810e64e9498bb9602c4212dae",
       "version_major": 2,
       "version_minor": 0
      },
      "text/plain": [
       "HBox(children=(IntProgress(value=0, max=154), HTML(value='')))"
      ]
     },
     "metadata": {},
     "output_type": "display_data"
    },
    {
     "name": "stdout",
     "output_type": "stream",
     "text": [
      "\n",
      "Epoch 162: Loss 0.4490000009536743\n",
      "Val loss: 0.35499998927116394 Thresh: 0.45 F1: 0.706 Recall: 0.654 Precision: 0.768 Error: 0.175\n",
      "Switching to SGD\n"
     ]
    },
    {
     "data": {
      "application/vnd.jupyter.widget-view+json": {
       "model_id": "95e2ec564ca4431e867e66194cd235bf",
       "version_major": 2,
       "version_minor": 0
      },
      "text/plain": [
       "HBox(children=(IntProgress(value=0, max=154), HTML(value='')))"
      ]
     },
     "metadata": {},
     "output_type": "display_data"
    },
    {
     "name": "stdout",
     "output_type": "stream",
     "text": [
      "\n",
      "Epoch 163: Loss 0.4490000009536743\n",
      "Val loss: 0.35499998927116394 Thresh: 0.45 F1: 0.707 Recall: 0.654 Precision: 0.768 Error: 0.174\n",
      "Switching to SGD\n"
     ]
    },
    {
     "data": {
      "application/vnd.jupyter.widget-view+json": {
       "model_id": "7cf889d4c4b04c6995b6ce9b5a93fdd3",
       "version_major": 2,
       "version_minor": 0
      },
      "text/plain": [
       "HBox(children=(IntProgress(value=0, max=154), HTML(value='')))"
      ]
     },
     "metadata": {},
     "output_type": "display_data"
    },
    {
     "name": "stdout",
     "output_type": "stream",
     "text": [
      "\n",
      "Epoch 164: Loss 0.4490000009536743\n",
      "Val loss: 0.35499998927116394 Thresh: 0.45 F1: 0.707 Recall: 0.655 Precision: 0.768 Error: 0.172\n",
      "Switching to SGD\n"
     ]
    },
    {
     "data": {
      "application/vnd.jupyter.widget-view+json": {
       "model_id": "bcf0f9a0232743ceab7153c745a02e17",
       "version_major": 2,
       "version_minor": 0
      },
      "text/plain": [
       "HBox(children=(IntProgress(value=0, max=154), HTML(value='')))"
      ]
     },
     "metadata": {},
     "output_type": "display_data"
    },
    {
     "name": "stdout",
     "output_type": "stream",
     "text": [
      "\n",
      "Epoch 165: Loss 0.4490000009536743\n",
      "Val loss: 0.35499998927116394 Thresh: 0.45 F1: 0.707 Recall: 0.655 Precision: 0.767 Error: 0.171\n",
      "Switching to SGD\n"
     ]
    },
    {
     "data": {
      "application/vnd.jupyter.widget-view+json": {
       "model_id": "2735ef7ee2c74919ba4ac60bab52b0d8",
       "version_major": 2,
       "version_minor": 0
      },
      "text/plain": [
       "HBox(children=(IntProgress(value=0, max=154), HTML(value='')))"
      ]
     },
     "metadata": {},
     "output_type": "display_data"
    },
    {
     "name": "stdout",
     "output_type": "stream",
     "text": [
      "\n",
      "Epoch 166: Loss 0.4490000009536743\n",
      "Val loss: 0.3540000021457672 Thresh: 0.45 F1: 0.707 Recall: 0.655 Precision: 0.767 Error: 0.171\n",
      "Switching to SGD\n"
     ]
    },
    {
     "data": {
      "application/vnd.jupyter.widget-view+json": {
       "model_id": "a9c94ff110fb4f78b9b6db35e736836c",
       "version_major": 2,
       "version_minor": 0
      },
      "text/plain": [
       "HBox(children=(IntProgress(value=0, max=154), HTML(value='')))"
      ]
     },
     "metadata": {},
     "output_type": "display_data"
    },
    {
     "name": "stdout",
     "output_type": "stream",
     "text": [
      "\n",
      "Epoch 167: Loss 0.44999998807907104\n",
      "Val loss: 0.35499998927116394 Thresh: 0.45 F1: 0.706 Recall: 0.655 Precision: 0.767 Error: 0.172\n",
      "Switching to SGD\n"
     ]
    },
    {
     "data": {
      "application/vnd.jupyter.widget-view+json": {
       "model_id": "36e9373f8b9a45f8b2f9a5f2f8de0ee8",
       "version_major": 2,
       "version_minor": 0
      },
      "text/plain": [
       "HBox(children=(IntProgress(value=0, max=154), HTML(value='')))"
      ]
     },
     "metadata": {},
     "output_type": "display_data"
    },
    {
     "name": "stdout",
     "output_type": "stream",
     "text": [
      "\n",
      "Epoch 168: Loss 0.4490000009536743\n",
      "Val loss: 0.35499998927116394 Thresh: 0.45 F1: 0.707 Recall: 0.655 Precision: 0.767 Error: 0.172\n",
      "Switching to SGD\n"
     ]
    },
    {
     "data": {
      "application/vnd.jupyter.widget-view+json": {
       "model_id": "d3f77a74dcb14b4ca85c3133447b6d97",
       "version_major": 2,
       "version_minor": 0
      },
      "text/plain": [
       "HBox(children=(IntProgress(value=0, max=154), HTML(value='')))"
      ]
     },
     "metadata": {},
     "output_type": "display_data"
    },
    {
     "name": "stdout",
     "output_type": "stream",
     "text": [
      "\n",
      "Epoch 169: Loss 0.44999998807907104\n",
      "Val loss: 0.3540000021457672 Thresh: 0.45 F1: 0.707 Recall: 0.655 Precision: 0.767 Error: 0.17\n",
      "Switching to SGD\n"
     ]
    },
    {
     "data": {
      "application/vnd.jupyter.widget-view+json": {
       "model_id": "a357103082b8437e8aad1409d08d4a82",
       "version_major": 2,
       "version_minor": 0
      },
      "text/plain": [
       "HBox(children=(IntProgress(value=0, max=154), HTML(value='')))"
      ]
     },
     "metadata": {},
     "output_type": "display_data"
    },
    {
     "name": "stdout",
     "output_type": "stream",
     "text": [
      "\n",
      "Epoch 170: Loss 0.4490000009536743\n",
      "Val loss: 0.3540000021457672 Thresh: 0.45 F1: 0.706 Recall: 0.655 Precision: 0.767 Error: 0.17\n",
      "Switching to SGD\n"
     ]
    },
    {
     "data": {
      "application/vnd.jupyter.widget-view+json": {
       "model_id": "b5fcd8e91f6b4c9e9c4009d571267222",
       "version_major": 2,
       "version_minor": 0
      },
      "text/plain": [
       "HBox(children=(IntProgress(value=0, max=154), HTML(value='')))"
      ]
     },
     "metadata": {},
     "output_type": "display_data"
    },
    {
     "name": "stdout",
     "output_type": "stream",
     "text": [
      "\n",
      "Epoch 171: Loss 0.4490000009536743\n",
      "Val loss: 0.35499998927116394 Thresh: 0.45 F1: 0.707 Recall: 0.655 Precision: 0.767 Error: 0.171\n",
      "Switching to SGD\n"
     ]
    },
    {
     "data": {
      "application/vnd.jupyter.widget-view+json": {
       "model_id": "083ea78a56cd4109b5e03111df9ce91e",
       "version_major": 2,
       "version_minor": 0
      },
      "text/plain": [
       "HBox(children=(IntProgress(value=0, max=154), HTML(value='')))"
      ]
     },
     "metadata": {},
     "output_type": "display_data"
    },
    {
     "name": "stdout",
     "output_type": "stream",
     "text": [
      "\n",
      "Epoch 172: Loss 0.4490000009536743\n",
      "Val loss: 0.35499998927116394 Thresh: 0.45 F1: 0.707 Recall: 0.655 Precision: 0.767 Error: 0.171\n",
      "Switching to SGD\n"
     ]
    },
    {
     "data": {
      "application/vnd.jupyter.widget-view+json": {
       "model_id": "f274e87e13884e3b8a2434d10c02201d",
       "version_major": 2,
       "version_minor": 0
      },
      "text/plain": [
       "HBox(children=(IntProgress(value=0, max=154), HTML(value='')))"
      ]
     },
     "metadata": {},
     "output_type": "display_data"
    },
    {
     "name": "stdout",
     "output_type": "stream",
     "text": [
      "\n",
      "Epoch 173: Loss 0.4480000138282776\n",
      "Val loss: 0.35499998927116394 Thresh: 0.45 F1: 0.707 Recall: 0.655 Precision: 0.767 Error: 0.171\n",
      "Switching to SGD\n"
     ]
    },
    {
     "data": {
      "application/vnd.jupyter.widget-view+json": {
       "model_id": "6ff2cafafd5646728830dd0031f628e7",
       "version_major": 2,
       "version_minor": 0
      },
      "text/plain": [
       "HBox(children=(IntProgress(value=0, max=154), HTML(value='')))"
      ]
     },
     "metadata": {},
     "output_type": "display_data"
    },
    {
     "name": "stdout",
     "output_type": "stream",
     "text": [
      "\n",
      "Epoch 174: Loss 0.4490000009536743\n",
      "Val loss: 0.35499998927116394 Thresh: 0.45 F1: 0.707 Recall: 0.655 Precision: 0.767 Error: 0.17\n",
      "Switching to SGD\n"
     ]
    },
    {
     "data": {
      "application/vnd.jupyter.widget-view+json": {
       "model_id": "df640c87e3df4b83b4e4e28978431c52",
       "version_major": 2,
       "version_minor": 0
      },
      "text/plain": [
       "HBox(children=(IntProgress(value=0, max=154), HTML(value='')))"
      ]
     },
     "metadata": {},
     "output_type": "display_data"
    },
    {
     "name": "stdout",
     "output_type": "stream",
     "text": [
      "\n",
      "Epoch 175: Loss 0.4490000009536743\n",
      "Val loss: 0.35499998927116394 Thresh: 0.45 F1: 0.707 Recall: 0.655 Precision: 0.767 Error: 0.17\n",
      "Switching to SGD\n"
     ]
    },
    {
     "data": {
      "application/vnd.jupyter.widget-view+json": {
       "model_id": "a2833365ca7c4ec9928d2e8fc9c04318",
       "version_major": 2,
       "version_minor": 0
      },
      "text/plain": [
       "HBox(children=(IntProgress(value=0, max=154), HTML(value='')))"
      ]
     },
     "metadata": {},
     "output_type": "display_data"
    },
    {
     "name": "stdout",
     "output_type": "stream",
     "text": [
      "\n",
      "Epoch 176: Loss 0.4490000009536743\n",
      "Val loss: 0.35499998927116394 Thresh: 0.45 F1: 0.707 Recall: 0.655 Precision: 0.767 Error: 0.17\n",
      "Switching to SGD\n"
     ]
    },
    {
     "data": {
      "application/vnd.jupyter.widget-view+json": {
       "model_id": "ce43732dbe28408ea39ceab15bb50d92",
       "version_major": 2,
       "version_minor": 0
      },
      "text/plain": [
       "HBox(children=(IntProgress(value=0, max=154), HTML(value='')))"
      ]
     },
     "metadata": {},
     "output_type": "display_data"
    },
    {
     "name": "stdout",
     "output_type": "stream",
     "text": [
      "\n",
      "Epoch 177: Loss 0.4490000009536743\n",
      "Val loss: 0.3540000021457672 Thresh: 0.45 F1: 0.707 Recall: 0.656 Precision: 0.766 Error: 0.168\n",
      "Switching to SGD\n"
     ]
    },
    {
     "data": {
      "application/vnd.jupyter.widget-view+json": {
       "model_id": "96272ca3b12b4bf18e4fd07aefa17811",
       "version_major": 2,
       "version_minor": 0
      },
      "text/plain": [
       "HBox(children=(IntProgress(value=0, max=154), HTML(value='')))"
      ]
     },
     "metadata": {},
     "output_type": "display_data"
    },
    {
     "name": "stdout",
     "output_type": "stream",
     "text": [
      "\n",
      "Epoch 178: Loss 0.4490000009536743\n",
      "Val loss: 0.3540000021457672 Thresh: 0.45 F1: 0.706 Recall: 0.655 Precision: 0.766 Error: 0.169\n",
      "Switching to SGD\n"
     ]
    },
    {
     "data": {
      "application/vnd.jupyter.widget-view+json": {
       "model_id": "2f322257a73e4605be501005eaeef785",
       "version_major": 2,
       "version_minor": 0
      },
      "text/plain": [
       "HBox(children=(IntProgress(value=0, max=154), HTML(value='')))"
      ]
     },
     "metadata": {},
     "output_type": "display_data"
    },
    {
     "name": "stdout",
     "output_type": "stream",
     "text": [
      "\n",
      "Epoch 179: Loss 0.4490000009536743\n",
      "Val loss: 0.3540000021457672 Thresh: 0.45 F1: 0.706 Recall: 0.655 Precision: 0.765 Error: 0.168\n",
      "Switching to SGD\n"
     ]
    },
    {
     "data": {
      "application/vnd.jupyter.widget-view+json": {
       "model_id": "db1c8042214d4defaa0450cd63b36b65",
       "version_major": 2,
       "version_minor": 0
      },
      "text/plain": [
       "HBox(children=(IntProgress(value=0, max=154), HTML(value='')))"
      ]
     },
     "metadata": {},
     "output_type": "display_data"
    },
    {
     "name": "stdout",
     "output_type": "stream",
     "text": [
      "\n",
      "Epoch 180: Loss 0.4490000009536743\n",
      "Val loss: 0.35499998927116394 Thresh: 0.45 F1: 0.706 Recall: 0.655 Precision: 0.766 Error: 0.169\n",
      "Switching to SGD\n"
     ]
    },
    {
     "data": {
      "application/vnd.jupyter.widget-view+json": {
       "model_id": "bcc8350cc74745babe25ecb4c9879f94",
       "version_major": 2,
       "version_minor": 0
      },
      "text/plain": [
       "HBox(children=(IntProgress(value=0, max=154), HTML(value='')))"
      ]
     },
     "metadata": {},
     "output_type": "display_data"
    },
    {
     "name": "stdout",
     "output_type": "stream",
     "text": [
      "\n",
      "Epoch 181: Loss 0.4490000009536743\n",
      "Val loss: 0.35499998927116394 Thresh: 0.45 F1: 0.706 Recall: 0.655 Precision: 0.767 Error: 0.171\n",
      "Switching to SGD\n"
     ]
    },
    {
     "data": {
      "application/vnd.jupyter.widget-view+json": {
       "model_id": "8a13e05c903641c2a02fb2d42d59131b",
       "version_major": 2,
       "version_minor": 0
      },
      "text/plain": [
       "HBox(children=(IntProgress(value=0, max=154), HTML(value='')))"
      ]
     },
     "metadata": {},
     "output_type": "display_data"
    },
    {
     "name": "stdout",
     "output_type": "stream",
     "text": [
      "\n",
      "Epoch 182: Loss 0.4490000009536743\n",
      "Val loss: 0.35499998927116394 Thresh: 0.45 F1: 0.706 Recall: 0.655 Precision: 0.766 Error: 0.17\n",
      "Switching to SGD\n"
     ]
    },
    {
     "data": {
      "application/vnd.jupyter.widget-view+json": {
       "model_id": "479e8e8f8dd9462e860c5b613ec8a772",
       "version_major": 2,
       "version_minor": 0
      },
      "text/plain": [
       "HBox(children=(IntProgress(value=0, max=154), HTML(value='')))"
      ]
     },
     "metadata": {},
     "output_type": "display_data"
    },
    {
     "name": "stdout",
     "output_type": "stream",
     "text": [
      "\n",
      "Epoch 183: Loss 0.4490000009536743\n",
      "Val loss: 0.35499998927116394 Thresh: 0.45 F1: 0.706 Recall: 0.655 Precision: 0.766 Error: 0.171\n",
      "Switching to SGD\n"
     ]
    },
    {
     "data": {
      "application/vnd.jupyter.widget-view+json": {
       "model_id": "a36cc26a971d4e23bdce03ff088e236f",
       "version_major": 2,
       "version_minor": 0
      },
      "text/plain": [
       "HBox(children=(IntProgress(value=0, max=154), HTML(value='')))"
      ]
     },
     "metadata": {},
     "output_type": "display_data"
    },
    {
     "ename": "KeyboardInterrupt",
     "evalue": "",
     "output_type": "error",
     "traceback": [
      "\u001b[0;31m---------------------------------------------------------------------------\u001b[0m",
      "\u001b[0;31mKeyboardInterrupt\u001b[0m                         Traceback (most recent call last)",
      "\u001b[0;32m<ipython-input-46-2d91a7b94c7f>\u001b[0m in \u001b[0;36m<module>\u001b[0;34m\u001b[0m\n\u001b[1;32m     31\u001b[0m                                          \u001b[0mis_training\u001b[0m\u001b[0;34m:\u001b[0m \u001b[0;32mTrue\u001b[0m\u001b[0;34m,\u001b[0m\u001b[0;34m\u001b[0m\u001b[0m\n\u001b[1;32m     32\u001b[0m                                          \u001b[0mkeep_rate\u001b[0m\u001b[0;34m:\u001b[0m \u001b[0mnp\u001b[0m\u001b[0;34m.\u001b[0m\u001b[0mmax\u001b[0m\u001b[0;34m(\u001b[0m\u001b[0;34m(\u001b[0m\u001b[0;36m1\u001b[0m \u001b[0;34m-\u001b[0m \u001b[0;34m(\u001b[0m\u001b[0mi\u001b[0m\u001b[0;34m*\u001b[0m\u001b[0;36m0.002\u001b[0m\u001b[0;34m)\u001b[0m\u001b[0;34m,\u001b[0m \u001b[0;36m0.85\u001b[0m\u001b[0;34m)\u001b[0m\u001b[0;34m)\u001b[0m\u001b[0;34m,\u001b[0m\u001b[0;34m\u001b[0m\u001b[0m\n\u001b[0;32m---> 33\u001b[0;31m                                          \u001b[0malpha\u001b[0m\u001b[0;34m:\u001b[0m \u001b[0mal\u001b[0m\u001b[0;34m\u001b[0m\u001b[0m\n\u001b[0m\u001b[1;32m     34\u001b[0m                                          })\n\u001b[1;32m     35\u001b[0m         \u001b[0mlosses\u001b[0m\u001b[0;34m.\u001b[0m\u001b[0mappend\u001b[0m\u001b[0;34m(\u001b[0m\u001b[0mtr\u001b[0m\u001b[0;34m)\u001b[0m\u001b[0;34m\u001b[0m\u001b[0m\n",
      "\u001b[0;32m/Library/Frameworks/Python.framework/Versions/3.6/lib/python3.6/site-packages/tensorflow/python/client/session.py\u001b[0m in \u001b[0;36mrun\u001b[0;34m(self, fetches, feed_dict, options, run_metadata)\u001b[0m\n\u001b[1;32m    927\u001b[0m     \u001b[0;32mtry\u001b[0m\u001b[0;34m:\u001b[0m\u001b[0;34m\u001b[0m\u001b[0m\n\u001b[1;32m    928\u001b[0m       result = self._run(None, fetches, feed_dict, options_ptr,\n\u001b[0;32m--> 929\u001b[0;31m                          run_metadata_ptr)\n\u001b[0m\u001b[1;32m    930\u001b[0m       \u001b[0;32mif\u001b[0m \u001b[0mrun_metadata\u001b[0m\u001b[0;34m:\u001b[0m\u001b[0;34m\u001b[0m\u001b[0m\n\u001b[1;32m    931\u001b[0m         \u001b[0mproto_data\u001b[0m \u001b[0;34m=\u001b[0m \u001b[0mtf_session\u001b[0m\u001b[0;34m.\u001b[0m\u001b[0mTF_GetBuffer\u001b[0m\u001b[0;34m(\u001b[0m\u001b[0mrun_metadata_ptr\u001b[0m\u001b[0;34m)\u001b[0m\u001b[0;34m\u001b[0m\u001b[0m\n",
      "\u001b[0;32m/Library/Frameworks/Python.framework/Versions/3.6/lib/python3.6/site-packages/tensorflow/python/client/session.py\u001b[0m in \u001b[0;36m_run\u001b[0;34m(self, handle, fetches, feed_dict, options, run_metadata)\u001b[0m\n\u001b[1;32m   1150\u001b[0m     \u001b[0;32mif\u001b[0m \u001b[0mfinal_fetches\u001b[0m \u001b[0;32mor\u001b[0m \u001b[0mfinal_targets\u001b[0m \u001b[0;32mor\u001b[0m \u001b[0;34m(\u001b[0m\u001b[0mhandle\u001b[0m \u001b[0;32mand\u001b[0m \u001b[0mfeed_dict_tensor\u001b[0m\u001b[0;34m)\u001b[0m\u001b[0;34m:\u001b[0m\u001b[0;34m\u001b[0m\u001b[0m\n\u001b[1;32m   1151\u001b[0m       results = self._do_run(handle, final_targets, final_fetches,\n\u001b[0;32m-> 1152\u001b[0;31m                              feed_dict_tensor, options, run_metadata)\n\u001b[0m\u001b[1;32m   1153\u001b[0m     \u001b[0;32melse\u001b[0m\u001b[0;34m:\u001b[0m\u001b[0;34m\u001b[0m\u001b[0m\n\u001b[1;32m   1154\u001b[0m       \u001b[0mresults\u001b[0m \u001b[0;34m=\u001b[0m \u001b[0;34m[\u001b[0m\u001b[0;34m]\u001b[0m\u001b[0;34m\u001b[0m\u001b[0m\n",
      "\u001b[0;32m/Library/Frameworks/Python.framework/Versions/3.6/lib/python3.6/site-packages/tensorflow/python/client/session.py\u001b[0m in \u001b[0;36m_do_run\u001b[0;34m(self, handle, target_list, fetch_list, feed_dict, options, run_metadata)\u001b[0m\n\u001b[1;32m   1326\u001b[0m     \u001b[0;32mif\u001b[0m \u001b[0mhandle\u001b[0m \u001b[0;32mis\u001b[0m \u001b[0;32mNone\u001b[0m\u001b[0;34m:\u001b[0m\u001b[0;34m\u001b[0m\u001b[0m\n\u001b[1;32m   1327\u001b[0m       return self._do_call(_run_fn, feeds, fetches, targets, options,\n\u001b[0;32m-> 1328\u001b[0;31m                            run_metadata)\n\u001b[0m\u001b[1;32m   1329\u001b[0m     \u001b[0;32melse\u001b[0m\u001b[0;34m:\u001b[0m\u001b[0;34m\u001b[0m\u001b[0m\n\u001b[1;32m   1330\u001b[0m       \u001b[0;32mreturn\u001b[0m \u001b[0mself\u001b[0m\u001b[0;34m.\u001b[0m\u001b[0m_do_call\u001b[0m\u001b[0;34m(\u001b[0m\u001b[0m_prun_fn\u001b[0m\u001b[0;34m,\u001b[0m \u001b[0mhandle\u001b[0m\u001b[0;34m,\u001b[0m \u001b[0mfeeds\u001b[0m\u001b[0;34m,\u001b[0m \u001b[0mfetches\u001b[0m\u001b[0;34m)\u001b[0m\u001b[0;34m\u001b[0m\u001b[0m\n",
      "\u001b[0;32m/Library/Frameworks/Python.framework/Versions/3.6/lib/python3.6/site-packages/tensorflow/python/client/session.py\u001b[0m in \u001b[0;36m_do_call\u001b[0;34m(self, fn, *args)\u001b[0m\n\u001b[1;32m   1332\u001b[0m   \u001b[0;32mdef\u001b[0m \u001b[0m_do_call\u001b[0m\u001b[0;34m(\u001b[0m\u001b[0mself\u001b[0m\u001b[0;34m,\u001b[0m \u001b[0mfn\u001b[0m\u001b[0;34m,\u001b[0m \u001b[0;34m*\u001b[0m\u001b[0margs\u001b[0m\u001b[0;34m)\u001b[0m\u001b[0;34m:\u001b[0m\u001b[0;34m\u001b[0m\u001b[0m\n\u001b[1;32m   1333\u001b[0m     \u001b[0;32mtry\u001b[0m\u001b[0;34m:\u001b[0m\u001b[0;34m\u001b[0m\u001b[0m\n\u001b[0;32m-> 1334\u001b[0;31m       \u001b[0;32mreturn\u001b[0m \u001b[0mfn\u001b[0m\u001b[0;34m(\u001b[0m\u001b[0;34m*\u001b[0m\u001b[0margs\u001b[0m\u001b[0;34m)\u001b[0m\u001b[0;34m\u001b[0m\u001b[0m\n\u001b[0m\u001b[1;32m   1335\u001b[0m     \u001b[0;32mexcept\u001b[0m \u001b[0merrors\u001b[0m\u001b[0;34m.\u001b[0m\u001b[0mOpError\u001b[0m \u001b[0;32mas\u001b[0m \u001b[0me\u001b[0m\u001b[0;34m:\u001b[0m\u001b[0;34m\u001b[0m\u001b[0m\n\u001b[1;32m   1336\u001b[0m       \u001b[0mmessage\u001b[0m \u001b[0;34m=\u001b[0m \u001b[0mcompat\u001b[0m\u001b[0;34m.\u001b[0m\u001b[0mas_text\u001b[0m\u001b[0;34m(\u001b[0m\u001b[0me\u001b[0m\u001b[0;34m.\u001b[0m\u001b[0mmessage\u001b[0m\u001b[0;34m)\u001b[0m\u001b[0;34m\u001b[0m\u001b[0m\n",
      "\u001b[0;32m/Library/Frameworks/Python.framework/Versions/3.6/lib/python3.6/site-packages/tensorflow/python/client/session.py\u001b[0m in \u001b[0;36m_run_fn\u001b[0;34m(feed_dict, fetch_list, target_list, options, run_metadata)\u001b[0m\n\u001b[1;32m   1317\u001b[0m       \u001b[0mself\u001b[0m\u001b[0;34m.\u001b[0m\u001b[0m_extend_graph\u001b[0m\u001b[0;34m(\u001b[0m\u001b[0;34m)\u001b[0m\u001b[0;34m\u001b[0m\u001b[0m\n\u001b[1;32m   1318\u001b[0m       return self._call_tf_sessionrun(\n\u001b[0;32m-> 1319\u001b[0;31m           options, feed_dict, fetch_list, target_list, run_metadata)\n\u001b[0m\u001b[1;32m   1320\u001b[0m \u001b[0;34m\u001b[0m\u001b[0m\n\u001b[1;32m   1321\u001b[0m     \u001b[0;32mdef\u001b[0m \u001b[0m_prun_fn\u001b[0m\u001b[0;34m(\u001b[0m\u001b[0mhandle\u001b[0m\u001b[0;34m,\u001b[0m \u001b[0mfeed_dict\u001b[0m\u001b[0;34m,\u001b[0m \u001b[0mfetch_list\u001b[0m\u001b[0;34m)\u001b[0m\u001b[0;34m:\u001b[0m\u001b[0;34m\u001b[0m\u001b[0m\n",
      "\u001b[0;32m/Library/Frameworks/Python.framework/Versions/3.6/lib/python3.6/site-packages/tensorflow/python/client/session.py\u001b[0m in \u001b[0;36m_call_tf_sessionrun\u001b[0;34m(self, options, feed_dict, fetch_list, target_list, run_metadata)\u001b[0m\n\u001b[1;32m   1405\u001b[0m     return tf_session.TF_SessionRun_wrapper(\n\u001b[1;32m   1406\u001b[0m         \u001b[0mself\u001b[0m\u001b[0;34m.\u001b[0m\u001b[0m_session\u001b[0m\u001b[0;34m,\u001b[0m \u001b[0moptions\u001b[0m\u001b[0;34m,\u001b[0m \u001b[0mfeed_dict\u001b[0m\u001b[0;34m,\u001b[0m \u001b[0mfetch_list\u001b[0m\u001b[0;34m,\u001b[0m \u001b[0mtarget_list\u001b[0m\u001b[0;34m,\u001b[0m\u001b[0;34m\u001b[0m\u001b[0m\n\u001b[0;32m-> 1407\u001b[0;31m         run_metadata)\n\u001b[0m\u001b[1;32m   1408\u001b[0m \u001b[0;34m\u001b[0m\u001b[0m\n\u001b[1;32m   1409\u001b[0m   \u001b[0;32mdef\u001b[0m \u001b[0m_call_tf_sessionprun\u001b[0m\u001b[0;34m(\u001b[0m\u001b[0mself\u001b[0m\u001b[0;34m,\u001b[0m \u001b[0mhandle\u001b[0m\u001b[0;34m,\u001b[0m \u001b[0mfeed_dict\u001b[0m\u001b[0;34m,\u001b[0m \u001b[0mfetch_list\u001b[0m\u001b[0;34m)\u001b[0m\u001b[0;34m:\u001b[0m\u001b[0;34m\u001b[0m\u001b[0m\n",
      "\u001b[0;31mKeyboardInterrupt\u001b[0m: "
     ]
    }
   ],
   "source": [
    "best_val = 0.73\n",
    "\n",
    "train_ids = [x for x in range(len(train_y))]\n",
    "\n",
    "for i in range(1, 200):\n",
    "    al = np.min([i*0.005, 0.075])\n",
    "    #randomize = train_ids\n",
    "    #np.random.shuffle(randomize)\n",
    "    randomize = equibatch(train_ids, lovasz = False)\n",
    "    if i > 125:\n",
    "        print(\"Switching to SGD\")\n",
    "        op = ft_op\n",
    "        loss = ft_loss\n",
    "    else:\n",
    "        print(\"Loss: {} 1.5 weighted BCE + {} Image Lovasz\".format( (0.95-al), (0.05 + al)))\n",
    "        op = train_op\n",
    "        loss = train_loss\n",
    "        #op = ft_op\n",
    "        #loss = ft_loss\n",
    "    BATCH_SIZE = 16\n",
    "    test_ids = [x for x in range(0, len(test_x))]\n",
    "    losses = []\n",
    "    \n",
    "    for k in tnrange(int(len(randomize) // BATCH_SIZE)):\n",
    "        batch_ids = randomize[k*BATCH_SIZE:(k+1)*BATCH_SIZE]\n",
    "        batch_y = train_y[batch_ids, :, :].reshape(len(batch_ids), 14, 14)\n",
    "        opt, tr = sess.run([op, loss],\n",
    "                              feed_dict={inp: train_x[batch_ids, :, :, :],\n",
    "                                         length: train_l[batch_ids].reshape((-1, 1)),\n",
    "                                         labels: batch_y,\n",
    "                                         is_training: True,\n",
    "                                         keep_rate: np.max((1 - (i*0.002), 0.85)),\n",
    "                                         alpha: al\n",
    "                                         })\n",
    "        losses.append(tr)\n",
    "    \n",
    "    print(\"Epoch {}: Loss {}\".format(i, np.around(np.mean(losses[:-1]), 3)))\n",
    "    f1 = calculate_metrics()\n",
    "    if f1 > best_val:\n",
    "        best_val = f1\n",
    "        print(\"Saving model with {}\".format(f1))\n",
    "        save_path = saver.save(sess, \"../models/nov-21/model\")"
   ]
  },
  {
   "cell_type": "code",
   "execution_count": 543,
   "metadata": {},
   "outputs": [],
   "source": [
    "# potential problem test IDS: 135505813, 135505835, \n",
    "save_path = saver.save(sess, \"../models/nov-21/model\")\n"
   ]
  },
  {
   "cell_type": "code",
   "execution_count": 531,
   "metadata": {},
   "outputs": [
    {
     "name": "stdout",
     "output_type": "stream",
     "text": [
      "Val loss: 0.31299999356269836 Thresh: 0.55 F1: 0.751 Recall: 0.787 Precision: 0.717 Error: 0.088\n"
     ]
    },
    {
     "data": {
      "text/plain": [
       "0.7506534239414532"
      ]
     },
     "execution_count": 531,
     "metadata": {},
     "output_type": "execute_result"
    }
   ],
   "source": [
    "calculate_metrics()"
   ]
  },
  {
   "cell_type": "markdown",
   "metadata": {},
   "source": [
    "# Model validation and sanity checks\n",
    "\n",
    "\n",
    "\n"
   ]
  },
  {
   "cell_type": "code",
   "execution_count": 47,
   "metadata": {},
   "outputs": [],
   "source": [
    "start = 0\n",
    "test_ids = [x for x in range(0, len(test_x))]\n",
    "\n",
    "def multiplot(matrices, nrows = 2, ncols = 4):\n",
    "    '''Plot multiple heatmaps with subplots'''\n",
    "    fig, axs = plt.subplots(ncols=4, nrows = nrows)\n",
    "    fig.set_size_inches(20, 4*nrows)\n",
    "    to_iter = [[x for x in range(i, i + ncols + 1)] for i in range(0, nrows*ncols, ncols)]\n",
    "    for r in range(1, nrows + 1):\n",
    "        min_i = min(to_iter[r-1])\n",
    "        max_i = max(to_iter[r-1])\n",
    "        for i, matrix in enumerate(matrices[min_i:max_i]):\n",
    "            sns.heatmap(data = matrix, ax = axs[r - 1, i], vmin = 0, vmax = 0.9)\n",
    "            axs[r - 1, i].set_xlabel(\"\")\n",
    "            axs[r - 1, i].set_ylabel(\"\")\n",
    "            axs[r - 1, i].set_yticks([])\n",
    "            axs[r - 1, i].set_xticks([])\n",
    "    plt.show()\n",
    "start = 71"
   ]
  },
  {
   "cell_type": "code",
   "execution_count": 52,
   "metadata": {
    "scrolled": false
   },
   "outputs": [
    {
     "name": "stdout",
     "output_type": "stream",
     "text": [
      "0.7131147540983607\n",
      "87\n",
      "88\n",
      "89\n",
      "90\n",
      "91\n",
      "92\n",
      "93\n",
      "94\n"
     ]
    },
    {
     "data": {
      "image/png": "[encoded data removed]",
      "text/plain": [
       "<Figure size 1440x576 with 16 Axes>"
      ]
     },
     "metadata": {
      "needs_background": "light"
     },
     "output_type": "display_data"
    }
   ],
   "source": [
    "test_losses = []\n",
    "print(start/len(test_ids))\n",
    "test_ids = sorted(test_ids)\n",
    "matrix_ids = [test_ids[start], test_ids[start + 1], test_ids[start + 2], test_ids[start + 3],\n",
    "              test_ids[start + 4], test_ids[start + 5], test_ids[start + 6], test_ids[start + 7]]\n",
    "#matrix_ids = random.sample(test_ids, 4)z\n",
    "\n",
    "preds = []\n",
    "trues = []\n",
    "for i in matrix_ids:\n",
    "    idx = i\n",
    "    print(i)\n",
    "    y = sess.run([fm], feed_dict={inp: test_x[idx].reshape(1, 24, IMAGE_SIZE, IMAGE_SIZE, n_bands),\n",
    "                                  length: test_lengths[idx].reshape(1, 1),\n",
    "                                  is_training: False,\n",
    "                                  })\n",
    "    y = np.array(y).reshape(14, 14)\n",
    "    preds.append(y)\n",
    "    true = test_y[idx].reshape(14, 14)\n",
    "    trues.append(true)\n",
    "    \n",
    "\"\"\n",
    "to_plot = trues[0:4] + preds[0:4]# + trues[5:] + preds[5:]\n",
    "multiplot(to_plot, nrows = 2, ncols = 4)\n",
    "#plot_ids[/ordering[976]//4] \n",
    "start = start + 4 # 50, 87, 107 is a concern"
   ]
  },
  {
   "cell_type": "code",
   "execution_count": 529,
   "metadata": {},
   "outputs": [
    {
     "name": "stdout",
     "output_type": "stream",
     "text": [
      "2781\n",
      "157\n",
      "2247\n",
      "1868\n"
     ]
    },
    {
     "data": {
      "image/png": "[encoded data removed]",
      "text/plain": [
       "<Figure size 1440x576 with 16 Axes>"
      ]
     },
     "metadata": {
      "needs_background": "light"
     },
     "output_type": "display_data"
    }
   ],
   "source": [
    "test_losses = []\n",
    "test_ids = sorted(test_ids)\n",
    "matrix_ids = random.sample(train_ids, 4)\n",
    "#matrix_ids = [len(train_x)-28]\n",
    "\n",
    "preds = []\n",
    "trues = []\n",
    "for i in matrix_ids:\n",
    "    idx = i\n",
    "    print(i)\n",
    "    y = sess.run([fm], feed_dict={inp: train_x[idx].reshape(1, 24, IMAGE_SIZE, IMAGE_SIZE, n_bands),\n",
    "                                  length: train_l[idx].reshape(1, 1),\n",
    "                                  is_training: False,\n",
    "                                  })\n",
    "    y = np.array(y).reshape(14, 14)\n",
    "    preds.append(y)\n",
    "    true = train_y[idx].reshape(14, 14)\n",
    "    trues.append(true)\n",
    "    \n",
    "\n",
    "to_plot = trues[0:4] + preds[0:4]# + trues[5:] + preds[5:]\n",
    "multiplot(to_plot, nrows = 2, ncols = 4)"
   ]
  },
  {
   "cell_type": "code",
   "execution_count": 511,
   "metadata": {},
   "outputs": [],
   "source": [
    "plot_ids2 = [val for x, val in enumerate(plot_ids) if x not in list(set([x // 4 for x in outliers]))]\n",
    "#plot_ids2[ordering[460]//4] "
   ]
  },
  {
   "cell_type": "code",
   "execution_count": 153,
   "metadata": {},
   "outputs": [
    {
     "name": "stdout",
     "output_type": "stream",
     "text": [
      "Val loss: 0.32100000977516174 Thresh: 0.4 F1: 0.697 Recall: 0.699 Precision: 0.695 Error: 0.005\n"
     ]
    },
    {
     "data": {
      "text/plain": [
       "0.6968058968058969"
      ]
     },
     "execution_count": 153,
     "metadata": {},
     "output_type": "execute_result"
    }
   ],
   "source": [
    "calculate_metrics()"
   ]
  },
  {
   "cell_type": "markdown",
   "metadata": {},
   "source": [
    "## TODO @jombrandt top 10 worst training, test samples by IOU \n",
    "\n",
    "These should be written to a tmp/ .txt file and indexed by validate-data.ipynb to ensure that original classifications were correct, and to identify regions that need more training data."
   ]
  }
 ],
 "metadata": {
  "kernelspec": {
   "display_name": "policy-toolkit",
   "language": "python",
   "name": "policy-toolkit"
  },
  "language_info": {
   "codemirror_mode": {
    "name": "ipython",
    "version": 3
   },
   "file_extension": ".py",
   "mimetype": "text/x-python",
   "name": "python",
   "nbconvert_exporter": "python",
   "pygments_lexer": "ipython3",
   "version": "3.7.3"
  }
 },
 "nbformat": 4,
 "nbformat_minor": 2
}
