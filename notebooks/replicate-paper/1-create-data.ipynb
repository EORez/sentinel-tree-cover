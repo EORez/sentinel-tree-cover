{
 "cells": [
  {
   "cell_type": "markdown",
   "metadata": {},
   "source": [
    "# Create metadata"
   ]
  },
  {
   "cell_type": "code",
   "execution_count": 1,
   "metadata": {},
   "outputs": [],
   "source": [
    "import pandas as pd\n",
    "import numpy as np"
   ]
  },
  {
   "cell_type": "code",
   "execution_count": 2,
   "metadata": {},
   "outputs": [],
   "source": [
    "import scipy.stats\n",
    "\n",
    "\n",
    "def mean_confidence_interval(data, confidence=0.95):\n",
    "    a = 1.0 * np.array(data)\n",
    "    n = len(a)\n",
    "    m, se = np.mean(a), scipy.stats.sem(a)\n",
    "    h = se * scipy.stats.t.ppf((1 + confidence) / 2., n-1)\n",
    "    return m, m-h, m+h"
   ]
  },
  {
   "cell_type": "code",
   "execution_count": 6,
   "metadata": {},
   "outputs": [
    {
     "data": {
      "text/html": [
       "<div>\n",
       "<style scoped>\n",
       "    .dataframe tbody tr th:only-of-type {\n",
       "        vertical-align: middle;\n",
       "    }\n",
       "\n",
       "    .dataframe tbody tr th {\n",
       "        vertical-align: top;\n",
       "    }\n",
       "\n",
       "    .dataframe thead th {\n",
       "        text-align: right;\n",
       "    }\n",
       "</style>\n",
       "<table border=\"1\" class=\"dataframe\">\n",
       "  <thead>\n",
       "    <tr style=\"text-align: right;\">\n",
       "      <th></th>\n",
       "      <th>Unnamed: 0</th>\n",
       "      <th>lats</th>\n",
       "      <th>longs</th>\n",
       "      <th>id</th>\n",
       "      <th>CONTINENT</th>\n",
       "      <th>clouds</th>\n",
       "      <th>slopes</th>\n",
       "    </tr>\n",
       "  </thead>\n",
       "  <tbody>\n",
       "    <tr>\n",
       "      <th>0</th>\n",
       "      <td>0</td>\n",
       "      <td>6.552393</td>\n",
       "      <td>37.070625</td>\n",
       "      <td>135505799</td>\n",
       "      <td>Africa</td>\n",
       "      <td>0.552239</td>\n",
       "      <td>0.223983</td>\n",
       "    </tr>\n",
       "    <tr>\n",
       "      <th>1</th>\n",
       "      <td>1</td>\n",
       "      <td>6.495981</td>\n",
       "      <td>35.556120</td>\n",
       "      <td>135505800</td>\n",
       "      <td>Africa</td>\n",
       "      <td>0.636364</td>\n",
       "      <td>0.086151</td>\n",
       "    </tr>\n",
       "    <tr>\n",
       "      <th>2</th>\n",
       "      <td>2</td>\n",
       "      <td>8.384319</td>\n",
       "      <td>38.972473</td>\n",
       "      <td>135505801</td>\n",
       "      <td>Africa</td>\n",
       "      <td>0.307692</td>\n",
       "      <td>0.053171</td>\n",
       "    </tr>\n",
       "    <tr>\n",
       "      <th>3</th>\n",
       "      <td>3</td>\n",
       "      <td>7.217695</td>\n",
       "      <td>33.701621</td>\n",
       "      <td>135505803</td>\n",
       "      <td>Africa</td>\n",
       "      <td>0.688525</td>\n",
       "      <td>0.041682</td>\n",
       "    </tr>\n",
       "    <tr>\n",
       "      <th>4</th>\n",
       "      <td>4</td>\n",
       "      <td>9.565499</td>\n",
       "      <td>40.256333</td>\n",
       "      <td>135505804</td>\n",
       "      <td>Africa</td>\n",
       "      <td>0.240000</td>\n",
       "      <td>0.048161</td>\n",
       "    </tr>\n",
       "  </tbody>\n",
       "</table>\n",
       "</div>"
      ],
      "text/plain": [
       "   Unnamed: 0      lats      longs         id CONTINENT    clouds    slopes\n",
       "0           0  6.552393  37.070625  135505799    Africa  0.552239  0.223983\n",
       "1           1  6.495981  35.556120  135505800    Africa  0.636364  0.086151\n",
       "2           2  8.384319  38.972473  135505801    Africa  0.307692  0.053171\n",
       "3           3  7.217695  33.701621  135505803    Africa  0.688525  0.041682\n",
       "4           4  9.565499  40.256333  135505804    Africa  0.240000  0.048161"
      ]
     },
     "execution_count": 6,
     "metadata": {},
     "output_type": "execute_result"
    }
   ],
   "source": [
    "continents = pd.read_csv(\"../../data/metrics/metadata/metadata.csv\")\n",
    "continents.head(5)"
   ]
  },
  {
   "cell_type": "code",
   "execution_count": 2,
   "metadata": {},
   "outputs": [
    {
     "data": {
      "text/html": [
       "<div>\n",
       "<style scoped>\n",
       "    .dataframe tbody tr th:only-of-type {\n",
       "        vertical-align: middle;\n",
       "    }\n",
       "\n",
       "    .dataframe tbody tr th {\n",
       "        vertical-align: top;\n",
       "    }\n",
       "\n",
       "    .dataframe thead th {\n",
       "        text-align: right;\n",
       "    }\n",
       "</style>\n",
       "<table border=\"1\" class=\"dataframe\">\n",
       "  <thead>\n",
       "    <tr style=\"text-align: right;\">\n",
       "      <th></th>\n",
       "      <th>lats</th>\n",
       "      <th>longs</th>\n",
       "      <th>id</th>\n",
       "      <th>CONTINENT</th>\n",
       "    </tr>\n",
       "  </thead>\n",
       "  <tbody>\n",
       "    <tr>\n",
       "      <th>0</th>\n",
       "      <td>6.552393</td>\n",
       "      <td>37.070625</td>\n",
       "      <td>135505799</td>\n",
       "      <td>Africa</td>\n",
       "    </tr>\n",
       "    <tr>\n",
       "      <th>1</th>\n",
       "      <td>6.495981</td>\n",
       "      <td>35.556120</td>\n",
       "      <td>135505800</td>\n",
       "      <td>Africa</td>\n",
       "    </tr>\n",
       "    <tr>\n",
       "      <th>2</th>\n",
       "      <td>8.384319</td>\n",
       "      <td>38.972473</td>\n",
       "      <td>135505801</td>\n",
       "      <td>Africa</td>\n",
       "    </tr>\n",
       "    <tr>\n",
       "      <th>3</th>\n",
       "      <td>7.217695</td>\n",
       "      <td>33.701621</td>\n",
       "      <td>135505803</td>\n",
       "      <td>Africa</td>\n",
       "    </tr>\n",
       "    <tr>\n",
       "      <th>4</th>\n",
       "      <td>9.565499</td>\n",
       "      <td>40.256333</td>\n",
       "      <td>135505804</td>\n",
       "      <td>Africa</td>\n",
       "    </tr>\n",
       "  </tbody>\n",
       "</table>\n",
       "</div>"
      ],
      "text/plain": [
       "       lats      longs         id CONTINENT\n",
       "0  6.552393  37.070625  135505799    Africa\n",
       "1  6.495981  35.556120  135505800    Africa\n",
       "2  8.384319  38.972473  135505801    Africa\n",
       "3  7.217695  33.701621  135505803    Africa\n",
       "4  9.565499  40.256333  135505804    Africa"
      ]
     },
     "execution_count": 2,
     "metadata": {},
     "output_type": "execute_result"
    }
   ],
   "source": [
    "continents = pd.read_csv(\"../../data/latlongs/test_continents.csv\")\n",
    "continents.head(5)"
   ]
  },
  {
   "cell_type": "code",
   "execution_count": 3,
   "metadata": {},
   "outputs": [
    {
     "ename": "FileNotFoundError",
     "evalue": "[Errno 2] No such file or directory: '../../data/raw/test-clouds/135505799.npy'",
     "output_type": "error",
     "traceback": [
      "\u001b[0;31m---------------------------------------------------------------------------\u001b[0m",
      "\u001b[0;31mFileNotFoundError\u001b[0m                         Traceback (most recent call last)",
      "\u001b[0;32m<ipython-input-3-e9826570a20d>\u001b[0m in \u001b[0;36m<module>\u001b[0;34m\u001b[0m\n\u001b[1;32m      3\u001b[0m \u001b[0mids\u001b[0m \u001b[0;34m=\u001b[0m \u001b[0mcontinents\u001b[0m\u001b[0;34m[\u001b[0m\u001b[0;34m'id'\u001b[0m\u001b[0;34m]\u001b[0m\u001b[0;34m\u001b[0m\u001b[0;34m\u001b[0m\u001b[0m\n\u001b[1;32m      4\u001b[0m \u001b[0;32mfor\u001b[0m \u001b[0mi\u001b[0m \u001b[0;32min\u001b[0m \u001b[0mids\u001b[0m\u001b[0;34m:\u001b[0m\u001b[0;34m\u001b[0m\u001b[0;34m\u001b[0m\u001b[0m\n\u001b[0;32m----> 5\u001b[0;31m     \u001b[0mcloud\u001b[0m \u001b[0;34m=\u001b[0m \u001b[0mnp\u001b[0m\u001b[0;34m.\u001b[0m\u001b[0mload\u001b[0m\u001b[0;34m(\u001b[0m\u001b[0;34m\"../../data/raw/test-clouds/{}.npy\"\u001b[0m\u001b[0;34m.\u001b[0m\u001b[0mformat\u001b[0m\u001b[0;34m(\u001b[0m\u001b[0mstr\u001b[0m\u001b[0;34m(\u001b[0m\u001b[0mi\u001b[0m\u001b[0;34m)\u001b[0m\u001b[0;34m)\u001b[0m\u001b[0;34m)\u001b[0m\u001b[0;34m\u001b[0m\u001b[0;34m\u001b[0m\u001b[0m\n\u001b[0m\u001b[1;32m      6\u001b[0m     \u001b[0mdata\u001b[0m \u001b[0;34m=\u001b[0m \u001b[0mnp\u001b[0m\u001b[0;34m.\u001b[0m\u001b[0mload\u001b[0m\u001b[0;34m(\u001b[0m\u001b[0;34m\"../../data/test-s2/{}.npy\"\u001b[0m\u001b[0;34m.\u001b[0m\u001b[0mformat\u001b[0m\u001b[0;34m(\u001b[0m\u001b[0mstr\u001b[0m\u001b[0;34m(\u001b[0m\u001b[0mi\u001b[0m\u001b[0;34m)\u001b[0m\u001b[0;34m)\u001b[0m\u001b[0;34m)\u001b[0m\u001b[0;34m\u001b[0m\u001b[0;34m\u001b[0m\u001b[0m\n\u001b[1;32m      7\u001b[0m     \u001b[0mslopes\u001b[0m\u001b[0;34m.\u001b[0m\u001b[0mappend\u001b[0m\u001b[0;34m(\u001b[0m\u001b[0mnp\u001b[0m\u001b[0;34m.\u001b[0m\u001b[0mmean\u001b[0m\u001b[0;34m(\u001b[0m\u001b[0mdata\u001b[0m\u001b[0;34m[\u001b[0m\u001b[0;36m0\u001b[0m\u001b[0;34m,\u001b[0m \u001b[0;34m:\u001b[0m\u001b[0;34m,\u001b[0m \u001b[0;34m:\u001b[0m\u001b[0;34m,\u001b[0m \u001b[0;36m10\u001b[0m\u001b[0;34m]\u001b[0m\u001b[0;34m)\u001b[0m\u001b[0;34m)\u001b[0m\u001b[0;34m\u001b[0m\u001b[0;34m\u001b[0m\u001b[0m\n",
      "\u001b[0;32m~/anaconda3/envs/remote_sensing/lib/python3.6/site-packages/numpy/lib/npyio.py\u001b[0m in \u001b[0;36mload\u001b[0;34m(file, mmap_mode, allow_pickle, fix_imports, encoding)\u001b[0m\n\u001b[1;32m    420\u001b[0m         \u001b[0mown_fid\u001b[0m \u001b[0;34m=\u001b[0m \u001b[0;32mFalse\u001b[0m\u001b[0;34m\u001b[0m\u001b[0;34m\u001b[0m\u001b[0m\n\u001b[1;32m    421\u001b[0m     \u001b[0;32melse\u001b[0m\u001b[0;34m:\u001b[0m\u001b[0;34m\u001b[0m\u001b[0;34m\u001b[0m\u001b[0m\n\u001b[0;32m--> 422\u001b[0;31m         \u001b[0mfid\u001b[0m \u001b[0;34m=\u001b[0m \u001b[0mopen\u001b[0m\u001b[0;34m(\u001b[0m\u001b[0mos_fspath\u001b[0m\u001b[0;34m(\u001b[0m\u001b[0mfile\u001b[0m\u001b[0;34m)\u001b[0m\u001b[0;34m,\u001b[0m \u001b[0;34m\"rb\"\u001b[0m\u001b[0;34m)\u001b[0m\u001b[0;34m\u001b[0m\u001b[0;34m\u001b[0m\u001b[0m\n\u001b[0m\u001b[1;32m    423\u001b[0m         \u001b[0mown_fid\u001b[0m \u001b[0;34m=\u001b[0m \u001b[0;32mTrue\u001b[0m\u001b[0;34m\u001b[0m\u001b[0;34m\u001b[0m\u001b[0m\n\u001b[1;32m    424\u001b[0m \u001b[0;34m\u001b[0m\u001b[0m\n",
      "\u001b[0;31mFileNotFoundError\u001b[0m: [Errno 2] No such file or directory: '../../data/raw/test-clouds/135505799.npy'"
     ]
    }
   ],
   "source": [
    "clouds = []\n",
    "slopes = []\n",
    "ids = continents['id']\n",
    "for i in ids:\n",
    "    cloud = np.load(\"../../data/raw/test-clouds/{}.npy\".format(str(i)))\n",
    "    data = np.load(\"../../data/test-s2/{}.npy\".format(str(i)))\n",
    "    slopes.append(np.mean(data[0, :, :, 10]))\n",
    "    cloud_percents = [len(np.argwhere(cloud[i].flatten() > 0.3)) for i in range(cloud.shape[0])]\n",
    "    cloud_percents = np.array(cloud_percents) / cloud.shape[1]*cloud.shape[2]\n",
    "    cloud_percents = len(np.argwhere(cloud_percents > 0.2)) / len(cloud_percents)\n",
    "    clouds.append(cloud_percents)"
   ]
  },
  {
   "cell_type": "code",
   "execution_count": null,
   "metadata": {},
   "outputs": [],
   "source": [
    "continents['clouds'] = clouds\n",
    "continents['slopes'] = slopes\n",
    "continents.to_csv(\"../../data/metrics/metadata/metadata.csv\")"
   ]
  },
  {
   "cell_type": "markdown",
   "metadata": {},
   "source": [
    "# Load proposed model predictions"
   ]
  },
  {
   "cell_type": "code",
   "execution_count": 87,
   "metadata": {},
   "outputs": [
    {
     "data": {
      "text/html": [
       "<div>\n",
       "<style scoped>\n",
       "    .dataframe tbody tr th:only-of-type {\n",
       "        vertical-align: middle;\n",
       "    }\n",
       "\n",
       "    .dataframe tbody tr th {\n",
       "        vertical-align: top;\n",
       "    }\n",
       "\n",
       "    .dataframe thead th {\n",
       "        text-align: right;\n",
       "    }\n",
       "</style>\n",
       "<table border=\"1\" class=\"dataframe\">\n",
       "  <thead>\n",
       "    <tr style=\"text-align: right;\">\n",
       "      <th></th>\n",
       "      <th>Unnamed: 0</th>\n",
       "      <th>true</th>\n",
       "      <th>pred</th>\n",
       "      <th>f1_hard</th>\n",
       "      <th>error</th>\n",
       "      <th>tp</th>\n",
       "      <th>fp</th>\n",
       "      <th>fn</th>\n",
       "      <th>tp_soft</th>\n",
       "      <th>fp_soft</th>\n",
       "      <th>fn_soft</th>\n",
       "      <th>group</th>\n",
       "      <th>model</th>\n",
       "      <th>plot_id</th>\n",
       "      <th>lats</th>\n",
       "      <th>longs</th>\n",
       "      <th>id</th>\n",
       "      <th>CONTINENT</th>\n",
       "    </tr>\n",
       "  </thead>\n",
       "  <tbody>\n",
       "    <tr>\n",
       "      <th>0</th>\n",
       "      <td>0</td>\n",
       "      <td>29.081633</td>\n",
       "      <td>27.551020</td>\n",
       "      <td>0.684685</td>\n",
       "      <td>1.530612</td>\n",
       "      <td>38.0</td>\n",
       "      <td>16</td>\n",
       "      <td>19</td>\n",
       "      <td>49.0</td>\n",
       "      <td>0.0</td>\n",
       "      <td>8.0</td>\n",
       "      <td>20</td>\n",
       "      <td>proposed</td>\n",
       "      <td>135505799</td>\n",
       "      <td>6.552393</td>\n",
       "      <td>37.070625</td>\n",
       "      <td>135505799</td>\n",
       "      <td>Africa</td>\n",
       "    </tr>\n",
       "    <tr>\n",
       "      <th>1</th>\n",
       "      <td>1</td>\n",
       "      <td>100.000000</td>\n",
       "      <td>33.163265</td>\n",
       "      <td>0.498084</td>\n",
       "      <td>66.836735</td>\n",
       "      <td>65.0</td>\n",
       "      <td>0</td>\n",
       "      <td>131</td>\n",
       "      <td>95.0</td>\n",
       "      <td>0.0</td>\n",
       "      <td>101.0</td>\n",
       "      <td>90</td>\n",
       "      <td>proposed</td>\n",
       "      <td>135505800</td>\n",
       "      <td>6.495981</td>\n",
       "      <td>35.556120</td>\n",
       "      <td>135505800</td>\n",
       "      <td>Africa</td>\n",
       "    </tr>\n",
       "    <tr>\n",
       "      <th>2</th>\n",
       "      <td>2</td>\n",
       "      <td>11.224490</td>\n",
       "      <td>11.734694</td>\n",
       "      <td>0.533333</td>\n",
       "      <td>0.510204</td>\n",
       "      <td>12.0</td>\n",
       "      <td>11</td>\n",
       "      <td>10</td>\n",
       "      <td>16.0</td>\n",
       "      <td>1.0</td>\n",
       "      <td>6.0</td>\n",
       "      <td>10</td>\n",
       "      <td>proposed</td>\n",
       "      <td>135505801</td>\n",
       "      <td>8.384319</td>\n",
       "      <td>38.972473</td>\n",
       "      <td>135505801</td>\n",
       "      <td>Africa</td>\n",
       "    </tr>\n",
       "    <tr>\n",
       "      <th>3</th>\n",
       "      <td>3</td>\n",
       "      <td>3.061224</td>\n",
       "      <td>0.510204</td>\n",
       "      <td>0.285714</td>\n",
       "      <td>2.551020</td>\n",
       "      <td>1.0</td>\n",
       "      <td>0</td>\n",
       "      <td>5</td>\n",
       "      <td>1.0</td>\n",
       "      <td>0.0</td>\n",
       "      <td>5.0</td>\n",
       "      <td>0</td>\n",
       "      <td>proposed</td>\n",
       "      <td>135505803</td>\n",
       "      <td>7.217695</td>\n",
       "      <td>33.701621</td>\n",
       "      <td>135505803</td>\n",
       "      <td>Africa</td>\n",
       "    </tr>\n",
       "    <tr>\n",
       "      <th>4</th>\n",
       "      <td>4</td>\n",
       "      <td>0.000000</td>\n",
       "      <td>10.204082</td>\n",
       "      <td>0.000000</td>\n",
       "      <td>10.204082</td>\n",
       "      <td>0.0</td>\n",
       "      <td>20</td>\n",
       "      <td>0</td>\n",
       "      <td>0.0</td>\n",
       "      <td>20.0</td>\n",
       "      <td>0.0</td>\n",
       "      <td>0</td>\n",
       "      <td>proposed</td>\n",
       "      <td>135505804</td>\n",
       "      <td>9.565499</td>\n",
       "      <td>40.256333</td>\n",
       "      <td>135505804</td>\n",
       "      <td>Africa</td>\n",
       "    </tr>\n",
       "  </tbody>\n",
       "</table>\n",
       "</div>"
      ],
      "text/plain": [
       "   Unnamed: 0        true       pred   f1_hard      error    tp  fp   fn  \\\n",
       "0           0   29.081633  27.551020  0.684685   1.530612  38.0  16   19   \n",
       "1           1  100.000000  33.163265  0.498084  66.836735  65.0   0  131   \n",
       "2           2   11.224490  11.734694  0.533333   0.510204  12.0  11   10   \n",
       "3           3    3.061224   0.510204  0.285714   2.551020   1.0   0    5   \n",
       "4           4    0.000000  10.204082  0.000000  10.204082   0.0  20    0   \n",
       "\n",
       "   tp_soft  fp_soft  fn_soft  group     model    plot_id      lats      longs  \\\n",
       "0     49.0      0.0      8.0     20  proposed  135505799  6.552393  37.070625   \n",
       "1     95.0      0.0    101.0     90  proposed  135505800  6.495981  35.556120   \n",
       "2     16.0      1.0      6.0     10  proposed  135505801  8.384319  38.972473   \n",
       "3      1.0      0.0      5.0      0  proposed  135505803  7.217695  33.701621   \n",
       "4      0.0     20.0      0.0      0  proposed  135505804  9.565499  40.256333   \n",
       "\n",
       "          id CONTINENT  \n",
       "0  135505799    Africa  \n",
       "1  135505800    Africa  \n",
       "2  135505801    Africa  \n",
       "3  135505803    Africa  \n",
       "4  135505804    Africa  "
      ]
     },
     "execution_count": 87,
     "metadata": {},
     "output_type": "execute_result"
    }
   ],
   "source": [
    "proposed = pd.read_csv(\"../../data/metrics/proposed-sample.csv\")\n",
    "proposed = proposed.join(continents, how = 'inner')\n",
    "proposed.head(5)"
   ]
  },
  {
   "cell_type": "code",
   "execution_count": 88,
   "metadata": {},
   "outputs": [
    {
     "name": "stdout",
     "output_type": "stream",
     "text": [
      "30 (14.655612244897961, 9.98529465984393, 19.325929829951992)\n",
      "40 (17.540464461646728, 12.193202996070974, 22.887725927222483)\n",
      "50 (16.49659863945578, 11.137335150797272, 21.85586212811429)\n",
      "60 (20.21066491112574, 15.30508365065455, 25.116246171596927)\n",
      "70 (14.755102040816327, 10.929367290737584, 18.58083679089507)\n",
      "16.731688459588508 11.91005674962086 21.553320169556155\n",
      "(16.678736010533246, 14.542344079689995, 18.815127941376495)\n"
     ]
    },
    {
     "name": "stderr",
     "output_type": "stream",
     "text": [
      "/Users/john.brandt/.local/lib/python3.6/site-packages/ipykernel_launcher.py:5: SettingWithCopyWarning: \n",
      "A value is trying to be set on a copy of a slice from a DataFrame\n",
      "\n",
      "See the caveats in the documentation: http://pandas.pydata.org/pandas-docs/stable/indexing.html#indexing-view-versus-copy\n",
      "  \"\"\"\n"
     ]
    }
   ],
   "source": [
    "means_l = []\n",
    "means = []\n",
    "means_u = []\n",
    "proposed['ccgroup'] = 0\n",
    "proposed['ccgroup'][(proposed['group'] >= 30) & (proposed['group'] <= 70)] = 1\n",
    "for i in range(0, 100, 10):\n",
    "    group = proposed[proposed['group'] == i]\n",
    "    ci = mean_confidence_interval(group['error'], 0.95)\n",
    "    if i >= 30 and i <= 70:\n",
    "        means_l.append(ci[0])\n",
    "        means_u.append(ci[2])\n",
    "        means.append(ci[1])\n",
    "        print(i, ci)\n",
    "print(np.mean(means_l), np.mean(means), np.mean(means_u))\n",
    "\n",
    "print(mean_confidence_interval(proposed[proposed['ccgroup'] == 1]['error']))"
   ]
  },
  {
   "cell_type": "code",
   "execution_count": 53,
   "metadata": {},
   "outputs": [
    {
     "data": {
      "text/plain": [
       "(10.674505522970748, 9.726780665897085, 11.62223038004441)"
      ]
     },
     "execution_count": 53,
     "metadata": {},
     "output_type": "execute_result"
    }
   ],
   "source": [
    "mean_confidence_interval(proposed['error'], 0.95)"
   ]
  },
  {
   "cell_type": "markdown",
   "metadata": {},
   "source": [
    "# Overall metrics"
   ]
  },
  {
   "cell_type": "code",
   "execution_count": 6,
   "metadata": {},
   "outputs": [
    {
     "name": "stdout",
     "output_type": "stream",
     "text": [
      "0.9538015224060691 0.9392966399514575\n"
     ]
    }
   ],
   "source": [
    "tp = proposed.sum()['tp_soft']\n",
    "fp = proposed.sum()['fp_soft']\n",
    "fn = proposed.sum()['fn_soft']\n",
    "precision = tp / (tp + fp)\n",
    "recall = tp / (tp + fn)\n",
    "print(float(precision), float(recall))"
   ]
  },
  {
   "cell_type": "code",
   "execution_count": 7,
   "metadata": {},
   "outputs": [
    {
     "data": {
      "text/plain": [
       "7.130819659987407"
      ]
     },
     "execution_count": 7,
     "metadata": {},
     "output_type": "execute_result"
    }
   ],
   "source": [
    "np.mean(proposed['error'])"
   ]
  },
  {
   "cell_type": "markdown",
   "metadata": {},
   "source": [
    "## Regional metrics"
   ]
  },
  {
   "cell_type": "code",
   "execution_count": 8,
   "metadata": {},
   "outputs": [
    {
     "name": "stdout",
     "output_type": "stream",
     "text": [
      "Africa 0.9522558214747736 0.9107957621220323\n",
      "Asia 0.9167635095874491 0.9236060295624177\n",
      "Australia 0.9480096628505409 0.929557157569516\n",
      "Europe 0.9563005478737282 0.9613165486493574\n",
      "North America 0.9710346195813907 0.9739329419958214\n",
      "South America 0.9450782700981692 0.9425774014289494\n"
     ]
    }
   ],
   "source": [
    "sums = proposed.groupby(\"CONTINENT\").sum()\n",
    "for i in ['Africa', 'Asia', \"Australia\", \"Europe\", \"North America\", \"South America\"]:\n",
    "    tp = sums[sums.index == i]['tp_soft']\n",
    "    fp = sums[sums.index == i]['fp_soft']\n",
    "    fn = sums[sums.index == i]['fn_soft']\n",
    "    precision = tp / (tp + fp)\n",
    "    recall = tp / (tp + fn)\n",
    "    print(i, float(precision), float(recall))"
   ]
  },
  {
   "cell_type": "markdown",
   "metadata": {},
   "source": [
    "# Cloud metrics"
   ]
  },
  {
   "cell_type": "code",
   "execution_count": 14,
   "metadata": {},
   "outputs": [
    {
     "ename": "KeyError",
     "evalue": "'clouds'",
     "output_type": "error",
     "traceback": [
      "\u001b[0;31m---------------------------------------------------------------------------\u001b[0m",
      "\u001b[0;31mKeyError\u001b[0m                                  Traceback (most recent call last)",
      "\u001b[0;32m~/anaconda3/envs/remote_sensing/lib/python3.6/site-packages/pandas/core/indexes/base.py\u001b[0m in \u001b[0;36mget_loc\u001b[0;34m(self, key, method, tolerance)\u001b[0m\n\u001b[1;32m   2656\u001b[0m             \u001b[0;32mtry\u001b[0m\u001b[0;34m:\u001b[0m\u001b[0;34m\u001b[0m\u001b[0;34m\u001b[0m\u001b[0m\n\u001b[0;32m-> 2657\u001b[0;31m                 \u001b[0;32mreturn\u001b[0m \u001b[0mself\u001b[0m\u001b[0;34m.\u001b[0m\u001b[0m_engine\u001b[0m\u001b[0;34m.\u001b[0m\u001b[0mget_loc\u001b[0m\u001b[0;34m(\u001b[0m\u001b[0mkey\u001b[0m\u001b[0;34m)\u001b[0m\u001b[0;34m\u001b[0m\u001b[0;34m\u001b[0m\u001b[0m\n\u001b[0m\u001b[1;32m   2658\u001b[0m             \u001b[0;32mexcept\u001b[0m \u001b[0mKeyError\u001b[0m\u001b[0;34m:\u001b[0m\u001b[0;34m\u001b[0m\u001b[0;34m\u001b[0m\u001b[0m\n",
      "\u001b[0;32mpandas/_libs/index.pyx\u001b[0m in \u001b[0;36mpandas._libs.index.IndexEngine.get_loc\u001b[0;34m()\u001b[0m\n",
      "\u001b[0;32mpandas/_libs/index.pyx\u001b[0m in \u001b[0;36mpandas._libs.index.IndexEngine.get_loc\u001b[0;34m()\u001b[0m\n",
      "\u001b[0;32mpandas/_libs/hashtable_class_helper.pxi\u001b[0m in \u001b[0;36mpandas._libs.hashtable.PyObjectHashTable.get_item\u001b[0;34m()\u001b[0m\n",
      "\u001b[0;32mpandas/_libs/hashtable_class_helper.pxi\u001b[0m in \u001b[0;36mpandas._libs.hashtable.PyObjectHashTable.get_item\u001b[0;34m()\u001b[0m\n",
      "\u001b[0;31mKeyError\u001b[0m: 'clouds'",
      "\nDuring handling of the above exception, another exception occurred:\n",
      "\u001b[0;31mKeyError\u001b[0m                                  Traceback (most recent call last)",
      "\u001b[0;32m<ipython-input-14-5d2945435310>\u001b[0m in \u001b[0;36m<module>\u001b[0;34m\u001b[0m\n\u001b[0;32m----> 1\u001b[0;31m \u001b[0mtp\u001b[0m \u001b[0;34m=\u001b[0m \u001b[0mproposed\u001b[0m\u001b[0;34m[\u001b[0m\u001b[0mproposed\u001b[0m\u001b[0;34m[\u001b[0m\u001b[0;34m'clouds'\u001b[0m\u001b[0;34m]\u001b[0m \u001b[0;34m<\u001b[0m \u001b[0;36m0.75\u001b[0m\u001b[0;34m]\u001b[0m\u001b[0;34m.\u001b[0m\u001b[0msum\u001b[0m\u001b[0;34m(\u001b[0m\u001b[0;34m)\u001b[0m\u001b[0;34m[\u001b[0m\u001b[0;34m'tp_soft'\u001b[0m\u001b[0;34m]\u001b[0m\u001b[0;34m\u001b[0m\u001b[0;34m\u001b[0m\u001b[0m\n\u001b[0m\u001b[1;32m      2\u001b[0m \u001b[0mfp\u001b[0m \u001b[0;34m=\u001b[0m \u001b[0mproposed\u001b[0m\u001b[0;34m[\u001b[0m\u001b[0mproposed\u001b[0m\u001b[0;34m[\u001b[0m\u001b[0;34m'clouds'\u001b[0m\u001b[0;34m]\u001b[0m \u001b[0;34m<\u001b[0m \u001b[0;36m0.75\u001b[0m\u001b[0;34m]\u001b[0m\u001b[0;34m.\u001b[0m\u001b[0msum\u001b[0m\u001b[0;34m(\u001b[0m\u001b[0;34m)\u001b[0m\u001b[0;34m[\u001b[0m\u001b[0;34m'fp_soft'\u001b[0m\u001b[0;34m]\u001b[0m\u001b[0;34m\u001b[0m\u001b[0;34m\u001b[0m\u001b[0m\n\u001b[1;32m      3\u001b[0m \u001b[0mfn\u001b[0m \u001b[0;34m=\u001b[0m \u001b[0mproposed\u001b[0m\u001b[0;34m[\u001b[0m\u001b[0mproposed\u001b[0m\u001b[0;34m[\u001b[0m\u001b[0;34m'clouds'\u001b[0m\u001b[0;34m]\u001b[0m \u001b[0;34m<\u001b[0m \u001b[0;36m0.75\u001b[0m\u001b[0;34m]\u001b[0m\u001b[0;34m.\u001b[0m\u001b[0msum\u001b[0m\u001b[0;34m(\u001b[0m\u001b[0;34m)\u001b[0m\u001b[0;34m[\u001b[0m\u001b[0;34m'fn_soft'\u001b[0m\u001b[0;34m]\u001b[0m\u001b[0;34m\u001b[0m\u001b[0;34m\u001b[0m\u001b[0m\n\u001b[1;32m      4\u001b[0m \u001b[0merror\u001b[0m \u001b[0;34m=\u001b[0m \u001b[0mproposed\u001b[0m\u001b[0;34m[\u001b[0m\u001b[0mproposed\u001b[0m\u001b[0;34m[\u001b[0m\u001b[0;34m'clouds'\u001b[0m\u001b[0;34m]\u001b[0m \u001b[0;34m<\u001b[0m \u001b[0;36m0.75\u001b[0m\u001b[0;34m]\u001b[0m\u001b[0;34m.\u001b[0m\u001b[0mmean\u001b[0m\u001b[0;34m(\u001b[0m\u001b[0;34m)\u001b[0m\u001b[0;34m[\u001b[0m\u001b[0;34m'error'\u001b[0m\u001b[0;34m]\u001b[0m\u001b[0;34m\u001b[0m\u001b[0;34m\u001b[0m\u001b[0m\n\u001b[1;32m      5\u001b[0m \u001b[0mcount\u001b[0m \u001b[0;34m=\u001b[0m \u001b[0mproposed\u001b[0m\u001b[0;34m[\u001b[0m\u001b[0mproposed\u001b[0m\u001b[0;34m[\u001b[0m\u001b[0;34m'clouds'\u001b[0m\u001b[0;34m]\u001b[0m \u001b[0;34m<\u001b[0m \u001b[0;36m0.75\u001b[0m\u001b[0;34m]\u001b[0m\u001b[0;34m.\u001b[0m\u001b[0mcount\u001b[0m\u001b[0;34m(\u001b[0m\u001b[0;34m)\u001b[0m\u001b[0;34m[\u001b[0m\u001b[0;34m'error'\u001b[0m\u001b[0;34m]\u001b[0m \u001b[0;34m*\u001b[0m \u001b[0;36m196\u001b[0m\u001b[0;34m\u001b[0m\u001b[0;34m\u001b[0m\u001b[0m\n",
      "\u001b[0;32m~/anaconda3/envs/remote_sensing/lib/python3.6/site-packages/pandas/core/frame.py\u001b[0m in \u001b[0;36m__getitem__\u001b[0;34m(self, key)\u001b[0m\n\u001b[1;32m   2925\u001b[0m             \u001b[0;32mif\u001b[0m \u001b[0mself\u001b[0m\u001b[0;34m.\u001b[0m\u001b[0mcolumns\u001b[0m\u001b[0;34m.\u001b[0m\u001b[0mnlevels\u001b[0m \u001b[0;34m>\u001b[0m \u001b[0;36m1\u001b[0m\u001b[0;34m:\u001b[0m\u001b[0;34m\u001b[0m\u001b[0;34m\u001b[0m\u001b[0m\n\u001b[1;32m   2926\u001b[0m                 \u001b[0;32mreturn\u001b[0m \u001b[0mself\u001b[0m\u001b[0;34m.\u001b[0m\u001b[0m_getitem_multilevel\u001b[0m\u001b[0;34m(\u001b[0m\u001b[0mkey\u001b[0m\u001b[0;34m)\u001b[0m\u001b[0;34m\u001b[0m\u001b[0;34m\u001b[0m\u001b[0m\n\u001b[0;32m-> 2927\u001b[0;31m             \u001b[0mindexer\u001b[0m \u001b[0;34m=\u001b[0m \u001b[0mself\u001b[0m\u001b[0;34m.\u001b[0m\u001b[0mcolumns\u001b[0m\u001b[0;34m.\u001b[0m\u001b[0mget_loc\u001b[0m\u001b[0;34m(\u001b[0m\u001b[0mkey\u001b[0m\u001b[0;34m)\u001b[0m\u001b[0;34m\u001b[0m\u001b[0;34m\u001b[0m\u001b[0m\n\u001b[0m\u001b[1;32m   2928\u001b[0m             \u001b[0;32mif\u001b[0m \u001b[0mis_integer\u001b[0m\u001b[0;34m(\u001b[0m\u001b[0mindexer\u001b[0m\u001b[0;34m)\u001b[0m\u001b[0;34m:\u001b[0m\u001b[0;34m\u001b[0m\u001b[0;34m\u001b[0m\u001b[0m\n\u001b[1;32m   2929\u001b[0m                 \u001b[0mindexer\u001b[0m \u001b[0;34m=\u001b[0m \u001b[0;34m[\u001b[0m\u001b[0mindexer\u001b[0m\u001b[0;34m]\u001b[0m\u001b[0;34m\u001b[0m\u001b[0;34m\u001b[0m\u001b[0m\n",
      "\u001b[0;32m~/anaconda3/envs/remote_sensing/lib/python3.6/site-packages/pandas/core/indexes/base.py\u001b[0m in \u001b[0;36mget_loc\u001b[0;34m(self, key, method, tolerance)\u001b[0m\n\u001b[1;32m   2657\u001b[0m                 \u001b[0;32mreturn\u001b[0m \u001b[0mself\u001b[0m\u001b[0;34m.\u001b[0m\u001b[0m_engine\u001b[0m\u001b[0;34m.\u001b[0m\u001b[0mget_loc\u001b[0m\u001b[0;34m(\u001b[0m\u001b[0mkey\u001b[0m\u001b[0;34m)\u001b[0m\u001b[0;34m\u001b[0m\u001b[0;34m\u001b[0m\u001b[0m\n\u001b[1;32m   2658\u001b[0m             \u001b[0;32mexcept\u001b[0m \u001b[0mKeyError\u001b[0m\u001b[0;34m:\u001b[0m\u001b[0;34m\u001b[0m\u001b[0;34m\u001b[0m\u001b[0m\n\u001b[0;32m-> 2659\u001b[0;31m                 \u001b[0;32mreturn\u001b[0m \u001b[0mself\u001b[0m\u001b[0;34m.\u001b[0m\u001b[0m_engine\u001b[0m\u001b[0;34m.\u001b[0m\u001b[0mget_loc\u001b[0m\u001b[0;34m(\u001b[0m\u001b[0mself\u001b[0m\u001b[0;34m.\u001b[0m\u001b[0m_maybe_cast_indexer\u001b[0m\u001b[0;34m(\u001b[0m\u001b[0mkey\u001b[0m\u001b[0;34m)\u001b[0m\u001b[0;34m)\u001b[0m\u001b[0;34m\u001b[0m\u001b[0;34m\u001b[0m\u001b[0m\n\u001b[0m\u001b[1;32m   2660\u001b[0m         \u001b[0mindexer\u001b[0m \u001b[0;34m=\u001b[0m \u001b[0mself\u001b[0m\u001b[0;34m.\u001b[0m\u001b[0mget_indexer\u001b[0m\u001b[0;34m(\u001b[0m\u001b[0;34m[\u001b[0m\u001b[0mkey\u001b[0m\u001b[0;34m]\u001b[0m\u001b[0;34m,\u001b[0m \u001b[0mmethod\u001b[0m\u001b[0;34m=\u001b[0m\u001b[0mmethod\u001b[0m\u001b[0;34m,\u001b[0m \u001b[0mtolerance\u001b[0m\u001b[0;34m=\u001b[0m\u001b[0mtolerance\u001b[0m\u001b[0;34m)\u001b[0m\u001b[0;34m\u001b[0m\u001b[0;34m\u001b[0m\u001b[0m\n\u001b[1;32m   2661\u001b[0m         \u001b[0;32mif\u001b[0m \u001b[0mindexer\u001b[0m\u001b[0;34m.\u001b[0m\u001b[0mndim\u001b[0m \u001b[0;34m>\u001b[0m \u001b[0;36m1\u001b[0m \u001b[0;32mor\u001b[0m \u001b[0mindexer\u001b[0m\u001b[0;34m.\u001b[0m\u001b[0msize\u001b[0m \u001b[0;34m>\u001b[0m \u001b[0;36m1\u001b[0m\u001b[0;34m:\u001b[0m\u001b[0;34m\u001b[0m\u001b[0;34m\u001b[0m\u001b[0m\n",
      "\u001b[0;32mpandas/_libs/index.pyx\u001b[0m in \u001b[0;36mpandas._libs.index.IndexEngine.get_loc\u001b[0;34m()\u001b[0m\n",
      "\u001b[0;32mpandas/_libs/index.pyx\u001b[0m in \u001b[0;36mpandas._libs.index.IndexEngine.get_loc\u001b[0;34m()\u001b[0m\n",
      "\u001b[0;32mpandas/_libs/hashtable_class_helper.pxi\u001b[0m in \u001b[0;36mpandas._libs.hashtable.PyObjectHashTable.get_item\u001b[0;34m()\u001b[0m\n",
      "\u001b[0;32mpandas/_libs/hashtable_class_helper.pxi\u001b[0m in \u001b[0;36mpandas._libs.hashtable.PyObjectHashTable.get_item\u001b[0;34m()\u001b[0m\n",
      "\u001b[0;31mKeyError\u001b[0m: 'clouds'"
     ]
    }
   ],
   "source": [
    "tp = proposed[proposed['clouds'] < 0.75].sum()['tp_soft']\n",
    "fp = proposed[proposed['clouds'] < 0.75].sum()['fp_soft']\n",
    "fn = proposed[proposed['clouds'] < 0.75].sum()['fn_soft']\n",
    "error = proposed[proposed['clouds'] < 0.75].mean()['error']\n",
    "count = proposed[proposed['clouds'] < 0.75].count()['error'] * 196\n",
    "\n",
    "\n",
    "\n",
    "precision = tp / (tp + fp)\n",
    "recall = tp / (tp + fn)\n",
    "print(\"Below 0.75 cloud: \", precision, recall, error, count)"
   ]
  },
  {
   "cell_type": "code",
   "execution_count": 15,
   "metadata": {},
   "outputs": [
    {
     "ename": "KeyError",
     "evalue": "'clouds'",
     "output_type": "error",
     "traceback": [
      "\u001b[0;31m---------------------------------------------------------------------------\u001b[0m",
      "\u001b[0;31mKeyError\u001b[0m                                  Traceback (most recent call last)",
      "\u001b[0;32m~/anaconda3/envs/remote_sensing/lib/python3.6/site-packages/pandas/core/indexes/base.py\u001b[0m in \u001b[0;36mget_loc\u001b[0;34m(self, key, method, tolerance)\u001b[0m\n\u001b[1;32m   2656\u001b[0m             \u001b[0;32mtry\u001b[0m\u001b[0;34m:\u001b[0m\u001b[0;34m\u001b[0m\u001b[0;34m\u001b[0m\u001b[0m\n\u001b[0;32m-> 2657\u001b[0;31m                 \u001b[0;32mreturn\u001b[0m \u001b[0mself\u001b[0m\u001b[0;34m.\u001b[0m\u001b[0m_engine\u001b[0m\u001b[0;34m.\u001b[0m\u001b[0mget_loc\u001b[0m\u001b[0;34m(\u001b[0m\u001b[0mkey\u001b[0m\u001b[0;34m)\u001b[0m\u001b[0;34m\u001b[0m\u001b[0;34m\u001b[0m\u001b[0m\n\u001b[0m\u001b[1;32m   2658\u001b[0m             \u001b[0;32mexcept\u001b[0m \u001b[0mKeyError\u001b[0m\u001b[0;34m:\u001b[0m\u001b[0;34m\u001b[0m\u001b[0;34m\u001b[0m\u001b[0m\n",
      "\u001b[0;32mpandas/_libs/index.pyx\u001b[0m in \u001b[0;36mpandas._libs.index.IndexEngine.get_loc\u001b[0;34m()\u001b[0m\n",
      "\u001b[0;32mpandas/_libs/index.pyx\u001b[0m in \u001b[0;36mpandas._libs.index.IndexEngine.get_loc\u001b[0;34m()\u001b[0m\n",
      "\u001b[0;32mpandas/_libs/hashtable_class_helper.pxi\u001b[0m in \u001b[0;36mpandas._libs.hashtable.PyObjectHashTable.get_item\u001b[0;34m()\u001b[0m\n",
      "\u001b[0;32mpandas/_libs/hashtable_class_helper.pxi\u001b[0m in \u001b[0;36mpandas._libs.hashtable.PyObjectHashTable.get_item\u001b[0;34m()\u001b[0m\n",
      "\u001b[0;31mKeyError\u001b[0m: 'clouds'",
      "\nDuring handling of the above exception, another exception occurred:\n",
      "\u001b[0;31mKeyError\u001b[0m                                  Traceback (most recent call last)",
      "\u001b[0;32m<ipython-input-15-e69a97840d7f>\u001b[0m in \u001b[0;36m<module>\u001b[0;34m\u001b[0m\n\u001b[0;32m----> 1\u001b[0;31m \u001b[0mtp\u001b[0m \u001b[0;34m=\u001b[0m \u001b[0mproposed\u001b[0m\u001b[0;34m[\u001b[0m\u001b[0mproposed\u001b[0m\u001b[0;34m[\u001b[0m\u001b[0;34m'clouds'\u001b[0m\u001b[0;34m]\u001b[0m \u001b[0;34m>=\u001b[0m \u001b[0;36m0.75\u001b[0m\u001b[0;34m]\u001b[0m\u001b[0;34m.\u001b[0m\u001b[0msum\u001b[0m\u001b[0;34m(\u001b[0m\u001b[0;34m)\u001b[0m\u001b[0;34m[\u001b[0m\u001b[0;34m'tp_soft'\u001b[0m\u001b[0;34m]\u001b[0m\u001b[0;34m\u001b[0m\u001b[0;34m\u001b[0m\u001b[0m\n\u001b[0m\u001b[1;32m      2\u001b[0m \u001b[0mfp\u001b[0m \u001b[0;34m=\u001b[0m \u001b[0mproposed\u001b[0m\u001b[0;34m[\u001b[0m\u001b[0mproposed\u001b[0m\u001b[0;34m[\u001b[0m\u001b[0;34m'clouds'\u001b[0m\u001b[0;34m]\u001b[0m \u001b[0;34m>=\u001b[0m \u001b[0;36m0.75\u001b[0m\u001b[0;34m]\u001b[0m\u001b[0;34m.\u001b[0m\u001b[0msum\u001b[0m\u001b[0;34m(\u001b[0m\u001b[0;34m)\u001b[0m\u001b[0;34m[\u001b[0m\u001b[0;34m'fp_soft'\u001b[0m\u001b[0;34m]\u001b[0m\u001b[0;34m\u001b[0m\u001b[0;34m\u001b[0m\u001b[0m\n\u001b[1;32m      3\u001b[0m \u001b[0mfn\u001b[0m \u001b[0;34m=\u001b[0m \u001b[0mproposed\u001b[0m\u001b[0;34m[\u001b[0m\u001b[0mproposed\u001b[0m\u001b[0;34m[\u001b[0m\u001b[0;34m'clouds'\u001b[0m\u001b[0;34m]\u001b[0m \u001b[0;34m>=\u001b[0m \u001b[0;36m0.75\u001b[0m\u001b[0;34m]\u001b[0m\u001b[0;34m.\u001b[0m\u001b[0msum\u001b[0m\u001b[0;34m(\u001b[0m\u001b[0;34m)\u001b[0m\u001b[0;34m[\u001b[0m\u001b[0;34m'fn_soft'\u001b[0m\u001b[0;34m]\u001b[0m\u001b[0;34m\u001b[0m\u001b[0;34m\u001b[0m\u001b[0m\n\u001b[1;32m      4\u001b[0m \u001b[0merror\u001b[0m \u001b[0;34m=\u001b[0m \u001b[0mproposed\u001b[0m\u001b[0;34m[\u001b[0m\u001b[0mproposed\u001b[0m\u001b[0;34m[\u001b[0m\u001b[0;34m'clouds'\u001b[0m\u001b[0;34m]\u001b[0m \u001b[0;34m>=\u001b[0m \u001b[0;36m0.75\u001b[0m\u001b[0;34m]\u001b[0m\u001b[0;34m.\u001b[0m\u001b[0mmean\u001b[0m\u001b[0;34m(\u001b[0m\u001b[0;34m)\u001b[0m\u001b[0;34m[\u001b[0m\u001b[0;34m'error'\u001b[0m\u001b[0;34m]\u001b[0m\u001b[0;34m\u001b[0m\u001b[0;34m\u001b[0m\u001b[0m\n\u001b[1;32m      5\u001b[0m \u001b[0mcount\u001b[0m \u001b[0;34m=\u001b[0m \u001b[0mproposed\u001b[0m\u001b[0;34m[\u001b[0m\u001b[0mproposed\u001b[0m\u001b[0;34m[\u001b[0m\u001b[0;34m'clouds'\u001b[0m\u001b[0;34m]\u001b[0m \u001b[0;34m>=\u001b[0m \u001b[0;36m0.75\u001b[0m\u001b[0;34m]\u001b[0m\u001b[0;34m.\u001b[0m\u001b[0mcount\u001b[0m\u001b[0;34m(\u001b[0m\u001b[0;34m)\u001b[0m\u001b[0;34m[\u001b[0m\u001b[0;34m'error'\u001b[0m\u001b[0;34m]\u001b[0m \u001b[0;34m*\u001b[0m \u001b[0;36m196\u001b[0m\u001b[0;34m\u001b[0m\u001b[0;34m\u001b[0m\u001b[0m\n",
      "\u001b[0;32m~/anaconda3/envs/remote_sensing/lib/python3.6/site-packages/pandas/core/frame.py\u001b[0m in \u001b[0;36m__getitem__\u001b[0;34m(self, key)\u001b[0m\n\u001b[1;32m   2925\u001b[0m             \u001b[0;32mif\u001b[0m \u001b[0mself\u001b[0m\u001b[0;34m.\u001b[0m\u001b[0mcolumns\u001b[0m\u001b[0;34m.\u001b[0m\u001b[0mnlevels\u001b[0m \u001b[0;34m>\u001b[0m \u001b[0;36m1\u001b[0m\u001b[0;34m:\u001b[0m\u001b[0;34m\u001b[0m\u001b[0;34m\u001b[0m\u001b[0m\n\u001b[1;32m   2926\u001b[0m                 \u001b[0;32mreturn\u001b[0m \u001b[0mself\u001b[0m\u001b[0;34m.\u001b[0m\u001b[0m_getitem_multilevel\u001b[0m\u001b[0;34m(\u001b[0m\u001b[0mkey\u001b[0m\u001b[0;34m)\u001b[0m\u001b[0;34m\u001b[0m\u001b[0;34m\u001b[0m\u001b[0m\n\u001b[0;32m-> 2927\u001b[0;31m             \u001b[0mindexer\u001b[0m \u001b[0;34m=\u001b[0m \u001b[0mself\u001b[0m\u001b[0;34m.\u001b[0m\u001b[0mcolumns\u001b[0m\u001b[0;34m.\u001b[0m\u001b[0mget_loc\u001b[0m\u001b[0;34m(\u001b[0m\u001b[0mkey\u001b[0m\u001b[0;34m)\u001b[0m\u001b[0;34m\u001b[0m\u001b[0;34m\u001b[0m\u001b[0m\n\u001b[0m\u001b[1;32m   2928\u001b[0m             \u001b[0;32mif\u001b[0m \u001b[0mis_integer\u001b[0m\u001b[0;34m(\u001b[0m\u001b[0mindexer\u001b[0m\u001b[0;34m)\u001b[0m\u001b[0;34m:\u001b[0m\u001b[0;34m\u001b[0m\u001b[0;34m\u001b[0m\u001b[0m\n\u001b[1;32m   2929\u001b[0m                 \u001b[0mindexer\u001b[0m \u001b[0;34m=\u001b[0m \u001b[0;34m[\u001b[0m\u001b[0mindexer\u001b[0m\u001b[0;34m]\u001b[0m\u001b[0;34m\u001b[0m\u001b[0;34m\u001b[0m\u001b[0m\n",
      "\u001b[0;32m~/anaconda3/envs/remote_sensing/lib/python3.6/site-packages/pandas/core/indexes/base.py\u001b[0m in \u001b[0;36mget_loc\u001b[0;34m(self, key, method, tolerance)\u001b[0m\n\u001b[1;32m   2657\u001b[0m                 \u001b[0;32mreturn\u001b[0m \u001b[0mself\u001b[0m\u001b[0;34m.\u001b[0m\u001b[0m_engine\u001b[0m\u001b[0;34m.\u001b[0m\u001b[0mget_loc\u001b[0m\u001b[0;34m(\u001b[0m\u001b[0mkey\u001b[0m\u001b[0;34m)\u001b[0m\u001b[0;34m\u001b[0m\u001b[0;34m\u001b[0m\u001b[0m\n\u001b[1;32m   2658\u001b[0m             \u001b[0;32mexcept\u001b[0m \u001b[0mKeyError\u001b[0m\u001b[0;34m:\u001b[0m\u001b[0;34m\u001b[0m\u001b[0;34m\u001b[0m\u001b[0m\n\u001b[0;32m-> 2659\u001b[0;31m                 \u001b[0;32mreturn\u001b[0m \u001b[0mself\u001b[0m\u001b[0;34m.\u001b[0m\u001b[0m_engine\u001b[0m\u001b[0;34m.\u001b[0m\u001b[0mget_loc\u001b[0m\u001b[0;34m(\u001b[0m\u001b[0mself\u001b[0m\u001b[0;34m.\u001b[0m\u001b[0m_maybe_cast_indexer\u001b[0m\u001b[0;34m(\u001b[0m\u001b[0mkey\u001b[0m\u001b[0;34m)\u001b[0m\u001b[0;34m)\u001b[0m\u001b[0;34m\u001b[0m\u001b[0;34m\u001b[0m\u001b[0m\n\u001b[0m\u001b[1;32m   2660\u001b[0m         \u001b[0mindexer\u001b[0m \u001b[0;34m=\u001b[0m \u001b[0mself\u001b[0m\u001b[0;34m.\u001b[0m\u001b[0mget_indexer\u001b[0m\u001b[0;34m(\u001b[0m\u001b[0;34m[\u001b[0m\u001b[0mkey\u001b[0m\u001b[0;34m]\u001b[0m\u001b[0;34m,\u001b[0m \u001b[0mmethod\u001b[0m\u001b[0;34m=\u001b[0m\u001b[0mmethod\u001b[0m\u001b[0;34m,\u001b[0m \u001b[0mtolerance\u001b[0m\u001b[0;34m=\u001b[0m\u001b[0mtolerance\u001b[0m\u001b[0;34m)\u001b[0m\u001b[0;34m\u001b[0m\u001b[0;34m\u001b[0m\u001b[0m\n\u001b[1;32m   2661\u001b[0m         \u001b[0;32mif\u001b[0m \u001b[0mindexer\u001b[0m\u001b[0;34m.\u001b[0m\u001b[0mndim\u001b[0m \u001b[0;34m>\u001b[0m \u001b[0;36m1\u001b[0m \u001b[0;32mor\u001b[0m \u001b[0mindexer\u001b[0m\u001b[0;34m.\u001b[0m\u001b[0msize\u001b[0m \u001b[0;34m>\u001b[0m \u001b[0;36m1\u001b[0m\u001b[0;34m:\u001b[0m\u001b[0;34m\u001b[0m\u001b[0;34m\u001b[0m\u001b[0m\n",
      "\u001b[0;32mpandas/_libs/index.pyx\u001b[0m in \u001b[0;36mpandas._libs.index.IndexEngine.get_loc\u001b[0;34m()\u001b[0m\n",
      "\u001b[0;32mpandas/_libs/index.pyx\u001b[0m in \u001b[0;36mpandas._libs.index.IndexEngine.get_loc\u001b[0;34m()\u001b[0m\n",
      "\u001b[0;32mpandas/_libs/hashtable_class_helper.pxi\u001b[0m in \u001b[0;36mpandas._libs.hashtable.PyObjectHashTable.get_item\u001b[0;34m()\u001b[0m\n",
      "\u001b[0;32mpandas/_libs/hashtable_class_helper.pxi\u001b[0m in \u001b[0;36mpandas._libs.hashtable.PyObjectHashTable.get_item\u001b[0;34m()\u001b[0m\n",
      "\u001b[0;31mKeyError\u001b[0m: 'clouds'"
     ]
    }
   ],
   "source": [
    "tp = proposed[proposed['clouds'] >= 0.75].sum()['tp_soft']\n",
    "fp = proposed[proposed['clouds'] >= 0.75].sum()['fp_soft']\n",
    "fn = proposed[proposed['clouds'] >= 0.75].sum()['fn_soft']\n",
    "error = proposed[proposed['clouds'] >= 0.75].mean()['error']\n",
    "count = proposed[proposed['clouds'] >= 0.75].count()['error'] * 196\n",
    "\n",
    "\n",
    "\n",
    "precision = tp / (tp + fp)\n",
    "recall = tp / (tp + fn)\n",
    "print(\"Above 0.75 cloud: \", precision, recall, error, count)"
   ]
  },
  {
   "cell_type": "markdown",
   "metadata": {},
   "source": [
    "# Slope metrics"
   ]
  },
  {
   "cell_type": "code",
   "execution_count": 16,
   "metadata": {},
   "outputs": [
    {
     "ename": "KeyError",
     "evalue": "'slopes'",
     "output_type": "error",
     "traceback": [
      "\u001b[0;31m---------------------------------------------------------------------------\u001b[0m",
      "\u001b[0;31mKeyError\u001b[0m                                  Traceback (most recent call last)",
      "\u001b[0;32m~/anaconda3/envs/remote_sensing/lib/python3.6/site-packages/pandas/core/indexes/base.py\u001b[0m in \u001b[0;36mget_loc\u001b[0;34m(self, key, method, tolerance)\u001b[0m\n\u001b[1;32m   2656\u001b[0m             \u001b[0;32mtry\u001b[0m\u001b[0;34m:\u001b[0m\u001b[0;34m\u001b[0m\u001b[0;34m\u001b[0m\u001b[0m\n\u001b[0;32m-> 2657\u001b[0;31m                 \u001b[0;32mreturn\u001b[0m \u001b[0mself\u001b[0m\u001b[0;34m.\u001b[0m\u001b[0m_engine\u001b[0m\u001b[0;34m.\u001b[0m\u001b[0mget_loc\u001b[0m\u001b[0;34m(\u001b[0m\u001b[0mkey\u001b[0m\u001b[0;34m)\u001b[0m\u001b[0;34m\u001b[0m\u001b[0;34m\u001b[0m\u001b[0m\n\u001b[0m\u001b[1;32m   2658\u001b[0m             \u001b[0;32mexcept\u001b[0m \u001b[0mKeyError\u001b[0m\u001b[0;34m:\u001b[0m\u001b[0;34m\u001b[0m\u001b[0;34m\u001b[0m\u001b[0m\n",
      "\u001b[0;32mpandas/_libs/index.pyx\u001b[0m in \u001b[0;36mpandas._libs.index.IndexEngine.get_loc\u001b[0;34m()\u001b[0m\n",
      "\u001b[0;32mpandas/_libs/index.pyx\u001b[0m in \u001b[0;36mpandas._libs.index.IndexEngine.get_loc\u001b[0;34m()\u001b[0m\n",
      "\u001b[0;32mpandas/_libs/hashtable_class_helper.pxi\u001b[0m in \u001b[0;36mpandas._libs.hashtable.PyObjectHashTable.get_item\u001b[0;34m()\u001b[0m\n",
      "\u001b[0;32mpandas/_libs/hashtable_class_helper.pxi\u001b[0m in \u001b[0;36mpandas._libs.hashtable.PyObjectHashTable.get_item\u001b[0;34m()\u001b[0m\n",
      "\u001b[0;31mKeyError\u001b[0m: 'slopes'",
      "\nDuring handling of the above exception, another exception occurred:\n",
      "\u001b[0;31mKeyError\u001b[0m                                  Traceback (most recent call last)",
      "\u001b[0;32m<ipython-input-16-4d97913e026a>\u001b[0m in \u001b[0;36m<module>\u001b[0;34m\u001b[0m\n\u001b[0;32m----> 1\u001b[0;31m \u001b[0mtp\u001b[0m \u001b[0;34m=\u001b[0m \u001b[0mproposed\u001b[0m\u001b[0;34m[\u001b[0m\u001b[0mproposed\u001b[0m\u001b[0;34m[\u001b[0m\u001b[0;34m'slopes'\u001b[0m\u001b[0;34m]\u001b[0m \u001b[0;34m<\u001b[0m \u001b[0;36m0.1\u001b[0m\u001b[0;34m]\u001b[0m\u001b[0;34m.\u001b[0m\u001b[0msum\u001b[0m\u001b[0;34m(\u001b[0m\u001b[0;34m)\u001b[0m\u001b[0;34m[\u001b[0m\u001b[0;34m'tp_soft'\u001b[0m\u001b[0;34m]\u001b[0m\u001b[0;34m\u001b[0m\u001b[0;34m\u001b[0m\u001b[0m\n\u001b[0m\u001b[1;32m      2\u001b[0m \u001b[0mfp\u001b[0m \u001b[0;34m=\u001b[0m \u001b[0mproposed\u001b[0m\u001b[0;34m[\u001b[0m\u001b[0mproposed\u001b[0m\u001b[0;34m[\u001b[0m\u001b[0;34m'slopes'\u001b[0m\u001b[0;34m]\u001b[0m \u001b[0;34m<\u001b[0m \u001b[0;36m0.1\u001b[0m\u001b[0;34m]\u001b[0m\u001b[0;34m.\u001b[0m\u001b[0msum\u001b[0m\u001b[0;34m(\u001b[0m\u001b[0;34m)\u001b[0m\u001b[0;34m[\u001b[0m\u001b[0;34m'fp_soft'\u001b[0m\u001b[0;34m]\u001b[0m\u001b[0;34m\u001b[0m\u001b[0;34m\u001b[0m\u001b[0m\n\u001b[1;32m      3\u001b[0m \u001b[0mfn\u001b[0m \u001b[0;34m=\u001b[0m \u001b[0mproposed\u001b[0m\u001b[0;34m[\u001b[0m\u001b[0mproposed\u001b[0m\u001b[0;34m[\u001b[0m\u001b[0;34m'slopes'\u001b[0m\u001b[0;34m]\u001b[0m \u001b[0;34m<\u001b[0m \u001b[0;36m0.1\u001b[0m\u001b[0;34m]\u001b[0m\u001b[0;34m.\u001b[0m\u001b[0msum\u001b[0m\u001b[0;34m(\u001b[0m\u001b[0;34m)\u001b[0m\u001b[0;34m[\u001b[0m\u001b[0;34m'fn_soft'\u001b[0m\u001b[0;34m]\u001b[0m\u001b[0;34m\u001b[0m\u001b[0;34m\u001b[0m\u001b[0m\n\u001b[1;32m      4\u001b[0m \u001b[0merror\u001b[0m \u001b[0;34m=\u001b[0m \u001b[0mproposed\u001b[0m\u001b[0;34m[\u001b[0m\u001b[0mproposed\u001b[0m\u001b[0;34m[\u001b[0m\u001b[0;34m'slopes'\u001b[0m\u001b[0;34m]\u001b[0m \u001b[0;34m<\u001b[0m \u001b[0;36m0.1\u001b[0m\u001b[0;34m]\u001b[0m\u001b[0;34m.\u001b[0m\u001b[0mmean\u001b[0m\u001b[0;34m(\u001b[0m\u001b[0;34m)\u001b[0m\u001b[0;34m[\u001b[0m\u001b[0;34m'error'\u001b[0m\u001b[0;34m]\u001b[0m\u001b[0;34m\u001b[0m\u001b[0;34m\u001b[0m\u001b[0m\n\u001b[1;32m      5\u001b[0m \u001b[0mcount\u001b[0m \u001b[0;34m=\u001b[0m \u001b[0mproposed\u001b[0m\u001b[0;34m[\u001b[0m\u001b[0mproposed\u001b[0m\u001b[0;34m[\u001b[0m\u001b[0;34m'slopes'\u001b[0m\u001b[0;34m]\u001b[0m \u001b[0;34m<\u001b[0m \u001b[0;36m0.1\u001b[0m\u001b[0;34m]\u001b[0m\u001b[0;34m.\u001b[0m\u001b[0mcount\u001b[0m\u001b[0;34m(\u001b[0m\u001b[0;34m)\u001b[0m\u001b[0;34m[\u001b[0m\u001b[0;34m'error'\u001b[0m\u001b[0;34m]\u001b[0m \u001b[0;34m*\u001b[0m \u001b[0;36m196\u001b[0m\u001b[0;34m\u001b[0m\u001b[0;34m\u001b[0m\u001b[0m\n",
      "\u001b[0;32m~/anaconda3/envs/remote_sensing/lib/python3.6/site-packages/pandas/core/frame.py\u001b[0m in \u001b[0;36m__getitem__\u001b[0;34m(self, key)\u001b[0m\n\u001b[1;32m   2925\u001b[0m             \u001b[0;32mif\u001b[0m \u001b[0mself\u001b[0m\u001b[0;34m.\u001b[0m\u001b[0mcolumns\u001b[0m\u001b[0;34m.\u001b[0m\u001b[0mnlevels\u001b[0m \u001b[0;34m>\u001b[0m \u001b[0;36m1\u001b[0m\u001b[0;34m:\u001b[0m\u001b[0;34m\u001b[0m\u001b[0;34m\u001b[0m\u001b[0m\n\u001b[1;32m   2926\u001b[0m                 \u001b[0;32mreturn\u001b[0m \u001b[0mself\u001b[0m\u001b[0;34m.\u001b[0m\u001b[0m_getitem_multilevel\u001b[0m\u001b[0;34m(\u001b[0m\u001b[0mkey\u001b[0m\u001b[0;34m)\u001b[0m\u001b[0;34m\u001b[0m\u001b[0;34m\u001b[0m\u001b[0m\n\u001b[0;32m-> 2927\u001b[0;31m             \u001b[0mindexer\u001b[0m \u001b[0;34m=\u001b[0m \u001b[0mself\u001b[0m\u001b[0;34m.\u001b[0m\u001b[0mcolumns\u001b[0m\u001b[0;34m.\u001b[0m\u001b[0mget_loc\u001b[0m\u001b[0;34m(\u001b[0m\u001b[0mkey\u001b[0m\u001b[0;34m)\u001b[0m\u001b[0;34m\u001b[0m\u001b[0;34m\u001b[0m\u001b[0m\n\u001b[0m\u001b[1;32m   2928\u001b[0m             \u001b[0;32mif\u001b[0m \u001b[0mis_integer\u001b[0m\u001b[0;34m(\u001b[0m\u001b[0mindexer\u001b[0m\u001b[0;34m)\u001b[0m\u001b[0;34m:\u001b[0m\u001b[0;34m\u001b[0m\u001b[0;34m\u001b[0m\u001b[0m\n\u001b[1;32m   2929\u001b[0m                 \u001b[0mindexer\u001b[0m \u001b[0;34m=\u001b[0m \u001b[0;34m[\u001b[0m\u001b[0mindexer\u001b[0m\u001b[0;34m]\u001b[0m\u001b[0;34m\u001b[0m\u001b[0;34m\u001b[0m\u001b[0m\n",
      "\u001b[0;32m~/anaconda3/envs/remote_sensing/lib/python3.6/site-packages/pandas/core/indexes/base.py\u001b[0m in \u001b[0;36mget_loc\u001b[0;34m(self, key, method, tolerance)\u001b[0m\n\u001b[1;32m   2657\u001b[0m                 \u001b[0;32mreturn\u001b[0m \u001b[0mself\u001b[0m\u001b[0;34m.\u001b[0m\u001b[0m_engine\u001b[0m\u001b[0;34m.\u001b[0m\u001b[0mget_loc\u001b[0m\u001b[0;34m(\u001b[0m\u001b[0mkey\u001b[0m\u001b[0;34m)\u001b[0m\u001b[0;34m\u001b[0m\u001b[0;34m\u001b[0m\u001b[0m\n\u001b[1;32m   2658\u001b[0m             \u001b[0;32mexcept\u001b[0m \u001b[0mKeyError\u001b[0m\u001b[0;34m:\u001b[0m\u001b[0;34m\u001b[0m\u001b[0;34m\u001b[0m\u001b[0m\n\u001b[0;32m-> 2659\u001b[0;31m                 \u001b[0;32mreturn\u001b[0m \u001b[0mself\u001b[0m\u001b[0;34m.\u001b[0m\u001b[0m_engine\u001b[0m\u001b[0;34m.\u001b[0m\u001b[0mget_loc\u001b[0m\u001b[0;34m(\u001b[0m\u001b[0mself\u001b[0m\u001b[0;34m.\u001b[0m\u001b[0m_maybe_cast_indexer\u001b[0m\u001b[0;34m(\u001b[0m\u001b[0mkey\u001b[0m\u001b[0;34m)\u001b[0m\u001b[0;34m)\u001b[0m\u001b[0;34m\u001b[0m\u001b[0;34m\u001b[0m\u001b[0m\n\u001b[0m\u001b[1;32m   2660\u001b[0m         \u001b[0mindexer\u001b[0m \u001b[0;34m=\u001b[0m \u001b[0mself\u001b[0m\u001b[0;34m.\u001b[0m\u001b[0mget_indexer\u001b[0m\u001b[0;34m(\u001b[0m\u001b[0;34m[\u001b[0m\u001b[0mkey\u001b[0m\u001b[0;34m]\u001b[0m\u001b[0;34m,\u001b[0m \u001b[0mmethod\u001b[0m\u001b[0;34m=\u001b[0m\u001b[0mmethod\u001b[0m\u001b[0;34m,\u001b[0m \u001b[0mtolerance\u001b[0m\u001b[0;34m=\u001b[0m\u001b[0mtolerance\u001b[0m\u001b[0;34m)\u001b[0m\u001b[0;34m\u001b[0m\u001b[0;34m\u001b[0m\u001b[0m\n\u001b[1;32m   2661\u001b[0m         \u001b[0;32mif\u001b[0m \u001b[0mindexer\u001b[0m\u001b[0;34m.\u001b[0m\u001b[0mndim\u001b[0m \u001b[0;34m>\u001b[0m \u001b[0;36m1\u001b[0m \u001b[0;32mor\u001b[0m \u001b[0mindexer\u001b[0m\u001b[0;34m.\u001b[0m\u001b[0msize\u001b[0m \u001b[0;34m>\u001b[0m \u001b[0;36m1\u001b[0m\u001b[0;34m:\u001b[0m\u001b[0;34m\u001b[0m\u001b[0;34m\u001b[0m\u001b[0m\n",
      "\u001b[0;32mpandas/_libs/index.pyx\u001b[0m in \u001b[0;36mpandas._libs.index.IndexEngine.get_loc\u001b[0;34m()\u001b[0m\n",
      "\u001b[0;32mpandas/_libs/index.pyx\u001b[0m in \u001b[0;36mpandas._libs.index.IndexEngine.get_loc\u001b[0;34m()\u001b[0m\n",
      "\u001b[0;32mpandas/_libs/hashtable_class_helper.pxi\u001b[0m in \u001b[0;36mpandas._libs.hashtable.PyObjectHashTable.get_item\u001b[0;34m()\u001b[0m\n",
      "\u001b[0;32mpandas/_libs/hashtable_class_helper.pxi\u001b[0m in \u001b[0;36mpandas._libs.hashtable.PyObjectHashTable.get_item\u001b[0;34m()\u001b[0m\n",
      "\u001b[0;31mKeyError\u001b[0m: 'slopes'"
     ]
    }
   ],
   "source": [
    "tp = proposed[proposed['slopes'] < 0.1].sum()['tp_soft']\n",
    "fp = proposed[proposed['slopes'] < 0.1].sum()['fp_soft']\n",
    "fn = proposed[proposed['slopes'] < 0.1].sum()['fn_soft']\n",
    "error = proposed[proposed['slopes'] < 0.1].mean()['error']\n",
    "count = proposed[proposed['slopes'] < 0.1].count()['error'] * 196\n",
    "\n",
    "\n",
    "\n",
    "precision = tp / (tp + fp)\n",
    "recall = tp / (tp + fn)\n",
    "print(\"Below 0.1 slope: \", precision, recall, error, count)"
   ]
  },
  {
   "cell_type": "code",
   "execution_count": 17,
   "metadata": {},
   "outputs": [
    {
     "ename": "KeyError",
     "evalue": "'slopes'",
     "output_type": "error",
     "traceback": [
      "\u001b[0;31m---------------------------------------------------------------------------\u001b[0m",
      "\u001b[0;31mKeyError\u001b[0m                                  Traceback (most recent call last)",
      "\u001b[0;32m~/anaconda3/envs/remote_sensing/lib/python3.6/site-packages/pandas/core/indexes/base.py\u001b[0m in \u001b[0;36mget_loc\u001b[0;34m(self, key, method, tolerance)\u001b[0m\n\u001b[1;32m   2656\u001b[0m             \u001b[0;32mtry\u001b[0m\u001b[0;34m:\u001b[0m\u001b[0;34m\u001b[0m\u001b[0;34m\u001b[0m\u001b[0m\n\u001b[0;32m-> 2657\u001b[0;31m                 \u001b[0;32mreturn\u001b[0m \u001b[0mself\u001b[0m\u001b[0;34m.\u001b[0m\u001b[0m_engine\u001b[0m\u001b[0;34m.\u001b[0m\u001b[0mget_loc\u001b[0m\u001b[0;34m(\u001b[0m\u001b[0mkey\u001b[0m\u001b[0;34m)\u001b[0m\u001b[0;34m\u001b[0m\u001b[0;34m\u001b[0m\u001b[0m\n\u001b[0m\u001b[1;32m   2658\u001b[0m             \u001b[0;32mexcept\u001b[0m \u001b[0mKeyError\u001b[0m\u001b[0;34m:\u001b[0m\u001b[0;34m\u001b[0m\u001b[0;34m\u001b[0m\u001b[0m\n",
      "\u001b[0;32mpandas/_libs/index.pyx\u001b[0m in \u001b[0;36mpandas._libs.index.IndexEngine.get_loc\u001b[0;34m()\u001b[0m\n",
      "\u001b[0;32mpandas/_libs/index.pyx\u001b[0m in \u001b[0;36mpandas._libs.index.IndexEngine.get_loc\u001b[0;34m()\u001b[0m\n",
      "\u001b[0;32mpandas/_libs/hashtable_class_helper.pxi\u001b[0m in \u001b[0;36mpandas._libs.hashtable.PyObjectHashTable.get_item\u001b[0;34m()\u001b[0m\n",
      "\u001b[0;32mpandas/_libs/hashtable_class_helper.pxi\u001b[0m in \u001b[0;36mpandas._libs.hashtable.PyObjectHashTable.get_item\u001b[0;34m()\u001b[0m\n",
      "\u001b[0;31mKeyError\u001b[0m: 'slopes'",
      "\nDuring handling of the above exception, another exception occurred:\n",
      "\u001b[0;31mKeyError\u001b[0m                                  Traceback (most recent call last)",
      "\u001b[0;32m<ipython-input-17-41bc76bd17c7>\u001b[0m in \u001b[0;36m<module>\u001b[0;34m\u001b[0m\n\u001b[0;32m----> 1\u001b[0;31m \u001b[0mtp\u001b[0m \u001b[0;34m=\u001b[0m \u001b[0mproposed\u001b[0m\u001b[0;34m[\u001b[0m\u001b[0mproposed\u001b[0m\u001b[0;34m[\u001b[0m\u001b[0;34m'slopes'\u001b[0m\u001b[0;34m]\u001b[0m \u001b[0;34m>=\u001b[0m \u001b[0;36m0.1\u001b[0m\u001b[0;34m]\u001b[0m\u001b[0;34m.\u001b[0m\u001b[0msum\u001b[0m\u001b[0;34m(\u001b[0m\u001b[0;34m)\u001b[0m\u001b[0;34m[\u001b[0m\u001b[0;34m'tp_soft'\u001b[0m\u001b[0;34m]\u001b[0m\u001b[0;34m\u001b[0m\u001b[0;34m\u001b[0m\u001b[0m\n\u001b[0m\u001b[1;32m      2\u001b[0m \u001b[0mfp\u001b[0m \u001b[0;34m=\u001b[0m \u001b[0mproposed\u001b[0m\u001b[0;34m[\u001b[0m\u001b[0mproposed\u001b[0m\u001b[0;34m[\u001b[0m\u001b[0;34m'slopes'\u001b[0m\u001b[0;34m]\u001b[0m \u001b[0;34m>=\u001b[0m \u001b[0;36m0.1\u001b[0m\u001b[0;34m]\u001b[0m\u001b[0;34m.\u001b[0m\u001b[0msum\u001b[0m\u001b[0;34m(\u001b[0m\u001b[0;34m)\u001b[0m\u001b[0;34m[\u001b[0m\u001b[0;34m'fp_soft'\u001b[0m\u001b[0;34m]\u001b[0m\u001b[0;34m\u001b[0m\u001b[0;34m\u001b[0m\u001b[0m\n\u001b[1;32m      3\u001b[0m \u001b[0mfn\u001b[0m \u001b[0;34m=\u001b[0m \u001b[0mproposed\u001b[0m\u001b[0;34m[\u001b[0m\u001b[0mproposed\u001b[0m\u001b[0;34m[\u001b[0m\u001b[0;34m'slopes'\u001b[0m\u001b[0;34m]\u001b[0m \u001b[0;34m>=\u001b[0m \u001b[0;36m0.1\u001b[0m\u001b[0;34m]\u001b[0m\u001b[0;34m.\u001b[0m\u001b[0msum\u001b[0m\u001b[0;34m(\u001b[0m\u001b[0;34m)\u001b[0m\u001b[0;34m[\u001b[0m\u001b[0;34m'fn_soft'\u001b[0m\u001b[0;34m]\u001b[0m\u001b[0;34m\u001b[0m\u001b[0;34m\u001b[0m\u001b[0m\n\u001b[1;32m      4\u001b[0m \u001b[0merror\u001b[0m \u001b[0;34m=\u001b[0m \u001b[0mproposed\u001b[0m\u001b[0;34m[\u001b[0m\u001b[0mproposed\u001b[0m\u001b[0;34m[\u001b[0m\u001b[0;34m'slopes'\u001b[0m\u001b[0;34m]\u001b[0m \u001b[0;34m>=\u001b[0m \u001b[0;36m0.1\u001b[0m\u001b[0;34m]\u001b[0m\u001b[0;34m.\u001b[0m\u001b[0mmean\u001b[0m\u001b[0;34m(\u001b[0m\u001b[0;34m)\u001b[0m\u001b[0;34m[\u001b[0m\u001b[0;34m'error'\u001b[0m\u001b[0;34m]\u001b[0m\u001b[0;34m\u001b[0m\u001b[0;34m\u001b[0m\u001b[0m\n\u001b[1;32m      5\u001b[0m \u001b[0mcount\u001b[0m \u001b[0;34m=\u001b[0m \u001b[0mproposed\u001b[0m\u001b[0;34m[\u001b[0m\u001b[0mproposed\u001b[0m\u001b[0;34m[\u001b[0m\u001b[0;34m'slopes'\u001b[0m\u001b[0;34m]\u001b[0m \u001b[0;34m>=\u001b[0m \u001b[0;36m0.1\u001b[0m\u001b[0;34m]\u001b[0m\u001b[0;34m.\u001b[0m\u001b[0mcount\u001b[0m\u001b[0;34m(\u001b[0m\u001b[0;34m)\u001b[0m\u001b[0;34m[\u001b[0m\u001b[0;34m'error'\u001b[0m\u001b[0;34m]\u001b[0m \u001b[0;34m*\u001b[0m \u001b[0;36m196\u001b[0m\u001b[0;34m\u001b[0m\u001b[0;34m\u001b[0m\u001b[0m\n",
      "\u001b[0;32m~/anaconda3/envs/remote_sensing/lib/python3.6/site-packages/pandas/core/frame.py\u001b[0m in \u001b[0;36m__getitem__\u001b[0;34m(self, key)\u001b[0m\n\u001b[1;32m   2925\u001b[0m             \u001b[0;32mif\u001b[0m \u001b[0mself\u001b[0m\u001b[0;34m.\u001b[0m\u001b[0mcolumns\u001b[0m\u001b[0;34m.\u001b[0m\u001b[0mnlevels\u001b[0m \u001b[0;34m>\u001b[0m \u001b[0;36m1\u001b[0m\u001b[0;34m:\u001b[0m\u001b[0;34m\u001b[0m\u001b[0;34m\u001b[0m\u001b[0m\n\u001b[1;32m   2926\u001b[0m                 \u001b[0;32mreturn\u001b[0m \u001b[0mself\u001b[0m\u001b[0;34m.\u001b[0m\u001b[0m_getitem_multilevel\u001b[0m\u001b[0;34m(\u001b[0m\u001b[0mkey\u001b[0m\u001b[0;34m)\u001b[0m\u001b[0;34m\u001b[0m\u001b[0;34m\u001b[0m\u001b[0m\n\u001b[0;32m-> 2927\u001b[0;31m             \u001b[0mindexer\u001b[0m \u001b[0;34m=\u001b[0m \u001b[0mself\u001b[0m\u001b[0;34m.\u001b[0m\u001b[0mcolumns\u001b[0m\u001b[0;34m.\u001b[0m\u001b[0mget_loc\u001b[0m\u001b[0;34m(\u001b[0m\u001b[0mkey\u001b[0m\u001b[0;34m)\u001b[0m\u001b[0;34m\u001b[0m\u001b[0;34m\u001b[0m\u001b[0m\n\u001b[0m\u001b[1;32m   2928\u001b[0m             \u001b[0;32mif\u001b[0m \u001b[0mis_integer\u001b[0m\u001b[0;34m(\u001b[0m\u001b[0mindexer\u001b[0m\u001b[0;34m)\u001b[0m\u001b[0;34m:\u001b[0m\u001b[0;34m\u001b[0m\u001b[0;34m\u001b[0m\u001b[0m\n\u001b[1;32m   2929\u001b[0m                 \u001b[0mindexer\u001b[0m \u001b[0;34m=\u001b[0m \u001b[0;34m[\u001b[0m\u001b[0mindexer\u001b[0m\u001b[0;34m]\u001b[0m\u001b[0;34m\u001b[0m\u001b[0;34m\u001b[0m\u001b[0m\n",
      "\u001b[0;32m~/anaconda3/envs/remote_sensing/lib/python3.6/site-packages/pandas/core/indexes/base.py\u001b[0m in \u001b[0;36mget_loc\u001b[0;34m(self, key, method, tolerance)\u001b[0m\n\u001b[1;32m   2657\u001b[0m                 \u001b[0;32mreturn\u001b[0m \u001b[0mself\u001b[0m\u001b[0;34m.\u001b[0m\u001b[0m_engine\u001b[0m\u001b[0;34m.\u001b[0m\u001b[0mget_loc\u001b[0m\u001b[0;34m(\u001b[0m\u001b[0mkey\u001b[0m\u001b[0;34m)\u001b[0m\u001b[0;34m\u001b[0m\u001b[0;34m\u001b[0m\u001b[0m\n\u001b[1;32m   2658\u001b[0m             \u001b[0;32mexcept\u001b[0m \u001b[0mKeyError\u001b[0m\u001b[0;34m:\u001b[0m\u001b[0;34m\u001b[0m\u001b[0;34m\u001b[0m\u001b[0m\n\u001b[0;32m-> 2659\u001b[0;31m                 \u001b[0;32mreturn\u001b[0m \u001b[0mself\u001b[0m\u001b[0;34m.\u001b[0m\u001b[0m_engine\u001b[0m\u001b[0;34m.\u001b[0m\u001b[0mget_loc\u001b[0m\u001b[0;34m(\u001b[0m\u001b[0mself\u001b[0m\u001b[0;34m.\u001b[0m\u001b[0m_maybe_cast_indexer\u001b[0m\u001b[0;34m(\u001b[0m\u001b[0mkey\u001b[0m\u001b[0;34m)\u001b[0m\u001b[0;34m)\u001b[0m\u001b[0;34m\u001b[0m\u001b[0;34m\u001b[0m\u001b[0m\n\u001b[0m\u001b[1;32m   2660\u001b[0m         \u001b[0mindexer\u001b[0m \u001b[0;34m=\u001b[0m \u001b[0mself\u001b[0m\u001b[0;34m.\u001b[0m\u001b[0mget_indexer\u001b[0m\u001b[0;34m(\u001b[0m\u001b[0;34m[\u001b[0m\u001b[0mkey\u001b[0m\u001b[0;34m]\u001b[0m\u001b[0;34m,\u001b[0m \u001b[0mmethod\u001b[0m\u001b[0;34m=\u001b[0m\u001b[0mmethod\u001b[0m\u001b[0;34m,\u001b[0m \u001b[0mtolerance\u001b[0m\u001b[0;34m=\u001b[0m\u001b[0mtolerance\u001b[0m\u001b[0;34m)\u001b[0m\u001b[0;34m\u001b[0m\u001b[0;34m\u001b[0m\u001b[0m\n\u001b[1;32m   2661\u001b[0m         \u001b[0;32mif\u001b[0m \u001b[0mindexer\u001b[0m\u001b[0;34m.\u001b[0m\u001b[0mndim\u001b[0m \u001b[0;34m>\u001b[0m \u001b[0;36m1\u001b[0m \u001b[0;32mor\u001b[0m \u001b[0mindexer\u001b[0m\u001b[0;34m.\u001b[0m\u001b[0msize\u001b[0m \u001b[0;34m>\u001b[0m \u001b[0;36m1\u001b[0m\u001b[0;34m:\u001b[0m\u001b[0;34m\u001b[0m\u001b[0;34m\u001b[0m\u001b[0m\n",
      "\u001b[0;32mpandas/_libs/index.pyx\u001b[0m in \u001b[0;36mpandas._libs.index.IndexEngine.get_loc\u001b[0;34m()\u001b[0m\n",
      "\u001b[0;32mpandas/_libs/index.pyx\u001b[0m in \u001b[0;36mpandas._libs.index.IndexEngine.get_loc\u001b[0;34m()\u001b[0m\n",
      "\u001b[0;32mpandas/_libs/hashtable_class_helper.pxi\u001b[0m in \u001b[0;36mpandas._libs.hashtable.PyObjectHashTable.get_item\u001b[0;34m()\u001b[0m\n",
      "\u001b[0;32mpandas/_libs/hashtable_class_helper.pxi\u001b[0m in \u001b[0;36mpandas._libs.hashtable.PyObjectHashTable.get_item\u001b[0;34m()\u001b[0m\n",
      "\u001b[0;31mKeyError\u001b[0m: 'slopes'"
     ]
    }
   ],
   "source": [
    "tp = proposed[proposed['slopes'] >= 0.1].sum()['tp_soft']\n",
    "fp = proposed[proposed['slopes'] >= 0.1].sum()['fp_soft']\n",
    "fn = proposed[proposed['slopes'] >= 0.1].sum()['fn_soft']\n",
    "error = proposed[proposed['slopes'] >= 0.1].mean()['error']\n",
    "count = proposed[proposed['slopes'] >= 0.1].count()['error'] * 196\n",
    "\n",
    "\n",
    "\n",
    "precision = tp / (tp + fp)\n",
    "recall = tp / (tp + fn)\n",
    "print(\"Above 0.1 slope: \", precision, recall, error, count)"
   ]
  },
  {
   "cell_type": "markdown",
   "metadata": {},
   "source": [
    "# Canopy metrics"
   ]
  },
  {
   "cell_type": "code",
   "execution_count": 9,
   "metadata": {},
   "outputs": [
    {
     "name": "stdout",
     "output_type": "stream",
     "text": [
      "Below 20%:  0.5980007840062721 0.661391719054845 3.9048896008915515 114856\n"
     ]
    }
   ],
   "source": [
    "tp = proposed[proposed['true'] < 20].sum()['tp_soft']\n",
    "fp = proposed[proposed['true'] < 20].sum()['fp_soft']\n",
    "fn = proposed[proposed['true'] < 20].sum()['fn_soft']\n",
    "error = proposed[proposed['true'] < 20].mean()['error']\n",
    "count = proposed[proposed['true'] < 20].count()['error'] * 196\n",
    "\n",
    "\n",
    "\n",
    "precision = tp / (tp + fp)\n",
    "recall = tp / (tp + fn)\n",
    "print(\"Below 20%: \", precision, recall, error, count)"
   ]
  },
  {
   "cell_type": "code",
   "execution_count": 10,
   "metadata": {},
   "outputs": [
    {
     "name": "stdout",
     "output_type": "stream",
     "text": [
      "Between 20 and 40%:  0.8791262933158154 0.8632478632478633 14.681007538150398 21756\n"
     ]
    }
   ],
   "source": [
    "tp = proposed[proposed['true'].between(20, 40)].sum()['tp_soft']\n",
    "fp = proposed[proposed['true'].between(20, 40)].sum()['fp_soft']\n",
    "fn = proposed[proposed['true'].between(20, 40)].sum()['fn_soft']\n",
    "\n",
    "error = proposed[proposed['true'].between(20, 40)].mean()['error']\n",
    "count = proposed[proposed['true'].between(20, 40)].count()['error'] * 196\n",
    "\n",
    "\n",
    "\n",
    "precision = tp / (tp + fp)\n",
    "recall = tp / (tp + fn)\n",
    "print(\"Between 20 and 40%: \", precision, recall, error, count)"
   ]
  },
  {
   "cell_type": "code",
   "execution_count": 11,
   "metadata": {},
   "outputs": [
    {
     "name": "stdout",
     "output_type": "stream",
     "text": [
      "Between 0 and 40%:  0.7509605933339291 0.7771407434806732 5.6210288993646245 136612\n"
     ]
    }
   ],
   "source": [
    "tp = proposed[proposed['true'].between(0, 40)].sum()['tp_soft']\n",
    "fp = proposed[proposed['true'].between(0, 40)].sum()['fp_soft']\n",
    "fn = proposed[proposed['true'].between(0, 40)].sum()['fn_soft']\n",
    "\n",
    "error = proposed[proposed['true'].between(0, 40)].mean()['error']\n",
    "count = proposed[proposed['true'].between(0, 40)].count()['error'] * 196\n",
    "\n",
    "\n",
    "\n",
    "precision = tp / (tp + fp)\n",
    "recall = tp / (tp + fn)\n",
    "print(\"Between 0 and 40%: \", precision, recall, error, count)"
   ]
  },
  {
   "cell_type": "code",
   "execution_count": 12,
   "metadata": {},
   "outputs": [
    {
     "name": "stdout",
     "output_type": "stream",
     "text": [
      "Between 40 and 60%:  0.9301621236415464 0.9048526863084922 17.00968523002421 11564\n"
     ]
    }
   ],
   "source": [
    "tp = proposed[proposed['true'].between(40, 60)].sum()['tp_soft']\n",
    "fp = proposed[proposed['true'].between(40, 60)].sum()['fp_soft']\n",
    "fn = proposed[proposed['true'].between(40, 60)].sum()['fn_soft']\n",
    "\n",
    "error = proposed[proposed['true'].between(40, 60)].mean()['error']\n",
    "count = proposed[proposed['true'].between(40, 60)].count()['error'] * 196\n",
    "\n",
    "\n",
    "\n",
    "precision = tp / (tp + fp)\n",
    "recall = tp / (tp + fn)\n",
    "print(\"Between 40 and 60%: \", precision, recall, error, count)"
   ]
  },
  {
   "cell_type": "code",
   "execution_count": 13,
   "metadata": {},
   "outputs": [
    {
     "name": "stdout",
     "output_type": "stream",
     "text": [
      "Between 60 and 100%:  0.9931259104076989 0.9705223761236045 8.487672525657661 67816\n"
     ]
    }
   ],
   "source": [
    "tp = proposed[proposed['true'].between(60, 101)].sum()['tp_soft']\n",
    "fp = proposed[proposed['true'].between(60, 101)].sum()['fp_soft']\n",
    "fn = proposed[proposed['true'].between(60, 101)].sum()['fn_soft']\n",
    "\n",
    "error = proposed[proposed['true'].between(60, 101)].mean()['error']\n",
    "count = proposed[proposed['true'].between(60, 101)].count()['error'] * 196\n",
    "\n",
    "\n",
    "\n",
    "precision = tp / (tp + fp)\n",
    "recall = tp / (tp + fn)\n",
    "print(\"Between 60 and 100%: \", precision, recall, error, count)"
   ]
  },
  {
   "cell_type": "code",
   "execution_count": 14,
   "metadata": {},
   "outputs": [
    {
     "name": "stdout",
     "output_type": "stream",
     "text": [
      "0.869002896348181 0.8620703300158101\n"
     ]
    }
   ],
   "source": [
    "proposed = pd.read_csv(\"../../data/metrics/proposed.csv\")\n",
    "print(proposed.mean()['soft_prec'], proposed.mean()['soft_rec'])"
   ]
  },
  {
   "cell_type": "markdown",
   "metadata": {},
   "source": [
    "# Load Random forest predictions"
   ]
  },
  {
   "cell_type": "code",
   "execution_count": 17,
   "metadata": {},
   "outputs": [
    {
     "name": "stdout",
     "output_type": "stream",
     "text": [
      "0.7993129320280367 0.7739658017311516\n"
     ]
    }
   ],
   "source": [
    "proposed = pd.read_csv(\"../../data/metrics/rf.csv\")\n",
    "print(proposed.mean()['soft_prec'], proposed.mean()['soft_rec'])"
   ]
  },
  {
   "cell_type": "code",
   "execution_count": 19,
   "metadata": {},
   "outputs": [
    {
     "data": {
      "text/html": [
       "<div>\n",
       "<style scoped>\n",
       "    .dataframe tbody tr th:only-of-type {\n",
       "        vertical-align: middle;\n",
       "    }\n",
       "\n",
       "    .dataframe tbody tr th {\n",
       "        vertical-align: top;\n",
       "    }\n",
       "\n",
       "    .dataframe thead th {\n",
       "        text-align: right;\n",
       "    }\n",
       "</style>\n",
       "<table border=\"1\" class=\"dataframe\">\n",
       "  <thead>\n",
       "    <tr style=\"text-align: right;\">\n",
       "      <th></th>\n",
       "      <th>true</th>\n",
       "      <th>pred</th>\n",
       "      <th>f1_hard</th>\n",
       "      <th>error</th>\n",
       "      <th>tp</th>\n",
       "      <th>fp</th>\n",
       "      <th>fn</th>\n",
       "      <th>tp_soft</th>\n",
       "      <th>fp_soft</th>\n",
       "      <th>fn_soft</th>\n",
       "      <th>group</th>\n",
       "      <th>model</th>\n",
       "      <th>Unnamed: 0</th>\n",
       "      <th>lats</th>\n",
       "      <th>longs</th>\n",
       "      <th>id</th>\n",
       "      <th>CONTINENT</th>\n",
       "      <th>clouds</th>\n",
       "      <th>slopes</th>\n",
       "    </tr>\n",
       "  </thead>\n",
       "  <tbody>\n",
       "    <tr>\n",
       "      <th>0</th>\n",
       "      <td>29.081633</td>\n",
       "      <td>37.755102</td>\n",
       "      <td>0.702290</td>\n",
       "      <td>8.673469</td>\n",
       "      <td>46.0</td>\n",
       "      <td>28</td>\n",
       "      <td>11</td>\n",
       "      <td>56.0</td>\n",
       "      <td>8.0</td>\n",
       "      <td>1.0</td>\n",
       "      <td>20</td>\n",
       "      <td>Random Forest</td>\n",
       "      <td>0</td>\n",
       "      <td>6.552393</td>\n",
       "      <td>37.070625</td>\n",
       "      <td>135505799</td>\n",
       "      <td>Africa</td>\n",
       "      <td>0.552239</td>\n",
       "      <td>0.223983</td>\n",
       "    </tr>\n",
       "    <tr>\n",
       "      <th>1</th>\n",
       "      <td>100.000000</td>\n",
       "      <td>16.326531</td>\n",
       "      <td>0.280702</td>\n",
       "      <td>83.673469</td>\n",
       "      <td>32.0</td>\n",
       "      <td>0</td>\n",
       "      <td>164</td>\n",
       "      <td>110.0</td>\n",
       "      <td>0.0</td>\n",
       "      <td>86.0</td>\n",
       "      <td>90</td>\n",
       "      <td>Random Forest</td>\n",
       "      <td>1</td>\n",
       "      <td>6.495981</td>\n",
       "      <td>35.556120</td>\n",
       "      <td>135505800</td>\n",
       "      <td>Africa</td>\n",
       "      <td>0.636364</td>\n",
       "      <td>0.086151</td>\n",
       "    </tr>\n",
       "    <tr>\n",
       "      <th>2</th>\n",
       "      <td>11.224490</td>\n",
       "      <td>3.061224</td>\n",
       "      <td>0.071429</td>\n",
       "      <td>8.163265</td>\n",
       "      <td>1.0</td>\n",
       "      <td>5</td>\n",
       "      <td>21</td>\n",
       "      <td>3.0</td>\n",
       "      <td>4.0</td>\n",
       "      <td>19.0</td>\n",
       "      <td>10</td>\n",
       "      <td>Random Forest</td>\n",
       "      <td>2</td>\n",
       "      <td>8.384319</td>\n",
       "      <td>38.972473</td>\n",
       "      <td>135505801</td>\n",
       "      <td>Africa</td>\n",
       "      <td>0.307692</td>\n",
       "      <td>0.053171</td>\n",
       "    </tr>\n",
       "    <tr>\n",
       "      <th>3</th>\n",
       "      <td>3.061224</td>\n",
       "      <td>50.000000</td>\n",
       "      <td>0.096154</td>\n",
       "      <td>46.938776</td>\n",
       "      <td>5.0</td>\n",
       "      <td>93</td>\n",
       "      <td>1</td>\n",
       "      <td>6.0</td>\n",
       "      <td>74.0</td>\n",
       "      <td>0.0</td>\n",
       "      <td>0</td>\n",
       "      <td>Random Forest</td>\n",
       "      <td>3</td>\n",
       "      <td>7.217695</td>\n",
       "      <td>33.701621</td>\n",
       "      <td>135505803</td>\n",
       "      <td>Africa</td>\n",
       "      <td>0.688525</td>\n",
       "      <td>0.041682</td>\n",
       "    </tr>\n",
       "    <tr>\n",
       "      <th>4</th>\n",
       "      <td>0.000000</td>\n",
       "      <td>0.000000</td>\n",
       "      <td>0.000000</td>\n",
       "      <td>0.000000</td>\n",
       "      <td>0.0</td>\n",
       "      <td>0</td>\n",
       "      <td>0</td>\n",
       "      <td>0.0</td>\n",
       "      <td>0.0</td>\n",
       "      <td>0.0</td>\n",
       "      <td>0</td>\n",
       "      <td>Random Forest</td>\n",
       "      <td>4</td>\n",
       "      <td>9.565499</td>\n",
       "      <td>40.256333</td>\n",
       "      <td>135505804</td>\n",
       "      <td>Africa</td>\n",
       "      <td>0.240000</td>\n",
       "      <td>0.048161</td>\n",
       "    </tr>\n",
       "  </tbody>\n",
       "</table>\n",
       "</div>"
      ],
      "text/plain": [
       "         true       pred   f1_hard      error    tp  fp   fn  tp_soft  \\\n",
       "0   29.081633  37.755102  0.702290   8.673469  46.0  28   11     56.0   \n",
       "1  100.000000  16.326531  0.280702  83.673469  32.0   0  164    110.0   \n",
       "2   11.224490   3.061224  0.071429   8.163265   1.0   5   21      3.0   \n",
       "3    3.061224  50.000000  0.096154  46.938776   5.0  93    1      6.0   \n",
       "4    0.000000   0.000000  0.000000   0.000000   0.0   0    0      0.0   \n",
       "\n",
       "   fp_soft  fn_soft  group          model  Unnamed: 0      lats      longs  \\\n",
       "0      8.0      1.0     20  Random Forest           0  6.552393  37.070625   \n",
       "1      0.0     86.0     90  Random Forest           1  6.495981  35.556120   \n",
       "2      4.0     19.0     10  Random Forest           2  8.384319  38.972473   \n",
       "3     74.0      0.0      0  Random Forest           3  7.217695  33.701621   \n",
       "4      0.0      0.0      0  Random Forest           4  9.565499  40.256333   \n",
       "\n",
       "          id CONTINENT    clouds    slopes  \n",
       "0  135505799    Africa  0.552239  0.223983  \n",
       "1  135505800    Africa  0.636364  0.086151  \n",
       "2  135505801    Africa  0.307692  0.053171  \n",
       "3  135505803    Africa  0.688525  0.041682  \n",
       "4  135505804    Africa  0.240000  0.048161  "
      ]
     },
     "execution_count": 19,
     "metadata": {},
     "output_type": "execute_result"
    }
   ],
   "source": [
    "proposed = pd.read_csv(\"../../data/metrics/rf-sample.csv\")\n",
    "proposed = proposed.drop(['Unnamed: 0'], axis = 1)\n",
    "proposed = proposed.join(continents, how = 'inner')\n",
    "proposed.head(5)"
   ]
  },
  {
   "cell_type": "code",
   "execution_count": 20,
   "metadata": {},
   "outputs": [
    {
     "name": "stdout",
     "output_type": "stream",
     "text": [
      "30 (19.209183673469386, 15.04886414595278, 23.369503200985992)\n",
      "40 (22.871217452498243, 17.401675805580712, 28.340759099415774)\n",
      "50 (25.799319727891156, 20.47065463292259, 31.127984822859723)\n",
      "60 (25.16458196181698, 17.692327047060818, 32.63683687657314)\n",
      "70 (20.69387755102041, 13.303011188824048, 28.084743913216773)\n",
      "22.747636073339233 16.78330656406819 28.711965582610283\n",
      "(22.60039499670836, 20.05907216565266, 25.14171782776406)\n"
     ]
    },
    {
     "name": "stderr",
     "output_type": "stream",
     "text": [
      "/Users/john.brandt/.local/lib/python3.6/site-packages/ipykernel_launcher.py:5: SettingWithCopyWarning: \n",
      "A value is trying to be set on a copy of a slice from a DataFrame\n",
      "\n",
      "See the caveats in the documentation: http://pandas.pydata.org/pandas-docs/stable/indexing.html#indexing-view-versus-copy\n",
      "  \"\"\"\n"
     ]
    }
   ],
   "source": [
    "means_l = []\n",
    "means = []\n",
    "means_u = []\n",
    "proposed['ccgroup'] = 0\n",
    "proposed['ccgroup'][(proposed['group'] >= 30) & (proposed['group'] <= 70)] = 1\n",
    "for i in range(0, 100, 10):\n",
    "    group = proposed[proposed['group'] == i]\n",
    "    ci = mean_confidence_interval(group['error'], 0.95)\n",
    "    if i >= 30 and i <= 70:\n",
    "        means_l.append(ci[0])\n",
    "        means_u.append(ci[2])\n",
    "        means.append(ci[1])\n",
    "        print(i, ci)\n",
    "print(np.mean(means_l), np.mean(means), np.mean(means_u))\n",
    "\n",
    "print(mean_confidence_interval(proposed[proposed['ccgroup'] == 1]['error']))"
   ]
  },
  {
   "cell_type": "code",
   "execution_count": 21,
   "metadata": {},
   "outputs": [
    {
     "data": {
      "text/plain": [
       "(10.674505522970748, 9.726780665897085, 11.62223038004441)"
      ]
     },
     "execution_count": 21,
     "metadata": {},
     "output_type": "execute_result"
    }
   ],
   "source": [
    "mean_confidence_interval(proposed['error'], 0.95)"
   ]
  },
  {
   "cell_type": "code",
   "execution_count": 22,
   "metadata": {},
   "outputs": [
    {
     "name": "stdout",
     "output_type": "stream",
     "text": [
      "Africa 0.9101709649376992 0.8501662671100456\n",
      "Asia 0.9038635677633565 0.8764817795990049\n",
      "Australia 0.9214785423410253 0.9088568486096807\n",
      "Europe 0.8456966238706609 0.9328612640965119\n",
      "North America 0.9161523122210616 0.9599044871157099\n",
      "South America 0.8334108887854816 0.947869806827203\n"
     ]
    }
   ],
   "source": [
    "sums = proposed.groupby(\"CONTINENT\").sum()\n",
    "for i in ['Africa', 'Asia', \"Australia\", \"Europe\", \"North America\", \"South America\"]:\n",
    "    tp = sums[sums.index == i]['tp_soft']\n",
    "    fp = sums[sums.index == i]['fp_soft']\n",
    "    fn = sums[sums.index == i]['fn_soft']\n",
    "    precision = tp / (tp + fp)\n",
    "    recall = tp / (tp + fn)\n",
    "    print(i, float(precision), float(recall))"
   ]
  },
  {
   "cell_type": "code",
   "execution_count": 23,
   "metadata": {},
   "outputs": [
    {
     "name": "stdout",
     "output_type": "stream",
     "text": [
      "Below 20%:  0.2740619902120718 0.47344461305007585 7.2393352571011365 115052\n"
     ]
    }
   ],
   "source": [
    "tp = proposed[proposed['true'] < 20].sum()['tp_soft']\n",
    "fp = proposed[proposed['true'] < 20].sum()['fp_soft']\n",
    "fn = proposed[proposed['true'] < 20].sum()['fn_soft']\n",
    "error = proposed[proposed['true'] < 20].mean()['error']\n",
    "count = proposed[proposed['true'] < 20].count()['error'] * 196\n",
    "\n",
    "\n",
    "\n",
    "precision = tp / (tp + fp)\n",
    "recall = tp / (tp + fn)\n",
    "print(\"Below 20%: \", precision, recall, error, count)"
   ]
  },
  {
   "cell_type": "code",
   "execution_count": 24,
   "metadata": {},
   "outputs": [
    {
     "name": "stdout",
     "output_type": "stream",
     "text": [
      "Below 40%:  0.7921177266576455 0.7552007740686986 17.96745725317154 21756\n"
     ]
    }
   ],
   "source": [
    "tp = proposed[proposed['true'].between(20, 40)].sum()['tp_soft']\n",
    "fp = proposed[proposed['true'].between(20, 40)].sum()['fp_soft']\n",
    "fn = proposed[proposed['true'].between(20, 40)].sum()['fn_soft']\n",
    "\n",
    "error = proposed[proposed['true'].between(20, 40)].mean()['error']\n",
    "count = proposed[proposed['true'].between(20, 40)].count()['error'] * 196\n",
    "\n",
    "\n",
    "\n",
    "precision = tp / (tp + fp)\n",
    "recall = tp / (tp + fn)\n",
    "print(\"Below 40%: \", precision, recall, error, count)"
   ]
  },
  {
   "cell_type": "code",
   "execution_count": 25,
   "metadata": {},
   "outputs": [
    {
     "name": "stdout",
     "output_type": "stream",
     "text": [
      "40 - 60 %:  0.8788853161843515 0.8526863084922011 24.36008301625735 11564\n"
     ]
    }
   ],
   "source": [
    "tp = proposed[proposed['true'].between(40, 60)].sum()['tp_soft']\n",
    "fp = proposed[proposed['true'].between(40, 60)].sum()['fp_soft']\n",
    "fn = proposed[proposed['true'].between(40, 60)].sum()['fn_soft']\n",
    "\n",
    "error = proposed[proposed['true'].between(40, 60)].mean()['error']\n",
    "count = proposed[proposed['true'].between(40, 60)].count()['error'] * 196\n",
    "\n",
    "\n",
    "\n",
    "precision = tp / (tp + fp)\n",
    "recall = tp / (tp + fn)\n",
    "print(\"40 - 60 %: \", precision, recall, error, count)"
   ]
  },
  {
   "cell_type": "code",
   "execution_count": 26,
   "metadata": {},
   "outputs": [
    {
     "name": "stdout",
     "output_type": "stream",
     "text": [
      "Greater than 60%:  0.9921236390111526 0.9589904353667509 11.829066886870354 67816\n"
     ]
    }
   ],
   "source": [
    "tp = proposed[proposed['true'] >= 60].sum()['tp_soft']\n",
    "fp = proposed[proposed['true'] >= 60].sum()['fp_soft']\n",
    "fn = proposed[proposed['true'] >= 60].sum()['fn_soft']\n",
    "error = proposed[proposed['true'] >= 60].mean()['error']\n",
    "count = proposed[proposed['true'] >= 60].count()['error'] * 196\n",
    "\n",
    "\n",
    "\n",
    "precision = tp / (tp + fp)\n",
    "recall = tp / (tp + fn)\n",
    "print(\"Greater than 60%: \", precision, recall, error, count)"
   ]
  },
  {
   "cell_type": "code",
   "execution_count": 29,
   "metadata": {},
   "outputs": [
    {
     "name": "stdout",
     "output_type": "stream",
     "text": [
      "Below 0.75 cloud:  0.899151446849415 0.9016619577862722 10.545589203423303 170128\n"
     ]
    }
   ],
   "source": [
    "tp = proposed[proposed['clouds'] < 0.75].sum()['tp_soft']\n",
    "fp = proposed[proposed['clouds'] < 0.75].sum()['fp_soft']\n",
    "fn = proposed[proposed['clouds'] < 0.75].sum()['fn_soft']\n",
    "error = proposed[proposed['clouds'] < 0.75].mean()['error']\n",
    "count = proposed[proposed['clouds'] < 0.75].count()['error'] * 196\n",
    "\n",
    "\n",
    "\n",
    "precision = tp / (tp + fp)\n",
    "recall = tp / (tp + fn)\n",
    "print(\"Below 0.75 cloud: \", precision, recall, error, count)"
   ]
  },
  {
   "cell_type": "code",
   "execution_count": 27,
   "metadata": {},
   "outputs": [
    {
     "name": "stdout",
     "output_type": "stream",
     "text": [
      "Above 0.75 cloud:  0.8935887611749681 0.9237431347697508 11.150673035171515 46060\n"
     ]
    }
   ],
   "source": [
    "tp = proposed[proposed['clouds'] >= 0.75].sum()['tp_soft']\n",
    "fp = proposed[proposed['clouds'] >= 0.75].sum()['fp_soft']\n",
    "fn = proposed[proposed['clouds'] >= 0.75].sum()['fn_soft']\n",
    "error = proposed[proposed['clouds'] >= 0.75].mean()['error']\n",
    "count = proposed[proposed['clouds'] >= 0.75].count()['error'] * 196\n",
    "\n",
    "\n",
    "\n",
    "precision = tp / (tp + fp)\n",
    "recall = tp / (tp + fn)\n",
    "print(\"Above 0.75 cloud: \", precision, recall, error, count)"
   ]
  },
  {
   "cell_type": "code",
   "execution_count": 30,
   "metadata": {},
   "outputs": [
    {
     "name": "stdout",
     "output_type": "stream",
     "text": [
      "Above 0.1 slope:  0.893619174523926 0.8911390701742582 10.68934240362812 176400\n"
     ]
    }
   ],
   "source": [
    "tp = proposed[proposed['slopes'] < 0.1].sum()['tp_soft']\n",
    "fp = proposed[proposed['slopes'] < 0.1].sum()['fp_soft']\n",
    "fn = proposed[proposed['slopes'] < 0.1].sum()['fn_soft']\n",
    "error = proposed[proposed['slopes'] < 0.1].mean()['error']\n",
    "count = proposed[proposed['slopes'] < 0.1].count()['error'] * 196\n",
    "\n",
    "\n",
    "\n",
    "precision = tp / (tp + fp)\n",
    "recall = tp / (tp + fn)\n",
    "print(\"Below 0.1 slope: \", precision, recall, error, count)"
   ]
  },
  {
   "cell_type": "code",
   "execution_count": 28,
   "metadata": {},
   "outputs": [
    {
     "name": "stdout",
     "output_type": "stream",
     "text": [
      "Above 0.1 slope:  0.9097740715601668 0.9547674773582986 10.608726249120338 39788\n"
     ]
    }
   ],
   "source": [
    "tp = proposed[proposed['slopes'] >= 0.1].sum()['tp_soft']\n",
    "fp = proposed[proposed['slopes'] >= 0.1].sum()['fp_soft']\n",
    "fn = proposed[proposed['slopes'] >= 0.1].sum()['fn_soft']\n",
    "error = proposed[proposed['slopes'] >= 0.1].mean()['error']\n",
    "count = proposed[proposed['slopes'] >= 0.1].count()['error'] * 196\n",
    "\n",
    "\n",
    "\n",
    "precision = tp / (tp + fp)\n",
    "recall = tp / (tp + fn)\n",
    "print(\"Above 0.1 slope: \", precision, recall, error, count)"
   ]
  },
  {
   "cell_type": "code",
   "execution_count": 44,
   "metadata": {},
   "outputs": [
    {
     "name": "stdout",
     "output_type": "stream",
     "text": [
      "0.7993129320280367 0.7739658017311516\n"
     ]
    }
   ],
   "source": [
    "proposed = pd.read_csv(\"../../data/metrics/rf.csv\")\n",
    "print(proposed.mean()['soft_prec'], proposed.mean()['soft_rec'])"
   ]
  },
  {
   "cell_type": "markdown",
   "metadata": {},
   "source": [
    "# Load U-Net forest predictions"
   ]
  },
  {
   "cell_type": "code",
   "execution_count": 46,
   "metadata": {},
   "outputs": [
    {
     "data": {
      "text/html": [
       "<div>\n",
       "<style scoped>\n",
       "    .dataframe tbody tr th:only-of-type {\n",
       "        vertical-align: middle;\n",
       "    }\n",
       "\n",
       "    .dataframe tbody tr th {\n",
       "        vertical-align: top;\n",
       "    }\n",
       "\n",
       "    .dataframe thead th {\n",
       "        text-align: right;\n",
       "    }\n",
       "</style>\n",
       "<table border=\"1\" class=\"dataframe\">\n",
       "  <thead>\n",
       "    <tr style=\"text-align: right;\">\n",
       "      <th></th>\n",
       "      <th>true</th>\n",
       "      <th>pred</th>\n",
       "      <th>f1_hard</th>\n",
       "      <th>error</th>\n",
       "      <th>tp</th>\n",
       "      <th>fp</th>\n",
       "      <th>fn</th>\n",
       "      <th>tp_soft</th>\n",
       "      <th>fp_soft</th>\n",
       "      <th>fn_soft</th>\n",
       "      <th>group</th>\n",
       "      <th>model</th>\n",
       "      <th>Unnamed: 0</th>\n",
       "      <th>lats</th>\n",
       "      <th>longs</th>\n",
       "      <th>id</th>\n",
       "      <th>CONTINENT</th>\n",
       "      <th>clouds</th>\n",
       "      <th>slopes</th>\n",
       "    </tr>\n",
       "  </thead>\n",
       "  <tbody>\n",
       "    <tr>\n",
       "      <th>0</th>\n",
       "      <td>29.081633</td>\n",
       "      <td>2.040816</td>\n",
       "      <td>0.065574</td>\n",
       "      <td>27.040816</td>\n",
       "      <td>2.0</td>\n",
       "      <td>2</td>\n",
       "      <td>55</td>\n",
       "      <td>9.0</td>\n",
       "      <td>0.0</td>\n",
       "      <td>48.0</td>\n",
       "      <td>20</td>\n",
       "      <td>U-net</td>\n",
       "      <td>0</td>\n",
       "      <td>6.552393</td>\n",
       "      <td>37.070625</td>\n",
       "      <td>135505799</td>\n",
       "      <td>Africa</td>\n",
       "      <td>0.552239</td>\n",
       "      <td>0.223983</td>\n",
       "    </tr>\n",
       "    <tr>\n",
       "      <th>1</th>\n",
       "      <td>100.000000</td>\n",
       "      <td>0.000000</td>\n",
       "      <td>0.000000</td>\n",
       "      <td>100.000000</td>\n",
       "      <td>0.0</td>\n",
       "      <td>0</td>\n",
       "      <td>196</td>\n",
       "      <td>0.0</td>\n",
       "      <td>0.0</td>\n",
       "      <td>196.0</td>\n",
       "      <td>90</td>\n",
       "      <td>U-net</td>\n",
       "      <td>1</td>\n",
       "      <td>6.495981</td>\n",
       "      <td>35.556120</td>\n",
       "      <td>135505800</td>\n",
       "      <td>Africa</td>\n",
       "      <td>0.636364</td>\n",
       "      <td>0.086151</td>\n",
       "    </tr>\n",
       "    <tr>\n",
       "      <th>2</th>\n",
       "      <td>11.224490</td>\n",
       "      <td>0.000000</td>\n",
       "      <td>0.000000</td>\n",
       "      <td>11.224490</td>\n",
       "      <td>0.0</td>\n",
       "      <td>0</td>\n",
       "      <td>22</td>\n",
       "      <td>0.0</td>\n",
       "      <td>0.0</td>\n",
       "      <td>22.0</td>\n",
       "      <td>10</td>\n",
       "      <td>U-net</td>\n",
       "      <td>2</td>\n",
       "      <td>8.384319</td>\n",
       "      <td>38.972473</td>\n",
       "      <td>135505801</td>\n",
       "      <td>Africa</td>\n",
       "      <td>0.307692</td>\n",
       "      <td>0.053171</td>\n",
       "    </tr>\n",
       "    <tr>\n",
       "      <th>3</th>\n",
       "      <td>3.061224</td>\n",
       "      <td>0.000000</td>\n",
       "      <td>0.000000</td>\n",
       "      <td>3.061224</td>\n",
       "      <td>0.0</td>\n",
       "      <td>0</td>\n",
       "      <td>6</td>\n",
       "      <td>0.0</td>\n",
       "      <td>0.0</td>\n",
       "      <td>6.0</td>\n",
       "      <td>0</td>\n",
       "      <td>U-net</td>\n",
       "      <td>3</td>\n",
       "      <td>7.217695</td>\n",
       "      <td>33.701621</td>\n",
       "      <td>135505803</td>\n",
       "      <td>Africa</td>\n",
       "      <td>0.688525</td>\n",
       "      <td>0.041682</td>\n",
       "    </tr>\n",
       "    <tr>\n",
       "      <th>4</th>\n",
       "      <td>0.000000</td>\n",
       "      <td>0.000000</td>\n",
       "      <td>0.000000</td>\n",
       "      <td>0.000000</td>\n",
       "      <td>0.0</td>\n",
       "      <td>0</td>\n",
       "      <td>0</td>\n",
       "      <td>0.0</td>\n",
       "      <td>0.0</td>\n",
       "      <td>0.0</td>\n",
       "      <td>0</td>\n",
       "      <td>U-net</td>\n",
       "      <td>4</td>\n",
       "      <td>9.565499</td>\n",
       "      <td>40.256333</td>\n",
       "      <td>135505804</td>\n",
       "      <td>Africa</td>\n",
       "      <td>0.240000</td>\n",
       "      <td>0.048161</td>\n",
       "    </tr>\n",
       "  </tbody>\n",
       "</table>\n",
       "</div>"
      ],
      "text/plain": [
       "         true      pred   f1_hard       error   tp  fp   fn  tp_soft  fp_soft  \\\n",
       "0   29.081633  2.040816  0.065574   27.040816  2.0   2   55      9.0      0.0   \n",
       "1  100.000000  0.000000  0.000000  100.000000  0.0   0  196      0.0      0.0   \n",
       "2   11.224490  0.000000  0.000000   11.224490  0.0   0   22      0.0      0.0   \n",
       "3    3.061224  0.000000  0.000000    3.061224  0.0   0    6      0.0      0.0   \n",
       "4    0.000000  0.000000  0.000000    0.000000  0.0   0    0      0.0      0.0   \n",
       "\n",
       "   fn_soft  group  model  Unnamed: 0      lats      longs         id  \\\n",
       "0     48.0     20  U-net           0  6.552393  37.070625  135505799   \n",
       "1    196.0     90  U-net           1  6.495981  35.556120  135505800   \n",
       "2     22.0     10  U-net           2  8.384319  38.972473  135505801   \n",
       "3      6.0      0  U-net           3  7.217695  33.701621  135505803   \n",
       "4      0.0      0  U-net           4  9.565499  40.256333  135505804   \n",
       "\n",
       "  CONTINENT    clouds    slopes  \n",
       "0    Africa  0.552239  0.223983  \n",
       "1    Africa  0.636364  0.086151  \n",
       "2    Africa  0.307692  0.053171  \n",
       "3    Africa  0.688525  0.041682  \n",
       "4    Africa  0.240000  0.048161  "
      ]
     },
     "execution_count": 46,
     "metadata": {},
     "output_type": "execute_result"
    }
   ],
   "source": [
    "proposed = pd.read_csv(\"../../data/metrics/unet-sample.csv\")\n",
    "proposed = proposed.drop(['Unnamed: 0'], axis = 1)\n",
    "proposed = proposed.join(continents, how = 'inner')\n",
    "proposed.head(5)"
   ]
  },
  {
   "cell_type": "code",
   "execution_count": 47,
   "metadata": {},
   "outputs": [
    {
     "name": "stdout",
     "output_type": "stream",
     "text": [
      "30 (22.44897959183674, 17.379012066109325, 27.518947117564153)\n",
      "40 (35.063335679099225, 28.84918042890349, 41.277490929294956)\n",
      "50 (29.251700680272112, 23.098195550089848, 35.405205810454376)\n",
      "60 (31.797235023041477, 25.74165908138921, 37.852810964693745)\n",
      "70 (28.326530612244895, 20.757763018099073, 35.89529820639072)\n",
      "29.37755631729889 23.16516202891819 35.58995060567959\n",
      "(28.94338380513496, 26.24811525587619, 31.63865235439373)\n"
     ]
    },
    {
     "name": "stderr",
     "output_type": "stream",
     "text": [
      "/Users/john.brandt/.local/lib/python3.6/site-packages/ipykernel_launcher.py:5: SettingWithCopyWarning: \n",
      "A value is trying to be set on a copy of a slice from a DataFrame\n",
      "\n",
      "See the caveats in the documentation: http://pandas.pydata.org/pandas-docs/stable/indexing.html#indexing-view-versus-copy\n",
      "  \"\"\"\n"
     ]
    }
   ],
   "source": [
    "means_l = []\n",
    "means = []\n",
    "means_u = []\n",
    "proposed['ccgroup'] = 0\n",
    "proposed['ccgroup'][(proposed['group'] >= 30) & (proposed['group'] <= 70)] = 1\n",
    "for i in range(0, 100, 10):\n",
    "    group = proposed[proposed['group'] == i]\n",
    "    ci = mean_confidence_interval(group['error'], 0.95)\n",
    "    if i >= 30 and i <= 70:\n",
    "        means_l.append(ci[0])\n",
    "        means_u.append(ci[2])\n",
    "        means.append(ci[1])\n",
    "        print(i, ci)\n",
    "print(np.mean(means_l), np.mean(means), np.mean(means_u))\n",
    "\n",
    "print(mean_confidence_interval(proposed[proposed['ccgroup'] == 1]['error']))"
   ]
  },
  {
   "cell_type": "code",
   "execution_count": 48,
   "metadata": {},
   "outputs": [
    {
     "data": {
      "text/plain": [
       "(11.333191481488333, 10.169887283995882, 12.496495678980784)"
      ]
     },
     "execution_count": 48,
     "metadata": {},
     "output_type": "execute_result"
    }
   ],
   "source": [
    "mean_confidence_interval(proposed['error'], 0.95)"
   ]
  },
  {
   "cell_type": "code",
   "execution_count": 49,
   "metadata": {},
   "outputs": [
    {
     "name": "stdout",
     "output_type": "stream",
     "text": [
      "Africa 0.9254333669632211 0.7802954141211044\n",
      "Asia 0.901172280753821 0.888775062198156\n",
      "Australia 0.9290932531155995 0.8906282183316169\n",
      "Europe 0.8641059924638386 0.9322056123787045\n",
      "North America 0.9104266328224153 0.9278181275494976\n",
      "South America 0.9266632417159003 0.9546176237099762\n"
     ]
    }
   ],
   "source": [
    "sums = proposed.groupby(\"CONTINENT\").sum()\n",
    "for i in ['Africa', 'Asia', \"Australia\", \"Europe\", \"North America\", \"South America\"]:\n",
    "    tp = sums[sums.index == i]['tp_soft']\n",
    "    fp = sums[sums.index == i]['fp_soft']\n",
    "    fn = sums[sums.index == i]['fn_soft']\n",
    "    precision = tp / (tp + fp)\n",
    "    recall = tp / (tp + fn)\n",
    "    print(i, float(precision), float(recall))"
   ]
  },
  {
   "cell_type": "code",
   "execution_count": 50,
   "metadata": {},
   "outputs": [
    {
     "name": "stdout",
     "output_type": "stream",
     "text": [
      "Below 20%:  0.3298429319371728 0.3550834597875569 6.084205402774397 115052\n"
     ]
    }
   ],
   "source": [
    "tp = proposed[proposed['true'] < 20].sum()['tp_soft']\n",
    "fp = proposed[proposed['true'] < 20].sum()['fp_soft']\n",
    "fn = proposed[proposed['true'] < 20].sum()['fn_soft']\n",
    "error = proposed[proposed['true'] < 20].mean()['error']\n",
    "count = proposed[proposed['true'] < 20].count()['error'] * 196\n",
    "\n",
    "\n",
    "\n",
    "precision = tp / (tp + fp)\n",
    "recall = tp / (tp + fn)\n",
    "print(\"Below 20%: \", precision, recall, error, count)"
   ]
  },
  {
   "cell_type": "code",
   "execution_count": 51,
   "metadata": {},
   "outputs": [
    {
     "name": "stdout",
     "output_type": "stream",
     "text": [
      "Between 20 and 40%:  0.7590382902938557 0.6873084986292534 24.08990623276338 21756\n"
     ]
    }
   ],
   "source": [
    "tp = proposed[proposed['true'].between(20, 40)].sum()['tp_soft']\n",
    "fp = proposed[proposed['true'].between(20, 40)].sum()['fp_soft']\n",
    "fn = proposed[proposed['true'].between(20, 40)].sum()['fn_soft']\n",
    "\n",
    "error = proposed[proposed['true'].between(20, 40)].mean()['error']\n",
    "count = proposed[proposed['true'].between(20, 40)].count()['error'] * 196\n",
    "\n",
    "\n",
    "\n",
    "precision = tp / (tp + fp)\n",
    "recall = tp / (tp + fn)\n",
    "print(\"Between 20 and 40%: \", precision, recall, error, count)"
   ]
  },
  {
   "cell_type": "code",
   "execution_count": 55,
   "metadata": {},
   "outputs": [
    {
     "name": "stdout",
     "output_type": "stream",
     "text": [
      "40 - 60 %:  0.8250167448091091 0.853899480069324 32.10826703562781 11564\n"
     ]
    }
   ],
   "source": [
    "tp = proposed[proposed['true'].between(40, 60)].sum()['tp_soft']\n",
    "fp = proposed[proposed['true'].between(40, 60)].sum()['fp_soft']\n",
    "fn = proposed[proposed['true'].between(40, 60)].sum()['fn_soft']\n",
    "\n",
    "error = proposed[proposed['true'].between(40, 60)].mean()['error']\n",
    "count = proposed[proposed['true'].between(40, 60)].count()['error'] * 196\n",
    "\n",
    "\n",
    "\n",
    "precision = tp / (tp + fp)\n",
    "recall = tp / (tp + fn)\n",
    "print(\"40 - 60 %: \", precision, recall, error, count)"
   ]
  },
  {
   "cell_type": "code",
   "execution_count": 56,
   "metadata": {},
   "outputs": [
    {
     "name": "stdout",
     "output_type": "stream",
     "text": [
      "Greater than 60%:  0.9863413810568968 0.934407088704776 12.603220478943024 67816\n"
     ]
    }
   ],
   "source": [
    "tp = proposed[proposed['true'] >= 60].sum()['tp_soft']\n",
    "fp = proposed[proposed['true'] >= 60].sum()['fp_soft']\n",
    "fn = proposed[proposed['true'] >= 60].sum()['fn_soft']\n",
    "error = proposed[proposed['true'] >= 60].mean()['error']\n",
    "count = proposed[proposed['true'] >= 60].count()['error'] * 196\n",
    "\n",
    "\n",
    "\n",
    "precision = tp / (tp + fp)\n",
    "recall = tp / (tp + fn)\n",
    "print(\"Greater than 60%: \", precision, recall, error, count)"
   ]
  },
  {
   "cell_type": "code",
   "execution_count": 52,
   "metadata": {},
   "outputs": [
    {
     "name": "stdout",
     "output_type": "stream",
     "text": [
      "Above 0.75 cloud:  0.90844327176781 0.90911491339248 10.514546244029527 46060\n"
     ]
    }
   ],
   "source": [
    "tp = proposed[proposed['clouds'] >= 0.75].sum()['tp_soft']\n",
    "fp = proposed[proposed['clouds'] >= 0.75].sum()['fp_soft']\n",
    "fn = proposed[proposed['clouds'] >= 0.75].sum()['fn_soft']\n",
    "error = proposed[proposed['clouds'] >= 0.75].mean()['error']\n",
    "count = proposed[proposed['clouds'] >= 0.75].count()['error'] * 196\n",
    "\n",
    "\n",
    "\n",
    "precision = tp / (tp + fp)\n",
    "recall = tp / (tp + fn)\n",
    "print(\"Above 0.75 cloud: \", precision, recall, error, count)"
   ]
  },
  {
   "cell_type": "code",
   "execution_count": 53,
   "metadata": {},
   "outputs": [
    {
     "name": "stdout",
     "output_type": "stream",
     "text": [
      "Above 0.1 slope:  0.9299184373214193 0.9107560801872392 11.870413189906506 39788\n"
     ]
    }
   ],
   "source": [
    "tp = proposed[proposed['slopes'] >= 0.1].sum()['tp_soft']\n",
    "fp = proposed[proposed['slopes'] >= 0.1].sum()['fp_soft']\n",
    "fn = proposed[proposed['slopes'] >= 0.1].sum()['fn_soft']\n",
    "error = proposed[proposed['slopes'] >= 0.1].mean()['error']\n",
    "count = proposed[proposed['slopes'] >= 0.1].count()['error'] * 196\n",
    "\n",
    "\n",
    "\n",
    "precision = tp / (tp + fp)\n",
    "recall = tp / (tp + fn)\n",
    "print(\"Above 0.1 slope: \", precision, recall, error, count)"
   ]
  },
  {
   "cell_type": "code",
   "execution_count": 54,
   "metadata": {},
   "outputs": [
    {
     "name": "stdout",
     "output_type": "stream",
     "text": [
      "Below 0.1 slope:  0.9082675911840662 0.863688353629819 11.212018140589569 176400\n"
     ]
    }
   ],
   "source": [
    "tp = proposed[proposed['slopes'] < 0.1].sum()['tp_soft']\n",
    "fp = proposed[proposed['slopes'] < 0.1].sum()['fp_soft']\n",
    "fn = proposed[proposed['slopes'] < 0.1].sum()['fn_soft']\n",
    "error = proposed[proposed['slopes'] < 0.1].mean()['error']\n",
    "count = proposed[proposed['slopes'] < 0.1].count()['error'] * 196\n",
    "\n",
    "\n",
    "\n",
    "precision = tp / (tp + fp)\n",
    "recall = tp / (tp + fn)\n",
    "print(\"Below 0.1 slope: \", precision, recall, error, count)"
   ]
  },
  {
   "cell_type": "code",
   "execution_count": 57,
   "metadata": {},
   "outputs": [
    {
     "name": "stdout",
     "output_type": "stream",
     "text": [
      "Below 0.75 cloud:  0.9155420266394524 0.8647664949310288 11.554829304993886 170128\n"
     ]
    }
   ],
   "source": [
    "tp = proposed[proposed['clouds'] < 0.75].sum()['tp_soft']\n",
    "fp = proposed[proposed['clouds'] < 0.75].sum()['fp_soft']\n",
    "fn = proposed[proposed['clouds'] < 0.75].sum()['fn_soft']\n",
    "error = proposed[proposed['clouds'] < 0.75].mean()['error']\n",
    "count = proposed[proposed['clouds'] < 0.75].count()['error'] * 196\n",
    "\n",
    "\n",
    "\n",
    "precision = tp / (tp + fp)\n",
    "recall = tp / (tp + fn)\n",
    "print(\"Below 0.75 cloud: \", precision, recall, error, count)"
   ]
  },
  {
   "cell_type": "code",
   "execution_count": 22,
   "metadata": {},
   "outputs": [
    {
     "name": "stdout",
     "output_type": "stream",
     "text": [
      "0.772557401796037 0.7363174550266559\n"
     ]
    }
   ],
   "source": [
    "proposed = pd.read_csv(\"../../data/metrics/unet.csv\")\n",
    "print(proposed.mean()['soft_prec'], proposed.mean()['soft_rec'])"
   ]
  },
  {
   "cell_type": "markdown",
   "metadata": {},
   "source": [
    "# Load SVM predictions"
   ]
  },
  {
   "cell_type": "code",
   "execution_count": 31,
   "metadata": {},
   "outputs": [
    {
     "data": {
      "text/html": [
       "<div>\n",
       "<style scoped>\n",
       "    .dataframe tbody tr th:only-of-type {\n",
       "        vertical-align: middle;\n",
       "    }\n",
       "\n",
       "    .dataframe tbody tr th {\n",
       "        vertical-align: top;\n",
       "    }\n",
       "\n",
       "    .dataframe thead th {\n",
       "        text-align: right;\n",
       "    }\n",
       "</style>\n",
       "<table border=\"1\" class=\"dataframe\">\n",
       "  <thead>\n",
       "    <tr style=\"text-align: right;\">\n",
       "      <th></th>\n",
       "      <th>true</th>\n",
       "      <th>pred</th>\n",
       "      <th>f1_hard</th>\n",
       "      <th>error</th>\n",
       "      <th>tp</th>\n",
       "      <th>fp</th>\n",
       "      <th>fn</th>\n",
       "      <th>tp_soft</th>\n",
       "      <th>fp_soft</th>\n",
       "      <th>fn_soft</th>\n",
       "      <th>group</th>\n",
       "      <th>model</th>\n",
       "      <th>Unnamed: 0</th>\n",
       "      <th>lats</th>\n",
       "      <th>longs</th>\n",
       "      <th>id</th>\n",
       "      <th>CONTINENT</th>\n",
       "      <th>clouds</th>\n",
       "      <th>slopes</th>\n",
       "    </tr>\n",
       "  </thead>\n",
       "  <tbody>\n",
       "    <tr>\n",
       "      <th>0</th>\n",
       "      <td>29.081633</td>\n",
       "      <td>41.836735</td>\n",
       "      <td>0.661871</td>\n",
       "      <td>12.755102</td>\n",
       "      <td>46.0</td>\n",
       "      <td>36</td>\n",
       "      <td>11</td>\n",
       "      <td>55.0</td>\n",
       "      <td>9.0</td>\n",
       "      <td>2.0</td>\n",
       "      <td>20</td>\n",
       "      <td>SVM</td>\n",
       "      <td>0</td>\n",
       "      <td>6.552393</td>\n",
       "      <td>37.070625</td>\n",
       "      <td>135505799</td>\n",
       "      <td>Africa</td>\n",
       "      <td>0.552239</td>\n",
       "      <td>0.223983</td>\n",
       "    </tr>\n",
       "    <tr>\n",
       "      <th>1</th>\n",
       "      <td>100.000000</td>\n",
       "      <td>87.244898</td>\n",
       "      <td>0.931880</td>\n",
       "      <td>12.755102</td>\n",
       "      <td>171.0</td>\n",
       "      <td>0</td>\n",
       "      <td>25</td>\n",
       "      <td>195.0</td>\n",
       "      <td>0.0</td>\n",
       "      <td>1.0</td>\n",
       "      <td>90</td>\n",
       "      <td>SVM</td>\n",
       "      <td>1</td>\n",
       "      <td>6.495981</td>\n",
       "      <td>35.556120</td>\n",
       "      <td>135505800</td>\n",
       "      <td>Africa</td>\n",
       "      <td>0.636364</td>\n",
       "      <td>0.086151</td>\n",
       "    </tr>\n",
       "    <tr>\n",
       "      <th>2</th>\n",
       "      <td>11.224490</td>\n",
       "      <td>0.000000</td>\n",
       "      <td>0.000000</td>\n",
       "      <td>11.224490</td>\n",
       "      <td>0.0</td>\n",
       "      <td>0</td>\n",
       "      <td>22</td>\n",
       "      <td>0.0</td>\n",
       "      <td>0.0</td>\n",
       "      <td>22.0</td>\n",
       "      <td>10</td>\n",
       "      <td>SVM</td>\n",
       "      <td>2</td>\n",
       "      <td>8.384319</td>\n",
       "      <td>38.972473</td>\n",
       "      <td>135505801</td>\n",
       "      <td>Africa</td>\n",
       "      <td>0.307692</td>\n",
       "      <td>0.053171</td>\n",
       "    </tr>\n",
       "    <tr>\n",
       "      <th>3</th>\n",
       "      <td>3.061224</td>\n",
       "      <td>100.000000</td>\n",
       "      <td>0.059406</td>\n",
       "      <td>96.938776</td>\n",
       "      <td>6.0</td>\n",
       "      <td>190</td>\n",
       "      <td>0</td>\n",
       "      <td>6.0</td>\n",
       "      <td>162.0</td>\n",
       "      <td>0.0</td>\n",
       "      <td>0</td>\n",
       "      <td>SVM</td>\n",
       "      <td>3</td>\n",
       "      <td>7.217695</td>\n",
       "      <td>33.701621</td>\n",
       "      <td>135505803</td>\n",
       "      <td>Africa</td>\n",
       "      <td>0.688525</td>\n",
       "      <td>0.041682</td>\n",
       "    </tr>\n",
       "    <tr>\n",
       "      <th>4</th>\n",
       "      <td>0.000000</td>\n",
       "      <td>0.000000</td>\n",
       "      <td>0.000000</td>\n",
       "      <td>0.000000</td>\n",
       "      <td>0.0</td>\n",
       "      <td>0</td>\n",
       "      <td>0</td>\n",
       "      <td>0.0</td>\n",
       "      <td>0.0</td>\n",
       "      <td>0.0</td>\n",
       "      <td>0</td>\n",
       "      <td>SVM</td>\n",
       "      <td>4</td>\n",
       "      <td>9.565499</td>\n",
       "      <td>40.256333</td>\n",
       "      <td>135505804</td>\n",
       "      <td>Africa</td>\n",
       "      <td>0.240000</td>\n",
       "      <td>0.048161</td>\n",
       "    </tr>\n",
       "  </tbody>\n",
       "</table>\n",
       "</div>"
      ],
      "text/plain": [
       "         true        pred   f1_hard      error     tp   fp  fn  tp_soft  \\\n",
       "0   29.081633   41.836735  0.661871  12.755102   46.0   36  11     55.0   \n",
       "1  100.000000   87.244898  0.931880  12.755102  171.0    0  25    195.0   \n",
       "2   11.224490    0.000000  0.000000  11.224490    0.0    0  22      0.0   \n",
       "3    3.061224  100.000000  0.059406  96.938776    6.0  190   0      6.0   \n",
       "4    0.000000    0.000000  0.000000   0.000000    0.0    0   0      0.0   \n",
       "\n",
       "   fp_soft  fn_soft  group model  Unnamed: 0      lats      longs         id  \\\n",
       "0      9.0      2.0     20   SVM           0  6.552393  37.070625  135505799   \n",
       "1      0.0      1.0     90   SVM           1  6.495981  35.556120  135505800   \n",
       "2      0.0     22.0     10   SVM           2  8.384319  38.972473  135505801   \n",
       "3    162.0      0.0      0   SVM           3  7.217695  33.701621  135505803   \n",
       "4      0.0      0.0      0   SVM           4  9.565499  40.256333  135505804   \n",
       "\n",
       "  CONTINENT    clouds    slopes  \n",
       "0    Africa  0.552239  0.223983  \n",
       "1    Africa  0.636364  0.086151  \n",
       "2    Africa  0.307692  0.053171  \n",
       "3    Africa  0.688525  0.041682  \n",
       "4    Africa  0.240000  0.048161  "
      ]
     },
     "execution_count": 31,
     "metadata": {},
     "output_type": "execute_result"
    }
   ],
   "source": [
    "proposed = pd.read_csv(\"../../data/metrics/SVM-sample.csv\")\n",
    "proposed = proposed.drop(['Unnamed: 0'], axis = 1)\n",
    "proposed = proposed.join(continents, how = 'inner')\n",
    "proposed.head(5)\n",
    "\n"
   ]
  },
  {
   "cell_type": "code",
   "execution_count": 32,
   "metadata": {},
   "outputs": [
    {
     "name": "stdout",
     "output_type": "stream",
     "text": [
      "Africa 0.791926307233812 0.7892381870781099\n",
      "Asia 0.8606987554355976 0.8400409776086638\n",
      "Australia 0.9462399495506858 0.6181256436663234\n",
      "Europe 0.721084107392798 0.740397177946172\n",
      "North America 0.8756900726392252 0.920863675714213\n",
      "South America 0.7171118810774562 0.8471085291787694\n"
     ]
    }
   ],
   "source": [
    "sums = proposed.groupby(\"CONTINENT\").sum()\n",
    "for i in ['Africa', 'Asia', \"Australia\", \"Europe\", \"North America\", \"South America\"]:\n",
    "    tp = sums[sums.index == i]['tp_soft']\n",
    "    fp = sums[sums.index == i]['fp_soft']\n",
    "    fn = sums[sums.index == i]['fn_soft']\n",
    "    precision = tp / (tp + fp)\n",
    "    recall = tp / (tp + fn)\n",
    "    print(i, float(precision), float(recall))"
   ]
  },
  {
   "cell_type": "code",
   "execution_count": 33,
   "metadata": {},
   "outputs": [
    {
     "name": "stdout",
     "output_type": "stream",
     "text": [
      "Below 0.75 cloud:  0.8171858658940113 0.7938971984409874 17.674927113702623 170128\n"
     ]
    }
   ],
   "source": [
    "tp = proposed[proposed['clouds'] < 0.75].sum()['tp_soft']\n",
    "fp = proposed[proposed['clouds'] < 0.75].sum()['fp_soft']\n",
    "fn = proposed[proposed['clouds'] < 0.75].sum()['fn_soft']\n",
    "error = proposed[proposed['clouds'] < 0.75].mean()['error']\n",
    "count = proposed[proposed['clouds'] < 0.75].count()['error'] * 196\n",
    "\n",
    "\n",
    "\n",
    "precision = tp / (tp + fp)\n",
    "recall = tp / (tp + fn)\n",
    "print(\"Below 0.75 cloud: \", precision, recall, error, count)"
   ]
  },
  {
   "cell_type": "code",
   "execution_count": 34,
   "metadata": {},
   "outputs": [
    {
     "name": "stdout",
     "output_type": "stream",
     "text": [
      "Above 0.75 cloud:  0.8247766711161311 0.8586317477284875 16.79114198871038 46060\n"
     ]
    }
   ],
   "source": [
    "tp = proposed[proposed['clouds'] >= 0.75].sum()['tp_soft']\n",
    "fp = proposed[proposed['clouds'] >= 0.75].sum()['fp_soft']\n",
    "fn = proposed[proposed['clouds'] >= 0.75].sum()['fn_soft']\n",
    "error = proposed[proposed['clouds'] >= 0.75].mean()['error']\n",
    "count = proposed[proposed['clouds'] >= 0.75].count()['error'] * 196\n",
    "\n",
    "\n",
    "\n",
    "precision = tp / (tp + fp)\n",
    "recall = tp / (tp + fn)\n",
    "print(\"Above 0.75 cloud: \", precision, recall, error, count)"
   ]
  },
  {
   "cell_type": "code",
   "execution_count": 35,
   "metadata": {},
   "outputs": [
    {
     "name": "stdout",
     "output_type": "stream",
     "text": [
      "Below 20%:  0.13721286370597244 0.3940193491644679 12.968192370326738 115444\n"
     ]
    }
   ],
   "source": [
    "tp = proposed[proposed['true'] < 20].sum()['tp_soft']\n",
    "fp = proposed[proposed['true'] < 20].sum()['fp_soft']\n",
    "fn = proposed[proposed['true'] < 20].sum()['fn_soft']\n",
    "error = proposed[proposed['true'] < 20].mean()['error']\n",
    "count = proposed[proposed['true'] < 20].count()['error'] * 196\n",
    "\n",
    "\n",
    "\n",
    "precision = tp / (tp + fp)\n",
    "recall = tp / (tp + fn)\n",
    "print(\"Below 20%: \", precision, recall, error, count)"
   ]
  },
  {
   "cell_type": "code",
   "execution_count": 36,
   "metadata": {},
   "outputs": [
    {
     "name": "stdout",
     "output_type": "stream",
     "text": [
      "Between 20 and 40%:  0.7213085764809902 0.6640078137717728 26.205936920222637 21560\n"
     ]
    }
   ],
   "source": [
    "tp = proposed[proposed['true'].between(20, 40)].sum()['tp_soft']\n",
    "fp = proposed[proposed['true'].between(20, 40)].sum()['fp_soft']\n",
    "fn = proposed[proposed['true'].between(20, 40)].sum()['fn_soft']\n",
    "\n",
    "error = proposed[proposed['true'].between(20, 40)].mean()['error']\n",
    "count = proposed[proposed['true'].between(20, 40)].count()['error'] * 196\n",
    "\n",
    "\n",
    "\n",
    "precision = tp / (tp + fp)\n",
    "recall = tp / (tp + fn)\n",
    "print(\"Between 20 and 40%: \", precision, recall, error, count)"
   ]
  },
  {
   "cell_type": "code",
   "execution_count": 37,
   "metadata": {},
   "outputs": [
    {
     "name": "stdout",
     "output_type": "stream",
     "text": [
      "Between 20 and 40%:  0.8595428794686463 0.7365249414127888 27.868852459016395 11956\n"
     ]
    }
   ],
   "source": [
    "tp = proposed[proposed['true'].between(40, 60)].sum()['tp_soft']\n",
    "fp = proposed[proposed['true'].between(40, 60)].sum()['fp_soft']\n",
    "fn = proposed[proposed['true'].between(40, 60)].sum()['fn_soft']\n",
    "\n",
    "error = proposed[proposed['true'].between(40, 60)].mean()['error']\n",
    "count = proposed[proposed['true'].between(40, 60)].count()['error'] * 196\n",
    "\n",
    "\n",
    "\n",
    "precision = tp / (tp + fp)\n",
    "recall = tp / (tp + fn)\n",
    "print(\"Between 20 and 40%: \", precision, recall, error, count)"
   ]
  },
  {
   "cell_type": "code",
   "execution_count": 38,
   "metadata": {},
   "outputs": [
    {
     "name": "stdout",
     "output_type": "stream",
     "text": [
      "Greater than 60%:  0.9904948954067926 0.8610730795870045 20.603022550127925 67228\n"
     ]
    }
   ],
   "source": [
    "tp = proposed[proposed['true'] >= 60].sum()['tp_soft']\n",
    "fp = proposed[proposed['true'] >= 60].sum()['fp_soft']\n",
    "fn = proposed[proposed['true'] >= 60].sum()['fn_soft']\n",
    "error = proposed[proposed['true'] >= 60].mean()['error']\n",
    "count = proposed[proposed['true'] >= 60].count()['error'] * 196\n",
    "\n",
    "\n",
    "\n",
    "precision = tp / (tp + fp)\n",
    "recall = tp / (tp + fn)\n",
    "print(\"Greater than 60%: \", precision, recall, error, count)"
   ]
  },
  {
   "cell_type": "code",
   "execution_count": 41,
   "metadata": {},
   "outputs": [
    {
     "name": "stdout",
     "output_type": "stream",
     "text": [
      "Below 0.1 slope:  0.8046831183398766 0.7727731771359322 17.636621315192745 176400\n"
     ]
    }
   ],
   "source": [
    "tp = proposed[proposed['slopes'] < 0.1].sum()['tp_soft']\n",
    "fp = proposed[proposed['slopes'] < 0.1].sum()['fp_soft']\n",
    "fn = proposed[proposed['slopes'] < 0.1].sum()['fn_soft']\n",
    "error = proposed[proposed['slopes'] < 0.1].mean()['error']\n",
    "count = proposed[proposed['slopes'] < 0.1].count()['error'] * 196\n",
    "\n",
    "\n",
    "\n",
    "precision = tp / (tp + fp)\n",
    "recall = tp / (tp + fn)\n",
    "print(\"Below 0.1 slope: \", precision, recall, error, count)"
   ]
  },
  {
   "cell_type": "code",
   "execution_count": 40,
   "metadata": {},
   "outputs": [
    {
     "name": "stdout",
     "output_type": "stream",
     "text": [
      "Above 0.1 slope:  0.8586919851559112 0.9214418700868846 16.8216547702825 39788\n"
     ]
    }
   ],
   "source": [
    "tp = proposed[proposed['slopes'] >= 0.1].sum()['tp_soft']\n",
    "fp = proposed[proposed['slopes'] >= 0.1].sum()['fp_soft']\n",
    "fn = proposed[proposed['slopes'] >= 0.1].sum()['fn_soft']\n",
    "error = proposed[proposed['slopes'] >= 0.1].mean()['error']\n",
    "count = proposed[proposed['slopes'] >= 0.1].count()['error'] * 196\n",
    "\n",
    "\n",
    "\n",
    "precision = tp / (tp + fp)\n",
    "recall = tp / (tp + fn)\n",
    "print(\"Above 0.1 slope: \", precision, recall, error, count)"
   ]
  },
  {
   "cell_type": "code",
   "execution_count": null,
   "metadata": {},
   "outputs": [],
   "source": []
  }
 ],
 "metadata": {
  "kernelspec": {
   "display_name": "remote_sensing",
   "language": "python",
   "name": "remote_sensing"
  },
  "language_info": {
   "codemirror_mode": {
    "name": "ipython",
    "version": 3
   },
   "file_extension": ".py",
   "mimetype": "text/x-python",
   "name": "python",
   "nbconvert_exporter": "python",
   "pygments_lexer": "ipython3",
   "version": "3.6.8"
  }
 },
 "nbformat": 4,
 "nbformat_minor": 2
}
