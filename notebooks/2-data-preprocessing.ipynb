{
 "cells": [
  {
   "cell_type": "markdown",
   "metadata": {},
   "source": [
    "# Load, preprocess, and save train and test data\n",
    "# John Brandt\n",
    "# April 1, 2020\n",
    "\n",
    "- Fuse Sentinel 1/2 data\n",
    "- Reconstruct 2D-array from CEO output CSV by plot\n",
    "- Match sentinel data to CEO labels\n",
    "- Stack data_x, data_y, length\n",
    "- Save numpy arrays for data_x, data_y, length\n",
    "\n",
    "The notebook additionally contains some development code for:\n",
    "- Parameter selection in whittaker smoothing\n",
    "- Graphing plot locations on map\n",
    "\n",
    "# Package imports and source code"
   ]
  },
  {
   "cell_type": "code",
   "execution_count": 4,
   "metadata": {},
   "outputs": [],
   "source": [
    "from tqdm import tqdm_notebook, tnrange\n",
    "\n",
    "import pandas as pd\n",
    "import numpy as np\n",
    "from random import shuffle\n",
    "import pandas as pd\n",
    "import seaborn as sns\n",
    "import matplotlib.pyplot as plt\n",
    "%matplotlib inline\n",
    "import os\n",
    "import random\n",
    "import itertools\n",
    "\n",
    "os.environ['KMP_DUPLICATE_LIB_OK']='True'\n",
    "\n",
    "#!source ~/.bash_profile\n",
    "#!export PATH=\"/usr/lib/google-cloud-sdk/bin:$PATH\""
   ]
  },
  {
   "cell_type": "code",
   "execution_count": 5,
   "metadata": {},
   "outputs": [],
   "source": [
    "def reconstruct_images(plot_id):\n",
    "    '''Takes a plot ID and subsets the input pd.DataFrame to that plot ID\n",
    "       returns a (14, 14) array-like list with binary labels\n",
    "       \n",
    "        Parameters:\n",
    "          batch_ids (list):\n",
    "          batch_size (int):\n",
    "          \n",
    "         Returns:\n",
    "          x_batch (arr):\n",
    "          y_batch (arr):\n",
    "    '''\n",
    "    subs = df[df['PLOT_ID'] == plot_id]\n",
    "    rows = []\n",
    "    lats = reversed(sorted(subs['LAT'].unique()))\n",
    "    for i, val in enumerate(lats):\n",
    "        subs_lat = subs[subs['LAT'] == val]\n",
    "        subs_lat = subs_lat.sort_values('LON', axis = 0)\n",
    "        rows.append(list(subs_lat['TREE']))\n",
    "    return rows"
   ]
  },
  {
   "cell_type": "code",
   "execution_count": 6,
   "metadata": {},
   "outputs": [],
   "source": [
    "# Note, the data in data/new-data/train-s2/2019 and 2018/ is bad (missing / NA values)\n",
    "source = 'train'\n",
    "sentinel_1 = True\n",
    "s2_path = \"../data/{}-s2/\".format(source)\n",
    "s1_path = \"../data/{}-s1/\".format(source)\n",
    "csv_path = \"../data/{}-csv/\".format(source)\n",
    "output_path = \"../data/{}-processed/\".format(source)\n",
    "\n",
    "#s2_path = \"../data/train-s2/\"\n",
    "#s1_path = \"../data/train-s1/\"\n",
    "#csv_path = \"../data/train-csv/\"\n",
    "\n",
    "#s2_path = \"../data/project-val/sentinel-2/\"\n",
    "#s1_path = \"../data/project-val/sentinel-1/\"\n",
    "#csv_path = \"../data/project-val/\""
   ]
  },
  {
   "cell_type": "code",
   "execution_count": 7,
   "metadata": {},
   "outputs": [
    {
     "data": {
      "text/plain": [
       "'../data/train-csv/'"
      ]
     },
     "execution_count": 7,
     "metadata": {},
     "output_type": "execute_result"
    }
   ],
   "source": [
    "csv_path"
   ]
  },
  {
   "cell_type": "code",
   "execution_count": 8,
   "metadata": {},
   "outputs": [],
   "source": [
    "# Regional models\n",
    "east_africa = ['ethiopia', 'africa-east', 'hyperarid', 'kenya',\n",
    "               'malawi', 'rwanda', 'subplot', 'sudan', 'africaeast', 'makueni']\n",
    "\n",
    "west_africa = ['africa-west', 'ghana', 'niger', 'koure', \n",
    "               'hyperarid', 'africawest', 'cameroon', 'ethiopia', 'africawest'] \n",
    "\n",
    "asia = ['australia', 'asia', 'india', 'global']\n",
    "\n",
    "americas = ['brazil', 'elsalvador', 'honduras', \n",
    "            'lac', 'mexico', 'sa-', 'america']\n",
    "\n",
    "africa = east_africa + west_africa\n",
    "\n",
    "malawi = ['malawi', 'africaeast']\n",
    "nigercameroon = ['niger', 'koure', 'cameroon']\n",
    "\n",
    "globe = [x for x in os.listdir(csv_path)]\n",
    "\n",
    "region = east_africa"
   ]
  },
  {
   "cell_type": "code",
   "execution_count": 9,
   "metadata": {},
   "outputs": [],
   "source": [
    "verified_lu_change = [135703477, 136075784, 136089231, 136134581, 136134595, 136134787,\n",
    "       137532501, 137535072, 137535083, 137587676, 135191141, 135191227,\n",
    "       135191272, 135697462, 135697723, 135702981, 135703022, 135703057,\n",
    "       135703258, 135703288, 135704195, 135704222, 135704474, 135704510,\n",
    "       135704558, 135732286, 135780032, 135787072, 135787363, 135787380,\n",
    "       135787903, 135788087, 135809757, 136029535, 136029610, 136075882,\n",
    "       136134449, 136134537, 136134558, 136434718, 136434928, 136446295,\n",
    "       136446356, 136456479, 136456560, 136456588, 136457103, 136457117,\n",
    "       137517310, 137526963, 137532588, 137532613, 137535055, 137547467,\n",
    "       137547478, 137547498, 137587717, 135505800, 135505834, 135542550,\n",
    "       135702454, 135702495, 136077533, 136434987, 136434995, 136435043,\n",
    "       136435064, 136435124, 136752672, 136752771, 136752779, 136752885,\n",
    "       136752998, 136776870, 135191300, 135346081, 135654670, 135672801,\n",
    "       135680048, 135680131, 135680267, 135680293, 135697731, 135697750,\n",
    "       135698164, 135702833, 135703043, 135703066, 135703082, 135703150,\n",
    "       135704171, 135704230, 135704400, 135704410, 135704413, 135704433,\n",
    "       135704546, 135724890, 135724985, 135787455, 135787924, 136029704,\n",
    "       136089025, 136089169, 136134415, 136134697, 136434418, 136434513,\n",
    "       136434869, 136446291, 136446450, 136456646, 136457119, 137517272,\n",
    "       137517323, 137535067, 137535095, 137535131, 137535172, 137547517,\n",
    "       137547519, 137547530, 137587922, 135703457, 135703793, 135787012,\n",
    "       135787179, 135787198, 136029499, 136029524, 136029531, 136029573,\n",
    "       136029600, 136029642, 136029714, 136089012, 136089023, 136089058,\n",
    "       136089067, 136089088, 136089189, 136089259, 136134540, 137517058,\n",
    "       137517099, 137517118, 137517361, 137532494, 137532586, 137535140,\n",
    "       137547513, 137587761, 137588043, 137891126, 136077575, 136077600,\n",
    "       135703266, 135703558, 137532571, 137535093, 136029514, 136029689,\n",
    "       136075828, 136089079, 136134497, 136134692, 137532612, 137535181,\n",
    "       137587843, 136029514, 136029689, 136075828, 136089079, 136134497,\n",
    "       136134692, 137532612, 137535181, 137587843, 135703186, 135780106,\n",
    "       135787177, 136134740, 137526991, 137532549, 137588037, 137891125,\n",
    "       135191140, 135191173, 135191213, 135191220, 135191234, 135191243,\n",
    "       135191281, 135191304, 135191309, 135191314, 135191346, 135224767,\n",
    "       135224808, 135345887, 135345895, 135345936, 135346016, 135346019,\n",
    "       135346079, 135346094, 135542666, 135680238, 135680255, 135697473,\n",
    "       135697529, 135697602, 135697627, 135697783, 135702872, 135704096,\n",
    "       135704180, 135704226, 135704450, 135724981, 135787457, 135803842,\n",
    "       135809743, 135809761, 135809889, 135840870, 135840902, 135841010,\n",
    "       135841051, 135846908, 135847217, 136029501, 136029726, 136089139,\n",
    "       136134477, 136134482, 136434825, 136434827, 136434842, 136434893,\n",
    "       136434901, 136434930, 136456448, 136456966, 137517285, 137527052,\n",
    "       137891143, 135542391, 135702537, 136752753, 136752804, 136752859,\n",
    "       137862294, 135680221, 135680224, 135697631, 135697710, 135697726, \n",
    "       135698188, 135703084, 135703100, 135703146, 135703155, 135703166,\n",
    "       135703207, 135704553, 136134617, 136446452, 137517316, 135703204,\n",
    "       135703850, 135703880, 135703898, 135787029, 136029530, 136029746,\n",
    "       136075851, 136089034, 136089038, 136089089, 136089184, 136456539,\n",
    "       136456541, 136456580, 136456620, 136456641, 137517338, 137532624,\n",
    "       137535081, 137547534, 137588119, 135698162, 136776935, 136776898,\n",
    "       136134446, 136134502, 136456523, 136456525, 137587839, 136077593,\n",
    "       135703212, 135703279, 135703321, 135703786, 135787227, 136029538,\n",
    "       136029562, 136029661, 136029741, 136134418, 136134728, 136456454,\n",
    "       136456511, 136456606, 137517315, 137526984, 137535050, 137587704,\n",
    "       137587791, 138004137, 135191372, 135787932, \n",
    "       135780008, 135780027, 135787016, 136029515, 136029572, 136075916,\n",
    "       136089017, 136134405, 136134565, 136456467, 136456478, 136456534,\n",
    "       136456627, 137517351, 137535135, 137587687, 137891168, 138004139,\n",
    "       136434478, 135191163, 135191175, 135191200, 135191204, 135191226,\n",
    "       135224758, 135344169, 135344194, 135345939, 135346084, 135542619,\n",
    "       135546262, 135672788, 135672798, 135672814, 135702874, 135724903,\n",
    "       135724913, 135724914, 135724921, 135724963, 135724971, 135732254,\n",
    "       ]\n",
    "\n",
    "gain = [137891975, 137966730, 137966725, 137966729, 137587698, 137587772,\n",
    "        137587784, 137587786, 137891127, 137891978, 137966723, 137966724,\n",
    "        137966731, 137966732, 137966726, 137966727, 137966728, 137891964,\n",
    "        137891961, 137891968, 13789118, 138004137, 137966721, 137966722]"
   ]
  },
  {
   "cell_type": "code",
   "execution_count": 10,
   "metadata": {
    "scrolled": true
   },
   "outputs": [
    {
     "name": "stdout",
     "output_type": "stream",
     "text": [
      "kenya-makueni-train.csv\n",
      "kenya-makueni-train-2.csv\n",
      "africa-east-train.csv\n",
      "malawi-rumphi-train.csv\n",
      "kenya-train.csv\n",
      "ceo-makueni-fix-sample-data-2020-10-20.csv\n",
      "malawi-rumphi-small.csv\n",
      "rwanda-train.csv\n",
      "hyperarid-train.csv\n",
      "subplot4.csv\n",
      "kenya-farm-train-2.csv\n",
      "subplot.csv\n",
      "sudan-train.csv\n",
      "subplot2.csv\n",
      "subplot3.csv\n",
      "malawi-train.csv\n",
      "kenya-farm-train.csv\n"
     ]
    },
    {
     "name": "stderr",
     "output_type": "stream",
     "text": [
      "/Users/john.brandt/.local/lib/python3.6/site-packages/ipykernel_launcher.py:31: FutureWarning: Sorting because non-concatenation axis is not aligned. A future version\n",
      "of pandas will change to not sort by default.\n",
      "\n",
      "To accept the future behavior, pass 'sort=False'.\n",
      "\n",
      "To retain the current behavior and silence the warning, pass 'sort=True'.\n",
      "\n"
     ]
    }
   ],
   "source": [
    "# For either train or test data, loop through each plot and determine whether there is\n",
    "# labelled Y data for it -- returning one dataframe for the entire data set\n",
    "\n",
    "dfs = []\n",
    "for i in os.listdir(csv_path):\n",
    "    #if \".csv\" in i:\n",
    "     #   i in i:\n",
    "    if any([x in i for x in region]):\n",
    "        print(i)\n",
    "        df = pd.read_csv(csv_path + i).drop('IMAGERY_TITLE', axis = 1)\n",
    "        df['country'] = i.split(\".\")[0]\n",
    "        dfs.append(df)\n",
    "\n",
    "for i in range(len(dfs)):\n",
    "    if \"PL_PLOTID\" not in dfs[i].columns:\n",
    "        dfs[i]['PL_PLOTID'] = 0\n",
    "            #dfs[i] = dfs[i].drop(\"PL_PLOTID\", axis = 1)\n",
    "    if 'STACKINGPROFILEDG' in dfs[i].columns:\n",
    "        dfs[i] = dfs[i].drop('STACKINGPROFILEDG', axis = 1)\n",
    "    if 'IMAGERYYEARDG' in dfs[i].columns:\n",
    "        dfs[i] = dfs[i].drop('IMAGERYYEARDG', axis = 1)\n",
    "    if 'IMAGERYDATESECUREWATCH' in dfs[i].columns:\n",
    "        dfs[i] = dfs[i].drop('IMAGERYDATESECUREWATCH', axis = 1)\n",
    "    if 'IMAGERYENDDATESECUREWATCH' in dfs[i].columns:\n",
    "        dfs[i] = dfs[i].drop('IMAGERYENDDATESECUREWATCH', axis = 1)\n",
    "    if 'IMAGERYSTARTDATESECUREWATCH' in dfs[i].columns:\n",
    "        dfs[i] = dfs[i].drop('IMAGERYSTARTDATESECUREWATCH', axis = 1)\n",
    "    if 'IMAGERYFEATUREPROFILESECUREWATCH' in dfs[i].columns:\n",
    "        dfs[i] = dfs[i].drop('IMAGERYFEATUREPROFILESECUREWATCH', axis = 1)\n",
    "\n",
    "df = pd.concat(dfs, ignore_index = True)\n",
    "df = df[~pd.isna(df['TREE'])]\n",
    "#df = df.dropna(axis = 0)\n",
    "\n",
    "#existing = [int(x[:-4]) for x in os.listdir(s2_path) if \".DS\" not in x]\n",
    "\n",
    "#df = df[df['PLOT_ID'].isin(existing)]\n",
    "plot_ids = sorted(df['PLOT_ID'].unique())\n",
    "plot_ids_loaded = plot_ids"
   ]
  },
  {
   "cell_type": "code",
   "execution_count": 11,
   "metadata": {
    "scrolled": true
   },
   "outputs": [
    {
     "data": {
      "application/vnd.jupyter.widget-view+json": {
       "model_id": "cd590750ed4d473f847a8ffcde90dd2a",
       "version_major": 2,
       "version_minor": 0
      },
      "text/plain": [
       "HBox(children=(IntProgress(value=0, max=1519), HTML(value='')))"
      ]
     },
     "metadata": {},
     "output_type": "display_data"
    },
    {
     "name": "stdout",
     "output_type": "stream",
     "text": [
      "\n",
      "Finished data loading\n"
     ]
    }
   ],
   "source": [
    "# Initiate empty lists to store the X and Y data in\n",
    "data_x, data_y, lengths = [], [], []\n",
    "    \n",
    "    \n",
    "countries = {}\n",
    "count = 0\n",
    "to_remove = []\n",
    "plot_ids_loaded = []\n",
    "pl_plot_ids_loaded = []\n",
    "dataframe = pd.DataFrame({'plot_id': [''], 'lat': [0.325], 'long': [0.325]})\n",
    "# Iterate over each plot\n",
    "for i in tnrange(len(plot_ids)):\n",
    "    skip = True if sentinel_1 else False\n",
    "    # Load the sentinel imagery\n",
    "    if (str(plot_ids[i]) + \".npy\") in os.listdir(s2_path):\n",
    "        if plot_ids[i] not in verified_lu_change:# + gain:\n",
    "            country = df[df['PLOT_ID'] == plot_ids[i]]['country'].unique()\n",
    "            if str(country[0]) not in countries.keys():\n",
    "                countries[str(country[0])] = [count, count]\n",
    "            countries[str(country[0])][1] = count\n",
    "            x = np.load(s2_path + str(plot_ids[i]) + \".npy\")\n",
    "            #if np.sum(np.isnan(x)) > 0:\n",
    "            #    os.remove(s2_path + str(plot_ids[i]) + \".npy\")\n",
    "            #    print(\"Deleting:\", s2_path + str(plot_ids[i]) + \".npy\")\n",
    "            if sentinel_1 and os.path.isfile(s1_path + str(plot_ids[i]) + \".npy\"):\n",
    "                skip = False\n",
    "                s1 = np.load(s1_path + str(plot_ids[i]) + \".npy\")\n",
    "                x = np.concatenate([x, s1], axis = -1)\n",
    "            count += 1\n",
    "        y = reconstruct_images(plot_ids[i])\n",
    "        if not skip:\n",
    "            long = np.mean(df[df['PLOT_ID'] == plot_ids[i]]['LON'])\n",
    "            lat = np.mean(df[df['PLOT_ID'] == plot_ids[i]]['LAT'])\n",
    "            dataframe = dataframe.append({'plot_id': str(plot_ids[i]), 'lat': lat, 'long': long}, ignore_index = True)\n",
    "            dataframe.append([plot_ids[i], lat, long])\n",
    "            plot_ids_loaded.append(str(plot_ids[i]))\n",
    "            lengths.append(x.shape[0])\n",
    "            data_x.append(x)\n",
    "            data_y.append(y)\n",
    "print(\"Finished data loading\")\n",
    "\n",
    "data_x = np.stack(data_x)\n",
    "data_x = np.float32(data_x)\n",
    "data_y = np.stack(data_y)\n",
    "lengths = np.stack(lengths)"
   ]
  },
  {
   "cell_type": "code",
   "execution_count": 12,
   "metadata": {},
   "outputs": [
    {
     "name": "stdout",
     "output_type": "stream",
     "text": [
      "{'subplot': [0, 178], 'subplot2': [179, 311], 'subplot3': [312, 471], 'subplot4': [472, 652], 'rwanda-train': [653, 678], 'kenya-train': [679, 781], 'sudan-train': [782, 804], 'malawi-train': [805, 842], 'kenya-farm-train': [843, 849], 'kenya-farm-train-2': [850, 858], 'malawi-rumphi-train': [859, 905], 'malawi-rumphi-small': [906, 1048], 'kenya-makueni-train': [1049, 1079], 'africa-east-train': [1080, 1200], 'hyperarid-train': [1201, 1376], 'kenya-makueni-train-2': [1377, 1436], 'ceo-makueni-fix-sample-data-2020-10-20': [1437, 1453]}\n"
     ]
    }
   ],
   "source": [
    "print(countries)"
   ]
  },
  {
   "cell_type": "code",
   "execution_count": 13,
   "metadata": {},
   "outputs": [],
   "source": [
    "import hickle as hkl\n",
    "if source == 'train':\n",
    "    #hkl.dump(data_x, \"../tile_data/processed/data_x_l2a_processed.hkl\", mode='w', compression='gzip')\n",
    "    #hkl.dump(data_y, \"../tile_data/processed/data_y_l2a_processed.hkl\", mode='w', compression='gzip')\n",
    "    #hkl.dump(lengths, \"../tile_data/processed/length_l2a_processed.hkl\", mode='w', compression='gzip')\n",
    "    np.save(\"../tile_data/processed/data_x_l2a_processed.npy\", data_x)\n",
    "    np.save(\"../tile_data/processed/data_y_l2a_processed.npy\", np.array(data_y))\n",
    "    np.save(\"../tile_data/processed/length_l2a_processed.npy\", np.array(lengths))\n",
    "if source == 'test' or source == \"project\":\n",
    "    print(\"Writing test data\")\n",
    "    np.save(\"../tile_data/processed/test_x_l2a_processed.npy\", data_x)\n",
    "    np.save(\"../tile_data/processed/test_y_l2a_processed.npy\", data_y)\n",
    "    np.save(\"../tile_data/processed/test_length_l2a_processed.npy\", lengths)"
   ]
  },
  {
   "cell_type": "markdown",
   "metadata": {},
   "source": [
    "## Extraction of lat and longs for training / testing data"
   ]
  },
  {
   "cell_type": "code",
   "execution_count": null,
   "metadata": {},
   "outputs": [],
   "source": [
    "lats = []\n",
    "longs = []\n",
    "plot_ids = []\n",
    "df = pd.read_csv(\"../data/science-2017-test.csv\")\n",
    "df = df.sample(frac=1, random_state = 5)\n",
    "df['PLOT_ID'] = range(0, len(df), 1)\n",
    "df['group'] = df['tree_cover'] * 100\n",
    "print(np.unique(df['group']))\n",
    "df['group'] = df['group'].astype(int)\n",
    "print(np.unique(df['group']))\n",
    "for i in range(0, len(df), 100):\n",
    "    lat = df['location_y'][i]\n",
    "    lon = df['location_x'][i]\n",
    "    lats.append(lat)\n",
    "    longs.append(lon)\n",
    "    plot_ids.append(i)"
   ]
  },
  {
   "cell_type": "code",
   "execution_count": 25,
   "metadata": {},
   "outputs": [
    {
     "name": "stdout",
     "output_type": "stream",
     "text": [
      "(-121.31806300493471, 156.60271959506528, -54.427197440476576, 59.66233807380722)\n",
      "(4231,)\n"
     ]
    }
   ],
   "source": [
    "lats = []\n",
    "longs = []\n",
    "for i in plot_ids:\n",
    "    subs = df[df['PLOT_ID'] == i]\n",
    "    lat = float(subs['LAT'].head(1))\n",
    "    lon = float(subs['LON'].head(1))\n",
    "   # print(subs['LAT'])\n",
    "    #if lon > region[0] and lon < region[1]:\n",
    "        #if lat > region[2] and lat < region[3]:\n",
    "    lats.append(lat)\n",
    "    longs.append(lon)\n",
    "    \n",
    "lats = np.array(lats)\n",
    "longs = np.array(longs)\n",
    "    \n",
    "BBox = ((longs.min(),   longs.max(),      \n",
    "         lats.min(), lats.max()))\n",
    "\n",
    "print(BBox)\n",
    "print(lats.shape)"
   ]
  },
  {
   "cell_type": "code",
   "execution_count": 26,
   "metadata": {},
   "outputs": [],
   "source": [
    "#np.save(\"../data/metrics/plotids.npy\", plot_ids_loaded)\n",
    "testing_latlongs = pd.DataFrame({'lats':lats,'longs':longs, 'id':plot_ids})\n",
    "testing_latlongs.to_csv(\"../data/latlongs/training_plots.csv\", index = False)"
   ]
  },
  {
   "cell_type": "code",
   "execution_count": 76,
   "metadata": {},
   "outputs": [],
   "source": [
    "to_remove = [24, 35, 55, 57, 73, 174, 247,453, 477, 543, 648,\n",
    "            662, 730, 834, 839, 848, 870, 878, 883, 884, 888, \n",
    "            906, 910, 932, 1141, 1368]"
   ]
  },
  {
   "cell_type": "markdown",
   "metadata": {},
   "source": [
    "# Validation section (compare with predictions)"
   ]
  },
  {
   "cell_type": "code",
   "execution_count": 75,
   "metadata": {
    "scrolled": true
   },
   "outputs": [
    {
     "data": {
      "text/plain": [
       "(-14.104538929729538, -75.68306269)"
      ]
     },
     "execution_count": 75,
     "metadata": {},
     "output_type": "execute_result"
    }
   ],
   "source": [
    "#to_remove = [148, 465, 699, 1072, 1299, 610, 707, 778, 1151, 1160 ]\n",
    "#np.array([val for x, val in enumerate(np.array(plot_ids_loaded).astype(int)) if x in to_remove] )\n",
    "location = 1368 + 1\n",
    "dataframe.loc[location]['lat'], dataframe.loc[location]['long']"
   ]
  },
  {
   "cell_type": "code",
   "execution_count": 77,
   "metadata": {},
   "outputs": [
    {
     "data": {
      "text/plain": [
       "array([135191163, 135191175, 135191200, 135191204, 135191226, 135191372,\n",
       "       135224758, 135344169, 135344194, 135345939, 135346084, 135542619,\n",
       "       135546262, 135672788, 135672798, 135672814, 135702874, 135724903,\n",
       "       135724913, 135724914, 135724921, 135724963, 135724971, 135732254,\n",
       "       135787932, 136434478])"
      ]
     },
     "execution_count": 77,
     "metadata": {},
     "output_type": "execute_result"
    }
   ],
   "source": [
    "np.array([val for x, val in enumerate(np.array(plot_ids_loaded).astype(int)) if x in to_remove] )"
   ]
  },
  {
   "cell_type": "code",
   "execution_count": 19,
   "metadata": {},
   "outputs": [
    {
     "data": {
      "text/plain": [
       "1399"
      ]
     },
     "execution_count": 19,
     "metadata": {},
     "output_type": "execute_result"
    }
   ],
   "source": [
    "len(plot_ids_loaded)"
   ]
  },
  {
   "cell_type": "code",
   "execution_count": null,
   "metadata": {},
   "outputs": [],
   "source": []
  }
 ],
 "metadata": {
  "kernelspec": {
   "display_name": "remote_sensing",
   "language": "python",
   "name": "remote_sensing"
  },
  "language_info": {
   "codemirror_mode": {
    "name": "ipython",
    "version": 3
   },
   "file_extension": ".py",
   "mimetype": "text/x-python",
   "name": "python",
   "nbconvert_exporter": "python",
   "pygments_lexer": "ipython3",
   "version": "3.6.8"
  }
 },
 "nbformat": 4,
 "nbformat_minor": 2
}
