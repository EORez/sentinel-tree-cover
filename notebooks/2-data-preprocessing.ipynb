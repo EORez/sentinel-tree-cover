{
 "cells": [
  {
   "cell_type": "markdown",
   "metadata": {},
   "source": [
    "# Load, preprocess, and save train and test data\n",
    "# John Brandt\n",
    "# April 1, 2020\n",
    "\n",
    "- Fuse Sentinel 1/2 data\n",
    "- Reconstruct 2D-array from CEO output CSV by plot\n",
    "- Match sentinel data to CEO labels\n",
    "- Stack data_x, data_y, length\n",
    "- Save numpy arrays for data_x, data_y, length\n",
    "\n",
    "The notebook additionally contains some development code for:\n",
    "- Parameter selection in whittaker smoothing\n",
    "- Graphing plot locations on map\n",
    "\n",
    "# Package imports and source code"
   ]
  },
  {
   "cell_type": "code",
   "execution_count": 1,
   "metadata": {},
   "outputs": [],
   "source": [
    "from tqdm import tqdm_notebook, tnrange\n",
    "\n",
    "import pandas as pd\n",
    "import numpy as np\n",
    "from random import shuffle\n",
    "import pandas as pd\n",
    "import seaborn as sns\n",
    "import matplotlib.pyplot as plt\n",
    "%matplotlib inline\n",
    "import os\n",
    "import random\n",
    "import itertools\n",
    "\n",
    "os.environ['KMP_DUPLICATE_LIB_OK']='True'\n",
    "\n",
    "#!source ~/.bash_profile\n",
    "#!export PATH=\"/usr/lib/google-cloud-sdk/bin:$PATH\""
   ]
  },
  {
   "cell_type": "code",
   "execution_count": 2,
   "metadata": {},
   "outputs": [],
   "source": [
    "%run ../src/preprocessing/slope.py"
   ]
  },
  {
   "cell_type": "code",
   "execution_count": 3,
   "metadata": {},
   "outputs": [],
   "source": [
    "def reconstruct_images(plot_id):\n",
    "    '''Takes a plot ID and subsets the input pd.DataFrame to that plot ID\n",
    "       returns a (14, 14) array-like list with binary labels\n",
    "       \n",
    "        Parameters:\n",
    "          batch_ids (list):\n",
    "          batch_size (int):\n",
    "          \n",
    "         Returns:\n",
    "          x_batch (arr):\n",
    "          y_batch (arr):\n",
    "    '''\n",
    "    subs = df[df['PLOT_ID'] == plot_id]\n",
    "    rows = []\n",
    "    lats = reversed(sorted(subs['LAT'].unique()))\n",
    "    for i, val in enumerate(lats):\n",
    "        subs_lat = subs[subs['LAT'] == val]\n",
    "        subs_lat = subs_lat.sort_values('LON', axis = 0)\n",
    "        rows.append(list(subs_lat['TREE']))\n",
    "    return rows"
   ]
  },
  {
   "cell_type": "code",
   "execution_count": 5,
   "metadata": {},
   "outputs": [],
   "source": [
    "# Note, the data in data/new-data/train-s2/2019 and 2018/ is bad (missing / NA values)\n",
    "source = 'train'\n",
    "sentinel_1 = True\n",
    "s2_path = \"../data/{}-s2-24/\".format(source)\n",
    "s1_path = \"../data/{}-s1-new/\".format(source)\n",
    "csv_path = \"../data/{}-csv/\".format(source)\n",
    "output_path = \"../data/{}-processed/\".format(source)\n",
    "dem_path = \"../data/{}-dem/\".format(source)\n",
    "\n",
    "#s2_path = \"../data/train-s2/\"\n",
    "#s1_path = \"../data/train-s1/\"\n",
    "#csv_path = \"../data/train-csv/\"\n",
    "\n",
    "#s2_path = \"../data/project-val/sentinel-2/\"\n",
    "#s1_path = \"../data/project-val/sentinel-1/\"\n",
    "#csv_path = \"../data/project-val/\""
   ]
  },
  {
   "cell_type": "code",
   "execution_count": 6,
   "metadata": {},
   "outputs": [
    {
     "data": {
      "text/plain": [
       "'../data/test-csv/'"
      ]
     },
     "execution_count": 6,
     "metadata": {},
     "output_type": "execute_result"
    }
   ],
   "source": [
    "csv_path"
   ]
  },
  {
   "cell_type": "code",
   "execution_count": 7,
   "metadata": {},
   "outputs": [],
   "source": [
    "# Regional models\n",
    "east_africa = ['ethiopia', 'africa-east', 'hyperarid', 'kenya',\n",
    "               'malawi', 'rwanda', 'subplot', 'sudan', 'africaeast', 'makueni']\n",
    "\n",
    "west_africa = ['africa-west', 'ghana', 'niger', 'koure', \n",
    "               'hyperarid', 'africawest', 'cameroon', 'ethiopia', 'africawest'] \n",
    "\n",
    "asia = ['australia', 'asia', 'india', 'global']\n",
    "\n",
    "americas = ['brazil', 'elsalvador', 'honduras', \n",
    "            'lac', 'mexico', 'sa-', 'america']\n",
    "\n",
    "africa = east_africa + west_africa\n",
    "\n",
    "malawi = ['malawi', 'africaeast']\n",
    "nigercameroon = ['niger', 'koure', 'cameroon']\n",
    "\n",
    "globe = [x for x in os.listdir(csv_path)]\n",
    "\n",
    "region = east_africa"
   ]
  },
  {
   "cell_type": "code",
   "execution_count": 8,
   "metadata": {},
   "outputs": [
    {
     "data": {
      "text/plain": [
       "869"
      ]
     },
     "execution_count": 8,
     "metadata": {},
     "output_type": "execute_result"
    }
   ],
   "source": [
    "verified_lu_change = np.load(\"bad_plot_ids.npy\")\n",
    "len(verified_lu_change)"
   ]
  },
  {
   "cell_type": "code",
   "execution_count": 9,
   "metadata": {},
   "outputs": [],
   "source": [
    "verified_lu_change = np.concatenate([verified_lu_change, \n",
    "                     np.array([135224891, 135546356, 135680269, 135680839, 135703889,\n",
    "                               135787648,135668726, 135703524, 135787163, \n",
    "                               135809852, 136434754, 136456558, 137535105, 137966721, 137587722\n",
    "                     ])])"
   ]
  },
  {
   "cell_type": "code",
   "execution_count": 10,
   "metadata": {},
   "outputs": [],
   "source": [
    "to_remove = [136075828,136075843,\n",
    "    136075848,136075851,136075916,136089038,136134748,136134754,136434928,\n",
    "    137517233,137517315, 137517316,137517354,137532561, 137587717,137588042,\n",
    "    135542627, 135702929, 135703288, 135732437, 136089184, 136434768,\n",
    "    136434883, 136456523, 136456966, 136457074, 136457124, 136457133,\n",
    "    137547498, 137587676, 137587699, 137891110, 137891145]\n",
    "\n",
    "#verified_lu_change = [x for x in verified_lu_change if x not in to_remove]\n",
    "#len(verified_lu_change)"
   ]
  },
  {
   "cell_type": "code",
   "execution_count": 11,
   "metadata": {
    "scrolled": true
   },
   "outputs": [
    {
     "name": "stdout",
     "output_type": "stream",
     "text": [
      "africaoceana-test.csv\n",
      "india-test.csv\n",
      "lac-north-test.csv\n",
      "cameroon-test.csv\n",
      "europe-test.csv\n",
      "australia-test.csv\n",
      "eurasia-test.csv\n",
      "americas-test-random.csv\n",
      "ghana-test.csv\n",
      "kenya-planet-test.csv\n",
      "global-test.csv\n",
      "kenya-test.csv\n",
      "lac-south-test.csv\n",
      "ethiopia-test.csv\n",
      "lac-brazil-test.csv\n",
      "ghana-test-large.csv\n",
      "africaeast-test.csv\n",
      "africawest-test.csv\n"
     ]
    },
    {
     "name": "stderr",
     "output_type": "stream",
     "text": [
      "/Users/john.brandt/.local/lib/python3.6/site-packages/ipykernel_launcher.py:34: FutureWarning: Sorting because non-concatenation axis is not aligned. A future version\n",
      "of pandas will change to not sort by default.\n",
      "\n",
      "To accept the future behavior, pass 'sort=False'.\n",
      "\n",
      "To retain the current behavior and silence the warning, pass 'sort=True'.\n",
      "\n"
     ]
    }
   ],
   "source": [
    "# For either train or test data, loop through each plot and determine whether there is\n",
    "# labelled Y data for it -- returning one dataframe for the entire data set\n",
    "\n",
    "dfs = []\n",
    "for i in os.listdir(csv_path):\n",
    "    if \".csv\" in i:#\".csv\" in i:\n",
    "     #   i in i:\n",
    "    #if any([x in i for x in region]):\n",
    "        print(i)\n",
    "        df = pd.read_csv(csv_path + i)\n",
    "        df.columns = [x.upper() for x in df.columns]\n",
    "        df = df.drop('IMAGERY_TITLE', axis = 1)\n",
    "        df['country'] = i.split(\".\")[0]\n",
    "        dfs.append(df)\n",
    "\n",
    "for i in range(len(dfs)):\n",
    "    \n",
    "    if \"PL_PLOTID\" not in dfs[i].columns:\n",
    "        dfs[i]['PL_PLOTID'] = 0\n",
    "            #dfs[i] = dfs[i].drop(\"PL_PLOTID\", axis = 1)\n",
    "    if 'STACKINGPROFILEDG' in dfs[i].columns:\n",
    "        dfs[i] = dfs[i].drop('STACKINGPROFILEDG', axis = 1)\n",
    "    if 'IMAGERYYEARDG' in dfs[i].columns:\n",
    "        dfs[i] = dfs[i].drop('IMAGERYYEARDG', axis = 1)\n",
    "    if 'IMAGERYDATESECUREWATCH' in dfs[i].columns:\n",
    "        dfs[i] = dfs[i].drop('IMAGERYDATESECUREWATCH', axis = 1)\n",
    "    if 'IMAGERYENDDATESECUREWATCH' in dfs[i].columns:\n",
    "        dfs[i] = dfs[i].drop('IMAGERYENDDATESECUREWATCH', axis = 1)\n",
    "    if 'IMAGERYSTARTDATESECUREWATCH' in dfs[i].columns:\n",
    "        dfs[i] = dfs[i].drop('IMAGERYSTARTDATESECUREWATCH', axis = 1)\n",
    "    if 'IMAGERYFEATUREPROFILESECUREWATCH' in dfs[i].columns:\n",
    "        dfs[i] = dfs[i].drop('IMAGERYFEATUREPROFILESECUREWATCH', axis = 1)\n",
    "\n",
    "df = pd.concat(dfs, ignore_index = True)\n",
    "df = df[~pd.isna(df['TREE'])]\n",
    "#df = df.dropna(axis = 0)\n",
    "\n",
    "#existing = [int(x[:-4]) for x in os.listdir(s2_path) if \".DS\" not in x]\n",
    "\n",
    "#df = df[df['PLOT_ID'].isin(existing)]\n",
    "plot_ids = sorted(df['PLOT_ID'].unique())\n",
    "plot_ids_loaded = plot_ids"
   ]
  },
  {
   "cell_type": "code",
   "execution_count": 12,
   "metadata": {
    "scrolled": false
   },
   "outputs": [
    {
     "data": {
      "application/vnd.jupyter.widget-view+json": {
       "model_id": "f8159fbceae34ba4af9ebda0498d4125",
       "version_major": 2,
       "version_minor": 0
      },
      "text/plain": [
       "HBox(children=(IntProgress(value=0, max=1189), HTML(value='')))"
      ]
     },
     "metadata": {},
     "output_type": "display_data"
    },
    {
     "name": "stdout",
     "output_type": "stream",
     "text": [
      "../data/test-s1/135505834.npy\n",
      "../data/test-s1/135505845.npy\n",
      "../data/test-s1/135505888.npy\n",
      "../data/test-s1/135506012.npy\n"
     ]
    },
    {
     "ename": "KeyboardInterrupt",
     "evalue": "",
     "output_type": "error",
     "traceback": [
      "\u001b[0;31m---------------------------------------------------------------------------\u001b[0m",
      "\u001b[0;31mKeyboardInterrupt\u001b[0m                         Traceback (most recent call last)",
      "\u001b[0;32m<ipython-input-12-bf3dbc77b7bc>\u001b[0m in \u001b[0;36m<module>\u001b[0;34m\u001b[0m\n\u001b[1;32m     45\u001b[0m             \u001b[0;31m#x = np.concatenate([x, s1], axis = -1)\u001b[0m\u001b[0;34m\u001b[0m\u001b[0;34m\u001b[0m\u001b[0;34m\u001b[0m\u001b[0m\n\u001b[1;32m     46\u001b[0m             \u001b[0mcount\u001b[0m \u001b[0;34m+=\u001b[0m \u001b[0;36m1\u001b[0m\u001b[0;34m\u001b[0m\u001b[0;34m\u001b[0m\u001b[0m\n\u001b[0;32m---> 47\u001b[0;31m             \u001b[0my\u001b[0m \u001b[0;34m=\u001b[0m \u001b[0mreconstruct_images\u001b[0m\u001b[0;34m(\u001b[0m\u001b[0mplot_ids\u001b[0m\u001b[0;34m[\u001b[0m\u001b[0mi\u001b[0m\u001b[0;34m]\u001b[0m\u001b[0;34m)\u001b[0m\u001b[0;34m\u001b[0m\u001b[0;34m\u001b[0m\u001b[0m\n\u001b[0m\u001b[1;32m     48\u001b[0m             \u001b[0mlong\u001b[0m \u001b[0;34m=\u001b[0m \u001b[0mnp\u001b[0m\u001b[0;34m.\u001b[0m\u001b[0mmean\u001b[0m\u001b[0;34m(\u001b[0m\u001b[0mdf\u001b[0m\u001b[0;34m[\u001b[0m\u001b[0mdf\u001b[0m\u001b[0;34m[\u001b[0m\u001b[0;34m'PLOT_ID'\u001b[0m\u001b[0;34m]\u001b[0m \u001b[0;34m==\u001b[0m \u001b[0mplot_ids\u001b[0m\u001b[0;34m[\u001b[0m\u001b[0mi\u001b[0m\u001b[0;34m]\u001b[0m\u001b[0;34m]\u001b[0m\u001b[0;34m[\u001b[0m\u001b[0;34m'LON'\u001b[0m\u001b[0;34m]\u001b[0m\u001b[0;34m)\u001b[0m\u001b[0;34m\u001b[0m\u001b[0;34m\u001b[0m\u001b[0m\n\u001b[1;32m     49\u001b[0m             \u001b[0mlat\u001b[0m \u001b[0;34m=\u001b[0m \u001b[0mnp\u001b[0m\u001b[0;34m.\u001b[0m\u001b[0mmean\u001b[0m\u001b[0;34m(\u001b[0m\u001b[0mdf\u001b[0m\u001b[0;34m[\u001b[0m\u001b[0mdf\u001b[0m\u001b[0;34m[\u001b[0m\u001b[0;34m'PLOT_ID'\u001b[0m\u001b[0;34m]\u001b[0m \u001b[0;34m==\u001b[0m \u001b[0mplot_ids\u001b[0m\u001b[0;34m[\u001b[0m\u001b[0mi\u001b[0m\u001b[0;34m]\u001b[0m\u001b[0;34m]\u001b[0m\u001b[0;34m[\u001b[0m\u001b[0;34m'LAT'\u001b[0m\u001b[0;34m]\u001b[0m\u001b[0;34m)\u001b[0m\u001b[0;34m\u001b[0m\u001b[0;34m\u001b[0m\u001b[0m\n",
      "\u001b[0;32m<ipython-input-3-50f8c287ee8e>\u001b[0m in \u001b[0;36mreconstruct_images\u001b[0;34m(plot_id)\u001b[0m\n\u001b[1;32m     16\u001b[0m     \u001b[0;32mfor\u001b[0m \u001b[0mi\u001b[0m\u001b[0;34m,\u001b[0m \u001b[0mval\u001b[0m \u001b[0;32min\u001b[0m \u001b[0menumerate\u001b[0m\u001b[0;34m(\u001b[0m\u001b[0mlats\u001b[0m\u001b[0;34m)\u001b[0m\u001b[0;34m:\u001b[0m\u001b[0;34m\u001b[0m\u001b[0;34m\u001b[0m\u001b[0m\n\u001b[1;32m     17\u001b[0m         \u001b[0msubs_lat\u001b[0m \u001b[0;34m=\u001b[0m \u001b[0msubs\u001b[0m\u001b[0;34m[\u001b[0m\u001b[0msubs\u001b[0m\u001b[0;34m[\u001b[0m\u001b[0;34m'LAT'\u001b[0m\u001b[0;34m]\u001b[0m \u001b[0;34m==\u001b[0m \u001b[0mval\u001b[0m\u001b[0;34m]\u001b[0m\u001b[0;34m\u001b[0m\u001b[0;34m\u001b[0m\u001b[0m\n\u001b[0;32m---> 18\u001b[0;31m         \u001b[0msubs_lat\u001b[0m \u001b[0;34m=\u001b[0m \u001b[0msubs_lat\u001b[0m\u001b[0;34m.\u001b[0m\u001b[0msort_values\u001b[0m\u001b[0;34m(\u001b[0m\u001b[0;34m'LON'\u001b[0m\u001b[0;34m,\u001b[0m \u001b[0maxis\u001b[0m \u001b[0;34m=\u001b[0m \u001b[0;36m0\u001b[0m\u001b[0;34m)\u001b[0m\u001b[0;34m\u001b[0m\u001b[0;34m\u001b[0m\u001b[0m\n\u001b[0m\u001b[1;32m     19\u001b[0m         \u001b[0mrows\u001b[0m\u001b[0;34m.\u001b[0m\u001b[0mappend\u001b[0m\u001b[0;34m(\u001b[0m\u001b[0mlist\u001b[0m\u001b[0;34m(\u001b[0m\u001b[0msubs_lat\u001b[0m\u001b[0;34m[\u001b[0m\u001b[0;34m'TREE'\u001b[0m\u001b[0;34m]\u001b[0m\u001b[0;34m)\u001b[0m\u001b[0;34m)\u001b[0m\u001b[0;34m\u001b[0m\u001b[0;34m\u001b[0m\u001b[0m\n\u001b[1;32m     20\u001b[0m     \u001b[0;32mreturn\u001b[0m \u001b[0mrows\u001b[0m\u001b[0;34m\u001b[0m\u001b[0;34m\u001b[0m\u001b[0m\n",
      "\u001b[0;32m~/anaconda3/envs/remote_sensing/lib/python3.6/site-packages/pandas/core/frame.py\u001b[0m in \u001b[0;36msort_values\u001b[0;34m(self, by, axis, ascending, inplace, kind, na_position)\u001b[0m\n\u001b[1;32m   4727\u001b[0m         new_data = self._data.take(indexer,\n\u001b[1;32m   4728\u001b[0m                                    \u001b[0maxis\u001b[0m\u001b[0;34m=\u001b[0m\u001b[0mself\u001b[0m\u001b[0;34m.\u001b[0m\u001b[0m_get_block_manager_axis\u001b[0m\u001b[0;34m(\u001b[0m\u001b[0maxis\u001b[0m\u001b[0;34m)\u001b[0m\u001b[0;34m,\u001b[0m\u001b[0;34m\u001b[0m\u001b[0;34m\u001b[0m\u001b[0m\n\u001b[0;32m-> 4729\u001b[0;31m                                    verify=False)\n\u001b[0m\u001b[1;32m   4730\u001b[0m \u001b[0;34m\u001b[0m\u001b[0m\n\u001b[1;32m   4731\u001b[0m         \u001b[0;32mif\u001b[0m \u001b[0minplace\u001b[0m\u001b[0;34m:\u001b[0m\u001b[0;34m\u001b[0m\u001b[0;34m\u001b[0m\u001b[0m\n",
      "\u001b[0;32m~/anaconda3/envs/remote_sensing/lib/python3.6/site-packages/pandas/core/internals/managers.py\u001b[0m in \u001b[0;36mtake\u001b[0;34m(self, indexer, axis, verify, convert)\u001b[0m\n\u001b[1;32m   1339\u001b[0m         \u001b[0mn\u001b[0m \u001b[0;34m=\u001b[0m \u001b[0mself\u001b[0m\u001b[0;34m.\u001b[0m\u001b[0mshape\u001b[0m\u001b[0;34m[\u001b[0m\u001b[0maxis\u001b[0m\u001b[0;34m]\u001b[0m\u001b[0;34m\u001b[0m\u001b[0;34m\u001b[0m\u001b[0m\n\u001b[1;32m   1340\u001b[0m         \u001b[0;32mif\u001b[0m \u001b[0mconvert\u001b[0m\u001b[0;34m:\u001b[0m\u001b[0;34m\u001b[0m\u001b[0;34m\u001b[0m\u001b[0m\n\u001b[0;32m-> 1341\u001b[0;31m             \u001b[0mindexer\u001b[0m \u001b[0;34m=\u001b[0m \u001b[0mmaybe_convert_indices\u001b[0m\u001b[0;34m(\u001b[0m\u001b[0mindexer\u001b[0m\u001b[0;34m,\u001b[0m \u001b[0mn\u001b[0m\u001b[0;34m)\u001b[0m\u001b[0;34m\u001b[0m\u001b[0;34m\u001b[0m\u001b[0m\n\u001b[0m\u001b[1;32m   1342\u001b[0m \u001b[0;34m\u001b[0m\u001b[0m\n\u001b[1;32m   1343\u001b[0m         \u001b[0;32mif\u001b[0m \u001b[0mverify\u001b[0m\u001b[0;34m:\u001b[0m\u001b[0;34m\u001b[0m\u001b[0;34m\u001b[0m\u001b[0m\n",
      "\u001b[0;32m~/anaconda3/envs/remote_sensing/lib/python3.6/site-packages/pandas/core/indexing.py\u001b[0m in \u001b[0;36mmaybe_convert_indices\u001b[0;34m(indices, n)\u001b[0m\n\u001b[1;32m   2606\u001b[0m             \u001b[0;32mreturn\u001b[0m \u001b[0mnp\u001b[0m\u001b[0;34m.\u001b[0m\u001b[0mempty\u001b[0m\u001b[0;34m(\u001b[0m\u001b[0;36m0\u001b[0m\u001b[0;34m,\u001b[0m \u001b[0mdtype\u001b[0m\u001b[0;34m=\u001b[0m\u001b[0mnp\u001b[0m\u001b[0;34m.\u001b[0m\u001b[0mintp\u001b[0m\u001b[0;34m)\u001b[0m\u001b[0;34m\u001b[0m\u001b[0;34m\u001b[0m\u001b[0m\n\u001b[1;32m   2607\u001b[0m \u001b[0;34m\u001b[0m\u001b[0m\n\u001b[0;32m-> 2608\u001b[0;31m     \u001b[0mmask\u001b[0m \u001b[0;34m=\u001b[0m \u001b[0mindices\u001b[0m \u001b[0;34m<\u001b[0m \u001b[0;36m0\u001b[0m\u001b[0;34m\u001b[0m\u001b[0;34m\u001b[0m\u001b[0m\n\u001b[0m\u001b[1;32m   2609\u001b[0m     \u001b[0;32mif\u001b[0m \u001b[0mmask\u001b[0m\u001b[0;34m.\u001b[0m\u001b[0many\u001b[0m\u001b[0;34m(\u001b[0m\u001b[0;34m)\u001b[0m\u001b[0;34m:\u001b[0m\u001b[0;34m\u001b[0m\u001b[0;34m\u001b[0m\u001b[0m\n\u001b[1;32m   2610\u001b[0m         \u001b[0mindices\u001b[0m \u001b[0;34m=\u001b[0m \u001b[0mindices\u001b[0m\u001b[0;34m.\u001b[0m\u001b[0mcopy\u001b[0m\u001b[0;34m(\u001b[0m\u001b[0;34m)\u001b[0m\u001b[0;34m\u001b[0m\u001b[0;34m\u001b[0m\u001b[0m\n",
      "\u001b[0;31mKeyboardInterrupt\u001b[0m: "
     ]
    }
   ],
   "source": [
    "from scipy.ndimage import median_filter\n",
    "\n",
    "\n",
    "# Initiate empty lists to store the X and Y data in\n",
    "data_x, data_y, lengths = [], [], []\n",
    "    \n",
    "countries = {}\n",
    "count = 0\n",
    "to_remove = []\n",
    "plot_ids_loaded = []\n",
    "pl_plot_ids_loaded = []\n",
    "dataframe = pd.DataFrame({'plot_id': [''], 'lat': [0.325], 'long': [0.325]})\n",
    "\n",
    "sentinel_1_len = []\n",
    "\n",
    "# Iterate over each plot\n",
    "for i in tnrange(len(plot_ids)):\n",
    "    s1_i = f'{s1_path}{str(plot_ids[i])}.npy'\n",
    "    s2_i = f'{s2_path}{str(plot_ids[i])}.npy'\n",
    "    dem_i = f'{dem_path}{str(plot_ids[i])}.npy'\n",
    "    if not os.path.isfile(s1_i):\n",
    "        s1_i = f'../data/{source}-s1/{str(plot_ids[i])}.npy'\n",
    "        print(s1_i)\n",
    "    if (os.path.isfile(s1_i) and os.path.isfile(s2_i)):\n",
    "        if plot_ids[i] not in verified_lu_change:\n",
    "            country = df[df['PLOT_ID'] == plot_ids[i]]['country'].unique()\n",
    "            if str(country[0]) not in countries.keys():\n",
    "                countries[str(country[0])] = [count, count]\n",
    "\n",
    "            countries[str(country[0])][1] = count\n",
    "            x = np.load(s2_i)\n",
    "            #s1 = np.load(s1_i)\n",
    "            dem = np.load(dem_i)\n",
    "            dem =  median_filter(dem, size = 5)\n",
    "            dem = calcSlope(dem.reshape((1, 32+2, 32+2)),\n",
    "                              np.full((32+2, 32+2), 10),\n",
    "                              np.full((32+2, 32+2), 10), \n",
    "                              zScale = 1, minSlope = 0.02)\n",
    "            dem = dem / 90\n",
    "            dem = dem.reshape((32+2, 32+2, 1))\n",
    "            dem = dem[1:-1, 1:-1]\n",
    "            dem = median_filter(dem, 5)[4:-4, 4:-4]\n",
    "            dem = np.tile(dem.reshape((1, 24, 24)), (x.shape[0], 1, 1))\n",
    "            x[..., 10] = dem\n",
    "            #x = np.concatenate([x, s1], axis = -1)\n",
    "            count += 1\n",
    "            y = reconstruct_images(plot_ids[i])\n",
    "            long = np.mean(df[df['PLOT_ID'] == plot_ids[i]]['LON'])\n",
    "            lat = np.mean(df[df['PLOT_ID'] == plot_ids[i]]['LAT'])\n",
    "            dataframe = dataframe.append({'plot_id': str(plot_ids[i]), 'lat': lat, 'long': long}, ignore_index = True)\n",
    "            dataframe.append([plot_ids[i], lat, long])\n",
    "            plot_ids_loaded.append(str(plot_ids[i]))\n",
    "            lengths.append(x.shape[0])\n",
    "            data_x.append(x)\n",
    "            data_y.append(y)\n",
    "print(\"Finished data loading\")\n",
    "\n",
    "data_x = np.stack(data_x)\n",
    "data_x = np.float32(data_x)\n",
    "data_y = np.stack(data_y)\n",
    "lengths = np.stack(lengths)"
   ]
  },
  {
   "cell_type": "code",
   "execution_count": 22,
   "metadata": {},
   "outputs": [],
   "source": [
    "import hickle as hkl\n",
    "if source == 'train':\n",
    "    hkl.dump(data_x, \"../tile_data/processed/train_x.hkl\", mode='w', compression='gzip')\n",
    "    hkl.dump(data_y, \"../tile_data/processed/train_y.hkl\", mode='w', compression='gzip')\n",
    "    hkl.dump(lengths, \"../tile_data/processed/train_l.hkl\", mode='w', compression='gzip')\n",
    "    #np.save(\"../tile_data/processed/data_x_l2a_processed.npy\", data_x)\n",
    "    #np.save(\"../tile_data/processed/data_y_l2a_processed.npy\", np.array(data_y))\n",
    "    #np.save(\"../tile_data/processed/length_l2a_processed.npy\", np.array(lengths))\n",
    "if source == 'test' or source == \"project\":\n",
    "    print(\"Writing test data\")\n",
    "    hkl.dump(data_x, \"../tile_data/processed/test_x.hkl\", mode='w', compression='gzip')\n",
    "    hkl.dump(data_y, \"../tile_data/processed/test_y.hkl\", mode='w', compression='gzip')\n",
    "    hkl.dump(lengths, \"../tile_data/processed/test_lengths.hkl\", mode='w', compression='gzip')"
   ]
  },
  {
   "cell_type": "code",
   "execution_count": 23,
   "metadata": {},
   "outputs": [],
   "source": [
    "dataframe = dataframe.drop(0, 0)\n",
    "dataframe.reset_index(inplace = True, drop = True)\n",
    "dataframe.to_csv(f\"../tile_data/processed/{source}_plot_ids.csv\", index = False)\n"
   ]
  },
  {
   "cell_type": "markdown",
   "metadata": {},
   "source": [
    "## Extraction of lat and longs for training / testing data"
   ]
  },
  {
   "cell_type": "code",
   "execution_count": null,
   "metadata": {},
   "outputs": [],
   "source": [
    "lats = []\n",
    "longs = []\n",
    "plot_ids = []\n",
    "df = pd.read_csv(\"../data/science-2017-test.csv\")\n",
    "df = df.sample(frac=1, random_state = 5)\n",
    "df['PLOT_ID'] = range(0, len(df), 1)\n",
    "df['group'] = df['tree_cover'] * 100\n",
    "print(np.unique(df['group']))\n",
    "df['group'] = df['group'].astype(int)\n",
    "print(np.unique(df['group']))\n",
    "for i in range(0, len(df), 100):\n",
    "    lat = df['location_y'][i]\n",
    "    lon = df['location_x'][i]\n",
    "    lats.append(lat)\n",
    "    longs.append(lon)\n",
    "    plot_ids.append(i)"
   ]
  },
  {
   "cell_type": "code",
   "execution_count": 132,
   "metadata": {},
   "outputs": [
    {
     "name": "stdout",
     "output_type": "stream",
     "text": [
      "(-121.31806300493471, 156.60271959506528, -54.427197440476576, 59.66233807380722)\n",
      "(5451,)\n"
     ]
    }
   ],
   "source": [
    "lats = []\n",
    "longs = []\n",
    "for i in plot_ids:\n",
    "    subs = df[df['PLOT_ID'] == i]\n",
    "    lat = float(subs['LAT'].head(1))\n",
    "    lon = float(subs['LON'].head(1))\n",
    "   # print(subs['LAT'])\n",
    "    #if lon > region[0] and lon < region[1]:\n",
    "        #if lat > region[2] and lat < region[3]:\n",
    "    lats.append(lat)\n",
    "    longs.append(lon)\n",
    "    \n",
    "lats = np.array(lats)\n",
    "longs = np.array(longs)\n",
    "    \n",
    "BBox = ((longs.min(),   longs.max(),      \n",
    "         lats.min(), lats.max()))\n",
    "\n",
    "print(BBox)\n",
    "print(lats.shape)"
   ]
  },
  {
   "cell_type": "code",
   "execution_count": 26,
   "metadata": {},
   "outputs": [],
   "source": [
    "#np.save(\"../data/metrics/plotids.npy\", plot_ids_loaded)\n",
    "testing_latlongs = pd.DataFrame({'lats':lats,'longs':longs, 'id':plot_ids})\n",
    "testing_latlongs.to_csv(\"../data/latlongs/training_plots.csv\", index = False)"
   ]
  },
  {
   "cell_type": "markdown",
   "metadata": {},
   "source": [
    "# Validation section (compare with predictions)"
   ]
  },
  {
   "cell_type": "code",
   "execution_count": 177,
   "metadata": {
    "scrolled": true
   },
   "outputs": [
    {
     "data": {
      "text/plain": [
       "(-2.081520502573931, 37.9517595996893)"
      ]
     },
     "execution_count": 177,
     "metadata": {},
     "output_type": "execute_result"
    }
   ],
   "source": [
    "#to_remove = [148, 465, 699, 1072, 1299, 610, 707, 778, 1151, 1160 ]\n",
    "#np.array([val for x, val in enumerate(np.array(plot_ids_loaded).astype(int)) if x in to_remove] )\n",
    "location = 4855 + 1\n",
    "dataframe.loc[location]['lat'], dataframe.loc[location]['long']"
   ]
  },
  {
   "cell_type": "code",
   "execution_count": null,
   "metadata": {},
   "outputs": [],
   "source": [
    "np.array([val for x, val in enumerate(np.array(plot_ids_loaded).astype(int)) if x in to_remove] )"
   ]
  },
  {
   "cell_type": "code",
   "execution_count": 20,
   "metadata": {},
   "outputs": [
    {
     "data": {
      "text/plain": [
       "4767"
      ]
     },
     "execution_count": 20,
     "metadata": {},
     "output_type": "execute_result"
    }
   ],
   "source": [
    "len(dataframe)"
   ]
  }
 ],
 "metadata": {
  "kernelspec": {
   "display_name": "remote_sensing",
   "language": "python",
   "name": "remote_sensing"
  },
  "language_info": {
   "codemirror_mode": {
    "name": "ipython",
    "version": 3
   },
   "file_extension": ".py",
   "mimetype": "text/x-python",
   "name": "python",
   "nbconvert_exporter": "python",
   "pygments_lexer": "ipython3",
   "version": "3.6.8"
  }
 },
 "nbformat": 4,
 "nbformat_minor": 2
}
