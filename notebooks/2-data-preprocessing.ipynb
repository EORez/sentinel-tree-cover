{
 "cells": [
  {
   "cell_type": "markdown",
   "metadata": {},
   "source": [
    "# Load, preprocess, and save train and test data\n",
    "# John Brandt\n",
    "# April 1, 2020\n",
    "\n",
    "- Fuse Sentinel 1/2 data\n",
    "- Reconstruct 2D-array from CEO output CSV by plot\n",
    "- Match sentinel data to CEO labels\n",
    "- Stack data_x, data_y, length\n",
    "- Save numpy arrays for data_x, data_y, length\n",
    "\n",
    "The notebook additionally contains some development code for:\n",
    "- Parameter selection in whittaker smoothing\n",
    "- Graphing plot locations on map\n",
    "\n",
    "# Package imports and source code"
   ]
  },
  {
   "cell_type": "code",
   "execution_count": 1,
   "metadata": {},
   "outputs": [],
   "source": [
    "from tqdm import tqdm_notebook, tnrange\n",
    "\n",
    "import pandas as pd\n",
    "import numpy as np\n",
    "from random import shuffle\n",
    "import pandas as pd\n",
    "import seaborn as sns\n",
    "import matplotlib.pyplot as plt\n",
    "%matplotlib inline\n",
    "import os\n",
    "import random\n",
    "import itertools\n",
    "\n",
    "os.environ['KMP_DUPLICATE_LIB_OK']='True'\n",
    "\n",
    "#!source ~/.bash_profile\n",
    "#!export PATH=\"/usr/lib/google-cloud-sdk/bin:$PATH\""
   ]
  },
  {
   "cell_type": "code",
   "execution_count": 2,
   "metadata": {},
   "outputs": [],
   "source": [
    "def reconstruct_images(plot_id):\n",
    "    '''Takes a plot ID and subsets the input pd.DataFrame to that plot ID\n",
    "       returns a (14, 14) array-like list with binary labels\n",
    "       \n",
    "        Parameters:\n",
    "          batch_ids (list):\n",
    "          batch_size (int):\n",
    "          \n",
    "         Returns:\n",
    "          x_batch (arr):\n",
    "          y_batch (arr):\n",
    "    '''\n",
    "    subs = df[df['PLOT_ID'] == plot_id]\n",
    "    rows = []\n",
    "    lats = reversed(sorted(subs['LAT'].unique()))\n",
    "    for i, val in enumerate(lats):\n",
    "        subs_lat = subs[subs['LAT'] == val]\n",
    "        subs_lat = subs_lat.sort_values('LON', axis = 0)\n",
    "        rows.append(list(subs_lat['TREE']))\n",
    "    return rows"
   ]
  },
  {
   "cell_type": "code",
   "execution_count": 3,
   "metadata": {},
   "outputs": [],
   "source": [
    "source = 'train'\n",
    "sentinel_1 = True\n",
    "s2_path = \"../data/{}-s2/\".format(\"train\")\n",
    "s1_path = \"../data/{}-s1/\".format(\"train\")\n",
    "csv_path = \"../data/{}-csv/\".format(source)\n",
    "output_path = \"../data/{}-processed/\".format(source)\n",
    "\n",
    "#s2_path = \"../data/drylands/s2/\"\n",
    "#s1_path = \"../data/drylands/s1/\"\n",
    "#csv_path = \"../data/drylands/csv/\"\n",
    "\n",
    "#s2_path = \"../data/project-val/sentinel-2/\"\n",
    "#s1_path = \"../data/project-val/sentinel-1/\"\n",
    "#csv_path = \"../data/project-val/\""
   ]
  },
  {
   "cell_type": "code",
   "execution_count": 4,
   "metadata": {},
   "outputs": [],
   "source": [
    "# Regional models\n",
    "east_africa = ['ethiopia', 'africa-east', 'hyperarid', 'kenya',\n",
    "               'malawi', 'rwanda', 'subplot', 'sudan', 'africaeast']\n",
    "\n",
    "west_africa = ['africa-west', 'ghana', 'niger', 'koure', \n",
    "               'hyperarid', 'africawest', 'cameroon'] \n",
    "\n",
    "asia = ['australia', 'asia', 'india', 'global']\n",
    "\n",
    "americas = ['brazil', 'elsalvador', 'honduras', \n",
    "            'lac', 'mexico', 'sa-', 'america']\n",
    "\n",
    "africa = east_africa + west_africa\n",
    "\n",
    "malawi = ['malawi', 'africaeast']\n",
    "nigercameroon = ['niger', 'koure', 'cameroon']\n",
    "\n",
    "globe = [x for x in os.listdir(csv_path)]\n",
    "\n",
    "region = globe"
   ]
  },
  {
   "cell_type": "code",
   "execution_count": 5,
   "metadata": {
    "scrolled": true
   },
   "outputs": [
    {
     "name": "stdout",
     "output_type": "stream",
     "text": [
      "ghana-kwofu-train.csv\n",
      "kenya-makueni-train.csv\n",
      "cameroon-finetune-3.csv\n",
      "lac-south-train.csv\n",
      "india-sidhi-train.csv\n",
      "cameroon-finetune-2.csv\n",
      "koure-finetune.csv\n",
      "ghana-ashanti-train-2.csv\n",
      "africa-east-train.csv\n",
      "mexico-campeche-train.csv\n",
      "ghana-farm-train.csv\n",
      "sa-train.csv\n",
      "europe-sw-asia-train.csv\n",
      "ghana-south-train.csv\n",
      "centralasia-train.csv\n",
      "honduras-2-train.csv\n",
      "cameroonnigerghana-train.csv\n",
      "brazil-paraiba-train.csv\n",
      "lac-north-train.csv\n",
      "malawi-rumphi-train.csv\n",
      "ghana-ashanti-train-small.csv\n",
      "ghana-train.csv\n",
      "kenya-train.csv\n",
      "india-train.csv\n",
      "malawi-rumphi-small.csv\n",
      "honduras-train.csv\n",
      "rwanda-train.csv\n",
      "cameroon-train.csv\n",
      "hyperarid-train.csv\n",
      "subplot4.csv\n",
      "kenya-farm-train-2.csv\n",
      "elsalvador-train.csv\n",
      "india-kochi-train.csv\n",
      "subplot.csv\n",
      "southamerica-train.csv\n",
      "sudan-train.csv\n",
      "niger-train.csv\n",
      "subplot2.csv\n",
      "subplot3.csv\n",
      "northamerica-train.csv\n",
      "ghana-ashanti-train.csv\n",
      "ghana-upperwest-train.csv\n",
      "malawi-train.csv\n",
      "honduras-train-north.csv\n",
      "africa-west-train.csv\n",
      "ghana-kwofu-large.csv\n",
      "lac-train.csv\n",
      "ghana-mid-train.csv\n",
      "ghana-kwofu-small-train.csv\n",
      "cameroon-finetune.csv\n",
      "kenya-farm-train.csv\n",
      "australia-train.csv\n",
      "koure-train.csv\n"
     ]
    },
    {
     "name": "stderr",
     "output_type": "stream",
     "text": [
      "/Users/john.brandt/.local/lib/python3.6/site-packages/ipykernel_launcher.py:22: FutureWarning: Sorting because non-concatenation axis is not aligned. A future version\n",
      "of pandas will change to not sort by default.\n",
      "\n",
      "To accept the future behavior, pass 'sort=False'.\n",
      "\n",
      "To retain the current behavior and silence the warning, pass 'sort=True'.\n",
      "\n"
     ]
    }
   ],
   "source": [
    "# For either train or test data, loop through each plot and determine whether there is\n",
    "# labelled Y data for it -- returning one dataframe for the entire data set\n",
    "\n",
    "dfs = []\n",
    "for i in os.listdir(csv_path):\n",
    "    if \".csv\" in i:\n",
    "        if any([x in i for x in region]):\n",
    "            print(i)\n",
    "            df = pd.read_csv(csv_path + i).drop('IMAGERY_TITLE', axis = 1)\n",
    "            df['country'] = i.split(\".\")[0]\n",
    "            dfs.append(df)\n",
    "\n",
    "for i in range(len(dfs)):\n",
    "    if \"PL_PLOTID\" not in dfs[i].columns:\n",
    "        dfs[i]['PL_PLOTID'] = 0\n",
    "            #dfs[i] = dfs[i].drop(\"PL_PLOTID\", axis = 1)\n",
    "    if 'STACKINGPROFILEDG' in dfs[i].columns:\n",
    "        dfs[i] = dfs[i].drop('STACKINGPROFILEDG', axis = 1)\n",
    "    if 'IMAGERYYEARDG' in dfs[i].columns:\n",
    "        dfs[i] = dfs[i].drop('IMAGERYYEARDG', axis = 1)\n",
    "\n",
    "df = pd.concat(dfs, ignore_index = True)\n",
    "df = df.dropna(axis = 0)\n",
    "\n",
    "existing = [int(x[:-4]) for x in os.listdir(s2_path) if \".DS\" not in x]\n",
    "\n",
    "df = df[df['PLOT_ID'].isin(existing)]\n",
    "plot_ids = sorted(df['PLOT_ID'].unique())"
   ]
  },
  {
   "cell_type": "code",
   "execution_count": 6,
   "metadata": {},
   "outputs": [
    {
     "data": {
      "application/vnd.jupyter.widget-view+json": {
       "model_id": "c3163c14364344aea123c325791b9d27",
       "version_major": 2,
       "version_minor": 0
      },
      "text/plain": [
       "HBox(children=(IntProgress(value=0, max=4395), HTML(value='')))"
      ]
     },
     "metadata": {},
     "output_type": "display_data"
    },
    {
     "name": "stdout",
     "output_type": "stream",
     "text": [
      "\n",
      "Finished data loading\n"
     ]
    }
   ],
   "source": [
    "# Initiate empty lists to store the X and Y data in\n",
    "data_x, data_y, lengths = [], [], []\n",
    "    \n",
    "    \n",
    "countries = {}\n",
    "count = 0\n",
    "to_remove = []\n",
    "plot_ids_loaded = []\n",
    "pl_plot_ids_loaded = []\n",
    "# Iterate over each plot\n",
    "for i in tnrange(len(plot_ids)):\n",
    "    skip = True if sentinel_1 else False\n",
    "    # Load the sentinel imagery\n",
    "    if (str(plot_ids[i]) + \".npy\") in os.listdir(s2_path):\n",
    "        if plot_ids[i] not in [136077593, 136776935, 136776898]:\n",
    "            country = df[df['PLOT_ID'] == plot_ids[i]]['country'].unique()\n",
    "            if str(country[0]) not in countries.keys():\n",
    "                countries[str(country[0])] = [count, count]\n",
    "            countries[str(country[0])][1] = count\n",
    "            x = np.load(s2_path + str(plot_ids[i]) + \".npy\")\n",
    "            if sentinel_1 and os.path.isfile(s1_path + str(plot_ids[i]) + \".npy\"):\n",
    "                skip = False\n",
    "                s1 = np.load(s1_path + str(plot_ids[i]) + \".npy\")\n",
    "                x = np.concatenate([x, s1], axis = -1)\n",
    "            count += 1\n",
    "        y = reconstruct_images(plot_ids[i])\n",
    "        if not skip:\n",
    "            plot_ids_loaded.append(plot_ids[i])\n",
    "            lengths.append(x.shape[0])\n",
    "            data_x.append(x)\n",
    "            data_y.append(y)\n",
    "print(\"Finished data loading\")\n",
    "\n",
    "data_x = np.stack(data_x)\n",
    "data_y = np.stack(data_y)\n",
    "lengths = np.stack(lengths)"
   ]
  },
  {
   "cell_type": "code",
   "execution_count": 7,
   "metadata": {},
   "outputs": [
    {
     "ename": "NameError",
     "evalue": "name 'data_x2' is not defined",
     "output_type": "error",
     "traceback": [
      "\u001b[0;31m---------------------------------------------------------------------------\u001b[0m",
      "\u001b[0;31mNameError\u001b[0m                                 Traceback (most recent call last)",
      "\u001b[0;32m<ipython-input-7-aac8a0467cf5>\u001b[0m in \u001b[0;36m<module>\u001b[0;34m\u001b[0m\n\u001b[0;32m----> 1\u001b[0;31m \u001b[0mdata_x\u001b[0m \u001b[0;34m=\u001b[0m \u001b[0mnp\u001b[0m\u001b[0;34m.\u001b[0m\u001b[0mconcatenate\u001b[0m\u001b[0;34m(\u001b[0m\u001b[0;34m[\u001b[0m\u001b[0mdata_x\u001b[0m\u001b[0;34m,\u001b[0m \u001b[0mdata_x2\u001b[0m\u001b[0;34m]\u001b[0m\u001b[0;34m)\u001b[0m\u001b[0;34m\u001b[0m\u001b[0;34m\u001b[0m\u001b[0m\n\u001b[0m\u001b[1;32m      2\u001b[0m \u001b[0mdata_y\u001b[0m \u001b[0;34m=\u001b[0m \u001b[0mnp\u001b[0m\u001b[0;34m.\u001b[0m\u001b[0mconcatenate\u001b[0m\u001b[0;34m(\u001b[0m\u001b[0;34m[\u001b[0m\u001b[0mdata_y\u001b[0m\u001b[0;34m,\u001b[0m \u001b[0mdata_y2\u001b[0m\u001b[0;34m]\u001b[0m\u001b[0;34m)\u001b[0m\u001b[0;34m\u001b[0m\u001b[0;34m\u001b[0m\u001b[0m\n\u001b[1;32m      3\u001b[0m \u001b[0mlengths\u001b[0m \u001b[0;34m=\u001b[0m \u001b[0mnp\u001b[0m\u001b[0;34m.\u001b[0m\u001b[0mconcatenate\u001b[0m\u001b[0;34m(\u001b[0m\u001b[0;34m[\u001b[0m\u001b[0mlengths\u001b[0m\u001b[0;34m,\u001b[0m \u001b[0mlengths_2\u001b[0m\u001b[0;34m]\u001b[0m\u001b[0;34m)\u001b[0m\u001b[0;34m\u001b[0m\u001b[0;34m\u001b[0m\u001b[0m\n",
      "\u001b[0;31mNameError\u001b[0m: name 'data_x2' is not defined"
     ]
    }
   ],
   "source": [
    "data_x = np.concatenate([data_x, data_x2])\n",
    "data_y = np.concatenate([data_y, data_y2])\n",
    "lengths = np.concatenate([lengths, lengths_2])"
   ]
  },
  {
   "cell_type": "code",
   "execution_count": 18,
   "metadata": {},
   "outputs": [
    {
     "name": "stdout",
     "output_type": "stream",
     "text": [
      "(1649, 24, 16, 16, 17)\n"
     ]
    }
   ],
   "source": [
    "print(data_x.shape)"
   ]
  },
  {
   "cell_type": "code",
   "execution_count": 19,
   "metadata": {},
   "outputs": [
    {
     "data": {
      "text/plain": [
       "{'brazil-paraiba-train': [0, 75],\n",
       " 'mexico-campeche-train': [76, 163],\n",
       " 'elsalvador-train': [164, 236],\n",
       " 'sa-train': [237, 270],\n",
       " 'lac-train': [271, 324],\n",
       " 'honduras-train': [325, 425],\n",
       " 'honduras-train-north': [426, 470],\n",
       " 'honduras-2-train': [471, 578],\n",
       " 'lac-south-train': [579, 696],\n",
       " 'lac-north-train': [697, 717],\n",
       " 'southamerica-train': [718, 823]}"
      ]
     },
     "execution_count": 19,
     "metadata": {},
     "output_type": "execute_result"
    }
   ],
   "source": [
    "countries"
   ]
  },
  {
   "cell_type": "code",
   "execution_count": 9,
   "metadata": {},
   "outputs": [],
   "source": [
    "if source == 'train':\n",
    "    np.save(\"../tile_data/processed/data_x_l2a_processed.npy\", data_x)\n",
    "    np.save(\"../tile_data/processed/data_y_l2a_processed.npy\", np.array(data_y))\n",
    "    np.save(\"../tile_data/processed/length_l2a_processed.npy\", np.array(lengths))\n",
    "if source == 'test' or source == \"project\":\n",
    "    print(\"Writing test data\")\n",
    "    np.save(\"../tile_data/processed/test_x_l2a_processed.npy\", data_x)\n",
    "    np.save(\"../tile_data/processed/test_y_l2a_processed.npy\", data_y)\n",
    "    np.save(\"../tile_data/processed/test_length_l2a_processed.npy\", lengths)"
   ]
  },
  {
   "cell_type": "markdown",
   "metadata": {},
   "source": [
    "## Extraction of lat and longs for training / testing data"
   ]
  },
  {
   "cell_type": "code",
   "execution_count": null,
   "metadata": {},
   "outputs": [],
   "source": [
    "lats = []\n",
    "longs = []\n",
    "plot_ids = []\n",
    "df = pd.read_csv(\"../data/science-2017-test.csv\")\n",
    "df = df.sample(frac=1, random_state = 5)\n",
    "df['PLOT_ID'] = range(0, len(df), 1)\n",
    "df['group'] = df['tree_cover'] * 100\n",
    "print(np.unique(df['group']))\n",
    "df['group'] = df['group'].astype(int)\n",
    "print(np.unique(df['group']))\n",
    "for i in range(0, len(df), 100):\n",
    "    lat = df['location_y'][i]\n",
    "    lon = df['location_x'][i]\n",
    "    lats.append(lat)\n",
    "    longs.append(lon)\n",
    "    plot_ids.append(i)"
   ]
  },
  {
   "cell_type": "code",
   "execution_count": 8,
   "metadata": {},
   "outputs": [
    {
     "name": "stdout",
     "output_type": "stream",
     "text": [
      "(-121.31806300493471, 156.60271959506528, -54.427197440476576, 59.66233807380722)\n",
      "(4390,)\n"
     ]
    }
   ],
   "source": [
    "lats = []\n",
    "longs = []\n",
    "for i in plot_ids_loaded:\n",
    "    subs = df[df['PLOT_ID'] == i]\n",
    "    lat = float(subs['LAT'].head(1))\n",
    "    lon = float(subs['LON'].head(1))\n",
    "   # print(subs['LAT'])\n",
    "    #if lon > region[0] and lon < region[1]:\n",
    "        #if lat > region[2] and lat < region[3]:\n",
    "    lats.append(lat)\n",
    "    longs.append(lon)\n",
    "    \n",
    "lats = np.array(lats)\n",
    "longs = np.array(longs)\n",
    "    \n",
    "BBox = ((longs.min(),   longs.max(),      \n",
    "         lats.min(), lats.max()))\n",
    "\n",
    "print(BBox)\n",
    "print(lats.shape)"
   ]
  },
  {
   "cell_type": "code",
   "execution_count": 9,
   "metadata": {},
   "outputs": [],
   "source": [
    "#np.save(\"../data/metrics/plotids.npy\", plot_ids_loaded)\n",
    "testing_latlongs = pd.DataFrame({'lats':lats,'longs':longs, 'id':plot_ids_loaded})\n",
    "testing_latlongs.to_csv(\"../data/latlongs/training.csv\", index = False)"
   ]
  }
 ],
 "metadata": {
  "kernelspec": {
   "display_name": "remote_sensing",
   "language": "python",
   "name": "remote_sensing"
  },
  "language_info": {
   "codemirror_mode": {
    "name": "ipython",
    "version": 3
   },
   "file_extension": ".py",
   "mimetype": "text/x-python",
   "name": "python",
   "nbconvert_exporter": "python",
   "pygments_lexer": "ipython3",
   "version": "3.6.8"
  }
 },
 "nbformat": 4,
 "nbformat_minor": 2
}
