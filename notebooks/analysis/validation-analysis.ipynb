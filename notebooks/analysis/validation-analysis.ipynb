{
 "cells": [
  {
   "cell_type": "markdown",
   "id": "statutory-improvement",
   "metadata": {},
   "source": [
    "# Validation Analysis\n",
    "\n",
    "## Objective\n",
    "Develop accuracy assessments for tree cover predictions in each country, region, subregion, ecoregion and biome to understand how the model performs differently in each class and determine where we need more data.  \n",
    "Ultimately we want report that the error of the model at predicting tree cover was x +/- y at the 95% confidence level. \n",
    "\n",
    "How confident are we that a certain range around these estimates of tree cover actually contains the true parameter? In other words, what do the error bars look like for precision, recall and f1? How granular can we make these validation assessments for each region/subregion/ecoregion? \n",
    "\n",
    "**Steps**\n",
    "- Start with biomes because they will have tight error bars\n",
    "- Bootstrap sample n times from each biome\n",
    "- Calculate precision, recall and F1 scores for each bootstrap\n",
    "- Calculate 75%, 95%, 99% confidence intervals for the samples\n",
    "- Repeat for other categories and see what the error bars look like\n",
    "- Create visualizations to see the error bars (bar chart and heatmap, examples [here?](https://clauswilke.com/dataviz/visualizing-uncertainty.html))\n"
   ]
  },
  {
   "cell_type": "code",
   "execution_count": 362,
   "id": "proprietary-iceland",
   "metadata": {},
   "outputs": [],
   "source": [
    "import pandas as pd\n",
    "import numpy as np\n",
    "import matplotlib.pyplot as plt\n",
    "import matplotlib.patches as mpatches\n",
    "import seaborn as sns"
   ]
  },
  {
   "cell_type": "markdown",
   "id": "selected-lender",
   "metadata": {},
   "source": [
    "## Quick EDA"
   ]
  },
  {
   "cell_type": "code",
   "execution_count": 2,
   "id": "sixth-behalf",
   "metadata": {},
   "outputs": [
    {
     "data": {
      "text/html": [
       "<div>\n",
       "<style scoped>\n",
       "    .dataframe tbody tr th:only-of-type {\n",
       "        vertical-align: middle;\n",
       "    }\n",
       "\n",
       "    .dataframe tbody tr th {\n",
       "        vertical-align: top;\n",
       "    }\n",
       "\n",
       "    .dataframe thead th {\n",
       "        text-align: right;\n",
       "    }\n",
       "</style>\n",
       "<table border=\"1\" class=\"dataframe\">\n",
       "  <thead>\n",
       "    <tr style=\"text-align: right;\">\n",
       "      <th></th>\n",
       "      <th>field_1</th>\n",
       "      <th>plot_id</th>\n",
       "      <th>lat</th>\n",
       "      <th>long</th>\n",
       "      <th>error</th>\n",
       "      <th>abs_error</th>\n",
       "      <th>tp</th>\n",
       "      <th>fp</th>\n",
       "      <th>fn</th>\n",
       "      <th>tree_cover</th>\n",
       "      <th>tree_class</th>\n",
       "      <th>country</th>\n",
       "      <th>region</th>\n",
       "      <th>subregion</th>\n",
       "      <th>ecoregion</th>\n",
       "      <th>biome</th>\n",
       "    </tr>\n",
       "  </thead>\n",
       "  <tbody>\n",
       "    <tr>\n",
       "      <th>0</th>\n",
       "      <td>992</td>\n",
       "      <td>139270540</td>\n",
       "      <td>11.474302</td>\n",
       "      <td>41.516966</td>\n",
       "      <td>0</td>\n",
       "      <td>0</td>\n",
       "      <td>0</td>\n",
       "      <td>0</td>\n",
       "      <td>0</td>\n",
       "      <td>0</td>\n",
       "      <td>None (0%)</td>\n",
       "      <td>Ethiopia</td>\n",
       "      <td>Africa</td>\n",
       "      <td>Eastern Africa</td>\n",
       "      <td>Ethiopian Xeric Grasslands And Shrublands</td>\n",
       "      <td>Deserts and Xeric Shrublands</td>\n",
       "    </tr>\n",
       "    <tr>\n",
       "      <th>1</th>\n",
       "      <td>514</td>\n",
       "      <td>139191077</td>\n",
       "      <td>6.100608</td>\n",
       "      <td>48.748936</td>\n",
       "      <td>-1</td>\n",
       "      <td>1</td>\n",
       "      <td>0</td>\n",
       "      <td>1</td>\n",
       "      <td>0</td>\n",
       "      <td>0</td>\n",
       "      <td>None (0%)</td>\n",
       "      <td>Somalia</td>\n",
       "      <td>Africa</td>\n",
       "      <td>Eastern Africa</td>\n",
       "      <td>Hobyo Grasslands And Shrublands</td>\n",
       "      <td>Deserts and Xeric Shrublands</td>\n",
       "    </tr>\n",
       "    <tr>\n",
       "      <th>2</th>\n",
       "      <td>829</td>\n",
       "      <td>139270113</td>\n",
       "      <td>4.039354</td>\n",
       "      <td>47.390776</td>\n",
       "      <td>0</td>\n",
       "      <td>0</td>\n",
       "      <td>0</td>\n",
       "      <td>1</td>\n",
       "      <td>1</td>\n",
       "      <td>0</td>\n",
       "      <td>None (0%)</td>\n",
       "      <td>Somalia</td>\n",
       "      <td>Africa</td>\n",
       "      <td>Eastern Africa</td>\n",
       "      <td>Hobyo Grasslands And Shrublands</td>\n",
       "      <td>Deserts and Xeric Shrublands</td>\n",
       "    </tr>\n",
       "    <tr>\n",
       "      <th>3</th>\n",
       "      <td>848</td>\n",
       "      <td>139270158</td>\n",
       "      <td>-25.529835</td>\n",
       "      <td>25.238610</td>\n",
       "      <td>0</td>\n",
       "      <td>0</td>\n",
       "      <td>0</td>\n",
       "      <td>0</td>\n",
       "      <td>0</td>\n",
       "      <td>0</td>\n",
       "      <td>None (0%)</td>\n",
       "      <td>Botswana</td>\n",
       "      <td>Africa</td>\n",
       "      <td>Southern Africa</td>\n",
       "      <td>Kalahari Xeric Savanna</td>\n",
       "      <td>Deserts and Xeric Shrublands</td>\n",
       "    </tr>\n",
       "    <tr>\n",
       "      <th>4</th>\n",
       "      <td>845</td>\n",
       "      <td>139270154</td>\n",
       "      <td>-22.629077</td>\n",
       "      <td>19.624957</td>\n",
       "      <td>-1</td>\n",
       "      <td>1</td>\n",
       "      <td>1</td>\n",
       "      <td>0</td>\n",
       "      <td>0</td>\n",
       "      <td>0</td>\n",
       "      <td>None (0%)</td>\n",
       "      <td>Namibia</td>\n",
       "      <td>Africa</td>\n",
       "      <td>Southern Africa</td>\n",
       "      <td>Kalahari Xeric Savanna</td>\n",
       "      <td>Deserts and Xeric Shrublands</td>\n",
       "    </tr>\n",
       "  </tbody>\n",
       "</table>\n",
       "</div>"
      ],
      "text/plain": [
       "   field_1    plot_id        lat       long  error  abs_error  tp  fp  fn  \\\n",
       "0      992  139270540  11.474302  41.516966      0          0   0   0   0   \n",
       "1      514  139191077   6.100608  48.748936     -1          1   0   1   0   \n",
       "2      829  139270113   4.039354  47.390776      0          0   0   1   1   \n",
       "3      848  139270158 -25.529835  25.238610      0          0   0   0   0   \n",
       "4      845  139270154 -22.629077  19.624957     -1          1   1   0   0   \n",
       "\n",
       "   tree_cover tree_class   country  region        subregion  \\\n",
       "0           0  None (0%)  Ethiopia  Africa   Eastern Africa   \n",
       "1           0  None (0%)   Somalia  Africa   Eastern Africa   \n",
       "2           0  None (0%)   Somalia  Africa   Eastern Africa   \n",
       "3           0  None (0%)  Botswana  Africa  Southern Africa   \n",
       "4           0  None (0%)   Namibia  Africa  Southern Africa   \n",
       "\n",
       "                                   ecoregion                         biome  \n",
       "0  Ethiopian Xeric Grasslands And Shrublands  Deserts and Xeric Shrublands  \n",
       "1            Hobyo Grasslands And Shrublands  Deserts and Xeric Shrublands  \n",
       "2            Hobyo Grasslands And Shrublands  Deserts and Xeric Shrublands  \n",
       "3                     Kalahari Xeric Savanna  Deserts and Xeric Shrublands  \n",
       "4                     Kalahari Xeric Savanna  Deserts and Xeric Shrublands  "
      ]
     },
     "execution_count": 2,
     "metadata": {},
     "output_type": "execute_result"
    }
   ],
   "source": [
    "df = pd.read_csv('validation_data_1000.csv')\n",
    "df.head()"
   ]
  },
  {
   "cell_type": "code",
   "execution_count": 3,
   "id": "middle-conviction",
   "metadata": {
    "scrolled": true
   },
   "outputs": [
    {
     "data": {
      "text/plain": [
       "Africa      501\n",
       "Americas    499\n",
       "Name: region, dtype: int64"
      ]
     },
     "execution_count": 3,
     "metadata": {},
     "output_type": "execute_result"
    }
   ],
   "source": [
    "df.region.value_counts()"
   ]
  },
  {
   "cell_type": "code",
   "execution_count": 4,
   "id": "upset-turner",
   "metadata": {},
   "outputs": [
    {
     "data": {
      "text/plain": [
       "South America      321\n",
       "Eastern Africa     180\n",
       "Central America    144\n",
       "Western Africa     110\n",
       "Southern Africa     73\n",
       "Northern Africa     71\n",
       "Middle Africa       67\n",
       "Caribbean           34\n",
       "Name: subregion, dtype: int64"
      ]
     },
     "execution_count": 4,
     "metadata": {},
     "output_type": "execute_result"
    }
   ],
   "source": [
    "df.subregion.value_counts()"
   ]
  },
  {
   "cell_type": "code",
   "execution_count": 166,
   "id": "legislative-connection",
   "metadata": {},
   "outputs": [
    {
     "data": {
      "text/plain": [
       "Sahelian Acacia Savanna                       64\n",
       "West Sudanian Savanna                         51\n",
       "Cerrado                                       42\n",
       "Mediterranean Woodlands And Forests           24\n",
       "Humid Pampas                                  21\n",
       "Valdivian Temperate Forests                   21\n",
       "Southern Miombo Woodlands                     18\n",
       "Ethiopian Montane Grasslands And Woodlands    18\n",
       "Central Zambezian Miombo Woodlands            17\n",
       "Highveld Grasslands                           17\n",
       "Name: ecoregion, dtype: int64"
      ]
     },
     "execution_count": 166,
     "metadata": {},
     "output_type": "execute_result"
    }
   ],
   "source": [
    "df.ecoregion.value_counts()[:10]"
   ]
  },
  {
   "cell_type": "code",
   "execution_count": 167,
   "id": "hollow-wrong",
   "metadata": {},
   "outputs": [
    {
     "data": {
      "text/plain": [
       "Tropical and Subtropical Grasslands, Savannas and Shrublands    367\n",
       "Tropical and Subtropical Moist Broadleaf Forests                246\n",
       "Tropical and Subtropical Dry Broadleaf Forests                   97\n",
       "Deserts and Xeric Shrublands                                     68\n",
       "Montane Grasslands and Shrublands                                52\n",
       "Mediterranean Forests, Woodlands and Scrub                       47\n",
       "Temperate Grasslands, Savannas and Shrublands                    37\n",
       "Tropical and Subtropical Coniferous Forests                      34\n",
       "Temperate Broadleaf and Mixed Forests                            25\n",
       "Flooded Grasslands and Savannas                                  22\n",
       "Mangroves                                                         4\n",
       "Name: biome, dtype: int64"
      ]
     },
     "execution_count": 167,
     "metadata": {},
     "output_type": "execute_result"
    }
   ],
   "source": [
    "df.biome.value_counts()"
   ]
  },
  {
   "cell_type": "code",
   "execution_count": 168,
   "id": "white-means",
   "metadata": {},
   "outputs": [
    {
     "data": {
      "text/plain": [
       "None (0%)                35.9\n",
       "Scattered (1 - 9%)       21.6\n",
       "Dense (75+%)             19.3\n",
       "Open (10 - 39%)          16.5\n",
       "Medium-dense (40-75%)     6.7\n",
       "Name: tree_class, dtype: float64"
      ]
     },
     "execution_count": 168,
     "metadata": {},
     "output_type": "execute_result"
    }
   ],
   "source": [
    "df.tree_class.value_counts(normalize=True)*100"
   ]
  },
  {
   "cell_type": "code",
   "execution_count": 169,
   "id": "median-overall",
   "metadata": {
    "scrolled": true
   },
   "outputs": [
    {
     "data": {
      "text/plain": [
       "field_1        0\n",
       "plot_id        0\n",
       "lat            0\n",
       "long           0\n",
       "error          0\n",
       "abs_error      0\n",
       "tp             0\n",
       "fp             0\n",
       "fn             0\n",
       "tree_cover     0\n",
       "tree_class     0\n",
       "country        0\n",
       "region         0\n",
       "subregion      0\n",
       "ecoregion     50\n",
       "biome          1\n",
       "dtype: int64"
      ]
     },
     "execution_count": 169,
     "metadata": {},
     "output_type": "execute_result"
    }
   ],
   "source": [
    "df.isnull().sum()"
   ]
  },
  {
   "cell_type": "code",
   "execution_count": 17,
   "id": "classified-pulse",
   "metadata": {
    "scrolled": true
   },
   "outputs": [
    {
     "data": {
      "text/plain": [
       "None (0%)                14\n",
       "Scattered (1 - 9%)       12\n",
       "Dense (75+%)             12\n",
       "Open (10 - 39%)           8\n",
       "Medium-dense (40-75%)     4\n",
       "Name: tree_class, dtype: int64"
      ]
     },
     "execution_count": 17,
     "metadata": {},
     "output_type": "execute_result"
    }
   ],
   "source": [
    "df[df.ecoregion.isnull()].tree_class.value_counts()"
   ]
  },
  {
   "cell_type": "code",
   "execution_count": 252,
   "id": "professional-energy",
   "metadata": {},
   "outputs": [
    {
     "data": {
      "text/plain": [
       "72"
      ]
     },
     "execution_count": 252,
     "metadata": {},
     "output_type": "execute_result"
    }
   ],
   "source": [
    "len(df.country.unique())"
   ]
  },
  {
   "cell_type": "code",
   "execution_count": 253,
   "id": "signal-presence",
   "metadata": {},
   "outputs": [
    {
     "data": {
      "text/plain": [
       "164"
      ]
     },
     "execution_count": 253,
     "metadata": {},
     "output_type": "execute_result"
    }
   ],
   "source": [
    "len(df.ecoregion.unique())"
   ]
  },
  {
   "cell_type": "markdown",
   "id": "persistent-wilson",
   "metadata": {},
   "source": [
    "## Bootstrap from each scale, calculate scores and confidence intervals"
   ]
  },
  {
   "cell_type": "code",
   "execution_count": 202,
   "id": "successful-selling",
   "metadata": {},
   "outputs": [],
   "source": [
    "def bootstrap(df, scale, n):\n",
    "    \n",
    "    '''\n",
    "    Function takes in a df, bootstraps n samples from each category in a column (scale) \n",
    "    and calculates the precision, recall and f1. Then takes percentiles of the bootstrap \n",
    "    to calculate confidence intervals. Returns a df with scores and another with CIs.\n",
    "    '''\n",
    "    \n",
    "    # get a list of categories within the scale, dropping categories with less than 5 rows\n",
    "    df = df.groupby(scale).filter(lambda x: len(x)>5)   \n",
    "    categories = set(df[scale].dropna().unique())\n",
    "    print(f'{scale} has {len(categories)} subcategories. {len(categories)*n} samples in total.')\n",
    "                     \n",
    "    # empty df to store samples, scores and CIs\n",
    "    val_df = pd.DataFrame(columns = ['scale', 'category', 'precision', 'recall', 'f1'])\n",
    "    conf_int = pd.DataFrame(columns = ['scale', 'category',\n",
    "                                       'p_lower_95', 'p_upper_95', 'r_lower_95',\n",
    "                                       'r_upper_95', 'f1_lower_95','f1_upper_95',\n",
    "                                       'p_lower_90', 'p_upper_90', 'r_lower_90',\n",
    "                                       'r_upper_90', 'f1_lower_90','f1_upper_90',\n",
    "                                       'p_lower_80', 'p_upper_80', 'r_lower_80',\n",
    "                                       'r_upper_80', 'f1_lower_80','f1_upper_80'])\n",
    "\n",
    "    # calculation for precision, recall, f1\n",
    "    def calculate_metrics(tp, fp, fn):\n",
    "        precision = tp / (tp + fp)\n",
    "        recall = tp / (tp + fn)\n",
    "        f1 = 2 * ((precision * recall) / (precision + recall))\n",
    "        return precision, recall, f1\n",
    "    \n",
    "    # for each category in scale, calculate scores, \n",
    "    for i in categories:\n",
    "        grouped = df[df[scale] == i]\n",
    "        bootsamples = pd.DataFrame()\n",
    "        \n",
    "        for num in range(n):  \n",
    "            bootstrap = grouped.sample(len(grouped), replace=True)\n",
    "            bootsamples = bootsamples.append(bootstrap, ignore_index = True)\n",
    "            precision, recall, f1 = calculate_metrics(sum(bootsamples.tp.values), \n",
    "                                                      sum(bootsamples.fp.values), \n",
    "                                                      sum(bootsamples.fn.values))\n",
    "            \n",
    "            # add calculations to empty df\n",
    "            val_df = val_df.append({'scale': scale, \n",
    "                                   'category': i,\n",
    "                                   'precision': precision,\n",
    "                                   'recall': recall,\n",
    "                                   'f1': f1}, ignore_index = True)\n",
    "    \n",
    "    # use scores in val_df to calculate CIs\n",
    "    for i in categories:\n",
    "        grouped2 = val_df[val_df.category == i] \n",
    "\n",
    "        # calculate 80, 90, 95th percentile\n",
    "        p_lower_95, r_lower_95, f1_lower_95 = np.percentile(grouped2.precision.values, 2.5),\\\n",
    "                                              np.percentile(grouped2.recall.values, 2.5),\\\n",
    "                                              np.percentile(grouped2.f1.values, 2.5) \n",
    "        p_upper_95, r_upper_95, f1_upper_95 = np.percentile(grouped2.precision.values, 97.5),\\\n",
    "                                              np.percentile(grouped2.recall.values, 97.5),\\\n",
    "                                              np.percentile(grouped2.f1.values, 97.5)\n",
    "                \n",
    "\n",
    "        p_lower_90, r_lower_90, f1_lower_90 = np.percentile(grouped2.precision.values, 5),\\\n",
    "                                              np.percentile(grouped2.recall.values, 5),\\\n",
    "                                              np.percentile(grouped2.f1.values, 5) \n",
    "        p_upper_90, r_upper_90, f1_upper_90 = np.percentile(grouped2.precision.values, 95),\\\n",
    "                                              np.percentile(grouped2.recall.values, 95),\\\n",
    "                                              np.percentile(grouped2.f1.values, 95)\n",
    "        \n",
    "\n",
    "        p_lower_80, r_lower_80, f1_lower_80 = np.percentile(grouped2.precision.values, 10),\\\n",
    "                                              np.percentile(grouped2.recall.values, 10),\\\n",
    "                                              np.percentile(grouped2.f1.values, 10) \n",
    "        p_upper_80, r_upper_80, f1_upper_80 = np.percentile(grouped2.precision.values, 90),\\\n",
    "                                              np.percentile(grouped2.recall.values, 90),\\\n",
    "                                              np.percentile(grouped2.f1.values, 90)\n",
    "        \n",
    "        \n",
    "        # add percentiles to empty df\n",
    "        conf_int = conf_int.append({'scale': scale, \n",
    "                                    'category': i,\n",
    "                                   'p_lower_95': p_lower_95, \n",
    "                                   'p_upper_95': p_upper_95, \n",
    "                                   'r_lower_95': r_lower_95,\n",
    "                                   'r_upper_95': r_upper_95, \n",
    "                                   'f1_lower_95': f1_lower_95,\n",
    "                                   'f1_upper_95': f1_upper_95,\n",
    "                                   'p_lower_90': p_lower_90, \n",
    "                                   'p_upper_90': p_upper_90, \n",
    "                                   'r_lower_90': r_lower_90,\n",
    "                                   'r_upper_90': r_upper_90, \n",
    "                                   'f1_lower_90': f1_lower_90,\n",
    "                                   'f1_upper_90': f1_upper_90,\n",
    "                                   'p_lower_80': p_lower_80, \n",
    "                                   'p_upper_80': p_upper_80, \n",
    "                                   'r_lower_80': r_lower_80,\n",
    "                                   'r_upper_80': r_upper_80, \n",
    "                                   'f1_lower_80': f1_lower_80,\n",
    "                                   'f1_upper_80': f1_upper_80}, ignore_index = True)\n",
    "\n",
    "    # returns scores and conf intervals separately\n",
    "    return val_df, conf_int"
   ]
  },
  {
   "cell_type": "code",
   "execution_count": 203,
   "id": "crazy-genome",
   "metadata": {},
   "outputs": [
    {
     "name": "stdout",
     "output_type": "stream",
     "text": [
      "subregion has 8 subcategories. 8000 samples in total.\n"
     ]
    }
   ],
   "source": [
    "subregion_val, subregion_conf = bootstrap(df, 'subregion', 1000)"
   ]
  },
  {
   "cell_type": "code",
   "execution_count": 204,
   "id": "nervous-virus",
   "metadata": {},
   "outputs": [
    {
     "name": "stdout",
     "output_type": "stream",
     "text": [
      "biome has 10 subcategories. 10000 samples in total.\n"
     ]
    }
   ],
   "source": [
    "biome_val, biome_conf = bootstrap(df, 'biome', 1000)"
   ]
  },
  {
   "cell_type": "code",
   "execution_count": 213,
   "id": "immune-wildlife",
   "metadata": {},
   "outputs": [
    {
     "name": "stdout",
     "output_type": "stream",
     "text": [
      "region has 2 subcategories. 2000 samples in total.\n"
     ]
    }
   ],
   "source": [
    "region_val, region_conf = bootstrap(df, 'region', 1000)"
   ]
  },
  {
   "cell_type": "code",
   "execution_count": 255,
   "id": "activated-tanzania",
   "metadata": {},
   "outputs": [],
   "source": [
    "#ecoregion_val, ecoregion_conf = bootstrap(df, 'ecoregion', 1000)"
   ]
  },
  {
   "cell_type": "code",
   "execution_count": 254,
   "id": "annual-abortion",
   "metadata": {
    "scrolled": false
   },
   "outputs": [
    {
     "name": "stdout",
     "output_type": "stream",
     "text": [
      "country has 48 subcategories. 48000 samples in total.\n"
     ]
    },
    {
     "name": "stderr",
     "output_type": "stream",
     "text": [
      "/Users/jessicaertel/anaconda3/lib/python3.7/site-packages/ipykernel_launcher.py:13: RuntimeWarning: invalid value encountered in double_scalars\n",
      "  del sys.path[0]\n",
      "/Users/jessicaertel/anaconda3/lib/python3.7/site-packages/ipykernel_launcher.py:11: RuntimeWarning: invalid value encountered in long_scalars\n",
      "  # This is added back by InteractiveShellApp.init_path()\n",
      "/Users/jessicaertel/anaconda3/lib/python3.7/site-packages/ipykernel_launcher.py:12: RuntimeWarning: invalid value encountered in long_scalars\n",
      "  if sys.path[0] == '':\n"
     ]
    }
   ],
   "source": [
    "country_val, country_conf = bootstrap(df, 'country', 1000)"
   ]
  },
  {
   "cell_type": "markdown",
   "id": "civic-technician",
   "metadata": {},
   "source": [
    "## Visualizations"
   ]
  },
  {
   "cell_type": "code",
   "execution_count": 267,
   "id": "unlimited-border",
   "metadata": {},
   "outputs": [],
   "source": [
    "def visualize_precision_recall(conf_int_df, linewidth, figsize, title, subplots):\n",
    "\n",
    "    fig, ax = plt.subplots(subplots[0], subplots[1], figsize=figsize, sharey=True, sharex=True)\n",
    "\n",
    "# create precision plot\n",
    "    ax1 = ax[0]\n",
    "    ax1.set(title=f'Precision Confidence Intervals for {title}')\n",
    "    ax1.tick_params(labelsize=12)\n",
    "    \n",
    "    # plot 95% CI\n",
    "    for lower, upper, y in zip(conf_int_df['p_lower_90'],\n",
    "                               conf_int_df['p_upper_90'],\n",
    "                               range(len(conf_int_df))):\n",
    "\n",
    "        ax1.plot((lower, upper), (y, y), color='lightsteelblue', linestyle='-', linewidth=linewidth*3)\n",
    "    \n",
    "    # plot 90% CI\n",
    "    for lower, upper, y in zip(conf_int_df['p_lower_90'],\n",
    "                               conf_int_df['p_upper_90'],\n",
    "                               range(len(conf_int_df))):\n",
    "\n",
    "        ax1.plot((lower, upper), (y, y), color='royalblue', linestyle='-', linewidth=linewidth*2)\n",
    "        \n",
    "    # plot 80% CI\n",
    "    for lower, upper, y in zip(conf_int_df['p_lower_80'],\n",
    "                               conf_int_df['p_upper_80'],\n",
    "                               range(len(conf_int_df))):\n",
    "\n",
    "        ax1.plot((lower, upper), (y, y), color='tomato', linestyle='-', linewidth=linewidth)\n",
    "        \n",
    "# create recall plot\n",
    "    ax2 = ax[1]\n",
    "    ax2.set(title=f'Recall Confidence Intervals for {title}')\n",
    "    ax2.tick_params(labelsize=12)\n",
    "    \n",
    "    # plot 95% CI\n",
    "    for lower, upper, y in zip(conf_int_df['r_lower_90'],\n",
    "                               conf_int_df['r_upper_90'],\n",
    "                               range(len(conf_int_df))):\n",
    "\n",
    "        ax2.plot((lower, upper), (y, y), color='lightsteelblue', linestyle='-', linewidth=linewidth*3)\n",
    "    \n",
    "    # plot 90% CI\n",
    "    for lower, upper, y in zip(conf_int_df['r_lower_90'],\n",
    "                               conf_int_df['r_upper_90'],\n",
    "                               range(len(conf_int_df))):\n",
    "\n",
    "        ax2.plot((lower, upper), (y, y), color='royalblue', linestyle='-', linewidth=linewidth*2)\n",
    "        \n",
    "    # plot 80% CI\n",
    "    for lower, upper, y in zip(conf_int_df['r_lower_80'],\n",
    "                               conf_int_df['r_upper_80'],\n",
    "                               range(len(conf_int_df))):\n",
    "\n",
    "        ax2.plot((lower, upper), (y, y), color='tomato', linestyle='-', linewidth=linewidth)\n",
    "    \n",
    "    # add labels and legend\n",
    "    ci80 = mpatches.Patch(color='tomato', label='80% Confidence')\n",
    "    ci90 = mpatches.Patch(color='royalblue', label='90% Confidence')\n",
    "    ci95 = mpatches.Patch(color='lightsteelblue', label='95% Confidence')\n",
    "    plt.legend(handles=[ci80, ci90, ci95], loc='best')\n",
    "    plt.yticks(range(len(conf_int_df)), list(conf_int_df['category']))\n",
    "    plt.tight_layout();\n",
    "    \n",
    "    return None"
   ]
  },
  {
   "cell_type": "code",
   "execution_count": 174,
   "id": "associate-pricing",
   "metadata": {},
   "outputs": [],
   "source": [
    "def visualize_f1(conf_int_df, linewidth, figsize, title, ax=None):\n",
    "\n",
    "    plt.figure(figsize = figsize)\n",
    "\n",
    "    # plot 95% CI\n",
    "    for lower, upper, y in zip(conf_int_df['f1_lower_90'],\n",
    "                               conf_int_df['f1_upper_90'],\n",
    "                               range(len(conf_int_df))):\n",
    "\n",
    "        plt.plot((lower, upper), (y, y), color = 'thistle', linestyle='-', linewidth = linewidth*3)\n",
    "    \n",
    "    # plot 90% CI\n",
    "    for lower, upper, y in zip(conf_int_df['f1_lower_90'],\n",
    "                               conf_int_df['f1_upper_90'],\n",
    "                               range(len(conf_int_df))):\n",
    "\n",
    "        plt.plot((lower, upper), (y, y), color = 'darkslateblue', linestyle='-', linewidth = linewidth*2)\n",
    "        \n",
    "    # plot 80% CI\n",
    "    for lower, upper, y in zip(conf_int_df['f1_lower_80'],\n",
    "                               conf_int_df['f1_upper_80'],\n",
    "                               range(len(conf_int_df))):\n",
    "\n",
    "        plt.plot((lower, upper), (y, y), color = 'tomato', linestyle='-', linewidth = linewidth)\n",
    "\n",
    "    plt.yticks(range(len(conf_int_df)), list(conf_int_df['category']))\n",
    "    plt.title(f'F1 Confidence Intervals for {title}')\n",
    "    \n",
    "    return None"
   ]
  },
  {
   "cell_type": "code",
   "execution_count": 242,
   "id": "intellectual-documentary",
   "metadata": {},
   "outputs": [],
   "source": [
    "def visualize_precision(conf_int_df, linewidth, figsize, title):\n",
    "\n",
    "    plt.figure(figsize = figsize)\n",
    "\n",
    "    # plot 95% CI\n",
    "    for lower, upper, y in zip(conf_int_df['p_lower_90'],\n",
    "                               conf_int_df['p_upper_90'],\n",
    "                               range(len(conf_int_df))):\n",
    "\n",
    "        plt.plot((lower, upper), (y, y), color='lightsteelblue', linestyle='-', linewidth=linewidth*3)\n",
    "    \n",
    "    # plot 90% CI\n",
    "    for lower, upper, y in zip(conf_int_df['p_lower_90'],\n",
    "                               conf_int_df['p_upper_90'],\n",
    "                               range(len(conf_int_df))):\n",
    "\n",
    "        plt.plot((lower, upper), (y, y), color='royalblue', linestyle='-', linewidth=linewidth*2)\n",
    "        \n",
    "    # plot 80% CI\n",
    "    for lower, upper, y in zip(conf_int_df['p_lower_80'],\n",
    "                               conf_int_df['p_upper_80'],\n",
    "                               range(len(conf_int_df))):\n",
    "\n",
    "        plt.plot((lower, upper), (y, y), color='tomato', linestyle='-', linewidth=linewidth)\n",
    "\n",
    "    plt.yticks(range(len(conf_int_df)), list(conf_int_df['category']))\n",
    "    plt.title(f'Precision Confidence Intervals for {title}')\n",
    "    \n",
    "    return None"
   ]
  },
  {
   "cell_type": "code",
   "execution_count": 243,
   "id": "checked-major",
   "metadata": {},
   "outputs": [],
   "source": [
    "def visualize_recall(conf_int_df, linewidth, figsize, title):\n",
    "\n",
    "    plt.figure(figsize = figsize)\n",
    "\n",
    "    # plot 95% CI\n",
    "    for lower, upper, y in zip(conf_int_df['r_lower_90'],\n",
    "                               conf_int_df['r_upper_90'],\n",
    "                               range(len(conf_int_df))):\n",
    "\n",
    "        plt.plot((lower, upper), (y, y), color='lightsteelblue', linestyle='-', linewidth=linewidth*3)\n",
    "    \n",
    "    # plot 90% CI\n",
    "    for lower, upper, y in zip(conf_int_df['r_lower_90'],\n",
    "                               conf_int_df['r_upper_90'],\n",
    "                               range(len(conf_int_df))):\n",
    "\n",
    "        plt.plot((lower, upper), (y, y), color='royalblue', linestyle='-', linewidth=linewidth*2)\n",
    "        \n",
    "    # plot 80% CI\n",
    "    for lower, upper, y in zip(conf_int_df['r_lower_80'],\n",
    "                               conf_int_df['r_upper_80'],\n",
    "                               range(len(conf_int_df))):\n",
    "\n",
    "        plt.plot((lower, upper), (y, y), color='tomato', linestyle='-', linewidth=linewidth)\n",
    "\n",
    "    plt.yticks(range(len(conf_int_df)), list(conf_int_df['category']))\n",
    "    plt.title(f'Recall Confidence Intervals for {title}')\n",
    "    \n",
    "    return None"
   ]
  },
  {
   "cell_type": "markdown",
   "id": "dominican-chemistry",
   "metadata": {},
   "source": [
    "### Region"
   ]
  },
  {
   "cell_type": "code",
   "execution_count": 275,
   "id": "personal-burning",
   "metadata": {},
   "outputs": [
    {
     "data": {
      "image/png": "[encoded data removed]",
      "text/plain": [
       "<Figure size 792x288 with 2 Axes>"
      ]
     },
     "metadata": {
      "needs_background": "light"
     },
     "output_type": "display_data"
    }
   ],
   "source": [
    "visualize_precision_recall(region_conf, 6, (11,4), 'Regions', [1,2])"
   ]
  },
  {
   "cell_type": "markdown",
   "id": "insured-belgium",
   "metadata": {},
   "source": [
    "### Subregion"
   ]
  },
  {
   "cell_type": "code",
   "execution_count": 262,
   "id": "saving-captain",
   "metadata": {
    "scrolled": true
   },
   "outputs": [
    {
     "data": {
      "image/png": "[encoded data removed]",
      "text/plain": [
       "<Figure size 864x648 with 2 Axes>"
      ]
     },
     "metadata": {
      "needs_background": "light"
     },
     "output_type": "display_data"
    }
   ],
   "source": [
    "visualize_precision_recall(subregion_conf, 6, (12,9), 'Subregions', [2,1])"
   ]
  },
  {
   "cell_type": "markdown",
   "id": "analyzed-participation",
   "metadata": {},
   "source": [
    "### Biome"
   ]
  },
  {
   "cell_type": "code",
   "execution_count": 268,
   "id": "ecological-healing",
   "metadata": {
    "scrolled": true
   },
   "outputs": [
    {
     "data": {
      "image/png": "[encoded data removed]",
      "text/plain": [
       "<Figure size 1296x504 with 2 Axes>"
      ]
     },
     "metadata": {
      "needs_background": "light"
     },
     "output_type": "display_data"
    }
   ],
   "source": [
    "visualize_precision_recall(biome_conf, 6, (18,7), 'Biomes', [1,2])"
   ]
  },
  {
   "cell_type": "markdown",
   "id": "classified-valuable",
   "metadata": {},
   "source": [
    "#### Biomes (Africa)"
   ]
  },
  {
   "cell_type": "code",
   "execution_count": 223,
   "id": "literary-nowhere",
   "metadata": {},
   "outputs": [
    {
     "data": {
      "text/plain": [
       "(499, 16)"
      ]
     },
     "execution_count": 223,
     "metadata": {},
     "output_type": "execute_result"
    }
   ],
   "source": [
    "africa = df[df.region == 'Africa']\n",
    "africa.shape"
   ]
  },
  {
   "cell_type": "code",
   "execution_count": 281,
   "id": "organizational-survival",
   "metadata": {},
   "outputs": [
    {
     "data": {
      "text/html": [
       "<div>\n",
       "<style scoped>\n",
       "    .dataframe tbody tr th:only-of-type {\n",
       "        vertical-align: middle;\n",
       "    }\n",
       "\n",
       "    .dataframe tbody tr th {\n",
       "        vertical-align: top;\n",
       "    }\n",
       "\n",
       "    .dataframe thead th {\n",
       "        text-align: right;\n",
       "    }\n",
       "</style>\n",
       "<table border=\"1\" class=\"dataframe\">\n",
       "  <thead>\n",
       "    <tr style=\"text-align: right;\">\n",
       "      <th></th>\n",
       "      <th>field_1</th>\n",
       "      <th>plot_id</th>\n",
       "      <th>lat</th>\n",
       "      <th>long</th>\n",
       "      <th>error</th>\n",
       "      <th>abs_error</th>\n",
       "      <th>tp</th>\n",
       "      <th>fp</th>\n",
       "      <th>fn</th>\n",
       "      <th>tree_cover</th>\n",
       "      <th>tree_class</th>\n",
       "      <th>country</th>\n",
       "      <th>region</th>\n",
       "      <th>subregion</th>\n",
       "      <th>ecoregion</th>\n",
       "      <th>biome</th>\n",
       "    </tr>\n",
       "  </thead>\n",
       "  <tbody>\n",
       "    <tr>\n",
       "      <th>0</th>\n",
       "      <td>992</td>\n",
       "      <td>139270540</td>\n",
       "      <td>11.474302</td>\n",
       "      <td>41.516966</td>\n",
       "      <td>0</td>\n",
       "      <td>0</td>\n",
       "      <td>0</td>\n",
       "      <td>0</td>\n",
       "      <td>0</td>\n",
       "      <td>0</td>\n",
       "      <td>None (0%)</td>\n",
       "      <td>Ethiopia</td>\n",
       "      <td>Africa</td>\n",
       "      <td>Eastern Africa</td>\n",
       "      <td>Ethiopian Xeric Grasslands And Shrublands</td>\n",
       "      <td>Deserts and Xeric Shrublands</td>\n",
       "    </tr>\n",
       "    <tr>\n",
       "      <th>1</th>\n",
       "      <td>514</td>\n",
       "      <td>139191077</td>\n",
       "      <td>6.100608</td>\n",
       "      <td>48.748936</td>\n",
       "      <td>-1</td>\n",
       "      <td>1</td>\n",
       "      <td>0</td>\n",
       "      <td>1</td>\n",
       "      <td>0</td>\n",
       "      <td>0</td>\n",
       "      <td>None (0%)</td>\n",
       "      <td>Somalia</td>\n",
       "      <td>Africa</td>\n",
       "      <td>Eastern Africa</td>\n",
       "      <td>Hobyo Grasslands And Shrublands</td>\n",
       "      <td>Deserts and Xeric Shrublands</td>\n",
       "    </tr>\n",
       "    <tr>\n",
       "      <th>2</th>\n",
       "      <td>829</td>\n",
       "      <td>139270113</td>\n",
       "      <td>4.039354</td>\n",
       "      <td>47.390776</td>\n",
       "      <td>0</td>\n",
       "      <td>0</td>\n",
       "      <td>0</td>\n",
       "      <td>1</td>\n",
       "      <td>1</td>\n",
       "      <td>0</td>\n",
       "      <td>None (0%)</td>\n",
       "      <td>Somalia</td>\n",
       "      <td>Africa</td>\n",
       "      <td>Eastern Africa</td>\n",
       "      <td>Hobyo Grasslands And Shrublands</td>\n",
       "      <td>Deserts and Xeric Shrublands</td>\n",
       "    </tr>\n",
       "    <tr>\n",
       "      <th>3</th>\n",
       "      <td>848</td>\n",
       "      <td>139270158</td>\n",
       "      <td>-25.529835</td>\n",
       "      <td>25.238610</td>\n",
       "      <td>0</td>\n",
       "      <td>0</td>\n",
       "      <td>0</td>\n",
       "      <td>0</td>\n",
       "      <td>0</td>\n",
       "      <td>0</td>\n",
       "      <td>None (0%)</td>\n",
       "      <td>Botswana</td>\n",
       "      <td>Africa</td>\n",
       "      <td>Southern Africa</td>\n",
       "      <td>Kalahari Xeric Savanna</td>\n",
       "      <td>Deserts and Xeric Shrublands</td>\n",
       "    </tr>\n",
       "    <tr>\n",
       "      <th>4</th>\n",
       "      <td>845</td>\n",
       "      <td>139270154</td>\n",
       "      <td>-22.629077</td>\n",
       "      <td>19.624957</td>\n",
       "      <td>-1</td>\n",
       "      <td>1</td>\n",
       "      <td>1</td>\n",
       "      <td>0</td>\n",
       "      <td>0</td>\n",
       "      <td>0</td>\n",
       "      <td>None (0%)</td>\n",
       "      <td>Namibia</td>\n",
       "      <td>Africa</td>\n",
       "      <td>Southern Africa</td>\n",
       "      <td>Kalahari Xeric Savanna</td>\n",
       "      <td>Deserts and Xeric Shrublands</td>\n",
       "    </tr>\n",
       "  </tbody>\n",
       "</table>\n",
       "</div>"
      ],
      "text/plain": [
       "   field_1    plot_id        lat       long  error  abs_error  tp  fp  fn  \\\n",
       "0      992  139270540  11.474302  41.516966      0          0   0   0   0   \n",
       "1      514  139191077   6.100608  48.748936     -1          1   0   1   0   \n",
       "2      829  139270113   4.039354  47.390776      0          0   0   1   1   \n",
       "3      848  139270158 -25.529835  25.238610      0          0   0   0   0   \n",
       "4      845  139270154 -22.629077  19.624957     -1          1   1   0   0   \n",
       "\n",
       "   tree_cover tree_class   country  region        subregion  \\\n",
       "0           0  None (0%)  Ethiopia  Africa   Eastern Africa   \n",
       "1           0  None (0%)   Somalia  Africa   Eastern Africa   \n",
       "2           0  None (0%)   Somalia  Africa   Eastern Africa   \n",
       "3           0  None (0%)  Botswana  Africa  Southern Africa   \n",
       "4           0  None (0%)   Namibia  Africa  Southern Africa   \n",
       "\n",
       "                                   ecoregion                         biome  \n",
       "0  Ethiopian Xeric Grasslands And Shrublands  Deserts and Xeric Shrublands  \n",
       "1            Hobyo Grasslands And Shrublands  Deserts and Xeric Shrublands  \n",
       "2            Hobyo Grasslands And Shrublands  Deserts and Xeric Shrublands  \n",
       "3                     Kalahari Xeric Savanna  Deserts and Xeric Shrublands  \n",
       "4                     Kalahari Xeric Savanna  Deserts and Xeric Shrublands  "
      ]
     },
     "execution_count": 281,
     "metadata": {},
     "output_type": "execute_result"
    }
   ],
   "source": [
    "africa.head()"
   ]
  },
  {
   "cell_type": "code",
   "execution_count": 184,
   "id": "prospective-coral",
   "metadata": {},
   "outputs": [
    {
     "name": "stdout",
     "output_type": "stream",
     "text": [
      "biome has 8 subcategories. 8000 samples in total.\n"
     ]
    },
    {
     "name": "stderr",
     "output_type": "stream",
     "text": [
      "/Users/jessicaertel/anaconda3/lib/python3.7/site-packages/ipykernel_launcher.py:11: RuntimeWarning: invalid value encountered in long_scalars\n",
      "  # This is added back by InteractiveShellApp.init_path()\n",
      "/Users/jessicaertel/anaconda3/lib/python3.7/site-packages/ipykernel_launcher.py:13: RuntimeWarning: invalid value encountered in double_scalars\n",
      "  del sys.path[0]\n"
     ]
    }
   ],
   "source": [
    "africa_val, africa_conf = bootstrap(africa, 'biome', 1000)"
   ]
  },
  {
   "cell_type": "code",
   "execution_count": 298,
   "id": "civic-policy",
   "metadata": {
    "scrolled": true
   },
   "outputs": [
    {
     "data": {
      "image/png": "[encoded data removed]",
      "text/plain": [
       "<Figure size 1224x648 with 2 Axes>"
      ]
     },
     "metadata": {
      "needs_background": "light"
     },
     "output_type": "display_data"
    }
   ],
   "source": [
    "visualize_precision_recall(africa_conf.dropna(axis=0), 6, (17,9), 'Biomes in Africa', [2,1])"
   ]
  },
  {
   "cell_type": "markdown",
   "id": "committed-robert",
   "metadata": {},
   "source": [
    "#### Biomes (East Africa)"
   ]
  },
  {
   "cell_type": "code",
   "execution_count": 299,
   "id": "difficult-origin",
   "metadata": {},
   "outputs": [
    {
     "data": {
      "text/plain": [
       "(180, 16)"
      ]
     },
     "execution_count": 299,
     "metadata": {},
     "output_type": "execute_result"
    }
   ],
   "source": [
    "east_africa = df[df.subregion == 'Eastern Africa']\n",
    "east_africa.shape"
   ]
  },
  {
   "cell_type": "code",
   "execution_count": 246,
   "id": "developmental-estate",
   "metadata": {
    "scrolled": false
   },
   "outputs": [
    {
     "name": "stdout",
     "output_type": "stream",
     "text": [
      "biome has 6 subcategories. 6000 samples in total.\n"
     ]
    }
   ],
   "source": [
    "east_africa_val, east_africa_conf = bootstrap(east_africa, 'biome', 1000)"
   ]
  },
  {
   "cell_type": "code",
   "execution_count": 331,
   "id": "pleasant-vegetarian",
   "metadata": {},
   "outputs": [
    {
     "data": {
      "image/png": "[encoded data removed]",
      "text/plain": [
       "<Figure size 1224x576 with 2 Axes>"
      ]
     },
     "metadata": {
      "needs_background": "light"
     },
     "output_type": "display_data"
    }
   ],
   "source": [
    "visualize_precision_recall(east_africa_conf.dropna(axis=0), 6, (17,8), 'Biomes in Eastern Africa', [2,1])"
   ]
  },
  {
   "cell_type": "markdown",
   "id": "understood-junior",
   "metadata": {},
   "source": [
    "### Country"
   ]
  },
  {
   "cell_type": "markdown",
   "id": "bacterial-executive",
   "metadata": {},
   "source": [
    "#### Countries in Eastern Africa"
   ]
  },
  {
   "cell_type": "code",
   "execution_count": 332,
   "id": "comprehensive-bradford",
   "metadata": {},
   "outputs": [
    {
     "data": {
      "text/plain": [
       "(180, 16)"
      ]
     },
     "execution_count": 332,
     "metadata": {},
     "output_type": "execute_result"
    }
   ],
   "source": [
    "ea_countries = df[df.subregion == 'Eastern Africa']\n",
    "ea_countries.shape"
   ]
  },
  {
   "cell_type": "code",
   "execution_count": 334,
   "id": "advised-architect",
   "metadata": {},
   "outputs": [
    {
     "data": {
      "text/plain": [
       "Madagascar                     35\n",
       "Ethiopia                       24\n",
       "United Republic of Tanzania    23\n",
       "Kenya                          18\n",
       "Zimbabwe                       15\n",
       "Zambia                         15\n",
       "Mozambique                     13\n",
       "Somalia                         8\n",
       "Uganda                          8\n",
       "South Sudan                     7\n",
       "Malawi                          6\n",
       "Somaliland                      3\n",
       "Eritrea                         2\n",
       "Rwanda                          2\n",
       "Burundi                         1\n",
       "Name: country, dtype: int64"
      ]
     },
     "execution_count": 334,
     "metadata": {},
     "output_type": "execute_result"
    }
   ],
   "source": [
    "ea_countries.country.value_counts()"
   ]
  },
  {
   "cell_type": "code",
   "execution_count": 335,
   "id": "hazardous-municipality",
   "metadata": {},
   "outputs": [
    {
     "name": "stdout",
     "output_type": "stream",
     "text": [
      "country has 11 subcategories. 11000 samples in total.\n"
     ]
    },
    {
     "name": "stderr",
     "output_type": "stream",
     "text": [
      "/Users/jessicaertel/anaconda3/lib/python3.7/site-packages/ipykernel_launcher.py:13: RuntimeWarning: invalid value encountered in double_scalars\n",
      "  del sys.path[0]\n"
     ]
    }
   ],
   "source": [
    "ea_countries_val, ea_countries_conf = bootstrap(ea_countries, 'country', 1000)"
   ]
  },
  {
   "cell_type": "code",
   "execution_count": 338,
   "id": "overhead-neutral",
   "metadata": {},
   "outputs": [
    {
     "data": {
      "text/html": [
       "<div>\n",
       "<style scoped>\n",
       "    .dataframe tbody tr th:only-of-type {\n",
       "        vertical-align: middle;\n",
       "    }\n",
       "\n",
       "    .dataframe tbody tr th {\n",
       "        vertical-align: top;\n",
       "    }\n",
       "\n",
       "    .dataframe thead th {\n",
       "        text-align: right;\n",
       "    }\n",
       "</style>\n",
       "<table border=\"1\" class=\"dataframe\">\n",
       "  <thead>\n",
       "    <tr style=\"text-align: right;\">\n",
       "      <th></th>\n",
       "      <th>scale</th>\n",
       "      <th>category</th>\n",
       "      <th>p_lower_95</th>\n",
       "      <th>p_upper_95</th>\n",
       "      <th>r_lower_95</th>\n",
       "      <th>r_upper_95</th>\n",
       "      <th>f1_lower_95</th>\n",
       "      <th>f1_upper_95</th>\n",
       "      <th>p_lower_90</th>\n",
       "      <th>p_upper_90</th>\n",
       "      <th>r_lower_90</th>\n",
       "      <th>r_upper_90</th>\n",
       "      <th>f1_lower_90</th>\n",
       "      <th>f1_upper_90</th>\n",
       "      <th>p_lower_80</th>\n",
       "      <th>p_upper_80</th>\n",
       "      <th>r_lower_80</th>\n",
       "      <th>r_upper_80</th>\n",
       "      <th>f1_lower_80</th>\n",
       "      <th>f1_upper_80</th>\n",
       "    </tr>\n",
       "  </thead>\n",
       "  <tbody>\n",
       "    <tr>\n",
       "      <th>0</th>\n",
       "      <td>country</td>\n",
       "      <td>Zambia</td>\n",
       "      <td>0.939415</td>\n",
       "      <td>0.947446</td>\n",
       "      <td>0.982631</td>\n",
       "      <td>0.984896</td>\n",
       "      <td>0.961180</td>\n",
       "      <td>0.965323</td>\n",
       "      <td>0.943762</td>\n",
       "      <td>0.947265</td>\n",
       "      <td>0.982655</td>\n",
       "      <td>0.983909</td>\n",
       "      <td>0.963165</td>\n",
       "      <td>0.965128</td>\n",
       "      <td>0.944494</td>\n",
       "      <td>0.947094</td>\n",
       "      <td>0.982682</td>\n",
       "      <td>0.983672</td>\n",
       "      <td>0.963451</td>\n",
       "      <td>0.964944</td>\n",
       "    </tr>\n",
       "    <tr>\n",
       "      <th>1</th>\n",
       "      <td>country</td>\n",
       "      <td>Mozambique</td>\n",
       "      <td>0.907229</td>\n",
       "      <td>0.913435</td>\n",
       "      <td>0.922486</td>\n",
       "      <td>0.927642</td>\n",
       "      <td>0.915761</td>\n",
       "      <td>0.919827</td>\n",
       "      <td>0.908176</td>\n",
       "      <td>0.913216</td>\n",
       "      <td>0.923422</td>\n",
       "      <td>0.927330</td>\n",
       "      <td>0.916735</td>\n",
       "      <td>0.919229</td>\n",
       "      <td>0.908819</td>\n",
       "      <td>0.912964</td>\n",
       "      <td>0.924347</td>\n",
       "      <td>0.926931</td>\n",
       "      <td>0.917419</td>\n",
       "      <td>0.918900</td>\n",
       "    </tr>\n",
       "    <tr>\n",
       "      <th>2</th>\n",
       "      <td>country</td>\n",
       "      <td>Kenya</td>\n",
       "      <td>0.949709</td>\n",
       "      <td>0.954651</td>\n",
       "      <td>0.865933</td>\n",
       "      <td>0.881599</td>\n",
       "      <td>0.907170</td>\n",
       "      <td>0.915967</td>\n",
       "      <td>0.950099</td>\n",
       "      <td>0.954111</td>\n",
       "      <td>0.872561</td>\n",
       "      <td>0.881290</td>\n",
       "      <td>0.910321</td>\n",
       "      <td>0.915763</td>\n",
       "      <td>0.950456</td>\n",
       "      <td>0.953497</td>\n",
       "      <td>0.875480</td>\n",
       "      <td>0.880988</td>\n",
       "      <td>0.911700</td>\n",
       "      <td>0.915650</td>\n",
       "    </tr>\n",
       "    <tr>\n",
       "      <th>3</th>\n",
       "      <td>country</td>\n",
       "      <td>South Sudan</td>\n",
       "      <td>0.995825</td>\n",
       "      <td>0.996827</td>\n",
       "      <td>1.000000</td>\n",
       "      <td>1.000000</td>\n",
       "      <td>0.997908</td>\n",
       "      <td>0.998411</td>\n",
       "      <td>0.995959</td>\n",
       "      <td>0.996821</td>\n",
       "      <td>1.000000</td>\n",
       "      <td>1.000000</td>\n",
       "      <td>0.997975</td>\n",
       "      <td>0.998408</td>\n",
       "      <td>0.996223</td>\n",
       "      <td>0.996781</td>\n",
       "      <td>1.000000</td>\n",
       "      <td>1.000000</td>\n",
       "      <td>0.998108</td>\n",
       "      <td>0.998388</td>\n",
       "    </tr>\n",
       "    <tr>\n",
       "      <th>4</th>\n",
       "      <td>country</td>\n",
       "      <td>Uganda</td>\n",
       "      <td>0.892578</td>\n",
       "      <td>0.911135</td>\n",
       "      <td>0.916377</td>\n",
       "      <td>0.923723</td>\n",
       "      <td>0.904474</td>\n",
       "      <td>0.916549</td>\n",
       "      <td>0.897714</td>\n",
       "      <td>0.910318</td>\n",
       "      <td>0.919005</td>\n",
       "      <td>0.923215</td>\n",
       "      <td>0.908002</td>\n",
       "      <td>0.916063</td>\n",
       "      <td>0.905876</td>\n",
       "      <td>0.909854</td>\n",
       "      <td>0.919968</td>\n",
       "      <td>0.922828</td>\n",
       "      <td>0.913597</td>\n",
       "      <td>0.915842</td>\n",
       "    </tr>\n",
       "    <tr>\n",
       "      <th>5</th>\n",
       "      <td>country</td>\n",
       "      <td>Zimbabwe</td>\n",
       "      <td>0.903208</td>\n",
       "      <td>0.909285</td>\n",
       "      <td>0.914477</td>\n",
       "      <td>0.921337</td>\n",
       "      <td>0.908833</td>\n",
       "      <td>0.914945</td>\n",
       "      <td>0.903286</td>\n",
       "      <td>0.908606</td>\n",
       "      <td>0.914533</td>\n",
       "      <td>0.920603</td>\n",
       "      <td>0.908917</td>\n",
       "      <td>0.914249</td>\n",
       "      <td>0.903389</td>\n",
       "      <td>0.908111</td>\n",
       "      <td>0.914650</td>\n",
       "      <td>0.919804</td>\n",
       "      <td>0.909028</td>\n",
       "      <td>0.913820</td>\n",
       "    </tr>\n",
       "    <tr>\n",
       "      <th>6</th>\n",
       "      <td>country</td>\n",
       "      <td>Madagascar</td>\n",
       "      <td>0.981538</td>\n",
       "      <td>0.982892</td>\n",
       "      <td>0.965069</td>\n",
       "      <td>0.966462</td>\n",
       "      <td>0.973481</td>\n",
       "      <td>0.974395</td>\n",
       "      <td>0.981627</td>\n",
       "      <td>0.982846</td>\n",
       "      <td>0.965179</td>\n",
       "      <td>0.966214</td>\n",
       "      <td>0.973687</td>\n",
       "      <td>0.974319</td>\n",
       "      <td>0.981836</td>\n",
       "      <td>0.982800</td>\n",
       "      <td>0.965311</td>\n",
       "      <td>0.966074</td>\n",
       "      <td>0.973827</td>\n",
       "      <td>0.974279</td>\n",
       "    </tr>\n",
       "    <tr>\n",
       "      <th>7</th>\n",
       "      <td>country</td>\n",
       "      <td>Malawi</td>\n",
       "      <td>0.869734</td>\n",
       "      <td>0.898386</td>\n",
       "      <td>0.399320</td>\n",
       "      <td>0.428019</td>\n",
       "      <td>0.547599</td>\n",
       "      <td>0.580072</td>\n",
       "      <td>0.869937</td>\n",
       "      <td>0.891311</td>\n",
       "      <td>0.399591</td>\n",
       "      <td>0.423761</td>\n",
       "      <td>0.547756</td>\n",
       "      <td>0.574480</td>\n",
       "      <td>0.870131</td>\n",
       "      <td>0.876952</td>\n",
       "      <td>0.399951</td>\n",
       "      <td>0.413856</td>\n",
       "      <td>0.548053</td>\n",
       "      <td>0.561889</td>\n",
       "    </tr>\n",
       "    <tr>\n",
       "      <th>8</th>\n",
       "      <td>country</td>\n",
       "      <td>Somalia</td>\n",
       "      <td>0.000000</td>\n",
       "      <td>0.000000</td>\n",
       "      <td>0.000000</td>\n",
       "      <td>0.000000</td>\n",
       "      <td>NaN</td>\n",
       "      <td>NaN</td>\n",
       "      <td>0.000000</td>\n",
       "      <td>0.000000</td>\n",
       "      <td>0.000000</td>\n",
       "      <td>0.000000</td>\n",
       "      <td>NaN</td>\n",
       "      <td>NaN</td>\n",
       "      <td>0.000000</td>\n",
       "      <td>0.000000</td>\n",
       "      <td>0.000000</td>\n",
       "      <td>0.000000</td>\n",
       "      <td>NaN</td>\n",
       "      <td>NaN</td>\n",
       "    </tr>\n",
       "    <tr>\n",
       "      <th>9</th>\n",
       "      <td>country</td>\n",
       "      <td>United Republic of Tanzania</td>\n",
       "      <td>0.991512</td>\n",
       "      <td>0.992561</td>\n",
       "      <td>0.904271</td>\n",
       "      <td>0.912480</td>\n",
       "      <td>0.945885</td>\n",
       "      <td>0.950635</td>\n",
       "      <td>0.991548</td>\n",
       "      <td>0.992466</td>\n",
       "      <td>0.904800</td>\n",
       "      <td>0.910492</td>\n",
       "      <td>0.946170</td>\n",
       "      <td>0.949481</td>\n",
       "      <td>0.991625</td>\n",
       "      <td>0.991986</td>\n",
       "      <td>0.905298</td>\n",
       "      <td>0.910100</td>\n",
       "      <td>0.946500</td>\n",
       "      <td>0.949264</td>\n",
       "    </tr>\n",
       "    <tr>\n",
       "      <th>10</th>\n",
       "      <td>country</td>\n",
       "      <td>Ethiopia</td>\n",
       "      <td>0.884464</td>\n",
       "      <td>0.889388</td>\n",
       "      <td>0.805124</td>\n",
       "      <td>0.816751</td>\n",
       "      <td>0.844280</td>\n",
       "      <td>0.850573</td>\n",
       "      <td>0.885342</td>\n",
       "      <td>0.889323</td>\n",
       "      <td>0.805973</td>\n",
       "      <td>0.814415</td>\n",
       "      <td>0.844699</td>\n",
       "      <td>0.848642</td>\n",
       "      <td>0.886607</td>\n",
       "      <td>0.889163</td>\n",
       "      <td>0.806639</td>\n",
       "      <td>0.812938</td>\n",
       "      <td>0.845346</td>\n",
       "      <td>0.847905</td>\n",
       "    </tr>\n",
       "  </tbody>\n",
       "</table>\n",
       "</div>"
      ],
      "text/plain": [
       "      scale                     category  p_lower_95  p_upper_95  r_lower_95  \\\n",
       "0   country                       Zambia    0.939415    0.947446    0.982631   \n",
       "1   country                   Mozambique    0.907229    0.913435    0.922486   \n",
       "2   country                        Kenya    0.949709    0.954651    0.865933   \n",
       "3   country                  South Sudan    0.995825    0.996827    1.000000   \n",
       "4   country                       Uganda    0.892578    0.911135    0.916377   \n",
       "5   country                     Zimbabwe    0.903208    0.909285    0.914477   \n",
       "6   country                   Madagascar    0.981538    0.982892    0.965069   \n",
       "7   country                       Malawi    0.869734    0.898386    0.399320   \n",
       "8   country                      Somalia    0.000000    0.000000    0.000000   \n",
       "9   country  United Republic of Tanzania    0.991512    0.992561    0.904271   \n",
       "10  country                     Ethiopia    0.884464    0.889388    0.805124   \n",
       "\n",
       "    r_upper_95  f1_lower_95  f1_upper_95  p_lower_90  p_upper_90  r_lower_90  \\\n",
       "0     0.984896     0.961180     0.965323    0.943762    0.947265    0.982655   \n",
       "1     0.927642     0.915761     0.919827    0.908176    0.913216    0.923422   \n",
       "2     0.881599     0.907170     0.915967    0.950099    0.954111    0.872561   \n",
       "3     1.000000     0.997908     0.998411    0.995959    0.996821    1.000000   \n",
       "4     0.923723     0.904474     0.916549    0.897714    0.910318    0.919005   \n",
       "5     0.921337     0.908833     0.914945    0.903286    0.908606    0.914533   \n",
       "6     0.966462     0.973481     0.974395    0.981627    0.982846    0.965179   \n",
       "7     0.428019     0.547599     0.580072    0.869937    0.891311    0.399591   \n",
       "8     0.000000          NaN          NaN    0.000000    0.000000    0.000000   \n",
       "9     0.912480     0.945885     0.950635    0.991548    0.992466    0.904800   \n",
       "10    0.816751     0.844280     0.850573    0.885342    0.889323    0.805973   \n",
       "\n",
       "    r_upper_90  f1_lower_90  f1_upper_90  p_lower_80  p_upper_80  r_lower_80  \\\n",
       "0     0.983909     0.963165     0.965128    0.944494    0.947094    0.982682   \n",
       "1     0.927330     0.916735     0.919229    0.908819    0.912964    0.924347   \n",
       "2     0.881290     0.910321     0.915763    0.950456    0.953497    0.875480   \n",
       "3     1.000000     0.997975     0.998408    0.996223    0.996781    1.000000   \n",
       "4     0.923215     0.908002     0.916063    0.905876    0.909854    0.919968   \n",
       "5     0.920603     0.908917     0.914249    0.903389    0.908111    0.914650   \n",
       "6     0.966214     0.973687     0.974319    0.981836    0.982800    0.965311   \n",
       "7     0.423761     0.547756     0.574480    0.870131    0.876952    0.399951   \n",
       "8     0.000000          NaN          NaN    0.000000    0.000000    0.000000   \n",
       "9     0.910492     0.946170     0.949481    0.991625    0.991986    0.905298   \n",
       "10    0.814415     0.844699     0.848642    0.886607    0.889163    0.806639   \n",
       "\n",
       "    r_upper_80  f1_lower_80  f1_upper_80  \n",
       "0     0.983672     0.963451     0.964944  \n",
       "1     0.926931     0.917419     0.918900  \n",
       "2     0.880988     0.911700     0.915650  \n",
       "3     1.000000     0.998108     0.998388  \n",
       "4     0.922828     0.913597     0.915842  \n",
       "5     0.919804     0.909028     0.913820  \n",
       "6     0.966074     0.973827     0.974279  \n",
       "7     0.413856     0.548053     0.561889  \n",
       "8     0.000000          NaN          NaN  \n",
       "9     0.910100     0.946500     0.949264  \n",
       "10    0.812938     0.845346     0.847905  "
      ]
     },
     "execution_count": 338,
     "metadata": {},
     "output_type": "execute_result"
    }
   ],
   "source": [
    "ea_countries_conf"
   ]
  },
  {
   "cell_type": "code",
   "execution_count": 361,
   "id": "normal-penny",
   "metadata": {},
   "outputs": [
    {
     "data": {
      "image/png": "[encoded data removed]",
      "text/plain": [
       "<Figure size 1440x648 with 2 Axes>"
      ]
     },
     "metadata": {
      "needs_background": "light"
     },
     "output_type": "display_data"
    }
   ],
   "source": [
    "visualize_precision_recall(ea_countries_conf.dropna(axis=0), 6, (20,9), \"Countries (East Africa)\", [1,2])"
   ]
  },
  {
   "cell_type": "markdown",
   "id": "sticky-awareness",
   "metadata": {},
   "source": [
    "### Heatmap (in progress)\n",
    "Expectation is to have a heatmap with biome by subregion\n",
    "Mean of the precision would be hue and CI would be opacity. Less confident = darker and more opaque. More confident = brighter and less opaque.\n"
   ]
  },
  {
   "cell_type": "code",
   "execution_count": 206,
   "id": "healthy-poultry",
   "metadata": {
    "scrolled": true
   },
   "outputs": [
    {
     "data": {
      "text/html": [
       "<div>\n",
       "<style scoped>\n",
       "    .dataframe tbody tr th:only-of-type {\n",
       "        vertical-align: middle;\n",
       "    }\n",
       "\n",
       "    .dataframe tbody tr th {\n",
       "        vertical-align: top;\n",
       "    }\n",
       "\n",
       "    .dataframe thead th {\n",
       "        text-align: right;\n",
       "    }\n",
       "</style>\n",
       "<table border=\"1\" class=\"dataframe\">\n",
       "  <thead>\n",
       "    <tr style=\"text-align: right;\">\n",
       "      <th></th>\n",
       "      <th>scale</th>\n",
       "      <th>category</th>\n",
       "      <th>precision</th>\n",
       "      <th>recall</th>\n",
       "      <th>f1</th>\n",
       "    </tr>\n",
       "  </thead>\n",
       "  <tbody>\n",
       "    <tr>\n",
       "      <th>0</th>\n",
       "      <td>biome</td>\n",
       "      <td>Temperate Broadleaf and Mixed Forests</td>\n",
       "      <td>0.983633</td>\n",
       "      <td>1.000000</td>\n",
       "      <td>0.991749</td>\n",
       "    </tr>\n",
       "    <tr>\n",
       "      <th>1</th>\n",
       "      <td>biome</td>\n",
       "      <td>Temperate Broadleaf and Mixed Forests</td>\n",
       "      <td>0.976655</td>\n",
       "      <td>0.996597</td>\n",
       "      <td>0.986525</td>\n",
       "    </tr>\n",
       "    <tr>\n",
       "      <th>2</th>\n",
       "      <td>biome</td>\n",
       "      <td>Temperate Broadleaf and Mixed Forests</td>\n",
       "      <td>0.979599</td>\n",
       "      <td>0.994779</td>\n",
       "      <td>0.987130</td>\n",
       "    </tr>\n",
       "    <tr>\n",
       "      <th>3</th>\n",
       "      <td>biome</td>\n",
       "      <td>Temperate Broadleaf and Mixed Forests</td>\n",
       "      <td>0.979980</td>\n",
       "      <td>0.994482</td>\n",
       "      <td>0.987178</td>\n",
       "    </tr>\n",
       "    <tr>\n",
       "      <th>4</th>\n",
       "      <td>biome</td>\n",
       "      <td>Temperate Broadleaf and Mixed Forests</td>\n",
       "      <td>0.983841</td>\n",
       "      <td>0.992822</td>\n",
       "      <td>0.988311</td>\n",
       "    </tr>\n",
       "  </tbody>\n",
       "</table>\n",
       "</div>"
      ],
      "text/plain": [
       "   scale                               category  precision    recall        f1\n",
       "0  biome  Temperate Broadleaf and Mixed Forests   0.983633  1.000000  0.991749\n",
       "1  biome  Temperate Broadleaf and Mixed Forests   0.976655  0.996597  0.986525\n",
       "2  biome  Temperate Broadleaf and Mixed Forests   0.979599  0.994779  0.987130\n",
       "3  biome  Temperate Broadleaf and Mixed Forests   0.979980  0.994482  0.987178\n",
       "4  biome  Temperate Broadleaf and Mixed Forests   0.983841  0.992822  0.988311"
      ]
     },
     "execution_count": 206,
     "metadata": {},
     "output_type": "execute_result"
    }
   ],
   "source": [
    "biome_val.head()"
   ]
  },
  {
   "cell_type": "code",
   "execution_count": 207,
   "id": "instructional-arthritis",
   "metadata": {},
   "outputs": [
    {
     "data": {
      "text/html": [
       "<div>\n",
       "<style scoped>\n",
       "    .dataframe tbody tr th:only-of-type {\n",
       "        vertical-align: middle;\n",
       "    }\n",
       "\n",
       "    .dataframe tbody tr th {\n",
       "        vertical-align: top;\n",
       "    }\n",
       "\n",
       "    .dataframe thead th {\n",
       "        text-align: right;\n",
       "    }\n",
       "</style>\n",
       "<table border=\"1\" class=\"dataframe\">\n",
       "  <thead>\n",
       "    <tr style=\"text-align: right;\">\n",
       "      <th></th>\n",
       "      <th>scale</th>\n",
       "      <th>category</th>\n",
       "      <th>precision</th>\n",
       "      <th>recall</th>\n",
       "      <th>f1</th>\n",
       "    </tr>\n",
       "  </thead>\n",
       "  <tbody>\n",
       "    <tr>\n",
       "      <th>0</th>\n",
       "      <td>subregion</td>\n",
       "      <td>Southern Africa</td>\n",
       "      <td>0.967645</td>\n",
       "      <td>0.932560</td>\n",
       "      <td>0.949778</td>\n",
       "    </tr>\n",
       "    <tr>\n",
       "      <th>1</th>\n",
       "      <td>subregion</td>\n",
       "      <td>Southern Africa</td>\n",
       "      <td>0.966603</td>\n",
       "      <td>0.917507</td>\n",
       "      <td>0.941416</td>\n",
       "    </tr>\n",
       "    <tr>\n",
       "      <th>2</th>\n",
       "      <td>subregion</td>\n",
       "      <td>Southern Africa</td>\n",
       "      <td>0.956439</td>\n",
       "      <td>0.922374</td>\n",
       "      <td>0.939098</td>\n",
       "    </tr>\n",
       "    <tr>\n",
       "      <th>3</th>\n",
       "      <td>subregion</td>\n",
       "      <td>Southern Africa</td>\n",
       "      <td>0.950470</td>\n",
       "      <td>0.916682</td>\n",
       "      <td>0.933270</td>\n",
       "    </tr>\n",
       "    <tr>\n",
       "      <th>4</th>\n",
       "      <td>subregion</td>\n",
       "      <td>Southern Africa</td>\n",
       "      <td>0.953409</td>\n",
       "      <td>0.925288</td>\n",
       "      <td>0.939138</td>\n",
       "    </tr>\n",
       "  </tbody>\n",
       "</table>\n",
       "</div>"
      ],
      "text/plain": [
       "       scale         category  precision    recall        f1\n",
       "0  subregion  Southern Africa   0.967645  0.932560  0.949778\n",
       "1  subregion  Southern Africa   0.966603  0.917507  0.941416\n",
       "2  subregion  Southern Africa   0.956439  0.922374  0.939098\n",
       "3  subregion  Southern Africa   0.950470  0.916682  0.933270\n",
       "4  subregion  Southern Africa   0.953409  0.925288  0.939138"
      ]
     },
     "execution_count": 207,
     "metadata": {},
     "output_type": "execute_result"
    }
   ],
   "source": [
    "subregion_val.head()"
   ]
  },
  {
   "cell_type": "code",
   "execution_count": null,
   "id": "wooden-birth",
   "metadata": {},
   "outputs": [],
   "source": [
    "df_biome_subreg = pd.concat()"
   ]
  },
  {
   "cell_type": "code",
   "execution_count": null,
   "id": "fitted-wellington",
   "metadata": {},
   "outputs": [],
   "source": [
    "# convert long form to tidy form\n",
    "hm1 = pd.pivot_table(biome_val.precision.values)"
   ]
  }
 ],
 "metadata": {
  "kernelspec": {
   "display_name": "Python 3",
   "language": "python",
   "name": "python3"
  },
  "language_info": {
   "codemirror_mode": {
    "name": "ipython",
    "version": 3
   },
   "file_extension": ".py",
   "mimetype": "text/x-python",
   "name": "python",
   "nbconvert_exporter": "python",
   "pygments_lexer": "ipython3",
   "version": "3.7.0"
  },
  "toc": {
   "base_numbering": 1,
   "nav_menu": {},
   "number_sections": true,
   "sideBar": true,
   "skip_h1_title": false,
   "title_cell": "Table of Contents",
   "title_sidebar": "Contents",
   "toc_cell": false,
   "toc_position": {
    "height": "calc(100% - 180px)",
    "left": "10px",
    "top": "150px",
    "width": "165px"
   },
   "toc_section_display": true,
   "toc_window_display": true
  }
 },
 "nbformat": 4,
 "nbformat_minor": 5
}
