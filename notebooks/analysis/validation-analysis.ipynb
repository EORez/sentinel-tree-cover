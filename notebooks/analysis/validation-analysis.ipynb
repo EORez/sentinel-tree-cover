{
 "cells": [
  {
   "cell_type": "markdown",
   "id": "statutory-improvement",
   "metadata": {},
   "source": [
    "# Validation Analysis\n",
    "\n",
    "## Objective\n",
    "Develop accuracy assessments for tree cover predictions in each country, region, subregion, ecoregion and biome to understand how the model performs differently in each class and determine where we need more data.  \n",
    "Ultimately we want to be able to say \"the error of the model at predicting tree cover was x +/- y at the 95% confidence level\". When we report on numbers we will directly reference these confidence intervals.\n",
    "\n",
    "## Steps\n",
    "- Start with biomes because they will have tight error bars\n",
    "- Bootstrap sample n times from each biome\n",
    "- Calculate precision, recall and F1 scores for each bootstrap\n",
    "- Calculate 75%, 95%, 99% confidence intervals for the samples\n",
    "- Repeat for other categories and see what the error bars look like\n",
    "- Create visualizations to see the error bars (heatmap? examples [here?](https://clauswilke.com/dataviz/visualizing-uncertainty.html))\n",
    "\n",
    "## Key Questions\n",
    "- How granular can we make these validation assessments for each region/subregion/ecoregion? \n",
    "- Confidence intervals: How confident are we that a certain range around these estimates of tree cover actually contains the true parameter?\n",
    "- What do the error bars look like for precision, recall and percent error? "
   ]
  },
  {
   "cell_type": "code",
   "execution_count": 1,
   "id": "proprietary-iceland",
   "metadata": {},
   "outputs": [],
   "source": [
    "import pandas as pd\n",
    "import numpy as np\n",
    "import matplotlib.pyplot as plt"
   ]
  },
  {
   "cell_type": "markdown",
   "id": "selected-lender",
   "metadata": {},
   "source": [
    "## Quick EDA"
   ]
  },
  {
   "cell_type": "code",
   "execution_count": 2,
   "id": "sixth-behalf",
   "metadata": {},
   "outputs": [
    {
     "data": {
      "text/html": [
       "<div>\n",
       "<style scoped>\n",
       "    .dataframe tbody tr th:only-of-type {\n",
       "        vertical-align: middle;\n",
       "    }\n",
       "\n",
       "    .dataframe tbody tr th {\n",
       "        vertical-align: top;\n",
       "    }\n",
       "\n",
       "    .dataframe thead th {\n",
       "        text-align: right;\n",
       "    }\n",
       "</style>\n",
       "<table border=\"1\" class=\"dataframe\">\n",
       "  <thead>\n",
       "    <tr style=\"text-align: right;\">\n",
       "      <th></th>\n",
       "      <th>field_1</th>\n",
       "      <th>plot_id</th>\n",
       "      <th>lat</th>\n",
       "      <th>long</th>\n",
       "      <th>error</th>\n",
       "      <th>abs_error</th>\n",
       "      <th>tp</th>\n",
       "      <th>fp</th>\n",
       "      <th>fn</th>\n",
       "      <th>tree_cover</th>\n",
       "      <th>tree_class</th>\n",
       "      <th>country</th>\n",
       "      <th>region</th>\n",
       "      <th>subregion</th>\n",
       "      <th>ecoregion</th>\n",
       "      <th>biome</th>\n",
       "    </tr>\n",
       "  </thead>\n",
       "  <tbody>\n",
       "    <tr>\n",
       "      <th>0</th>\n",
       "      <td>992</td>\n",
       "      <td>139270540</td>\n",
       "      <td>11.474302</td>\n",
       "      <td>41.516966</td>\n",
       "      <td>0</td>\n",
       "      <td>0</td>\n",
       "      <td>0</td>\n",
       "      <td>0</td>\n",
       "      <td>0</td>\n",
       "      <td>0</td>\n",
       "      <td>None (0%)</td>\n",
       "      <td>Ethiopia</td>\n",
       "      <td>Africa</td>\n",
       "      <td>Eastern Africa</td>\n",
       "      <td>Ethiopian Xeric Grasslands And Shrublands</td>\n",
       "      <td>Deserts and Xeric Shrublands</td>\n",
       "    </tr>\n",
       "    <tr>\n",
       "      <th>1</th>\n",
       "      <td>514</td>\n",
       "      <td>139191077</td>\n",
       "      <td>6.100608</td>\n",
       "      <td>48.748936</td>\n",
       "      <td>-1</td>\n",
       "      <td>1</td>\n",
       "      <td>0</td>\n",
       "      <td>1</td>\n",
       "      <td>0</td>\n",
       "      <td>0</td>\n",
       "      <td>None (0%)</td>\n",
       "      <td>Somalia</td>\n",
       "      <td>Africa</td>\n",
       "      <td>Eastern Africa</td>\n",
       "      <td>Hobyo Grasslands And Shrublands</td>\n",
       "      <td>Deserts and Xeric Shrublands</td>\n",
       "    </tr>\n",
       "    <tr>\n",
       "      <th>2</th>\n",
       "      <td>829</td>\n",
       "      <td>139270113</td>\n",
       "      <td>4.039354</td>\n",
       "      <td>47.390776</td>\n",
       "      <td>0</td>\n",
       "      <td>0</td>\n",
       "      <td>0</td>\n",
       "      <td>1</td>\n",
       "      <td>1</td>\n",
       "      <td>0</td>\n",
       "      <td>None (0%)</td>\n",
       "      <td>Somalia</td>\n",
       "      <td>Africa</td>\n",
       "      <td>Eastern Africa</td>\n",
       "      <td>Hobyo Grasslands And Shrublands</td>\n",
       "      <td>Deserts and Xeric Shrublands</td>\n",
       "    </tr>\n",
       "    <tr>\n",
       "      <th>3</th>\n",
       "      <td>848</td>\n",
       "      <td>139270158</td>\n",
       "      <td>-25.529835</td>\n",
       "      <td>25.238610</td>\n",
       "      <td>0</td>\n",
       "      <td>0</td>\n",
       "      <td>0</td>\n",
       "      <td>0</td>\n",
       "      <td>0</td>\n",
       "      <td>0</td>\n",
       "      <td>None (0%)</td>\n",
       "      <td>Botswana</td>\n",
       "      <td>Africa</td>\n",
       "      <td>Southern Africa</td>\n",
       "      <td>Kalahari Xeric Savanna</td>\n",
       "      <td>Deserts and Xeric Shrublands</td>\n",
       "    </tr>\n",
       "    <tr>\n",
       "      <th>4</th>\n",
       "      <td>845</td>\n",
       "      <td>139270154</td>\n",
       "      <td>-22.629077</td>\n",
       "      <td>19.624957</td>\n",
       "      <td>-1</td>\n",
       "      <td>1</td>\n",
       "      <td>1</td>\n",
       "      <td>0</td>\n",
       "      <td>0</td>\n",
       "      <td>0</td>\n",
       "      <td>None (0%)</td>\n",
       "      <td>Namibia</td>\n",
       "      <td>Africa</td>\n",
       "      <td>Southern Africa</td>\n",
       "      <td>Kalahari Xeric Savanna</td>\n",
       "      <td>Deserts and Xeric Shrublands</td>\n",
       "    </tr>\n",
       "  </tbody>\n",
       "</table>\n",
       "</div>"
      ],
      "text/plain": [
       "   field_1    plot_id        lat       long  error  abs_error  tp  fp  fn  \\\n",
       "0      992  139270540  11.474302  41.516966      0          0   0   0   0   \n",
       "1      514  139191077   6.100608  48.748936     -1          1   0   1   0   \n",
       "2      829  139270113   4.039354  47.390776      0          0   0   1   1   \n",
       "3      848  139270158 -25.529835  25.238610      0          0   0   0   0   \n",
       "4      845  139270154 -22.629077  19.624957     -1          1   1   0   0   \n",
       "\n",
       "   tree_cover tree_class   country  region        subregion  \\\n",
       "0           0  None (0%)  Ethiopia  Africa   Eastern Africa   \n",
       "1           0  None (0%)   Somalia  Africa   Eastern Africa   \n",
       "2           0  None (0%)   Somalia  Africa   Eastern Africa   \n",
       "3           0  None (0%)  Botswana  Africa  Southern Africa   \n",
       "4           0  None (0%)   Namibia  Africa  Southern Africa   \n",
       "\n",
       "                                   ecoregion                         biome  \n",
       "0  Ethiopian Xeric Grasslands And Shrublands  Deserts and Xeric Shrublands  \n",
       "1            Hobyo Grasslands And Shrublands  Deserts and Xeric Shrublands  \n",
       "2            Hobyo Grasslands And Shrublands  Deserts and Xeric Shrublands  \n",
       "3                     Kalahari Xeric Savanna  Deserts and Xeric Shrublands  \n",
       "4                     Kalahari Xeric Savanna  Deserts and Xeric Shrublands  "
      ]
     },
     "execution_count": 2,
     "metadata": {},
     "output_type": "execute_result"
    }
   ],
   "source": [
    "df = pd.read_csv('validation_data_1000.csv')\n",
    "df.head()"
   ]
  },
  {
   "cell_type": "code",
   "execution_count": 5,
   "id": "middle-conviction",
   "metadata": {
    "scrolled": true
   },
   "outputs": [
    {
     "data": {
      "text/plain": [
       "Africa      501\n",
       "Americas    499\n",
       "Name: region, dtype: int64"
      ]
     },
     "execution_count": 5,
     "metadata": {},
     "output_type": "execute_result"
    }
   ],
   "source": [
    "df.region.value_counts()"
   ]
  },
  {
   "cell_type": "code",
   "execution_count": 6,
   "id": "upset-turner",
   "metadata": {},
   "outputs": [
    {
     "data": {
      "text/plain": [
       "South America      321\n",
       "Eastern Africa     180\n",
       "Central America    144\n",
       "Western Africa     110\n",
       "Southern Africa     73\n",
       "Northern Africa     71\n",
       "Middle Africa       67\n",
       "Caribbean           34\n",
       "Name: subregion, dtype: int64"
      ]
     },
     "execution_count": 6,
     "metadata": {},
     "output_type": "execute_result"
    }
   ],
   "source": [
    "df.subregion.value_counts()"
   ]
  },
  {
   "cell_type": "code",
   "execution_count": 7,
   "id": "legislative-connection",
   "metadata": {},
   "outputs": [
    {
     "data": {
      "text/plain": [
       "Sahelian Acacia Savanna                         64\n",
       "West Sudanian Savanna                           51\n",
       "Cerrado                                         42\n",
       "Mediterranean Woodlands And Forests             24\n",
       "Valdivian Temperate Forests                     21\n",
       "                                                ..\n",
       "South Malawi Montane Forest-Grassland Mosaic     1\n",
       "Southern Mesoamerican Pacific Mangroves          1\n",
       "Veracruz Dry Forests                             1\n",
       "Bahamian-Antillean Mangroves                     1\n",
       "Yucatán Moist Forests                            1\n",
       "Name: ecoregion, Length: 167, dtype: int64"
      ]
     },
     "execution_count": 7,
     "metadata": {},
     "output_type": "execute_result"
    }
   ],
   "source": [
    "df.ecoregion.value_counts()"
   ]
  },
  {
   "cell_type": "code",
   "execution_count": 8,
   "id": "hollow-wrong",
   "metadata": {},
   "outputs": [
    {
     "data": {
      "text/plain": [
       "Tropical and Subtropical Grasslands, Savannas and Shrublands    367\n",
       "Tropical and Subtropical Moist Broadleaf Forests                246\n",
       "Tropical and Subtropical Dry Broadleaf Forests                   97\n",
       "Deserts and Xeric Shrublands                                     68\n",
       "Montane Grasslands and Shrublands                                52\n",
       "Mediterranean Forests, Woodlands and Scrub                       47\n",
       "Temperate Grasslands, Savannas and Shrublands                    37\n",
       "Tropical and Subtropical Coniferous Forests                      34\n",
       "Temperate Broadleaf and Mixed Forests                            25\n",
       "Flooded Grasslands and Savannas                                  22\n",
       "Mangroves                                                         4\n",
       "Name: biome, dtype: int64"
      ]
     },
     "execution_count": 8,
     "metadata": {},
     "output_type": "execute_result"
    }
   ],
   "source": [
    "df.biome.value_counts()"
   ]
  },
  {
   "cell_type": "code",
   "execution_count": 9,
   "id": "white-means",
   "metadata": {},
   "outputs": [
    {
     "data": {
      "text/plain": [
       "None (0%)                35.9\n",
       "Scattered (1 - 9%)       21.6\n",
       "Dense (75+%)             19.3\n",
       "Open (10 - 39%)          16.5\n",
       "Medium-dense (40-75%)     6.7\n",
       "Name: tree_class, dtype: float64"
      ]
     },
     "execution_count": 9,
     "metadata": {},
     "output_type": "execute_result"
    }
   ],
   "source": [
    "df.tree_class.value_counts(normalize=True)*100"
   ]
  },
  {
   "cell_type": "code",
   "execution_count": 11,
   "id": "median-overall",
   "metadata": {
    "scrolled": true
   },
   "outputs": [
    {
     "data": {
      "text/plain": [
       "field_1        0\n",
       "plot_id        0\n",
       "lat            0\n",
       "long           0\n",
       "error          0\n",
       "abs_error      0\n",
       "tp             0\n",
       "fp             0\n",
       "fn             0\n",
       "tree_cover     0\n",
       "tree_class     0\n",
       "country        0\n",
       "region         0\n",
       "subregion      0\n",
       "ecoregion     50\n",
       "biome          1\n",
       "dtype: int64"
      ]
     },
     "execution_count": 11,
     "metadata": {},
     "output_type": "execute_result"
    }
   ],
   "source": [
    "df.isnull().sum()"
   ]
  },
  {
   "cell_type": "code",
   "execution_count": 12,
   "id": "informative-contact",
   "metadata": {},
   "outputs": [
    {
     "data": {
      "text/plain": [
       "(-51, 29)"
      ]
     },
     "execution_count": 12,
     "metadata": {},
     "output_type": "execute_result"
    }
   ],
   "source": [
    "df.error.min(), df.error.max()"
   ]
  },
  {
   "cell_type": "code",
   "execution_count": 13,
   "id": "minus-anatomy",
   "metadata": {
    "scrolled": true
   },
   "outputs": [
    {
     "data": {
      "text/plain": [
       "(0, 51)"
      ]
     },
     "execution_count": 13,
     "metadata": {},
     "output_type": "execute_result"
    }
   ],
   "source": [
    "df.abs_error.min(), df.abs_error.max()"
   ]
  },
  {
   "cell_type": "code",
   "execution_count": 14,
   "id": "assured-dollar",
   "metadata": {},
   "outputs": [
    {
     "data": {
      "text/plain": [
       "Tropical and Subtropical Grasslands, Savannas and Shrublands    30\n",
       "Tropical and Subtropical Moist Broadleaf Forests                19\n",
       "Name: biome, dtype: int64"
      ]
     },
     "execution_count": 14,
     "metadata": {},
     "output_type": "execute_result"
    }
   ],
   "source": [
    "df[df.ecoregion.isnull()].biome.value_counts()"
   ]
  },
  {
   "cell_type": "code",
   "execution_count": 15,
   "id": "fresh-assistant",
   "metadata": {},
   "outputs": [
    {
     "data": {
      "text/plain": [
       "South America      20\n",
       "Eastern Africa     16\n",
       "Southern Africa    13\n",
       "Caribbean           1\n",
       "Name: subregion, dtype: int64"
      ]
     },
     "execution_count": 15,
     "metadata": {},
     "output_type": "execute_result"
    }
   ],
   "source": [
    "df[df.ecoregion.isnull()].subregion.value_counts()"
   ]
  },
  {
   "cell_type": "code",
   "execution_count": 16,
   "id": "beautiful-montreal",
   "metadata": {},
   "outputs": [
    {
     "data": {
      "text/plain": [
       "Africa      29\n",
       "Americas    21\n",
       "Name: region, dtype: int64"
      ]
     },
     "execution_count": 16,
     "metadata": {},
     "output_type": "execute_result"
    }
   ],
   "source": [
    "df[df.ecoregion.isnull()].region.value_counts()"
   ]
  },
  {
   "cell_type": "code",
   "execution_count": 17,
   "id": "classified-pulse",
   "metadata": {},
   "outputs": [
    {
     "data": {
      "text/plain": [
       "None (0%)                14\n",
       "Scattered (1 - 9%)       12\n",
       "Dense (75+%)             12\n",
       "Open (10 - 39%)           8\n",
       "Medium-dense (40-75%)     4\n",
       "Name: tree_class, dtype: int64"
      ]
     },
     "execution_count": 17,
     "metadata": {},
     "output_type": "execute_result"
    }
   ],
   "source": [
    "df[df.ecoregion.isnull()].tree_class.value_counts()"
   ]
  },
  {
   "cell_type": "code",
   "execution_count": 18,
   "id": "touched-latin",
   "metadata": {},
   "outputs": [
    {
     "data": {
      "text/html": [
       "<div>\n",
       "<style scoped>\n",
       "    .dataframe tbody tr th:only-of-type {\n",
       "        vertical-align: middle;\n",
       "    }\n",
       "\n",
       "    .dataframe tbody tr th {\n",
       "        vertical-align: top;\n",
       "    }\n",
       "\n",
       "    .dataframe thead th {\n",
       "        text-align: right;\n",
       "    }\n",
       "</style>\n",
       "<table border=\"1\" class=\"dataframe\">\n",
       "  <thead>\n",
       "    <tr style=\"text-align: right;\">\n",
       "      <th></th>\n",
       "      <th>field_1</th>\n",
       "      <th>plot_id</th>\n",
       "      <th>lat</th>\n",
       "      <th>long</th>\n",
       "      <th>error</th>\n",
       "      <th>abs_error</th>\n",
       "      <th>tp</th>\n",
       "      <th>fp</th>\n",
       "      <th>fn</th>\n",
       "      <th>tree_cover</th>\n",
       "      <th>tree_class</th>\n",
       "      <th>country</th>\n",
       "      <th>region</th>\n",
       "      <th>subregion</th>\n",
       "      <th>ecoregion</th>\n",
       "      <th>biome</th>\n",
       "    </tr>\n",
       "  </thead>\n",
       "  <tbody>\n",
       "    <tr>\n",
       "      <th>0</th>\n",
       "      <td>992</td>\n",
       "      <td>139270540</td>\n",
       "      <td>11.474302</td>\n",
       "      <td>41.516966</td>\n",
       "      <td>0</td>\n",
       "      <td>0</td>\n",
       "      <td>0</td>\n",
       "      <td>0</td>\n",
       "      <td>0</td>\n",
       "      <td>0</td>\n",
       "      <td>None (0%)</td>\n",
       "      <td>Ethiopia</td>\n",
       "      <td>Africa</td>\n",
       "      <td>Eastern Africa</td>\n",
       "      <td>Ethiopian Xeric Grasslands And Shrublands</td>\n",
       "      <td>Deserts and Xeric Shrublands</td>\n",
       "    </tr>\n",
       "    <tr>\n",
       "      <th>1</th>\n",
       "      <td>514</td>\n",
       "      <td>139191077</td>\n",
       "      <td>6.100608</td>\n",
       "      <td>48.748936</td>\n",
       "      <td>-1</td>\n",
       "      <td>1</td>\n",
       "      <td>0</td>\n",
       "      <td>1</td>\n",
       "      <td>0</td>\n",
       "      <td>0</td>\n",
       "      <td>None (0%)</td>\n",
       "      <td>Somalia</td>\n",
       "      <td>Africa</td>\n",
       "      <td>Eastern Africa</td>\n",
       "      <td>Hobyo Grasslands And Shrublands</td>\n",
       "      <td>Deserts and Xeric Shrublands</td>\n",
       "    </tr>\n",
       "    <tr>\n",
       "      <th>2</th>\n",
       "      <td>829</td>\n",
       "      <td>139270113</td>\n",
       "      <td>4.039354</td>\n",
       "      <td>47.390776</td>\n",
       "      <td>0</td>\n",
       "      <td>0</td>\n",
       "      <td>0</td>\n",
       "      <td>1</td>\n",
       "      <td>1</td>\n",
       "      <td>0</td>\n",
       "      <td>None (0%)</td>\n",
       "      <td>Somalia</td>\n",
       "      <td>Africa</td>\n",
       "      <td>Eastern Africa</td>\n",
       "      <td>Hobyo Grasslands And Shrublands</td>\n",
       "      <td>Deserts and Xeric Shrublands</td>\n",
       "    </tr>\n",
       "    <tr>\n",
       "      <th>3</th>\n",
       "      <td>848</td>\n",
       "      <td>139270158</td>\n",
       "      <td>-25.529835</td>\n",
       "      <td>25.238610</td>\n",
       "      <td>0</td>\n",
       "      <td>0</td>\n",
       "      <td>0</td>\n",
       "      <td>0</td>\n",
       "      <td>0</td>\n",
       "      <td>0</td>\n",
       "      <td>None (0%)</td>\n",
       "      <td>Botswana</td>\n",
       "      <td>Africa</td>\n",
       "      <td>Southern Africa</td>\n",
       "      <td>Kalahari Xeric Savanna</td>\n",
       "      <td>Deserts and Xeric Shrublands</td>\n",
       "    </tr>\n",
       "    <tr>\n",
       "      <th>4</th>\n",
       "      <td>845</td>\n",
       "      <td>139270154</td>\n",
       "      <td>-22.629077</td>\n",
       "      <td>19.624957</td>\n",
       "      <td>-1</td>\n",
       "      <td>1</td>\n",
       "      <td>1</td>\n",
       "      <td>0</td>\n",
       "      <td>0</td>\n",
       "      <td>0</td>\n",
       "      <td>None (0%)</td>\n",
       "      <td>Namibia</td>\n",
       "      <td>Africa</td>\n",
       "      <td>Southern Africa</td>\n",
       "      <td>Kalahari Xeric Savanna</td>\n",
       "      <td>Deserts and Xeric Shrublands</td>\n",
       "    </tr>\n",
       "  </tbody>\n",
       "</table>\n",
       "</div>"
      ],
      "text/plain": [
       "   field_1    plot_id        lat       long  error  abs_error  tp  fp  fn  \\\n",
       "0      992  139270540  11.474302  41.516966      0          0   0   0   0   \n",
       "1      514  139191077   6.100608  48.748936     -1          1   0   1   0   \n",
       "2      829  139270113   4.039354  47.390776      0          0   0   1   1   \n",
       "3      848  139270158 -25.529835  25.238610      0          0   0   0   0   \n",
       "4      845  139270154 -22.629077  19.624957     -1          1   1   0   0   \n",
       "\n",
       "   tree_cover tree_class   country  region        subregion  \\\n",
       "0           0  None (0%)  Ethiopia  Africa   Eastern Africa   \n",
       "1           0  None (0%)   Somalia  Africa   Eastern Africa   \n",
       "2           0  None (0%)   Somalia  Africa   Eastern Africa   \n",
       "3           0  None (0%)  Botswana  Africa  Southern Africa   \n",
       "4           0  None (0%)   Namibia  Africa  Southern Africa   \n",
       "\n",
       "                                   ecoregion                         biome  \n",
       "0  Ethiopian Xeric Grasslands And Shrublands  Deserts and Xeric Shrublands  \n",
       "1            Hobyo Grasslands And Shrublands  Deserts and Xeric Shrublands  \n",
       "2            Hobyo Grasslands And Shrublands  Deserts and Xeric Shrublands  \n",
       "3                     Kalahari Xeric Savanna  Deserts and Xeric Shrublands  \n",
       "4                     Kalahari Xeric Savanna  Deserts and Xeric Shrublands  "
      ]
     },
     "execution_count": 18,
     "metadata": {},
     "output_type": "execute_result"
    }
   ],
   "source": [
    "df.head()"
   ]
  },
  {
   "cell_type": "markdown",
   "id": "persistent-wilson",
   "metadata": {},
   "source": [
    "## Bootstrap from each scale, calculate scores and confidence intervals"
   ]
  },
  {
   "cell_type": "code",
   "execution_count": 78,
   "id": "successful-selling",
   "metadata": {},
   "outputs": [],
   "source": [
    "def bootstrap(df, scale, n):\n",
    "    \n",
    "    '''\n",
    "    Function takes in a df, bootstraps n samples from each category in a scale, \n",
    "    calculates scores, then takes percentiles of the bootstrap \n",
    "    to calculate confidence intervals and returns 2 dfs with results.\n",
    "    '''\n",
    "\n",
    "    # calculation for precision, recall, f1\n",
    "    def calculate_metrics(tp, fp, fn):\n",
    "        precision = tp / (tp + fp)\n",
    "        recall = tp / (tp + fn)\n",
    "        f1 = 2 * ((precision * recall) / (precision + recall))\n",
    "        return precision, recall, f1\n",
    "    \n",
    "    # get a list of categories within the scale\n",
    "    categories = set(df[scale].dropna().unique())\n",
    "    print(f'{scale} has {len(categories)} subcategories. {len(categories)*n} samples in total.')\n",
    "                     \n",
    "    # empty df to store samples, scores and CIs\n",
    "    bootsamples = pd.DataFrame()\n",
    "    val_df = pd.DataFrame(columns = ['scale', 'category', 'precision', 'recall', 'f1'])\n",
    "    conf_int = pd.DataFrame(columns = ['scale', 'category',\n",
    "                                       'p_lower_95', 'p_upper_95', 'r_lower_95',\n",
    "                                       'r_upper_95', 'f1_lower_95','f1_upper_95',\n",
    "                                       'p_lower_90', 'p_upper_90', 'r_lower_90',\n",
    "                                       'r_upper_90', 'f1_lower_90','f1_upper_90',\n",
    "                                       'p_lower_80', 'p_upper_80', 'r_lower_80',\n",
    "                                       'r_upper_80', 'f1_lower_80','f1_upper_80'])\n",
    "\n",
    "    \n",
    "    # for each category in scale, calculate scores\n",
    "    for i in categories:\n",
    "        grouped = df[df[scale] == i]\n",
    "        \n",
    "        for num in range(n):   \n",
    "            bootstrap = grouped.sample(len(grouped), replace = True)\n",
    "            bootsamples = bootsamples.append(bootstrap, ignore_index = True)\n",
    "            precision, recall, f1 = calculate_metrics(sum(bootsamples.tp.values), \n",
    "                                                      sum(bootsamples.fp.values), \n",
    "                                                      sum(bootsamples.fn.values))\n",
    "            \n",
    "            # add calculations to empty df\n",
    "            val_df = val_df.append({'scale': scale, \n",
    "                                   'category': i,\n",
    "                                   'precision': precision,\n",
    "                                   'recall': recall,\n",
    "                                   'f1': f1}, ignore_index = True)\n",
    "    \n",
    "    # use scores in val_df to calculate CIs\n",
    "    for i in categories:\n",
    "        grouped2 = val_df[val_df.category == i] \n",
    "\n",
    "        # calculate 80, 90, 95th percentile\n",
    "        p_lower_95, r_lower_95, f1_lower_95 = np.percentile(grouped2.precision.values, 2.5),\\\n",
    "                                              np.percentile(grouped2.recall.values, 2.5),\\\n",
    "                                              np.percentile(grouped2.f1.values, 2.5) \n",
    "        p_upper_95, r_upper_95, f1_upper_95 = np.percentile(grouped2.precision.values, 97.5),\\\n",
    "                                              np.percentile(grouped2.recall.values, 97.5),\\\n",
    "                                              np.percentile(grouped2.f1.values, 97.5)\n",
    "                \n",
    "\n",
    "        p_lower_90, r_lower_90, f1_lower_90 = np.percentile(grouped2.precision.values, 5),\\\n",
    "                                              np.percentile(grouped2.recall.values, 5),\\\n",
    "                                              np.percentile(grouped2.f1.values, 5) \n",
    "        p_upper_90, r_upper_90, f1_upper_90 = np.percentile(grouped2.precision.values, 95),\\\n",
    "                                              np.percentile(grouped2.recall.values, 95),\\\n",
    "                                              np.percentile(grouped2.f1.values, 95)\n",
    "        \n",
    "\n",
    "        p_lower_80, r_lower_80, f1_lower_80 = np.percentile(grouped2.precision.values, 10),\\\n",
    "                                              np.percentile(grouped2.recall.values, 10),\\\n",
    "                                              np.percentile(grouped2.f1.values, 10) \n",
    "        p_upper_80, r_upper_80, f1_upper_80 = np.percentile(grouped2.precision.values, 90),\\\n",
    "                                              np.percentile(grouped2.recall.values, 90),\\\n",
    "                                              np.percentile(grouped2.f1.values, 90)\n",
    "        \n",
    "        \n",
    "        # add percentiles to empty df\n",
    "        conf_int = conf_int.append({'scale': scale, \n",
    "                                    'category': i,\n",
    "                                   'p_lower_95': p_lower_95, \n",
    "                                   'p_upper_95': p_upper_95, \n",
    "                                   'r_lower_95': r_lower_95,\n",
    "                                   'r_upper_95': r_upper_95, \n",
    "                                   'f1_lower_95': f1_lower_95,\n",
    "                                   'f1_upper_95': f1_upper_95,\n",
    "                                   'p_lower_90': p_lower_90, \n",
    "                                   'p_upper_90': p_upper_90, \n",
    "                                   'r_lower_90': r_lower_90,\n",
    "                                   'r_upper_90': r_upper_90, \n",
    "                                   'f1_lower_90': f1_lower_90,\n",
    "                                   'f1_upper_90': f1_upper_90,\n",
    "                                   'p_lower_80': p_lower_80, \n",
    "                                   'p_upper_80': p_upper_80, \n",
    "                                   'r_lower_80': r_lower_80,\n",
    "                                   'r_upper_80': r_upper_80, \n",
    "                                   'f1_lower_80': f1_lower_80,\n",
    "                                   'f1_upper_80': f1_upper_80}, ignore_index = True)\n",
    "\n",
    "    # returns scores and conf intervals separately\n",
    "    return val_df, conf_int"
   ]
  },
  {
   "cell_type": "code",
   "execution_count": 5,
   "id": "immune-wildlife",
   "metadata": {},
   "outputs": [
    {
     "name": "stdout",
     "output_type": "stream",
     "text": [
      "biome has 11 subcategories. 1100 samples in total.\n"
     ]
    }
   ],
   "source": [
    "biome_val, biome_conf = bootstrap(df, 'biome', 100)"
   ]
  },
  {
   "cell_type": "code",
   "execution_count": 7,
   "id": "stretch-firmware",
   "metadata": {
    "scrolled": true
   },
   "outputs": [
    {
     "data": {
      "text/html": [
       "<div>\n",
       "<style scoped>\n",
       "    .dataframe tbody tr th:only-of-type {\n",
       "        vertical-align: middle;\n",
       "    }\n",
       "\n",
       "    .dataframe tbody tr th {\n",
       "        vertical-align: top;\n",
       "    }\n",
       "\n",
       "    .dataframe thead th {\n",
       "        text-align: right;\n",
       "    }\n",
       "</style>\n",
       "<table border=\"1\" class=\"dataframe\">\n",
       "  <thead>\n",
       "    <tr style=\"text-align: right;\">\n",
       "      <th></th>\n",
       "      <th>scale</th>\n",
       "      <th>category</th>\n",
       "      <th>precision</th>\n",
       "      <th>recall</th>\n",
       "      <th>f1</th>\n",
       "    </tr>\n",
       "  </thead>\n",
       "  <tbody>\n",
       "    <tr>\n",
       "      <th>0</th>\n",
       "      <td>biome</td>\n",
       "      <td>Deserts and Xeric Shrublands</td>\n",
       "      <td>0.958163</td>\n",
       "      <td>0.942729</td>\n",
       "      <td>0.950383</td>\n",
       "    </tr>\n",
       "    <tr>\n",
       "      <th>1</th>\n",
       "      <td>biome</td>\n",
       "      <td>Deserts and Xeric Shrublands</td>\n",
       "      <td>0.953913</td>\n",
       "      <td>0.934191</td>\n",
       "      <td>0.943949</td>\n",
       "    </tr>\n",
       "    <tr>\n",
       "      <th>2</th>\n",
       "      <td>biome</td>\n",
       "      <td>Deserts and Xeric Shrublands</td>\n",
       "      <td>0.959263</td>\n",
       "      <td>0.940761</td>\n",
       "      <td>0.949922</td>\n",
       "    </tr>\n",
       "    <tr>\n",
       "      <th>3</th>\n",
       "      <td>biome</td>\n",
       "      <td>Deserts and Xeric Shrublands</td>\n",
       "      <td>0.959022</td>\n",
       "      <td>0.939402</td>\n",
       "      <td>0.949110</td>\n",
       "    </tr>\n",
       "    <tr>\n",
       "      <th>4</th>\n",
       "      <td>biome</td>\n",
       "      <td>Deserts and Xeric Shrublands</td>\n",
       "      <td>0.959724</td>\n",
       "      <td>0.935840</td>\n",
       "      <td>0.947631</td>\n",
       "    </tr>\n",
       "    <tr>\n",
       "      <th>5</th>\n",
       "      <td>biome</td>\n",
       "      <td>Deserts and Xeric Shrublands</td>\n",
       "      <td>0.956886</td>\n",
       "      <td>0.925888</td>\n",
       "      <td>0.941131</td>\n",
       "    </tr>\n",
       "    <tr>\n",
       "      <th>6</th>\n",
       "      <td>biome</td>\n",
       "      <td>Deserts and Xeric Shrublands</td>\n",
       "      <td>0.954977</td>\n",
       "      <td>0.919538</td>\n",
       "      <td>0.936923</td>\n",
       "    </tr>\n",
       "    <tr>\n",
       "      <th>7</th>\n",
       "      <td>biome</td>\n",
       "      <td>Deserts and Xeric Shrublands</td>\n",
       "      <td>0.948075</td>\n",
       "      <td>0.918905</td>\n",
       "      <td>0.933262</td>\n",
       "    </tr>\n",
       "    <tr>\n",
       "      <th>8</th>\n",
       "      <td>biome</td>\n",
       "      <td>Deserts and Xeric Shrublands</td>\n",
       "      <td>0.949006</td>\n",
       "      <td>0.915975</td>\n",
       "      <td>0.932198</td>\n",
       "    </tr>\n",
       "    <tr>\n",
       "      <th>9</th>\n",
       "      <td>biome</td>\n",
       "      <td>Deserts and Xeric Shrublands</td>\n",
       "      <td>0.949390</td>\n",
       "      <td>0.919421</td>\n",
       "      <td>0.934165</td>\n",
       "    </tr>\n",
       "  </tbody>\n",
       "</table>\n",
       "</div>"
      ],
      "text/plain": [
       "   scale                      category  precision    recall        f1\n",
       "0  biome  Deserts and Xeric Shrublands   0.958163  0.942729  0.950383\n",
       "1  biome  Deserts and Xeric Shrublands   0.953913  0.934191  0.943949\n",
       "2  biome  Deserts and Xeric Shrublands   0.959263  0.940761  0.949922\n",
       "3  biome  Deserts and Xeric Shrublands   0.959022  0.939402  0.949110\n",
       "4  biome  Deserts and Xeric Shrublands   0.959724  0.935840  0.947631\n",
       "5  biome  Deserts and Xeric Shrublands   0.956886  0.925888  0.941131\n",
       "6  biome  Deserts and Xeric Shrublands   0.954977  0.919538  0.936923\n",
       "7  biome  Deserts and Xeric Shrublands   0.948075  0.918905  0.933262\n",
       "8  biome  Deserts and Xeric Shrublands   0.949006  0.915975  0.932198\n",
       "9  biome  Deserts and Xeric Shrublands   0.949390  0.919421  0.934165"
      ]
     },
     "execution_count": 7,
     "metadata": {},
     "output_type": "execute_result"
    }
   ],
   "source": [
    "biome_val.head(10)"
   ]
  },
  {
   "cell_type": "code",
   "execution_count": 9,
   "id": "going-serbia",
   "metadata": {
    "scrolled": false
   },
   "outputs": [
    {
     "name": "stdout",
     "output_type": "stream",
     "text": [
      "country has 72 subcategories. 7200 samples in total.\n"
     ]
    }
   ],
   "source": [
    "country_val, country_conf = bootstrap(df, 'country', 100)"
   ]
  },
  {
   "cell_type": "code",
   "execution_count": 159,
   "id": "accessory-owner",
   "metadata": {},
   "outputs": [
    {
     "data": {
      "text/html": [
       "<div>\n",
       "<style scoped>\n",
       "    .dataframe tbody tr th:only-of-type {\n",
       "        vertical-align: middle;\n",
       "    }\n",
       "\n",
       "    .dataframe tbody tr th {\n",
       "        vertical-align: top;\n",
       "    }\n",
       "\n",
       "    .dataframe thead th {\n",
       "        text-align: right;\n",
       "    }\n",
       "</style>\n",
       "<table border=\"1\" class=\"dataframe\">\n",
       "  <thead>\n",
       "    <tr style=\"text-align: right;\">\n",
       "      <th></th>\n",
       "      <th>scale</th>\n",
       "      <th>category</th>\n",
       "      <th>precision</th>\n",
       "      <th>recall</th>\n",
       "      <th>f1</th>\n",
       "    </tr>\n",
       "  </thead>\n",
       "  <tbody>\n",
       "    <tr>\n",
       "      <th>5300</th>\n",
       "      <td>country</td>\n",
       "      <td>Ethiopia</td>\n",
       "      <td>0.977779</td>\n",
       "      <td>0.965862</td>\n",
       "      <td>0.971784</td>\n",
       "    </tr>\n",
       "    <tr>\n",
       "      <th>5301</th>\n",
       "      <td>country</td>\n",
       "      <td>Ethiopia</td>\n",
       "      <td>0.977773</td>\n",
       "      <td>0.965838</td>\n",
       "      <td>0.971769</td>\n",
       "    </tr>\n",
       "    <tr>\n",
       "      <th>5302</th>\n",
       "      <td>country</td>\n",
       "      <td>Ethiopia</td>\n",
       "      <td>0.977758</td>\n",
       "      <td>0.965834</td>\n",
       "      <td>0.971759</td>\n",
       "    </tr>\n",
       "    <tr>\n",
       "      <th>5303</th>\n",
       "      <td>country</td>\n",
       "      <td>Ethiopia</td>\n",
       "      <td>0.977753</td>\n",
       "      <td>0.965814</td>\n",
       "      <td>0.971747</td>\n",
       "    </tr>\n",
       "    <tr>\n",
       "      <th>5304</th>\n",
       "      <td>country</td>\n",
       "      <td>Ethiopia</td>\n",
       "      <td>0.977745</td>\n",
       "      <td>0.965785</td>\n",
       "      <td>0.971728</td>\n",
       "    </tr>\n",
       "  </tbody>\n",
       "</table>\n",
       "</div>"
      ],
      "text/plain": [
       "        scale  category  precision    recall        f1\n",
       "5300  country  Ethiopia   0.977779  0.965862  0.971784\n",
       "5301  country  Ethiopia   0.977773  0.965838  0.971769\n",
       "5302  country  Ethiopia   0.977758  0.965834  0.971759\n",
       "5303  country  Ethiopia   0.977753  0.965814  0.971747\n",
       "5304  country  Ethiopia   0.977745  0.965785  0.971728"
      ]
     },
     "execution_count": 159,
     "metadata": {},
     "output_type": "execute_result"
    }
   ],
   "source": [
    "country_val[country_val.category == 'Ethiopia'].head()"
   ]
  },
  {
   "cell_type": "code",
   "execution_count": 160,
   "id": "senior-slave",
   "metadata": {},
   "outputs": [
    {
     "data": {
      "text/html": [
       "<div>\n",
       "<style scoped>\n",
       "    .dataframe tbody tr th:only-of-type {\n",
       "        vertical-align: middle;\n",
       "    }\n",
       "\n",
       "    .dataframe tbody tr th {\n",
       "        vertical-align: top;\n",
       "    }\n",
       "\n",
       "    .dataframe thead th {\n",
       "        text-align: right;\n",
       "    }\n",
       "</style>\n",
       "<table border=\"1\" class=\"dataframe\">\n",
       "  <thead>\n",
       "    <tr style=\"text-align: right;\">\n",
       "      <th></th>\n",
       "      <th>scale</th>\n",
       "      <th>category</th>\n",
       "      <th>p_lower_95</th>\n",
       "      <th>p_upper_95</th>\n",
       "      <th>r_lower_95</th>\n",
       "      <th>r_upper_95</th>\n",
       "      <th>f1_lower_95</th>\n",
       "      <th>f1_upper_95</th>\n",
       "      <th>p_lower_90</th>\n",
       "      <th>p_upper_90</th>\n",
       "      <th>r_lower_90</th>\n",
       "      <th>r_upper_90</th>\n",
       "      <th>f1_lower_90</th>\n",
       "      <th>f1_upper_90</th>\n",
       "      <th>p_lower_80</th>\n",
       "      <th>p_upper_80</th>\n",
       "      <th>r_lower_80</th>\n",
       "      <th>r_upper_80</th>\n",
       "      <th>f1_lower_80</th>\n",
       "      <th>f1_upper_80</th>\n",
       "    </tr>\n",
       "  </thead>\n",
       "  <tbody>\n",
       "    <tr>\n",
       "      <th>53</th>\n",
       "      <td>country</td>\n",
       "      <td>Ethiopia</td>\n",
       "      <td>0.976849</td>\n",
       "      <td>0.977755</td>\n",
       "      <td>0.964038</td>\n",
       "      <td>0.965824</td>\n",
       "      <td>0.970401</td>\n",
       "      <td>0.971753</td>\n",
       "      <td>0.97687</td>\n",
       "      <td>0.977733</td>\n",
       "      <td>0.964089</td>\n",
       "      <td>0.96577</td>\n",
       "      <td>0.970437</td>\n",
       "      <td>0.971714</td>\n",
       "      <td>0.976926</td>\n",
       "      <td>0.97768</td>\n",
       "      <td>0.964138</td>\n",
       "      <td>0.965685</td>\n",
       "      <td>0.97049</td>\n",
       "      <td>0.971645</td>\n",
       "    </tr>\n",
       "  </tbody>\n",
       "</table>\n",
       "</div>"
      ],
      "text/plain": [
       "      scale  category  p_lower_95  p_upper_95  r_lower_95  r_upper_95  \\\n",
       "53  country  Ethiopia    0.976849    0.977755    0.964038    0.965824   \n",
       "\n",
       "    f1_lower_95  f1_upper_95  p_lower_90  p_upper_90  r_lower_90  r_upper_90  \\\n",
       "53     0.970401     0.971753     0.97687    0.977733    0.964089     0.96577   \n",
       "\n",
       "    f1_lower_90  f1_upper_90  p_lower_80  p_upper_80  r_lower_80  r_upper_80  \\\n",
       "53     0.970437     0.971714    0.976926     0.97768    0.964138    0.965685   \n",
       "\n",
       "    f1_lower_80  f1_upper_80  \n",
       "53      0.97049     0.971645  "
      ]
     },
     "execution_count": 160,
     "metadata": {},
     "output_type": "execute_result"
    }
   ],
   "source": [
    "ethiopia = country_conf[country_conf.category == 'Ethiopia']\n",
    "ethiopia"
   ]
  },
  {
   "cell_type": "code",
   "execution_count": 165,
   "id": "monthly-singing",
   "metadata": {},
   "outputs": [
    {
     "data": {
      "text/html": [
       "<div>\n",
       "<style scoped>\n",
       "    .dataframe tbody tr th:only-of-type {\n",
       "        vertical-align: middle;\n",
       "    }\n",
       "\n",
       "    .dataframe tbody tr th {\n",
       "        vertical-align: top;\n",
       "    }\n",
       "\n",
       "    .dataframe thead th {\n",
       "        text-align: right;\n",
       "    }\n",
       "</style>\n",
       "<table border=\"1\" class=\"dataframe\">\n",
       "  <thead>\n",
       "    <tr style=\"text-align: right;\">\n",
       "      <th></th>\n",
       "      <th>scale</th>\n",
       "      <th>category</th>\n",
       "      <th>p_lower_95</th>\n",
       "      <th>p_upper_95</th>\n",
       "      <th>r_lower_95</th>\n",
       "      <th>r_upper_95</th>\n",
       "      <th>f1_lower_95</th>\n",
       "      <th>f1_upper_95</th>\n",
       "      <th>p_lower_90</th>\n",
       "      <th>p_upper_90</th>\n",
       "      <th>r_lower_90</th>\n",
       "      <th>r_upper_90</th>\n",
       "      <th>f1_lower_90</th>\n",
       "      <th>f1_upper_90</th>\n",
       "      <th>p_lower_80</th>\n",
       "      <th>p_upper_80</th>\n",
       "      <th>r_lower_80</th>\n",
       "      <th>r_upper_80</th>\n",
       "      <th>f1_lower_80</th>\n",
       "      <th>f1_upper_80</th>\n",
       "    </tr>\n",
       "  </thead>\n",
       "  <tbody>\n",
       "    <tr>\n",
       "      <th>0</th>\n",
       "      <td>country</td>\n",
       "      <td>Panama</td>\n",
       "      <td>1.000000</td>\n",
       "      <td>1.000000</td>\n",
       "      <td>0.964980</td>\n",
       "      <td>0.978972</td>\n",
       "      <td>0.982178</td>\n",
       "      <td>0.989373</td>\n",
       "      <td>1.000000</td>\n",
       "      <td>1.000000</td>\n",
       "      <td>0.965480</td>\n",
       "      <td>0.975545</td>\n",
       "      <td>0.982437</td>\n",
       "      <td>0.987621</td>\n",
       "      <td>1.000000</td>\n",
       "      <td>1.000000</td>\n",
       "      <td>0.965909</td>\n",
       "      <td>0.975208</td>\n",
       "      <td>0.982659</td>\n",
       "      <td>0.987448</td>\n",
       "    </tr>\n",
       "    <tr>\n",
       "      <th>1</th>\n",
       "      <td>country</td>\n",
       "      <td>Rwanda</td>\n",
       "      <td>0.999313</td>\n",
       "      <td>0.999971</td>\n",
       "      <td>0.973978</td>\n",
       "      <td>0.975154</td>\n",
       "      <td>0.986483</td>\n",
       "      <td>0.987406</td>\n",
       "      <td>0.999341</td>\n",
       "      <td>0.999971</td>\n",
       "      <td>0.974028</td>\n",
       "      <td>0.975154</td>\n",
       "      <td>0.986522</td>\n",
       "      <td>0.987406</td>\n",
       "      <td>0.999376</td>\n",
       "      <td>0.999941</td>\n",
       "      <td>0.974091</td>\n",
       "      <td>0.975101</td>\n",
       "      <td>0.986572</td>\n",
       "      <td>0.987365</td>\n",
       "    </tr>\n",
       "    <tr>\n",
       "      <th>2</th>\n",
       "      <td>country</td>\n",
       "      <td>Tunisia</td>\n",
       "      <td>0.997272</td>\n",
       "      <td>0.999208</td>\n",
       "      <td>0.973409</td>\n",
       "      <td>0.973920</td>\n",
       "      <td>0.985196</td>\n",
       "      <td>0.986402</td>\n",
       "      <td>0.997342</td>\n",
       "      <td>0.999125</td>\n",
       "      <td>0.973428</td>\n",
       "      <td>0.973898</td>\n",
       "      <td>0.985240</td>\n",
       "      <td>0.986350</td>\n",
       "      <td>0.997402</td>\n",
       "      <td>0.998939</td>\n",
       "      <td>0.973443</td>\n",
       "      <td>0.973849</td>\n",
       "      <td>0.985277</td>\n",
       "      <td>0.986234</td>\n",
       "    </tr>\n",
       "    <tr>\n",
       "      <th>3</th>\n",
       "      <td>country</td>\n",
       "      <td>Uganda</td>\n",
       "      <td>0.972815</td>\n",
       "      <td>0.996142</td>\n",
       "      <td>0.963721</td>\n",
       "      <td>0.973183</td>\n",
       "      <td>0.968247</td>\n",
       "      <td>0.984532</td>\n",
       "      <td>0.972994</td>\n",
       "      <td>0.995521</td>\n",
       "      <td>0.964048</td>\n",
       "      <td>0.972674</td>\n",
       "      <td>0.968502</td>\n",
       "      <td>0.983965</td>\n",
       "      <td>0.974377</td>\n",
       "      <td>0.994523</td>\n",
       "      <td>0.964338</td>\n",
       "      <td>0.971694</td>\n",
       "      <td>0.969335</td>\n",
       "      <td>0.982986</td>\n",
       "    </tr>\n",
       "    <tr>\n",
       "      <th>4</th>\n",
       "      <td>country</td>\n",
       "      <td>Nigeria</td>\n",
       "      <td>0.969982</td>\n",
       "      <td>0.972347</td>\n",
       "      <td>0.945166</td>\n",
       "      <td>0.962189</td>\n",
       "      <td>0.957405</td>\n",
       "      <td>0.967238</td>\n",
       "      <td>0.970016</td>\n",
       "      <td>0.972316</td>\n",
       "      <td>0.945293</td>\n",
       "      <td>0.961181</td>\n",
       "      <td>0.957510</td>\n",
       "      <td>0.966706</td>\n",
       "      <td>0.970084</td>\n",
       "      <td>0.972289</td>\n",
       "      <td>0.945968</td>\n",
       "      <td>0.959883</td>\n",
       "      <td>0.957874</td>\n",
       "      <td>0.965955</td>\n",
       "    </tr>\n",
       "    <tr>\n",
       "      <th>5</th>\n",
       "      <td>country</td>\n",
       "      <td>Benin</td>\n",
       "      <td>0.967992</td>\n",
       "      <td>0.969905</td>\n",
       "      <td>0.941246</td>\n",
       "      <td>0.944776</td>\n",
       "      <td>0.954432</td>\n",
       "      <td>0.957175</td>\n",
       "      <td>0.968043</td>\n",
       "      <td>0.969853</td>\n",
       "      <td>0.941376</td>\n",
       "      <td>0.944670</td>\n",
       "      <td>0.954524</td>\n",
       "      <td>0.957096</td>\n",
       "      <td>0.968143</td>\n",
       "      <td>0.969752</td>\n",
       "      <td>0.941582</td>\n",
       "      <td>0.944495</td>\n",
       "      <td>0.954678</td>\n",
       "      <td>0.956956</td>\n",
       "    </tr>\n",
       "    <tr>\n",
       "      <th>6</th>\n",
       "      <td>country</td>\n",
       "      <td>Gabon</td>\n",
       "      <td>0.968032</td>\n",
       "      <td>0.969347</td>\n",
       "      <td>0.941364</td>\n",
       "      <td>0.946074</td>\n",
       "      <td>0.954512</td>\n",
       "      <td>0.957564</td>\n",
       "      <td>0.968077</td>\n",
       "      <td>0.969330</td>\n",
       "      <td>0.941506</td>\n",
       "      <td>0.946014</td>\n",
       "      <td>0.954607</td>\n",
       "      <td>0.957550</td>\n",
       "      <td>0.968266</td>\n",
       "      <td>0.969246</td>\n",
       "      <td>0.941871</td>\n",
       "      <td>0.945725</td>\n",
       "      <td>0.954886</td>\n",
       "      <td>0.957337</td>\n",
       "    </tr>\n",
       "    <tr>\n",
       "      <th>7</th>\n",
       "      <td>country</td>\n",
       "      <td>Mauritania</td>\n",
       "      <td>0.969339</td>\n",
       "      <td>0.969635</td>\n",
       "      <td>0.943532</td>\n",
       "      <td>0.946037</td>\n",
       "      <td>0.956405</td>\n",
       "      <td>0.957546</td>\n",
       "      <td>0.969342</td>\n",
       "      <td>0.969620</td>\n",
       "      <td>0.943598</td>\n",
       "      <td>0.946021</td>\n",
       "      <td>0.956432</td>\n",
       "      <td>0.957539</td>\n",
       "      <td>0.969360</td>\n",
       "      <td>0.969613</td>\n",
       "      <td>0.943747</td>\n",
       "      <td>0.945910</td>\n",
       "      <td>0.956505</td>\n",
       "      <td>0.957491</td>\n",
       "    </tr>\n",
       "    <tr>\n",
       "      <th>8</th>\n",
       "      <td>country</td>\n",
       "      <td>Zimbabwe</td>\n",
       "      <td>0.960793</td>\n",
       "      <td>0.969334</td>\n",
       "      <td>0.939492</td>\n",
       "      <td>0.943246</td>\n",
       "      <td>0.950038</td>\n",
       "      <td>0.956126</td>\n",
       "      <td>0.961062</td>\n",
       "      <td>0.969117</td>\n",
       "      <td>0.939539</td>\n",
       "      <td>0.943060</td>\n",
       "      <td>0.950149</td>\n",
       "      <td>0.955911</td>\n",
       "      <td>0.961509</td>\n",
       "      <td>0.968617</td>\n",
       "      <td>0.939762</td>\n",
       "      <td>0.942720</td>\n",
       "      <td>0.950552</td>\n",
       "      <td>0.955493</td>\n",
       "    </tr>\n",
       "    <tr>\n",
       "      <th>9</th>\n",
       "      <td>country</td>\n",
       "      <td>Honduras</td>\n",
       "      <td>0.960732</td>\n",
       "      <td>0.965321</td>\n",
       "      <td>0.939617</td>\n",
       "      <td>0.945484</td>\n",
       "      <td>0.950057</td>\n",
       "      <td>0.955299</td>\n",
       "      <td>0.960842</td>\n",
       "      <td>0.965270</td>\n",
       "      <td>0.939724</td>\n",
       "      <td>0.945350</td>\n",
       "      <td>0.950168</td>\n",
       "      <td>0.955205</td>\n",
       "      <td>0.961117</td>\n",
       "      <td>0.965115</td>\n",
       "      <td>0.940084</td>\n",
       "      <td>0.945124</td>\n",
       "      <td>0.950484</td>\n",
       "      <td>0.955014</td>\n",
       "    </tr>\n",
       "  </tbody>\n",
       "</table>\n",
       "</div>"
      ],
      "text/plain": [
       "     scale    category  p_lower_95  p_upper_95  r_lower_95  r_upper_95  \\\n",
       "0  country      Panama    1.000000    1.000000    0.964980    0.978972   \n",
       "1  country      Rwanda    0.999313    0.999971    0.973978    0.975154   \n",
       "2  country     Tunisia    0.997272    0.999208    0.973409    0.973920   \n",
       "3  country      Uganda    0.972815    0.996142    0.963721    0.973183   \n",
       "4  country     Nigeria    0.969982    0.972347    0.945166    0.962189   \n",
       "5  country       Benin    0.967992    0.969905    0.941246    0.944776   \n",
       "6  country       Gabon    0.968032    0.969347    0.941364    0.946074   \n",
       "7  country  Mauritania    0.969339    0.969635    0.943532    0.946037   \n",
       "8  country    Zimbabwe    0.960793    0.969334    0.939492    0.943246   \n",
       "9  country    Honduras    0.960732    0.965321    0.939617    0.945484   \n",
       "\n",
       "   f1_lower_95  f1_upper_95  p_lower_90  p_upper_90  r_lower_90  r_upper_90  \\\n",
       "0     0.982178     0.989373    1.000000    1.000000    0.965480    0.975545   \n",
       "1     0.986483     0.987406    0.999341    0.999971    0.974028    0.975154   \n",
       "2     0.985196     0.986402    0.997342    0.999125    0.973428    0.973898   \n",
       "3     0.968247     0.984532    0.972994    0.995521    0.964048    0.972674   \n",
       "4     0.957405     0.967238    0.970016    0.972316    0.945293    0.961181   \n",
       "5     0.954432     0.957175    0.968043    0.969853    0.941376    0.944670   \n",
       "6     0.954512     0.957564    0.968077    0.969330    0.941506    0.946014   \n",
       "7     0.956405     0.957546    0.969342    0.969620    0.943598    0.946021   \n",
       "8     0.950038     0.956126    0.961062    0.969117    0.939539    0.943060   \n",
       "9     0.950057     0.955299    0.960842    0.965270    0.939724    0.945350   \n",
       "\n",
       "   f1_lower_90  f1_upper_90  p_lower_80  p_upper_80  r_lower_80  r_upper_80  \\\n",
       "0     0.982437     0.987621    1.000000    1.000000    0.965909    0.975208   \n",
       "1     0.986522     0.987406    0.999376    0.999941    0.974091    0.975101   \n",
       "2     0.985240     0.986350    0.997402    0.998939    0.973443    0.973849   \n",
       "3     0.968502     0.983965    0.974377    0.994523    0.964338    0.971694   \n",
       "4     0.957510     0.966706    0.970084    0.972289    0.945968    0.959883   \n",
       "5     0.954524     0.957096    0.968143    0.969752    0.941582    0.944495   \n",
       "6     0.954607     0.957550    0.968266    0.969246    0.941871    0.945725   \n",
       "7     0.956432     0.957539    0.969360    0.969613    0.943747    0.945910   \n",
       "8     0.950149     0.955911    0.961509    0.968617    0.939762    0.942720   \n",
       "9     0.950168     0.955205    0.961117    0.965115    0.940084    0.945124   \n",
       "\n",
       "   f1_lower_80  f1_upper_80  \n",
       "0     0.982659     0.987448  \n",
       "1     0.986572     0.987365  \n",
       "2     0.985277     0.986234  \n",
       "3     0.969335     0.982986  \n",
       "4     0.957874     0.965955  \n",
       "5     0.954678     0.956956  \n",
       "6     0.954886     0.957337  \n",
       "7     0.956505     0.957491  \n",
       "8     0.950552     0.955493  \n",
       "9     0.950484     0.955014  "
      ]
     },
     "execution_count": 165,
     "metadata": {},
     "output_type": "execute_result"
    }
   ],
   "source": [
    "country_conf[:10]"
   ]
  },
  {
   "cell_type": "markdown",
   "id": "sophisticated-cable",
   "metadata": {},
   "source": [
    "## Visualizations"
   ]
  },
  {
   "cell_type": "code",
   "execution_count": 137,
   "id": "removed-premiere",
   "metadata": {},
   "outputs": [],
   "source": [
    "def visualize_precision(conf_int_df, linewidth, figsize, title):\n",
    "\n",
    "    plt.figure(figsize = figsize)\n",
    "\n",
    "    # plot 95% CI\n",
    "    for lower, upper, y in zip(conf_int_df['p_lower_90'],\n",
    "                               conf_int_df['p_upper_90'],\n",
    "                               range(len(conf_int_df))):\n",
    "\n",
    "        plt.plot((lower, upper), (y, y), color = 'lightsteelblue', linestyle='-', linewidth = linewidth*3)\n",
    "    \n",
    "    # plot 90% CI\n",
    "    for lower, upper, y in zip(conf_int_df['p_lower_90'],\n",
    "                               conf_int_df['p_upper_90'],\n",
    "                               range(len(conf_int_df))):\n",
    "\n",
    "        plt.plot((lower, upper), (y, y), color = 'royalblue', linestyle='-', linewidth = linewidth*2)\n",
    "        \n",
    "    # plot 80% CI\n",
    "    for lower, upper, y in zip(conf_int_df['p_lower_80'],\n",
    "                               conf_int_df['p_upper_80'],\n",
    "                               range(len(conf_int_df))):\n",
    "\n",
    "        plt.plot((lower, upper), (y, y), color = 'tomato', linestyle='-', linewidth = linewidth)\n",
    "\n",
    "    plt.yticks(range(len(conf_int_df)), list(conf_int_df['category']))\n",
    "    plt.title(f'Precision Confidence Intervals for {title}');\n",
    "    \n",
    "    return None"
   ]
  },
  {
   "cell_type": "code",
   "execution_count": 138,
   "id": "smart-biotechnology",
   "metadata": {},
   "outputs": [],
   "source": [
    "def visualize_recall(conf_int_df, linewidth, figsize, title):\n",
    "\n",
    "    plt.figure(figsize = figsize)\n",
    "\n",
    "    # plot 95% CI\n",
    "    for lower, upper, y in zip(conf_int_df['r_lower_90'],\n",
    "                               conf_int_df['r_upper_90'],\n",
    "                               range(len(conf_int_df))):\n",
    "\n",
    "        plt.plot((lower, upper), (y, y), color = 'darkseagreen', linestyle='-', linewidth = linewidth*3)\n",
    "    \n",
    "    # plot 90% CI\n",
    "    for lower, upper, y in zip(conf_int_df['r_lower_90'],\n",
    "                               conf_int_df['r_upper_90'],\n",
    "                               range(len(conf_int_df))):\n",
    "\n",
    "        plt.plot((lower, upper), (y, y), color = 'seagreen', linestyle='-', linewidth = linewidth*2)\n",
    "        \n",
    "    # plot 80% CI\n",
    "    for lower, upper, y in zip(conf_int_df['r_lower_80'],\n",
    "                               conf_int_df['r_upper_80'],\n",
    "                               range(len(conf_int_df))):\n",
    "\n",
    "        plt.plot((lower, upper), (y, y), color = 'tomato', linestyle='-', linewidth = linewidth)\n",
    "\n",
    "    plt.yticks(range(len(conf_int_df)), list(conf_int_df['category']))\n",
    "    plt.title(f'Recall Confidence Intervals for {title}');\n",
    "    \n",
    "    return None"
   ]
  },
  {
   "cell_type": "code",
   "execution_count": 145,
   "id": "academic-farming",
   "metadata": {},
   "outputs": [],
   "source": [
    "def visualize_f1(conf_int_df, linewidth, figsize, title):\n",
    "\n",
    "    plt.figure(figsize = figsize)\n",
    "\n",
    "    # plot 95% CI\n",
    "    for lower, upper, y in zip(conf_int_df['f1_lower_90'],\n",
    "                               conf_int_df['f1_upper_90'],\n",
    "                               range(len(conf_int_df))):\n",
    "\n",
    "        plt.plot((lower, upper), (y, y), color = 'thistle', linestyle='-', linewidth = linewidth*3)\n",
    "    \n",
    "    # plot 90% CI\n",
    "    for lower, upper, y in zip(conf_int_df['f1_lower_90'],\n",
    "                               conf_int_df['f1_upper_90'],\n",
    "                               range(len(conf_int_df))):\n",
    "\n",
    "        plt.plot((lower, upper), (y, y), color = 'darkslateblue', linestyle='-', linewidth = linewidth*2)\n",
    "        \n",
    "    # plot 80% CI\n",
    "    for lower, upper, y in zip(conf_int_df['f1_lower_80'],\n",
    "                               conf_int_df['f1_upper_80'],\n",
    "                               range(len(conf_int_df))):\n",
    "\n",
    "        plt.plot((lower, upper), (y, y), color = 'tomato', linestyle='-', linewidth = linewidth)\n",
    "\n",
    "    plt.yticks(range(len(conf_int_df)), list(conf_int_df['category']))\n",
    "    plt.title(f'F1 Confidence Intervals for {title}')\n",
    "    \n",
    "    return None"
   ]
  },
  {
   "cell_type": "markdown",
   "id": "dirty-nashville",
   "metadata": {},
   "source": [
    "### Biome"
   ]
  },
  {
   "cell_type": "code",
   "execution_count": 156,
   "id": "wireless-warren",
   "metadata": {},
   "outputs": [
    {
     "data": {
      "image/png": "[encoded data removed]",
      "text/plain": [
       "<Figure size 936x432 with 1 Axes>"
      ]
     },
     "metadata": {
      "needs_background": "light"
     },
     "output_type": "display_data"
    },
    {
     "data": {
      "image/png": "[encoded data removed]",
      "text/plain": [
       "<Figure size 936x432 with 1 Axes>"
      ]
     },
     "metadata": {
      "needs_background": "light"
     },
     "output_type": "display_data"
    },
    {
     "data": {
      "image/png": "[encoded data removed]",
      "text/plain": [
       "<Figure size 936x432 with 1 Axes>"
      ]
     },
     "metadata": {
      "needs_background": "light"
     },
     "output_type": "display_data"
    }
   ],
   "source": [
    "visualize_precision(biome_conf, 6, (13,6), 'Biomes')\n",
    "visualize_recall(biome_conf, 6, (13,6), 'Biomes')\n",
    "visualize_f1(biome_conf, 6, (13,6), 'Biomes')"
   ]
  },
  {
   "cell_type": "markdown",
   "id": "earlier-soundtrack",
   "metadata": {},
   "source": [
    "### Subregion"
   ]
  },
  {
   "cell_type": "code",
   "execution_count": 151,
   "id": "entitled-morgan",
   "metadata": {
    "scrolled": true
   },
   "outputs": [
    {
     "data": {
      "image/png": "[encoded data removed]",
      "text/plain": [
       "<Figure size 720x432 with 1 Axes>"
      ]
     },
     "metadata": {
      "needs_background": "light"
     },
     "output_type": "display_data"
    },
    {
     "data": {
      "image/png": "[encoded data removed]",
      "text/plain": [
       "<Figure size 720x432 with 1 Axes>"
      ]
     },
     "metadata": {
      "needs_background": "light"
     },
     "output_type": "display_data"
    },
    {
     "data": {
      "image/png": "[encoded data removed]",
      "text/plain": [
       "<Figure size 720x432 with 1 Axes>"
      ]
     },
     "metadata": {
      "needs_background": "light"
     },
     "output_type": "display_data"
    }
   ],
   "source": [
    "visualize_precision(subregion_conf, 6, (10,6), 'Subregions')\n",
    "visualize_recall(subregion_conf, 6, (10,6), 'Subregions')\n",
    "visualize_f1(subregion_conf, 6, (10,6), 'Subregions')"
   ]
  },
  {
   "cell_type": "markdown",
   "id": "continental-elephant",
   "metadata": {},
   "source": [
    "### Country Examples"
   ]
  },
  {
   "cell_type": "code",
   "execution_count": 168,
   "id": "appropriate-evans",
   "metadata": {},
   "outputs": [
    {
     "data": {
      "image/png": "[encoded data removed]",
      "text/plain": [
       "<Figure size 936x432 with 1 Axes>"
      ]
     },
     "metadata": {
      "needs_background": "light"
     },
     "output_type": "display_data"
    },
    {
     "data": {
      "image/png": "[encoded data removed]",
      "text/plain": [
       "<Figure size 936x432 with 1 Axes>"
      ]
     },
     "metadata": {
      "needs_background": "light"
     },
     "output_type": "display_data"
    },
    {
     "data": {
      "image/png": "[encoded data removed]",
      "text/plain": [
       "<Figure size 936x432 with 1 Axes>"
      ]
     },
     "metadata": {
      "needs_background": "light"
     },
     "output_type": "display_data"
    }
   ],
   "source": [
    "visualize_precision(country_conf[:10], 6, (13,6), 'Sample Countries')\n",
    "visualize_recall(country_conf[:10], 6, (13,6), 'Sample Countries')\n",
    "visualize_f1(country_conf[:10], 6, (13,6), 'Sample Countries')"
   ]
  }
 ],
 "metadata": {
  "kernelspec": {
   "display_name": "Python 3",
   "language": "python",
   "name": "python3"
  },
  "language_info": {
   "codemirror_mode": {
    "name": "ipython",
    "version": 3
   },
   "file_extension": ".py",
   "mimetype": "text/x-python",
   "name": "python",
   "nbconvert_exporter": "python",
   "pygments_lexer": "ipython3",
   "version": "3.7.0"
  },
  "toc": {
   "base_numbering": 1,
   "nav_menu": {},
   "number_sections": true,
   "sideBar": true,
   "skip_h1_title": false,
   "title_cell": "Table of Contents",
   "title_sidebar": "Contents",
   "toc_cell": false,
   "toc_position": {
    "height": "calc(100% - 180px)",
    "left": "10px",
    "top": "150px",
    "width": "165px"
   },
   "toc_section_display": true,
   "toc_window_display": true
  }
 },
 "nbformat": 4,
 "nbformat_minor": 5
}
