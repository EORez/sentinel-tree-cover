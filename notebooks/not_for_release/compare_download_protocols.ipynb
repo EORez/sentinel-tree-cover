{
 "cells": [
  {
   "cell_type": "code",
   "execution_count": 2,
   "metadata": {},
   "outputs": [],
   "source": [
    "import numpy as np\n",
    "import seaborn as sns\n",
    "import matplotlib.pyplot as plt\n",
    "%matplotlib inline\n",
    "import os\n",
    "\n"
   ]
  },
  {
   "cell_type": "markdown",
   "metadata": {},
   "source": [
    "# Sentinel 1"
   ]
  },
  {
   "cell_type": "code",
   "execution_count": 4,
   "metadata": {},
   "outputs": [],
   "source": [
    "files = [x for x in os.listdir(\"../../data/test-s1\") if '.npy' in x]"
   ]
  },
  {
   "cell_type": "code",
   "execution_count": 14,
   "metadata": {},
   "outputs": [
    {
     "name": "stdout",
     "output_type": "stream",
     "text": [
      "The old max was 1.0980000495910645 and the new max is 1.0\n",
      "The old max was 2.1424999237060547 and the new max is 1.0\n",
      "The old max was 6.064899444580078 and the new max is 1.0\n",
      "The old max was 1.0338499546051025 and the new max is 0.7428015564202335\n",
      "The old max was 2.1649999618530273 and the new max is 0.7647058823529411\n",
      "The old max was 1.131250023841858 and the new max is 0.8457465476462959\n",
      "The old max was 2.0978000164031982 and the new max is 1.0\n",
      "The old max was 1.0851500034332275 and the new max is 1.0\n",
      "The old max was 2.9595000743865967 and the new max is 0.9640039673456932\n",
      "The old max was 2.1614999771118164 and the new max is 0.7080949111161975\n",
      "The old max was 1.0585500001907349 and the new max is 1.0\n",
      "The old max was 2.706775188446045 and the new max is 1.0\n",
      "The old max was 4.527699947357178 and the new max is 1.0\n",
      "The old max was 1.5341500043869019 and the new max is 1.0\n",
      "The old max was 1.3483999967575073 and the new max is 0.7250019073777371\n",
      "The old max was 1.2891000509262085 and the new max is 1.0\n",
      "The old max was 1.391700029373169 and the new max is 0.5801937895780881\n",
      "The old max was 1.1347999572753906 and the new max is 0.7620050354772259\n",
      "The old max was 1.6207499504089355 and the new max is 1.0\n",
      "The old max was 1.1656750440597534 and the new max is 0.6686961165789272\n",
      "The old max was 1.0703999996185303 and the new max is 0.46059357595178146\n",
      "The old max was 1.1597000360488892 and the new max is 0.7630502784771496\n",
      "The old max was 2.5055999755859375 and the new max is 1.0\n",
      "The old max was 1.8561999797821045 and the new max is 1.0\n",
      "The old max was 6.553500175476074 and the new max is 1.0\n",
      "The old max was 2.0020999908447266 and the new max is 1.0\n",
      "The old max was 1.0328500270843506 and the new max is 0.9983978027008469\n",
      "The old max was 6.553500175476074 and the new max is 1.0\n",
      "The old max was 2.0129001140594482 and the new max is 1.0\n",
      "The old max was 2.0679500102996826 and the new max is 1.0\n",
      "The old max was 1.670549988746643 and the new max is 1.0\n",
      "The old max was 2.1889500617980957 and the new max is 1.0\n",
      "The old max was 2.05679988861084 and the new max is 0.5859998474097811\n",
      "The old max was 1.1157500743865967 and the new max is 1.0\n",
      "The old max was 1.3580999374389648 and the new max is 1.0\n",
      "The old max was 1.8530501127243042 and the new max is 0.893797207598993\n",
      "The old max was 1.930050015449524 and the new max is 1.0\n",
      "The old max was 3.3220999240875244 and the new max is 0.5023498893720912\n",
      "The old max was 1.3331249952316284 and the new max is 1.0\n",
      "The old max was 1.0557000637054443 and the new max is 1.0\n",
      "The old max was 1.9339001178741455 and the new max is 1.0\n",
      "The old max was 1.1109000444412231 and the new max is 0.9483939879453727\n",
      "The old max was 6.553500175476074 and the new max is 1.0\n",
      "The old max was 1.0930999517440796 and the new max is 1.0\n",
      "The old max was 3.476900100708008 and the new max is 0.2256046387426566\n",
      "The old max was 1.7666749954223633 and the new max is 1.0\n",
      "The old max was 1.3004250526428223 and the new max is 1.0\n",
      "The old max was 1.8090999126434326 and the new max is 1.0\n",
      "The old max was 1.8717999458312988 and the new max is 1.0\n",
      "The old max was 1.5120999813079834 and the new max is 1.0\n",
      "The old max was 1.9331998825073242 and the new max is 1.0\n",
      "The old max was 1.3989999294281006 and the new max is 1.0\n",
      "The old max was 1.0023000240325928 and the new max is 0.9481040665293354\n",
      "The old max was 1.1383249759674072 and the new max is 1.0\n",
      "The old max was 1.6156500577926636 and the new max is 1.0\n",
      "The old max was 1.0846500396728516 and the new max is 1.0\n",
      "The old max was 1.009600043296814 and the new max is 0.8397497520408941\n",
      "The old max was 6.553500175476074 and the new max is 1.0\n",
      "The old max was 1.008424997329712 and the new max is 1.0\n",
      "The old max was 1.393649935722351 and the new max is 1.0\n",
      "The old max was 1.1153498888015747 and the new max is 1.0\n",
      "The old max was 1.3349000215530396 and the new max is 0.8634927901121539\n",
      "The old max was 6.553500175476074 and the new max is 1.0\n",
      "The old max was 1.5760999917984009 and the new max is 1.0\n",
      "The old max was 1.00600004196167 and the new max is 1.0\n",
      "The old max was 4.820799827575684 and the new max is 0.5781033035782407\n",
      "The old max was 1.54135000705719 and the new max is 1.0\n",
      "The old max was 1.5506999492645264 and the new max is 1.0\n",
      "The old max was 1.8173000812530518 and the new max is 1.0\n",
      "The old max was 1.6556000709533691 and the new max is 1.0\n",
      "The old max was 3.8636999130249023 and the new max is 1.0\n",
      "The old max was 1.5993249416351318 and the new max is 0.6860532539864195\n",
      "The old max was 1.2071000337600708 and the new max is 0.8433966582742046\n",
      "The old max was 1.833975076675415 and the new max is 1.0\n",
      "The old max was 1.1601500511169434 and the new max is 1.0\n",
      "The old max was 6.553500175476074 and the new max is 0.32649729152361334\n",
      "The old max was 5.982424736022949 and the new max is 1.0\n",
      "The old max was 4.578824996948242 and the new max is 1.0\n",
      "The old max was 1.8082000017166138 and the new max is 1.0\n",
      "The old max was 1.430799961090088 and the new max is 1.0\n",
      "The old max was 1.2775750160217285 and the new max is 1.0\n",
      "The old max was 1.0065499544143677 and the new max is 1.0\n",
      "The old max was 1.074049949645996 and the new max is 1.0\n",
      "The old max was 2.7572999000549316 and the new max is 0.9506981002517739\n",
      "The old max was 1.5503499507904053 and the new max is 1.0\n",
      "The old max was 2.3645999431610107 and the new max is 1.0\n",
      "The old max was 2.791100025177002 and the new max is 1.0\n",
      "The old max was 6.553500175476074 and the new max is 0.3204013122758831\n",
      "The old max was 1.0387500524520874 and the new max is 1.0\n",
      "The old max was 3.334549903869629 and the new max is 0.9252002746623942\n",
      "The old max was 1.0529999732971191 and the new max is 0.8891966124971389\n",
      "The old max was 6.553500175476074 and the new max is 1.0\n",
      "The old max was 1.052799940109253 and the new max is 1.0\n",
      "The old max was 1.7186000347137451 and the new max is 1.0\n",
      "The old max was 1.4682248830795288 and the new max is 0.9006942854962997\n",
      "The old max was 1.3790000677108765 and the new max is 1.0\n",
      "The old max was 1.1479499340057373 and the new max is 1.0\n",
      "The old max was 1.0090999603271484 and the new max is 0.8203479056992447\n",
      "The old max was 1.055050015449524 and the new max is 0.8691996643015183\n",
      "The old max was 3.0815000534057617 and the new max is 1.0\n",
      "The old max was 4.6483001708984375 and the new max is 0.5422980086976426\n",
      "The old max was 2.997450113296509 and the new max is 1.0\n",
      "The old max was 4.96720027923584 and the new max is 0.42705424582284274\n",
      "The old max was 1.2163749933242798 and the new max is 1.0\n",
      "The old max was 1.3925000429153442 and the new max is 0.8618982223239491\n",
      "The old max was 1.5068000555038452 and the new max is 1.0\n",
      "The old max was 5.820225715637207 and the new max is 0.7698023956664378\n",
      "The old max was 2.3585000038146973 and the new max is 1.0\n",
      "The old max was 1.1212999820709229 and the new max is 1.0\n",
      "The old max was 1.2141499519348145 and the new max is 1.0\n",
      "The old max was 1.0714499950408936 and the new max is 1.0\n",
      "The old max was 3.355149984359741 and the new max is 1.0\n",
      "The old max was 1.0160499811172485 and the new max is 1.0\n",
      "The old max was 6.553500175476074 and the new max is 1.0\n",
      "The old max was 3.135650157928467 and the new max is 1.0\n",
      "The old max was 4.245200157165527 and the new max is 1.0\n",
      "The old max was 1.7981499433517456 and the new max is 1.0\n",
      "The old max was 1.1105999946594238 and the new max is 0.8276035706111238\n",
      "The old max was 2.2395999431610107 and the new max is 1.0\n",
      "The old max was 6.553500175476074 and the new max is 0.890600442511635\n",
      "The old max was 6.553500175476074 and the new max is 1.0\n",
      "The old max was 2.4460999965667725 and the new max is 1.0\n",
      "The old max was 1.121500015258789 and the new max is 0.858503089951934\n",
      "The old max was 1.106600046157837 and the new max is 1.0\n",
      "The old max was 4.369349956512451 and the new max is 1.0\n",
      "The old max was 1.2138999700546265 and the new max is 1.0\n",
      "The old max was 1.8298499584197998 and the new max is 1.0\n",
      "The old max was 2.666599988937378 and the new max is 1.0\n",
      "The old max was 1.6212999820709229 and the new max is 1.0\n",
      "The old max was 1.269974946975708 and the new max is 0.8388494697489891\n",
      "The old max was 1.3616999387741089 and the new max is 1.0\n",
      "The old max was 1.1810500621795654 and the new max is 1.0\n",
      "The old max was 4.653049945831299 and the new max is 0.7654993514915693\n",
      "The old max was 1.198599934577942 and the new max is 1.0\n",
      "The old max was 6.553500175476074 and the new max is 0.5421072709239337\n",
      "The old max was 1.8788001537322998 and the new max is 1.0\n",
      "The old max was 1.8555999994277954 and the new max is 1.0\n",
      "The old max was 1.0256999731063843 and the new max is 1.0\n"
     ]
    },
    {
     "name": "stdout",
     "output_type": "stream",
     "text": [
      "The old max was 1.309499979019165 and the new max is 1.0\n",
      "The old max was 1.0972000360488892 and the new max is 1.0\n",
      "The old max was 2.8696000576019287 and the new max is 1.0\n",
      "The old max was 1.339050054550171 and the new max is 0.4065003433279927\n",
      "The old max was 6.553500175476074 and the new max is 0.8823071641107805\n",
      "The old max was 1.4839750528335571 and the new max is 1.0\n",
      "The old max was 1.0213749408721924 and the new max is 1.0\n",
      "The old max was 6.553500175476074 and the new max is 0.9468070496681162\n",
      "The old max was 1.1225500106811523 and the new max is 1.0\n",
      "The old max was 4.205250263214111 and the new max is 1.0\n",
      "The old max was 4.4832000732421875 and the new max is 1.0\n",
      "The old max was 1.0372999906539917 and the new max is 1.0\n",
      "The old max was 1.044450044631958 and the new max is 0.8722972457465477\n",
      "The old max was 1.128499984741211 and the new max is 0.7815976195925841\n",
      "The old max was 1.3140000104904175 and the new max is 1.0\n",
      "The old max was 1.0961999893188477 and the new max is 1.0\n",
      "The old max was 1.8709250688552856 and the new max is 0.903593499656672\n",
      "The old max was 1.1367499828338623 and the new max is 1.0\n",
      "The old max was 1.0957000255584717 and the new max is 0.9828030823224232\n",
      "The old max was 1.3381999731063843 and the new max is 0.8545967803463798\n",
      "The old max was 1.6892000436782837 and the new max is 1.0\n",
      "The old max was 2.7906999588012695 and the new max is 1.0\n",
      "The old max was 3.5044500827789307 and the new max is 1.0\n",
      "The old max was 5.633100509643555 and the new max is 1.0\n",
      "The old max was 6.553500175476074 and the new max is 1.0\n",
      "The old max was 1.0477999448776245 and the new max is 0.8921034561684597\n",
      "The old max was 5.412899971008301 and the new max is 0.7994048981460289\n",
      "The old max was 4.064525127410889 and the new max is 1.0\n",
      "The old max was 5.283699989318848 and the new max is 1.0\n",
      "The old max was 1.0769000053405762 and the new max is 0.7676966506446937\n",
      "The old max was 2.080349922180176 and the new max is 1.0\n",
      "The old max was 1.3421000242233276 and the new max is 0.661303120469978\n",
      "The old max was 2.3735249042510986 and the new max is 0.6451056687266347\n",
      "The old max was 1.5205999612808228 and the new max is 0.6525978484779125\n",
      "The old max was 1.0441499948501587 and the new max is 1.0\n",
      "The old max was 1.4531999826431274 and the new max is 1.0\n",
      "The old max was 3.200700044631958 and the new max is 1.0\n",
      "The old max was 1.503999948501587 and the new max is 1.0\n",
      "The old max was 3.2964999675750732 and the new max is 1.0\n",
      "The old max was 2.0102999210357666 and the new max is 0.4189059281300069\n",
      "The old max was 1.0389000177383423 and the new max is 0.7976043335622186\n",
      "The old max was 1.638974905014038 and the new max is 1.0\n",
      "The old max was 1.3091000318527222 and the new max is 1.0\n",
      "The old max was 6.553500175476074 and the new max is 0.9709925993743801\n",
      "The old max was 1.2363749742507935 and the new max is 1.0\n",
      "The old max was 3.6881251335144043 and the new max is 1.0\n",
      "The old max was 1.878425121307373 and the new max is 1.0\n",
      "The old max was 1.1119999885559082 and the new max is 1.0\n",
      "The old max was 1.8205499649047852 and the new max is 0.8793011367971313\n",
      "The old max was 1.2582249641418457 and the new max is 1.0\n",
      "The old max was 1.0354499816894531 and the new max is 0.9026474402990768\n",
      "The old max was 2.350250005722046 and the new max is 1.0\n",
      "The old max was 3.1077001094818115 and the new max is 1.0\n",
      "The old max was 1.305050015449524 and the new max is 1.0\n",
      "The old max was 1.067199945449829 and the new max is 1.0\n",
      "The old max was 2.7135000228881836 and the new max is 1.0\n",
      "The old max was 1.6080000400543213 and the new max is 1.0\n",
      "The old max was 3.309999942779541 and the new max is 1.0\n",
      "The old max was 1.1313250064849854 and the new max is 0.9633020523384451\n",
      "The old max was 1.235450029373169 and the new max is 1.0\n",
      "The old max was 1.4160499572753906 and the new max is 1.0\n",
      "The old max was 3.0796000957489014 and the new max is 1.0\n",
      "The old max was 1.0149999856948853 and the new max is 0.9748989089799344\n",
      "The old max was 1.809000015258789 and the new max is 1.0\n",
      "The old max was 1.0593500137329102 and the new max is 1.0\n",
      "The old max was 1.3791499137878418 and the new max is 1.0\n",
      "The old max was 1.098099946975708 and the new max is 1.0\n",
      "The old max was 1.2297499179840088 and the new max is 1.0\n",
      "The old max was 1.0317000150680542 and the new max is 1.0\n",
      "The old max was 6.553500175476074 and the new max is 0.8122529945830472\n",
      "The old max was 1.6402000188827515 and the new max is 1.0\n",
      "The old max was 1.1895999908447266 and the new max is 0.9181048294804303\n",
      "The old max was 1.055999994277954 and the new max is 0.938452735179675\n",
      "The old max was 1.021299958229065 and the new max is 0.9378042267490654\n",
      "The old max was 1.1371999979019165 and the new max is 1.0\n",
      "The old max was 1.0900750160217285 and the new max is 0.36740672922865647\n",
      "The old max was 6.553500175476074 and the new max is 1.0\n",
      "The old max was 1.304724931716919 and the new max is 1.0\n",
      "The old max was 1.1277999877929688 and the new max is 1.0\n",
      "The old max was 1.2086999416351318 and the new max is 1.0\n",
      "The old max was 1.7324999570846558 and the new max is 1.0\n",
      "The old max was 2.2032999992370605 and the new max is 1.0\n",
      "The old max was 1.0422500371932983 and the new max is 0.8166933699549859\n",
      "The old max was 1.3055000305175781 and the new max is 1.0\n",
      "The old max was 1.2113499641418457 and the new max is 1.0\n",
      "The old max was 1.7646499872207642 and the new max is 1.0\n",
      "The old max was 1.894225001335144 and the new max is 1.0\n",
      "The old max was 1.1308499574661255 and the new max is 1.0\n",
      "The old max was 1.232300043106079 and the new max is 1.0\n",
      "The old max was 1.5600999593734741 and the new max is 0.6884489204242008\n",
      "The old max was 1.6143499612808228 and the new max is 1.0\n",
      "The old max was 1.3549000024795532 and the new max is 1.0\n",
      "The old max was 1.5830999612808228 and the new max is 0.8648966201266499\n",
      "The old max was 6.553500175476074 and the new max is 1.0\n",
      "The old max was 1.2914000749588013 and the new max is 1.0\n",
      "The old max was 2.5755250453948975 and the new max is 1.0\n",
      "The old max was 1.6577249765396118 and the new max is 1.0\n",
      "The old max was 1.5690999031066895 and the new max is 1.0\n",
      "The old max was 1.1756999492645264 and the new max is 0.6556496528572519\n",
      "The old max was 2.570150136947632 and the new max is 1.0\n",
      "The old max was 1.0549999475479126 and the new max is 1.0\n",
      "The old max was 4.5528998374938965 and the new max is 1.0\n",
      "The old max was 1.1505000591278076 and the new max is 0.7114976729991607\n",
      "The old max was 6.553500175476074 and the new max is 1.0\n",
      "The old max was 6.553500175476074 and the new max is 0.6979476615548943\n",
      "The old max was 1.593462586402893 and the new max is 1.0\n",
      "The old max was 1.180050015449524 and the new max is 1.0\n"
     ]
    }
   ],
   "source": [
    "for file in files:\n",
    "    if os.path.exists(\"../../data/old-s1/\" + file):\n",
    "        old_s1 = np.load(\"../../data/old-s1/\" + file)\n",
    "        new_s1 = np.load(\"../../data/test-s1/\" + file)\n",
    "        #diffs = np.mean(abs(old_s1 - new_s1))\n",
    "        #diffs = diffs / np.mean(old_s1)\n",
    "        old_max = np.max(old_s1)\n",
    "        new_max = np.max(new_s1)\n",
    "        if old_max > 1:\n",
    "            print(f\"The old max was {old_max} and the new max is {new_max}\")"
   ]
  },
  {
   "cell_type": "markdown",
   "metadata": {},
   "source": [
    "# Sentinel 2"
   ]
  },
  {
   "cell_type": "code",
   "execution_count": 20,
   "metadata": {},
   "outputs": [],
   "source": [
    "files = [x for x in os.listdir(\"../../data/test-s2\") if '.npy' in x]"
   ]
  },
  {
   "cell_type": "code",
   "execution_count": 24,
   "metadata": {},
   "outputs": [
    {
     "name": "stdout",
     "output_type": "stream",
     "text": [
      "The difference is 0.3391490800721501 for 136752916.npy\n"
     ]
    }
   ],
   "source": [
    "for file in [\"136752916.npy\"]:\n",
    "    if os.path.exists(\"../../data/old-s2/\" + file):\n",
    "        old_s2 = np.load(\"../../data/old-s2/\" + file)\n",
    "        new_s2 = np.load(\"../../data/test-s2/\" + file)\n",
    "        diffs = np.mean(abs(old_s2 - new_s2))\n",
    "        diffs = diffs / np.mean(old_s2)\n",
    "        old_max = np.max(old_s2)\n",
    "        new_max = np.max(new_s2)\n",
    "        if diffs > 0.1:\n",
    "            print(f\"The difference is {diffs} for {file}\")\n",
    "        #print(f\"The old max was {old_max} and the new max is {new_max}\")"
   ]
  },
  {
   "cell_type": "code",
   "execution_count": 48,
   "metadata": {},
   "outputs": [
    {
     "data": {
      "text/plain": [
       "<matplotlib.axes._subplots.AxesSubplot at 0x1a22d66978>"
      ]
     },
     "execution_count": 48,
     "metadata": {},
     "output_type": "execute_result"
    },
    {
     "data": {
      "image/png": "[encoded data removed]",
      "text/plain": [
       "<Figure size 432x288 with 2 Axes>"
      ]
     },
     "metadata": {
      "needs_background": "light"
     },
     "output_type": "display_data"
    }
   ],
   "source": [
    "sns.heatmap(old_s2[5, :, :, 3])"
   ]
  },
  {
   "cell_type": "code",
   "execution_count": 47,
   "metadata": {},
   "outputs": [
    {
     "data": {
      "text/plain": [
       "<matplotlib.axes._subplots.AxesSubplot at 0x1a22c38630>"
      ]
     },
     "execution_count": 47,
     "metadata": {},
     "output_type": "execute_result"
    },
    {
     "data": {
      "image/png": "[encoded data removed]",
      "text/plain": [
       "<Figure size 432x288 with 2 Axes>"
      ]
     },
     "metadata": {
      "needs_background": "light"
     },
     "output_type": "display_data"
    }
   ],
   "source": [
    "sns.heatmap(new_s2[5, :, :, 3])"
   ]
  },
  {
   "cell_type": "code",
   "execution_count": null,
   "metadata": {},
   "outputs": [],
   "source": []
  }
 ],
 "metadata": {
  "kernelspec": {
   "display_name": "remote_sensing",
   "language": "python",
   "name": "remote_sensing"
  },
  "language_info": {
   "codemirror_mode": {
    "name": "ipython",
    "version": 3
   },
   "file_extension": ".py",
   "mimetype": "text/x-python",
   "name": "python",
   "nbconvert_exporter": "python",
   "pygments_lexer": "ipython3",
   "version": "3.6.8"
  }
 },
 "nbformat": 4,
 "nbformat_minor": 2
}
