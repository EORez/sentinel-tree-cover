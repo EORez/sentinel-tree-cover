{
 "cells": [
  {
   "cell_type": "code",
   "execution_count": 24,
   "metadata": {},
   "outputs": [],
   "source": [
    "import pandas as pd\n",
    "import numpy as np\n",
    "from osgeo import ogr, osr\n",
    "from sentinelhub import WmsRequest, WcsRequest, MimeType, CRS, BBox, constants\n",
    "import os\n",
    "import yaml\n",
    "from sentinelhub import DataSource\n",
    "from sentinelhub import CustomUrlParam\n",
    "from pyproj import Proj, transform\n",
    "import math\n",
    "import datetime\n",
    "\n",
    "import seaborn as sns\n",
    "import matplotlib.pyplot as plt\n",
    "%matplotlib inline"
   ]
  },
  {
   "cell_type": "code",
   "execution_count": 18,
   "metadata": {},
   "outputs": [],
   "source": [
    "with open(\"../config.yaml\", 'r') as stream:\n",
    "    key = (yaml.safe_load(stream))\n",
    "    API_KEY = key['key']\n",
    "    AWSKEY = key['awskey']\n",
    "    AWSSECRET = key['awssecret']"
   ]
  },
  {
   "cell_type": "code",
   "execution_count": 19,
   "metadata": {},
   "outputs": [],
   "source": [
    "dates = ('2019-12-15', '2020-01-15')\n",
    "coord = (-90.8, 15.3)"
   ]
  },
  {
   "cell_type": "code",
   "execution_count": 20,
   "metadata": {},
   "outputs": [],
   "source": [
    "def calculate_epsg(points):\n",
    "    \"\"\" Calculates the UTM EPSG of an input WGS 84 lon, lat\n",
    "\n",
    "        Parameters:\n",
    "         points (tuple): input longitiude, latitude tuple\n",
    "    \n",
    "        Returns:\n",
    "         epsg_code (int): integer form of associated UTM EPSG\n",
    "    \"\"\"\n",
    "    lon, lat = points[0], points[1]\n",
    "    utm_band = str((math.floor((lon + 180) / 6 ) % 60) + 1)\n",
    "    if len(utm_band) == 1:\n",
    "        utm_band = '0'+ utm_band\n",
    "    if lat >= 0:\n",
    "        epsg_code = '326' + utm_band\n",
    "    else:\n",
    "        epsg_code = '327' + utm_band\n",
    "    return int(epsg_code)\n",
    "\n",
    "def calculate_bbx_pyproj(coord, step_x, step_y, expansion, multiplier = 1.):\n",
    "    ''' Calculates the four corners of a bounding box\n",
    "        but uses pyproj instead of OGR. It seems sentinelhub uses\n",
    "        pyproj, so this may be more pixel accurate\n",
    "    '''\n",
    "    \n",
    "    inproj = Proj('epsg:4326')\n",
    "    outproj_code = calculate_epsg(coord)\n",
    "    print(outproj_code)\n",
    "    outproj = Proj('epsg:' + str(outproj_code))\n",
    "    \n",
    "    \n",
    "    \n",
    "    coord_utm =  transform(inproj, outproj, coord[1], coord[0])\n",
    "    coord_utm_bottom_left = (coord_utm[0] + step_x*6300 - expansion,\n",
    "                             coord_utm[1] + step_y*6300 - expansion)\n",
    "    coord_utm_top_right = (coord_utm[0] + (step_x+multiplier) * 6300 + expansion,\n",
    "                           coord_utm[1] + (step_y+multiplier) * 6300 + expansion)\n",
    "    \n",
    "    coord_bottom_left = transform(outproj, inproj,\n",
    "                                  coord_utm_bottom_left[0],\n",
    "                                  coord_utm_bottom_left[1])\n",
    "    \n",
    "    coord_top_right = transform(outproj, inproj,\n",
    "                                  coord_utm_top_right[0],\n",
    "                                  coord_utm_top_right[1])\n",
    "    \n",
    "    zone = str(outproj_code)[3:]\n",
    "    direction = 'N' if coord[1] >= 0 else 'S'\n",
    "    utm_epsg = \"UTM_\" + zone + direction\n",
    "    return (coord_utm_bottom_left, coord_utm_top_right), CRS[utm_epsg]"
   ]
  },
  {
   "cell_type": "markdown",
   "metadata": {},
   "source": [
    "# D32F cloud probabilities"
   ]
  },
  {
   "cell_type": "code",
   "execution_count": 21,
   "metadata": {},
   "outputs": [
    {
     "name": "stdout",
     "output_type": "stream",
     "text": [
      "32615\n"
     ]
    },
    {
     "data": {
      "image/svg+xml": [
       "<svg xmlns=\"http://www.w3.org/2000/svg\" xmlns:xlink=\"http://www.w3.org/1999/xlink\" width=\"300\" height=\"300\" viewBox=\"735970.95843693 1692442.1503758463 6825.600000000093 6825.600000000093\" preserveAspectRatio=\"xMinYMin meet\"><g transform=\"matrix(1,0,0,-1,0,3391709.9007516927)\"><path fill-rule=\"evenodd\" fill=\"#66cc99\" stroke=\"#555555\" stroke-width=\"45.50400000000062\" opacity=\"0.6\" d=\"M 736223.75843693,1692694.9503758464 L 736223.75843693,1699014.9503758464 L 742543.75843693,1699014.9503758464 L 742543.75843693,1692694.9503758464 L 736223.75843693,1692694.9503758464 z\" /></g></svg>"
      ],
      "text/plain": [
       "BBox(((736223.75843693, 1692694.9503758464), (742543.75843693, 1699014.9503758464)), crs=EPSG:32615)"
      ]
     },
     "execution_count": 21,
     "metadata": {},
     "output_type": "execute_result"
    }
   ],
   "source": [
    "bbox, epsg = calculate_bbx_pyproj(coord, 0, 0, 10)\n",
    "box = BBox(bbox, crs = epsg)\n",
    "box"
   ]
  },
  {
   "cell_type": "markdown",
   "metadata": {},
   "source": [
    "### The `WmsRequest` gets the following JSON:\n",
    "\n",
    "```json\n",
    "{\n",
    "\t\"@id\": \"https://services.sentinel-hub.com/configuration/v1/wms/instances/[API_KEY_HERE]/layers/CLOUD_NEW\",\n",
    "\t\"id\": \"CLOUD_NEW\",\n",
    "\t\"title\": \"CLOUD_NEW\",\n",
    "\t\"description\": \"\",\n",
    "\t\"styles\": [\n",
    "\t\t{\n",
    "\t\t\t\"name\": \"default\",\n",
    "\t\t\t\"description\": \"Default layer style\",\n",
    "\t\t\t\"evalScript\": \"return [CLP]\"\n",
    "\t\t}\n",
    "\t],\n",
    "\t\"orderHint\": 0,\n",
    "\t\"instance\": {\n",
    "\t\t\"@id\": \"https://services.sentinel-hub.com/configuration/v1/wms/instances/[API_KEY_HERE]\"\n",
    "\t},\n",
    "\t\"dataset\": {\n",
    "\t\t\"@id\": \"https://services.sentinel-hub.com/configuration/v1/datasets/S2L1C\"\n",
    "\t},\n",
    "\t\"datasetSource\": {\n",
    "\t\t\"@id\": \"https://services.sentinel-hub.com/configuration/v1/datasets/S2L1C/sources/1\"\n",
    "\t},\n",
    "\t\"defaultStyleName\": \"default\",\n",
    "\t\"datasourceDefaults\": {\n",
    "\t\t\"mosaickingOrder\": \"mostRecent\",\n",
    "\t\t\"maxCloudCoverage\": 75,\n",
    "\t\t\"temporal\": false,\n",
    "\t\t\"type\": \"S2L1C\"\n",
    "\t},\n",
    "\t\"user_data\": {}\n",
    "}\n",
    "```"
   ]
  },
  {
   "cell_type": "code",
   "execution_count": 22,
   "metadata": {},
   "outputs": [],
   "source": [
    "cloud_request = WmsRequest(\n",
    "    layer='CLOUD_NEW',\n",
    "    bbox=box,\n",
    "    time=dates,\n",
    "    width=632,\n",
    "    height=632,\n",
    "    image_format = MimeType.TIFF_d32f,\n",
    "    maxcc=0.7,\n",
    "    instance_id=API_KEY,\n",
    "    custom_url_params = {constants.CustomUrlParam.UPSAMPLING: 'NEAREST'},\n",
    "    time_difference=datetime.timedelta(hours=72),\n",
    ")"
   ]
  },
  {
   "cell_type": "code",
   "execution_count": 23,
   "metadata": {},
   "outputs": [],
   "source": [
    "d32f_data = cloud_request.get_data()"
   ]
  },
  {
   "cell_type": "markdown",
   "metadata": {},
   "source": [
    "## The d32 tiff correctly shows cloud probabilities from 0 to 255"
   ]
  },
  {
   "cell_type": "code",
   "execution_count": 30,
   "metadata": {},
   "outputs": [
    {
     "data": {
      "text/plain": [
       "<matplotlib.axes._subplots.AxesSubplot at 0x1a2eb43a58>"
      ]
     },
     "execution_count": 30,
     "metadata": {},
     "output_type": "execute_result"
    },
    {
     "data": {
      "image/png": "[encoded data removed]",
      "text/plain": [
       "<Figure size 432x288 with 2 Axes>"
      ]
     },
     "metadata": {
      "needs_background": "light"
     },
     "output_type": "display_data"
    }
   ],
   "source": [
    "sns.heatmap(d32f_data[5])"
   ]
  },
  {
   "cell_type": "markdown",
   "metadata": {},
   "source": [
    "# D8 cloud probabilities"
   ]
  },
  {
   "cell_type": "code",
   "execution_count": 26,
   "metadata": {},
   "outputs": [],
   "source": [
    "cloud_request = WmsRequest(\n",
    "    layer='CLOUD_NEW',\n",
    "    bbox=box,\n",
    "    time=dates,\n",
    "    width=632,\n",
    "    height=632,\n",
    "    image_format = MimeType.TIFF_d8,\n",
    "    maxcc=0.7,\n",
    "    instance_id=API_KEY,\n",
    "    custom_url_params = {constants.CustomUrlParam.UPSAMPLING: 'NEAREST'},\n",
    "    time_difference=datetime.timedelta(hours=72),\n",
    ")\n",
    "\n",
    "d8_data = cloud_request.get_data()"
   ]
  },
  {
   "cell_type": "markdown",
   "metadata": {},
   "source": [
    "# The d8 tiff is wonky (?)"
   ]
  },
  {
   "cell_type": "code",
   "execution_count": 29,
   "metadata": {},
   "outputs": [
    {
     "data": {
      "text/plain": [
       "<matplotlib.axes._subplots.AxesSubplot at 0x1a2e40aba8>"
      ]
     },
     "execution_count": 29,
     "metadata": {},
     "output_type": "execute_result"
    },
    {
     "data": {
      "image/png": "[encoded data removed]",
      "text/plain": [
       "<Figure size 432x288 with 2 Axes>"
      ]
     },
     "metadata": {
      "needs_background": "light"
     },
     "output_type": "display_data"
    }
   ],
   "source": [
    "sns.heatmap(d8_data[5])"
   ]
  },
  {
   "cell_type": "markdown",
   "metadata": {},
   "source": [
    "# The scatterplot between d8 and d32 is wonky"
   ]
  },
  {
   "cell_type": "code",
   "execution_count": 32,
   "metadata": {},
   "outputs": [
    {
     "data": {
      "text/plain": [
       "<matplotlib.axes._subplots.AxesSubplot at 0x1a2dff4f60>"
      ]
     },
     "execution_count": 32,
     "metadata": {},
     "output_type": "execute_result"
    },
    {
     "data": {
      "image/png": "[encoded data removed]",
      "text/plain": [
       "<Figure size 432x288 with 1 Axes>"
      ]
     },
     "metadata": {
      "needs_background": "light"
     },
     "output_type": "display_data"
    }
   ],
   "source": [
    "d8_means = np.mean(d8_data, axis = (1, 2))\n",
    "d32_means = np.mean(d32f_data, axis = (1, 2))\n",
    "\n",
    "\n",
    "sns.scatterplot(d8_means, d32_means)"
   ]
  },
  {
   "cell_type": "markdown",
   "metadata": {},
   "source": [
    "# There is an average 40% difference between d8 and d32"
   ]
  },
  {
   "cell_type": "code",
   "execution_count": 38,
   "metadata": {},
   "outputs": [
    {
     "name": "stdout",
     "output_type": "stream",
     "text": [
      "140.6973958015442 %\n"
     ]
    }
   ],
   "source": [
    "print(f\"{(np.sum(abs(np.array(d8_data) - np.array(d32f_data))) / np.sum(d32f_data)) * 100} %\")"
   ]
  }
 ],
 "metadata": {
  "kernelspec": {
   "display_name": "remote_sensing",
   "language": "python",
   "name": "remote_sensing"
  },
  "language_info": {
   "codemirror_mode": {
    "name": "ipython",
    "version": 3
   },
   "file_extension": ".py",
   "mimetype": "text/x-python",
   "name": "python",
   "nbconvert_exporter": "python",
   "pygments_lexer": "ipython3",
   "version": "3.6.8"
  }
 },
 "nbformat": 4,
 "nbformat_minor": 2
}
