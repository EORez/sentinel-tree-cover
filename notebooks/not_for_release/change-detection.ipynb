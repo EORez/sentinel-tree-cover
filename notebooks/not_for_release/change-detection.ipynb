{
 "cells": [
  {
   "cell_type": "code",
   "execution_count": 17,
   "metadata": {},
   "outputs": [],
   "source": [
    "import numpy as np\n",
    "import os\n",
    "import seaborn as sns\n",
    "import matplotlib.pyplot as plt\n",
    "\n",
    "from osgeo import ogr, osr\n",
    "import rasterio\n",
    "from rasterio.transform import from_origin\n",
    "from tqdm import tnrange, tqdm_notebook\n",
    "from skimage.transform import resize\n",
    "import hickle as hkl\n",
    "from time import sleep\n",
    "\n",
    "%run ../../src/downloading/utils.py\n",
    "%run ../../src/models/utils.py\n",
    "\n",
    "%matplotlib inline"
   ]
  },
  {
   "cell_type": "code",
   "execution_count": 18,
   "metadata": {},
   "outputs": [],
   "source": [
    "def convertCoords(xy, src='', targ=''):\n",
    "\n",
    "    srcproj = osr.SpatialReference()\n",
    "    srcproj.ImportFromEPSG(src)\n",
    "    targproj = osr.SpatialReference()\n",
    "    if isinstance(targ, str):\n",
    "        targproj.ImportFromProj4(targ)\n",
    "    else:\n",
    "        targproj.ImportFromEPSG(targ)\n",
    "    transform = osr.CoordinateTransformation(srcproj, targproj)\n",
    "\n",
    "    pt = ogr.Geometry(ogr.wkbPoint)\n",
    "    pt.AddPoint(xy[0], xy[1])\n",
    "    pt.Transform(transform)\n",
    "    return([pt.GetX(), pt.GetY()])\n",
    "\n",
    "def convert_to_float(array):\n",
    "    return (array.astype(float) / 65535)\n",
    "\n",
    "\n",
    "def bounding_box(point, x_offset_max = 140, y_offset_max = 140, expansion = 10):\n",
    "\n",
    "    tl = point\n",
    "    \n",
    "    epsg = calculate_epsg(tl)\n",
    "    tl = convertCoords(tl, 4326, epsg)\n",
    "    \n",
    "    br = (tl[0], tl[1])\n",
    "    tl = ((tl[0] + (x_offset_max)), (tl[1] + (y_offset_max )))\n",
    "    distance1 = tl[0] - br[0]\n",
    "    distance2 = tl[1] - br[1]\n",
    "    \n",
    "    br = [a - expansion for a in br]\n",
    "    tl = [a + expansion for a in tl]\n",
    "    \n",
    "    after = [b - a for a,b in zip(br, tl)]\n",
    "    br = convertCoords(br, epsg, 4326)\n",
    "    tl = convertCoords(tl, epsg, 4326)\n",
    "    \n",
    "    min_x = tl[0] # original X offset - 10 meters\n",
    "    max_x = br[0] # original X offset + 10*GRID_SIZE meters\n",
    "    \n",
    "    min_y = tl[1] # original Y offset - 10 meters\n",
    "    max_y = br[1] # original Y offset + 10 meters + 140 meters\n",
    "    # (min_x, min_y), (max_x, max_y)\n",
    "    # (bl, tr)\n",
    "    return [(min_x, min_y), (max_x, max_y)]"
   ]
  },
  {
   "cell_type": "code",
   "execution_count": 19,
   "metadata": {},
   "outputs": [],
   "source": [
    "OUTPUT_2019 = \"../../tile_data/guatemala-gain/2019-new/output/\"\n",
    "OUTPUT_2018 = \"../../tile_data/guatemala-gain/2018-new/output/\""
   ]
  },
  {
   "cell_type": "code",
   "execution_count": 20,
   "metadata": {},
   "outputs": [],
   "source": [
    "max_x = 5\n",
    "max_y = 5\n",
    "\n",
    "start_x = 0\n",
    "start_y = 0\n",
    "\n",
    "pred_2019 = np.full(\n",
    "    (\n",
    "    (max_y-start_y)*126,\n",
    "    (max_x-start_x)*126\n",
    "    ), -1, dtype = np.float64 )\n",
    "\n",
    "max_y_out = pred_2019.shape[0]\n",
    "max_x_out = pred_2019.shape[1]\n",
    "\n",
    "numb = 0\n",
    "for row in range(start_y, max_y):\n",
    "    for column in range(start_x, max_x):\n",
    "        input_file = f\"{OUTPUT_2019}{str(row)}/{str(column)}.npy\"\n",
    "        if os.path.exists(input_file):\n",
    "            prediction = np.load(input_file)\n",
    "            x_value = (column-start_x) *126\n",
    "            y_value = (max_y_out - ((row - start_y + 1) *126))\n",
    "            if (row % 5 == 0) and (column % 5 == 0):\n",
    "                numb += 1\n",
    "            pred_2019[y_value:y_value+126, \n",
    "                        x_value:x_value+126,\n",
    "                        ] = prediction\n",
    "#pred_2019[np.where(pred_2019 < 0.5)] = 0."
   ]
  },
  {
   "cell_type": "code",
   "execution_count": 21,
   "metadata": {},
   "outputs": [],
   "source": [
    "pred_2018 = np.full(\n",
    "    (\n",
    "    (max_y-start_y)*126,\n",
    "    (max_x-start_x)*126\n",
    "    ), -1, dtype = np.float64 )\n",
    "\n",
    "max_y_out = pred_2018.shape[0]\n",
    "max_x_out = pred_2018.shape[1]\n",
    "\n",
    "numb = 0\n",
    "for row in range(start_y, max_y):\n",
    "    for column in range(start_x, max_x):\n",
    "        input_file = f\"{OUTPUT_2018}{str(row)}/{str(column)}.npy\"\n",
    "        if os.path.exists(input_file):\n",
    "            prediction = np.load(input_file)\n",
    "            x_value = (column-start_x) *126\n",
    "            y_value = (max_y_out - ((row - start_y + 1) *126))\n",
    "            if (row % 5 == 0) and (column % 5 == 0):\n",
    "                numb += 1\n",
    "            pred_2018[y_value:y_value+126, \n",
    "                        x_value:x_value+126,\n",
    "                        ] = prediction\n",
    "#pred_2018[np.where(pred_2018 < 0.5)] = 0."
   ]
  },
  {
   "cell_type": "code",
   "execution_count": 22,
   "metadata": {},
   "outputs": [],
   "source": [
    "change = pred_2019 - pred_2018\n",
    "change[np.where(change < 0.5)] = 0.\n",
    "change = change.reshape(change.shape[0] // 5, 5, change.shape[1] // 5, 5)\n",
    "change = np.mean(change, axis = (1, 3))\n",
    "change[np.where(change < 0.2)] = 0"
   ]
  },
  {
   "cell_type": "code",
   "execution_count": 23,
   "metadata": {},
   "outputs": [
    {
     "data": {
      "text/plain": [
       "0.04195011337868481"
      ]
     },
     "execution_count": 23,
     "metadata": {},
     "output_type": "execute_result"
    }
   ],
   "source": [
    "len(np.argwhere(change.flatten() > 2*np.std(change.flatten()))) / len(change.flatten())"
   ]
  },
  {
   "cell_type": "code",
   "execution_count": 24,
   "metadata": {},
   "outputs": [
    {
     "data": {
      "text/plain": [
       "<matplotlib.axes._subplots.AxesSubplot at 0x1c27bfb278>"
      ]
     },
     "execution_count": 24,
     "metadata": {},
     "output_type": "execute_result"
    },
    {
     "data": {
      "image/png": "[encoded data removed]",
      "text/plain": [
       "<Figure size 432x288 with 1 Axes>"
      ]
     },
     "metadata": {
      "needs_background": "light"
     },
     "output_type": "display_data"
    }
   ],
   "source": [
    "sns.distplot(change.flatten())"
   ]
  },
  {
   "cell_type": "code",
   "execution_count": 25,
   "metadata": {},
   "outputs": [
    {
     "data": {
      "text/plain": [
       "<matplotlib.axes._subplots.AxesSubplot at 0x1c278ea7b8>"
      ]
     },
     "execution_count": 25,
     "metadata": {},
     "output_type": "execute_result"
    },
    {
     "data": {
      "image/png": "[encoded data removed]",
      "text/plain": [
       "<Figure size 1440x1224 with 2 Axes>"
      ]
     },
     "metadata": {
      "needs_background": "light"
     },
     "output_type": "display_data"
    }
   ],
   "source": [
    "plt.figure(figsize=(20, 17))\n",
    "sns.heatmap(change)"
   ]
  },
  {
   "cell_type": "code",
   "execution_count": 26,
   "metadata": {},
   "outputs": [
    {
     "name": "stdout",
     "output_type": "stream",
     "text": [
      "-89.47917 16.464444\n",
      "5\n",
      "Writing../../../ce-hosting/includes/guatemala-gain.tif\n"
     ]
    }
   ],
   "source": [
    "landscapes = {\n",
    "    'ethiopia-tigray': (13.540810, 38.177220),\n",
    "    'kenya-makueni-2': (-1.817109, 37.44563),\n",
    "    'ghana': (9.259359, -0.83375),\n",
    "    'niger-koure': (13.18158, 2.478),\n",
    "    'cameroon-farnorth': (10.596, 14.2722),\n",
    "    'botswana-kweneng': (-24.360968, 25.176526),\n",
    "    'nicaragua-bonanza': (13.933745, -84.690842),\n",
    "    'ghana-cocoa': (7.398111, -1.269223),\n",
    "    'ghana-brong-ahafo': (7.70258, -0.70911),\n",
    "    'mexico-change-det': (21.212083, -88.993677),\n",
    "    'costa-rica-change-det': (8.47520, -82.94909),\n",
    "    'mexico-yucatan': (21.062115, -88.998729),\n",
    "    'honduras-colon': (15.617889, -85.447611),\n",
    "    'mexico-campeche-change': (18.151747, -92.152278),\n",
    "    'elsalvador-imposible': (13.727334, -90.015579),\n",
    "    'guatemala-gain': (16.464444, -89.479170)\n",
    "}\n",
    "\n",
    "landscape = 'guatemala-gain'\n",
    "\n",
    "coords = landscapes[landscape]\n",
    "coords = (coords[1], coords[0])\n",
    "point = bounding_box(coords, (max_x*1260), ((max_y)*1260)+0, expansion = 0)\n",
    "west = point[1][0]\n",
    "east = point[0][0]\n",
    "north = point[0][1]\n",
    "south = point[1][1]\n",
    "print(max_y)\n",
    "\n",
    "change = change.astype(np.float32)\n",
    "transform = rasterio.transform.from_bounds(west = west, south = south,\n",
    "                                           east = east, north = north,\n",
    "                                           width = change.shape[1], height = change.shape[1])\n",
    "\n",
    "print(\"Writing\" + '../../../ce-hosting/includes/{}.tif'.format(landscape))\n",
    "new_dataset = rasterio.open('../../../ce-hosting/includes/{}-loss.tif'.format(landscape), 'w', driver = 'GTiff',\n",
    "                           height = change.shape[1], width = change.shape[1], count = 1,\n",
    "                           dtype = 'float32',#str(stacked.dtype),\n",
    "                           crs = '+proj=longlat +ellps=WGS84 +datum=WGS84 +no_defs',\n",
    "                           transform=transform)\n",
    "new_dataset.write(change, 1)\n",
    "new_dataset.close()"
   ]
  },
  {
   "cell_type": "code",
   "execution_count": null,
   "metadata": {},
   "outputs": [],
   "source": []
  }
 ],
 "metadata": {
  "kernelspec": {
   "display_name": "remote_sensing",
   "language": "python",
   "name": "remote_sensing"
  },
  "language_info": {
   "codemirror_mode": {
    "name": "ipython",
    "version": 3
   },
   "file_extension": ".py",
   "mimetype": "text/x-python",
   "name": "python",
   "nbconvert_exporter": "python",
   "pygments_lexer": "ipython3",
   "version": "3.6.8"
  }
 },
 "nbformat": 4,
 "nbformat_minor": 2
}
