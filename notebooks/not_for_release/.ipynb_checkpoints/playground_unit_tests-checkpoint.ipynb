{
 "cells": [
  {
   "cell_type": "code",
   "execution_count": 1,
   "metadata": {},
   "outputs": [],
   "source": [
    "import numpy as np\n",
    "import seaborn as sns\n",
    "import matplotlib.pyplot as plt\n",
    "%matplotlib inline\n",
    "import hickle as hkl"
   ]
  },
  {
   "cell_type": "code",
   "execution_count": 4,
   "metadata": {},
   "outputs": [],
   "source": [
    "%run ../../src/downloading/utils.py"
   ]
  },
  {
   "cell_type": "code",
   "execution_count": 8,
   "metadata": {},
   "outputs": [
    {
     "name": "stdout",
     "output_type": "stream",
     "text": [
      "Maximum time distance: 127\n"
     ]
    }
   ],
   "source": [
    "bands = np.concatenate([np.full(shape = (1, 16, 16, 1), \n",
    "                          fill_value = x) for x in range(0, 7)], axis = 0)\n",
    "\n",
    "image_dates = np.array([0, 22, 105, 232, 295, 310, 330])\n",
    "\n",
    "bands, max_time = calculate_and_save_best_images(bands, image_dates)\n",
    "band_means = np.mean(bands, axis = (1, 2, 3))"
   ]
  },
  {
   "cell_type": "code",
   "execution_count": 9,
   "metadata": {},
   "outputs": [
    {
     "data": {
      "text/plain": [
       "0.5"
      ]
     },
     "execution_count": 9,
     "metadata": {},
     "output_type": "execute_result"
    }
   ],
   "source": [
    "band_means[2]"
   ]
  },
  {
   "cell_type": "code",
   "execution_count": 37,
   "metadata": {},
   "outputs": [],
   "source": [
    "clouds_a = hkl.load(\"../../tile_data/senegal-tucker-a/raw/clouds/clouds_0_1.hkl\")"
   ]
  },
  {
   "cell_type": "code",
   "execution_count": 38,
   "metadata": {},
   "outputs": [
    {
     "data": {
      "text/plain": [
       "32"
      ]
     },
     "execution_count": 38,
     "metadata": {},
     "output_type": "execute_result"
    }
   ],
   "source": [
    "np.argmax(np.mean(clouds_a, axis = (1, 2)))"
   ]
  },
  {
   "cell_type": "code",
   "execution_count": 49,
   "metadata": {},
   "outputs": [
    {
     "data": {
      "text/plain": [
       "<matplotlib.axes._subplots.AxesSubplot at 0x1c3529acf8>"
      ]
     },
     "execution_count": 49,
     "metadata": {},
     "output_type": "execute_result"
    },
    {
     "data": {
      "image/png": "[encoded data removed]",
      "text/plain": [
       "<Figure size 432x288 with 2 Axes>"
      ]
     },
     "metadata": {
      "needs_background": "light"
     },
     "output_type": "display_data"
    }
   ],
   "source": [
    "sns.heatmap(clouds_a[np.argmax(np.mean(clouds_a, axis = (1, 2))), :300, :300])"
   ]
  },
  {
   "cell_type": "markdown",
   "metadata": {},
   "source": [
    "# Cloud and cloud shadow interpolation"
   ]
  },
  {
   "cell_type": "code",
   "execution_count": 141,
   "metadata": {},
   "outputs": [],
   "source": [
    "def remove_cloud_and_shadows(tiles, probs, shadows, image_dates, wsize = 9):\n",
    "    \"\"\" Interpolates clouds and shadows for each time step with \n",
    "        linear combination of proximal clean time steps for each\n",
    "        region of specified window size\n",
    "        \n",
    "        Parameters:\n",
    "         tiles (arr):\n",
    "         probs (arr): \n",
    "         shadows (arr):\n",
    "         image_dates (list):\n",
    "         wsize (int): \n",
    "    \n",
    "        Returns:\n",
    "         tiles (arr): \n",
    "    \"\"\"\n",
    "    \n",
    "    def _fspecial_gauss(size, sigma):\n",
    "        x, y = np.mgrid[-size//2 + 1:size//2 + 1, -size//2 + 1:size//2 + 1]\n",
    "        g = np.exp(-((x**2 + y**2)/(2.0*sigma**2)))\n",
    "        return g\n",
    "\n",
    "    c_arr = np.reshape(_fspecial_gauss(wsize, ((wsize/2) - 1 ) / 2), (1, wsize, wsize, 1))\n",
    "    o_arr = 1 - c_arr\n",
    "\n",
    "    c_probs = np.copy(probs) - np.min(probs, axis = 0)\n",
    "    c_probs[np.where(c_probs >= 0.33)] = 1.\n",
    "    c_probs[np.where(c_probs < 0.33)] = 0.\n",
    "    \n",
    "    c_probs += shadows\n",
    "    c_probs[np.where(c_probs >= 1.)] = 1.\n",
    "    n_interp = 0\n",
    "    \n",
    "    \n",
    "    for x in range(0, tiles.shape[1] - (wsize - 1), 1):\n",
    "        for y in range(0, tiles.shape[2] - (wsize - 1), 1):\n",
    "            subs = c_probs[:, x:x + wsize, y:y+wsize]\n",
    "            satisfactory = np.argwhere(np.sum(subs, axis = (1, 2)) < (wsize*wsize)/10)\n",
    "            for date in range(0, tiles.shape[0]):\n",
    "                if np.sum(subs[date]) >= (wsize*wsize)/10:\n",
    "                    n_interp += 1\n",
    "                    before, after = calculate_proximal_steps(date, satisfactory)\n",
    "                    before = date + before\n",
    "                    after = date + after\n",
    "                    after = before if after >= tiles.shape[0] else after\n",
    "                    before = after if before < 0 else before\n",
    "\n",
    "                    before_array = tiles[before, x:x+wsize, y:y+wsize, : ]\n",
    "                    after_array = tiles[after, x:x+wsize, y:y+wsize, : ]\n",
    "                    original_array = tiles[np.newaxis, date, x:x+wsize, y:y + wsize, :]\n",
    "                    \n",
    "                    n_days_before = abs(image_dates[date] - image_dates[before])\n",
    "                    n_days_after = abs(image_dates[date] - image_dates[after])\n",
    "                    before_weight = 1 - n_days_before / (n_days_before + n_days_after)\n",
    "                    after_weight = 1 - before_weight\n",
    "                    \n",
    "                    candidate = before_weight*before_array + after_weight * after_array\n",
    "                    candidate = candidate * c_arr + original_array[np.newaxis] * o_arr\n",
    "                    tiles[date, x:x+wsize, y:y+wsize, : ] = candidate \n",
    "                    \n",
    "    print(\"Interpolated {} px\".format(n_interp))\n",
    "    return tiles"
   ]
  },
  {
   "cell_type": "code",
   "execution_count": 142,
   "metadata": {},
   "outputs": [],
   "source": [
    "clouds = np.zeros((3, 632, 632))\n",
    "shadows = np.zeros((3, 632, 632))\n",
    "image_dates = np.array([3, 15, 30])\n",
    "clouds[1] = clouds_a[32]\n",
    "clouds[np.where(clouds >= 0.33)] = 1.\n",
    "clouds[np.where(clouds < 0.33)] = 0.\n",
    "\n",
    "\n",
    "#clouds[1, 18:28, 0:12] = 1.\n",
    "#clouds[1, 10:20, 8:15] = 1.\n",
    "\n",
    "#clouds[1, 18:20, 26:28] = 1.\n",
    "\n",
    "#clouds[1, 2:5, 26:29] = 1.\n",
    "# Things to watch for\n",
    "# before, after = 0, 2\n",
    "# mean(bef) = 0\n",
    "# mean(aft) = 2.0"
   ]
  },
  {
   "cell_type": "code",
   "execution_count": 143,
   "metadata": {},
   "outputs": [
    {
     "name": "stdout",
     "output_type": "stream",
     "text": [
      "Interpolated 73774 px\n"
     ]
    }
   ],
   "source": [
    "bands = ([np.full(shape = (1, 632, 632, 1), \n",
    "                          fill_value = float(x)) for x in range(0, 3)])\n",
    "bands = np.concatenate(bands, axis = 0)\n",
    "tiles = remove_cloud_and_shadows(bands, clouds, shadows, image_dates)"
   ]
  },
  {
   "cell_type": "code",
   "execution_count": 144,
   "metadata": {},
   "outputs": [
    {
     "data": {
      "text/plain": [
       "<matplotlib.axes._subplots.AxesSubplot at 0x1c4b652e80>"
      ]
     },
     "execution_count": 144,
     "metadata": {},
     "output_type": "execute_result"
    },
    {
     "data": {
      "image/png": "[encoded data removed]",
      "text/plain": [
       "<Figure size 432x288 with 2 Axes>"
      ]
     },
     "metadata": {
      "needs_background": "light"
     },
     "output_type": "display_data"
    }
   ],
   "source": [
    "sns.heatmap(tiles[1, :200, :200, 0])"
   ]
  },
  {
   "cell_type": "code",
   "execution_count": 145,
   "metadata": {},
   "outputs": [
    {
     "data": {
      "text/plain": [
       "<matplotlib.axes._subplots.AxesSubplot at 0x1c4c3b1d68>"
      ]
     },
     "execution_count": 145,
     "metadata": {},
     "output_type": "execute_result"
    },
    {
     "data": {
      "image/png": "[encoded data removed]",
      "text/plain": [
       "<Figure size 432x288 with 2 Axes>"
      ]
     },
     "metadata": {
      "needs_background": "light"
     },
     "output_type": "display_data"
    }
   ],
   "source": [
    "sns.heatmap(clouds[1, :200, :200])"
   ]
  },
  {
   "cell_type": "code",
   "execution_count": null,
   "metadata": {},
   "outputs": [],
   "source": []
  }
 ],
 "metadata": {
  "kernelspec": {
   "display_name": "remote_sensing",
   "language": "python",
   "name": "remote_sensing"
  },
  "language_info": {
   "codemirror_mode": {
    "name": "ipython",
    "version": 3
   },
   "file_extension": ".py",
   "mimetype": "text/x-python",
   "name": "python",
   "nbconvert_exporter": "python",
   "pygments_lexer": "ipython3",
   "version": "3.6.8"
  }
 },
 "nbformat": 4,
 "nbformat_minor": 2
}
