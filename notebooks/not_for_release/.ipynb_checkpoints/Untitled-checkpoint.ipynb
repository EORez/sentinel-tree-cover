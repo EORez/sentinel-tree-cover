{
 "cells": [
  {
   "cell_type": "code",
   "execution_count": 1,
   "metadata": {},
   "outputs": [],
   "source": [
    "import hickle as hkl\n",
    "import numpy as np \n",
    "import seaborn as sns\n",
    "import matplotlib.pyplot as plt\n",
    "%matplotlib inline"
   ]
  },
  {
   "cell_type": "code",
   "execution_count": 3,
   "metadata": {},
   "outputs": [
    {
     "ename": "ModuleNotFoundError",
     "evalue": "No module named 'src'",
     "output_type": "error",
     "traceback": [
      "\u001b[0;31m---------------------------------------------------------------------------\u001b[0m",
      "\u001b[0;31mModuleNotFoundError\u001b[0m                       Traceback (most recent call last)",
      "\u001b[0;32m~/Documents/GitHub/restoration-mapper/src/preprocessing/cloud_removal.py\u001b[0m in \u001b[0;36m<module>\u001b[0;34m\u001b[0m\n\u001b[1;32m      2\u001b[0m \u001b[0;32mimport\u001b[0m \u001b[0msys\u001b[0m\u001b[0;34m\u001b[0m\u001b[0;34m\u001b[0m\u001b[0m\n\u001b[1;32m      3\u001b[0m \u001b[0msys\u001b[0m\u001b[0;34m.\u001b[0m\u001b[0mpath\u001b[0m\u001b[0;34m.\u001b[0m\u001b[0mappend\u001b[0m\u001b[0;34m(\u001b[0m\u001b[0;34m'../'\u001b[0m\u001b[0;34m)\u001b[0m\u001b[0;34m\u001b[0m\u001b[0;34m\u001b[0m\u001b[0m\n\u001b[0;32m----> 4\u001b[0;31m \u001b[0;32mfrom\u001b[0m \u001b[0msrc\u001b[0m\u001b[0;34m.\u001b[0m\u001b[0mdownloading\u001b[0m\u001b[0;34m.\u001b[0m\u001b[0mutils\u001b[0m \u001b[0;32mimport\u001b[0m \u001b[0mcalculate_proximal_steps\u001b[0m\u001b[0;34m\u001b[0m\u001b[0;34m\u001b[0m\u001b[0m\n\u001b[0m\u001b[1;32m      5\u001b[0m \u001b[0;32mfrom\u001b[0m \u001b[0mtyping\u001b[0m \u001b[0;32mimport\u001b[0m \u001b[0mList\u001b[0m\u001b[0;34m,\u001b[0m \u001b[0mAny\u001b[0m\u001b[0;34m,\u001b[0m \u001b[0mTuple\u001b[0m\u001b[0;34m\u001b[0m\u001b[0;34m\u001b[0m\u001b[0m\n\u001b[1;32m      6\u001b[0m \u001b[0;32mfrom\u001b[0m \u001b[0mfunctools\u001b[0m \u001b[0;32mimport\u001b[0m \u001b[0mreduce\u001b[0m\u001b[0;34m\u001b[0m\u001b[0;34m\u001b[0m\u001b[0m\n",
      "\u001b[0;31mModuleNotFoundError\u001b[0m: No module named 'src'"
     ]
    }
   ],
   "source": [
    "%run ../src/preprocessing/slope.py\n",
    "%run ../src/preprocessing/indices.py\n",
    "%run ../src/downloading/utils.py\n",
    "%run ../src/preprocessing/cloud_removal.py\n",
    "%run ../src/preprocessing/whittaker_smoother.py"
   ]
  },
  {
   "cell_type": "code",
   "execution_count": null,
   "metadata": {},
   "outputs": [],
   "source": [
    "clouds = hkl.load(folder + \"raw/clouds/clouds_{}.hkl\".format(idx))\n",
    "sentinel2 = hkl.load(folder + \"raw/s2/{}.hkl\".format(idx)).astype(np.float32)\n",
    "image_dates = hkl.load(folder + \"raw/misc/s2_dates_{}.hkl\".format(idx))\n",
    "shadows = hkl.load(folder + \"raw/clouds/shadows_{}.hkl\".format(idx))\n",
    "        \n",
    "        \n",
    "to_remove = calculate_bad_steps(sentinel2, clouds)\n",
    "sentinel2 = np.delete(sentinel2, to_remove, axis = 0)\n",
    "clouds = np.delete(clouds, to_remove, axis = 0)\n",
    "shadows = np.delete(shadows, to_remove, axis = 0)\n",
    "image_dates = np.delete(image_dates, to_remove)\n",
    "print('2', image_dates.shape, sentinel2.shape)\n",
    "print(f\"{len(to_remove)} Cloudy and missing images removed, radar processed: {to_remove}\")\n",
    "\n",
    "to_remove = remove_missed_clouds(sentinel2)\n",
    "sentinel2 = np.delete(sentinel2, to_remove, axis = 0)\n",
    "clouds = np.delete(clouds, to_remove, axis = 0)\n",
    "shadows = np.delete(shadows, to_remove, axis = 0)\n",
    "image_dates = np.delete(image_dates, to_remove)\n",
    "print(f\"{len(to_remove)} missed cloudy images were removed: {to_remove}\")\n",
    "print('3', image_dates.shape, sentinel2.shape)\n",
    "x, interp = remove_cloud_and_shadows(sentinel2, clouds, shadows, image_dates)\n",
    "print(\"Clouds and shadows interpolated\")    \n",
    "\n",
    "to_remove = np.argwhere(np.mean(interp, axis = (1, 2, 3)) > 0.5)\n",
    "print(f\"{len(to_remove)} steps removed because of >50% interpolation rate\")\n",
    "x = np.delete(x, to_remove, axis = 0)\n",
    "clouds = np.delete(clouds, to_remove, axis = 0)\n",
    "shadows = np.delete(shadows, to_remove, axis = 0)\n",
    "image_dates = np.delete(image_dates, to_remove)"
   ]
  }
 ],
 "metadata": {
  "kernelspec": {
   "display_name": "remote_sensing",
   "language": "python",
   "name": "remote_sensing"
  },
  "language_info": {
   "codemirror_mode": {
    "name": "ipython",
    "version": 3
   },
   "file_extension": ".py",
   "mimetype": "text/x-python",
   "name": "python",
   "nbconvert_exporter": "python",
   "pygments_lexer": "ipython3",
   "version": "3.6.8"
  }
 },
 "nbformat": 4,
 "nbformat_minor": 2
}
