{
 "cells": [
  {
   "cell_type": "markdown",
   "metadata": {},
   "source": [
    "# Master model development\n",
    "\n",
    "## John Brandt\n",
    "\n",
    "### Last updated: November 16 2019"
   ]
  },
  {
   "cell_type": "markdown",
   "metadata": {},
   "source": [
    "*  Package loading\n",
    "*  Hyperparameter definitions\n",
    "*  Additional layer definitions\n",
    "*  Model definition\n",
    "*  Data loading\n",
    "*  Data preprocessing\n",
    "*  K means clustering\n",
    "*  Augment training data\n",
    "*  Loss definition\n",
    "*  Equibatch creation\n",
    "*  Model training\n",
    "*  Model validation and sanity checks"
   ]
  },
  {
   "cell_type": "markdown",
   "metadata": {},
   "source": [
    "# Experiment log\n",
    "*  Master version - 0.620 F1 after 70 epochs\n",
    "    * Stacked 1x1 intro conv + conv - selu, no BN - 0.616 after 20 epochs\n",
    "    * Remove 2 Conv Selus, GRU - FPA - Conv - Sigmoid, 60k params, 0.6\n",
    "    * New indices are calculated correctly\n",
    "    * Simpler FPA is more efficient with more stable learning\n",
    "    * Lovasz works best per-image (0.61 vs. 0.56)\n",
    "    * Boundary loss overfits with non-smoothed data\n",
    "    * 14x14 input is a bad idea, because the border pixel makes sense for the final 3x3 conv\n",
    "    * Temporal attention and CSSE work together\n",
    "    * Min max scaling does not work\n",
    "    * [-1, 1] scaling is better than [0, 1] scaling\n",
    "    * DEM messes everything up because of banding every 10-15 meters, removing the slope improves test accuracy, but median filter with size of 5 may fix this issue\n",
    "    * Smoothing the time dimension seems to help\n",
    "    \n",
    "* Reduced parameter size to 10, 24, 24 -- 0.61\n",
    "\n",
    "* Smooth time dimension for all variable bands --\n",
    "\n",
    "* Stack FPA module rather than FPA - Conv SELU\n",
    "\n",
    "* FPA GRU - 1x1 GRU, 3x3 GRU, 5x5 Dilated GRU, combine hidden states within GRU\n",
    "\n",
    "* Test adding versus multiplying for the concatenation of scales"
   ]
  },
  {
   "cell_type": "code",
   "execution_count": 1,
   "metadata": {},
   "outputs": [
    {
     "name": "stderr",
     "output_type": "stream",
     "text": [
      "Using TensorFlow backend.\n"
     ]
    },
    {
     "name": "stdout",
     "output_type": "stream",
     "text": [
      "WARNING:tensorflow:From /Library/Frameworks/Python.framework/Versions/3.6/lib/python3.6/site-packages/tensorflow/python/framework/op_def_library.py:263: colocate_with (from tensorflow.python.framework.ops) is deprecated and will be removed in a future version.\n",
      "Instructions for updating:\n",
      "Colocations handled automatically by placer.\n"
     ]
    }
   ],
   "source": [
    "#TODO Remove imports that aren't needed to save RAM\n",
    "from tqdm import tqdm_notebook, tnrange\n",
    "import tensorflow as tf\n",
    "\n",
    "sess = tf.Session()\n",
    "from keras import backend as K\n",
    "K.set_session(sess)\n",
    "\n",
    "import keras\n",
    "from tensorflow.python.keras.layers import *\n",
    "from tensorflow.python.keras.layers import ELU\n",
    "from keras.losses import binary_crossentropy\n",
    "from tensorflow.python.ops import array_ops\n",
    "from tensorflow.python.keras.layers import Conv2D, Lambda, Dense, Multiply, Add, Bidirectional, ConvLSTM2D\n",
    "from tensorflow.python.keras.activations import selu\n",
    "from tensorflow.initializers import glorot_normal, lecun_normal\n",
    "\n",
    "import tensorflow.contrib.slim as slim\n",
    "from tensorflow.contrib.slim import conv2d\n",
    "\n",
    "import pandas as pd\n",
    "import numpy as np\n",
    "from random import shuffle\n",
    "import pandas as pd\n",
    "import seaborn as sns\n",
    "import matplotlib.pyplot as plt\n",
    "%matplotlib inline\n",
    "import os\n",
    "import random\n",
    "import itertools\n",
    "from tflearn.layers.conv import global_avg_pool\n",
    "from tensorflow.contrib.framework import arg_scope\n",
    "from keras.regularizers import l1\n",
    "from tensorflow.layers import batch_normalization\n",
    "from tensorflow.python.util import deprecation as deprecation\n",
    "deprecation._PRINT_DEPRECATION_WARNINGS = False\n",
    "\n",
    "os.environ['KMP_DUPLICATE_LIB_OK']='True'"
   ]
  },
  {
   "cell_type": "code",
   "execution_count": 2,
   "metadata": {},
   "outputs": [],
   "source": [
    "%run ../src/zoneout.py\n",
    "%run ../src/convgru.py\n",
    "%run ../src/lovasz.py\n",
    "%run ../src/utils.py\n",
    "%run ../src/adabound.py\n",
    "%run ../src/slope.py\n",
    "%run ../src/dropblock.py"
   ]
  },
  {
   "cell_type": "markdown",
   "metadata": {},
   "source": [
    "# Hyperparameter definitions"
   ]
  },
  {
   "cell_type": "code",
   "execution_count": 4,
   "metadata": {},
   "outputs": [
    {
     "name": "stdout",
     "output_type": "stream",
     "text": [
      "590 148\n"
     ]
    }
   ],
   "source": [
    "ZONE_OUT_PROB = 0.20\n",
    "L2_REG = 0.0\n",
    "INITIAL_LR = 2e-4\n",
    "FINAL_LR = 1e-3\n",
    "BN_MOMENTUM = 0.9\n",
    "BATCH_SIZE = 16\n",
    "TRAIN_RATIO = 0.8\n",
    "TEST_RATIO = 0.2\n",
    "MAX_DROPBLOCK = 0.85\n",
    "\n",
    "gru_flt = 20\n",
    "fpa_flt = 24\n",
    "out_conv_flt = 20\n",
    "\n",
    "\n",
    "AUGMENTATION_RATIO = 4\n",
    "IMAGE_SIZE = 16\n",
    "existing = [int(x[:-4]) for x in os.listdir('../data/training-data-nov-22/') if \".DS\" not in x]\n",
    "N_SAMPLES = len(existing)\n",
    "\n",
    "LABEL_SIZE = 14\n",
    "\n",
    "    \n",
    "TRAIN_SAMPLES = int((N_SAMPLES * AUGMENTATION_RATIO) * TRAIN_RATIO)\n",
    "TEST_SAMPLES = int((N_SAMPLES * AUGMENTATION_RATIO) - TRAIN_SAMPLES)\n",
    "print(TRAIN_SAMPLES // AUGMENTATION_RATIO, N_SAMPLES - (TRAIN_SAMPLES // AUGMENTATION_RATIO))"
   ]
  },
  {
   "cell_type": "markdown",
   "metadata": {},
   "source": [
    "# Additional layer definitions\n",
    "\n",
    "Some of these may be able to be removed, or moved to a src/*.py\n",
    "\n",
    "*  Conv SELU\n",
    "*  Conv BN ELU\n",
    "*  Feature pyramid attention (with downsample / upsample)\n",
    "*  Feature pyramid attention (w/o downsample / upsample)\n",
    "*  Temporal attention\n",
    "*  CSE, SSE, cCSE\n",
    "*  Reflection padding\n"
   ]
  },
  {
   "cell_type": "code",
   "execution_count": 5,
   "metadata": {},
   "outputs": [],
   "source": [
    "def conv_bn_elu(inp, is_training, kernel_size, scope, filter_count = 16, pad = True, padding = 'valid', dilated = False):\n",
    "    if not dilated:\n",
    "        padded = ReflectionPadding2D((1, 1,))(inp)\n",
    "        conv = Conv2D(filters = filter_count, kernel_size = (kernel_size, kernel_size), activation = selu,\n",
    "                        padding = padding, kernel_initializer = lecun_normal())(padded)\n",
    "    if not dilated and not pad:\n",
    "        conv = Conv2D(filters = filter_count, kernel_size = (kernel_size, kernel_size), activation = selu,\n",
    "                        padding = padding, kernel_initializer = lecun_normal())(inp)\n",
    "    if dilated:\n",
    "        padded = ReflectionPadding2D((2, 2,))(inp)\n",
    "        conv = Conv2D(filters = filter_count, kernel_size = (3, 3), activation = selu, dilation_rate = (2, 2),\n",
    "                        padding = padding, kernel_initializer = lecun_normal())(padded)\n",
    "    return conv\n",
    "    \n",
    "def fpa(inp, is_training, filter_count):\n",
    "    one = conv_bn_elu(inp, is_training, 1, 'forward1', filter_count, False, 'valid')\n",
    "    five = conv_bn_elu(inp, is_training, 5, 'down1', filter_count, False, 'valid')\n",
    "    five_f = conv_bn_elu(five, is_training, 5, 'down1_f', filter_count, False, 'valid')\n",
    "    three = conv_bn_elu(five, is_training, 3, 'down2', filter_count, False, 'valid')\n",
    "    three_f = conv_bn_elu(three, is_training, 3, 'down2_f', filter_count, False, 'valid')\n",
    "    \n",
    "    three_up = get_deconv2d(three_f, filter_count, filter_count, \"fpa1\", is_training)\n",
    "    five_up = get_deconv2d(five_f, filter_count, filter_count, \"fpa2\", is_training)\n",
    "    \n",
    "    print(\"One: {}\".format(one.shape))\n",
    "    print(\"Five: {}\".format(five.shape))\n",
    "    print(\"Five_F: {}\".format(five_f.shape))\n",
    "    print(\"Three: {}\".format(three.shape))\n",
    "    print(\"Three_f: {}\".format(three_f.shape))\n",
    "    print(\"Three_up: {}\".format(three_up.shape))\n",
    "    print(\"Five_up: {}\".format(five_up.shape))\n",
    "    \n",
    "    # top block\n",
    "    pooled = tf.keras.layers.GlobalAveragePooling2D()(inp)\n",
    "    one_top = conv_bn_elu(tf.reshape(pooled, (-1, 1, 1, pooled.shape[-1])),\n",
    "                          is_training, 1, 'top1', filter_count, pad = False)\n",
    "    four_top = tf.keras.layers.UpSampling2D((16, 16))(one_top)\n",
    "    print(\"Sixteen top: {}\".format(four_top.shape))\n",
    "    \n",
    "    \n",
    "    concat_1 = tf.multiply(one, tf.add(three_up, five_up))\n",
    "    concat_2 = tf.add(concat_1, four_top)\n",
    "    print(\"Feature pyramid attention shape {}\".format(concat_2.shape))\n",
    "    return concat_2\n",
    "\n",
    "def fpa(inp, is_training, filter_count, scope = 'fpa', topblock = False):\n",
    "    one = conv_bn_elu(inp, is_training, 1, scope + 'forward1', filter_count, False, 'valid')\n",
    "    three = conv_bn_elu(inp, is_training, 3, scope + 'down2', filter_count, True, 'valid') \n",
    "    five = conv_bn_elu(inp, is_training, 3, scope + 'down2', filter_count, True, 'valid', dilated = True) \n",
    "    concat_1 = tf.multiply(one, tf.add(three, five))\n",
    "    \n",
    "    if topblock:\n",
    "        pooled = tf.keras.layers.GlobalAveragePooling2D()(inp)\n",
    "        one_top = conv_bn_elu(tf.reshape(pooled, (-1, 1, 1, pooled.shape[-1])),\n",
    "                              is_training, 1, 'top1', filter_count, pad = False)\n",
    "        four_top = tf.keras.layers.UpSampling2D((16, 16))(one_top)\n",
    "        print(\"Sixteen top: {}\".format(four_top.shape))\n",
    "\n",
    "        concat_1 = tf.add(concat_1, four_top)\n",
    "    \n",
    "    return concat_1\n",
    "\n",
    "    \n",
    "def create_deconv_init(filter_size, num_channels):\n",
    "    bilinear_kernel = np.zeros([filter_size, filter_size], dtype=np.float32)\n",
    "    scale_factor = (filter_size + 1) // 2\n",
    "    if filter_size % 2 == 1:\n",
    "        center = scale_factor - 1\n",
    "    else:\n",
    "        center = scale_factor - 0.5\n",
    "    for x in range(filter_size):\n",
    "        for y in range(filter_size):\n",
    "            bilinear_kernel[x,y] = (1 - abs(x - center) / scale_factor) * \\\n",
    "                                   (1 - abs(y - center) / scale_factor)\n",
    "    weights = np.zeros((filter_size, filter_size, num_channels, num_channels))\n",
    "    for i in range(num_channels):\n",
    "        weights[:, :, i, i] = bilinear_kernel\n",
    "\n",
    "    #assign numpy array to constant_initalizer and pass to get_variable\n",
    "    bilinear_init = tf.constant_initializer(value=weights, dtype=tf.float32)\n",
    "    return bilinear_init\n",
    "\n",
    "\n",
    "def get_deconv2d(inp, filter_count, num_channels, scope, is_training):\n",
    "    bilinear_init = create_deconv_init(4, filter_count)\n",
    "    x = tf.keras.layers.Conv2DTranspose(filters = filter_count, kernel_size = (4, 4),\n",
    "                                        strides=(2, 2), padding='same', \n",
    "                                        kernel_initializer = bilinear_init)(inp)\n",
    "    x = ELU()(x)\n",
    "    x = Batch_Normalization(x, training=is_training, scope = scope + \"bn\")\n",
    "    return x\n",
    "\n",
    "\n",
    "def Batch_Normalization(x, training, scope):\n",
    "    return batch_normalization(inputs=x, \n",
    "                               momentum = BN_MOMENTUM, \n",
    "                               training=training,\n",
    "                               renorm = True,\n",
    "                               reuse=None,\n",
    "                               name = scope)\n",
    "\n",
    "def temporal_attention(inp, units):\n",
    "    # This rescales each output\n",
    "    # Timesteps that are more important get weighted higher\n",
    "    # Timesteps that are least important get weighted lower --> B, N, H, W, C\n",
    "    conved = TimeDistributed(Conv2D(units, (1, 1), padding = 'same', kernel_initializer = 'glorot_uniform',\n",
    "                            activation = 'tanh', strides = (1, 1)))(inp)\n",
    "    \n",
    "    \n",
    "    #conved = tf.reshape(conved, (-1, units, 16, 16, STEPS))\n",
    "    print(\"Attention weight shape: {}\".format(conved.shape))\n",
    "    conved = TimeDistributed(Conv2D(1, (1, 1), padding = 'same', kernel_initializer = 'glorot_uniform',\n",
    "                            activation = 'sigmoid', use_bias = False, strides = (1, 1)))(conved)\n",
    "    print(\"Conved sigmoid shape: {}\".format(conved.shape))\n",
    "    #conved = tf.reshape(conved, (-1, 24, 1, 1, 1))\n",
    "    \n",
    "    alphas = tf.reduce_sum(conved, axis = 1, keep_dims = True)\n",
    "    print(\"Attention alphas: {}\".format(alphas.shape))\n",
    "    # We need to calculate the total sum for each pixel for each channel, so that we can combine them\n",
    "    alphas = conved / alphas\n",
    "    print(\"Attention weight shapes {}\".format(alphas.shape))\n",
    "    \n",
    "    # This actually multiplies the Conv by the input\n",
    "    multiplied = tf.reduce_sum(alphas * inp, axis = 1)\n",
    "    return multiplied"
   ]
  },
  {
   "cell_type": "code",
   "execution_count": 6,
   "metadata": {},
   "outputs": [],
   "source": [
    "def cse_block(prevlayer, prefix):\n",
    "    mean = Lambda(lambda xin: K.mean(xin, axis=[1, 2]))(prevlayer)\n",
    "    lin1 = Dense(K.int_shape(prevlayer)[3] // 2, name=prefix + 'cse_lin1', activation='relu')(mean)\n",
    "    lin2 = Dense(K.int_shape(prevlayer)[3], name=prefix + 'cse_lin2', activation='sigmoid')(lin1)\n",
    "    x = Multiply()([prevlayer, lin2])\n",
    "    return x\n",
    "\n",
    "\n",
    "def sse_block(prevlayer, prefix):\n",
    "    conv = Conv2D(1, (1, 1), padding=\"same\", kernel_initializer=\"glorot_uniform\",\n",
    "                  activation='sigmoid', strides=(1, 1),\n",
    "                  name=prefix + \"_conv\")(prevlayer)\n",
    "    conv = Multiply(name=prefix + \"_mul\")([prevlayer, conv])\n",
    "    return conv\n",
    "\n",
    "\n",
    "def csse_block(x, prefix):\n",
    "    '''\n",
    "    Implementation of Concurrent Spatial and Channel ‘Squeeze & Excitation’ in Fully Convolutional Networks\n",
    "    https://arxiv.org/abs/1803.02579\n",
    "    '''\n",
    "    cse = cse_block(x, prefix)\n",
    "    sse = sse_block(x, prefix)\n",
    "    x = Add(name=prefix + \"_csse_mul\")([cse, sse])\n",
    "\n",
    "    return x\n",
    "\n",
    "class ReflectionPadding2D(Layer):\n",
    "    def __init__(self, padding=(1, 1), **kwargs):\n",
    "        self.padding = tuple(padding)\n",
    "        self.input_spec = [InputSpec(ndim=4)]\n",
    "        super(ReflectionPadding2D, self).__init__(**kwargs)\n",
    "\n",
    "    def compute_output_shape(self, s):\n",
    "        \"\"\" If you are using \"channels_last\" configuration\"\"\"\n",
    "        return (s[0], s[1] + 2 * self.padding[0], s[2] + 2 * self.padding[1], s[3])\n",
    "\n",
    "    def call(self, x, mask=None):\n",
    "        w_pad,h_pad = self.padding\n",
    "        return tf.pad(x, [[0,0], [h_pad,h_pad], [w_pad,w_pad], [0,0] ], 'REFLECT')\n",
    "    \n",
    "def gru_block(inp, length, size, flt, scope, train, normalize = True):\n",
    "    with tf.variable_scope(scope):\n",
    "        print(\"GRU input shape {}, zoneout: {}\".format(inp.shape, ZONE_OUT_PROB))\n",
    "        cell_fw = ConvGRUCell(shape = size, filters = flt,\n",
    "                           kernel = [3, 3], padding = 'VALID', normalize = normalize, fpa = True)\n",
    "        cell_bw = ConvGRUCell(shape = size, filters = flt,\n",
    "                           kernel = [3, 3], padding = 'VALID', normalize = normalize, fpa = True)\n",
    "        cell_fw = ZoneoutWrapper(\n",
    "           cell_fw, zoneout_drop_prob = ZONE_OUT_PROB, is_training = train)\n",
    "        cell_bw = ZoneoutWrapper(\n",
    "            cell_bw, zoneout_drop_prob = ZONE_OUT_PROB, is_training = train)\n",
    "        steps, out = convGRU(inp, cell_fw, cell_bw, length)\n",
    "        gru = tf.concat(out, axis = -1)\n",
    "        steps = tf.concat(steps, axis = -1)\n",
    "        print(\"Down block output shape {}\".format(gru.shape))\n",
    "    return gru, steps\n"
   ]
  },
  {
   "cell_type": "markdown",
   "metadata": {},
   "source": [
    "# Model definition\n",
    "\n",
    "## Placeholders"
   ]
  },
  {
   "cell_type": "code",
   "execution_count": 7,
   "metadata": {},
   "outputs": [],
   "source": [
    "n_bands = 17\n",
    "reg = keras.regularizers.l2(L2_REG) # for GRU\n",
    "inp = tf.placeholder(tf.float32, shape=(None, 24, IMAGE_SIZE, IMAGE_SIZE, n_bands))\n",
    "length = tf.placeholder(tf.int32, shape = (None, 1))\n",
    "labels = tf.placeholder(tf.float32, shape=(None, 14, 14))#, 1))\n",
    "keep_rate = tf.placeholder_with_default(1.0, ()) # For DropBlock\n",
    "length2 = tf.reshape(length, (-1,)) # Remove\n",
    "is_training = tf.placeholder_with_default(False, (), 'is_training') # For BN, DropBlock\n",
    "alpha = tf.placeholder(tf.float32, shape = ()) # For loss scheduling"
   ]
  },
  {
   "cell_type": "markdown",
   "metadata": {},
   "source": [
    "## Layers"
   ]
  },
  {
   "cell_type": "code",
   "execution_count": 8,
   "metadata": {},
   "outputs": [
    {
     "name": "stdout",
     "output_type": "stream",
     "text": [
      "GRU input shape (?, 24, 16, 16, 16), zoneout: 0.2\n",
      "(3, 3, 36, 40)\n",
      "(1, 1, 40, 1)\n",
      "(?, 16, 16, 40)\n",
      "(3, 3, 36, 40)\n",
      "(1, 1, 40, 1)\n",
      "(?, 16, 16, 40)\n",
      "Down block output shape (?, 16, 16, 40)\n",
      "Sixteen top: (?, 16, 16, 24)\n",
      "Initializing last sigmoid bias with -2.94 constant\n"
     ]
    }
   ],
   "source": [
    "# Unsure if this block is better replaced by 1x1 ConvGRU output\n",
    "#stacked = tf.reshape(inp, (-1, 16, 16, n_bands*24))\n",
    "#pixel_information = Conv2D(filters = gru_flt, kernel_size = (1, 1),\n",
    "#            padding = 'valid', activation = selu, kernel_initializer = lecun_normal())(stacked)\n",
    "    \n",
    "# 3 x 3 GRU\n",
    "\n",
    "inp_first_half = inp[:, :, :, :, :10]\n",
    "inp_second_half = inp[:, :, :, :, 11:]\n",
    "no_dem = tf.concat([inp_first_half, inp_second_half], axis = -1)\n",
    "dem = tf.reshape(tf.reduce_mean(inp[:, :, :, :, 10], axis = 1), (-1, 16, 16, 1))\n",
    "gru_out, steps = gru_block(inp = no_dem, length = length2, \n",
    "                            size = [16, 16], \n",
    "                            flt = gru_flt, \n",
    "                            scope = 'down_16', \n",
    "                            train = is_training)\n",
    "\n",
    "# Skip connect, CSSE, 5x5 drop block\n",
    "#steps = temporal_attention(steps, gru_flt*2)# - unsure if more useful after smoothing\n",
    "#gru_out = gru_out + steps # identity concatenation for a skip connect\n",
    "gru_out = tf.concat([gru_out, dem], axis = -1)\n",
    "#gru_out = tf.concat([gru_out, pixel_information], axis = -1)\n",
    "csse1 = csse_block(gru_out, 'csse1')\n",
    "drop_block1 = DropBlock2D(keep_prob=keep_rate, block_size=5)\n",
    "csse1 = drop_block1(csse1, is_training)\n",
    "\n",
    "# Light FPA, CSSE, 4x4 Drop block\n",
    "fpa1 = fpa(csse1, is_training, fpa_flt, topblock = True)\n",
    "csse2 = csse_block(fpa1, 'csse2')\n",
    "drop_block2 = DropBlock2D(keep_prob=keep_rate, block_size=4)\n",
    "csse2 = drop_block2(csse2, is_training)\n",
    "\n",
    "\n",
    "# Skip connect\n",
    "x = tf.concat([csse2, csse1], axis = -1)\n",
    "\n",
    "# Conv SELU, 3x3 drop\n",
    "#x = fpa(x, is_training, fpa_flt)\n",
    "#x = csse_block(x, 'csse3')\n",
    "#x = conv_bn_elu(x, is_training, 3, \"out_1\", out_conv_flt, True, 'valid')\n",
    "#drop_block4 = DropBlock2D(keep_prob=keep_rate, block_size=3)\n",
    "#x = drop_block4(x, is_training)\n",
    "\n",
    "#hypercolumn = tf.concat([csse1, csse2, x], axis = -1)\n",
    "\n",
    "# Conv SELU, 16x16 - 14x14\n",
    "x = conv_bn_elu(x, is_training, 3, \"out_2\", 32, False, 'valid')\n",
    "\n",
    "print(\"Initializing last sigmoid bias with -2.94 constant\")\n",
    "init = tf.constant_initializer([-np.log(0.7/0.3)]) # For focal loss\n",
    "fm = Conv2D(filters = 1,\n",
    "            kernel_size = (1, 1), \n",
    "            padding = 'valid',\n",
    "            activation = 'sigmoid',\n",
    "            bias_initializer = init,\n",
    "           )(x) # For focal loss"
   ]
  },
  {
   "cell_type": "code",
   "execution_count": 9,
   "metadata": {
    "scrolled": true
   },
   "outputs": [
    {
     "name": "stdout",
     "output_type": "stream",
     "text": [
      "This model has 100949 parameters\n"
     ]
    }
   ],
   "source": [
    "total_parameters = 0\n",
    "for variable in tf.trainable_variables():\n",
    "    shape = variable.get_shape()\n",
    "    variable_parameters = 1\n",
    "    for dim in shape:\n",
    "        variable_parameters *= dim.value\n",
    "    total_parameters += variable_parameters\n",
    "print(\"This model has {} parameters\".format(total_parameters))"
   ]
  },
  {
   "cell_type": "markdown",
   "metadata": {},
   "source": [
    "# Data loading\n",
    "\n",
    "*  Load in CSV data from Collect Earth\n",
    "*  Reconstruct the X, Y grid for the Y data per sample\n",
    "*  Calculate NDVI, EVI, SAVI, BI, MSAVI2, and SI\n",
    "*  Stack X, Y, length data\n",
    "*  Apply median filter to DEM"
   ]
  },
  {
   "cell_type": "code",
   "execution_count": 10,
   "metadata": {
    "scrolled": true
   },
   "outputs": [],
   "source": [
    "data_x = np.load(\"../data/processed/data_x_processed.npy\")\n",
    "data_y = np.load(\"../data/processed/data_y_processed.npy\")\n",
    "lengths = np.load(\"../data/processed/length_processed.npy\")"
   ]
  },
  {
   "cell_type": "code",
   "execution_count": 11,
   "metadata": {},
   "outputs": [
    {
     "data": {
      "application/vnd.jupyter.widget-view+json": {
       "model_id": "412be590c0254a499f843812adae9f22",
       "version_major": 2,
       "version_minor": 0
      },
      "text/plain": [
       "HBox(children=(IntProgress(value=0, max=738), HTML(value='')))"
      ]
     },
     "metadata": {},
     "output_type": "display_data"
    },
    {
     "name": "stdout",
     "output_type": "stream",
     "text": [
      "\n",
      "(738, 24, 16, 16, 17)\n"
     ]
    }
   ],
   "source": [
    "from scipy.ndimage import median_filter\n",
    "for sample in tnrange(0, len(data_x)):\n",
    "    filtered = median_filter(data_x[sample, 0, :, :, 10], size = 5)\n",
    "    data_x[sample, :, :, :, 10] = np.stack([filtered] * 24)\n",
    "    \n",
    "#data_x = np.delete(data_x, 10, -1)\n",
    "print(data_x.shape)"
   ]
  },
  {
   "cell_type": "markdown",
   "metadata": {},
   "source": [
    "# Data preprocessing\n",
    "\n",
    "*  Identify and remove samples with time steps / channels that have a 0. or 1. value, which indicates missing data\n",
    "*  Identify and remove samples with time steps / channels with no variation, which indicates missing data\n",
    "*  Identify and remove samples with values above or below the allowable values for the band\n",
    "*  Smooth per-pixel temporal data with Whittaker smoother, d = 2, lambda = 0.5 to reduce sample noise"
   ]
  },
  {
   "cell_type": "code",
   "execution_count": 12,
   "metadata": {
    "scrolled": true
   },
   "outputs": [
    {
     "name": "stdout",
     "output_type": "stream",
     "text": [
      "The outliers are: [225, 646, 318, 609], totalling 4\n",
      "\n",
      "\n",
      "[-2.02274, -1.889741, -720.65295, -3.1381047] [1089.9442]\n"
     ]
    }
   ],
   "source": [
    "below_1 = [i for i, val in enumerate(data_x) if np.min(val) < -1.5]\n",
    "above_1 = [i for i, val in enumerate(data_x) if np.max(val) > 1.5]\n",
    "min_vals = [np.min(val) for i, val in enumerate(data_x) if np.min(val) < -1.5]\n",
    "max_vals = [np.max(val) for i, val in enumerate(data_x) if np.max(val) > 1.5]\n",
    "outliers = below_1 + above_1\n",
    "outliers = list(set(outliers))\n",
    "print(\"The outliers are: {}, totalling {}\".format(outliers, len(outliers)))\n",
    "print(\"\\n\")\n",
    "print(min_vals, max_vals)\n",
    "data_x = data_x[[x for x in range(0, len(data_x)) if x not in outliers]]\n",
    "data_y = data_y[[x for x in range(0, len(data_y)) if x not in outliers]]\n",
    "lengths = lengths[[x for x in range(0, len(lengths)) if x not in outliers]]"
   ]
  },
  {
   "cell_type": "markdown",
   "metadata": {},
   "source": [
    "## Temporal Smoothing"
   ]
  },
  {
   "cell_type": "code",
   "execution_count": 13,
   "metadata": {},
   "outputs": [
    {
     "data": {
      "text/plain": [
       "<matplotlib.axes._subplots.AxesSubplot at 0x147bdf9e8>"
      ]
     },
     "execution_count": 13,
     "metadata": {},
     "output_type": "execute_result"
    },
    {
     "data": {
      "image/png": "[encoded data removed]",
      "text/plain": [
       "<Figure size 432x288 with 1 Axes>"
      ]
     },
     "metadata": {
      "needs_background": "light"
     },
     "output_type": "display_data"
    }
   ],
   "source": [
    "sns.scatterplot(y = data_x[255, :, 10, 14, 5], x = [x for x in range(24)])"
   ]
  },
  {
   "cell_type": "code",
   "execution_count": 14,
   "metadata": {},
   "outputs": [
    {
     "name": "stdout",
     "output_type": "stream",
     "text": [
      "The data has been scaled to [-1.0000001192092896, 1.0]\n"
     ]
    }
   ],
   "source": [
    "min_all = []\n",
    "max_all = []\n",
    "for band in range(0, data_x.shape[-1]):\n",
    "\n",
    "    mins, maxs = (np.min(data_x[:, :, :, :, band]), np.max(data_x[:, :, :, :, band]))\n",
    "    midrange = (maxs + mins) / 2\n",
    "    rng = maxs - mins\n",
    "    standardized = (data_x[:, :, :, :, band] - midrange) / (rng / 2)\n",
    "    data_x[:, :, :, :, band] = standardized\n",
    "    \n",
    "    min_all.append(mins)\n",
    "    max_all.append(maxs)\n",
    "    \n",
    "print(\"The data has been scaled to [{}, {}]\".format(np.min(data_x), np.max(data_x)))"
   ]
  },
  {
   "cell_type": "code",
   "execution_count": 15,
   "metadata": {},
   "outputs": [
    {
     "data": {
      "text/plain": [
       "<matplotlib.axes._subplots.AxesSubplot at 0x147195e80>"
      ]
     },
     "execution_count": 15,
     "metadata": {},
     "output_type": "execute_result"
    },
    {
     "data": {
      "image/png": "[encoded data removed]",
      "text/plain": [
       "<Figure size 432x288 with 1 Axes>"
      ]
     },
     "metadata": {
      "needs_background": "light"
     },
     "output_type": "display_data"
    }
   ],
   "source": [
    "sns.scatterplot(y = data_x[255, :, 10, 14, 5], x = [x for x in range(24)])"
   ]
  },
  {
   "cell_type": "markdown",
   "metadata": {},
   "source": [
    "# Split train, test"
   ]
  },
  {
   "cell_type": "code",
   "execution_count": 16,
   "metadata": {},
   "outputs": [],
   "source": [
    "df = pd.read_csv(\"../data/subplot.csv\")\n",
    "df1 = pd.read_csv(\"../data/subplot2.csv\")\n",
    "df2 = pd.read_csv(\"../data/subplot3.csv\")\n",
    "df3 = pd.read_csv(\"../data/subplot4.csv\")\n",
    "df4 = pd.read_csv(\"../data/kenya-train.csv\")\n",
    "\n",
    "df = df.drop('IMAGERY_TITLE', axis = 1).dropna(axis = 0)\n",
    "df1 = df1.drop('IMAGERY_TITLE', axis = 1).dropna(axis = 0)\n",
    "df2 = df2.drop('IMAGERY_TITLE', axis = 1).dropna(axis = 0)\n",
    "df3 = df3.drop('IMAGERY_TITLE', axis = 1).dropna(axis = 0)\n",
    "df4 = df4.drop('IMAGERY_TITLE', axis = 1).dropna(axis = 0)\n",
    "\n",
    "\n",
    "lens = [len(x) for x in [df, df1, df2, df3, df4]]\n",
    "\n",
    "df = pd.concat([df, df1, df2, df3, df4], ignore_index = True)\n",
    "df = df.dropna(axis = 0)\n",
    "\n",
    "existing = [int(x[:-4]) for x in os.listdir('../data/training-data-nov-22/') if \".DS\" not in x]\n",
    "N_SAMPLES = len(existing)\n",
    "df = df[df['PLOT_ID'].isin(existing)]\n",
    "N_SAMPLES = int(df.shape[0]/196)\n",
    "\n",
    "plot_ids = sorted(df['PLOT_ID'].unique())\n",
    "plot_ids2 = [val for x, val in enumerate(plot_ids) if x not in list(set([x for x in outliers]))]\n",
    "N_SAMPLES = len(data_x)"
   ]
  },
  {
   "cell_type": "markdown",
   "metadata": {},
   "source": [
    "# Positive (tree) and negative (background) pixel metrics"
   ]
  },
  {
   "cell_type": "code",
   "execution_count": 17,
   "metadata": {},
   "outputs": [],
   "source": [
    "#! In development\n",
    "\n",
    "positive_x = []\n",
    "negative_x = []\n",
    "\n",
    "#for sample in data_y:\n",
    "#    for row in range(0,14):\n",
    "#        for column in range(0,14):\n",
    "#            if data_y[sample, row, column] == 1:"
   ]
  },
  {
   "cell_type": "markdown",
   "metadata": {},
   "source": [
    "# Augment training data\n",
    "\n",
    "Horizontal and vertical flips for 4x augmentation.\n",
    "\n",
    "**To do**\n",
    "*  Random guassian noise\n",
    "*  Brightness, contrast\n",
    "*  Region swaps (randomply position positive samples at different locations)"
   ]
  },
  {
   "cell_type": "code",
   "execution_count": 18,
   "metadata": {},
   "outputs": [],
   "source": [
    "data_x_augmented = []\n",
    "data_y_augmented = []\n",
    "lengths_augmented = []\n",
    "\n",
    "for i, val in enumerate([x for x in range(len(data_x))]):\n",
    "    data_x_augmented.append(data_x[val])\n",
    "    data_y_augmented.append(data_y[val])\n",
    "    lengths_augmented.append(data_x[val].shape[0])\n",
    "    \n",
    "    x1 = np.flip(data_x[val], 1)\n",
    "    y1 = np.flip(data_y[val], 0)\n",
    "    lengths_augmented.append(x1.shape[0])\n",
    "    data_x_augmented.append(x1)\n",
    "    data_y_augmented.append(y1)\n",
    "    \n",
    "    x1 = np.flip(data_x[val], [2, 1])\n",
    "    y1 = np.flip(data_y[val], [1, 0])\n",
    "    lengths_augmented.append(x1.shape[0])\n",
    "    data_x_augmented.append(x1)\n",
    "    data_y_augmented.append(y1)\n",
    "    \n",
    "    x1 = np.flip(data_x[val], 2)\n",
    "    y1 = np.flip(data_y[val], 1)\n",
    "    lengths_augmented.append(x1.shape[0])\n",
    "    data_x_augmented.append(x1)\n",
    "    data_y_augmented.append(y1)\n",
    "\n",
    "train_x = np.stack(data_x_augmented)\n",
    "train_y = np.stack(data_y_augmented)\n",
    "train_y = np.reshape(train_y, (train_y.shape[0], 14, 14, 1))\n",
    "train_l = np.stack(lengths_augmented)\n",
    "train_l = np.reshape(train_l, (train_y.shape[0], 1))"
   ]
  },
  {
   "cell_type": "code",
   "execution_count": 19,
   "metadata": {},
   "outputs": [
    {
     "name": "stdout",
     "output_type": "stream",
     "text": [
      "The outliers are: [109], totalling 1\n",
      "\n",
      "\n",
      "[] [2.60685]\n",
      "-1.0386096\n"
     ]
    },
    {
     "data": {
      "application/vnd.jupyter.widget-view+json": {
       "model_id": "a33bbc8324c344ec946d608af4ca9771",
       "version_major": 2,
       "version_minor": 0
      },
      "text/plain": [
       "HBox(children=(IntProgress(value=0, max=126), HTML(value='')))"
      ]
     },
     "metadata": {},
     "output_type": "display_data"
    },
    {
     "name": "stdout",
     "output_type": "stream",
     "text": [
      "\n",
      "The data has been scaled to [-1.0000001192092896, 1.0]\n",
      "(126, 24, 16, 16, 17)\n"
     ]
    }
   ],
   "source": [
    "test_x = np.load(\"../data/processed/test_x_processed.npy\")\n",
    "test_y = np.load(\"../data/processed/test_y_processed.npy\")\n",
    "test_lengths = np.load(\"../data/processed/test_length_processed.npy\")\n",
    "\n",
    "\n",
    "below_1 = [i for i, val in enumerate(test_x) if np.min(val) < -1.5]\n",
    "above_1 = [i for i, val in enumerate(test_x) if np.max(val) > 1.5]\n",
    "min_vals = [np.min(val) for i, val in enumerate(test_x) if np.min(val) < -1.5]\n",
    "max_vals = [np.max(val) for i, val in enumerate(test_x) if np.max(val) > 1.5]\n",
    "outliers = below_1 + above_1\n",
    "outliers = list(set(outliers))\n",
    "print(\"The outliers are: {}, totalling {}\".format(outliers, len(outliers)))\n",
    "print(\"\\n\")\n",
    "print(min_vals, max_vals)\n",
    "test_x = test_x[[x for x in range(0, len(test_x)) if x not in outliers]]\n",
    "test_y = test_y[[x for x in range(0, len(test_y)) if x not in outliers]]\n",
    "test_lengths = test_lengths[[x for x in range(0, len(test_lengths)) if x not in outliers]]\n",
    "print(np.min(test_x[19]))\n",
    "\n",
    "for sample in tnrange(0, len(test_x)):\n",
    "    filtered = median_filter(test_x[sample, 0, :, :, 10], size = 5)\n",
    "    test_x[sample, :, :, :, 10] = np.stack([filtered] * 24)\n",
    "\n",
    "#test_x = np.delete(test_x, 10, -1)\n",
    "    \n",
    "for band in range(0, test_x.shape[-1]):\n",
    "    mins = min_all[band]\n",
    "    maxs = max_all[band]\n",
    "    test_x[:, :, :, :, band] = np.clip(test_x[:, :, :, :, band], mins, maxs)\n",
    "    midrange = (maxs + mins) / 2\n",
    "    rng = maxs - mins\n",
    "    standardized = (test_x[:, :, :, :, band] - midrange) / (rng / 2)\n",
    "    test_x[:, :, :, :, band] = standardized\n",
    "    \n",
    "print(\"The data has been scaled to [{}, {}]\".format(np.min(test_x), np.max(test_x)))\n",
    "print(test_x.shape)"
   ]
  },
  {
   "cell_type": "code",
   "execution_count": 20,
   "metadata": {},
   "outputs": [
    {
     "name": "stdout",
     "output_type": "stream",
     "text": [
      "Train and test characteristics:\n",
      "Train mean Y 37.96031746031746\n",
      "Test STD Y 58.708913467497766\n",
      "Train mean NDVI\n",
      "Test mean NDVI\n"
     ]
    }
   ],
   "source": [
    "print(\"Train and test characteristics:\")\n",
    "print(\"Train mean Y {}\".format(np.mean([np.sum(x) for x in test_y])))\n",
    "#print(\"Test mean Y {}\".format(np.mean([np.sum(x) for x in data_y[test_ids]])))\n",
    "#print(\"Train STD Y {}\".format(np.std([np.sum(x) for x in data_y[train_ids]])))\n",
    "print(\"Test STD Y {}\".format(np.std([np.sum(x) for x in test_y])))\n",
    "#print(\"Train number with zero trees {}\".format(0.2*len([x for x in data_y[train_ids] if np.sum(x) == 0])))\n",
    "#print(\"Test number with zero trees {}\".format(0.8*len([x for x in data_y[test_ids] if np.sum(x) == 0])))\n",
    "print(\"Train mean NDVI\")\n",
    "print(\"Test mean NDVI\")\n",
    "#print(\"There are {} train and {} test samples\".format(len(train_ids), len(test_ids)))\n",
    "#print(\"There is {} overlap between train and test\".format(len([x for x in train_ids if x in test_ids])))"
   ]
  },
  {
   "cell_type": "code",
   "execution_count": 21,
   "metadata": {},
   "outputs": [
    {
     "data": {
      "text/plain": [
       "-0.97798425"
      ]
     },
     "execution_count": 21,
     "metadata": {},
     "output_type": "execute_result"
    }
   ],
   "source": [
    "np.min(test_x[19, :, :, :])"
   ]
  },
  {
   "cell_type": "markdown",
   "metadata": {},
   "source": [
    "# Loss definition\n",
    "\n",
    "The current best loss is a combination of weighted binary cross entropy and per-image Lovasz-Softmax, with a loss schedule with the latter becoming more important each epoch"
   ]
  },
  {
   "cell_type": "code",
   "execution_count": 259,
   "metadata": {},
   "outputs": [],
   "source": [
    "from keras.losses import binary_crossentropy\n",
    "import math\n",
    "from scipy.ndimage import distance_transform_edt as distance\n",
    "\n",
    "def weighted_bce_loss(y_true, y_pred, weight, smooth = 0.025):\n",
    "    epsilon = 1e-7\n",
    "    y_pred = K.clip(y_pred, epsilon, 1. - epsilon)\n",
    "    y_true = K.clip(y_true, smooth, 1. - smooth)\n",
    "    logit_y_pred = K.log(y_pred / (1. - y_pred))\n",
    "    loss = tf.nn.weighted_cross_entropy_with_logits(\n",
    "        y_true,\n",
    "        logit_y_pred,\n",
    "        weight,\n",
    "    )\n",
    "    return tf.reduce_mean(loss)\n",
    "\n",
    "def calc_dist_map(seg):\n",
    "    res = np.zeros_like(seg)\n",
    "    posmask = seg.astype(np.bool)\n",
    "\n",
    "    if posmask.any():\n",
    "        negmask = ~posmask\n",
    "        res = distance(negmask) * negmask - (distance(posmask) - 1) * posmask\n",
    "\n",
    "    return res\n",
    "\n",
    "def calc_dist_map_batch(y_true):\n",
    "    y_true_numpy = y_true.numpy()\n",
    "    return np.array([calc_dist_map(y)\n",
    "                     for y in y_true_numpy]).astype(np.float32)\n",
    "\n",
    "def surface_loss(y_true, y_pred):\n",
    "    y_true_dist_map = tf.py_function(func=calc_dist_map_batch,\n",
    "                                     inp=[y_true],\n",
    "                                     Tout=tf.float32)\n",
    "    multipled = y_pred * y_true_dist_map\n",
    "    return K.mean(multipled)\n",
    "\n",
    "\n",
    "def bce_lv(y_true, y_pred, alpha, smooth = 0.075, mask = None, ):\n",
    "    bce = (0.95 - alpha) * weighted_bce_loss(y_true, y_pred, 1.5, smooth = smooth)\n",
    "    #surf = surface_loss(y_true, y_pred)\n",
    "    lv = (0.05 + alpha) * lovasz_softmax(y_pred, tf.reshape(y_true, (-1, 14, 14)), classes=[1], per_image=True)\n",
    "    #global_loss = (1 - alpha) * (bce + lv)\n",
    "    #regional_loss = alpha * surf\n",
    "    return bce+lv\n",
    "\n",
    "\n",
    "def lovasz(y_true, y_pred):\n",
    "    lv = lovasz_softmax(y_pred, tf.reshape(y_true, (-1, 14, 14)), classes=[1], per_image=True)\n",
    "    return lv\n",
    "\n",
    "#! Move to a src.py\n",
    "def calculate_metrics():\n",
    "    best_f1 = 0\n",
    "    best_thresh = 0\n",
    "    p = 0\n",
    "    r = 0\n",
    "    error = 0\n",
    "    ys = []\n",
    "    vls = []\n",
    "    t_alls = []\n",
    "    test_ids = [x for x in range(len(test_x)) if x not in [11, 112, 3, 97, 57]]\n",
    "    for test_sample in test_ids:\n",
    "        y, vl = sess.run([fm, test_loss], feed_dict={inp: test_x[test_sample].reshape(1, 24, 16, 16, n_bands),\n",
    "                                          length: test_lengths[test_sample].reshape(1, 1),\n",
    "                                          is_training: False,\n",
    "                                          labels: test_y[test_sample, :, :].reshape(1, 14, 14),\n",
    "                                          })\n",
    "        ys.append(y.reshape((14, 14)))\n",
    "        vls.append(vl)\n",
    "        t = test_y[test_sample].reshape((14, 14))\n",
    "        t_alls.append(t)\n",
    "    for thresh in range(8, 13):\n",
    "        tps = []\n",
    "        fps = []\n",
    "        fns = []\n",
    "        perc_error = []\n",
    "        trues = []\n",
    "        preds = []\n",
    "        val_loss = []\n",
    "        for sample in range(len(ys)):\n",
    "            pred = np.copy(ys[sample])\n",
    "            true = t_alls[sample]\n",
    "            vl = vls[sample]\n",
    "            pred[np.where(pred > thresh*0.05)] = 1\n",
    "            pred[np.where(pred < thresh*0.05)] = 0\n",
    "            true_s = np.sum(true)\n",
    "            pred_s = np.sum(pred)\n",
    "\n",
    "            perc_error.append(abs(pred_s - true_s) / 196)\n",
    "            tp, fp, fn = thirty_meter(true, pred)\n",
    "            tps.append(tp)\n",
    "            fps.append(fp)\n",
    "            fns.append(fn)\n",
    "            trues.append(true_s)\n",
    "            preds.append(pred_s)\n",
    "            val_loss.append(np.mean(vl))\n",
    "        oa_error = abs(np.sum(preds) - np.sum(trues)) / np.sum(trues)\n",
    "        precision = np.sum(tps) / (np.sum(tps) + np.sum(fps))\n",
    "        recall = np.sum(tps) / (np.sum(tps) + np.sum(fns))\n",
    "        f1 = 2*((precision* recall) / (precision + recall))\n",
    "        if f1 > best_f1:\n",
    "            best_f1 = f1\n",
    "            p = precision\n",
    "            r = recall\n",
    "            error = oa_error\n",
    "            best_thresh = thresh*0.05\n",
    "    print(\"Val loss: {} Thresh: {} F1: {} Recall: {} Precision: {} Error: {}\".format(np.around(np.mean(val_loss), 3), np.around(best_thresh, 2),\n",
    "                                                                                     np.around(best_f1, 3), np.around(p, 3), np.around(r, 3), \n",
    "                                                                                     np.around(error, 3)))\n",
    "    return best_f1"
   ]
  },
  {
   "cell_type": "code",
   "execution_count": 23,
   "metadata": {},
   "outputs": [
    {
     "data": {
      "text/plain": [
       "[0.0, 0.0, 0.0, 0.0, 6.0, 13.0, 22.0, 32.0, 46.0, 87.0]"
      ]
     },
     "execution_count": 23,
     "metadata": {},
     "output_type": "execute_result"
    }
   ],
   "source": [
    "[np.percentile(np.sum(data_y, axis = (1, 2)), x) for x in range(0, 100, 10)]"
   ]
  },
  {
   "cell_type": "markdown",
   "metadata": {},
   "source": [
    "# Equibatch creation"
   ]
  },
  {
   "cell_type": "code",
   "execution_count": 24,
   "metadata": {},
   "outputs": [],
   "source": [
    "train_ids = [x for x in range(0, len(train_y))]\n",
    "\n",
    "def multiplot(matrices):\n",
    "    '''Plot multiple heatmaps with subplots'''\n",
    "    fig, axs = plt.subplots(ncols=4)\n",
    "    fig.set_size_inches(20, 4)\n",
    "    for i, matrix in enumerate(matrices):\n",
    "        sns.heatmap(data = matrix, ax = axs[i], vmin = 0, vmax = 0.9)\n",
    "        axs[i].set_xlabel(\"\")\n",
    "        axs[i].set_ylabel(\"\")\n",
    "        axs[i].set_yticks([])\n",
    "        axs[i].set_xticks([])\n",
    "    plt.show()\n",
    "\n",
    "def equibatch(train_ids, lovasz = False):\n",
    "    first_len = 5\n",
    "    second_len = 9\n",
    "    third_len = 14\n",
    "    np.random.shuffle(train_ids)\n",
    "    ix = train_ids\n",
    "    percs = [np.sum(x) for x in train_y[ix]]\n",
    "    zero_ids = [x for x, z in zip(ix, percs) if z == 0]\n",
    "    one_ids = [x for x, z in zip(ix, percs) if 0 < z <= first_len]\n",
    "    two_ids = [x for x, z in zip(ix, percs) if first_len < z <= second_len]\n",
    "    three_ids = [x for x, z in zip(ix, percs) if second_len < z <= third_len]\n",
    "    four_ids = [x for x, z in zip(ix, percs) if third_len < z <= 19]\n",
    "    five_ids = [x for x, z in zip(ix, percs) if 19 < z < 27]\n",
    "    six_ids = [x for x, z in zip(ix, percs) if 27 < z <= 33]\n",
    "    seven_ids = [x for x, z in zip(ix, percs) if 33 < z <= 41]\n",
    "    eight_ids = [x for x, z in zip(ix, percs) if 41 < z <= 56]\n",
    "    nine_ids =  [x for x, z in zip(ix, percs) if 56 < z <= 80]\n",
    "    ten_ids =  [x for x, z in zip(ix, percs) if 80 < z <= 120]\n",
    "    eleven_ids = [x for x, z in zip(ix, percs) if 120 < z]\n",
    "    #ten_ids = [x for x, z in zip(ix, percs) if 125 < z]\n",
    "\n",
    "    new_batches = []\n",
    "    maxes = [len(zero_ids), len(one_ids), len(two_ids), len(three_ids), len(four_ids),\n",
    "             len(five_ids), len(six_ids), len(seven_ids), len(eight_ids), len(nine_ids), len(ten_ids), len(eleven_ids)]#, len(ten_ids)]\n",
    "    cur_ids = [0] * 12\n",
    "    iter_len = len(train_ids)//(len(maxes)+3) if not lovasz else len(train_ids)//8\n",
    "    for i in range(0, iter_len):\n",
    "        for i, val in enumerate(cur_ids):\n",
    "            if val > maxes[i] - 1:\n",
    "                cur_ids[i] = 0\n",
    "        if cur_ids[0] >= (maxes[0] - 2):\n",
    "            cur_ids[0] = 0\n",
    "        to_append = [zero_ids[cur_ids[0]], zero_ids[cur_ids[0] + 1], one_ids[cur_ids[1]], two_ids[cur_ids[2]],\n",
    "                    three_ids[cur_ids[3]], four_ids[cur_ids[4]], five_ids[cur_ids[5]],\n",
    "                    six_ids[cur_ids[6]], seven_ids[cur_ids[7]], eight_ids[cur_ids[8]],\n",
    "                               nine_ids[cur_ids[9]], ten_ids[cur_ids[10]], eleven_ids[cur_ids[11]]]\n",
    "        \n",
    "        np.random.shuffle(to_append)\n",
    "        new_batches.append(to_append)\n",
    "        cur_ids = [x + 1 for x in cur_ids]\n",
    "        cur_ids[0] += 1\n",
    "        \n",
    "    new_batches = [item for sublist in new_batches for item in sublist]\n",
    "    #overlap = [x for x in new_batches if x in test_ids]\n",
    "    #print(\"There is {} overlap. Error if > 0\".format(len(overlap)))\n",
    "    return new_batches"
   ]
  },
  {
   "cell_type": "code",
   "execution_count": 25,
   "metadata": {},
   "outputs": [
    {
     "data": {
      "image/png": "[encoded data removed]",
      "text/plain": [
       "<Figure size 1440x288 with 8 Axes>"
      ]
     },
     "metadata": {
      "needs_background": "light"
     },
     "output_type": "display_data"
    }
   ],
   "source": [
    "#! Todo: Move to one cell, rather than 3\n",
    "batch = equibatch(train_ids, True)\n",
    "multiplot([x.reshape((14, 14)) for x in train_y[batch[:4]]])"
   ]
  },
  {
   "cell_type": "code",
   "execution_count": 26,
   "metadata": {},
   "outputs": [
    {
     "data": {
      "image/png": "[encoded data removed]",
      "text/plain": [
       "<Figure size 1440x288 with 8 Axes>"
      ]
     },
     "metadata": {
      "needs_background": "light"
     },
     "output_type": "display_data"
    }
   ],
   "source": [
    "multiplot([x.reshape((14, 14)) for x in train_y[batch[4:8]]])"
   ]
  },
  {
   "cell_type": "code",
   "execution_count": 27,
   "metadata": {},
   "outputs": [
    {
     "data": {
      "image/png": "[encoded data removed]",
      "text/plain": [
       "<Figure size 1440x288 with 8 Axes>"
      ]
     },
     "metadata": {
      "needs_background": "light"
     },
     "output_type": "display_data"
    }
   ],
   "source": [
    "multiplot([x.reshape((14, 14)) for x in train_y[batch[8:12]]])"
   ]
  },
  {
   "cell_type": "code",
   "execution_count": 28,
   "metadata": {},
   "outputs": [],
   "source": [
    "# This cell should be run to do fine-tuning, if commented - train from scratch\n",
    "\n",
    "#new_saver = tf.train.import_meta_graph('../models/new_model/model.meta')\n",
    "#new_saver.restore(sess, tf.train.latest_checkpoint('../models/new_model/'))"
   ]
  },
  {
   "cell_type": "markdown",
   "metadata": {},
   "source": [
    "# Graph set up"
   ]
  },
  {
   "cell_type": "code",
   "execution_count": 29,
   "metadata": {
    "scrolled": false
   },
   "outputs": [
    {
     "name": "stdout",
     "output_type": "stream",
     "text": [
      "Starting model with: \n",
      " 0.2 zone out \n",
      " 0.0 l2 \n",
      " 0.0002 initial LR \n",
      " 0.001 final LR \n",
      " 100949 parameters\n",
      "Restarting training from scratch on 2936 train and 126 test samples, total 734\n",
      "()\n",
      "()\n",
      "The graph has been finalized\n"
     ]
    }
   ],
   "source": [
    "FRESH_START = True\n",
    "best_val = 0.73\n",
    "\n",
    "START_EPOCH = 1\n",
    "END_EPOCH = 150\n",
    "LEARNING_RATE = 4e-3\n",
    "test_ids = [x for x in range(0, len(test_x))]\n",
    "\n",
    "\n",
    "print(\"Starting model with: \\n {} zone out \\n {} l2 \\n {} initial LR \\n {} final LR \\n {} parameters\"\n",
    "     .format(ZONE_OUT_PROB, L2_REG, INITIAL_LR, FINAL_LR, total_parameters))\n",
    "\n",
    "if not FRESH_START:\n",
    "    print(\"Resuming training with a best validation score of {}\".format(best_val))\n",
    "    \n",
    "if FRESH_START:\n",
    "    print(\"Restarting training from scratch on {} \"\n",
    "          \"train and {} test samples, total {}\".format(len(train_ids), len(test_ids), N_SAMPLES))\n",
    "\n",
    "    #optimizer = tf.train.AdamOptimizer(LEARNING_RATE, epsilon = 1e-8)\n",
    "    optimizer = AdaBoundOptimizer(3e-3, 1e-1)\n",
    "    train_loss = bce_lv(tf.reshape(labels, (-1, 14, 14, 1)), fm, alpha)\n",
    "    l2_loss = tf.losses.get_regularization_loss()\n",
    "    train_loss += l2_loss\n",
    "\n",
    "    ft_optimizer = tf.train.GradientDescentOptimizer(0.001)\n",
    "    ft_loss = bce_lv(tf.reshape(labels, (-1, 14, 14, 1)), fm, alpha)\n",
    "    #wu_loss = weighted_bce_loss(tf.reshape(labels, (-1, 14, 14, 1)), fm, weight = 1.5)\n",
    "    \n",
    "    test_loss = weighted_bce_loss(tf.reshape(labels, (-1, 14, 14, 1)), fm, weight = 1.)\n",
    "    update_ops = tf.get_collection(tf.GraphKeys.UPDATE_OPS)\n",
    "    \n",
    "    with tf.control_dependencies(update_ops):\n",
    "        train_op = optimizer.minimize(train_loss)   \n",
    "        ft_op = ft_optimizer.minimize(ft_loss)\n",
    "        \n",
    "    init_op = tf.global_variables_initializer()\n",
    "    sess.run(init_op)\n",
    "    saver = tf.train.Saver(max_to_keep = 2)\n",
    "    \n",
    "print(\"The graph has been finalized\")"
   ]
  },
  {
   "cell_type": "markdown",
   "metadata": {},
   "source": [
    "# Model training"
   ]
  },
  {
   "cell_type": "code",
   "execution_count": 193,
   "metadata": {
    "scrolled": true
   },
   "outputs": [
    {
     "name": "stdout",
     "output_type": "stream",
     "text": [
      "Loss: 0.945 1.5 weighted BCE + 0.055 Image Lovasz\n"
     ]
    },
    {
     "data": {
      "application/vnd.jupyter.widget-view+json": {
       "model_id": "fbd20aea71694c96b0566e140cb1727b",
       "version_major": 2,
       "version_minor": 0
      },
      "text/plain": [
       "HBox(children=(IntProgress(value=0, max=158), HTML(value='')))"
      ]
     },
     "metadata": {},
     "output_type": "display_data"
    },
    {
     "name": "stdout",
     "output_type": "stream",
     "text": [
      "Epoch 1: Loss 0.5809999704360962\n",
      "Val loss: 0.3540000021457672 Thresh: 0.5 F1: 0.73 Recall: 0.725 Precision: 0.736 Error: 0.016\n",
      "Saving model with 0.7304152637485971\n",
      "Loss: 0.94 1.5 weighted BCE + 0.060000000000000005 Image Lovasz\n"
     ]
    },
    {
     "data": {
      "application/vnd.jupyter.widget-view+json": {
       "model_id": "4393dfa42b3444f18be4449a6fc09b60",
       "version_major": 2,
       "version_minor": 0
      },
      "text/plain": [
       "HBox(children=(IntProgress(value=0, max=158), HTML(value='')))"
      ]
     },
     "metadata": {},
     "output_type": "display_data"
    },
    {
     "name": "stdout",
     "output_type": "stream",
     "text": [
      "Epoch 2: Loss 0.5740000009536743\n",
      "Val loss: 0.3889999985694885 Thresh: 0.6 F1: 0.737 Recall: 0.71 Precision: 0.767 Error: 0.08\n",
      "Saving model with 0.7369222403480152\n",
      "Loss: 0.9349999999999999 1.5 weighted BCE + 0.065 Image Lovasz\n"
     ]
    },
    {
     "data": {
      "application/vnd.jupyter.widget-view+json": {
       "model_id": "420534b86da2407594724cccc463e2c4",
       "version_major": 2,
       "version_minor": 0
      },
      "text/plain": [
       "HBox(children=(IntProgress(value=0, max=158), HTML(value='')))"
      ]
     },
     "metadata": {},
     "output_type": "display_data"
    },
    {
     "name": "stdout",
     "output_type": "stream",
     "text": [
      "Epoch 3: Loss 0.5740000009536743\n",
      "Val loss: 0.3330000042915344 Thresh: 0.6 F1: 0.749 Recall: 0.802 Precision: 0.703 Error: 0.123\n",
      "Saving model with 0.7492767598842817\n",
      "Loss: 0.9299999999999999 1.5 weighted BCE + 0.07 Image Lovasz\n"
     ]
    },
    {
     "data": {
      "application/vnd.jupyter.widget-view+json": {
       "model_id": "a98b2f52cd4b4fabb15fe7d2c48a5b4d",
       "version_major": 2,
       "version_minor": 0
      },
      "text/plain": [
       "HBox(children=(IntProgress(value=0, max=158), HTML(value='')))"
      ]
     },
     "metadata": {},
     "output_type": "display_data"
    },
    {
     "name": "stdout",
     "output_type": "stream",
     "text": [
      "Epoch 4: Loss 0.5680000185966492\n",
      "Val loss: 0.3840000033378601 Thresh: 0.6 F1: 0.737 Recall: 0.683 Precision: 0.801 Error: 0.172\n",
      "Saving model with 0.7373463861695481\n",
      "Loss: 0.9249999999999999 1.5 weighted BCE + 0.07500000000000001 Image Lovasz\n"
     ]
    },
    {
     "data": {
      "application/vnd.jupyter.widget-view+json": {
       "model_id": "7636e56ea9af4b38a6767a3b6116f491",
       "version_major": 2,
       "version_minor": 0
      },
      "text/plain": [
       "HBox(children=(IntProgress(value=0, max=158), HTML(value='')))"
      ]
     },
     "metadata": {},
     "output_type": "display_data"
    },
    {
     "name": "stdout",
     "output_type": "stream",
     "text": [
      "Epoch 5: Loss 0.5669999718666077\n",
      "Val loss: 0.32600000500679016 Thresh: 0.5 F1: 0.74 Recall: 0.739 Precision: 0.74 Error: 0.001\n",
      "Saving model with 0.7395432964051548\n",
      "Loss: 0.9199999999999999 1.5 weighted BCE + 0.08 Image Lovasz\n"
     ]
    },
    {
     "data": {
      "application/vnd.jupyter.widget-view+json": {
       "model_id": "ad71679bec974f389437b595ef21c080",
       "version_major": 2,
       "version_minor": 0
      },
      "text/plain": [
       "HBox(children=(IntProgress(value=0, max=158), HTML(value='')))"
      ]
     },
     "metadata": {},
     "output_type": "display_data"
    },
    {
     "name": "stdout",
     "output_type": "stream",
     "text": [
      "Epoch 6: Loss 0.5690000057220459\n",
      "Val loss: 0.4269999861717224 Thresh: 0.6 F1: 0.72 Recall: 0.648 Precision: 0.81 Error: 0.25\n",
      "Loss: 0.9149999999999999 1.5 weighted BCE + 0.085 Image Lovasz\n"
     ]
    },
    {
     "data": {
      "application/vnd.jupyter.widget-view+json": {
       "model_id": "9c7e64a70d4a4b1aaad0132d31420b7b",
       "version_major": 2,
       "version_minor": 0
      },
      "text/plain": [
       "HBox(children=(IntProgress(value=0, max=158), HTML(value='')))"
      ]
     },
     "metadata": {},
     "output_type": "display_data"
    },
    {
     "name": "stdout",
     "output_type": "stream",
     "text": [
      "Epoch 7: Loss 0.5640000104904175\n",
      "Val loss: 0.32899999618530273 Thresh: 0.5 F1: 0.752 Recall: 0.742 Precision: 0.762 Error: 0.027\n",
      "Saving model with 0.7518696283067305\n",
      "Loss: 0.9099999999999999 1.5 weighted BCE + 0.09 Image Lovasz\n"
     ]
    },
    {
     "data": {
      "application/vnd.jupyter.widget-view+json": {
       "model_id": "b7db048fd2974d56b9d63e9c8abc00d2",
       "version_major": 2,
       "version_minor": 0
      },
      "text/plain": [
       "HBox(children=(IntProgress(value=0, max=158), HTML(value='')))"
      ]
     },
     "metadata": {},
     "output_type": "display_data"
    },
    {
     "name": "stdout",
     "output_type": "stream",
     "text": [
      "Epoch 8: Loss 0.5600000023841858\n",
      "Val loss: 0.3930000066757202 Thresh: 0.6 F1: 0.725 Recall: 0.674 Precision: 0.785 Error: 0.164\n",
      "Loss: 0.9049999999999999 1.5 weighted BCE + 0.095 Image Lovasz\n"
     ]
    },
    {
     "data": {
      "application/vnd.jupyter.widget-view+json": {
       "model_id": "cf90a0eac2a649e4b39cb3ba8964adb2",
       "version_major": 2,
       "version_minor": 0
      },
      "text/plain": [
       "HBox(children=(IntProgress(value=0, max=158), HTML(value='')))"
      ]
     },
     "metadata": {},
     "output_type": "display_data"
    },
    {
     "name": "stdout",
     "output_type": "stream",
     "text": [
      "Epoch 9: Loss 0.5580000281333923\n",
      "Val loss: 0.36000001430511475 Thresh: 0.6 F1: 0.736 Recall: 0.727 Precision: 0.745 Error: 0.026\n",
      "Loss: 0.8999999999999999 1.5 weighted BCE + 0.1 Image Lovasz\n"
     ]
    },
    {
     "data": {
      "application/vnd.jupyter.widget-view+json": {
       "model_id": "e46e8ad5f86140b7b5ebdd1a33f6c310",
       "version_major": 2,
       "version_minor": 0
      },
      "text/plain": [
       "HBox(children=(IntProgress(value=0, max=158), HTML(value='')))"
      ]
     },
     "metadata": {},
     "output_type": "display_data"
    },
    {
     "name": "stdout",
     "output_type": "stream",
     "text": [
      "Epoch 10: Loss 0.5600000023841858\n",
      "Val loss: 0.3529999852180481 Thresh: 0.6 F1: 0.747 Recall: 0.771 Precision: 0.724 Error: 0.06\n",
      "Saving model with 0.7469963839962673\n",
      "Loss: 0.8949999999999999 1.5 weighted BCE + 0.10500000000000001 Image Lovasz\n"
     ]
    },
    {
     "data": {
      "application/vnd.jupyter.widget-view+json": {
       "model_id": "8eeda5e9748b4d7bb405f2973b95afc3",
       "version_major": 2,
       "version_minor": 0
      },
      "text/plain": [
       "HBox(children=(IntProgress(value=0, max=158), HTML(value='')))"
      ]
     },
     "metadata": {},
     "output_type": "display_data"
    },
    {
     "name": "stdout",
     "output_type": "stream",
     "text": [
      "Epoch 11: Loss 0.5580000281333923\n",
      "Val loss: 0.38199999928474426 Thresh: 0.6 F1: 0.715 Recall: 0.669 Precision: 0.767 Error: 0.146\n",
      "Loss: 0.8899999999999999 1.5 weighted BCE + 0.11 Image Lovasz\n"
     ]
    },
    {
     "data": {
      "application/vnd.jupyter.widget-view+json": {
       "model_id": "5d0e3e34509d40ad9206b42432240c35",
       "version_major": 2,
       "version_minor": 0
      },
      "text/plain": [
       "HBox(children=(IntProgress(value=0, max=158), HTML(value='')))"
      ]
     },
     "metadata": {},
     "output_type": "display_data"
    },
    {
     "name": "stdout",
     "output_type": "stream",
     "text": [
      "Epoch 12: Loss 0.5540000200271606\n",
      "Val loss: 0.3889999985694885 Thresh: 0.6 F1: 0.71 Recall: 0.666 Precision: 0.76 Error: 0.141\n",
      "Loss: 0.885 1.5 weighted BCE + 0.115 Image Lovasz\n"
     ]
    },
    {
     "data": {
      "application/vnd.jupyter.widget-view+json": {
       "model_id": "159e6308138d4418a536cfc4ec13e17c",
       "version_major": 2,
       "version_minor": 0
      },
      "text/plain": [
       "HBox(children=(IntProgress(value=0, max=158), HTML(value='')))"
      ]
     },
     "metadata": {},
     "output_type": "display_data"
    },
    {
     "name": "stdout",
     "output_type": "stream",
     "text": [
      "Epoch 13: Loss 0.5569999814033508\n",
      "Val loss: 0.34200000762939453 Thresh: 0.6 F1: 0.742 Recall: 0.772 Precision: 0.714 Error: 0.075\n",
      "Saving model with 0.7421250587682183\n",
      "Loss: 0.8799999999999999 1.5 weighted BCE + 0.12000000000000001 Image Lovasz\n"
     ]
    },
    {
     "data": {
      "application/vnd.jupyter.widget-view+json": {
       "model_id": "a68c4b80550944c38e9258d3c8098404",
       "version_major": 2,
       "version_minor": 0
      },
      "text/plain": [
       "HBox(children=(IntProgress(value=0, max=158), HTML(value='')))"
      ]
     },
     "metadata": {},
     "output_type": "display_data"
    },
    {
     "name": "stdout",
     "output_type": "stream",
     "text": [
      "Epoch 14: Loss 0.5519999861717224\n",
      "Val loss: 0.40400001406669617 Thresh: 0.6 F1: 0.714 Recall: 0.635 Precision: 0.816 Error: 0.286\n",
      "Loss: 0.875 1.5 weighted BCE + 0.125 Image Lovasz\n"
     ]
    },
    {
     "data": {
      "application/vnd.jupyter.widget-view+json": {
       "model_id": "93e8e27f156048dc9a6efdb0cd230b77",
       "version_major": 2,
       "version_minor": 0
      },
      "text/plain": [
       "HBox(children=(IntProgress(value=0, max=158), HTML(value='')))"
      ]
     },
     "metadata": {},
     "output_type": "display_data"
    },
    {
     "name": "stdout",
     "output_type": "stream",
     "text": [
      "Epoch 15: Loss 0.5519999861717224\n",
      "Val loss: 0.3580000102519989 Thresh: 0.6 F1: 0.734 Recall: 0.722 Precision: 0.745 Error: 0.032\n",
      "Saving model with 0.7335486026055005\n",
      "Loss: 0.875 1.5 weighted BCE + 0.125 Image Lovasz\n"
     ]
    },
    {
     "data": {
      "application/vnd.jupyter.widget-view+json": {
       "model_id": "16c825377a824e32a8d051af695b7d0f",
       "version_major": 2,
       "version_minor": 0
      },
      "text/plain": [
       "HBox(children=(IntProgress(value=0, max=158), HTML(value='')))"
      ]
     },
     "metadata": {},
     "output_type": "display_data"
    },
    {
     "name": "stdout",
     "output_type": "stream",
     "text": [
      "Epoch 16: Loss 0.5519999861717224\n",
      "Val loss: 0.3529999852180481 Thresh: 0.6 F1: 0.75 Recall: 0.746 Precision: 0.754 Error: 0.011\n",
      "Saving model with 0.7501406232422094\n",
      "Loss: 0.875 1.5 weighted BCE + 0.125 Image Lovasz\n"
     ]
    },
    {
     "data": {
      "application/vnd.jupyter.widget-view+json": {
       "model_id": "a5ec1f6b3024477b9b0dab90fdc91451",
       "version_major": 2,
       "version_minor": 0
      },
      "text/plain": [
       "HBox(children=(IntProgress(value=0, max=158), HTML(value='')))"
      ]
     },
     "metadata": {},
     "output_type": "display_data"
    },
    {
     "name": "stdout",
     "output_type": "stream",
     "text": [
      "Epoch 17: Loss 0.5490000247955322\n",
      "Val loss: 0.40400001406669617 Thresh: 0.6 F1: 0.712 Recall: 0.638 Precision: 0.806 Error: 0.264\n",
      "Loss: 0.875 1.5 weighted BCE + 0.125 Image Lovasz\n"
     ]
    },
    {
     "data": {
      "application/vnd.jupyter.widget-view+json": {
       "model_id": "ff07047591dc43f79d582d857d61ff9b",
       "version_major": 2,
       "version_minor": 0
      },
      "text/plain": [
       "HBox(children=(IntProgress(value=0, max=158), HTML(value='')))"
      ]
     },
     "metadata": {},
     "output_type": "display_data"
    },
    {
     "name": "stdout",
     "output_type": "stream",
     "text": [
      "Epoch 18: Loss 0.550000011920929\n",
      "Val loss: 0.39800000190734863 Thresh: 0.6 F1: 0.714 Recall: 0.639 Precision: 0.809 Error: 0.266\n",
      "Loss: 0.875 1.5 weighted BCE + 0.125 Image Lovasz\n"
     ]
    },
    {
     "data": {
      "application/vnd.jupyter.widget-view+json": {
       "model_id": "af0479d5449747dea2ffef5de3186861",
       "version_major": 2,
       "version_minor": 0
      },
      "text/plain": [
       "HBox(children=(IntProgress(value=0, max=158), HTML(value='')))"
      ]
     },
     "metadata": {},
     "output_type": "display_data"
    },
    {
     "name": "stdout",
     "output_type": "stream",
     "text": [
      "Epoch 19: Loss 0.5490000247955322\n",
      "Val loss: 0.38999998569488525 Thresh: 0.6 F1: 0.725 Recall: 0.693 Precision: 0.76 Error: 0.095\n",
      "Loss: 0.875 1.5 weighted BCE + 0.125 Image Lovasz\n"
     ]
    },
    {
     "data": {
      "application/vnd.jupyter.widget-view+json": {
       "model_id": "d2a289eaf771445db3c9f6f819a37cbb",
       "version_major": 2,
       "version_minor": 0
      },
      "text/plain": [
       "HBox(children=(IntProgress(value=0, max=158), HTML(value='')))"
      ]
     },
     "metadata": {},
     "output_type": "display_data"
    },
    {
     "name": "stdout",
     "output_type": "stream",
     "text": [
      "Epoch 20: Loss 0.546999990940094\n",
      "Val loss: 0.3880000114440918 Thresh: 0.6 F1: 0.724 Recall: 0.663 Precision: 0.798 Error: 0.204\n",
      "Loss: 0.875 1.5 weighted BCE + 0.125 Image Lovasz\n"
     ]
    },
    {
     "data": {
      "application/vnd.jupyter.widget-view+json": {
       "model_id": "0852a2032f434592ac0f2e1efd4e6d57",
       "version_major": 2,
       "version_minor": 0
      },
      "text/plain": [
       "HBox(children=(IntProgress(value=0, max=158), HTML(value='')))"
      ]
     },
     "metadata": {},
     "output_type": "display_data"
    },
    {
     "name": "stdout",
     "output_type": "stream",
     "text": [
      "Epoch 21: Loss 0.546999990940094\n",
      "Val loss: 0.3479999899864197 Thresh: 0.6 F1: 0.755 Recall: 0.759 Precision: 0.75 Error: 0.012\n",
      "Saving model with 0.7546955036994878\n",
      "Loss: 0.875 1.5 weighted BCE + 0.125 Image Lovasz\n"
     ]
    },
    {
     "data": {
      "application/vnd.jupyter.widget-view+json": {
       "model_id": "b1b5f607223a4bb4a21ede522958f1e7",
       "version_major": 2,
       "version_minor": 0
      },
      "text/plain": [
       "HBox(children=(IntProgress(value=0, max=158), HTML(value='')))"
      ]
     },
     "metadata": {},
     "output_type": "display_data"
    },
    {
     "name": "stdout",
     "output_type": "stream",
     "text": [
      "Epoch 22: Loss 0.5440000295639038\n",
      "Val loss: 0.382999986410141 Thresh: 0.6 F1: 0.726 Recall: 0.682 Precision: 0.776 Error: 0.138\n",
      "Loss: 0.875 1.5 weighted BCE + 0.125 Image Lovasz\n"
     ]
    },
    {
     "data": {
      "application/vnd.jupyter.widget-view+json": {
       "model_id": "a420f8a02a984be2ac28354e93d14ce1",
       "version_major": 2,
       "version_minor": 0
      },
      "text/plain": [
       "HBox(children=(IntProgress(value=0, max=158), HTML(value='')))"
      ]
     },
     "metadata": {},
     "output_type": "display_data"
    },
    {
     "name": "stdout",
     "output_type": "stream",
     "text": [
      "Epoch 23: Loss 0.5429999828338623\n",
      "Val loss: 0.367000013589859 Thresh: 0.6 F1: 0.734 Recall: 0.707 Precision: 0.763 Error: 0.079\n",
      "Loss: 0.875 1.5 weighted BCE + 0.125 Image Lovasz\n"
     ]
    },
    {
     "data": {
      "application/vnd.jupyter.widget-view+json": {
       "model_id": "22d4b53775e94b87aa6b5bff1e72bda8",
       "version_major": 2,
       "version_minor": 0
      },
      "text/plain": [
       "HBox(children=(IntProgress(value=0, max=158), HTML(value='')))"
      ]
     },
     "metadata": {},
     "output_type": "display_data"
    },
    {
     "name": "stdout",
     "output_type": "stream",
     "text": [
      "Epoch 24: Loss 0.5490000247955322\n",
      "Val loss: 0.38499999046325684 Thresh: 0.6 F1: 0.723 Recall: 0.673 Precision: 0.782 Error: 0.162\n",
      "Loss: 0.875 1.5 weighted BCE + 0.125 Image Lovasz\n"
     ]
    },
    {
     "data": {
      "application/vnd.jupyter.widget-view+json": {
       "model_id": "7c699324210748d4b2d30c528a290858",
       "version_major": 2,
       "version_minor": 0
      },
      "text/plain": [
       "HBox(children=(IntProgress(value=0, max=158), HTML(value='')))"
      ]
     },
     "metadata": {},
     "output_type": "display_data"
    },
    {
     "name": "stdout",
     "output_type": "stream",
     "text": [
      "Epoch 25: Loss 0.5429999828338623\n",
      "Val loss: 0.3529999852180481 Thresh: 0.6 F1: 0.72 Recall: 0.72 Precision: 0.721 Error: 0.002\n",
      "Loss: 0.875 1.5 weighted BCE + 0.125 Image Lovasz\n"
     ]
    },
    {
     "data": {
      "application/vnd.jupyter.widget-view+json": {
       "model_id": "44458d7623bc4efc89cb35bdddfedc15",
       "version_major": 2,
       "version_minor": 0
      },
      "text/plain": [
       "HBox(children=(IntProgress(value=0, max=158), HTML(value='')))"
      ]
     },
     "metadata": {},
     "output_type": "display_data"
    },
    {
     "name": "stdout",
     "output_type": "stream",
     "text": [
      "Epoch 26: Loss 0.5410000085830688\n",
      "Val loss: 0.3490000069141388 Thresh: 0.6 F1: 0.751 Recall: 0.748 Precision: 0.755 Error: 0.009\n",
      "Saving model with 0.7514919491048305\n",
      "Loss: 0.875 1.5 weighted BCE + 0.125 Image Lovasz\n"
     ]
    },
    {
     "data": {
      "application/vnd.jupyter.widget-view+json": {
       "model_id": "62d8215c664e44539d4e04833d9c4bcd",
       "version_major": 2,
       "version_minor": 0
      },
      "text/plain": [
       "HBox(children=(IntProgress(value=0, max=158), HTML(value='')))"
      ]
     },
     "metadata": {},
     "output_type": "display_data"
    },
    {
     "name": "stdout",
     "output_type": "stream",
     "text": [
      "Epoch 27: Loss 0.5410000085830688\n",
      "Val loss: 0.35600000619888306 Thresh: 0.6 F1: 0.736 Recall: 0.718 Precision: 0.753 Error: 0.049\n",
      "Loss: 0.875 1.5 weighted BCE + 0.125 Image Lovasz\n"
     ]
    },
    {
     "data": {
      "application/vnd.jupyter.widget-view+json": {
       "model_id": "201ea492e0264b1cb5042681b1505ee4",
       "version_major": 2,
       "version_minor": 0
      },
      "text/plain": [
       "HBox(children=(IntProgress(value=0, max=158), HTML(value='')))"
      ]
     },
     "metadata": {},
     "output_type": "display_data"
    },
    {
     "name": "stdout",
     "output_type": "stream",
     "text": [
      "Epoch 28: Loss 0.5400000214576721\n",
      "Val loss: 0.3619999885559082 Thresh: 0.55 F1: 0.726 Recall: 0.696 Precision: 0.759 Error: 0.091\n",
      "Loss: 0.875 1.5 weighted BCE + 0.125 Image Lovasz\n"
     ]
    },
    {
     "data": {
      "application/vnd.jupyter.widget-view+json": {
       "model_id": "be5f54fa6810498a8c08ef1c0a7f7a30",
       "version_major": 2,
       "version_minor": 0
      },
      "text/plain": [
       "HBox(children=(IntProgress(value=0, max=158), HTML(value='')))"
      ]
     },
     "metadata": {},
     "output_type": "display_data"
    },
    {
     "name": "stdout",
     "output_type": "stream",
     "text": [
      "Epoch 29: Loss 0.5389999747276306\n",
      "Val loss: 0.35499998927116394 Thresh: 0.6 F1: 0.742 Recall: 0.726 Precision: 0.76 Error: 0.046\n",
      "Saving model with 0.7424527258653103\n",
      "Loss: 0.875 1.5 weighted BCE + 0.125 Image Lovasz\n"
     ]
    },
    {
     "data": {
      "application/vnd.jupyter.widget-view+json": {
       "model_id": "725ca142664b4d18a1c2f87aa1b3630c",
       "version_major": 2,
       "version_minor": 0
      },
      "text/plain": [
       "HBox(children=(IntProgress(value=0, max=158), HTML(value='')))"
      ]
     },
     "metadata": {},
     "output_type": "display_data"
    },
    {
     "name": "stdout",
     "output_type": "stream",
     "text": [
      "Epoch 30: Loss 0.5410000085830688\n",
      "Val loss: 0.44600000977516174 Thresh: 0.6 F1: 0.693 Recall: 0.596 Precision: 0.829 Error: 0.391\n",
      "Loss: 0.875 1.5 weighted BCE + 0.125 Image Lovasz\n"
     ]
    },
    {
     "data": {
      "application/vnd.jupyter.widget-view+json": {
       "model_id": "460c1cce51e54ff3b495391232000826",
       "version_major": 2,
       "version_minor": 0
      },
      "text/plain": [
       "HBox(children=(IntProgress(value=0, max=158), HTML(value='')))"
      ]
     },
     "metadata": {},
     "output_type": "display_data"
    },
    {
     "name": "stdout",
     "output_type": "stream",
     "text": [
      "Epoch 31: Loss 0.5379999876022339\n",
      "Val loss: 0.47999998927116394 Thresh: 0.6 F1: 0.684 Recall: 0.573 Precision: 0.85 Error: 0.484\n",
      "Loss: 0.875 1.5 weighted BCE + 0.125 Image Lovasz\n"
     ]
    },
    {
     "data": {
      "application/vnd.jupyter.widget-view+json": {
       "model_id": "d2964f1ec03c4745baa22d966cda8b8c",
       "version_major": 2,
       "version_minor": 0
      },
      "text/plain": [
       "HBox(children=(IntProgress(value=0, max=158), HTML(value='')))"
      ]
     },
     "metadata": {},
     "output_type": "display_data"
    },
    {
     "name": "stdout",
     "output_type": "stream",
     "text": [
      "Epoch 32: Loss 0.5389999747276306\n",
      "Val loss: 0.36500000953674316 Thresh: 0.6 F1: 0.737 Recall: 0.709 Precision: 0.768 Error: 0.083\n",
      "Saving model with 0.7374823503855763\n",
      "Loss: 0.875 1.5 weighted BCE + 0.125 Image Lovasz\n"
     ]
    },
    {
     "data": {
      "application/vnd.jupyter.widget-view+json": {
       "model_id": "d999f7a8923a41109d3310b9aa730cc3",
       "version_major": 2,
       "version_minor": 0
      },
      "text/plain": [
       "HBox(children=(IntProgress(value=0, max=158), HTML(value='')))"
      ]
     },
     "metadata": {},
     "output_type": "display_data"
    },
    {
     "name": "stdout",
     "output_type": "stream",
     "text": [
      "Epoch 33: Loss 0.5360000133514404\n",
      "Val loss: 0.3659999966621399 Thresh: 0.6 F1: 0.733 Recall: 0.703 Precision: 0.767 Error: 0.091\n",
      "Saving model with 0.733448723496322\n",
      "Loss: 0.875 1.5 weighted BCE + 0.125 Image Lovasz\n"
     ]
    },
    {
     "data": {
      "application/vnd.jupyter.widget-view+json": {
       "model_id": "c71865cfd6fd4665b197ed5288043a42",
       "version_major": 2,
       "version_minor": 0
      },
      "text/plain": [
       "HBox(children=(IntProgress(value=0, max=158), HTML(value='')))"
      ]
     },
     "metadata": {},
     "output_type": "display_data"
    },
    {
     "name": "stdout",
     "output_type": "stream",
     "text": [
      "Epoch 34: Loss 0.5370000004768372\n",
      "Val loss: 0.39399999380111694 Thresh: 0.6 F1: 0.723 Recall: 0.679 Precision: 0.774 Error: 0.139\n",
      "Saving model with 0.7234267583289266\n",
      "Loss: 0.875 1.5 weighted BCE + 0.125 Image Lovasz\n"
     ]
    },
    {
     "data": {
      "application/vnd.jupyter.widget-view+json": {
       "model_id": "d999720ec294492ab2d8537626d57571",
       "version_major": 2,
       "version_minor": 0
      },
      "text/plain": [
       "HBox(children=(IntProgress(value=0, max=158), HTML(value='')))"
      ]
     },
     "metadata": {},
     "output_type": "display_data"
    },
    {
     "name": "stdout",
     "output_type": "stream",
     "text": [
      "Epoch 35: Loss 0.5370000004768372\n",
      "Val loss: 0.34200000762939453 Thresh: 0.6 F1: 0.741 Recall: 0.753 Precision: 0.73 Error: 0.031\n",
      "Saving model with 0.7412683823529411\n",
      "Loss: 0.875 1.5 weighted BCE + 0.125 Image Lovasz\n"
     ]
    },
    {
     "data": {
      "application/vnd.jupyter.widget-view+json": {
       "model_id": "36b4371fe175480dbaea163f6a427ffd",
       "version_major": 2,
       "version_minor": 0
      },
      "text/plain": [
       "HBox(children=(IntProgress(value=0, max=158), HTML(value='')))"
      ]
     },
     "metadata": {},
     "output_type": "display_data"
    },
    {
     "name": "stdout",
     "output_type": "stream",
     "text": [
      "Epoch 36: Loss 0.5360000133514404\n",
      "Val loss: 0.3499999940395355 Thresh: 0.5 F1: 0.737 Recall: 0.701 Precision: 0.778 Error: 0.109\n",
      "Saving model with 0.7373954087105772\n",
      "Loss: 0.875 1.5 weighted BCE + 0.125 Image Lovasz\n"
     ]
    },
    {
     "data": {
      "application/vnd.jupyter.widget-view+json": {
       "model_id": "2a4a81a93bf848f88f997ab3bcc73d44",
       "version_major": 2,
       "version_minor": 0
      },
      "text/plain": [
       "HBox(children=(IntProgress(value=0, max=158), HTML(value='')))"
      ]
     },
     "metadata": {},
     "output_type": "display_data"
    },
    {
     "name": "stdout",
     "output_type": "stream",
     "text": [
      "Epoch 37: Loss 0.5350000262260437\n",
      "Val loss: 0.3569999933242798 Thresh: 0.5 F1: 0.718 Recall: 0.674 Precision: 0.769 Error: 0.141\n",
      "Loss: 0.875 1.5 weighted BCE + 0.125 Image Lovasz\n"
     ]
    },
    {
     "data": {
      "application/vnd.jupyter.widget-view+json": {
       "model_id": "70b627fc65ea44479ad96aeeaf3dc42f",
       "version_major": 2,
       "version_minor": 0
      },
      "text/plain": [
       "HBox(children=(IntProgress(value=0, max=158), HTML(value='')))"
      ]
     },
     "metadata": {},
     "output_type": "display_data"
    },
    {
     "name": "stdout",
     "output_type": "stream",
     "text": [
      "Epoch 38: Loss 0.5360000133514404\n",
      "Val loss: 0.367000013589859 Thresh: 0.6 F1: 0.721 Recall: 0.703 Precision: 0.738 Error: 0.05\n",
      "Loss: 0.875 1.5 weighted BCE + 0.125 Image Lovasz\n"
     ]
    },
    {
     "data": {
      "application/vnd.jupyter.widget-view+json": {
       "model_id": "abdf5933b80647688db71e89925c79a3",
       "version_major": 2,
       "version_minor": 0
      },
      "text/plain": [
       "HBox(children=(IntProgress(value=0, max=158), HTML(value='')))"
      ]
     },
     "metadata": {},
     "output_type": "display_data"
    },
    {
     "name": "stdout",
     "output_type": "stream",
     "text": [
      "Epoch 39: Loss 0.5339999794960022\n",
      "Val loss: 0.36000001430511475 Thresh: 0.6 F1: 0.727 Recall: 0.71 Precision: 0.744 Error: 0.049\n",
      "Saving model with 0.7265098818593354\n",
      "Loss: 0.875 1.5 weighted BCE + 0.125 Image Lovasz\n"
     ]
    },
    {
     "data": {
      "application/vnd.jupyter.widget-view+json": {
       "model_id": "c3cd1c72c9c74d379b653943aeebf3ca",
       "version_major": 2,
       "version_minor": 0
      },
      "text/plain": [
       "HBox(children=(IntProgress(value=0, max=158), HTML(value='')))"
      ]
     },
     "metadata": {},
     "output_type": "display_data"
    },
    {
     "name": "stdout",
     "output_type": "stream",
     "text": [
      "Epoch 40: Loss 0.5329999923706055\n",
      "Val loss: 0.39100000262260437 Thresh: 0.6 F1: 0.719 Recall: 0.667 Precision: 0.779 Error: 0.169\n",
      "Saving model with 0.7185478823283955\n",
      "Loss: 0.875 1.5 weighted BCE + 0.125 Image Lovasz\n"
     ]
    },
    {
     "data": {
      "application/vnd.jupyter.widget-view+json": {
       "model_id": "ee038cbe4ad647a2a6b20041677daed2",
       "version_major": 2,
       "version_minor": 0
      },
      "text/plain": [
       "HBox(children=(IntProgress(value=0, max=158), HTML(value='')))"
      ]
     },
     "metadata": {},
     "output_type": "display_data"
    },
    {
     "name": "stdout",
     "output_type": "stream",
     "text": [
      "Epoch 41: Loss 0.5350000262260437\n",
      "Val loss: 0.3779999911785126 Thresh: 0.6 F1: 0.732 Recall: 0.683 Precision: 0.788 Error: 0.155\n",
      "Saving model with 0.731758530183727\n",
      "Loss: 0.875 1.5 weighted BCE + 0.125 Image Lovasz\n"
     ]
    },
    {
     "data": {
      "application/vnd.jupyter.widget-view+json": {
       "model_id": "3902e10a7dee498faae72fb623b3724e",
       "version_major": 2,
       "version_minor": 0
      },
      "text/plain": [
       "HBox(children=(IntProgress(value=0, max=158), HTML(value='')))"
      ]
     },
     "metadata": {},
     "output_type": "display_data"
    },
    {
     "name": "stdout",
     "output_type": "stream",
     "text": [
      "Epoch 42: Loss 0.5320000052452087\n",
      "Val loss: 0.3779999911785126 Thresh: 0.6 F1: 0.72 Recall: 0.677 Precision: 0.768 Error: 0.134\n",
      "Saving model with 0.7198897370653096\n",
      "Loss: 0.875 1.5 weighted BCE + 0.125 Image Lovasz\n"
     ]
    },
    {
     "data": {
      "application/vnd.jupyter.widget-view+json": {
       "model_id": "0007d321fca84596891f6d7967097791",
       "version_major": 2,
       "version_minor": 0
      },
      "text/plain": [
       "HBox(children=(IntProgress(value=0, max=158), HTML(value='')))"
      ]
     },
     "metadata": {},
     "output_type": "display_data"
    },
    {
     "name": "stdout",
     "output_type": "stream",
     "text": [
      "Epoch 43: Loss 0.5320000052452087\n",
      "Val loss: 0.367000013589859 Thresh: 0.55 F1: 0.716 Recall: 0.669 Precision: 0.771 Error: 0.152\n",
      "Saving model with 0.716433603196299\n",
      "Loss: 0.875 1.5 weighted BCE + 0.125 Image Lovasz\n"
     ]
    },
    {
     "data": {
      "application/vnd.jupyter.widget-view+json": {
       "model_id": "116e4ef7f8d04a9489ea139c69c2f454",
       "version_major": 2,
       "version_minor": 0
      },
      "text/plain": [
       "HBox(children=(IntProgress(value=0, max=158), HTML(value='')))"
      ]
     },
     "metadata": {},
     "output_type": "display_data"
    },
    {
     "name": "stdout",
     "output_type": "stream",
     "text": [
      "Epoch 44: Loss 0.5320000052452087\n",
      "Val loss: 0.375 Thresh: 0.6 F1: 0.73 Recall: 0.699 Precision: 0.765 Error: 0.095\n",
      "Saving model with 0.7302375809935205\n",
      "Loss: 0.875 1.5 weighted BCE + 0.125 Image Lovasz\n"
     ]
    },
    {
     "data": {
      "application/vnd.jupyter.widget-view+json": {
       "model_id": "042cbac7e26e4750abb6b77562096cf0",
       "version_major": 2,
       "version_minor": 0
      },
      "text/plain": [
       "HBox(children=(IntProgress(value=0, max=158), HTML(value='')))"
      ]
     },
     "metadata": {},
     "output_type": "display_data"
    },
    {
     "name": "stdout",
     "output_type": "stream",
     "text": [
      "Epoch 45: Loss 0.5329999923706055\n",
      "Val loss: 0.3869999945163727 Thresh: 0.6 F1: 0.719 Recall: 0.683 Precision: 0.759 Error: 0.111\n",
      "Saving model with 0.7191854233654877\n",
      "Loss: 0.875 1.5 weighted BCE + 0.125 Image Lovasz\n"
     ]
    },
    {
     "data": {
      "application/vnd.jupyter.widget-view+json": {
       "model_id": "95d5f6c42d6e4089b9f1e96c298c3233",
       "version_major": 2,
       "version_minor": 0
      },
      "text/plain": [
       "HBox(children=(IntProgress(value=0, max=158), HTML(value='')))"
      ]
     },
     "metadata": {},
     "output_type": "display_data"
    },
    {
     "name": "stdout",
     "output_type": "stream",
     "text": [
      "Epoch 46: Loss 0.5329999923706055\n",
      "Val loss: 0.4359999895095825 Thresh: 0.6 F1: 0.657 Recall: 0.575 Precision: 0.767 Error: 0.335\n",
      "Loss: 0.875 1.5 weighted BCE + 0.125 Image Lovasz\n"
     ]
    },
    {
     "data": {
      "application/vnd.jupyter.widget-view+json": {
       "model_id": "ca520726be434675a7de3031d2e979b5",
       "version_major": 2,
       "version_minor": 0
      },
      "text/plain": [
       "HBox(children=(IntProgress(value=0, max=158), HTML(value='')))"
      ]
     },
     "metadata": {},
     "output_type": "display_data"
    },
    {
     "name": "stdout",
     "output_type": "stream",
     "text": [
      "Epoch 47: Loss 0.5320000052452087\n",
      "Val loss: 0.3919999897480011 Thresh: 0.55 F1: 0.707 Recall: 0.653 Precision: 0.771 Error: 0.18\n",
      "Loss: 0.875 1.5 weighted BCE + 0.125 Image Lovasz\n"
     ]
    },
    {
     "data": {
      "application/vnd.jupyter.widget-view+json": {
       "model_id": "78e1bcb7ce9e487bb883afce75b572a4",
       "version_major": 2,
       "version_minor": 0
      },
      "text/plain": [
       "HBox(children=(IntProgress(value=0, max=158), HTML(value='')))"
      ]
     },
     "metadata": {},
     "output_type": "display_data"
    },
    {
     "name": "stdout",
     "output_type": "stream",
     "text": [
      "Epoch 48: Loss 0.531000018119812\n",
      "Val loss: 0.3869999945163727 Thresh: 0.6 F1: 0.73 Recall: 0.692 Precision: 0.772 Error: 0.116\n",
      "Saving model with 0.7295476419634265\n",
      "Loss: 0.875 1.5 weighted BCE + 0.125 Image Lovasz\n"
     ]
    },
    {
     "data": {
      "application/vnd.jupyter.widget-view+json": {
       "model_id": "4b1c6da9497e4af29e77f05ee308e7d6",
       "version_major": 2,
       "version_minor": 0
      },
      "text/plain": [
       "HBox(children=(IntProgress(value=0, max=158), HTML(value='')))"
      ]
     },
     "metadata": {},
     "output_type": "display_data"
    },
    {
     "name": "stdout",
     "output_type": "stream",
     "text": [
      "Epoch 49: Loss 0.531000018119812\n",
      "Val loss: 0.37700000405311584 Thresh: 0.55 F1: 0.714 Recall: 0.668 Precision: 0.766 Error: 0.146\n",
      "Loss: 0.875 1.5 weighted BCE + 0.125 Image Lovasz\n"
     ]
    },
    {
     "data": {
      "application/vnd.jupyter.widget-view+json": {
       "model_id": "4ea06550b0904d04905b8cad15024ff2",
       "version_major": 2,
       "version_minor": 0
      },
      "text/plain": [
       "HBox(children=(IntProgress(value=0, max=158), HTML(value='')))"
      ]
     },
     "metadata": {},
     "output_type": "display_data"
    },
    {
     "name": "stdout",
     "output_type": "stream",
     "text": [
      "Epoch 50: Loss 0.531000018119812\n",
      "Val loss: 0.4490000009536743 Thresh: 0.6 F1: 0.687 Recall: 0.594 Precision: 0.815 Error: 0.372\n",
      "Loss: 0.875 1.5 weighted BCE + 0.125 Image Lovasz\n"
     ]
    },
    {
     "data": {
      "application/vnd.jupyter.widget-view+json": {
       "model_id": "108ec66a6e6447e184c3a0b4dc2f3629",
       "version_major": 2,
       "version_minor": 0
      },
      "text/plain": [
       "HBox(children=(IntProgress(value=0, max=158), HTML(value='')))"
      ]
     },
     "metadata": {},
     "output_type": "display_data"
    },
    {
     "name": "stdout",
     "output_type": "stream",
     "text": [
      "Epoch 51: Loss 0.5299999713897705\n",
      "Val loss: 0.3889999985694885 Thresh: 0.5 F1: 0.702 Recall: 0.628 Precision: 0.795 Error: 0.267\n",
      "Loss: 0.875 1.5 weighted BCE + 0.125 Image Lovasz\n"
     ]
    },
    {
     "data": {
      "application/vnd.jupyter.widget-view+json": {
       "model_id": "0022f5b29ffd4ab0a489a1420fc7058c",
       "version_major": 2,
       "version_minor": 0
      },
      "text/plain": [
       "HBox(children=(IntProgress(value=0, max=158), HTML(value='')))"
      ]
     },
     "metadata": {},
     "output_type": "display_data"
    },
    {
     "name": "stdout",
     "output_type": "stream",
     "text": [
      "Epoch 52: Loss 0.5289999842643738\n",
      "Val loss: 0.3700000047683716 Thresh: 0.55 F1: 0.716 Recall: 0.675 Precision: 0.763 Error: 0.131\n",
      "Loss: 0.875 1.5 weighted BCE + 0.125 Image Lovasz\n"
     ]
    },
    {
     "data": {
      "application/vnd.jupyter.widget-view+json": {
       "model_id": "14217d1591bb47cbac99e7d27f17c6f9",
       "version_major": 2,
       "version_minor": 0
      },
      "text/plain": [
       "HBox(children=(IntProgress(value=0, max=158), HTML(value='')))"
      ]
     },
     "metadata": {},
     "output_type": "display_data"
    },
    {
     "name": "stdout",
     "output_type": "stream",
     "text": [
      "Epoch 53: Loss 0.5289999842643738\n",
      "Val loss: 0.38999998569488525 Thresh: 0.6 F1: 0.708 Recall: 0.666 Precision: 0.755 Error: 0.135\n",
      "Loss: 0.875 1.5 weighted BCE + 0.125 Image Lovasz\n"
     ]
    },
    {
     "data": {
      "application/vnd.jupyter.widget-view+json": {
       "model_id": "46a0aae5a5c7497f9ebf6edfdf7ab6da",
       "version_major": 2,
       "version_minor": 0
      },
      "text/plain": [
       "HBox(children=(IntProgress(value=0, max=158), HTML(value='')))"
      ]
     },
     "metadata": {},
     "output_type": "display_data"
    },
    {
     "name": "stdout",
     "output_type": "stream",
     "text": [
      "Epoch 54: Loss 0.527999997138977\n",
      "Val loss: 0.38999998569488525 Thresh: 0.6 F1: 0.72 Recall: 0.669 Precision: 0.779 Error: 0.166\n",
      "Saving model with 0.719732581218009\n",
      "Loss: 0.875 1.5 weighted BCE + 0.125 Image Lovasz\n"
     ]
    },
    {
     "data": {
      "application/vnd.jupyter.widget-view+json": {
       "model_id": "5b1741a3cc114132b1c263ec534062bf",
       "version_major": 2,
       "version_minor": 0
      },
      "text/plain": [
       "HBox(children=(IntProgress(value=0, max=158), HTML(value='')))"
      ]
     },
     "metadata": {},
     "output_type": "display_data"
    },
    {
     "name": "stdout",
     "output_type": "stream",
     "text": [
      "Epoch 55: Loss 0.5289999842643738\n",
      "Val loss: 0.38100001215934753 Thresh: 0.55 F1: 0.716 Recall: 0.655 Precision: 0.788 Error: 0.202\n",
      "Saving model with 0.7155039556149183\n",
      "Loss: 0.875 1.5 weighted BCE + 0.125 Image Lovasz\n"
     ]
    },
    {
     "data": {
      "application/vnd.jupyter.widget-view+json": {
       "model_id": "3e718c853fed4298af06f823a94b6e40",
       "version_major": 2,
       "version_minor": 0
      },
      "text/plain": [
       "HBox(children=(IntProgress(value=0, max=158), HTML(value='')))"
      ]
     },
     "metadata": {},
     "output_type": "display_data"
    },
    {
     "name": "stdout",
     "output_type": "stream",
     "text": [
      "Epoch 56: Loss 0.5339999794960022\n",
      "Val loss: 0.3790000081062317 Thresh: 0.5 F1: 0.708 Recall: 0.652 Precision: 0.774 Error: 0.188\n",
      "Saving model with 0.707622298065984\n",
      "Loss: 0.875 1.5 weighted BCE + 0.125 Image Lovasz\n"
     ]
    },
    {
     "data": {
      "application/vnd.jupyter.widget-view+json": {
       "model_id": "70b89f71c1c745f28360ab8e53827e1e",
       "version_major": 2,
       "version_minor": 0
      },
      "text/plain": [
       "HBox(children=(IntProgress(value=0, max=158), HTML(value='')))"
      ]
     },
     "metadata": {},
     "output_type": "display_data"
    },
    {
     "name": "stdout",
     "output_type": "stream",
     "text": [
      "Epoch 57: Loss 0.5299999713897705\n",
      "Val loss: 0.40799999237060547 Thresh: 0.6 F1: 0.7 Recall: 0.641 Precision: 0.771 Error: 0.203\n",
      "Saving model with 0.6995994659546061\n",
      "Loss: 0.875 1.5 weighted BCE + 0.125 Image Lovasz\n"
     ]
    },
    {
     "data": {
      "application/vnd.jupyter.widget-view+json": {
       "model_id": "6b1dc52e2e854161a2aa741a69f7ccb4",
       "version_major": 2,
       "version_minor": 0
      },
      "text/plain": [
       "HBox(children=(IntProgress(value=0, max=158), HTML(value='')))"
      ]
     },
     "metadata": {},
     "output_type": "display_data"
    },
    {
     "name": "stdout",
     "output_type": "stream",
     "text": [
      "Epoch 58: Loss 0.527999997138977\n",
      "Val loss: 0.34299999475479126 Thresh: 0.55 F1: 0.732 Recall: 0.721 Precision: 0.744 Error: 0.032\n",
      "Saving model with 0.7324351408529117\n",
      "Loss: 0.875 1.5 weighted BCE + 0.125 Image Lovasz\n"
     ]
    },
    {
     "data": {
      "application/vnd.jupyter.widget-view+json": {
       "model_id": "a63a9a55cafe450098497f8670a6b3f2",
       "version_major": 2,
       "version_minor": 0
      },
      "text/plain": [
       "HBox(children=(IntProgress(value=0, max=158), HTML(value='')))"
      ]
     },
     "metadata": {},
     "output_type": "display_data"
    },
    {
     "name": "stdout",
     "output_type": "stream",
     "text": [
      "Epoch 59: Loss 0.527999997138977\n",
      "Val loss: 0.3869999945163727 Thresh: 0.6 F1: 0.728 Recall: 0.681 Precision: 0.781 Error: 0.146\n",
      "Saving model with 0.7279435016338147\n",
      "Loss: 0.875 1.5 weighted BCE + 0.125 Image Lovasz\n"
     ]
    },
    {
     "data": {
      "application/vnd.jupyter.widget-view+json": {
       "model_id": "2f5e3a911f27427c9f9405e7d25b43fd",
       "version_major": 2,
       "version_minor": 0
      },
      "text/plain": [
       "HBox(children=(IntProgress(value=0, max=158), HTML(value='')))"
      ]
     },
     "metadata": {},
     "output_type": "display_data"
    },
    {
     "name": "stdout",
     "output_type": "stream",
     "text": [
      "Epoch 60: Loss 0.527999997138977\n",
      "Val loss: 0.3799999952316284 Thresh: 0.45 F1: 0.709 Recall: 0.624 Precision: 0.82 Error: 0.315\n",
      "Loss: 0.875 1.5 weighted BCE + 0.125 Image Lovasz\n"
     ]
    },
    {
     "data": {
      "application/vnd.jupyter.widget-view+json": {
       "model_id": "af7b36e58a7c43089c4138b790cad7d5",
       "version_major": 2,
       "version_minor": 0
      },
      "text/plain": [
       "HBox(children=(IntProgress(value=0, max=158), HTML(value='')))"
      ]
     },
     "metadata": {},
     "output_type": "display_data"
    },
    {
     "name": "stdout",
     "output_type": "stream",
     "text": [
      "Epoch 61: Loss 0.5260000228881836\n",
      "Val loss: 0.37700000405311584 Thresh: 0.55 F1: 0.711 Recall: 0.655 Precision: 0.779 Error: 0.19\n",
      "Loss: 0.875 1.5 weighted BCE + 0.125 Image Lovasz\n"
     ]
    },
    {
     "data": {
      "application/vnd.jupyter.widget-view+json": {
       "model_id": "ca1b5e0267954dfe85cae6cb4797cae8",
       "version_major": 2,
       "version_minor": 0
      },
      "text/plain": [
       "HBox(children=(IntProgress(value=0, max=158), HTML(value='')))"
      ]
     },
     "metadata": {},
     "output_type": "display_data"
    },
    {
     "name": "stdout",
     "output_type": "stream",
     "text": [
      "Epoch 62: Loss 0.5270000100135803\n",
      "Val loss: 0.3619999885559082 Thresh: 0.55 F1: 0.707 Recall: 0.69 Precision: 0.725 Error: 0.051\n",
      "Loss: 0.875 1.5 weighted BCE + 0.125 Image Lovasz\n"
     ]
    },
    {
     "data": {
      "application/vnd.jupyter.widget-view+json": {
       "model_id": "a9cf0cdb250b4d2698c82ba83f1acaf1",
       "version_major": 2,
       "version_minor": 0
      },
      "text/plain": [
       "HBox(children=(IntProgress(value=0, max=158), HTML(value='')))"
      ]
     },
     "metadata": {},
     "output_type": "display_data"
    },
    {
     "name": "stdout",
     "output_type": "stream",
     "text": [
      "Epoch 63: Loss 0.5249999761581421\n",
      "Val loss: 0.3779999911785126 Thresh: 0.6 F1: 0.722 Recall: 0.685 Precision: 0.763 Error: 0.114\n",
      "Saving model with 0.7217465753424658\n",
      "Loss: 0.875 1.5 weighted BCE + 0.125 Image Lovasz\n"
     ]
    },
    {
     "data": {
      "application/vnd.jupyter.widget-view+json": {
       "model_id": "cb785f7bdbab474da2f1cc7ccb57b603",
       "version_major": 2,
       "version_minor": 0
      },
      "text/plain": [
       "HBox(children=(IntProgress(value=0, max=158), HTML(value='')))"
      ]
     },
     "metadata": {},
     "output_type": "display_data"
    },
    {
     "name": "stdout",
     "output_type": "stream",
     "text": [
      "Epoch 64: Loss 0.5260000228881836\n",
      "Val loss: 0.3779999911785126 Thresh: 0.6 F1: 0.711 Recall: 0.683 Precision: 0.742 Error: 0.086\n",
      "Saving model with 0.7111255692908263\n",
      "Loss: 0.875 1.5 weighted BCE + 0.125 Image Lovasz\n"
     ]
    },
    {
     "data": {
      "application/vnd.jupyter.widget-view+json": {
       "model_id": "2a7c7936e3e347edacf97978cf67bf3d",
       "version_major": 2,
       "version_minor": 0
      },
      "text/plain": [
       "HBox(children=(IntProgress(value=0, max=158), HTML(value='')))"
      ]
     },
     "metadata": {},
     "output_type": "display_data"
    },
    {
     "name": "stdout",
     "output_type": "stream",
     "text": [
      "Epoch 65: Loss 0.5260000228881836\n",
      "Val loss: 0.3700000047683716 Thresh: 0.55 F1: 0.712 Recall: 0.68 Precision: 0.748 Error: 0.1\n",
      "Saving model with 0.7119922422152786\n",
      "Loss: 0.875 1.5 weighted BCE + 0.125 Image Lovasz\n"
     ]
    },
    {
     "data": {
      "application/vnd.jupyter.widget-view+json": {
       "model_id": "c43d387d9af547969accb64a1f23db0a",
       "version_major": 2,
       "version_minor": 0
      },
      "text/plain": [
       "HBox(children=(IntProgress(value=0, max=158), HTML(value='')))"
      ]
     },
     "metadata": {},
     "output_type": "display_data"
    },
    {
     "name": "stdout",
     "output_type": "stream",
     "text": [
      "Epoch 66: Loss 0.5249999761581421\n",
      "Val loss: 0.37299999594688416 Thresh: 0.55 F1: 0.707 Recall: 0.672 Precision: 0.746 Error: 0.111\n",
      "Saving model with 0.7069667738478028\n",
      "Loss: 0.875 1.5 weighted BCE + 0.125 Image Lovasz\n"
     ]
    },
    {
     "data": {
      "application/vnd.jupyter.widget-view+json": {
       "model_id": "170ae4db832947c685931ca551a5bdeb",
       "version_major": 2,
       "version_minor": 0
      },
      "text/plain": [
       "HBox(children=(IntProgress(value=0, max=158), HTML(value='')))"
      ]
     },
     "metadata": {},
     "output_type": "display_data"
    },
    {
     "name": "stdout",
     "output_type": "stream",
     "text": [
      "Epoch 67: Loss 0.527999997138977\n",
      "Val loss: 0.4009999930858612 Thresh: 0.6 F1: 0.702 Recall: 0.65 Precision: 0.763 Error: 0.175\n",
      "Saving model with 0.7019660875897222\n",
      "Loss: 0.875 1.5 weighted BCE + 0.125 Image Lovasz\n"
     ]
    },
    {
     "data": {
      "application/vnd.jupyter.widget-view+json": {
       "model_id": "13d67d8f43a04a3da69938705dc928aa",
       "version_major": 2,
       "version_minor": 0
      },
      "text/plain": [
       "HBox(children=(IntProgress(value=0, max=158), HTML(value='')))"
      ]
     },
     "metadata": {},
     "output_type": "display_data"
    },
    {
     "name": "stdout",
     "output_type": "stream",
     "text": [
      "Epoch 68: Loss 0.5260000228881836\n",
      "Val loss: 0.4050000011920929 Thresh: 0.6 F1: 0.698 Recall: 0.631 Precision: 0.782 Error: 0.238\n",
      "Saving model with 0.698473668250278\n",
      "Loss: 0.875 1.5 weighted BCE + 0.125 Image Lovasz\n"
     ]
    },
    {
     "data": {
      "application/vnd.jupyter.widget-view+json": {
       "model_id": "abcb77a383a94595a08aef84d1c8e358",
       "version_major": 2,
       "version_minor": 0
      },
      "text/plain": [
       "HBox(children=(IntProgress(value=0, max=158), HTML(value='')))"
      ]
     },
     "metadata": {},
     "output_type": "display_data"
    },
    {
     "name": "stdout",
     "output_type": "stream",
     "text": [
      "Epoch 69: Loss 0.5249999761581421\n",
      "Val loss: 0.39100000262260437 Thresh: 0.6 F1: 0.716 Recall: 0.66 Precision: 0.783 Error: 0.186\n",
      "Saving model with 0.7158526490066226\n",
      "Loss: 0.875 1.5 weighted BCE + 0.125 Image Lovasz\n"
     ]
    },
    {
     "data": {
      "application/vnd.jupyter.widget-view+json": {
       "model_id": "f388ab8bd0ac4ee693f525c4693a0d5b",
       "version_major": 2,
       "version_minor": 0
      },
      "text/plain": [
       "HBox(children=(IntProgress(value=0, max=158), HTML(value='')))"
      ]
     },
     "metadata": {},
     "output_type": "display_data"
    },
    {
     "name": "stdout",
     "output_type": "stream",
     "text": [
      "Epoch 70: Loss 0.5220000147819519\n",
      "Val loss: 0.3499999940395355 Thresh: 0.55 F1: 0.714 Recall: 0.711 Precision: 0.716 Error: 0.007\n",
      "Saving model with 0.7136256057703144\n",
      "Loss: 0.875 1.5 weighted BCE + 0.125 Image Lovasz\n"
     ]
    },
    {
     "data": {
      "application/vnd.jupyter.widget-view+json": {
       "model_id": "6e989332f5f64609a49a96065725337b",
       "version_major": 2,
       "version_minor": 0
      },
      "text/plain": [
       "HBox(children=(IntProgress(value=0, max=158), HTML(value='')))"
      ]
     },
     "metadata": {},
     "output_type": "display_data"
    },
    {
     "name": "stdout",
     "output_type": "stream",
     "text": [
      "Epoch 71: Loss 0.5260000228881836\n",
      "Val loss: 0.3970000147819519 Thresh: 0.6 F1: 0.698 Recall: 0.651 Precision: 0.752 Error: 0.155\n",
      "Loss: 0.875 1.5 weighted BCE + 0.125 Image Lovasz\n"
     ]
    },
    {
     "data": {
      "application/vnd.jupyter.widget-view+json": {
       "model_id": "878b64dfa859448f9658b78e0cdb2de9",
       "version_major": 2,
       "version_minor": 0
      },
      "text/plain": [
       "HBox(children=(IntProgress(value=0, max=158), HTML(value='')))"
      ]
     },
     "metadata": {},
     "output_type": "display_data"
    },
    {
     "name": "stdout",
     "output_type": "stream",
     "text": [
      "Epoch 72: Loss 0.5350000262260437\n",
      "Val loss: 0.36399999260902405 Thresh: 0.6 F1: 0.746 Recall: 0.705 Precision: 0.792 Error: 0.124\n",
      "Saving model with 0.7459252157238734\n",
      "Loss: 0.875 1.5 weighted BCE + 0.125 Image Lovasz\n"
     ]
    },
    {
     "data": {
      "application/vnd.jupyter.widget-view+json": {
       "model_id": "372e2e32b52647d78f093b03f94609a2",
       "version_major": 2,
       "version_minor": 0
      },
      "text/plain": [
       "HBox(children=(IntProgress(value=0, max=158), HTML(value='')))"
      ]
     },
     "metadata": {},
     "output_type": "display_data"
    },
    {
     "name": "stdout",
     "output_type": "stream",
     "text": [
      "Epoch 73: Loss 0.5249999761581421\n",
      "Val loss: 0.36800000071525574 Thresh: 0.6 F1: 0.726 Recall: 0.687 Precision: 0.769 Error: 0.119\n",
      "Loss: 0.875 1.5 weighted BCE + 0.125 Image Lovasz\n"
     ]
    },
    {
     "data": {
      "application/vnd.jupyter.widget-view+json": {
       "model_id": "0be55e001a90471faf35ca5fa7327500",
       "version_major": 2,
       "version_minor": 0
      },
      "text/plain": [
       "HBox(children=(IntProgress(value=0, max=158), HTML(value='')))"
      ]
     },
     "metadata": {},
     "output_type": "display_data"
    },
    {
     "name": "stdout",
     "output_type": "stream",
     "text": [
      "Epoch 74: Loss 0.5230000019073486\n",
      "Val loss: 0.4050000011920929 Thresh: 0.6 F1: 0.71 Recall: 0.642 Precision: 0.794 Error: 0.237\n",
      "Loss: 0.875 1.5 weighted BCE + 0.125 Image Lovasz\n"
     ]
    },
    {
     "data": {
      "application/vnd.jupyter.widget-view+json": {
       "model_id": "834b42e591a7420c9d1e9db00511b758",
       "version_major": 2,
       "version_minor": 0
      },
      "text/plain": [
       "HBox(children=(IntProgress(value=0, max=158), HTML(value='')))"
      ]
     },
     "metadata": {},
     "output_type": "display_data"
    },
    {
     "name": "stdout",
     "output_type": "stream",
     "text": [
      "Epoch 75: Loss 0.5220000147819519\n",
      "Val loss: 0.3610000014305115 Thresh: 0.6 F1: 0.729 Recall: 0.715 Precision: 0.744 Error: 0.041\n",
      "Loss: 0.875 1.5 weighted BCE + 0.125 Image Lovasz\n"
     ]
    },
    {
     "data": {
      "application/vnd.jupyter.widget-view+json": {
       "model_id": "f55563dda7aa4a1f95927a7b7e775d88",
       "version_major": 2,
       "version_minor": 0
      },
      "text/plain": [
       "HBox(children=(IntProgress(value=0, max=158), HTML(value='')))"
      ]
     },
     "metadata": {},
     "output_type": "display_data"
    },
    {
     "name": "stdout",
     "output_type": "stream",
     "text": [
      "Epoch 76: Loss 0.5220000147819519\n",
      "Val loss: 0.3610000014305115 Thresh: 0.6 F1: 0.726 Recall: 0.718 Precision: 0.735 Error: 0.024\n",
      "Loss: 0.875 1.5 weighted BCE + 0.125 Image Lovasz\n"
     ]
    },
    {
     "data": {
      "application/vnd.jupyter.widget-view+json": {
       "model_id": "f252b494e56f4263b11ee950d8970824",
       "version_major": 2,
       "version_minor": 0
      },
      "text/plain": [
       "HBox(children=(IntProgress(value=0, max=158), HTML(value='')))"
      ]
     },
     "metadata": {},
     "output_type": "display_data"
    },
    {
     "name": "stdout",
     "output_type": "stream",
     "text": [
      "Epoch 77: Loss 0.5220000147819519\n",
      "Val loss: 0.3700000047683716 Thresh: 0.6 F1: 0.734 Recall: 0.701 Precision: 0.769 Error: 0.097\n",
      "Loss: 0.875 1.5 weighted BCE + 0.125 Image Lovasz\n"
     ]
    },
    {
     "data": {
      "application/vnd.jupyter.widget-view+json": {
       "model_id": "80b288f33f1b4ab182113d9162881796",
       "version_major": 2,
       "version_minor": 0
      },
      "text/plain": [
       "HBox(children=(IntProgress(value=0, max=158), HTML(value='')))"
      ]
     },
     "metadata": {},
     "output_type": "display_data"
    },
    {
     "name": "stdout",
     "output_type": "stream",
     "text": [
      "Epoch 78: Loss 0.5210000276565552\n",
      "Val loss: 0.35100001096725464 Thresh: 0.6 F1: 0.73 Recall: 0.74 Precision: 0.721 Error: 0.026\n",
      "Loss: 0.875 1.5 weighted BCE + 0.125 Image Lovasz\n"
     ]
    },
    {
     "data": {
      "application/vnd.jupyter.widget-view+json": {
       "model_id": "47a70456bb474a418c2bc3c3480af7dc",
       "version_major": 2,
       "version_minor": 0
      },
      "text/plain": [
       "HBox(children=(IntProgress(value=0, max=158), HTML(value='')))"
      ]
     },
     "metadata": {},
     "output_type": "display_data"
    },
    {
     "name": "stdout",
     "output_type": "stream",
     "text": [
      "Epoch 79: Loss 0.5210000276565552\n",
      "Val loss: 0.367000013589859 Thresh: 0.6 F1: 0.725 Recall: 0.704 Precision: 0.748 Error: 0.063\n",
      "Loss: 0.875 1.5 weighted BCE + 0.125 Image Lovasz\n"
     ]
    },
    {
     "data": {
      "application/vnd.jupyter.widget-view+json": {
       "model_id": "ba74a273f2b147f6a7289538d75599c7",
       "version_major": 2,
       "version_minor": 0
      },
      "text/plain": [
       "HBox(children=(IntProgress(value=0, max=158), HTML(value='')))"
      ]
     },
     "metadata": {},
     "output_type": "display_data"
    },
    {
     "name": "stdout",
     "output_type": "stream",
     "text": [
      "Epoch 80: Loss 0.5210000276565552\n",
      "Val loss: 0.4059999883174896 Thresh: 0.6 F1: 0.715 Recall: 0.651 Precision: 0.793 Error: 0.219\n",
      "Loss: 0.875 1.5 weighted BCE + 0.125 Image Lovasz\n"
     ]
    },
    {
     "data": {
      "application/vnd.jupyter.widget-view+json": {
       "model_id": "a41ee31a722a48fda3d5efd621d3b693",
       "version_major": 2,
       "version_minor": 0
      },
      "text/plain": [
       "HBox(children=(IntProgress(value=0, max=158), HTML(value='')))"
      ]
     },
     "metadata": {},
     "output_type": "display_data"
    },
    {
     "name": "stdout",
     "output_type": "stream",
     "text": [
      "Epoch 81: Loss 0.5210000276565552\n",
      "Val loss: 0.37599998712539673 Thresh: 0.6 F1: 0.719 Recall: 0.682 Precision: 0.76 Error: 0.114\n",
      "Loss: 0.875 1.5 weighted BCE + 0.125 Image Lovasz\n"
     ]
    },
    {
     "data": {
      "application/vnd.jupyter.widget-view+json": {
       "model_id": "9d57c2727c61473b8790c131106dadbd",
       "version_major": 2,
       "version_minor": 0
      },
      "text/plain": [
       "HBox(children=(IntProgress(value=0, max=158), HTML(value='')))"
      ]
     },
     "metadata": {},
     "output_type": "display_data"
    },
    {
     "name": "stdout",
     "output_type": "stream",
     "text": [
      "Epoch 82: Loss 0.5230000019073486\n",
      "Val loss: 0.36899998784065247 Thresh: 0.6 F1: 0.717 Recall: 0.701 Precision: 0.734 Error: 0.047\n",
      "Loss: 0.875 1.5 weighted BCE + 0.125 Image Lovasz\n"
     ]
    },
    {
     "data": {
      "application/vnd.jupyter.widget-view+json": {
       "model_id": "5d26abb6fcaf4c429b6bf6e42936f4af",
       "version_major": 2,
       "version_minor": 0
      },
      "text/plain": [
       "HBox(children=(IntProgress(value=0, max=158), HTML(value='')))"
      ]
     },
     "metadata": {},
     "output_type": "display_data"
    },
    {
     "name": "stdout",
     "output_type": "stream",
     "text": [
      "Epoch 83: Loss 0.5220000147819519\n",
      "Val loss: 0.36800000071525574 Thresh: 0.55 F1: 0.72 Recall: 0.692 Precision: 0.751 Error: 0.085\n",
      "Loss: 0.875 1.5 weighted BCE + 0.125 Image Lovasz\n"
     ]
    },
    {
     "data": {
      "application/vnd.jupyter.widget-view+json": {
       "model_id": "79964186554a4594917d2c5665096112",
       "version_major": 2,
       "version_minor": 0
      },
      "text/plain": [
       "HBox(children=(IntProgress(value=0, max=158), HTML(value='')))"
      ]
     },
     "metadata": {},
     "output_type": "display_data"
    },
    {
     "name": "stdout",
     "output_type": "stream",
     "text": [
      "Epoch 84: Loss 0.5210000276565552\n",
      "Val loss: 0.36899998784065247 Thresh: 0.6 F1: 0.723 Recall: 0.702 Precision: 0.744 Error: 0.059\n",
      "Loss: 0.875 1.5 weighted BCE + 0.125 Image Lovasz\n"
     ]
    },
    {
     "data": {
      "application/vnd.jupyter.widget-view+json": {
       "model_id": "de32692d7f874ab49752be98712a8be0",
       "version_major": 2,
       "version_minor": 0
      },
      "text/plain": [
       "HBox(children=(IntProgress(value=0, max=158), HTML(value='')))"
      ]
     },
     "metadata": {},
     "output_type": "display_data"
    },
    {
     "name": "stdout",
     "output_type": "stream",
     "text": [
      "Epoch 85: Loss 0.5199999809265137\n",
      "Val loss: 0.3540000021457672 Thresh: 0.6 F1: 0.728 Recall: 0.736 Precision: 0.721 Error: 0.02\n",
      "Loss: 0.875 1.5 weighted BCE + 0.125 Image Lovasz\n"
     ]
    },
    {
     "data": {
      "application/vnd.jupyter.widget-view+json": {
       "model_id": "c543a651e1f44368b20b747c55830708",
       "version_major": 2,
       "version_minor": 0
      },
      "text/plain": [
       "HBox(children=(IntProgress(value=0, max=158), HTML(value='')))"
      ]
     },
     "metadata": {},
     "output_type": "display_data"
    },
    {
     "name": "stdout",
     "output_type": "stream",
     "text": [
      "Epoch 86: Loss 0.5220000147819519\n",
      "Val loss: 0.3779999911785126 Thresh: 0.6 F1: 0.719 Recall: 0.699 Precision: 0.74 Error: 0.059\n",
      "Loss: 0.875 1.5 weighted BCE + 0.125 Image Lovasz\n"
     ]
    },
    {
     "data": {
      "application/vnd.jupyter.widget-view+json": {
       "model_id": "363c156d2d4146b280648446378d22e5",
       "version_major": 2,
       "version_minor": 0
      },
      "text/plain": [
       "HBox(children=(IntProgress(value=0, max=158), HTML(value='')))"
      ]
     },
     "metadata": {},
     "output_type": "display_data"
    },
    {
     "name": "stdout",
     "output_type": "stream",
     "text": [
      "Epoch 87: Loss 0.5220000147819519\n",
      "Val loss: 0.3709999918937683 Thresh: 0.6 F1: 0.723 Recall: 0.695 Precision: 0.753 Error: 0.083\n",
      "Loss: 0.875 1.5 weighted BCE + 0.125 Image Lovasz\n"
     ]
    },
    {
     "data": {
      "application/vnd.jupyter.widget-view+json": {
       "model_id": "fc7f1e17677647c8bd5145999b00f318",
       "version_major": 2,
       "version_minor": 0
      },
      "text/plain": [
       "HBox(children=(IntProgress(value=0, max=158), HTML(value='')))"
      ]
     },
     "metadata": {},
     "output_type": "display_data"
    },
    {
     "name": "stdout",
     "output_type": "stream",
     "text": [
      "Epoch 88: Loss 0.5210000276565552\n",
      "Val loss: 0.35199999809265137 Thresh: 0.6 F1: 0.712 Recall: 0.73 Precision: 0.694 Error: 0.049\n",
      "Loss: 0.875 1.5 weighted BCE + 0.125 Image Lovasz\n"
     ]
    },
    {
     "data": {
      "application/vnd.jupyter.widget-view+json": {
       "model_id": "6dbffd8d451240019ed99f46b19c4fcf",
       "version_major": 2,
       "version_minor": 0
      },
      "text/plain": [
       "HBox(children=(IntProgress(value=0, max=158), HTML(value='')))"
      ]
     },
     "metadata": {},
     "output_type": "display_data"
    },
    {
     "name": "stdout",
     "output_type": "stream",
     "text": [
      "Epoch 89: Loss 0.5189999938011169\n",
      "Val loss: 0.38499999046325684 Thresh: 0.6 F1: 0.708 Recall: 0.659 Precision: 0.765 Error: 0.16\n",
      "Loss: 0.875 1.5 weighted BCE + 0.125 Image Lovasz\n"
     ]
    },
    {
     "data": {
      "application/vnd.jupyter.widget-view+json": {
       "model_id": "90ed6abb3f3f4befa87537c354b9aa8e",
       "version_major": 2,
       "version_minor": 0
      },
      "text/plain": [
       "HBox(children=(IntProgress(value=0, max=158), HTML(value='')))"
      ]
     },
     "metadata": {},
     "output_type": "display_data"
    },
    {
     "name": "stdout",
     "output_type": "stream",
     "text": [
      "Epoch 90: Loss 0.5210000276565552\n",
      "Val loss: 0.34700000286102295 Thresh: 0.5 F1: 0.733 Recall: 0.704 Precision: 0.765 Error: 0.086\n",
      "Loss: 0.875 1.5 weighted BCE + 0.125 Image Lovasz\n"
     ]
    },
    {
     "data": {
      "application/vnd.jupyter.widget-view+json": {
       "model_id": "b33e26b5283d4af8bf86aa9df4c57561",
       "version_major": 2,
       "version_minor": 0
      },
      "text/plain": [
       "HBox(children=(IntProgress(value=0, max=158), HTML(value='')))"
      ]
     },
     "metadata": {},
     "output_type": "display_data"
    },
    {
     "name": "stdout",
     "output_type": "stream",
     "text": [
      "Epoch 91: Loss 0.5180000066757202\n",
      "Val loss: 0.4000000059604645 Thresh: 0.6 F1: 0.704 Recall: 0.645 Precision: 0.774 Error: 0.201\n",
      "Loss: 0.875 1.5 weighted BCE + 0.125 Image Lovasz\n"
     ]
    },
    {
     "data": {
      "application/vnd.jupyter.widget-view+json": {
       "model_id": "808b28cb85274281a75f55240ea0d663",
       "version_major": 2,
       "version_minor": 0
      },
      "text/plain": [
       "HBox(children=(IntProgress(value=0, max=158), HTML(value='')))"
      ]
     },
     "metadata": {},
     "output_type": "display_data"
    },
    {
     "name": "stdout",
     "output_type": "stream",
     "text": [
      "Epoch 92: Loss 0.5189999938011169\n",
      "Val loss: 0.3720000088214874 Thresh: 0.6 F1: 0.708 Recall: 0.681 Precision: 0.736 Error: 0.08\n",
      "Loss: 0.875 1.5 weighted BCE + 0.125 Image Lovasz\n"
     ]
    },
    {
     "data": {
      "application/vnd.jupyter.widget-view+json": {
       "model_id": "e03b6fdc3c954dbfbc3265dfcc5c94dd",
       "version_major": 2,
       "version_minor": 0
      },
      "text/plain": [
       "HBox(children=(IntProgress(value=0, max=158), HTML(value='')))"
      ]
     },
     "metadata": {},
     "output_type": "display_data"
    },
    {
     "name": "stdout",
     "output_type": "stream",
     "text": [
      "Epoch 93: Loss 0.5199999809265137\n",
      "Val loss: 0.367000013589859 Thresh: 0.55 F1: 0.715 Recall: 0.669 Precision: 0.767 Error: 0.145\n",
      "Loss: 0.875 1.5 weighted BCE + 0.125 Image Lovasz\n"
     ]
    },
    {
     "data": {
      "application/vnd.jupyter.widget-view+json": {
       "model_id": "d95fad8d8eda4f5686bd3d1e5e634f11",
       "version_major": 2,
       "version_minor": 0
      },
      "text/plain": [
       "HBox(children=(IntProgress(value=0, max=158), HTML(value='')))"
      ]
     },
     "metadata": {},
     "output_type": "display_data"
    },
    {
     "name": "stdout",
     "output_type": "stream",
     "text": [
      "Epoch 94: Loss 0.5170000195503235\n",
      "Val loss: 0.36000001430511475 Thresh: 0.6 F1: 0.725 Recall: 0.704 Precision: 0.747 Error: 0.061\n",
      "Loss: 0.875 1.5 weighted BCE + 0.125 Image Lovasz\n"
     ]
    },
    {
     "data": {
      "application/vnd.jupyter.widget-view+json": {
       "model_id": "4146aa6d37984cf88d4c7e6b3ebbeced",
       "version_major": 2,
       "version_minor": 0
      },
      "text/plain": [
       "HBox(children=(IntProgress(value=0, max=158), HTML(value='')))"
      ]
     },
     "metadata": {},
     "output_type": "display_data"
    },
    {
     "name": "stdout",
     "output_type": "stream",
     "text": [
      "Epoch 95: Loss 0.5180000066757202\n",
      "Val loss: 0.3659999966621399 Thresh: 0.6 F1: 0.731 Recall: 0.707 Precision: 0.757 Error: 0.071\n",
      "Loss: 0.875 1.5 weighted BCE + 0.125 Image Lovasz\n"
     ]
    },
    {
     "data": {
      "application/vnd.jupyter.widget-view+json": {
       "model_id": "23b9df090fcf4f89935cac59a13c3f2a",
       "version_major": 2,
       "version_minor": 0
      },
      "text/plain": [
       "HBox(children=(IntProgress(value=0, max=158), HTML(value='')))"
      ]
     },
     "metadata": {},
     "output_type": "display_data"
    },
    {
     "name": "stdout",
     "output_type": "stream",
     "text": [
      "Epoch 96: Loss 0.5199999809265137\n",
      "Val loss: 0.36500000953674316 Thresh: 0.5 F1: 0.694 Recall: 0.632 Precision: 0.77 Error: 0.219\n",
      "Loss: 0.875 1.5 weighted BCE + 0.125 Image Lovasz\n"
     ]
    },
    {
     "data": {
      "application/vnd.jupyter.widget-view+json": {
       "model_id": "8c6bfc613a8940c7a34bb2df2623d1d4",
       "version_major": 2,
       "version_minor": 0
      },
      "text/plain": [
       "HBox(children=(IntProgress(value=0, max=158), HTML(value='')))"
      ]
     },
     "metadata": {},
     "output_type": "display_data"
    },
    {
     "name": "stdout",
     "output_type": "stream",
     "text": [
      "Epoch 97: Loss 0.5320000052452087\n",
      "Val loss: 0.3490000069141388 Thresh: 0.6 F1: 0.731 Recall: 0.736 Precision: 0.726 Error: 0.014\n",
      "Loss: 0.875 1.5 weighted BCE + 0.125 Image Lovasz\n"
     ]
    },
    {
     "data": {
      "application/vnd.jupyter.widget-view+json": {
       "model_id": "921740e7d6d6481ab1596ca4dc30c5b5",
       "version_major": 2,
       "version_minor": 0
      },
      "text/plain": [
       "HBox(children=(IntProgress(value=0, max=158), HTML(value='')))"
      ]
     },
     "metadata": {},
     "output_type": "display_data"
    },
    {
     "name": "stdout",
     "output_type": "stream",
     "text": [
      "Epoch 98: Loss 0.5199999809265137\n",
      "Val loss: 0.36000001430511475 Thresh: 0.6 F1: 0.73 Recall: 0.704 Precision: 0.758 Error: 0.078\n",
      "Loss: 0.875 1.5 weighted BCE + 0.125 Image Lovasz\n"
     ]
    },
    {
     "data": {
      "application/vnd.jupyter.widget-view+json": {
       "model_id": "188ada68a05345beb2d7607a45b5b4fd",
       "version_major": 2,
       "version_minor": 0
      },
      "text/plain": [
       "HBox(children=(IntProgress(value=0, max=158), HTML(value='')))"
      ]
     },
     "metadata": {},
     "output_type": "display_data"
    },
    {
     "name": "stdout",
     "output_type": "stream",
     "text": [
      "Epoch 99: Loss 0.5210000276565552\n",
      "Val loss: 0.35100001096725464 Thresh: 0.6 F1: 0.733 Recall: 0.729 Precision: 0.738 Error: 0.013\n",
      "Loss: 0.875 1.5 weighted BCE + 0.125 Image Lovasz\n"
     ]
    },
    {
     "data": {
      "application/vnd.jupyter.widget-view+json": {
       "model_id": "c6acc80b07f149d0bedfc05108ab3cfd",
       "version_major": 2,
       "version_minor": 0
      },
      "text/plain": [
       "HBox(children=(IntProgress(value=0, max=158), HTML(value='')))"
      ]
     },
     "metadata": {},
     "output_type": "display_data"
    },
    {
     "name": "stdout",
     "output_type": "stream",
     "text": [
      "Epoch 100: Loss 0.5180000066757202\n",
      "Val loss: 0.3529999852180481 Thresh: 0.6 F1: 0.723 Recall: 0.726 Precision: 0.719 Error: 0.009\n",
      "Loss: 0.875 1.5 weighted BCE + 0.125 Image Lovasz\n"
     ]
    },
    {
     "data": {
      "application/vnd.jupyter.widget-view+json": {
       "model_id": "d7aac2263f6b4b91a9704a317986e6d4",
       "version_major": 2,
       "version_minor": 0
      },
      "text/plain": [
       "HBox(children=(IntProgress(value=0, max=158), HTML(value='')))"
      ]
     },
     "metadata": {},
     "output_type": "display_data"
    },
    {
     "name": "stdout",
     "output_type": "stream",
     "text": [
      "Epoch 101: Loss 0.515999972820282\n",
      "Val loss: 0.35899999737739563 Thresh: 0.6 F1: 0.723 Recall: 0.719 Precision: 0.727 Error: 0.011\n",
      "Loss: 0.875 1.5 weighted BCE + 0.125 Image Lovasz\n"
     ]
    },
    {
     "data": {
      "application/vnd.jupyter.widget-view+json": {
       "model_id": "0a2c3144ceae437fa5994a5ce94c68a4",
       "version_major": 2,
       "version_minor": 0
      },
      "text/plain": [
       "HBox(children=(IntProgress(value=0, max=158), HTML(value='')))"
      ]
     },
     "metadata": {},
     "output_type": "display_data"
    },
    {
     "name": "stdout",
     "output_type": "stream",
     "text": [
      "Epoch 102: Loss 0.5170000195503235\n",
      "Val loss: 0.38199999928474426 Thresh: 0.6 F1: 0.712 Recall: 0.661 Precision: 0.771 Error: 0.166\n",
      "Loss: 0.875 1.5 weighted BCE + 0.125 Image Lovasz\n"
     ]
    },
    {
     "data": {
      "application/vnd.jupyter.widget-view+json": {
       "model_id": "09d97479bfe54c48b598b741cd8fffec",
       "version_major": 2,
       "version_minor": 0
      },
      "text/plain": [
       "HBox(children=(IntProgress(value=0, max=158), HTML(value='')))"
      ]
     },
     "metadata": {},
     "output_type": "display_data"
    },
    {
     "name": "stdout",
     "output_type": "stream",
     "text": [
      "Epoch 103: Loss 0.5189999938011169\n",
      "Val loss: 0.375 Thresh: 0.6 F1: 0.707 Recall: 0.691 Precision: 0.723 Error: 0.045\n",
      "Loss: 0.875 1.5 weighted BCE + 0.125 Image Lovasz\n"
     ]
    },
    {
     "data": {
      "application/vnd.jupyter.widget-view+json": {
       "model_id": "941657efd2bc40d99b71fcb8ea47566e",
       "version_major": 2,
       "version_minor": 0
      },
      "text/plain": [
       "HBox(children=(IntProgress(value=0, max=158), HTML(value='')))"
      ]
     },
     "metadata": {},
     "output_type": "display_data"
    },
    {
     "name": "stdout",
     "output_type": "stream",
     "text": [
      "Epoch 104: Loss 0.5180000066757202\n",
      "Val loss: 0.36500000953674316 Thresh: 0.6 F1: 0.714 Recall: 0.701 Precision: 0.728 Error: 0.038\n",
      "Loss: 0.875 1.5 weighted BCE + 0.125 Image Lovasz\n"
     ]
    },
    {
     "data": {
      "application/vnd.jupyter.widget-view+json": {
       "model_id": "030e78fd38074b6090912f9ad326cdd4",
       "version_major": 2,
       "version_minor": 0
      },
      "text/plain": [
       "HBox(children=(IntProgress(value=0, max=158), HTML(value='')))"
      ]
     },
     "metadata": {},
     "output_type": "display_data"
    },
    {
     "name": "stdout",
     "output_type": "stream",
     "text": [
      "Epoch 105: Loss 0.5170000195503235\n",
      "Val loss: 0.36800000071525574 Thresh: 0.6 F1: 0.716 Recall: 0.693 Precision: 0.74 Error: 0.069\n",
      "Loss: 0.875 1.5 weighted BCE + 0.125 Image Lovasz\n"
     ]
    },
    {
     "data": {
      "application/vnd.jupyter.widget-view+json": {
       "model_id": "3ee7af7b650b4f6a9e6cf685c5581ede",
       "version_major": 2,
       "version_minor": 0
      },
      "text/plain": [
       "HBox(children=(IntProgress(value=0, max=158), HTML(value='')))"
      ]
     },
     "metadata": {},
     "output_type": "display_data"
    },
    {
     "name": "stdout",
     "output_type": "stream",
     "text": [
      "Epoch 106: Loss 0.515999972820282\n",
      "Val loss: 0.3659999966621399 Thresh: 0.6 F1: 0.719 Recall: 0.703 Precision: 0.736 Error: 0.048\n",
      "Loss: 0.875 1.5 weighted BCE + 0.125 Image Lovasz\n"
     ]
    },
    {
     "data": {
      "application/vnd.jupyter.widget-view+json": {
       "model_id": "cd99575c15ba4b43ad7230f50c25e790",
       "version_major": 2,
       "version_minor": 0
      },
      "text/plain": [
       "HBox(children=(IntProgress(value=0, max=158), HTML(value='')))"
      ]
     },
     "metadata": {},
     "output_type": "display_data"
    },
    {
     "name": "stdout",
     "output_type": "stream",
     "text": [
      "Epoch 107: Loss 0.5149999856948853\n",
      "Val loss: 0.3869999945163727 Thresh: 0.6 F1: 0.716 Recall: 0.67 Precision: 0.769 Error: 0.148\n",
      "Loss: 0.875 1.5 weighted BCE + 0.125 Image Lovasz\n"
     ]
    },
    {
     "data": {
      "application/vnd.jupyter.widget-view+json": {
       "model_id": "c371eda4a0a940aaa6fad3ca9d83e9fa",
       "version_major": 2,
       "version_minor": 0
      },
      "text/plain": [
       "HBox(children=(IntProgress(value=0, max=158), HTML(value='')))"
      ]
     },
     "metadata": {},
     "output_type": "display_data"
    },
    {
     "name": "stdout",
     "output_type": "stream",
     "text": [
      "Epoch 108: Loss 0.5149999856948853\n",
      "Val loss: 0.3659999966621399 Thresh: 0.6 F1: 0.719 Recall: 0.688 Precision: 0.753 Error: 0.094\n",
      "Loss: 0.875 1.5 weighted BCE + 0.125 Image Lovasz\n"
     ]
    },
    {
     "data": {
      "application/vnd.jupyter.widget-view+json": {
       "model_id": "6082d05b5c8545a98174c6abad554cc3",
       "version_major": 2,
       "version_minor": 0
      },
      "text/plain": [
       "HBox(children=(IntProgress(value=0, max=158), HTML(value='')))"
      ]
     },
     "metadata": {},
     "output_type": "display_data"
    },
    {
     "name": "stdout",
     "output_type": "stream",
     "text": [
      "Epoch 109: Loss 0.5149999856948853\n",
      "Val loss: 0.3610000014305115 Thresh: 0.55 F1: 0.708 Recall: 0.683 Precision: 0.736 Error: 0.078\n",
      "Loss: 0.875 1.5 weighted BCE + 0.125 Image Lovasz\n"
     ]
    },
    {
     "data": {
      "application/vnd.jupyter.widget-view+json": {
       "model_id": "6e12c319abc145ff8b21e262dee03fdb",
       "version_major": 2,
       "version_minor": 0
      },
      "text/plain": [
       "HBox(children=(IntProgress(value=0, max=158), HTML(value='')))"
      ]
     },
     "metadata": {},
     "output_type": "display_data"
    },
    {
     "name": "stdout",
     "output_type": "stream",
     "text": [
      "Epoch 110: Loss 0.5149999856948853\n",
      "Val loss: 0.3529999852180481 Thresh: 0.55 F1: 0.723 Recall: 0.707 Precision: 0.739 Error: 0.046\n",
      "Loss: 0.875 1.5 weighted BCE + 0.125 Image Lovasz\n"
     ]
    },
    {
     "data": {
      "application/vnd.jupyter.widget-view+json": {
       "model_id": "62312e3d275d42dcb6a4e40a8bad69e8",
       "version_major": 2,
       "version_minor": 0
      },
      "text/plain": [
       "HBox(children=(IntProgress(value=0, max=158), HTML(value='')))"
      ]
     },
     "metadata": {},
     "output_type": "display_data"
    },
    {
     "name": "stdout",
     "output_type": "stream",
     "text": [
      "Epoch 111: Loss 0.5149999856948853\n",
      "Val loss: 0.3630000054836273 Thresh: 0.6 F1: 0.722 Recall: 0.709 Precision: 0.735 Error: 0.036\n",
      "Loss: 0.875 1.5 weighted BCE + 0.125 Image Lovasz\n"
     ]
    },
    {
     "data": {
      "application/vnd.jupyter.widget-view+json": {
       "model_id": "33dd35a4a8c5492d96622417f9cd85c3",
       "version_major": 2,
       "version_minor": 0
      },
      "text/plain": [
       "HBox(children=(IntProgress(value=0, max=158), HTML(value='')))"
      ]
     },
     "metadata": {},
     "output_type": "display_data"
    },
    {
     "name": "stdout",
     "output_type": "stream",
     "text": [
      "Epoch 112: Loss 0.5149999856948853\n",
      "Val loss: 0.35899999737739563 Thresh: 0.55 F1: 0.714 Recall: 0.687 Precision: 0.743 Error: 0.081\n",
      "Loss: 0.875 1.5 weighted BCE + 0.125 Image Lovasz\n"
     ]
    },
    {
     "data": {
      "application/vnd.jupyter.widget-view+json": {
       "model_id": "8c8dffd05a484040bb5a8d3b4e5f90e0",
       "version_major": 2,
       "version_minor": 0
      },
      "text/plain": [
       "HBox(children=(IntProgress(value=0, max=158), HTML(value='')))"
      ]
     },
     "metadata": {},
     "output_type": "display_data"
    },
    {
     "name": "stdout",
     "output_type": "stream",
     "text": [
      "Epoch 113: Loss 0.5170000195503235\n",
      "Val loss: 0.39899998903274536 Thresh: 0.6 F1: 0.701 Recall: 0.638 Precision: 0.779 Error: 0.221\n",
      "Loss: 0.875 1.5 weighted BCE + 0.125 Image Lovasz\n"
     ]
    },
    {
     "data": {
      "application/vnd.jupyter.widget-view+json": {
       "model_id": "0dcf8921c9d348f0baa364d263962bd2",
       "version_major": 2,
       "version_minor": 0
      },
      "text/plain": [
       "HBox(children=(IntProgress(value=0, max=158), HTML(value='')))"
      ]
     },
     "metadata": {},
     "output_type": "display_data"
    },
    {
     "name": "stdout",
     "output_type": "stream",
     "text": [
      "Epoch 114: Loss 0.5180000066757202\n",
      "Val loss: 0.3659999966621399 Thresh: 0.55 F1: 0.706 Recall: 0.694 Precision: 0.718 Error: 0.035\n",
      "Loss: 0.875 1.5 weighted BCE + 0.125 Image Lovasz\n"
     ]
    },
    {
     "data": {
      "application/vnd.jupyter.widget-view+json": {
       "model_id": "c539d33b5c3946fa8b96d2b4e015a07c",
       "version_major": 2,
       "version_minor": 0
      },
      "text/plain": [
       "HBox(children=(IntProgress(value=0, max=158), HTML(value='')))"
      ]
     },
     "metadata": {},
     "output_type": "display_data"
    },
    {
     "name": "stdout",
     "output_type": "stream",
     "text": [
      "Epoch 115: Loss 0.5210000276565552\n",
      "Val loss: 0.3619999885559082 Thresh: 0.6 F1: 0.72 Recall: 0.699 Precision: 0.741 Error: 0.06\n",
      "Loss: 0.875 1.5 weighted BCE + 0.125 Image Lovasz\n"
     ]
    },
    {
     "data": {
      "application/vnd.jupyter.widget-view+json": {
       "model_id": "0e67c82f667f42c8b719e1f6af23897c",
       "version_major": 2,
       "version_minor": 0
      },
      "text/plain": [
       "HBox(children=(IntProgress(value=0, max=158), HTML(value='')))"
      ]
     },
     "metadata": {},
     "output_type": "display_data"
    },
    {
     "name": "stdout",
     "output_type": "stream",
     "text": [
      "Epoch 116: Loss 0.5149999856948853\n",
      "Val loss: 0.36000001430511475 Thresh: 0.6 F1: 0.729 Recall: 0.708 Precision: 0.752 Error: 0.061\n",
      "Loss: 0.875 1.5 weighted BCE + 0.125 Image Lovasz\n"
     ]
    },
    {
     "data": {
      "application/vnd.jupyter.widget-view+json": {
       "model_id": "f6789643089b44ceb4b3f0572229a08b",
       "version_major": 2,
       "version_minor": 0
      },
      "text/plain": [
       "HBox(children=(IntProgress(value=0, max=158), HTML(value='')))"
      ]
     },
     "metadata": {},
     "output_type": "display_data"
    },
    {
     "name": "stdout",
     "output_type": "stream",
     "text": [
      "Epoch 117: Loss 0.5139999985694885\n",
      "Val loss: 0.3400000035762787 Thresh: 0.6 F1: 0.725 Recall: 0.751 Precision: 0.701 Error: 0.066\n",
      "Loss: 0.875 1.5 weighted BCE + 0.125 Image Lovasz\n"
     ]
    },
    {
     "data": {
      "application/vnd.jupyter.widget-view+json": {
       "model_id": "5876af2e5db64a17ab48fea91686510a",
       "version_major": 2,
       "version_minor": 0
      },
      "text/plain": [
       "HBox(children=(IntProgress(value=0, max=158), HTML(value='')))"
      ]
     },
     "metadata": {},
     "output_type": "display_data"
    },
    {
     "name": "stdout",
     "output_type": "stream",
     "text": [
      "Epoch 118: Loss 0.5149999856948853\n",
      "Val loss: 0.3709999918937683 Thresh: 0.6 F1: 0.728 Recall: 0.695 Precision: 0.765 Error: 0.101\n",
      "Loss: 0.875 1.5 weighted BCE + 0.125 Image Lovasz\n"
     ]
    },
    {
     "data": {
      "application/vnd.jupyter.widget-view+json": {
       "model_id": "3c9cd1568254412baa725442ef039025",
       "version_major": 2,
       "version_minor": 0
      },
      "text/plain": [
       "HBox(children=(IntProgress(value=0, max=158), HTML(value='')))"
      ]
     },
     "metadata": {},
     "output_type": "display_data"
    },
    {
     "name": "stdout",
     "output_type": "stream",
     "text": [
      "Epoch 119: Loss 0.5139999985694885\n",
      "Val loss: 0.3569999933242798 Thresh: 0.6 F1: 0.716 Recall: 0.716 Precision: 0.716 Error: 0.001\n",
      "Loss: 0.875 1.5 weighted BCE + 0.125 Image Lovasz\n"
     ]
    },
    {
     "data": {
      "application/vnd.jupyter.widget-view+json": {
       "model_id": "c5f4b2aba39a4aae85ec3926eff640bf",
       "version_major": 2,
       "version_minor": 0
      },
      "text/plain": [
       "HBox(children=(IntProgress(value=0, max=158), HTML(value='')))"
      ]
     },
     "metadata": {},
     "output_type": "display_data"
    },
    {
     "name": "stdout",
     "output_type": "stream",
     "text": [
      "Epoch 120: Loss 0.5139999985694885\n",
      "Val loss: 0.3610000014305115 Thresh: 0.55 F1: 0.716 Recall: 0.692 Precision: 0.743 Error: 0.074\n",
      "Loss: 0.875 1.5 weighted BCE + 0.125 Image Lovasz\n"
     ]
    },
    {
     "data": {
      "application/vnd.jupyter.widget-view+json": {
       "model_id": "3f2486c584ee4b7fab68bef44ad1a1c0",
       "version_major": 2,
       "version_minor": 0
      },
      "text/plain": [
       "HBox(children=(IntProgress(value=0, max=158), HTML(value='')))"
      ]
     },
     "metadata": {},
     "output_type": "display_data"
    },
    {
     "name": "stdout",
     "output_type": "stream",
     "text": [
      "Epoch 121: Loss 0.5139999985694885\n",
      "Val loss: 0.367000013589859 Thresh: 0.6 F1: 0.713 Recall: 0.693 Precision: 0.734 Error: 0.059\n",
      "Loss: 0.875 1.5 weighted BCE + 0.125 Image Lovasz\n"
     ]
    },
    {
     "data": {
      "application/vnd.jupyter.widget-view+json": {
       "model_id": "4ad47a79a0be43b4991fdf0b6f8e60a8",
       "version_major": 2,
       "version_minor": 0
      },
      "text/plain": [
       "HBox(children=(IntProgress(value=0, max=158), HTML(value='')))"
      ]
     },
     "metadata": {},
     "output_type": "display_data"
    },
    {
     "name": "stdout",
     "output_type": "stream",
     "text": [
      "Epoch 122: Loss 0.5170000195503235\n",
      "Val loss: 0.367000013589859 Thresh: 0.6 F1: 0.727 Recall: 0.69 Precision: 0.769 Error: 0.116\n",
      "Loss: 0.875 1.5 weighted BCE + 0.125 Image Lovasz\n"
     ]
    },
    {
     "data": {
      "application/vnd.jupyter.widget-view+json": {
       "model_id": "6219f8cfef9b46359629a0511fc94d49",
       "version_major": 2,
       "version_minor": 0
      },
      "text/plain": [
       "HBox(children=(IntProgress(value=0, max=158), HTML(value='')))"
      ]
     },
     "metadata": {},
     "output_type": "display_data"
    },
    {
     "name": "stdout",
     "output_type": "stream",
     "text": [
      "Epoch 123: Loss 0.5139999985694885\n",
      "Val loss: 0.38600000739097595 Thresh: 0.6 F1: 0.697 Recall: 0.651 Precision: 0.749 Error: 0.15\n",
      "Loss: 0.875 1.5 weighted BCE + 0.125 Image Lovasz\n"
     ]
    },
    {
     "data": {
      "application/vnd.jupyter.widget-view+json": {
       "model_id": "a190de5d6a994c809e576c85c22cac13",
       "version_major": 2,
       "version_minor": 0
      },
      "text/plain": [
       "HBox(children=(IntProgress(value=0, max=158), HTML(value='')))"
      ]
     },
     "metadata": {},
     "output_type": "display_data"
    },
    {
     "name": "stdout",
     "output_type": "stream",
     "text": [
      "Epoch 124: Loss 0.5149999856948853\n",
      "Val loss: 0.3529999852180481 Thresh: 0.6 F1: 0.727 Recall: 0.724 Precision: 0.731 Error: 0.01\n",
      "Loss: 0.875 1.5 weighted BCE + 0.125 Image Lovasz\n"
     ]
    },
    {
     "data": {
      "application/vnd.jupyter.widget-view+json": {
       "model_id": "636a49a72ea845158299986f3b29e07a",
       "version_major": 2,
       "version_minor": 0
      },
      "text/plain": [
       "HBox(children=(IntProgress(value=0, max=158), HTML(value='')))"
      ]
     },
     "metadata": {},
     "output_type": "display_data"
    },
    {
     "name": "stdout",
     "output_type": "stream",
     "text": [
      "Epoch 125: Loss 0.5130000114440918\n",
      "Val loss: 0.3610000014305115 Thresh: 0.5 F1: 0.704 Recall: 0.654 Precision: 0.763 Error: 0.166\n",
      "Loss: 0.875 1.5 weighted BCE + 0.125 Image Lovasz\n"
     ]
    },
    {
     "data": {
      "application/vnd.jupyter.widget-view+json": {
       "model_id": "54a69822648a463bbed355681bea24a5",
       "version_major": 2,
       "version_minor": 0
      },
      "text/plain": [
       "HBox(children=(IntProgress(value=0, max=158), HTML(value='')))"
      ]
     },
     "metadata": {},
     "output_type": "display_data"
    },
    {
     "name": "stdout",
     "output_type": "stream",
     "text": [
      "Epoch 126: Loss 0.5130000114440918\n",
      "Val loss: 0.35199999809265137 Thresh: 0.55 F1: 0.718 Recall: 0.712 Precision: 0.723 Error: 0.015\n",
      "Loss: 0.875 1.5 weighted BCE + 0.125 Image Lovasz\n"
     ]
    },
    {
     "data": {
      "application/vnd.jupyter.widget-view+json": {
       "model_id": "2b7ab641a07542908dd167d92df46c66",
       "version_major": 2,
       "version_minor": 0
      },
      "text/plain": [
       "HBox(children=(IntProgress(value=0, max=158), HTML(value='')))"
      ]
     },
     "metadata": {},
     "output_type": "display_data"
    },
    {
     "name": "stdout",
     "output_type": "stream",
     "text": [
      "Epoch 127: Loss 0.515999972820282\n",
      "Val loss: 0.3619999885559082 Thresh: 0.55 F1: 0.719 Recall: 0.691 Precision: 0.75 Error: 0.085\n",
      "Loss: 0.875 1.5 weighted BCE + 0.125 Image Lovasz\n"
     ]
    },
    {
     "data": {
      "application/vnd.jupyter.widget-view+json": {
       "model_id": "41a27af0ffc04a79a7726371f89505a1",
       "version_major": 2,
       "version_minor": 0
      },
      "text/plain": [
       "HBox(children=(IntProgress(value=0, max=158), HTML(value='')))"
      ]
     },
     "metadata": {},
     "output_type": "display_data"
    },
    {
     "name": "stdout",
     "output_type": "stream",
     "text": [
      "Epoch 128: Loss 0.5130000114440918\n",
      "Val loss: 0.34299999475479126 Thresh: 0.55 F1: 0.736 Recall: 0.718 Precision: 0.755 Error: 0.051\n",
      "Saving model with 0.7362382790954219\n",
      "Loss: 0.875 1.5 weighted BCE + 0.125 Image Lovasz\n"
     ]
    },
    {
     "data": {
      "application/vnd.jupyter.widget-view+json": {
       "model_id": "20cb6a6c1d7a463b97f965a378485c26",
       "version_major": 2,
       "version_minor": 0
      },
      "text/plain": [
       "HBox(children=(IntProgress(value=0, max=158), HTML(value='')))"
      ]
     },
     "metadata": {},
     "output_type": "display_data"
    },
    {
     "name": "stdout",
     "output_type": "stream",
     "text": [
      "Epoch 129: Loss 0.5130000114440918\n",
      "Val loss: 0.3709999918937683 Thresh: 0.6 F1: 0.711 Recall: 0.682 Precision: 0.742 Error: 0.087\n",
      "Loss: 0.875 1.5 weighted BCE + 0.125 Image Lovasz\n"
     ]
    },
    {
     "data": {
      "application/vnd.jupyter.widget-view+json": {
       "model_id": "3ded34368b1b40c5b20aef324b4e47c5",
       "version_major": 2,
       "version_minor": 0
      },
      "text/plain": [
       "HBox(children=(IntProgress(value=0, max=158), HTML(value='')))"
      ]
     },
     "metadata": {},
     "output_type": "display_data"
    },
    {
     "name": "stdout",
     "output_type": "stream",
     "text": [
      "Epoch 130: Loss 0.5130000114440918\n",
      "Val loss: 0.367000013589859 Thresh: 0.6 F1: 0.704 Recall: 0.684 Precision: 0.724 Error: 0.057\n",
      "Loss: 0.875 1.5 weighted BCE + 0.125 Image Lovasz\n"
     ]
    },
    {
     "data": {
      "application/vnd.jupyter.widget-view+json": {
       "model_id": "bca6573aebbf466181c3c0824eb3e02c",
       "version_major": 2,
       "version_minor": 0
      },
      "text/plain": [
       "HBox(children=(IntProgress(value=0, max=158), HTML(value='')))"
      ]
     },
     "metadata": {},
     "output_type": "display_data"
    },
    {
     "name": "stdout",
     "output_type": "stream",
     "text": [
      "Epoch 131: Loss 0.5130000114440918\n",
      "Val loss: 0.36399999260902405 Thresh: 0.55 F1: 0.703 Recall: 0.669 Precision: 0.741 Error: 0.107\n",
      "Loss: 0.875 1.5 weighted BCE + 0.125 Image Lovasz\n"
     ]
    },
    {
     "data": {
      "application/vnd.jupyter.widget-view+json": {
       "model_id": "44479a197a6d4901bb23cfc92b9d06a5",
       "version_major": 2,
       "version_minor": 0
      },
      "text/plain": [
       "HBox(children=(IntProgress(value=0, max=158), HTML(value='')))"
      ]
     },
     "metadata": {},
     "output_type": "display_data"
    },
    {
     "name": "stdout",
     "output_type": "stream",
     "text": [
      "Epoch 132: Loss 0.5120000243186951\n",
      "Val loss: 0.36500000953674316 Thresh: 0.6 F1: 0.725 Recall: 0.697 Precision: 0.757 Error: 0.086\n",
      "Saving model with 0.7253009434985359\n",
      "Loss: 0.875 1.5 weighted BCE + 0.125 Image Lovasz\n"
     ]
    },
    {
     "data": {
      "application/vnd.jupyter.widget-view+json": {
       "model_id": "14113130432f44ed860d51248c22da80",
       "version_major": 2,
       "version_minor": 0
      },
      "text/plain": [
       "HBox(children=(IntProgress(value=0, max=158), HTML(value='')))"
      ]
     },
     "metadata": {},
     "output_type": "display_data"
    },
    {
     "name": "stdout",
     "output_type": "stream",
     "text": [
      "Epoch 133: Loss 0.5120000243186951\n",
      "Val loss: 0.36500000953674316 Thresh: 0.6 F1: 0.719 Recall: 0.693 Precision: 0.747 Error: 0.078\n",
      "Saving model with 0.7189371665033214\n",
      "Loss: 0.875 1.5 weighted BCE + 0.125 Image Lovasz\n"
     ]
    },
    {
     "data": {
      "application/vnd.jupyter.widget-view+json": {
       "model_id": "54613f6de697487caee1acc569a21261",
       "version_major": 2,
       "version_minor": 0
      },
      "text/plain": [
       "HBox(children=(IntProgress(value=0, max=158), HTML(value='')))"
      ]
     },
     "metadata": {},
     "output_type": "display_data"
    },
    {
     "name": "stdout",
     "output_type": "stream",
     "text": [
      "Epoch 134: Loss 0.5130000114440918\n",
      "Val loss: 0.3619999885559082 Thresh: 0.6 F1: 0.72 Recall: 0.708 Precision: 0.732 Error: 0.034\n",
      "Saving model with 0.7200533867200534\n",
      "Loss: 0.875 1.5 weighted BCE + 0.125 Image Lovasz\n"
     ]
    },
    {
     "data": {
      "application/vnd.jupyter.widget-view+json": {
       "model_id": "9d3b040b7f544f029d2a2e652567fc9f",
       "version_major": 2,
       "version_minor": 0
      },
      "text/plain": [
       "HBox(children=(IntProgress(value=0, max=158), HTML(value='')))"
      ]
     },
     "metadata": {},
     "output_type": "display_data"
    },
    {
     "name": "stdout",
     "output_type": "stream",
     "text": [
      "Epoch 135: Loss 0.5139999985694885\n",
      "Val loss: 0.36000001430511475 Thresh: 0.55 F1: 0.718 Recall: 0.686 Precision: 0.752 Error: 0.096\n",
      "Saving model with 0.7176940516031522\n",
      "Loss: 0.875 1.5 weighted BCE + 0.125 Image Lovasz\n"
     ]
    },
    {
     "data": {
      "application/vnd.jupyter.widget-view+json": {
       "model_id": "a61ac18e2a4c4bca94a93d35336305f8",
       "version_major": 2,
       "version_minor": 0
      },
      "text/plain": [
       "HBox(children=(IntProgress(value=0, max=158), HTML(value='')))"
      ]
     },
     "metadata": {},
     "output_type": "display_data"
    },
    {
     "name": "stdout",
     "output_type": "stream",
     "text": [
      "Epoch 136: Loss 0.5120000243186951\n",
      "Val loss: 0.35100001096725464 Thresh: 0.6 F1: 0.724 Recall: 0.718 Precision: 0.731 Error: 0.017\n",
      "Saving model with 0.7244588987327576\n",
      "Loss: 0.875 1.5 weighted BCE + 0.125 Image Lovasz\n"
     ]
    },
    {
     "data": {
      "application/vnd.jupyter.widget-view+json": {
       "model_id": "e72270cc1d0c4eaf8ef8219c209dabfc",
       "version_major": 2,
       "version_minor": 0
      },
      "text/plain": [
       "HBox(children=(IntProgress(value=0, max=158), HTML(value='')))"
      ]
     },
     "metadata": {},
     "output_type": "display_data"
    },
    {
     "name": "stdout",
     "output_type": "stream",
     "text": [
      "Epoch 137: Loss 0.5130000114440918\n",
      "Val loss: 0.3580000102519989 Thresh: 0.55 F1: 0.714 Recall: 0.675 Precision: 0.757 Error: 0.121\n",
      "Saving model with 0.7135388882961698\n",
      "Loss: 0.875 1.5 weighted BCE + 0.125 Image Lovasz\n"
     ]
    },
    {
     "data": {
      "application/vnd.jupyter.widget-view+json": {
       "model_id": "fe91232e6a364532b57e86ab0bf093cf",
       "version_major": 2,
       "version_minor": 0
      },
      "text/plain": [
       "HBox(children=(IntProgress(value=0, max=158), HTML(value='')))"
      ]
     },
     "metadata": {},
     "output_type": "display_data"
    },
    {
     "name": "stdout",
     "output_type": "stream",
     "text": [
      "Epoch 138: Loss 0.5109999775886536\n",
      "Val loss: 0.3700000047683716 Thresh: 0.6 F1: 0.706 Recall: 0.686 Precision: 0.727 Error: 0.06\n",
      "Saving model with 0.7056110684089162\n",
      "Loss: 0.875 1.5 weighted BCE + 0.125 Image Lovasz\n"
     ]
    },
    {
     "data": {
      "application/vnd.jupyter.widget-view+json": {
       "model_id": "46a3f47368dd4e59b500c7fec9a4b399",
       "version_major": 2,
       "version_minor": 0
      },
      "text/plain": [
       "HBox(children=(IntProgress(value=0, max=158), HTML(value='')))"
      ]
     },
     "metadata": {},
     "output_type": "display_data"
    },
    {
     "name": "stdout",
     "output_type": "stream",
     "text": [
      "Epoch 139: Loss 0.5130000114440918\n",
      "Val loss: 0.3619999885559082 Thresh: 0.6 F1: 0.716 Recall: 0.711 Precision: 0.721 Error: 0.014\n",
      "Saving model with 0.7160188721635588\n",
      "Loss: 0.875 1.5 weighted BCE + 0.125 Image Lovasz\n"
     ]
    },
    {
     "data": {
      "application/vnd.jupyter.widget-view+json": {
       "model_id": "81dd3173b3ce46e4b9f8f82e7751e5b8",
       "version_major": 2,
       "version_minor": 0
      },
      "text/plain": [
       "HBox(children=(IntProgress(value=0, max=158), HTML(value='')))"
      ]
     },
     "metadata": {},
     "output_type": "display_data"
    },
    {
     "name": "stdout",
     "output_type": "stream",
     "text": [
      "Epoch 140: Loss 0.5109999775886536\n",
      "Val loss: 0.35600000619888306 Thresh: 0.6 F1: 0.728 Recall: 0.722 Precision: 0.735 Error: 0.018\n",
      "Saving model with 0.7281901771697691\n",
      "Loss: 0.875 1.5 weighted BCE + 0.125 Image Lovasz\n"
     ]
    },
    {
     "data": {
      "application/vnd.jupyter.widget-view+json": {
       "model_id": "e4259073b0564852b493d35933f52de6",
       "version_major": 2,
       "version_minor": 0
      },
      "text/plain": [
       "HBox(children=(IntProgress(value=0, max=158), HTML(value='')))"
      ]
     },
     "metadata": {},
     "output_type": "display_data"
    },
    {
     "name": "stdout",
     "output_type": "stream",
     "text": [
      "Epoch 141: Loss 0.5120000243186951\n",
      "Val loss: 0.36899998784065247 Thresh: 0.6 F1: 0.71 Recall: 0.683 Precision: 0.739 Error: 0.081\n",
      "Loss: 0.875 1.5 weighted BCE + 0.125 Image Lovasz\n"
     ]
    },
    {
     "data": {
      "application/vnd.jupyter.widget-view+json": {
       "model_id": "85114f6472524261b2e4e504914eff6b",
       "version_major": 2,
       "version_minor": 0
      },
      "text/plain": [
       "HBox(children=(IntProgress(value=0, max=158), HTML(value='')))"
      ]
     },
     "metadata": {},
     "output_type": "display_data"
    },
    {
     "name": "stdout",
     "output_type": "stream",
     "text": [
      "Epoch 142: Loss 0.5109999775886536\n",
      "Val loss: 0.36399999260902405 Thresh: 0.6 F1: 0.714 Recall: 0.697 Precision: 0.733 Error: 0.053\n",
      "Loss: 0.875 1.5 weighted BCE + 0.125 Image Lovasz\n"
     ]
    },
    {
     "data": {
      "application/vnd.jupyter.widget-view+json": {
       "model_id": "24713381b35f405dab5427857e7b0c74",
       "version_major": 2,
       "version_minor": 0
      },
      "text/plain": [
       "HBox(children=(IntProgress(value=0, max=158), HTML(value='')))"
      ]
     },
     "metadata": {},
     "output_type": "display_data"
    },
    {
     "name": "stdout",
     "output_type": "stream",
     "text": [
      "Epoch 143: Loss 0.5109999775886536\n",
      "Val loss: 0.3490000069141388 Thresh: 0.55 F1: 0.731 Recall: 0.704 Precision: 0.762 Error: 0.083\n",
      "Saving model with 0.7314794699109276\n",
      "Loss: 0.875 1.5 weighted BCE + 0.125 Image Lovasz\n"
     ]
    },
    {
     "data": {
      "application/vnd.jupyter.widget-view+json": {
       "model_id": "115c487186b0471c9e22844dee74a849",
       "version_major": 2,
       "version_minor": 0
      },
      "text/plain": [
       "HBox(children=(IntProgress(value=0, max=158), HTML(value='')))"
      ]
     },
     "metadata": {},
     "output_type": "display_data"
    },
    {
     "name": "stdout",
     "output_type": "stream",
     "text": [
      "Epoch 144: Loss 0.5109999775886536\n",
      "Val loss: 0.3659999966621399 Thresh: 0.6 F1: 0.718 Recall: 0.695 Precision: 0.743 Error: 0.069\n",
      "Loss: 0.875 1.5 weighted BCE + 0.125 Image Lovasz\n"
     ]
    },
    {
     "data": {
      "application/vnd.jupyter.widget-view+json": {
       "model_id": "b0e28d1fdcb24e5b88909d566b74777e",
       "version_major": 2,
       "version_minor": 0
      },
      "text/plain": [
       "HBox(children=(IntProgress(value=0, max=158), HTML(value='')))"
      ]
     },
     "metadata": {},
     "output_type": "display_data"
    },
    {
     "name": "stdout",
     "output_type": "stream",
     "text": [
      "Epoch 145: Loss 0.5099999904632568\n",
      "Val loss: 0.35499998927116394 Thresh: 0.55 F1: 0.729 Recall: 0.698 Precision: 0.762 Error: 0.091\n",
      "Saving model with 0.728846570006492\n",
      "Loss: 0.875 1.5 weighted BCE + 0.125 Image Lovasz\n"
     ]
    },
    {
     "data": {
      "application/vnd.jupyter.widget-view+json": {
       "model_id": "1f0c978b8ea44cf991f2edfdd84f670b",
       "version_major": 2,
       "version_minor": 0
      },
      "text/plain": [
       "HBox(children=(IntProgress(value=0, max=158), HTML(value='')))"
      ]
     },
     "metadata": {},
     "output_type": "display_data"
    },
    {
     "name": "stdout",
     "output_type": "stream",
     "text": [
      "Epoch 146: Loss 0.5099999904632568\n",
      "Val loss: 0.36500000953674316 Thresh: 0.6 F1: 0.713 Recall: 0.709 Precision: 0.717 Error: 0.011\n",
      "Loss: 0.875 1.5 weighted BCE + 0.125 Image Lovasz\n"
     ]
    },
    {
     "data": {
      "application/vnd.jupyter.widget-view+json": {
       "model_id": "ec8d0f9c6e3a416aa7531b8ea1cec237",
       "version_major": 2,
       "version_minor": 0
      },
      "text/plain": [
       "HBox(children=(IntProgress(value=0, max=158), HTML(value='')))"
      ]
     },
     "metadata": {},
     "output_type": "display_data"
    },
    {
     "name": "stdout",
     "output_type": "stream",
     "text": [
      "Epoch 147: Loss 0.5099999904632568\n",
      "Val loss: 0.35600000619888306 Thresh: 0.6 F1: 0.722 Recall: 0.731 Precision: 0.714 Error: 0.023\n",
      "Saving model with 0.7224447750944261\n",
      "Loss: 0.875 1.5 weighted BCE + 0.125 Image Lovasz\n"
     ]
    },
    {
     "data": {
      "application/vnd.jupyter.widget-view+json": {
       "model_id": "8efe9377be8e494facdc15b6c7e15e61",
       "version_major": 2,
       "version_minor": 0
      },
      "text/plain": [
       "HBox(children=(IntProgress(value=0, max=158), HTML(value='')))"
      ]
     },
     "metadata": {},
     "output_type": "display_data"
    },
    {
     "name": "stdout",
     "output_type": "stream",
     "text": [
      "Epoch 148: Loss 0.5099999904632568\n",
      "Val loss: 0.3700000047683716 Thresh: 0.55 F1: 0.713 Recall: 0.657 Precision: 0.779 Error: 0.184\n",
      "Saving model with 0.7129984464008287\n",
      "Loss: 0.875 1.5 weighted BCE + 0.125 Image Lovasz\n"
     ]
    },
    {
     "data": {
      "application/vnd.jupyter.widget-view+json": {
       "model_id": "da797a460894472f8276fbec652b7f87",
       "version_major": 2,
       "version_minor": 0
      },
      "text/plain": [
       "HBox(children=(IntProgress(value=0, max=158), HTML(value='')))"
      ]
     },
     "metadata": {},
     "output_type": "display_data"
    },
    {
     "name": "stdout",
     "output_type": "stream",
     "text": [
      "Epoch 149: Loss 0.5099999904632568\n",
      "Val loss: 0.3630000054836273 Thresh: 0.6 F1: 0.721 Recall: 0.715 Precision: 0.726 Error: 0.014\n",
      "Saving model with 0.7205750224618149\n",
      "Loss: 0.875 1.5 weighted BCE + 0.125 Image Lovasz\n"
     ]
    },
    {
     "data": {
      "application/vnd.jupyter.widget-view+json": {
       "model_id": "de8422e30393455d861e423fb0e37e59",
       "version_major": 2,
       "version_minor": 0
      },
      "text/plain": [
       "HBox(children=(IntProgress(value=0, max=158), HTML(value='')))"
      ]
     },
     "metadata": {},
     "output_type": "display_data"
    },
    {
     "name": "stdout",
     "output_type": "stream",
     "text": [
      "Epoch 150: Loss 0.5099999904632568\n",
      "Val loss: 0.35199999809265137 Thresh: 0.6 F1: 0.726 Recall: 0.727 Precision: 0.725 Error: 0.003\n",
      "Saving model with 0.726407613005551\n",
      "Loss: 0.875 1.5 weighted BCE + 0.125 Image Lovasz\n"
     ]
    },
    {
     "data": {
      "application/vnd.jupyter.widget-view+json": {
       "model_id": "d58b33aa2f344df3a91e1699a877e9c5",
       "version_major": 2,
       "version_minor": 0
      },
      "text/plain": [
       "HBox(children=(IntProgress(value=0, max=158), HTML(value='')))"
      ]
     },
     "metadata": {},
     "output_type": "display_data"
    },
    {
     "name": "stdout",
     "output_type": "stream",
     "text": [
      "Epoch 151: Loss 0.5099999904632568\n",
      "Val loss: 0.3659999966621399 Thresh: 0.6 F1: 0.727 Recall: 0.707 Precision: 0.748 Error: 0.058\n",
      "Saving model with 0.7266131691766516\n",
      "Loss: 0.875 1.5 weighted BCE + 0.125 Image Lovasz\n"
     ]
    },
    {
     "data": {
      "application/vnd.jupyter.widget-view+json": {
       "model_id": "be101b7bbaa5428389ec73a673161012",
       "version_major": 2,
       "version_minor": 0
      },
      "text/plain": [
       "HBox(children=(IntProgress(value=0, max=158), HTML(value='')))"
      ]
     },
     "metadata": {},
     "output_type": "display_data"
    },
    {
     "name": "stdout",
     "output_type": "stream",
     "text": [
      "Epoch 152: Loss 0.5099999904632568\n",
      "Val loss: 0.35899999737739563 Thresh: 0.45 F1: 0.694 Recall: 0.634 Precision: 0.765 Error: 0.206\n",
      "Loss: 0.875 1.5 weighted BCE + 0.125 Image Lovasz\n"
     ]
    },
    {
     "data": {
      "application/vnd.jupyter.widget-view+json": {
       "model_id": "78ad4c26053a4d8d925ed071c3116beb",
       "version_major": 2,
       "version_minor": 0
      },
      "text/plain": [
       "HBox(children=(IntProgress(value=0, max=158), HTML(value='')))"
      ]
     },
     "metadata": {},
     "output_type": "display_data"
    },
    {
     "name": "stdout",
     "output_type": "stream",
     "text": [
      "Epoch 153: Loss 0.5120000243186951\n",
      "Val loss: 0.35499998927116394 Thresh: 0.6 F1: 0.728 Recall: 0.718 Precision: 0.739 Error: 0.029\n",
      "Saving model with 0.7282863195450998\n",
      "Loss: 0.875 1.5 weighted BCE + 0.125 Image Lovasz\n"
     ]
    },
    {
     "data": {
      "application/vnd.jupyter.widget-view+json": {
       "model_id": "164a04b75af2400a9999d15055dddf8f",
       "version_major": 2,
       "version_minor": 0
      },
      "text/plain": [
       "HBox(children=(IntProgress(value=0, max=158), HTML(value='')))"
      ]
     },
     "metadata": {},
     "output_type": "display_data"
    },
    {
     "name": "stdout",
     "output_type": "stream",
     "text": [
      "Epoch 154: Loss 0.5099999904632568\n",
      "Val loss: 0.3569999933242798 Thresh: 0.55 F1: 0.714 Recall: 0.689 Precision: 0.74 Error: 0.075\n",
      "Loss: 0.875 1.5 weighted BCE + 0.125 Image Lovasz\n"
     ]
    },
    {
     "data": {
      "application/vnd.jupyter.widget-view+json": {
       "model_id": "fc7ac70858504e7683d2108180f3920a",
       "version_major": 2,
       "version_minor": 0
      },
      "text/plain": [
       "HBox(children=(IntProgress(value=0, max=158), HTML(value='')))"
      ]
     },
     "metadata": {},
     "output_type": "display_data"
    },
    {
     "name": "stdout",
     "output_type": "stream",
     "text": [
      "Epoch 155: Loss 0.5109999775886536\n",
      "Val loss: 0.3569999933242798 Thresh: 0.6 F1: 0.725 Recall: 0.726 Precision: 0.724 Error: 0.004\n",
      "Saving model with 0.7248413417951043\n",
      "Loss: 0.875 1.5 weighted BCE + 0.125 Image Lovasz\n"
     ]
    },
    {
     "data": {
      "application/vnd.jupyter.widget-view+json": {
       "model_id": "224e4b46c3d342e69fc9d2ef77481391",
       "version_major": 2,
       "version_minor": 0
      },
      "text/plain": [
       "HBox(children=(IntProgress(value=0, max=158), HTML(value='')))"
      ]
     },
     "metadata": {},
     "output_type": "display_data"
    },
    {
     "name": "stdout",
     "output_type": "stream",
     "text": [
      "Epoch 156: Loss 0.5090000033378601\n",
      "Val loss: 0.37299999594688416 Thresh: 0.55 F1: 0.7 Recall: 0.649 Precision: 0.76 Error: 0.17\n",
      "Loss: 0.875 1.5 weighted BCE + 0.125 Image Lovasz\n"
     ]
    },
    {
     "data": {
      "application/vnd.jupyter.widget-view+json": {
       "model_id": "83cd99b5560244b29bbc455f7f56cfc3",
       "version_major": 2,
       "version_minor": 0
      },
      "text/plain": [
       "HBox(children=(IntProgress(value=0, max=158), HTML(value='')))"
      ]
     },
     "metadata": {},
     "output_type": "display_data"
    },
    {
     "name": "stdout",
     "output_type": "stream",
     "text": [
      "Epoch 157: Loss 0.5090000033378601\n",
      "Val loss: 0.37599998712539673 Thresh: 0.6 F1: 0.72 Recall: 0.676 Precision: 0.771 Error: 0.14\n",
      "Saving model with 0.7202198499101575\n",
      "Loss: 0.875 1.5 weighted BCE + 0.125 Image Lovasz\n"
     ]
    },
    {
     "data": {
      "application/vnd.jupyter.widget-view+json": {
       "model_id": "13ac929674624e048da4ff66a6beafc6",
       "version_major": 2,
       "version_minor": 0
      },
      "text/plain": [
       "HBox(children=(IntProgress(value=0, max=158), HTML(value='')))"
      ]
     },
     "metadata": {},
     "output_type": "display_data"
    },
    {
     "name": "stdout",
     "output_type": "stream",
     "text": [
      "Epoch 158: Loss 0.5099999904632568\n",
      "Val loss: 0.3610000014305115 Thresh: 0.55 F1: 0.714 Recall: 0.676 Precision: 0.758 Error: 0.121\n",
      "Saving model with 0.7144533333333333\n",
      "Loss: 0.875 1.5 weighted BCE + 0.125 Image Lovasz\n"
     ]
    },
    {
     "data": {
      "application/vnd.jupyter.widget-view+json": {
       "model_id": "84ba148164a846de868abda553ca8a0c",
       "version_major": 2,
       "version_minor": 0
      },
      "text/plain": [
       "HBox(children=(IntProgress(value=0, max=158), HTML(value='')))"
      ]
     },
     "metadata": {},
     "output_type": "display_data"
    },
    {
     "name": "stdout",
     "output_type": "stream",
     "text": [
      "Epoch 159: Loss 0.5099999904632568\n",
      "Val loss: 0.3700000047683716 Thresh: 0.6 F1: 0.716 Recall: 0.689 Precision: 0.745 Error: 0.081\n",
      "Saving model with 0.7159473855853897\n",
      "Loss: 0.875 1.5 weighted BCE + 0.125 Image Lovasz\n"
     ]
    },
    {
     "data": {
      "application/vnd.jupyter.widget-view+json": {
       "model_id": "f009454ca0be4661b715772d0499ae67",
       "version_major": 2,
       "version_minor": 0
      },
      "text/plain": [
       "HBox(children=(IntProgress(value=0, max=158), HTML(value='')))"
      ]
     },
     "metadata": {},
     "output_type": "display_data"
    },
    {
     "name": "stdout",
     "output_type": "stream",
     "text": [
      "Epoch 160: Loss 0.5139999985694885\n",
      "Val loss: 0.3700000047683716 Thresh: 0.6 F1: 0.718 Recall: 0.689 Precision: 0.749 Error: 0.086\n",
      "Saving model with 0.7178486228583821\n",
      "Loss: 0.875 1.5 weighted BCE + 0.125 Image Lovasz\n"
     ]
    },
    {
     "data": {
      "application/vnd.jupyter.widget-view+json": {
       "model_id": "2dcdc03350a040b2babe930599302cef",
       "version_major": 2,
       "version_minor": 0
      },
      "text/plain": [
       "HBox(children=(IntProgress(value=0, max=158), HTML(value='')))"
      ]
     },
     "metadata": {},
     "output_type": "display_data"
    },
    {
     "name": "stdout",
     "output_type": "stream",
     "text": [
      "Epoch 161: Loss 0.5090000033378601\n",
      "Val loss: 0.38199999928474426 Thresh: 0.6 F1: 0.71 Recall: 0.666 Precision: 0.762 Error: 0.145\n",
      "Saving model with 0.7104124907690684\n",
      "Loss: 0.875 1.5 weighted BCE + 0.125 Image Lovasz\n"
     ]
    },
    {
     "data": {
      "application/vnd.jupyter.widget-view+json": {
       "model_id": "1a128dcbc8c44bb5adda646c1e275d7e",
       "version_major": 2,
       "version_minor": 0
      },
      "text/plain": [
       "HBox(children=(IntProgress(value=0, max=158), HTML(value='')))"
      ]
     },
     "metadata": {},
     "output_type": "display_data"
    },
    {
     "name": "stdout",
     "output_type": "stream",
     "text": [
      "Epoch 162: Loss 0.5090000033378601\n",
      "Val loss: 0.3700000047683716 Thresh: 0.6 F1: 0.719 Recall: 0.683 Precision: 0.759 Error: 0.112\n",
      "Saving model with 0.7188772230554961\n",
      "Loss: 0.875 1.5 weighted BCE + 0.125 Image Lovasz\n"
     ]
    },
    {
     "data": {
      "application/vnd.jupyter.widget-view+json": {
       "model_id": "0f0cb4f36b5d4a2594595881e5d86743",
       "version_major": 2,
       "version_minor": 0
      },
      "text/plain": [
       "HBox(children=(IntProgress(value=0, max=158), HTML(value='')))"
      ]
     },
     "metadata": {},
     "output_type": "display_data"
    },
    {
     "name": "stdout",
     "output_type": "stream",
     "text": [
      "Epoch 163: Loss 0.5090000033378601\n",
      "Val loss: 0.36000001430511475 Thresh: 0.55 F1: 0.717 Recall: 0.671 Precision: 0.77 Error: 0.149\n",
      "Saving model with 0.7169930511686672\n",
      "Loss: 0.875 1.5 weighted BCE + 0.125 Image Lovasz\n"
     ]
    },
    {
     "data": {
      "application/vnd.jupyter.widget-view+json": {
       "model_id": "ec4946fd1cac46658884c662ba0a275c",
       "version_major": 2,
       "version_minor": 0
      },
      "text/plain": [
       "HBox(children=(IntProgress(value=0, max=158), HTML(value='')))"
      ]
     },
     "metadata": {},
     "output_type": "display_data"
    },
    {
     "name": "stdout",
     "output_type": "stream",
     "text": [
      "Epoch 164: Loss 0.5090000033378601\n",
      "Val loss: 0.3659999966621399 Thresh: 0.55 F1: 0.713 Recall: 0.674 Precision: 0.756 Error: 0.121\n",
      "Saving model with 0.7126093449967996\n",
      "Loss: 0.875 1.5 weighted BCE + 0.125 Image Lovasz\n"
     ]
    },
    {
     "data": {
      "application/vnd.jupyter.widget-view+json": {
       "model_id": "4badde76aad54c589d372e152403e795",
       "version_major": 2,
       "version_minor": 0
      },
      "text/plain": [
       "HBox(children=(IntProgress(value=0, max=158), HTML(value='')))"
      ]
     },
     "metadata": {},
     "output_type": "display_data"
    },
    {
     "name": "stdout",
     "output_type": "stream",
     "text": [
      "Epoch 165: Loss 0.5080000162124634\n",
      "Val loss: 0.3630000054836273 Thresh: 0.55 F1: 0.719 Recall: 0.67 Precision: 0.775 Error: 0.156\n",
      "Saving model with 0.7187827911857294\n",
      "Loss: 0.875 1.5 weighted BCE + 0.125 Image Lovasz\n"
     ]
    },
    {
     "data": {
      "application/vnd.jupyter.widget-view+json": {
       "model_id": "680cb90187e54fb19a118369a3e54994",
       "version_major": 2,
       "version_minor": 0
      },
      "text/plain": [
       "HBox(children=(IntProgress(value=0, max=158), HTML(value='')))"
      ]
     },
     "metadata": {},
     "output_type": "display_data"
    },
    {
     "name": "stdout",
     "output_type": "stream",
     "text": [
      "Epoch 166: Loss 0.5070000290870667\n",
      "Val loss: 0.35899999737739563 Thresh: 0.6 F1: 0.718 Recall: 0.716 Precision: 0.72 Error: 0.006\n",
      "Saving model with 0.7177173790459006\n",
      "Loss: 0.875 1.5 weighted BCE + 0.125 Image Lovasz\n"
     ]
    },
    {
     "data": {
      "application/vnd.jupyter.widget-view+json": {
       "model_id": "3d017a8841d84f93a0f50df8738e7f1e",
       "version_major": 2,
       "version_minor": 0
      },
      "text/plain": [
       "HBox(children=(IntProgress(value=0, max=158), HTML(value='')))"
      ]
     },
     "metadata": {},
     "output_type": "display_data"
    },
    {
     "name": "stdout",
     "output_type": "stream",
     "text": [
      "Epoch 167: Loss 0.5080000162124634\n",
      "Val loss: 0.3659999966621399 Thresh: 0.6 F1: 0.717 Recall: 0.7 Precision: 0.736 Error: 0.052\n",
      "Saving model with 0.7174680194089106\n",
      "Loss: 0.875 1.5 weighted BCE + 0.125 Image Lovasz\n"
     ]
    },
    {
     "data": {
      "application/vnd.jupyter.widget-view+json": {
       "model_id": "1e185be5310345518b4b3bd14420903b",
       "version_major": 2,
       "version_minor": 0
      },
      "text/plain": [
       "HBox(children=(IntProgress(value=0, max=158), HTML(value='')))"
      ]
     },
     "metadata": {},
     "output_type": "display_data"
    },
    {
     "name": "stdout",
     "output_type": "stream",
     "text": [
      "Epoch 168: Loss 0.5070000290870667\n",
      "Val loss: 0.35600000619888306 Thresh: 0.55 F1: 0.726 Recall: 0.703 Precision: 0.75 Error: 0.066\n",
      "Saving model with 0.7257393209200438\n",
      "Loss: 0.875 1.5 weighted BCE + 0.125 Image Lovasz\n"
     ]
    },
    {
     "data": {
      "application/vnd.jupyter.widget-view+json": {
       "model_id": "bf3efa63ac1f41b79daca25829c6ed3c",
       "version_major": 2,
       "version_minor": 0
      },
      "text/plain": [
       "HBox(children=(IntProgress(value=0, max=158), HTML(value='')))"
      ]
     },
     "metadata": {},
     "output_type": "display_data"
    },
    {
     "name": "stdout",
     "output_type": "stream",
     "text": [
      "Epoch 169: Loss 0.5070000290870667\n",
      "Val loss: 0.35600000619888306 Thresh: 0.5 F1: 0.712 Recall: 0.661 Precision: 0.773 Error: 0.17\n",
      "Loss: 0.875 1.5 weighted BCE + 0.125 Image Lovasz\n"
     ]
    },
    {
     "data": {
      "application/vnd.jupyter.widget-view+json": {
       "model_id": "abc751db39d84917a88ec8ce7a2fc488",
       "version_major": 2,
       "version_minor": 0
      },
      "text/plain": [
       "HBox(children=(IntProgress(value=0, max=158), HTML(value='')))"
      ]
     },
     "metadata": {},
     "output_type": "display_data"
    },
    {
     "name": "stdout",
     "output_type": "stream",
     "text": [
      "Epoch 170: Loss 0.5090000033378601\n",
      "Val loss: 0.39500001072883606 Thresh: 0.55 F1: 0.697 Recall: 0.626 Precision: 0.785 Error: 0.254\n",
      "Loss: 0.875 1.5 weighted BCE + 0.125 Image Lovasz\n"
     ]
    },
    {
     "data": {
      "application/vnd.jupyter.widget-view+json": {
       "model_id": "446bd7eea06d4e9bb2325302947202b4",
       "version_major": 2,
       "version_minor": 0
      },
      "text/plain": [
       "HBox(children=(IntProgress(value=0, max=158), HTML(value='')))"
      ]
     },
     "metadata": {},
     "output_type": "display_data"
    },
    {
     "name": "stdout",
     "output_type": "stream",
     "text": [
      "Epoch 171: Loss 0.5099999904632568\n",
      "Val loss: 0.37700000405311584 Thresh: 0.6 F1: 0.714 Recall: 0.682 Precision: 0.749 Error: 0.098\n",
      "Saving model with 0.713838852335239\n",
      "Loss: 0.875 1.5 weighted BCE + 0.125 Image Lovasz\n"
     ]
    },
    {
     "data": {
      "application/vnd.jupyter.widget-view+json": {
       "model_id": "9ab90312c2754a07aa4b7e6ba55438f7",
       "version_major": 2,
       "version_minor": 0
      },
      "text/plain": [
       "HBox(children=(IntProgress(value=0, max=158), HTML(value='')))"
      ]
     },
     "metadata": {},
     "output_type": "display_data"
    },
    {
     "name": "stdout",
     "output_type": "stream",
     "text": [
      "Epoch 172: Loss 0.5080000162124634\n",
      "Val loss: 0.3630000054836273 Thresh: 0.55 F1: 0.711 Recall: 0.675 Precision: 0.752 Error: 0.114\n",
      "Saving model with 0.711410832798116\n",
      "Loss: 0.875 1.5 weighted BCE + 0.125 Image Lovasz\n"
     ]
    },
    {
     "data": {
      "application/vnd.jupyter.widget-view+json": {
       "model_id": "e3ccf2304e2e4534bd7c160d2453e329",
       "version_major": 2,
       "version_minor": 0
      },
      "text/plain": [
       "HBox(children=(IntProgress(value=0, max=158), HTML(value='')))"
      ]
     },
     "metadata": {},
     "output_type": "display_data"
    },
    {
     "name": "stdout",
     "output_type": "stream",
     "text": [
      "Epoch 173: Loss 0.5070000290870667\n",
      "Val loss: 0.36000001430511475 Thresh: 0.6 F1: 0.725 Recall: 0.699 Precision: 0.753 Error: 0.078\n",
      "Saving model with 0.7247386759581882\n",
      "Loss: 0.875 1.5 weighted BCE + 0.125 Image Lovasz\n"
     ]
    },
    {
     "data": {
      "application/vnd.jupyter.widget-view+json": {
       "model_id": "4ee37593bfcc4172b6cb338e836be655",
       "version_major": 2,
       "version_minor": 0
      },
      "text/plain": [
       "HBox(children=(IntProgress(value=0, max=158), HTML(value='')))"
      ]
     },
     "metadata": {},
     "output_type": "display_data"
    },
    {
     "name": "stdout",
     "output_type": "stream",
     "text": [
      "Epoch 174: Loss 0.5090000033378601\n",
      "Val loss: 0.35499998927116394 Thresh: 0.55 F1: 0.721 Recall: 0.693 Precision: 0.751 Error: 0.084\n",
      "Saving model with 0.7207207207207208\n",
      "Loss: 0.875 1.5 weighted BCE + 0.125 Image Lovasz\n"
     ]
    },
    {
     "data": {
      "application/vnd.jupyter.widget-view+json": {
       "model_id": "ad3907a8d1dd449489e4f8a5bfa38c34",
       "version_major": 2,
       "version_minor": 0
      },
      "text/plain": [
       "HBox(children=(IntProgress(value=0, max=158), HTML(value='')))"
      ]
     },
     "metadata": {},
     "output_type": "display_data"
    },
    {
     "name": "stdout",
     "output_type": "stream",
     "text": [
      "Epoch 175: Loss 0.5070000290870667\n",
      "Val loss: 0.3709999918937683 Thresh: 0.6 F1: 0.716 Recall: 0.688 Precision: 0.746 Error: 0.085\n",
      "Saving model with 0.7158511446240643\n",
      "Loss: 0.875 1.5 weighted BCE + 0.125 Image Lovasz\n"
     ]
    },
    {
     "data": {
      "application/vnd.jupyter.widget-view+json": {
       "model_id": "9aaa541ffd1e4ac697d2811471900c8b",
       "version_major": 2,
       "version_minor": 0
      },
      "text/plain": [
       "HBox(children=(IntProgress(value=0, max=158), HTML(value='')))"
      ]
     },
     "metadata": {},
     "output_type": "display_data"
    },
    {
     "name": "stdout",
     "output_type": "stream",
     "text": [
      "Epoch 176: Loss 0.5080000162124634\n",
      "Val loss: 0.37700000405311584 Thresh: 0.55 F1: 0.712 Recall: 0.654 Precision: 0.781 Error: 0.194\n",
      "Saving model with 0.7116336633663367\n",
      "Loss: 0.875 1.5 weighted BCE + 0.125 Image Lovasz\n"
     ]
    },
    {
     "data": {
      "application/vnd.jupyter.widget-view+json": {
       "model_id": "7d539bed05a049efbbf8c693b6611d62",
       "version_major": 2,
       "version_minor": 0
      },
      "text/plain": [
       "HBox(children=(IntProgress(value=0, max=158), HTML(value='')))"
      ]
     },
     "metadata": {},
     "output_type": "display_data"
    },
    {
     "name": "stdout",
     "output_type": "stream",
     "text": [
      "Epoch 177: Loss 0.5080000162124634\n",
      "Val loss: 0.3479999899864197 Thresh: 0.55 F1: 0.726 Recall: 0.708 Precision: 0.745 Error: 0.053\n",
      "Saving model with 0.7258100066122988\n",
      "Loss: 0.875 1.5 weighted BCE + 0.125 Image Lovasz\n"
     ]
    },
    {
     "data": {
      "application/vnd.jupyter.widget-view+json": {
       "model_id": "3db3434489444ef4a560b77e873308fc",
       "version_major": 2,
       "version_minor": 0
      },
      "text/plain": [
       "HBox(children=(IntProgress(value=0, max=158), HTML(value='')))"
      ]
     },
     "metadata": {},
     "output_type": "display_data"
    },
    {
     "name": "stdout",
     "output_type": "stream",
     "text": [
      "Epoch 178: Loss 0.5070000290870667\n",
      "Val loss: 0.37400001287460327 Thresh: 0.6 F1: 0.714 Recall: 0.681 Precision: 0.751 Error: 0.103\n",
      "Saving model with 0.7144394232838389\n",
      "Loss: 0.875 1.5 weighted BCE + 0.125 Image Lovasz\n"
     ]
    },
    {
     "data": {
      "application/vnd.jupyter.widget-view+json": {
       "model_id": "26670d89f10f4bf1b9b51c9c2a82e506",
       "version_major": 2,
       "version_minor": 0
      },
      "text/plain": [
       "HBox(children=(IntProgress(value=0, max=158), HTML(value='')))"
      ]
     },
     "metadata": {},
     "output_type": "display_data"
    },
    {
     "name": "stdout",
     "output_type": "stream",
     "text": [
      "Epoch 179: Loss 0.5059999823570251\n",
      "Val loss: 0.3779999911785126 Thresh: 0.6 F1: 0.724 Recall: 0.675 Precision: 0.779 Error: 0.155\n",
      "Saving model with 0.7235114984773707\n",
      "Loss: 0.875 1.5 weighted BCE + 0.125 Image Lovasz\n"
     ]
    },
    {
     "data": {
      "application/vnd.jupyter.widget-view+json": {
       "model_id": "93ebab22629f4a3880ae9ef9ea5d31af",
       "version_major": 2,
       "version_minor": 0
      },
      "text/plain": [
       "HBox(children=(IntProgress(value=0, max=158), HTML(value='')))"
      ]
     },
     "metadata": {},
     "output_type": "display_data"
    },
    {
     "name": "stdout",
     "output_type": "stream",
     "text": [
      "Epoch 180: Loss 0.5070000290870667\n",
      "Val loss: 0.35199999809265137 Thresh: 0.5 F1: 0.712 Recall: 0.683 Precision: 0.745 Error: 0.09\n",
      "Saving model with 0.7124147635025436\n",
      "Loss: 0.875 1.5 weighted BCE + 0.125 Image Lovasz\n"
     ]
    },
    {
     "data": {
      "application/vnd.jupyter.widget-view+json": {
       "model_id": "8f6b64669942464fbcd1828380e524e5",
       "version_major": 2,
       "version_minor": 0
      },
      "text/plain": [
       "HBox(children=(IntProgress(value=0, max=158), HTML(value='')))"
      ]
     },
     "metadata": {},
     "output_type": "display_data"
    },
    {
     "name": "stdout",
     "output_type": "stream",
     "text": [
      "Epoch 181: Loss 0.5059999823570251\n",
      "Val loss: 0.37599998712539673 Thresh: 0.6 F1: 0.705 Recall: 0.668 Precision: 0.746 Error: 0.118\n",
      "Saving model with 0.7048392265783571\n",
      "Loss: 0.875 1.5 weighted BCE + 0.125 Image Lovasz\n"
     ]
    },
    {
     "data": {
      "application/vnd.jupyter.widget-view+json": {
       "model_id": "bbf16b87a43e4b81ba3af30d210af474",
       "version_major": 2,
       "version_minor": 0
      },
      "text/plain": [
       "HBox(children=(IntProgress(value=0, max=158), HTML(value='')))"
      ]
     },
     "metadata": {},
     "output_type": "display_data"
    },
    {
     "name": "stdout",
     "output_type": "stream",
     "text": [
      "Epoch 182: Loss 0.5070000290870667\n",
      "Val loss: 0.3619999885559082 Thresh: 0.6 F1: 0.719 Recall: 0.7 Precision: 0.74 Error: 0.058\n",
      "Saving model with 0.719296316657504\n",
      "Loss: 0.875 1.5 weighted BCE + 0.125 Image Lovasz\n"
     ]
    },
    {
     "data": {
      "application/vnd.jupyter.widget-view+json": {
       "model_id": "dce61924432d428baf99797e3c744c80",
       "version_major": 2,
       "version_minor": 0
      },
      "text/plain": [
       "HBox(children=(IntProgress(value=0, max=158), HTML(value='')))"
      ]
     },
     "metadata": {},
     "output_type": "display_data"
    },
    {
     "name": "stdout",
     "output_type": "stream",
     "text": [
      "Epoch 183: Loss 0.5139999985694885\n",
      "Val loss: 0.3880000114440918 Thresh: 0.6 F1: 0.713 Recall: 0.663 Precision: 0.771 Error: 0.163\n",
      "Saving model with 0.7130452976252746\n",
      "Loss: 0.875 1.5 weighted BCE + 0.125 Image Lovasz\n"
     ]
    },
    {
     "data": {
      "application/vnd.jupyter.widget-view+json": {
       "model_id": "a6b9cea99d0040f3b73cac437bb37f92",
       "version_major": 2,
       "version_minor": 0
      },
      "text/plain": [
       "HBox(children=(IntProgress(value=0, max=158), HTML(value='')))"
      ]
     },
     "metadata": {},
     "output_type": "display_data"
    },
    {
     "name": "stdout",
     "output_type": "stream",
     "text": [
      "Epoch 184: Loss 0.5070000290870667\n",
      "Val loss: 0.3540000021457672 Thresh: 0.6 F1: 0.728 Recall: 0.722 Precision: 0.733 Error: 0.016\n",
      "Saving model with 0.727639995511166\n",
      "Loss: 0.875 1.5 weighted BCE + 0.125 Image Lovasz\n"
     ]
    },
    {
     "data": {
      "application/vnd.jupyter.widget-view+json": {
       "model_id": "f6f7235bec2a41d89639ace134331bf3",
       "version_major": 2,
       "version_minor": 0
      },
      "text/plain": [
       "HBox(children=(IntProgress(value=0, max=158), HTML(value='')))"
      ]
     },
     "metadata": {},
     "output_type": "display_data"
    },
    {
     "name": "stdout",
     "output_type": "stream",
     "text": [
      "Epoch 185: Loss 0.5059999823570251\n",
      "Val loss: 0.3700000047683716 Thresh: 0.6 F1: 0.715 Recall: 0.679 Precision: 0.755 Error: 0.112\n",
      "Loss: 0.875 1.5 weighted BCE + 0.125 Image Lovasz\n"
     ]
    },
    {
     "data": {
      "application/vnd.jupyter.widget-view+json": {
       "model_id": "967af00dece1430fb797c76a486b829a",
       "version_major": 2,
       "version_minor": 0
      },
      "text/plain": [
       "HBox(children=(IntProgress(value=0, max=158), HTML(value='')))"
      ]
     },
     "metadata": {},
     "output_type": "display_data"
    },
    {
     "name": "stdout",
     "output_type": "stream",
     "text": [
      "Epoch 186: Loss 0.5059999823570251\n",
      "Val loss: 0.3779999911785126 Thresh: 0.6 F1: 0.713 Recall: 0.677 Precision: 0.752 Error: 0.111\n",
      "Loss: 0.875 1.5 weighted BCE + 0.125 Image Lovasz\n"
     ]
    },
    {
     "data": {
      "application/vnd.jupyter.widget-view+json": {
       "model_id": "389eca69e3104e23b42a1b443a3843c8",
       "version_major": 2,
       "version_minor": 0
      },
      "text/plain": [
       "HBox(children=(IntProgress(value=0, max=158), HTML(value='')))"
      ]
     },
     "metadata": {},
     "output_type": "display_data"
    },
    {
     "name": "stdout",
     "output_type": "stream",
     "text": [
      "Epoch 187: Loss 0.5070000290870667\n",
      "Val loss: 0.35899999737739563 Thresh: 0.55 F1: 0.72 Recall: 0.683 Precision: 0.761 Error: 0.115\n",
      "Saving model with 0.7197261446298674\n",
      "Loss: 0.875 1.5 weighted BCE + 0.125 Image Lovasz\n"
     ]
    },
    {
     "data": {
      "application/vnd.jupyter.widget-view+json": {
       "model_id": "62a43acdac4e4cfeb0cf1f345b663ce3",
       "version_major": 2,
       "version_minor": 0
      },
      "text/plain": [
       "HBox(children=(IntProgress(value=0, max=158), HTML(value='')))"
      ]
     },
     "metadata": {},
     "output_type": "display_data"
    },
    {
     "name": "stdout",
     "output_type": "stream",
     "text": [
      "Epoch 188: Loss 0.5049999952316284\n",
      "Val loss: 0.3659999966621399 Thresh: 0.6 F1: 0.723 Recall: 0.701 Precision: 0.746 Error: 0.065\n",
      "Saving model with 0.7226117440841365\n",
      "Loss: 0.875 1.5 weighted BCE + 0.125 Image Lovasz\n"
     ]
    },
    {
     "data": {
      "application/vnd.jupyter.widget-view+json": {
       "model_id": "02a8812e54d64c459f9d207c97b742d4",
       "version_major": 2,
       "version_minor": 0
      },
      "text/plain": [
       "HBox(children=(IntProgress(value=0, max=158), HTML(value='')))"
      ]
     },
     "metadata": {},
     "output_type": "display_data"
    },
    {
     "name": "stdout",
     "output_type": "stream",
     "text": [
      "Epoch 189: Loss 0.5049999952316284\n",
      "Val loss: 0.367000013589859 Thresh: 0.55 F1: 0.72 Recall: 0.672 Precision: 0.776 Error: 0.156\n",
      "Saving model with 0.7201175359429112\n",
      "Loss: 0.875 1.5 weighted BCE + 0.125 Image Lovasz\n"
     ]
    },
    {
     "data": {
      "application/vnd.jupyter.widget-view+json": {
       "model_id": "49cb514272bd4d05a1013b5e5f3ed384",
       "version_major": 2,
       "version_minor": 0
      },
      "text/plain": [
       "HBox(children=(IntProgress(value=0, max=158), HTML(value='')))"
      ]
     },
     "metadata": {},
     "output_type": "display_data"
    },
    {
     "name": "stdout",
     "output_type": "stream",
     "text": [
      "Epoch 190: Loss 0.5070000290870667\n",
      "Val loss: 0.375 Thresh: 0.6 F1: 0.705 Recall: 0.682 Precision: 0.73 Error: 0.071\n",
      "Loss: 0.875 1.5 weighted BCE + 0.125 Image Lovasz\n"
     ]
    },
    {
     "data": {
      "application/vnd.jupyter.widget-view+json": {
       "model_id": "b6ba2b6e9fd04c2d81ec5a9acc9c3926",
       "version_major": 2,
       "version_minor": 0
      },
      "text/plain": [
       "HBox(children=(IntProgress(value=0, max=158), HTML(value='')))"
      ]
     },
     "metadata": {},
     "output_type": "display_data"
    },
    {
     "name": "stdout",
     "output_type": "stream",
     "text": [
      "Epoch 191: Loss 0.5090000033378601\n",
      "Val loss: 0.36399999260902405 Thresh: 0.6 F1: 0.726 Recall: 0.696 Precision: 0.759 Error: 0.09\n",
      "Saving model with 0.7264263288946626\n",
      "Loss: 0.875 1.5 weighted BCE + 0.125 Image Lovasz\n"
     ]
    },
    {
     "data": {
      "application/vnd.jupyter.widget-view+json": {
       "model_id": "a70671cd3ed44b909513be0f389d982e",
       "version_major": 2,
       "version_minor": 0
      },
      "text/plain": [
       "HBox(children=(IntProgress(value=0, max=158), HTML(value='')))"
      ]
     },
     "metadata": {},
     "output_type": "display_data"
    },
    {
     "name": "stdout",
     "output_type": "stream",
     "text": [
      "Epoch 192: Loss 0.5080000162124634\n",
      "Val loss: 0.36500000953674316 Thresh: 0.55 F1: 0.7 Recall: 0.644 Precision: 0.766 Error: 0.19\n",
      "Loss: 0.875 1.5 weighted BCE + 0.125 Image Lovasz\n"
     ]
    },
    {
     "data": {
      "application/vnd.jupyter.widget-view+json": {
       "model_id": "60ccd7ec29194920b1d2786e17bfd554",
       "version_major": 2,
       "version_minor": 0
      },
      "text/plain": [
       "HBox(children=(IntProgress(value=0, max=158), HTML(value='')))"
      ]
     },
     "metadata": {},
     "output_type": "display_data"
    },
    {
     "name": "stdout",
     "output_type": "stream",
     "text": [
      "Epoch 193: Loss 0.5059999823570251\n",
      "Val loss: 0.367000013589859 Thresh: 0.6 F1: 0.722 Recall: 0.688 Precision: 0.759 Error: 0.103\n",
      "Saving model with 0.7218934911242604\n",
      "Loss: 0.875 1.5 weighted BCE + 0.125 Image Lovasz\n"
     ]
    },
    {
     "data": {
      "application/vnd.jupyter.widget-view+json": {
       "model_id": "599e4a58f41947f9ba2d50efba0c065e",
       "version_major": 2,
       "version_minor": 0
      },
      "text/plain": [
       "HBox(children=(IntProgress(value=0, max=158), HTML(value='')))"
      ]
     },
     "metadata": {},
     "output_type": "display_data"
    },
    {
     "name": "stdout",
     "output_type": "stream",
     "text": [
      "Epoch 194: Loss 0.5080000162124634\n",
      "Val loss: 0.3700000047683716 Thresh: 0.55 F1: 0.714 Recall: 0.663 Precision: 0.774 Error: 0.168\n",
      "Saving model with 0.7139129527189229\n",
      "Loss: 0.875 1.5 weighted BCE + 0.125 Image Lovasz\n"
     ]
    },
    {
     "data": {
      "application/vnd.jupyter.widget-view+json": {
       "model_id": "91e63ca50c624b64a45f01d0d27c5b13",
       "version_major": 2,
       "version_minor": 0
      },
      "text/plain": [
       "HBox(children=(IntProgress(value=0, max=158), HTML(value='')))"
      ]
     },
     "metadata": {},
     "output_type": "display_data"
    },
    {
     "name": "stdout",
     "output_type": "stream",
     "text": [
      "Epoch 195: Loss 0.5059999823570251\n",
      "Val loss: 0.375 Thresh: 0.55 F1: 0.707 Recall: 0.665 Precision: 0.754 Error: 0.134\n",
      "Saving model with 0.7066680801441746\n",
      "Loss: 0.875 1.5 weighted BCE + 0.125 Image Lovasz\n"
     ]
    },
    {
     "data": {
      "application/vnd.jupyter.widget-view+json": {
       "model_id": "8496ba610bfb4902b7b7026b130bafb5",
       "version_major": 2,
       "version_minor": 0
      },
      "text/plain": [
       "HBox(children=(IntProgress(value=0, max=158), HTML(value='')))"
      ]
     },
     "metadata": {},
     "output_type": "display_data"
    },
    {
     "name": "stdout",
     "output_type": "stream",
     "text": [
      "Epoch 196: Loss 0.5090000033378601\n",
      "Val loss: 0.3580000102519989 Thresh: 0.5 F1: 0.72 Recall: 0.662 Precision: 0.789 Error: 0.193\n",
      "Saving model with 0.7196367763904654\n",
      "Loss: 0.875 1.5 weighted BCE + 0.125 Image Lovasz\n"
     ]
    },
    {
     "data": {
      "application/vnd.jupyter.widget-view+json": {
       "model_id": "59b68d68e11546649a0de6578df7ee1c",
       "version_major": 2,
       "version_minor": 0
      },
      "text/plain": [
       "HBox(children=(IntProgress(value=0, max=158), HTML(value='')))"
      ]
     },
     "metadata": {},
     "output_type": "display_data"
    },
    {
     "name": "stdout",
     "output_type": "stream",
     "text": [
      "Epoch 197: Loss 0.5059999823570251\n",
      "Val loss: 0.37599998712539673 Thresh: 0.6 F1: 0.709 Recall: 0.682 Precision: 0.738 Error: 0.083\n",
      "Saving model with 0.70917979359044\n",
      "Loss: 0.875 1.5 weighted BCE + 0.125 Image Lovasz\n"
     ]
    },
    {
     "data": {
      "application/vnd.jupyter.widget-view+json": {
       "model_id": "5d72926d270a4186b00cf898c7c5d79a",
       "version_major": 2,
       "version_minor": 0
      },
      "text/plain": [
       "HBox(children=(IntProgress(value=0, max=158), HTML(value='')))"
      ]
     },
     "metadata": {},
     "output_type": "display_data"
    },
    {
     "name": "stdout",
     "output_type": "stream",
     "text": [
      "Epoch 198: Loss 0.5049999952316284\n",
      "Val loss: 0.34700000286102295 Thresh: 0.55 F1: 0.723 Recall: 0.711 Precision: 0.735 Error: 0.035\n",
      "Saving model with 0.7227040249054925\n",
      "Loss: 0.875 1.5 weighted BCE + 0.125 Image Lovasz\n"
     ]
    },
    {
     "data": {
      "application/vnd.jupyter.widget-view+json": {
       "model_id": "ba661eefabf042f88d040ab43a58f193",
       "version_major": 2,
       "version_minor": 0
      },
      "text/plain": [
       "HBox(children=(IntProgress(value=0, max=158), HTML(value='')))"
      ]
     },
     "metadata": {},
     "output_type": "display_data"
    },
    {
     "name": "stdout",
     "output_type": "stream",
     "text": [
      "Epoch 199: Loss 0.5040000081062317\n",
      "Val loss: 0.36000001430511475 Thresh: 0.5 F1: 0.711 Recall: 0.666 Precision: 0.762 Error: 0.143\n",
      "Saving model with 0.7107874181971712\n"
     ]
    }
   ],
   "source": [
    "best_val = 0.73\n",
    "\n",
    "train_ids = [x for x in range(len(train_y))]\n",
    "\n",
    "for i in range(1, 200):\n",
    "    al = np.min([i*0.005, 0.075])\n",
    "    #randomize = train_ids\n",
    "    #np.random.shuffle(randomize)\n",
    "    randomize = equibatch(train_ids, lovasz = False)\n",
    "    print(\"Loss: {} 1.5 weighted BCE + {} Image Lovasz\".format( (0.95-al), (0.05 + al)))\n",
    "    op = train_op\n",
    "    loss = train_loss\n",
    "    #op = ft_op\n",
    "    #loss = ft_loss\n",
    "    BATCH_SIZE = 16\n",
    "    test_ids = [x for x in range(0, len(test_x))]\n",
    "    losses = []\n",
    "    \n",
    "    for k in tnrange(int(len(randomize) // BATCH_SIZE)):\n",
    "        batch_ids = randomize[k*BATCH_SIZE:(k+1)*BATCH_SIZE]\n",
    "        batch_y = train_y[batch_ids, :, :].reshape(len(batch_ids), 14, 14)\n",
    "        opt, tr = sess.run([op, loss],\n",
    "                              feed_dict={inp: train_x[batch_ids, :, :, :],\n",
    "                                         length: train_l[batch_ids].reshape((-1, 1)),\n",
    "                                         labels: batch_y,\n",
    "                                         is_training: True,\n",
    "                                         keep_rate: np.max((1 - (i*0.002), 0.85)),\n",
    "                                         alpha: al\n",
    "                                         })\n",
    "        losses.append(tr)\n",
    "    \n",
    "    print(\"Epoch {}: Loss {}\".format(i, np.around(np.mean(losses[:-1]), 3)))\n",
    "    f1 = calculate_metrics()\n",
    "    if f1 > (best_val - 0.012):\n",
    "        best_val = f1\n",
    "        print(\"Saving model with {}\".format(f1))\n",
    "        save_path = saver.save(sess, \"../models/nov-25/model\")"
   ]
  },
  {
   "cell_type": "code",
   "execution_count": null,
   "metadata": {},
   "outputs": [],
   "source": [
    "# potential problem test IDS: 135505813, 135505835, \n",
    "save_path = saver.save(sess, \"../models/nov-21/model\")\n"
   ]
  },
  {
   "cell_type": "code",
   "execution_count": 260,
   "metadata": {},
   "outputs": [
    {
     "name": "stdout",
     "output_type": "stream",
     "text": [
      "Val loss: 0.3409999907016754 Thresh: 0.5 F1: 0.74 Recall: 0.713 Precision: 0.769 Error: 0.078\n"
     ]
    },
    {
     "data": {
      "text/plain": [
       "0.7398178201235472"
      ]
     },
     "execution_count": 260,
     "metadata": {},
     "output_type": "execute_result"
    }
   ],
   "source": [
    "calculate_metrics()"
   ]
  },
  {
   "cell_type": "markdown",
   "metadata": {},
   "source": [
    "# Model validation and sanity checks\n",
    "\n",
    "\n",
    "\n"
   ]
  },
  {
   "cell_type": "code",
   "execution_count": 255,
   "metadata": {},
   "outputs": [],
   "source": [
    "start = 0\n",
    "test_ids = [x for x in range(0, len(test_x))]\n",
    "\n",
    "def multiplot(matrices, nrows = 2, ncols = 4):\n",
    "    '''Plot multiple heatmaps with subplots'''\n",
    "    fig, axs = plt.subplots(ncols=4, nrows = nrows)\n",
    "    fig.set_size_inches(20, 4*nrows)\n",
    "    to_iter = [[x for x in range(i, i + ncols + 1)] for i in range(0, nrows*ncols, ncols)]\n",
    "    for r in range(1, nrows + 1):\n",
    "        min_i = min(to_iter[r-1])\n",
    "        max_i = max(to_iter[r-1])\n",
    "        for i, matrix in enumerate(matrices[min_i:max_i]):\n",
    "            sns.heatmap(data = matrix, ax = axs[r - 1, i], vmin = 0, vmax = 0.9)\n",
    "            axs[r - 1, i].set_xlabel(\"\")\n",
    "            axs[r - 1, i].set_ylabel(\"\")\n",
    "            axs[r - 1, i].set_yticks([])\n",
    "            axs[r - 1, i].set_xticks([])\n",
    "    plt.show()\n",
    "start = 47"
   ]
  },
  {
   "cell_type": "code",
   "execution_count": 270,
   "metadata": {
    "scrolled": false
   },
   "outputs": [
    {
     "name": "stdout",
     "output_type": "stream",
     "text": [
      "0.6904761904761905\n",
      "87\n",
      "88\n",
      "89\n",
      "90\n",
      "91\n",
      "92\n",
      "93\n",
      "94\n"
     ]
    },
    {
     "data": {
      "image/png": "[encoded data removed]",
      "text/plain": [
       "<Figure size 1440x576 with 16 Axes>"
      ]
     },
     "metadata": {
      "needs_background": "light"
     },
     "output_type": "display_data"
    }
   ],
   "source": [
    "test_losses = []\n",
    "print(start/len(test_ids))\n",
    "test_ids = sorted(test_ids)\n",
    "matrix_ids = [test_ids[start], test_ids[start + 1], test_ids[start + 2], test_ids[start + 3],\n",
    "              test_ids[start + 4], test_ids[start + 5], test_ids[start + 6], test_ids[start + 7]]\n",
    "#matrix_ids = random.sample(test_ids, 4)z\n",
    "\n",
    "preds = []\n",
    "trues = []\n",
    "for i in matrix_ids:\n",
    "    idx = i\n",
    "    print(i)\n",
    "    y = sess.run([fm], feed_dict={inp: test_x[idx].reshape(1, 24, IMAGE_SIZE, IMAGE_SIZE, n_bands),\n",
    "                                  length: test_lengths[idx].reshape(1, 1),\n",
    "                                  is_training: False,\n",
    "                                  })\n",
    "    y = np.array(y).reshape(14, 14)\n",
    "    preds.append(y)\n",
    "    true = test_y[idx].reshape(14, 14)\n",
    "    trues.append(true)\n",
    "    \n",
    "\"\"\n",
    "to_plot = trues[0:4] + preds[0:4]# + trues[5:] + preds[5:]\n",
    "multiplot(to_plot, nrows = 2, ncols = 4)\n",
    "#plot_ids[/ordering[976]//4] \n",
    "start = start + 4 # 50, 87, 107 is a concern"
   ]
  },
  {
   "cell_type": "code",
   "execution_count": 303,
   "metadata": {},
   "outputs": [
    {
     "name": "stdout",
     "output_type": "stream",
     "text": [
      "2532\n",
      "2371\n",
      "297\n",
      "1243\n"
     ]
    },
    {
     "data": {
      "image/png": "[encoded data removed]",
      "text/plain": [
       "<Figure size 1440x576 with 16 Axes>"
      ]
     },
     "metadata": {
      "needs_background": "light"
     },
     "output_type": "display_data"
    }
   ],
   "source": [
    "test_losses = []\n",
    "test_ids = sorted(test_ids)\n",
    "matrix_ids = random.sample(train_ids, 4)\n",
    "#matrix_ids = [len(train_x)-28]\n",
    "\n",
    "preds = []\n",
    "trues = []\n",
    "for i in matrix_ids:\n",
    "    idx = i\n",
    "    print(i)\n",
    "    y = sess.run([fm], feed_dict={inp: train_x[idx].reshape(1, 24, IMAGE_SIZE, IMAGE_SIZE, n_bands),\n",
    "                                  length: train_l[idx].reshape(1, 1),\n",
    "                                  is_training: False,\n",
    "                                  })\n",
    "    y = np.array(y).reshape(14, 14)\n",
    "    preds.append(y)\n",
    "    true = train_y[idx].reshape(14, 14)\n",
    "    trues.append(true)\n",
    "    \n",
    "\n",
    "to_plot = trues[0:4] + preds[0:4]# + trues[5:] + preds[5:]\n",
    "multiplot(to_plot, nrows = 2, ncols = 4)"
   ]
  },
  {
   "cell_type": "code",
   "execution_count": 300,
   "metadata": {},
   "outputs": [],
   "source": [
    "plot_ids2 = [val for x, val in enumerate(plot_ids) if x not in list(set([x // 4 for x in outliers]))]\n",
    "#plot_ids2[ordering[460]//4] "
   ]
  },
  {
   "cell_type": "code",
   "execution_count": 279,
   "metadata": {},
   "outputs": [
    {
     "name": "stdout",
     "output_type": "stream",
     "text": [
      "Val loss: 0.3409999907016754 Thresh: 0.5 F1: 0.74 Recall: 0.713 Precision: 0.769 Error: 0.078\n"
     ]
    },
    {
     "data": {
      "text/plain": [
       "0.7398178201235472"
      ]
     },
     "execution_count": 279,
     "metadata": {},
     "output_type": "execute_result"
    }
   ],
   "source": [
    "calculate_metrics()"
   ]
  },
  {
   "cell_type": "markdown",
   "metadata": {},
   "source": [
    "## TODO @jombrandt top 10 worst training, test samples by IOU \n",
    "\n",
    "These should be written to a tmp/ .txt file and indexed by validate-data.ipynb to ensure that original classifications were correct, and to identify regions that need more training data."
   ]
  }
 ],
 "metadata": {
  "kernelspec": {
   "display_name": "policy-toolkit",
   "language": "python",
   "name": "policy-toolkit"
  },
  "language_info": {
   "codemirror_mode": {
    "name": "ipython",
    "version": 3
   },
   "file_extension": ".py",
   "mimetype": "text/x-python",
   "name": "python",
   "nbconvert_exporter": "python",
   "pygments_lexer": "ipython3",
   "version": "3.6.6"
  }
 },
 "nbformat": 4,
 "nbformat_minor": 2
}
