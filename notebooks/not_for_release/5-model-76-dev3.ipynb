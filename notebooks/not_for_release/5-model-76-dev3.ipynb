{
 "cells": [
  {
   "cell_type": "markdown",
   "metadata": {},
   "source": [
    "# Master model development\n",
    "\n",
    "## John Brandt\n",
    "\n",
    "### Last updated: November 16 2019"
   ]
  },
  {
   "cell_type": "markdown",
   "metadata": {},
   "source": [
    "*  Package loading\n",
    "*  Hyperparameter definitions\n",
    "*  Additional layer definitions\n",
    "*  Model definition\n",
    "*  Data loading\n",
    "*  Data preprocessing\n",
    "*  K means clustering\n",
    "*  Augment training data\n",
    "*  Loss definition\n",
    "*  Equibatch creation\n",
    "*  Model training\n",
    "*  Model validation and sanity checks"
   ]
  },
  {
   "cell_type": "markdown",
   "metadata": {},
   "source": [
    "# Experiment log\n",
    "*  Master version - 0.620 F1 after 70 epochs\n",
    "    * Stacked 1x1 intro conv + conv - selu, no BN - 0.616 after 20 epochs\n",
    "    * Remove 2 Conv Selus, GRU - FPA - Conv - Sigmoid, 60k params, 0.6\n",
    "    * New indices are calculated correctly\n",
    "    * Simpler FPA is more efficient with more stable learning\n",
    "    * Lovasz works best per-image (0.61 vs. 0.56)\n",
    "    * Boundary loss overfits with non-smoothed data\n",
    "    * 14x14 input is a bad idea, because the border pixel makes sense for the final 3x3 conv\n",
    "    * Temporal attention and CSSE work together\n",
    "    * Min max scaling does not work\n",
    "    * [-1, 1] scaling is better than [0, 1] scaling\n",
    "    * DEM messes everything up because of banding every 10-15 meters, removing the slope improves test accuracy, but median filter with size of 5 may fix this issue\n",
    "    * Smoothing the time dimension seems to help\n",
    "    \n",
    "* Reduced parameter size to 10, 24, 24 -- 0.61\n",
    "\n",
    "* Smooth time dimension for all variable bands --\n",
    "\n",
    "* Stack FPA module rather than FPA - Conv SELU\n",
    "\n",
    "* FPA GRU - 1x1 GRU, 3x3 GRU, 5x5 Dilated GRU, combine hidden states within GRU\n",
    "\n",
    "* Test adding versus multiplying for the concatenation of scales"
   ]
  },
  {
   "cell_type": "code",
   "execution_count": 1,
   "metadata": {},
   "outputs": [
    {
     "name": "stderr",
     "output_type": "stream",
     "text": [
      "Using TensorFlow backend.\n"
     ]
    },
    {
     "name": "stdout",
     "output_type": "stream",
     "text": [
      "WARNING:tensorflow:From /Library/Frameworks/Python.framework/Versions/3.6/lib/python3.6/site-packages/tensorflow/python/framework/op_def_library.py:263: colocate_with (from tensorflow.python.framework.ops) is deprecated and will be removed in a future version.\n",
      "Instructions for updating:\n",
      "Colocations handled automatically by placer.\n"
     ]
    }
   ],
   "source": [
    "#TODO Remove imports that aren't needed to save RAM\n",
    "from tqdm import tqdm_notebook, tnrange\n",
    "import tensorflow as tf\n",
    "\n",
    "sess = tf.Session()\n",
    "from keras import backend as K\n",
    "K.set_session(sess)\n",
    "\n",
    "import keras\n",
    "from tensorflow.python.keras.layers import *\n",
    "from tensorflow.python.keras.layers import ELU\n",
    "from keras.losses import binary_crossentropy\n",
    "from tensorflow.python.ops import array_ops\n",
    "from tensorflow.python.keras.layers import Conv2D, Lambda, Dense, Multiply, Add, Bidirectional, ConvLSTM2D\n",
    "from tensorflow.python.keras.activations import selu\n",
    "from tensorflow.initializers import glorot_normal, lecun_normal\n",
    "\n",
    "import tensorflow.contrib.slim as slim\n",
    "from tensorflow.contrib.slim import conv2d\n",
    "\n",
    "import pandas as pd\n",
    "import numpy as np\n",
    "from random import shuffle\n",
    "import pandas as pd\n",
    "import seaborn as sns\n",
    "import matplotlib.pyplot as plt\n",
    "%matplotlib inline\n",
    "import os\n",
    "import random\n",
    "import itertools\n",
    "from tflearn.layers.conv import global_avg_pool\n",
    "from tensorflow.contrib.framework import arg_scope\n",
    "from keras.regularizers import l1\n",
    "from tensorflow.layers import batch_normalization\n",
    "from tensorflow.python.util import deprecation as deprecation\n",
    "deprecation._PRINT_DEPRECATION_WARNINGS = False\n",
    "\n",
    "os.environ['KMP_DUPLICATE_LIB_OK']='True'"
   ]
  },
  {
   "cell_type": "code",
   "execution_count": 2,
   "metadata": {},
   "outputs": [],
   "source": [
    "%run ../src/zoneout.py\n",
    "%run ../src/convgru.py\n",
    "%run ../src/lovasz.py\n",
    "%run ../src/utils.py\n",
    "%run ../src/adabound.py\n",
    "%run ../src/slope.py\n",
    "%run ../src/dropblock.py"
   ]
  },
  {
   "cell_type": "markdown",
   "metadata": {},
   "source": [
    "# Hyperparameter definitions"
   ]
  },
  {
   "cell_type": "code",
   "execution_count": 3,
   "metadata": {},
   "outputs": [
    {
     "name": "stdout",
     "output_type": "stream",
     "text": [
      "592 149\n"
     ]
    }
   ],
   "source": [
    "ZONE_OUT_PROB = 0.15\n",
    "L2_REG = 0.0\n",
    "INITIAL_LR = 2e-4\n",
    "FINAL_LR = 1e-3\n",
    "BN_MOMENTUM = 0.9\n",
    "BATCH_SIZE = 16\n",
    "TRAIN_RATIO = 0.8\n",
    "TEST_RATIO = 0.2\n",
    "MAX_DROPBLOCK = 0.85\n",
    "\n",
    "gru_flt = 20\n",
    "fpa_flt = 32\n",
    "out_conv_flt = 24\n",
    "\n",
    "\n",
    "AUGMENTATION_RATIO = 4\n",
    "IMAGE_SIZE = 16\n",
    "existing = [int(x[:-4]) for x in os.listdir('../data/train-l2a-dec') if \".DS\" not in x]\n",
    "N_SAMPLES = len(existing)\n",
    "\n",
    "LABEL_SIZE = 14\n",
    "\n",
    "    \n",
    "TRAIN_SAMPLES = int((N_SAMPLES * AUGMENTATION_RATIO) * TRAIN_RATIO)\n",
    "TEST_SAMPLES = int((N_SAMPLES * AUGMENTATION_RATIO) - TRAIN_SAMPLES)\n",
    "print(TRAIN_SAMPLES // AUGMENTATION_RATIO, N_SAMPLES - (TRAIN_SAMPLES // AUGMENTATION_RATIO))"
   ]
  },
  {
   "cell_type": "markdown",
   "metadata": {},
   "source": [
    "# Additional layer definitions\n",
    "\n",
    "Some of these may be able to be removed, or moved to a src/*.py\n",
    "\n",
    "*  Conv SELU\n",
    "*  Conv BN ELU\n",
    "*  Feature pyramid attention (with downsample / upsample)\n",
    "*  Feature pyramid attention (w/o downsample / upsample)\n",
    "*  Temporal attention\n",
    "*  CSE, SSE, cCSE\n",
    "*  Reflection padding\n"
   ]
  },
  {
   "cell_type": "code",
   "execution_count": 4,
   "metadata": {},
   "outputs": [],
   "source": [
    "def conv_bn_elu(inp, is_training, kernel_size, scope, filter_count = 16, pad = True, padding = 'valid', dilated = False):\n",
    "    if not dilated:\n",
    "        padded = ReflectionPadding2D((1, 1,))(inp)\n",
    "        conv = Conv2D(filters = filter_count, kernel_size = (kernel_size, kernel_size), activation = selu,\n",
    "                        padding = padding, kernel_initializer = lecun_normal())(padded)\n",
    "    if not dilated and not pad:\n",
    "        conv = Conv2D(filters = filter_count, kernel_size = (kernel_size, kernel_size), activation = selu,\n",
    "                        padding = padding, kernel_initializer = lecun_normal())(inp)\n",
    "    if dilated:\n",
    "        padded = ReflectionPadding2D((2, 2,))(inp)\n",
    "        conv = Conv2D(filters = filter_count, kernel_size = (3, 3), activation = selu, dilation_rate = (2, 2),\n",
    "                        padding = padding, kernel_initializer = lecun_normal())(padded)\n",
    "    return conv\n",
    "    \n",
    "def fpa(inp, is_training, filter_count):\n",
    "    one = conv_bn_elu(inp, is_training, 1, 'forward1', filter_count, False, 'valid')\n",
    "    five = conv_bn_elu(inp, is_training, 5, 'down1', filter_count, False, 'valid')\n",
    "    five_f = conv_bn_elu(five, is_training, 5, 'down1_f', filter_count, False, 'valid')\n",
    "    three = conv_bn_elu(five, is_training, 3, 'down2', filter_count, False, 'valid')\n",
    "    three_f = conv_bn_elu(three, is_training, 3, 'down2_f', filter_count, False, 'valid')\n",
    "    \n",
    "    three_up = tf.keras.layers.UpSampling2D((2, 2), interpolation = 'bilinear')(three_f)\n",
    "    five_up = tf.keras.layers.UpSampling2D((2, 2), interpolation = 'bilinear')(five_f)\n",
    "    \n",
    "    print(\"One: {}\".format(one.shape))\n",
    "    print(\"Five: {}\".format(five.shape))\n",
    "    print(\"Five_F: {}\".format(five_f.shape))\n",
    "    print(\"Three: {}\".format(three.shape))\n",
    "    print(\"Three_f: {}\".format(three_f.shape))\n",
    "    print(\"Three_up: {}\".format(three_up.shape))\n",
    "    print(\"Five_up: {}\".format(five_up.shape))\n",
    "    \n",
    "    # top block\n",
    "    #pooled = tf.keras.layers.GlobalAveragePooling2D()(inp)\n",
    "    #one_top = conv_bn_elu(tf.reshape(pooled, (-1, 1, 1, pooled.shape[-1])),\n",
    "    #                      is_training, 1, 'top1', filter_count, pad = False)\n",
    "    #four_top = tf.keras.layers.UpSampling2D((16, 16))(one_top)\n",
    "    #rint(\"Sixteen top: {}\".format(four_top.shape))\n",
    "    \n",
    "    \n",
    "    concat_1 = tf.multiply(one, tf.add(three_up, five_up))\n",
    "    #concat_2 = tf.add(concat_1, four_top)\n",
    "    print(\"Feature pyramid attention shape {}\".format(concat_1.shape))\n",
    "    return concat_1\n",
    "\n",
    "def fpa(inp, is_training, filter_count, scope = 'fpa', topblock = False):\n",
    "    one = conv_bn_elu(inp, is_training, 1, scope + 'forward1', filter_count, False, 'valid')\n",
    "    three = conv_bn_elu(inp, is_training, 3, scope + 'down2', filter_count, True, 'valid') \n",
    "    five = conv_bn_elu(inp, is_training, 3, scope + 'down2', filter_count, True, 'valid', dilated = True) \n",
    "    concat_1 = tf.multiply(one, tf.add(three, five))\n",
    "    \n",
    "    if topblock:\n",
    "        pooled = tf.keras.layers.GlobalAveragePooling2D()(inp)\n",
    "        one_top = conv_bn_elu(tf.reshape(pooled, (-1, 1, 1, pooled.shape[-1])),\n",
    "                              is_training, 1, 'top1', filter_count, pad = False)\n",
    "        four_top = tf.keras.layers.UpSampling2D((16, 16))(one_top)\n",
    "        print(\"Sixteen top: {}\".format(four_top.shape))\n",
    "\n",
    "        concat_1 = tf.add(concat_1, four_top)\n",
    "    \n",
    "    return concat_1\n",
    "    \n",
    "def create_deconv_init(filter_size, num_channels):\n",
    "    bilinear_kernel = np.zeros([filter_size, filter_size], dtype=np.float32)\n",
    "    scale_factor = (filter_size + 1) // 2\n",
    "    if filter_size % 2 == 1:\n",
    "        center = scale_factor - 1\n",
    "    else:\n",
    "        center = scale_factor - 0.5\n",
    "    for x in range(filter_size):\n",
    "        for y in range(filter_size):\n",
    "            bilinear_kernel[x,y] = (1 - abs(x - center) / scale_factor) * \\\n",
    "                                   (1 - abs(y - center) / scale_factor)\n",
    "    weights = np.zeros((filter_size, filter_size, num_channels, num_channels))\n",
    "    for i in range(num_channels):\n",
    "        weights[:, :, i, i] = bilinear_kernel\n",
    "\n",
    "    #assign numpy array to constant_initalizer and pass to get_variable\n",
    "    bilinear_init = tf.constant_initializer(value=weights, dtype=tf.float32)\n",
    "    return bilinear_init\n",
    "\n",
    "\n",
    "def get_deconv2d(inp, filter_count, num_channels, scope, is_training):\n",
    "    bilinear_init = create_deconv_init(4, filter_count)\n",
    "    x = tf.keras.layers.Conv2DTranspose(filters = filter_count, kernel_size = (4, 4),\n",
    "                                        strides=(2, 2), padding='same', \n",
    "                                        kernel_initializer = bilinear_init)(inp)\n",
    "    x = ELU()(x)\n",
    "    x = Batch_Normalization(x, training=is_training, scope = scope + \"bn\")\n",
    "    return x\n",
    "\n",
    "\n",
    "def Batch_Normalization(x, training, scope):\n",
    "    return batch_normalization(inputs=x, \n",
    "                               momentum = BN_MOMENTUM, \n",
    "                               training=training,\n",
    "                               renorm = True,\n",
    "                               reuse=None,\n",
    "                               name = scope)\n",
    "\n",
    "def temporal_attention(inp, units):\n",
    "    # This rescales each output\n",
    "    # Timesteps that are more important get weighted higher\n",
    "    # Timesteps that are least important get weighted lower --> B, N, H, W, C\n",
    "    conved = TimeDistributed(Conv2D(units, (1, 1), padding = 'same', kernel_initializer = 'glorot_uniform',\n",
    "                            activation = 'tanh', strides = (1, 1)))(inp)\n",
    "    \n",
    "    \n",
    "    #conved = tf.reshape(conved, (-1, units, 16, 16, STEPS))\n",
    "    print(\"Attention weight shape: {}\".format(conved.shape))\n",
    "    conved = TimeDistributed(Conv2D(1, (1, 1), padding = 'same', kernel_initializer = 'glorot_uniform',\n",
    "                            activation = 'sigmoid', use_bias = False, strides = (1, 1)))(conved)\n",
    "    print(\"Conved sigmoid shape: {}\".format(conved.shape))\n",
    "    #conved = tf.reshape(conved, (-1, 24, 1, 1, 1))\n",
    "    \n",
    "    alphas = tf.reduce_sum(conved, axis = 1, keep_dims = True)\n",
    "    print(\"Attention alphas: {}\".format(alphas.shape))\n",
    "    # We need to calculate the total sum for each pixel for each channel, so that we can combine them\n",
    "    alphas = conved / alphas\n",
    "    print(\"Attention weight shapes {}\".format(alphas.shape))\n",
    "    \n",
    "    # This actually multiplies the Conv by the input\n",
    "    multiplied = tf.reduce_sum(alphas * inp, axis = 1)\n",
    "    return multiplied"
   ]
  },
  {
   "cell_type": "code",
   "execution_count": 5,
   "metadata": {},
   "outputs": [],
   "source": [
    "def cse_block(prevlayer, prefix):\n",
    "    mean = Lambda(lambda xin: K.mean(xin, axis=[1, 2]))(prevlayer)\n",
    "    lin1 = Dense(K.int_shape(prevlayer)[3] // 2, name=prefix + 'cse_lin1', activation='relu')(mean)\n",
    "    lin2 = Dense(K.int_shape(prevlayer)[3], name=prefix + 'cse_lin2', activation='sigmoid')(lin1)\n",
    "    x = Multiply()([prevlayer, lin2])\n",
    "    return x\n",
    "\n",
    "\n",
    "def sse_block(prevlayer, prefix):\n",
    "    conv = Conv2D(1, (1, 1), padding=\"same\", kernel_initializer=\"glorot_uniform\",\n",
    "                  activation='sigmoid', strides=(1, 1),\n",
    "                  name=prefix + \"_conv\")(prevlayer)\n",
    "    conv = Multiply(name=prefix + \"_mul\")([prevlayer, conv])\n",
    "    return conv\n",
    "\n",
    "\n",
    "def csse_block(x, prefix):\n",
    "    '''\n",
    "    Implementation of Concurrent Spatial and Channel ‘Squeeze & Excitation’ in Fully Convolutional Networks\n",
    "    https://arxiv.org/abs/1803.02579\n",
    "    '''\n",
    "    cse = cse_block(x, prefix)\n",
    "    sse = sse_block(x, prefix)\n",
    "    x = Add(name=prefix + \"_csse_mul\")([cse, sse])\n",
    "\n",
    "    return x\n",
    "\n",
    "class ReflectionPadding2D(Layer):\n",
    "    def __init__(self, padding=(1, 1), **kwargs):\n",
    "        self.padding = tuple(padding)\n",
    "        self.input_spec = [InputSpec(ndim=4)]\n",
    "        super(ReflectionPadding2D, self).__init__(**kwargs)\n",
    "\n",
    "    def compute_output_shape(self, s):\n",
    "        \"\"\" If you are using \"channels_last\" configuration\"\"\"\n",
    "        return (s[0], s[1] + 2 * self.padding[0], s[2] + 2 * self.padding[1], s[3])\n",
    "\n",
    "    def call(self, x, mask=None):\n",
    "        w_pad,h_pad = self.padding\n",
    "        return tf.pad(x, [[0,0], [h_pad,h_pad], [w_pad,w_pad], [0,0] ], 'REFLECT')\n",
    "    \n",
    "def gru_block(inp, length, size, flt, scope, train, normalize = True):\n",
    "    with tf.variable_scope(scope):\n",
    "        print(\"GRU input shape {}, zoneout: {}\".format(inp.shape, ZONE_OUT_PROB))\n",
    "        cell_fw = ConvGRUCell(shape = size, filters = flt,\n",
    "                           kernel = [3, 3], padding = 'VALID', normalize = normalize, fpa = True)\n",
    "        cell_bw = ConvGRUCell(shape = size, filters = flt,\n",
    "                           kernel = [3, 3], padding = 'VALID', normalize = normalize, fpa = True)\n",
    "        cell_fw = ZoneoutWrapper(\n",
    "           cell_fw, zoneout_drop_prob = ZONE_OUT_PROB, is_training = train)\n",
    "        cell_bw = ZoneoutWrapper(\n",
    "            cell_bw, zoneout_drop_prob = ZONE_OUT_PROB, is_training = train)\n",
    "        steps, out = convGRU(inp, cell_fw, cell_bw, length)\n",
    "        gru = tf.concat(out, axis = -1)\n",
    "        steps = tf.concat(steps, axis = -1)\n",
    "        print(\"Down block output shape {}\".format(gru.shape))\n",
    "    return gru, steps\n"
   ]
  },
  {
   "cell_type": "markdown",
   "metadata": {},
   "source": [
    "# Model definition\n",
    "\n",
    "## Placeholders"
   ]
  },
  {
   "cell_type": "code",
   "execution_count": 6,
   "metadata": {},
   "outputs": [],
   "source": [
    "n_bands = 15\n",
    "reg = keras.regularizers.l2(L2_REG) # for GRU\n",
    "inp = tf.placeholder(tf.float32, shape=(None, 24, IMAGE_SIZE, IMAGE_SIZE, n_bands))\n",
    "length = tf.placeholder(tf.int32, shape = (None, 1))\n",
    "labels = tf.placeholder(tf.float32, shape=(None, 14, 14))#, 1))\n",
    "keep_rate = tf.placeholder_with_default(1.0, ()) # For DropBlock\n",
    "length2 = tf.reshape(length, (-1,)) # Remove\n",
    "is_training = tf.placeholder_with_default(False, (), 'is_training') # For BN, DropBlock\n",
    "alpha = tf.placeholder(tf.float32, shape = ()) # For loss scheduling"
   ]
  },
  {
   "cell_type": "markdown",
   "metadata": {},
   "source": [
    "## Layers"
   ]
  },
  {
   "cell_type": "code",
   "execution_count": 7,
   "metadata": {},
   "outputs": [
    {
     "name": "stdout",
     "output_type": "stream",
     "text": [
      "GRU input shape (?, 24, 16, 16, 14), zoneout: 0.15\n",
      "(3, 3, 34, 40)\n",
      "(1, 1, 40, 1)\n",
      "(?, 16, 16, 40)\n",
      "(3, 3, 34, 40)\n",
      "(1, 1, 40, 1)\n",
      "(?, 16, 16, 40)\n",
      "Down block output shape (?, 16, 16, 40)\n",
      "Initializing last sigmoid bias with -2.94 constant\n"
     ]
    }
   ],
   "source": [
    "# Unsure if this block is better replaced by 1x1 ConvGRU output\n",
    "#stacked = tf.reshape(inp, (-1, 16, 16, n_bands*24))\n",
    "#pixel_information = Conv2D(filters = gru_flt, kernel_size = (1, 1),\n",
    "#            padding = 'valid', activation = selu, kernel_initializer = lecun_normal())(stacked)\n",
    "    \n",
    "# 3 x 3 GRU\n",
    "\n",
    "inp_first_half = inp[:, :, :, :, :10]\n",
    "inp_second_half = inp[:, :, :, :, 11:]\n",
    "no_dem = tf.concat([inp_first_half, inp_second_half], axis = -1)\n",
    "dem = tf.reshape(tf.reduce_mean(inp[:, :, :, :, 10], axis = 1), (-1, 16, 16, 1))\n",
    "gru_out, steps = gru_block(inp = no_dem, length = length2, \n",
    "                            size = [16, 16], \n",
    "                            flt = gru_flt, \n",
    "                            scope = 'down_16', \n",
    "                            train = is_training)\n",
    "\n",
    "\n",
    "gru_out = tf.concat([gru_out, dem], axis = -1)\n",
    "csse1 = csse_block(gru_out, 'csse1')\n",
    "drop_block1 = DropBlock2D(keep_prob=keep_rate, block_size=5)\n",
    "csse1 = drop_block1(csse1, is_training)\n",
    "\n",
    "# Light FPA, CSSE, 4x4 Drop block\n",
    "fpa1 = fpa(csse1, is_training, fpa_flt)\n",
    "csse2 = csse_block(fpa1, 'csse2')\n",
    "drop_block2 = DropBlock2D(keep_prob=keep_rate, block_size=4)\n",
    "csse2 = drop_block2(csse2, is_training)\n",
    "\n",
    "\n",
    "# Skip connect\n",
    "x = tf.concat([csse2, csse1], axis = -1)\n",
    "\n",
    "# Conv SELU, 16x16 - 14x14\n",
    "x = conv_bn_elu(x, is_training, 3, \"out_2\", out_conv_flt, False, 'valid')\n",
    "\n",
    "print(\"Initializing last sigmoid bias with -2.94 constant\")\n",
    "init = tf.constant_initializer([-np.log(0.7/0.3)]) # For focal loss\n",
    "fm = Conv2D(filters = 1,\n",
    "            kernel_size = (1, 1), \n",
    "            padding = 'valid',\n",
    "            activation = 'sigmoid',\n",
    "            bias_initializer = init,\n",
    "           )(x) # For focal loss"
   ]
  },
  {
   "cell_type": "code",
   "execution_count": 8,
   "metadata": {
    "scrolled": true
   },
   "outputs": [
    {
     "name": "stdout",
     "output_type": "stream",
     "text": [
      "This model has 97905 parameters\n"
     ]
    }
   ],
   "source": [
    "total_parameters = 0\n",
    "for variable in tf.trainable_variables():\n",
    "    shape = variable.get_shape()\n",
    "    variable_parameters = 1\n",
    "    for dim in shape:\n",
    "        variable_parameters *= dim.value\n",
    "    total_parameters += variable_parameters\n",
    "print(\"This model has {} parameters\".format(total_parameters))"
   ]
  },
  {
   "cell_type": "markdown",
   "metadata": {},
   "source": [
    "# Data loading\n",
    "\n",
    "*  Load in CSV data from Collect Earth\n",
    "*  Reconstruct the X, Y grid for the Y data per sample\n",
    "*  Calculate NDVI, EVI, SAVI, BI, MSAVI2, and SI\n",
    "*  Stack X, Y, length data\n",
    "*  Apply median filter to DEM"
   ]
  },
  {
   "cell_type": "code",
   "execution_count": 40,
   "metadata": {
    "scrolled": true
   },
   "outputs": [],
   "source": [
    "data_x = np.load(\"../data/processed/data_x_l2a_processed.npy\")\n",
    "data_y = np.load(\"../data/processed/data_y_l2a_processed.npy\")\n",
    "lengths = np.load(\"../data/processed/length_l2a_processed.npy\")\n",
    "\n",
    "#data_x = np.delete(data_x, 11, -1)\n",
    "#data_x = np.delete(data_x, 13, -1)"
   ]
  },
  {
   "cell_type": "code",
   "execution_count": 41,
   "metadata": {},
   "outputs": [
    {
     "data": {
      "application/vnd.jupyter.widget-view+json": {
       "model_id": "48384a89eabc44f996e5d057d9f2b4be",
       "version_major": 2,
       "version_minor": 0
      },
      "text/plain": [
       "HBox(children=(IntProgress(value=0, max=741), HTML(value='')))"
      ]
     },
     "metadata": {},
     "output_type": "display_data"
    },
    {
     "name": "stdout",
     "output_type": "stream",
     "text": [
      "\n",
      "(741, 24, 16, 16, 15)\n"
     ]
    }
   ],
   "source": [
    "from scipy.ndimage import median_filter\n",
    "for sample in tnrange(0, len(data_x)):\n",
    "    filtered = median_filter(data_x[sample, 0, :, :, 10], size = 5)\n",
    "    data_x[sample, :, :, :, 10] = np.stack([filtered] * 24)\n",
    "    \n",
    "#data_x = np.delete(data_x, 10, -1)\n",
    "print(data_x.shape)"
   ]
  },
  {
   "cell_type": "markdown",
   "metadata": {},
   "source": [
    "# Data preprocessing\n",
    "\n",
    "*  Identify and remove samples with time steps / channels that have a 0. or 1. value, which indicates missing data\n",
    "*  Identify and remove samples with time steps / channels with no variation, which indicates missing data\n",
    "*  Identify and remove samples with values above or below the allowable values for the band\n",
    "*  Smooth per-pixel temporal data with Whittaker smoother, d = 2, lambda = 0.5 to reduce sample noise"
   ]
  },
  {
   "cell_type": "code",
   "execution_count": null,
   "metadata": {},
   "outputs": [],
   "source": []
  },
  {
   "cell_type": "code",
   "execution_count": 44,
   "metadata": {
    "scrolled": true
   },
   "outputs": [
    {
     "name": "stdout",
     "output_type": "stream",
     "text": [
      "The outliers are: [417, 705, 35, 488, 43, 206, 400, 691, 437, 541, 191], totalling 11\n",
      "\n",
      "\n",
      "[] [1.5264045, 1.5245308, 1.5234313, 1.5194639, 1.5181655, 1.5185463, 1.5192574, 1.519697, 1.5088325, 1.5281926]\n"
     ]
    }
   ],
   "source": [
    "below_1 = [i for i, val in enumerate(data_x) if np.min(val) < -1.5]\n",
    "above_1 = [i for i, val in enumerate(data_x) if np.max(val) > 1.5]\n",
    "min_vals = [np.min(val) for i, val in enumerate(data_x) if np.min(val) < -1.5]\n",
    "max_vals = [np.max(val) for i, val in enumerate(data_x) if np.max(val) > 1.5]\n",
    "nans = [i for i, val in enumerate(data_x) if np.sum(np.isnan(val)) > 0]\n",
    "\n",
    "\n",
    "outliers = below_1 + above_1 + nans\n",
    "outliers = list(set(outliers))\n",
    "print(\"The outliers are: {}, totalling {}\".format(outliers, len(outliers)))\n",
    "print(\"\\n\")\n",
    "print(min_vals, max_vals)\n",
    "data_x = data_x[[x for x in range(0, len(data_x)) if x not in outliers]]\n",
    "data_y = data_y[[x for x in range(0, len(data_y)) if x not in outliers]]\n",
    "lengths = lengths[[x for x in range(0, len(lengths)) if x not in outliers]]"
   ]
  },
  {
   "cell_type": "markdown",
   "metadata": {},
   "source": [
    "## Temporal Smoothing"
   ]
  },
  {
   "cell_type": "code",
   "execution_count": 45,
   "metadata": {},
   "outputs": [
    {
     "data": {
      "text/plain": [
       "<matplotlib.axes._subplots.AxesSubplot at 0x15b87a208>"
      ]
     },
     "execution_count": 45,
     "metadata": {},
     "output_type": "execute_result"
    },
    {
     "data": {
      "image/png": "[encoded data removed]",
      "text/plain": [
       "<Figure size 432x288 with 1 Axes>"
      ]
     },
     "metadata": {
      "needs_background": "light"
     },
     "output_type": "display_data"
    }
   ],
   "source": [
    "sns.scatterplot(y = data_x[255, :, 10, 14, 5], x = [x for x in range(24)])"
   ]
  },
  {
   "cell_type": "code",
   "execution_count": 46,
   "metadata": {},
   "outputs": [
    {
     "name": "stdout",
     "output_type": "stream",
     "text": [
      "The data has been scaled to [-1.0000001192092896, 1.0]\n"
     ]
    }
   ],
   "source": [
    "min_all = []\n",
    "max_all = []\n",
    "for band in range(0, data_x.shape[-1]):\n",
    "\n",
    "    mins, maxs = (np.min(data_x[:, :, :, :, band]), np.max(data_x[:, :, :, :, band]))\n",
    "    midrange = (maxs + mins) / 2\n",
    "    rng = maxs - mins\n",
    "    standardized = (data_x[:, :, :, :, band] - midrange) / (rng / 2)\n",
    "    data_x[:, :, :, :, band] = standardized\n",
    "    \n",
    "    min_all.append(mins)\n",
    "    max_all.append(maxs)\n",
    "    \n",
    "print(\"The data has been scaled to [{}, {}]\".format(np.min(data_x), np.max(data_x)))"
   ]
  },
  {
   "cell_type": "code",
   "execution_count": 47,
   "metadata": {},
   "outputs": [
    {
     "data": {
      "text/plain": [
       "<matplotlib.axes._subplots.AxesSubplot at 0x154c6af60>"
      ]
     },
     "execution_count": 47,
     "metadata": {},
     "output_type": "execute_result"
    },
    {
     "data": {
      "image/png": "[encoded data removed]",
      "text/plain": [
       "<Figure size 432x288 with 1 Axes>"
      ]
     },
     "metadata": {
      "needs_background": "light"
     },
     "output_type": "display_data"
    }
   ],
   "source": [
    "sns.scatterplot(y = data_x[455, :, 10, 14, 5], x = [x for x in range(24)])"
   ]
  },
  {
   "cell_type": "markdown",
   "metadata": {},
   "source": [
    "# Split train, test"
   ]
  },
  {
   "cell_type": "code",
   "execution_count": 48,
   "metadata": {},
   "outputs": [],
   "source": [
    "df = pd.read_csv(\"../data/subplot.csv\")\n",
    "df1 = pd.read_csv(\"../data/subplot2.csv\")\n",
    "df2 = pd.read_csv(\"../data/subplot3.csv\")\n",
    "df3 = pd.read_csv(\"../data/subplot4.csv\")\n",
    "df4 = pd.read_csv(\"../data/kenya-train.csv\")\n",
    "\n",
    "df = df.drop('IMAGERY_TITLE', axis = 1).dropna(axis = 0)\n",
    "df1 = df1.drop('IMAGERY_TITLE', axis = 1).dropna(axis = 0)\n",
    "df2 = df2.drop('IMAGERY_TITLE', axis = 1).dropna(axis = 0)\n",
    "df3 = df3.drop('IMAGERY_TITLE', axis = 1).dropna(axis = 0)\n",
    "df4 = df4.drop('IMAGERY_TITLE', axis = 1).dropna(axis = 0)\n",
    "\n",
    "\n",
    "lens = [len(x) for x in [df, df1, df2, df3, df4]]\n",
    "\n",
    "df = pd.concat([df, df1, df2, df3, df4], ignore_index = True)\n",
    "df = df.dropna(axis = 0)\n",
    "\n",
    "existing = [int(x[:-4]) for x in os.listdir('../data/train-data-nov-27/') if \".DS\" not in x]\n",
    "N_SAMPLES = len(existing)\n",
    "df = df[df['PLOT_ID'].isin(existing)]\n",
    "N_SAMPLES = int(df.shape[0]/196)\n",
    "\n",
    "plot_ids = sorted(df['PLOT_ID'].unique())\n",
    "plot_ids2 = [val for x, val in enumerate(plot_ids) if x not in list(set([x for x in outliers]))]\n",
    "N_SAMPLES = len(data_x)"
   ]
  },
  {
   "cell_type": "markdown",
   "metadata": {},
   "source": [
    "# Positive (tree) and negative (background) pixel metrics"
   ]
  },
  {
   "cell_type": "code",
   "execution_count": 49,
   "metadata": {},
   "outputs": [],
   "source": [
    "#! In development\n",
    "\n",
    "positive_x = []\n",
    "negative_x = []\n",
    "\n",
    "#for sample in data_y:\n",
    "#    for row in range(0,14):\n",
    "#        for column in range(0,14):\n",
    "#            if data_y[sample, row, column] == 1:"
   ]
  },
  {
   "cell_type": "markdown",
   "metadata": {},
   "source": [
    "# Augment training data\n",
    "\n",
    "Horizontal and vertical flips for 4x augmentation.\n",
    "\n",
    "**To do**\n",
    "*  Random guassian noise\n",
    "*  Brightness, contrast\n",
    "*  Region swaps (randomply position positive samples at different locations)"
   ]
  },
  {
   "cell_type": "code",
   "execution_count": 50,
   "metadata": {},
   "outputs": [],
   "source": [
    "data_x_augmented = []\n",
    "data_y_augmented = []\n",
    "lengths_augmented = []\n",
    "\n",
    "for i, val in enumerate([x for x in range(len(data_x))]):\n",
    "    data_x_augmented.append(data_x[val])\n",
    "    data_y_augmented.append(data_y[val])\n",
    "    lengths_augmented.append(data_x[val].shape[0])\n",
    "    \n",
    "    x1 = np.flip(data_x[val], 1)\n",
    "    y1 = np.flip(data_y[val], 0)\n",
    "    lengths_augmented.append(x1.shape[0])\n",
    "    data_x_augmented.append(x1)\n",
    "    data_y_augmented.append(y1)\n",
    "    \n",
    "    x1 = np.flip(data_x[val], [2, 1])\n",
    "    y1 = np.flip(data_y[val], [1, 0])\n",
    "    lengths_augmented.append(x1.shape[0])\n",
    "    data_x_augmented.append(x1)\n",
    "    data_y_augmented.append(y1)\n",
    "    \n",
    "    x1 = np.flip(data_x[val], 2)\n",
    "    y1 = np.flip(data_y[val], 1)\n",
    "    lengths_augmented.append(x1.shape[0])\n",
    "    data_x_augmented.append(x1)\n",
    "    data_y_augmented.append(y1)\n",
    "\n",
    "train_x = np.stack(data_x_augmented)\n",
    "train_y = np.stack(data_y_augmented)\n",
    "train_y = np.reshape(train_y, (train_y.shape[0], 14, 14, 1))\n",
    "train_l = np.stack(lengths_augmented)\n",
    "train_l = np.reshape(train_l, (train_y.shape[0], 1))"
   ]
  },
  {
   "cell_type": "code",
   "execution_count": 246,
   "metadata": {},
   "outputs": [
    {
     "name": "stdout",
     "output_type": "stream",
     "text": [
      "The outliers are: [], totalling 0\n",
      "\n",
      "\n",
      "[] []\n",
      "-0.19281274\n"
     ]
    },
    {
     "data": {
      "application/vnd.jupyter.widget-view+json": {
       "model_id": "6ca398af8a0f460fb959fd9fb94e5684",
       "version_major": 2,
       "version_minor": 0
      },
      "text/plain": [
       "HBox(children=(IntProgress(value=0, max=173), HTML(value='')))"
      ]
     },
     "metadata": {},
     "output_type": "display_data"
    },
    {
     "name": "stdout",
     "output_type": "stream",
     "text": [
      "The data has been scaled to [-1.0, 1.0]\n",
      "(173, 24, 16, 16, 15)\n"
     ]
    }
   ],
   "source": [
    "test_x = np.load(\"../data/processed/test_x_l2a_processed.npy\")\n",
    "test_y = np.load(\"../data/processed/test_y_l2a_processed.npy\")\n",
    "test_lengths = np.load(\"../data/processed/test_length_l2a_processed.npy\")\n",
    "\n",
    "#test_x = np.delete(test_x, 11, -1)\n",
    "#test_x = np.delete(test_x, 13, -1)\n",
    "\n",
    "\n",
    "below_1 = [i for i, val in enumerate(test_x) if np.min(val) < -1.5]\n",
    "above_1 = [i for i, val in enumerate(test_x) if np.max(val) > 1.5]\n",
    "min_vals = [np.min(val) for i, val in enumerate(test_x) if np.min(val) < -1.5]\n",
    "max_vals = [np.max(val) for i, val in enumerate(test_x) if np.max(val) > 1.5]\n",
    "nans = [i for i, val in enumerate(test_x) if np.sum(np.isnan(val)) > 0]\n",
    "outliers = below_1 + above_1 + nans\n",
    "outliers = list(set(outliers))\n",
    "print(\"The outliers are: {}, totalling {}\".format(outliers, len(outliers)))\n",
    "print(\"\\n\")\n",
    "print(min_vals, max_vals)\n",
    "\n",
    "for i in range(len(test_x)):\n",
    "    mins = np.min(test_x[i, :, :, :, :])\n",
    "    maxs = np.max(test_x[i, :, :, :, :])\n",
    "    if mins < -1 or maxs > 1:\n",
    "        offender_max = np.argmax(np.max(test_x[i, :, :, :, :], (0, 1, 2)), -1)\n",
    "        offender_min = np.argmin(np.min(test_x[i, :, :, :, :], (0, 1, 2)), -1)\n",
    "        \n",
    "        print(\"{} Offender max/min: {} {}\".format(i, offender_max, offender_min))\n",
    "test_x = test_x[[x for x in range(0, len(test_x)) if x not in outliers]]\n",
    "test_y = test_y[[x for x in range(0, len(test_y)) if x not in outliers]]\n",
    "test_lengths = test_lengths[[x for x in range(0, len(test_lengths)) if x not in outliers]]\n",
    "print(np.min(test_x[19]))\n",
    "\n",
    "for sample in tnrange(0, len(test_x)):\n",
    "    filtered = median_filter(test_x[sample, 0, :, :, 10], size = 5)\n",
    "    test_x[sample, :, :, :, 10] = np.stack([filtered] * 24)\n",
    "\n",
    "#test_x = np.delete(test_x, 10, -1)\n",
    "    \n",
    "for band in range(0, test_x.shape[-1]):\n",
    "    mins = min_all[band]\n",
    "    maxs = max_all[band]\n",
    "    test_x[:, :, :, :, band] = np.clip(test_x[:, :, :, :, band], mins, maxs)\n",
    "    midrange = (maxs + mins) / 2\n",
    "    rng = maxs - mins\n",
    "    standardized = (test_x[:, :, :, :, band] - midrange) / (rng / 2)\n",
    "    test_x[:, :, :, :, band] = standardized\n",
    "    \n",
    "print(\"The data has been scaled to [{}, {}]\".format(np.min(test_x), np.max(test_x)))\n",
    "print(test_x.shape)"
   ]
  },
  {
   "cell_type": "code",
   "execution_count": 52,
   "metadata": {},
   "outputs": [
    {
     "name": "stdout",
     "output_type": "stream",
     "text": [
      "Train and test characteristics:\n",
      "Train mean Y 44.872832369942195\n",
      "Test STD Y 64.4195605554019\n",
      "Train mean NDVI\n",
      "Test mean NDVI\n"
     ]
    }
   ],
   "source": [
    "print(\"Train and test characteristics:\")\n",
    "print(\"Train mean Y {}\".format(np.mean([np.sum(x) for x in test_y])))\n",
    "#print(\"Test mean Y {}\".format(np.mean([np.sum(x) for x in data_y[test_ids]])))\n",
    "#print(\"Train STD Y {}\".format(np.std([np.sum(x) for x in data_y[train_ids]])))\n",
    "print(\"Test STD Y {}\".format(np.std([np.sum(x) for x in test_y])))\n",
    "#print(\"Train number with zero trees {}\".format(0.2*len([x for x in data_y[train_ids] if np.sum(x) == 0])))\n",
    "#print(\"Test number with zero trees {}\".format(0.8*len([x for x in data_y[test_ids] if np.sum(x) == 0])))\n",
    "print(\"Train mean NDVI\")\n",
    "print(\"Test mean NDVI\")\n",
    "#print(\"There are {} train and {} test samples\".format(len(train_ids), len(test_ids)))\n",
    "#print(\"There is {} overlap between train and test\".format(len([x for x in train_ids if x in test_ids])))"
   ]
  },
  {
   "cell_type": "code",
   "execution_count": 53,
   "metadata": {},
   "outputs": [
    {
     "data": {
      "text/plain": [
       "-0.98649067"
      ]
     },
     "execution_count": 53,
     "metadata": {},
     "output_type": "execute_result"
    }
   ],
   "source": [
    "np.min(train_x[19, :, :, :])"
   ]
  },
  {
   "cell_type": "markdown",
   "metadata": {},
   "source": [
    "# Loss definition\n",
    "\n",
    "The current best loss is a combination of weighted binary cross entropy and per-image Lovasz-Softmax, with a loss schedule with the latter becoming more important each epoch"
   ]
  },
  {
   "cell_type": "code",
   "execution_count": 293,
   "metadata": {},
   "outputs": [],
   "source": [
    "from keras.losses import binary_crossentropy\n",
    "import math\n",
    "from scipy.ndimage import distance_transform_edt as distance\n",
    "\n",
    "def weighted_bce_loss(y_true, y_pred, weight, smooth = 0.025):\n",
    "    epsilon = 1e-7\n",
    "    y_pred = K.clip(y_pred, epsilon, 1. - epsilon)\n",
    "    y_true = K.clip(y_true, smooth, 1. - smooth)\n",
    "    logit_y_pred = K.log(y_pred / (1. - y_pred))\n",
    "    loss = tf.nn.weighted_cross_entropy_with_logits(\n",
    "        y_true,\n",
    "        logit_y_pred,\n",
    "        weight,\n",
    "    )\n",
    "    return tf.reduce_mean(loss)\n",
    "\n",
    "def calc_dist_map(seg):\n",
    "    res = np.zeros_like(seg)\n",
    "    posmask = seg.astype(np.bool)\n",
    "\n",
    "    if posmask.any():\n",
    "        negmask = ~posmask\n",
    "        res = distance(negmask) * negmask - (distance(posmask) - 1) * posmask\n",
    "\n",
    "    return res\n",
    "\n",
    "def calc_dist_map_batch(y_true):\n",
    "    y_true_numpy = y_true.numpy()\n",
    "    return np.array([calc_dist_map(y)\n",
    "                     for y in y_true_numpy]).astype(np.float32)\n",
    "\n",
    "def surface_loss(y_true, y_pred):\n",
    "    y_true_dist_map = tf.py_function(func=calc_dist_map_batch,\n",
    "                                     inp=[y_true],\n",
    "                                     Tout=tf.float32)\n",
    "    multipled = y_pred * y_true_dist_map\n",
    "    return K.mean(multipled)\n",
    "\n",
    "\n",
    "def bce_lv(y_true, y_pred, alpha, smooth = 0.05, mask = None, ):\n",
    "    bce =  (1 - alpha) * weighted_bce_loss(y_true, y_pred, 1.5, smooth = smooth)\n",
    "    #surf = surface_loss(y_true, y_pred)\n",
    "    lv = alpha * lovasz_softmax(y_pred, tf.reshape(y_true, (-1, 14, 14)), classes=[1], per_image=True)\n",
    "    #global_loss = (1 - alpha) * (bce + lv)\n",
    "    #regional_loss = alpha * surf\n",
    "    return bce+lv\n",
    "\n",
    "\n",
    "def lovasz(y_true, y_pred):\n",
    "    lv = lovasz_softmax(y_pred, tf.reshape(y_true, (-1, 14, 14)), classes=[1], per_image=True)\n",
    "    return lv\n",
    "\n",
    "#! Move to a src.py\n",
    "def calculate_metrics():\n",
    "    best_f1 = 0\n",
    "    best_thresh = 0\n",
    "    p = 0\n",
    "    r = 0\n",
    "    error = 0\n",
    "    ys = []\n",
    "    vls = []\n",
    "    t_alls = []\n",
    "    test_ids = [x for x in range(len(test_x)) if x not in [32, 38, 76, 112, 116, 131, 132, 157]]#[11, 54, 65, 114, 3, 124, 174]]\n",
    "    for test_sample in test_ids:\n",
    "        y, vl = sess.run([fm, test_loss], feed_dict={inp: test_x[test_sample].reshape(1, 24, 16, 16, n_bands),\n",
    "                                          length: test_lengths[test_sample].reshape(1, 1),\n",
    "                                          is_training: False,\n",
    "                                          labels: test_y[test_sample, :, :].reshape(1, 14, 14),\n",
    "                                          })\n",
    "        ys.append(y.reshape((14, 14)))\n",
    "        vls.append(vl)\n",
    "        t = test_y[test_sample].reshape((14, 14))\n",
    "        t_alls.append(t)\n",
    "    for thresh in range(8, 13):\n",
    "        tps = []\n",
    "        fps = []\n",
    "        fns = []\n",
    "        perc_error = []\n",
    "        trues = []\n",
    "        preds = []\n",
    "        val_loss = []\n",
    "        for sample in range(len(ys)):\n",
    "            pred = np.copy(ys[sample])\n",
    "            true = t_alls[sample]\n",
    "            vl = vls[sample]\n",
    "            pred[np.where(pred > thresh*0.05)] = 1\n",
    "            pred[np.where(pred < thresh*0.05)] = 0\n",
    "            true_s = np.sum(true)\n",
    "            pred_s = np.sum(pred)\n",
    "\n",
    "            perc_error.append(abs(pred_s - true_s) / 196)\n",
    "            tp, fp, fn = thirty_meter(true, pred)\n",
    "            tps.append(tp)\n",
    "            fps.append(fp)\n",
    "            fns.append(fn)\n",
    "            trues.append(true_s)\n",
    "            preds.append(pred_s)\n",
    "            val_loss.append(np.mean(vl))\n",
    "        oa_error = abs(np.sum(preds) - np.sum(trues)) / np.sum(trues)\n",
    "        precision = np.sum(tps) / (np.sum(tps) + np.sum(fps))\n",
    "        recall = np.sum(tps) / (np.sum(tps) + np.sum(fns))\n",
    "        f1 = 2*((precision* recall) / (precision + recall))\n",
    "        if f1 > best_f1:\n",
    "            best_f1 = f1\n",
    "            p = precision\n",
    "            r = recall\n",
    "            error = oa_error\n",
    "            best_thresh = thresh*0.05\n",
    "    print(\"Val loss: {} Thresh: {} F1: {} Recall: {} Precision: {} Error: {}\".format(np.around(np.mean(val_loss), 3), np.around(best_thresh, 2),\n",
    "                                                                                     np.around(best_f1, 3), np.around(p, 3), np.around(r, 3), \n",
    "                                                                                     np.around(error, 3)))\n",
    "    return best_f1"
   ]
  },
  {
   "cell_type": "code",
   "execution_count": 294,
   "metadata": {},
   "outputs": [
    {
     "name": "stdout",
     "output_type": "stream",
     "text": [
      "Val loss: 0.32899999618530273 Thresh: 0.55 F1: 0.761 Recall: 0.74 Precision: 0.782 Error: 0.057\n"
     ]
    },
    {
     "data": {
      "text/plain": [
       "0.7605048042449448"
      ]
     },
     "execution_count": 294,
     "metadata": {},
     "output_type": "execute_result"
    }
   ],
   "source": [
    "calculate_metrics()"
   ]
  },
  {
   "cell_type": "markdown",
   "metadata": {},
   "source": [
    "# Equibatch creation"
   ]
  },
  {
   "cell_type": "code",
   "execution_count": 56,
   "metadata": {},
   "outputs": [],
   "source": [
    "train_ids = [x for x in range(0, len(train_y))]\n",
    "\n",
    "def multiplot(matrices):\n",
    "    '''Plot multiple heatmaps with subplots'''\n",
    "    fig, axs = plt.subplots(ncols=4)\n",
    "    fig.set_size_inches(20, 4)\n",
    "    for i, matrix in enumerate(matrices):\n",
    "        sns.heatmap(data = matrix, ax = axs[i], vmin = 0, vmax = 0.9)\n",
    "        axs[i].set_xlabel(\"\")\n",
    "        axs[i].set_ylabel(\"\")\n",
    "        axs[i].set_yticks([])\n",
    "        axs[i].set_xticks([])\n",
    "    plt.show()\n",
    "\n",
    "def equibatch(train_ids, lovasz = False):\n",
    "    first_len = 5\n",
    "    second_len = 9\n",
    "    third_len = 14\n",
    "    np.random.shuffle(train_ids)\n",
    "    ix = train_ids\n",
    "    percs = [np.sum(x) for x in train_y[ix]]\n",
    "    zero_ids = [x for x, z in zip(ix, percs) if z == 0]\n",
    "    one_ids = [x for x, z in zip(ix, percs) if 0 < z <= first_len]\n",
    "    two_ids = [x for x, z in zip(ix, percs) if first_len < z <= second_len]\n",
    "    three_ids = [x for x, z in zip(ix, percs) if second_len < z <= third_len]\n",
    "    four_ids = [x for x, z in zip(ix, percs) if third_len < z <= 19]\n",
    "    five_ids = [x for x, z in zip(ix, percs) if 19 < z < 27]\n",
    "    six_ids = [x for x, z in zip(ix, percs) if 27 < z <= 33]\n",
    "    seven_ids = [x for x, z in zip(ix, percs) if 33 < z <= 41]\n",
    "    eight_ids = [x for x, z in zip(ix, percs) if 41 < z <= 56]\n",
    "    nine_ids =  [x for x, z in zip(ix, percs) if 56 < z <= 80]\n",
    "    ten_ids =  [x for x, z in zip(ix, percs) if 80 < z <= 120]\n",
    "    eleven_ids = [x for x, z in zip(ix, percs) if 120 < z]\n",
    "    #ten_ids = [x for x, z in zip(ix, percs) if 125 < z]\n",
    "\n",
    "    new_batches = []\n",
    "    maxes = [len(zero_ids), len(one_ids), len(two_ids), len(three_ids), len(four_ids),\n",
    "             len(five_ids), len(six_ids), len(seven_ids), len(eight_ids), len(nine_ids), len(ten_ids), len(eleven_ids)]#, len(ten_ids)]\n",
    "    cur_ids = [0] * 12\n",
    "    iter_len = len(train_ids)//(len(maxes)+3) if not lovasz else len(train_ids)//8\n",
    "    for i in range(0, iter_len):\n",
    "        for i, val in enumerate(cur_ids):\n",
    "            if val > maxes[i] - 1:\n",
    "                cur_ids[i] = 0\n",
    "        if cur_ids[0] >= (maxes[0] - 2):\n",
    "            cur_ids[0] = 0\n",
    "        to_append = [zero_ids[cur_ids[0]], zero_ids[cur_ids[0] + 1], one_ids[cur_ids[1]], two_ids[cur_ids[2]],\n",
    "                    three_ids[cur_ids[3]], four_ids[cur_ids[4]], five_ids[cur_ids[5]],\n",
    "                    six_ids[cur_ids[6]], seven_ids[cur_ids[7]], eight_ids[cur_ids[8]],\n",
    "                               nine_ids[cur_ids[9]], ten_ids[cur_ids[10]], eleven_ids[cur_ids[11]]]\n",
    "        \n",
    "        np.random.shuffle(to_append)\n",
    "        new_batches.append(to_append)\n",
    "        cur_ids = [x + 1 for x in cur_ids]\n",
    "        cur_ids[0] += 1\n",
    "        \n",
    "    new_batches = [item for sublist in new_batches for item in sublist]\n",
    "    #overlap = [x for x in new_batches if x in test_ids]\n",
    "    #print(\"There is {} overlap. Error if > 0\".format(len(overlap)))\n",
    "    return new_batches"
   ]
  },
  {
   "cell_type": "code",
   "execution_count": 57,
   "metadata": {},
   "outputs": [
    {
     "data": {
      "image/png": "[encoded data removed]",
      "text/plain": [
       "<Figure size 1440x288 with 8 Axes>"
      ]
     },
     "metadata": {
      "needs_background": "light"
     },
     "output_type": "display_data"
    }
   ],
   "source": [
    "#! Todo: Move to one cell, rather than 3\n",
    "batch = equibatch(train_ids, True)\n",
    "multiplot([x.reshape((14, 14)) for x in train_y[batch[:4]]])"
   ]
  },
  {
   "cell_type": "code",
   "execution_count": 58,
   "metadata": {},
   "outputs": [
    {
     "data": {
      "image/png": "[encoded data removed]",
      "text/plain": [
       "<Figure size 1440x288 with 8 Axes>"
      ]
     },
     "metadata": {
      "needs_background": "light"
     },
     "output_type": "display_data"
    }
   ],
   "source": [
    "multiplot([x.reshape((14, 14)) for x in train_y[batch[4:8]]])"
   ]
  },
  {
   "cell_type": "code",
   "execution_count": 59,
   "metadata": {},
   "outputs": [
    {
     "data": {
      "image/png": "[encoded data removed]",
      "text/plain": [
       "<Figure size 1440x288 with 8 Axes>"
      ]
     },
     "metadata": {
      "needs_background": "light"
     },
     "output_type": "display_data"
    }
   ],
   "source": [
    "multiplot([x.reshape((14, 14)) for x in train_y[batch[8:12]]])"
   ]
  },
  {
   "cell_type": "code",
   "execution_count": 60,
   "metadata": {},
   "outputs": [],
   "source": [
    "# This cell should be run to do fine-tuning, if commented - train from scratch\n",
    "\n",
    "#new_saver = tf.train.import_meta_graph('../models/new_model/model.meta')\n",
    "#new_saver.restore(sess, tf.train.latest_checkpoint('../models/new_model/'))"
   ]
  },
  {
   "cell_type": "markdown",
   "metadata": {},
   "source": [
    "# Graph set up"
   ]
  },
  {
   "cell_type": "code",
   "execution_count": 168,
   "metadata": {
    "scrolled": false
   },
   "outputs": [
    {
     "name": "stdout",
     "output_type": "stream",
     "text": [
      "Starting model with: \n",
      " 0.15 zone out \n",
      " 0.0 l2 \n",
      " 0.0002 initial LR \n",
      " 0.001 final LR \n",
      " 97905 parameters\n",
      "Restarting training from scratch on 2920 train and 173 test samples, total 730\n",
      "()\n",
      "()\n",
      "The graph has been finalized\n"
     ]
    }
   ],
   "source": [
    "FRESH_START = True\n",
    "best_val = 0.72\n",
    "\n",
    "START_EPOCH = 1\n",
    "END_EPOCH = 150\n",
    "LEARNING_RATE = 4e-3\n",
    "test_ids = [x for x in range(0, len(test_x))]\n",
    "\n",
    "\n",
    "print(\"Starting model with: \\n {} zone out \\n {} l2 \\n {} initial LR \\n {} final LR \\n {} parameters\"\n",
    "     .format(ZONE_OUT_PROB, L2_REG, INITIAL_LR, FINAL_LR, total_parameters))\n",
    "\n",
    "if not FRESH_START:\n",
    "    print(\"Resuming training with a best validation score of {}\".format(best_val))\n",
    "    \n",
    "if FRESH_START:\n",
    "    print(\"Restarting training from scratch on {} \"\n",
    "          \"train and {} test samples, total {}\".format(len(train_ids), len(test_ids), N_SAMPLES))\n",
    "\n",
    "    #optimizer = tf.train.AdamOptimizer(LEARNING_RATE, epsilon = 1e-8)\n",
    "    optimizer = AdaBoundOptimizer(4e-3, 1e-1)\n",
    "    train_loss = bce_lv(tf.reshape(labels, (-1, 14, 14, 1)), fm, alpha)\n",
    "    l2_loss = tf.losses.get_regularization_loss()\n",
    "    train_loss += l2_loss\n",
    "\n",
    "    ft_optimizer = tf.train.GradientDescentOptimizer(0.01)\n",
    "    ft_loss = bce_lv(tf.reshape(labels, (-1, 14, 14, 1)), fm, alpha)\n",
    "    #wu_loss = weighted_bce_loss(tf.reshape(labels, (-1, 14, 14, 1)), fm, weight = 1.5)\n",
    "    \n",
    "    test_loss = weighted_bce_loss(tf.reshape(labels, (-1, 14, 14, 1)), fm, weight = 1.)\n",
    "    update_ops = tf.get_collection(tf.GraphKeys.UPDATE_OPS)\n",
    "    \n",
    "    with tf.control_dependencies(update_ops):\n",
    "        train_op = optimizer.minimize(train_loss)   \n",
    "        ft_op = ft_optimizer.minimize(ft_loss)\n",
    "        \n",
    "    init_op = tf.global_variables_initializer()\n",
    "    sess.run(init_op)\n",
    "    saver = tf.train.Saver(max_to_keep = 2)\n",
    "    \n",
    "print(\"The graph has been finalized\")"
   ]
  },
  {
   "cell_type": "markdown",
   "metadata": {},
   "source": [
    "# Model training"
   ]
  },
  {
   "cell_type": "code",
   "execution_count": 178,
   "metadata": {
    "scrolled": true
   },
   "outputs": [
    {
     "name": "stdout",
     "output_type": "stream",
     "text": [
      "Loss: 0.94 1.5 weighted BCE + 0.060000000000000005 Image Lovasz\n"
     ]
    },
    {
     "data": {
      "application/vnd.jupyter.widget-view+json": {
       "model_id": "0c9ecc3f41f6434db553130d5157637c",
       "version_major": 2,
       "version_minor": 0
      },
      "text/plain": [
       "HBox(children=(IntProgress(value=0, max=157), HTML(value='')))"
      ]
     },
     "metadata": {},
     "output_type": "display_data"
    },
    {
     "name": "stdout",
     "output_type": "stream",
     "text": [
      "Epoch 1: Loss 0.5379999876022339\n",
      "Val loss: 0.4009999930858612 Thresh: 0.6 F1: 0.728 Recall: 0.709 Precision: 0.749 Error: 0.056\n",
      "Saving model with 0.7282454557174165\n",
      "Loss: 0.9299999999999999 1.5 weighted BCE + 0.07 Image Lovasz\n"
     ]
    },
    {
     "data": {
      "application/vnd.jupyter.widget-view+json": {
       "model_id": "36459a25fced4c009e6cc416f055e0f4",
       "version_major": 2,
       "version_minor": 0
      },
      "text/plain": [
       "HBox(children=(IntProgress(value=0, max=157), HTML(value='')))"
      ]
     },
     "metadata": {},
     "output_type": "display_data"
    },
    {
     "name": "stdout",
     "output_type": "stream",
     "text": [
      "Epoch 2: Loss 0.5429999828338623\n",
      "Val loss: 0.38100001215934753 Thresh: 0.5 F1: 0.721 Recall: 0.721 Precision: 0.721 Error: 0.001\n",
      "Saving model with 0.7209856915739269\n",
      "Loss: 0.9199999999999999 1.5 weighted BCE + 0.08 Image Lovasz\n"
     ]
    },
    {
     "data": {
      "application/vnd.jupyter.widget-view+json": {
       "model_id": "b0c5f68d2f504145a1faa55e40b09d74",
       "version_major": 2,
       "version_minor": 0
      },
      "text/plain": [
       "HBox(children=(IntProgress(value=0, max=157), HTML(value='')))"
      ]
     },
     "metadata": {},
     "output_type": "display_data"
    },
    {
     "name": "stdout",
     "output_type": "stream",
     "text": [
      "Epoch 3: Loss 0.5400000214576721\n",
      "Val loss: 0.3529999852180481 Thresh: 0.4 F1: 0.73 Recall: 0.734 Precision: 0.726 Error: 0.01\n",
      "Saving model with 0.7301312370927986\n",
      "Loss: 0.9099999999999999 1.5 weighted BCE + 0.09 Image Lovasz\n"
     ]
    },
    {
     "data": {
      "application/vnd.jupyter.widget-view+json": {
       "model_id": "1b67e3bc187f4ef7bb01f133de0cbfbd",
       "version_major": 2,
       "version_minor": 0
      },
      "text/plain": [
       "HBox(children=(IntProgress(value=0, max=157), HTML(value='')))"
      ]
     },
     "metadata": {},
     "output_type": "display_data"
    },
    {
     "name": "stdout",
     "output_type": "stream",
     "text": [
      "Epoch 4: Loss 0.5360000133514404\n",
      "Val loss: 0.3659999966621399 Thresh: 0.5 F1: 0.731 Recall: 0.706 Precision: 0.757 Error: 0.072\n",
      "Saving model with 0.7308553515450068\n",
      "Loss: 0.8999999999999999 1.5 weighted BCE + 0.1 Image Lovasz\n"
     ]
    },
    {
     "data": {
      "application/vnd.jupyter.widget-view+json": {
       "model_id": "306c7924c59a449e9fd81ab0fb19395d",
       "version_major": 2,
       "version_minor": 0
      },
      "text/plain": [
       "HBox(children=(IntProgress(value=0, max=157), HTML(value='')))"
      ]
     },
     "metadata": {},
     "output_type": "display_data"
    },
    {
     "name": "stdout",
     "output_type": "stream",
     "text": [
      "Epoch 5: Loss 0.531000018119812\n",
      "Val loss: 0.3720000088214874 Thresh: 0.55 F1: 0.732 Recall: 0.723 Precision: 0.743 Error: 0.028\n",
      "Saving model with 0.7324183006535947\n",
      "Loss: 0.8899999999999999 1.5 weighted BCE + 0.11 Image Lovasz\n"
     ]
    },
    {
     "data": {
      "application/vnd.jupyter.widget-view+json": {
       "model_id": "b96237b450e84af8a0927b5c6a655b91",
       "version_major": 2,
       "version_minor": 0
      },
      "text/plain": [
       "HBox(children=(IntProgress(value=0, max=157), HTML(value='')))"
      ]
     },
     "metadata": {},
     "output_type": "display_data"
    },
    {
     "name": "stdout",
     "output_type": "stream",
     "text": [
      "Epoch 6: Loss 0.5339999794960022\n",
      "Val loss: 0.367000013589859 Thresh: 0.55 F1: 0.737 Recall: 0.723 Precision: 0.752 Error: 0.041\n",
      "Saving model with 0.7373343725643023\n",
      "Loss: 0.8799999999999999 1.5 weighted BCE + 0.12000000000000001 Image Lovasz\n"
     ]
    },
    {
     "data": {
      "application/vnd.jupyter.widget-view+json": {
       "model_id": "b7199fd44aeb439e9186e96655c4cf9e",
       "version_major": 2,
       "version_minor": 0
      },
      "text/plain": [
       "HBox(children=(IntProgress(value=0, max=157), HTML(value='')))"
      ]
     },
     "metadata": {},
     "output_type": "display_data"
    },
    {
     "name": "stdout",
     "output_type": "stream",
     "text": [
      "Epoch 7: Loss 0.5339999794960022\n",
      "Val loss: 0.38499999046325684 Thresh: 0.55 F1: 0.732 Recall: 0.698 Precision: 0.769 Error: 0.102\n",
      "Saving model with 0.7316396646283805\n",
      "Loss: 0.8799999999999999 1.5 weighted BCE + 0.12000000000000001 Image Lovasz\n"
     ]
    },
    {
     "data": {
      "application/vnd.jupyter.widget-view+json": {
       "model_id": "11bc9a99c02a4469891b3f08954f3a90",
       "version_major": 2,
       "version_minor": 0
      },
      "text/plain": [
       "HBox(children=(IntProgress(value=0, max=157), HTML(value='')))"
      ]
     },
     "metadata": {},
     "output_type": "display_data"
    },
    {
     "name": "stdout",
     "output_type": "stream",
     "text": [
      "Epoch 8: Loss 0.5299999713897705\n",
      "Val loss: 0.3720000088214874 Thresh: 0.5 F1: 0.733 Recall: 0.684 Precision: 0.79 Error: 0.156\n",
      "Saving model with 0.7330628304438706\n",
      "Loss: 0.8799999999999999 1.5 weighted BCE + 0.12000000000000001 Image Lovasz\n"
     ]
    },
    {
     "data": {
      "application/vnd.jupyter.widget-view+json": {
       "model_id": "c8fb048969ad4c81ab01e3dc3cf8d296",
       "version_major": 2,
       "version_minor": 0
      },
      "text/plain": [
       "HBox(children=(IntProgress(value=0, max=157), HTML(value='')))"
      ]
     },
     "metadata": {},
     "output_type": "display_data"
    },
    {
     "name": "stdout",
     "output_type": "stream",
     "text": [
      "Epoch 9: Loss 0.5299999713897705\n",
      "Val loss: 0.3569999933242798 Thresh: 0.45 F1: 0.744 Recall: 0.691 Precision: 0.806 Error: 0.168\n",
      "Saving model with 0.7441604500428028\n",
      "Loss: 0.8799999999999999 1.5 weighted BCE + 0.12000000000000001 Image Lovasz\n"
     ]
    },
    {
     "data": {
      "application/vnd.jupyter.widget-view+json": {
       "model_id": "952f4ec319a4473391f8bc005b4d934b",
       "version_major": 2,
       "version_minor": 0
      },
      "text/plain": [
       "HBox(children=(IntProgress(value=0, max=157), HTML(value='')))"
      ]
     },
     "metadata": {},
     "output_type": "display_data"
    },
    {
     "name": "stdout",
     "output_type": "stream",
     "text": [
      "Epoch 10: Loss 0.5289999842643738\n",
      "Val loss: 0.35499998927116394 Thresh: 0.5 F1: 0.74 Recall: 0.712 Precision: 0.77 Error: 0.083\n",
      "Saving model with 0.7398498154511899\n",
      "Loss: 0.8799999999999999 1.5 weighted BCE + 0.12000000000000001 Image Lovasz\n"
     ]
    },
    {
     "data": {
      "application/vnd.jupyter.widget-view+json": {
       "model_id": "491b4755178f47dfa6d38f427ee1785f",
       "version_major": 2,
       "version_minor": 0
      },
      "text/plain": [
       "HBox(children=(IntProgress(value=0, max=157), HTML(value='')))"
      ]
     },
     "metadata": {},
     "output_type": "display_data"
    },
    {
     "name": "stdout",
     "output_type": "stream",
     "text": [
      "Epoch 11: Loss 0.5270000100135803\n",
      "Val loss: 0.35899999737739563 Thresh: 0.45 F1: 0.735 Recall: 0.705 Precision: 0.768 Error: 0.091\n",
      "Saving model with 0.735053572560705\n",
      "Loss: 0.8799999999999999 1.5 weighted BCE + 0.12000000000000001 Image Lovasz\n"
     ]
    },
    {
     "data": {
      "application/vnd.jupyter.widget-view+json": {
       "model_id": "80b8e9b043b64edaae6dda514ee15101",
       "version_major": 2,
       "version_minor": 0
      },
      "text/plain": [
       "HBox(children=(IntProgress(value=0, max=157), HTML(value='')))"
      ]
     },
     "metadata": {},
     "output_type": "display_data"
    },
    {
     "name": "stdout",
     "output_type": "stream",
     "text": [
      "Epoch 12: Loss 0.5260000228881836\n",
      "Val loss: 0.3700000047683716 Thresh: 0.5 F1: 0.742 Recall: 0.696 Precision: 0.794 Error: 0.141\n",
      "Saving model with 0.7418276374442793\n",
      "Loss: 0.8799999999999999 1.5 weighted BCE + 0.12000000000000001 Image Lovasz\n"
     ]
    },
    {
     "data": {
      "application/vnd.jupyter.widget-view+json": {
       "model_id": "6322c1559dd647bcb8ec80a9968e58f6",
       "version_major": 2,
       "version_minor": 0
      },
      "text/plain": [
       "HBox(children=(IntProgress(value=0, max=157), HTML(value='')))"
      ]
     },
     "metadata": {},
     "output_type": "display_data"
    },
    {
     "name": "stdout",
     "output_type": "stream",
     "text": [
      "Epoch 13: Loss 0.5260000228881836\n",
      "Val loss: 0.36899998784065247 Thresh: 0.5 F1: 0.734 Recall: 0.704 Precision: 0.766 Error: 0.088\n",
      "Loss: 0.8799999999999999 1.5 weighted BCE + 0.12000000000000001 Image Lovasz\n"
     ]
    },
    {
     "data": {
      "application/vnd.jupyter.widget-view+json": {
       "model_id": "07d1bb7ae2ba428db657cb7fa6d57d1f",
       "version_major": 2,
       "version_minor": 0
      },
      "text/plain": [
       "HBox(children=(IntProgress(value=0, max=157), HTML(value='')))"
      ]
     },
     "metadata": {},
     "output_type": "display_data"
    },
    {
     "name": "stdout",
     "output_type": "stream",
     "text": [
      "Epoch 14: Loss 0.5230000019073486\n",
      "Val loss: 0.3619999885559082 Thresh: 0.5 F1: 0.737 Recall: 0.713 Precision: 0.763 Error: 0.07\n",
      "Saving model with 0.7370038412291933\n",
      "Loss: 0.8799999999999999 1.5 weighted BCE + 0.12000000000000001 Image Lovasz\n"
     ]
    },
    {
     "data": {
      "application/vnd.jupyter.widget-view+json": {
       "model_id": "43b396600b58406d8ae098eb1b62c5dc",
       "version_major": 2,
       "version_minor": 0
      },
      "text/plain": [
       "HBox(children=(IntProgress(value=0, max=157), HTML(value='')))"
      ]
     },
     "metadata": {},
     "output_type": "display_data"
    },
    {
     "name": "stdout",
     "output_type": "stream",
     "text": [
      "Epoch 15: Loss 0.515999972820282\n",
      "Val loss: 0.3709999918937683 Thresh: 0.55 F1: 0.734 Recall: 0.706 Precision: 0.763 Error: 0.08\n",
      "Loss: 0.8799999999999999 1.5 weighted BCE + 0.12000000000000001 Image Lovasz\n"
     ]
    },
    {
     "data": {
      "application/vnd.jupyter.widget-view+json": {
       "model_id": "af9e959eca9d40f099b3dc659c2f69c3",
       "version_major": 2,
       "version_minor": 0
      },
      "text/plain": [
       "HBox(children=(IntProgress(value=0, max=157), HTML(value='')))"
      ]
     },
     "metadata": {},
     "output_type": "display_data"
    },
    {
     "name": "stdout",
     "output_type": "stream",
     "text": [
      "Epoch 16: Loss 0.5189999938011169\n",
      "Val loss: 0.36000001430511475 Thresh: 0.55 F1: 0.736 Recall: 0.739 Precision: 0.733 Error: 0.009\n",
      "Saving model with 0.735973377703827\n",
      "Loss: 0.8799999999999999 1.5 weighted BCE + 0.12000000000000001 Image Lovasz\n"
     ]
    },
    {
     "data": {
      "application/vnd.jupyter.widget-view+json": {
       "model_id": "8d3830e168b04993bca9264088603a1f",
       "version_major": 2,
       "version_minor": 0
      },
      "text/plain": [
       "HBox(children=(IntProgress(value=0, max=157), HTML(value='')))"
      ]
     },
     "metadata": {},
     "output_type": "display_data"
    },
    {
     "name": "stdout",
     "output_type": "stream",
     "text": [
      "Epoch 17: Loss 0.5180000066757202\n",
      "Val loss: 0.36399999260902405 Thresh: 0.5 F1: 0.724 Recall: 0.705 Precision: 0.744 Error: 0.056\n",
      "Loss: 0.8799999999999999 1.5 weighted BCE + 0.12000000000000001 Image Lovasz\n"
     ]
    },
    {
     "data": {
      "application/vnd.jupyter.widget-view+json": {
       "model_id": "ae94a5bcdf43484aa6bd6fc3e2923e2e",
       "version_major": 2,
       "version_minor": 0
      },
      "text/plain": [
       "HBox(children=(IntProgress(value=0, max=157), HTML(value='')))"
      ]
     },
     "metadata": {},
     "output_type": "display_data"
    },
    {
     "name": "stdout",
     "output_type": "stream",
     "text": [
      "Epoch 18: Loss 0.5170000195503235\n",
      "Val loss: 0.3930000066757202 Thresh: 0.55 F1: 0.707 Recall: 0.688 Precision: 0.728 Error: 0.058\n",
      "Loss: 0.8799999999999999 1.5 weighted BCE + 0.12000000000000001 Image Lovasz\n"
     ]
    },
    {
     "data": {
      "application/vnd.jupyter.widget-view+json": {
       "model_id": "4080d3fdb84940608e189486718a7996",
       "version_major": 2,
       "version_minor": 0
      },
      "text/plain": [
       "HBox(children=(IntProgress(value=0, max=157), HTML(value='')))"
      ]
     },
     "metadata": {},
     "output_type": "display_data"
    },
    {
     "name": "stdout",
     "output_type": "stream",
     "text": [
      "Epoch 19: Loss 0.5180000066757202\n",
      "Val loss: 0.3409999907016754 Thresh: 0.5 F1: 0.742 Recall: 0.738 Precision: 0.746 Error: 0.01\n",
      "Saving model with 0.741824894514768\n",
      "Loss: 0.8799999999999999 1.5 weighted BCE + 0.12000000000000001 Image Lovasz\n"
     ]
    },
    {
     "data": {
      "application/vnd.jupyter.widget-view+json": {
       "model_id": "b3ce98c206ea43b09372ba4004e155f5",
       "version_major": 2,
       "version_minor": 0
      },
      "text/plain": [
       "HBox(children=(IntProgress(value=0, max=157), HTML(value='')))"
      ]
     },
     "metadata": {},
     "output_type": "display_data"
    },
    {
     "name": "stdout",
     "output_type": "stream",
     "text": [
      "Epoch 20: Loss 0.5109999775886536\n",
      "Val loss: 0.35499998927116394 Thresh: 0.45 F1: 0.736 Recall: 0.691 Precision: 0.788 Error: 0.14\n",
      "Saving model with 0.7362487611496532\n",
      "Loss: 0.8799999999999999 1.5 weighted BCE + 0.12000000000000001 Image Lovasz\n"
     ]
    },
    {
     "data": {
      "application/vnd.jupyter.widget-view+json": {
       "model_id": "228d32e2c51a46499a3529e491ab7a9a",
       "version_major": 2,
       "version_minor": 0
      },
      "text/plain": [
       "HBox(children=(IntProgress(value=0, max=157), HTML(value='')))"
      ]
     },
     "metadata": {},
     "output_type": "display_data"
    },
    {
     "name": "stdout",
     "output_type": "stream",
     "text": [
      "Epoch 21: Loss 0.5139999985694885\n",
      "Val loss: 0.35199999809265137 Thresh: 0.45 F1: 0.736 Recall: 0.702 Precision: 0.773 Error: 0.101\n",
      "Saving model with 0.7359192683695995\n",
      "Loss: 0.8799999999999999 1.5 weighted BCE + 0.12000000000000001 Image Lovasz\n"
     ]
    },
    {
     "data": {
      "application/vnd.jupyter.widget-view+json": {
       "model_id": "316084fa8f91447996486b8c217e75ca",
       "version_major": 2,
       "version_minor": 0
      },
      "text/plain": [
       "HBox(children=(IntProgress(value=0, max=157), HTML(value='')))"
      ]
     },
     "metadata": {},
     "output_type": "display_data"
    },
    {
     "name": "stdout",
     "output_type": "stream",
     "text": [
      "Epoch 22: Loss 0.5139999985694885\n",
      "Val loss: 0.39800000190734863 Thresh: 0.6 F1: 0.739 Recall: 0.709 Precision: 0.771 Error: 0.087\n",
      "Saving model with 0.7387742140362019\n",
      "Loss: 0.8799999999999999 1.5 weighted BCE + 0.12000000000000001 Image Lovasz\n"
     ]
    },
    {
     "data": {
      "application/vnd.jupyter.widget-view+json": {
       "model_id": "00a81ee5b3c9440baebe2e37d61994b2",
       "version_major": 2,
       "version_minor": 0
      },
      "text/plain": [
       "HBox(children=(IntProgress(value=0, max=157), HTML(value='')))"
      ]
     },
     "metadata": {},
     "output_type": "display_data"
    },
    {
     "name": "stdout",
     "output_type": "stream",
     "text": [
      "Epoch 23: Loss 0.5130000114440918\n",
      "Val loss: 0.3479999899864197 Thresh: 0.4 F1: 0.724 Recall: 0.72 Precision: 0.728 Error: 0.011\n",
      "Loss: 0.8799999999999999 1.5 weighted BCE + 0.12000000000000001 Image Lovasz\n"
     ]
    },
    {
     "data": {
      "application/vnd.jupyter.widget-view+json": {
       "model_id": "2875d84bed3d481687ffa449e909de0e",
       "version_major": 2,
       "version_minor": 0
      },
      "text/plain": [
       "HBox(children=(IntProgress(value=0, max=157), HTML(value='')))"
      ]
     },
     "metadata": {},
     "output_type": "display_data"
    },
    {
     "name": "stdout",
     "output_type": "stream",
     "text": [
      "Epoch 24: Loss 0.5109999775886536\n",
      "Val loss: 0.35100001096725464 Thresh: 0.4 F1: 0.733 Recall: 0.687 Precision: 0.785 Error: 0.142\n",
      "Loss: 0.8799999999999999 1.5 weighted BCE + 0.12000000000000001 Image Lovasz\n"
     ]
    },
    {
     "data": {
      "application/vnd.jupyter.widget-view+json": {
       "model_id": "4b625de9a6774cc0bdd8d7ad31563084",
       "version_major": 2,
       "version_minor": 0
      },
      "text/plain": [
       "HBox(children=(IntProgress(value=0, max=157), HTML(value='')))"
      ]
     },
     "metadata": {},
     "output_type": "display_data"
    },
    {
     "name": "stdout",
     "output_type": "stream",
     "text": [
      "Epoch 25: Loss 0.5090000033378601\n",
      "Val loss: 0.36000001430511475 Thresh: 0.5 F1: 0.714 Recall: 0.703 Precision: 0.726 Error: 0.032\n",
      "Loss: 0.8799999999999999 1.5 weighted BCE + 0.12000000000000001 Image Lovasz\n"
     ]
    },
    {
     "data": {
      "application/vnd.jupyter.widget-view+json": {
       "model_id": "fe79d9e628564e20aaf4ff5551a22b9b",
       "version_major": 2,
       "version_minor": 0
      },
      "text/plain": [
       "HBox(children=(IntProgress(value=0, max=157), HTML(value='')))"
      ]
     },
     "metadata": {},
     "output_type": "display_data"
    },
    {
     "name": "stdout",
     "output_type": "stream",
     "text": [
      "Epoch 26: Loss 0.5070000290870667\n",
      "Val loss: 0.3490000069141388 Thresh: 0.45 F1: 0.732 Recall: 0.72 Precision: 0.745 Error: 0.035\n",
      "Loss: 0.8799999999999999 1.5 weighted BCE + 0.12000000000000001 Image Lovasz\n"
     ]
    },
    {
     "data": {
      "application/vnd.jupyter.widget-view+json": {
       "model_id": "2470aa486de942b1857d8c6a7d2bb82f",
       "version_major": 2,
       "version_minor": 0
      },
      "text/plain": [
       "HBox(children=(IntProgress(value=0, max=157), HTML(value='')))"
      ]
     },
     "metadata": {},
     "output_type": "display_data"
    },
    {
     "name": "stdout",
     "output_type": "stream",
     "text": [
      "Epoch 27: Loss 0.5090000033378601\n",
      "Val loss: 0.36500000953674316 Thresh: 0.5 F1: 0.719 Recall: 0.698 Precision: 0.741 Error: 0.061\n",
      "Loss: 0.8799999999999999 1.5 weighted BCE + 0.12000000000000001 Image Lovasz\n"
     ]
    },
    {
     "data": {
      "application/vnd.jupyter.widget-view+json": {
       "model_id": "3afe8c98aa7744b4b5512f745b355746",
       "version_major": 2,
       "version_minor": 0
      },
      "text/plain": [
       "HBox(children=(IntProgress(value=0, max=157), HTML(value='')))"
      ]
     },
     "metadata": {},
     "output_type": "display_data"
    },
    {
     "name": "stdout",
     "output_type": "stream",
     "text": [
      "Epoch 28: Loss 0.5059999823570251\n",
      "Val loss: 0.36399999260902405 Thresh: 0.45 F1: 0.732 Recall: 0.673 Precision: 0.801 Error: 0.19\n",
      "Loss: 0.8799999999999999 1.5 weighted BCE + 0.12000000000000001 Image Lovasz\n"
     ]
    },
    {
     "data": {
      "application/vnd.jupyter.widget-view+json": {
       "model_id": "e0a76df2ac1e4dfabf35b6b71e4231b4",
       "version_major": 2,
       "version_minor": 0
      },
      "text/plain": [
       "HBox(children=(IntProgress(value=0, max=157), HTML(value='')))"
      ]
     },
     "metadata": {},
     "output_type": "display_data"
    },
    {
     "name": "stdout",
     "output_type": "stream",
     "text": [
      "Epoch 29: Loss 0.503000020980835\n",
      "Val loss: 0.35199999809265137 Thresh: 0.5 F1: 0.722 Recall: 0.729 Precision: 0.715 Error: 0.019\n",
      "Loss: 0.8799999999999999 1.5 weighted BCE + 0.12000000000000001 Image Lovasz\n"
     ]
    },
    {
     "data": {
      "application/vnd.jupyter.widget-view+json": {
       "model_id": "49a3c27e54a94dd5ab7f4d2a6511cfa5",
       "version_major": 2,
       "version_minor": 0
      },
      "text/plain": [
       "HBox(children=(IntProgress(value=0, max=157), HTML(value='')))"
      ]
     },
     "metadata": {},
     "output_type": "display_data"
    },
    {
     "name": "stdout",
     "output_type": "stream",
     "text": [
      "Epoch 30: Loss 0.5040000081062317\n",
      "Val loss: 0.36500000953674316 Thresh: 0.5 F1: 0.729 Recall: 0.703 Precision: 0.757 Error: 0.076\n",
      "Loss: 0.8799999999999999 1.5 weighted BCE + 0.12000000000000001 Image Lovasz\n"
     ]
    },
    {
     "data": {
      "application/vnd.jupyter.widget-view+json": {
       "model_id": "c188e46003774917aeb2ab9befc1af7a",
       "version_major": 2,
       "version_minor": 0
      },
      "text/plain": [
       "HBox(children=(IntProgress(value=0, max=157), HTML(value='')))"
      ]
     },
     "metadata": {},
     "output_type": "display_data"
    },
    {
     "name": "stdout",
     "output_type": "stream",
     "text": [
      "Epoch 31: Loss 0.5019999742507935\n",
      "Val loss: 0.36000001430511475 Thresh: 0.45 F1: 0.721 Recall: 0.7 Precision: 0.744 Error: 0.063\n",
      "Loss: 0.8799999999999999 1.5 weighted BCE + 0.12000000000000001 Image Lovasz\n"
     ]
    },
    {
     "data": {
      "application/vnd.jupyter.widget-view+json": {
       "model_id": "74360476dc50455588721e21dfdeccc8",
       "version_major": 2,
       "version_minor": 0
      },
      "text/plain": [
       "HBox(children=(IntProgress(value=0, max=157), HTML(value='')))"
      ]
     },
     "metadata": {},
     "output_type": "display_data"
    },
    {
     "name": "stdout",
     "output_type": "stream",
     "text": [
      "Epoch 32: Loss 0.49900001287460327\n",
      "Val loss: 0.3580000102519989 Thresh: 0.55 F1: 0.727 Recall: 0.734 Precision: 0.72 Error: 0.019\n",
      "Loss: 0.8799999999999999 1.5 weighted BCE + 0.12000000000000001 Image Lovasz\n"
     ]
    },
    {
     "data": {
      "application/vnd.jupyter.widget-view+json": {
       "model_id": "fe1b4b21f7af427c8a97431ace96b387",
       "version_major": 2,
       "version_minor": 0
      },
      "text/plain": [
       "HBox(children=(IntProgress(value=0, max=157), HTML(value='')))"
      ]
     },
     "metadata": {},
     "output_type": "display_data"
    },
    {
     "name": "stdout",
     "output_type": "stream",
     "text": [
      "Epoch 33: Loss 0.49799999594688416\n",
      "Val loss: 0.37700000405311584 Thresh: 0.6 F1: 0.713 Recall: 0.744 Precision: 0.685 Error: 0.079\n",
      "Loss: 0.8799999999999999 1.5 weighted BCE + 0.12000000000000001 Image Lovasz\n"
     ]
    },
    {
     "data": {
      "application/vnd.jupyter.widget-view+json": {
       "model_id": "c9ebc8127d274c2394fef11f2aa9e066",
       "version_major": 2,
       "version_minor": 0
      },
      "text/plain": [
       "HBox(children=(IntProgress(value=0, max=157), HTML(value='')))"
      ]
     },
     "metadata": {},
     "output_type": "display_data"
    },
    {
     "name": "stdout",
     "output_type": "stream",
     "text": [
      "Epoch 34: Loss 0.503000020980835\n",
      "Val loss: 0.36800000071525574 Thresh: 0.55 F1: 0.717 Recall: 0.713 Precision: 0.721 Error: 0.01\n",
      "Loss: 0.8799999999999999 1.5 weighted BCE + 0.12000000000000001 Image Lovasz\n"
     ]
    },
    {
     "data": {
      "application/vnd.jupyter.widget-view+json": {
       "model_id": "b725d904c9da4f078145a15d44d7f60e",
       "version_major": 2,
       "version_minor": 0
      },
      "text/plain": [
       "HBox(children=(IntProgress(value=0, max=157), HTML(value='')))"
      ]
     },
     "metadata": {},
     "output_type": "display_data"
    },
    {
     "name": "stdout",
     "output_type": "stream",
     "text": [
      "Epoch 35: Loss 0.4950000047683716\n",
      "Val loss: 0.3700000047683716 Thresh: 0.55 F1: 0.713 Recall: 0.711 Precision: 0.715 Error: 0.006\n",
      "Loss: 0.8799999999999999 1.5 weighted BCE + 0.12000000000000001 Image Lovasz\n"
     ]
    },
    {
     "data": {
      "application/vnd.jupyter.widget-view+json": {
       "model_id": "c62bd36525ec4662898db445d38030a7",
       "version_major": 2,
       "version_minor": 0
      },
      "text/plain": [
       "HBox(children=(IntProgress(value=0, max=157), HTML(value='')))"
      ]
     },
     "metadata": {},
     "output_type": "display_data"
    },
    {
     "name": "stdout",
     "output_type": "stream",
     "text": [
      "Epoch 36: Loss 0.4959999918937683\n",
      "Val loss: 0.36500000953674316 Thresh: 0.55 F1: 0.725 Recall: 0.725 Precision: 0.724 Error: 0.002\n",
      "Loss: 0.8799999999999999 1.5 weighted BCE + 0.12000000000000001 Image Lovasz\n"
     ]
    },
    {
     "data": {
      "application/vnd.jupyter.widget-view+json": {
       "model_id": "d653ffc92ae24e858d8d544e77c94edd",
       "version_major": 2,
       "version_minor": 0
      },
      "text/plain": [
       "HBox(children=(IntProgress(value=0, max=157), HTML(value='')))"
      ]
     },
     "metadata": {},
     "output_type": "display_data"
    },
    {
     "name": "stdout",
     "output_type": "stream",
     "text": [
      "Epoch 37: Loss 0.49399998784065247\n",
      "Val loss: 0.36500000953674316 Thresh: 0.45 F1: 0.717 Recall: 0.689 Precision: 0.748 Error: 0.086\n",
      "Loss: 0.8799999999999999 1.5 weighted BCE + 0.12000000000000001 Image Lovasz\n"
     ]
    },
    {
     "data": {
      "application/vnd.jupyter.widget-view+json": {
       "model_id": "48441dfaacfb454db5cd3c22c33774e9",
       "version_major": 2,
       "version_minor": 0
      },
      "text/plain": [
       "HBox(children=(IntProgress(value=0, max=157), HTML(value='')))"
      ]
     },
     "metadata": {},
     "output_type": "display_data"
    },
    {
     "name": "stdout",
     "output_type": "stream",
     "text": [
      "Epoch 38: Loss 0.4959999918937683\n",
      "Val loss: 0.3569999933242798 Thresh: 0.45 F1: 0.714 Recall: 0.713 Precision: 0.715 Error: 0.002\n",
      "Loss: 0.8799999999999999 1.5 weighted BCE + 0.12000000000000001 Image Lovasz\n"
     ]
    },
    {
     "data": {
      "application/vnd.jupyter.widget-view+json": {
       "model_id": "873c8dae9fb04523aee655517dc4be61",
       "version_major": 2,
       "version_minor": 0
      },
      "text/plain": [
       "HBox(children=(IntProgress(value=0, max=157), HTML(value='')))"
      ]
     },
     "metadata": {},
     "output_type": "display_data"
    },
    {
     "name": "stdout",
     "output_type": "stream",
     "text": [
      "Epoch 39: Loss 0.4970000088214874\n",
      "Val loss: 0.3610000014305115 Thresh: 0.4 F1: 0.717 Recall: 0.667 Precision: 0.777 Error: 0.165\n",
      "Loss: 0.8799999999999999 1.5 weighted BCE + 0.12000000000000001 Image Lovasz\n"
     ]
    },
    {
     "data": {
      "application/vnd.jupyter.widget-view+json": {
       "model_id": "796de14249e5411ea17c9ff98f6fc66a",
       "version_major": 2,
       "version_minor": 0
      },
      "text/plain": [
       "HBox(children=(IntProgress(value=0, max=157), HTML(value='')))"
      ]
     },
     "metadata": {},
     "output_type": "display_data"
    },
    {
     "name": "stdout",
     "output_type": "stream",
     "text": [
      "Epoch 40: Loss 0.49399998784065247\n",
      "Val loss: 0.3610000014305115 Thresh: 0.45 F1: 0.716 Recall: 0.723 Precision: 0.709 Error: 0.019\n",
      "Loss: 0.8799999999999999 1.5 weighted BCE + 0.12000000000000001 Image Lovasz\n"
     ]
    },
    {
     "data": {
      "application/vnd.jupyter.widget-view+json": {
       "model_id": "cfd1083098eb4427b4586824072addd4",
       "version_major": 2,
       "version_minor": 0
      },
      "text/plain": [
       "HBox(children=(IntProgress(value=0, max=157), HTML(value='')))"
      ]
     },
     "metadata": {},
     "output_type": "display_data"
    },
    {
     "name": "stdout",
     "output_type": "stream",
     "text": [
      "Epoch 41: Loss 0.4959999918937683\n",
      "Val loss: 0.35199999809265137 Thresh: 0.45 F1: 0.717 Recall: 0.727 Precision: 0.707 Error: 0.028\n",
      "Loss: 0.8799999999999999 1.5 weighted BCE + 0.12000000000000001 Image Lovasz\n"
     ]
    },
    {
     "data": {
      "application/vnd.jupyter.widget-view+json": {
       "model_id": "fe1432639fd44d97bbc742cf5eef1a0b",
       "version_major": 2,
       "version_minor": 0
      },
      "text/plain": [
       "HBox(children=(IntProgress(value=0, max=157), HTML(value='')))"
      ]
     },
     "metadata": {},
     "output_type": "display_data"
    },
    {
     "name": "stdout",
     "output_type": "stream",
     "text": [
      "Epoch 42: Loss 0.49399998784065247\n",
      "Val loss: 0.3569999933242798 Thresh: 0.45 F1: 0.716 Recall: 0.706 Precision: 0.727 Error: 0.03\n",
      "Loss: 0.8799999999999999 1.5 weighted BCE + 0.12000000000000001 Image Lovasz\n"
     ]
    },
    {
     "data": {
      "application/vnd.jupyter.widget-view+json": {
       "model_id": "98220881677c4289bea07253fef7c4c7",
       "version_major": 2,
       "version_minor": 0
      },
      "text/plain": [
       "HBox(children=(IntProgress(value=0, max=157), HTML(value='')))"
      ]
     },
     "metadata": {},
     "output_type": "display_data"
    },
    {
     "name": "stdout",
     "output_type": "stream",
     "text": [
      "Epoch 43: Loss 0.492000013589859\n",
      "Val loss: 0.3720000088214874 Thresh: 0.5 F1: 0.713 Recall: 0.705 Precision: 0.721 Error: 0.023\n",
      "Loss: 0.8799999999999999 1.5 weighted BCE + 0.12000000000000001 Image Lovasz\n"
     ]
    },
    {
     "data": {
      "application/vnd.jupyter.widget-view+json": {
       "model_id": "7b066af279e640318583a53db8c36b74",
       "version_major": 2,
       "version_minor": 0
      },
      "text/plain": [
       "HBox(children=(IntProgress(value=0, max=157), HTML(value='')))"
      ]
     },
     "metadata": {},
     "output_type": "display_data"
    },
    {
     "name": "stdout",
     "output_type": "stream",
     "text": [
      "Epoch 44: Loss 0.4869999885559082\n",
      "Val loss: 0.37700000405311584 Thresh: 0.55 F1: 0.712 Recall: 0.711 Precision: 0.713 Error: 0.003\n",
      "Loss: 0.8799999999999999 1.5 weighted BCE + 0.12000000000000001 Image Lovasz\n"
     ]
    },
    {
     "data": {
      "application/vnd.jupyter.widget-view+json": {
       "model_id": "a98a5077f36043f79e555f6d1abead79",
       "version_major": 2,
       "version_minor": 0
      },
      "text/plain": [
       "HBox(children=(IntProgress(value=0, max=157), HTML(value='')))"
      ]
     },
     "metadata": {},
     "output_type": "display_data"
    },
    {
     "name": "stdout",
     "output_type": "stream",
     "text": [
      "Epoch 45: Loss 0.4909999966621399\n",
      "Val loss: 0.38499999046325684 Thresh: 0.55 F1: 0.714 Recall: 0.698 Precision: 0.73 Error: 0.045\n",
      "Loss: 0.8799999999999999 1.5 weighted BCE + 0.12000000000000001 Image Lovasz\n"
     ]
    },
    {
     "data": {
      "application/vnd.jupyter.widget-view+json": {
       "model_id": "d51076275174401dae356c1e36499ebb",
       "version_major": 2,
       "version_minor": 0
      },
      "text/plain": [
       "HBox(children=(IntProgress(value=0, max=157), HTML(value='')))"
      ]
     },
     "metadata": {},
     "output_type": "display_data"
    },
    {
     "name": "stdout",
     "output_type": "stream",
     "text": [
      "Epoch 46: Loss 0.48899999260902405\n",
      "Val loss: 0.38199999928474426 Thresh: 0.6 F1: 0.719 Recall: 0.739 Precision: 0.7 Error: 0.053\n",
      "Loss: 0.8799999999999999 1.5 weighted BCE + 0.12000000000000001 Image Lovasz\n"
     ]
    },
    {
     "data": {
      "application/vnd.jupyter.widget-view+json": {
       "model_id": "ece53b26d24a45b9a2e4e05f4d52637c",
       "version_major": 2,
       "version_minor": 0
      },
      "text/plain": [
       "HBox(children=(IntProgress(value=0, max=157), HTML(value='')))"
      ]
     },
     "metadata": {},
     "output_type": "display_data"
    },
    {
     "name": "stdout",
     "output_type": "stream",
     "text": [
      "Epoch 47: Loss 0.4970000088214874\n",
      "Val loss: 0.3569999933242798 Thresh: 0.4 F1: 0.712 Recall: 0.7 Precision: 0.726 Error: 0.037\n",
      "Loss: 0.8799999999999999 1.5 weighted BCE + 0.12000000000000001 Image Lovasz\n"
     ]
    },
    {
     "data": {
      "application/vnd.jupyter.widget-view+json": {
       "model_id": "cdcd9bfb73b9407a8bdfd8ad45c9684c",
       "version_major": 2,
       "version_minor": 0
      },
      "text/plain": [
       "HBox(children=(IntProgress(value=0, max=157), HTML(value='')))"
      ]
     },
     "metadata": {},
     "output_type": "display_data"
    },
    {
     "name": "stdout",
     "output_type": "stream",
     "text": [
      "Epoch 48: Loss 0.49300000071525574\n",
      "Val loss: 0.3700000047683716 Thresh: 0.5 F1: 0.712 Recall: 0.718 Precision: 0.707 Error: 0.015\n",
      "Loss: 0.8799999999999999 1.5 weighted BCE + 0.12000000000000001 Image Lovasz\n"
     ]
    },
    {
     "data": {
      "application/vnd.jupyter.widget-view+json": {
       "model_id": "dc45d37e3dd845748956089ef6139ed9",
       "version_major": 2,
       "version_minor": 0
      },
      "text/plain": [
       "HBox(children=(IntProgress(value=0, max=157), HTML(value='')))"
      ]
     },
     "metadata": {},
     "output_type": "display_data"
    },
    {
     "name": "stdout",
     "output_type": "stream",
     "text": [
      "Epoch 49: Loss 0.48500001430511475\n",
      "Val loss: 0.39800000190734863 Thresh: 0.6 F1: 0.718 Recall: 0.703 Precision: 0.735 Error: 0.046\n",
      "Loss: 0.8799999999999999 1.5 weighted BCE + 0.12000000000000001 Image Lovasz\n"
     ]
    },
    {
     "data": {
      "application/vnd.jupyter.widget-view+json": {
       "model_id": "b5244103173c438f8c8965c14272bea5",
       "version_major": 2,
       "version_minor": 0
      },
      "text/plain": [
       "HBox(children=(IntProgress(value=0, max=157), HTML(value='')))"
      ]
     },
     "metadata": {},
     "output_type": "display_data"
    },
    {
     "name": "stdout",
     "output_type": "stream",
     "text": [
      "Epoch 50: Loss 0.4950000047683716\n",
      "Val loss: 0.36500000953674316 Thresh: 0.45 F1: 0.727 Recall: 0.687 Precision: 0.772 Error: 0.124\n",
      "Loss: 0.8799999999999999 1.5 weighted BCE + 0.12000000000000001 Image Lovasz\n"
     ]
    },
    {
     "data": {
      "application/vnd.jupyter.widget-view+json": {
       "model_id": "0738144d4bdc491faf49ab35b2cd4b72",
       "version_major": 2,
       "version_minor": 0
      },
      "text/plain": [
       "HBox(children=(IntProgress(value=0, max=157), HTML(value='')))"
      ]
     },
     "metadata": {},
     "output_type": "display_data"
    },
    {
     "name": "stdout",
     "output_type": "stream",
     "text": [
      "Epoch 51: Loss 0.4869999885559082\n",
      "Val loss: 0.3720000088214874 Thresh: 0.5 F1: 0.71 Recall: 0.689 Precision: 0.731 Error: 0.061\n",
      "Loss: 0.8799999999999999 1.5 weighted BCE + 0.12000000000000001 Image Lovasz\n"
     ]
    },
    {
     "data": {
      "application/vnd.jupyter.widget-view+json": {
       "model_id": "c72790cc840d4d3d8f239048b7c14cb1",
       "version_major": 2,
       "version_minor": 0
      },
      "text/plain": [
       "HBox(children=(IntProgress(value=0, max=157), HTML(value='')))"
      ]
     },
     "metadata": {},
     "output_type": "display_data"
    },
    {
     "name": "stdout",
     "output_type": "stream",
     "text": [
      "Epoch 52: Loss 0.4830000102519989\n",
      "Val loss: 0.36800000071525574 Thresh: 0.45 F1: 0.716 Recall: 0.683 Precision: 0.752 Error: 0.101\n",
      "Loss: 0.8799999999999999 1.5 weighted BCE + 0.12000000000000001 Image Lovasz\n"
     ]
    },
    {
     "data": {
      "application/vnd.jupyter.widget-view+json": {
       "model_id": "0cfde42af5504e2191c2d6a4fd18c86d",
       "version_major": 2,
       "version_minor": 0
      },
      "text/plain": [
       "HBox(children=(IntProgress(value=0, max=157), HTML(value='')))"
      ]
     },
     "metadata": {},
     "output_type": "display_data"
    },
    {
     "name": "stdout",
     "output_type": "stream",
     "text": [
      "Epoch 53: Loss 0.4860000014305115\n",
      "Val loss: 0.36000001430511475 Thresh: 0.4 F1: 0.72 Recall: 0.689 Precision: 0.754 Error: 0.094\n",
      "Loss: 0.8799999999999999 1.5 weighted BCE + 0.12000000000000001 Image Lovasz\n"
     ]
    },
    {
     "data": {
      "application/vnd.jupyter.widget-view+json": {
       "model_id": "68edbe5627324616b918dc2074800e36",
       "version_major": 2,
       "version_minor": 0
      },
      "text/plain": [
       "HBox(children=(IntProgress(value=0, max=157), HTML(value='')))"
      ]
     },
     "metadata": {},
     "output_type": "display_data"
    },
    {
     "name": "stdout",
     "output_type": "stream",
     "text": [
      "Epoch 54: Loss 0.4830000102519989\n",
      "Val loss: 0.36899998784065247 Thresh: 0.5 F1: 0.713 Recall: 0.716 Precision: 0.71 Error: 0.009\n",
      "Loss: 0.8799999999999999 1.5 weighted BCE + 0.12000000000000001 Image Lovasz\n"
     ]
    },
    {
     "data": {
      "application/vnd.jupyter.widget-view+json": {
       "model_id": "5ae681c29e3c4a5cb07dd7bc59bb0723",
       "version_major": 2,
       "version_minor": 0
      },
      "text/plain": [
       "HBox(children=(IntProgress(value=0, max=157), HTML(value='')))"
      ]
     },
     "metadata": {},
     "output_type": "display_data"
    },
    {
     "name": "stdout",
     "output_type": "stream",
     "text": [
      "Epoch 55: Loss 0.4819999933242798\n",
      "Val loss: 0.35899999737739563 Thresh: 0.4 F1: 0.714 Recall: 0.687 Precision: 0.743 Error: 0.082\n",
      "Loss: 0.8799999999999999 1.5 weighted BCE + 0.12000000000000001 Image Lovasz\n"
     ]
    },
    {
     "data": {
      "application/vnd.jupyter.widget-view+json": {
       "model_id": "22fc8caf0fb94c298a8e4749d5b859a6",
       "version_major": 2,
       "version_minor": 0
      },
      "text/plain": [
       "HBox(children=(IntProgress(value=0, max=157), HTML(value='')))"
      ]
     },
     "metadata": {},
     "output_type": "display_data"
    },
    {
     "name": "stdout",
     "output_type": "stream",
     "text": [
      "Epoch 56: Loss 0.4830000102519989\n",
      "Val loss: 0.3700000047683716 Thresh: 0.45 F1: 0.706 Recall: 0.723 Precision: 0.69 Error: 0.046\n",
      "Loss: 0.8799999999999999 1.5 weighted BCE + 0.12000000000000001 Image Lovasz\n"
     ]
    },
    {
     "data": {
      "application/vnd.jupyter.widget-view+json": {
       "model_id": "131ceeb225564a2e955f255de8a1d303",
       "version_major": 2,
       "version_minor": 0
      },
      "text/plain": [
       "HBox(children=(IntProgress(value=0, max=157), HTML(value='')))"
      ]
     },
     "metadata": {},
     "output_type": "display_data"
    },
    {
     "name": "stdout",
     "output_type": "stream",
     "text": [
      "Epoch 57: Loss 0.47999998927116394\n",
      "Val loss: 0.38199999928474426 Thresh: 0.6 F1: 0.706 Recall: 0.718 Precision: 0.694 Error: 0.033\n",
      "Loss: 0.8799999999999999 1.5 weighted BCE + 0.12000000000000001 Image Lovasz\n"
     ]
    },
    {
     "data": {
      "application/vnd.jupyter.widget-view+json": {
       "model_id": "3287208902ff44daaab8b6f8be8d050e",
       "version_major": 2,
       "version_minor": 0
      },
      "text/plain": [
       "HBox(children=(IntProgress(value=0, max=157), HTML(value='')))"
      ]
     },
     "metadata": {},
     "output_type": "display_data"
    },
    {
     "name": "stdout",
     "output_type": "stream",
     "text": [
      "Epoch 58: Loss 0.4869999885559082\n",
      "Val loss: 0.38199999928474426 Thresh: 0.45 F1: 0.709 Recall: 0.672 Precision: 0.75 Error: 0.116\n",
      "Loss: 0.8799999999999999 1.5 weighted BCE + 0.12000000000000001 Image Lovasz\n"
     ]
    },
    {
     "data": {
      "application/vnd.jupyter.widget-view+json": {
       "model_id": "bdb7bc24c2af4b45adbdde4c07cbef15",
       "version_major": 2,
       "version_minor": 0
      },
      "text/plain": [
       "HBox(children=(IntProgress(value=0, max=157), HTML(value='')))"
      ]
     },
     "metadata": {},
     "output_type": "display_data"
    },
    {
     "name": "stdout",
     "output_type": "stream",
     "text": [
      "Epoch 59: Loss 0.48100000619888306\n",
      "Val loss: 0.3869999945163727 Thresh: 0.55 F1: 0.708 Recall: 0.703 Precision: 0.713 Error: 0.014\n",
      "Loss: 0.8799999999999999 1.5 weighted BCE + 0.12000000000000001 Image Lovasz\n"
     ]
    },
    {
     "data": {
      "application/vnd.jupyter.widget-view+json": {
       "model_id": "21d379f5043b4164bab90ece5e304941",
       "version_major": 2,
       "version_minor": 0
      },
      "text/plain": [
       "HBox(children=(IntProgress(value=0, max=157), HTML(value='')))"
      ]
     },
     "metadata": {},
     "output_type": "display_data"
    },
    {
     "name": "stdout",
     "output_type": "stream",
     "text": [
      "Epoch 60: Loss 0.47999998927116394\n",
      "Val loss: 0.38199999928474426 Thresh: 0.55 F1: 0.709 Recall: 0.704 Precision: 0.714 Error: 0.013\n",
      "Loss: 0.8799999999999999 1.5 weighted BCE + 0.12000000000000001 Image Lovasz\n"
     ]
    },
    {
     "data": {
      "application/vnd.jupyter.widget-view+json": {
       "model_id": "eb67dd8ef5d447aba8045c2f82cb715b",
       "version_major": 2,
       "version_minor": 0
      },
      "text/plain": [
       "HBox(children=(IntProgress(value=0, max=157), HTML(value='')))"
      ]
     },
     "metadata": {},
     "output_type": "display_data"
    },
    {
     "name": "stdout",
     "output_type": "stream",
     "text": [
      "Epoch 61: Loss 0.4790000021457672\n",
      "Val loss: 0.36800000071525574 Thresh: 0.45 F1: 0.709 Recall: 0.689 Precision: 0.731 Error: 0.061\n",
      "Loss: 0.8799999999999999 1.5 weighted BCE + 0.12000000000000001 Image Lovasz\n"
     ]
    },
    {
     "data": {
      "application/vnd.jupyter.widget-view+json": {
       "model_id": "896b226da78243d89e0df384903e5ad4",
       "version_major": 2,
       "version_minor": 0
      },
      "text/plain": [
       "HBox(children=(IntProgress(value=0, max=157), HTML(value='')))"
      ]
     },
     "metadata": {},
     "output_type": "display_data"
    },
    {
     "name": "stdout",
     "output_type": "stream",
     "text": [
      "Epoch 62: Loss 0.47699999809265137\n",
      "Val loss: 0.3840000033378601 Thresh: 0.5 F1: 0.71 Recall: 0.684 Precision: 0.739 Error: 0.081\n",
      "Loss: 0.8799999999999999 1.5 weighted BCE + 0.12000000000000001 Image Lovasz\n"
     ]
    },
    {
     "data": {
      "application/vnd.jupyter.widget-view+json": {
       "model_id": "8e2275150acd4712baad1ac548addb5f",
       "version_major": 2,
       "version_minor": 0
      },
      "text/plain": [
       "HBox(children=(IntProgress(value=0, max=157), HTML(value='')))"
      ]
     },
     "metadata": {},
     "output_type": "display_data"
    },
    {
     "name": "stdout",
     "output_type": "stream",
     "text": [
      "Epoch 63: Loss 0.4790000021457672\n",
      "Val loss: 0.3779999911785126 Thresh: 0.45 F1: 0.71 Recall: 0.695 Precision: 0.727 Error: 0.045\n",
      "Loss: 0.8799999999999999 1.5 weighted BCE + 0.12000000000000001 Image Lovasz\n"
     ]
    },
    {
     "data": {
      "application/vnd.jupyter.widget-view+json": {
       "model_id": "24ea257c46b24d0697eea976a51fe62d",
       "version_major": 2,
       "version_minor": 0
      },
      "text/plain": [
       "HBox(children=(IntProgress(value=0, max=157), HTML(value='')))"
      ]
     },
     "metadata": {},
     "output_type": "display_data"
    },
    {
     "name": "stdout",
     "output_type": "stream",
     "text": [
      "Epoch 64: Loss 0.4790000021457672\n",
      "Val loss: 0.3790000081062317 Thresh: 0.45 F1: 0.709 Recall: 0.674 Precision: 0.747 Error: 0.108\n",
      "Loss: 0.8799999999999999 1.5 weighted BCE + 0.12000000000000001 Image Lovasz\n"
     ]
    },
    {
     "data": {
      "application/vnd.jupyter.widget-view+json": {
       "model_id": "e429acb96c8e4b858043873c5be8ef8b",
       "version_major": 2,
       "version_minor": 0
      },
      "text/plain": [
       "HBox(children=(IntProgress(value=0, max=157), HTML(value='')))"
      ]
     },
     "metadata": {},
     "output_type": "display_data"
    },
    {
     "name": "stdout",
     "output_type": "stream",
     "text": [
      "Epoch 65: Loss 0.4790000021457672\n",
      "Val loss: 0.4059999883174896 Thresh: 0.6 F1: 0.707 Recall: 0.687 Precision: 0.728 Error: 0.06\n",
      "Loss: 0.8799999999999999 1.5 weighted BCE + 0.12000000000000001 Image Lovasz\n"
     ]
    },
    {
     "data": {
      "application/vnd.jupyter.widget-view+json": {
       "model_id": "309f5bcf32af440ba015f61ade0595c5",
       "version_major": 2,
       "version_minor": 0
      },
      "text/plain": [
       "HBox(children=(IntProgress(value=0, max=157), HTML(value='')))"
      ]
     },
     "metadata": {},
     "output_type": "display_data"
    },
    {
     "name": "stdout",
     "output_type": "stream",
     "text": [
      "Epoch 66: Loss 0.4790000021457672\n",
      "Val loss: 0.3709999918937683 Thresh: 0.45 F1: 0.713 Recall: 0.7 Precision: 0.727 Error: 0.039\n",
      "Loss: 0.8799999999999999 1.5 weighted BCE + 0.12000000000000001 Image Lovasz\n"
     ]
    },
    {
     "data": {
      "application/vnd.jupyter.widget-view+json": {
       "model_id": "f6609dd2923d434a86a2e9db17ca4943",
       "version_major": 2,
       "version_minor": 0
      },
      "text/plain": [
       "HBox(children=(IntProgress(value=0, max=157), HTML(value='')))"
      ]
     },
     "metadata": {},
     "output_type": "display_data"
    },
    {
     "name": "stdout",
     "output_type": "stream",
     "text": [
      "Epoch 67: Loss 0.4749999940395355\n",
      "Val loss: 0.37700000405311584 Thresh: 0.5 F1: 0.713 Recall: 0.689 Precision: 0.738 Error: 0.072\n",
      "Loss: 0.8799999999999999 1.5 weighted BCE + 0.12000000000000001 Image Lovasz\n"
     ]
    },
    {
     "data": {
      "application/vnd.jupyter.widget-view+json": {
       "model_id": "988287c27fb448f8ad37a96a30f24013",
       "version_major": 2,
       "version_minor": 0
      },
      "text/plain": [
       "HBox(children=(IntProgress(value=0, max=157), HTML(value='')))"
      ]
     },
     "metadata": {},
     "output_type": "display_data"
    },
    {
     "name": "stdout",
     "output_type": "stream",
     "text": [
      "Epoch 68: Loss 0.4880000054836273\n",
      "Val loss: 0.34599998593330383 Thresh: 0.4 F1: 0.728 Recall: 0.715 Precision: 0.742 Error: 0.038\n",
      "Loss: 0.8799999999999999 1.5 weighted BCE + 0.12000000000000001 Image Lovasz\n"
     ]
    },
    {
     "data": {
      "application/vnd.jupyter.widget-view+json": {
       "model_id": "0d032164f9424044b67ede92425ab808",
       "version_major": 2,
       "version_minor": 0
      },
      "text/plain": [
       "HBox(children=(IntProgress(value=0, max=157), HTML(value='')))"
      ]
     },
     "metadata": {},
     "output_type": "display_data"
    },
    {
     "name": "stdout",
     "output_type": "stream",
     "text": [
      "Epoch 69: Loss 0.49900001287460327\n",
      "Val loss: 0.36500000953674316 Thresh: 0.45 F1: 0.717 Recall: 0.687 Precision: 0.749 Error: 0.09\n",
      "Loss: 0.8799999999999999 1.5 weighted BCE + 0.12000000000000001 Image Lovasz\n"
     ]
    },
    {
     "data": {
      "application/vnd.jupyter.widget-view+json": {
       "model_id": "8794dcbbd9f14704b7603f4601d39b92",
       "version_major": 2,
       "version_minor": 0
      },
      "text/plain": [
       "HBox(children=(IntProgress(value=0, max=157), HTML(value='')))"
      ]
     },
     "metadata": {},
     "output_type": "display_data"
    },
    {
     "name": "stdout",
     "output_type": "stream",
     "text": [
      "Epoch 70: Loss 0.4860000014305115\n",
      "Val loss: 0.3880000114440918 Thresh: 0.5 F1: 0.714 Recall: 0.685 Precision: 0.747 Error: 0.091\n",
      "Loss: 0.8799999999999999 1.5 weighted BCE + 0.12000000000000001 Image Lovasz\n"
     ]
    },
    {
     "data": {
      "application/vnd.jupyter.widget-view+json": {
       "model_id": "dd93e61441c449a6a92eb0dabca55c5e",
       "version_major": 2,
       "version_minor": 0
      },
      "text/plain": [
       "HBox(children=(IntProgress(value=0, max=157), HTML(value='')))"
      ]
     },
     "metadata": {},
     "output_type": "display_data"
    },
    {
     "name": "stdout",
     "output_type": "stream",
     "text": [
      "Epoch 71: Loss 0.48100000619888306\n",
      "Val loss: 0.38999998569488525 Thresh: 0.55 F1: 0.71 Recall: 0.693 Precision: 0.728 Error: 0.05\n",
      "Loss: 0.8799999999999999 1.5 weighted BCE + 0.12000000000000001 Image Lovasz\n"
     ]
    },
    {
     "data": {
      "application/vnd.jupyter.widget-view+json": {
       "model_id": "7af05ee11745458db403c23be0d57731",
       "version_major": 2,
       "version_minor": 0
      },
      "text/plain": [
       "HBox(children=(IntProgress(value=0, max=157), HTML(value='')))"
      ]
     },
     "metadata": {},
     "output_type": "display_data"
    },
    {
     "name": "stdout",
     "output_type": "stream",
     "text": [
      "Epoch 72: Loss 0.4790000021457672\n",
      "Val loss: 0.36500000953674316 Thresh: 0.4 F1: 0.722 Recall: 0.687 Precision: 0.76 Error: 0.107\n",
      "Loss: 0.8799999999999999 1.5 weighted BCE + 0.12000000000000001 Image Lovasz\n"
     ]
    },
    {
     "data": {
      "application/vnd.jupyter.widget-view+json": {
       "model_id": "9ed2819847a24633b1267a25bc10549d",
       "version_major": 2,
       "version_minor": 0
      },
      "text/plain": [
       "HBox(children=(IntProgress(value=0, max=157), HTML(value='')))"
      ]
     },
     "metadata": {},
     "output_type": "display_data"
    },
    {
     "name": "stdout",
     "output_type": "stream",
     "text": [
      "Epoch 73: Loss 0.47699999809265137\n",
      "Val loss: 0.375 Thresh: 0.45 F1: 0.718 Recall: 0.68 Precision: 0.761 Error: 0.118\n",
      "Loss: 0.8799999999999999 1.5 weighted BCE + 0.12000000000000001 Image Lovasz\n"
     ]
    },
    {
     "data": {
      "application/vnd.jupyter.widget-view+json": {
       "model_id": "9d6b42be9d72469c83fa4043009770b1",
       "version_major": 2,
       "version_minor": 0
      },
      "text/plain": [
       "HBox(children=(IntProgress(value=0, max=157), HTML(value='')))"
      ]
     },
     "metadata": {},
     "output_type": "display_data"
    },
    {
     "name": "stdout",
     "output_type": "stream",
     "text": [
      "Epoch 74: Loss 0.47699999809265137\n",
      "Val loss: 0.3779999911785126 Thresh: 0.5 F1: 0.718 Recall: 0.704 Precision: 0.732 Error: 0.04\n",
      "Loss: 0.8799999999999999 1.5 weighted BCE + 0.12000000000000001 Image Lovasz\n"
     ]
    },
    {
     "data": {
      "application/vnd.jupyter.widget-view+json": {
       "model_id": "1c979ffd66cf4df9884ad5dd871a22c9",
       "version_major": 2,
       "version_minor": 0
      },
      "text/plain": [
       "HBox(children=(IntProgress(value=0, max=157), HTML(value='')))"
      ]
     },
     "metadata": {},
     "output_type": "display_data"
    },
    {
     "name": "stdout",
     "output_type": "stream",
     "text": [
      "Epoch 75: Loss 0.47600001096725464\n",
      "Val loss: 0.3889999985694885 Thresh: 0.5 F1: 0.703 Recall: 0.679 Precision: 0.728 Error: 0.072\n",
      "Loss: 0.8799999999999999 1.5 weighted BCE + 0.12000000000000001 Image Lovasz\n"
     ]
    },
    {
     "data": {
      "application/vnd.jupyter.widget-view+json": {
       "model_id": "ff0357705cb44bbea7ed1f554b926b10",
       "version_major": 2,
       "version_minor": 0
      },
      "text/plain": [
       "HBox(children=(IntProgress(value=0, max=157), HTML(value='')))"
      ]
     },
     "metadata": {},
     "output_type": "display_data"
    },
    {
     "name": "stdout",
     "output_type": "stream",
     "text": [
      "Epoch 76: Loss 0.4749999940395355\n",
      "Val loss: 0.37700000405311584 Thresh: 0.5 F1: 0.712 Recall: 0.704 Precision: 0.72 Error: 0.023\n",
      "Loss: 0.8799999999999999 1.5 weighted BCE + 0.12000000000000001 Image Lovasz\n"
     ]
    },
    {
     "data": {
      "application/vnd.jupyter.widget-view+json": {
       "model_id": "becc662330354dc69522ca7d38f00561",
       "version_major": 2,
       "version_minor": 0
      },
      "text/plain": [
       "HBox(children=(IntProgress(value=0, max=157), HTML(value='')))"
      ]
     },
     "metadata": {},
     "output_type": "display_data"
    },
    {
     "name": "stdout",
     "output_type": "stream",
     "text": [
      "Epoch 77: Loss 0.47699999809265137\n",
      "Val loss: 0.4180000126361847 Thresh: 0.6 F1: 0.704 Recall: 0.699 Precision: 0.708 Error: 0.012\n",
      "Loss: 0.8799999999999999 1.5 weighted BCE + 0.12000000000000001 Image Lovasz\n"
     ]
    },
    {
     "data": {
      "application/vnd.jupyter.widget-view+json": {
       "model_id": "33e2d464d9874928b4b2d049efbbbb6d",
       "version_major": 2,
       "version_minor": 0
      },
      "text/plain": [
       "HBox(children=(IntProgress(value=0, max=157), HTML(value='')))"
      ]
     },
     "metadata": {},
     "output_type": "display_data"
    },
    {
     "name": "stdout",
     "output_type": "stream",
     "text": [
      "Epoch 78: Loss 0.4819999933242798\n",
      "Val loss: 0.37299999594688416 Thresh: 0.45 F1: 0.712 Recall: 0.708 Precision: 0.716 Error: 0.011\n",
      "Loss: 0.8799999999999999 1.5 weighted BCE + 0.12000000000000001 Image Lovasz\n"
     ]
    },
    {
     "data": {
      "application/vnd.jupyter.widget-view+json": {
       "model_id": "471cb442dfbf4403837373192514d756",
       "version_major": 2,
       "version_minor": 0
      },
      "text/plain": [
       "HBox(children=(IntProgress(value=0, max=157), HTML(value='')))"
      ]
     },
     "metadata": {},
     "output_type": "display_data"
    },
    {
     "name": "stdout",
     "output_type": "stream",
     "text": [
      "Epoch 79: Loss 0.4729999899864197\n",
      "Val loss: 0.38999998569488525 Thresh: 0.5 F1: 0.704 Recall: 0.704 Precision: 0.704 Error: 0.0\n",
      "Loss: 0.8799999999999999 1.5 weighted BCE + 0.12000000000000001 Image Lovasz\n"
     ]
    },
    {
     "data": {
      "application/vnd.jupyter.widget-view+json": {
       "model_id": "ca32bf414bf742ce8c9e34dedd4f17ad",
       "version_major": 2,
       "version_minor": 0
      },
      "text/plain": [
       "HBox(children=(IntProgress(value=0, max=157), HTML(value='')))"
      ]
     },
     "metadata": {},
     "output_type": "display_data"
    },
    {
     "name": "stdout",
     "output_type": "stream",
     "text": [
      "Epoch 80: Loss 0.47099998593330383\n",
      "Val loss: 0.3799999952316284 Thresh: 0.5 F1: 0.707 Recall: 0.707 Precision: 0.707 Error: 0.001\n",
      "Loss: 0.8799999999999999 1.5 weighted BCE + 0.12000000000000001 Image Lovasz\n"
     ]
    },
    {
     "data": {
      "application/vnd.jupyter.widget-view+json": {
       "model_id": "4020d60e21ce4747aa4d00435d3e934f",
       "version_major": 2,
       "version_minor": 0
      },
      "text/plain": [
       "HBox(children=(IntProgress(value=0, max=157), HTML(value='')))"
      ]
     },
     "metadata": {},
     "output_type": "display_data"
    },
    {
     "name": "stdout",
     "output_type": "stream",
     "text": [
      "Epoch 81: Loss 0.4729999899864197\n",
      "Val loss: 0.3799999952316284 Thresh: 0.55 F1: 0.71 Recall: 0.726 Precision: 0.695 Error: 0.043\n",
      "Loss: 0.8799999999999999 1.5 weighted BCE + 0.12000000000000001 Image Lovasz\n"
     ]
    },
    {
     "data": {
      "application/vnd.jupyter.widget-view+json": {
       "model_id": "dcaab877518d4582ba225f09b20f7f3a",
       "version_major": 2,
       "version_minor": 0
      },
      "text/plain": [
       "HBox(children=(IntProgress(value=0, max=157), HTML(value='')))"
      ]
     },
     "metadata": {},
     "output_type": "display_data"
    },
    {
     "name": "stdout",
     "output_type": "stream",
     "text": [
      "Epoch 82: Loss 0.47099998593330383\n",
      "Val loss: 0.39500001072883606 Thresh: 0.5 F1: 0.71 Recall: 0.665 Precision: 0.762 Error: 0.146\n",
      "Loss: 0.8799999999999999 1.5 weighted BCE + 0.12000000000000001 Image Lovasz\n"
     ]
    },
    {
     "data": {
      "application/vnd.jupyter.widget-view+json": {
       "model_id": "6b2aff4a48b644b08b6896c7a1e6e985",
       "version_major": 2,
       "version_minor": 0
      },
      "text/plain": [
       "HBox(children=(IntProgress(value=0, max=157), HTML(value='')))"
      ]
     },
     "metadata": {},
     "output_type": "display_data"
    },
    {
     "name": "stdout",
     "output_type": "stream",
     "text": [
      "Epoch 83: Loss 0.47099998593330383\n",
      "Val loss: 0.3880000114440918 Thresh: 0.5 F1: 0.709 Recall: 0.683 Precision: 0.738 Error: 0.08\n",
      "Loss: 0.8799999999999999 1.5 weighted BCE + 0.12000000000000001 Image Lovasz\n"
     ]
    },
    {
     "data": {
      "application/vnd.jupyter.widget-view+json": {
       "model_id": "4a9417d8bc7443eab86795d15e9081ea",
       "version_major": 2,
       "version_minor": 0
      },
      "text/plain": [
       "HBox(children=(IntProgress(value=0, max=157), HTML(value='')))"
      ]
     },
     "metadata": {},
     "output_type": "display_data"
    },
    {
     "name": "stdout",
     "output_type": "stream",
     "text": [
      "Epoch 84: Loss 0.4729999899864197\n",
      "Val loss: 0.4009999930858612 Thresh: 0.6 F1: 0.713 Recall: 0.698 Precision: 0.728 Error: 0.042\n",
      "Loss: 0.8799999999999999 1.5 weighted BCE + 0.12000000000000001 Image Lovasz\n"
     ]
    },
    {
     "data": {
      "application/vnd.jupyter.widget-view+json": {
       "model_id": "8153baff5406486181ed3df7c045ae59",
       "version_major": 2,
       "version_minor": 0
      },
      "text/plain": [
       "HBox(children=(IntProgress(value=0, max=157), HTML(value='')))"
      ]
     },
     "metadata": {},
     "output_type": "display_data"
    },
    {
     "name": "stdout",
     "output_type": "stream",
     "text": [
      "Epoch 85: Loss 0.4749999940395355\n",
      "Val loss: 0.382999986410141 Thresh: 0.45 F1: 0.707 Recall: 0.688 Precision: 0.726 Error: 0.054\n",
      "Loss: 0.8799999999999999 1.5 weighted BCE + 0.12000000000000001 Image Lovasz\n"
     ]
    },
    {
     "data": {
      "application/vnd.jupyter.widget-view+json": {
       "model_id": "2d8958f8c83341859b36a74508c56885",
       "version_major": 2,
       "version_minor": 0
      },
      "text/plain": [
       "HBox(children=(IntProgress(value=0, max=157), HTML(value='')))"
      ]
     },
     "metadata": {},
     "output_type": "display_data"
    },
    {
     "name": "stdout",
     "output_type": "stream",
     "text": [
      "Epoch 86: Loss 0.4790000021457672\n",
      "Val loss: 0.4009999930858612 Thresh: 0.45 F1: 0.69 Recall: 0.638 Precision: 0.751 Error: 0.179\n",
      "Loss: 0.8799999999999999 1.5 weighted BCE + 0.12000000000000001 Image Lovasz\n"
     ]
    },
    {
     "data": {
      "application/vnd.jupyter.widget-view+json": {
       "model_id": "6e25c78fd4024371bd485551c9f329bc",
       "version_major": 2,
       "version_minor": 0
      },
      "text/plain": [
       "HBox(children=(IntProgress(value=0, max=157), HTML(value='')))"
      ]
     },
     "metadata": {},
     "output_type": "display_data"
    },
    {
     "name": "stdout",
     "output_type": "stream",
     "text": [
      "Epoch 87: Loss 0.47200000286102295\n",
      "Val loss: 0.37700000405311584 Thresh: 0.45 F1: 0.701 Recall: 0.686 Precision: 0.718 Error: 0.046\n",
      "Loss: 0.8799999999999999 1.5 weighted BCE + 0.12000000000000001 Image Lovasz\n"
     ]
    },
    {
     "data": {
      "application/vnd.jupyter.widget-view+json": {
       "model_id": "91e078f07e6f4608aed66ee298abd954",
       "version_major": 2,
       "version_minor": 0
      },
      "text/plain": [
       "HBox(children=(IntProgress(value=0, max=157), HTML(value='')))"
      ]
     },
     "metadata": {},
     "output_type": "display_data"
    },
    {
     "name": "stdout",
     "output_type": "stream",
     "text": [
      "Epoch 88: Loss 0.4699999988079071\n",
      "Val loss: 0.36899998784065247 Thresh: 0.4 F1: 0.712 Recall: 0.686 Precision: 0.741 Error: 0.08\n",
      "Loss: 0.8799999999999999 1.5 weighted BCE + 0.12000000000000001 Image Lovasz\n"
     ]
    },
    {
     "data": {
      "application/vnd.jupyter.widget-view+json": {
       "model_id": "b948255d6e8c442591e7e603b0f82963",
       "version_major": 2,
       "version_minor": 0
      },
      "text/plain": [
       "HBox(children=(IntProgress(value=0, max=157), HTML(value='')))"
      ]
     },
     "metadata": {},
     "output_type": "display_data"
    },
    {
     "name": "stdout",
     "output_type": "stream",
     "text": [
      "Epoch 89: Loss 0.47099998593330383\n",
      "Val loss: 0.37700000405311584 Thresh: 0.4 F1: 0.701 Recall: 0.671 Precision: 0.734 Error: 0.095\n",
      "Loss: 0.8799999999999999 1.5 weighted BCE + 0.12000000000000001 Image Lovasz\n"
     ]
    },
    {
     "data": {
      "application/vnd.jupyter.widget-view+json": {
       "model_id": "3ead1e0602374c2e97b6e4e41ce6b01d",
       "version_major": 2,
       "version_minor": 0
      },
      "text/plain": [
       "HBox(children=(IntProgress(value=0, max=157), HTML(value='')))"
      ]
     },
     "metadata": {},
     "output_type": "display_data"
    },
    {
     "name": "stdout",
     "output_type": "stream",
     "text": [
      "Epoch 90: Loss 0.47200000286102295\n",
      "Val loss: 0.3700000047683716 Thresh: 0.5 F1: 0.71 Recall: 0.708 Precision: 0.711 Error: 0.004\n",
      "Loss: 0.8799999999999999 1.5 weighted BCE + 0.12000000000000001 Image Lovasz\n"
     ]
    },
    {
     "data": {
      "application/vnd.jupyter.widget-view+json": {
       "model_id": "43a262f78828468aa0182b8411ceac87",
       "version_major": 2,
       "version_minor": 0
      },
      "text/plain": [
       "HBox(children=(IntProgress(value=0, max=157), HTML(value='')))"
      ]
     },
     "metadata": {},
     "output_type": "display_data"
    },
    {
     "name": "stdout",
     "output_type": "stream",
     "text": [
      "Epoch 91: Loss 0.4699999988079071\n",
      "Val loss: 0.39399999380111694 Thresh: 0.55 F1: 0.706 Recall: 0.693 Precision: 0.718 Error: 0.036\n",
      "Loss: 0.8799999999999999 1.5 weighted BCE + 0.12000000000000001 Image Lovasz\n"
     ]
    },
    {
     "data": {
      "application/vnd.jupyter.widget-view+json": {
       "model_id": "effc21f419cb455896844d88c635ceb1",
       "version_major": 2,
       "version_minor": 0
      },
      "text/plain": [
       "HBox(children=(IntProgress(value=0, max=157), HTML(value='')))"
      ]
     },
     "metadata": {},
     "output_type": "display_data"
    },
    {
     "name": "stdout",
     "output_type": "stream",
     "text": [
      "Epoch 92: Loss 0.46799999475479126\n",
      "Val loss: 0.3790000081062317 Thresh: 0.45 F1: 0.698 Recall: 0.696 Precision: 0.7 Error: 0.006\n",
      "Loss: 0.8799999999999999 1.5 weighted BCE + 0.12000000000000001 Image Lovasz\n"
     ]
    },
    {
     "data": {
      "application/vnd.jupyter.widget-view+json": {
       "model_id": "2a053cd9cde74c15bdfc0fb6bea77639",
       "version_major": 2,
       "version_minor": 0
      },
      "text/plain": [
       "HBox(children=(IntProgress(value=0, max=157), HTML(value='')))"
      ]
     },
     "metadata": {},
     "output_type": "display_data"
    },
    {
     "name": "stdout",
     "output_type": "stream",
     "text": [
      "Epoch 93: Loss 0.4699999988079071\n",
      "Val loss: 0.37400001287460327 Thresh: 0.4 F1: 0.71 Recall: 0.689 Precision: 0.731 Error: 0.06\n",
      "Loss: 0.8799999999999999 1.5 weighted BCE + 0.12000000000000001 Image Lovasz\n"
     ]
    },
    {
     "data": {
      "application/vnd.jupyter.widget-view+json": {
       "model_id": "7d780d1897ea412da8806391e8f95f21",
       "version_major": 2,
       "version_minor": 0
      },
      "text/plain": [
       "HBox(children=(IntProgress(value=0, max=157), HTML(value='')))"
      ]
     },
     "metadata": {},
     "output_type": "display_data"
    },
    {
     "name": "stdout",
     "output_type": "stream",
     "text": [
      "Epoch 94: Loss 0.46799999475479126\n",
      "Val loss: 0.3869999945163727 Thresh: 0.45 F1: 0.705 Recall: 0.678 Precision: 0.734 Error: 0.082\n",
      "Loss: 0.8799999999999999 1.5 weighted BCE + 0.12000000000000001 Image Lovasz\n"
     ]
    },
    {
     "data": {
      "application/vnd.jupyter.widget-view+json": {
       "model_id": "7f4d5a503a73431bb8edd59a8335f093",
       "version_major": 2,
       "version_minor": 0
      },
      "text/plain": [
       "HBox(children=(IntProgress(value=0, max=157), HTML(value='')))"
      ]
     },
     "metadata": {},
     "output_type": "display_data"
    },
    {
     "name": "stdout",
     "output_type": "stream",
     "text": [
      "Epoch 95: Loss 0.4699999988079071\n",
      "Val loss: 0.38100001215934753 Thresh: 0.45 F1: 0.716 Recall: 0.684 Precision: 0.752 Error: 0.099\n",
      "Loss: 0.8799999999999999 1.5 weighted BCE + 0.12000000000000001 Image Lovasz\n"
     ]
    },
    {
     "data": {
      "application/vnd.jupyter.widget-view+json": {
       "model_id": "7876eaeb6cc1431f8745be479e04dfe2",
       "version_major": 2,
       "version_minor": 0
      },
      "text/plain": [
       "HBox(children=(IntProgress(value=0, max=157), HTML(value='')))"
      ]
     },
     "metadata": {},
     "output_type": "display_data"
    },
    {
     "name": "stdout",
     "output_type": "stream",
     "text": [
      "Epoch 96: Loss 0.47999998927116394\n",
      "Val loss: 0.38100001215934753 Thresh: 0.45 F1: 0.712 Recall: 0.693 Precision: 0.732 Error: 0.056\n",
      "Loss: 0.8799999999999999 1.5 weighted BCE + 0.12000000000000001 Image Lovasz\n"
     ]
    },
    {
     "data": {
      "application/vnd.jupyter.widget-view+json": {
       "model_id": "e983085a8f3343c2853f8293cc913bbe",
       "version_major": 2,
       "version_minor": 0
      },
      "text/plain": [
       "HBox(children=(IntProgress(value=0, max=157), HTML(value='')))"
      ]
     },
     "metadata": {},
     "output_type": "display_data"
    },
    {
     "name": "stdout",
     "output_type": "stream",
     "text": [
      "Epoch 97: Loss 0.4690000116825104\n",
      "Val loss: 0.37599998712539673 Thresh: 0.5 F1: 0.709 Recall: 0.717 Precision: 0.702 Error: 0.021\n",
      "Loss: 0.8799999999999999 1.5 weighted BCE + 0.12000000000000001 Image Lovasz\n"
     ]
    },
    {
     "data": {
      "application/vnd.jupyter.widget-view+json": {
       "model_id": "4e909d1715fd4ef8b9dcb37ba7654d5a",
       "version_major": 2,
       "version_minor": 0
      },
      "text/plain": [
       "HBox(children=(IntProgress(value=0, max=157), HTML(value='')))"
      ]
     },
     "metadata": {},
     "output_type": "display_data"
    },
    {
     "name": "stdout",
     "output_type": "stream",
     "text": [
      "Epoch 98: Loss 0.4699999988079071\n",
      "Val loss: 0.37400001287460327 Thresh: 0.45 F1: 0.713 Recall: 0.692 Precision: 0.736 Error: 0.064\n",
      "Loss: 0.8799999999999999 1.5 weighted BCE + 0.12000000000000001 Image Lovasz\n"
     ]
    },
    {
     "data": {
      "application/vnd.jupyter.widget-view+json": {
       "model_id": "131fa7594bdb446d907705ececd479c1",
       "version_major": 2,
       "version_minor": 0
      },
      "text/plain": [
       "HBox(children=(IntProgress(value=0, max=157), HTML(value='')))"
      ]
     },
     "metadata": {},
     "output_type": "display_data"
    },
    {
     "name": "stdout",
     "output_type": "stream",
     "text": [
      "Epoch 99: Loss 0.4740000069141388\n",
      "Val loss: 0.38499999046325684 Thresh: 0.4 F1: 0.692 Recall: 0.714 Precision: 0.671 Error: 0.061\n",
      "Loss: 0.8799999999999999 1.5 weighted BCE + 0.12000000000000001 Image Lovasz\n"
     ]
    },
    {
     "data": {
      "application/vnd.jupyter.widget-view+json": {
       "model_id": "c174dcb8747a45e5b243f90bca96cd9a",
       "version_major": 2,
       "version_minor": 0
      },
      "text/plain": [
       "HBox(children=(IntProgress(value=0, max=157), HTML(value='')))"
      ]
     },
     "metadata": {},
     "output_type": "display_data"
    },
    {
     "name": "stdout",
     "output_type": "stream",
     "text": [
      "Epoch 100: Loss 0.4740000069141388\n",
      "Val loss: 0.3930000066757202 Thresh: 0.5 F1: 0.703 Recall: 0.689 Precision: 0.719 Error: 0.043\n",
      "Loss: 0.8799999999999999 1.5 weighted BCE + 0.12000000000000001 Image Lovasz\n"
     ]
    },
    {
     "data": {
      "application/vnd.jupyter.widget-view+json": {
       "model_id": "543318f8d85f4e93a578c9b7b0342612",
       "version_major": 2,
       "version_minor": 0
      },
      "text/plain": [
       "HBox(children=(IntProgress(value=0, max=157), HTML(value='')))"
      ]
     },
     "metadata": {},
     "output_type": "display_data"
    },
    {
     "name": "stdout",
     "output_type": "stream",
     "text": [
      "Epoch 101: Loss 0.46700000762939453\n",
      "Val loss: 0.375 Thresh: 0.4 F1: 0.708 Recall: 0.682 Precision: 0.737 Error: 0.079\n",
      "Loss: 0.8799999999999999 1.5 weighted BCE + 0.12000000000000001 Image Lovasz\n"
     ]
    },
    {
     "data": {
      "application/vnd.jupyter.widget-view+json": {
       "model_id": "265c1748cf3849608c2281cd4f27b1e5",
       "version_major": 2,
       "version_minor": 0
      },
      "text/plain": [
       "HBox(children=(IntProgress(value=0, max=157), HTML(value='')))"
      ]
     },
     "metadata": {},
     "output_type": "display_data"
    },
    {
     "name": "stdout",
     "output_type": "stream",
     "text": [
      "Epoch 102: Loss 0.4659999907016754\n",
      "Val loss: 0.3799999952316284 Thresh: 0.55 F1: 0.7 Recall: 0.707 Precision: 0.694 Error: 0.018\n",
      "Loss: 0.8799999999999999 1.5 weighted BCE + 0.12000000000000001 Image Lovasz\n"
     ]
    },
    {
     "data": {
      "application/vnd.jupyter.widget-view+json": {
       "model_id": "327b338a4a104e779993c8b1f815ed33",
       "version_major": 2,
       "version_minor": 0
      },
      "text/plain": [
       "HBox(children=(IntProgress(value=0, max=157), HTML(value='')))"
      ]
     },
     "metadata": {},
     "output_type": "display_data"
    },
    {
     "name": "stdout",
     "output_type": "stream",
     "text": [
      "Epoch 103: Loss 0.47099998593330383\n",
      "Val loss: 0.4000000059604645 Thresh: 0.5 F1: 0.696 Recall: 0.671 Precision: 0.723 Error: 0.078\n",
      "Loss: 0.8799999999999999 1.5 weighted BCE + 0.12000000000000001 Image Lovasz\n"
     ]
    },
    {
     "data": {
      "application/vnd.jupyter.widget-view+json": {
       "model_id": "d93b2ab77c6d4d7a960a8db03ac4741a",
       "version_major": 2,
       "version_minor": 0
      },
      "text/plain": [
       "HBox(children=(IntProgress(value=0, max=157), HTML(value='')))"
      ]
     },
     "metadata": {},
     "output_type": "display_data"
    },
    {
     "name": "stdout",
     "output_type": "stream",
     "text": [
      "Epoch 104: Loss 0.4659999907016754\n",
      "Val loss: 0.37700000405311584 Thresh: 0.55 F1: 0.709 Recall: 0.735 Precision: 0.686 Error: 0.067\n",
      "Loss: 0.8799999999999999 1.5 weighted BCE + 0.12000000000000001 Image Lovasz\n"
     ]
    },
    {
     "data": {
      "application/vnd.jupyter.widget-view+json": {
       "model_id": "39ad6463f66b451f8e625cc266ec509b",
       "version_major": 2,
       "version_minor": 0
      },
      "text/plain": [
       "HBox(children=(IntProgress(value=0, max=157), HTML(value='')))"
      ]
     },
     "metadata": {},
     "output_type": "display_data"
    },
    {
     "name": "stdout",
     "output_type": "stream",
     "text": [
      "Epoch 105: Loss 0.46299999952316284\n",
      "Val loss: 0.38999998569488525 Thresh: 0.55 F1: 0.706 Recall: 0.717 Precision: 0.695 Error: 0.032\n",
      "Loss: 0.8799999999999999 1.5 weighted BCE + 0.12000000000000001 Image Lovasz\n"
     ]
    },
    {
     "data": {
      "application/vnd.jupyter.widget-view+json": {
       "model_id": "1b47682e73fe4f0f915ea591fbbcb832",
       "version_major": 2,
       "version_minor": 0
      },
      "text/plain": [
       "HBox(children=(IntProgress(value=0, max=157), HTML(value='')))"
      ]
     },
     "metadata": {},
     "output_type": "display_data"
    },
    {
     "name": "stdout",
     "output_type": "stream",
     "text": [
      "Epoch 106: Loss 0.4650000035762787\n",
      "Val loss: 0.38499999046325684 Thresh: 0.55 F1: 0.698 Recall: 0.72 Precision: 0.678 Error: 0.059\n",
      "Loss: 0.8799999999999999 1.5 weighted BCE + 0.12000000000000001 Image Lovasz\n"
     ]
    },
    {
     "data": {
      "application/vnd.jupyter.widget-view+json": {
       "model_id": "56aee5fc839748c4ace1873d744c31ee",
       "version_major": 2,
       "version_minor": 0
      },
      "text/plain": [
       "HBox(children=(IntProgress(value=0, max=157), HTML(value='')))"
      ]
     },
     "metadata": {},
     "output_type": "display_data"
    },
    {
     "name": "stdout",
     "output_type": "stream",
     "text": [
      "Epoch 107: Loss 0.4650000035762787\n",
      "Val loss: 0.38199999928474426 Thresh: 0.55 F1: 0.705 Recall: 0.705 Precision: 0.705 Error: 0.0\n",
      "Loss: 0.8799999999999999 1.5 weighted BCE + 0.12000000000000001 Image Lovasz\n"
     ]
    },
    {
     "data": {
      "application/vnd.jupyter.widget-view+json": {
       "model_id": "0f0a926990e3417d9586b41d1be5ca5a",
       "version_major": 2,
       "version_minor": 0
      },
      "text/plain": [
       "HBox(children=(IntProgress(value=0, max=157), HTML(value='')))"
      ]
     },
     "metadata": {},
     "output_type": "display_data"
    },
    {
     "name": "stdout",
     "output_type": "stream",
     "text": [
      "Epoch 108: Loss 0.4690000116825104\n",
      "Val loss: 0.38499999046325684 Thresh: 0.5 F1: 0.696 Recall: 0.692 Precision: 0.699 Error: 0.01\n",
      "Loss: 0.8799999999999999 1.5 weighted BCE + 0.12000000000000001 Image Lovasz\n"
     ]
    },
    {
     "data": {
      "application/vnd.jupyter.widget-view+json": {
       "model_id": "2f6c768ac7c54988a90bf7c028a91827",
       "version_major": 2,
       "version_minor": 0
      },
      "text/plain": [
       "HBox(children=(IntProgress(value=0, max=157), HTML(value='')))"
      ]
     },
     "metadata": {},
     "output_type": "display_data"
    },
    {
     "name": "stdout",
     "output_type": "stream",
     "text": [
      "Epoch 109: Loss 0.4749999940395355\n",
      "Val loss: 0.4059999883174896 Thresh: 0.55 F1: 0.696 Recall: 0.675 Precision: 0.718 Error: 0.064\n",
      "Loss: 0.8799999999999999 1.5 weighted BCE + 0.12000000000000001 Image Lovasz\n"
     ]
    },
    {
     "data": {
      "application/vnd.jupyter.widget-view+json": {
       "model_id": "1dac252c82ae4762bccafcaa5c7a2b7f",
       "version_major": 2,
       "version_minor": 0
      },
      "text/plain": [
       "HBox(children=(IntProgress(value=0, max=157), HTML(value='')))"
      ]
     },
     "metadata": {},
     "output_type": "display_data"
    },
    {
     "name": "stdout",
     "output_type": "stream",
     "text": [
      "Epoch 110: Loss 0.4659999907016754\n",
      "Val loss: 0.3930000066757202 Thresh: 0.5 F1: 0.705 Recall: 0.684 Precision: 0.726 Error: 0.061\n",
      "Loss: 0.8799999999999999 1.5 weighted BCE + 0.12000000000000001 Image Lovasz\n"
     ]
    },
    {
     "data": {
      "application/vnd.jupyter.widget-view+json": {
       "model_id": "1e5c8b1afd1c450e8e2a5e52f8704342",
       "version_major": 2,
       "version_minor": 0
      },
      "text/plain": [
       "HBox(children=(IntProgress(value=0, max=157), HTML(value='')))"
      ]
     },
     "metadata": {},
     "output_type": "display_data"
    },
    {
     "name": "stdout",
     "output_type": "stream",
     "text": [
      "Epoch 111: Loss 0.4659999907016754\n",
      "Val loss: 0.3799999952316284 Thresh: 0.45 F1: 0.708 Recall: 0.677 Precision: 0.743 Error: 0.098\n",
      "Loss: 0.8799999999999999 1.5 weighted BCE + 0.12000000000000001 Image Lovasz\n"
     ]
    },
    {
     "data": {
      "application/vnd.jupyter.widget-view+json": {
       "model_id": "f079cc52ec05488bb6b0d0cc93fa9438",
       "version_major": 2,
       "version_minor": 0
      },
      "text/plain": [
       "HBox(children=(IntProgress(value=0, max=157), HTML(value='')))"
      ]
     },
     "metadata": {},
     "output_type": "display_data"
    },
    {
     "name": "stdout",
     "output_type": "stream",
     "text": [
      "Epoch 112: Loss 0.4620000123977661\n",
      "Val loss: 0.3930000066757202 Thresh: 0.45 F1: 0.694 Recall: 0.666 Precision: 0.724 Error: 0.088\n",
      "Loss: 0.8799999999999999 1.5 weighted BCE + 0.12000000000000001 Image Lovasz\n"
     ]
    },
    {
     "data": {
      "application/vnd.jupyter.widget-view+json": {
       "model_id": "3d14c3a135714f9595744cb5e8a67250",
       "version_major": 2,
       "version_minor": 0
      },
      "text/plain": [
       "HBox(children=(IntProgress(value=0, max=157), HTML(value='')))"
      ]
     },
     "metadata": {},
     "output_type": "display_data"
    },
    {
     "name": "stdout",
     "output_type": "stream",
     "text": [
      "Epoch 113: Loss 0.46399998664855957\n",
      "Val loss: 0.39800000190734863 Thresh: 0.45 F1: 0.692 Recall: 0.661 Precision: 0.726 Error: 0.098\n",
      "Loss: 0.8799999999999999 1.5 weighted BCE + 0.12000000000000001 Image Lovasz\n"
     ]
    },
    {
     "data": {
      "application/vnd.jupyter.widget-view+json": {
       "model_id": "d55885f679e545f1934c0e2d1c151c14",
       "version_major": 2,
       "version_minor": 0
      },
      "text/plain": [
       "HBox(children=(IntProgress(value=0, max=157), HTML(value='')))"
      ]
     },
     "metadata": {},
     "output_type": "display_data"
    },
    {
     "name": "stdout",
     "output_type": "stream",
     "text": [
      "Epoch 114: Loss 0.46799999475479126\n",
      "Val loss: 0.39500001072883606 Thresh: 0.55 F1: 0.688 Recall: 0.697 Precision: 0.68 Error: 0.025\n",
      "Loss: 0.8799999999999999 1.5 weighted BCE + 0.12000000000000001 Image Lovasz\n"
     ]
    },
    {
     "data": {
      "application/vnd.jupyter.widget-view+json": {
       "model_id": "6324a02e3523446393b27bbda42f9c8d",
       "version_major": 2,
       "version_minor": 0
      },
      "text/plain": [
       "HBox(children=(IntProgress(value=0, max=157), HTML(value='')))"
      ]
     },
     "metadata": {},
     "output_type": "display_data"
    },
    {
     "name": "stdout",
     "output_type": "stream",
     "text": [
      "Epoch 115: Loss 0.4699999988079071\n",
      "Val loss: 0.3840000033378601 Thresh: 0.55 F1: 0.705 Recall: 0.72 Precision: 0.691 Error: 0.04\n",
      "Loss: 0.8799999999999999 1.5 weighted BCE + 0.12000000000000001 Image Lovasz\n"
     ]
    },
    {
     "data": {
      "application/vnd.jupyter.widget-view+json": {
       "model_id": "325a19ac32a34c90a8fbb563854f4eb3",
       "version_major": 2,
       "version_minor": 0
      },
      "text/plain": [
       "HBox(children=(IntProgress(value=0, max=157), HTML(value='')))"
      ]
     },
     "metadata": {},
     "output_type": "display_data"
    },
    {
     "name": "stdout",
     "output_type": "stream",
     "text": [
      "Epoch 116: Loss 0.46399998664855957\n",
      "Val loss: 0.3889999985694885 Thresh: 0.5 F1: 0.698 Recall: 0.693 Precision: 0.703 Error: 0.014\n",
      "Loss: 0.8799999999999999 1.5 weighted BCE + 0.12000000000000001 Image Lovasz\n"
     ]
    },
    {
     "data": {
      "application/vnd.jupyter.widget-view+json": {
       "model_id": "a0f3767e828a45fa9ba7f72f2f762305",
       "version_major": 2,
       "version_minor": 0
      },
      "text/plain": [
       "HBox(children=(IntProgress(value=0, max=157), HTML(value='')))"
      ]
     },
     "metadata": {},
     "output_type": "display_data"
    },
    {
     "name": "stdout",
     "output_type": "stream",
     "text": [
      "Epoch 117: Loss 0.46299999952316284\n",
      "Val loss: 0.3959999978542328 Thresh: 0.45 F1: 0.702 Recall: 0.666 Precision: 0.742 Error: 0.113\n",
      "Loss: 0.8799999999999999 1.5 weighted BCE + 0.12000000000000001 Image Lovasz\n"
     ]
    },
    {
     "data": {
      "application/vnd.jupyter.widget-view+json": {
       "model_id": "db70bbd9224d45578e5e6d11743a90e9",
       "version_major": 2,
       "version_minor": 0
      },
      "text/plain": [
       "HBox(children=(IntProgress(value=0, max=157), HTML(value='')))"
      ]
     },
     "metadata": {},
     "output_type": "display_data"
    },
    {
     "name": "stdout",
     "output_type": "stream",
     "text": [
      "Epoch 118: Loss 0.46299999952316284\n",
      "Val loss: 0.3840000033378601 Thresh: 0.45 F1: 0.694 Recall: 0.678 Precision: 0.711 Error: 0.048\n",
      "Loss: 0.8799999999999999 1.5 weighted BCE + 0.12000000000000001 Image Lovasz\n"
     ]
    },
    {
     "data": {
      "application/vnd.jupyter.widget-view+json": {
       "model_id": "3dad138b5a2e47afbb6525d99422de67",
       "version_major": 2,
       "version_minor": 0
      },
      "text/plain": [
       "HBox(children=(IntProgress(value=0, max=157), HTML(value='')))"
      ]
     },
     "metadata": {},
     "output_type": "display_data"
    },
    {
     "name": "stdout",
     "output_type": "stream",
     "text": [
      "Epoch 119: Loss 0.460999995470047\n",
      "Val loss: 0.3869999945163727 Thresh: 0.5 F1: 0.697 Recall: 0.686 Precision: 0.709 Error: 0.032\n",
      "Loss: 0.8799999999999999 1.5 weighted BCE + 0.12000000000000001 Image Lovasz\n"
     ]
    },
    {
     "data": {
      "application/vnd.jupyter.widget-view+json": {
       "model_id": "24ea10032ca148249e2ef70b37e20c74",
       "version_major": 2,
       "version_minor": 0
      },
      "text/plain": [
       "HBox(children=(IntProgress(value=0, max=157), HTML(value='')))"
      ]
     },
     "metadata": {},
     "output_type": "display_data"
    },
    {
     "name": "stdout",
     "output_type": "stream",
     "text": [
      "Epoch 120: Loss 0.46299999952316284\n",
      "Val loss: 0.3799999952316284 Thresh: 0.5 F1: 0.711 Recall: 0.708 Precision: 0.715 Error: 0.009\n",
      "Loss: 0.8799999999999999 1.5 weighted BCE + 0.12000000000000001 Image Lovasz\n"
     ]
    },
    {
     "data": {
      "application/vnd.jupyter.widget-view+json": {
       "model_id": "7016bd10280b490c8e2c94df55534570",
       "version_major": 2,
       "version_minor": 0
      },
      "text/plain": [
       "HBox(children=(IntProgress(value=0, max=157), HTML(value='')))"
      ]
     },
     "metadata": {},
     "output_type": "display_data"
    },
    {
     "name": "stdout",
     "output_type": "stream",
     "text": [
      "Epoch 121: Loss 0.46299999952316284\n",
      "Val loss: 0.39500001072883606 Thresh: 0.5 F1: 0.694 Recall: 0.679 Precision: 0.71 Error: 0.045\n",
      "Loss: 0.8799999999999999 1.5 weighted BCE + 0.12000000000000001 Image Lovasz\n"
     ]
    },
    {
     "data": {
      "application/vnd.jupyter.widget-view+json": {
       "model_id": "2cc2d76dc02748afbb1fc2b5e56ae1b9",
       "version_major": 2,
       "version_minor": 0
      },
      "text/plain": [
       "HBox(children=(IntProgress(value=0, max=157), HTML(value='')))"
      ]
     },
     "metadata": {},
     "output_type": "display_data"
    },
    {
     "name": "stdout",
     "output_type": "stream",
     "text": [
      "Epoch 122: Loss 0.46000000834465027\n",
      "Val loss: 0.39899998903274536 Thresh: 0.55 F1: 0.697 Recall: 0.695 Precision: 0.698 Error: 0.005\n",
      "Loss: 0.8799999999999999 1.5 weighted BCE + 0.12000000000000001 Image Lovasz\n"
     ]
    },
    {
     "data": {
      "application/vnd.jupyter.widget-view+json": {
       "model_id": "54df2b5ef5a94bc3a0d6cc3e7b697368",
       "version_major": 2,
       "version_minor": 0
      },
      "text/plain": [
       "HBox(children=(IntProgress(value=0, max=157), HTML(value='')))"
      ]
     },
     "metadata": {},
     "output_type": "display_data"
    },
    {
     "name": "stdout",
     "output_type": "stream",
     "text": [
      "Epoch 123: Loss 0.460999995470047\n",
      "Val loss: 0.39500001072883606 Thresh: 0.6 F1: 0.7 Recall: 0.727 Precision: 0.676 Error: 0.069\n",
      "Loss: 0.8799999999999999 1.5 weighted BCE + 0.12000000000000001 Image Lovasz\n"
     ]
    },
    {
     "data": {
      "application/vnd.jupyter.widget-view+json": {
       "model_id": "0794165ec56544508e8fb4b0218b0f70",
       "version_major": 2,
       "version_minor": 0
      },
      "text/plain": [
       "HBox(children=(IntProgress(value=0, max=157), HTML(value='')))"
      ]
     },
     "metadata": {},
     "output_type": "display_data"
    },
    {
     "name": "stdout",
     "output_type": "stream",
     "text": [
      "Epoch 124: Loss 0.4620000123977661\n",
      "Val loss: 0.3889999985694885 Thresh: 0.55 F1: 0.704 Recall: 0.726 Precision: 0.683 Error: 0.059\n",
      "Loss: 0.8799999999999999 1.5 weighted BCE + 0.12000000000000001 Image Lovasz\n"
     ]
    },
    {
     "data": {
      "application/vnd.jupyter.widget-view+json": {
       "model_id": "5968af315e0f471ba90affc83fc40257",
       "version_major": 2,
       "version_minor": 0
      },
      "text/plain": [
       "HBox(children=(IntProgress(value=0, max=157), HTML(value='')))"
      ]
     },
     "metadata": {},
     "output_type": "display_data"
    },
    {
     "name": "stdout",
     "output_type": "stream",
     "text": [
      "Epoch 125: Loss 0.46299999952316284\n",
      "Val loss: 0.38100001215934753 Thresh: 0.45 F1: 0.701 Recall: 0.696 Precision: 0.707 Error: 0.016\n",
      "Loss: 0.8799999999999999 1.5 weighted BCE + 0.12000000000000001 Image Lovasz\n"
     ]
    },
    {
     "data": {
      "application/vnd.jupyter.widget-view+json": {
       "model_id": "1dd0b320e4a24dbf9f03fc7b859160e0",
       "version_major": 2,
       "version_minor": 0
      },
      "text/plain": [
       "HBox(children=(IntProgress(value=0, max=157), HTML(value='')))"
      ]
     },
     "metadata": {},
     "output_type": "display_data"
    },
    {
     "name": "stdout",
     "output_type": "stream",
     "text": [
      "Epoch 126: Loss 0.4620000123977661\n",
      "Val loss: 0.38100001215934753 Thresh: 0.45 F1: 0.697 Recall: 0.683 Precision: 0.711 Error: 0.04\n",
      "Loss: 0.8799999999999999 1.5 weighted BCE + 0.12000000000000001 Image Lovasz\n"
     ]
    },
    {
     "data": {
      "application/vnd.jupyter.widget-view+json": {
       "model_id": "369800232cbb449f8552758d0fbaef01",
       "version_major": 2,
       "version_minor": 0
      },
      "text/plain": [
       "HBox(children=(IntProgress(value=0, max=157), HTML(value='')))"
      ]
     },
     "metadata": {},
     "output_type": "display_data"
    },
    {
     "name": "stdout",
     "output_type": "stream",
     "text": [
      "Epoch 127: Loss 0.46000000834465027\n",
      "Val loss: 0.4009999930858612 Thresh: 0.55 F1: 0.704 Recall: 0.7 Precision: 0.707 Error: 0.01\n",
      "Loss: 0.8799999999999999 1.5 weighted BCE + 0.12000000000000001 Image Lovasz\n"
     ]
    },
    {
     "data": {
      "application/vnd.jupyter.widget-view+json": {
       "model_id": "be468afcb8a0413eaf6e1a5b079cae66",
       "version_major": 2,
       "version_minor": 0
      },
      "text/plain": [
       "HBox(children=(IntProgress(value=0, max=157), HTML(value='')))"
      ]
     },
     "metadata": {},
     "output_type": "display_data"
    },
    {
     "name": "stdout",
     "output_type": "stream",
     "text": [
      "Epoch 128: Loss 0.460999995470047\n",
      "Val loss: 0.4020000100135803 Thresh: 0.45 F1: 0.696 Recall: 0.657 Precision: 0.74 Error: 0.126\n",
      "Loss: 0.8799999999999999 1.5 weighted BCE + 0.12000000000000001 Image Lovasz\n"
     ]
    },
    {
     "data": {
      "application/vnd.jupyter.widget-view+json": {
       "model_id": "4b13c8a075e74720a1fce0168eb7d2c8",
       "version_major": 2,
       "version_minor": 0
      },
      "text/plain": [
       "HBox(children=(IntProgress(value=0, max=157), HTML(value='')))"
      ]
     },
     "metadata": {},
     "output_type": "display_data"
    },
    {
     "name": "stdout",
     "output_type": "stream",
     "text": [
      "Epoch 129: Loss 0.46000000834465027\n",
      "Val loss: 0.4009999930858612 Thresh: 0.45 F1: 0.699 Recall: 0.676 Precision: 0.723 Error: 0.069\n",
      "Loss: 0.8799999999999999 1.5 weighted BCE + 0.12000000000000001 Image Lovasz\n"
     ]
    },
    {
     "data": {
      "application/vnd.jupyter.widget-view+json": {
       "model_id": "2f0d0c8900f548c59fa5b05ff118e655",
       "version_major": 2,
       "version_minor": 0
      },
      "text/plain": [
       "HBox(children=(IntProgress(value=0, max=157), HTML(value='')))"
      ]
     },
     "metadata": {},
     "output_type": "display_data"
    },
    {
     "name": "stdout",
     "output_type": "stream",
     "text": [
      "Epoch 130: Loss 0.45899999141693115\n",
      "Val loss: 0.41499999165534973 Thresh: 0.6 F1: 0.698 Recall: 0.688 Precision: 0.708 Error: 0.03\n",
      "Loss: 0.8799999999999999 1.5 weighted BCE + 0.12000000000000001 Image Lovasz\n"
     ]
    },
    {
     "data": {
      "application/vnd.jupyter.widget-view+json": {
       "model_id": "b46ca6f4a2b648f38368163b4e8bff76",
       "version_major": 2,
       "version_minor": 0
      },
      "text/plain": [
       "HBox(children=(IntProgress(value=0, max=157), HTML(value='')))"
      ]
     },
     "metadata": {},
     "output_type": "display_data"
    },
    {
     "name": "stdout",
     "output_type": "stream",
     "text": [
      "Epoch 131: Loss 0.460999995470047\n",
      "Val loss: 0.39800000190734863 Thresh: 0.4 F1: 0.691 Recall: 0.653 Precision: 0.733 Error: 0.123\n",
      "Loss: 0.8799999999999999 1.5 weighted BCE + 0.12000000000000001 Image Lovasz\n"
     ]
    },
    {
     "data": {
      "application/vnd.jupyter.widget-view+json": {
       "model_id": "0ffb6d6446af42efb933e8c2eccdf971",
       "version_major": 2,
       "version_minor": 0
      },
      "text/plain": [
       "HBox(children=(IntProgress(value=0, max=157), HTML(value='')))"
      ]
     },
     "metadata": {},
     "output_type": "display_data"
    },
    {
     "name": "stdout",
     "output_type": "stream",
     "text": [
      "Epoch 132: Loss 0.45899999141693115\n",
      "Val loss: 0.40299999713897705 Thresh: 0.5 F1: 0.693 Recall: 0.681 Precision: 0.706 Error: 0.037\n",
      "Loss: 0.8799999999999999 1.5 weighted BCE + 0.12000000000000001 Image Lovasz\n"
     ]
    },
    {
     "data": {
      "application/vnd.jupyter.widget-view+json": {
       "model_id": "9a6a1423680e40bc8187bc3e41b4d5ac",
       "version_major": 2,
       "version_minor": 0
      },
      "text/plain": [
       "HBox(children=(IntProgress(value=0, max=157), HTML(value='')))"
      ]
     },
     "metadata": {},
     "output_type": "display_data"
    },
    {
     "name": "stdout",
     "output_type": "stream",
     "text": [
      "Epoch 133: Loss 0.4620000123977661\n",
      "Val loss: 0.4020000100135803 Thresh: 0.5 F1: 0.691 Recall: 0.665 Precision: 0.718 Error: 0.079\n",
      "Loss: 0.8799999999999999 1.5 weighted BCE + 0.12000000000000001 Image Lovasz\n"
     ]
    },
    {
     "data": {
      "application/vnd.jupyter.widget-view+json": {
       "model_id": "60443e8afd7644dda555db1d670363be",
       "version_major": 2,
       "version_minor": 0
      },
      "text/plain": [
       "HBox(children=(IntProgress(value=0, max=157), HTML(value='')))"
      ]
     },
     "metadata": {},
     "output_type": "display_data"
    },
    {
     "name": "stdout",
     "output_type": "stream",
     "text": [
      "Epoch 134: Loss 0.46299999952316284\n",
      "Val loss: 0.3970000147819519 Thresh: 0.4 F1: 0.693 Recall: 0.664 Precision: 0.725 Error: 0.092\n",
      "Loss: 0.8799999999999999 1.5 weighted BCE + 0.12000000000000001 Image Lovasz\n"
     ]
    },
    {
     "data": {
      "application/vnd.jupyter.widget-view+json": {
       "model_id": "df72ccce50394bb8a7b8889ecd2b8bec",
       "version_major": 2,
       "version_minor": 0
      },
      "text/plain": [
       "HBox(children=(IntProgress(value=0, max=157), HTML(value='')))"
      ]
     },
     "metadata": {},
     "output_type": "display_data"
    },
    {
     "name": "stdout",
     "output_type": "stream",
     "text": [
      "Epoch 135: Loss 0.46399998664855957\n",
      "Val loss: 0.40400001406669617 Thresh: 0.55 F1: 0.696 Recall: 0.701 Precision: 0.692 Error: 0.012\n",
      "Loss: 0.8799999999999999 1.5 weighted BCE + 0.12000000000000001 Image Lovasz\n"
     ]
    },
    {
     "data": {
      "application/vnd.jupyter.widget-view+json": {
       "model_id": "ba5a853005ff4d6b957d964230689ede",
       "version_major": 2,
       "version_minor": 0
      },
      "text/plain": [
       "HBox(children=(IntProgress(value=0, max=157), HTML(value='')))"
      ]
     },
     "metadata": {},
     "output_type": "display_data"
    },
    {
     "name": "stdout",
     "output_type": "stream",
     "text": [
      "Epoch 136: Loss 0.46000000834465027\n",
      "Val loss: 0.4000000059604645 Thresh: 0.55 F1: 0.693 Recall: 0.701 Precision: 0.686 Error: 0.021\n",
      "Loss: 0.8799999999999999 1.5 weighted BCE + 0.12000000000000001 Image Lovasz\n"
     ]
    },
    {
     "data": {
      "application/vnd.jupyter.widget-view+json": {
       "model_id": "4febb619b2124180b0a07da54a5db469",
       "version_major": 2,
       "version_minor": 0
      },
      "text/plain": [
       "HBox(children=(IntProgress(value=0, max=157), HTML(value='')))"
      ]
     },
     "metadata": {},
     "output_type": "display_data"
    },
    {
     "name": "stdout",
     "output_type": "stream",
     "text": [
      "Epoch 137: Loss 0.46000000834465027\n",
      "Val loss: 0.4000000059604645 Thresh: 0.5 F1: 0.693 Recall: 0.677 Precision: 0.711 Error: 0.051\n",
      "Loss: 0.8799999999999999 1.5 weighted BCE + 0.12000000000000001 Image Lovasz\n"
     ]
    },
    {
     "data": {
      "application/vnd.jupyter.widget-view+json": {
       "model_id": "0d0b44fa4d9a42298950cdd24fe278a0",
       "version_major": 2,
       "version_minor": 0
      },
      "text/plain": [
       "HBox(children=(IntProgress(value=0, max=157), HTML(value='')))"
      ]
     },
     "metadata": {},
     "output_type": "display_data"
    },
    {
     "name": "stdout",
     "output_type": "stream",
     "text": [
      "Epoch 138: Loss 0.46000000834465027\n",
      "Val loss: 0.4099999964237213 Thresh: 0.55 F1: 0.685 Recall: 0.676 Precision: 0.695 Error: 0.029\n",
      "Loss: 0.8799999999999999 1.5 weighted BCE + 0.12000000000000001 Image Lovasz\n"
     ]
    },
    {
     "data": {
      "application/vnd.jupyter.widget-view+json": {
       "model_id": "b4068b10975045849c60ec6dd527ba07",
       "version_major": 2,
       "version_minor": 0
      },
      "text/plain": [
       "HBox(children=(IntProgress(value=0, max=157), HTML(value='')))"
      ]
     },
     "metadata": {},
     "output_type": "display_data"
    },
    {
     "name": "stdout",
     "output_type": "stream",
     "text": [
      "Epoch 139: Loss 0.45899999141693115\n",
      "Val loss: 0.4050000011920929 Thresh: 0.5 F1: 0.688 Recall: 0.669 Precision: 0.709 Error: 0.06\n",
      "Loss: 0.8799999999999999 1.5 weighted BCE + 0.12000000000000001 Image Lovasz\n"
     ]
    },
    {
     "data": {
      "application/vnd.jupyter.widget-view+json": {
       "model_id": "22097d3680934469bba4923dcccbedfe",
       "version_major": 2,
       "version_minor": 0
      },
      "text/plain": [
       "HBox(children=(IntProgress(value=0, max=157), HTML(value='')))"
      ]
     },
     "metadata": {},
     "output_type": "display_data"
    },
    {
     "name": "stdout",
     "output_type": "stream",
     "text": [
      "Epoch 140: Loss 0.4580000042915344\n",
      "Val loss: 0.40400001406669617 Thresh: 0.45 F1: 0.694 Recall: 0.656 Precision: 0.737 Error: 0.125\n",
      "Loss: 0.8799999999999999 1.5 weighted BCE + 0.12000000000000001 Image Lovasz\n"
     ]
    },
    {
     "data": {
      "application/vnd.jupyter.widget-view+json": {
       "model_id": "e86d7ba4996e48249b482e5565370b07",
       "version_major": 2,
       "version_minor": 0
      },
      "text/plain": [
       "HBox(children=(IntProgress(value=0, max=157), HTML(value='')))"
      ]
     },
     "metadata": {},
     "output_type": "display_data"
    },
    {
     "name": "stdout",
     "output_type": "stream",
     "text": [
      "Epoch 141: Loss 0.4569999873638153\n",
      "Val loss: 0.38999998569488525 Thresh: 0.4 F1: 0.696 Recall: 0.667 Precision: 0.727 Error: 0.09\n",
      "Loss: 0.8799999999999999 1.5 weighted BCE + 0.12000000000000001 Image Lovasz\n"
     ]
    },
    {
     "data": {
      "application/vnd.jupyter.widget-view+json": {
       "model_id": "122b41e1eb444bd8a37f6c806967b4d7",
       "version_major": 2,
       "version_minor": 0
      },
      "text/plain": [
       "HBox(children=(IntProgress(value=0, max=157), HTML(value='')))"
      ]
     },
     "metadata": {},
     "output_type": "display_data"
    },
    {
     "name": "stdout",
     "output_type": "stream",
     "text": [
      "Epoch 142: Loss 0.4569999873638153\n",
      "Val loss: 0.3919999897480011 Thresh: 0.45 F1: 0.695 Recall: 0.677 Precision: 0.715 Error: 0.056\n",
      "Loss: 0.8799999999999999 1.5 weighted BCE + 0.12000000000000001 Image Lovasz\n"
     ]
    },
    {
     "data": {
      "application/vnd.jupyter.widget-view+json": {
       "model_id": "6ba8514fcbe1430a871d6359800817ad",
       "version_major": 2,
       "version_minor": 0
      },
      "text/plain": [
       "HBox(children=(IntProgress(value=0, max=157), HTML(value='')))"
      ]
     },
     "metadata": {},
     "output_type": "display_data"
    },
    {
     "name": "stdout",
     "output_type": "stream",
     "text": [
      "Epoch 143: Loss 0.46000000834465027\n",
      "Val loss: 0.3930000066757202 Thresh: 0.45 F1: 0.69 Recall: 0.688 Precision: 0.692 Error: 0.007\n",
      "Loss: 0.8799999999999999 1.5 weighted BCE + 0.12000000000000001 Image Lovasz\n"
     ]
    },
    {
     "data": {
      "application/vnd.jupyter.widget-view+json": {
       "model_id": "825a7e5cb2e341c694dc8bc896ca4895",
       "version_major": 2,
       "version_minor": 0
      },
      "text/plain": [
       "HBox(children=(IntProgress(value=0, max=157), HTML(value='')))"
      ]
     },
     "metadata": {},
     "output_type": "display_data"
    },
    {
     "name": "stdout",
     "output_type": "stream",
     "text": [
      "Epoch 144: Loss 0.45899999141693115\n",
      "Val loss: 0.3919999897480011 Thresh: 0.5 F1: 0.702 Recall: 0.701 Precision: 0.702 Error: 0.001\n",
      "Loss: 0.8799999999999999 1.5 weighted BCE + 0.12000000000000001 Image Lovasz\n"
     ]
    },
    {
     "data": {
      "application/vnd.jupyter.widget-view+json": {
       "model_id": "78c345256ac54e59a91b879551d81516",
       "version_major": 2,
       "version_minor": 0
      },
      "text/plain": [
       "HBox(children=(IntProgress(value=0, max=157), HTML(value='')))"
      ]
     },
     "metadata": {},
     "output_type": "display_data"
    },
    {
     "name": "stdout",
     "output_type": "stream",
     "text": [
      "Epoch 145: Loss 0.4560000002384186\n",
      "Val loss: 0.3970000147819519 Thresh: 0.4 F1: 0.688 Recall: 0.655 Precision: 0.726 Error: 0.108\n",
      "Loss: 0.8799999999999999 1.5 weighted BCE + 0.12000000000000001 Image Lovasz\n"
     ]
    },
    {
     "data": {
      "application/vnd.jupyter.widget-view+json": {
       "model_id": "deac229073ed402b8c43b256334ecb74",
       "version_major": 2,
       "version_minor": 0
      },
      "text/plain": [
       "HBox(children=(IntProgress(value=0, max=157), HTML(value='')))"
      ]
     },
     "metadata": {},
     "output_type": "display_data"
    },
    {
     "name": "stdout",
     "output_type": "stream",
     "text": [
      "Epoch 146: Loss 0.4580000042915344\n",
      "Val loss: 0.39800000190734863 Thresh: 0.55 F1: 0.701 Recall: 0.716 Precision: 0.686 Error: 0.042\n",
      "Loss: 0.8799999999999999 1.5 weighted BCE + 0.12000000000000001 Image Lovasz\n"
     ]
    },
    {
     "data": {
      "application/vnd.jupyter.widget-view+json": {
       "model_id": "d9b4eb74bcaf46dab222d65e51b31fa8",
       "version_major": 2,
       "version_minor": 0
      },
      "text/plain": [
       "HBox(children=(IntProgress(value=0, max=157), HTML(value='')))"
      ]
     },
     "metadata": {},
     "output_type": "display_data"
    },
    {
     "name": "stdout",
     "output_type": "stream",
     "text": [
      "Epoch 147: Loss 0.4580000042915344\n",
      "Val loss: 0.4169999957084656 Thresh: 0.5 F1: 0.694 Recall: 0.657 Precision: 0.736 Error: 0.12\n",
      "Loss: 0.8799999999999999 1.5 weighted BCE + 0.12000000000000001 Image Lovasz\n"
     ]
    },
    {
     "data": {
      "application/vnd.jupyter.widget-view+json": {
       "model_id": "8f13841636064b7fba1a89d3cf324553",
       "version_major": 2,
       "version_minor": 0
      },
      "text/plain": [
       "HBox(children=(IntProgress(value=0, max=157), HTML(value='')))"
      ]
     },
     "metadata": {},
     "output_type": "display_data"
    },
    {
     "name": "stdout",
     "output_type": "stream",
     "text": [
      "Epoch 148: Loss 0.45899999141693115\n",
      "Val loss: 0.39899998903274536 Thresh: 0.5 F1: 0.689 Recall: 0.683 Precision: 0.696 Error: 0.02\n",
      "Loss: 0.8799999999999999 1.5 weighted BCE + 0.12000000000000001 Image Lovasz\n"
     ]
    },
    {
     "data": {
      "application/vnd.jupyter.widget-view+json": {
       "model_id": "034a3f01a9cd426281ea8905217c7936",
       "version_major": 2,
       "version_minor": 0
      },
      "text/plain": [
       "HBox(children=(IntProgress(value=0, max=157), HTML(value='')))"
      ]
     },
     "metadata": {},
     "output_type": "display_data"
    },
    {
     "name": "stdout",
     "output_type": "stream",
     "text": [
      "Epoch 149: Loss 0.4580000042915344\n",
      "Val loss: 0.40400001406669617 Thresh: 0.5 F1: 0.688 Recall: 0.698 Precision: 0.678 Error: 0.028\n",
      "Loss: 0.8799999999999999 1.5 weighted BCE + 0.12000000000000001 Image Lovasz\n"
     ]
    },
    {
     "data": {
      "application/vnd.jupyter.widget-view+json": {
       "model_id": "4bb8c0e1474e4c53913dca400e6bc75a",
       "version_major": 2,
       "version_minor": 0
      },
      "text/plain": [
       "HBox(children=(IntProgress(value=0, max=157), HTML(value='')))"
      ]
     },
     "metadata": {},
     "output_type": "display_data"
    },
    {
     "name": "stdout",
     "output_type": "stream",
     "text": [
      "Epoch 150: Loss 0.4569999873638153\n",
      "Val loss: 0.4020000100135803 Thresh: 0.4 F1: 0.683 Recall: 0.644 Precision: 0.728 Error: 0.129\n",
      "Loss: 0.8799999999999999 1.5 weighted BCE + 0.12000000000000001 Image Lovasz\n"
     ]
    },
    {
     "data": {
      "application/vnd.jupyter.widget-view+json": {
       "model_id": "5c6e6397d7544242bcec5467af7c6550",
       "version_major": 2,
       "version_minor": 0
      },
      "text/plain": [
       "HBox(children=(IntProgress(value=0, max=157), HTML(value='')))"
      ]
     },
     "metadata": {},
     "output_type": "display_data"
    },
    {
     "name": "stdout",
     "output_type": "stream",
     "text": [
      "Epoch 151: Loss 0.4580000042915344\n",
      "Val loss: 0.4129999876022339 Thresh: 0.55 F1: 0.694 Recall: 0.675 Precision: 0.714 Error: 0.059\n",
      "Loss: 0.8799999999999999 1.5 weighted BCE + 0.12000000000000001 Image Lovasz\n"
     ]
    },
    {
     "data": {
      "application/vnd.jupyter.widget-view+json": {
       "model_id": "51678073e445423392c276a3a46d3085",
       "version_major": 2,
       "version_minor": 0
      },
      "text/plain": [
       "HBox(children=(IntProgress(value=0, max=157), HTML(value='')))"
      ]
     },
     "metadata": {},
     "output_type": "display_data"
    },
    {
     "name": "stdout",
     "output_type": "stream",
     "text": [
      "Epoch 152: Loss 0.4580000042915344\n",
      "Val loss: 0.4090000092983246 Thresh: 0.55 F1: 0.682 Recall: 0.689 Precision: 0.676 Error: 0.02\n",
      "Loss: 0.8799999999999999 1.5 weighted BCE + 0.12000000000000001 Image Lovasz\n"
     ]
    },
    {
     "data": {
      "application/vnd.jupyter.widget-view+json": {
       "model_id": "112e466e3e174c53a25b3e9cb7b76041",
       "version_major": 2,
       "version_minor": 0
      },
      "text/plain": [
       "HBox(children=(IntProgress(value=0, max=157), HTML(value='')))"
      ]
     },
     "metadata": {},
     "output_type": "display_data"
    },
    {
     "name": "stdout",
     "output_type": "stream",
     "text": [
      "Epoch 153: Loss 0.4560000002384186\n",
      "Val loss: 0.40400001406669617 Thresh: 0.55 F1: 0.7 Recall: 0.704 Precision: 0.696 Error: 0.012\n",
      "Loss: 0.8799999999999999 1.5 weighted BCE + 0.12000000000000001 Image Lovasz\n"
     ]
    },
    {
     "data": {
      "application/vnd.jupyter.widget-view+json": {
       "model_id": "f13eedb2abad4556936a20bdaa7a1541",
       "version_major": 2,
       "version_minor": 0
      },
      "text/plain": [
       "HBox(children=(IntProgress(value=0, max=157), HTML(value='')))"
      ]
     },
     "metadata": {},
     "output_type": "display_data"
    },
    {
     "name": "stdout",
     "output_type": "stream",
     "text": [
      "Epoch 154: Loss 0.4560000002384186\n",
      "Val loss: 0.40299999713897705 Thresh: 0.55 F1: 0.7 Recall: 0.686 Precision: 0.714 Error: 0.041\n",
      "Loss: 0.8799999999999999 1.5 weighted BCE + 0.12000000000000001 Image Lovasz\n"
     ]
    },
    {
     "data": {
      "application/vnd.jupyter.widget-view+json": {
       "model_id": "fb0ff2c9c5594d7695beec469256917a",
       "version_major": 2,
       "version_minor": 0
      },
      "text/plain": [
       "HBox(children=(IntProgress(value=0, max=157), HTML(value='')))"
      ]
     },
     "metadata": {},
     "output_type": "display_data"
    },
    {
     "name": "stdout",
     "output_type": "stream",
     "text": [
      "Epoch 155: Loss 0.45500001311302185\n",
      "Val loss: 0.41100001335144043 Thresh: 0.45 F1: 0.694 Recall: 0.646 Precision: 0.749 Error: 0.159\n",
      "Loss: 0.8799999999999999 1.5 weighted BCE + 0.12000000000000001 Image Lovasz\n"
     ]
    },
    {
     "data": {
      "application/vnd.jupyter.widget-view+json": {
       "model_id": "4bef7d519f92451b9a099ab53560d71c",
       "version_major": 2,
       "version_minor": 0
      },
      "text/plain": [
       "HBox(children=(IntProgress(value=0, max=157), HTML(value='')))"
      ]
     },
     "metadata": {},
     "output_type": "display_data"
    },
    {
     "name": "stdout",
     "output_type": "stream",
     "text": [
      "Epoch 156: Loss 0.4580000042915344\n",
      "Val loss: 0.3970000147819519 Thresh: 0.55 F1: 0.708 Recall: 0.72 Precision: 0.696 Error: 0.034\n",
      "Loss: 0.8799999999999999 1.5 weighted BCE + 0.12000000000000001 Image Lovasz\n"
     ]
    },
    {
     "data": {
      "application/vnd.jupyter.widget-view+json": {
       "model_id": "199d7d1f11d146fb8d4f1c61f001aafe",
       "version_major": 2,
       "version_minor": 0
      },
      "text/plain": [
       "HBox(children=(IntProgress(value=0, max=157), HTML(value='')))"
      ]
     },
     "metadata": {},
     "output_type": "display_data"
    },
    {
     "name": "stdout",
     "output_type": "stream",
     "text": [
      "Epoch 157: Loss 0.4560000002384186\n",
      "Val loss: 0.4000000059604645 Thresh: 0.45 F1: 0.697 Recall: 0.656 Precision: 0.744 Error: 0.134\n",
      "Loss: 0.8799999999999999 1.5 weighted BCE + 0.12000000000000001 Image Lovasz\n"
     ]
    },
    {
     "data": {
      "application/vnd.jupyter.widget-view+json": {
       "model_id": "5398c30b43b04a26a14ddf96c7092a13",
       "version_major": 2,
       "version_minor": 0
      },
      "text/plain": [
       "HBox(children=(IntProgress(value=0, max=157), HTML(value='')))"
      ]
     },
     "metadata": {},
     "output_type": "display_data"
    },
    {
     "name": "stdout",
     "output_type": "stream",
     "text": [
      "Epoch 158: Loss 0.45500001311302185\n",
      "Val loss: 0.40700000524520874 Thresh: 0.45 F1: 0.689 Recall: 0.662 Precision: 0.718 Error: 0.085\n",
      "Loss: 0.8799999999999999 1.5 weighted BCE + 0.12000000000000001 Image Lovasz\n"
     ]
    },
    {
     "data": {
      "application/vnd.jupyter.widget-view+json": {
       "model_id": "480d15c814b74b0ca61a46f8b9227545",
       "version_major": 2,
       "version_minor": 0
      },
      "text/plain": [
       "HBox(children=(IntProgress(value=0, max=157), HTML(value='')))"
      ]
     },
     "metadata": {},
     "output_type": "display_data"
    },
    {
     "name": "stdout",
     "output_type": "stream",
     "text": [
      "Epoch 159: Loss 0.45500001311302185\n",
      "Val loss: 0.4099999964237213 Thresh: 0.6 F1: 0.699 Recall: 0.706 Precision: 0.692 Error: 0.02\n",
      "Loss: 0.8799999999999999 1.5 weighted BCE + 0.12000000000000001 Image Lovasz\n"
     ]
    },
    {
     "data": {
      "application/vnd.jupyter.widget-view+json": {
       "model_id": "90e31548d52e468cac71da767cd04f71",
       "version_major": 2,
       "version_minor": 0
      },
      "text/plain": [
       "HBox(children=(IntProgress(value=0, max=157), HTML(value='')))"
      ]
     },
     "metadata": {},
     "output_type": "display_data"
    },
    {
     "name": "stdout",
     "output_type": "stream",
     "text": [
      "Epoch 160: Loss 0.4560000002384186\n",
      "Val loss: 0.40299999713897705 Thresh: 0.5 F1: 0.687 Recall: 0.679 Precision: 0.695 Error: 0.024\n",
      "Loss: 0.8799999999999999 1.5 weighted BCE + 0.12000000000000001 Image Lovasz\n"
     ]
    },
    {
     "data": {
      "application/vnd.jupyter.widget-view+json": {
       "model_id": "a0e9926e3fd347fd950921efb516f6b6",
       "version_major": 2,
       "version_minor": 0
      },
      "text/plain": [
       "HBox(children=(IntProgress(value=0, max=157), HTML(value='')))"
      ]
     },
     "metadata": {},
     "output_type": "display_data"
    },
    {
     "name": "stdout",
     "output_type": "stream",
     "text": [
      "Epoch 161: Loss 0.45500001311302185\n",
      "Val loss: 0.41100001335144043 Thresh: 0.55 F1: 0.7 Recall: 0.693 Precision: 0.707 Error: 0.02\n",
      "Loss: 0.8799999999999999 1.5 weighted BCE + 0.12000000000000001 Image Lovasz\n"
     ]
    },
    {
     "data": {
      "application/vnd.jupyter.widget-view+json": {
       "model_id": "1d9ddf9f8d5c433bb4814d5e1fb1ad99",
       "version_major": 2,
       "version_minor": 0
      },
      "text/plain": [
       "HBox(children=(IntProgress(value=0, max=157), HTML(value='')))"
      ]
     },
     "metadata": {},
     "output_type": "display_data"
    },
    {
     "name": "stdout",
     "output_type": "stream",
     "text": [
      "Epoch 162: Loss 0.4569999873638153\n",
      "Val loss: 0.39399999380111694 Thresh: 0.45 F1: 0.693 Recall: 0.671 Precision: 0.716 Error: 0.067\n",
      "Loss: 0.8799999999999999 1.5 weighted BCE + 0.12000000000000001 Image Lovasz\n"
     ]
    },
    {
     "data": {
      "application/vnd.jupyter.widget-view+json": {
       "model_id": "a64601e10c74440d8bbe922de77051b4",
       "version_major": 2,
       "version_minor": 0
      },
      "text/plain": [
       "HBox(children=(IntProgress(value=0, max=157), HTML(value='')))"
      ]
     },
     "metadata": {},
     "output_type": "display_data"
    },
    {
     "name": "stdout",
     "output_type": "stream",
     "text": [
      "Epoch 163: Loss 0.4819999933242798\n",
      "Val loss: 0.3790000081062317 Thresh: 0.5 F1: 0.711 Recall: 0.716 Precision: 0.707 Error: 0.014\n",
      "Loss: 0.8799999999999999 1.5 weighted BCE + 0.12000000000000001 Image Lovasz\n"
     ]
    },
    {
     "data": {
      "application/vnd.jupyter.widget-view+json": {
       "model_id": "697a8ebc1c36469584f0e2f23865cbc2",
       "version_major": 2,
       "version_minor": 0
      },
      "text/plain": [
       "HBox(children=(IntProgress(value=0, max=157), HTML(value='')))"
      ]
     },
     "metadata": {},
     "output_type": "display_data"
    },
    {
     "name": "stdout",
     "output_type": "stream",
     "text": [
      "Epoch 164: Loss 0.46000000834465027\n",
      "Val loss: 0.41200000047683716 Thresh: 0.45 F1: 0.687 Recall: 0.654 Precision: 0.723 Error: 0.105\n",
      "Loss: 0.8799999999999999 1.5 weighted BCE + 0.12000000000000001 Image Lovasz\n"
     ]
    },
    {
     "data": {
      "application/vnd.jupyter.widget-view+json": {
       "model_id": "93eea084761245caa5120505d58637ff",
       "version_major": 2,
       "version_minor": 0
      },
      "text/plain": [
       "HBox(children=(IntProgress(value=0, max=157), HTML(value='')))"
      ]
     },
     "metadata": {},
     "output_type": "display_data"
    },
    {
     "name": "stdout",
     "output_type": "stream",
     "text": [
      "Epoch 165: Loss 0.4569999873638153\n",
      "Val loss: 0.4309999942779541 Thresh: 0.55 F1: 0.685 Recall: 0.658 Precision: 0.715 Error: 0.087\n",
      "Loss: 0.8799999999999999 1.5 weighted BCE + 0.12000000000000001 Image Lovasz\n"
     ]
    },
    {
     "data": {
      "application/vnd.jupyter.widget-view+json": {
       "model_id": "158d97311b9c4114a60755fba29c1069",
       "version_major": 2,
       "version_minor": 0
      },
      "text/plain": [
       "HBox(children=(IntProgress(value=0, max=157), HTML(value='')))"
      ]
     },
     "metadata": {},
     "output_type": "display_data"
    },
    {
     "name": "stdout",
     "output_type": "stream",
     "text": [
      "Epoch 166: Loss 0.4560000002384186\n",
      "Val loss: 0.39899998903274536 Thresh: 0.45 F1: 0.695 Recall: 0.672 Precision: 0.72 Error: 0.071\n",
      "Loss: 0.8799999999999999 1.5 weighted BCE + 0.12000000000000001 Image Lovasz\n"
     ]
    },
    {
     "data": {
      "application/vnd.jupyter.widget-view+json": {
       "model_id": "dd3a538703674e048a30f0db42cd3966",
       "version_major": 2,
       "version_minor": 0
      },
      "text/plain": [
       "HBox(children=(IntProgress(value=0, max=157), HTML(value='')))"
      ]
     },
     "metadata": {},
     "output_type": "display_data"
    },
    {
     "name": "stdout",
     "output_type": "stream",
     "text": [
      "Epoch 167: Loss 0.4560000002384186\n",
      "Val loss: 0.4180000126361847 Thresh: 0.45 F1: 0.68 Recall: 0.637 Precision: 0.73 Error: 0.146\n",
      "Loss: 0.8799999999999999 1.5 weighted BCE + 0.12000000000000001 Image Lovasz\n"
     ]
    },
    {
     "data": {
      "application/vnd.jupyter.widget-view+json": {
       "model_id": "9ec7d273839f4cb999e5c28b017aab05",
       "version_major": 2,
       "version_minor": 0
      },
      "text/plain": [
       "HBox(children=(IntProgress(value=0, max=157), HTML(value='')))"
      ]
     },
     "metadata": {},
     "output_type": "display_data"
    },
    {
     "name": "stdout",
     "output_type": "stream",
     "text": [
      "Epoch 168: Loss 0.4569999873638153\n",
      "Val loss: 0.421999990940094 Thresh: 0.55 F1: 0.695 Recall: 0.676 Precision: 0.714 Error: 0.057\n",
      "Loss: 0.8799999999999999 1.5 weighted BCE + 0.12000000000000001 Image Lovasz\n"
     ]
    },
    {
     "data": {
      "application/vnd.jupyter.widget-view+json": {
       "model_id": "5fcb1e28a089472880a90682cace2759",
       "version_major": 2,
       "version_minor": 0
      },
      "text/plain": [
       "HBox(children=(IntProgress(value=0, max=157), HTML(value='')))"
      ]
     },
     "metadata": {},
     "output_type": "display_data"
    },
    {
     "name": "stdout",
     "output_type": "stream",
     "text": [
      "Epoch 169: Loss 0.45500001311302185\n",
      "Val loss: 0.4020000100135803 Thresh: 0.45 F1: 0.692 Recall: 0.667 Precision: 0.72 Error: 0.08\n",
      "Loss: 0.8799999999999999 1.5 weighted BCE + 0.12000000000000001 Image Lovasz\n"
     ]
    },
    {
     "data": {
      "application/vnd.jupyter.widget-view+json": {
       "model_id": "307a367aeb814ccd879085cb0a2dad7b",
       "version_major": 2,
       "version_minor": 0
      },
      "text/plain": [
       "HBox(children=(IntProgress(value=0, max=157), HTML(value='')))"
      ]
     },
     "metadata": {},
     "output_type": "display_data"
    },
    {
     "name": "stdout",
     "output_type": "stream",
     "text": [
      "Epoch 170: Loss 0.45399999618530273\n",
      "Val loss: 0.4090000092983246 Thresh: 0.5 F1: 0.688 Recall: 0.672 Precision: 0.704 Error: 0.048\n",
      "Loss: 0.8799999999999999 1.5 weighted BCE + 0.12000000000000001 Image Lovasz\n"
     ]
    },
    {
     "data": {
      "application/vnd.jupyter.widget-view+json": {
       "model_id": "5a244ad45dc74e14a94907f6dc78c863",
       "version_major": 2,
       "version_minor": 0
      },
      "text/plain": [
       "HBox(children=(IntProgress(value=0, max=157), HTML(value='')))"
      ]
     },
     "metadata": {},
     "output_type": "display_data"
    },
    {
     "name": "stdout",
     "output_type": "stream",
     "text": [
      "Epoch 171: Loss 0.45399999618530273\n",
      "Val loss: 0.4129999876022339 Thresh: 0.55 F1: 0.695 Recall: 0.69 Precision: 0.699 Error: 0.012\n",
      "Loss: 0.8799999999999999 1.5 weighted BCE + 0.12000000000000001 Image Lovasz\n"
     ]
    },
    {
     "data": {
      "application/vnd.jupyter.widget-view+json": {
       "model_id": "64086b1df56449f2a9baf818ef29dcc4",
       "version_major": 2,
       "version_minor": 0
      },
      "text/plain": [
       "HBox(children=(IntProgress(value=0, max=157), HTML(value='')))"
      ]
     },
     "metadata": {},
     "output_type": "display_data"
    },
    {
     "name": "stdout",
     "output_type": "stream",
     "text": [
      "Epoch 172: Loss 0.453000009059906\n",
      "Val loss: 0.4050000011920929 Thresh: 0.5 F1: 0.689 Recall: 0.675 Precision: 0.704 Error: 0.043\n",
      "Loss: 0.8799999999999999 1.5 weighted BCE + 0.12000000000000001 Image Lovasz\n"
     ]
    },
    {
     "data": {
      "application/vnd.jupyter.widget-view+json": {
       "model_id": "43cea07bf4634db88eb31f95b8c470e7",
       "version_major": 2,
       "version_minor": 0
      },
      "text/plain": [
       "HBox(children=(IntProgress(value=0, max=157), HTML(value='')))"
      ]
     },
     "metadata": {},
     "output_type": "display_data"
    },
    {
     "name": "stdout",
     "output_type": "stream",
     "text": [
      "Epoch 173: Loss 0.453000009059906\n",
      "Val loss: 0.42399999499320984 Thresh: 0.5 F1: 0.69 Recall: 0.661 Precision: 0.721 Error: 0.091\n",
      "Loss: 0.8799999999999999 1.5 weighted BCE + 0.12000000000000001 Image Lovasz\n"
     ]
    },
    {
     "data": {
      "application/vnd.jupyter.widget-view+json": {
       "model_id": "5939443b59a2465db16a9198080960c6",
       "version_major": 2,
       "version_minor": 0
      },
      "text/plain": [
       "HBox(children=(IntProgress(value=0, max=157), HTML(value='')))"
      ]
     },
     "metadata": {},
     "output_type": "display_data"
    },
    {
     "name": "stdout",
     "output_type": "stream",
     "text": [
      "Epoch 174: Loss 0.4560000002384186\n",
      "Val loss: 0.40299999713897705 Thresh: 0.5 F1: 0.696 Recall: 0.698 Precision: 0.695 Error: 0.004\n",
      "Loss: 0.8799999999999999 1.5 weighted BCE + 0.12000000000000001 Image Lovasz\n"
     ]
    },
    {
     "data": {
      "application/vnd.jupyter.widget-view+json": {
       "model_id": "dfa6952df47d4180bb970f49c8fca743",
       "version_major": 2,
       "version_minor": 0
      },
      "text/plain": [
       "HBox(children=(IntProgress(value=0, max=157), HTML(value='')))"
      ]
     },
     "metadata": {},
     "output_type": "display_data"
    },
    {
     "name": "stdout",
     "output_type": "stream",
     "text": [
      "Epoch 175: Loss 0.453000009059906\n",
      "Val loss: 0.41600000858306885 Thresh: 0.55 F1: 0.686 Recall: 0.681 Precision: 0.69 Error: 0.013\n",
      "Loss: 0.8799999999999999 1.5 weighted BCE + 0.12000000000000001 Image Lovasz\n"
     ]
    },
    {
     "data": {
      "application/vnd.jupyter.widget-view+json": {
       "model_id": "520f277c8e0d43018e428dc55f938c4c",
       "version_major": 2,
       "version_minor": 0
      },
      "text/plain": [
       "HBox(children=(IntProgress(value=0, max=157), HTML(value='')))"
      ]
     },
     "metadata": {},
     "output_type": "display_data"
    },
    {
     "name": "stdout",
     "output_type": "stream",
     "text": [
      "Epoch 176: Loss 0.453000009059906\n",
      "Val loss: 0.41600000858306885 Thresh: 0.5 F1: 0.686 Recall: 0.667 Precision: 0.705 Error: 0.057\n",
      "Loss: 0.8799999999999999 1.5 weighted BCE + 0.12000000000000001 Image Lovasz\n"
     ]
    },
    {
     "data": {
      "application/vnd.jupyter.widget-view+json": {
       "model_id": "dcbef373f14a4230b478cb7c1206a66f",
       "version_major": 2,
       "version_minor": 0
      },
      "text/plain": [
       "HBox(children=(IntProgress(value=0, max=157), HTML(value='')))"
      ]
     },
     "metadata": {},
     "output_type": "display_data"
    },
    {
     "name": "stdout",
     "output_type": "stream",
     "text": [
      "Epoch 177: Loss 0.4519999921321869\n",
      "Val loss: 0.4189999997615814 Thresh: 0.5 F1: 0.681 Recall: 0.661 Precision: 0.702 Error: 0.062\n",
      "Loss: 0.8799999999999999 1.5 weighted BCE + 0.12000000000000001 Image Lovasz\n"
     ]
    },
    {
     "data": {
      "application/vnd.jupyter.widget-view+json": {
       "model_id": "64e2f258093f4cfd93463789206f7638",
       "version_major": 2,
       "version_minor": 0
      },
      "text/plain": [
       "HBox(children=(IntProgress(value=0, max=157), HTML(value='')))"
      ]
     },
     "metadata": {},
     "output_type": "display_data"
    },
    {
     "name": "stdout",
     "output_type": "stream",
     "text": [
      "Epoch 178: Loss 0.45399999618530273\n",
      "Val loss: 0.41600000858306885 Thresh: 0.5 F1: 0.687 Recall: 0.667 Precision: 0.708 Error: 0.062\n",
      "Loss: 0.8799999999999999 1.5 weighted BCE + 0.12000000000000001 Image Lovasz\n"
     ]
    },
    {
     "data": {
      "application/vnd.jupyter.widget-view+json": {
       "model_id": "6c712269511a4e148a3b2d215dc8175d",
       "version_major": 2,
       "version_minor": 0
      },
      "text/plain": [
       "HBox(children=(IntProgress(value=0, max=157), HTML(value='')))"
      ]
     },
     "metadata": {},
     "output_type": "display_data"
    },
    {
     "name": "stdout",
     "output_type": "stream",
     "text": [
      "Epoch 179: Loss 0.453000009059906\n",
      "Val loss: 0.4169999957084656 Thresh: 0.55 F1: 0.694 Recall: 0.687 Precision: 0.702 Error: 0.023\n",
      "Loss: 0.8799999999999999 1.5 weighted BCE + 0.12000000000000001 Image Lovasz\n"
     ]
    },
    {
     "data": {
      "application/vnd.jupyter.widget-view+json": {
       "model_id": "5d472a6d704644158c87bc11a97c8209",
       "version_major": 2,
       "version_minor": 0
      },
      "text/plain": [
       "HBox(children=(IntProgress(value=0, max=157), HTML(value='')))"
      ]
     },
     "metadata": {},
     "output_type": "display_data"
    },
    {
     "name": "stdout",
     "output_type": "stream",
     "text": [
      "Epoch 180: Loss 0.4519999921321869\n",
      "Val loss: 0.4020000100135803 Thresh: 0.5 F1: 0.685 Recall: 0.696 Precision: 0.674 Error: 0.031\n",
      "Loss: 0.8799999999999999 1.5 weighted BCE + 0.12000000000000001 Image Lovasz\n"
     ]
    },
    {
     "data": {
      "application/vnd.jupyter.widget-view+json": {
       "model_id": "dbad8d07c83c4dbd973cd0066b057567",
       "version_major": 2,
       "version_minor": 0
      },
      "text/plain": [
       "HBox(children=(IntProgress(value=0, max=157), HTML(value='')))"
      ]
     },
     "metadata": {},
     "output_type": "display_data"
    },
    {
     "name": "stdout",
     "output_type": "stream",
     "text": [
      "Epoch 181: Loss 0.45399999618530273\n",
      "Val loss: 0.38499999046325684 Thresh: 0.5 F1: 0.712 Recall: 0.708 Precision: 0.715 Error: 0.01\n",
      "Loss: 0.8799999999999999 1.5 weighted BCE + 0.12000000000000001 Image Lovasz\n"
     ]
    },
    {
     "data": {
      "application/vnd.jupyter.widget-view+json": {
       "model_id": "f6784bc46d5f4ff2b51aa95c66e53671",
       "version_major": 2,
       "version_minor": 0
      },
      "text/plain": [
       "HBox(children=(IntProgress(value=0, max=157), HTML(value='')))"
      ]
     },
     "metadata": {},
     "output_type": "display_data"
    },
    {
     "name": "stdout",
     "output_type": "stream",
     "text": [
      "Epoch 182: Loss 0.46399998664855957\n",
      "Val loss: 0.39500001072883606 Thresh: 0.45 F1: 0.689 Recall: 0.675 Precision: 0.704 Error: 0.041\n",
      "Loss: 0.8799999999999999 1.5 weighted BCE + 0.12000000000000001 Image Lovasz\n"
     ]
    },
    {
     "data": {
      "application/vnd.jupyter.widget-view+json": {
       "model_id": "20d33649ab554ca7a77483efc19f99de",
       "version_major": 2,
       "version_minor": 0
      },
      "text/plain": [
       "HBox(children=(IntProgress(value=0, max=157), HTML(value='')))"
      ]
     },
     "metadata": {},
     "output_type": "display_data"
    },
    {
     "name": "stdout",
     "output_type": "stream",
     "text": [
      "Epoch 183: Loss 0.45500001311302185\n",
      "Val loss: 0.40299999713897705 Thresh: 0.45 F1: 0.692 Recall: 0.671 Precision: 0.713 Error: 0.063\n",
      "Loss: 0.8799999999999999 1.5 weighted BCE + 0.12000000000000001 Image Lovasz\n"
     ]
    },
    {
     "data": {
      "application/vnd.jupyter.widget-view+json": {
       "model_id": "ca0ce3b8d7a744a1963082795b9150cc",
       "version_major": 2,
       "version_minor": 0
      },
      "text/plain": [
       "HBox(children=(IntProgress(value=0, max=157), HTML(value='')))"
      ]
     },
     "metadata": {},
     "output_type": "display_data"
    },
    {
     "name": "stdout",
     "output_type": "stream",
     "text": [
      "Epoch 184: Loss 0.4519999921321869\n",
      "Val loss: 0.4050000011920929 Thresh: 0.55 F1: 0.698 Recall: 0.698 Precision: 0.699 Error: 0.001\n",
      "Loss: 0.8799999999999999 1.5 weighted BCE + 0.12000000000000001 Image Lovasz\n"
     ]
    },
    {
     "data": {
      "application/vnd.jupyter.widget-view+json": {
       "model_id": "36f2d7d5d7a14c2e98974722f9873faa",
       "version_major": 2,
       "version_minor": 0
      },
      "text/plain": [
       "HBox(children=(IntProgress(value=0, max=157), HTML(value='')))"
      ]
     },
     "metadata": {},
     "output_type": "display_data"
    },
    {
     "name": "stdout",
     "output_type": "stream",
     "text": [
      "Epoch 185: Loss 0.4650000035762787\n",
      "Val loss: 0.38199999928474426 Thresh: 0.45 F1: 0.707 Recall: 0.686 Precision: 0.73 Error: 0.065\n",
      "Loss: 0.8799999999999999 1.5 weighted BCE + 0.12000000000000001 Image Lovasz\n"
     ]
    },
    {
     "data": {
      "application/vnd.jupyter.widget-view+json": {
       "model_id": "a0d0e0105e554628af67d3b74a607944",
       "version_major": 2,
       "version_minor": 0
      },
      "text/plain": [
       "HBox(children=(IntProgress(value=0, max=157), HTML(value='')))"
      ]
     },
     "metadata": {},
     "output_type": "display_data"
    },
    {
     "name": "stdout",
     "output_type": "stream",
     "text": [
      "Epoch 186: Loss 0.4569999873638153\n",
      "Val loss: 0.41100001335144043 Thresh: 0.5 F1: 0.688 Recall: 0.673 Precision: 0.705 Error: 0.049\n",
      "Loss: 0.8799999999999999 1.5 weighted BCE + 0.12000000000000001 Image Lovasz\n"
     ]
    },
    {
     "data": {
      "application/vnd.jupyter.widget-view+json": {
       "model_id": "f71f5846fe8f4798be08c74170e81bea",
       "version_major": 2,
       "version_minor": 0
      },
      "text/plain": [
       "HBox(children=(IntProgress(value=0, max=157), HTML(value='')))"
      ]
     },
     "metadata": {},
     "output_type": "display_data"
    },
    {
     "name": "stdout",
     "output_type": "stream",
     "text": [
      "Epoch 187: Loss 0.45399999618530273\n",
      "Val loss: 0.39500001072883606 Thresh: 0.5 F1: 0.682 Recall: 0.689 Precision: 0.675 Error: 0.02\n",
      "Loss: 0.8799999999999999 1.5 weighted BCE + 0.12000000000000001 Image Lovasz\n"
     ]
    },
    {
     "data": {
      "application/vnd.jupyter.widget-view+json": {
       "model_id": "f6033b0740c54810b33161043bc6327f",
       "version_major": 2,
       "version_minor": 0
      },
      "text/plain": [
       "HBox(children=(IntProgress(value=0, max=157), HTML(value='')))"
      ]
     },
     "metadata": {},
     "output_type": "display_data"
    },
    {
     "name": "stdout",
     "output_type": "stream",
     "text": [
      "Epoch 188: Loss 0.45399999618530273\n",
      "Val loss: 0.41999998688697815 Thresh: 0.6 F1: 0.687 Recall: 0.685 Precision: 0.688 Error: 0.005\n",
      "Loss: 0.8799999999999999 1.5 weighted BCE + 0.12000000000000001 Image Lovasz\n"
     ]
    },
    {
     "data": {
      "application/vnd.jupyter.widget-view+json": {
       "model_id": "3a1bdcecc7a744f290e03e3c30f2dfe0",
       "version_major": 2,
       "version_minor": 0
      },
      "text/plain": [
       "HBox(children=(IntProgress(value=0, max=157), HTML(value='')))"
      ]
     },
     "metadata": {},
     "output_type": "display_data"
    },
    {
     "name": "stdout",
     "output_type": "stream",
     "text": [
      "Epoch 189: Loss 0.4519999921321869\n",
      "Val loss: 0.421999990940094 Thresh: 0.5 F1: 0.687 Recall: 0.657 Precision: 0.719 Error: 0.094\n",
      "Loss: 0.8799999999999999 1.5 weighted BCE + 0.12000000000000001 Image Lovasz\n"
     ]
    },
    {
     "data": {
      "application/vnd.jupyter.widget-view+json": {
       "model_id": "251322939bb34e95af3371ca40d93f37",
       "version_major": 2,
       "version_minor": 0
      },
      "text/plain": [
       "HBox(children=(IntProgress(value=0, max=157), HTML(value='')))"
      ]
     },
     "metadata": {},
     "output_type": "display_data"
    },
    {
     "name": "stdout",
     "output_type": "stream",
     "text": [
      "Epoch 190: Loss 0.4519999921321869\n",
      "Val loss: 0.4059999883174896 Thresh: 0.45 F1: 0.694 Recall: 0.682 Precision: 0.707 Error: 0.037\n",
      "Loss: 0.8799999999999999 1.5 weighted BCE + 0.12000000000000001 Image Lovasz\n"
     ]
    },
    {
     "data": {
      "application/vnd.jupyter.widget-view+json": {
       "model_id": "1bdfc3df51a642088d9a8aaaa9756f63",
       "version_major": 2,
       "version_minor": 0
      },
      "text/plain": [
       "HBox(children=(IntProgress(value=0, max=157), HTML(value='')))"
      ]
     },
     "metadata": {},
     "output_type": "display_data"
    },
    {
     "name": "stdout",
     "output_type": "stream",
     "text": [
      "Epoch 191: Loss 0.45100000500679016\n",
      "Val loss: 0.40799999237060547 Thresh: 0.55 F1: 0.693 Recall: 0.706 Precision: 0.681 Error: 0.034\n",
      "Loss: 0.8799999999999999 1.5 weighted BCE + 0.12000000000000001 Image Lovasz\n"
     ]
    },
    {
     "data": {
      "application/vnd.jupyter.widget-view+json": {
       "model_id": "ca557fa3051340839487b2a5505f69b9",
       "version_major": 2,
       "version_minor": 0
      },
      "text/plain": [
       "HBox(children=(IntProgress(value=0, max=157), HTML(value='')))"
      ]
     },
     "metadata": {},
     "output_type": "display_data"
    },
    {
     "name": "stdout",
     "output_type": "stream",
     "text": [
      "Epoch 192: Loss 0.4519999921321869\n",
      "Val loss: 0.41100001335144043 Thresh: 0.4 F1: 0.688 Recall: 0.664 Precision: 0.714 Error: 0.076\n",
      "Loss: 0.8799999999999999 1.5 weighted BCE + 0.12000000000000001 Image Lovasz\n"
     ]
    },
    {
     "data": {
      "application/vnd.jupyter.widget-view+json": {
       "model_id": "2ac47c77970b487ca54d7f2cf3cd174e",
       "version_major": 2,
       "version_minor": 0
      },
      "text/plain": [
       "HBox(children=(IntProgress(value=0, max=157), HTML(value='')))"
      ]
     },
     "metadata": {},
     "output_type": "display_data"
    },
    {
     "name": "stdout",
     "output_type": "stream",
     "text": [
      "Epoch 193: Loss 0.4519999921321869\n",
      "Val loss: 0.41499999165534973 Thresh: 0.5 F1: 0.689 Recall: 0.658 Precision: 0.724 Error: 0.101\n",
      "Loss: 0.8799999999999999 1.5 weighted BCE + 0.12000000000000001 Image Lovasz\n"
     ]
    },
    {
     "data": {
      "application/vnd.jupyter.widget-view+json": {
       "model_id": "49499f4b245a41788e22fbbba3a30a88",
       "version_major": 2,
       "version_minor": 0
      },
      "text/plain": [
       "HBox(children=(IntProgress(value=0, max=157), HTML(value='')))"
      ]
     },
     "metadata": {},
     "output_type": "display_data"
    },
    {
     "name": "stdout",
     "output_type": "stream",
     "text": [
      "Epoch 194: Loss 0.453000009059906\n",
      "Val loss: 0.4180000126361847 Thresh: 0.4 F1: 0.68 Recall: 0.638 Precision: 0.727 Error: 0.139\n",
      "Loss: 0.8799999999999999 1.5 weighted BCE + 0.12000000000000001 Image Lovasz\n"
     ]
    },
    {
     "data": {
      "application/vnd.jupyter.widget-view+json": {
       "model_id": "4beeb18684d04e64bb77ea81c99a424c",
       "version_major": 2,
       "version_minor": 0
      },
      "text/plain": [
       "HBox(children=(IntProgress(value=0, max=157), HTML(value='')))"
      ]
     },
     "metadata": {},
     "output_type": "display_data"
    },
    {
     "name": "stdout",
     "output_type": "stream",
     "text": [
      "Epoch 195: Loss 0.44999998807907104\n",
      "Val loss: 0.4059999883174896 Thresh: 0.45 F1: 0.686 Recall: 0.662 Precision: 0.713 Error: 0.078\n",
      "Loss: 0.8799999999999999 1.5 weighted BCE + 0.12000000000000001 Image Lovasz\n"
     ]
    },
    {
     "data": {
      "application/vnd.jupyter.widget-view+json": {
       "model_id": "e1f60491fff3494283bbacd1f7cc2b06",
       "version_major": 2,
       "version_minor": 0
      },
      "text/plain": [
       "HBox(children=(IntProgress(value=0, max=157), HTML(value='')))"
      ]
     },
     "metadata": {},
     "output_type": "display_data"
    },
    {
     "name": "stdout",
     "output_type": "stream",
     "text": [
      "Epoch 196: Loss 0.453000009059906\n",
      "Val loss: 0.41100001335144043 Thresh: 0.55 F1: 0.694 Recall: 0.683 Precision: 0.705 Error: 0.032\n",
      "Loss: 0.8799999999999999 1.5 weighted BCE + 0.12000000000000001 Image Lovasz\n"
     ]
    },
    {
     "data": {
      "application/vnd.jupyter.widget-view+json": {
       "model_id": "a8ab1ad001594ef2845cfe813f4ec6c8",
       "version_major": 2,
       "version_minor": 0
      },
      "text/plain": [
       "HBox(children=(IntProgress(value=0, max=157), HTML(value='')))"
      ]
     },
     "metadata": {},
     "output_type": "display_data"
    },
    {
     "name": "stdout",
     "output_type": "stream",
     "text": [
      "Epoch 197: Loss 0.4519999921321869\n",
      "Val loss: 0.3919999897480011 Thresh: 0.5 F1: 0.704 Recall: 0.697 Precision: 0.711 Error: 0.02\n",
      "Loss: 0.8799999999999999 1.5 weighted BCE + 0.12000000000000001 Image Lovasz\n"
     ]
    },
    {
     "data": {
      "application/vnd.jupyter.widget-view+json": {
       "model_id": "87eb7f11a7514f618a6a752fa8c236a3",
       "version_major": 2,
       "version_minor": 0
      },
      "text/plain": [
       "HBox(children=(IntProgress(value=0, max=157), HTML(value='')))"
      ]
     },
     "metadata": {},
     "output_type": "display_data"
    },
    {
     "name": "stdout",
     "output_type": "stream",
     "text": [
      "Epoch 198: Loss 0.45100000500679016\n",
      "Val loss: 0.40299999713897705 Thresh: 0.5 F1: 0.69 Recall: 0.693 Precision: 0.687 Error: 0.009\n",
      "Loss: 0.8799999999999999 1.5 weighted BCE + 0.12000000000000001 Image Lovasz\n"
     ]
    },
    {
     "data": {
      "application/vnd.jupyter.widget-view+json": {
       "model_id": "d8db2d7b6d61493a9837848f5d19be4a",
       "version_major": 2,
       "version_minor": 0
      },
      "text/plain": [
       "HBox(children=(IntProgress(value=0, max=157), HTML(value='')))"
      ]
     },
     "metadata": {},
     "output_type": "display_data"
    },
    {
     "name": "stdout",
     "output_type": "stream",
     "text": [
      "Epoch 199: Loss 0.45100000500679016\n",
      "Val loss: 0.4050000011920929 Thresh: 0.45 F1: 0.693 Recall: 0.667 Precision: 0.721 Error: 0.081\n"
     ]
    }
   ],
   "source": [
    "best_val = 0.68\n",
    "\n",
    "train_ids = [x for x in range(len(train_y))]\n",
    "\n",
    "for i in range(1, 200):\n",
    "    al = np.min([i*0.01, 0.07])\n",
    "    #randomize = train_ids\n",
    "    #np.random.shuffle(randomize)\n",
    "    randomize = equibatch(train_ids, lovasz = False)\n",
    "    #if i > 125:\n",
    "    #    print(\"Switching to SGD\")\n",
    "    ##    op = ft_op\n",
    "    #    loss = ft_loss\n",
    "    #else:\n",
    "    print(\"Loss: {} 1.5 weighted BCE + {} Image Lovasz\".format( (0.95-al), (0.05 + al)))\n",
    "    op = train_op\n",
    "    loss = train_loss\n",
    "    #op = ft_op\n",
    "    #loss = ft_loss\n",
    "    BATCH_SIZE = 16\n",
    "    test_ids = [x for x in range(0, len(test_x))]\n",
    "    losses = []\n",
    "    \n",
    "    for k in tnrange(int(len(randomize) // BATCH_SIZE)):\n",
    "        batch_ids = randomize[k*BATCH_SIZE:(k+1)*BATCH_SIZE]\n",
    "        batch_y = train_y[batch_ids, :, :].reshape(len(batch_ids), 14, 14)\n",
    "        opt, tr = sess.run([op, loss],\n",
    "                              feed_dict={inp: train_x[batch_ids, :, :, :],\n",
    "                                         length: train_l[batch_ids].reshape((-1, 1)),\n",
    "                                         labels: batch_y,\n",
    "                                         is_training: True,\n",
    "                                         keep_rate: np.max((1 - (i*0.004), 0.90)),\n",
    "                                         alpha: al\n",
    "                                         })\n",
    "        losses.append(tr)\n",
    "    \n",
    "    print(\"Epoch {}: Loss {}\".format(i, np.around(np.mean(losses[:-1]), 3)))\n",
    "    f1 = calculate_metrics()\n",
    "    if f1 > (best_val - 0.01):\n",
    "        #best_val = f1\n",
    "        print(\"Saving model with {}\".format(f1))\n",
    "        save_path = saver.save(sess, \"../models/dec-model/model\")\n",
    "        if f1 > best_val:\n",
    "            best_val = f1"
   ]
  },
  {
   "cell_type": "code",
   "execution_count": 295,
   "metadata": {},
   "outputs": [],
   "source": [
    "# potential problem test IDS: 135505813, 135505835, \n",
    "save_path = saver.save(sess, \"../models/dec-model/model\")\n"
   ]
  },
  {
   "cell_type": "code",
   "execution_count": 170,
   "metadata": {},
   "outputs": [
    {
     "name": "stdout",
     "output_type": "stream",
     "text": [
      "Val loss: 0.4959999918937683 Thresh: 0.45 F1: 0.616 Recall: 0.582 Precision: 0.654 Error: 0.123\n"
     ]
    },
    {
     "data": {
      "text/plain": [
       "0.6162681815344279"
      ]
     },
     "execution_count": 170,
     "metadata": {},
     "output_type": "execute_result"
    }
   ],
   "source": [
    "calculate_metrics()"
   ]
  },
  {
   "cell_type": "markdown",
   "metadata": {},
   "source": [
    "# Model validation and sanity checks\n",
    "\n",
    "\n",
    "\n"
   ]
  },
  {
   "cell_type": "code",
   "execution_count": 248,
   "metadata": {},
   "outputs": [],
   "source": [
    "start = 0\n",
    "test_ids = [x for x in range(0, len(test_x))]\n",
    "\n",
    "def multiplot(matrices, nrows = 2, ncols = 4):\n",
    "    '''Plot multiple heatmaps with subplots'''\n",
    "    fig, axs = plt.subplots(ncols=4, nrows = nrows)\n",
    "    fig.set_size_inches(20, 4*nrows)\n",
    "    to_iter = [[x for x in range(i, i + ncols + 1)] for i in range(0, nrows*ncols, ncols)]\n",
    "    for r in range(1, nrows + 1):\n",
    "        min_i = min(to_iter[r-1])\n",
    "        max_i = max(to_iter[r-1])\n",
    "        for i, matrix in enumerate(matrices[min_i:max_i]):\n",
    "            sns.heatmap(data = matrix, ax = axs[r - 1, i], vmin = 0, vmax = 0.9)\n",
    "            axs[r - 1, i].set_xlabel(\"\")\n",
    "            axs[r - 1, i].set_ylabel(\"\")\n",
    "            axs[r - 1, i].set_yticks([])\n",
    "            axs[r - 1, i].set_xticks([])\n",
    "    plt.show\n",
    "start = 0"
   ]
  },
  {
   "cell_type": "code",
   "execution_count": 292,
   "metadata": {
    "scrolled": false
   },
   "outputs": [
    {
     "name": "stdout",
     "output_type": "stream",
     "text": [
      "0.9942196531791907\n"
     ]
    },
    {
     "ename": "IndexError",
     "evalue": "list index out of range",
     "output_type": "error",
     "traceback": [
      "\u001b[0;31m---------------------------------------------------------------------------\u001b[0m",
      "\u001b[0;31mIndexError\u001b[0m                                Traceback (most recent call last)",
      "\u001b[0;32m<ipython-input-292-46b2aa93b77d>\u001b[0m in \u001b[0;36m<module>\u001b[0;34m\u001b[0m\n\u001b[1;32m      2\u001b[0m \u001b[0mprint\u001b[0m\u001b[0;34m(\u001b[0m\u001b[0mstart\u001b[0m\u001b[0;34m/\u001b[0m\u001b[0mlen\u001b[0m\u001b[0;34m(\u001b[0m\u001b[0mtest_ids\u001b[0m\u001b[0;34m)\u001b[0m\u001b[0;34m)\u001b[0m\u001b[0;34m\u001b[0m\u001b[0m\n\u001b[1;32m      3\u001b[0m \u001b[0mtest_ids\u001b[0m \u001b[0;34m=\u001b[0m \u001b[0msorted\u001b[0m\u001b[0;34m(\u001b[0m\u001b[0mtest_ids\u001b[0m\u001b[0;34m)\u001b[0m\u001b[0;34m\u001b[0m\u001b[0m\n\u001b[0;32m----> 4\u001b[0;31m \u001b[0mmatrix_ids\u001b[0m \u001b[0;34m=\u001b[0m \u001b[0;34m[\u001b[0m\u001b[0mtest_ids\u001b[0m\u001b[0;34m[\u001b[0m\u001b[0mstart\u001b[0m\u001b[0;34m]\u001b[0m\u001b[0;34m,\u001b[0m \u001b[0mtest_ids\u001b[0m\u001b[0;34m[\u001b[0m\u001b[0mstart\u001b[0m \u001b[0;34m+\u001b[0m \u001b[0;36m1\u001b[0m\u001b[0;34m]\u001b[0m\u001b[0;34m,\u001b[0m \u001b[0mtest_ids\u001b[0m\u001b[0;34m[\u001b[0m\u001b[0mstart\u001b[0m \u001b[0;34m+\u001b[0m \u001b[0;36m2\u001b[0m\u001b[0;34m]\u001b[0m\u001b[0;34m,\u001b[0m \u001b[0mtest_ids\u001b[0m\u001b[0;34m[\u001b[0m\u001b[0mstart\u001b[0m \u001b[0;34m+\u001b[0m \u001b[0;36m3\u001b[0m\u001b[0;34m]\u001b[0m\u001b[0;34m]\u001b[0m\u001b[0;31m#,\u001b[0m\u001b[0;34m\u001b[0m\u001b[0m\n\u001b[0m\u001b[1;32m      5\u001b[0m               \u001b[0;31m#test_ids[start + 4], test_ids[start + 5], test_ids[start + 6], test_ids[start + 7]]\u001b[0m\u001b[0;34m\u001b[0m\u001b[0;34m\u001b[0m\u001b[0m\n\u001b[1;32m      6\u001b[0m \u001b[0;31m#matrix_ids = random.sample(test_ids, 4)z\u001b[0m\u001b[0;34m\u001b[0m\u001b[0;34m\u001b[0m\u001b[0m\n",
      "\u001b[0;31mIndexError\u001b[0m: list index out of range"
     ]
    }
   ],
   "source": [
    "test_losses = []\n",
    "print(start/len(test_ids))\n",
    "test_ids = sorted(test_ids)\n",
    "matrix_ids = [test_ids[start], test_ids[start + 1], test_ids[start + 2], test_ids[start + 3]]#,\n",
    "              #test_ids[start + 4], test_ids[start + 5], test_ids[start + 6], test_ids[start + 7]]\n",
    "#matrix_ids = random.sample(test_ids, 4)z\n",
    "\n",
    "preds = []\n",
    "trues = []\n",
    "for i in matrix_ids:\n",
    "    idx = i\n",
    "    print(i)\n",
    "    y = sess.run([fm], feed_dict={inp: test_x[idx].reshape(1, 24, IMAGE_SIZE, IMAGE_SIZE, n_bands),\n",
    "                                  length: test_lengths[idx].reshape(1, 1),\n",
    "                                  is_training: False,\n",
    "                                  })\n",
    "    y = np.array(y).reshape(14, 14)\n",
    "    preds.append(y)\n",
    "    true = test_y[idx].reshape(14, 14)\n",
    "    trues.append(true)\n",
    "    \n",
    "\"\"\n",
    "to_plot = trues[0:4] + preds[0:4]# + trues[5:] + preds[5:]\n",
    "multiplot(to_plot, nrows = 2, ncols = 4)\n",
    "#plot_ids[/ordering[976]//4] \n",
    "start = start + 4 # 50, 87, 107 is a concern\n",
    "#[11, 111, 3, 100, 47] # 114, 128, 84,119, 171, 54\n",
    "# 32, 38, 76, 112, 116, 131, 132, 157"
   ]
  },
  {
   "cell_type": "code",
   "execution_count": 114,
   "metadata": {},
   "outputs": [
    {
     "name": "stdout",
     "output_type": "stream",
     "text": [
      "1998\n",
      "298\n",
      "1031\n",
      "2770\n"
     ]
    },
    {
     "data": {
      "image/png": "[encoded data removed]",
      "text/plain": [
       "<Figure size 1440x576 with 16 Axes>"
      ]
     },
     "metadata": {
      "needs_background": "light"
     },
     "output_type": "display_data"
    }
   ],
   "source": [
    "test_losses = []\n",
    "test_ids = sorted(test_ids)\n",
    "matrix_ids = random.sample(train_ids, 4)\n",
    "#matrix_ids = [len(train_x)-28]\n",
    "\n",
    "preds = []\n",
    "trues = []\n",
    "for i in matrix_ids:\n",
    "    idx = i\n",
    "    print(i)\n",
    "    y = sess.run([fm], feed_dict={inp: train_x[idx].reshape(1, 24, IMAGE_SIZE, IMAGE_SIZE, n_bands),\n",
    "                                  length: train_l[idx].reshape(1, 1),\n",
    "                                  is_training: False,\n",
    "                                  })\n",
    "    y = np.array(y).reshape(14, 14)\n",
    "    preds.append(y)\n",
    "    true = train_y[idx].reshape(14, 14)\n",
    "    trues.append(true)\n",
    "    \n",
    "\n",
    "to_plot = trues[0:4] + preds[0:4]# + trues[5:] + preds[5:]\n",
    "multiplot(to_plot, nrows = 2, ncols = 4)"
   ]
  },
  {
   "cell_type": "code",
   "execution_count": 511,
   "metadata": {},
   "outputs": [],
   "source": [
    "plot_ids2 = [val for x, val in enumerate(plot_ids) if x not in list(set([x // 4 for x in outliers]))]\n",
    "#plot_ids2[ordering[460]//4] "
   ]
  },
  {
   "cell_type": "code",
   "execution_count": 115,
   "metadata": {},
   "outputs": [
    {
     "name": "stdout",
     "output_type": "stream",
     "text": [
      "Val loss: 0.4000000059604645 Thresh: 0.4 F1: 0.668 Recall: 0.586 Precision: 0.777 Error: 0.327\n"
     ]
    },
    {
     "data": {
      "text/plain": [
       "0.6680325469765264"
      ]
     },
     "execution_count": 115,
     "metadata": {},
     "output_type": "execute_result"
    }
   ],
   "source": [
    "calculate_metrics()"
   ]
  },
  {
   "cell_type": "markdown",
   "metadata": {},
   "source": [
    "## TODO @jombrandt top 10 worst training, test samples by IOU \n",
    "\n",
    "These should be written to a tmp/ .txt file and indexed by validate-data.ipynb to ensure that original classifications were correct, and to identify regions that need more training data."
   ]
  }
 ],
 "metadata": {
  "kernelspec": {
   "display_name": "policy-toolkit",
   "language": "python",
   "name": "policy-toolkit"
  },
  "language_info": {
   "codemirror_mode": {
    "name": "ipython",
    "version": 3
   },
   "file_extension": ".py",
   "mimetype": "text/x-python",
   "name": "python",
   "nbconvert_exporter": "python",
   "pygments_lexer": "ipython3",
   "version": "3.6.6"
  }
 },
 "nbformat": 4,
 "nbformat_minor": 2
}
