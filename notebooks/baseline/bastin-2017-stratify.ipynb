{
 "cells": [
  {
   "cell_type": "code",
   "execution_count": 1,
   "metadata": {},
   "outputs": [],
   "source": [
    "import pandas as pd"
   ]
  },
  {
   "cell_type": "code",
   "execution_count": 2,
   "metadata": {},
   "outputs": [
    {
     "data": {
      "text/plain": [
       "array(['MiddleEast', 'EastSouthAmerica', 'Sahel', 'NorthernAfrica',\n",
       "       'WestSouthAmerica', 'CentralAsia', 'SouthWestAsia', 'NorthAmerica',\n",
       "       'HornAfrica', 'SouthernAfrica', 'Europe', 'Australia'],\n",
       "      dtype=object)"
      ]
     },
     "execution_count": 2,
     "metadata": {},
     "output_type": "execute_result"
    }
   ],
   "source": [
    "df = pd.read_csv(\"../../data/latlongs/science-2017-test.csv\")\n",
    "df = df.sample(frac=1)\n",
    "df['dryland_assessment_region'].unique()"
   ]
  },
  {
   "cell_type": "code",
   "execution_count": 4,
   "metadata": {},
   "outputs": [],
   "source": [
    "df['group'] = (df['tree_cover'] * 100).astype(int)\n",
    "stratified = df.groupby('group', group_keys=False).apply(lambda x: x.sample(min(len(x), 15)))"
   ]
  },
  {
   "cell_type": "code",
   "execution_count": 5,
   "metadata": {},
   "outputs": [],
   "source": [
    "stratified = pd.DataFrame({'LON': stratified['location_x'],\n",
    "                          'LAT': stratified['location_y'],\n",
    "                          'PLOTID': stratified.index})\n",
    "\n",
    "stratified.to_csv(\"../../data/latlongs/stratified.csv\", index = False)"
   ]
  }
 ],
 "metadata": {
  "kernelspec": {
   "display_name": "remote_sensing",
   "language": "python",
   "name": "remote_sensing"
  },
  "language_info": {
   "codemirror_mode": {
    "name": "ipython",
    "version": 3
   },
   "file_extension": ".py",
   "mimetype": "text/x-python",
   "name": "python",
   "nbconvert_exporter": "python",
   "pygments_lexer": "ipython3",
   "version": "3.6.8"
  }
 },
 "nbformat": 4,
 "nbformat_minor": 2
}
