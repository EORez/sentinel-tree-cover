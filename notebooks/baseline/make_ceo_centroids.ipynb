{
 "cells": [
  {
   "cell_type": "code",
   "execution_count": 1,
   "metadata": {},
   "outputs": [],
   "source": [
    "import pandas as pd"
   ]
  },
  {
   "cell_type": "code",
   "execution_count": 2,
   "metadata": {},
   "outputs": [
    {
     "data": {
      "text/plain": [
       "array(['MiddleEast', 'EastSouthAmerica', 'Sahel', 'NorthernAfrica',\n",
       "       'WestSouthAmerica', 'CentralAsia', 'SouthWestAsia', 'NorthAmerica',\n",
       "       'HornAfrica', 'SouthernAfrica', 'Europe', 'Australia'],\n",
       "      dtype=object)"
      ]
     },
     "execution_count": 2,
     "metadata": {},
     "output_type": "execute_result"
    }
   ],
   "source": [
    "df = pd.read_csv(\"../../data/latlongs/science-2017-test.csv\")\n",
    "df = df.sample(frac=1)\n",
    "df['dryland_assessment_region'].unique()"
   ]
  },
  {
   "cell_type": "code",
   "execution_count": 3,
   "metadata": {},
   "outputs": [],
   "source": [
    "df = df[df['dryland_assessment_region'].isin([\"Europe\", \"SouthWestAsia\"])]"
   ]
  },
  {
   "cell_type": "code",
   "execution_count": 4,
   "metadata": {},
   "outputs": [],
   "source": [
    "df['group'] = (df['tree_cover'] * 100).astype(int)"
   ]
  },
  {
   "cell_type": "code",
   "execution_count": 5,
   "metadata": {},
   "outputs": [],
   "source": [
    "stratified = df.groupby('group', group_keys=False).apply(lambda x: x.sample(min(len(x), 15)))"
   ]
  },
  {
   "cell_type": "code",
   "execution_count": 6,
   "metadata": {},
   "outputs": [
    {
     "data": {
      "text/plain": [
       "Int64Index([182117,  59372, 196158,  54317, 184870,  51828,  51025,  62017,\n",
       "            181815, 194738,\n",
       "            ...\n",
       "             60563,  60420,  62282,  58894,  58065,  65142, 185908,  63224,\n",
       "             64074,  62293],\n",
       "           dtype='int64', length=210)"
      ]
     },
     "execution_count": 6,
     "metadata": {},
     "output_type": "execute_result"
    }
   ],
   "source": [
    "stratified.index"
   ]
  },
  {
   "cell_type": "code",
   "execution_count": 7,
   "metadata": {},
   "outputs": [],
   "source": [
    "stratified = pd.DataFrame({'LON': stratified['location_x'],\n",
    "                          'LAT': stratified['location_y'],\n",
    "                          'PLOTID': stratified.index})"
   ]
  },
  {
   "cell_type": "code",
   "execution_count": 8,
   "metadata": {},
   "outputs": [],
   "source": [
    "stratified.to_csv(\"../../data/latlongs/europe-sw-asia-train.csv\", index = False)"
   ]
  },
  {
   "cell_type": "code",
   "execution_count": null,
   "metadata": {},
   "outputs": [],
   "source": []
  },
  {
   "cell_type": "code",
   "execution_count": null,
   "metadata": {},
   "outputs": [],
   "source": []
  }
 ],
 "metadata": {
  "kernelspec": {
   "display_name": "remote_sensing",
   "language": "python",
   "name": "remote_sensing"
  },
  "language_info": {
   "codemirror_mode": {
    "name": "ipython",
    "version": 3
   },
   "file_extension": ".py",
   "mimetype": "text/x-python",
   "name": "python",
   "nbconvert_exporter": "python",
   "pygments_lexer": "ipython3",
   "version": "3.6.8"
  }
 },
 "nbformat": 4,
 "nbformat_minor": 2
}
