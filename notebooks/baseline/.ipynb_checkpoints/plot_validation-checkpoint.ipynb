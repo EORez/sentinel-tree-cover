{
 "cells": [
  {
   "cell_type": "code",
   "execution_count": 1,
   "metadata": {},
   "outputs": [],
   "source": [
    "import numpy as np \n",
    "\n",
    "import seaborn as sns\n",
    "import matplotlib.pyplot as plt\n",
    "%matplotlib inline\n",
    "import os\n",
    "\n",
    "import rasterio\n",
    "from rasterio.transform import from_origin\n",
    "from tqdm import tnrange, tqdm_notebook\n",
    "from sentinelhub import WmsRequest, WcsRequest, MimeType, CRS, BBox, constants\n",
    "from scipy.ndimage import median_filter\n",
    "from skimage.transform import resize\n",
    "import pandas as pd"
   ]
  },
  {
   "cell_type": "code",
   "execution_count": 95,
   "metadata": {
    "scrolled": true
   },
   "outputs": [
    {
     "data": {
      "text/plain": [
       "(34300, 10)"
      ]
     },
     "execution_count": 95,
     "metadata": {},
     "output_type": "execute_result"
    }
   ],
   "source": [
    "data = pd.read_csv(\"../../data/project-val/ghana-val.csv\")\n",
    "data = data.drop('IMAGERY_TITLE', axis = 1)\n",
    "data =data.dropna(axis = 0)\n",
    "data.shape"
   ]
  },
  {
   "cell_type": "code",
   "execution_count": 96,
   "metadata": {},
   "outputs": [],
   "source": [
    "lon = data['LON']\n",
    "lat = data['LAT']\n",
    "label = data['TREE']\n",
    "plot_ids = sorted(list(data['PLOT_ID'].unique()))"
   ]
  },
  {
   "cell_type": "code",
   "execution_count": 97,
   "metadata": {},
   "outputs": [
    {
     "name": "stdout",
     "output_type": "stream",
     "text": [
      "299 105\n"
     ]
    }
   ],
   "source": [
    "y_size = len(lat.unique())\n",
    "x_size = len(lon.unique())\n",
    "print(y_size, x_size)\n"
   ]
  },
  {
   "cell_type": "code",
   "execution_count": 98,
   "metadata": {},
   "outputs": [],
   "source": [
    "possible_ys = sorted(lat.unique())\n",
    "possible_xs = sorted(lon.unique())"
   ]
  },
  {
   "cell_type": "code",
   "execution_count": 99,
   "metadata": {},
   "outputs": [],
   "source": [
    "arr = np.empty((y_size, x_size))"
   ]
  },
  {
   "cell_type": "code",
   "execution_count": 100,
   "metadata": {},
   "outputs": [
    {
     "data": {
      "text/plain": [
       "(299, 105)"
      ]
     },
     "execution_count": 100,
     "metadata": {},
     "output_type": "execute_result"
    }
   ],
   "source": [
    "arr.shape"
   ]
  },
  {
   "cell_type": "code",
   "execution_count": null,
   "metadata": {},
   "outputs": [],
   "source": [
    "finished = []\n",
    "for x, y, tree in zip(lon, lat, label):\n",
    "    x_id = possible_xs.index(x)\n",
    "    y_id = possible_ys.index(y)\n",
    "    if (x, y) not in finished:\n",
    "        arr[y_id, x_id] = np.min([tree, 1])\n",
    "        finished.append((x, y))\n",
    "plt.figure(figsize=(4.5, 9))\n",
    "sns.heatmap(np.flipud(arr[:, :]))"
   ]
  },
  {
   "cell_type": "code",
   "execution_count": 102,
   "metadata": {},
   "outputs": [
    {
     "data": {
      "text/plain": [
       "<matplotlib.axes._subplots.AxesSubplot at 0x1c29c109b0>"
      ]
     },
     "execution_count": 102,
     "metadata": {},
     "output_type": "execute_result"
    },
    {
     "data": {
      "image/png": "[encoded data removed]",
      "text/plain": [
       "<Figure size 288x648 with 2 Axes>"
      ]
     },
     "metadata": {
      "needs_background": "light"
     },
     "output_type": "display_data"
    }
   ],
   "source": [
    "plt.figure(figsize=(4, 9))\n",
    "sns.heatmap(np.flipud(arr[44:-50, 8:]))"
   ]
  },
  {
   "cell_type": "code",
   "execution_count": 103,
   "metadata": {},
   "outputs": [
    {
     "data": {
      "text/plain": [
       "(299, 105)"
      ]
     },
     "execution_count": 103,
     "metadata": {},
     "output_type": "execute_result"
    }
   ],
   "source": [
    "arr.shape"
   ]
  },
  {
   "cell_type": "code",
   "execution_count": 94,
   "metadata": {},
   "outputs": [],
   "source": [
    "to_save = np.flipud(arr[49:-50, 8:])\n",
    "\n",
    "np.save(\"../../data/ghana-val.npy\", to_save)"
   ]
  },
  {
   "cell_type": "code",
   "execution_count": 199,
   "metadata": {
    "scrolled": true
   },
   "outputs": [
    {
     "name": "stdout",
     "output_type": "stream",
     "text": [
      "159.0 0\n",
      "184.0 1\n",
      "196.0 2\n",
      "196.0 3\n",
      "196.0 4\n",
      "193.0 5\n",
      "157.0 6\n",
      "150.0 7\n",
      "39.0 8\n",
      "67.0 9\n",
      "157.0 10\n",
      "142.0 11\n",
      "68.0 12\n",
      "182.0 13\n",
      "145.0 14\n",
      "154.0 15\n",
      "174.0 16\n",
      "182.0 17\n",
      "128.0 18\n",
      "126.0 19\n",
      "131.0 20\n",
      "178.0 21\n",
      "186.0 22\n",
      "196.0 23\n",
      "196.0 24\n",
      "111.0 25\n",
      "24.0 26\n",
      "42.0 27\n",
      "139.0 28\n",
      "143.0 29\n",
      "156.0 30\n",
      "183.0 31\n",
      "196.0 32\n",
      "165.0 33\n",
      "192.0 34\n",
      "150.0 35\n",
      "181.0 36\n",
      "184.0 37\n",
      "153.0 38\n",
      "141.0 39\n",
      "169.0 40\n",
      "157.0 41\n",
      "179.0 42\n",
      "179.0 43\n",
      "196.0 44\n",
      "75.0 45\n",
      "46.0 46\n",
      "137.0 47\n",
      "173.0 48\n",
      "196.0 49\n",
      "182.0 50\n",
      "162.0 51\n",
      "168.0 52\n",
      "121.0 53\n",
      "104.0 54\n",
      "141.0 55\n",
      "129.0 56\n",
      "167.0 57\n",
      "143.0 58\n",
      "141.0 59\n",
      "140.0 60\n",
      "112.0 61\n",
      "126.0 62\n",
      "120.0 63\n",
      "133.0 64\n",
      "187.0 65\n",
      "182.0 66\n",
      "161.0 67\n",
      "171.0 68\n",
      "143.0 69\n",
      "116.0 70\n",
      "138.0 71\n",
      "160.0 72\n",
      "114.0 73\n",
      "126.0 74\n",
      "0.0 75\n",
      "156.0 76\n",
      "131.0 77\n",
      "185.0 78\n",
      "177.0 79\n",
      "117.0 80\n",
      "81.0 81\n",
      "101.0 82\n",
      "134.0 83\n",
      "152.0 84\n",
      "139.0 85\n",
      "179.0 86\n",
      "175.0 87\n",
      "115.0 88\n",
      "108.0 89\n",
      "179.0 90\n",
      "108.0 91\n",
      "106.0 92\n",
      "186.0 93\n",
      "92.0 94\n",
      "136.0 95\n",
      "163.0 96\n",
      "170.0 97\n",
      "135.0 98\n",
      "46.0 99\n",
      "74.0 100\n",
      "162.0 101\n",
      "117.0 102\n",
      "71.0 103\n",
      "17.0 104\n",
      "44.0 105\n",
      "135.0 106\n",
      "185.0 107\n",
      "147.0 108\n",
      "113.0 109\n",
      "73.0 110\n",
      "140.0 111\n",
      "196.0 112\n",
      "127.0 113\n"
     ]
    }
   ],
   "source": [
    "l = 0\n",
    "for i in plot_ids:\n",
    "    print(np.sum(reconstruct_images(i)), l)\n",
    "    l += 1"
   ]
  },
  {
   "cell_type": "code",
   "execution_count": 203,
   "metadata": {},
   "outputs": [
    {
     "name": "stdout",
     "output_type": "stream",
     "text": [
      "0 18\n",
      "18 36\n",
      "36 54\n",
      "54 72\n",
      "72 90\n",
      "(252, 14)\n",
      "(252, 14)\n",
      "(252, 14)\n",
      "(252, 14)\n",
      "(252, 14)\n",
      "(252, 70)\n"
     ]
    },
    {
     "data": {
      "text/plain": [
       "<matplotlib.axes._subplots.AxesSubplot at 0x1c2ccfe2e8>"
      ]
     },
     "execution_count": 203,
     "metadata": {},
     "output_type": "execute_result"
    },
    {
     "data": {
      "image/png": "[encoded data removed]",
      "text/plain": [
       "<Figure size 288x720 with 2 Axes>"
      ]
     },
     "metadata": {
      "needs_background": "light"
     },
     "output_type": "display_data"
    }
   ],
   "source": [
    "alls = []\n",
    "for xs in range(0, 5):\n",
    "    rows = []\n",
    "    print(xs*18, (xs+1)*18)\n",
    "    for i in plot_ids[xs*18:(xs+1)*18]:\n",
    "        subs = np.array(reconstruct_images(i))\n",
    "        if subs.shape == (14, 14):\n",
    "            rows.append(subs[:, :])\n",
    "        else:\n",
    "            rows.append(np.zeros((14, 14)))\n",
    "    rows = np.concatenate(rows)\n",
    "    alls.append(rows)\n",
    "for i in alls:\n",
    "    print(i.shape)\n",
    "stacked = np.concatenate(alls, axis = 1)\n",
    "print(stacked.shape)\n",
    "plt.figure(figsize=(4, 10))\n",
    "\n",
    "sns.heatmap(np.flipud(stacked))"
   ]
  },
  {
   "cell_type": "code",
   "execution_count": 204,
   "metadata": {
    "scrolled": false
   },
   "outputs": [
    {
     "name": "stdout",
     "output_type": "stream",
     "text": [
      "(266, 84)\n",
      "(0, 0) 0 14 0 14\n",
      "(1, 0) 14 28 0 14\n",
      "(2, 0) 28 42 0 14\n",
      "(3, 0) 42 56 0 14\n",
      "(4, 0) 56 70 0 14\n",
      "(5, 0) 70 84 0 14\n",
      "(6, 0) 84 98 0 14\n",
      "(7, 0) 98 112 0 14\n",
      "(8, 0) 112 126 0 14\n",
      "(9, 0) 126 140 0 14\n",
      "(10, 0) 140 154 0 14\n",
      "(11, 0) 154 168 0 14\n",
      "(12, 0) 168 182 0 14\n",
      "(13, 0) 182 196 0 14\n",
      "(14, 0) 196 210 0 14\n",
      "(15, 0) 210 224 0 14\n",
      "(16, 0) 224 238 0 14\n",
      "(17, 0) 238 252 0 14\n",
      "(18, 0) 252 266 0 14\n",
      "(0, 1) 0 14 14 28\n",
      "(1, 1) 14 28 14 28\n",
      "(2, 1) 28 42 14 28\n",
      "(3, 1) 42 56 14 28\n",
      "(4, 1) 56 70 14 28\n",
      "(5, 1) 70 84 14 28\n",
      "(6, 1) 84 98 14 28\n",
      "(7, 1) 98 112 14 28\n",
      "(8, 1) 112 126 14 28\n",
      "(9, 1) 126 140 14 28\n",
      "(10, 1) 140 154 14 28\n",
      "(11, 1) 154 168 14 28\n",
      "(12, 1) 168 182 14 28\n",
      "(13, 1) 182 196 14 28\n",
      "(14, 1) 196 210 14 28\n",
      "(15, 1) 210 224 14 28\n",
      "(16, 1) 224 238 14 28\n",
      "(17, 1) 238 252 14 28\n",
      "(18, 1) 252 266 14 28\n",
      "(0, 2) 0 14 28 42\n",
      "(1, 2) 14 28 28 42\n",
      "(2, 2) 28 42 28 42\n",
      "(3, 2) 42 56 28 42\n",
      "(4, 2) 56 70 28 42\n",
      "(5, 2) 70 84 28 42\n",
      "(6, 2) 84 98 28 42\n",
      "(7, 2) 98 112 28 42\n",
      "(8, 2) 112 126 28 42\n",
      "(9, 2) 126 140 28 42\n",
      "(10, 2) 140 154 28 42\n",
      "(11, 2) 154 168 28 42\n",
      "(12, 2) 168 182 28 42\n",
      "(13, 2) 182 196 28 42\n",
      "(14, 2) 196 210 28 42\n",
      "(15, 2) 210 224 28 42\n",
      "(16, 2) 224 238 28 42\n",
      "(17, 2) 238 252 28 42\n",
      "(18, 2) 252 266 28 42\n",
      "(0, 3) 0 14 42 56\n",
      "(1, 3) 14 28 42 56\n",
      "(2, 3) 28 42 42 56\n",
      "(3, 3) 42 56 42 56\n",
      "(4, 3) 56 70 42 56\n",
      "(5, 3) 70 84 42 56\n",
      "(6, 3) 84 98 42 56\n",
      "(7, 3) 98 112 42 56\n",
      "(8, 3) 112 126 42 56\n",
      "(9, 3) 126 140 42 56\n",
      "(10, 3) 140 154 42 56\n",
      "(11, 3) 154 168 42 56\n",
      "(12, 3) 168 182 42 56\n",
      "(13, 3) 182 196 42 56\n",
      "(14, 3) 196 210 42 56\n",
      "(15, 3) 210 224 42 56\n",
      "(16, 3) 224 238 42 56\n",
      "(17, 3) 238 252 42 56\n",
      "(18, 3) 252 266 42 56\n",
      "(0, 4) 0 14 56 70\n",
      "(1, 4) 14 28 56 70\n",
      "(2, 4) 28 42 56 70\n",
      "(3, 4) 42 56 56 70\n",
      "(4, 4) 56 70 56 70\n",
      "(5, 4) 70 84 56 70\n",
      "(6, 4) 84 98 56 70\n",
      "(7, 4) 98 112 56 70\n",
      "(8, 4) 112 126 56 70\n",
      "(9, 4) 126 140 56 70\n",
      "(10, 4) 140 154 56 70\n",
      "(11, 4) 154 168 56 70\n",
      "(12, 4) 168 182 56 70\n",
      "(13, 4) 182 196 56 70\n",
      "(14, 4) 196 210 56 70\n",
      "(15, 4) 210 224 56 70\n",
      "(16, 4) 224 238 56 70\n",
      "(17, 4) 238 252 56 70\n",
      "(18, 4) 252 266 56 70\n",
      "(0, 5) 0 14 70 84\n",
      "(1, 5) 14 28 70 84\n",
      "(2, 5) 28 42 70 84\n",
      "(3, 5) 42 56 70 84\n",
      "(4, 5) 56 70 70 84\n",
      "(5, 5) 70 84 70 84\n",
      "(6, 5) 84 98 70 84\n",
      "(7, 5) 98 112 70 84\n",
      "(8, 5) 112 126 70 84\n",
      "(9, 5) 126 140 70 84\n",
      "(10, 5) 140 154 70 84\n",
      "(11, 5) 154 168 70 84\n",
      "(12, 5) 168 182 70 84\n",
      "(13, 5) 182 196 70 84\n",
      "(14, 5) 196 210 70 84\n",
      "(15, 5) 210 224 70 84\n",
      "(16, 5) 224 238 70 84\n",
      "(17, 5) 238 252 70 84\n",
      "(18, 5) 252 266 70 84\n"
     ]
    },
    {
     "data": {
      "text/plain": [
       "<matplotlib.axes._subplots.AxesSubplot at 0x1c2ce34710>"
      ]
     },
     "execution_count": 204,
     "metadata": {},
     "output_type": "execute_result"
    },
    {
     "data": {
      "image/png": "[encoded data removed]",
      "text/plain": [
       "<Figure size 216x720 with 2 Axes>"
      ]
     },
     "metadata": {
      "needs_background": "light"
     },
     "output_type": "display_data"
    }
   ],
   "source": [
    "def reconstruct_images(plot_id):\n",
    "    subs = data[data['PLOT_ID'] == plot_id]\n",
    "    rows = []\n",
    "    lats = reversed(sorted(subs['LAT'].unique()))\n",
    "    for i, val in enumerate(lats):\n",
    "        subs_lat = subs[subs['LAT'] == val]\n",
    "        subs_lat = subs_lat.sort_values('LON', axis = 0)\n",
    "        rows.append(list(subs_lat['TREE']))\n",
    "    return rows\n",
    "\n",
    "\n",
    "empt = np.empty((19*14, 6*14))\n",
    "print(empt.shape)\n",
    "grid_positions = []\n",
    "for i, val in enumerate(plot_ids):\n",
    "    grid_positions.append((i % 19, i // 19))\n",
    "for i, pos in zip(plot_ids, grid_positions):\n",
    "    subs = np.array(reconstruct_images(i))\n",
    "    if subs.shape == (14, 14):\n",
    "        print(pos, pos[0]*14, pos[0]*14 + 14, pos[1]*14, pos[1]*14+14)\n",
    "        empt[pos[0]*14:pos[0]*14 + 14, pos[1]*14:pos[1]*14+14] = subs\n",
    "    \n",
    "plt.figure(figsize=(3, 10))\n",
    "empt[np.where(empt > 1)] = 1.\n",
    "empt[np.where(empt < 0)] = 0.\n",
    "sns.heatmap(np.flipud(empt)[51:-4, 10:])"
   ]
  },
  {
   "cell_type": "code",
   "execution_count": null,
   "metadata": {},
   "outputs": [],
   "source": [
    "plt.figure(figsize=(3, 10))\n",
    "arr[np.where(arr > 1)] = 1.\n",
    "arr[np.where(arr < 0)] = 0.\n",
    "sns.heatmap(np.flipud(arr)[51:-4, 10:])"
   ]
  },
  {
   "cell_type": "code",
   "execution_count": null,
   "metadata": {},
   "outputs": [],
   "source": []
  }
 ],
 "metadata": {
  "kernelspec": {
   "display_name": "remote_sensing",
   "language": "python",
   "name": "remote_sensing"
  },
  "language_info": {
   "codemirror_mode": {
    "name": "ipython",
    "version": 3
   },
   "file_extension": ".py",
   "mimetype": "text/x-python",
   "name": "python",
   "nbconvert_exporter": "python",
   "pygments_lexer": "ipython3",
   "version": "3.6.8"
  }
 },
 "nbformat": 4,
 "nbformat_minor": 2
}
