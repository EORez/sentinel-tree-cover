{
 "cells": [
  {
   "cell_type": "markdown",
   "metadata": {},
   "source": [
    "# Download and process sentinel 2 data\n",
    "\n",
    "## John Brandt\n",
    "## April 1, 2020\n",
    "\n",
    "## Package imports, API import, source scripts"
   ]
  },
  {
   "cell_type": "code",
   "execution_count": 1,
   "metadata": {},
   "outputs": [
    {
     "name": "stderr",
     "output_type": "stream",
     "text": [
      "Using TensorFlow backend.\n"
     ]
    }
   ],
   "source": [
    "import datetime\n",
    "import logging\n",
    "import pandas as pd\n",
    "import numpy as np\n",
    "import matplotlib.pyplot as plt\n",
    "import math\n",
    "import os\n",
    "import scipy.sparse as sparse\n",
    "import seaborn as sns\n",
    "import yaml\n",
    "\n",
    "from collections import Counter\n",
    "from osgeo import ogr, osr\n",
    "from random import shuffle\n",
    "from scipy.sparse.linalg import splu\n",
    "from sentinelhub import WmsRequest, WcsRequest, MimeType\n",
    "from sentinelhub import CRS, BBox, constants, DataSource, CustomUrlParam\n",
    "from skimage.transform import resize\n",
    "\n",
    "with open(\"../config.yaml\", 'r') as stream:\n",
    "        key = (yaml.safe_load(stream))\n",
    "        API_KEY = key['key'] \n",
    "        \n",
    "%matplotlib inline\n",
    "%run ../src/preprocessing/slope.py\n",
    "%run ../src/preprocessing/indices.py\n",
    "%run ../src/downloading/utils.py\n",
    "%run ../src/preprocessing/cloud_removal.py\n",
    "%run ../src/preprocessing/whittaker_smoother.py\n",
    "%run ../src/dsen2/utils/DSen2Net.py"
   ]
  },
  {
   "cell_type": "markdown",
   "metadata": {},
   "source": [
    "## Parameters"
   ]
  },
  {
   "cell_type": "code",
   "execution_count": 2,
   "metadata": {},
   "outputs": [
    {
     "name": "stdout",
     "output_type": "stream",
     "text": [
      "WARNING:tensorflow:From /Users/john.brandt/anaconda3/envs/remote_sensing/lib/python3.6/site-packages/tensorflow/python/framework/op_def_library.py:263: colocate_with (from tensorflow.python.framework.ops) is deprecated and will be removed in a future version.\n",
      "Instructions for updating:\n",
      "Colocations handled automatically by placer.\n"
     ]
    }
   ],
   "source": [
    "# Parameters\n",
    "SUPER_RESOLVE = True\n",
    "YEAR = 2019\n",
    "TIME = ('{}-12-01'.format(str(YEAR - 1)), '{}-02-01'.format(str(YEAR + 1)))\n",
    "EPSG = CRS.WGS84\n",
    "IMSIZE = 48\n",
    "DATA_LOCATION = '../data/ghana-test.csv'\n",
    "OUTPUT_FOLDER = '../data/test-smooth-200/'\n",
    "\n",
    "# For DSen2 superresolve\n",
    "MDL_PATH = \"../src/dsen2/models/\"\n",
    "INPUT_SHAPE = ((4, None, None), (6, None, None))\n",
    "MODEL = s2model(INPUT_SHAPE, num_layers=6, feature_size=128)\n",
    "PREDICT_FILE = MDL_PATH+'s2_032_lr_1e-04.hdf5'\n",
    "MODEL.load_weights(PREDICT_FILE)\n",
    "\n",
    "# Constants\n",
    "starting_days = np.cumsum([0, 31, 28, 31, 30, 31, 30, 31, 31, 30, 31, 30])\n",
    "c_arr = np.array([[1, 1, 1, 1, 1,],\n",
    "                  [1, 2, 2, 2, 1,],\n",
    "                  [1, 2, 3, 2, 1,],\n",
    "                  [1, 2, 2, 2, 1,],\n",
    "                  [1, 1, 1, 1, 1,],])\n",
    "                  \n",
    "c_arr = c_arr / 3\n",
    "o_arr = 1 - c_arr\n",
    "c_arr = np.tile(c_arr[:, :, np.newaxis], (1, 1, 11))\n",
    "o_arr = np.tile(o_arr[:, :, np.newaxis], (1, 1, 11))"
   ]
  },
  {
   "cell_type": "markdown",
   "metadata": {},
   "source": [
    "# Helper functions"
   ]
  },
  {
   "cell_type": "code",
   "execution_count": 3,
   "metadata": {},
   "outputs": [],
   "source": [
    "def DSen2(d10, d20):\n",
    "    \"\"\"Super resolves 20 meter bans using the DSen2 convolutional\n",
    "       neural network, as specified in Lanaras et al. 2018\n",
    "       https://github.com/lanha/DSen2\n",
    "\n",
    "        Parameters:\n",
    "         d10 (arr): (4, X, Y) shape array with 10 meter resolution\n",
    "         d20 (arr): (6, X, Y) shape array with 20 meter resolution\n",
    "\n",
    "        Returns:\n",
    "         prediction (arr): (6, X, Y) shape array with 10 meter superresolved\n",
    "                          output of DSen2 on d20 array\n",
    "    \"\"\"\n",
    "    test = [d10, d20]\n",
    "    input_shape = ((4, None, None), (6, None, None))\n",
    "    prediction = _predict(test, input_shape, deep=False)\n",
    "    return prediction\n",
    "\n",
    "def _predict(test, input_shape, model = MODEL, deep=False, run_60=False):\n",
    "    \n",
    "    prediction = model.predict(test, verbose=1)\n",
    "    return prediction"
   ]
  },
  {
   "cell_type": "markdown",
   "metadata": {},
   "source": [
    "# Bounding boxes"
   ]
  },
  {
   "cell_type": "code",
   "execution_count": 4,
   "metadata": {},
   "outputs": [],
   "source": [
    "def calc_bbox(plot_id, df):\n",
    "    \"\"\" Calculates the corners of a bounding box from an input\n",
    "        pandas dataframe as output by Collect Earth Online\n",
    "\n",
    "        Parameters:\n",
    "         plot_id (int): plot_id of associated plot\n",
    "         df (pandas.DataFrame): dataframe of associated CEO survey\n",
    "    \n",
    "        Returns:\n",
    "         bounding_box (list): [(min(x), min(y)),\n",
    "                              (max(x), max_y))]\n",
    "    \"\"\"\n",
    "    subs = df[df['PLOT_ID'] == plot_id]\n",
    "    # TOP, LEFT, BOTTOM, RIGHT\n",
    "    # (min x, min y), (max x, max y)\n",
    "    return [(min(subs['LON']), min(subs['LAT'])),\n",
    "            (max(subs['LON']), max(subs['LAT']))]\n",
    "\n",
    "def bounding_box(points, expansion = 160):\n",
    "    \"\"\" Calculates the corners of a bounding box with an\n",
    "        input expansion in meters from a given bounding_box\n",
    "        \n",
    "        Subcalls:\n",
    "         calculate_epsg, convertCoords\n",
    "\n",
    "        Parameters:\n",
    "         points (list): output of calc_bbox\n",
    "         expansion (float): number of meters to expand or shrink the\n",
    "                            points edges to be\n",
    "    \n",
    "        Returns:\n",
    "         bl (tuple): x, y of bottom left corner with edges of expansion meters\n",
    "         tr (tuple): x, y of top right corner with edges of expansion meters\n",
    "    \"\"\"\n",
    "    bl = list(points[0])\n",
    "    tr = list(points[1])\n",
    "    inproj = Proj('epsg:4326')\n",
    "    outproj_code = calculate_epsg(bl)\n",
    "    outproj = Proj('epsg:' + str(outproj_code))\n",
    "    \n",
    "    bl_utm =  transform(inproj, outproj, bl[1], bl[0])\n",
    "    tr_utm =  transform(inproj, outproj, tr[1], tr[0])\n",
    "\n",
    "    distance1 = tr_utm[0] - bl_utm[0]\n",
    "    distance2 = tr_utm[1] - bl_utm[1]\n",
    "    expansion1 = (expansion - distance1)/2\n",
    "    expansion2 = (expansion - distance2)/2\n",
    "        \n",
    "    bl_utm = [bl_utm[0] - expansion1, bl_utm[1] - expansion2]\n",
    "    tr_utm = [tr_utm[0] + expansion1, tr_utm[1] + expansion2]\n",
    "\n",
    "    #assert (tr_utm[0] - bl_utm[0]) == expansion\n",
    "    #assert (tr_utm[1] - bl_utm[1]) == expansion\n",
    "\n",
    "    zone = str(outproj_code)[3:]\n",
    "    zone = zone[1:] if zone[0] == \"0\" else zone\n",
    "    direction = 'N' if tr[1] >= 0 else 'S'\n",
    "    utm_epsg = \"UTM_\" + zone + direction\n",
    "    return (bl_utm, tr_utm), CRS[utm_epsg]"
   ]
  },
  {
   "cell_type": "markdown",
   "metadata": {},
   "source": [
    "# Data download"
   ]
  },
  {
   "cell_type": "code",
   "execution_count": 5,
   "metadata": {},
   "outputs": [],
   "source": [
    "def identify_clouds(bbox, epsg, time = TIME):\n",
    "\n",
    "    for try_ in range(0, 5):\n",
    "        try:\n",
    "            box = BBox(bbox, crs = epsg)\n",
    "            cloud_request = WmsRequest(\n",
    "                layer='CLOUD_NEW',\n",
    "                bbox=box,\n",
    "                time=time,\n",
    "                width=96,\n",
    "                height=96,\n",
    "                image_format =  MimeType.TIFF_d8,\n",
    "                maxcc=0.75,\n",
    "                instance_id=API_KEY,\n",
    "                custom_url_params = {constants.CustomUrlParam.UPSAMPLING: 'NEAREST'},\n",
    "                time_difference=datetime.timedelta(hours=48))\n",
    "            \n",
    "            shadow_request = WmsRequest(\n",
    "                layer='SHADOW',\n",
    "                bbox=box,\n",
    "                time=time,\n",
    "                width=96,\n",
    "                height=96,\n",
    "                image_format =  MimeType.TIFF_d16,\n",
    "                maxcc=0.75,\n",
    "                instance_id=API_KEY,\n",
    "                custom_url_params = {constants.CustomUrlParam.UPSAMPLING: 'NEAREST'},\n",
    "                time_difference=datetime.timedelta(hours=48))\n",
    "\n",
    "            cloud_img = cloud_request.get_data()\n",
    "            cloud_img = np.array(cloud_img)\n",
    "\n",
    "            if np.max(cloud_img > 10):\n",
    "                cloud_img = cloud_img / 255\n",
    "            assert np.max(cloud_img) <= 1.\n",
    "            print(\"Cloud_probs shape: {}\".format(cloud_img.shape))\n",
    "            \n",
    "            shadow_img = shadow_request.get_data()\n",
    "            shadow_img = np.array(shadow_img)\n",
    "            print(\"Shadows_shape: {}\".format(shadow_img.shape))\n",
    "\n",
    "            if np.max(shadow_img > 10):\n",
    "                shadow_img = shadow_img / 65535\n",
    "            \n",
    "            shadows = mcm_shadow_mask(np.array(shadow_img), cloud_img)\n",
    "            shadow_percent = np.sum(shadows, axis = (1, 2))\n",
    "            \n",
    "            cloud_percent = np.sum(cloud_img > 0.33, axis = (1, 2))\n",
    "            bad_percent = shadow_percent + cloud_percent\n",
    "            bad_percent = bad_percent / (96 * 96)\n",
    "            starting_days = [-30, 31, 59, 90, 120, 151, 181, 212, 243, 273, 304, 335, 400]\n",
    "            \n",
    "            clean_steps = np.argwhere(np.array(bad_percent) < 0.11).flatten()\n",
    "            \n",
    "            dates = []\n",
    "            for date in cloud_request.get_dates():\n",
    "                if date.year == YEAR - 1:\n",
    "                    dates.append(-365 + starting_days[(date.month-1)] + date.day)\n",
    "                if date.year == YEAR:\n",
    "                    dates.append(starting_days[(date.month-1)] + date.day)\n",
    "                if date.year == YEAR + 1:\n",
    "                    dates.append(365 + starting_days[(date.month-1)]+date.day)\n",
    "            dates = np.array(dates)\n",
    "            \n",
    "            for i, val in enumerate(starting_days[1:]):\n",
    "                good_dates = dates[np.logical_and(dates > starting_days[i], dates < val)]\n",
    "                good_idx = [i for i, val in enumerate(dates) if val in good_dates]\n",
    "                cloud_probs = bad_percent[good_idx]\n",
    "                clean_dates = [x for x in cloud_probs if x < 0.1]\n",
    "                print(i, clean_dates)\n",
    "                \n",
    "            cloud_img = cloud_img[clean_steps, 24:-24, 24:-24]\n",
    "            shadows = shadows[clean_steps, 24:-24, 24:-24]\n",
    "            return cloud_img, shadows, list(clean_steps)\n",
    "        except Exception as e:\n",
    "            logging.fatal(e, exc_info=True)\n",
    "    \n",
    "    \n",
    "def download_dem(plot_id, df, epsg, image_format = MimeType.TIFF_d32f):\n",
    "    \"\"\" Downloads MapZen digital elevation model and return slope\n",
    "\n",
    "        Parameters:\n",
    "         plot_id (tuple): plot id from collect earth online (CEO)\n",
    "         df (pandas.DataFrame): data associated with plot_id from CEO\n",
    "         epsg (int): UTM EPSG associated with plot_id\n",
    "    \n",
    "        Returns:\n",
    "         slope (arr): (X, Y, 1) array of per-pixel slope from [0, 1]\n",
    "    \"\"\"\n",
    "    location = calc_bbox(plot_id, df = df)\n",
    "    bbox, epsg = bounding_box(location, expansion = (IMSIZE+2)*10)\n",
    "    box = BBox(bbox, crs = epsg)\n",
    "    dem_request = WmsRequest(data_source=DataSource.DEM,\n",
    "                         layer='DEM',\n",
    "                         bbox=box,\n",
    "                         width=IMSIZE+2,\n",
    "                         height=IMSIZE+2,\n",
    "                         instance_id=API_KEY,\n",
    "                         image_format= image_format,\n",
    "                         custom_url_params={CustomUrlParam.SHOWLOGO: False})\n",
    "    dem_image = dem_request.get_data()[0]\n",
    "    slope = calcSlope(dem_image.reshape((1, IMSIZE+2, IMSIZE+2)),\n",
    "                      np.full((IMSIZE+2, IMSIZE+2), 10),\n",
    "                      np.full((IMSIZE+2, IMSIZE+2), 10), \n",
    "                      zScale = 1, minSlope = 0.02)\n",
    "    slope = slope.reshape((IMSIZE+2, IMSIZE+2, 1))\n",
    "    slope = slope[1:IMSIZE+1, 1:IMSIZE+1, :]\n",
    "    return slope\n",
    "\n",
    "        \n",
    "def download_layer(bbox, epsg, clean_steps: np.ndarray, time = TIME,\n",
    "                   image_format = MimeType.TIFF_d16):\n",
    "    \"\"\" Downloads the L2A sentinel layer with 10 and 20 meter bands\n",
    "        \n",
    "        Parameters:\n",
    "         bbox (list): output of calc_bbox\n",
    "         epsg (float): EPSG associated with bbox \n",
    "         time (tuple): YY-MM-DD - YY-MM-DD bounds for downloading \n",
    "    \n",
    "        Returns:\n",
    "         img (arr):\n",
    "         img_request (obj): \n",
    "    \"\"\"\n",
    "    try:\n",
    "        box = BBox(bbox, crs = epsg)\n",
    "        image_request = WcsRequest(\n",
    "                layer='L2A20',\n",
    "                bbox=box,\n",
    "                time=time,\n",
    "                image_format = image_format,\n",
    "                data_source = DataSource.SENTINEL2_L2A,\n",
    "                maxcc=0.75,\n",
    "                resx='20m', resy='20m',\n",
    "                instance_id=API_KEY,\n",
    "                custom_url_params = {constants.CustomUrlParam.DOWNSAMPLING: 'NEAREST',\n",
    "                                    constants.CustomUrlParam.UPSAMPLING: 'NEAREST'},\n",
    "                time_difference=datetime.timedelta(hours=48),\n",
    "            )\n",
    "        img_bands = image_request.get_data(data_filter = clean_steps)\n",
    "        img_20 = np.stack(img_bands)\n",
    "\n",
    "        if np.max(img_20) >= 10:\n",
    "            img_20 = img_20 / 65535\n",
    "        assert np.max(img_20) <= 2.\n",
    "\n",
    "        s2_20_usage = (img_20.shape[1]*img_20.shape[2])/(512*512) * (6/3) * img_20.shape[0]\n",
    "        print(\"Original 20 meter bands size: {}, using {} PU\".format(img_20.shape, s2_20_usage))\n",
    "        img_20 = resize(img_20, (img_20.shape[0], IMSIZE, IMSIZE, img_20.shape[-1]), order = 0)\n",
    "        \n",
    "        image_request = WcsRequest(\n",
    "                layer='L2A10',\n",
    "                bbox=box,\n",
    "                time=time,\n",
    "                image_format = image_format,\n",
    "                data_source = DataSource.SENTINEL2_L2A,\n",
    "                maxcc=0.75,\n",
    "                resx='10m', resy='10m',\n",
    "                instance_id=API_KEY,\n",
    "                custom_url_params = {constants.CustomUrlParam.DOWNSAMPLING: 'BICUBIC',\n",
    "                                    constants.CustomUrlParam.UPSAMPLING: 'BICUBIC'},\n",
    "                time_difference=datetime.timedelta(hours=48),\n",
    "        )\n",
    "        \n",
    "        img_bands = image_request.get_data(data_filter = clean_steps)\n",
    "        img_10 = np.stack(img_bands)\n",
    "        print(\"The original L2A image size is: {}\".format(img_10.shape))\n",
    "        img_10 = resize(img_10, (img_10.shape[0], IMSIZE, IMSIZE, img_10.shape[-1]), order = 0)\n",
    "        img = np.concatenate([img_10, img_20], axis = -1)\n",
    "\n",
    "        if np.max(img_10) >= 10:\n",
    "            img_10 = img_10 / 65535\n",
    "        assert np.max(img_10) <= 2.\n",
    "        return img, image_request\n",
    "\n",
    "    except Exception as e:\n",
    "        logging.fatal(e, exc_info=True)"
   ]
  },
  {
   "cell_type": "markdown",
   "metadata": {},
   "source": [
    "# Cloud and shadow removal"
   ]
  },
  {
   "cell_type": "code",
   "execution_count": 6,
   "metadata": {},
   "outputs": [],
   "source": [
    "def remove_missed_clouds(img):\n",
    "    \"\"\" Removes steps that are likely to be missed cloud or shadows\n",
    "        based on two interquartile ranges for the near infrared band\n",
    "        \n",
    "        Parameters:\n",
    "         img (arr):\n",
    "\n",
    "        Returns:\n",
    "         to_remove (list): \n",
    "    \"\"\"\n",
    "    iqr = np.percentile(img[:, :, :, 3].flatten(), 75) - np.percentile(img[:, :, :, 3].flatten(), 25)\n",
    "    thresh_t = np.percentile(img[:, :, :, 3].flatten(), 75) + iqr*2\n",
    "    thresh_b = np.percentile(img[:, :, :, 3].flatten(), 25) - iqr*2\n",
    "    diffs_fw = np.diff(img, 1, axis = 0)\n",
    "    diffs_fw = np.mean(diffs_fw, axis = (1, 2, 3))\n",
    "    diffs_fw = np.array([0] + list(diffs_fw))\n",
    "    diffs_bw = np.diff(np.flip(img, 0), 1, axis = 0)\n",
    "    diffs_bw = np.flip(np.mean(diffs_bw, axis = (1, 2, 3)))\n",
    "    diffs_bw = np.array(list(diffs_bw) + [0])\n",
    "    diffs = abs(diffs_fw - diffs_bw) * 100 # 3, -3 -> 6, -3, 3 -> 6, -3, -3\n",
    "    #diffs = [int(x) for x in diffs]\n",
    "    outlier_percs = []\n",
    "    for step in range(img.shape[0]):\n",
    "        bottom = len(np.argwhere(img[step, :, :, 3].flatten() > thresh_t))\n",
    "        top = len(np.argwhere(img[step, :, :, 3].flatten() < thresh_b))\n",
    "        p = 100* ((bottom + top) / (IMSIZE*IMSIZE))\n",
    "        outlier_percs.append(p)\n",
    "    to_remove = np.argwhere(np.array(outlier_percs) > 15)\n",
    "    return to_remove"
   ]
  },
  {
   "cell_type": "markdown",
   "metadata": {},
   "source": [
    "# Download function"
   ]
  },
  {
   "cell_type": "code",
   "execution_count": 7,
   "metadata": {
    "scrolled": true
   },
   "outputs": [],
   "source": [
    "def download_plots(data_location = DATA_LOCATION, output_folder = OUTPUT_FOLDER, image_format = MimeType.TIFF_d16):\n",
    "    \"\"\" Downloads slope and sentinel-2 data for all plots associated\n",
    "        with an input CSV from a collect earth online survey\n",
    "        \n",
    "        Parameters:\n",
    "         data_location (os.path)\n",
    "         output_folder (os.path)\n",
    "        \n",
    "        Subcalls:\n",
    "         calc_bbox, bounding_box\n",
    "         identify_clouds, download_layer, check_zenith, download_dem\n",
    "         remove_clouds_and_shadows, remove_missed_clouds\n",
    "         DSen2\n",
    "         calculate_and_save_best_images\n",
    "         \n",
    "        Creates:\n",
    "         output_folder/{plot_id}.npy\n",
    "    \n",
    "        Returns:\n",
    "         None\n",
    "    \"\"\"\n",
    "    df = pd.read_csv(data_location)\n",
    "    for column in ['IMAGERY_TITLE', 'STACKINGPROFILEDG', 'PL_PLOTID', 'IMAGERYYEARDG',\n",
    "                  'IMAGERYMONTHPLANET', 'IMAGERYYEARPLANET']:\n",
    "        if column in df.columns:\n",
    "            df = df.drop(column, axis = 1)\n",
    "    df = df.dropna(axis = 0)\n",
    "    plot_ids = sorted(df['PLOT_ID'].unique())\n",
    "    existing = [int(x[:-4]) for x in os.listdir(output_folder) if \".DS\" not in x]\n",
    "    to_download = [x for x in plot_ids if x not in existing]\n",
    "    print(f\"STARTING DOWNLOAD OF {len(to_download)} plots from {data_location} to {output_folder}\")\n",
    "    errors = []\n",
    "    for i, val in enumerate(to_download):\n",
    "        print(f\"Downloading {i+1}/{len(to_download)}, {val}\")\n",
    "        initial_bbx = calc_bbox(val, df = df)\n",
    "        sentinel2_bbx, epsg = bounding_box(initial_bbx, expansion = IMSIZE*10)\n",
    "        cloud_bbx, _ = bounding_box(initial_bbx, expansion = 96*10)\n",
    "        clouds, shadows, clean_steps = identify_clouds(cloud_bbx, epsg = epsg)\n",
    "        dem = download_dem(val, epsg = epsg, df = df)\n",
    "        img, image_request = download_layer(sentinel2_bbx, clean_steps = clean_steps,\n",
    "                                            epsg = epsg, image_format = image_format)\n",
    "\n",
    "\n",
    "        # Calculate imagery dates\n",
    "        image_dates = []\n",
    "        for date in image_request.get_dates():\n",
    "            if date.year == YEAR - 1:\n",
    "                image_dates.append(-365 + starting_days[(date.month-1)] + date.day)\n",
    "            if date.year == YEAR:\n",
    "                image_dates.append(starting_days[(date.month-1)] + date.day)\n",
    "            if date.year == YEAR + 1:\n",
    "                image_dates.append(365 + starting_days[(date.month-1)]+date.day)\n",
    "        image_dates = [val for idx, val in enumerate(image_dates) if idx in clean_steps]\n",
    "        image_dates = np.array(image_dates, dtype = np.float32)\n",
    "\n",
    "        # Remove imagery where >4% is clouds, and where there is null data\n",
    "        cloud_steps = np.argwhere(np.sum(clouds > 0.33, (1, 2)) > (16 * 16 * 0.10))\n",
    "        missing_images = np.sum(img == 0.0, axis = (1, 2, 3))\n",
    "        missing_images_p = np.sum(img >= 1.0, axis = (1, 2, 3))\n",
    "        missing_images += missing_images_p\n",
    "        missing_images = np.argwhere(missing_images >= 50)\n",
    "        to_remove = np.concatenate([missing_images, cloud_steps])\n",
    "        to_remove = np.unique(to_remove)\n",
    "\n",
    "        # Remove null steps\n",
    "        print(f\"There are {len(to_remove)}/{len(img)} dirty steps\")\n",
    "\n",
    "        img = np.delete(img, to_remove, 0)\n",
    "        clouds = np.delete(clouds, to_remove, 0)\n",
    "        image_dates = np.delete(image_dates, to_remove)\n",
    "        shadows = np.delete(shadows, to_remove, 0)\n",
    "\n",
    "        to_remove = remove_missed_clouds(img)\n",
    "        img = np.delete(img, to_remove, 0)\n",
    "        clouds = np.delete(clouds, to_remove, 0)\n",
    "        image_dates = np.delete(image_dates, to_remove)\n",
    "        shadows = np.delete(shadows, to_remove, 0)\n",
    "        print(f\"Removing {len(to_remove)} steps based on ratio\")\n",
    "\n",
    "        # Concatenate DEM\n",
    "        dem = np.tile(dem.reshape((1, IMSIZE, IMSIZE, 1)), (img.shape[0], 1, 1, 1))\n",
    "        tiles = np.concatenate([img, dem], axis = -1)\n",
    "        tiles[:, :, :, -1] /= 90\n",
    "\n",
    "        x, interp = remove_cloud_and_shadows(tiles, clouds, shadows, image_dates)\n",
    "        to_remove = np.argwhere(np.mean(interp, axis = (1, 2, 3)) > 0.5)\n",
    "        x = np.delete(x, to_remove, 0)\n",
    "        clouds = np.delete(clouds, to_remove, 0)\n",
    "        image_dates = np.delete(image_dates, to_remove)\n",
    "        shadows = np.delete(shadows, to_remove, 0)\n",
    "        print(f\"Removing {len(to_remove)} steps with >50% interpolation\")\n",
    "\n",
    "        x = x[:, 8:40, 8:40, :]\n",
    "        print(f\"Shape before super: {x.shape}\")\n",
    "\n",
    "        d10 = x[..., 0:4]\n",
    "        d20 = x[..., 4:10]\n",
    "\n",
    "        d10 = np.swapaxes(d10, 1, -1)\n",
    "        d10 = np.swapaxes(d10, 2, 3)\n",
    "        d20 = np.swapaxes(d20, 1, -1)\n",
    "        d20 = np.swapaxes(d20, 2, 3)\n",
    "        superresolved = DSen2(d10, d20)\n",
    "        superresolved = np.swapaxes(superresolved, 1, -1)\n",
    "        superresolved = np.swapaxes(superresolved, 1, 2)\n",
    "\n",
    "        # returns band IDXs 3, 4, 5, 7, 8, 9\n",
    "        x[..., 4:10] = superresolved\n",
    "        x = x[:, 8:24, 8:24, :]\n",
    "        print(f\"Shape after super: {x.shape}\")\n",
    "\n",
    "        # Calculate indices\n",
    "        tiles = evi(x, True)\n",
    "        tiles = bi(tiles, True)\n",
    "        tiles = msavi2(tiles, True)\n",
    "        x = si(tiles, True)\n",
    "        \n",
    "        \n",
    "        missing_pixels = 0\n",
    "        for band in range(0, 15):\n",
    "            for time in range(0, x.shape[0]):\n",
    "                x_i = x[time, :, :, band]\n",
    "                missing_pixels += len(np.argwhere(np.isnan(x_i)))\n",
    "                x_i[np.argwhere(np.isnan(x_i))] = np.mean(x_i)\n",
    "                x[time, :, :, band] = x_i\n",
    "        print(f\"There are {missing_pixels} missing pixels\")\n",
    "        # Interpolate linearly to 5 day frequency\n",
    "        tiles, max_distance = calculate_and_save_best_images(x, image_dates)\n",
    "        \n",
    "        \n",
    "        \n",
    "        # Smooth linear interpolation\n",
    "        sm = Smoother(lmbd = 800, size = tiles.shape[0], nbands = 14, dim = 16)\n",
    "        tiles = sm.interpolate_array(tiles)\n",
    "        print(f\"There are {np.sum(np.isnan(tiles))} NA values\")\n",
    "        #sns.scatterplot(tiles[:, 3, 3, 1], [x for x in range(tiles.shape[0])])\n",
    "        if max_distance <= 240:\n",
    "            np.save(output_folder + str(val), tiles)\n",
    "            print(f\"Saved array of {tiles.shape} shape to {val}\")\n",
    "            print(\"\\n\")\n",
    "        else:\n",
    "            print(f\"Skipping {val} because there is a {max_distance} distance\")\n",
    "            print(\"\\n\")"
   ]
  },
  {
   "cell_type": "code",
   "execution_count": 8,
   "metadata": {
    "scrolled": true
   },
   "outputs": [
    {
     "name": "stdout",
     "output_type": "stream",
     "text": [
      "STARTING DOWNLOAD OF 118 plots from ../data/train-csv/lac-south-train.csv to ../data/train-s2-monthly/\n",
      "Downloading 1/118, 136134405\n"
     ]
    },
    {
     "name": "stderr",
     "output_type": "stream",
     "text": [
      "/Users/john.brandt/anaconda3/envs/remote_sensing/lib/python3.6/site-packages/sentinelhub/data_request.py:47: SHDeprecationWarning: Parameter 'instance_id' is deprecated and will soon removed. Use parameter 'config' instead\n",
      "  category=SHDeprecationWarning)\n"
     ]
    },
    {
     "name": "stdout",
     "output_type": "stream",
     "text": [
      "Cloud_probs shape: (76, 96, 96)\n",
      "Shadows_shape: (76, 96, 96, 3)\n"
     ]
    },
    {
     "data": {
      "application/vnd.jupyter.widget-view+json": {
       "model_id": "f8249d109b2242a2bc73d88031e3f9f8",
       "version_major": 2,
       "version_minor": 0
      },
      "text/plain": [
       "HBox(children=(IntProgress(value=0, max=76), HTML(value='')))"
      ]
     },
     "metadata": {},
     "output_type": "display_data"
    },
    {
     "name": "stdout",
     "output_type": "stream",
     "text": [
      "\n"
     ]
    },
    {
     "data": {
      "application/vnd.jupyter.widget-view+json": {
       "model_id": "c8efdb687609489cb12d94a9b8d5b1be",
       "version_major": 2,
       "version_minor": 0
      },
      "text/plain": [
       "HBox(children=(IntProgress(value=0, max=76), HTML(value='')))"
      ]
     },
     "metadata": {},
     "output_type": "display_data"
    },
    {
     "name": "stdout",
     "output_type": "stream",
     "text": [
      "\n",
      "0 [0.08680555555555555, 0.0, 0.0]\n",
      "1 [0.022786458333333332]\n",
      "2 [0.0]\n",
      "3 [0.0]\n",
      "4 []\n",
      "5 [0.030381944444444444]\n",
      "6 [0.027777777777777776]\n",
      "7 []\n",
      "8 [0.0]\n",
      "9 [0.0, 0.001736111111111111]\n",
      "10 [0.0]\n",
      "11 [0.0]\n",
      "Original 20 meter bands size: (13, 24, 24, 6), using 0.05712890625 PU\n",
      "The original L2A image size is: (13, 48, 48, 4)\n",
      "There are 0/13 dirty steps\n",
      "Removing 0 steps based on ratio\n",
      "Interpolated 0 px\n",
      "Removing 0 steps with >50% interpolation\n",
      "Shape before super: (13, 32, 32, 11)\n",
      "13/13 [==============================] - 0s 36ms/step\n",
      "Shape after super: (13, 16, 16, 11)\n",
      "There are 0 missing pixels\n",
      "0 {'image_date': [-11.0, 24.0], 'image_ratio': [0.6857142857142857, 0.3142857142857143], 'image_idx': [0, 1]}\n",
      "5 {'image_date': [-11.0, 24.0], 'image_ratio': [0.5428571428571429, 0.45714285714285713], 'image_idx': [0, 1]}\n",
      "10 {'image_date': [-11.0, 24.0], 'image_ratio': [0.4, 0.6], 'image_idx': [0, 1]}\n",
      "15 {'image_date': [-11.0, 24.0], 'image_ratio': [0.2571428571428571, 0.7428571428571429], 'image_idx': [0, 1]}\n",
      "20 {'image_date': [24.0], 'image_ratio': [1], 'image_idx': [1]}\n",
      "25 {'image_date': [24.0], 'image_ratio': [1], 'image_idx': [1]}\n",
      "30 {'image_date': [29.0], 'image_ratio': [1], 'image_idx': [2]}\n",
      "35 {'image_date': [34.0], 'image_ratio': [1], 'image_idx': [3]}\n",
      "40 {'image_date': [34.0], 'image_ratio': [1], 'image_idx': [3]}\n",
      "45 {'image_date': [34.0, 64.0], 'image_ratio': [0.6333333333333333, 0.36666666666666664], 'image_idx': [3, 4]}\n",
      "50 {'image_date': [34.0, 64.0], 'image_ratio': [0.4666666666666667, 0.5333333333333333], 'image_idx': [3, 4]}\n",
      "55 {'image_date': [34.0, 64.0], 'image_ratio': [0.30000000000000004, 0.7], 'image_idx': [3, 4]}\n",
      "60 {'image_date': [64.0], 'image_ratio': [1], 'image_idx': [4]}\n",
      "65 {'image_date': [64.0], 'image_ratio': [1], 'image_idx': [4]}\n",
      "70 {'image_date': [64.0], 'image_ratio': [1], 'image_idx': [4]}\n",
      "75 {'image_date': [64.0, 94.0], 'image_ratio': [0.6333333333333333, 0.36666666666666664], 'image_idx': [4, 5]}\n",
      "80 {'image_date': [64.0, 94.0], 'image_ratio': [0.4666666666666667, 0.5333333333333333], 'image_idx': [4, 5]}\n",
      "85 {'image_date': [64.0, 94.0], 'image_ratio': [0.30000000000000004, 0.7], 'image_idx': [4, 5]}\n",
      "90 {'image_date': [94.0], 'image_ratio': [1], 'image_idx': [5]}\n",
      "95 {'image_date': [94.0], 'image_ratio': [1], 'image_idx': [5]}\n",
      "100 {'image_date': [94.0], 'image_ratio': [1], 'image_idx': [5]}\n",
      "105 {'image_date': [94.0, 179.0], 'image_ratio': [0.8705882352941177, 0.12941176470588237], 'image_idx': [5, 6]}\n",
      "110 {'image_date': [94.0, 179.0], 'image_ratio': [0.8117647058823529, 0.18823529411764706], 'image_idx': [5, 6]}\n",
      "115 {'image_date': [94.0, 179.0], 'image_ratio': [0.7529411764705882, 0.24705882352941178], 'image_idx': [5, 6]}\n",
      "120 {'image_date': [94.0, 179.0], 'image_ratio': [0.6941176470588235, 0.3058823529411765], 'image_idx': [5, 6]}\n",
      "125 {'image_date': [94.0, 179.0], 'image_ratio': [0.6352941176470588, 0.36470588235294116], 'image_idx': [5, 6]}\n",
      "130 {'image_date': [94.0, 179.0], 'image_ratio': [0.5764705882352941, 0.4235294117647059], 'image_idx': [5, 6]}\n",
      "135 {'image_date': [94.0, 179.0], 'image_ratio': [0.5176470588235293, 0.4823529411764706], 'image_idx': [5, 6]}\n",
      "140 {'image_date': [94.0, 179.0], 'image_ratio': [0.45882352941176474, 0.5411764705882353], 'image_idx': [5, 6]}\n",
      "145 {'image_date': [94.0, 179.0], 'image_ratio': [0.4, 0.6], 'image_idx': [5, 6]}\n",
      "150 {'image_date': [94.0, 179.0], 'image_ratio': [0.3411764705882353, 0.6588235294117647], 'image_idx': [5, 6]}\n",
      "155 {'image_date': [94.0, 179.0], 'image_ratio': [0.2823529411764706, 0.7176470588235294], 'image_idx': [5, 6]}\n",
      "160 {'image_date': [94.0, 179.0], 'image_ratio': [0.22352941176470587, 0.7764705882352941], 'image_idx': [5, 6]}\n",
      "165 {'image_date': [94.0, 179.0], 'image_ratio': [0.16470588235294115, 0.8352941176470589], 'image_idx': [5, 6]}\n",
      "170 {'image_date': [94.0, 179.0], 'image_ratio': [0.10588235294117643, 0.8941176470588236], 'image_idx': [5, 6]}\n",
      "175 {'image_date': [179.0], 'image_ratio': [1], 'image_idx': [6]}\n",
      "180 {'image_date': [179.0], 'image_ratio': [1], 'image_idx': [6]}\n",
      "185 {'image_date': [179.0], 'image_ratio': [1], 'image_idx': [6]}\n",
      "190 {'image_date': [179.0, 199.0], 'image_ratio': [0.44999999999999996, 0.55], 'image_idx': [6, 7]}\n",
      "195 {'image_date': [199.0], 'image_ratio': [1], 'image_idx': [7]}\n",
      "200 {'image_date': [199.0], 'image_ratio': [1], 'image_idx': [7]}\n",
      "205 {'image_date': [199.0], 'image_ratio': [1], 'image_idx': [7]}\n",
      "210 {'image_date': [199.0, 269.0], 'image_ratio': [0.8428571428571429, 0.15714285714285714], 'image_idx': [7, 8]}\n",
      "215 {'image_date': [199.0, 269.0], 'image_ratio': [0.7714285714285715, 0.22857142857142856], 'image_idx': [7, 8]}\n",
      "220 {'image_date': [199.0, 269.0], 'image_ratio': [0.7, 0.3], 'image_idx': [7, 8]}\n",
      "225 {'image_date': [199.0, 269.0], 'image_ratio': [0.6285714285714286, 0.37142857142857144], 'image_idx': [7, 8]}\n",
      "230 {'image_date': [199.0, 269.0], 'image_ratio': [0.5571428571428572, 0.44285714285714284], 'image_idx': [7, 8]}\n",
      "235 {'image_date': [199.0, 269.0], 'image_ratio': [0.48571428571428577, 0.5142857142857142], 'image_idx': [7, 8]}\n",
      "240 {'image_date': [199.0, 269.0], 'image_ratio': [0.41428571428571426, 0.5857142857142857], 'image_idx': [7, 8]}\n",
      "245 {'image_date': [199.0, 269.0], 'image_ratio': [0.34285714285714286, 0.6571428571428571], 'image_idx': [7, 8]}\n",
      "250 {'image_date': [199.0, 269.0], 'image_ratio': [0.27142857142857146, 0.7285714285714285], 'image_idx': [7, 8]}\n",
      "255 {'image_date': [199.0, 269.0], 'image_ratio': [0.19999999999999996, 0.8], 'image_idx': [7, 8]}\n",
      "260 {'image_date': [199.0, 269.0], 'image_ratio': [0.12857142857142856, 0.8714285714285714], 'image_idx': [7, 8]}\n",
      "265 {'image_date': [269.0], 'image_ratio': [1], 'image_idx': [8]}\n",
      "270 {'image_date': [269.0], 'image_ratio': [1], 'image_idx': [8]}\n",
      "275 {'image_date': [274.0], 'image_ratio': [1], 'image_idx': [9]}\n",
      "280 {'image_date': [274.0], 'image_ratio': [1], 'image_idx': [9]}\n",
      "285 {'image_date': [289.0], 'image_ratio': [1], 'image_idx': [10]}\n",
      "290 {'image_date': [289.0], 'image_ratio': [1], 'image_idx': [10]}\n",
      "295 {'image_date': [289.0], 'image_ratio': [1], 'image_idx': [10]}\n",
      "300 {'image_date': [289.0, 314.0], 'image_ratio': [0.56, 0.44], 'image_idx': [10, 11]}\n",
      "305 {'image_date': [289.0, 314.0], 'image_ratio': [0.36, 0.64], 'image_idx': [10, 11]}\n",
      "310 {'image_date': [314.0], 'image_ratio': [1], 'image_idx': [11]}\n",
      "315 {'image_date': [314.0], 'image_ratio': [1], 'image_idx': [11]}\n",
      "320 {'image_date': [314.0], 'image_ratio': [1], 'image_idx': [11]}\n",
      "325 {'image_date': [314.0, 369.0], 'image_ratio': [0.8, 0.2], 'image_idx': [11, 12]}\n",
      "330 {'image_date': [314.0, 369.0], 'image_ratio': [0.7090909090909091, 0.2909090909090909], 'image_idx': [11, 12]}\n",
      "335 {'image_date': [314.0, 369.0], 'image_ratio': [0.6181818181818182, 0.38181818181818183], 'image_idx': [11, 12]}\n",
      "340 {'image_date': [314.0, 369.0], 'image_ratio': [0.5272727272727273, 0.4727272727272727], 'image_idx': [11, 12]}\n",
      "345 {'image_date': [314.0, 369.0], 'image_ratio': [0.4363636363636364, 0.5636363636363636], 'image_idx': [11, 12]}\n",
      "350 {'image_date': [314.0, 369.0], 'image_ratio': [0.34545454545454546, 0.6545454545454545], 'image_idx': [11, 12]}\n",
      "355 {'image_date': [314.0, 369.0], 'image_ratio': [0.2545454545454545, 0.7454545454545455], 'image_idx': [11, 12]}\n",
      "Maximum time distance: 85.0\n",
      "(72, 16, 16, 14)\n",
      "(72, 72)\n",
      "(72, 3584)\n",
      "There are 0 NA values\n",
      "Saved array of (24, 16, 16, 15) shape to 136134405\n",
      "\n",
      "\n",
      "Downloading 2/118, 136134408\n"
     ]
    },
    {
     "ename": "KeyboardInterrupt",
     "evalue": "",
     "output_type": "error",
     "traceback": [
      "\u001b[0;31m---------------------------------------------------------------------------\u001b[0m",
      "\u001b[0;31mKeyboardInterrupt\u001b[0m                         Traceback (most recent call last)",
      "\u001b[0;32m<ipython-input-8-15ab804702e6>\u001b[0m in \u001b[0;36m<module>\u001b[0;34m\u001b[0m\n\u001b[1;32m      3\u001b[0m     \u001b[0;31m#if \".csv\" in i:\u001b[0m\u001b[0;34m\u001b[0m\u001b[0;34m\u001b[0m\u001b[0;34m\u001b[0m\u001b[0m\n\u001b[1;32m      4\u001b[0m         \u001b[0;31m#if any(x in i for x in [\"africa-west\", \"cameroon\", \"koure\", \"niger\"]):\u001b[0m\u001b[0;34m\u001b[0m\u001b[0;34m\u001b[0m\u001b[0;34m\u001b[0m\u001b[0m\n\u001b[0;32m----> 5\u001b[0;31m         \u001b[0mx\u001b[0m\u001b[0;34m,\u001b[0m \u001b[0mdates\u001b[0m \u001b[0;34m=\u001b[0m \u001b[0mdownload_plots\u001b[0m\u001b[0;34m(\u001b[0m\u001b[0;34m\"../data/train-csv/\"\u001b[0m \u001b[0;34m+\u001b[0m \u001b[0mi\u001b[0m\u001b[0;34m,\u001b[0m \u001b[0;34m\"../data/train-s2-monthly/\"\u001b[0m\u001b[0;34m,\u001b[0m \u001b[0mimage_format\u001b[0m \u001b[0;34m=\u001b[0m \u001b[0mMimeType\u001b[0m\u001b[0;34m.\u001b[0m\u001b[0mTIFF_d16\u001b[0m\u001b[0;34m)\u001b[0m\u001b[0;34m\u001b[0m\u001b[0;34m\u001b[0m\u001b[0m\n\u001b[0m",
      "\u001b[0;32m<ipython-input-7-2e7906431126>\u001b[0m in \u001b[0;36mdownload_plots\u001b[0;34m(data_location, output_folder, image_format)\u001b[0m\n\u001b[1;32m     36\u001b[0m         \u001b[0msentinel2_bbx\u001b[0m\u001b[0;34m,\u001b[0m \u001b[0mepsg\u001b[0m \u001b[0;34m=\u001b[0m \u001b[0mbounding_box\u001b[0m\u001b[0;34m(\u001b[0m\u001b[0minitial_bbx\u001b[0m\u001b[0;34m,\u001b[0m \u001b[0mexpansion\u001b[0m \u001b[0;34m=\u001b[0m \u001b[0mIMSIZE\u001b[0m\u001b[0;34m*\u001b[0m\u001b[0;36m10\u001b[0m\u001b[0;34m)\u001b[0m\u001b[0;34m\u001b[0m\u001b[0;34m\u001b[0m\u001b[0m\n\u001b[1;32m     37\u001b[0m         \u001b[0mcloud_bbx\u001b[0m\u001b[0;34m,\u001b[0m \u001b[0m_\u001b[0m \u001b[0;34m=\u001b[0m \u001b[0mbounding_box\u001b[0m\u001b[0;34m(\u001b[0m\u001b[0minitial_bbx\u001b[0m\u001b[0;34m,\u001b[0m \u001b[0mexpansion\u001b[0m \u001b[0;34m=\u001b[0m \u001b[0;36m96\u001b[0m\u001b[0;34m*\u001b[0m\u001b[0;36m10\u001b[0m\u001b[0;34m)\u001b[0m\u001b[0;34m\u001b[0m\u001b[0;34m\u001b[0m\u001b[0m\n\u001b[0;32m---> 38\u001b[0;31m         \u001b[0mclouds\u001b[0m\u001b[0;34m,\u001b[0m \u001b[0mshadows\u001b[0m\u001b[0;34m,\u001b[0m \u001b[0mclean_steps\u001b[0m \u001b[0;34m=\u001b[0m \u001b[0midentify_clouds\u001b[0m\u001b[0;34m(\u001b[0m\u001b[0mcloud_bbx\u001b[0m\u001b[0;34m,\u001b[0m \u001b[0mepsg\u001b[0m \u001b[0;34m=\u001b[0m \u001b[0mepsg\u001b[0m\u001b[0;34m)\u001b[0m\u001b[0;34m\u001b[0m\u001b[0;34m\u001b[0m\u001b[0m\n\u001b[0m\u001b[1;32m     39\u001b[0m         \u001b[0mdem\u001b[0m \u001b[0;34m=\u001b[0m \u001b[0mdownload_dem\u001b[0m\u001b[0;34m(\u001b[0m\u001b[0mval\u001b[0m\u001b[0;34m,\u001b[0m \u001b[0mepsg\u001b[0m \u001b[0;34m=\u001b[0m \u001b[0mepsg\u001b[0m\u001b[0;34m,\u001b[0m \u001b[0mdf\u001b[0m \u001b[0;34m=\u001b[0m \u001b[0mdf\u001b[0m\u001b[0;34m)\u001b[0m\u001b[0;34m\u001b[0m\u001b[0;34m\u001b[0m\u001b[0m\n\u001b[1;32m     40\u001b[0m         img, image_request = download_layer(sentinel2_bbx, clean_steps = clean_steps,\n",
      "\u001b[0;32m<ipython-input-5-628c84e9eb47>\u001b[0m in \u001b[0;36midentify_clouds\u001b[0;34m(bbox, epsg, time)\u001b[0m\n\u001b[1;32m     28\u001b[0m                 time_difference=datetime.timedelta(hours=48))\n\u001b[1;32m     29\u001b[0m \u001b[0;34m\u001b[0m\u001b[0m\n\u001b[0;32m---> 30\u001b[0;31m             \u001b[0mcloud_img\u001b[0m \u001b[0;34m=\u001b[0m \u001b[0mcloud_request\u001b[0m\u001b[0;34m.\u001b[0m\u001b[0mget_data\u001b[0m\u001b[0;34m(\u001b[0m\u001b[0;34m)\u001b[0m\u001b[0;34m\u001b[0m\u001b[0;34m\u001b[0m\u001b[0m\n\u001b[0m\u001b[1;32m     31\u001b[0m             \u001b[0mcloud_img\u001b[0m \u001b[0;34m=\u001b[0m \u001b[0mnp\u001b[0m\u001b[0;34m.\u001b[0m\u001b[0marray\u001b[0m\u001b[0;34m(\u001b[0m\u001b[0mcloud_img\u001b[0m\u001b[0;34m)\u001b[0m\u001b[0;34m\u001b[0m\u001b[0;34m\u001b[0m\u001b[0m\n\u001b[1;32m     32\u001b[0m \u001b[0;34m\u001b[0m\u001b[0m\n",
      "\u001b[0;32m~/anaconda3/envs/remote_sensing/lib/python3.6/site-packages/sentinelhub/data_request.py\u001b[0m in \u001b[0;36mget_data\u001b[0;34m(self, save_data, redownload, data_filter, max_threads, decode_data, raise_download_errors)\u001b[0m\n\u001b[1;32m    123\u001b[0m         \u001b[0mself\u001b[0m\u001b[0;34m.\u001b[0m\u001b[0m_preprocess_request\u001b[0m\u001b[0;34m(\u001b[0m\u001b[0msave_data\u001b[0m\u001b[0;34m,\u001b[0m \u001b[0;32mTrue\u001b[0m\u001b[0;34m)\u001b[0m\u001b[0;34m\u001b[0m\u001b[0;34m\u001b[0m\u001b[0m\n\u001b[1;32m    124\u001b[0m         return self._execute_data_download(data_filter, redownload, max_threads, raise_download_errors,\n\u001b[0;32m--> 125\u001b[0;31m                                            decode_data=decode_data)\n\u001b[0m\u001b[1;32m    126\u001b[0m \u001b[0;34m\u001b[0m\u001b[0m\n\u001b[1;32m    127\u001b[0m     \u001b[0;32mdef\u001b[0m \u001b[0msave_data\u001b[0m\u001b[0;34m(\u001b[0m\u001b[0mself\u001b[0m\u001b[0;34m,\u001b[0m \u001b[0;34m*\u001b[0m\u001b[0;34m,\u001b[0m \u001b[0mdata_filter\u001b[0m\u001b[0;34m=\u001b[0m\u001b[0;32mNone\u001b[0m\u001b[0;34m,\u001b[0m \u001b[0mredownload\u001b[0m\u001b[0;34m=\u001b[0m\u001b[0;32mFalse\u001b[0m\u001b[0;34m,\u001b[0m \u001b[0mmax_threads\u001b[0m\u001b[0;34m=\u001b[0m\u001b[0;32mNone\u001b[0m\u001b[0;34m,\u001b[0m \u001b[0mraise_download_errors\u001b[0m\u001b[0;34m=\u001b[0m\u001b[0;32mFalse\u001b[0m\u001b[0;34m)\u001b[0m\u001b[0;34m:\u001b[0m\u001b[0;34m\u001b[0m\u001b[0;34m\u001b[0m\u001b[0m\n",
      "\u001b[0;32m~/anaconda3/envs/remote_sensing/lib/python3.6/site-packages/sentinelhub/data_request.py\u001b[0m in \u001b[0;36m_execute_data_download\u001b[0;34m(self, data_filter, redownload, max_threads, raise_download_errors, decode_data)\u001b[0m\n\u001b[1;32m    182\u001b[0m             \u001b[0mconfig\u001b[0m\u001b[0;34m=\u001b[0m\u001b[0mself\u001b[0m\u001b[0;34m.\u001b[0m\u001b[0mconfig\u001b[0m\u001b[0;34m\u001b[0m\u001b[0;34m\u001b[0m\u001b[0m\n\u001b[1;32m    183\u001b[0m         )\n\u001b[0;32m--> 184\u001b[0;31m         \u001b[0mdata_list\u001b[0m \u001b[0;34m=\u001b[0m \u001b[0mclient\u001b[0m\u001b[0;34m.\u001b[0m\u001b[0mdownload\u001b[0m\u001b[0;34m(\u001b[0m\u001b[0mfiltered_download_list\u001b[0m\u001b[0;34m,\u001b[0m \u001b[0mmax_threads\u001b[0m\u001b[0;34m=\u001b[0m\u001b[0mmax_threads\u001b[0m\u001b[0;34m,\u001b[0m \u001b[0mdecode_data\u001b[0m\u001b[0;34m=\u001b[0m\u001b[0mdecode_data\u001b[0m\u001b[0;34m)\u001b[0m\u001b[0;34m\u001b[0m\u001b[0;34m\u001b[0m\u001b[0m\n\u001b[0m\u001b[1;32m    185\u001b[0m \u001b[0;34m\u001b[0m\u001b[0m\n\u001b[1;32m    186\u001b[0m         \u001b[0;32mif\u001b[0m \u001b[0mis_repeating_filter\u001b[0m\u001b[0;34m:\u001b[0m\u001b[0;34m\u001b[0m\u001b[0;34m\u001b[0m\u001b[0m\n",
      "\u001b[0;32m~/anaconda3/envs/remote_sensing/lib/python3.6/site-packages/sentinelhub/download/client.py\u001b[0m in \u001b[0;36mdownload\u001b[0;34m(self, download_requests, max_threads, decode_data)\u001b[0m\n\u001b[1;32m     67\u001b[0m         \u001b[0;32mwith\u001b[0m \u001b[0mconcurrent\u001b[0m\u001b[0;34m.\u001b[0m\u001b[0mfutures\u001b[0m\u001b[0;34m.\u001b[0m\u001b[0mThreadPoolExecutor\u001b[0m\u001b[0;34m(\u001b[0m\u001b[0mmax_workers\u001b[0m\u001b[0;34m=\u001b[0m\u001b[0mmax_threads\u001b[0m\u001b[0;34m)\u001b[0m \u001b[0;32mas\u001b[0m \u001b[0mexecutor\u001b[0m\u001b[0;34m:\u001b[0m\u001b[0;34m\u001b[0m\u001b[0;34m\u001b[0m\u001b[0m\n\u001b[1;32m     68\u001b[0m             download_list = [\n\u001b[0;32m---> 69\u001b[0;31m                 \u001b[0mexecutor\u001b[0m\u001b[0;34m.\u001b[0m\u001b[0msubmit\u001b[0m\u001b[0;34m(\u001b[0m\u001b[0mself\u001b[0m\u001b[0;34m.\u001b[0m\u001b[0m_single_download\u001b[0m\u001b[0;34m,\u001b[0m \u001b[0mrequest\u001b[0m\u001b[0;34m,\u001b[0m \u001b[0mdecode_data\u001b[0m\u001b[0;34m)\u001b[0m \u001b[0;32mfor\u001b[0m \u001b[0mrequest\u001b[0m \u001b[0;32min\u001b[0m \u001b[0mdownload_requests\u001b[0m\u001b[0;34m\u001b[0m\u001b[0;34m\u001b[0m\u001b[0m\n\u001b[0m\u001b[1;32m     70\u001b[0m             ]\n\u001b[1;32m     71\u001b[0m \u001b[0;34m\u001b[0m\u001b[0m\n",
      "\u001b[0;32m~/anaconda3/envs/remote_sensing/lib/python3.6/concurrent/futures/_base.py\u001b[0m in \u001b[0;36m__exit__\u001b[0;34m(self, exc_type, exc_val, exc_tb)\u001b[0m\n\u001b[1;32m    609\u001b[0m \u001b[0;34m\u001b[0m\u001b[0m\n\u001b[1;32m    610\u001b[0m     \u001b[0;32mdef\u001b[0m \u001b[0m__exit__\u001b[0m\u001b[0;34m(\u001b[0m\u001b[0mself\u001b[0m\u001b[0;34m,\u001b[0m \u001b[0mexc_type\u001b[0m\u001b[0;34m,\u001b[0m \u001b[0mexc_val\u001b[0m\u001b[0;34m,\u001b[0m \u001b[0mexc_tb\u001b[0m\u001b[0;34m)\u001b[0m\u001b[0;34m:\u001b[0m\u001b[0;34m\u001b[0m\u001b[0;34m\u001b[0m\u001b[0m\n\u001b[0;32m--> 611\u001b[0;31m         \u001b[0mself\u001b[0m\u001b[0;34m.\u001b[0m\u001b[0mshutdown\u001b[0m\u001b[0;34m(\u001b[0m\u001b[0mwait\u001b[0m\u001b[0;34m=\u001b[0m\u001b[0;32mTrue\u001b[0m\u001b[0;34m)\u001b[0m\u001b[0;34m\u001b[0m\u001b[0;34m\u001b[0m\u001b[0m\n\u001b[0m\u001b[1;32m    612\u001b[0m         \u001b[0;32mreturn\u001b[0m \u001b[0;32mFalse\u001b[0m\u001b[0;34m\u001b[0m\u001b[0;34m\u001b[0m\u001b[0m\n",
      "\u001b[0;32m~/anaconda3/envs/remote_sensing/lib/python3.6/concurrent/futures/thread.py\u001b[0m in \u001b[0;36mshutdown\u001b[0;34m(self, wait)\u001b[0m\n\u001b[1;32m    150\u001b[0m         \u001b[0;32mif\u001b[0m \u001b[0mwait\u001b[0m\u001b[0;34m:\u001b[0m\u001b[0;34m\u001b[0m\u001b[0;34m\u001b[0m\u001b[0m\n\u001b[1;32m    151\u001b[0m             \u001b[0;32mfor\u001b[0m \u001b[0mt\u001b[0m \u001b[0;32min\u001b[0m \u001b[0mself\u001b[0m\u001b[0;34m.\u001b[0m\u001b[0m_threads\u001b[0m\u001b[0;34m:\u001b[0m\u001b[0;34m\u001b[0m\u001b[0;34m\u001b[0m\u001b[0m\n\u001b[0;32m--> 152\u001b[0;31m                 \u001b[0mt\u001b[0m\u001b[0;34m.\u001b[0m\u001b[0mjoin\u001b[0m\u001b[0;34m(\u001b[0m\u001b[0;34m)\u001b[0m\u001b[0;34m\u001b[0m\u001b[0;34m\u001b[0m\u001b[0m\n\u001b[0m\u001b[1;32m    153\u001b[0m     \u001b[0mshutdown\u001b[0m\u001b[0;34m.\u001b[0m\u001b[0m__doc__\u001b[0m \u001b[0;34m=\u001b[0m \u001b[0m_base\u001b[0m\u001b[0;34m.\u001b[0m\u001b[0mExecutor\u001b[0m\u001b[0;34m.\u001b[0m\u001b[0mshutdown\u001b[0m\u001b[0;34m.\u001b[0m\u001b[0m__doc__\u001b[0m\u001b[0;34m\u001b[0m\u001b[0;34m\u001b[0m\u001b[0m\n",
      "\u001b[0;32m~/anaconda3/envs/remote_sensing/lib/python3.6/threading.py\u001b[0m in \u001b[0;36mjoin\u001b[0;34m(self, timeout)\u001b[0m\n\u001b[1;32m   1054\u001b[0m \u001b[0;34m\u001b[0m\u001b[0m\n\u001b[1;32m   1055\u001b[0m         \u001b[0;32mif\u001b[0m \u001b[0mtimeout\u001b[0m \u001b[0;32mis\u001b[0m \u001b[0;32mNone\u001b[0m\u001b[0;34m:\u001b[0m\u001b[0;34m\u001b[0m\u001b[0;34m\u001b[0m\u001b[0m\n\u001b[0;32m-> 1056\u001b[0;31m             \u001b[0mself\u001b[0m\u001b[0;34m.\u001b[0m\u001b[0m_wait_for_tstate_lock\u001b[0m\u001b[0;34m(\u001b[0m\u001b[0;34m)\u001b[0m\u001b[0;34m\u001b[0m\u001b[0;34m\u001b[0m\u001b[0m\n\u001b[0m\u001b[1;32m   1057\u001b[0m         \u001b[0;32melse\u001b[0m\u001b[0;34m:\u001b[0m\u001b[0;34m\u001b[0m\u001b[0;34m\u001b[0m\u001b[0m\n\u001b[1;32m   1058\u001b[0m             \u001b[0;31m# the behavior of a negative timeout isn't documented, but\u001b[0m\u001b[0;34m\u001b[0m\u001b[0;34m\u001b[0m\u001b[0;34m\u001b[0m\u001b[0m\n",
      "\u001b[0;32m~/anaconda3/envs/remote_sensing/lib/python3.6/threading.py\u001b[0m in \u001b[0;36m_wait_for_tstate_lock\u001b[0;34m(self, block, timeout)\u001b[0m\n\u001b[1;32m   1070\u001b[0m         \u001b[0;32mif\u001b[0m \u001b[0mlock\u001b[0m \u001b[0;32mis\u001b[0m \u001b[0;32mNone\u001b[0m\u001b[0;34m:\u001b[0m  \u001b[0;31m# already determined that the C code is done\u001b[0m\u001b[0;34m\u001b[0m\u001b[0;34m\u001b[0m\u001b[0m\n\u001b[1;32m   1071\u001b[0m             \u001b[0;32massert\u001b[0m \u001b[0mself\u001b[0m\u001b[0;34m.\u001b[0m\u001b[0m_is_stopped\u001b[0m\u001b[0;34m\u001b[0m\u001b[0;34m\u001b[0m\u001b[0m\n\u001b[0;32m-> 1072\u001b[0;31m         \u001b[0;32melif\u001b[0m \u001b[0mlock\u001b[0m\u001b[0;34m.\u001b[0m\u001b[0macquire\u001b[0m\u001b[0;34m(\u001b[0m\u001b[0mblock\u001b[0m\u001b[0;34m,\u001b[0m \u001b[0mtimeout\u001b[0m\u001b[0;34m)\u001b[0m\u001b[0;34m:\u001b[0m\u001b[0;34m\u001b[0m\u001b[0;34m\u001b[0m\u001b[0m\n\u001b[0m\u001b[1;32m   1073\u001b[0m             \u001b[0mlock\u001b[0m\u001b[0;34m.\u001b[0m\u001b[0mrelease\u001b[0m\u001b[0;34m(\u001b[0m\u001b[0;34m)\u001b[0m\u001b[0;34m\u001b[0m\u001b[0;34m\u001b[0m\u001b[0m\n\u001b[1;32m   1074\u001b[0m             \u001b[0mself\u001b[0m\u001b[0;34m.\u001b[0m\u001b[0m_stop\u001b[0m\u001b[0;34m(\u001b[0m\u001b[0;34m)\u001b[0m\u001b[0;34m\u001b[0m\u001b[0;34m\u001b[0m\u001b[0m\n",
      "\u001b[0;31mKeyboardInterrupt\u001b[0m: "
     ]
    }
   ],
   "source": [
    "for i in os.listdir(\"../data/train-csv/\"):\n",
    "    if \"lac-south-train\" in i:\n",
    "    #if \".csv\" in i:\n",
    "        #if any(x in i for x in [\"africa-west\", \"cameroon\", \"koure\", \"niger\"]):\n",
    "        x, dates = download_plots(\"../data/train-csv/\" + i, \"../data/train-s2-monthly/\", image_format = MimeType.TIFF_d16)"
   ]
  },
  {
   "cell_type": "code",
   "execution_count": 9,
   "metadata": {},
   "outputs": [],
   "source": [
    "x = np.load(\"../data/train-s2-monthly/136134405.npy\")\n",
    "y = np.load(\"../data/train-s2/136134405.npy\")"
   ]
  },
  {
   "cell_type": "code",
   "execution_count": 28,
   "metadata": {},
   "outputs": [
    {
     "data": {
      "text/plain": [
       "<matplotlib.axes._subplots.AxesSubplot at 0x1c3e200978>"
      ]
     },
     "execution_count": 28,
     "metadata": {},
     "output_type": "execute_result"
    },
    {
     "data": {
      "image/png": "[encoded data removed]",
      "text/plain": [
       "<Figure size 432x288 with 1 Axes>"
      ]
     },
     "metadata": {
      "needs_background": "light"
     },
     "output_type": "display_data"
    }
   ],
   "source": [
    "sns.scatterplot(np.arange(24), x[:, 5, 5, -3])"
   ]
  },
  {
   "cell_type": "code",
   "execution_count": 27,
   "metadata": {},
   "outputs": [
    {
     "data": {
      "text/plain": [
       "<matplotlib.axes._subplots.AxesSubplot at 0x1c3e16c358>"
      ]
     },
     "execution_count": 27,
     "metadata": {},
     "output_type": "execute_result"
    },
    {
     "data": {
      "image/png": "[encoded data removed]",
      "text/plain": [
       "<Figure size 432x288 with 1 Axes>"
      ]
     },
     "metadata": {
      "needs_background": "light"
     },
     "output_type": "display_data"
    }
   ],
   "source": [
    "sns.scatterplot(np.arange(24), y[:, 5, 5, -3])"
   ]
  },
  {
   "cell_type": "code",
   "execution_count": 21,
   "metadata": {},
   "outputs": [
    {
     "data": {
      "text/plain": [
       "array([  7.82683336,   6.81530004,  11.15872884,  17.12815972,\n",
       "        23.53711279,  30.28233132,  37.08021687,  44.12404297,\n",
       "        47.57952724,  45.12261634,  38.51783711,  29.14235018,\n",
       "        18.73505714,   9.93266526,   4.88071256,   4.60951884,\n",
       "         7.17461157,  12.25693803,  23.33933873,  40.36771659,\n",
       "        60.57551305,  80.80473608,  99.20880137, 113.60674642])"
      ]
     },
     "execution_count": 21,
     "metadata": {},
     "output_type": "execute_result"
    }
   ],
   "source": [
    "np.sum(abs(x - y), axis = (1, 2, 3))"
   ]
  },
  {
   "cell_type": "code",
   "execution_count": 24,
   "metadata": {},
   "outputs": [
    {
     "data": {
      "text/plain": [
       "<matplotlib.axes._subplots.AxesSubplot at 0x1c3de20940>"
      ]
     },
     "execution_count": 24,
     "metadata": {},
     "output_type": "execute_result"
    },
    {
     "data": {
      "image/png": "[encoded data removed]",
      "text/plain": [
       "<Figure size 432x288 with 2 Axes>"
      ]
     },
     "metadata": {
      "needs_background": "light"
     },
     "output_type": "display_data"
    }
   ],
   "source": [
    "sns.heatmap(x[-2, :, :, -2])"
   ]
  },
  {
   "cell_type": "code",
   "execution_count": 25,
   "metadata": {},
   "outputs": [
    {
     "data": {
      "text/plain": [
       "<matplotlib.axes._subplots.AxesSubplot at 0x1c3de20828>"
      ]
     },
     "execution_count": 25,
     "metadata": {},
     "output_type": "execute_result"
    },
    {
     "data": {
      "image/png": "[encoded data removed]",
      "text/plain": [
       "<Figure size 432x288 with 2 Axes>"
      ]
     },
     "metadata": {
      "needs_background": "light"
     },
     "output_type": "display_data"
    }
   ],
   "source": [
    "sns.heatmap(y[-2, :, :, -2])"
   ]
  },
  {
   "cell_type": "code",
   "execution_count": null,
   "metadata": {},
   "outputs": [],
   "source": []
  }
 ],
 "metadata": {
  "kernelspec": {
   "display_name": "remote_sensing",
   "language": "python",
   "name": "remote_sensing"
  },
  "language_info": {
   "codemirror_mode": {
    "name": "ipython",
    "version": 3
   },
   "file_extension": ".py",
   "mimetype": "text/x-python",
   "name": "python",
   "nbconvert_exporter": "python",
   "pygments_lexer": "ipython3",
   "version": "3.6.8"
  }
 },
 "nbformat": 4,
 "nbformat_minor": 2
}
