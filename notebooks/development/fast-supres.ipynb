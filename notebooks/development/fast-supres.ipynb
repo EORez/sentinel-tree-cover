{
 "cells": [
  {
   "cell_type": "code",
   "execution_count": 4,
   "metadata": {},
   "outputs": [],
   "source": [
    "import numpy as np\n",
    "from skimage.transform import resize\n",
    "\n"
   ]
  },
  {
   "cell_type": "code",
   "execution_count": 3,
   "metadata": {},
   "outputs": [],
   "source": [
    "x = np.empty((16, 16, 6))\n",
    "z = np.empty((32, 32, 4))\n",
    "\n",
    "xdown = np.empty((8, 8, 6))\n",
    "zdown = np.empty((16, 16, 4))\n",
    "\n",
    "rdown = x\n"
   ]
  },
  {
   "cell_type": "code",
   "execution_count": 8,
   "metadata": {},
   "outputs": [],
   "source": [
    "xhpf = np.empty((16, 16))\n",
    "zhpf = np.empty((32, 32))\n",
    "\n",
    "#b20_hpf = hpf * b20\n",
    "#b10_hpf = hpf * b10\n",
    "\n",
    "xtilde = resize(b20, ((32, 32, 6)), 1)\n",
    "xtildehpf = resize(xhpf, ((32, 32, 6)), 1)"
   ]
  },
  {
   "cell_type": "code",
   "execution_count": 6,
   "metadata": {},
   "outputs": [],
   "source": [
    "pred_inp = np.empty((32, 32, 10)) # hpf, hpf\n",
    "train_inp = np.empty((16, 16, 10))"
   ]
  },
  {
   "cell_type": "code",
   "execution_count": null,
   "metadata": {},
   "outputs": [],
   "source": [
    "# network is trained per band so 6 networks\n",
    "# batchnorm = batchnorm()(train_inp)\n",
    "# conv1 = conv2d((3, 3), 48, relu)(batchnorm)\n",
    "# conv2 = conv2d((3, 3), 32, relu)(conv1)\n",
    "# conv3 = conv2d((3, 3), 32, relu)(conv2)\n",
    "# conv4 = conv2d((3, 3), 1, tanh)(conv3)\n",
    "# skipconnect = tf.add(conv4, b20_upscale)"
   ]
  },
  {
   "cell_type": "code",
   "execution_count": null,
   "metadata": {},
   "outputs": [],
   "source": [
    "spec = l1norm(skippconnect + xtildedown - rdown)"
   ]
  },
  {
   "cell_type": "code",
   "execution_count": null,
   "metadata": {},
   "outputs": [],
   "source": [
    "# loss = 1 * L_spec + 0.1 * L_struct + 0.01 * L_reg\n",
    "# L_Spec = L1 NORM (Output + upsampled 20 meter, lpf downsampled - 20 meter original)"
   ]
  }
 ],
 "metadata": {
  "kernelspec": {
   "display_name": "remote_sensing",
   "language": "python",
   "name": "remote_sensing"
  },
  "language_info": {
   "codemirror_mode": {
    "name": "ipython",
    "version": 3
   },
   "file_extension": ".py",
   "mimetype": "text/x-python",
   "name": "python",
   "nbconvert_exporter": "python",
   "pygments_lexer": "ipython3",
   "version": "3.6.8"
  }
 },
 "nbformat": 4,
 "nbformat_minor": 2
}
