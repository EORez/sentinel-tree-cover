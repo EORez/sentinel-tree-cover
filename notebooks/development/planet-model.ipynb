{
 "cells": [
  {
   "cell_type": "markdown",
   "metadata": {},
   "source": [
    "# Tree segmentation with multitemporal Sentinel 1/2 imagery\n",
    "\n",
    "## John Brandt\n",
    "## April 02, 2020\n",
    "\n",
    "## Overview\n",
    "\n",
    "This notebook contains the TensorFlow model training and prediction used to segment trees for [Restoration Mapper](https://restorationmapper.org). The notebook uses tensorflow 1.13.1 and additionally relies on Keras and tflearn. \n",
    "\n",
    "## Table of Contents\n",
    "\n",
    "- Package loading\n",
    "- Utility scripts\n",
    "- Hyperparameter definitions\n",
    "- Custom tensorflow layer functions\n",
    "- Tensorflow graph creation\n",
    "- Data loading\n",
    "- Data preprocessing\n",
    "- Equibatch creation\n",
    "- Loss definition\n",
    "- Tensorflow graph initialization\n",
    "- Training\n",
    "- Model validation\n",
    "- Sanity Checks\n",
    "\n",
    "## Package Loading"
   ]
  },
  {
   "cell_type": "code",
   "execution_count": 1,
   "metadata": {},
   "outputs": [
    {
     "name": "stderr",
     "output_type": "stream",
     "text": [
      "Using TensorFlow backend.\n"
     ]
    }
   ],
   "source": [
    "from tqdm import tqdm_notebook, tnrange\n",
    "import tensorflow as tf\n",
    "\n",
    "sess = tf.Session()\n",
    "from keras import backend as K\n",
    "K.set_session(sess)\n",
    "\n",
    "from time import sleep\n",
    "\n",
    "import keras\n",
    "from tensorflow.python.keras.layers import *\n",
    "from tensorflow.python.keras.layers import ELU\n",
    "from keras.losses import binary_crossentropy\n",
    "from tensorflow.python.ops import array_ops\n",
    "from tensorflow.python.keras.layers import Conv2D, Lambda, Dense, Multiply, Add\n",
    "from tensorflow.python.keras.activations import selu\n",
    "from tensorflow.initializers import glorot_normal, lecun_normal\n",
    "from scipy.ndimage import median_filter\n",
    "from skimage.transform import resize\n",
    "\n",
    "import tensorflow.contrib.slim as slim\n",
    "from tensorflow.contrib.slim import conv2d\n",
    "\n",
    "import pandas as pd\n",
    "import numpy as np\n",
    "from random import shuffle\n",
    "import pandas as pd\n",
    "\n",
    "import seaborn as sns\n",
    "import matplotlib.pyplot as plt\n",
    "%matplotlib inline\n",
    "import os\n",
    "import random\n",
    "import itertools\n",
    "from tensorflow.contrib.framework import arg_scope\n",
    "from keras.regularizers import l1\n",
    "from tensorflow.layers import batch_normalization\n",
    "from tensorflow.python.util import deprecation as deprecation\n",
    "deprecation._PRINT_DEPRECATION_WARNINGS = False\n",
    "\n",
    "os.environ['KMP_DUPLICATE_LIB_OK']='True'"
   ]
  },
  {
   "cell_type": "markdown",
   "metadata": {},
   "source": [
    "## Utility scripts"
   ]
  },
  {
   "cell_type": "code",
   "execution_count": 2,
   "metadata": {},
   "outputs": [],
   "source": [
    "%run ../../src/layers/zoneout.py\n",
    "%run ../../src/layers/convgru.py\n",
    "%run ../../src/layers/adabound.py\n",
    "%run ../../src/layers/dropblock.py\n",
    "%run ../../src/layers/extra_layers.py\n",
    "%run ../../src/preprocessing/indices.py\n",
    "%run ../../src/preprocessing/slope.py\n",
    "%run ../../src/utils/metrics.py\n",
    "%run ../../src/not_for_release/lovasz.py"
   ]
  },
  {
   "cell_type": "markdown",
   "metadata": {},
   "source": [
    "# Hyperparameter definitions"
   ]
  },
  {
   "cell_type": "code",
   "execution_count": 3,
   "metadata": {},
   "outputs": [],
   "source": [
    "ZONE_OUT_PROB = 0.20 #0.2 for master model\n",
    "GRU_FILTERS = 32\n",
    "FPA_FILTERS = 28\n",
    "OUT_FILTERS = 32\n",
    "AVERAGE_GRU_FILTERS = True\n",
    "ACTIVATION_FUNCTION = 'relu'\n",
    "\n",
    "INITIAL_LR = 1e-4\n",
    "FINAL_LR = 2e-2\n",
    "DROPBLOCK_MAXSIZE = 5\n",
    "DECONV = 'bilinear'\n",
    "N_CONV_BLOCKS = 1\n",
    "FINAL_ALPHA = 0.7\n",
    "LABEL_SMOOTHING = 0.10 #0.075 for master\n",
    "BATCH_RENORM = 'norm'\n",
    "\n",
    "L2_REG = 0.0\n",
    "BN_MOMENTUM = 0.9\n",
    "BATCH_SIZE = 16\n",
    "MAX_DROPBLOCK = 0.85\n",
    "\n",
    "gru_flt = 32\n",
    "fpa_flt = 32\n",
    "out_conv_flt = 32\n",
    "\n",
    "IMAGE_SIZE = 16\n",
    "LABEL_SIZE = 14"
   ]
  },
  {
   "cell_type": "markdown",
   "metadata": {},
   "source": [
    "# Hyperparameter grid search definitions"
   ]
  },
  {
   "cell_type": "code",
   "execution_count": 4,
   "metadata": {},
   "outputs": [],
   "source": [
    "# There are 3.8 million combinations of hyperparameters\n",
    "params = {\n",
    "    'zone_out' : [0],#range(0, 0.5, 0.1), #6\n",
    "    'gru_filters': [0], #range(16, 64, 8), #6\n",
    "    'fpa_filters': [0], #range(24, 48, 4), # 6\n",
    "    'out_conv_filter': range(16, 64, 16), # 5\n",
    "    'average_gru_filters': [True, False], # 2\n",
    "    'activation_function': ['relu', 'selu', 'elu'], # relu > elu ? selu\n",
    "    'final_lr': [5e-3, 1e-2, 2e-2, 5e-2], # 4\n",
    "    'dropblock_maxsize': [7, 6, 5, 4, 3], # 5\n",
    "    'deconv': ['bilinear', 'convtranspose2d'], # 2\n",
    "    'n_conv_blocks': [3, 2, 1], # 3\n",
    "    'final_alpha': [0.8, 0.75, 0.7, 0.65, 0.6], #5\n",
    "    'label_smoothing': [0., 0.025, 0.05, 0.075, 0.10, 0.125],\n",
    "    'batch_renorm': ['renorm', 'norm']\n",
    "}"
   ]
  },
  {
   "cell_type": "markdown",
   "metadata": {},
   "source": [
    "# Custom layer definitions"
   ]
  },
  {
   "cell_type": "markdown",
   "metadata": {},
   "source": [
    "### Utility blocks (Batch norm, cSSE, etc.)"
   ]
  },
  {
   "cell_type": "code",
   "execution_count": 5,
   "metadata": {},
   "outputs": [],
   "source": [
    "def Batch_Normalization(x, training, scope, clipping_params):\n",
    "    '''Batch renormalization layer from tensorflow.layers\n",
    "\n",
    "         Parameters:\n",
    "          x (tf.Variable): input layer\n",
    "          training (tf.Variable): flag to differentiate between train/test ops\n",
    "          scope (str): tensorflow scope\n",
    "          clipping_params (dict): specifies clipping of \n",
    "                                  rmax, dmax, rmin for renormalization\n",
    "\n",
    "         Returns:\n",
    "          x (tf.Variable): output of batch renormalization\n",
    "          \n",
    "         References:\n",
    "          https://github.com/tensorflow/docs/blob/r1.13/site/en/\n",
    "          api_docs/python/tf/layers/batch_normalization.md\n",
    "    '''\n",
    "    return batch_normalization(inputs=x, \n",
    "                               momentum = BN_MOMENTUM, \n",
    "                               training=training,\n",
    "                               renorm = True,\n",
    "                               reuse=None,\n",
    "                               renorm_clipping = clipping_params,\n",
    "                               name = scope)\n",
    "\n",
    "\n",
    "def calc_renorm_params(epoch, n_samples, batch_size, k = 0):\n",
    "    '''Calculates the clipping parameters for renormalization\n",
    "       based on the learning schedule outlined in the original paper\n",
    "       where rmax is initialized to 1, dmax to 0, rmin to 0,\n",
    "       (effectively batch normalization), and then rmax and dmax\n",
    "       are gradually reaxed to 3 and 5 over 40k and 25k steps,\n",
    "       respectively. In this case, 40k has been reduced to 30k, and 25k\n",
    "       has been reduced to 20k.\n",
    "\n",
    "         Parameters:\n",
    "          epoch (int): number of current training epoch\n",
    "                       if testing, epoch number of model used\n",
    "          n_samples (int): total number of training samples\n",
    "          batch_size (int): training batch size \n",
    "\n",
    "         Returns:\n",
    "          rmax (float)\n",
    "          dmax (float)\n",
    "          rmin (float)\n",
    "    '''\n",
    "    step = epoch * (n_samples // batch_size)\n",
    "    step += k\n",
    "    if step < 2500:\n",
    "        rmax = 1.\n",
    "        dmax = 0.\n",
    "        rmin = 0.\n",
    "    if step >= 2500:\n",
    "        rmax = np.min([1 + 2*((step-2500)/20000), 3])\n",
    "        dmax = np.min([1 + 5*((step-2500)/15000), 5])\n",
    "        rmin = 0.\n",
    "    return rmax, dmax, rmin\n",
    "\n",
    "def cse_block(prevlayer, prefix):\n",
    "    '''Channel excitation and spatial squeeze layer. \n",
    "       Calculates the mean of the spatial dimensions and then learns\n",
    "       two dense layers, one with relu, and one with sigmoid, to rerank the\n",
    "       input channels\n",
    "       \n",
    "         Parameters:\n",
    "          prevlayer (tf.Variable): input layer\n",
    "          prefix (str): prefix for tensorflow scope\n",
    "\n",
    "         Returns:\n",
    "          x (tf.Variable): output of the cse_block\n",
    "    '''\n",
    "    mean = Lambda(lambda xin: K.mean(xin, axis=[1, 2]))(prevlayer)\n",
    "    lin1 = Dense(K.int_shape(prevlayer)[3] // 2, name=prefix + 'cse_lin1', activation='relu')(mean)\n",
    "    lin2 = Dense(K.int_shape(prevlayer)[3], name=prefix + 'cse_lin2', activation='sigmoid')(lin1)\n",
    "    x = Multiply()([prevlayer, lin2])\n",
    "    return x\n",
    "\n",
    "\n",
    "def sse_block(prevlayer, prefix):\n",
    "    '''Spatial excitation and channel squeeze layer.\n",
    "       Calculates a 1x1 convolution with sigmoid activation to create a \n",
    "       spatial map that is multiplied by the input layer\n",
    "\n",
    "         Parameters:\n",
    "          prevlayer (tf.Variable): input layer\n",
    "          prefix (str): prefix for tensorflow scope\n",
    "\n",
    "         Returns:\n",
    "          x (tf.Variable): output of the sse_block\n",
    "    '''\n",
    "    conv = Conv2D(1, (1, 1), padding=\"same\", kernel_initializer=\"glorot_uniform\",\n",
    "                  activation='sigmoid', strides=(1, 1),\n",
    "                  name=prefix + \"_conv\")(prevlayer)\n",
    "    conv = Multiply(name=prefix + \"_mul\")([prevlayer, conv])\n",
    "    return conv\n",
    "\n",
    "\n",
    "def csse_block(x, prefix):\n",
    "    '''Implementation of Concurrent Spatial and Channel \n",
    "       ‘Squeeze & Excitation’ in Fully Convolutional Networks\n",
    "    \n",
    "        Parameters:\n",
    "          prevlayer (tf.Variable): input layer\n",
    "          prefix (str): prefix for tensorflow scope\n",
    "\n",
    "         Returns:\n",
    "          x (tf.Variable): added output of cse and sse block\n",
    "          \n",
    "         References:\n",
    "          https://arxiv.org/abs/1803.02579\n",
    "    '''\n",
    "    cse = cse_block(x, prefix)\n",
    "    sse = sse_block(x, prefix)\n",
    "    x = Add(name=prefix + \"_csse_mul\")([cse, sse])\n",
    "\n",
    "    return x\n",
    "\n",
    "class ReflectionPadding2D(Layer):\n",
    "    def __init__(self, padding=(1, 1), **kwargs):\n",
    "        self.padding = tuple(padding)\n",
    "        self.input_spec = [InputSpec(ndim=4)]\n",
    "        super(ReflectionPadding2D, self).__init__(**kwargs)\n",
    "\n",
    "    def compute_output_shape(self, s):\n",
    "        \"\"\" If you are using \"channels_last\" configuration\"\"\"\n",
    "        return (s[0], s[1] + 2 * self.padding[0], s[2] + 2 * self.padding[1], s[3])\n",
    "\n",
    "    def call(self, x, mask=None):\n",
    "        w_pad,h_pad = self.padding\n",
    "        return tf.pad(x, [[0,0], [h_pad,h_pad], [w_pad,w_pad], [0,0] ], 'REFLECT')"
   ]
  },
  {
   "cell_type": "markdown",
   "metadata": {},
   "source": [
    "### Conv GRU Block"
   ]
  },
  {
   "cell_type": "code",
   "execution_count": 6,
   "metadata": {},
   "outputs": [],
   "source": [
    "def gru_block(inp, length, size, flt, scope, train, normalize = True):\n",
    "    '''Bidirectional convolutional GRU block with \n",
    "       zoneout and CSSE blocks in each time step\n",
    "\n",
    "         Parameters:\n",
    "          inp (tf.Variable): (B, T, H, W, C) layer\n",
    "          length (tf.Variable): (B, T) layer denoting number of\n",
    "                                steps per sample\n",
    "          size (int): kernel size of convolution\n",
    "          flt (int): number of convolution filters\n",
    "          scope (str): tensorflow variable scope\n",
    "          train (tf.Bool): flag to differentiate between train/test ops\n",
    "          normalize (bool): whether to compute layer normalization\n",
    "\n",
    "         Returns:\n",
    "          gru (tf.Variable): (B, H, W, flt*2) bi-gru output\n",
    "          steps (tf.Variable): (B, T, H, W, flt*2) output of each step\n",
    "    '''\n",
    "    with tf.variable_scope(scope):\n",
    "        print(\"GRU input shape {}, zoneout: {}\".format(inp.shape, ZONE_OUT_PROB))\n",
    "        cell_fw = ConvGRUCell(shape = size, filters = flt,\n",
    "                           kernel = [3, 3], padding = 'VALID', normalize = normalize, sse = True)\n",
    "        cell_bw = ConvGRUCell(shape = size, filters = flt,\n",
    "                           kernel = [3, 3], padding = 'VALID', normalize = normalize, sse = True)\n",
    "        cell_fw = ZoneoutWrapper(\n",
    "           cell_fw, zoneout_drop_prob = ZONE_OUT_PROB, is_training = train)\n",
    "        cell_bw = ZoneoutWrapper(\n",
    "            cell_bw, zoneout_drop_prob = ZONE_OUT_PROB, is_training = train)\n",
    "        steps, out = convGRU(inp, cell_fw, cell_bw, length)\n",
    "        gru = tf.concat(out, axis = -1)\n",
    "        steps = tf.concat(steps, axis = -1)\n",
    "        print(\"Down block output shape {}\".format(gru.shape))\n",
    "    return gru, steps"
   ]
  },
  {
   "cell_type": "markdown",
   "metadata": {},
   "source": [
    "### Conv blocks"
   ]
  },
  {
   "cell_type": "code",
   "execution_count": 7,
   "metadata": {},
   "outputs": [],
   "source": [
    "def conv_selu(inp, is_training, kernel_size, scope,\n",
    "                filter_count = 16, pad = True, padding = 'valid', dilated = False,\n",
    "                activation = True):\n",
    "    '''Convolutional 2D layer with SELU activation and Lecun normal initialization\n",
    "       with no batch norm. Only used if params['activation'] = 'selu'\n",
    "\n",
    "         Parameters:\n",
    "          inp (tf.Variable): (B, H, W, C) input layer\n",
    "          is_training (str): flag to differentiate between train/test ops\n",
    "          kernel_size (int): kernel size of convolution\n",
    "          scope (str): tensorflow variable scope\n",
    "          filter_count (int): number of convolution filters\n",
    "          pad (bool): whether or not to reflect pad input\n",
    "          padding (str): one of ['valid', 'same']\n",
    "          dilated (bool): whether to perform atruous convolution\n",
    "          activation (bool): whether to activate output\n",
    "\n",
    "         Returns:\n",
    "          conv (tf.Variable): output of Conv2D -> SELU\n",
    "          \n",
    "         References:\n",
    "          https://arxiv.org/abs/1706.02515\n",
    "    '''\n",
    "    if activation:\n",
    "        act = selu\n",
    "    else:\n",
    "        act = None\n",
    "    if not dilated:\n",
    "        padded = ReflectionPadding2D((1, 1,))(inp)\n",
    "        conv = Conv2D(filters = filter_count, kernel_size = (kernel_size, kernel_size), activation = act,\n",
    "                        padding = padding, kernel_initializer = lecun_normal())(padded)\n",
    "    if not dilated and not pad:\n",
    "        conv = Conv2D(filters = filter_count, kernel_size = (kernel_size, kernel_size), activation = act,\n",
    "                        padding = padding, kernel_initializer = lecun_normal())(inp)\n",
    "    if dilated:\n",
    "        padded = ReflectionPadding2D((2, 2,))(inp)\n",
    "        conv = Conv2D(filters = filter_count, kernel_size = (3, 3), activation = act, dilation_rate = (2, 2),\n",
    "                        padding = padding, kernel_initializer = lecun_normal())(padded)\n",
    "    return conv\n",
    "\n",
    "def conv_bn_relu(inp, \n",
    "                 is_training, \n",
    "                 kernel_size,\n",
    "                 scope,\n",
    "                 filters, \n",
    "                 clipping_params,\n",
    "                 keep_rate,\n",
    "                 stride = (1, 1),\n",
    "                 activation = True,\n",
    "                 use_bias = False,\n",
    "                 batch_norm = True,\n",
    "                 dropblock = True,\n",
    "                 csse = True):\n",
    "    '''2D convolution, batch renorm, relu block, 3x3 drop block. \n",
    "       Use_bias must be set to False for batch normalization to work. \n",
    "       He normal initialization is used with batch normalization.\n",
    "       RELU is better applied after the batch norm.\n",
    "       DropBlock performs best when applied last, according to original paper.\n",
    "\n",
    "         Parameters:\n",
    "          inp (tf.Variable): input layer\n",
    "          is_training (str): flag to differentiate between train/test ops\n",
    "          kernel_size (int): size of convolution\n",
    "          scope (str): tensorflow variable scope\n",
    "          filters (int): number of filters for convolution\n",
    "          clipping_params (dict): specifies clipping of \n",
    "                                  rmax, dmax, rmin for renormalization\n",
    "          activation (bool): whether to apply RELU\n",
    "          use_bias (str): whether to use bias. Should always be false\n",
    "\n",
    "         Returns:\n",
    "          bn (tf.Variable): output of Conv2D -> Batch Norm -> RELU\n",
    "        \n",
    "         References:\n",
    "          http://papers.nips.cc/paper/8271-dropblock-a-regularization-\n",
    "              method-for-convolutional-networks.pdf\n",
    "          https://arxiv.org/abs/1702.03275\n",
    "          \n",
    "    '''\n",
    "    \n",
    "    bn_flag = \"Batch Renorm\" if batch_norm else \"\"\n",
    "    activation_flag = \"RELU\" if activation else \"Linear\"\n",
    "    csse_flag = \"CSSE\" if csse else \"No CSSE\"\n",
    "    bias_flag = \"Bias\" if use_bias else \"NoBias\"\n",
    "    drop_flag = \"DropBlock\" if dropblock else \"NoDrop\"\n",
    "        \n",
    "    \n",
    "    print(\"{} {} Conv 2D {} {} {} {} {}\".format(scope, kernel_size,\n",
    "                                                   bn_flag, activation_flag,\n",
    "                                                   csse_flag, bias_flag, drop_flag))\n",
    "    \n",
    "    with tf.variable_scope(scope + \"_conv\"):\n",
    "        conv = Conv2D(filters = filters, kernel_size = (kernel_size, kernel_size),  strides = stride,\n",
    "                      activation = None, padding = 'valid', use_bias = use_bias,\n",
    "                      kernel_initializer = tf.keras.initializers.he_normal())(inp)\n",
    "    if batch_norm:\n",
    "        conv = Batch_Normalization(conv, is_training, scope, clipping_params)\n",
    "    if activation:\n",
    "        conv = tf.nn.relu(conv)\n",
    "    if csse:\n",
    "        conv = csse_block(conv, 'csse_' + scope)\n",
    "    if dropblock: \n",
    "        with tf.variable_scope(scope + \"_drop\"):\n",
    "            drop_block = DropBlock2D(keep_prob=keep_rate, block_size=4)\n",
    "            conv = drop_block(conv, is_training)\n",
    "    return conv\n",
    "\n",
    "\n",
    "def create_deconv_init(filter_size, num_channels):\n",
    "    '''Initializes a kernel weight matrix with a bilinear deconvolution\n",
    "    \n",
    "         Parameters:\n",
    "          filter_size (int): kernel size of convolution\n",
    "          num_channels (int): number of filters for convolution\n",
    "\n",
    "         Returns:\n",
    "          bilinear_init (tf.Variable): [filter_size, filter_size, num_channels] kernel\n",
    "    '''\n",
    "    bilinear_kernel = np.zeros([filter_size, filter_size], dtype=np.float32)\n",
    "    scale_factor = (filter_size + 1) // 2\n",
    "    if filter_size % 2 == 1:\n",
    "        center = scale_factor - 1\n",
    "    else:\n",
    "        center = scale_factor - 0.5\n",
    "    for x in range(filter_size):\n",
    "        for y in range(filter_size):\n",
    "            bilinear_kernel[x,y] = (1 - abs(x - center) / scale_factor) * \\\n",
    "                                   (1 - abs(y - center) / scale_factor)\n",
    "    weights = np.zeros((filter_size, filter_size, num_channels, num_channels))\n",
    "    for i in range(num_channels):\n",
    "        weights[:, :, i, i] = bilinear_kernel\n",
    "\n",
    "    #assign numpy array to constant_initalizer and pass to get_variable\n",
    "    bilinear_init = tf.constant_initializer(value=weights, dtype=tf.float32)\n",
    "    return bilinear_init\n",
    "\n",
    "def get_deconv2d(inp, filter_count, num_channels, scope, is_training, clipping_params):\n",
    "    '''Creates a deconvolution layer with Conv2DTranspose. Following recent\n",
    "       recommendations to use 4 kernel, 2 stride to avoid artifacts. \n",
    "       Initialize kernel with bilinear upsampling.\n",
    "\n",
    "         Parameters:\n",
    "          inp (tf.Variable): input tensorflow layer (B, X, Y, C) shape\n",
    "          filter_count (int): number of filters for convolution\n",
    "          num_channels (int): number of output channels\n",
    "          scope (str): tensorflow variable scope\n",
    "          is_training (str): flag to differentiate between train/test ops\n",
    "          clipping_params (dict): specifies clipping of \n",
    "                                  rmax, dmax, rmin for renormalization\n",
    "\n",
    "         Returns:\n",
    "          x (tf.Variable): layer with (B, x * 2, y * 2, C) shape\n",
    "          \n",
    "         References:\n",
    "          https://distill.pub/2016/deconv-checkerboard/\n",
    "    '''\n",
    "    bilinear_init = create_deconv_init(4, filter_count)\n",
    "    x = tf.keras.layers.Conv2DTranspose(filters = filter_count, kernel_size = (4, 4),\n",
    "                                        strides=(2, 2), padding='same', \n",
    "                                        use_bias = False,\n",
    "                                        kernel_initializer = bilinear_init)(inp)\n",
    "    #x = ELU()(x)\n",
    "    #x = tf.nn.relu(x)\n",
    "    x = Batch_Normalization(x, training=is_training, scope = scope + \"bn\", clipping_params = clipping_params)\n",
    "    return x\n",
    "    \n",
    "def fpa(inp, is_training, filter_count, clipping_params, \n",
    "        keep_rate, upsample = \"upconv\"):\n",
    "    '''Feature pyramid attention layer block, that allows for cross-scale combination\n",
    "       of different size features without making blurry feature maps.\n",
    "\n",
    "         Parameters:\n",
    "          inp (tf.Variable): input tensorflow layer\n",
    "          is_training (str): flag to differentiate between train/test ops\n",
    "          filter_count (int): number of filters for convolution\n",
    "          clipping_params (dict): specifies clipping of \n",
    "                                  rmax, dmax, rmin for renormalization\n",
    "\n",
    "         Returns:\n",
    "          concat_1 (tf.Variable): output of FPA\n",
    "          \n",
    "         References:\n",
    "          https://arxiv.org/abs/1805.10180\n",
    "    '''\n",
    "    one = conv_bn_relu(inp = inp, is_training = is_training, \n",
    "                       kernel_size = 1, scope =  'forward1',\n",
    "                       filters = filter_count, clipping_params = clipping_params,\n",
    "                       keep_rate = keep_rate, activation = False,\n",
    "                       use_bias = False, batch_norm = True,\n",
    "                       dropblock = False,\n",
    "                       csse = False)\n",
    "    \n",
    "    seven = conv_bn_relu(inp = inp_pad, is_training = is_training, \n",
    "                       kernel_size = 7, scope =  'down1',\n",
    "                       filters = filter_count, clipping_params = clipping_params,\n",
    "                       keep_rate = keep_rate, activation = True,\n",
    "                       use_bias = False, batch_norm = True, csse = True, dropblock = False)\n",
    "    \n",
    "    seven_f = conv_bn_relu(inp = seven, is_training = is_training, \n",
    "                       kernel_size = 7, scope =  'down1_f',\n",
    "                       filters = filter_count, clipping_params = clipping_params,\n",
    "                       keep_rate = keep_rate, activation = False,\n",
    "                       use_bias = False, batch_norm = True, csse = False, dropblock = False)\n",
    "    \n",
    "    five = conv_bn_relu(inp = seven, is_training = is_training, \n",
    "                       kernel_size = 5, scope =  'down2',\n",
    "                       filters = filter_count, clipping_params = clipping_params,\n",
    "                       keep_rate = keep_rate, activation = True,\n",
    "                       use_bias = False, batch_norm = True, csse = True, dropblock = False)\n",
    "    \n",
    "    five_f = conv_bn_relu(inp = five, is_training = is_training, \n",
    "                       kernel_size = 5, scope =  'down2_f',\n",
    "                       filters = filter_count, clipping_params = clipping_params,\n",
    "                       keep_rate = keep_rate, activation = False,\n",
    "                       use_bias = False, batch_norm = True, csse = False, dropblock = False)\n",
    "    \n",
    "    three = conv_bn_relu(inp = five, is_training = is_training, \n",
    "                       kernel_size = 3, scope =  'down3',\n",
    "                       filters = filter_count, clipping_params = clipping_params,\n",
    "                       keep_rate = keep_rate, activation = True,\n",
    "                       use_bias = False, batch_norm = True, csse = True, dropblock = False)\n",
    "    \n",
    "    three_f = conv_bn_relu(inp = three, is_training = is_training, \n",
    "                       kernel_size = 3, scope =  'down3_f', stride = (2, 2),\n",
    "                       filters = filter_count, clipping_params = clipping_params,\n",
    "                       keep_rate = keep_rate, activation = False,\n",
    "                       use_bias = False, batch_norm = True, csse = True, dropblock = False)\n",
    "        \n",
    "    \n",
    "    if upsample == 'upconv' or 'bilinear':\n",
    "        three_up = tf.keras.layers.UpSampling2D((2, 2), interpolation = 'bilinear')(three_f)\n",
    "        if upsample == 'upconv':\n",
    "            three_up = ReflectionPadding2D((1, 1,))(three_up)\n",
    "            three_up = conv_bn_relu(inp = three_up, is_training = is_training, \n",
    "                       kernel_size = 3, scope =  'upconv1',\n",
    "                       filters = filter_count, clipping_params = clipping_params,\n",
    "                       keep_rate = keep_rate, activation = True,\n",
    "                       use_bias = False, batch_norm = True,\n",
    "                       csse = False, dropblock = False)\n",
    "            \n",
    "            # 4x4\n",
    "            three_up = tf.nn.relu(tf.add(three_up, five_f))\n",
    "            \n",
    "    \n",
    "    if upsample == 'upconv' or \"bilinear\":\n",
    "        five_up = tf.keras.layers.UpSampling2D((2, 2), interpolation = 'bilinear')(three_up)\n",
    "        if upsample == 'upconv':\n",
    "            five_up = ReflectionPadding2D((1, 1,))(five_up)\n",
    "            five_up = conv_bn_relu(inp = five_up, is_training = is_training, \n",
    "                       kernel_size = 3, scope =  'upconv2',\n",
    "                       filters = filter_count, clipping_params = clipping_params,\n",
    "                       keep_rate = keep_rate, activation = True,\n",
    "                       use_bias = False, batch_norm = True, \n",
    "                       csse = False, dropblock = False)\n",
    "            five_up = tf.nn.relu(tf.add(five_up, seven_f))\n",
    "            \n",
    "    if upsample == 'upconv' or \"bilinear\":\n",
    "        seven_up = tf.keras.layers.UpSampling2D((2, 2), interpolation = 'bilinear')(five_up)\n",
    "        if upsample == 'upconv':\n",
    "            seven_up = ReflectionPadding2D((1, 1,))(seven_up)\n",
    "            seven_up = conv_bn_relu(inp = seven_up, is_training = is_training, \n",
    "                       kernel_size = 3, scope =  'upconv3',\n",
    "                       filters = filter_count, clipping_params = clipping_params,\n",
    "                       keep_rate = keep_rate, activation = True,\n",
    "                       use_bias = False, batch_norm = True, \n",
    "                       csse = False, dropblock = False)\n",
    "            \n",
    "            \n",
    "            \n",
    "\n",
    "    \n",
    "    print(\"One: {}\".format(one.shape))\n",
    "    print(\"Seven: {}\".format(seven.shape))\n",
    "    print(\"Seven f: {}\".format(seven_f.shape))\n",
    "    print(\"Five: {}\".format(five.shape))\n",
    "    print(\"Five_F: {}\".format(five_f.shape))\n",
    "    print(\"Three: {}\".format(three.shape))\n",
    "    print(\"Three_f: {}\".format(three_f.shape))\n",
    "    print(\"Three_up: {}\".format(three_up.shape))\n",
    "    print(\"Five_up: {}\".format(five_up.shape))\n",
    "    print(\"Seven_up: {}\".format(seven_up.shape))\n",
    "    \n",
    "    # top block\n",
    "\n",
    "    #pooled = tf.keras.layers.GlobalAveragePooling2D()(inp)\n",
    "    #one_top = conv_bn_relu(inp = tf.reshape(pooled, (-1, 1, 1, pooled.shape[-1])),\n",
    "    #                       is_training = is_training, \n",
    "    #                   kernel_size = 1, scope =  'topconv',\n",
    "    #                   filters = filter_count, clipping_params = clipping_params,\n",
    "    #                   keep_rate = keep_rate, activation = False,\n",
    "    #                   use_bias = False, batch_norm = True, \n",
    "    #                   csse = False, dropblock = False)\n",
    "    #one_top = conv_bn_relu(tf.reshape(pooled, (-1, 1, 1, pooled.shape[-1])),\n",
    "    ##                      is_training, 1, 'top1', filter_count, pad = False)\n",
    "    #four_top = tf.keras.layers.UpSampling2D((16, 16))(one_top)\n",
    "    \n",
    "    seven_up = tf.multiply(one, seven_up)\n",
    "    out = tf.nn.relu(seven_up + four_top)\n",
    "    return out\n"
   ]
  },
  {
   "cell_type": "code",
   "execution_count": 8,
   "metadata": {},
   "outputs": [],
   "source": [
    "def fpa(inp, is_training, filter_count, clipping_params, \n",
    "        keep_rate, upsample = \"upconv\"):\n",
    "    '''Feature pyramid attention layer block, that allows for cross-scale combination\n",
    "       of different size features without making blurry feature maps.\n",
    "\n",
    "         Parameters:\n",
    "          inp (tf.Variable): input tensorflow layer\n",
    "          is_training (str): flag to differentiate between train/test ops\n",
    "          filter_count (int): number of filters for convolution\n",
    "          clipping_params (dict): specifies clipping of \n",
    "                                  rmax, dmax, rmin for renormalization\n",
    "\n",
    "         Returns:\n",
    "          concat_1 (tf.Variable): output of FPA\n",
    "          \n",
    "         References:\n",
    "          https://arxiv.org/abs/1805.10180\n",
    "    '''\n",
    "    one = conv_bn_relu(inp = inp, is_training = is_training, \n",
    "                       kernel_size = 1, scope =  'forward1',\n",
    "                       filters = filter_count, clipping_params = clipping_params,\n",
    "                       keep_rate = keep_rate, activation = False,\n",
    "                       use_bias = False, batch_norm = True,\n",
    "                       dropblock = False,\n",
    "                       csse = False)\n",
    "    inp_pad = ReflectionPadding2D(padding = (2, 2))(inp)\n",
    "    seven = conv_bn_relu(inp = inp_pad, is_training = is_training, \n",
    "                       kernel_size = 5, scope =  'down1', stride = (2, 2),\n",
    "                       filters = filter_count, clipping_params = clipping_params,\n",
    "                       keep_rate = keep_rate, activation = True,\n",
    "                       use_bias = False, batch_norm = True, csse = False, dropblock = False)\n",
    "    seven_pad = ReflectionPadding2D(padding = (2, 2))(seven)\n",
    "    seven_f = conv_bn_relu(inp = seven_pad, is_training = is_training, \n",
    "                       kernel_size = 5, scope =  'down1_f',\n",
    "                       filters = filter_count, clipping_params = clipping_params,\n",
    "                       keep_rate = keep_rate, activation = False,\n",
    "                       use_bias = False, batch_norm = True, csse = False, dropblock = False)\n",
    "    \n",
    "    print(\"Seven: {}\".format(seven.shape))\n",
    "    print(\"Seven f: {}\".format(seven_f.shape))\n",
    "    \n",
    "    five_pad = ReflectionPadding2D(padding = (1, 1))(seven)\n",
    "    five = conv_bn_relu(inp = five_pad, is_training = is_training,  stride = (2, 2),\n",
    "                       kernel_size = 3, scope =  'down2',\n",
    "                       filters = filter_count, clipping_params = clipping_params,\n",
    "                       keep_rate = keep_rate, activation = True,\n",
    "                       use_bias = False, batch_norm = True, csse = False, dropblock = False)\n",
    "    \n",
    "    five_pad2 = ReflectionPadding2D(padding = (1, 1))(five)\n",
    "    five_f = conv_bn_relu(inp = five_pad2, is_training = is_training, \n",
    "                       kernel_size = 3, scope =  'down2_f',\n",
    "                       filters = filter_count, clipping_params = clipping_params,\n",
    "                       keep_rate = keep_rate, activation = False,\n",
    "                       use_bias = False, batch_norm = True, csse = False, dropblock = False)\n",
    "    print(\"Five: {}\".format(five.shape))\n",
    "    print(\"Five_F: {}\".format(five_f.shape))\n",
    "    '''\n",
    "    three_pad = ReflectionPadding2D(padding = (1, 1))(five)\n",
    "    three = conv_bn_relu(inp = three_pad, is_training = is_training,  stride = (2, 2),\n",
    "                       kernel_size = 3, scope =  'down3',\n",
    "                       filters = filter_count, clipping_params = clipping_params,\n",
    "                       keep_rate = keep_rate, activation = True,\n",
    "                       use_bias = False, batch_norm = True, csse = True, dropblock = False)\n",
    "    \n",
    "    three_pad2 = ReflectionPadding2D(padding = (1, 1))(three)\n",
    "    three_f = conv_bn_relu(inp = three_pad2, is_training = is_training, \n",
    "                       kernel_size = 3, scope =  'down3_f',\n",
    "                       filters = filter_count, clipping_params = clipping_params,\n",
    "                       keep_rate = keep_rate, activation = False,\n",
    "                       use_bias = False, batch_norm = True, csse = True, dropblock = False)\n",
    "        \n",
    "    \n",
    "    if upsample == 'upconv' or 'bilinear':\n",
    "        three_up = tf.keras.layers.UpSampling2D((2, 2), interpolation = 'bilinear')(three_f)\n",
    "        if upsample == 'upconv':\n",
    "            three_up = ReflectionPadding2D((1, 1,))(three_up)\n",
    "            three_up = conv_bn_relu(inp = three_up, is_training = is_training, \n",
    "                       kernel_size = 3, scope =  'upconv1',\n",
    "                       filters = filter_count, clipping_params = clipping_params,\n",
    "                       keep_rate = keep_rate, activation = True,\n",
    "                       use_bias = False, batch_norm = True,\n",
    "                       csse = False, dropblock = False)\n",
    "            \n",
    "            # 4x4\n",
    "            three_up = tf.nn.relu(tf.add(three_up, five_f))\n",
    "    '''        \n",
    "    \n",
    "    if upsample == 'upconv' or \"bilinear\":\n",
    "        five_up = tf.keras.layers.UpSampling2D((2, 2), interpolation = 'nearest')(five)\n",
    "        if upsample == 'upconv':\n",
    "            five_up = ReflectionPadding2D((1, 1,))(five_up)\n",
    "            five_up = conv_bn_relu(inp = five_up, is_training = is_training, \n",
    "                       kernel_size = 3, scope =  'upconv2',\n",
    "                       filters = filter_count, clipping_params = clipping_params,\n",
    "                       keep_rate = keep_rate, activation = True,\n",
    "                       use_bias = False, batch_norm = True, \n",
    "                       csse = False, dropblock = False)\n",
    "            five_up = tf.nn.relu(tf.add(five_up, seven_f))\n",
    "            \n",
    "    if upsample == 'upconv' or \"bilinear\":\n",
    "        seven_up = tf.keras.layers.UpSampling2D((2, 2), interpolation = 'nearest')(five_up)\n",
    "        if upsample == 'upconv':\n",
    "            seven_up = ReflectionPadding2D((1, 1,))(seven_up)\n",
    "            seven_up = conv_bn_relu(inp = seven_up, is_training = is_training, \n",
    "                       kernel_size = 3, scope =  'upconv3',\n",
    "                       filters = filter_count, clipping_params = clipping_params,\n",
    "                       keep_rate = keep_rate, activation = True,\n",
    "                       use_bias = False, batch_norm = True, \n",
    "                       csse = False, dropblock = False)\n",
    "            \n",
    "            \n",
    "            \n",
    "\n",
    "    \n",
    "    print(\"One: {}\".format(one.shape))\n",
    "    \n",
    "    \n",
    "   # print(\"Three: {}\".format(three.shape))\n",
    "    #print(\"Three_f: {}\".format(three_f.shape))\n",
    "    #print(\"Three_up: {}\".format(three_up.shape))\n",
    "    print(\"Five_up: {}\".format(five_up.shape))\n",
    "    print(\"Seven_up: {}\".format(seven_up.shape))\n",
    "    \n",
    "    # top block\n",
    "\n",
    "    #pooled = tf.keras.layers.GlobalAveragePooling2D()(inp)\n",
    "    #one_top = conv_bn_relu(inp = tf.reshape(pooled, (-1, 1, 1, pooled.shape[-1])),\n",
    "    #                       is_training = is_training, \n",
    "    #                   kernel_size = 1, scope =  'topconv',\n",
    "    #                   filters = filter_count, clipping_params = clipping_params,\n",
    "    #                   keep_rate = keep_rate, activation = False,\n",
    "    #                   use_bias = False, batch_norm = True, \n",
    "    #                   csse = False, dropblock = False)\n",
    "    #one_top = conv_bn_relu(tf.reshape(pooled, (-1, 1, 1, pooled.shape[-1])),\n",
    "    ##                      is_training, 1, 'top1', filter_count, pad = False)\n",
    "    #four_top = tf.keras.layers.UpSampling2D((16, 16))(one_top)\n",
    "    \n",
    "    #seven_up = tf.multiply(one, seven_up)\n",
    "    out = tf.nn.relu(tf.multiply(seven_up, one))\n",
    "    return out\n",
    "\n"
   ]
  },
  {
   "cell_type": "markdown",
   "metadata": {},
   "source": [
    "# Model definition\n",
    "\n",
    "## Placeholders"
   ]
  },
  {
   "cell_type": "code",
   "execution_count": 9,
   "metadata": {},
   "outputs": [],
   "source": [
    "n_bands = 16 # 16 for master model\n",
    "reg = keras.regularizers.l2(L2_REG) # for GRU\n",
    "inp = tf.placeholder(tf.float32, shape=(None, 24, IMAGE_SIZE, IMAGE_SIZE, n_bands))\n",
    "length = tf.placeholder(tf.int32, shape = (None, 1))\n",
    "labels = tf.placeholder(tf.float32, shape=(None, 14, 14))#, 1))\n",
    "keep_rate = tf.placeholder_with_default(1.0, ()) # For DropBlock\n",
    "length2 = tf.reshape(length, (-1,)) # Remove\n",
    "is_training = tf.placeholder_with_default(False, (), 'is_training') # For BN, DropBlock\n",
    "alpha = tf.placeholder(tf.float32, shape = ()) # For loss scheduling\n",
    "ft_lr = tf.placeholder_with_default(0.001, shape = ()) # For loss scheduling\n",
    "loss_weight = tf.placeholder_with_default(1.0, shape = ())\n",
    "beta_ = tf.placeholder_with_default(0.0, shape = ())\n",
    "\n",
    "planet_inp = tf.placeholder(tf.float32, shape = (None, 32, 32, 4))\n",
    "\n",
    "\n"
   ]
  },
  {
   "cell_type": "code",
   "execution_count": 10,
   "metadata": {},
   "outputs": [],
   "source": [
    "rmax = tf.placeholder(tf.float32, shape = ())\n",
    "rmin = tf.placeholder(tf.float32, shape = ())\n",
    "dmax = tf.placeholder(tf.float32, shape = ())\n",
    "\n",
    "clipping_params = {\n",
    "    'rmax': rmax,\n",
    "    'rmin': rmin,\n",
    "    'dmax': dmax\n",
    "}"
   ]
  },
  {
   "cell_type": "markdown",
   "metadata": {},
   "source": [
    "## Layers"
   ]
  },
  {
   "cell_type": "code",
   "execution_count": 11,
   "metadata": {},
   "outputs": [
    {
     "name": "stdout",
     "output_type": "stream",
     "text": [
      "GRU input shape (?, 24, 16, 16, 16), zoneout: 0.2\n",
      "(3, 3, 48, 64)\n",
      "(3, 3, 48, 64)\n",
      "Down block output shape (?, 16, 16, 64)\n",
      "planet1 3 Conv 2D Batch Renorm RELU CSSE NoBias NoDrop\n",
      "Planet interim (?, 32, 32, 32)\n",
      "planet2 3 Conv 2D Batch Renorm RELU CSSE NoBias NoDrop\n",
      "Planet out (?, 16, 16, 64)\n",
      "max1 (?, 8, 8, 128)\n",
      "down2 3 Conv 2D Batch Renorm RELU CSSE NoBias DropBlock\n",
      "down2 (?, 6, 6, 64)\n",
      "down2_f 3 Conv 2D Batch Renorm RELU CSSE NoBias DropBlock\n",
      "Down2_f (?, 4, 4, 64)\n",
      "up1 3 Conv 2D Batch Renorm RELU CSSE NoBias DropBlock\n",
      "up1 (?, 8, 8, 192)\n",
      "up2 3 Conv 2D Batch Renorm RELU CSSE NoBias DropBlock\n",
      "up2 (?, 16, 16, 192)\n",
      "outconv2 3 Conv 2D Batch Renorm RELU No CSSE NoBias NoDrop\n",
      "Finzl output shape:  (?, 14, 14, 32)\n",
      "Initializing last sigmoid bias with -2.94 constant\n"
     ]
    }
   ],
   "source": [
    "gru_out, steps = gru_block(inp = inp, length = length2, \n",
    "                            size = [16, 16], \n",
    "                            flt = gru_flt, \n",
    "                            scope = 'down_16', \n",
    "                            train = is_training)\n",
    "\n",
    "\n",
    "planet_pad = ReflectionPadding2D((1, 1,))(planet_inp)\n",
    "planet = conv_bn_relu(inp = planet_pad, is_training = is_training,  stride = (1, 1),\n",
    "                       kernel_size = 3, scope =  'planet1',\n",
    "                       filters = 32, clipping_params = clipping_params,\n",
    "                       keep_rate = keep_rate, activation = True,\n",
    "                       use_bias = False, batch_norm = True, csse = True, dropblock = False)\n",
    "print(\"Planet interim\", planet.shape)\n",
    "\n",
    "planet = ReflectionPadding2D((1, 1,))(planet)\n",
    "planet = conv_bn_relu(inp = planet, is_training = is_training,  stride = (1, 1),\n",
    "                       kernel_size = 3, scope =  'planet2',\n",
    "                       filters = 64, clipping_params = clipping_params,\n",
    "                       keep_rate = keep_rate, activation = True,\n",
    "                       use_bias = False, batch_norm = True, csse = True, dropblock = False)\n",
    "planet = MaxPool2D()(planet)\n",
    "print(\"Planet out\", planet.shape)\n",
    "\n",
    "\n",
    "\n",
    "#planet_pad = ReflectionPadding2D((1, 1,))(sentinel)\n",
    "#planet = conv_bn_relu(inp = planet_pad, is_training = is_training,  stride = (1, 1),\n",
    "##                       kernel_size = 3, scope =  'planet1',\n",
    " #                      filters = 32, clipping_params = clipping_params,\n",
    "#                       keep_rate = keep_rate, activation = True,\n",
    "#                       use_bias = False, batch_norm = True, csse = False, dropblock = False)\n",
    "\n",
    "csse1 = csse_block(gru_out, 'csse1')\n",
    "planet = tf.concat([planet, csse1], axis = -1)\n",
    "# Down block 1 (16 - 8)\n",
    "#gru_out_pad = ReflectionPadding2D((1, 1))(planet)\n",
    "#down1 = conv_bn_relu(inp = gru_out_pad, is_training = is_training, stride = (1, 1),\n",
    "#                    kernel_size = 3, scope = 'down1', filters = 64, clipping_params = clipping_params,\n",
    "#                    keep_rate = keep_rate, activation = True, use_bias = False, batch_norm = True,\n",
    "#                    csse = True, dropblock = True)\n",
    "#print(\"down1\", down1.shape)\n",
    "max1 = MaxPool2D()(planet)\n",
    "print(\"max1\", max1.shape)\n",
    "\n",
    "\n",
    "# Down block 2 (8 - 4)\n",
    "#max1pad = ReflectionPadding2D((1, 1))(max1)\n",
    "down2 = conv_bn_relu(inp = max1, is_training = is_training, stride = (1, 1),\n",
    "                    kernel_size = 3, scope = 'down2', filters = 64, clipping_params = clipping_params,\n",
    "                    keep_rate = keep_rate, activation = True, use_bias = False, batch_norm = True,\n",
    "                    csse = True, dropblock = True)\n",
    "print(\"down2\", down2.shape)\n",
    "down2_f = conv_bn_relu(inp = down2, is_training = is_training, stride = (1, 1),\n",
    "                    kernel_size = 3, scope = 'down2_f', filters = 64, clipping_params = clipping_params,\n",
    "                    keep_rate = keep_rate, activation = True, use_bias = False, batch_norm = True,\n",
    "                    csse = True, dropblock = True)\n",
    "print(\"Down2_f\", down2_f.shape)\n",
    "\n",
    "# Upblock 1 (4 - 8)\n",
    "up1 = tf.keras.layers.UpSampling2D((2, 2), interpolation = 'nearest')(down2_f)\n",
    "up1 = ReflectionPadding2D((1, 1,))(up1)\n",
    "up1 = conv_bn_relu(inp = up1, is_training = is_training, stride = (1, 1),\n",
    "                    kernel_size = 3, scope = 'up1', filters = 64, clipping_params = clipping_params,\n",
    "                    keep_rate = keep_rate, activation = True, use_bias = False, batch_norm = True,\n",
    "                    csse = True, dropblock = True)\n",
    "up1 = tf.concat([up1, max1], axis = -1)\n",
    "print(\"up1\", up1.shape)\n",
    "\n",
    "\n",
    "# Upblock2 (8 - 16)\n",
    "up2 = tf.keras.layers.UpSampling2D((2, 2), interpolation = 'nearest')(up1)\n",
    "up2 = ReflectionPadding2D((1, 1,))(up2)\n",
    "up2 = conv_bn_relu(inp = up2, is_training = is_training, stride = (1, 1),\n",
    "                    kernel_size = 3, scope = 'up2', filters = 64, clipping_params = clipping_params,\n",
    "                    keep_rate = keep_rate, activation = True, use_bias = False, batch_norm = True,\n",
    "                    csse = True, dropblock = True)\n",
    "up2 = tf.concat([up2, planet], axis = -1)\n",
    "print(\"up2\", up2.shape)\n",
    "\n",
    "\n",
    "x = conv_bn_relu(inp = up2, \n",
    "                 is_training = is_training,\n",
    "                 kernel_size = 3,\n",
    "                 scope = \"outconv2\", \n",
    "                 filters = out_conv_flt, \n",
    "                 clipping_params = clipping_params,\n",
    "                 activation = True,\n",
    "                 keep_rate = keep_rate, \n",
    "                 use_bias = False, dropblock = False,\n",
    "                 batch_norm = True, csse = False)\n",
    "print(\"Finzl output shape: \", x.shape)\n",
    "\n",
    "print(\"Initializing last sigmoid bias with -2.94 constant\")\n",
    "init = tf.constant_initializer([-np.log(0.7/0.3)]) # For focal loss\n",
    "fm = Conv2D(filters = 1,\n",
    "            kernel_size = (1, 1), \n",
    "            padding = 'valid',\n",
    "            activation = 'sigmoid',\n",
    "            bias_initializer = init,\n",
    "           )(x) # For focal loss"
   ]
  },
  {
   "cell_type": "code",
   "execution_count": 12,
   "metadata": {
    "scrolled": true
   },
   "outputs": [
    {
     "name": "stdout",
     "output_type": "stream",
     "text": [
      "This model has 443768 parameters\n"
     ]
    }
   ],
   "source": [
    "total_parameters = 0\n",
    "for variable in tf.trainable_variables():\n",
    "    shape = variable.get_shape()\n",
    "    variable_parameters = 1\n",
    "    for dim in shape:\n",
    "        variable_parameters *= dim.value\n",
    "    total_parameters += variable_parameters\n",
    "print(\"This model has {} parameters\".format(total_parameters))"
   ]
  },
  {
   "cell_type": "markdown",
   "metadata": {},
   "source": [
    "# Data loading\n",
    "\n",
    "*  Load in CSV data from Collect Earth\n",
    "*  Reconstruct the X, Y grid for the Y data per sample\n",
    "*  Calculate NDVI, EVI, SAVI, BI, MSAVI2, and SI\n",
    "*  Stack X, Y, length data\n",
    "*  Apply median filter to DEM"
   ]
  },
  {
   "cell_type": "code",
   "execution_count": 13,
   "metadata": {
    "scrolled": true
   },
   "outputs": [
    {
     "name": "stdout",
     "output_type": "stream",
     "text": [
      "(31, 24, 16, 16, 17)\n"
     ]
    }
   ],
   "source": [
    "train_x = np.load(\"data/train_x.npy\")\n",
    "train_y = np.load(\"data/train_y.npy\")\n",
    "train_p = np.load(\"data/train_planet.npy\")\n",
    "print(train_x.shape)\n",
    "train_x = np.delete(train_x, 14, -1) # test not deleting the SI inde"
   ]
  },
  {
   "cell_type": "code",
   "execution_count": 14,
   "metadata": {},
   "outputs": [
    {
     "data": {
      "text/plain": [
       "<matplotlib.axes._subplots.AxesSubplot at 0x1c38b5a518>"
      ]
     },
     "execution_count": 14,
     "metadata": {},
     "output_type": "execute_result"
    },
    {
     "data": {
      "image/png": "[encoded data removed]",
      "text/plain": [
       "<Figure size 432x288 with 2 Axes>"
      ]
     },
     "metadata": {
      "needs_background": "light"
     },
     "output_type": "display_data"
    }
   ],
   "source": [
    "\n",
    "sns.heatmap(train_x[22, 23, :, :, 1])"
   ]
  },
  {
   "cell_type": "code",
   "execution_count": 15,
   "metadata": {},
   "outputs": [
    {
     "data": {
      "application/vnd.jupyter.widget-view+json": {
       "model_id": "e8d44785a7684b0aab61ee54590ccb94",
       "version_major": 2,
       "version_minor": 0
      },
      "text/plain": [
       "HBox(children=(IntProgress(value=0, max=31), HTML(value='')))"
      ]
     },
     "metadata": {},
     "output_type": "display_data"
    },
    {
     "name": "stdout",
     "output_type": "stream",
     "text": [
      "\n",
      "(31, 24, 16, 16, 16)\n"
     ]
    }
   ],
   "source": [
    "holdout_for_vis = np.copy(train_x[12, 0, :, :, 10])\n",
    "for sample in tnrange(0, len(train_x)):\n",
    "    filtered = median_filter(train_x[sample, 0, :, :, 10], size = 5)\n",
    "    filtered = np.reshape(filtered, (8, 2, 8, 2))\n",
    "    filtered = np.mean(filtered, axis = (1, 3))\n",
    "    filtered = resize(filtered, (16, 16), 0)\n",
    "    train_x[sample, :, :, :, 10] = np.stack([filtered] * 24)\n",
    "    \n",
    "print(train_x.shape)"
   ]
  },
  {
   "cell_type": "code",
   "execution_count": 16,
   "metadata": {},
   "outputs": [
    {
     "data": {
      "text/plain": [
       "<matplotlib.axes._subplots.AxesSubplot at 0x1c3d83c390>"
      ]
     },
     "execution_count": 16,
     "metadata": {},
     "output_type": "execute_result"
    },
    {
     "data": {
      "image/png": "[encoded data removed]",
      "text/plain": [
       "<Figure size 432x288 with 2 Axes>"
      ]
     },
     "metadata": {
      "needs_background": "light"
     },
     "output_type": "display_data"
    }
   ],
   "source": [
    "sns.heatmap(train_x[12, 0, :, :, 10], vmax = 0.45)"
   ]
  },
  {
   "cell_type": "markdown",
   "metadata": {},
   "source": [
    "# Data preprocessing\n",
    "\n",
    "*  Identify and remove samples with time steps / channels that have a 0. or 1. value, which indicates missing data\n",
    "*  Identify and remove samples with time steps / channels with no variation, which indicates missing data\n",
    "*  Identify and remove samples with values above or below the allowable values for the band\n",
    "*  Identify and remove samples with null data, or samples with extreme band 0 data (which squash all the \"clean\" samples)\n",
    "*  Smooth per-pixel temporal data with Whittaker smoother, d = 2, lambda = 0.5 to reduce sample noise"
   ]
  },
  {
   "cell_type": "markdown",
   "metadata": {},
   "source": [
    "## Temporal Smoothing"
   ]
  },
  {
   "cell_type": "code",
   "execution_count": 17,
   "metadata": {},
   "outputs": [
    {
     "data": {
      "application/vnd.jupyter.widget-view+json": {
       "model_id": "f560771d1a354707b2224a49fec9ba60",
       "version_major": 2,
       "version_minor": 0
      },
      "text/plain": [
       "HBox(children=(IntProgress(value=0, max=16), HTML(value='')))"
      ]
     },
     "metadata": {},
     "output_type": "display_data"
    },
    {
     "name": "stdout",
     "output_type": "stream",
     "text": [
      "\n",
      "The data has been scaled to [-1.0000000000000002, 1.0000000000000002]\n",
      "[0.033264634368168455, 0.0578297659281701, 0.04094592089560773, 0.17692151507994025, 0.09536655030657168, 0.15204753396281429, 0.17094722934239565, 0.1914782726081256, 0.18414555061648635, 0.09810529944526183, 0.01986273394690619, 0.05280053684286208, 0.08800832204227921, 0.054260039692250836, 0.01763378347447929, 0.0005951018539711605] [0.1564470286465002, 0.22339705422942807, 0.30782785896876264, 0.39095425459179356, 0.3574650450799909, 0.37792678686102144, 0.4056582355957489, 0.42237703311755054, 0.5533367276034993, 0.5103324495456147, 0.17551151911417642, 0.5504685516849501, 0.4454872485852108, 0.4873834305874484, 0.47820416571297764, 0.1207751583123522]\n"
     ]
    }
   ],
   "source": [
    "\n",
    "min_all = []\n",
    "max_all = []\n",
    "\n",
    "\n",
    "for band in tnrange(0, train_x.shape[-1]):\n",
    "    mins = np.percentile(train_x[:, :, :, :, band], 1)\n",
    "    maxs = np.percentile(train_x[:, :, :, :, band], 99)\n",
    "    #mins = min_all[band]\n",
    "    #maxs = max_all[band]\n",
    "    #print(mins1 - mins, maxs1 - maxs)\n",
    "    train_x[:, :, :, :, band] = np.clip(train_x[:, :, :, :, band], mins, maxs)\n",
    "    midrange = (maxs + mins) / 2\n",
    "    rng = maxs - mins\n",
    "    standardized = (train_x[:, :, :, :, band] - midrange) / (rng / 2)\n",
    "    train_x[:, :, :, :, band] = standardized\n",
    "    \n",
    "    min_all.append(mins)\n",
    "    max_all.append(maxs)\n",
    "    \n",
    "print(\"The data has been scaled to [{}, {}]\".format(np.min(train_x), np.max(train_x)))\n",
    "print(min_all, max_all)"
   ]
  },
  {
   "cell_type": "markdown",
   "metadata": {},
   "source": [
    "# Normalization of planet data"
   ]
  },
  {
   "cell_type": "code",
   "execution_count": 18,
   "metadata": {},
   "outputs": [
    {
     "data": {
      "application/vnd.jupyter.widget-view+json": {
       "model_id": "9fdeed7e67f446d19d3d55b66c8f9a4a",
       "version_major": 2,
       "version_minor": 0
      },
      "text/plain": [
       "HBox(children=(IntProgress(value=0, max=4), HTML(value='')))"
      ]
     },
     "metadata": {},
     "output_type": "display_data"
    },
    {
     "name": "stdout",
     "output_type": "stream",
     "text": [
      "\n",
      "The data has been scaled to [-1.0000000000000002, 1.0]\n",
      "[219.0, 577.0, 584.0, 2357.43] [1065.0, 1587.0, 2079.0, 3936.0]\n"
     ]
    }
   ],
   "source": [
    "min_p = []\n",
    "max_p = []\n",
    "\n",
    "\n",
    "for band in tnrange(0, train_p.shape[-1]):\n",
    "    mins = np.percentile(train_p[..., band], 1)\n",
    "    maxs = np.percentile(train_p[..., band], 99)\n",
    "    train_p[..., band] = np.clip(train_p[..., band], mins, maxs)\n",
    "    midrange = (maxs + mins) / 2\n",
    "    rng = maxs - mins\n",
    "    standardized = (train_p[..., band] - midrange) / (rng / 2)\n",
    "    train_p[..., band] = standardized\n",
    "    \n",
    "    min_p.append(mins)\n",
    "    max_p.append(maxs)\n",
    "    \n",
    "print(\"The data has been scaled to [{}, {}]\".format(np.min(train_p), np.max(train_p)))\n",
    "print(min_p, max_p)"
   ]
  },
  {
   "cell_type": "markdown",
   "metadata": {},
   "source": [
    "# Augment training data\n",
    "\n",
    "Horizontal and vertical flips for 4x augmentation.\n",
    "\n",
    "**To do**\n",
    "*  Random guassian noise\n",
    "*  Brightness, contrast\n",
    "*  Region swaps (randomply position positive samples at different locations)"
   ]
  },
  {
   "cell_type": "markdown",
   "metadata": {},
   "source": [
    "## Load and process test data"
   ]
  },
  {
   "cell_type": "code",
   "execution_count": 19,
   "metadata": {},
   "outputs": [
    {
     "data": {
      "application/vnd.jupyter.widget-view+json": {
       "model_id": "0f71735e366b498580486c55ad6f6891",
       "version_major": 2,
       "version_minor": 0
      },
      "text/plain": [
       "HBox(children=(IntProgress(value=0, max=9), HTML(value='')))"
      ]
     },
     "metadata": {},
     "output_type": "display_data"
    },
    {
     "name": "stdout",
     "output_type": "stream",
     "text": [
      "\n",
      "The data has been scaled to [-1.0000000000000002, 1.0000000000000002]\n",
      "(9, 24, 16, 16, 16)\n"
     ]
    }
   ],
   "source": [
    "test_x = np.load(\"data/test_x.npy\")\n",
    "test_y = np.load(\"data/test_y.npy\")\n",
    "test_p = np.load(\"data/test_planet.npy\")\n",
    "\n",
    "test_x = np.delete(test_x, 14, -1)\n",
    "\n",
    "for sample in tnrange(0, len(test_x)):\n",
    "    filtered = median_filter(test_x[sample, 0, :, :, 10], size = 5)\n",
    "    filtered = np.reshape(filtered, (8, 2, 8, 2))\n",
    "    filtered = np.mean(filtered, axis = (1, 3))\n",
    "    filtered = resize(filtered, (16, 16), 0)\n",
    "    test_x[sample, :, :, :, 10] = np.stack([filtered] * 24)\n",
    "    \n",
    "for band in range(0, test_x.shape[-1]):\n",
    "    mins = min_all[band]\n",
    "    maxs = max_all[band]\n",
    "    test_x[:, :, :, :, band] = np.clip(test_x[:, :, :, :, band], mins, maxs)\n",
    "    midrange = (maxs + mins) / 2\n",
    "    rng = maxs - mins\n",
    "    standardized = (test_x[:, :, :, :, band] - midrange) / (rng / 2)\n",
    "    test_x[:, :, :, :, band] = standardized\n",
    "    \n",
    "for band in range(0, test_p.shape[-1]):\n",
    "    mins = min_p[band]\n",
    "    maxs = max_p[band]\n",
    "    test_p[..., band] = np.clip(test_p[..., band], mins, maxs)\n",
    "    midrange = (maxs + mins) / 2\n",
    "    rng = maxs - mins\n",
    "    standardized = (test_p[..., band] - midrange) / (rng / 2)\n",
    "    test_p[..., band] = standardized\n",
    "    \n",
    "    \n",
    "print(\"The data has been scaled to [{}, {}]\".format(np.min(test_x), np.max(test_x)))\n",
    "print(test_x.shape)"
   ]
  },
  {
   "cell_type": "markdown",
   "metadata": {},
   "source": [
    "# Equibatch creation\n",
    "\n",
    "The modelling approach uses equibatch sampling to ensure that there is a near constant standard deviation of the percent tree cover in the output labels for each batch. This helps ensure that the model performs equally well across gradients of tree cover, by mitigating the random possibility that many batches in a row near the end of sampling may be randomly biased towards a tree cover range."
   ]
  },
  {
   "cell_type": "markdown",
   "metadata": {},
   "source": [
    "## Weight cross entropy by effective number of samples"
   ]
  },
  {
   "cell_type": "code",
   "execution_count": 20,
   "metadata": {},
   "outputs": [
    {
     "name": "stdout",
     "output_type": "stream",
     "text": [
      "Beta: 0.999\n",
      "[20.2244898 10.7755102]\n",
      "[0.02003126 0.010723  ]\n",
      "Neg and pos weights: [0.34866702 0.65133298]\n",
      "1.8680658935449204\n"
     ]
    }
   ],
   "source": [
    "sum_pos = np.sum(train_y)\n",
    "sum_neg = len(train_y) * 196 - sum_pos\n",
    "beta = 0.999\n",
    "print(\"Beta: {}\".format(beta))\n",
    "samples_per_cls = np.array([sum_neg, sum_pos]) / 196\n",
    "print(samples_per_cls)\n",
    "effective_num = 1.0 - np.power(beta, samples_per_cls)\n",
    "print(effective_num)\n",
    "weights = (1.0 - beta) / np.array(effective_num)\n",
    "weights = weights / np.sum(weights)\n",
    "print(\"Neg and pos weights: {}\".format(weights))\n",
    "weight = weights[1] / weights[0]\n",
    "print(weight)"
   ]
  },
  {
   "cell_type": "code",
   "execution_count": 21,
   "metadata": {},
   "outputs": [
    {
     "name": "stdout",
     "output_type": "stream",
     "text": [
      "Baseline: The positive is: 0.34866702409127814\n",
      "Baseline: The negative is: 0.6513329759087217\n",
      "\n",
      "\n",
      "Balanced: The positive is: 0.6513329759087217\n",
      "Balanced: The negative is: 0.6513329759087217\n"
     ]
    }
   ],
   "source": [
    "print(\"Baseline: The positive is: {}\".format(weights[0]))\n",
    "print(\"Baseline: The negative is: {}\".format(weights[1]))\n",
    "print(\"\\n\")\n",
    "print(\"Balanced: The positive is: {}\".format(weight*weights[0]))\n",
    "print(\"Balanced: The negative is: {}\".format(weights[1]))\n"
   ]
  },
  {
   "cell_type": "markdown",
   "metadata": {},
   "source": [
    "\n",
    "# Loss definition\n",
    "\n",
    "The current best loss is a combination of weighted binary cross entropy and per-image Lovasz-Softmax, with a loss schedule with the latter becoming more important each epoch"
   ]
  },
  {
   "cell_type": "code",
   "execution_count": 22,
   "metadata": {},
   "outputs": [],
   "source": [
    "from keras.losses import binary_crossentropy\n",
    "import math\n",
    "from scipy.ndimage import distance_transform_edt as distance\n",
    "\n",
    "def calc_mask(seg):\n",
    "\n",
    "    res = np.zeros_like(seg)\n",
    "    posmask = seg.astype(np.bool)\n",
    "    loss_importance = np.array([x for x in range(0, 197, 1)])\n",
    "    loss_importance = loss_importance / 196\n",
    "    loss_importance = np.expm1(loss_importance)\n",
    "    loss_importance[:30] = 0.\n",
    "\n",
    "    if posmask.any():\n",
    "        negmask = ~posmask\n",
    "        res = distance(negmask) * negmask - (distance(posmask) - 1) * posmask\n",
    "        #res[np.where(res == 0)] = -1 * loss_importance[196 - sums]\n",
    "    if np.sum(seg) == 196:\n",
    "        res = np.ones_like(seg)\n",
    "    if np.sum(seg) == 0:\n",
    "        res = np.ones_like(seg)\n",
    "    res[np.logical_and(res < 2, res > 0)] = 0.75\n",
    "    res[np.logical_or(res >= 2, res <= 0)] = 1.\n",
    "\n",
    "    \n",
    "    return res# / max_value\n",
    "\n",
    "def weighted_bce_loss(y_true, y_pred, weight, mask = True, smooth = 0.03):\n",
    "    '''Calculates the weighted binary cross entropy loss between y_true and\n",
    "       y_pred with optional masking and smoothing for regularization\n",
    "       \n",
    "       For smoothing, we want to weight false positives as less important than\n",
    "       false negatives, so we smooth false negatives 2x as much. \n",
    "    \n",
    "         Parameters:\n",
    "          y_true (arr):\n",
    "          y_pred (arr):\n",
    "          weight (float):\n",
    "          mask (arr):\n",
    "          smooth (float):\n",
    "\n",
    "         Returns:\n",
    "          loss (float):\n",
    "    '''\n",
    "    epsilon = 1e-7\n",
    "    y_pred = K.clip(y_pred, epsilon, 1. - epsilon)\n",
    "    y_true = K.clip(y_true, smooth, 1. - smooth)\n",
    "    logit_y_pred = K.log(y_pred / (1. - y_pred))\n",
    "    loss = tf.nn.weighted_cross_entropy_with_logits(\n",
    "        y_true,\n",
    "        logit_y_pred,\n",
    "        weight,\n",
    "    )\n",
    "    return loss\n",
    "    #return tf.reduce_mean(loss)\n",
    "'''\n",
    "    \n",
    "def calc_dist_map(seg):\n",
    "    #Utility function for calc_dist_map_batch that calculates the loss\n",
    "     #  importance per pixel based on the surface distance function\n",
    "    \n",
    "    #     Parameters:\n",
    "     #     seg (arr):\n",
    "          \n",
    "     #    Returns:\n",
    "     #     res (arr):\n",
    "    #\n",
    "    res = np.zeros_like(seg)\n",
    "    posmask = seg.astype(np.bool)\n",
    "    loss_importance = np.array([x for x in range(0, 197, 1)])\n",
    "    loss_importance = loss_importance / 196\n",
    "    loss_importance = np.expm1(loss_importance)\n",
    "    loss_importance[:30] = 0.\n",
    "\n",
    "    if posmask.any():\n",
    "        negmask = ~posmask\n",
    "        res = distance(negmask) * negmask - (distance(posmask) - 1) * posmask\n",
    "        sums = int(np.sum(seg))\n",
    "        # When % = 1, 0 -> 1.75\n",
    "        # When % = 100, 0 -> 0\n",
    "        res[np.where(res == 0)] = -1 * loss_importance[196 - sums]\n",
    "        res[np.where(np.isclose(res, -0.4142, rtol = 1e-2))] = -1 * loss_importance[196 - sums]\n",
    "        # When % = 1, 1 -> 0\n",
    "        # When % = 100, 1 -> 1.75\n",
    "        res[np.where(res == 1)] = loss_importance[sums]\n",
    "        res[np.where(np.isclose(res, 1.41421356, rtol = 1e-2))] = loss_importance[sums]\n",
    "        \n",
    "    res[np.where(res < -3)] = -3\n",
    "    res[np.where(res > 3)] = 3\n",
    "    if np.sum(seg) == 196:\n",
    "        res = np.ones_like(seg)\n",
    "        res *= -1\n",
    "    if np.sum(seg) == 0:\n",
    "        res = np.ones_like(seg)\n",
    "    return res# / max_value\n",
    "'''\n",
    "\n",
    "def calc_dist_map(seg):\n",
    "    #Utility function for calc_dist_map_batch that calculates the loss\n",
    "    #   importance per pixel based on the surface distance function\n",
    "    \n",
    "     #    Parameters:\n",
    "    #      seg (arr):\n",
    "     #     \n",
    "    #     Returns:\n",
    "    #      res (arr):\n",
    "    #\n",
    "    res = np.zeros_like(seg)\n",
    "    posmask = seg.astype(np.bool)\n",
    "    loss_importance = np.array([x for x in range(0, 197, 1)])\n",
    "    loss_importance = loss_importance / 196\n",
    "    loss_importance[:20] = 0.\n",
    "    loss_importance[20:60] = np.arange(0, 40, 1) / 40\n",
    "    loss_importance[60:] = 1.\n",
    "\n",
    "    mults = np.ones_like(seg)\n",
    "    ones = np.ones_like(seg)\n",
    "    for x in range(1, res.shape[0] -1 ):\n",
    "        for y in range(1, res.shape[0] - 1):\n",
    "            if seg[x, y] == 1:\n",
    "                l = seg[x - 1, y]\n",
    "                r = seg[x + 1, y]\n",
    "                u = seg[x, y + 1]\n",
    "                d = seg[x, y - 1]\n",
    "                lu = seg[x - 1, y + 1]\n",
    "                ru = seg[x + 1, y + 1]\n",
    "                rd = seg[x + 1, y - 1]\n",
    "                ld = seg[x -1, y - 1]\n",
    "                \n",
    "                sums = (l + r + u + d)\n",
    "                sums2 = (l + r + u + d + lu + ru +rd + ld)\n",
    "                if sums >= 2:\n",
    "                    mults[x, y] = 1.5\n",
    "                if sums2 <= 1:\n",
    "                    ones[x - 1, y] = 0.25\n",
    "                    ones[x + 1, y] = 0.25\n",
    "                    ones[x, y + 1] = 0.25\n",
    "                    ones[x, y - 1] = 0.25\n",
    "                    ones[x - 1, y + 1] = 0.25\n",
    "                    ones[x + 1, y + 1] = 0.25\n",
    "                    ones[x + 1, y - 1] = 0.25\n",
    "                    ones[x -1, y - 1] = 0.25\n",
    "\n",
    "    if posmask.any():\n",
    "        \n",
    "        negmask = ~posmask\n",
    "        res = distance(negmask) * negmask - (distance(posmask) - 1) * posmask\n",
    "        #sums = int(np.sum(seg))\n",
    "        # When % = 1, 0 -> 1.75\n",
    "        # When % = 100, 0 -> 0\n",
    "        res = np.round(res, 0)\n",
    "        res[np.where(np.isclose(res, -.41421356, rtol = 1e-2))] = -1\n",
    "        res[np.where(res == -1)] = -1 * mults[np.where(res == -1)]\n",
    "        res[np.where(res == 0)] = -1  * mults[np.where(res == 0)]# * loss_importance[196 - sums]\n",
    "        # When % = 1, 1 -> 0\n",
    "        # When % = 100, 1 -> 1.75\n",
    "        res[np.where(res == 1)] = 1 * ones[np.where(res == 1)]\n",
    "        res[np.where(res == 1)] *= 0.67\n",
    "        #res[np.where(np.isclose(res, 1.41421356, rtol = 1e-2))] = loss_importance[sums]\n",
    "        \n",
    "    res[np.where(res < -3)] = -3\n",
    "    res[np.where(res > 3)] = 3\n",
    "    if np.sum(seg) == 196:\n",
    "        res = np.ones_like(seg)\n",
    "        res *= -1\n",
    "    if np.sum(seg) == 0:\n",
    "        res = np.ones_like(seg)\n",
    "    return res# / max_value\n",
    "\n",
    "\n",
    "def calc_lovasz_weight(y_true):\n",
    "    if np.sum(y_true) > 12:\n",
    "        return np.array(1., dtype = np.float32)\n",
    "    else:\n",
    "        return np.array(0., dtype = np.float32)\n",
    "    \n",
    "def calc_bce_weight(y_true):\n",
    "    if np.sum(y_true) <= 12:\n",
    "        return np.array(1., dtype = np.float32)\n",
    "    else:\n",
    "        return np.array(0., dtype = np.float32)\n",
    "    \n",
    "def calc_lovasz_weight_batch(y_true):\n",
    "    '''Applies calc_dist_map to each sample in an input batch\n",
    "    \n",
    "         Parameters:\n",
    "          y_true (arr):\n",
    "          \n",
    "         Returns:\n",
    "          loss (arr):\n",
    "    '''\n",
    "    y_true_numpy = y_true.numpy()\n",
    "    lovasz_batch = np.array([calc_lovasz_weight(y)\n",
    "                     for y in y_true_numpy]).astype(np.float32)\n",
    "    return lovasz_batch\n",
    "\n",
    "def calc_bce_weight_batch(y_true):\n",
    "    '''Applies calc_dist_map to each sample in an input batch\n",
    "    \n",
    "         Parameters:\n",
    "          y_true (arr):\n",
    "          \n",
    "         Returns:\n",
    "          loss (arr):\n",
    "    '''\n",
    "    y_true_numpy = y_true.numpy()\n",
    "    bce_batch = np.array([calc_bce_weight(y)\n",
    "                     for y in y_true_numpy]).astype(np.float32)\n",
    "    return bce_batch\n",
    "    \n",
    "    \n",
    "\n",
    "def calc_dist_map_batch(y_true):\n",
    "    '''Applies calc_dist_map to each sample in an input batch\n",
    "    \n",
    "         Parameters:\n",
    "          y_true (arr):\n",
    "          \n",
    "         Returns:\n",
    "          loss (arr):\n",
    "    '''\n",
    "    y_true_numpy = y_true.numpy()\n",
    "    return np.array([calc_dist_map(y)\n",
    "                     for y in y_true_numpy]).astype(np.float32)\n",
    "\n",
    "def surface_loss(y_true, y_pred):\n",
    "    '''Calculates the mean surface loss for the input batch\n",
    "       by multiplying the distance map by y_pred\n",
    "    \n",
    "         Parameters:\n",
    "          y_true (arr):\n",
    "          y_pred (arr):\n",
    "          \n",
    "         Returns:\n",
    "          loss (arr):\n",
    "        \n",
    "         References:\n",
    "          https://arxiv.org/abs/1812.07032\n",
    "    '''\n",
    "    y_true_dist_map = tf.py_function(func=calc_dist_map_batch,\n",
    "                                     inp=[y_true],\n",
    "                                     Tout=tf.float32)\n",
    "    y_true_dist_map = tf.stack(y_true_dist_map, axis = 0)\n",
    "    multipled = y_pred * y_true_dist_map\n",
    "    #loss = tf.reduce_mean(multipled, axis = (1, 2, 3))\n",
    "    loss = K.mean(multipled)\n",
    "    return loss\n",
    "\n",
    "def dice_surf(y_true, y_pred, alpha, weight, batch_size):\n",
    "    bce =  weighted_bce_loss(y_true, y_pred, weight, smooth = 0.03)\n",
    "    \n",
    "    def _bce():\n",
    "        return bce\n",
    "    \n",
    "    dices = []\n",
    "    for x in range(batch_size):\n",
    "        dice = 1 - dice_loss_tolerance(y_true[x], y_pred[x])\n",
    "        dices.append(dice)\n",
    "    dices = tf.reduce_mean(dices)\n",
    "    surf = surface_loss(y_true, y_pred)\n",
    "    \n",
    "    def _surf():\n",
    "        return ( (1-alpha)*dices + (alpha * surf) )\n",
    "    \n",
    "    result = tf.cond(alpha < 0.1, lambda: _bce(), lambda: _surf() )\n",
    "    return result\n",
    "    \n",
    "def bce_surf(y_true, y_pred, alpha, weight, smooth = 0.03, mask = None, ):\n",
    "    '''Calculates the weighted combination of binary cross entropy and surface loss\n",
    "    \n",
    "         Parameters:\n",
    "          y_true (arr):\n",
    "          y_pred (arr):\n",
    "          alpha (float):\n",
    "          smooth (float):\n",
    "          weight (float):\n",
    "          mask (arr):\n",
    "          \n",
    "         Returns:\n",
    "          loss (arr):\n",
    "    '''\n",
    "\n",
    "    bce =  weighted_bce_loss(y_true, y_pred, weight, smooth = 0.03)\n",
    "    bce = tf.reduce_mean(bce)\n",
    "    print(\"BCE\", bce.shape)\n",
    "    surf = surface_loss(y_true, y_pred)\n",
    "    print(\"SURF\", surf.shape)\n",
    "    return ( (1-alpha)*bce + (alpha * surf) )#global_loss #+ regional_loss\n",
    "\n",
    "\n",
    "def lovasz_surf(y_true, y_pred, alpha, weight, beta):\n",
    "    \n",
    "    lv = lovasz_softmax(probas = y_pred,\n",
    "                        labels = tf.reshape(y_true, (-1, 14, 14)), \n",
    "                        classes=[1],\n",
    "                        per_image=True) \n",
    "    print(\"Lovasz Shape: \", lv.shape)\n",
    "    \n",
    "    bce =  weighted_bce_loss(y_true = y_true, \n",
    "                             y_pred = y_pred, \n",
    "                             weight = weight,\n",
    "                             smooth = 0.03)\n",
    "    print(\"BCE Shape: \", bce.shape)\n",
    "    #return tf.reduce_mean(bce)\n",
    "\n",
    "    \n",
    "    bce = tf.reduce_mean(bce, axis = (1, 2, 3))\n",
    "    print(\"BCE Shape: \", bce.shape)\n",
    "    surface = surface_loss(y_true, y_pred)\n",
    "    \n",
    "    lv_mask = tf.math.reduce_sum(y_true, axis = (1, 2, 3))\n",
    "    lv_mask = tf.cast(lv_mask, tf.float32)\n",
    "    lv_mask = tf.math.greater_equal(lv_mask, tf.constant([25.]))\n",
    "    lv_mask = tf.cast(lv_mask, tf.float32)\n",
    "\n",
    "    \n",
    "    bce_mask = tf.math.reduce_sum(y_true, axis = (1, 2, 3))\n",
    "    bce_mask = tf.cast(bce_mask, tf.float32)\n",
    "    bce_mask = tf.math.less(bce_mask, tf.constant([25.]))\n",
    "    bce_mask = tf.cast(bce_mask, tf.float32)\n",
    "    \n",
    "    \n",
    "    lovasz = (lv * lv_mask) + (bce * bce_mask)\n",
    "    lovasz = tf.reduce_mean(lovasz)\n",
    "    bce = tf.reduce_mean(bce)\n",
    "    \n",
    "\n",
    "    lovasz_portion = (1 - alpha) * lovasz\n",
    "    lovasz_portion = lovasz_portion * beta\n",
    "    bce_portion = (1 - alpha) * bce\n",
    "    bce_portion = bce_portion * (1 - beta)\n",
    "    surface_portion = alpha * surface\n",
    "    \n",
    "    #lovasz_portion = (tf.constant([1.]) - (tf.constant([2.]) * alpha)) * lovasz\n",
    "    #surface_portion = (tf.constant([2.]) * alpha) * surface\n",
    "    #non_bce = (alpha) * (lovasz_portion + surface_portion)\n",
    "    \n",
    "    result = lovasz_portion + surface_portion + bce_portion\n",
    "    return result\n"
   ]
  },
  {
   "cell_type": "code",
   "execution_count": 23,
   "metadata": {
    "scrolled": false
   },
   "outputs": [
    {
     "data": {
      "image/png": "[encoded data removed]",
      "text/plain": [
       "<Figure size 1008x360 with 4 Axes>"
      ]
     },
     "metadata": {
      "needs_background": "light"
     },
     "output_type": "display_data"
    }
   ],
   "source": [
    "f, (ax1, ax2) = plt.subplots(1, 2, sharey=True)\n",
    "f.set_size_inches(14, 5)\n",
    "sns.heatmap(calc_dist_map(train_y[-3]), ax = ax1)\n",
    "ax2.set_title('Ground truth Y')\n",
    "ax1.set_title('Boundary loss mask')\n",
    "sns.heatmap(train_y[-3], ax = ax2)\n",
    "plt.show()"
   ]
  },
  {
   "cell_type": "markdown",
   "metadata": {},
   "source": [
    "# Evaluation metrics"
   ]
  },
  {
   "cell_type": "code",
   "execution_count": 24,
   "metadata": {},
   "outputs": [],
   "source": [
    "countries = {'africaeast-test': [0, 34],\n",
    " 'africawest-test': [35, 96],\n",
    " 'cameroon-test': [97, 135],\n",
    " 'ethiopia-test': [136, 248],\n",
    " 'ghana-test': [249, 282],\n",
    " 'ghana-test-large': [283, 318],\n",
    " 'global-test': [319, 460],\n",
    " 'india-test': [461, 511],\n",
    " 'kenya-test': [512, 600],\n",
    " 'lac-north-test': [601, 641],\n",
    " 'lac-south-test': [642, 683], 'all': [0, 683]}\n",
    "\n",
    "countries = {'all': [0, len(test_y)]}\n",
    "\n",
    "def dice_loss(y_true, y_pred):\n",
    "    '''Calculates the dice score of ground truth and prediction arrays\n",
    "    \n",
    "         Parameters:\n",
    "          y_true (arr):\n",
    "          y_pred (arr):\n",
    "          \n",
    "         Returns:\n",
    "          metric (arr):\n",
    "    '''\n",
    "    numerator = 2 * np.sum(y_true * y_pred, axis=-1)\n",
    "    denominator = np.sum(y_true + y_pred, axis=-1)\n",
    "    return (numerator + 1) / (denominator + 1)\n",
    "\n",
    "def dice_loss_tolerance(y_true, y_pred):\n",
    "    numerator_data = np.zeros_like(y_true)\n",
    "    for x in range(y_true.shape[0]):\n",
    "        for y in range(y_true.shape[1]):\n",
    "            min_x = np.max([0, x-1])\n",
    "            min_y = np.max([0, y-1])\n",
    "            max_y = np.min([y_true.shape[0], y+2])\n",
    "            max_x = np.min([y_true.shape[0], x+2])\n",
    "            if y_true[x, y] == 1:\n",
    "                numerator_data[x, y] = np.max(y_pred[min_x:max_x, min_y:max_y])\n",
    "                \n",
    "    numerator = 2 * np.sum(y_true * numerator_data, axis=-1)\n",
    "    denominator = np.sum(y_true + y_pred, axis=-1)\n",
    "    return (numerator + 1) / (denominator + 1)\n",
    "                    \n",
    "            \n",
    "        \n",
    "def compute_f1_score_at_tolerance(true, pred, tolerance = 1):\n",
    "    fp = 0\n",
    "    tp = 0\n",
    "    fn = 0\n",
    "    \n",
    "    tp = np.zeros_like(true)\n",
    "    fp = np.zeros_like(true)\n",
    "    fn = np.zeros_like(true)\n",
    "    \n",
    "    \n",
    "    for x in range(true.shape[0]):\n",
    "        for y in range(true.shape[1]):\n",
    "            min_x = np.max([0, x-1])\n",
    "            min_y = np.max([0, y-1])\n",
    "            max_y = np.min([true.shape[0], y+2])\n",
    "            max_x = np.min([true.shape[0], x+2])\n",
    "            if true[x, y] == 1:\n",
    "                if np.sum(pred[min_x:max_x, min_y:max_y]) > 0:\n",
    "                    tp[x, y] = 1\n",
    "                else:\n",
    "                    fn[x, y] = 1\n",
    "            if pred[x, y] == 1:\n",
    "                if np.sum(true[min_x:max_x, min_y:max_y]) > 0:\n",
    "                    if true[x, y] == 1:\n",
    "                        tp[x, y] = 1\n",
    "                else:\n",
    "                    fp[x, y] = 1                \n",
    "                \n",
    "    precision =  np.sum(tp) / (np.sum(tp) + np.sum(fp))\n",
    "    recall = np.sum(tp) / (np.sum(tp) + np.sum(fn))\n",
    "    f1 = 2 * ((precision * recall) / (precision + recall))\n",
    "    return np.sum(tp), np.sum(fp), np.sum(fn)\n",
    "\n",
    "def recover_patches(arr, thresh_p):\n",
    "    sum1 = np.sum(arr)\n",
    "    thresh = thresh_p / 2\n",
    "\n",
    "    for window_x in range(2, arr.shape[0]-2, 1):\n",
    "        for window_y in range(2, arr.shape[1]-2, 1):\n",
    "            l, r, u, d =  False, False, False, False\n",
    "            cur_window = arr[window_x-2:window_x+3, window_y-2:window_y+3]\n",
    "            hor_vert_neighbors = False\n",
    "            if (cur_window[2, 2] > thresh and\n",
    "                cur_window[2, 2] < thresh_p):\n",
    "                if cur_window[3, 2] > thresh * 2 and cur_window[4, 2] < thresh * 2 :\n",
    "                    hor_vert_neighbors = True\n",
    "                    r = True\n",
    "                if cur_window[1, 2] > thresh * 2 and cur_window[2, 0] < thresh * 2:\n",
    "                    hor_vert_neighbors = True\n",
    "                    l = True\n",
    "                if cur_window[2, 3] > thresh * 2 and cur_window[2, 4] < thresh * 2:\n",
    "                    hor_vert_neighbors = True\n",
    "                    d = True\n",
    "                if cur_window[2, 1] > thresh * 2 and cur_window[2, 0] < thresh * 2:\n",
    "                    hor_vert_neighbors = True\n",
    "                    u = True\n",
    "            passes = False\n",
    "            if r and not l:\n",
    "                passes = True\n",
    "            if l and not r:\n",
    "                passes = True\n",
    "            if d and not u:\n",
    "                passes = True\n",
    "            if u and not d:\n",
    "                passes = True\n",
    "\n",
    "            if passes:\n",
    "                if r:\n",
    "                    if cur_window[1, 1] < thresh * 2 and cur_window[1, 3] < thresh * 2:\n",
    "                        arr[window_x, window_y] = (thresh_p + 0.01)\n",
    "\n",
    "                if l:\n",
    "                    if cur_window[3, 1] < thresh * 2 and cur_window[3, 3] < thresh * 2:\n",
    "                        arr[window_x, window_y] = (thresh_p + 0.01)\n",
    "\n",
    "                if u:\n",
    "                    if cur_window[1, 3] < thresh * 2 and cur_window[3, 3] < thresh * 2:\n",
    "                        arr[window_x, window_y] = (thresh_p + 0.01)\n",
    "\n",
    "                if d:\n",
    "                    if cur_window[1, 1] < thresh * 2 and cur_window[3, 1] < thresh * 2:\n",
    "                        arr[window_x, window_y] = (thresh_p + 0.01)\n",
    "    return arr\n",
    "\n",
    "def calculate_metrics(country, al = 0.4, canopy_thresh = 100):\n",
    "    '''Calculates the following metrics for an input country, based on\n",
    "       indexing of the country dictionary:\n",
    "       \n",
    "         - Loss\n",
    "         - F1\n",
    "         - Precision\n",
    "         - Recall\n",
    "         - Dice\n",
    "         - Mean surface distance\n",
    "         - Average error\n",
    "    \n",
    "         Parameters:\n",
    "          country (str):\n",
    "          al (float):\n",
    "          \n",
    "         Returns:\n",
    "          val_loss (float):\n",
    "          best_dice (float):\n",
    "          error (float):\n",
    "    '''\n",
    "    print(canopy_thresh)\n",
    "    start_idx = countries[country][0]\n",
    "    stop_idx = countries[country][1]\n",
    "    best_f1 = 0\n",
    "    best_dice = 0\n",
    "    best_thresh = 0\n",
    "    hausdorff = 0\n",
    "    relaxed_f1 = 0\n",
    "    p = 0\n",
    "    r = 0\n",
    "    error = 0\n",
    "    d = 0\n",
    "    ys = []\n",
    "    vls = []\n",
    "    t_alls = []\n",
    "    test_ids = [x for x in range(len(test_x))]\n",
    "    for test_sample in test_ids[start_idx:stop_idx]:\n",
    "        if np.sum(test_y[test_sample]) < ((canopy_thresh/100) * 197) :\n",
    "            y, vl = sess.run([fm, test_loss], feed_dict={inp: test_x[test_sample].reshape(1, 24, 16, 16, n_bands),\n",
    "                                              planet_inp: test_p[test_sample].reshape(1, 32, 32, 4),\n",
    "                                              length: np.array(24).reshape(1, 1),\n",
    "                                              is_training: False,\n",
    "                                              clipping_params['rmax']: rmax_epoch,\n",
    "                                              clipping_params['rmin']: rmin_epoch,\n",
    "                                              clipping_params['dmax']: dmax_epoch,\n",
    "                                              labels: test_y[test_sample, :, :].reshape(1, 14, 14),\n",
    "                                              loss_weight: 2.0,\n",
    "                                              alpha: al,\n",
    "                                              })\n",
    "            ys.append(y.reshape((14, 14)))\n",
    "            vls.append(vl)\n",
    "            t = test_y[test_sample].reshape((14, 14))\n",
    "            t_alls.append(t)\n",
    "    dice_losses = []\n",
    "    for thresh in range(8, 13):\n",
    "        all_preds, all_trues = [], []\n",
    "        tps, fps, fns = [], [], []\n",
    "        tps_relaxed, fps_relaxed, fns_relaxed = [], [], []\n",
    "        abs_error, haus = [], []\n",
    "        trues, preds = [], []\n",
    "        val_loss = []\n",
    "        for sample in range(len(ys)):\n",
    "            pred = np.copy(ys[sample])\n",
    "            true = t_alls[sample]\n",
    "            vl = vls[sample]\n",
    "            if thresh == 8:\n",
    "                dice_losses.append(dice_loss_tolerance(np.array(true), np.array(pred)))\n",
    "            #pred = recover_patches(pred, thresh*0.05)\n",
    "            pred[np.where(pred >= thresh*0.05)] = 1\n",
    "            pred[np.where(pred < thresh*0.05)] = 0\n",
    "            \n",
    "            dists = compute_surface_distances(np.array(true).reshape(14, 14, 1).astype(int),\n",
    "                                              np.array(pred).reshape(14, 14, 1).astype(int),\n",
    "                                              [1, 1, 1])\n",
    "            \n",
    "            true_s = np.sum(true[1:-1])\n",
    "            pred_s = np.sum(pred[1:-1])\n",
    "            abs_error.append(abs(pred_s - true_s))\n",
    "            p_error = np.around(((abs(pred_s - true_s))/196), 3)\n",
    "            tp_relaxed, fp_relaxed, fn_relaxed = compute_f1_score_at_tolerance(true, pred)\n",
    "            tps_relaxed.append(tp_relaxed)\n",
    "            fps_relaxed.append(fp_relaxed)\n",
    "            fns_relaxed.append(fn_relaxed)\n",
    "            trues.append(true_s)\n",
    "            preds.append(pred_s)\n",
    "            all_trues.append(true.flatten())\n",
    "            all_preds.append(pred.flatten())\n",
    "            if np.sum(true + pred) > 0:\n",
    "                haus_i = compute_robust_hausdorff(dists, 50)\n",
    "                if not np.isinf(haus_i):\n",
    "                    haus.append(haus_i)\n",
    "            if np.sum(true + pred) == 0:\n",
    "                dice_losses.append(1.)\n",
    "                haus.append(0.)\n",
    "            val_loss.append(np.mean(vl))\n",
    "        oa_error = np.mean(abs_error)\n",
    "\n",
    "        precision_r = np.sum(tps_relaxed) / (np.sum(tps_relaxed) + np.sum(fps_relaxed))\n",
    "        recall_r = np.sum(tps_relaxed) / (np.sum(tps_relaxed) + np.sum(fns_relaxed))\n",
    "        f1_r = 2*((precision_r* recall_r) / (precision_r + recall_r))\n",
    "        haus = np.mean(haus)\n",
    "        dices = np.mean(dice_losses)\n",
    "        if f1_r > best_f1:\n",
    "            best_dice = dices\n",
    "            best_f1 = f1_r\n",
    "            p = precision_r\n",
    "            r = recall_r\n",
    "            error = oa_error\n",
    "            to_save_trues = all_trues\n",
    "            to_save_preds = all_preds\n",
    "            best_thresh = thresh*0.05\n",
    "            best_haus = haus\n",
    "            preds_return = all_preds\n",
    "            trues_return = all_trues\n",
    "    print(\"{}: Val loss: {} Thresh: {} F1: {}\"\n",
    "          \" R: {} P: {} D: {} H: {} Error: {}\".format(country, \n",
    "                                                     np.around(np.mean(val_loss), 3),\n",
    "                                                     np.around(best_thresh, 2),\n",
    "                                                     np.around(best_f1, 3), np.around(p, 3), np.around(r, 3), \n",
    "                                                     np.mean(best_dice), np.around(best_haus, 3),\n",
    "                                                     np.around(error, 3)))\n",
    "    return np.mean(val_loss), best_f1, error, best_haus, np.mean(best_dice)"
   ]
  },
  {
   "cell_type": "markdown",
   "metadata": {},
   "source": [
    "# Graph set up"
   ]
  },
  {
   "cell_type": "code",
   "execution_count": 25,
   "metadata": {},
   "outputs": [],
   "source": [
    "def augment_batch(batch_ids, batch_size):\n",
    "    '''Performs random flips and rotations of the X and Y\n",
    "       data for a total of 4 x augmentation\n",
    "    \n",
    "         Parameters:\n",
    "          batch_ids (list):\n",
    "          batch_size (int):\n",
    "          \n",
    "         Returns:\n",
    "          x_batch (arr):\n",
    "          y_batch (arr):\n",
    "    '''\n",
    "    x = train_x[batch_ids, :, :, :]\n",
    "    y = train_y[batch_ids, :, :]\n",
    "    planet = train_p[batch_ids, ...]\n",
    "    x_batch = np.zeros_like(x)\n",
    "    y_batch = np.zeros_like(y)\n",
    "    planet_batch = np.zeros_like(planet)\n",
    "    flips = np.random.choice(np.array([0, 1, 2, 3]), batch_size, replace = True)\n",
    "    for i in range(x.shape[0]):\n",
    "        current_flip = flips[i]\n",
    "        if current_flip == 0:\n",
    "            x_batch[i, ...] = x[i]\n",
    "            y_batch[i, :, :] = y[i]\n",
    "            planet_batch[i, ...] = planet[i]\n",
    "        if current_flip == 1:\n",
    "            x_batch[i, :, :, :] = np.flip(x[i], 1)\n",
    "            y_batch[i, :, :] = np.flip(y[i], 0)\n",
    "            planet_batch[i, ...] = np.flip(planet[i], 0)\n",
    "        if current_flip == 2:\n",
    "            x_batch[i, :, :, :] = np.flip(x[i], [2, 1])\n",
    "            y_batch[i, :, :] = np.flip(y[i], [1, 0])\n",
    "            planet_batch[i, ...] = np.flip(planet[i], [1, 0])\n",
    "        if current_flip == 3:\n",
    "            x_batch[i, :, :, :] = np.flip(x[i], 2)\n",
    "            y_batch[i, :, :] = np.flip(y[i], 1)\n",
    "            planet_batch[i, ...] = np.flip(planet[i], 1)\n",
    "\n",
    "    y_batch = y_batch.reshape((batch_size, 14, 14))\n",
    "    return x_batch, y_batch, planet_batch\n",
    "\n",
    "x_batch_test, y_batch_test, planet_batch = augment_batch([0, 1], 2)\n",
    "train_ids = [x for x in range(0, len(test_y))]"
   ]
  },
  {
   "cell_type": "code",
   "execution_count": 26,
   "metadata": {
    "scrolled": true
   },
   "outputs": [
    {
     "name": "stdout",
     "output_type": "stream",
     "text": [
      "Starting model with: \n",
      " 0.2 zone out \n",
      " 0.0 l2 \n",
      " 0.0001 initial LR \n",
      " 0.02 final LR \n",
      " 443768 parameters\n",
      "Restarting training from scratch on 9 train and 9 test samples, total 2.25\n",
      "(?,)\n",
      "Lovasz Shape:  (?,)\n",
      "BCE Shape:  (?, 14, 14, 1)\n",
      "BCE Shape:  (?,)\n",
      "(?,)\n",
      "Lovasz Shape:  (?,)\n",
      "BCE Shape:  (?, 14, 14, 1)\n",
      "BCE Shape:  (?,)\n",
      "The graph has been finalized\n"
     ]
    }
   ],
   "source": [
    "FRESH_START = True\n",
    "best_val = 0.2\n",
    "\n",
    "START_EPOCH = 1\n",
    "END_EPOCH = 100\n",
    "LEARNING_RATE = 3e-3\n",
    "test_ids = [x for x in range(0, len(test_x))]\n",
    "\n",
    "print(\"Starting model with: \\n {} zone out \\n {} l2 \\n {} initial LR \\n {} final LR \\n {} parameters\"\n",
    "     .format(ZONE_OUT_PROB, L2_REG, INITIAL_LR, FINAL_LR, total_parameters))\n",
    "        \n",
    "    \n",
    "if FRESH_START:\n",
    "    print(\"Restarting training from scratch on {} \"\n",
    "          \"train and {} test samples, total {}\".format(len(train_ids), len(test_ids), len(train_ids)/4))\n",
    "\n",
    "    optimizer = AdaBoundOptimizer(1e-4, 1e-2)\n",
    "    #optimizer = tf.train.AdamOptimizer(1e-4)\n",
    "    train_loss = lovasz_surf(tf.reshape(labels, (-1, 14, 14, 1)), fm, weight = loss_weight, alpha = alpha, beta = beta_)\n",
    "    #train_loss = bce_surf(tf.reshape(labels, (-1, 14, 14, 1)), fm, \n",
    "    #                      smooth = 0.03, \n",
    "    #                      weight = loss_weight,\n",
    "    #                      alpha = alpha)\n",
    "    #l2_loss = tf.losses.get_regularization_l05oss()\n",
    "    #train_loss += l2_loss\n",
    "\n",
    "    ft_optimizer = tf.train.GradientDescentOptimizer(ft_lr)\n",
    "    test_loss = lovasz_surf(tf.reshape(labels, (-1, 14, 14, 1)), fm, weight = loss_weight, alpha = alpha, beta = beta_)\n",
    "    ##test_loss = bce_surf(tf.reshape(labels, (-1, 14, 14, 1)), fm,\n",
    "    #                     weight = loss_weight, \n",
    "    #                     smooth = 0.03, \n",
    "    #                     alpha = alpha)\n",
    "    update_ops = tf.get_collection(tf.GraphKeys.UPDATE_OPS)\n",
    "    \n",
    "    with tf.control_dependencies(update_ops):\n",
    "        train_op = optimizer.minimize(train_loss)   \n",
    "        ft_op = ft_optimizer.minimize(train_loss)\n",
    "        \n",
    "    init_op = tf.global_variables_initializer()\n",
    "    sess.run(init_op)\n",
    "    saver = tf.train.Saver(max_to_keep = 125)\n",
    "    \n",
    "print(\"The graph has been finalized\")"
   ]
  },
  {
   "cell_type": "code",
   "execution_count": 27,
   "metadata": {},
   "outputs": [],
   "source": [
    "train_losses = []\n",
    "test_losses = []\n",
    "f1s = []\n",
    "dices = []\n",
    "errors = []\n",
    "hausdorff = []"
   ]
  },
  {
   "cell_type": "code",
   "execution_count": 28,
   "metadata": {
    "scrolled": false
   },
   "outputs": [
    {
     "data": {
      "image/png": "[encoded data removed]",
      "text/plain": [
       "<Figure size 1080x864 with 6 Axes>"
      ]
     },
     "metadata": {
      "needs_background": "light"
     },
     "output_type": "display_data"
    }
   ],
   "source": [
    "f, ((c1r1, c1r2, c1r3), (c2r1, c2r2, c2r3)) = plt.subplots(2, 3, sharey=False)\n",
    "f.set_size_inches(15, 12)\n",
    "\n",
    "c1r1.set_title(\"Train losses - 0.33 a, 2.00 w, 8e-5, 1e-2 \")\n",
    "sns.scatterplot(y = np.array(train_losses[:]),\n",
    "                x = np.array([x for x in range(len(train_losses[:]))]),\n",
    "               ax = c1r1)\n",
    "\n",
    "c1r2.set_title(\"October 3 - F1 score\")\n",
    "sns.scatterplot(y = np.array(f1s[:]),\n",
    "                x = np.array([x for x in range(len(f1s[:]))]),\n",
    "               ax = c1r2)\n",
    "\n",
    "c2r1.set_title(\"Test losses\")\n",
    "sns.scatterplot(y = np.array(test_losses[:]),\n",
    "                x = np.array([x for x in range(len(test_losses[:]))]),\n",
    "               ax = c2r1)\n",
    "\n",
    "c2r2.set_title(\"Errors\")\n",
    "sns.scatterplot(y = np.array(errors[:]),\n",
    "                x = np.array([x for x in range(len(errors[:]))]),\n",
    "               ax = c2r2)\n",
    "\n",
    "c2r3.set_title(\"Hausdorff\")\n",
    "sns.scatterplot(y = np.array(hausdorff[:]),\n",
    "                x = np.array([x for x in range(len(errors[:]))]),\n",
    "               ax = c2r3)\n",
    "\n",
    "c1r3.set_title(\"Dice\")\n",
    "sns.scatterplot(y = np.array(dices[:]),\n",
    "                x = np.array([x for x in range(len(dices[:]))]),\n",
    "               ax = c1r3)\n",
    "\n",
    "plt.show()"
   ]
  },
  {
   "cell_type": "markdown",
   "metadata": {},
   "source": [
    "# September changes\n",
    "- Implement equibatch\n",
    "- Implement 4x4 FPA, with CSSE in middle blocks\n",
    "- Reduce label smoothing from 0.08 to 0.03\n",
    "- reduce dropblock to 0.95 from 0.8\n",
    "\n",
    "# Things to test\n",
    "- Concatenating mean after GRU\n",
    "- Turning of sse in GRU"
   ]
  },
  {
   "cell_type": "code",
   "execution_count": 29,
   "metadata": {},
   "outputs": [],
   "source": [
    "train_ids = [x for x in range(0, len(train_y))]"
   ]
  },
  {
   "cell_type": "code",
   "execution_count": 30,
   "metadata": {
    "scrolled": false
   },
   "outputs": [
    {
     "name": "stdout",
     "output_type": "stream",
     "text": [
      "starting epoch 0, alpha: -0.01, beta: 0.0 drop: 1.0\n"
     ]
    },
    {
     "data": {
      "application/vnd.jupyter.widget-view+json": {
       "model_id": "3247869666b14b089ff860063f5ff85b",
       "version_major": 2,
       "version_minor": 0
      },
      "text/plain": [
       "HBox(children=(IntProgress(value=0, max=7), HTML(value='')))"
      ]
     },
     "metadata": {},
     "output_type": "display_data"
    },
    {
     "name": "stdout",
     "output_type": "stream",
     "text": [
      "\n",
      "Epoch 0: Loss 1.3680000305175781\n",
      "100\n"
     ]
    },
    {
     "name": "stderr",
     "output_type": "stream",
     "text": [
      "/Users/john.brandt/.local/lib/python3.6/site-packages/ipykernel_launcher.py:74: RuntimeWarning: invalid value encountered in double_scalars\n",
      "/Users/john.brandt/.local/lib/python3.6/site-packages/ipykernel_launcher.py:76: RuntimeWarning: invalid value encountered in double_scalars\n"
     ]
    },
    {
     "name": "stdout",
     "output_type": "stream",
     "text": [
      "all: Val loss: 0.7390000224113464 Thresh: 0.4 F1: 0.579 R: 0.959 P: 0.414 D: 0.4394340033299034 H: 0.971 Error: 42.889\n",
      "starting epoch 1, alpha: 0.0, beta: 0.0 drop: 0.9925\n"
     ]
    },
    {
     "data": {
      "application/vnd.jupyter.widget-view+json": {
       "model_id": "d975b50b356643369db3ba8282d3f844",
       "version_major": 2,
       "version_minor": 0
      },
      "text/plain": [
       "HBox(children=(IntProgress(value=0, max=7), HTML(value='')))"
      ]
     },
     "metadata": {},
     "output_type": "display_data"
    },
    {
     "name": "stdout",
     "output_type": "stream",
     "text": [
      "\n",
      "Epoch 1: Loss 1.0720000267028809\n",
      "100\n",
      "all: Val loss: 0.6140000224113464 Thresh: 0.4 F1: 0.79 R: 0.794 P: 0.786 D: 0.5128894994789206 H: 2.037 Error: 38.889\n",
      "starting epoch 2, alpha: 0.01, beta: 0.0 drop: 0.985\n"
     ]
    },
    {
     "data": {
      "application/vnd.jupyter.widget-view+json": {
       "model_id": "203532c63fb94ba4aaf0afdc8b1ceed9",
       "version_major": 2,
       "version_minor": 0
      },
      "text/plain": [
       "HBox(children=(IntProgress(value=0, max=7), HTML(value='')))"
      ]
     },
     "metadata": {},
     "output_type": "display_data"
    },
    {
     "name": "stdout",
     "output_type": "stream",
     "text": [
      "\n",
      "Epoch 2: Loss 1.0219999551773071\n",
      "100\n",
      "all: Val loss: 0.5809999704360962 Thresh: 0.45 F1: 0.819 R: 0.782 P: 0.859 D: 0.5516166009606505 H: 1.387 Error: 45.444\n",
      "starting epoch 3, alpha: 0.02, beta: 0.0 drop: 0.9775\n"
     ]
    },
    {
     "data": {
      "application/vnd.jupyter.widget-view+json": {
       "model_id": "797b7506dc68407c8936dfd0bcacdc7b",
       "version_major": 2,
       "version_minor": 0
      },
      "text/plain": [
       "HBox(children=(IntProgress(value=0, max=7), HTML(value='')))"
      ]
     },
     "metadata": {},
     "output_type": "display_data"
    },
    {
     "name": "stdout",
     "output_type": "stream",
     "text": [
      "\n",
      "Epoch 3: Loss 0.9670000076293945\n",
      "100\n",
      "all: Val loss: 0.5820000171661377 Thresh: 0.6 F1: 0.83 R: 0.812 P: 0.85 D: 0.5659105830805637 H: 1.335 Error: 38.778\n",
      "starting epoch 4, alpha: 0.03, beta: 0.0 drop: 0.97\n"
     ]
    },
    {
     "data": {
      "application/vnd.jupyter.widget-view+json": {
       "model_id": "815e8761a70440498a6517799f58058b",
       "version_major": 2,
       "version_minor": 0
      },
      "text/plain": [
       "HBox(children=(IntProgress(value=0, max=7), HTML(value='')))"
      ]
     },
     "metadata": {},
     "output_type": "display_data"
    },
    {
     "name": "stdout",
     "output_type": "stream",
     "text": [
      "\n",
      "Epoch 4: Loss 0.9259999990463257\n",
      "100\n",
      "all: Val loss: 0.5879999995231628 Thresh: 0.6 F1: 0.834 R: 0.799 P: 0.872 D: 0.5671440677480085 H: 1.178 Error: 39.111\n",
      "starting epoch 5, alpha: 0.04, beta: 0.0 drop: 0.9625\n"
     ]
    },
    {
     "data": {
      "application/vnd.jupyter.widget-view+json": {
       "model_id": "ad268147cf5f4e83bedc7b8fcaa2ff20",
       "version_major": 2,
       "version_minor": 0
      },
      "text/plain": [
       "HBox(children=(IntProgress(value=0, max=7), HTML(value='')))"
      ]
     },
     "metadata": {},
     "output_type": "display_data"
    },
    {
     "name": "stdout",
     "output_type": "stream",
     "text": [
      "\n",
      "Epoch 5: Loss 0.875\n",
      "100\n",
      "all: Val loss: 0.5920000076293945 Thresh: 0.6 F1: 0.851 R: 0.798 P: 0.912 D: 0.5653627253620068 H: 0.556 Error: 43.222\n",
      "starting epoch 6, alpha: 0.05, beta: 0.0 drop: 0.955\n"
     ]
    },
    {
     "data": {
      "application/vnd.jupyter.widget-view+json": {
       "model_id": "fb2a5d0213704fc2a99d82d6f502e6dd",
       "version_major": 2,
       "version_minor": 0
      },
      "text/plain": [
       "HBox(children=(IntProgress(value=0, max=7), HTML(value='')))"
      ]
     },
     "metadata": {},
     "output_type": "display_data"
    },
    {
     "name": "stdout",
     "output_type": "stream",
     "text": [
      "\n",
      "Epoch 6: Loss 0.8489999771118164\n",
      "100\n",
      "all: Val loss: 0.597000002861023 Thresh: 0.6 F1: 0.85 R: 0.795 P: 0.914 D: 0.5634304622028397 H: 0.556 Error: 46.222\n",
      "starting epoch 7, alpha: 0.06, beta: 0.0 drop: 0.9475\n"
     ]
    },
    {
     "data": {
      "application/vnd.jupyter.widget-view+json": {
       "model_id": "8579e89f1a874cee8b5e644582c3c890",
       "version_major": 2,
       "version_minor": 0
      },
      "text/plain": [
       "HBox(children=(IntProgress(value=0, max=7), HTML(value='')))"
      ]
     },
     "metadata": {},
     "output_type": "display_data"
    },
    {
     "name": "stdout",
     "output_type": "stream",
     "text": [
      "\n",
      "Epoch 7: Loss 0.8199999928474426\n",
      "100\n",
      "all: Val loss: 0.5979999899864197 Thresh: 0.6 F1: 0.855 R: 0.801 P: 0.917 D: 0.5627475102295836 H: 0.444 Error: 46.667\n",
      "starting epoch 8, alpha: 0.07, beta: 0.0 drop: 0.94\n"
     ]
    },
    {
     "data": {
      "application/vnd.jupyter.widget-view+json": {
       "model_id": "f2fba74f1e114a7182c0c264193bc425",
       "version_major": 2,
       "version_minor": 0
      },
      "text/plain": [
       "HBox(children=(IntProgress(value=0, max=7), HTML(value='')))"
      ]
     },
     "metadata": {},
     "output_type": "display_data"
    },
    {
     "name": "stdout",
     "output_type": "stream",
     "text": [
      "\n",
      "Epoch 8: Loss 0.7760000228881836\n",
      "100\n",
      "all: Val loss: 0.597000002861023 Thresh: 0.6 F1: 0.858 R: 0.812 P: 0.91 D: 0.5626221846838205 H: 0.49 Error: 45.333\n",
      "starting epoch 9, alpha: 0.08, beta: 0.0 drop: 0.9325\n"
     ]
    },
    {
     "data": {
      "application/vnd.jupyter.widget-view+json": {
       "model_id": "cd9699d241734451bbdddbc0efded9ac",
       "version_major": 2,
       "version_minor": 0
      },
      "text/plain": [
       "HBox(children=(IntProgress(value=0, max=7), HTML(value='')))"
      ]
     },
     "metadata": {},
     "output_type": "display_data"
    },
    {
     "name": "stdout",
     "output_type": "stream",
     "text": [
      "\n",
      "Epoch 9: Loss 0.765999972820282\n",
      "100\n",
      "all: Val loss: 0.6029999852180481 Thresh: 0.6 F1: 0.848 R: 0.802 P: 0.899 D: 0.5602668900252064 H: 0.765 Error: 46.556\n",
      "starting epoch 10, alpha: 0.09, beta: 0.0 drop: 0.925\n"
     ]
    },
    {
     "data": {
      "application/vnd.jupyter.widget-view+json": {
       "model_id": "dafcb1af14a446b188ec2e217109ddb3",
       "version_major": 2,
       "version_minor": 0
      },
      "text/plain": [
       "HBox(children=(IntProgress(value=0, max=7), HTML(value='')))"
      ]
     },
     "metadata": {},
     "output_type": "display_data"
    },
    {
     "name": "stdout",
     "output_type": "stream",
     "text": [
      "\n",
      "Epoch 10: Loss 0.7310000061988831\n",
      "100\n",
      "all: Val loss: 0.609000027179718 Thresh: 0.55 F1: 0.841 R: 0.767 P: 0.931 D: 0.5591743429450909 H: 0.444 Error: 54.333\n",
      "starting epoch 11, alpha: 0.1, beta: 0.0 drop: 0.9175\n"
     ]
    },
    {
     "data": {
      "application/vnd.jupyter.widget-view+json": {
       "model_id": "470d1f6440bc4db9945d37304010b808",
       "version_major": 2,
       "version_minor": 0
      },
      "text/plain": [
       "HBox(children=(IntProgress(value=0, max=7), HTML(value='')))"
      ]
     },
     "metadata": {},
     "output_type": "display_data"
    },
    {
     "name": "stdout",
     "output_type": "stream",
     "text": [
      "\n",
      "Epoch 11: Loss 0.7110000252723694\n",
      "100\n",
      "all: Val loss: 0.5920000076293945 Thresh: 0.55 F1: 0.854 R: 0.796 P: 0.92 D: 0.5645427531994124 H: 0.444 Error: 49.333\n",
      "starting epoch 12, alpha: 0.11, beta: 0.0 drop: 0.91\n"
     ]
    },
    {
     "data": {
      "application/vnd.jupyter.widget-view+json": {
       "model_id": "baa3e8d26ced4907a5ec8844ef819860",
       "version_major": 2,
       "version_minor": 0
      },
      "text/plain": [
       "HBox(children=(IntProgress(value=0, max=7), HTML(value='')))"
      ]
     },
     "metadata": {},
     "output_type": "display_data"
    },
    {
     "name": "stdout",
     "output_type": "stream",
     "text": [
      "\n",
      "Epoch 12: Loss 0.6899999976158142\n",
      "100\n",
      "all: Val loss: 0.5849999785423279 Thresh: 0.55 F1: 0.857 R: 0.806 P: 0.914 D: 0.566573508292573 H: 0.49 Error: 48.556\n",
      "starting epoch 13, alpha: 0.12, beta: 0.0 drop: 0.9025\n"
     ]
    },
    {
     "data": {
      "application/vnd.jupyter.widget-view+json": {
       "model_id": "dd21446f42264c15bacd7e1b420e23fa",
       "version_major": 2,
       "version_minor": 0
      },
      "text/plain": [
       "HBox(children=(IntProgress(value=0, max=7), HTML(value='')))"
      ]
     },
     "metadata": {},
     "output_type": "display_data"
    },
    {
     "name": "stdout",
     "output_type": "stream",
     "text": [
      "\n",
      "Epoch 13: Loss 0.671999990940094\n",
      "100\n",
      "all: Val loss: 0.5929999947547913 Thresh: 0.6 F1: 0.85 R: 0.815 P: 0.888 D: 0.5637399482571706 H: 0.856 Error: 46.667\n",
      "starting epoch 14, alpha: 0.13, beta: 0.0 drop: 0.895\n"
     ]
    },
    {
     "data": {
      "application/vnd.jupyter.widget-view+json": {
       "model_id": "63d023d1967b49b8bc4b93caab4e4fa0",
       "version_major": 2,
       "version_minor": 0
      },
      "text/plain": [
       "HBox(children=(IntProgress(value=0, max=7), HTML(value='')))"
      ]
     },
     "metadata": {},
     "output_type": "display_data"
    },
    {
     "name": "stdout",
     "output_type": "stream",
     "text": [
      "\n",
      "Epoch 14: Loss 0.6439999938011169\n",
      "100\n",
      "all: Val loss: 0.593999981880188 Thresh: 0.55 F1: 0.854 R: 0.791 P: 0.928 D: 0.5633743645775067 H: 0.333 Error: 51.667\n",
      "starting epoch 15, alpha: 0.14, beta: 0.0 drop: 0.8875\n"
     ]
    },
    {
     "data": {
      "application/vnd.jupyter.widget-view+json": {
       "model_id": "db9fc2abff844ea6be632729ed844391",
       "version_major": 2,
       "version_minor": 0
      },
      "text/plain": [
       "HBox(children=(IntProgress(value=0, max=7), HTML(value='')))"
      ]
     },
     "metadata": {},
     "output_type": "display_data"
    },
    {
     "name": "stdout",
     "output_type": "stream",
     "text": [
      "\n",
      "Epoch 15: Loss 0.6299999952316284\n",
      "100\n",
      "all: Val loss: 0.5870000123977661 Thresh: 0.6 F1: 0.86 R: 0.829 P: 0.893 D: 0.5659414841757916 H: 0.707 Error: 44.444\n",
      "starting epoch 16, alpha: 0.15, beta: 0.0 drop: 0.88\n"
     ]
    },
    {
     "data": {
      "application/vnd.jupyter.widget-view+json": {
       "model_id": "c728e529ac4b4aa5846abe06e554c639",
       "version_major": 2,
       "version_minor": 0
      },
      "text/plain": [
       "HBox(children=(IntProgress(value=0, max=7), HTML(value='')))"
      ]
     },
     "metadata": {},
     "output_type": "display_data"
    },
    {
     "name": "stdout",
     "output_type": "stream",
     "text": [
      "\n",
      "Epoch 16: Loss 0.6019999980926514\n",
      "100\n",
      "all: Val loss: 0.578000009059906 Thresh: 0.6 F1: 0.872 R: 0.845 P: 0.901 D: 0.5700212775044184 H: 0.425 Error: 40.0\n",
      "starting epoch 17, alpha: 0.16, beta: 0.0 drop: 0.8725\n"
     ]
    },
    {
     "data": {
      "application/vnd.jupyter.widget-view+json": {
       "model_id": "62a18aefcc464c8eb5fca730252afd15",
       "version_major": 2,
       "version_minor": 0
      },
      "text/plain": [
       "HBox(children=(IntProgress(value=0, max=7), HTML(value='')))"
      ]
     },
     "metadata": {},
     "output_type": "display_data"
    },
    {
     "name": "stdout",
     "output_type": "stream",
     "text": [
      "\n",
      "Epoch 17: Loss 0.5979999899864197\n",
      "100\n",
      "all: Val loss: 0.5830000042915344 Thresh: 0.6 F1: 0.874 R: 0.844 P: 0.907 D: 0.5710856325850086 H: 0.425 Error: 40.556\n",
      "starting epoch 18, alpha: 0.17, beta: 0.0 drop: 0.865\n"
     ]
    },
    {
     "data": {
      "application/vnd.jupyter.widget-view+json": {
       "model_id": "53380db68fee439ca0de557f2539e5c0",
       "version_major": 2,
       "version_minor": 0
      },
      "text/plain": [
       "HBox(children=(IntProgress(value=0, max=7), HTML(value='')))"
      ]
     },
     "metadata": {},
     "output_type": "display_data"
    },
    {
     "name": "stdout",
     "output_type": "stream",
     "text": [
      "\n",
      "Epoch 18: Loss 0.5680000185966492\n",
      "100\n",
      "all: Val loss: 0.5889999866485596 Thresh: 0.6 F1: 0.872 R: 0.839 P: 0.907 D: 0.5725133592989042 H: 0.36 Error: 40.111\n",
      "starting epoch 19, alpha: 0.18, beta: 0.0 drop: 0.8575\n"
     ]
    },
    {
     "data": {
      "application/vnd.jupyter.widget-view+json": {
       "model_id": "a544791434d24bd1a013563d308b8359",
       "version_major": 2,
       "version_minor": 0
      },
      "text/plain": [
       "HBox(children=(IntProgress(value=0, max=7), HTML(value='')))"
      ]
     },
     "metadata": {},
     "output_type": "display_data"
    },
    {
     "name": "stdout",
     "output_type": "stream",
     "text": [
      "\n",
      "Epoch 19: Loss 0.5569999814033508\n",
      "100\n",
      "all: Val loss: 0.6000000238418579 Thresh: 0.6 F1: 0.861 R: 0.817 P: 0.909 D: 0.5726925825132856 H: 0.444 Error: 41.556\n",
      "starting epoch 20, alpha: 0.19, beta: 0.0 drop: 0.85\n"
     ]
    },
    {
     "data": {
      "application/vnd.jupyter.widget-view+json": {
       "model_id": "0c6f4001e16f428884a9dc041a9dbe37",
       "version_major": 2,
       "version_minor": 0
      },
      "text/plain": [
       "HBox(children=(IntProgress(value=0, max=7), HTML(value='')))"
      ]
     },
     "metadata": {},
     "output_type": "display_data"
    },
    {
     "name": "stdout",
     "output_type": "stream",
     "text": [
      "\n",
      "Epoch 20: Loss 0.531000018119812\n",
      "100\n",
      "all: Val loss: 0.640999972820282 Thresh: 0.6 F1: 0.844 R: 0.769 P: 0.936 D: 0.5660487057124469 H: 0.333 Error: 52.0\n",
      "starting epoch 21, alpha: 0.2, beta: 0.0 drop: 0.8425\n"
     ]
    },
    {
     "data": {
      "application/vnd.jupyter.widget-view+json": {
       "model_id": "ab12d3a3492746908db8ada67fc518a7",
       "version_major": 2,
       "version_minor": 0
      },
      "text/plain": [
       "HBox(children=(IntProgress(value=0, max=7), HTML(value='')))"
      ]
     },
     "metadata": {},
     "output_type": "display_data"
    },
    {
     "name": "stdout",
     "output_type": "stream",
     "text": [
      "\n",
      "Epoch 21: Loss 0.5199999809265137\n",
      "100\n",
      "all: Val loss: 0.6349999904632568 Thresh: 0.6 F1: 0.851 R: 0.789 P: 0.925 D: 0.5685192296509538 H: 0.333 Error: 49.111\n",
      "starting epoch 22, alpha: 0.21, beta: 0.0 drop: 0.835\n"
     ]
    },
    {
     "data": {
      "application/vnd.jupyter.widget-view+json": {
       "model_id": "4e12664eee0f4f289a9a77bd83255cb7",
       "version_major": 2,
       "version_minor": 0
      },
      "text/plain": [
       "HBox(children=(IntProgress(value=0, max=7), HTML(value='')))"
      ]
     },
     "metadata": {},
     "output_type": "display_data"
    },
    {
     "name": "stdout",
     "output_type": "stream",
     "text": [
      "\n",
      "Epoch 22: Loss 0.5040000081062317\n",
      "100\n",
      "all: Val loss: 0.6340000033378601 Thresh: 0.6 F1: 0.849 R: 0.79 P: 0.917 D: 0.5696480408362579 H: 0.444 Error: 47.333\n",
      "starting epoch 23, alpha: 0.22, beta: 0.0 drop: 0.8275\n"
     ]
    },
    {
     "data": {
      "application/vnd.jupyter.widget-view+json": {
       "model_id": "3df6347981f7465a808f820dbdbf3721",
       "version_major": 2,
       "version_minor": 0
      },
      "text/plain": [
       "HBox(children=(IntProgress(value=0, max=7), HTML(value='')))"
      ]
     },
     "metadata": {},
     "output_type": "display_data"
    },
    {
     "name": "stdout",
     "output_type": "stream",
     "text": [
      "\n",
      "Epoch 23: Loss 0.48500001430511475\n",
      "100\n",
      "all: Val loss: 0.6790000200271606 Thresh: 0.55 F1: 0.826 R: 0.725 P: 0.96 D: 0.5634860933064585 H: 0.333 Error: 62.778\n",
      "starting epoch 24, alpha: 0.23, beta: 0.0 drop: 0.8200000000000001\n"
     ]
    },
    {
     "data": {
      "application/vnd.jupyter.widget-view+json": {
       "model_id": "0abef00ad6884481913f7e688dc0dde9",
       "version_major": 2,
       "version_minor": 0
      },
      "text/plain": [
       "HBox(children=(IntProgress(value=0, max=7), HTML(value='')))"
      ]
     },
     "metadata": {},
     "output_type": "display_data"
    },
    {
     "name": "stdout",
     "output_type": "stream",
     "text": [
      "\n",
      "Epoch 24: Loss 0.47600001096725464\n",
      "100\n",
      "all: Val loss: 0.6610000133514404 Thresh: 0.55 F1: 0.83 R: 0.742 P: 0.942 D: 0.567843562302054 H: 0.333 Error: 57.556\n",
      "starting epoch 25, alpha: 0.24, beta: 0.0 drop: 0.8125\n"
     ]
    },
    {
     "data": {
      "application/vnd.jupyter.widget-view+json": {
       "model_id": "556ee33ed21d4699b71214f78bee1176",
       "version_major": 2,
       "version_minor": 0
      },
      "text/plain": [
       "HBox(children=(IntProgress(value=0, max=7), HTML(value='')))"
      ]
     },
     "metadata": {},
     "output_type": "display_data"
    },
    {
     "name": "stdout",
     "output_type": "stream",
     "text": [
      "\n",
      "Epoch 25: Loss 0.46000000834465027\n",
      "100\n",
      "all: Val loss: 0.6650000214576721 Thresh: 0.6 F1: 0.827 R: 0.761 P: 0.906 D: 0.5688989523310198 H: 0.719 Error: 53.111\n",
      "starting epoch 26, alpha: 0.25, beta: 0.0 drop: 0.8049999999999999\n"
     ]
    },
    {
     "data": {
      "application/vnd.jupyter.widget-view+json": {
       "model_id": "569ae6e4a021491da304dd9da4302105",
       "version_major": 2,
       "version_minor": 0
      },
      "text/plain": [
       "HBox(children=(IntProgress(value=0, max=7), HTML(value='')))"
      ]
     },
     "metadata": {},
     "output_type": "display_data"
    },
    {
     "name": "stdout",
     "output_type": "stream",
     "text": [
      "\n",
      "Epoch 26: Loss 0.4390000104904175\n",
      "100\n",
      "all: Val loss: 0.7110000252723694 Thresh: 0.6 F1: 0.819 R: 0.728 P: 0.936 D: 0.5624767347732615 H: 0.471 Error: 61.778\n",
      "starting epoch 27, alpha: 0.26, beta: 0.0 drop: 0.8\n"
     ]
    },
    {
     "data": {
      "application/vnd.jupyter.widget-view+json": {
       "model_id": "0b1bb157efd14a18bb11be888e7b9999",
       "version_major": 2,
       "version_minor": 0
      },
      "text/plain": [
       "HBox(children=(IntProgress(value=0, max=7), HTML(value='')))"
      ]
     },
     "metadata": {},
     "output_type": "display_data"
    },
    {
     "name": "stdout",
     "output_type": "stream",
     "text": [
      "\n",
      "Epoch 27: Loss 0.421999990940094\n",
      "100\n",
      "all: Val loss: 0.6610000133514404 Thresh: 0.6 F1: 0.834 R: 0.768 P: 0.912 D: 0.5700829803730094 H: 0.471 Error: 51.111\n",
      "starting epoch 28, alpha: 0.27, beta: 0.0 drop: 0.8\n"
     ]
    },
    {
     "data": {
      "application/vnd.jupyter.widget-view+json": {
       "model_id": "5da3b87baea948d186d5464a377fc9e4",
       "version_major": 2,
       "version_minor": 0
      },
      "text/plain": [
       "HBox(children=(IntProgress(value=0, max=7), HTML(value='')))"
      ]
     },
     "metadata": {},
     "output_type": "display_data"
    },
    {
     "name": "stdout",
     "output_type": "stream",
     "text": [
      "\n",
      "Epoch 28: Loss 0.4090000092983246\n",
      "100\n",
      "all: Val loss: 0.7120000123977661 Thresh: 0.6 F1: 0.82 R: 0.733 P: 0.931 D: 0.563419112073511 H: 0.574 Error: 61.333\n",
      "starting epoch 29, alpha: 0.28, beta: 0.0 drop: 0.8\n"
     ]
    },
    {
     "data": {
      "application/vnd.jupyter.widget-view+json": {
       "model_id": "a88df15a20b54e72a88eb0528d06329c",
       "version_major": 2,
       "version_minor": 0
      },
      "text/plain": [
       "HBox(children=(IntProgress(value=0, max=7), HTML(value='')))"
      ]
     },
     "metadata": {},
     "output_type": "display_data"
    },
    {
     "name": "stdout",
     "output_type": "stream",
     "text": [
      "\n",
      "Epoch 29: Loss 0.39100000262260437\n",
      "100\n",
      "all: Val loss: 0.7289999723434448 Thresh: 0.6 F1: 0.816 R: 0.723 P: 0.938 D: 0.5627071360698764 H: 0.471 Error: 63.111\n",
      "starting epoch 30, alpha: 0.29, beta: 0.0 drop: 0.8\n"
     ]
    },
    {
     "data": {
      "application/vnd.jupyter.widget-view+json": {
       "model_id": "a63139b2af4b43cc8fa8e87321a2b633",
       "version_major": 2,
       "version_minor": 0
      },
      "text/plain": [
       "HBox(children=(IntProgress(value=0, max=7), HTML(value='')))"
      ]
     },
     "metadata": {},
     "output_type": "display_data"
    },
    {
     "name": "stdout",
     "output_type": "stream",
     "text": [
      "\n",
      "Epoch 30: Loss 0.38499999046325684\n",
      "100\n",
      "all: Val loss: 0.7160000205039978 Thresh: 0.6 F1: 0.819 R: 0.73 P: 0.931 D: 0.5653646374600284 H: 0.471 Error: 60.111\n",
      "starting epoch 31, alpha: 0.3, beta: 0.0 drop: 0.8\n"
     ]
    },
    {
     "data": {
      "application/vnd.jupyter.widget-view+json": {
       "model_id": "9c01a457bc284022819a3399d78b047c",
       "version_major": 2,
       "version_minor": 0
      },
      "text/plain": [
       "HBox(children=(IntProgress(value=0, max=7), HTML(value='')))"
      ]
     },
     "metadata": {},
     "output_type": "display_data"
    },
    {
     "name": "stdout",
     "output_type": "stream",
     "text": [
      "\n",
      "Epoch 31: Loss 0.37700000405311584\n",
      "100\n",
      "all: Val loss: 0.7760000228881836 Thresh: 0.55 F1: 0.799 R: 0.688 P: 0.952 D: 0.5601398663688019 H: 0.333 Error: 71.444\n",
      "starting epoch 32, alpha: 0.31, beta: 0.0 drop: 0.8\n"
     ]
    },
    {
     "data": {
      "application/vnd.jupyter.widget-view+json": {
       "model_id": "5d440521915b416cbe553f695ff7a35d",
       "version_major": 2,
       "version_minor": 0
      },
      "text/plain": [
       "HBox(children=(IntProgress(value=0, max=7), HTML(value='')))"
      ]
     },
     "metadata": {},
     "output_type": "display_data"
    },
    {
     "name": "stdout",
     "output_type": "stream",
     "text": [
      "\n",
      "Epoch 32: Loss 0.3569999933242798\n",
      "100\n",
      "all: Val loss: 0.7649999856948853 Thresh: 0.6 F1: 0.806 R: 0.706 P: 0.939 D: 0.5623756200876207 H: 0.536 Error: 67.778\n",
      "starting epoch 33, alpha: 0.32, beta: 0.0 drop: 0.8\n"
     ]
    },
    {
     "data": {
      "application/vnd.jupyter.widget-view+json": {
       "model_id": "56db556df2f847efb83ce3e22e2f14b6",
       "version_major": 2,
       "version_minor": 0
      },
      "text/plain": [
       "HBox(children=(IntProgress(value=0, max=7), HTML(value='')))"
      ]
     },
     "metadata": {},
     "output_type": "display_data"
    },
    {
     "name": "stdout",
     "output_type": "stream",
     "text": [
      "\n",
      "Epoch 33: Loss 0.34200000762939453\n",
      "100\n",
      "all: Val loss: 0.8220000267028809 Thresh: 0.6 F1: 0.794 R: 0.69 P: 0.936 D: 0.5598220710493441 H: 0.574 Error: 71.667\n",
      "starting epoch 34, alpha: 0.33, beta: 0.0 drop: 0.8\n"
     ]
    },
    {
     "data": {
      "application/vnd.jupyter.widget-view+json": {
       "model_id": "6906d5899e634284b19bb715e4410c2c",
       "version_major": 2,
       "version_minor": 0
      },
      "text/plain": [
       "HBox(children=(IntProgress(value=0, max=7), HTML(value='')))"
      ]
     },
     "metadata": {},
     "output_type": "display_data"
    },
    {
     "name": "stdout",
     "output_type": "stream",
     "text": [
      "\n",
      "Epoch 34: Loss 0.3310000002384186\n",
      "100\n",
      "all: Val loss: 0.8479999899864197 Thresh: 0.55 F1: 0.789 R: 0.675 P: 0.949 D: 0.5595083689450446 H: 0.379 Error: 75.0\n",
      "starting epoch 35, alpha: 0.33, beta: 0.0 drop: 0.8\n"
     ]
    },
    {
     "data": {
      "application/vnd.jupyter.widget-view+json": {
       "model_id": "efb5a5727a4e45e0b5713edca7e49ca8",
       "version_major": 2,
       "version_minor": 0
      },
      "text/plain": [
       "HBox(children=(IntProgress(value=0, max=7), HTML(value='')))"
      ]
     },
     "metadata": {},
     "output_type": "display_data"
    },
    {
     "name": "stdout",
     "output_type": "stream",
     "text": [
      "\n",
      "Epoch 35: Loss 0.32899999618530273\n",
      "100\n",
      "all: Val loss: 0.8230000138282776 Thresh: 0.5 F1: 0.791 R: 0.678 P: 0.949 D: 0.5624964252513786 H: 0.379 Error: 74.333\n",
      "starting epoch 36, alpha: 0.33, beta: 0.0 drop: 0.8\n"
     ]
    },
    {
     "data": {
      "application/vnd.jupyter.widget-view+json": {
       "model_id": "0d4d3399dcea466e9f37547f415f1a6a",
       "version_major": 2,
       "version_minor": 0
      },
      "text/plain": [
       "HBox(children=(IntProgress(value=0, max=7), HTML(value='')))"
      ]
     },
     "metadata": {},
     "output_type": "display_data"
    },
    {
     "name": "stdout",
     "output_type": "stream",
     "text": [
      "\n",
      "Epoch 36: Loss 0.3240000009536743\n",
      "100\n",
      "all: Val loss: 0.7960000038146973 Thresh: 0.4 F1: 0.795 R: 0.676 P: 0.966 D: 0.5657660656207003 H: 0.222 Error: 75.556\n",
      "starting epoch 37, alpha: 0.33, beta: 0.0 drop: 0.8\n"
     ]
    },
    {
     "data": {
      "application/vnd.jupyter.widget-view+json": {
       "model_id": "8d82ab79f13b48d8b81f38017a2c9118",
       "version_major": 2,
       "version_minor": 0
      },
      "text/plain": [
       "HBox(children=(IntProgress(value=0, max=7), HTML(value='')))"
      ]
     },
     "metadata": {},
     "output_type": "display_data"
    },
    {
     "name": "stdout",
     "output_type": "stream",
     "text": [
      "\n",
      "Epoch 37: Loss 0.3269999921321869\n",
      "100\n",
      "all: Val loss: 0.7820000052452087 Thresh: 0.6 F1: 0.799 R: 0.714 P: 0.907 D: 0.5665798135553454 H: 0.968 Error: 65.0\n",
      "starting epoch 38, alpha: 0.33, beta: 0.0 drop: 0.8\n"
     ]
    },
    {
     "data": {
      "application/vnd.jupyter.widget-view+json": {
       "model_id": "143bb5a702674d678131321531d2c8d6",
       "version_major": 2,
       "version_minor": 0
      },
      "text/plain": [
       "HBox(children=(IntProgress(value=0, max=7), HTML(value='')))"
      ]
     },
     "metadata": {},
     "output_type": "display_data"
    },
    {
     "name": "stdout",
     "output_type": "stream",
     "text": [
      "\n",
      "Epoch 38: Loss 0.3100000023841858\n",
      "100\n",
      "all: Val loss: 0.7570000290870667 Thresh: 0.55 F1: 0.801 R: 0.709 P: 0.92 D: 0.5700750922664979 H: 0.574 Error: 65.556\n",
      "starting epoch 39, alpha: 0.33, beta: 0.0 drop: 0.8\n"
     ]
    },
    {
     "data": {
      "application/vnd.jupyter.widget-view+json": {
       "model_id": "3df9a51ff1fc4dfeba334328ce7d42be",
       "version_major": 2,
       "version_minor": 0
      },
      "text/plain": [
       "HBox(children=(IntProgress(value=0, max=7), HTML(value='')))"
      ]
     },
     "metadata": {},
     "output_type": "display_data"
    },
    {
     "name": "stdout",
     "output_type": "stream",
     "text": [
      "\n",
      "Epoch 39: Loss 0.31200000643730164\n",
      "100\n",
      "all: Val loss: 0.8109999895095825 Thresh: 0.6 F1: 0.801 R: 0.703 P: 0.93 D: 0.5634240405962053 H: 0.68 Error: 68.667\n",
      "starting epoch 40, alpha: 0.33, beta: 0.0 drop: 0.8\n"
     ]
    },
    {
     "data": {
      "application/vnd.jupyter.widget-view+json": {
       "model_id": "b39b1475554b4f7aab9578f09cf3fcdc",
       "version_major": 2,
       "version_minor": 0
      },
      "text/plain": [
       "HBox(children=(IntProgress(value=0, max=7), HTML(value='')))"
      ]
     },
     "metadata": {},
     "output_type": "display_data"
    },
    {
     "name": "stdout",
     "output_type": "stream",
     "text": [
      "\n",
      "Epoch 40: Loss 0.3109999895095825\n",
      "100\n",
      "all: Val loss: 0.7450000047683716 Thresh: 0.6 F1: 0.808 R: 0.723 P: 0.917 D: 0.5687892661855671 H: 0.694 Error: 62.778\n",
      "starting epoch 41, alpha: 0.33, beta: 0.0 drop: 0.8\n"
     ]
    },
    {
     "data": {
      "application/vnd.jupyter.widget-view+json": {
       "model_id": "27b426e48b724831a8565d393381cf03",
       "version_major": 2,
       "version_minor": 0
      },
      "text/plain": [
       "HBox(children=(IntProgress(value=0, max=7), HTML(value='')))"
      ]
     },
     "metadata": {},
     "output_type": "display_data"
    },
    {
     "name": "stdout",
     "output_type": "stream",
     "text": [
      "\n",
      "Epoch 41: Loss 0.3089999854564667\n",
      "100\n",
      "all: Val loss: 0.8550000190734863 Thresh: 0.6 F1: 0.789 R: 0.686 P: 0.93 D: 0.5608966199390659 H: 0.694 Error: 73.111\n",
      "starting epoch 42, alpha: 0.33, beta: 0.0 drop: 0.8\n"
     ]
    },
    {
     "data": {
      "application/vnd.jupyter.widget-view+json": {
       "model_id": "1201a019c1334618a3bf13d1fba5e858",
       "version_major": 2,
       "version_minor": 0
      },
      "text/plain": [
       "HBox(children=(IntProgress(value=0, max=7), HTML(value='')))"
      ]
     },
     "metadata": {},
     "output_type": "display_data"
    },
    {
     "name": "stdout",
     "output_type": "stream",
     "text": [
      "\n",
      "Epoch 42: Loss 0.3019999861717224\n",
      "100\n",
      "all: Val loss: 0.7559999823570251 Thresh: 0.55 F1: 0.806 R: 0.712 P: 0.93 D: 0.5743560372591139 H: 0.574 Error: 65.556\n",
      "starting epoch 43, alpha: 0.33, beta: 0.0 drop: 0.8\n"
     ]
    },
    {
     "data": {
      "application/vnd.jupyter.widget-view+json": {
       "model_id": "14de0e307b5949afadb79263ddcdc8bd",
       "version_major": 2,
       "version_minor": 0
      },
      "text/plain": [
       "HBox(children=(IntProgress(value=0, max=7), HTML(value='')))"
      ]
     },
     "metadata": {},
     "output_type": "display_data"
    },
    {
     "name": "stdout",
     "output_type": "stream",
     "text": [
      "\n",
      "Epoch 43: Loss 0.3070000112056732\n",
      "100\n",
      "all: Val loss: 0.7540000081062317 Thresh: 0.6 F1: 0.813 R: 0.722 P: 0.93 D: 0.5711929246336502 H: 0.471 Error: 64.333\n",
      "starting epoch 44, alpha: 0.33, beta: 0.0 drop: 0.8\n"
     ]
    },
    {
     "data": {
      "application/vnd.jupyter.widget-view+json": {
       "model_id": "76785e61ca6a430eba96ee5e2194b34c",
       "version_major": 2,
       "version_minor": 0
      },
      "text/plain": [
       "HBox(children=(IntProgress(value=0, max=7), HTML(value='')))"
      ]
     },
     "metadata": {},
     "output_type": "display_data"
    },
    {
     "name": "stdout",
     "output_type": "stream",
     "text": [
      "\n",
      "Epoch 44: Loss 0.30300000309944153\n",
      "100\n",
      "all: Val loss: 0.8930000066757202 Thresh: 0.6 F1: 0.79 R: 0.685 P: 0.933 D: 0.561379028913685 H: 0.623 Error: 74.222\n",
      "starting epoch 45, alpha: 0.33, beta: 0.0 drop: 0.8\n"
     ]
    },
    {
     "data": {
      "application/vnd.jupyter.widget-view+json": {
       "model_id": "a8210ee0a7474e74a55c3645b296fb64",
       "version_major": 2,
       "version_minor": 0
      },
      "text/plain": [
       "HBox(children=(IntProgress(value=0, max=7), HTML(value='')))"
      ]
     },
     "metadata": {},
     "output_type": "display_data"
    },
    {
     "name": "stdout",
     "output_type": "stream",
     "text": [
      "\n",
      "Epoch 45: Loss 0.3050000071525574\n",
      "100\n",
      "all: Val loss: 0.7889999747276306 Thresh: 0.55 F1: 0.806 R: 0.701 P: 0.949 D: 0.5720853533385154 H: 0.379 Error: 68.667\n",
      "starting epoch 46, alpha: 0.33, beta: 0.0 drop: 0.8\n"
     ]
    },
    {
     "data": {
      "application/vnd.jupyter.widget-view+json": {
       "model_id": "da7d94ad84b049b4b91b482e8b1ece0c",
       "version_major": 2,
       "version_minor": 0
      },
      "text/plain": [
       "HBox(children=(IntProgress(value=0, max=7), HTML(value='')))"
      ]
     },
     "metadata": {},
     "output_type": "display_data"
    },
    {
     "name": "stdout",
     "output_type": "stream",
     "text": [
      "\n",
      "Epoch 46: Loss 0.2980000078678131\n",
      "100\n",
      "all: Val loss: 0.7549999952316284 Thresh: 0.6 F1: 0.81 R: 0.727 P: 0.915 D: 0.5755612607269791 H: 0.667 Error: 62.111\n",
      "starting epoch 47, alpha: 0.33, beta: 0.0 drop: 0.8\n"
     ]
    },
    {
     "data": {
      "application/vnd.jupyter.widget-view+json": {
       "model_id": "7a4c1b3600474358b314f909bf100a9d",
       "version_major": 2,
       "version_minor": 0
      },
      "text/plain": [
       "HBox(children=(IntProgress(value=0, max=7), HTML(value='')))"
      ]
     },
     "metadata": {},
     "output_type": "display_data"
    },
    {
     "name": "stdout",
     "output_type": "stream",
     "text": [
      "\n",
      "Epoch 47: Loss 0.289000004529953\n",
      "100\n",
      "all: Val loss: 0.7570000290870667 Thresh: 0.6 F1: 0.809 R: 0.726 P: 0.914 D: 0.5773234506801382 H: 0.694 Error: 62.333\n",
      "starting epoch 48, alpha: 0.33, beta: 0.0 drop: 0.8\n"
     ]
    },
    {
     "data": {
      "application/vnd.jupyter.widget-view+json": {
       "model_id": "903b0ab381354fa68e55161a6feec9a1",
       "version_major": 2,
       "version_minor": 0
      },
      "text/plain": [
       "HBox(children=(IntProgress(value=0, max=7), HTML(value='')))"
      ]
     },
     "metadata": {},
     "output_type": "display_data"
    },
    {
     "name": "stdout",
     "output_type": "stream",
     "text": [
      "\n",
      "Epoch 48: Loss 0.28600001335144043\n",
      "100\n",
      "all: Val loss: 0.7400000095367432 Thresh: 0.55 F1: 0.816 R: 0.733 P: 0.922 D: 0.5833577417030105 H: 0.471 Error: 59.333\n",
      "starting epoch 49, alpha: 0.33, beta: 0.0 drop: 0.8\n"
     ]
    },
    {
     "data": {
      "application/vnd.jupyter.widget-view+json": {
       "model_id": "e1efd0e74c5749eab0a337c99ee2b49d",
       "version_major": 2,
       "version_minor": 0
      },
      "text/plain": [
       "HBox(children=(IntProgress(value=0, max=7), HTML(value='')))"
      ]
     },
     "metadata": {},
     "output_type": "display_data"
    },
    {
     "name": "stdout",
     "output_type": "stream",
     "text": [
      "\n",
      "Epoch 49: Loss 0.289000004529953\n",
      "100\n",
      "all: Val loss: 0.8230000138282776 Thresh: 0.6 F1: 0.801 R: 0.713 P: 0.914 D: 0.5740217383624909 H: 0.925 Error: 66.444\n"
     ]
    }
   ],
   "source": [
    "### import scipy\n",
    "best_val = 0.5\n",
    "fine_tune = False\n",
    "countries['all'] = [0, len(test_x)]\n",
    "ft_epochs = 0\n",
    "ft_learning_rate = 1e-2\n",
    "\n",
    "ft_e = 0\n",
    "\n",
    "for i in range(0, 50):\n",
    "    ft_e += 1\n",
    "    #al = 0.33\n",
    "    al = np.min( [0.01 * (i - 1), 0.33] )\n",
    "    #else:\n",
    "    be = 0.0\n",
    "    #al = 1.0\n",
    "    if al < 0.8:\n",
    "        test_al = 0.33\n",
    "    else:\n",
    "        test_al = al\n",
    "    if fine_tune == True:\n",
    "        op = ft_op\n",
    "        ft_epochs += 1\n",
    "        if ft_epochs % 40 == 0:\n",
    "            ft_learning_rate /= 2\n",
    "            \n",
    "            print(\"DIVIDING LR\")\n",
    "        print(\"FINE TUNING WITH {} LR\".format(ft_learning_rate))\n",
    "        \n",
    "    else:\n",
    "        op = op = train_op\n",
    "    #randomize = equibatch(train_ids)\n",
    "    randomize = train_ids\n",
    "    print(\"starting epoch {}, alpha: {}, beta: {} drop: {}\".format(i, al, be, np.max((1. - (i*0.0075), 0.80))))\n",
    "    \n",
    "    loss = train_loss\n",
    "    BATCH_SIZE = 4\n",
    "    test_ids = [x for x in range(0, len(test_x))]\n",
    "    losses = []\n",
    "    \n",
    "    for k in tnrange(int(len(randomize) // BATCH_SIZE)):\n",
    "        rmax_epoch, dmax_epoch, rmin_epoch = calc_renorm_params(i, 50, 4, k)\n",
    "        if k % 8 == 0:\n",
    "            sleep(1)\n",
    "        batch_ids = randomize[k*BATCH_SIZE:(k+1)*BATCH_SIZE]\n",
    "        x_batch, y_batch, p_batch = augment_batch(batch_ids, BATCH_SIZE)\n",
    "        opt, tr = sess.run([op, loss],\n",
    "                          feed_dict={inp: x_batch,\n",
    "                                     length: np.full((BATCH_SIZE, 1), 24),\n",
    "                                     planet_inp: p_batch,\n",
    "                                     labels: y_batch,\n",
    "                                     is_training: True,\n",
    "                                     clipping_params['rmax']: rmax_epoch,\n",
    "                                     clipping_params['rmin']: rmin_epoch,\n",
    "                                     clipping_params['dmax']: dmax_epoch,\n",
    "                                     loss_weight: 2.0, # global: 2.0, LAC: 1.75\n",
    "                                     #loss_weight: np.max([1.9 - (i * 0.015), 1.3]), \n",
    "                                     keep_rate: np.max((1. - (i * 0.0075), 0.75)),\n",
    "                                     alpha: al,\n",
    "                                     beta_: be,\n",
    "                                     ft_lr: ft_learning_rate,\n",
    "                                     })\n",
    "        losses.append(tr)\n",
    "    \n",
    "    print(\"Epoch {}: Loss {}\".format(i, np.around(np.mean(losses[:-1]), 3)))\n",
    "    \n",
    "    val_loss, f1, error, haus, dice = calculate_metrics('all', al = test_al, canopy_thresh = 100)\n",
    "    train_losses.append(np.mean(losses[:-1]))\n",
    "    test_losses.append(val_loss)\n",
    "    f1s.append(f1)\n",
    "    dices.append(dice)\n",
    "    errors.append(error)\n",
    "    hausdorff.append(haus)\n",
    "    #if f1 > (best_val - 0.02):\n",
    "    #    print(\"Saving model with {}\".format(dice))\n",
    "    #    os.mkdir(\"../models/eastafrica/{}-{}-{}/\".format(str(i), str(f1*100)[:2], str(f1*100)[3]))\n",
    "    #    save_path = saver.save(sess, \"../models/eastafrica/{}-{}-{}/model\".format(str(i), str(f1*100)[:2], str(f1*100)[3]))\n",
    "    #    if f1 > best_val:\n",
    "    ##        best_val = f1\n",
    "    "
   ]
  },
  {
   "cell_type": "markdown",
   "metadata": {},
   "source": [
    "# Model validation and sanity checks\n",
    "\n",
    "\n",
    "\n"
   ]
  },
  {
   "cell_type": "markdown",
   "metadata": {},
   "source": [
    "# Prediction visualizations"
   ]
  },
  {
   "cell_type": "code",
   "execution_count": 31,
   "metadata": {},
   "outputs": [],
   "source": [
    "start = 0\n",
    "\n",
    "test_ids = [x for x in range(0, len(test_x))]\n",
    "\n",
    "def multiplot(matrices, nrows = 2, ncols = 4):\n",
    "    '''Docstring\n",
    "    \n",
    "         Parameters:\n",
    "          matrices (list):\n",
    "          nrows (int):\n",
    "          \n",
    "         Returns:\n",
    "          None\n",
    "    '''\n",
    "    fig, axs = plt.subplots(ncols=4, nrows = nrows)\n",
    "    fig.set_size_inches(20, 4*nrows)\n",
    "    to_iter = [[x for x in range(i, i + ncols + 1)] for i in range(0, nrows*ncols, ncols)]\n",
    "    for r in range(1, nrows + 1):\n",
    "        min_i = min(to_iter[r-1])\n",
    "        max_i = max(to_iter[r-1])\n",
    "        for i, matrix in enumerate(matrices[min_i:max_i]):\n",
    "            sns.heatmap(data = matrix, ax = axs[r - 1, i], vmin = 0, vmax = 0.9)\n",
    "            axs[r - 1, i].set_xlabel(\"\")\n",
    "            axs[r - 1, i].set_ylabel(\"\")\n",
    "            axs[r - 1, i].set_yticks([])\n",
    "            axs[r - 1, i].set_xticks([])\n",
    "    plt.show\n",
    "\n"
   ]
  },
  {
   "cell_type": "code",
   "execution_count": 32,
   "metadata": {},
   "outputs": [],
   "source": [
    "def identify_alignment(true, pred, wsize = 3, difference = 0.2):\n",
    "    '''Docstring\n",
    "    \n",
    "         Parameters:\n",
    "          true (arr):\n",
    "          pred (arr):\n",
    "          wsize (int):\n",
    "          difference (float):\n",
    "          \n",
    "         Returns:\n",
    "          None\n",
    "    '''\n",
    "    n_single_trees = 0\n",
    "    for x in range(1, true.shape[0] - 1, 1):\n",
    "        for y in range(1, true.shape[1] - 1, 1):\n",
    "            wind_true = true[x-1:x+2, y-1:y+2]\n",
    "            wind_pred = pred[x-1:x+2, y-1:y+2]\n",
    "            if wind_true[1, 1] == 1:\n",
    "                if np.sum(wind_true) == 1:\n",
    "                    n_single_trees += 1\n",
    "                    pred_place = np.argmax(wind_pred.flatten())\n",
    "                    diff = wind_pred.flatten()[pred_place] - wind_pred.flatten()[4]\n",
    "                    if pred_place != 4:\n",
    "                        if diff > difference:\n",
    "                            x_lv = pred_place // 3\n",
    "                            y_lv = pred_place % 3\n",
    "                            print(x_lv, y_lv)\n",
    "                            proposed = wind_true[x_lv - 1:x_lv+2, y_lv-1:y_lv+2]\n",
    "                            if np.sum(proposed) == 0:\n",
    "                                print(\"There is a missed position at {} x, {} y: {}\".format(x, y, diff))"
   ]
  },
  {
   "cell_type": "code",
   "execution_count": 33,
   "metadata": {
    "scrolled": false
   },
   "outputs": [
    {
     "name": "stdout",
     "output_type": "stream",
     "text": [
      "0.0\n",
      "[0, 1, 2, 3, 4, 5, 6, 7]\n",
      "0.5223244930462694 0.5587909995164005\n",
      "0.806827358458361 0.8331892127859838\n",
      "0.33770355265136226 0.3825032996423983\n",
      "0.6391401395039756 0.6444714866420982\n",
      "0.423981659479823 0.522229595809697\n",
      "0.3034175459954933 0.3180440004992898\n",
      "0.5194892612644858 0.6564065170258849\n",
      "0.42594465151394517 0.4583143904964509\n"
     ]
    },
    {
     "data": {
      "image/png": "[encoded data removed]",
      "text/plain": [
       "<Figure size 1440x1152 with 32 Axes>"
      ]
     },
     "metadata": {
      "needs_background": "light"
     },
     "output_type": "display_data"
    }
   ],
   "source": [
    "from sklearn.metrics import f1_score\n",
    "print(start/len(test_ids))\n",
    "test_ids = sorted(test_ids)\n",
    "\n",
    "start = 0\n",
    "to_test = [681, 684, 689, 732, 791, 798, 802, 877, 905, 947, 951, 964, 965, 966, 997, 1094, 1101]\n",
    "matrix_ids = [test_ids[start], test_ids[start + 1], test_ids[start + 2], test_ids[start + 3],\n",
    "              test_ids[start + 4], test_ids[start + 5], test_ids[start + 6], test_ids[start + 7]]\n",
    "#matrix_ids = np.argwhere(abs(np.array(diffs)) > 100)[8 + 8 + 8 + 8 : 8 + 8 + 8 + 8 + 8]\n",
    "\n",
    "preds = []\n",
    "trues = []\n",
    "print(matrix_ids)\n",
    "for i in matrix_ids:\n",
    "    #print(plot_ids_loaded[i])\n",
    "    idx = i\n",
    "    y = sess.run([fm], feed_dict={inp: test_x[idx].reshape(1, 24, IMAGE_SIZE, IMAGE_SIZE, n_bands),\n",
    "                                  length: np.full((1, 1), 24),\n",
    "                                  planet_inp: test_p[idx].reshape(1, 32, 32, 4),\n",
    "                                  is_training: False,\n",
    "                                  clipping_params['rmax']: rmax_epoch,\n",
    "                                  clipping_params['rmin']: rmin_epoch,\n",
    "                                  clipping_params['dmax']: dmax_epoch,\n",
    "                                  })\n",
    "    y = np.array(y).reshape(14, 14)\n",
    "    #y, mapshape = aggregate_maxes(test_y[idx], y)\n",
    "    preds.append(y)\n",
    "    y2 = np.copy(y)\n",
    "    print(np.mean(dice_loss(test_y[idx], y)), np.mean(dice_loss_tolerance(test_y[idx], y)))\n",
    "    #surf_distances = \n",
    "    #y[np.where(y > 0.4)] = 1.0\n",
    "    #y[np.where(y < 0.4)] = 0.\n",
    "    #y[np.where(y >= 0.4)] = 1.\n",
    "    #dc = np.around(dice_loss(test_y[idx].flatten(), y2.flatten()), 3)\n",
    "    true = test_y[idx].reshape(14, 14)\n",
    "    trues.append(true)\n",
    "\n",
    "\n",
    "to_plot = trues[0:4] + preds[0:4] + trues[4:] + preds[4:]\n",
    "\n",
    "multiplot(to_plot, nrows = 4, ncols = 4)\n",
    "\n",
    "\n",
    "start = start + 8 \n",
    "\n",
    "\n",
    "# 220, \"\""
   ]
  },
  {
   "cell_type": "code",
   "execution_count": 36,
   "metadata": {},
   "outputs": [],
   "source": [
    "train_ids = [x for x in range(train_x.shape[0])]\n",
    "train_ids = sorted(train_ids)\n",
    "start = 22\n",
    "\n"
   ]
  },
  {
   "cell_type": "code",
   "execution_count": 37,
   "metadata": {},
   "outputs": [
    {
     "name": "stdout",
     "output_type": "stream",
     "text": [
      "[22, 23, 24, 25, 26, 27, 28, 29]\n"
     ]
    },
    {
     "data": {
      "image/png": "[encoded data removed]",
      "text/plain": [
       "<Figure size 1440x1152 with 32 Axes>"
      ]
     },
     "metadata": {
      "needs_background": "light"
     },
     "output_type": "display_data"
    }
   ],
   "source": [
    "##matrix_ids = [70, 139, 456, 630, 718, 800, 835, 1101]\n",
    "#matrix_ids = np.argwhere(abs(np.array(diffs)) > 20)[8 + 8 + 8 + 8 + 8 + 8 + 8 + 8 + 8 + 8 + 8 + 8 + 8 + 8 + 8 + 8 + 8 + 8 + 8 + 8 + 8 + 8 + 8 + 8 + 8 + 8 + 8 + 8 + 8 + 8 + 8:\n",
    "#                                                    8 + 8 + 8 + 8 + 8 + 8 + 8 + 8 + 8 + 8 + 8 + 8 + 8 + 8 + 8 + 8 + 8 + 8 + 8 + 8 + 8 + 8 + 8 + 8 + 8 + 8 + 8 + 8 + 8 + 8 + 8 + 8]\n",
    "\n",
    "matrix_ids = [train_ids[start], train_ids[start + 1], train_ids[start + 2],\n",
    "             train_ids[start + 3], train_ids[start + 4],\n",
    "             train_ids[start + 5], train_ids[start + 6], train_ids[start + 7]]\n",
    "#matrix_ids = [358, 425, 459, 516, 625, 705, 1065]\n",
    "preds = []\n",
    "trues = []\n",
    "#print(start//4)\n",
    "print(matrix_ids)\n",
    "for i in matrix_ids:\n",
    "    idx = i\n",
    "    y = sess.run([fm], feed_dict={inp: train_x[idx].reshape(1, 24, IMAGE_SIZE, IMAGE_SIZE, n_bands),\n",
    "                                  length: np.full((1, 1), 24),\n",
    "                                  planet_inp: train_p[idx].reshape(1, 32, 32, 4),\n",
    "                                  is_training: False,\n",
    "                                  clipping_params['rmax']: rmax_epoch,\n",
    "                                  clipping_params['rmin']: rmin_epoch,\n",
    "                                  clipping_params['dmax']: dmax_epoch,\n",
    "                                    })\n",
    "    y = np.array(y).reshape(14, 14)\n",
    "    \n",
    "    #y, _ = aggregate_maxes(train_y[idx], y)\n",
    "    \n",
    "    preds.append(y)\n",
    "    true = train_y[idx].reshape(14, 14)\n",
    "    #print(np.mean(dice_loss(train_y[idx], y)), np.mean(dice_loss_tolerance(train_y[idx], y)))\n",
    "    #identify_alignment(true, y)\n",
    "    \n",
    "    trues.append(true)\n",
    "    \n",
    "start += 8\n",
    "\n",
    "to_plot = trues[0:4] + preds[0:4] + trues[4:] + preds[4:]\n",
    "multiplot(to_plot, nrows = 4, ncols = 4)"
   ]
  },
  {
   "cell_type": "code",
   "execution_count": null,
   "metadata": {},
   "outputs": [],
   "source": []
  }
 ],
 "metadata": {
  "kernelspec": {
   "display_name": "remote_sensing",
   "language": "python",
   "name": "remote_sensing"
  },
  "language_info": {
   "codemirror_mode": {
    "name": "ipython",
    "version": 3
   },
   "file_extension": ".py",
   "mimetype": "text/x-python",
   "name": "python",
   "nbconvert_exporter": "python",
   "pygments_lexer": "ipython3",
   "version": "3.6.8"
  }
 },
 "nbformat": 4,
 "nbformat_minor": 2
}
